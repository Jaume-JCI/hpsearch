{
 "cells": [
  {
   "cell_type": "markdown",
   "metadata": {
    "tags": []
   },
   "source": [
    "# Visualization\n",
    "\n",
    "> How to visualize the  experiments"
   ]
  },
  {
   "cell_type": "markdown",
   "metadata": {
    "tags": []
   },
   "source": [
    "## Using visdom"
   ]
  },
  {
   "cell_type": "markdown",
   "metadata": {
    "jp-MarkdownHeadingCollapsed": true,
    "tags": []
   },
   "source": [
    "### Setting up visdom"
   ]
  },
  {
   "cell_type": "markdown",
   "metadata": {},
   "source": [
    "Visdom can be installed with pip:\n",
    "    \n",
    "```bash\n",
    "pip install visdom\n",
    "```\n",
    "\n",
    "Once installed, open up a terminal and simply run:\n",
    "\n",
    "```bash\n",
    "visdom\n",
    "```\n",
    "\n",
    "If you're using a remote terminal, open up another terminal on your local machine and run:\n",
    "\n",
    "```bash\n",
    "ssh -N -f -L 8097:127.0.0.1:8097 <remote_machine_IP>\n",
    "```\n",
    "\n",
    "Or if you use credentials from a file, do something like:\n",
    "\n",
    "```bash\n",
    "ssh -i path/to/credentials_file.pem -N -f -L 8097:127.0.0.1:8097 <remote_machine_IP>\n",
    "```\n",
    "\n",
    "For example:\n",
    "\n",
    "```bash\n",
    "ssh -i \"/c/ssh/datascience.pem\" -N -f -L 8097:127.0.0.1:8097 jcidatascience@172.20.33.123\n",
    "```"
   ]
  },
  {
   "cell_type": "markdown",
   "metadata": {},
   "source": [
    "Finally, go to your browser and type: `localhost:8097`"
   ]
  },
  {
   "cell_type": "markdown",
   "metadata": {
    "tags": []
   },
   "source": [
    "### Visualizing plots with visdom"
   ]
  },
  {
   "cell_type": "markdown",
   "metadata": {
    "jp-MarkdownHeadingCollapsed": true,
    "tags": []
   },
   "source": [
    "#### From terminal\n",
    "\n",
    "On a terminal, simply run:\n",
    "\n",
    "```bash\n",
    "hps_show\n",
    "```\n",
    "\n",
    "This will show you a comparison of the performance of the current experiment (the one being run at the moment, or the last one that was run) vs the best experiment so far. \n",
    "\n",
    "If you have more than one folder of experiments, you can indicate the one you want to analyze by doing:\n",
    "\n",
    "```bash\n",
    "hps_show <root_folder>\n",
    "```\n",
    "\n",
    "You can indicate the experiments you want to visualize by doing:\n",
    "\n",
    "```bash\n",
    "hps_show -e exp1 exp2 expN\n",
    "```\n",
    "\n",
    "For more options, see help with\n",
    "\n",
    "```bash\n",
    "hps_show --help\n",
    "```"
   ]
  },
  {
   "cell_type": "code",
   "execution_count": null,
   "metadata": {},
   "outputs": [],
   "source": []
  }
 ],
 "metadata": {
  "jekyll": {
   "keywords": "fastai",
   "toc": "false"
  },
  "jupytext": {
   "split_at_heading": true
  },
  "kernelspec": {
   "display_name": "Python 3 (ipykernel)",
   "language": "python",
   "name": "python3"
  },
  "language_info": {
   "codemirror_mode": {
    "name": "ipython",
    "version": 3
   },
   "file_extension": ".py",
   "mimetype": "text/x-python",
   "name": "python",
   "nbconvert_exporter": "python",
   "pygments_lexer": "ipython3",
   "version": "3.7.10"
  }
 },
 "nbformat": 4,
 "nbformat_minor": 4
}
