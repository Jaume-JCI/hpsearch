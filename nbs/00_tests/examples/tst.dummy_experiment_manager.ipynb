{
 "cells": [
  {
   "cell_type": "code",
   "execution_count": 1,
   "id": "86b3a6da",
   "metadata": {},
   "outputs": [],
   "source": [
    "# hide\n",
    "# default_exp tests.examples.test_dummy_experiment_manager\n",
    "from nbdev.showdoc import *\n",
    "from dsblocks.utils.nbdev_utils import nbdev_setup, TestRunner\n",
    "\n",
    "nbdev_setup ()\n",
    "tst = TestRunner (targets=['dummy'])"
   ]
  },
  {
   "cell_type": "markdown",
   "id": "4f1a487f",
   "metadata": {},
   "source": [
    "# Test dummy experiment manager"
   ]
  },
  {
   "cell_type": "code",
   "execution_count": 2,
   "id": "00c30900-4c9d-473d-aa61-630512bc57c9",
   "metadata": {},
   "outputs": [],
   "source": [
    "# export\n",
    "import pytest\n",
    "import pandas as pd\n",
    "import numpy as np\n",
    "import os\n",
    "import joblib\n",
    "from IPython.display import display\n",
    "from dsblocks.utils.nbdev_utils import md\n",
    "\n",
    "import hpsearch.config.hp_defaults as dflt\n",
    "from hpsearch.examples.dummy_experiment_manager import *\n",
    "from hpsearch.examples.dummy_experiment_manager import generate_data"
   ]
  },
  {
   "cell_type": "code",
   "execution_count": null,
   "id": "900e1c41-7dfa-43c7-8100-af96990f3ad3",
   "metadata": {},
   "outputs": [],
   "source": [
    "##export\n",
    "#@pytest.fixture (name='init_em')\n",
    "#def init_em_fixture():\n",
    "#    return init_em()"
   ]
  }
 ],
 "metadata": {
  "kernelspec": {
   "display_name": "Python (dsblocks)",
   "language": "python",
   "name": "dsblocks"
  },
  "language_info": {
   "codemirror_mode": {
    "name": "ipython",
    "version": 3
   },
   "file_extension": ".py",
   "mimetype": "text/x-python",
   "name": "python",
   "nbconvert_exporter": "python",
   "pygments_lexer": "ipython3",
   "version": "3.9.12"
  }
 },
 "nbformat": 4,
 "nbformat_minor": 5
}
