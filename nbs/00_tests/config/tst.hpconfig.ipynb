{
 "cells": [
  {
   "cell_type": "code",
   "execution_count": 1,
   "id": "86b3a6da",
   "metadata": {},
   "outputs": [],
   "source": [
    "# hide\n",
    "# default_exp tests.config.test_hpconfig\n",
    "from nbdev.showdoc import *\n",
    "from dsblocks.utils.nbdev_utils import nbdev_setup, TestRunner\n",
    "\n",
    "nbdev_setup ()\n",
    "tst = TestRunner (targets=['dummy'])"
   ]
  },
  {
   "cell_type": "markdown",
   "id": "4f1a487f",
   "metadata": {},
   "source": [
    "# Test hpconfig"
   ]
  },
  {
   "cell_type": "code",
   "execution_count": 1,
   "id": "00c30900-4c9d-473d-aa61-630512bc57c9",
   "metadata": {},
   "outputs": [],
   "source": [
    "# export\n",
    "import pytest\n",
    "import pandas as pd\n",
    "import numpy as np\n",
    "import os\n",
    "import joblib\n",
    "from IPython.display import display\n",
    "from dsblocks.utils.nbdev_utils import md\n",
    "import pickle\n",
    "import shutil\n",
    "\n",
    "from sklearn.utils import Bunch\n",
    "\n",
    "from dsblocks.utils.utils import check_last_part, remove_previous_results\n",
    "\n",
    "from hpsearch.config.hpconfig import *\n",
    "from hpsearch.examples.dummy_experiment_manager import DummyExperimentManager, generate_data"
   ]
  }
 ],
 "metadata": {
  "kernelspec": {
   "display_name": "Python (hpsearch)",
   "language": "python",
   "name": "hpsearch"
  },
  "language_info": {
   "codemirror_mode": {
    "name": "ipython",
    "version": 3
   },
   "file_extension": ".py",
   "mimetype": "text/x-python",
   "name": "python",
   "nbconvert_exporter": "python",
   "pygments_lexer": "ipython3",
   "version": "3.9.7"
  }
 },
 "nbformat": 4,
 "nbformat_minor": 5
}
