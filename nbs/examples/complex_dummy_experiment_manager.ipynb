{
 "cells": [
  {
   "cell_type": "code",
   "execution_count": 1,
   "metadata": {
    "hide_input": false
   },
   "outputs": [],
   "source": [
    "#hide\n",
    "#default_exp examples.complex_dummy_experiment_manager\n",
    "from nbdev.showdoc import *\n",
    "from block_types.utils.nbdev_utils import nbdev_setup, TestRunner\n",
    "\n",
    "nbdev_setup ()\n",
    "tst = TestRunner (targets=['dummy'])"
   ]
  },
  {
   "cell_type": "markdown",
   "metadata": {},
   "source": [
    "# Complex Dummy Experiment Manager\n",
    "\n",
    "> Dummy experiment manager with features that allow additional functionality"
   ]
  },
  {
   "cell_type": "code",
   "execution_count": 2,
   "metadata": {},
   "outputs": [],
   "source": [
    "#export\n",
    "from hpsearch.examples.dummy_experiment_manager import DummyExperimentManager, FakeModel\n",
    "import hpsearch\n",
    "import os\n",
    "import shutil\n",
    "import os\n",
    "\n",
    "import hpsearch.examples.dummy_experiment_manager as dummy_em\n",
    "from hpsearch.visualization import plot_utils "
   ]
  },
  {
   "cell_type": "code",
   "execution_count": 3,
   "metadata": {},
   "outputs": [],
   "source": [
    "#for tests\n",
    "import pytest\n",
    "from block_types.utils.nbdev_utils import md"
   ]
  },
  {
   "cell_type": "markdown",
   "metadata": {},
   "source": [
    "## ComplexDummyExperimentManager"
   ]
  },
  {
   "cell_type": "code",
   "execution_count": 4,
   "metadata": {},
   "outputs": [],
   "source": [
    "#export\n",
    "class ComplexDummyExperimentManager (DummyExperimentManager):\n",
    "    \n",
    "    def __init__ (self, model_file_name='model_weights.pk', **kwargs):\n",
    "        super().__init__ (model_file_name=model_file_name, **kwargs)\n",
    "        self.raise_error_if_run = False\n",
    "\n",
    "    def run_experiment (self, parameters={}, path_results='./results'):\n",
    "        \n",
    "        # useful for testing: in some cases the experiment manager should not call run_experiment\n",
    "        if self.raise_error_if_run:\n",
    "            raise RuntimeError ('run_experiment should not be called')\n",
    "            \n",
    "        # extract hyper-parameters used by our model. All the parameters have default values if they are not passed.\n",
    "        offset = parameters.get('offset', 0.5)   # default value: 0.5\n",
    "        rate = parameters.get('rate', 0.01)   # default value: 0.01\n",
    "        epochs = parameters.get('epochs', 10) # default value: 10\n",
    "        noise = parameters.get('noise', 0.0)\n",
    "        if parameters.get('actual_epochs') is not None:\n",
    "            epochs = parameters.get('actual_epochs')\n",
    "        \n",
    "        # other parameters that do not form part of our experiment definition\n",
    "        # changing the values of these other parameters, does not make the ID of the experiment change\n",
    "        verbose = parameters.get('verbose', True)\n",
    "        \n",
    "        # build model with given hyper-parameters\n",
    "        model = FakeModel (offset=offset, rate=rate, epochs=epochs, noise = noise, verbose=verbose)\n",
    "        \n",
    "        # load training, validation and test data (fake step)\n",
    "        model.load_data()\n",
    "\n",
    "        # start from previous experiment if indicated by parameters\n",
    "        path_results_previous_experiment = parameters.get('prev_path_results')\n",
    "        if path_results_previous_experiment is not None:\n",
    "            model.load_model_and_history (path_results_previous_experiment)\n",
    "        \n",
    "        # fit model with training data \n",
    "        model.fit ()\n",
    "        \n",
    "        # save model weights and evolution of accuracy metric across epochs\n",
    "        model.save_model_and_history(path_results)\n",
    "        \n",
    "        # simulate ctrl-c\n",
    "        if parameters.get ('halt', False):\n",
    "            raise KeyboardInterrupt ('stopped')\n",
    "        \n",
    "        # evaluate model with validation and test data\n",
    "        validation_accuracy, test_accuracy = model.score()\n",
    "        \n",
    "        # store model\n",
    "        self.model = model\n",
    "        \n",
    "        # the function returns a dictionary with keys corresponding to the names of each metric. \n",
    "        # We return result on validation and test set in this example\n",
    "        dict_results = dict (validation_accuracy = validation_accuracy,\n",
    "                             test_accuracy = test_accuracy)\n",
    "        \n",
    "        return dict_results\n",
    "    "
   ]
  },
  {
   "cell_type": "markdown",
   "metadata": {
    "tags": []
   },
   "source": [
    "### Usage"
   ]
  },
  {
   "cell_type": "code",
   "execution_count": 5,
   "metadata": {},
   "outputs": [],
   "source": [
    "#exports tests.examples.test_complex_dummy_experiment_manager\n",
    "def test_complex_dummy_experiment_manager ():\n",
    "    #em = generate_data ('complex_dummy_experiment_manager')\n",
    "    \n",
    "    md (\n",
    "'''\n",
    "Extend previous experiment by using a larger number of epochs\n",
    "\n",
    "We see how to create a experiment that is the same as a previous experiment, \n",
    "only increasing the number of epochs. \n",
    "\n",
    "1.a. For test purposes, we first run the full number of epochs, 30, take note of the accuracy, \n",
    "and remove the experiment\n",
    "'''\n",
    "    )\n",
    "    \n",
    "    em = ComplexDummyExperimentManager (path_experiments='test_complex_dummy_experiment_manager', \n",
    "                                        verbose=0)\n",
    "    em.create_experiment_and_run (parameters = {'epochs': 30});\n",
    "    reference_accuracy = em.model.accuracy\n",
    "    reference_weight = em.model.weight\n",
    "\n",
    "    from hpsearch.config.hpconfig import get_path_experiments\n",
    "    import os\n",
    "    import pandas as pd\n",
    "\n",
    "    path_experiments = get_path_experiments ()\n",
    "    print (f'experiments folders: {os.listdir(f\"{path_experiments}/experiments\")}\\n')\n",
    "\n",
    "    experiments_data = pd.read_pickle (f'{path_experiments}/experiments_data.pk')\n",
    "    print ('csv data')\n",
    "    display (experiments_data)\n",
    "\n",
    "    md ('we plot the history')\n",
    "    from hpsearch.visualization.experiment_visualization import plot_multiple_histories\n",
    "\n",
    "    plot_multiple_histories ([0], run_number=0, op='max', backend='matplotlib', metrics='validation_accuracy')\n",
    "\n",
    "    md ('1.b. Now we run two experiments: ')\n",
    "\n",
    "    md ('We run the first experiment  with 20 epochs:')\n",
    "\n",
    "    # a.- remove previous experiment\n",
    "    em.remove_previous_experiments()\n",
    "\n",
    "    # b.- create first experiment with epochs=20\n",
    "    em.create_experiment_and_run (parameters = {'epochs': 20});\n",
    "\n",
    "    print (f'experiments folders: {os.listdir(f\"{path_experiments}/experiments\")}\\n')\n",
    "\n",
    "    experiments_data = pd.read_pickle (f'{path_experiments}/experiments_data.pk')\n",
    "    print ('csv data')\n",
    "    display(experiments_data)\n",
    "    print (f'weight: {em.model.weight}, accuracy: {em.model.accuracy}')\n",
    "\n",
    "    md ('We run the second experiment resumes from the previous one and increases the epochs to 30')\n",
    "    # 4.- create second experiment with epochs=10\n",
    "    em.create_experiment_and_run (parameters = {'epochs': 30}, \n",
    "                              other_parameters={'prev_epoch': True,\n",
    "                                               'name_epoch': 'epochs',\n",
    "                                               'previous_model_file_name': 'model_weights.pk'});\n",
    "\n",
    "    experiments_data = pd.read_pickle (f'{path_experiments}/experiments_data.pk')\n",
    "    print ('csv data')\n",
    "    display(experiments_data)\n",
    "\n",
    "    new_accuracy = em.model.accuracy\n",
    "    new_weight = em.model.weight\n",
    "\n",
    "    assert new_weight==reference_weight\n",
    "    assert new_accuracy==reference_accuracy\n",
    "\n",
    "    print (f'weight: {new_weight}, accuracy: {new_accuracy}')\n",
    "\n",
    "    md ('We plot the history')\n",
    "    plot_multiple_histories ([1], run_number=0, op='max', backend='matplotlib', metrics='validation_accuracy')\n",
    "    \n",
    "    em.remove_previous_experiments()"
   ]
  },
  {
   "cell_type": "code",
   "execution_count": 6,
   "metadata": {},
   "outputs": [
    {
     "name": "stdout",
     "output_type": "stream",
     "text": [
      "running test_complex_dummy_experiment_manager\n"
     ]
    },
    {
     "data": {
      "text/markdown": [
       "\n",
       "Extend previous experiment by using a larger number of epochs\n",
       "\n",
       "We see how to create a experiment that is the same as a previous experiment, \n",
       "only increasing the number of epochs. \n",
       "\n",
       "1.a. For test purposes, we first run the full number of epochs, 30, take note of the accuracy, \n",
       "and remove the experiment\n"
      ],
      "text/plain": [
       "<IPython.core.display.Markdown object>"
      ]
     },
     "metadata": {},
     "output_type": "display_data"
    },
    {
     "name": "stderr",
     "output_type": "stream",
     "text": [
      "write_manager failed with exception <class '__main__.ComplexDummyExperimentManager'> is a built-in class\n"
     ]
    },
    {
     "name": "stdout",
     "output_type": "stream",
     "text": [
      "fitting model with 30 epochs\n",
      "epoch 0: accuracy: 0.51\n",
      "epoch 1: accuracy: 0.52\n",
      "epoch 2: accuracy: 0.53\n",
      "epoch 3: accuracy: 0.54\n",
      "epoch 4: accuracy: 0.55\n",
      "epoch 5: accuracy: 0.56\n",
      "epoch 6: accuracy: 0.5700000000000001\n",
      "epoch 7: accuracy: 0.5800000000000001\n",
      "epoch 8: accuracy: 0.5900000000000001\n",
      "epoch 9: accuracy: 0.6000000000000001\n",
      "epoch 10: accuracy: 0.6100000000000001\n",
      "epoch 11: accuracy: 0.6200000000000001\n",
      "epoch 12: accuracy: 0.6300000000000001\n",
      "epoch 13: accuracy: 0.6400000000000001\n",
      "epoch 14: accuracy: 0.6500000000000001\n",
      "epoch 15: accuracy: 0.6600000000000001\n",
      "epoch 16: accuracy: 0.6700000000000002\n",
      "epoch 17: accuracy: 0.6800000000000002\n",
      "epoch 18: accuracy: 0.6900000000000002\n",
      "epoch 19: accuracy: 0.7000000000000002\n",
      "epoch 20: accuracy: 0.6900000000000002\n",
      "epoch 21: accuracy: 0.6800000000000002\n",
      "epoch 22: accuracy: 0.6700000000000002\n",
      "epoch 23: accuracy: 0.6600000000000001\n",
      "epoch 24: accuracy: 0.6500000000000001\n",
      "epoch 25: accuracy: 0.6400000000000001\n",
      "epoch 26: accuracy: 0.6300000000000001\n",
      "epoch 27: accuracy: 0.6200000000000001\n",
      "epoch 28: accuracy: 0.6100000000000001\n",
      "epoch 29: accuracy: 0.6000000000000001\n",
      "experiments folders: ['00000']\n",
      "\n",
      "csv data\n"
     ]
    },
    {
     "data": {
      "text/html": [
       "<div>\n",
       "<style scoped>\n",
       "    .dataframe tbody tr th:only-of-type {\n",
       "        vertical-align: middle;\n",
       "    }\n",
       "\n",
       "    .dataframe tbody tr th {\n",
       "        vertical-align: top;\n",
       "    }\n",
       "\n",
       "    .dataframe thead th {\n",
       "        text-align: right;\n",
       "    }\n",
       "</style>\n",
       "<table border=\"1\" class=\"dataframe\">\n",
       "  <thead>\n",
       "    <tr style=\"text-align: right;\">\n",
       "      <th></th>\n",
       "      <th>epochs</th>\n",
       "      <th>0_validation_accuracy</th>\n",
       "      <th>0_test_accuracy</th>\n",
       "      <th>time_0</th>\n",
       "      <th>date</th>\n",
       "      <th>0_finished</th>\n",
       "    </tr>\n",
       "  </thead>\n",
       "  <tbody>\n",
       "    <tr>\n",
       "      <th>0</th>\n",
       "      <td>30.0</td>\n",
       "      <td>0.6</td>\n",
       "      <td>0.5</td>\n",
       "      <td>0.005837</td>\n",
       "      <td>22:48:15.301502</td>\n",
       "      <td>True</td>\n",
       "    </tr>\n",
       "  </tbody>\n",
       "</table>\n",
       "</div>"
      ],
      "text/plain": [
       "   epochs  0_validation_accuracy  0_test_accuracy    time_0             date  \\\n",
       "0    30.0                    0.6              0.5  0.005837  22:48:15.301502   \n",
       "\n",
       "  0_finished  \n",
       "0       True  "
      ]
     },
     "metadata": {},
     "output_type": "display_data"
    },
    {
     "data": {
      "text/markdown": [
       "we plot the history"
      ],
      "text/plain": [
       "<IPython.core.display.Markdown object>"
      ]
     },
     "metadata": {},
     "output_type": "display_data"
    },
    {
     "data": {
      "image/png": "[encoded data removed]",
      "text/plain": [
       "<Figure size 1440x720 with 1 Axes>"
      ]
     },
     "metadata": {
      "needs_background": "light"
     },
     "output_type": "display_data"
    },
    {
     "data": {
      "text/html": [
       "<div>\n",
       "<style scoped>\n",
       "    .dataframe tbody tr th:only-of-type {\n",
       "        vertical-align: middle;\n",
       "    }\n",
       "\n",
       "    .dataframe tbody tr th {\n",
       "        vertical-align: top;\n",
       "    }\n",
       "\n",
       "    .dataframe thead th {\n",
       "        text-align: right;\n",
       "    }\n",
       "</style>\n",
       "<table border=\"1\" class=\"dataframe\">\n",
       "  <thead>\n",
       "    <tr style=\"text-align: right;\">\n",
       "      <th></th>\n",
       "      <th>validation_accuracy</th>\n",
       "    </tr>\n",
       "  </thead>\n",
       "  <tbody>\n",
       "    <tr>\n",
       "      <th>0</th>\n",
       "      <td>0.7</td>\n",
       "    </tr>\n",
       "  </tbody>\n",
       "</table>\n",
       "</div>"
      ],
      "text/plain": [
       "   validation_accuracy\n",
       "0                  0.7"
      ]
     },
     "metadata": {},
     "output_type": "display_data"
    },
    {
     "data": {
      "text/markdown": [
       "1.b. Now we run two experiments: "
      ],
      "text/plain": [
       "<IPython.core.display.Markdown object>"
      ]
     },
     "metadata": {},
     "output_type": "display_data"
    },
    {
     "data": {
      "text/markdown": [
       "We run the first experiment  with 20 epochs:"
      ],
      "text/plain": [
       "<IPython.core.display.Markdown object>"
      ]
     },
     "metadata": {},
     "output_type": "display_data"
    },
    {
     "name": "stderr",
     "output_type": "stream",
     "text": [
      "write_manager failed with exception <class '__main__.ComplexDummyExperimentManager'> is a built-in class\n"
     ]
    },
    {
     "name": "stdout",
     "output_type": "stream",
     "text": [
      "fitting model with 20 epochs\n",
      "epoch 0: accuracy: 0.51\n",
      "epoch 1: accuracy: 0.52\n",
      "epoch 2: accuracy: 0.53\n",
      "epoch 3: accuracy: 0.54\n",
      "epoch 4: accuracy: 0.55\n",
      "epoch 5: accuracy: 0.56\n",
      "epoch 6: accuracy: 0.5700000000000001\n",
      "epoch 7: accuracy: 0.5800000000000001\n",
      "epoch 8: accuracy: 0.5900000000000001\n",
      "epoch 9: accuracy: 0.6000000000000001\n",
      "epoch 10: accuracy: 0.6100000000000001\n",
      "epoch 11: accuracy: 0.6200000000000001\n",
      "epoch 12: accuracy: 0.6300000000000001\n",
      "epoch 13: accuracy: 0.6400000000000001\n",
      "epoch 14: accuracy: 0.6500000000000001\n",
      "epoch 15: accuracy: 0.6600000000000001\n",
      "epoch 16: accuracy: 0.6700000000000002\n",
      "epoch 17: accuracy: 0.6800000000000002\n",
      "epoch 18: accuracy: 0.6900000000000002\n",
      "epoch 19: accuracy: 0.7000000000000002\n",
      "experiments folders: ['00000']\n",
      "\n",
      "csv data\n"
     ]
    },
    {
     "data": {
      "text/html": [
       "<div>\n",
       "<style scoped>\n",
       "    .dataframe tbody tr th:only-of-type {\n",
       "        vertical-align: middle;\n",
       "    }\n",
       "\n",
       "    .dataframe tbody tr th {\n",
       "        vertical-align: top;\n",
       "    }\n",
       "\n",
       "    .dataframe thead th {\n",
       "        text-align: right;\n",
       "    }\n",
       "</style>\n",
       "<table border=\"1\" class=\"dataframe\">\n",
       "  <thead>\n",
       "    <tr style=\"text-align: right;\">\n",
       "      <th></th>\n",
       "      <th>epochs</th>\n",
       "      <th>0_validation_accuracy</th>\n",
       "      <th>0_test_accuracy</th>\n",
       "      <th>time_0</th>\n",
       "      <th>date</th>\n",
       "      <th>0_finished</th>\n",
       "    </tr>\n",
       "  </thead>\n",
       "  <tbody>\n",
       "    <tr>\n",
       "      <th>0</th>\n",
       "      <td>20.0</td>\n",
       "      <td>0.7</td>\n",
       "      <td>0.6</td>\n",
       "      <td>0.002601</td>\n",
       "      <td>22:48:15.872303</td>\n",
       "      <td>True</td>\n",
       "    </tr>\n",
       "  </tbody>\n",
       "</table>\n",
       "</div>"
      ],
      "text/plain": [
       "   epochs  0_validation_accuracy  0_test_accuracy    time_0             date  \\\n",
       "0    20.0                    0.7              0.6  0.002601  22:48:15.872303   \n",
       "\n",
       "  0_finished  \n",
       "0       True  "
      ]
     },
     "metadata": {},
     "output_type": "display_data"
    },
    {
     "name": "stdout",
     "output_type": "stream",
     "text": [
      "weight: 0.20000000000000004, accuracy: 0.7000000000000002\n"
     ]
    },
    {
     "data": {
      "text/markdown": [
       "We run the second experiment resumes from the previous one and increases the epochs to 30"
      ],
      "text/plain": [
       "<IPython.core.display.Markdown object>"
      ]
     },
     "metadata": {},
     "output_type": "display_data"
    },
    {
     "name": "stderr",
     "output_type": "stream",
     "text": [
      "write_manager failed with exception <class '__main__.ComplexDummyExperimentManager'> is a built-in class\n"
     ]
    },
    {
     "name": "stdout",
     "output_type": "stream",
     "text": [
      "reading model from test_complex_dummy_experiment_manager/experiments/00000/0/model_weights.pk\n",
      "fitting model with 10 epochs\n",
      "epoch 0: accuracy: 0.6900000000000002\n",
      "epoch 1: accuracy: 0.6800000000000002\n",
      "epoch 2: accuracy: 0.6700000000000002\n",
      "epoch 3: accuracy: 0.6600000000000001\n",
      "epoch 4: accuracy: 0.6500000000000001\n",
      "epoch 5: accuracy: 0.6400000000000001\n",
      "epoch 6: accuracy: 0.6300000000000001\n",
      "epoch 7: accuracy: 0.6200000000000001\n",
      "epoch 8: accuracy: 0.6100000000000001\n",
      "epoch 9: accuracy: 0.6000000000000001\n",
      "csv data\n"
     ]
    },
    {
     "data": {
      "text/html": [
       "<div>\n",
       "<style scoped>\n",
       "    .dataframe tbody tr th:only-of-type {\n",
       "        vertical-align: middle;\n",
       "    }\n",
       "\n",
       "    .dataframe tbody tr th {\n",
       "        vertical-align: top;\n",
       "    }\n",
       "\n",
       "    .dataframe thead th {\n",
       "        text-align: right;\n",
       "    }\n",
       "</style>\n",
       "<table border=\"1\" class=\"dataframe\">\n",
       "  <thead>\n",
       "    <tr style=\"text-align: right;\">\n",
       "      <th></th>\n",
       "      <th>epochs</th>\n",
       "      <th>0_validation_accuracy</th>\n",
       "      <th>0_test_accuracy</th>\n",
       "      <th>time_0</th>\n",
       "      <th>date</th>\n",
       "      <th>0_finished</th>\n",
       "    </tr>\n",
       "  </thead>\n",
       "  <tbody>\n",
       "    <tr>\n",
       "      <th>0</th>\n",
       "      <td>20.0</td>\n",
       "      <td>0.7</td>\n",
       "      <td>0.6</td>\n",
       "      <td>0.002601</td>\n",
       "      <td>22:48:15.872303</td>\n",
       "      <td>True</td>\n",
       "    </tr>\n",
       "    <tr>\n",
       "      <th>1</th>\n",
       "      <td>30.0</td>\n",
       "      <td>0.6</td>\n",
       "      <td>0.5</td>\n",
       "      <td>0.002112</td>\n",
       "      <td>22:48:15.914683</td>\n",
       "      <td>True</td>\n",
       "    </tr>\n",
       "  </tbody>\n",
       "</table>\n",
       "</div>"
      ],
      "text/plain": [
       "   epochs  0_validation_accuracy  0_test_accuracy    time_0             date  \\\n",
       "0    20.0                    0.7              0.6  0.002601  22:48:15.872303   \n",
       "1    30.0                    0.6              0.5  0.002112  22:48:15.914683   \n",
       "\n",
       "  0_finished  \n",
       "0       True  \n",
       "1       True  "
      ]
     },
     "metadata": {},
     "output_type": "display_data"
    },
    {
     "name": "stdout",
     "output_type": "stream",
     "text": [
      "weight: 0.3000000000000001, accuracy: 0.6000000000000001\n"
     ]
    },
    {
     "data": {
      "text/markdown": [
       "We plot the history"
      ],
      "text/plain": [
       "<IPython.core.display.Markdown object>"
      ]
     },
     "metadata": {},
     "output_type": "display_data"
    },
    {
     "data": {
      "image/png": "[encoded data removed]",
      "text/plain": [
       "<Figure size 1440x720 with 1 Axes>"
      ]
     },
     "metadata": {
      "needs_background": "light"
     },
     "output_type": "display_data"
    },
    {
     "data": {
      "text/html": [
       "<div>\n",
       "<style scoped>\n",
       "    .dataframe tbody tr th:only-of-type {\n",
       "        vertical-align: middle;\n",
       "    }\n",
       "\n",
       "    .dataframe tbody tr th {\n",
       "        vertical-align: top;\n",
       "    }\n",
       "\n",
       "    .dataframe thead th {\n",
       "        text-align: right;\n",
       "    }\n",
       "</style>\n",
       "<table border=\"1\" class=\"dataframe\">\n",
       "  <thead>\n",
       "    <tr style=\"text-align: right;\">\n",
       "      <th></th>\n",
       "      <th>validation_accuracy</th>\n",
       "    </tr>\n",
       "  </thead>\n",
       "  <tbody>\n",
       "    <tr>\n",
       "      <th>1</th>\n",
       "      <td>0.7</td>\n",
       "    </tr>\n",
       "  </tbody>\n",
       "</table>\n",
       "</div>"
      ],
      "text/plain": [
       "   validation_accuracy\n",
       "1                  0.7"
      ]
     },
     "metadata": {},
     "output_type": "display_data"
    }
   ],
   "source": [
    "tst.run (test_complex_dummy_experiment_manager, tag='dummy')"
   ]
  },
  {
   "cell_type": "markdown",
   "metadata": {},
   "source": [
    "## Running experiments and removing experiments"
   ]
  },
  {
   "cell_type": "code",
   "execution_count": 7,
   "metadata": {},
   "outputs": [],
   "source": [
    "# export\n",
    "def run_multiple_experiments (**kwargs):\n",
    "    dummy_em.run_multiple_experiments (EM=ComplexDummyExperimentManager, **kwargs)\n",
    "\n",
    "def remove_previous_experiments ():\n",
    "    dummy_em.remove_previous_experiments (EM=ComplexDummyExperimentManager)"
   ]
  },
  {
   "cell_type": "code",
   "execution_count": 8,
   "metadata": {},
   "outputs": [],
   "source": [
    "#export\n",
    "def generate_data (name_folder):\n",
    "    em = ComplexDummyExperimentManager (path_experiments=f'test_{name_folder}', verbose=0)\n",
    "    em.remove_previous_experiments ()\n",
    "    run_multiple_experiments (em=em, nruns=5, noise=0.1, verbose=False)\n",
    "    return em"
   ]
  }
 ],
 "metadata": {
  "jupytext": {
   "split_at_heading": true
  },
  "kernelspec": {
   "display_name": "Python (athena_gpu)",
   "language": "python",
   "name": "athena_gpu"
  },
  "language_info": {
   "codemirror_mode": {
    "name": "ipython",
    "version": 3
   },
   "file_extension": ".py",
   "mimetype": "text/x-python",
   "name": "python",
   "nbconvert_exporter": "python",
   "pygments_lexer": "ipython3",
   "version": "3.7.6"
  }
 },
 "nbformat": 4,
 "nbformat_minor": 4
}
