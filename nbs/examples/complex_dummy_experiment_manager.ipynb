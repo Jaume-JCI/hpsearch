{
 "cells": [
  {
   "cell_type": "code",
   "execution_count": null,
   "metadata": {},
   "outputs": [
    {
     "name": "stdout",
     "output_type": "stream",
     "text": [
      "current path: /mnt/athena/hpsearch/nbs/examples\n",
      "The autoreload extension is already loaded. To reload it, use:\n",
      "  %reload_ext autoreload\n"
     ]
    },
    {
     "name": "stderr",
     "output_type": "stream",
     "text": [
      "[autoreload of hpsearch.config.hpconfig failed: Traceback (most recent call last):\n",
      "  File \"/anaconda/envs/athena_gpu/lib/python3.7/site-packages/IPython/extensions/autoreload.py\", line 245, in check\n",
      "    superreload(m, reload, self.old_objects)\n",
      "  File \"/anaconda/envs/athena_gpu/lib/python3.7/site-packages/IPython/extensions/autoreload.py\", line 394, in superreload\n",
      "    module = reload(module)\n",
      "  File \"/anaconda/envs/athena_gpu/lib/python3.7/imp.py\", line 314, in reload\n",
      "    return importlib.reload(module)\n",
      "  File \"/anaconda/envs/athena_gpu/lib/python3.7/importlib/__init__.py\", line 169, in reload\n",
      "    _bootstrap._exec(spec, module)\n",
      "  File \"<frozen importlib._bootstrap>\", line 630, in _exec\n",
      "  File \"<frozen importlib._bootstrap_external>\", line 728, in exec_module\n",
      "  File \"<frozen importlib._bootstrap>\", line 219, in _call_with_frames_removed\n",
      "  File \"/mnt/athena/hpsearch/hpsearch/config/hpconfig.py\", line 14, in <module>\n",
      "    experiment_manager = manager_factory.get_experiment_manager()\n",
      "  File \"/mnt/athena/hpsearch/hpsearch/config/manager_factory.py\", line 132, in get_experiment_manager\n",
      "    self.import_written_manager()\n",
      "  File \"/mnt/athena/hpsearch/hpsearch/config/manager_factory.py\", line 109, in import_written_manager\n",
      "    import hpsearch.app_config.subclassed_manager_import as subclass_module\n",
      "  File \"/mnt/athena/hpsearch/hpsearch/app_config/subclassed_manager.py\", line 21\n",
      "    for epoch in range(number_epochs):\n",
      "      ^\n",
      "IndentationError: expected an indented block\n",
      "]\n"
     ]
    }
   ],
   "source": [
    "%load_ext autoreload\n",
    "%autoreload 2"
   ]
  },
  {
   "cell_type": "code",
   "execution_count": null,
   "metadata": {
    "hide_input": false
   },
   "outputs": [],
   "source": [
    "#hide\n",
    "#default_exp examples.complex_dummy_experiment_manager\n",
    "from nbdev.showdoc import show_doc\n",
    "import warnings\n",
    "warnings.filterwarnings('ignore')\n",
    "import os\n",
    "\n",
    "max_count=10\n",
    "while not os.path.exists('settings.ini'):\n",
    "    os.chdir('..')\n",
    "    max_count = max_count - 1\n",
    "    if max_count <= 0:\n",
    "        break"
   ]
  },
  {
   "cell_type": "markdown",
   "metadata": {},
   "source": [
    "# Complex Dummy Experiment Manager\n",
    "\n",
    "> Dummy experiment manager with features that allow additional functionality"
   ]
  },
  {
   "cell_type": "code",
   "execution_count": null,
   "metadata": {},
   "outputs": [],
   "source": [
    "#export\n",
    "from hpsearch.examples.dummy_experiment_manager import DummyExperimentManager, FakeModel\n",
    "import hpsearch\n",
    "import os\n",
    "from hpsearch.visualization import plot_utils \n",
    "\n",
    "class ComplexDummyExperimentManager (DummyExperimentManager):\n",
    "\n",
    "    def run_experiment (self, parameters={}, path_results='./results'):\n",
    "        # extract hyper-parameters used by our model. All the parameters have default values if they are not passed.\n",
    "        offset = parameters.get('offset', 0.5)   # default value: 0.5\n",
    "        rate = parameters.get('rate', 0.01)   # default value: 0.01\n",
    "        epochs = parameters.get('epochs', 10) # default value: 10\n",
    "        noise = parameters.get('noise', 0.0)\n",
    "        \n",
    "        # other parameters that do not form part of our experiment definition\n",
    "        # changing the values of these other parameters, does not make the ID of the experiment change\n",
    "        verbose = parameters.get('verbose', True)\n",
    "        \n",
    "        # build model with given hyper-parameters\n",
    "        model = FakeModel (offset=offset, rate=rate, epochs=epochs, noise = noise, verbose=verbose)\n",
    "        \n",
    "        # load training, validation and test data (fake step)\n",
    "        model.load_data()\n",
    "        \n",
    "        # load previous model if exists\n",
    "        if not model.load_model_and_history (path_results):\n",
    "            # start from previous experiment if indicated by parameters\n",
    "            path_results_previous_experiment = parameters.get('prev_path_results','')\n",
    "            model.load_model_and_history (path_results_previous_experiment)\n",
    "        \n",
    "        # fit model with training data \n",
    "        model.fit ()\n",
    "        \n",
    "        # save model weights and evolution of accuracy metric across epochs\n",
    "        model.save_model_and_history(path_results)\n",
    "        \n",
    "        # evaluate model with validation and test data\n",
    "        validation_accuracy, test_accuracy = model.score()\n",
    "        \n",
    "        # store model\n",
    "        self.model = model\n",
    "        \n",
    "        # the function returns a dictionary with keys corresponding to the names of each metric. \n",
    "        # We return result on validation and test set in this example\n",
    "        dict_results = dict (validation_accuracy = validation_accuracy,\n",
    "                             test_accuracy = test_accuracy)\n",
    "        \n",
    "        return dict_results\n",
    "    \n"
   ]
  },
  {
   "cell_type": "markdown",
   "metadata": {},
   "source": [
    "## Running experiments and removing experiments"
   ]
  },
  {
   "cell_type": "code",
   "execution_count": null,
   "metadata": {},
   "outputs": [],
   "source": [
    "# export\n",
    "import shutil\n",
    "import os\n",
    "\n",
    "def run_multiple_experiments (nruns=1, noise=0.0, verbose=True, rate=0.03):\n",
    "    em = ComplexDummyExperimentManager ()\n",
    "    parameters_single_value = dict(rate=rate, noise=noise)   # parameters where we use a fixed value\n",
    "    parameters_multiple_values=dict(offset=[0.1, 0.3, 0.6], epochs=[5, 15, 30]) # parameters where we try multiple values\n",
    "    other_parameters = dict(verbose=verbose) # parameters that control other aspects that are not part of our experiment definition (a new experiment is not created if we assign different values for these parametsers)\n",
    "    em.grid_search (log_message='fixed rate, multiple epochs values',\n",
    "            parameters_single_value=parameters_single_value,\n",
    "            parameters_multiple_values=parameters_multiple_values,\n",
    "            other_parameters=other_parameters,\n",
    "            nruns=nruns)\n",
    "\n",
    "def remove_previous_experiments():\n",
    "    em = ComplexDummyExperimentManager ()\n",
    "    path_results = em.get_path_experiments()\n",
    "    if os.path.exists(path_results):\n",
    "        shutil.rmtree(path_results)"
   ]
  },
  {
   "cell_type": "code",
   "execution_count": null,
   "metadata": {},
   "outputs": [
    {
     "name": "stdout",
     "output_type": "stream",
     "text": [
      "current path: /mnt/athena/hpsearch/nbs/examples\n"
     ]
    }
   ],
   "source": [
    "# collapse_output\n",
    "remove_previous_experiments()"
   ]
  },
  {
   "cell_type": "markdown",
   "metadata": {},
   "source": [
    "## Example use\n",
    "\n",
    "### 1.- Creating new experiment that extends previous experiment by using a larger number of epochs\n",
    "\n",
    "We see how to create a experiment that is the same as a previous experiment, only increasing the number of epochs. \n",
    "\n",
    "##### 1.a. For test purposes, we first run the full number of epochs, 30, take note of the accuracy, and remove the experiment"
   ]
  },
  {
   "cell_type": "code",
   "execution_count": null,
   "metadata": {},
   "outputs": [
    {
     "name": "stderr",
     "output_type": "stream",
     "text": [
      "script: <ipython-input-20-758690e286c4>, line number: 3\n"
     ]
    },
    {
     "name": "stdout",
     "output_type": "stream",
     "text": [
      "current path: /mnt/athena/hpsearch/nbs/examples\n",
      "write_manager failed with exception <class '__main__.ComplexDummyExperimentManager'> is a built-in class\n",
      "model not found in /mnt/athena/hpsearch/hpsearch/../results/experiments/00000/0\n",
      "model not found in \n",
      "fitting model with 30 epochs\n",
      "epoch 0: accuracy: 0.51\n",
      "epoch 1: accuracy: 0.52\n",
      "epoch 2: accuracy: 0.53\n",
      "epoch 3: accuracy: 0.54\n",
      "epoch 4: accuracy: 0.55\n",
      "epoch 5: accuracy: 0.56\n",
      "epoch 6: accuracy: 0.5700000000000001\n",
      "epoch 7: accuracy: 0.5800000000000001\n",
      "epoch 8: accuracy: 0.5900000000000001\n",
      "epoch 9: accuracy: 0.6000000000000001\n",
      "epoch 10: accuracy: 0.6100000000000001\n",
      "epoch 11: accuracy: 0.6200000000000001\n",
      "epoch 12: accuracy: 0.6300000000000001\n",
      "epoch 13: accuracy: 0.6400000000000001\n",
      "epoch 14: accuracy: 0.6500000000000001\n",
      "epoch 15: accuracy: 0.6600000000000001\n",
      "epoch 16: accuracy: 0.6700000000000002\n",
      "epoch 17: accuracy: 0.6800000000000002\n",
      "epoch 18: accuracy: 0.6900000000000002\n",
      "epoch 19: accuracy: 0.7000000000000002\n",
      "epoch 20: accuracy: 0.6900000000000002\n",
      "epoch 21: accuracy: 0.6800000000000002\n",
      "epoch 22: accuracy: 0.6700000000000002\n",
      "epoch 23: accuracy: 0.6600000000000001\n",
      "epoch 24: accuracy: 0.6500000000000001\n",
      "epoch 25: accuracy: 0.6400000000000001\n",
      "epoch 26: accuracy: 0.6300000000000001\n",
      "epoch 27: accuracy: 0.6200000000000001\n",
      "epoch 28: accuracy: 0.6100000000000001\n",
      "epoch 29: accuracy: 0.6000000000000001\n"
     ]
    }
   ],
   "source": [
    "# collapse_output\n",
    "em = ComplexDummyExperimentManager ()\n",
    "em.create_experiment_and_run (parameters = {'epochs': 30});\n",
    "reference_accuracy = em.model.accuracy\n",
    "reference_weight = em.model.weight"
   ]
  },
  {
   "cell_type": "code",
   "execution_count": null,
   "metadata": {},
   "outputs": [
    {
     "name": "stdout",
     "output_type": "stream",
     "text": [
      "experiments folders: ['00000']\n",
      "\n",
      "csv data\n"
     ]
    },
    {
     "data": {
      "text/html": [
       "<div>\n",
       "<style scoped>\n",
       "    .dataframe tbody tr th:only-of-type {\n",
       "        vertical-align: middle;\n",
       "    }\n",
       "\n",
       "    .dataframe tbody tr th {\n",
       "        vertical-align: top;\n",
       "    }\n",
       "\n",
       "    .dataframe thead th {\n",
       "        text-align: right;\n",
       "    }\n",
       "</style>\n",
       "<table border=\"1\" class=\"dataframe\">\n",
       "  <thead>\n",
       "    <tr style=\"text-align: right;\">\n",
       "      <th></th>\n",
       "      <th>epochs</th>\n",
       "      <th>0_validation_accuracy</th>\n",
       "      <th>0_test_accuracy</th>\n",
       "      <th>time_0</th>\n",
       "      <th>date</th>\n",
       "      <th>0_finished</th>\n",
       "    </tr>\n",
       "  </thead>\n",
       "  <tbody>\n",
       "    <tr>\n",
       "      <th>0</th>\n",
       "      <td>30.0</td>\n",
       "      <td>0.6</td>\n",
       "      <td>0.5</td>\n",
       "      <td>0.003891</td>\n",
       "      <td>15:31:09.542899</td>\n",
       "      <td>True</td>\n",
       "    </tr>\n",
       "  </tbody>\n",
       "</table>\n",
       "</div>"
      ],
      "text/plain": [
       "   epochs  0_validation_accuracy  0_test_accuracy    time_0             date  \\\n",
       "0    30.0                    0.6              0.5  0.003891  15:31:09.542899   \n",
       "\n",
       "  0_finished  \n",
       "0       True  "
      ]
     },
     "execution_count": null,
     "metadata": {},
     "output_type": "execute_result"
    }
   ],
   "source": [
    "from hpsearch.config.hpconfig import get_path_experiments\n",
    "import os\n",
    "import pandas as pd\n",
    "\n",
    "path_experiments = get_path_experiments ()\n",
    "print (f'experiments folders: {os.listdir(f\"{path_experiments}/experiments\")}\\n')\n",
    "\n",
    "experiments_data = pd.read_pickle (f'{path_experiments}/experiments_data.pk')\n",
    "print ('csv data')\n",
    "experiments_data"
   ]
  },
  {
   "cell_type": "markdown",
   "metadata": {},
   "source": [
    "##### we plot the history"
   ]
  },
  {
   "cell_type": "code",
   "execution_count": null,
   "metadata": {},
   "outputs": [
    {
     "data": {
      "image/png": "[encoded data removed]",
      "text/plain": [
       "<Figure size 1440x720 with 1 Axes>"
      ]
     },
     "metadata": {
      "needs_background": "light"
     },
     "output_type": "display_data"
    },
    {
     "data": {
      "text/html": [
       "<div>\n",
       "<style scoped>\n",
       "    .dataframe tbody tr th:only-of-type {\n",
       "        vertical-align: middle;\n",
       "    }\n",
       "\n",
       "    .dataframe tbody tr th {\n",
       "        vertical-align: top;\n",
       "    }\n",
       "\n",
       "    .dataframe thead th {\n",
       "        text-align: right;\n",
       "    }\n",
       "</style>\n",
       "<table border=\"1\" class=\"dataframe\">\n",
       "  <thead>\n",
       "    <tr style=\"text-align: right;\">\n",
       "      <th></th>\n",
       "      <th>validation_accuracy</th>\n",
       "    </tr>\n",
       "  </thead>\n",
       "  <tbody>\n",
       "    <tr>\n",
       "      <th>0</th>\n",
       "      <td>0.7</td>\n",
       "    </tr>\n",
       "  </tbody>\n",
       "</table>\n",
       "</div>"
      ],
      "text/plain": [
       "   validation_accuracy\n",
       "0                  0.7"
      ]
     },
     "metadata": {},
     "output_type": "display_data"
    }
   ],
   "source": [
    "from hpsearch.visualization.experiment_visualization import plot_multiple_histories\n",
    "\n",
    "plot_multiple_histories ([0], run_number=0, op='max', backend='matplotlib', metrics='validation_accuracy')"
   ]
  },
  {
   "cell_type": "markdown",
   "metadata": {},
   "source": [
    "#### 1.b. Now we run two experiments: \n",
    "\n",
    "##### We run the first experiment  with 20 epochs:"
   ]
  },
  {
   "cell_type": "code",
   "execution_count": null,
   "metadata": {},
   "outputs": [
    {
     "name": "stderr",
     "output_type": "stream",
     "text": [
      "script: <ipython-input-23-afeed775d1d0>, line number: 5\n"
     ]
    },
    {
     "name": "stdout",
     "output_type": "stream",
     "text": [
      "current path: /mnt/athena/hpsearch/nbs/examples\n",
      "write_manager failed with exception <class '__main__.ComplexDummyExperimentManager'> is a built-in class\n",
      "model not found in /mnt/athena/hpsearch/hpsearch/../results/experiments/00000/0\n",
      "model not found in \n",
      "fitting model with 20 epochs\n",
      "epoch 0: accuracy: 0.51\n",
      "epoch 1: accuracy: 0.52\n",
      "epoch 2: accuracy: 0.53\n",
      "epoch 3: accuracy: 0.54\n",
      "epoch 4: accuracy: 0.55\n",
      "epoch 5: accuracy: 0.56\n",
      "epoch 6: accuracy: 0.5700000000000001\n",
      "epoch 7: accuracy: 0.5800000000000001\n",
      "epoch 8: accuracy: 0.5900000000000001\n",
      "epoch 9: accuracy: 0.6000000000000001\n",
      "epoch 10: accuracy: 0.6100000000000001\n",
      "epoch 11: accuracy: 0.6200000000000001\n",
      "epoch 12: accuracy: 0.6300000000000001\n",
      "epoch 13: accuracy: 0.6400000000000001\n",
      "epoch 14: accuracy: 0.6500000000000001\n",
      "epoch 15: accuracy: 0.6600000000000001\n",
      "epoch 16: accuracy: 0.6700000000000002\n",
      "epoch 17: accuracy: 0.6800000000000002\n",
      "epoch 18: accuracy: 0.6900000000000002\n",
      "epoch 19: accuracy: 0.7000000000000002\n"
     ]
    }
   ],
   "source": [
    "# a.- remove previous experiment\n",
    "remove_previous_experiments()\n",
    "\n",
    "# b.- create first experiment with epochs=20\n",
    "em.create_experiment_and_run (parameters = {'epochs': 20});"
   ]
  },
  {
   "cell_type": "code",
   "execution_count": null,
   "metadata": {},
   "outputs": [
    {
     "name": "stdout",
     "output_type": "stream",
     "text": [
      "experiments folders: ['00000']\n",
      "\n",
      "csv data\n"
     ]
    },
    {
     "data": {
      "text/html": [
       "<div>\n",
       "<style scoped>\n",
       "    .dataframe tbody tr th:only-of-type {\n",
       "        vertical-align: middle;\n",
       "    }\n",
       "\n",
       "    .dataframe tbody tr th {\n",
       "        vertical-align: top;\n",
       "    }\n",
       "\n",
       "    .dataframe thead th {\n",
       "        text-align: right;\n",
       "    }\n",
       "</style>\n",
       "<table border=\"1\" class=\"dataframe\">\n",
       "  <thead>\n",
       "    <tr style=\"text-align: right;\">\n",
       "      <th></th>\n",
       "      <th>epochs</th>\n",
       "      <th>0_validation_accuracy</th>\n",
       "      <th>0_test_accuracy</th>\n",
       "      <th>time_0</th>\n",
       "      <th>date</th>\n",
       "      <th>0_finished</th>\n",
       "    </tr>\n",
       "  </thead>\n",
       "  <tbody>\n",
       "    <tr>\n",
       "      <th>0</th>\n",
       "      <td>20.0</td>\n",
       "      <td>0.7</td>\n",
       "      <td>0.6</td>\n",
       "      <td>0.002729</td>\n",
       "      <td>15:31:09.937517</td>\n",
       "      <td>True</td>\n",
       "    </tr>\n",
       "  </tbody>\n",
       "</table>\n",
       "</div>"
      ],
      "text/plain": [
       "   epochs  0_validation_accuracy  0_test_accuracy    time_0             date  \\\n",
       "0    20.0                    0.7              0.6  0.002729  15:31:09.937517   \n",
       "\n",
       "  0_finished  \n",
       "0       True  "
      ]
     },
     "metadata": {},
     "output_type": "display_data"
    },
    {
     "name": "stdout",
     "output_type": "stream",
     "text": [
      "weight: 0.20000000000000004, accuracy: 0.7000000000000002\n"
     ]
    }
   ],
   "source": [
    "from IPython.display import display\n",
    "print (f'experiments folders: {os.listdir(f\"{path_experiments}/experiments\")}\\n')\n",
    "\n",
    "experiments_data = pd.read_pickle (f'{path_experiments}/experiments_data.pk')\n",
    "print ('csv data')\n",
    "display(experiments_data)\n",
    "print (f'weight: {em.model.weight}, accuracy: {em.model.accuracy}')"
   ]
  },
  {
   "cell_type": "markdown",
   "metadata": {},
   "source": [
    "###### We run the second experiment  resumes from the previous one and increases the epochs to 30"
   ]
  },
  {
   "cell_type": "code",
   "execution_count": null,
   "metadata": {},
   "outputs": [
    {
     "name": "stderr",
     "output_type": "stream",
     "text": [
      "script: <ipython-input-25-77538f07abda>, line number: 5\n"
     ]
    },
    {
     "name": "stdout",
     "output_type": "stream",
     "text": [
      "write_manager failed with exception <class '__main__.ComplexDummyExperimentManager'> is a built-in class\n",
      "model not found in /mnt/athena/hpsearch/hpsearch/../results/experiments/00001/0\n",
      "fitting model with 10 epochs\n",
      "epoch 0: accuracy: 0.6900000000000002\n",
      "epoch 1: accuracy: 0.6800000000000002\n",
      "epoch 2: accuracy: 0.6700000000000002\n",
      "epoch 3: accuracy: 0.6600000000000001\n",
      "epoch 4: accuracy: 0.6500000000000001\n",
      "epoch 5: accuracy: 0.6400000000000001\n",
      "epoch 6: accuracy: 0.6300000000000001\n",
      "epoch 7: accuracy: 0.6200000000000001\n",
      "epoch 8: accuracy: 0.6100000000000001\n",
      "epoch 9: accuracy: 0.6000000000000001\n"
     ]
    }
   ],
   "source": [
    "# 4.- create second experiment with epochs=10\n",
    "em.create_experiment_and_run (parameters = {'epochs': 30}, \n",
    "                          other_parameters={'prev_epoch': True,\n",
    "                                           'name_epoch': 'epochs',\n",
    "                                           'previous_model_file_name': 'model_weights.pk'});\n"
   ]
  },
  {
   "cell_type": "code",
   "execution_count": null,
   "metadata": {},
   "outputs": [
    {
     "name": "stdout",
     "output_type": "stream",
     "text": [
      "csv data\n"
     ]
    },
    {
     "data": {
      "text/html": [
       "<div>\n",
       "<style scoped>\n",
       "    .dataframe tbody tr th:only-of-type {\n",
       "        vertical-align: middle;\n",
       "    }\n",
       "\n",
       "    .dataframe tbody tr th {\n",
       "        vertical-align: top;\n",
       "    }\n",
       "\n",
       "    .dataframe thead th {\n",
       "        text-align: right;\n",
       "    }\n",
       "</style>\n",
       "<table border=\"1\" class=\"dataframe\">\n",
       "  <thead>\n",
       "    <tr style=\"text-align: right;\">\n",
       "      <th></th>\n",
       "      <th>epochs</th>\n",
       "      <th>0_validation_accuracy</th>\n",
       "      <th>0_test_accuracy</th>\n",
       "      <th>time_0</th>\n",
       "      <th>date</th>\n",
       "      <th>0_finished</th>\n",
       "    </tr>\n",
       "  </thead>\n",
       "  <tbody>\n",
       "    <tr>\n",
       "      <th>0</th>\n",
       "      <td>20.0</td>\n",
       "      <td>0.7</td>\n",
       "      <td>0.6</td>\n",
       "      <td>0.002729</td>\n",
       "      <td>15:31:09.937517</td>\n",
       "      <td>True</td>\n",
       "    </tr>\n",
       "    <tr>\n",
       "      <th>1</th>\n",
       "      <td>30.0</td>\n",
       "      <td>0.6</td>\n",
       "      <td>0.5</td>\n",
       "      <td>0.001728</td>\n",
       "      <td>15:31:10.052230</td>\n",
       "      <td>True</td>\n",
       "    </tr>\n",
       "  </tbody>\n",
       "</table>\n",
       "</div>"
      ],
      "text/plain": [
       "   epochs  0_validation_accuracy  0_test_accuracy    time_0             date  \\\n",
       "0    20.0                    0.7              0.6  0.002729  15:31:09.937517   \n",
       "1    30.0                    0.6              0.5  0.001728  15:31:10.052230   \n",
       "\n",
       "  0_finished  \n",
       "0       True  \n",
       "1       True  "
      ]
     },
     "metadata": {},
     "output_type": "display_data"
    },
    {
     "name": "stdout",
     "output_type": "stream",
     "text": [
      "weight: 0.3000000000000001, accuracy: 0.6000000000000001\n"
     ]
    }
   ],
   "source": [
    "experiments_data = pd.read_pickle (f'{path_experiments}/experiments_data.pk')\n",
    "print ('csv data')\n",
    "display(experiments_data)\n",
    "\n",
    "new_accuracy = em.model.accuracy\n",
    "new_weight = em.model.weight\n",
    "\n",
    "assert new_weight==reference_weight\n",
    "assert new_accuracy==reference_accuracy\n",
    "\n",
    "print (f'weight: {new_weight}, accuracy: {new_accuracy}')"
   ]
  },
  {
   "cell_type": "markdown",
   "metadata": {},
   "source": [
    "##### we plot the history"
   ]
  },
  {
   "cell_type": "code",
   "execution_count": null,
   "metadata": {},
   "outputs": [
    {
     "data": {
      "image/png": "[encoded data removed]",
      "text/plain": [
       "<Figure size 1440x720 with 1 Axes>"
      ]
     },
     "metadata": {
      "needs_background": "light"
     },
     "output_type": "display_data"
    },
    {
     "data": {
      "text/html": [
       "<div>\n",
       "<style scoped>\n",
       "    .dataframe tbody tr th:only-of-type {\n",
       "        vertical-align: middle;\n",
       "    }\n",
       "\n",
       "    .dataframe tbody tr th {\n",
       "        vertical-align: top;\n",
       "    }\n",
       "\n",
       "    .dataframe thead th {\n",
       "        text-align: right;\n",
       "    }\n",
       "</style>\n",
       "<table border=\"1\" class=\"dataframe\">\n",
       "  <thead>\n",
       "    <tr style=\"text-align: right;\">\n",
       "      <th></th>\n",
       "      <th>validation_accuracy</th>\n",
       "    </tr>\n",
       "  </thead>\n",
       "  <tbody>\n",
       "    <tr>\n",
       "      <th>1</th>\n",
       "      <td>0.7</td>\n",
       "    </tr>\n",
       "  </tbody>\n",
       "</table>\n",
       "</div>"
      ],
      "text/plain": [
       "   validation_accuracy\n",
       "1                  0.7"
      ]
     },
     "metadata": {},
     "output_type": "display_data"
    }
   ],
   "source": [
    "plot_multiple_histories ([1], run_number=0, op='max', backend='matplotlib', metrics='validation_accuracy')"
   ]
  },
  {
   "cell_type": "code",
   "execution_count": null,
   "metadata": {},
   "outputs": [
    {
     "name": "stdout",
     "output_type": "stream",
     "text": [
      "Converted hpconfig.ipynb.\n",
      "Converted manager_factory.ipynb.\n",
      "Converted complex_dummy_experiment_manager.ipynb.\n",
      "Converted dummy_experiment_manager.ipynb.\n",
      "Converted example_experiment.ipynb.\n",
      "Converted example_experiment_manager.ipynb.\n",
      "Converted experiment_manager.ipynb.\n",
      "Converted index.ipynb.\n",
      "Converted change_manager.ipynb.\n",
      "Converted metric_visualization.ipynb.\n",
      "Converted print_parameters.ipynb.\n",
      "Converted query.ipynb.\n",
      "Converted experiment_utils.ipynb.\n",
      "Converted organize_experiments.ipynb.\n",
      "Converted resume_from_checkpoint.ipynb.\n",
      "Converted experiment_visualization.ipynb.\n",
      "Converted plot_utils.ipynb.\n"
     ]
    }
   ],
   "source": [
    "#hide\n",
    "from nbdev.export import *\n",
    "notebook2script(recursive=True)"
   ]
  }
 ],
 "metadata": {
  "jupytext": {
   "split_at_heading": true
  },
  "kernelspec": {
   "display_name": "Python (athena_gpu)",
   "language": "python",
   "name": "athena_gpu"
  },
  "language_info": {
   "codemirror_mode": {
    "name": "ipython",
    "version": 3
   },
   "file_extension": ".py",
   "mimetype": "text/x-python",
   "name": "python",
   "nbconvert_exporter": "python",
   "pygments_lexer": "ipython3",
   "version": "3.7.6"
  }
 },
 "nbformat": 4,
 "nbformat_minor": 4
}
