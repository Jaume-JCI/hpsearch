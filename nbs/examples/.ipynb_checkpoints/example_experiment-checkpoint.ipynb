{
 "cells": [
  {
   "cell_type": "code",
   "execution_count": null,
   "metadata": {
    "hide_input": false
   },
   "outputs": [],
   "source": [
    "#hide\n",
    "#default_exp examples.example_experiment\n",
    "from nbdev.showdoc import show_doc"
   ]
  },
  {
   "cell_type": "markdown",
   "metadata": {},
   "source": [
    "# Experiment\n",
    "\n",
    "> Simple example showing how to run an experiment"
   ]
  },
  {
   "cell_type": "code",
   "execution_count": null,
   "metadata": {},
   "outputs": [
    {
     "name": "stderr",
     "output_type": "stream",
     "text": [
      "experiment script: <ipython-input-5-cec3091ac3a9>, line: 9\n",
      "processing hyper-parameter 0 out of 6\n",
      "doing run 0 out of 1\n",
      "single input, learning rate and regularization grid search, 500 epochs\n",
      "running experiment 0\n",
      "run number: 0\n",
      "\n",
      "parameters:\n",
      "\tmy_first=0.6,\n",
      "\tmy_second=1.2,\n",
      "\tmy_third=3.0\n",
      "\n",
      "script: <ipython-input-5-cec3091ac3a9>, line number: 9\n",
      "time spent for evaluation: 3.0279159545898438e-05\n",
      "0 - my_score: -1.8\n",
      "finished experiment 0\n",
      "processing hyper-parameter 1 out of 6\n",
      "doing run 0 out of 1\n",
      "single input, learning rate and regularization grid search, 500 epochs\n",
      "running experiment 1\n",
      "run number: 0\n",
      "\n",
      "parameters:\n",
      "\tmy_first=0.6,\n",
      "\tmy_second=2.3,\n",
      "\tmy_third=3.0\n",
      "\n",
      "script: <ipython-input-5-cec3091ac3a9>, line number: 9\n",
      "time spent for evaluation: 2.8371810913085938e-05\n",
      "0 - my_score: -0.7000000000000002\n",
      "finished experiment 1\n",
      "processing hyper-parameter 2 out of 6\n",
      "doing run 0 out of 1\n",
      "single input, learning rate and regularization grid search, 500 epochs\n",
      "running experiment 2\n",
      "run number: 0\n",
      "\n",
      "parameters:\n",
      "\tmy_first=0.6,\n",
      "\tmy_second=4.0,\n",
      "\tmy_third=3.0\n",
      "\n",
      "script: <ipython-input-5-cec3091ac3a9>, line number: 9\n",
      "time spent for evaluation: 2.765655517578125e-05\n",
      "0 - my_score: 1.0\n",
      "finished experiment 2\n",
      "processing hyper-parameter 3 out of 6\n",
      "doing run 0 out of 1\n",
      "single input, learning rate and regularization grid search, 500 epochs\n",
      "running experiment 3\n",
      "run number: 0\n",
      "\n",
      "parameters:\n",
      "\tmy_first=0.3,\n",
      "\tmy_second=1.2,\n",
      "\tmy_third=3.0\n",
      "\n",
      "script: <ipython-input-5-cec3091ac3a9>, line number: 9\n",
      "time spent for evaluation: 2.7179718017578125e-05\n",
      "0 - my_score: 3.5999999999999996\n",
      "finished experiment 3\n",
      "processing hyper-parameter 4 out of 6\n",
      "doing run 0 out of 1\n",
      "single input, learning rate and regularization grid search, 500 epochs\n",
      "running experiment 4\n",
      "run number: 0\n",
      "\n",
      "parameters:\n",
      "\tmy_first=0.3,\n",
      "\tmy_second=2.3,\n",
      "\tmy_third=3.0\n",
      "\n",
      "script: <ipython-input-5-cec3091ac3a9>, line number: 9\n",
      "time spent for evaluation: 3.266334533691406e-05\n",
      "0 - my_score: 6.8999999999999995\n",
      "finished experiment 4\n",
      "processing hyper-parameter 5 out of 6\n",
      "doing run 0 out of 1\n",
      "single input, learning rate and regularization grid search, 500 epochs\n",
      "running experiment 5\n",
      "run number: 0\n",
      "\n",
      "parameters:\n",
      "\tmy_first=0.3,\n",
      "\tmy_second=4.0,\n",
      "\tmy_third=3.0\n",
      "\n",
      "script: <ipython-input-5-cec3091ac3a9>, line number: 9\n",
      "time spent for evaluation: 3.0040740966796875e-05\n",
      "0 - my_score: 12.0\n",
      "finished experiment 5\n"
     ]
    }
   ],
   "source": [
    "from hpsearch.examples.example_experiment_manager import ExampleExperimentManager\n",
    "\n",
    "import sys\n",
    "sys.path.append('.')\n",
    "\n",
    "em = ExampleExperimentManager ()\n",
    "parameters = dict(my_third=3.0)\n",
    "other_parameters = dict()\n",
    "em.grid_search (log_message='single input, learning rate and regularization grid search, 500 epochs',\n",
    "        parameters_multiple_values=dict(my_first=[0.6, 0.3], my_second=[1.2, 2.3, 4.0]),\n",
    "        parameters_single_value = parameters,\n",
    "        other_parameters=other_parameters,\n",
    "        nruns=1)"
   ]
  },
  {
   "cell_type": "code",
   "execution_count": null,
   "metadata": {},
   "outputs": [
    {
     "name": "stdout",
     "output_type": "stream",
     "text": [
      "Converted experiment_manager.ipynb.\n",
      "Converted index.ipynb.\n"
     ]
    }
   ],
   "source": [
    "#hide\n",
    "from nbdev.export import *\n",
    "notebook2script()"
   ]
  },
  {
   "cell_type": "code",
   "execution_count": null,
   "metadata": {},
   "outputs": [],
   "source": []
  }
 ],
 "metadata": {
  "jupytext": {
   "split_at_heading": true
  },
  "kernelspec": {
   "display_name": "Python (ra)",
   "language": "python",
   "name": "ra"
  }
 },
 "nbformat": 4,
 "nbformat_minor": 1
}
