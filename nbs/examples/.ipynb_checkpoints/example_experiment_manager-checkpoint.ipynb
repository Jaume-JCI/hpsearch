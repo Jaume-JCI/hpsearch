{
 "cells": [
  {
   "cell_type": "code",
   "execution_count": 8,
   "metadata": {},
   "outputs": [
    {
     "name": "stdout",
     "output_type": "stream",
     "text": [
      "The autoreload extension is already loaded. To reload it, use:\n",
      "  %reload_ext autoreload\n"
     ]
    }
   ],
   "source": [
    "%load_ext autoreload\n",
    "%autoreload 2"
   ]
  },
  {
   "cell_type": "code",
   "execution_count": 9,
   "metadata": {
    "hide_input": false
   },
   "outputs": [],
   "source": [
    "#hide\n",
    "#default_exp examples.example_experiment_manager\n",
    "from nbdev.showdoc import *\n",
    "from block_types.utils.nbdev_utils import nbdev_setup, TestRunner\n",
    "\n",
    "nbdev_setup ()\n",
    "tst = TestRunner (targets=['dummy'])"
   ]
  },
  {
   "cell_type": "markdown",
   "metadata": {},
   "source": [
    "# Example Experiment Manager\n",
    "\n",
    "> Dummy experiment manager"
   ]
  },
  {
   "cell_type": "code",
   "execution_count": 10,
   "metadata": {},
   "outputs": [],
   "source": [
    "#export\n",
    "from hpsearch.experiment_manager import ExperimentManager\n",
    "import hpsearch\n",
    "import os"
   ]
  },
  {
   "cell_type": "code",
   "execution_count": 11,
   "metadata": {},
   "outputs": [],
   "source": [
    "#for tests\n",
    "import pytest\n",
    "from hpsearch.examples.dummy_experiment_manager import generate_data"
   ]
  },
  {
   "cell_type": "markdown",
   "metadata": {},
   "source": [
    "## ExampleExperimentManager"
   ]
  },
  {
   "cell_type": "code",
   "execution_count": 12,
   "metadata": {},
   "outputs": [],
   "source": [
    "#export\n",
    "class ExampleExperimentManager (ExperimentManager):\n",
    "\n",
    "    def __init__ (self, **kwargs):\n",
    "        super().__init__(**kwargs)\n",
    "\n",
    "    def run_experiment (self, parameters={}, path_results='./results'):\n",
    "        dict_results = {}\n",
    "        if parameters.get('my_first',0) > 0.5:\n",
    "            dict_results['my_score'] = parameters.get('my_second',1) - parameters.get('my_third', 2)\n",
    "        else:\n",
    "            dict_results['my_score'] = parameters.get('my_second',1) * parameters.get('my_third', 2)\n",
    "        return dict_results\n",
    "    \n",
    "    def get_default_parameters (self, parameters):\n",
    "        defaults = dict(my_first=5,\n",
    "                        my_second=10,\n",
    "                        my_third=100)\n",
    "        return defaults\n",
    "    \n",
    "    def get_path_experiments (self, path_experiments = None, folder = None):\n",
    "        return f'{os.path.dirname(hpsearch.__file__)}/../results'"
   ]
  },
  {
   "cell_type": "markdown",
   "metadata": {
    "tags": []
   },
   "source": [
    "### Usage"
   ]
  },
  {
   "cell_type": "code",
   "execution_count": 13,
   "metadata": {},
   "outputs": [],
   "source": [
    "#exports tests.examples.test_example_experiment_manager\n",
    "def test_example_experiment_manager ():\n",
    "    em = ExampleExperimentManager (path_experiments='test_example_experiment_manager',\n",
    "                                   verbose=0)\n",
    "    parameters = dict(my_third=3.0)\n",
    "    other_parameters = dict()\n",
    "    em.grid_search (log_message='single input, learning rate and regularization grid search, 500 epochs',\n",
    "            parameters_multiple_values=dict(my_first=[0.6, 0.3], my_second=[1.2, 2.3, 4.0]),\n",
    "            parameters_single_value = parameters,\n",
    "            other_parameters=other_parameters,\n",
    "            nruns=1)\n",
    "\n",
    "    em.remove_previous_experiments()"
   ]
  },
  {
   "cell_type": "code",
   "execution_count": 14,
   "metadata": {},
   "outputs": [
    {
     "name": "stderr",
     "output_type": "stream",
     "text": [
      "write_manager failed with exception <class '__main__.ExampleExperimentManager'> is a built-in class\n",
      "write_manager failed with exception <class '__main__.ExampleExperimentManager'> is a built-in class\n",
      "write_manager failed with exception <class '__main__.ExampleExperimentManager'> is a built-in class\n",
      "write_manager failed with exception <class '__main__.ExampleExperimentManager'> is a built-in class\n",
      "write_manager failed with exception <class '__main__.ExampleExperimentManager'> is a built-in class\n",
      "write_manager failed with exception <class '__main__.ExampleExperimentManager'> is a built-in class\n"
     ]
    },
    {
     "name": "stdout",
     "output_type": "stream",
     "text": [
      "running test_example_experiment_manager\n"
     ]
    }
   ],
   "source": [
    "tst.run (test_example_experiment_manager, tag='dummy')"
   ]
  }
 ],
 "metadata": {
  "jupytext": {
   "split_at_heading": true
  },
  "kernelspec": {
   "display_name": "Python (hpsearch)",
   "language": "python",
   "name": "hpsearch"
  },
  "language_info": {
   "codemirror_mode": {
    "name": "ipython",
    "version": 3
   },
   "file_extension": ".py",
   "mimetype": "text/x-python",
   "name": "python",
   "nbconvert_exporter": "python",
   "pygments_lexer": "ipython3",
   "version": "3.9.7"
  }
 },
 "nbformat": 4,
 "nbformat_minor": 4
}
