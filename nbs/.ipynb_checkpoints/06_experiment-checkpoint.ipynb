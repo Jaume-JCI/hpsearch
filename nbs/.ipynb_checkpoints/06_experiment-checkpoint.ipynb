{
 "cells": [
  {
   "cell_type": "code",
   "execution_count": 2,
   "metadata": {
    "hide_input": false
   },
   "outputs": [],
   "source": [
    "#hide\n",
    "#default_exp experiment\n",
    "from nbdev.showdoc import show_doc"
   ]
  },
  {
   "cell_type": "markdown",
   "metadata": {},
   "source": [
    "# Experiment"
   ]
  },
  {
   "cell_type": "code",
   "execution_count": 4,
   "metadata": {},
   "outputs": [
    {
     "name": "stderr",
     "output_type": "stream",
     "text": [
      "/anaconda/envs/ra/lib/python3.8/site-packages/sklearn/utils/deprecation.py:143: FutureWarning: The sklearn.datasets.base module is  deprecated in version 0.22 and will be removed in version 0.24. The corresponding classes / functions should instead be imported from sklearn.datasets. Anything that cannot be imported from sklearn.datasets is now part of the private API.\n",
      "  warnings.warn(message, FutureWarning)\n",
      "experiment script: <ipython-input-4-2e80804c012e>, line: 9\n",
      "processing hyper-parameter 0 out of 6\n",
      "doing run 0 out of 1\n",
      "single input, learning rate and regularization grid search, 500 epochs\n",
      "running experiment 0\n",
      "run number: 0\n",
      "\n",
      "parameters:\n",
      "\tmy_first=0.6,\n",
      "\tmy_second=1.2,\n",
      "\tmy_third=3.0\n",
      "\n",
      "script: <ipython-input-4-2e80804c012e>, line number: 9\n",
      "time spent for evaluation: 3.9577484130859375e-05\n",
      "0 - my_score: -1.8\n",
      "finished experiment 0\n",
      "processing hyper-parameter 1 out of 6\n",
      "doing run 0 out of 1\n",
      "single input, learning rate and regularization grid search, 500 epochs\n",
      "running experiment 1\n",
      "run number: 0\n",
      "\n",
      "parameters:\n",
      "\tmy_first=0.6,\n",
      "\tmy_second=2.3,\n",
      "\tmy_third=3.0\n",
      "\n",
      "script: <ipython-input-4-2e80804c012e>, line number: 9\n",
      "time spent for evaluation: 0.00017571449279785156\n",
      "0 - my_score: -0.7000000000000002\n",
      "finished experiment 1\n",
      "processing hyper-parameter 2 out of 6\n",
      "doing run 0 out of 1\n",
      "single input, learning rate and regularization grid search, 500 epochs\n",
      "running experiment 2\n",
      "run number: 0\n",
      "\n",
      "parameters:\n",
      "\tmy_first=0.6,\n",
      "\tmy_second=4.0,\n",
      "\tmy_third=3.0\n",
      "\n",
      "script: <ipython-input-4-2e80804c012e>, line number: 9\n",
      "time spent for evaluation: 5.364418029785156e-05\n",
      "0 - my_score: 1.0\n",
      "finished experiment 2\n",
      "processing hyper-parameter 3 out of 6\n",
      "doing run 0 out of 1\n",
      "single input, learning rate and regularization grid search, 500 epochs\n",
      "running experiment 3\n",
      "run number: 0\n",
      "\n",
      "parameters:\n",
      "\tmy_first=0.3,\n",
      "\tmy_second=1.2,\n",
      "\tmy_third=3.0\n",
      "\n",
      "script: <ipython-input-4-2e80804c012e>, line number: 9\n",
      "time spent for evaluation: 0.0001659393310546875\n",
      "0 - my_score: 3.5999999999999996\n",
      "finished experiment 3\n",
      "processing hyper-parameter 4 out of 6\n",
      "doing run 0 out of 1\n",
      "single input, learning rate and regularization grid search, 500 epochs\n",
      "running experiment 4\n",
      "run number: 0\n",
      "\n",
      "parameters:\n",
      "\tmy_first=0.3,\n",
      "\tmy_second=2.3,\n",
      "\tmy_third=3.0\n",
      "\n",
      "script: <ipython-input-4-2e80804c012e>, line number: 9\n",
      "time spent for evaluation: 0.0001049041748046875\n",
      "0 - my_score: 6.8999999999999995\n",
      "finished experiment 4\n",
      "processing hyper-parameter 5 out of 6\n",
      "doing run 0 out of 1\n",
      "single input, learning rate and regularization grid search, 500 epochs\n",
      "running experiment 5\n",
      "run number: 0\n",
      "\n",
      "parameters:\n",
      "\tmy_first=0.3,\n",
      "\tmy_second=4.0,\n",
      "\tmy_third=3.0\n",
      "\n",
      "script: <ipython-input-4-2e80804c012e>, line number: 9\n",
      "time spent for evaluation: 0.0002257823944091797\n",
      "0 - my_score: 12.0\n",
      "finished experiment 5\n"
     ]
    }
   ],
   "source": [
    "#export\n",
    "from hpsearch.example_wrapper import ExampleExperimentManager\n",
    "\n",
    "import sys\n",
    "sys.path.append('.')\n",
    "\n",
    "em = ExampleExperimentManager ()\n",
    "parameters = dict(my_third=3.0)\n",
    "other_parameters = dict()\n",
    "em.grid_search (log_message='single input, learning rate and regularization grid search, 500 epochs',\n",
    "        parameters_multiple_values=dict(my_first=[0.6, 0.3], my_second=[1.2, 2.3, 4.0]),\n",
    "        parameters_single_value = parameters,\n",
    "        other_parameters=other_parameters,\n",
    "        nruns=1)"
   ]
  }
 ],
 "metadata": {
  "jupytext": {
   "split_at_heading": true
  },
  "kernelspec": {
   "display_name": "Python (ra)",
   "language": "python",
   "name": "ra"
  },
  "language_info": {
   "codemirror_mode": {
    "name": "ipython",
    "version": 3
   },
   "file_extension": ".py",
   "mimetype": "text/x-python",
   "name": "python",
   "nbconvert_exporter": "python",
   "pygments_lexer": "ipython3",
   "version": "3.8.2"
  }
 },
 "nbformat": 4,
 "nbformat_minor": 1
}
