{
 "cells": [
  {
   "cell_type": "code",
   "execution_count": 1,
   "metadata": {},
   "outputs": [],
   "source": [
    "#hide\n",
    "#default_exp tools.query\n",
    "from nbdev.showdoc import *\n",
    "from dsblocks.utils.nbdev_utils import nbdev_setup, TestRunner\n",
    "\n",
    "nbdev_setup ()\n",
    "tst = TestRunner (targets=['dummy'])"
   ]
  },
  {
   "cell_type": "markdown",
   "metadata": {},
   "source": [
    "# Query\n",
    "\n",
    "> Shows results for queried experiments."
   ]
  },
  {
   "cell_type": "code",
   "execution_count": 2,
   "metadata": {},
   "outputs": [],
   "source": [
    "#export\n",
    "import warnings\n",
    "warnings.filterwarnings('ignore')\n",
    "\n",
    "import argparse\n",
    "import sys\n",
    "sys.path.append('.')\n",
    "from collections import namedtuple\n",
    "from IPython.display import display\n",
    "import pandas as pd\n",
    "\n",
    "# hpsearch api\n",
    "import hpsearch.utils.experiment_utils as ut\n",
    "import hpsearch.config.hp_defaults as dflt"
   ]
  },
  {
   "cell_type": "code",
   "execution_count": 3,
   "metadata": {},
   "outputs": [],
   "source": [
    "#for tests\n",
    "import pytest\n",
    "import os\n",
    "\n",
    "from hpsearch.examples.dummy_experiment_manager import generate_data"
   ]
  },
  {
   "cell_type": "markdown",
   "metadata": {},
   "source": [
    "## query"
   ]
  },
  {
   "cell_type": "code",
   "execution_count": 4,
   "metadata": {},
   "outputs": [],
   "source": [
    "# export\n",
    "def query (pv = {}, pf = {}, pall=[], pexact=False, folder=None, \n",
    "           metric=None, experiments=None, runs=None, op=None, stats=['mean'], \n",
    "           results=0, other_parameters=False):\n",
    "    \n",
    "    \n",
    "    result_query = ut.query(folder_experiments=folder, suffix_results='_'+metric, experiments=experiments,\n",
    "                        classes=runs, parameters_fixed=pf, parameters_variable=pv, parameters_all = pall, exact_match=pexact, \n",
    "                        ascending=op=='min', stats=stats, min_results=results, query_other_parameters=other_parameters)\n",
    "    \n",
    "    if not other_parameters:\n",
    "        result_query = result_query[1]\n",
    "        result_query = result_query['stats']\n",
    "\n",
    "    return result_query "
   ]
  },
  {
   "cell_type": "markdown",
   "metadata": {
    "tags": []
   },
   "source": [
    "## do_query_and_show"
   ]
  },
  {
   "cell_type": "code",
   "execution_count": 5,
   "metadata": {},
   "outputs": [],
   "source": [
    "#export\n",
    "def do_query_and_show (pall=[], best=None, compact=0, exact=False, experiments=None, pf={}, last=None, \n",
    "                       metric=None, op=None, other_parameters=False, input_range=None, results=0, \n",
    "                       folder=None, round=2, runs=None, show=False, stats=['mean'], pv={},\n",
    "                       sort=None, display_all_columns=False, col_width=None, \n",
    "                       manager_path=dflt.manager_path):\n",
    "    \n",
    "    from hpsearch.config.hpconfig import get_experiment_manager\n",
    "    em = get_experiment_manager (manager_path=manager_path)\n",
    "    if folder is not None or metric is not None or op is not None:\n",
    "        if folder is not None: em.set_path_experiments (folder=folder)\n",
    "        if metric is not None: em.key_score = metric\n",
    "        if op is not None: em.op = op       \n",
    "        \n",
    "    df = query (pv=pv, pf=pf, pall=pall, pexact=exact, folder=em.folder, \n",
    "               metric=em.key_score, experiments=experiments, runs=runs, op=em.op, stats=stats, \n",
    "               results=results, other_parameters=other_parameters)\n",
    "    df = ut.replace_with_default_values (df)\n",
    "    if sort is not None:\n",
    "        assert sort in df.columns, f'sort must be a column in dataframe ({df.columns})'\n",
    "        df = df.sort_values(by=sort, ascending=(em.op=='min'))\n",
    "    if experiments is None:\n",
    "        experiments = []\n",
    "    if last is not None:\n",
    "        experiments += range(df.index.max()-last+1, df.index.max()+1)\n",
    "    if best is not None:\n",
    "        experiments += list(df.index[:best])\n",
    "    if input_range is not None:\n",
    "        assert len(input_range) == 2\n",
    "        experiments += range(input_range[0], input_range[1])\n",
    "    if len(experiments) > 0: \n",
    "        df = df.loc[[x for x in df.index if x in experiments]]\n",
    "    \n",
    "    if col_width is not None:\n",
    "        pd.set_option('max_colwidth', col_width)\n",
    "    \n",
    "    if (round is not None) and (round != 0):\n",
    "        df[stats] = df[stats].round(round)\n",
    "    if display_all_columns:\n",
    "        display (df)\n",
    "    \n",
    "    print (f'experiments: {list(df.index)}')\n",
    "    print (f'min experiment #: {df.index.min()}, max experiment #: {df.index.max()}')\n",
    "\n",
    "    print ('result of query:')\n",
    "    _, df2 = ut.get_parameters_unique(df)\n",
    "    #df2.index.name = 'experiment #'\n",
    "    if compact > 0:\n",
    "        prev_cols = df2.columns.copy()\n",
    "        df2, dict_rename = ut.compact_parameters (df2, compact)\n",
    "        for k, kor in zip(df2.columns, prev_cols):\n",
    "            print (f'{k} => {kor}')\n",
    "    display (df2)\n",
    "            \n",
    "    if show:\n",
    "        import hpsearch.visualization.plot_visdom as pv\n",
    "        pv.plot_multiple_histories(df.index, folder=em.folder,metrics=em.key_score, parameters=None)\n",
    "    return df2"
   ]
  },
  {
   "cell_type": "markdown",
   "metadata": {},
   "source": [
    "### Run simple query\n",
    "\n",
    "Run query without any condition, retrieving all the data"
   ]
  },
  {
   "cell_type": "code",
   "execution_count": 6,
   "metadata": {},
   "outputs": [],
   "source": [
    "#export tests.tools.test_query\n",
    "def test_do_query_and_show ():\n",
    "    path_results = 'do_query_and_show'\n",
    "    em = generate_data (path_results)\n",
    "    \n",
    "    df=do_query_and_show (manager_path=em.manager_path)\n",
    "    assert sorted(os.listdir (f'test_{path_results}/debug/managers'))==['fields', 'info', 'logs.txt', 'whole']\n",
    "    assert sorted(os.listdir (f'test_{path_results}/debug/managers/whole'))==['DummyExperimentManager-default.pk', 'last.pk']\n",
    "    assert (df.epochs == [15,30,5,15,30,15,5,30,5]).all()\n",
    "    assert (df.offset == [.6,.6,.6,.3,.3,.1,.3,.1,.1]).all()\n",
    "    assert (df['mean'] == [0.97, 0.89, 0.81, 0.8 , 0.65, 0.55, 0.46, 0.44, 0.19]).all()\n",
    "\n",
    "    em.remove_previous_experiments (parent=True)"
   ]
  },
  {
   "cell_type": "code",
   "execution_count": 7,
   "metadata": {},
   "outputs": [
    {
     "name": "stdout",
     "output_type": "stream",
     "text": [
      "running test_do_query_and_show\n",
      "total data examined: 9 experiments with at least 5 runs done for each one\n",
      "experiments: [5, 8, 2, 4, 7, 3, 1, 6, 0]\n",
      "min experiment #: 0, max experiment #: 8\n",
      "result of query:\n"
     ]
    },
    {
     "data": {
      "text/html": [
       "<div>\n",
       "<style scoped>\n",
       "    .dataframe tbody tr th:only-of-type {\n",
       "        vertical-align: middle;\n",
       "    }\n",
       "\n",
       "    .dataframe tbody tr th {\n",
       "        vertical-align: top;\n",
       "    }\n",
       "\n",
       "    .dataframe thead th {\n",
       "        text-align: right;\n",
       "    }\n",
       "</style>\n",
       "<table border=\"1\" class=\"dataframe\">\n",
       "  <thead>\n",
       "    <tr style=\"text-align: right;\">\n",
       "      <th></th>\n",
       "      <th>epochs</th>\n",
       "      <th>offset</th>\n",
       "      <th>mean</th>\n",
       "    </tr>\n",
       "  </thead>\n",
       "  <tbody>\n",
       "    <tr>\n",
       "      <th>5</th>\n",
       "      <td>15.0</td>\n",
       "      <td>0.6</td>\n",
       "      <td>0.97</td>\n",
       "    </tr>\n",
       "    <tr>\n",
       "      <th>8</th>\n",
       "      <td>30.0</td>\n",
       "      <td>0.6</td>\n",
       "      <td>0.89</td>\n",
       "    </tr>\n",
       "    <tr>\n",
       "      <th>2</th>\n",
       "      <td>5.0</td>\n",
       "      <td>0.6</td>\n",
       "      <td>0.81</td>\n",
       "    </tr>\n",
       "    <tr>\n",
       "      <th>4</th>\n",
       "      <td>15.0</td>\n",
       "      <td>0.3</td>\n",
       "      <td>0.80</td>\n",
       "    </tr>\n",
       "    <tr>\n",
       "      <th>7</th>\n",
       "      <td>30.0</td>\n",
       "      <td>0.3</td>\n",
       "      <td>0.65</td>\n",
       "    </tr>\n",
       "    <tr>\n",
       "      <th>3</th>\n",
       "      <td>15.0</td>\n",
       "      <td>0.1</td>\n",
       "      <td>0.55</td>\n",
       "    </tr>\n",
       "    <tr>\n",
       "      <th>1</th>\n",
       "      <td>5.0</td>\n",
       "      <td>0.3</td>\n",
       "      <td>0.46</td>\n",
       "    </tr>\n",
       "    <tr>\n",
       "      <th>6</th>\n",
       "      <td>30.0</td>\n",
       "      <td>0.1</td>\n",
       "      <td>0.44</td>\n",
       "    </tr>\n",
       "    <tr>\n",
       "      <th>0</th>\n",
       "      <td>5.0</td>\n",
       "      <td>0.1</td>\n",
       "      <td>0.19</td>\n",
       "    </tr>\n",
       "  </tbody>\n",
       "</table>\n",
       "</div>"
      ],
      "text/plain": [
       "   epochs  offset  mean\n",
       "5    15.0     0.6  0.97\n",
       "8    30.0     0.6  0.89\n",
       "2     5.0     0.6  0.81\n",
       "4    15.0     0.3  0.80\n",
       "7    30.0     0.3  0.65\n",
       "3    15.0     0.1  0.55\n",
       "1     5.0     0.3  0.46\n",
       "6    30.0     0.1  0.44\n",
       "0     5.0     0.1  0.19"
      ]
     },
     "metadata": {},
     "output_type": "display_data"
    }
   ],
   "source": [
    "tst.run (test_do_query_and_show, tag='dummy')"
   ]
  },
  {
   "cell_type": "markdown",
   "metadata": {
    "tags": []
   },
   "source": [
    "### Change the metric that we want to show"
   ]
  },
  {
   "cell_type": "code",
   "execution_count": 8,
   "metadata": {},
   "outputs": [],
   "source": [
    "#export tests.tools.test_query\n",
    "def test_do_query_and_show_change_metric ():\n",
    "    em = generate_data ('do_query_and_show_change_metric')\n",
    "    \n",
    "    do_query_and_show (metric='test_accuracy', manager_path=em.manager_path)\n",
    "    \n",
    "    em.remove_previous_experiments (parent=True)"
   ]
  },
  {
   "cell_type": "code",
   "execution_count": 9,
   "metadata": {},
   "outputs": [
    {
     "name": "stdout",
     "output_type": "stream",
     "text": [
      "running test_do_query_and_show_change_metric\n",
      "total data examined: 9 experiments with at least 5 runs done for each one\n",
      "experiments: [5, 8, 2, 4, 3, 7, 1, 0, 6]\n",
      "min experiment #: 0, max experiment #: 8\n",
      "result of query:\n"
     ]
    },
    {
     "data": {
      "text/html": [
       "<div>\n",
       "<style scoped>\n",
       "    .dataframe tbody tr th:only-of-type {\n",
       "        vertical-align: middle;\n",
       "    }\n",
       "\n",
       "    .dataframe tbody tr th {\n",
       "        vertical-align: top;\n",
       "    }\n",
       "\n",
       "    .dataframe thead th {\n",
       "        text-align: right;\n",
       "    }\n",
       "</style>\n",
       "<table border=\"1\" class=\"dataframe\">\n",
       "  <thead>\n",
       "    <tr style=\"text-align: right;\">\n",
       "      <th></th>\n",
       "      <th>epochs</th>\n",
       "      <th>offset</th>\n",
       "      <th>mean</th>\n",
       "    </tr>\n",
       "  </thead>\n",
       "  <tbody>\n",
       "    <tr>\n",
       "      <th>5</th>\n",
       "      <td>15.0</td>\n",
       "      <td>0.6</td>\n",
       "      <td>0.93</td>\n",
       "    </tr>\n",
       "    <tr>\n",
       "      <th>8</th>\n",
       "      <td>30.0</td>\n",
       "      <td>0.6</td>\n",
       "      <td>0.86</td>\n",
       "    </tr>\n",
       "    <tr>\n",
       "      <th>2</th>\n",
       "      <td>5.0</td>\n",
       "      <td>0.6</td>\n",
       "      <td>0.83</td>\n",
       "    </tr>\n",
       "    <tr>\n",
       "      <th>4</th>\n",
       "      <td>15.0</td>\n",
       "      <td>0.3</td>\n",
       "      <td>0.61</td>\n",
       "    </tr>\n",
       "    <tr>\n",
       "      <th>3</th>\n",
       "      <td>15.0</td>\n",
       "      <td>0.1</td>\n",
       "      <td>0.61</td>\n",
       "    </tr>\n",
       "    <tr>\n",
       "      <th>7</th>\n",
       "      <td>30.0</td>\n",
       "      <td>0.3</td>\n",
       "      <td>0.58</td>\n",
       "    </tr>\n",
       "    <tr>\n",
       "      <th>1</th>\n",
       "      <td>5.0</td>\n",
       "      <td>0.3</td>\n",
       "      <td>0.52</td>\n",
       "    </tr>\n",
       "    <tr>\n",
       "      <th>0</th>\n",
       "      <td>5.0</td>\n",
       "      <td>0.1</td>\n",
       "      <td>0.30</td>\n",
       "    </tr>\n",
       "    <tr>\n",
       "      <th>6</th>\n",
       "      <td>30.0</td>\n",
       "      <td>0.1</td>\n",
       "      <td>0.29</td>\n",
       "    </tr>\n",
       "  </tbody>\n",
       "</table>\n",
       "</div>"
      ],
      "text/plain": [
       "   epochs  offset  mean\n",
       "5    15.0     0.6  0.93\n",
       "8    30.0     0.6  0.86\n",
       "2     5.0     0.6  0.83\n",
       "4    15.0     0.3  0.61\n",
       "3    15.0     0.1  0.61\n",
       "7    30.0     0.3  0.58\n",
       "1     5.0     0.3  0.52\n",
       "0     5.0     0.1  0.30\n",
       "6    30.0     0.1  0.29"
      ]
     },
     "metadata": {},
     "output_type": "display_data"
    }
   ],
   "source": [
    "tst.run (test_do_query_and_show_change_metric, tag='dummy')"
   ]
  },
  {
   "cell_type": "markdown",
   "metadata": {},
   "source": [
    "### Run query with conditions"
   ]
  },
  {
   "cell_type": "code",
   "execution_count": 10,
   "metadata": {},
   "outputs": [],
   "source": [
    "#export tests.tools.test_query\n",
    "def test_do_query_and_show_with_conditions ():\n",
    "    em = generate_data ('do_query_and_show_with_conditions')\n",
    "    \n",
    "    do_query_and_show (metric='validation_accuracy', op='max', pf={'epochs':15}, \n",
    "                       manager_path=em.manager_path)\n",
    "    \n",
    "    em.remove_previous_experiments (parent=True)"
   ]
  },
  {
   "cell_type": "code",
   "execution_count": 11,
   "metadata": {},
   "outputs": [
    {
     "name": "stdout",
     "output_type": "stream",
     "text": [
      "running test_do_query_and_show_with_conditions\n",
      "total data examined: 3 experiments with at least 5 runs done for each one\n",
      "experiments: [5, 4, 3]\n",
      "min experiment #: 3, max experiment #: 5\n",
      "result of query:\n"
     ]
    },
    {
     "data": {
      "text/html": [
       "<div>\n",
       "<style scoped>\n",
       "    .dataframe tbody tr th:only-of-type {\n",
       "        vertical-align: middle;\n",
       "    }\n",
       "\n",
       "    .dataframe tbody tr th {\n",
       "        vertical-align: top;\n",
       "    }\n",
       "\n",
       "    .dataframe thead th {\n",
       "        text-align: right;\n",
       "    }\n",
       "</style>\n",
       "<table border=\"1\" class=\"dataframe\">\n",
       "  <thead>\n",
       "    <tr style=\"text-align: right;\">\n",
       "      <th></th>\n",
       "      <th>offset</th>\n",
       "      <th>mean</th>\n",
       "    </tr>\n",
       "  </thead>\n",
       "  <tbody>\n",
       "    <tr>\n",
       "      <th>5</th>\n",
       "      <td>0.6</td>\n",
       "      <td>0.97</td>\n",
       "    </tr>\n",
       "    <tr>\n",
       "      <th>4</th>\n",
       "      <td>0.3</td>\n",
       "      <td>0.80</td>\n",
       "    </tr>\n",
       "    <tr>\n",
       "      <th>3</th>\n",
       "      <td>0.1</td>\n",
       "      <td>0.55</td>\n",
       "    </tr>\n",
       "  </tbody>\n",
       "</table>\n",
       "</div>"
      ],
      "text/plain": [
       "   offset  mean\n",
       "5     0.6  0.97\n",
       "4     0.3  0.80\n",
       "3     0.1  0.55"
      ]
     },
     "metadata": {},
     "output_type": "display_data"
    }
   ],
   "source": [
    "tst.run (test_do_query_and_show_with_conditions, tag='dummy')"
   ]
  },
  {
   "cell_type": "markdown",
   "metadata": {},
   "source": [
    "### Run query that sorts by maximum"
   ]
  },
  {
   "cell_type": "code",
   "execution_count": 12,
   "metadata": {},
   "outputs": [],
   "source": [
    "#export tests.tools.test_query\n",
    "def test_do_query_and_show_sort_maximum ():\n",
    "    em = generate_data ('do_query_and_show_sort_maximum')\n",
    "    \n",
    "    do_query_and_show (metric='validation_accuracy', op='max', sort='max', \n",
    "                       stats=['mean', 'min', 'max'], manager_path=em.manager_path);\n",
    "    \n",
    "    em.remove_previous_experiments (parent=True)"
   ]
  },
  {
   "cell_type": "code",
   "execution_count": 13,
   "metadata": {},
   "outputs": [
    {
     "name": "stdout",
     "output_type": "stream",
     "text": [
      "running test_do_query_and_show_sort_maximum\n",
      "total data examined: 9 experiments with at least 5 runs done for each one\n",
      "experiments: [5, 8, 4, 2, 7, 3, 6, 1, 0]\n",
      "min experiment #: 0, max experiment #: 8\n",
      "result of query:\n"
     ]
    },
    {
     "data": {
      "text/html": [
       "<div>\n",
       "<style scoped>\n",
       "    .dataframe tbody tr th:only-of-type {\n",
       "        vertical-align: middle;\n",
       "    }\n",
       "\n",
       "    .dataframe tbody tr th {\n",
       "        vertical-align: top;\n",
       "    }\n",
       "\n",
       "    .dataframe thead th {\n",
       "        text-align: right;\n",
       "    }\n",
       "</style>\n",
       "<table border=\"1\" class=\"dataframe\">\n",
       "  <thead>\n",
       "    <tr style=\"text-align: right;\">\n",
       "      <th></th>\n",
       "      <th>epochs</th>\n",
       "      <th>offset</th>\n",
       "      <th>mean</th>\n",
       "      <th>min</th>\n",
       "      <th>max</th>\n",
       "    </tr>\n",
       "  </thead>\n",
       "  <tbody>\n",
       "    <tr>\n",
       "      <th>5</th>\n",
       "      <td>15.0</td>\n",
       "      <td>0.6</td>\n",
       "      <td>0.97</td>\n",
       "      <td>0.86</td>\n",
       "      <td>1.00</td>\n",
       "    </tr>\n",
       "    <tr>\n",
       "      <th>8</th>\n",
       "      <td>30.0</td>\n",
       "      <td>0.6</td>\n",
       "      <td>0.89</td>\n",
       "      <td>0.83</td>\n",
       "      <td>1.00</td>\n",
       "    </tr>\n",
       "    <tr>\n",
       "      <th>4</th>\n",
       "      <td>15.0</td>\n",
       "      <td>0.3</td>\n",
       "      <td>0.80</td>\n",
       "      <td>0.70</td>\n",
       "      <td>0.87</td>\n",
       "    </tr>\n",
       "    <tr>\n",
       "      <th>2</th>\n",
       "      <td>5.0</td>\n",
       "      <td>0.6</td>\n",
       "      <td>0.81</td>\n",
       "      <td>0.76</td>\n",
       "      <td>0.86</td>\n",
       "    </tr>\n",
       "    <tr>\n",
       "      <th>7</th>\n",
       "      <td>30.0</td>\n",
       "      <td>0.3</td>\n",
       "      <td>0.65</td>\n",
       "      <td>0.57</td>\n",
       "      <td>0.75</td>\n",
       "    </tr>\n",
       "    <tr>\n",
       "      <th>3</th>\n",
       "      <td>15.0</td>\n",
       "      <td>0.1</td>\n",
       "      <td>0.55</td>\n",
       "      <td>0.48</td>\n",
       "      <td>0.63</td>\n",
       "    </tr>\n",
       "    <tr>\n",
       "      <th>6</th>\n",
       "      <td>30.0</td>\n",
       "      <td>0.1</td>\n",
       "      <td>0.44</td>\n",
       "      <td>0.36</td>\n",
       "      <td>0.52</td>\n",
       "    </tr>\n",
       "    <tr>\n",
       "      <th>1</th>\n",
       "      <td>5.0</td>\n",
       "      <td>0.3</td>\n",
       "      <td>0.46</td>\n",
       "      <td>0.40</td>\n",
       "      <td>0.49</td>\n",
       "    </tr>\n",
       "    <tr>\n",
       "      <th>0</th>\n",
       "      <td>5.0</td>\n",
       "      <td>0.1</td>\n",
       "      <td>0.19</td>\n",
       "      <td>0.12</td>\n",
       "      <td>0.28</td>\n",
       "    </tr>\n",
       "  </tbody>\n",
       "</table>\n",
       "</div>"
      ],
      "text/plain": [
       "   epochs  offset  mean   min   max\n",
       "5    15.0     0.6  0.97  0.86  1.00\n",
       "8    30.0     0.6  0.89  0.83  1.00\n",
       "4    15.0     0.3  0.80  0.70  0.87\n",
       "2     5.0     0.6  0.81  0.76  0.86\n",
       "7    30.0     0.3  0.65  0.57  0.75\n",
       "3    15.0     0.1  0.55  0.48  0.63\n",
       "6    30.0     0.1  0.44  0.36  0.52\n",
       "1     5.0     0.3  0.46  0.40  0.49\n",
       "0     5.0     0.1  0.19  0.12  0.28"
      ]
     },
     "metadata": {},
     "output_type": "display_data"
    }
   ],
   "source": [
    "tst.run (test_do_query_and_show_sort_maximum, tag='dummy')"
   ]
  },
  {
   "cell_type": "markdown",
   "metadata": {
    "tags": []
   },
   "source": [
    "## parse_args"
   ]
  },
  {
   "cell_type": "code",
   "execution_count": 14,
   "metadata": {},
   "outputs": [],
   "source": [
    "#export\n",
    "def parse_args(args):\n",
    "    default_always = ''\n",
    "\n",
    "    parser = argparse.ArgumentParser(description='show metrics in visdom browser')\n",
    "    # Datasets\n",
    "    parser.add_argument('-m','--metric', type=str, default=None, help=\"metrics scores\")\n",
    "    parser.add_argument('--stats', type=str, nargs='+', default=['mean'],  help=\"statistics for multiple runs\")\n",
    "    parser.add_argument('--experiments', type=int, nargs='+', default=None,  help=\"experiment numbers\")\n",
    "    parser.add_argument('--folder', type=str, default=None)\n",
    "    parser.add_argument('-v', type=str, default='{}', help='variable parameters')\n",
    "    parser.add_argument('-f', type=str, default='{}', help='fixed parameters')\n",
    "    parser.add_argument('-a', type=str, default='[]', help='all parameters')\n",
    "    parser.add_argument('-e', '--exact', action= \"store_true\", help='exact match') \n",
    "    parser.add_argument('--last', type=int, default=None, help='include these last experiments') \n",
    "    parser.add_argument('--best', type=int, default=None, help='include these best experiments')\n",
    "    parser.add_argument('--range', type=int, nargs='+', default=None, help='include this range of experiments')\n",
    "    parser.add_argument('-c', '--compact', type=int, default=0, help='compact parameters to this number of characters') \n",
    "    parser.add_argument('--results', type=int, default=0, help='min number of results to consider') \n",
    "    parser.add_argument('-s', '--show', action= \"store_true\")\n",
    "    parser.add_argument('--other', action= \"store_true\")\n",
    "    parser.add_argument('--always', type=str, default = default_always)\n",
    "    parser.add_argument('--op', default=None, type=str)\n",
    "    parser.add_argument('--round', default=2, type=int, help='round scores to this number of digits')\n",
    "    parser.add_argument('--runs', default=None, type=int, nargs='+', help='query restricted to run number provided')\n",
    "    parser.add_argument('--sort', default=None, type=str)\n",
    "    parser.add_argument('--width', default=None, type=int, help='max column width')\n",
    "    parser.add_argument('-p', '--path', default=dflt.manager_path, type=str)\n",
    "    pars = parser.parse_args(args)\n",
    "\n",
    "    pars.v = eval(pars.v)\n",
    "    pars.f = eval(pars.f)\n",
    "    pars.a = eval(pars.a)\n",
    "    pars.always = eval('dict(%s)' %pars.always)\n",
    "    pars.f.update(pars.always)\n",
    "\n",
    "    print (f'dictionary of query terms={pars.f}')\n",
    "    \n",
    "    return pars"
   ]
  },
  {
   "cell_type": "markdown",
   "metadata": {},
   "source": [
    "## parse_arguments_and_query"
   ]
  },
  {
   "cell_type": "code",
   "execution_count": 15,
   "metadata": {},
   "outputs": [],
   "source": [
    "#export\n",
    "def parse_arguments_and_query (args):\n",
    "    \n",
    "    pars = parse_args(args)\n",
    "\n",
    "    do_query_and_show (pall=pars.a, best = pars.best, compact = pars.compact, exact=pars.exact, \n",
    "                       experiments=pars.experiments, pf = pars.f, last=pars.last, \n",
    "                       metric = pars.metric, op = pars.op, other_parameters=pars.other,\n",
    "                       input_range=pars.range, results=pars.results, folder= pars.folder, \n",
    "                       round=pars.round, runs = pars.runs, show=pars.show, stats=pars.stats,\n",
    "                       pv = pars.v, sort=pars.sort, col_width=pars.width, manager_path=pars.path)\n",
    "\n",
    "def main():\n",
    "    parse_arguments_and_query (sys.argv[1:])"
   ]
  },
  {
   "cell_type": "markdown",
   "metadata": {},
   "source": [
    "### Change the metric that we want to show"
   ]
  },
  {
   "cell_type": "code",
   "execution_count": 18,
   "metadata": {},
   "outputs": [],
   "source": [
    "#export tests.tools.test_query\n",
    "def test_parse_arguments_and_query_change_metric ():\n",
    "    em = generate_data ('parse_arguments_and_query_change_metric')\n",
    "    \n",
    "    command = f'--metric test_accuracy -p {em.manager_path}'\n",
    "    parse_arguments_and_query (command.split())\n",
    "    \n",
    "    em.remove_previous_experiments (parent=True)"
   ]
  },
  {
   "cell_type": "code",
   "execution_count": 19,
   "metadata": {},
   "outputs": [
    {
     "name": "stdout",
     "output_type": "stream",
     "text": [
      "running test_parse_arguments_and_query_change_metric\n",
      "dictionary of query terms={}\n",
      "total data examined: 9 experiments with at least 5 runs done for each one\n",
      "experiments: [5, 8, 2, 4, 3, 7, 1, 0, 6]\n",
      "min experiment #: 0, max experiment #: 8\n",
      "result of query:\n"
     ]
    },
    {
     "data": {
      "text/html": [
       "<div>\n",
       "<style scoped>\n",
       "    .dataframe tbody tr th:only-of-type {\n",
       "        vertical-align: middle;\n",
       "    }\n",
       "\n",
       "    .dataframe tbody tr th {\n",
       "        vertical-align: top;\n",
       "    }\n",
       "\n",
       "    .dataframe thead th {\n",
       "        text-align: right;\n",
       "    }\n",
       "</style>\n",
       "<table border=\"1\" class=\"dataframe\">\n",
       "  <thead>\n",
       "    <tr style=\"text-align: right;\">\n",
       "      <th></th>\n",
       "      <th>epochs</th>\n",
       "      <th>offset</th>\n",
       "      <th>mean</th>\n",
       "    </tr>\n",
       "  </thead>\n",
       "  <tbody>\n",
       "    <tr>\n",
       "      <th>5</th>\n",
       "      <td>15.0</td>\n",
       "      <td>0.6</td>\n",
       "      <td>0.93</td>\n",
       "    </tr>\n",
       "    <tr>\n",
       "      <th>8</th>\n",
       "      <td>30.0</td>\n",
       "      <td>0.6</td>\n",
       "      <td>0.86</td>\n",
       "    </tr>\n",
       "    <tr>\n",
       "      <th>2</th>\n",
       "      <td>5.0</td>\n",
       "      <td>0.6</td>\n",
       "      <td>0.83</td>\n",
       "    </tr>\n",
       "    <tr>\n",
       "      <th>4</th>\n",
       "      <td>15.0</td>\n",
       "      <td>0.3</td>\n",
       "      <td>0.61</td>\n",
       "    </tr>\n",
       "    <tr>\n",
       "      <th>3</th>\n",
       "      <td>15.0</td>\n",
       "      <td>0.1</td>\n",
       "      <td>0.61</td>\n",
       "    </tr>\n",
       "    <tr>\n",
       "      <th>7</th>\n",
       "      <td>30.0</td>\n",
       "      <td>0.3</td>\n",
       "      <td>0.58</td>\n",
       "    </tr>\n",
       "    <tr>\n",
       "      <th>1</th>\n",
       "      <td>5.0</td>\n",
       "      <td>0.3</td>\n",
       "      <td>0.52</td>\n",
       "    </tr>\n",
       "    <tr>\n",
       "      <th>0</th>\n",
       "      <td>5.0</td>\n",
       "      <td>0.1</td>\n",
       "      <td>0.30</td>\n",
       "    </tr>\n",
       "    <tr>\n",
       "      <th>6</th>\n",
       "      <td>30.0</td>\n",
       "      <td>0.1</td>\n",
       "      <td>0.29</td>\n",
       "    </tr>\n",
       "  </tbody>\n",
       "</table>\n",
       "</div>"
      ],
      "text/plain": [
       "   epochs  offset  mean\n",
       "5    15.0     0.6  0.93\n",
       "8    30.0     0.6  0.86\n",
       "2     5.0     0.6  0.83\n",
       "4    15.0     0.3  0.61\n",
       "3    15.0     0.1  0.61\n",
       "7    30.0     0.3  0.58\n",
       "1     5.0     0.3  0.52\n",
       "0     5.0     0.1  0.30\n",
       "6    30.0     0.1  0.29"
      ]
     },
     "metadata": {},
     "output_type": "display_data"
    }
   ],
   "source": [
    "tst.run (test_parse_arguments_and_query_change_metric, tag='dummy')"
   ]
  },
  {
   "cell_type": "markdown",
   "metadata": {},
   "source": [
    "### Run query with conditions"
   ]
  },
  {
   "cell_type": "code",
   "execution_count": 20,
   "metadata": {},
   "outputs": [],
   "source": [
    "#export tests.tools.test_query\n",
    "def test_parse_arguments_and_query_with_conditions ():\n",
    "    em = generate_data ('parse_arguments_and_query_with_conditions')\n",
    "\n",
    "    command = f'--metric validation_accuracy --op max -f dict(epochs=15) -p {em.manager_path}'\n",
    "    parse_arguments_and_query (command.split())\n",
    "\n",
    "    em.remove_previous_experiments (parent=True)"
   ]
  },
  {
   "cell_type": "code",
   "execution_count": 21,
   "metadata": {},
   "outputs": [
    {
     "name": "stdout",
     "output_type": "stream",
     "text": [
      "running test_parse_arguments_and_query_with_conditions\n",
      "dictionary of query terms={'epochs': 15}\n",
      "total data examined: 3 experiments with at least 5 runs done for each one\n",
      "experiments: [5, 4, 3]\n",
      "min experiment #: 3, max experiment #: 5\n",
      "result of query:\n"
     ]
    },
    {
     "data": {
      "text/html": [
       "<div>\n",
       "<style scoped>\n",
       "    .dataframe tbody tr th:only-of-type {\n",
       "        vertical-align: middle;\n",
       "    }\n",
       "\n",
       "    .dataframe tbody tr th {\n",
       "        vertical-align: top;\n",
       "    }\n",
       "\n",
       "    .dataframe thead th {\n",
       "        text-align: right;\n",
       "    }\n",
       "</style>\n",
       "<table border=\"1\" class=\"dataframe\">\n",
       "  <thead>\n",
       "    <tr style=\"text-align: right;\">\n",
       "      <th></th>\n",
       "      <th>offset</th>\n",
       "      <th>mean</th>\n",
       "    </tr>\n",
       "  </thead>\n",
       "  <tbody>\n",
       "    <tr>\n",
       "      <th>5</th>\n",
       "      <td>0.6</td>\n",
       "      <td>0.97</td>\n",
       "    </tr>\n",
       "    <tr>\n",
       "      <th>4</th>\n",
       "      <td>0.3</td>\n",
       "      <td>0.80</td>\n",
       "    </tr>\n",
       "    <tr>\n",
       "      <th>3</th>\n",
       "      <td>0.1</td>\n",
       "      <td>0.55</td>\n",
       "    </tr>\n",
       "  </tbody>\n",
       "</table>\n",
       "</div>"
      ],
      "text/plain": [
       "   offset  mean\n",
       "5     0.6  0.97\n",
       "4     0.3  0.80\n",
       "3     0.1  0.55"
      ]
     },
     "metadata": {},
     "output_type": "display_data"
    }
   ],
   "source": [
    "tst.run (test_parse_arguments_and_query_with_conditions, tag='dummy')"
   ]
  }
 ],
 "metadata": {
  "kernelspec": {
   "display_name": "Python (hpsearch)",
   "language": "python",
   "name": "hpsearch"
  },
  "language_info": {
   "codemirror_mode": {
    "name": "ipython",
    "version": 3
   },
   "file_extension": ".py",
   "mimetype": "text/x-python",
   "name": "python",
   "nbconvert_exporter": "python",
   "pygments_lexer": "ipython3",
   "version": "3.9.7"
  },
  "toc-autonumbering": false,
  "toc-showcode": false,
  "toc-showmarkdowntxt": false
 },
 "nbformat": 4,
 "nbformat_minor": 4
}
