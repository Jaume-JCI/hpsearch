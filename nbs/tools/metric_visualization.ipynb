{
 "cells": [
  {
   "cell_type": "code",
   "execution_count": null,
   "metadata": {},
   "outputs": [],
   "source": [
    "#hide\n",
    "#default_exp tools.metric_visualization\n",
    "from nbdev.showdoc import show_doc"
   ]
  },
  {
   "cell_type": "markdown",
   "metadata": {},
   "source": [
    "# Metric visualization\n",
    "\n",
    "> Visualize metrics collected from experiments."
   ]
  },
  {
   "cell_type": "code",
   "execution_count": null,
   "metadata": {},
   "outputs": [],
   "source": [
    "#export\n",
    "import warnings\n",
    "warnings.filterwarnings('ignore')\n",
    "\n",
    "import argparse\n",
    "import sys\n",
    "sys.path.append('.')\n",
    "sys.path.append('src')\n",
    "import pandas as pd\n",
    "import pickle\n",
    "import hpsearch.visualization.experiment_visualization as ev\n",
    "from hpsearch.config.hpconfig import get_path_experiments\n",
    "from hpsearch.config.hpconfig import get_default_operations\n",
    "\n",
    "def metric_visualization (exps=[-1,-2], run_number=0, root_folder=None, metric=None, op = None,\n",
    "                         parameters=None, name_file='model_history.pk', include_loss=False, backend='plotly'):\n",
    "    \n",
    "    default_operations = get_default_operations ()\n",
    "    if root_folder is None:\n",
    "        root_folder = default_operations.get('root', 'results')\n",
    "    if metric is None:\n",
    "        metric = default_operations.get('metric', 'accuracy')\n",
    "    if op is None:\n",
    "        op = default_operations.get('op', 'min')\n",
    "        \n",
    "    # metrics\n",
    "    if include_loss:\n",
    "        metrics = [metric, 'loss']\n",
    "    else:\n",
    "        metrics = [metric]\n",
    "        \n",
    "    for i in range(len(exps)):\n",
    "        if exps[i] == -1:\n",
    "            root_path = get_path_experiments (folder = root_folder)\n",
    "            experiment_number = pickle.load(open('%s/current_experiment_number.pkl' %root_path,'rb'))\n",
    "            exps[i] = experiment_number\n",
    "\n",
    "        if exps[i] == -2:\n",
    "            root_path = get_path_experiments (folder = root_folder)\n",
    "            df = pd.read_csv('%s/experiments_data.csv' %root_path,index_col=0)\n",
    "            if op=='max':\n",
    "                exps[i] = df['0_%s' %metric].idxmax()\n",
    "            else:\n",
    "                exps[i] = df['0_%s' %metric].idxmin()\n",
    "    \n",
    "    ev.plot_multiple_histories(exps, run_number=run_number, root_folder=root_folder,metrics=metrics, \n",
    "                                   parameters=parameters, name_file=name_file, backend=backend)\n",
    "\n",
    "def main():\n",
    "\n",
    "    parser = argparse.ArgumentParser(description='show metrics about experiments') \n",
    "    # Datasets\n",
    "    parser.add_argument('-e', nargs='+', default=[-1, -2], type=int,\n",
    "                        help=\"experiments\")\n",
    "    parser.add_argument('--metric', nargs='+', type=str, default=None, help=\"metrics\")\n",
    "    parser.add_argument('--root', type=str, default=None)\n",
    "    parser.add_argument('-l','--labels',nargs='+', default=None, type=str)\n",
    "    parser.add_argument('--run', default=0, type=int)\n",
    "    parser.add_argument('--op', default=None, type=str)\n",
    "    parser.add_argument('--backend', default='visdom', type=str)\n",
    "    parser.add_argument('--file', default='model_history.pk', type=str)\n",
    "\n",
    "    pars = parser.parse_args()\n",
    "\n",
    "    ev.plot_multiple_histories(pars.e, run_number=pars.run, root_folder=pars.root, metrics=pars.metric, \n",
    "                               parameters=pars.labels, name_file=pars.file, backend=pars.backend)\n",
    "    \n",
    "\n"
   ]
  },
  {
   "cell_type": "markdown",
   "metadata": {},
   "source": [
    "## Usage examples"
   ]
  },
  {
   "cell_type": "markdown",
   "metadata": {},
   "source": [
    "### Produce data"
   ]
  },
  {
   "cell_type": "code",
   "execution_count": null,
   "metadata": {},
   "outputs": [
    {
     "name": "stderr",
     "output_type": "stream",
     "text": [
      "experiment script: /mnt/athena/hpsearch/hpsearch/examples/dummy_experiment_manager.py, line: 170\n",
      "processing hyper-parameter 0 out of 9\n",
      "doing run 0 out of 5\n",
      "fixed rate, multiple epochs values\n",
      "running experiment 0\n",
      "run number: 0\n",
      "\n",
      "parameters:\n",
      "\tepochs=5,\n",
      "\tnoise=0.1,\n",
      "\toffset=0.1,\n",
      "\trate=0.03\n",
      "\n",
      "script: /mnt/athena/hpsearch/hpsearch/examples/dummy_experiment_manager.py, line number: 170\n",
      "time spent on this experiment: 0.0009765625\n",
      "0 - validation_accuracy: 0.14012943140764184\n",
      "0 - test_accuracy: 0.3647237379229983\n",
      "finished experiment 0\n",
      "processing hyper-parameter 0 out of 9\n",
      "doing run 1 out of 5\n",
      "fixed rate, multiple epochs values\n",
      "running experiment 0\n",
      "run number: 1\n",
      "\n",
      "parameters:\n",
      "\tepochs=5,\n",
      "\tnoise=0.1,\n",
      "\toffset=0.1,\n",
      "\trate=0.03\n",
      "\n",
      "script: /mnt/athena/hpsearch/hpsearch/examples/dummy_experiment_manager.py, line number: 170\n",
      "time spent on this experiment: 0.0010151863098144531\n",
      "1 - validation_accuracy: 0.11191441967751731\n",
      "1 - test_accuracy: 0.3503128915636447\n",
      "finished experiment 0\n",
      "processing hyper-parameter 0 out of 9\n",
      "doing run 2 out of 5\n",
      "fixed rate, multiple epochs values\n",
      "running experiment 0\n",
      "run number: 2\n",
      "\n",
      "parameters:\n",
      "\tepochs=5,\n",
      "\tnoise=0.1,\n",
      "\toffset=0.1,\n",
      "\trate=0.03\n",
      "\n",
      "script: /mnt/athena/hpsearch/hpsearch/examples/dummy_experiment_manager.py, line number: 170\n",
      "time spent on this experiment: 0.0009303092956542969\n",
      "2 - validation_accuracy: 0.31540597290664185\n",
      "2 - test_accuracy: 0.4973322842348692\n",
      "finished experiment 0\n",
      "processing hyper-parameter 0 out of 9\n",
      "doing run 3 out of 5\n",
      "fixed rate, multiple epochs values\n",
      "running experiment 0\n",
      "run number: 3\n",
      "\n",
      "parameters:\n",
      "\tepochs=5,\n",
      "\tnoise=0.1,\n",
      "\toffset=0.1,\n",
      "\trate=0.03\n",
      "\n",
      "script: /mnt/athena/hpsearch/hpsearch/examples/dummy_experiment_manager.py, line number: 170\n",
      "time spent on this experiment: 0.001009225845336914\n",
      "3 - validation_accuracy: 0.22378969389492342\n",
      "3 - test_accuracy: 0.3683605636905151\n",
      "finished experiment 0\n",
      "processing hyper-parameter 0 out of 9\n",
      "doing run 4 out of 5\n",
      "fixed rate, multiple epochs values\n"
     ]
    },
    {
     "name": "stdout",
     "output_type": "stream",
     "text": [
      "current path: /mnt/athena/hpsearch/nbs/tools\n",
      "current path: /mnt/athena/hpsearch/nbs/tools\n",
      "current path: /mnt/athena/hpsearch/nbs/tools\n",
      "fitting model with 5 epochs\n",
      "epoch 0: accuracy: 0.13\n",
      "epoch 1: accuracy: 0.16\n",
      "epoch 2: accuracy: 0.19\n",
      "epoch 3: accuracy: 0.22\n",
      "epoch 4: accuracy: 0.25\n",
      "current path: /mnt/athena/hpsearch/nbs/tools\n",
      "fitting model with 5 epochs\n",
      "epoch 0: accuracy: 0.13\n",
      "epoch 1: accuracy: 0.16\n",
      "epoch 2: accuracy: 0.19\n",
      "epoch 3: accuracy: 0.22\n",
      "epoch 4: accuracy: 0.25\n",
      "current path: /mnt/athena/hpsearch/nbs/tools\n",
      "fitting model with 5 epochs\n",
      "epoch 0: accuracy: 0.13\n",
      "epoch 1: accuracy: 0.16\n",
      "epoch 2: accuracy: 0.19\n",
      "epoch 3: accuracy: 0.22\n",
      "epoch 4: accuracy: 0.25\n",
      "current path: /mnt/athena/hpsearch/nbs/tools\n",
      "fitting model with 5 epochs\n",
      "epoch 0: accuracy: 0.13\n",
      "epoch 1: accuracy: 0.16\n",
      "epoch 2: accuracy: 0.19\n",
      "epoch 3: accuracy: 0.22\n",
      "epoch 4: accuracy: 0.25\n",
      "current path: /mnt/athena/hpsearch/nbs/tools\n"
     ]
    },
    {
     "name": "stderr",
     "output_type": "stream",
     "text": [
      "running experiment 0\n",
      "run number: 4\n",
      "\n",
      "parameters:\n",
      "\tepochs=5,\n",
      "\tnoise=0.1,\n",
      "\toffset=0.1,\n",
      "\trate=0.03\n",
      "\n",
      "script: /mnt/athena/hpsearch/hpsearch/examples/dummy_experiment_manager.py, line number: 170\n",
      "time spent on this experiment: 0.0009627342224121094\n",
      "4 - validation_accuracy: 0.05362652687810021\n",
      "4 - test_accuracy: 0.4001966424382293\n",
      "finished experiment 0\n",
      "processing hyper-parameter 1 out of 9\n",
      "doing run 0 out of 5\n",
      "fixed rate, multiple epochs values\n",
      "running experiment 1\n",
      "run number: 0\n",
      "\n",
      "parameters:\n",
      "\tepochs=5,\n",
      "\tnoise=0.1,\n",
      "\toffset=0.3,\n",
      "\trate=0.03\n",
      "\n",
      "script: /mnt/athena/hpsearch/hpsearch/examples/dummy_experiment_manager.py, line number: 170\n",
      "time spent on this experiment: 0.0009274482727050781\n",
      "0 - validation_accuracy: 0.37301047102278073\n",
      "0 - test_accuracy: 0.5307034594258178\n",
      "finished experiment 1\n",
      "processing hyper-parameter 1 out of 9\n",
      "doing run 1 out of 5\n",
      "fixed rate, multiple epochs values\n",
      "running experiment 1\n",
      "run number: 1\n",
      "\n",
      "parameters:\n",
      "\tepochs=5,\n",
      "\tnoise=0.1,\n",
      "\toffset=0.3,\n",
      "\trate=0.03\n",
      "\n",
      "script: /mnt/athena/hpsearch/hpsearch/examples/dummy_experiment_manager.py, line number: 170\n",
      "time spent on this experiment: 0.0008845329284667969\n",
      "1 - validation_accuracy: 0.3701869853784786\n",
      "1 - test_accuracy: 0.48135133510327416\n",
      "finished experiment 1\n",
      "processing hyper-parameter 1 out of 9\n",
      "doing run 2 out of 5\n",
      "fixed rate, multiple epochs values\n",
      "running experiment 1\n",
      "run number: 2\n",
      "\n",
      "parameters:\n",
      "\tepochs=5,\n",
      "\tnoise=0.1,\n",
      "\toffset=0.3,\n",
      "\trate=0.03\n",
      "\n",
      "script: /mnt/athena/hpsearch/hpsearch/examples/dummy_experiment_manager.py, line number: 170\n",
      "time spent on this experiment: 0.0009057521820068359\n",
      "2 - validation_accuracy: 0.5824754562982735\n",
      "2 - test_accuracy: 0.8362105892650363\n",
      "finished experiment 1\n",
      "processing hyper-parameter 1 out of 9\n",
      "doing run 3 out of 5\n",
      "fixed rate, multiple epochs values\n",
      "running experiment 1\n",
      "run number: 3\n",
      "\n",
      "parameters:\n",
      "\tepochs=5,\n",
      "\tnoise=0.1,\n",
      "\toffset=0.3,\n",
      "\trate=0.03\n",
      "\n",
      "script: /mnt/athena/hpsearch/hpsearch/examples/dummy_experiment_manager.py, line number: 170\n",
      "time spent on this experiment: 0.0009293556213378906\n",
      "3 - validation_accuracy: 0.3756882555517881\n",
      "3 - test_accuracy: 0.5206029024053057\n"
     ]
    },
    {
     "name": "stdout",
     "output_type": "stream",
     "text": [
      "fitting model with 5 epochs\n",
      "epoch 0: accuracy: 0.13\n",
      "epoch 1: accuracy: 0.16\n",
      "epoch 2: accuracy: 0.19\n",
      "epoch 3: accuracy: 0.22\n",
      "epoch 4: accuracy: 0.25\n",
      "current path: /mnt/athena/hpsearch/nbs/tools\n",
      "fitting model with 5 epochs\n",
      "epoch 0: accuracy: 0.32999999999999996\n",
      "epoch 1: accuracy: 0.36\n",
      "epoch 2: accuracy: 0.39\n",
      "epoch 3: accuracy: 0.42000000000000004\n",
      "epoch 4: accuracy: 0.45000000000000007\n",
      "current path: /mnt/athena/hpsearch/nbs/tools\n",
      "fitting model with 5 epochs\n",
      "epoch 0: accuracy: 0.32999999999999996\n",
      "epoch 1: accuracy: 0.36\n",
      "epoch 2: accuracy: 0.39\n",
      "epoch 3: accuracy: 0.42000000000000004\n",
      "epoch 4: accuracy: 0.45000000000000007\n",
      "current path: /mnt/athena/hpsearch/nbs/tools\n",
      "fitting model with 5 epochs\n",
      "epoch 0: accuracy: 0.32999999999999996\n",
      "epoch 1: accuracy: 0.36\n",
      "epoch 2: accuracy: 0.39\n",
      "epoch 3: accuracy: 0.42000000000000004\n",
      "epoch 4: accuracy: 0.45000000000000007\n",
      "current path: /mnt/athena/hpsearch/nbs/tools\n",
      "fitting model with 5 epochs\n",
      "epoch 0: accuracy: 0.32999999999999996\n",
      "epoch 1: accuracy: 0.36\n",
      "epoch 2: accuracy: 0.39\n",
      "epoch 3: accuracy: 0.42000000000000004\n",
      "epoch 4: accuracy: 0.45000000000000007\n"
     ]
    },
    {
     "name": "stderr",
     "output_type": "stream",
     "text": [
      "finished experiment 1\n",
      "processing hyper-parameter 1 out of 9\n",
      "doing run 4 out of 5\n",
      "fixed rate, multiple epochs values\n",
      "running experiment 1\n",
      "run number: 4\n",
      "\n",
      "parameters:\n",
      "\tepochs=5,\n",
      "\tnoise=0.1,\n",
      "\toffset=0.3,\n",
      "\trate=0.03\n",
      "\n",
      "script: /mnt/athena/hpsearch/hpsearch/examples/dummy_experiment_manager.py, line number: 170\n",
      "time spent on this experiment: 0.0010535717010498047\n",
      "4 - validation_accuracy: 0.6566030731008694\n",
      "4 - test_accuracy: 0.5126222544718295\n",
      "finished experiment 1\n",
      "processing hyper-parameter 2 out of 9\n",
      "doing run 0 out of 5\n",
      "fixed rate, multiple epochs values\n",
      "running experiment 2\n",
      "run number: 0\n",
      "\n",
      "parameters:\n",
      "\tepochs=5,\n",
      "\tnoise=0.1,\n",
      "\toffset=0.6,\n",
      "\trate=0.03\n",
      "\n",
      "script: /mnt/athena/hpsearch/hpsearch/examples/dummy_experiment_manager.py, line number: 170\n",
      "time spent on this experiment: 0.0008869171142578125\n",
      "0 - validation_accuracy: 0.712950253226684\n",
      "0 - test_accuracy: 0.8778271711370931\n",
      "finished experiment 2\n",
      "processing hyper-parameter 2 out of 9\n",
      "doing run 1 out of 5\n",
      "fixed rate, multiple epochs values\n",
      "running experiment 2\n",
      "run number: 1\n",
      "\n",
      "parameters:\n",
      "\tepochs=5,\n",
      "\tnoise=0.1,\n",
      "\toffset=0.6,\n",
      "\trate=0.03\n",
      "\n",
      "script: /mnt/athena/hpsearch/hpsearch/examples/dummy_experiment_manager.py, line number: 170\n",
      "time spent on this experiment: 0.0009548664093017578\n",
      "1 - validation_accuracy: 0.756565373541572\n",
      "1 - test_accuracy: 0.8166808685300619\n",
      "finished experiment 2\n",
      "processing hyper-parameter 2 out of 9\n",
      "doing run 2 out of 5\n",
      "fixed rate, multiple epochs values\n",
      "running experiment 2\n",
      "run number: 2\n",
      "\n",
      "parameters:\n",
      "\tepochs=5,\n",
      "\tnoise=0.1,\n",
      "\toffset=0.6,\n",
      "\trate=0.03\n",
      "\n",
      "script: /mnt/athena/hpsearch/hpsearch/examples/dummy_experiment_manager.py, line number: 170\n",
      "time spent on this experiment: 0.0008838176727294922\n",
      "2 - validation_accuracy: 0.7133514802488425\n",
      "2 - test_accuracy: 0.5756675793831505\n",
      "finished experiment 2\n",
      "processing hyper-parameter 2 out of 9\n",
      "doing run 3 out of 5\n",
      "fixed rate, multiple epochs values\n"
     ]
    },
    {
     "name": "stdout",
     "output_type": "stream",
     "text": [
      "current path: /mnt/athena/hpsearch/nbs/tools\n",
      "fitting model with 5 epochs\n",
      "epoch 0: accuracy: 0.32999999999999996\n",
      "epoch 1: accuracy: 0.36\n",
      "epoch 2: accuracy: 0.39\n",
      "epoch 3: accuracy: 0.42000000000000004\n",
      "epoch 4: accuracy: 0.45000000000000007\n",
      "current path: /mnt/athena/hpsearch/nbs/tools\n",
      "fitting model with 5 epochs\n",
      "epoch 0: accuracy: 0.63\n",
      "epoch 1: accuracy: 0.66\n",
      "epoch 2: accuracy: 0.6900000000000001\n",
      "epoch 3: accuracy: 0.7200000000000001\n",
      "epoch 4: accuracy: 0.7500000000000001\n",
      "current path: /mnt/athena/hpsearch/nbs/tools\n",
      "fitting model with 5 epochs\n",
      "epoch 0: accuracy: 0.63\n",
      "epoch 1: accuracy: 0.66\n",
      "epoch 2: accuracy: 0.6900000000000001\n",
      "epoch 3: accuracy: 0.7200000000000001\n",
      "epoch 4: accuracy: 0.7500000000000001\n",
      "current path: /mnt/athena/hpsearch/nbs/tools\n",
      "fitting model with 5 epochs\n",
      "epoch 0: accuracy: 0.63\n",
      "epoch 1: accuracy: 0.66\n",
      "epoch 2: accuracy: 0.6900000000000001\n",
      "epoch 3: accuracy: 0.7200000000000001\n",
      "epoch 4: accuracy: 0.7500000000000001\n",
      "current path: /mnt/athena/hpsearch/nbs/tools\n"
     ]
    },
    {
     "name": "stderr",
     "output_type": "stream",
     "text": [
      "running experiment 2\n",
      "run number: 3\n",
      "\n",
      "parameters:\n",
      "\tepochs=5,\n",
      "\tnoise=0.1,\n",
      "\toffset=0.6,\n",
      "\trate=0.03\n",
      "\n",
      "script: /mnt/athena/hpsearch/hpsearch/examples/dummy_experiment_manager.py, line number: 170\n",
      "time spent on this experiment: 0.0009818077087402344\n",
      "3 - validation_accuracy: 0.8252698700219077\n",
      "3 - test_accuracy: 1.0\n",
      "finished experiment 2\n",
      "processing hyper-parameter 2 out of 9\n",
      "doing run 4 out of 5\n",
      "fixed rate, multiple epochs values\n",
      "running experiment 2\n",
      "run number: 4\n",
      "\n",
      "parameters:\n",
      "\tepochs=5,\n",
      "\tnoise=0.1,\n",
      "\toffset=0.6,\n",
      "\trate=0.03\n",
      "\n",
      "script: /mnt/athena/hpsearch/hpsearch/examples/dummy_experiment_manager.py, line number: 170\n",
      "time spent on this experiment: 0.00090789794921875\n",
      "4 - validation_accuracy: 0.6876818441961442\n",
      "4 - test_accuracy: 0.8785183970337698\n",
      "finished experiment 2\n",
      "processing hyper-parameter 3 out of 9\n",
      "doing run 0 out of 5\n",
      "fixed rate, multiple epochs values\n",
      "running experiment 3\n",
      "run number: 0\n",
      "\n",
      "parameters:\n",
      "\tepochs=15,\n",
      "\tnoise=0.1,\n",
      "\toffset=0.1,\n",
      "\trate=0.03\n",
      "\n",
      "script: /mnt/athena/hpsearch/hpsearch/examples/dummy_experiment_manager.py, line number: 170\n",
      "time spent on this experiment: 0.0019311904907226562\n",
      "0 - validation_accuracy: 0.4980992064413561\n",
      "0 - test_accuracy: 0.29947200153662523\n",
      "finished experiment 3\n",
      "processing hyper-parameter 3 out of 9\n",
      "doing run 1 out of 5\n",
      "fixed rate, multiple epochs values\n",
      "running experiment 3\n",
      "run number: 1\n",
      "\n",
      "parameters:\n",
      "\tepochs=15,\n",
      "\tnoise=0.1,\n",
      "\toffset=0.1,\n",
      "\trate=0.03\n",
      "\n",
      "script: /mnt/athena/hpsearch/hpsearch/examples/dummy_experiment_manager.py, line number: 170\n",
      "time spent on this experiment: 0.0020499229431152344\n",
      "1 - validation_accuracy: 0.5918670005859682\n",
      "1 - test_accuracy: 0.578683264234735\n",
      "finished experiment 3\n",
      "processing hyper-parameter 3 out of 9\n",
      "doing run 2 out of 5\n",
      "fixed rate, multiple epochs values\n",
      "running experiment 3\n",
      "run number: 2\n",
      "\n",
      "parameters:\n",
      "\tepochs=15,\n",
      "\tnoise=0.1,\n",
      "\toffset=0.1,\n",
      "\trate=0.03\n",
      "\n"
     ]
    },
    {
     "name": "stdout",
     "output_type": "stream",
     "text": [
      "fitting model with 5 epochs\n",
      "epoch 0: accuracy: 0.63\n",
      "epoch 1: accuracy: 0.66\n",
      "epoch 2: accuracy: 0.6900000000000001\n",
      "epoch 3: accuracy: 0.7200000000000001\n",
      "epoch 4: accuracy: 0.7500000000000001\n",
      "current path: /mnt/athena/hpsearch/nbs/tools\n",
      "fitting model with 5 epochs\n",
      "epoch 0: accuracy: 0.63\n",
      "epoch 1: accuracy: 0.66\n",
      "epoch 2: accuracy: 0.6900000000000001\n",
      "epoch 3: accuracy: 0.7200000000000001\n",
      "epoch 4: accuracy: 0.7500000000000001\n",
      "current path: /mnt/athena/hpsearch/nbs/tools\n",
      "fitting model with 15 epochs\n",
      "epoch 0: accuracy: 0.13\n",
      "epoch 1: accuracy: 0.16\n",
      "epoch 2: accuracy: 0.19\n",
      "epoch 3: accuracy: 0.22\n",
      "epoch 4: accuracy: 0.25\n",
      "epoch 5: accuracy: 0.28\n",
      "epoch 6: accuracy: 0.31000000000000005\n",
      "epoch 7: accuracy: 0.3400000000000001\n",
      "epoch 8: accuracy: 0.3700000000000001\n",
      "epoch 9: accuracy: 0.40000000000000013\n",
      "epoch 10: accuracy: 0.43000000000000016\n",
      "epoch 11: accuracy: 0.4600000000000002\n",
      "epoch 12: accuracy: 0.4900000000000002\n",
      "epoch 13: accuracy: 0.5200000000000002\n",
      "epoch 14: accuracy: 0.5500000000000003\n",
      "current path: /mnt/athena/hpsearch/nbs/tools\n",
      "fitting model with 15 epochs\n",
      "epoch 0: accuracy: 0.13\n",
      "epoch 1: accuracy: 0.16\n",
      "epoch 2: accuracy: 0.19\n",
      "epoch 3: accuracy: 0.22\n",
      "epoch 4: accuracy: 0.25\n",
      "epoch 5: accuracy: 0.28\n",
      "epoch 6: accuracy: 0.31000000000000005\n",
      "epoch 7: accuracy: 0.3400000000000001\n",
      "epoch 8: accuracy: 0.3700000000000001\n",
      "epoch 9: accuracy: 0.40000000000000013\n",
      "epoch 10: accuracy: 0.43000000000000016\n",
      "epoch 11: accuracy: 0.4600000000000002\n",
      "epoch 12: accuracy: 0.4900000000000002\n",
      "epoch 13: accuracy: 0.5200000000000002\n",
      "epoch 14: accuracy: 0.5500000000000003\n",
      "current path: /mnt/athena/hpsearch/nbs/tools\n"
     ]
    },
    {
     "name": "stderr",
     "output_type": "stream",
     "text": [
      "script: /mnt/athena/hpsearch/hpsearch/examples/dummy_experiment_manager.py, line number: 170\n",
      "time spent on this experiment: 0.002168893814086914\n",
      "2 - validation_accuracy: 0.38681669044029476\n",
      "2 - test_accuracy: 0.5549863521515148\n",
      "finished experiment 3\n",
      "processing hyper-parameter 3 out of 9\n",
      "doing run 3 out of 5\n",
      "fixed rate, multiple epochs values\n",
      "running experiment 3\n",
      "run number: 3\n",
      "\n",
      "parameters:\n",
      "\tepochs=15,\n",
      "\tnoise=0.1,\n",
      "\toffset=0.1,\n",
      "\trate=0.03\n",
      "\n",
      "script: /mnt/athena/hpsearch/hpsearch/examples/dummy_experiment_manager.py, line number: 170\n",
      "time spent on this experiment: 0.0018639564514160156\n",
      "3 - validation_accuracy: 0.553770893188583\n",
      "3 - test_accuracy: 0.4530244113572408\n",
      "finished experiment 3\n",
      "processing hyper-parameter 3 out of 9\n",
      "doing run 4 out of 5\n",
      "fixed rate, multiple epochs values\n",
      "running experiment 3\n",
      "run number: 4\n",
      "\n",
      "parameters:\n",
      "\tepochs=15,\n",
      "\tnoise=0.1,\n",
      "\toffset=0.1,\n",
      "\trate=0.03\n",
      "\n",
      "script: /mnt/athena/hpsearch/hpsearch/examples/dummy_experiment_manager.py, line number: 170\n",
      "time spent on this experiment: 0.001878976821899414\n",
      "4 - validation_accuracy: 0.7114643449037137\n",
      "4 - test_accuracy: 0.5951049624224427\n",
      "finished experiment 3\n",
      "processing hyper-parameter 4 out of 9\n",
      "doing run 0 out of 5\n",
      "fixed rate, multiple epochs values\n",
      "running experiment 4\n",
      "run number: 0\n",
      "\n",
      "parameters:\n",
      "\tepochs=15,\n",
      "\tnoise=0.1,\n",
      "\toffset=0.3,\n",
      "\trate=0.03\n",
      "\n",
      "script: /mnt/athena/hpsearch/hpsearch/examples/dummy_experiment_manager.py, line number: 170\n",
      "time spent on this experiment: 0.001875162124633789\n",
      "0 - validation_accuracy: 0.7324225453675136\n",
      "0 - test_accuracy: 0.5364761767560371\n",
      "finished experiment 4\n",
      "processing hyper-parameter 4 out of 9\n",
      "doing run 1 out of 5\n",
      "fixed rate, multiple epochs values\n",
      "running experiment 4\n"
     ]
    },
    {
     "name": "stdout",
     "output_type": "stream",
     "text": [
      "fitting model with 15 epochs\n",
      "epoch 0: accuracy: 0.13\n",
      "epoch 1: accuracy: 0.16\n",
      "epoch 2: accuracy: 0.19\n",
      "epoch 3: accuracy: 0.22\n",
      "epoch 4: accuracy: 0.25\n",
      "epoch 5: accuracy: 0.28\n",
      "epoch 6: accuracy: 0.31000000000000005\n",
      "epoch 7: accuracy: 0.3400000000000001\n",
      "epoch 8: accuracy: 0.3700000000000001\n",
      "epoch 9: accuracy: 0.40000000000000013\n",
      "epoch 10: accuracy: 0.43000000000000016\n",
      "epoch 11: accuracy: 0.4600000000000002\n",
      "epoch 12: accuracy: 0.4900000000000002\n",
      "epoch 13: accuracy: 0.5200000000000002\n",
      "epoch 14: accuracy: 0.5500000000000003\n",
      "current path: /mnt/athena/hpsearch/nbs/tools\n",
      "fitting model with 15 epochs\n",
      "epoch 0: accuracy: 0.13\n",
      "epoch 1: accuracy: 0.16\n",
      "epoch 2: accuracy: 0.19\n",
      "epoch 3: accuracy: 0.22\n",
      "epoch 4: accuracy: 0.25\n",
      "epoch 5: accuracy: 0.28\n",
      "epoch 6: accuracy: 0.31000000000000005\n",
      "epoch 7: accuracy: 0.3400000000000001\n",
      "epoch 8: accuracy: 0.3700000000000001\n",
      "epoch 9: accuracy: 0.40000000000000013\n",
      "epoch 10: accuracy: 0.43000000000000016\n",
      "epoch 11: accuracy: 0.4600000000000002\n",
      "epoch 12: accuracy: 0.4900000000000002\n",
      "epoch 13: accuracy: 0.5200000000000002\n",
      "epoch 14: accuracy: 0.5500000000000003\n",
      "current path: /mnt/athena/hpsearch/nbs/tools\n",
      "fitting model with 15 epochs\n",
      "epoch 0: accuracy: 0.13\n",
      "epoch 1: accuracy: 0.16\n",
      "epoch 2: accuracy: 0.19\n",
      "epoch 3: accuracy: 0.22\n",
      "epoch 4: accuracy: 0.25\n",
      "epoch 5: accuracy: 0.28\n",
      "epoch 6: accuracy: 0.31000000000000005\n",
      "epoch 7: accuracy: 0.3400000000000001\n",
      "epoch 8: accuracy: 0.3700000000000001\n",
      "epoch 9: accuracy: 0.40000000000000013\n",
      "epoch 10: accuracy: 0.43000000000000016\n",
      "epoch 11: accuracy: 0.4600000000000002\n",
      "epoch 12: accuracy: 0.4900000000000002\n",
      "epoch 13: accuracy: 0.5200000000000002\n",
      "epoch 14: accuracy: 0.5500000000000003\n",
      "current path: /mnt/athena/hpsearch/nbs/tools\n",
      "fitting model with 15 epochs\n",
      "epoch 0: accuracy: 0.32999999999999996\n",
      "epoch 1: accuracy: 0.36\n",
      "epoch 2: accuracy: 0.39\n",
      "epoch 3: accuracy: 0.42000000000000004\n",
      "epoch 4: accuracy: 0.45000000000000007\n",
      "epoch 5: accuracy: 0.4800000000000001\n",
      "epoch 6: accuracy: 0.5100000000000001\n",
      "epoch 7: accuracy: 0.5400000000000001\n",
      "epoch 8: accuracy: 0.5700000000000002\n",
      "epoch 9: accuracy: 0.6000000000000002\n",
      "epoch 10: accuracy: 0.6300000000000002\n",
      "epoch 11: accuracy: 0.6600000000000003\n",
      "epoch 12: accuracy: 0.6900000000000003\n",
      "epoch 13: accuracy: 0.7200000000000003\n",
      "epoch 14: accuracy: 0.7500000000000003\n",
      "current path: /mnt/athena/hpsearch/nbs/tools\n"
     ]
    },
    {
     "name": "stderr",
     "output_type": "stream",
     "text": [
      "run number: 1\n",
      "\n",
      "parameters:\n",
      "\tepochs=15,\n",
      "\tnoise=0.1,\n",
      "\toffset=0.3,\n",
      "\trate=0.03\n",
      "\n",
      "script: /mnt/athena/hpsearch/hpsearch/examples/dummy_experiment_manager.py, line number: 170\n",
      "time spent on this experiment: 0.002135038375854492\n",
      "1 - validation_accuracy: 0.7903268728029318\n",
      "1 - test_accuracy: 0.7558074549296894\n",
      "finished experiment 4\n",
      "processing hyper-parameter 4 out of 9\n",
      "doing run 2 out of 5\n",
      "fixed rate, multiple epochs values\n",
      "running experiment 4\n",
      "run number: 2\n",
      "\n",
      "parameters:\n",
      "\tepochs=15,\n",
      "\tnoise=0.1,\n",
      "\toffset=0.3,\n",
      "\trate=0.03\n",
      "\n",
      "script: /mnt/athena/hpsearch/hpsearch/examples/dummy_experiment_manager.py, line number: 170\n",
      "time spent on this experiment: 0.002797842025756836\n",
      "2 - validation_accuracy: 0.6222221767793068\n",
      "2 - test_accuracy: 0.5587050979403413\n",
      "finished experiment 4\n",
      "processing hyper-parameter 4 out of 9\n",
      "doing run 3 out of 5\n",
      "fixed rate, multiple epochs values\n",
      "running experiment 4\n",
      "run number: 3\n",
      "\n",
      "parameters:\n",
      "\tepochs=15,\n",
      "\tnoise=0.1,\n",
      "\toffset=0.3,\n",
      "\trate=0.03\n",
      "\n",
      "script: /mnt/athena/hpsearch/hpsearch/examples/dummy_experiment_manager.py, line number: 170\n",
      "time spent on this experiment: 0.001956462860107422\n",
      "3 - validation_accuracy: 0.6475140499716661\n",
      "3 - test_accuracy: 0.6502571742314627\n",
      "finished experiment 4\n",
      "processing hyper-parameter 4 out of 9\n",
      "doing run 4 out of 5\n",
      "fixed rate, multiple epochs values\n",
      "running experiment 4\n",
      "run number: 4\n",
      "\n",
      "parameters:\n",
      "\tepochs=15,\n",
      "\tnoise=0.1,\n",
      "\toffset=0.3,\n",
      "\trate=0.03\n",
      "\n",
      "script: /mnt/athena/hpsearch/hpsearch/examples/dummy_experiment_manager.py, line number: 170\n",
      "time spent on this experiment: 0.0018486976623535156\n",
      "4 - validation_accuracy: 0.7129293016835414\n",
      "4 - test_accuracy: 0.7630330385599451\n",
      "finished experiment 4\n",
      "processing hyper-parameter 5 out of 9\n",
      "doing run 0 out of 5\n",
      "fixed rate, multiple epochs values\n"
     ]
    },
    {
     "name": "stdout",
     "output_type": "stream",
     "text": [
      "fitting model with 15 epochs\n",
      "epoch 0: accuracy: 0.32999999999999996\n",
      "epoch 1: accuracy: 0.36\n",
      "epoch 2: accuracy: 0.39\n",
      "epoch 3: accuracy: 0.42000000000000004\n",
      "epoch 4: accuracy: 0.45000000000000007\n",
      "epoch 5: accuracy: 0.4800000000000001\n",
      "epoch 6: accuracy: 0.5100000000000001\n",
      "epoch 7: accuracy: 0.5400000000000001\n",
      "epoch 8: accuracy: 0.5700000000000002\n",
      "epoch 9: accuracy: 0.6000000000000002\n",
      "epoch 10: accuracy: 0.6300000000000002\n",
      "epoch 11: accuracy: 0.6600000000000003\n",
      "epoch 12: accuracy: 0.6900000000000003\n",
      "epoch 13: accuracy: 0.7200000000000003\n",
      "epoch 14: accuracy: 0.7500000000000003\n",
      "current path: /mnt/athena/hpsearch/nbs/tools\n",
      "fitting model with 15 epochs\n",
      "epoch 0: accuracy: 0.32999999999999996\n",
      "epoch 1: accuracy: 0.36\n",
      "epoch 2: accuracy: 0.39\n",
      "epoch 3: accuracy: 0.42000000000000004\n",
      "epoch 4: accuracy: 0.45000000000000007\n",
      "epoch 5: accuracy: 0.4800000000000001\n",
      "epoch 6: accuracy: 0.5100000000000001\n",
      "epoch 7: accuracy: 0.5400000000000001\n",
      "epoch 8: accuracy: 0.5700000000000002\n",
      "epoch 9: accuracy: 0.6000000000000002\n",
      "epoch 10: accuracy: 0.6300000000000002\n",
      "epoch 11: accuracy: 0.6600000000000003\n",
      "epoch 12: accuracy: 0.6900000000000003\n",
      "epoch 13: accuracy: 0.7200000000000003\n",
      "epoch 14: accuracy: 0.7500000000000003\n",
      "current path: /mnt/athena/hpsearch/nbs/tools\n",
      "fitting model with 15 epochs\n",
      "epoch 0: accuracy: 0.32999999999999996\n",
      "epoch 1: accuracy: 0.36\n",
      "epoch 2: accuracy: 0.39\n",
      "epoch 3: accuracy: 0.42000000000000004\n",
      "epoch 4: accuracy: 0.45000000000000007\n",
      "epoch 5: accuracy: 0.4800000000000001\n",
      "epoch 6: accuracy: 0.5100000000000001\n",
      "epoch 7: accuracy: 0.5400000000000001\n",
      "epoch 8: accuracy: 0.5700000000000002\n",
      "epoch 9: accuracy: 0.6000000000000002\n",
      "epoch 10: accuracy: 0.6300000000000002\n",
      "epoch 11: accuracy: 0.6600000000000003\n",
      "epoch 12: accuracy: 0.6900000000000003\n",
      "epoch 13: accuracy: 0.7200000000000003\n",
      "epoch 14: accuracy: 0.7500000000000003\n",
      "current path: /mnt/athena/hpsearch/nbs/tools\n",
      "fitting model with 15 epochs\n",
      "epoch 0: accuracy: 0.32999999999999996\n",
      "epoch 1: accuracy: 0.36\n",
      "epoch 2: accuracy: 0.39\n",
      "epoch 3: accuracy: 0.42000000000000004\n",
      "epoch 4: accuracy: 0.45000000000000007\n",
      "epoch 5: accuracy: 0.4800000000000001\n",
      "epoch 6: accuracy: 0.5100000000000001\n",
      "epoch 7: accuracy: 0.5400000000000001\n",
      "epoch 8: accuracy: 0.5700000000000002\n",
      "epoch 9: accuracy: 0.6000000000000002\n",
      "epoch 10: accuracy: 0.6300000000000002\n",
      "epoch 11: accuracy: 0.6600000000000003\n",
      "epoch 12: accuracy: 0.6900000000000003\n",
      "epoch 13: accuracy: 0.7200000000000003\n",
      "epoch 14: accuracy: 0.7500000000000003\n",
      "current path: /mnt/athena/hpsearch/nbs/tools\n"
     ]
    },
    {
     "name": "stderr",
     "output_type": "stream",
     "text": [
      "running experiment 5\n",
      "run number: 0\n",
      "\n",
      "parameters:\n",
      "\tepochs=15,\n",
      "\tnoise=0.1,\n",
      "\toffset=0.6,\n",
      "\trate=0.03\n",
      "\n",
      "script: /mnt/athena/hpsearch/hpsearch/examples/dummy_experiment_manager.py, line number: 170\n",
      "time spent on this experiment: 0.0019161701202392578\n",
      "0 - validation_accuracy: 1.0\n",
      "0 - test_accuracy: 1.0\n",
      "finished experiment 5\n",
      "processing hyper-parameter 5 out of 9\n",
      "doing run 1 out of 5\n",
      "fixed rate, multiple epochs values\n",
      "running experiment 5\n",
      "run number: 1\n",
      "\n",
      "parameters:\n",
      "\tepochs=15,\n",
      "\tnoise=0.1,\n",
      "\toffset=0.6,\n",
      "\trate=0.03\n",
      "\n",
      "script: /mnt/athena/hpsearch/hpsearch/examples/dummy_experiment_manager.py, line number: 170\n",
      "time spent on this experiment: 0.0018990039825439453\n",
      "1 - validation_accuracy: 1.0\n",
      "1 - test_accuracy: 0.9196509965007835\n",
      "finished experiment 5\n",
      "processing hyper-parameter 5 out of 9\n",
      "doing run 2 out of 5\n",
      "fixed rate, multiple epochs values\n",
      "running experiment 5\n",
      "run number: 2\n",
      "\n",
      "parameters:\n",
      "\tepochs=15,\n",
      "\tnoise=0.1,\n",
      "\toffset=0.6,\n",
      "\trate=0.03\n",
      "\n",
      "script: /mnt/athena/hpsearch/hpsearch/examples/dummy_experiment_manager.py, line number: 170\n",
      "time spent on this experiment: 0.0020973682403564453\n",
      "2 - validation_accuracy: 1.0\n",
      "2 - test_accuracy: 0.9093537667418821\n",
      "finished experiment 5\n",
      "processing hyper-parameter 5 out of 9\n",
      "doing run 3 out of 5\n",
      "fixed rate, multiple epochs values\n",
      "running experiment 5\n",
      "run number: 3\n",
      "\n",
      "parameters:\n",
      "\tepochs=15,\n",
      "\tnoise=0.1,\n",
      "\toffset=0.6,\n",
      "\trate=0.03\n",
      "\n",
      "script: /mnt/athena/hpsearch/hpsearch/examples/dummy_experiment_manager.py, line number: 170\n",
      "time spent on this experiment: 0.001962900161743164\n",
      "3 - validation_accuracy: 0.9678943967238537\n",
      "3 - test_accuracy: 1.0\n",
      "finished experiment 5\n",
      "processing hyper-parameter 5 out of 9\n",
      "doing run 4 out of 5\n",
      "fixed rate, multiple epochs values\n",
      "running experiment 5\n",
      "run number: 4\n",
      "\n",
      "parameters:\n",
      "\tepochs=15,\n",
      "\tnoise=0.1,\n",
      "\toffset=0.6,\n",
      "\trate=0.03\n",
      "\n"
     ]
    },
    {
     "name": "stdout",
     "output_type": "stream",
     "text": [
      "fitting model with 15 epochs\n",
      "epoch 0: accuracy: 0.63\n",
      "epoch 1: accuracy: 0.66\n",
      "epoch 2: accuracy: 0.6900000000000001\n",
      "epoch 3: accuracy: 0.7200000000000001\n",
      "epoch 4: accuracy: 0.7500000000000001\n",
      "epoch 5: accuracy: 0.7800000000000001\n",
      "epoch 6: accuracy: 0.8100000000000002\n",
      "epoch 7: accuracy: 0.8400000000000002\n",
      "epoch 8: accuracy: 0.8700000000000002\n",
      "epoch 9: accuracy: 0.9000000000000002\n",
      "epoch 10: accuracy: 0.9300000000000003\n",
      "epoch 11: accuracy: 0.9600000000000003\n",
      "epoch 12: accuracy: 0.9900000000000003\n",
      "epoch 13: accuracy: 1.0200000000000002\n",
      "epoch 14: accuracy: 1.0500000000000003\n",
      "current path: /mnt/athena/hpsearch/nbs/tools\n",
      "fitting model with 15 epochs\n",
      "epoch 0: accuracy: 0.63\n",
      "epoch 1: accuracy: 0.66\n",
      "epoch 2: accuracy: 0.6900000000000001\n",
      "epoch 3: accuracy: 0.7200000000000001\n",
      "epoch 4: accuracy: 0.7500000000000001\n",
      "epoch 5: accuracy: 0.7800000000000001\n",
      "epoch 6: accuracy: 0.8100000000000002\n",
      "epoch 7: accuracy: 0.8400000000000002\n",
      "epoch 8: accuracy: 0.8700000000000002\n",
      "epoch 9: accuracy: 0.9000000000000002\n",
      "epoch 10: accuracy: 0.9300000000000003\n",
      "epoch 11: accuracy: 0.9600000000000003\n",
      "epoch 12: accuracy: 0.9900000000000003\n",
      "epoch 13: accuracy: 1.0200000000000002\n",
      "epoch 14: accuracy: 1.0500000000000003\n",
      "current path: /mnt/athena/hpsearch/nbs/tools\n",
      "fitting model with 15 epochs\n",
      "epoch 0: accuracy: 0.63\n",
      "epoch 1: accuracy: 0.66\n",
      "epoch 2: accuracy: 0.6900000000000001\n",
      "epoch 3: accuracy: 0.7200000000000001\n",
      "epoch 4: accuracy: 0.7500000000000001\n",
      "epoch 5: accuracy: 0.7800000000000001\n",
      "epoch 6: accuracy: 0.8100000000000002\n",
      "epoch 7: accuracy: 0.8400000000000002\n",
      "epoch 8: accuracy: 0.8700000000000002\n",
      "epoch 9: accuracy: 0.9000000000000002\n",
      "epoch 10: accuracy: 0.9300000000000003\n",
      "epoch 11: accuracy: 0.9600000000000003\n",
      "epoch 12: accuracy: 0.9900000000000003\n",
      "epoch 13: accuracy: 1.0200000000000002\n",
      "epoch 14: accuracy: 1.0500000000000003\n",
      "current path: /mnt/athena/hpsearch/nbs/tools\n",
      "fitting model with 15 epochs\n",
      "epoch 0: accuracy: 0.63\n",
      "epoch 1: accuracy: 0.66\n",
      "epoch 2: accuracy: 0.6900000000000001\n",
      "epoch 3: accuracy: 0.7200000000000001\n",
      "epoch 4: accuracy: 0.7500000000000001\n",
      "epoch 5: accuracy: 0.7800000000000001\n",
      "epoch 6: accuracy: 0.8100000000000002\n",
      "epoch 7: accuracy: 0.8400000000000002\n",
      "epoch 8: accuracy: 0.8700000000000002\n",
      "epoch 9: accuracy: 0.9000000000000002\n",
      "epoch 10: accuracy: 0.9300000000000003\n",
      "epoch 11: accuracy: 0.9600000000000003\n",
      "epoch 12: accuracy: 0.9900000000000003\n",
      "epoch 13: accuracy: 1.0200000000000002\n",
      "epoch 14: accuracy: 1.0500000000000003\n",
      "current path: /mnt/athena/hpsearch/nbs/tools\n"
     ]
    },
    {
     "name": "stderr",
     "output_type": "stream",
     "text": [
      "script: /mnt/athena/hpsearch/hpsearch/examples/dummy_experiment_manager.py, line number: 170\n",
      "time spent on this experiment: 0.0019316673278808594\n",
      "4 - validation_accuracy: 1.0\n",
      "4 - test_accuracy: 0.9729690145505624\n",
      "finished experiment 5\n",
      "processing hyper-parameter 6 out of 9\n",
      "doing run 0 out of 5\n",
      "fixed rate, multiple epochs values\n",
      "running experiment 6\n",
      "run number: 0\n",
      "\n",
      "parameters:\n",
      "\tepochs=30,\n",
      "\tnoise=0.1,\n",
      "\toffset=0.1,\n",
      "\trate=0.03\n",
      "\n",
      "script: /mnt/athena/hpsearch/hpsearch/examples/dummy_experiment_manager.py, line number: 170\n",
      "time spent on this experiment: 0.0033087730407714844\n",
      "0 - validation_accuracy: 0.2654013647745008\n",
      "0 - test_accuracy: 0.20815108592845205\n",
      "finished experiment 6\n",
      "processing hyper-parameter 6 out of 9\n",
      "doing run 1 out of 5\n",
      "fixed rate, multiple epochs values\n",
      "running experiment 6\n",
      "run number: 1\n",
      "\n",
      "parameters:\n",
      "\tepochs=30,\n",
      "\tnoise=0.1,\n",
      "\toffset=0.1,\n",
      "\trate=0.03\n",
      "\n",
      "script: /mnt/athena/hpsearch/hpsearch/examples/dummy_experiment_manager.py, line number: 170\n",
      "time spent on this experiment: 0.003636598587036133\n",
      "1 - validation_accuracy: 0.27565804514107084\n",
      "1 - test_accuracy: 0.13784526706340045\n",
      "finished experiment 6\n",
      "processing hyper-parameter 6 out of 9\n",
      "doing run 2 out of 5\n",
      "fixed rate, multiple epochs values\n",
      "running experiment 6\n",
      "run number: 2\n",
      "\n",
      "parameters:\n",
      "\tepochs=30,\n",
      "\tnoise=0.1,\n",
      "\toffset=0.1,\n",
      "\trate=0.03\n",
      "\n",
      "script: /mnt/athena/hpsearch/hpsearch/examples/dummy_experiment_manager.py, line number: 170\n",
      "time spent on this experiment: 0.0032465457916259766\n",
      "2 - validation_accuracy: 0.4752501475274744\n",
      "2 - test_accuracy: 0.3814870180022746\n",
      "finished experiment 6\n",
      "processing hyper-parameter 6 out of 9\n",
      "doing run 3 out of 5\n",
      "fixed rate, multiple epochs values\n"
     ]
    },
    {
     "name": "stdout",
     "output_type": "stream",
     "text": [
      "fitting model with 15 epochs\n",
      "epoch 0: accuracy: 0.63\n",
      "epoch 1: accuracy: 0.66\n",
      "epoch 2: accuracy: 0.6900000000000001\n",
      "epoch 3: accuracy: 0.7200000000000001\n",
      "epoch 4: accuracy: 0.7500000000000001\n",
      "epoch 5: accuracy: 0.7800000000000001\n",
      "epoch 6: accuracy: 0.8100000000000002\n",
      "epoch 7: accuracy: 0.8400000000000002\n",
      "epoch 8: accuracy: 0.8700000000000002\n",
      "epoch 9: accuracy: 0.9000000000000002\n",
      "epoch 10: accuracy: 0.9300000000000003\n",
      "epoch 11: accuracy: 0.9600000000000003\n",
      "epoch 12: accuracy: 0.9900000000000003\n",
      "epoch 13: accuracy: 1.0200000000000002\n",
      "epoch 14: accuracy: 1.0500000000000003\n",
      "current path: /mnt/athena/hpsearch/nbs/tools\n",
      "fitting model with 30 epochs\n",
      "epoch 0: accuracy: 0.13\n",
      "epoch 1: accuracy: 0.16\n",
      "epoch 2: accuracy: 0.19\n",
      "epoch 3: accuracy: 0.22\n",
      "epoch 4: accuracy: 0.25\n",
      "epoch 5: accuracy: 0.28\n",
      "epoch 6: accuracy: 0.31000000000000005\n",
      "epoch 7: accuracy: 0.3400000000000001\n",
      "epoch 8: accuracy: 0.3700000000000001\n",
      "epoch 9: accuracy: 0.40000000000000013\n",
      "epoch 10: accuracy: 0.43000000000000016\n",
      "epoch 11: accuracy: 0.4600000000000002\n",
      "epoch 12: accuracy: 0.4900000000000002\n",
      "epoch 13: accuracy: 0.5200000000000002\n",
      "epoch 14: accuracy: 0.5500000000000003\n",
      "epoch 15: accuracy: 0.5800000000000003\n",
      "epoch 16: accuracy: 0.6100000000000003\n",
      "epoch 17: accuracy: 0.6400000000000003\n",
      "epoch 18: accuracy: 0.6700000000000004\n",
      "epoch 19: accuracy: 0.7000000000000004\n",
      "epoch 20: accuracy: 0.6700000000000004\n",
      "epoch 21: accuracy: 0.6400000000000003\n",
      "epoch 22: accuracy: 0.6100000000000003\n",
      "epoch 23: accuracy: 0.5800000000000003\n",
      "epoch 24: accuracy: 0.5500000000000003\n",
      "epoch 25: accuracy: 0.5200000000000002\n",
      "epoch 26: accuracy: 0.4900000000000002\n",
      "epoch 27: accuracy: 0.4600000000000002\n",
      "epoch 28: accuracy: 0.43000000000000016\n",
      "epoch 29: accuracy: 0.40000000000000013\n",
      "current path: /mnt/athena/hpsearch/nbs/tools\n",
      "fitting model with 30 epochs\n",
      "epoch 0: accuracy: 0.13\n",
      "epoch 1: accuracy: 0.16\n",
      "epoch 2: accuracy: 0.19\n",
      "epoch 3: accuracy: 0.22\n",
      "epoch 4: accuracy: 0.25\n",
      "epoch 5: accuracy: 0.28\n",
      "epoch 6: accuracy: 0.31000000000000005\n",
      "epoch 7: accuracy: 0.3400000000000001\n",
      "epoch 8: accuracy: 0.3700000000000001\n",
      "epoch 9: accuracy: 0.40000000000000013\n",
      "epoch 10: accuracy: 0.43000000000000016\n",
      "epoch 11: accuracy: 0.4600000000000002\n",
      "epoch 12: accuracy: 0.4900000000000002\n",
      "epoch 13: accuracy: 0.5200000000000002\n",
      "epoch 14: accuracy: 0.5500000000000003\n",
      "epoch 15: accuracy: 0.5800000000000003\n",
      "epoch 16: accuracy: 0.6100000000000003\n",
      "epoch 17: accuracy: 0.6400000000000003\n",
      "epoch 18: accuracy: 0.6700000000000004\n",
      "epoch 19: accuracy: 0.7000000000000004\n",
      "epoch 20: accuracy: 0.6700000000000004\n",
      "epoch 21: accuracy: 0.6400000000000003\n",
      "epoch 22: accuracy: 0.6100000000000003\n",
      "epoch 23: accuracy: 0.5800000000000003\n",
      "epoch 24: accuracy: 0.5500000000000003\n",
      "epoch 25: accuracy: 0.5200000000000002\n",
      "epoch 26: accuracy: 0.4900000000000002\n",
      "epoch 27: accuracy: 0.4600000000000002\n",
      "epoch 28: accuracy: 0.43000000000000016\n",
      "epoch 29: accuracy: 0.40000000000000013\n",
      "current path: /mnt/athena/hpsearch/nbs/tools\n",
      "fitting model with 30 epochs\n",
      "epoch 0: accuracy: 0.13\n",
      "epoch 1: accuracy: 0.16\n",
      "epoch 2: accuracy: 0.19\n",
      "epoch 3: accuracy: 0.22\n",
      "epoch 4: accuracy: 0.25\n",
      "epoch 5: accuracy: 0.28\n",
      "epoch 6: accuracy: 0.31000000000000005\n",
      "epoch 7: accuracy: 0.3400000000000001\n",
      "epoch 8: accuracy: 0.3700000000000001\n",
      "epoch 9: accuracy: 0.40000000000000013\n",
      "epoch 10: accuracy: 0.43000000000000016\n",
      "epoch 11: accuracy: 0.4600000000000002\n",
      "epoch 12: accuracy: 0.4900000000000002\n",
      "epoch 13: accuracy: 0.5200000000000002\n",
      "epoch 14: accuracy: 0.5500000000000003\n",
      "epoch 15: accuracy: 0.5800000000000003\n",
      "epoch 16: accuracy: 0.6100000000000003\n",
      "epoch 17: accuracy: 0.6400000000000003\n",
      "epoch 18: accuracy: 0.6700000000000004\n",
      "epoch 19: accuracy: 0.7000000000000004\n",
      "epoch 20: accuracy: 0.6700000000000004\n",
      "epoch 21: accuracy: 0.6400000000000003\n",
      "epoch 22: accuracy: 0.6100000000000003\n",
      "epoch 23: accuracy: 0.5800000000000003\n",
      "epoch 24: accuracy: 0.5500000000000003\n",
      "epoch 25: accuracy: 0.5200000000000002\n",
      "epoch 26: accuracy: 0.4900000000000002\n",
      "epoch 27: accuracy: 0.4600000000000002\n",
      "epoch 28: accuracy: 0.43000000000000016\n",
      "epoch 29: accuracy: 0.40000000000000013\n",
      "current path: /mnt/athena/hpsearch/nbs/tools\n"
     ]
    },
    {
     "name": "stderr",
     "output_type": "stream",
     "text": [
      "running experiment 6\n",
      "run number: 3\n",
      "\n",
      "parameters:\n",
      "\tepochs=30,\n",
      "\tnoise=0.1,\n",
      "\toffset=0.1,\n",
      "\trate=0.03\n",
      "\n",
      "script: /mnt/athena/hpsearch/hpsearch/examples/dummy_experiment_manager.py, line number: 170\n",
      "time spent on this experiment: 0.0036208629608154297\n",
      "3 - validation_accuracy: 0.5063364172121286\n",
      "3 - test_accuracy: 0.242918819431867\n",
      "finished experiment 6\n",
      "processing hyper-parameter 6 out of 9\n",
      "doing run 4 out of 5\n",
      "fixed rate, multiple epochs values\n",
      "running experiment 6\n",
      "run number: 4\n",
      "\n",
      "parameters:\n",
      "\tepochs=30,\n",
      "\tnoise=0.1,\n",
      "\toffset=0.1,\n",
      "\trate=0.03\n",
      "\n",
      "script: /mnt/athena/hpsearch/hpsearch/examples/dummy_experiment_manager.py, line number: 170\n",
      "time spent on this experiment: 0.0034825801849365234\n",
      "4 - validation_accuracy: 0.4038886866636895\n",
      "4 - test_accuracy: 0.2787545776859374\n",
      "finished experiment 6\n",
      "processing hyper-parameter 7 out of 9\n",
      "doing run 0 out of 5\n",
      "fixed rate, multiple epochs values\n",
      "running experiment 7\n",
      "run number: 0\n",
      "\n",
      "parameters:\n",
      "\tepochs=30,\n",
      "\tnoise=0.1,\n",
      "\toffset=0.3,\n",
      "\trate=0.03\n",
      "\n",
      "script: /mnt/athena/hpsearch/hpsearch/examples/dummy_experiment_manager.py, line number: 170\n",
      "time spent on this experiment: 0.003787517547607422\n",
      "0 - validation_accuracy: 0.8118144617030497\n",
      "0 - test_accuracy: 0.3563096484324664\n",
      "finished experiment 7\n",
      "processing hyper-parameter 7 out of 9\n",
      "doing run 1 out of 5\n",
      "fixed rate, multiple epochs values\n",
      "running experiment 7\n",
      "run number: 1\n",
      "\n",
      "parameters:\n",
      "\tepochs=30,\n",
      "\tnoise=0.1,\n",
      "\toffset=0.3,\n",
      "\trate=0.03\n",
      "\n",
      "script: /mnt/athena/hpsearch/hpsearch/examples/dummy_experiment_manager.py, line number: 170\n",
      "time spent on this experiment: 0.00339508056640625\n",
      "1 - validation_accuracy: 0.50699887031429\n",
      "1 - test_accuracy: 0.5888011582645685\n"
     ]
    },
    {
     "name": "stdout",
     "output_type": "stream",
     "text": [
      "fitting model with 30 epochs\n",
      "epoch 0: accuracy: 0.13\n",
      "epoch 1: accuracy: 0.16\n",
      "epoch 2: accuracy: 0.19\n",
      "epoch 3: accuracy: 0.22\n",
      "epoch 4: accuracy: 0.25\n",
      "epoch 5: accuracy: 0.28\n",
      "epoch 6: accuracy: 0.31000000000000005\n",
      "epoch 7: accuracy: 0.3400000000000001\n",
      "epoch 8: accuracy: 0.3700000000000001\n",
      "epoch 9: accuracy: 0.40000000000000013\n",
      "epoch 10: accuracy: 0.43000000000000016\n",
      "epoch 11: accuracy: 0.4600000000000002\n",
      "epoch 12: accuracy: 0.4900000000000002\n",
      "epoch 13: accuracy: 0.5200000000000002\n",
      "epoch 14: accuracy: 0.5500000000000003\n",
      "epoch 15: accuracy: 0.5800000000000003\n",
      "epoch 16: accuracy: 0.6100000000000003\n",
      "epoch 17: accuracy: 0.6400000000000003\n",
      "epoch 18: accuracy: 0.6700000000000004\n",
      "epoch 19: accuracy: 0.7000000000000004\n",
      "epoch 20: accuracy: 0.6700000000000004\n",
      "epoch 21: accuracy: 0.6400000000000003\n",
      "epoch 22: accuracy: 0.6100000000000003\n",
      "epoch 23: accuracy: 0.5800000000000003\n",
      "epoch 24: accuracy: 0.5500000000000003\n",
      "epoch 25: accuracy: 0.5200000000000002\n",
      "epoch 26: accuracy: 0.4900000000000002\n",
      "epoch 27: accuracy: 0.4600000000000002\n",
      "epoch 28: accuracy: 0.43000000000000016\n",
      "epoch 29: accuracy: 0.40000000000000013\n",
      "current path: /mnt/athena/hpsearch/nbs/tools\n",
      "fitting model with 30 epochs\n",
      "epoch 0: accuracy: 0.13\n",
      "epoch 1: accuracy: 0.16\n",
      "epoch 2: accuracy: 0.19\n",
      "epoch 3: accuracy: 0.22\n",
      "epoch 4: accuracy: 0.25\n",
      "epoch 5: accuracy: 0.28\n",
      "epoch 6: accuracy: 0.31000000000000005\n",
      "epoch 7: accuracy: 0.3400000000000001\n",
      "epoch 8: accuracy: 0.3700000000000001\n",
      "epoch 9: accuracy: 0.40000000000000013\n",
      "epoch 10: accuracy: 0.43000000000000016\n",
      "epoch 11: accuracy: 0.4600000000000002\n",
      "epoch 12: accuracy: 0.4900000000000002\n",
      "epoch 13: accuracy: 0.5200000000000002\n",
      "epoch 14: accuracy: 0.5500000000000003\n",
      "epoch 15: accuracy: 0.5800000000000003\n",
      "epoch 16: accuracy: 0.6100000000000003\n",
      "epoch 17: accuracy: 0.6400000000000003\n",
      "epoch 18: accuracy: 0.6700000000000004\n",
      "epoch 19: accuracy: 0.7000000000000004\n",
      "epoch 20: accuracy: 0.6700000000000004\n",
      "epoch 21: accuracy: 0.6400000000000003\n",
      "epoch 22: accuracy: 0.6100000000000003\n",
      "epoch 23: accuracy: 0.5800000000000003\n",
      "epoch 24: accuracy: 0.5500000000000003\n",
      "epoch 25: accuracy: 0.5200000000000002\n",
      "epoch 26: accuracy: 0.4900000000000002\n",
      "epoch 27: accuracy: 0.4600000000000002\n",
      "epoch 28: accuracy: 0.43000000000000016\n",
      "epoch 29: accuracy: 0.40000000000000013\n",
      "current path: /mnt/athena/hpsearch/nbs/tools\n",
      "fitting model with 30 epochs\n",
      "epoch 0: accuracy: 0.32999999999999996\n",
      "epoch 1: accuracy: 0.36\n",
      "epoch 2: accuracy: 0.39\n",
      "epoch 3: accuracy: 0.42000000000000004\n",
      "epoch 4: accuracy: 0.45000000000000007\n",
      "epoch 5: accuracy: 0.4800000000000001\n",
      "epoch 6: accuracy: 0.5100000000000001\n",
      "epoch 7: accuracy: 0.5400000000000001\n",
      "epoch 8: accuracy: 0.5700000000000002\n",
      "epoch 9: accuracy: 0.6000000000000002\n",
      "epoch 10: accuracy: 0.6300000000000002\n",
      "epoch 11: accuracy: 0.6600000000000003\n",
      "epoch 12: accuracy: 0.6900000000000003\n",
      "epoch 13: accuracy: 0.7200000000000003\n",
      "epoch 14: accuracy: 0.7500000000000003\n",
      "epoch 15: accuracy: 0.7800000000000004\n",
      "epoch 16: accuracy: 0.8100000000000004\n",
      "epoch 17: accuracy: 0.8400000000000004\n",
      "epoch 18: accuracy: 0.8700000000000004\n",
      "epoch 19: accuracy: 0.9000000000000005\n",
      "epoch 20: accuracy: 0.8700000000000004\n",
      "epoch 21: accuracy: 0.8400000000000004\n",
      "epoch 22: accuracy: 0.8100000000000004\n",
      "epoch 23: accuracy: 0.7800000000000004\n",
      "epoch 24: accuracy: 0.7500000000000003\n",
      "epoch 25: accuracy: 0.7200000000000003\n",
      "epoch 26: accuracy: 0.6900000000000003\n",
      "epoch 27: accuracy: 0.6600000000000003\n",
      "epoch 28: accuracy: 0.6300000000000002\n",
      "epoch 29: accuracy: 0.6000000000000002\n",
      "current path: /mnt/athena/hpsearch/nbs/tools\n",
      "fitting model with 30 epochs\n",
      "epoch 0: accuracy: 0.32999999999999996\n",
      "epoch 1: accuracy: 0.36\n",
      "epoch 2: accuracy: 0.39\n",
      "epoch 3: accuracy: 0.42000000000000004\n",
      "epoch 4: accuracy: 0.45000000000000007\n",
      "epoch 5: accuracy: 0.4800000000000001\n",
      "epoch 6: accuracy: 0.5100000000000001\n",
      "epoch 7: accuracy: 0.5400000000000001\n",
      "epoch 8: accuracy: 0.5700000000000002\n",
      "epoch 9: accuracy: 0.6000000000000002\n",
      "epoch 10: accuracy: 0.6300000000000002\n",
      "epoch 11: accuracy: 0.6600000000000003\n",
      "epoch 12: accuracy: 0.6900000000000003\n",
      "epoch 13: accuracy: 0.7200000000000003\n",
      "epoch 14: accuracy: 0.7500000000000003\n",
      "epoch 15: accuracy: 0.7800000000000004\n",
      "epoch 16: accuracy: 0.8100000000000004\n",
      "epoch 17: accuracy: 0.8400000000000004\n",
      "epoch 18: accuracy: 0.8700000000000004\n",
      "epoch 19: accuracy: 0.9000000000000005\n",
      "epoch 20: accuracy: 0.8700000000000004\n",
      "epoch 21: accuracy: 0.8400000000000004\n",
      "epoch 22: accuracy: 0.8100000000000004\n",
      "epoch 23: accuracy: 0.7800000000000004\n",
      "epoch 24: accuracy: 0.7500000000000003\n",
      "epoch 25: accuracy: 0.7200000000000003\n",
      "epoch 26: accuracy: 0.6900000000000003\n",
      "epoch 27: accuracy: 0.6600000000000003\n",
      "epoch 28: accuracy: 0.6300000000000002\n",
      "epoch 29: accuracy: 0.6000000000000002\n"
     ]
    },
    {
     "name": "stderr",
     "output_type": "stream",
     "text": [
      "finished experiment 7\n",
      "processing hyper-parameter 7 out of 9\n",
      "doing run 2 out of 5\n",
      "fixed rate, multiple epochs values\n",
      "running experiment 7\n",
      "run number: 2\n",
      "\n",
      "parameters:\n",
      "\tepochs=30,\n",
      "\tnoise=0.1,\n",
      "\toffset=0.3,\n",
      "\trate=0.03\n",
      "\n",
      "script: /mnt/athena/hpsearch/hpsearch/examples/dummy_experiment_manager.py, line number: 170\n",
      "time spent on this experiment: 0.0034394264221191406\n",
      "2 - validation_accuracy: 0.7092693232189616\n",
      "2 - test_accuracy: 0.35857043547240885\n",
      "finished experiment 7\n",
      "processing hyper-parameter 7 out of 9\n",
      "doing run 3 out of 5\n",
      "fixed rate, multiple epochs values\n",
      "running experiment 7\n",
      "run number: 3\n",
      "\n",
      "parameters:\n",
      "\tepochs=30,\n",
      "\tnoise=0.1,\n",
      "\toffset=0.3,\n",
      "\trate=0.03\n",
      "\n",
      "script: /mnt/athena/hpsearch/hpsearch/examples/dummy_experiment_manager.py, line number: 170\n",
      "time spent on this experiment: 0.0035669803619384766\n",
      "3 - validation_accuracy: 0.38195400513956157\n",
      "3 - test_accuracy: 0.46236861333471796\n",
      "finished experiment 7\n",
      "processing hyper-parameter 7 out of 9\n",
      "doing run 4 out of 5\n",
      "fixed rate, multiple epochs values\n",
      "running experiment 7\n",
      "run number: 4\n",
      "\n",
      "parameters:\n",
      "\tepochs=30,\n",
      "\tnoise=0.1,\n",
      "\toffset=0.3,\n",
      "\trate=0.03\n",
      "\n",
      "script: /mnt/athena/hpsearch/hpsearch/examples/dummy_experiment_manager.py, line number: 170\n",
      "time spent on this experiment: 0.003850221633911133\n",
      "4 - validation_accuracy: 0.5623443579876124\n",
      "4 - test_accuracy: 0.4388126376039713\n",
      "finished experiment 7\n",
      "processing hyper-parameter 8 out of 9\n",
      "doing run 0 out of 5\n",
      "fixed rate, multiple epochs values\n"
     ]
    },
    {
     "name": "stdout",
     "output_type": "stream",
     "text": [
      "current path: /mnt/athena/hpsearch/nbs/tools\n",
      "fitting model with 30 epochs\n",
      "epoch 0: accuracy: 0.32999999999999996\n",
      "epoch 1: accuracy: 0.36\n",
      "epoch 2: accuracy: 0.39\n",
      "epoch 3: accuracy: 0.42000000000000004\n",
      "epoch 4: accuracy: 0.45000000000000007\n",
      "epoch 5: accuracy: 0.4800000000000001\n",
      "epoch 6: accuracy: 0.5100000000000001\n",
      "epoch 7: accuracy: 0.5400000000000001\n",
      "epoch 8: accuracy: 0.5700000000000002\n",
      "epoch 9: accuracy: 0.6000000000000002\n",
      "epoch 10: accuracy: 0.6300000000000002\n",
      "epoch 11: accuracy: 0.6600000000000003\n",
      "epoch 12: accuracy: 0.6900000000000003\n",
      "epoch 13: accuracy: 0.7200000000000003\n",
      "epoch 14: accuracy: 0.7500000000000003\n",
      "epoch 15: accuracy: 0.7800000000000004\n",
      "epoch 16: accuracy: 0.8100000000000004\n",
      "epoch 17: accuracy: 0.8400000000000004\n",
      "epoch 18: accuracy: 0.8700000000000004\n",
      "epoch 19: accuracy: 0.9000000000000005\n",
      "epoch 20: accuracy: 0.8700000000000004\n",
      "epoch 21: accuracy: 0.8400000000000004\n",
      "epoch 22: accuracy: 0.8100000000000004\n",
      "epoch 23: accuracy: 0.7800000000000004\n",
      "epoch 24: accuracy: 0.7500000000000003\n",
      "epoch 25: accuracy: 0.7200000000000003\n",
      "epoch 26: accuracy: 0.6900000000000003\n",
      "epoch 27: accuracy: 0.6600000000000003\n",
      "epoch 28: accuracy: 0.6300000000000002\n",
      "epoch 29: accuracy: 0.6000000000000002\n",
      "current path: /mnt/athena/hpsearch/nbs/tools\n",
      "fitting model with 30 epochs\n",
      "epoch 0: accuracy: 0.32999999999999996\n",
      "epoch 1: accuracy: 0.36\n",
      "epoch 2: accuracy: 0.39\n",
      "epoch 3: accuracy: 0.42000000000000004\n",
      "epoch 4: accuracy: 0.45000000000000007\n",
      "epoch 5: accuracy: 0.4800000000000001\n",
      "epoch 6: accuracy: 0.5100000000000001\n",
      "epoch 7: accuracy: 0.5400000000000001\n",
      "epoch 8: accuracy: 0.5700000000000002\n",
      "epoch 9: accuracy: 0.6000000000000002\n",
      "epoch 10: accuracy: 0.6300000000000002\n",
      "epoch 11: accuracy: 0.6600000000000003\n",
      "epoch 12: accuracy: 0.6900000000000003\n",
      "epoch 13: accuracy: 0.7200000000000003\n",
      "epoch 14: accuracy: 0.7500000000000003\n",
      "epoch 15: accuracy: 0.7800000000000004\n",
      "epoch 16: accuracy: 0.8100000000000004\n",
      "epoch 17: accuracy: 0.8400000000000004\n",
      "epoch 18: accuracy: 0.8700000000000004\n",
      "epoch 19: accuracy: 0.9000000000000005\n",
      "epoch 20: accuracy: 0.8700000000000004\n",
      "epoch 21: accuracy: 0.8400000000000004\n",
      "epoch 22: accuracy: 0.8100000000000004\n",
      "epoch 23: accuracy: 0.7800000000000004\n",
      "epoch 24: accuracy: 0.7500000000000003\n",
      "epoch 25: accuracy: 0.7200000000000003\n",
      "epoch 26: accuracy: 0.6900000000000003\n",
      "epoch 27: accuracy: 0.6600000000000003\n",
      "epoch 28: accuracy: 0.6300000000000002\n",
      "epoch 29: accuracy: 0.6000000000000002\n",
      "current path: /mnt/athena/hpsearch/nbs/tools\n",
      "fitting model with 30 epochs\n",
      "epoch 0: accuracy: 0.32999999999999996\n",
      "epoch 1: accuracy: 0.36\n",
      "epoch 2: accuracy: 0.39\n",
      "epoch 3: accuracy: 0.42000000000000004\n",
      "epoch 4: accuracy: 0.45000000000000007\n",
      "epoch 5: accuracy: 0.4800000000000001\n",
      "epoch 6: accuracy: 0.5100000000000001\n",
      "epoch 7: accuracy: 0.5400000000000001\n",
      "epoch 8: accuracy: 0.5700000000000002\n",
      "epoch 9: accuracy: 0.6000000000000002\n",
      "epoch 10: accuracy: 0.6300000000000002\n",
      "epoch 11: accuracy: 0.6600000000000003\n",
      "epoch 12: accuracy: 0.6900000000000003\n",
      "epoch 13: accuracy: 0.7200000000000003\n",
      "epoch 14: accuracy: 0.7500000000000003\n",
      "epoch 15: accuracy: 0.7800000000000004\n",
      "epoch 16: accuracy: 0.8100000000000004\n",
      "epoch 17: accuracy: 0.8400000000000004\n",
      "epoch 18: accuracy: 0.8700000000000004\n",
      "epoch 19: accuracy: 0.9000000000000005\n",
      "epoch 20: accuracy: 0.8700000000000004\n",
      "epoch 21: accuracy: 0.8400000000000004\n",
      "epoch 22: accuracy: 0.8100000000000004\n",
      "epoch 23: accuracy: 0.7800000000000004\n",
      "epoch 24: accuracy: 0.7500000000000003\n",
      "epoch 25: accuracy: 0.7200000000000003\n",
      "epoch 26: accuracy: 0.6900000000000003\n",
      "epoch 27: accuracy: 0.6600000000000003\n",
      "epoch 28: accuracy: 0.6300000000000002\n",
      "epoch 29: accuracy: 0.6000000000000002\n",
      "current path: /mnt/athena/hpsearch/nbs/tools\n"
     ]
    },
    {
     "name": "stderr",
     "output_type": "stream",
     "text": [
      "running experiment 8\n",
      "run number: 0\n",
      "\n",
      "parameters:\n",
      "\tepochs=30,\n",
      "\tnoise=0.1,\n",
      "\toffset=0.6,\n",
      "\trate=0.03\n",
      "\n",
      "script: /mnt/athena/hpsearch/hpsearch/examples/dummy_experiment_manager.py, line number: 170\n",
      "time spent on this experiment: 0.003423929214477539\n",
      "0 - validation_accuracy: 1.0\n",
      "0 - test_accuracy: 0.7823650214862101\n",
      "finished experiment 8\n",
      "processing hyper-parameter 8 out of 9\n",
      "doing run 1 out of 5\n",
      "fixed rate, multiple epochs values\n",
      "running experiment 8\n",
      "run number: 1\n",
      "\n",
      "parameters:\n",
      "\tepochs=30,\n",
      "\tnoise=0.1,\n",
      "\toffset=0.6,\n",
      "\trate=0.03\n",
      "\n",
      "script: /mnt/athena/hpsearch/hpsearch/examples/dummy_experiment_manager.py, line number: 170\n",
      "time spent on this experiment: 0.0033817291259765625\n",
      "1 - validation_accuracy: 0.8885635431068583\n",
      "1 - test_accuracy: 0.8368420540376542\n",
      "finished experiment 8\n",
      "processing hyper-parameter 8 out of 9\n",
      "doing run 2 out of 5\n",
      "fixed rate, multiple epochs values\n",
      "running experiment 8\n",
      "run number: 2\n",
      "\n",
      "parameters:\n",
      "\tepochs=30,\n",
      "\tnoise=0.1,\n",
      "\toffset=0.6,\n",
      "\trate=0.03\n",
      "\n",
      "script: /mnt/athena/hpsearch/hpsearch/examples/dummy_experiment_manager.py, line number: 170\n",
      "time spent on this experiment: 0.0033655166625976562\n",
      "2 - validation_accuracy: 0.9040053640731387\n",
      "2 - test_accuracy: 0.5638325209250469\n",
      "finished experiment 8\n",
      "processing hyper-parameter 8 out of 9\n",
      "doing run 3 out of 5\n",
      "fixed rate, multiple epochs values\n",
      "running experiment 8\n",
      "run number: 3\n",
      "\n",
      "parameters:\n",
      "\tepochs=30,\n",
      "\tnoise=0.1,\n",
      "\toffset=0.6,\n",
      "\trate=0.03\n",
      "\n",
      "script: /mnt/athena/hpsearch/hpsearch/examples/dummy_experiment_manager.py, line number: 170\n",
      "time spent on this experiment: 0.0036232471466064453\n",
      "3 - validation_accuracy: 0.7192066645454023\n",
      "3 - test_accuracy: 0.7694346458949624\n"
     ]
    },
    {
     "name": "stdout",
     "output_type": "stream",
     "text": [
      "fitting model with 30 epochs\n",
      "epoch 0: accuracy: 0.63\n",
      "epoch 1: accuracy: 0.66\n",
      "epoch 2: accuracy: 0.6900000000000001\n",
      "epoch 3: accuracy: 0.7200000000000001\n",
      "epoch 4: accuracy: 0.7500000000000001\n",
      "epoch 5: accuracy: 0.7800000000000001\n",
      "epoch 6: accuracy: 0.8100000000000002\n",
      "epoch 7: accuracy: 0.8400000000000002\n",
      "epoch 8: accuracy: 0.8700000000000002\n",
      "epoch 9: accuracy: 0.9000000000000002\n",
      "epoch 10: accuracy: 0.9300000000000003\n",
      "epoch 11: accuracy: 0.9600000000000003\n",
      "epoch 12: accuracy: 0.9900000000000003\n",
      "epoch 13: accuracy: 1.0200000000000002\n",
      "epoch 14: accuracy: 1.0500000000000003\n",
      "epoch 15: accuracy: 1.0800000000000003\n",
      "epoch 16: accuracy: 1.1100000000000003\n",
      "epoch 17: accuracy: 1.1400000000000003\n",
      "epoch 18: accuracy: 1.1700000000000004\n",
      "epoch 19: accuracy: 1.2000000000000004\n",
      "epoch 20: accuracy: 1.1700000000000004\n",
      "epoch 21: accuracy: 1.1400000000000003\n",
      "epoch 22: accuracy: 1.1100000000000003\n",
      "epoch 23: accuracy: 1.0800000000000003\n",
      "epoch 24: accuracy: 1.0500000000000003\n",
      "epoch 25: accuracy: 1.0200000000000002\n",
      "epoch 26: accuracy: 0.9900000000000002\n",
      "epoch 27: accuracy: 0.9600000000000002\n",
      "epoch 28: accuracy: 0.9300000000000002\n",
      "epoch 29: accuracy: 0.9000000000000001\n",
      "current path: /mnt/athena/hpsearch/nbs/tools\n",
      "fitting model with 30 epochs\n",
      "epoch 0: accuracy: 0.63\n",
      "epoch 1: accuracy: 0.66\n",
      "epoch 2: accuracy: 0.6900000000000001\n",
      "epoch 3: accuracy: 0.7200000000000001\n",
      "epoch 4: accuracy: 0.7500000000000001\n",
      "epoch 5: accuracy: 0.7800000000000001\n",
      "epoch 6: accuracy: 0.8100000000000002\n",
      "epoch 7: accuracy: 0.8400000000000002\n",
      "epoch 8: accuracy: 0.8700000000000002\n",
      "epoch 9: accuracy: 0.9000000000000002\n",
      "epoch 10: accuracy: 0.9300000000000003\n",
      "epoch 11: accuracy: 0.9600000000000003\n",
      "epoch 12: accuracy: 0.9900000000000003\n",
      "epoch 13: accuracy: 1.0200000000000002\n",
      "epoch 14: accuracy: 1.0500000000000003\n",
      "epoch 15: accuracy: 1.0800000000000003\n",
      "epoch 16: accuracy: 1.1100000000000003\n",
      "epoch 17: accuracy: 1.1400000000000003\n",
      "epoch 18: accuracy: 1.1700000000000004\n",
      "epoch 19: accuracy: 1.2000000000000004\n",
      "epoch 20: accuracy: 1.1700000000000004\n",
      "epoch 21: accuracy: 1.1400000000000003\n",
      "epoch 22: accuracy: 1.1100000000000003\n",
      "epoch 23: accuracy: 1.0800000000000003\n",
      "epoch 24: accuracy: 1.0500000000000003\n",
      "epoch 25: accuracy: 1.0200000000000002\n",
      "epoch 26: accuracy: 0.9900000000000002\n",
      "epoch 27: accuracy: 0.9600000000000002\n",
      "epoch 28: accuracy: 0.9300000000000002\n",
      "epoch 29: accuracy: 0.9000000000000001\n",
      "current path: /mnt/athena/hpsearch/nbs/tools\n",
      "fitting model with 30 epochs\n",
      "epoch 0: accuracy: 0.63\n",
      "epoch 1: accuracy: 0.66\n",
      "epoch 2: accuracy: 0.6900000000000001\n",
      "epoch 3: accuracy: 0.7200000000000001\n",
      "epoch 4: accuracy: 0.7500000000000001\n",
      "epoch 5: accuracy: 0.7800000000000001\n",
      "epoch 6: accuracy: 0.8100000000000002\n",
      "epoch 7: accuracy: 0.8400000000000002\n",
      "epoch 8: accuracy: 0.8700000000000002\n",
      "epoch 9: accuracy: 0.9000000000000002\n",
      "epoch 10: accuracy: 0.9300000000000003\n",
      "epoch 11: accuracy: 0.9600000000000003\n",
      "epoch 12: accuracy: 0.9900000000000003\n",
      "epoch 13: accuracy: 1.0200000000000002\n",
      "epoch 14: accuracy: 1.0500000000000003\n",
      "epoch 15: accuracy: 1.0800000000000003\n",
      "epoch 16: accuracy: 1.1100000000000003\n",
      "epoch 17: accuracy: 1.1400000000000003\n",
      "epoch 18: accuracy: 1.1700000000000004\n",
      "epoch 19: accuracy: 1.2000000000000004\n",
      "epoch 20: accuracy: 1.1700000000000004\n",
      "epoch 21: accuracy: 1.1400000000000003\n",
      "epoch 22: accuracy: 1.1100000000000003\n",
      "epoch 23: accuracy: 1.0800000000000003\n",
      "epoch 24: accuracy: 1.0500000000000003\n",
      "epoch 25: accuracy: 1.0200000000000002\n",
      "epoch 26: accuracy: 0.9900000000000002\n",
      "epoch 27: accuracy: 0.9600000000000002\n",
      "epoch 28: accuracy: 0.9300000000000002\n",
      "epoch 29: accuracy: 0.9000000000000001\n",
      "current path: /mnt/athena/hpsearch/nbs/tools\n",
      "fitting model with 30 epochs\n",
      "epoch 0: accuracy: 0.63\n",
      "epoch 1: accuracy: 0.66\n",
      "epoch 2: accuracy: 0.6900000000000001\n",
      "epoch 3: accuracy: 0.7200000000000001\n",
      "epoch 4: accuracy: 0.7500000000000001\n",
      "epoch 5: accuracy: 0.7800000000000001\n",
      "epoch 6: accuracy: 0.8100000000000002\n",
      "epoch 7: accuracy: 0.8400000000000002\n",
      "epoch 8: accuracy: 0.8700000000000002\n",
      "epoch 9: accuracy: 0.9000000000000002\n",
      "epoch 10: accuracy: 0.9300000000000003\n",
      "epoch 11: accuracy: 0.9600000000000003\n",
      "epoch 12: accuracy: 0.9900000000000003\n",
      "epoch 13: accuracy: 1.0200000000000002\n",
      "epoch 14: accuracy: 1.0500000000000003\n",
      "epoch 15: accuracy: 1.0800000000000003\n",
      "epoch 16: accuracy: 1.1100000000000003\n",
      "epoch 17: accuracy: 1.1400000000000003\n",
      "epoch 18: accuracy: 1.1700000000000004\n",
      "epoch 19: accuracy: 1.2000000000000004\n",
      "epoch 20: accuracy: 1.1700000000000004\n",
      "epoch 21: accuracy: 1.1400000000000003\n",
      "epoch 22: accuracy: 1.1100000000000003\n",
      "epoch 23: accuracy: 1.0800000000000003\n",
      "epoch 24: accuracy: 1.0500000000000003\n",
      "epoch 25: accuracy: 1.0200000000000002\n",
      "epoch 26: accuracy: 0.9900000000000002\n",
      "epoch 27: accuracy: 0.9600000000000002\n",
      "epoch 28: accuracy: 0.9300000000000002\n",
      "epoch 29: accuracy: 0.9000000000000001\n"
     ]
    },
    {
     "name": "stderr",
     "output_type": "stream",
     "text": [
      "finished experiment 8\n",
      "processing hyper-parameter 8 out of 9\n",
      "doing run 4 out of 5\n",
      "fixed rate, multiple epochs values\n",
      "running experiment 8\n",
      "run number: 4\n",
      "\n",
      "parameters:\n",
      "\tepochs=30,\n",
      "\tnoise=0.1,\n",
      "\toffset=0.6,\n",
      "\trate=0.03\n",
      "\n",
      "script: /mnt/athena/hpsearch/hpsearch/examples/dummy_experiment_manager.py, line number: 170\n",
      "time spent on this experiment: 0.0036237239837646484\n",
      "4 - validation_accuracy: 0.8863391232555674\n",
      "4 - test_accuracy: 0.6273661753510161\n",
      "finished experiment 8\n"
     ]
    },
    {
     "name": "stdout",
     "output_type": "stream",
     "text": [
      "current path: /mnt/athena/hpsearch/nbs/tools\n",
      "fitting model with 30 epochs\n",
      "epoch 0: accuracy: 0.63\n",
      "epoch 1: accuracy: 0.66\n",
      "epoch 2: accuracy: 0.6900000000000001\n",
      "epoch 3: accuracy: 0.7200000000000001\n",
      "epoch 4: accuracy: 0.7500000000000001\n",
      "epoch 5: accuracy: 0.7800000000000001\n",
      "epoch 6: accuracy: 0.8100000000000002\n",
      "epoch 7: accuracy: 0.8400000000000002\n",
      "epoch 8: accuracy: 0.8700000000000002\n",
      "epoch 9: accuracy: 0.9000000000000002\n",
      "epoch 10: accuracy: 0.9300000000000003\n",
      "epoch 11: accuracy: 0.9600000000000003\n",
      "epoch 12: accuracy: 0.9900000000000003\n",
      "epoch 13: accuracy: 1.0200000000000002\n",
      "epoch 14: accuracy: 1.0500000000000003\n",
      "epoch 15: accuracy: 1.0800000000000003\n",
      "epoch 16: accuracy: 1.1100000000000003\n",
      "epoch 17: accuracy: 1.1400000000000003\n",
      "epoch 18: accuracy: 1.1700000000000004\n",
      "epoch 19: accuracy: 1.2000000000000004\n",
      "epoch 20: accuracy: 1.1700000000000004\n",
      "epoch 21: accuracy: 1.1400000000000003\n",
      "epoch 22: accuracy: 1.1100000000000003\n",
      "epoch 23: accuracy: 1.0800000000000003\n",
      "epoch 24: accuracy: 1.0500000000000003\n",
      "epoch 25: accuracy: 1.0200000000000002\n",
      "epoch 26: accuracy: 0.9900000000000002\n",
      "epoch 27: accuracy: 0.9600000000000002\n",
      "epoch 28: accuracy: 0.9300000000000002\n",
      "epoch 29: accuracy: 0.9000000000000001\n"
     ]
    }
   ],
   "source": [
    "#collapse_output\n",
    "from hpsearch.examples.dummy_experiment_manager import remove_previous_experiments, run_multiple_experiments\n",
    "\n",
    "remove_previous_experiments()\n",
    "run_multiple_experiments(nruns=5, noise=0.1)"
   ]
  },
  {
   "cell_type": "code",
   "execution_count": null,
   "metadata": {},
   "outputs": [
    {
     "data": {
      "text/html": [
       "        <script type=\"text/javascript\">\n",
       "        window.PlotlyConfig = {MathJaxConfig: 'local'};\n",
       "        if (window.MathJax) {MathJax.Hub.Config({SVG: {font: \"STIX-Web\"}});}\n",
       "        if (typeof require !== 'undefined') {\n",
       "        require.undef(\"plotly\");\n",
       "        requirejs.config({\n",
       "            paths: {\n",
       "                'plotly': ['https://cdn.plot.ly/plotly-latest.min']\n",
       "            }\n",
       "        });\n",
       "        require(['plotly'], function(Plotly) {\n",
       "            window._Plotly = Plotly;\n",
       "        });\n",
       "        }\n",
       "        </script>\n",
       "        "
      ]
     },
     "metadata": {},
     "output_type": "display_data"
    },
    {
     "data": {
      "application/vnd.plotly.v1+json": {
       "config": {
        "linkText": "Export to plot.ly",
        "plotlyServerURL": "https://plot.ly",
        "showLink": false
       },
       "data": [
        {
         "mode": "markers+lines",
         "name": "8",
         "type": "scatter",
         "x": [
          0,
          1,
          2,
          3,
          4,
          5,
          6,
          7,
          8,
          9,
          10,
          11,
          12,
          13,
          14,
          15,
          16,
          17,
          18,
          19,
          20,
          21,
          22,
          23,
          24,
          25,
          26,
          27,
          28,
          29
         ],
         "y": [
          0.7837779660024621,
          0.6929852392289404,
          0.5851547354709972,
          0.5296462225784094,
          0.4463236106666516,
          0.8350538071657103,
          0.6189960433470099,
          0.9167880865643309,
          0.7642169783114183,
          0.8305004282291281,
          0.9091119110548598,
          0.9653892255334667,
          1,
          0.896641402594681,
          0.9726669072374574,
          1,
          1,
          1,
          1,
          1,
          1,
          1,
          1,
          1,
          0.9883626737081002,
          1,
          0.9799158870427751,
          0.8488481418831262,
          0.9234159239061012,
          1
         ]
        },
        {
         "marker": {
          "color": "red",
          "size": 10,
          "symbol": 104
         },
         "mode": "markers",
         "name": "",
         "type": "scatter",
         "x": [
          12
         ],
         "y": [
          1
         ]
        },
        {
         "mode": "markers+lines",
         "name": "5",
         "type": "scatter",
         "x": [
          0,
          1,
          2,
          3,
          4,
          5,
          6,
          7,
          8,
          9,
          10,
          11,
          12,
          13,
          14
         ],
         "y": [
          0.6726973992768343,
          0.7002058518880029,
          0.6502769490346116,
          0.6972601253071407,
          0.740263032284709,
          0.7075240767077209,
          0.8797870214027205,
          0.8005329375251147,
          0.8580861654235373,
          0.8866448341820808,
          0.837875761927212,
          0.9757553798485546,
          1,
          0.9670096218046733,
          1
         ]
        },
        {
         "marker": {
          "color": "red",
          "size": 10,
          "symbol": 104
         },
         "mode": "markers",
         "name": "",
         "type": "scatter",
         "x": [
          12
         ],
         "y": [
          1
         ]
        }
       ],
       "layout": {
        "template": {
         "data": {
          "bar": [
           {
            "error_x": {
             "color": "#2a3f5f"
            },
            "error_y": {
             "color": "#2a3f5f"
            },
            "marker": {
             "line": {
              "color": "#E5ECF6",
              "width": 0.5
             }
            },
            "type": "bar"
           }
          ],
          "barpolar": [
           {
            "marker": {
             "line": {
              "color": "#E5ECF6",
              "width": 0.5
             }
            },
            "type": "barpolar"
           }
          ],
          "carpet": [
           {
            "aaxis": {
             "endlinecolor": "#2a3f5f",
             "gridcolor": "white",
             "linecolor": "white",
             "minorgridcolor": "white",
             "startlinecolor": "#2a3f5f"
            },
            "baxis": {
             "endlinecolor": "#2a3f5f",
             "gridcolor": "white",
             "linecolor": "white",
             "minorgridcolor": "white",
             "startlinecolor": "#2a3f5f"
            },
            "type": "carpet"
           }
          ],
          "choropleth": [
           {
            "colorbar": {
             "outlinewidth": 0,
             "ticks": ""
            },
            "type": "choropleth"
           }
          ],
          "contour": [
           {
            "colorbar": {
             "outlinewidth": 0,
             "ticks": ""
            },
            "colorscale": [
             [
              0,
              "#0d0887"
             ],
             [
              0.1111111111111111,
              "#46039f"
             ],
             [
              0.2222222222222222,
              "#7201a8"
             ],
             [
              0.3333333333333333,
              "#9c179e"
             ],
             [
              0.4444444444444444,
              "#bd3786"
             ],
             [
              0.5555555555555556,
              "#d8576b"
             ],
             [
              0.6666666666666666,
              "#ed7953"
             ],
             [
              0.7777777777777778,
              "#fb9f3a"
             ],
             [
              0.8888888888888888,
              "#fdca26"
             ],
             [
              1,
              "#f0f921"
             ]
            ],
            "type": "contour"
           }
          ],
          "contourcarpet": [
           {
            "colorbar": {
             "outlinewidth": 0,
             "ticks": ""
            },
            "type": "contourcarpet"
           }
          ],
          "heatmap": [
           {
            "colorbar": {
             "outlinewidth": 0,
             "ticks": ""
            },
            "colorscale": [
             [
              0,
              "#0d0887"
             ],
             [
              0.1111111111111111,
              "#46039f"
             ],
             [
              0.2222222222222222,
              "#7201a8"
             ],
             [
              0.3333333333333333,
              "#9c179e"
             ],
             [
              0.4444444444444444,
              "#bd3786"
             ],
             [
              0.5555555555555556,
              "#d8576b"
             ],
             [
              0.6666666666666666,
              "#ed7953"
             ],
             [
              0.7777777777777778,
              "#fb9f3a"
             ],
             [
              0.8888888888888888,
              "#fdca26"
             ],
             [
              1,
              "#f0f921"
             ]
            ],
            "type": "heatmap"
           }
          ],
          "heatmapgl": [
           {
            "colorbar": {
             "outlinewidth": 0,
             "ticks": ""
            },
            "colorscale": [
             [
              0,
              "#0d0887"
             ],
             [
              0.1111111111111111,
              "#46039f"
             ],
             [
              0.2222222222222222,
              "#7201a8"
             ],
             [
              0.3333333333333333,
              "#9c179e"
             ],
             [
              0.4444444444444444,
              "#bd3786"
             ],
             [
              0.5555555555555556,
              "#d8576b"
             ],
             [
              0.6666666666666666,
              "#ed7953"
             ],
             [
              0.7777777777777778,
              "#fb9f3a"
             ],
             [
              0.8888888888888888,
              "#fdca26"
             ],
             [
              1,
              "#f0f921"
             ]
            ],
            "type": "heatmapgl"
           }
          ],
          "histogram": [
           {
            "marker": {
             "colorbar": {
              "outlinewidth": 0,
              "ticks": ""
             }
            },
            "type": "histogram"
           }
          ],
          "histogram2d": [
           {
            "colorbar": {
             "outlinewidth": 0,
             "ticks": ""
            },
            "colorscale": [
             [
              0,
              "#0d0887"
             ],
             [
              0.1111111111111111,
              "#46039f"
             ],
             [
              0.2222222222222222,
              "#7201a8"
             ],
             [
              0.3333333333333333,
              "#9c179e"
             ],
             [
              0.4444444444444444,
              "#bd3786"
             ],
             [
              0.5555555555555556,
              "#d8576b"
             ],
             [
              0.6666666666666666,
              "#ed7953"
             ],
             [
              0.7777777777777778,
              "#fb9f3a"
             ],
             [
              0.8888888888888888,
              "#fdca26"
             ],
             [
              1,
              "#f0f921"
             ]
            ],
            "type": "histogram2d"
           }
          ],
          "histogram2dcontour": [
           {
            "colorbar": {
             "outlinewidth": 0,
             "ticks": ""
            },
            "colorscale": [
             [
              0,
              "#0d0887"
             ],
             [
              0.1111111111111111,
              "#46039f"
             ],
             [
              0.2222222222222222,
              "#7201a8"
             ],
             [
              0.3333333333333333,
              "#9c179e"
             ],
             [
              0.4444444444444444,
              "#bd3786"
             ],
             [
              0.5555555555555556,
              "#d8576b"
             ],
             [
              0.6666666666666666,
              "#ed7953"
             ],
             [
              0.7777777777777778,
              "#fb9f3a"
             ],
             [
              0.8888888888888888,
              "#fdca26"
             ],
             [
              1,
              "#f0f921"
             ]
            ],
            "type": "histogram2dcontour"
           }
          ],
          "mesh3d": [
           {
            "colorbar": {
             "outlinewidth": 0,
             "ticks": ""
            },
            "type": "mesh3d"
           }
          ],
          "parcoords": [
           {
            "line": {
             "colorbar": {
              "outlinewidth": 0,
              "ticks": ""
             }
            },
            "type": "parcoords"
           }
          ],
          "pie": [
           {
            "automargin": true,
            "type": "pie"
           }
          ],
          "scatter": [
           {
            "marker": {
             "colorbar": {
              "outlinewidth": 0,
              "ticks": ""
             }
            },
            "type": "scatter"
           }
          ],
          "scatter3d": [
           {
            "line": {
             "colorbar": {
              "outlinewidth": 0,
              "ticks": ""
             }
            },
            "marker": {
             "colorbar": {
              "outlinewidth": 0,
              "ticks": ""
             }
            },
            "type": "scatter3d"
           }
          ],
          "scattercarpet": [
           {
            "marker": {
             "colorbar": {
              "outlinewidth": 0,
              "ticks": ""
             }
            },
            "type": "scattercarpet"
           }
          ],
          "scattergeo": [
           {
            "marker": {
             "colorbar": {
              "outlinewidth": 0,
              "ticks": ""
             }
            },
            "type": "scattergeo"
           }
          ],
          "scattergl": [
           {
            "marker": {
             "colorbar": {
              "outlinewidth": 0,
              "ticks": ""
             }
            },
            "type": "scattergl"
           }
          ],
          "scattermapbox": [
           {
            "marker": {
             "colorbar": {
              "outlinewidth": 0,
              "ticks": ""
             }
            },
            "type": "scattermapbox"
           }
          ],
          "scatterpolar": [
           {
            "marker": {
             "colorbar": {
              "outlinewidth": 0,
              "ticks": ""
             }
            },
            "type": "scatterpolar"
           }
          ],
          "scatterpolargl": [
           {
            "marker": {
             "colorbar": {
              "outlinewidth": 0,
              "ticks": ""
             }
            },
            "type": "scatterpolargl"
           }
          ],
          "scatterternary": [
           {
            "marker": {
             "colorbar": {
              "outlinewidth": 0,
              "ticks": ""
             }
            },
            "type": "scatterternary"
           }
          ],
          "surface": [
           {
            "colorbar": {
             "outlinewidth": 0,
             "ticks": ""
            },
            "colorscale": [
             [
              0,
              "#0d0887"
             ],
             [
              0.1111111111111111,
              "#46039f"
             ],
             [
              0.2222222222222222,
              "#7201a8"
             ],
             [
              0.3333333333333333,
              "#9c179e"
             ],
             [
              0.4444444444444444,
              "#bd3786"
             ],
             [
              0.5555555555555556,
              "#d8576b"
             ],
             [
              0.6666666666666666,
              "#ed7953"
             ],
             [
              0.7777777777777778,
              "#fb9f3a"
             ],
             [
              0.8888888888888888,
              "#fdca26"
             ],
             [
              1,
              "#f0f921"
             ]
            ],
            "type": "surface"
           }
          ],
          "table": [
           {
            "cells": {
             "fill": {
              "color": "#EBF0F8"
             },
             "line": {
              "color": "white"
             }
            },
            "header": {
             "fill": {
              "color": "#C8D4E3"
             },
             "line": {
              "color": "white"
             }
            },
            "type": "table"
           }
          ]
         },
         "layout": {
          "annotationdefaults": {
           "arrowcolor": "#2a3f5f",
           "arrowhead": 0,
           "arrowwidth": 1
          },
          "autotypenumbers": "strict",
          "coloraxis": {
           "colorbar": {
            "outlinewidth": 0,
            "ticks": ""
           }
          },
          "colorscale": {
           "diverging": [
            [
             0,
             "#8e0152"
            ],
            [
             0.1,
             "#c51b7d"
            ],
            [
             0.2,
             "#de77ae"
            ],
            [
             0.3,
             "#f1b6da"
            ],
            [
             0.4,
             "#fde0ef"
            ],
            [
             0.5,
             "#f7f7f7"
            ],
            [
             0.6,
             "#e6f5d0"
            ],
            [
             0.7,
             "#b8e186"
            ],
            [
             0.8,
             "#7fbc41"
            ],
            [
             0.9,
             "#4d9221"
            ],
            [
             1,
             "#276419"
            ]
           ],
           "sequential": [
            [
             0,
             "#0d0887"
            ],
            [
             0.1111111111111111,
             "#46039f"
            ],
            [
             0.2222222222222222,
             "#7201a8"
            ],
            [
             0.3333333333333333,
             "#9c179e"
            ],
            [
             0.4444444444444444,
             "#bd3786"
            ],
            [
             0.5555555555555556,
             "#d8576b"
            ],
            [
             0.6666666666666666,
             "#ed7953"
            ],
            [
             0.7777777777777778,
             "#fb9f3a"
            ],
            [
             0.8888888888888888,
             "#fdca26"
            ],
            [
             1,
             "#f0f921"
            ]
           ],
           "sequentialminus": [
            [
             0,
             "#0d0887"
            ],
            [
             0.1111111111111111,
             "#46039f"
            ],
            [
             0.2222222222222222,
             "#7201a8"
            ],
            [
             0.3333333333333333,
             "#9c179e"
            ],
            [
             0.4444444444444444,
             "#bd3786"
            ],
            [
             0.5555555555555556,
             "#d8576b"
            ],
            [
             0.6666666666666666,
             "#ed7953"
            ],
            [
             0.7777777777777778,
             "#fb9f3a"
            ],
            [
             0.8888888888888888,
             "#fdca26"
            ],
            [
             1,
             "#f0f921"
            ]
           ]
          },
          "colorway": [
           "#636efa",
           "#EF553B",
           "#00cc96",
           "#ab63fa",
           "#FFA15A",
           "#19d3f3",
           "#FF6692",
           "#B6E880",
           "#FF97FF",
           "#FECB52"
          ],
          "font": {
           "color": "#2a3f5f"
          },
          "geo": {
           "bgcolor": "white",
           "lakecolor": "white",
           "landcolor": "#E5ECF6",
           "showlakes": true,
           "showland": true,
           "subunitcolor": "white"
          },
          "hoverlabel": {
           "align": "left"
          },
          "hovermode": "closest",
          "mapbox": {
           "style": "light"
          },
          "paper_bgcolor": "white",
          "plot_bgcolor": "#E5ECF6",
          "polar": {
           "angularaxis": {
            "gridcolor": "white",
            "linecolor": "white",
            "ticks": ""
           },
           "bgcolor": "#E5ECF6",
           "radialaxis": {
            "gridcolor": "white",
            "linecolor": "white",
            "ticks": ""
           }
          },
          "scene": {
           "xaxis": {
            "backgroundcolor": "#E5ECF6",
            "gridcolor": "white",
            "gridwidth": 2,
            "linecolor": "white",
            "showbackground": true,
            "ticks": "",
            "zerolinecolor": "white"
           },
           "yaxis": {
            "backgroundcolor": "#E5ECF6",
            "gridcolor": "white",
            "gridwidth": 2,
            "linecolor": "white",
            "showbackground": true,
            "ticks": "",
            "zerolinecolor": "white"
           },
           "zaxis": {
            "backgroundcolor": "#E5ECF6",
            "gridcolor": "white",
            "gridwidth": 2,
            "linecolor": "white",
            "showbackground": true,
            "ticks": "",
            "zerolinecolor": "white"
           }
          },
          "shapedefaults": {
           "line": {
            "color": "#2a3f5f"
           }
          },
          "ternary": {
           "aaxis": {
            "gridcolor": "white",
            "linecolor": "white",
            "ticks": ""
           },
           "baxis": {
            "gridcolor": "white",
            "linecolor": "white",
            "ticks": ""
           },
           "bgcolor": "#E5ECF6",
           "caxis": {
            "gridcolor": "white",
            "linecolor": "white",
            "ticks": ""
           }
          },
          "title": {
           "x": 0.05
          },
          "xaxis": {
           "automargin": true,
           "gridcolor": "white",
           "linecolor": "white",
           "ticks": "",
           "title": {
            "standoff": 15
           },
           "zerolinecolor": "white",
           "zerolinewidth": 2
          },
          "yaxis": {
           "automargin": true,
           "gridcolor": "white",
           "linecolor": "white",
           "ticks": "",
           "title": {
            "standoff": 15
           },
           "zerolinecolor": "white",
           "zerolinewidth": 2
          }
         }
        },
        "title": {
         "text": "validation_accuracy [8]: 1.00 [5]: 1.00"
        },
        "xaxis": {
         "title": {
          "text": "epoch"
         }
        },
        "yaxis": {
         "title": {
          "text": "validation_accuracy"
         }
        }
       }
      },
      "text/html": [
       "<div>                            <div id=\"49fe30db-ae59-4eee-b7b9-da087e2b8eb0\" class=\"plotly-graph-div\" style=\"height:525px; width:100%;\"></div>            <script type=\"text/javascript\">                require([\"plotly\"], function(Plotly) {                    window.PLOTLYENV=window.PLOTLYENV || {};                                    if (document.getElementById(\"49fe30db-ae59-4eee-b7b9-da087e2b8eb0\")) {                    Plotly.newPlot(                        \"49fe30db-ae59-4eee-b7b9-da087e2b8eb0\",                        [{\"mode\": \"markers+lines\", \"name\": \"8\", \"type\": \"scatter\", \"x\": [0, 1, 2, 3, 4, 5, 6, 7, 8, 9, 10, 11, 12, 13, 14, 15, 16, 17, 18, 19, 20, 21, 22, 23, 24, 25, 26, 27, 28, 29], \"y\": [0.7837779660024621, 0.6929852392289404, 0.5851547354709972, 0.5296462225784094, 0.4463236106666516, 0.8350538071657103, 0.6189960433470099, 0.9167880865643309, 0.7642169783114183, 0.8305004282291281, 0.9091119110548598, 0.9653892255334667, 1.0, 0.896641402594681, 0.9726669072374574, 1.0, 1.0, 1.0, 1.0, 1.0, 1.0, 1.0, 1.0, 1.0, 0.9883626737081002, 1.0, 0.9799158870427751, 0.8488481418831262, 0.9234159239061012, 1.0]}, {\"marker\": {\"color\": \"red\", \"size\": 10, \"symbol\": 104}, \"mode\": \"markers\", \"name\": \"\", \"type\": \"scatter\", \"x\": [12], \"y\": [1.0]}, {\"mode\": \"markers+lines\", \"name\": \"5\", \"type\": \"scatter\", \"x\": [0, 1, 2, 3, 4, 5, 6, 7, 8, 9, 10, 11, 12, 13, 14], \"y\": [0.6726973992768343, 0.7002058518880029, 0.6502769490346116, 0.6972601253071407, 0.740263032284709, 0.7075240767077209, 0.8797870214027205, 0.8005329375251147, 0.8580861654235373, 0.8866448341820808, 0.837875761927212, 0.9757553798485546, 1.0, 0.9670096218046733, 1.0]}, {\"marker\": {\"color\": \"red\", \"size\": 10, \"symbol\": 104}, \"mode\": \"markers\", \"name\": \"\", \"type\": \"scatter\", \"x\": [12], \"y\": [1.0]}],                        {\"template\": {\"data\": {\"bar\": [{\"error_x\": {\"color\": \"#2a3f5f\"}, \"error_y\": {\"color\": \"#2a3f5f\"}, \"marker\": {\"line\": {\"color\": \"#E5ECF6\", \"width\": 0.5}}, \"type\": \"bar\"}], \"barpolar\": [{\"marker\": {\"line\": {\"color\": \"#E5ECF6\", \"width\": 0.5}}, \"type\": \"barpolar\"}], \"carpet\": [{\"aaxis\": {\"endlinecolor\": \"#2a3f5f\", \"gridcolor\": \"white\", \"linecolor\": \"white\", \"minorgridcolor\": \"white\", \"startlinecolor\": \"#2a3f5f\"}, \"baxis\": {\"endlinecolor\": \"#2a3f5f\", \"gridcolor\": \"white\", \"linecolor\": \"white\", \"minorgridcolor\": \"white\", \"startlinecolor\": \"#2a3f5f\"}, \"type\": \"carpet\"}], \"choropleth\": [{\"colorbar\": {\"outlinewidth\": 0, \"ticks\": \"\"}, \"type\": \"choropleth\"}], \"contour\": [{\"colorbar\": {\"outlinewidth\": 0, \"ticks\": \"\"}, \"colorscale\": [[0.0, \"#0d0887\"], [0.1111111111111111, \"#46039f\"], [0.2222222222222222, \"#7201a8\"], [0.3333333333333333, \"#9c179e\"], [0.4444444444444444, \"#bd3786\"], [0.5555555555555556, \"#d8576b\"], [0.6666666666666666, \"#ed7953\"], [0.7777777777777778, \"#fb9f3a\"], [0.8888888888888888, \"#fdca26\"], [1.0, \"#f0f921\"]], \"type\": \"contour\"}], \"contourcarpet\": [{\"colorbar\": {\"outlinewidth\": 0, \"ticks\": \"\"}, \"type\": \"contourcarpet\"}], \"heatmap\": [{\"colorbar\": {\"outlinewidth\": 0, \"ticks\": \"\"}, \"colorscale\": [[0.0, \"#0d0887\"], [0.1111111111111111, \"#46039f\"], [0.2222222222222222, \"#7201a8\"], [0.3333333333333333, \"#9c179e\"], [0.4444444444444444, \"#bd3786\"], [0.5555555555555556, \"#d8576b\"], [0.6666666666666666, \"#ed7953\"], [0.7777777777777778, \"#fb9f3a\"], [0.8888888888888888, \"#fdca26\"], [1.0, \"#f0f921\"]], \"type\": \"heatmap\"}], \"heatmapgl\": [{\"colorbar\": {\"outlinewidth\": 0, \"ticks\": \"\"}, \"colorscale\": [[0.0, \"#0d0887\"], [0.1111111111111111, \"#46039f\"], [0.2222222222222222, \"#7201a8\"], [0.3333333333333333, \"#9c179e\"], [0.4444444444444444, \"#bd3786\"], [0.5555555555555556, \"#d8576b\"], [0.6666666666666666, \"#ed7953\"], [0.7777777777777778, \"#fb9f3a\"], [0.8888888888888888, \"#fdca26\"], [1.0, \"#f0f921\"]], \"type\": \"heatmapgl\"}], \"histogram\": [{\"marker\": {\"colorbar\": {\"outlinewidth\": 0, \"ticks\": \"\"}}, \"type\": \"histogram\"}], \"histogram2d\": [{\"colorbar\": {\"outlinewidth\": 0, \"ticks\": \"\"}, \"colorscale\": [[0.0, \"#0d0887\"], [0.1111111111111111, \"#46039f\"], [0.2222222222222222, \"#7201a8\"], [0.3333333333333333, \"#9c179e\"], [0.4444444444444444, \"#bd3786\"], [0.5555555555555556, \"#d8576b\"], [0.6666666666666666, \"#ed7953\"], [0.7777777777777778, \"#fb9f3a\"], [0.8888888888888888, \"#fdca26\"], [1.0, \"#f0f921\"]], \"type\": \"histogram2d\"}], \"histogram2dcontour\": [{\"colorbar\": {\"outlinewidth\": 0, \"ticks\": \"\"}, \"colorscale\": [[0.0, \"#0d0887\"], [0.1111111111111111, \"#46039f\"], [0.2222222222222222, \"#7201a8\"], [0.3333333333333333, \"#9c179e\"], [0.4444444444444444, \"#bd3786\"], [0.5555555555555556, \"#d8576b\"], [0.6666666666666666, \"#ed7953\"], [0.7777777777777778, \"#fb9f3a\"], [0.8888888888888888, \"#fdca26\"], [1.0, \"#f0f921\"]], \"type\": \"histogram2dcontour\"}], \"mesh3d\": [{\"colorbar\": {\"outlinewidth\": 0, \"ticks\": \"\"}, \"type\": \"mesh3d\"}], \"parcoords\": [{\"line\": {\"colorbar\": {\"outlinewidth\": 0, \"ticks\": \"\"}}, \"type\": \"parcoords\"}], \"pie\": [{\"automargin\": true, \"type\": \"pie\"}], \"scatter\": [{\"marker\": {\"colorbar\": {\"outlinewidth\": 0, \"ticks\": \"\"}}, \"type\": \"scatter\"}], \"scatter3d\": [{\"line\": {\"colorbar\": {\"outlinewidth\": 0, \"ticks\": \"\"}}, \"marker\": {\"colorbar\": {\"outlinewidth\": 0, \"ticks\": \"\"}}, \"type\": \"scatter3d\"}], \"scattercarpet\": [{\"marker\": {\"colorbar\": {\"outlinewidth\": 0, \"ticks\": \"\"}}, \"type\": \"scattercarpet\"}], \"scattergeo\": [{\"marker\": {\"colorbar\": {\"outlinewidth\": 0, \"ticks\": \"\"}}, \"type\": \"scattergeo\"}], \"scattergl\": [{\"marker\": {\"colorbar\": {\"outlinewidth\": 0, \"ticks\": \"\"}}, \"type\": \"scattergl\"}], \"scattermapbox\": [{\"marker\": {\"colorbar\": {\"outlinewidth\": 0, \"ticks\": \"\"}}, \"type\": \"scattermapbox\"}], \"scatterpolar\": [{\"marker\": {\"colorbar\": {\"outlinewidth\": 0, \"ticks\": \"\"}}, \"type\": \"scatterpolar\"}], \"scatterpolargl\": [{\"marker\": {\"colorbar\": {\"outlinewidth\": 0, \"ticks\": \"\"}}, \"type\": \"scatterpolargl\"}], \"scatterternary\": [{\"marker\": {\"colorbar\": {\"outlinewidth\": 0, \"ticks\": \"\"}}, \"type\": \"scatterternary\"}], \"surface\": [{\"colorbar\": {\"outlinewidth\": 0, \"ticks\": \"\"}, \"colorscale\": [[0.0, \"#0d0887\"], [0.1111111111111111, \"#46039f\"], [0.2222222222222222, \"#7201a8\"], [0.3333333333333333, \"#9c179e\"], [0.4444444444444444, \"#bd3786\"], [0.5555555555555556, \"#d8576b\"], [0.6666666666666666, \"#ed7953\"], [0.7777777777777778, \"#fb9f3a\"], [0.8888888888888888, \"#fdca26\"], [1.0, \"#f0f921\"]], \"type\": \"surface\"}], \"table\": [{\"cells\": {\"fill\": {\"color\": \"#EBF0F8\"}, \"line\": {\"color\": \"white\"}}, \"header\": {\"fill\": {\"color\": \"#C8D4E3\"}, \"line\": {\"color\": \"white\"}}, \"type\": \"table\"}]}, \"layout\": {\"annotationdefaults\": {\"arrowcolor\": \"#2a3f5f\", \"arrowhead\": 0, \"arrowwidth\": 1}, \"autotypenumbers\": \"strict\", \"coloraxis\": {\"colorbar\": {\"outlinewidth\": 0, \"ticks\": \"\"}}, \"colorscale\": {\"diverging\": [[0, \"#8e0152\"], [0.1, \"#c51b7d\"], [0.2, \"#de77ae\"], [0.3, \"#f1b6da\"], [0.4, \"#fde0ef\"], [0.5, \"#f7f7f7\"], [0.6, \"#e6f5d0\"], [0.7, \"#b8e186\"], [0.8, \"#7fbc41\"], [0.9, \"#4d9221\"], [1, \"#276419\"]], \"sequential\": [[0.0, \"#0d0887\"], [0.1111111111111111, \"#46039f\"], [0.2222222222222222, \"#7201a8\"], [0.3333333333333333, \"#9c179e\"], [0.4444444444444444, \"#bd3786\"], [0.5555555555555556, \"#d8576b\"], [0.6666666666666666, \"#ed7953\"], [0.7777777777777778, \"#fb9f3a\"], [0.8888888888888888, \"#fdca26\"], [1.0, \"#f0f921\"]], \"sequentialminus\": [[0.0, \"#0d0887\"], [0.1111111111111111, \"#46039f\"], [0.2222222222222222, \"#7201a8\"], [0.3333333333333333, \"#9c179e\"], [0.4444444444444444, \"#bd3786\"], [0.5555555555555556, \"#d8576b\"], [0.6666666666666666, \"#ed7953\"], [0.7777777777777778, \"#fb9f3a\"], [0.8888888888888888, \"#fdca26\"], [1.0, \"#f0f921\"]]}, \"colorway\": [\"#636efa\", \"#EF553B\", \"#00cc96\", \"#ab63fa\", \"#FFA15A\", \"#19d3f3\", \"#FF6692\", \"#B6E880\", \"#FF97FF\", \"#FECB52\"], \"font\": {\"color\": \"#2a3f5f\"}, \"geo\": {\"bgcolor\": \"white\", \"lakecolor\": \"white\", \"landcolor\": \"#E5ECF6\", \"showlakes\": true, \"showland\": true, \"subunitcolor\": \"white\"}, \"hoverlabel\": {\"align\": \"left\"}, \"hovermode\": \"closest\", \"mapbox\": {\"style\": \"light\"}, \"paper_bgcolor\": \"white\", \"plot_bgcolor\": \"#E5ECF6\", \"polar\": {\"angularaxis\": {\"gridcolor\": \"white\", \"linecolor\": \"white\", \"ticks\": \"\"}, \"bgcolor\": \"#E5ECF6\", \"radialaxis\": {\"gridcolor\": \"white\", \"linecolor\": \"white\", \"ticks\": \"\"}}, \"scene\": {\"xaxis\": {\"backgroundcolor\": \"#E5ECF6\", \"gridcolor\": \"white\", \"gridwidth\": 2, \"linecolor\": \"white\", \"showbackground\": true, \"ticks\": \"\", \"zerolinecolor\": \"white\"}, \"yaxis\": {\"backgroundcolor\": \"#E5ECF6\", \"gridcolor\": \"white\", \"gridwidth\": 2, \"linecolor\": \"white\", \"showbackground\": true, \"ticks\": \"\", \"zerolinecolor\": \"white\"}, \"zaxis\": {\"backgroundcolor\": \"#E5ECF6\", \"gridcolor\": \"white\", \"gridwidth\": 2, \"linecolor\": \"white\", \"showbackground\": true, \"ticks\": \"\", \"zerolinecolor\": \"white\"}}, \"shapedefaults\": {\"line\": {\"color\": \"#2a3f5f\"}}, \"ternary\": {\"aaxis\": {\"gridcolor\": \"white\", \"linecolor\": \"white\", \"ticks\": \"\"}, \"baxis\": {\"gridcolor\": \"white\", \"linecolor\": \"white\", \"ticks\": \"\"}, \"bgcolor\": \"#E5ECF6\", \"caxis\": {\"gridcolor\": \"white\", \"linecolor\": \"white\", \"ticks\": \"\"}}, \"title\": {\"x\": 0.05}, \"xaxis\": {\"automargin\": true, \"gridcolor\": \"white\", \"linecolor\": \"white\", \"ticks\": \"\", \"title\": {\"standoff\": 15}, \"zerolinecolor\": \"white\", \"zerolinewidth\": 2}, \"yaxis\": {\"automargin\": true, \"gridcolor\": \"white\", \"linecolor\": \"white\", \"ticks\": \"\", \"title\": {\"standoff\": 15}, \"zerolinecolor\": \"white\", \"zerolinewidth\": 2}}}, \"title\": {\"text\": \"validation_accuracy [8]: 1.00 [5]: 1.00\"}, \"xaxis\": {\"title\": {\"text\": \"epoch\"}}, \"yaxis\": {\"title\": {\"text\": \"validation_accuracy\"}}},                        {\"responsive\": true}                    ).then(function(){\n",
       "                            \n",
       "var gd = document.getElementById('49fe30db-ae59-4eee-b7b9-da087e2b8eb0');\n",
       "var x = new MutationObserver(function (mutations, observer) {{\n",
       "        var display = window.getComputedStyle(gd).display;\n",
       "        if (!display || display === 'none') {{\n",
       "            console.log([gd, 'removed!']);\n",
       "            Plotly.purge(gd);\n",
       "            observer.disconnect();\n",
       "        }}\n",
       "}});\n",
       "\n",
       "// Listen for the removal of the full notebook cells\n",
       "var notebookContainer = gd.closest('#notebook-container');\n",
       "if (notebookContainer) {{\n",
       "    x.observe(notebookContainer, {childList: true});\n",
       "}}\n",
       "\n",
       "// Listen for the clearing of the current output cell\n",
       "var outputEl = gd.closest('.output');\n",
       "if (outputEl) {{\n",
       "    x.observe(outputEl, {childList: true});\n",
       "}}\n",
       "\n",
       "                        })                };                });            </script>        </div>"
      ]
     },
     "metadata": {},
     "output_type": "display_data"
    },
    {
     "data": {
      "text/html": [
       "<div>\n",
       "<style scoped>\n",
       "    .dataframe tbody tr th:only-of-type {\n",
       "        vertical-align: middle;\n",
       "    }\n",
       "\n",
       "    .dataframe tbody tr th {\n",
       "        vertical-align: top;\n",
       "    }\n",
       "\n",
       "    .dataframe thead th {\n",
       "        text-align: right;\n",
       "    }\n",
       "</style>\n",
       "<table border=\"1\" class=\"dataframe\">\n",
       "  <thead>\n",
       "    <tr style=\"text-align: right;\">\n",
       "      <th></th>\n",
       "      <th>epochs</th>\n",
       "      <th>validation_accuracy</th>\n",
       "    </tr>\n",
       "  </thead>\n",
       "  <tbody>\n",
       "    <tr>\n",
       "      <th>8</th>\n",
       "      <td>30.0</td>\n",
       "      <td>1.0</td>\n",
       "    </tr>\n",
       "    <tr>\n",
       "      <th>5</th>\n",
       "      <td>15.0</td>\n",
       "      <td>1.0</td>\n",
       "    </tr>\n",
       "  </tbody>\n",
       "</table>\n",
       "</div>"
      ],
      "text/plain": [
       "   epochs  validation_accuracy\n",
       "8    30.0                  1.0\n",
       "5    15.0                  1.0"
      ]
     },
     "metadata": {},
     "output_type": "display_data"
    }
   ],
   "source": [
    "metric_visualization()"
   ]
  },
  {
   "cell_type": "code",
   "execution_count": null,
   "metadata": {},
   "outputs": [
    {
     "data": {
      "text/html": [
       "        <script type=\"text/javascript\">\n",
       "        window.PlotlyConfig = {MathJaxConfig: 'local'};\n",
       "        if (window.MathJax) {MathJax.Hub.Config({SVG: {font: \"STIX-Web\"}});}\n",
       "        if (typeof require !== 'undefined') {\n",
       "        require.undef(\"plotly\");\n",
       "        requirejs.config({\n",
       "            paths: {\n",
       "                'plotly': ['https://cdn.plot.ly/plotly-latest.min']\n",
       "            }\n",
       "        });\n",
       "        require(['plotly'], function(Plotly) {\n",
       "            window._Plotly = Plotly;\n",
       "        });\n",
       "        }\n",
       "        </script>\n",
       "        "
      ]
     },
     "metadata": {},
     "output_type": "display_data"
    },
    {
     "data": {
      "application/vnd.plotly.v1+json": {
       "config": {
        "linkText": "Export to plot.ly",
        "plotlyServerURL": "https://plot.ly",
        "showLink": false
       },
       "data": [
        {
         "mode": "markers+lines",
         "name": "5",
         "type": "scatter",
         "x": [
          0,
          1,
          2,
          3,
          4,
          5,
          6,
          7,
          8,
          9,
          10,
          11,
          12,
          13,
          14
         ],
         "y": [
          0.6171229654482736,
          0.5517454745344785,
          0.762541238972271,
          0.5508114795143182,
          0.6786874865765975,
          0.6438799958389123,
          0.8297581083318815,
          0.6065866972503822,
          0.9177244737265535,
          0.9222752114001255,
          0.8309644674358704,
          0.9917271437414521,
          0.8443791620636016,
          0.8497085945899364,
          0.9969701593691489
         ]
        },
        {
         "marker": {
          "color": "red",
          "size": 10,
          "symbol": 104
         },
         "mode": "markers",
         "name": "",
         "type": "scatter",
         "x": [
          14
         ],
         "y": [
          0.9969701593691489
         ]
        },
        {
         "mode": "markers+lines",
         "name": "0",
         "type": "scatter",
         "x": [
          0,
          1,
          2,
          3,
          4
         ],
         "y": [
          0.247021022135702,
          0.37213858977396796,
          0.28269001575211705,
          0.5118722065961544,
          0.3054763634198644
         ]
        },
        {
         "marker": {
          "color": "red",
          "size": 10,
          "symbol": 104
         },
         "mode": "markers",
         "name": "",
         "type": "scatter",
         "x": [
          3
         ],
         "y": [
          0.5118722065961544
         ]
        }
       ],
       "layout": {
        "template": {
         "data": {
          "bar": [
           {
            "error_x": {
             "color": "#2a3f5f"
            },
            "error_y": {
             "color": "#2a3f5f"
            },
            "marker": {
             "line": {
              "color": "#E5ECF6",
              "width": 0.5
             }
            },
            "type": "bar"
           }
          ],
          "barpolar": [
           {
            "marker": {
             "line": {
              "color": "#E5ECF6",
              "width": 0.5
             }
            },
            "type": "barpolar"
           }
          ],
          "carpet": [
           {
            "aaxis": {
             "endlinecolor": "#2a3f5f",
             "gridcolor": "white",
             "linecolor": "white",
             "minorgridcolor": "white",
             "startlinecolor": "#2a3f5f"
            },
            "baxis": {
             "endlinecolor": "#2a3f5f",
             "gridcolor": "white",
             "linecolor": "white",
             "minorgridcolor": "white",
             "startlinecolor": "#2a3f5f"
            },
            "type": "carpet"
           }
          ],
          "choropleth": [
           {
            "colorbar": {
             "outlinewidth": 0,
             "ticks": ""
            },
            "type": "choropleth"
           }
          ],
          "contour": [
           {
            "colorbar": {
             "outlinewidth": 0,
             "ticks": ""
            },
            "colorscale": [
             [
              0,
              "#0d0887"
             ],
             [
              0.1111111111111111,
              "#46039f"
             ],
             [
              0.2222222222222222,
              "#7201a8"
             ],
             [
              0.3333333333333333,
              "#9c179e"
             ],
             [
              0.4444444444444444,
              "#bd3786"
             ],
             [
              0.5555555555555556,
              "#d8576b"
             ],
             [
              0.6666666666666666,
              "#ed7953"
             ],
             [
              0.7777777777777778,
              "#fb9f3a"
             ],
             [
              0.8888888888888888,
              "#fdca26"
             ],
             [
              1,
              "#f0f921"
             ]
            ],
            "type": "contour"
           }
          ],
          "contourcarpet": [
           {
            "colorbar": {
             "outlinewidth": 0,
             "ticks": ""
            },
            "type": "contourcarpet"
           }
          ],
          "heatmap": [
           {
            "colorbar": {
             "outlinewidth": 0,
             "ticks": ""
            },
            "colorscale": [
             [
              0,
              "#0d0887"
             ],
             [
              0.1111111111111111,
              "#46039f"
             ],
             [
              0.2222222222222222,
              "#7201a8"
             ],
             [
              0.3333333333333333,
              "#9c179e"
             ],
             [
              0.4444444444444444,
              "#bd3786"
             ],
             [
              0.5555555555555556,
              "#d8576b"
             ],
             [
              0.6666666666666666,
              "#ed7953"
             ],
             [
              0.7777777777777778,
              "#fb9f3a"
             ],
             [
              0.8888888888888888,
              "#fdca26"
             ],
             [
              1,
              "#f0f921"
             ]
            ],
            "type": "heatmap"
           }
          ],
          "heatmapgl": [
           {
            "colorbar": {
             "outlinewidth": 0,
             "ticks": ""
            },
            "colorscale": [
             [
              0,
              "#0d0887"
             ],
             [
              0.1111111111111111,
              "#46039f"
             ],
             [
              0.2222222222222222,
              "#7201a8"
             ],
             [
              0.3333333333333333,
              "#9c179e"
             ],
             [
              0.4444444444444444,
              "#bd3786"
             ],
             [
              0.5555555555555556,
              "#d8576b"
             ],
             [
              0.6666666666666666,
              "#ed7953"
             ],
             [
              0.7777777777777778,
              "#fb9f3a"
             ],
             [
              0.8888888888888888,
              "#fdca26"
             ],
             [
              1,
              "#f0f921"
             ]
            ],
            "type": "heatmapgl"
           }
          ],
          "histogram": [
           {
            "marker": {
             "colorbar": {
              "outlinewidth": 0,
              "ticks": ""
             }
            },
            "type": "histogram"
           }
          ],
          "histogram2d": [
           {
            "colorbar": {
             "outlinewidth": 0,
             "ticks": ""
            },
            "colorscale": [
             [
              0,
              "#0d0887"
             ],
             [
              0.1111111111111111,
              "#46039f"
             ],
             [
              0.2222222222222222,
              "#7201a8"
             ],
             [
              0.3333333333333333,
              "#9c179e"
             ],
             [
              0.4444444444444444,
              "#bd3786"
             ],
             [
              0.5555555555555556,
              "#d8576b"
             ],
             [
              0.6666666666666666,
              "#ed7953"
             ],
             [
              0.7777777777777778,
              "#fb9f3a"
             ],
             [
              0.8888888888888888,
              "#fdca26"
             ],
             [
              1,
              "#f0f921"
             ]
            ],
            "type": "histogram2d"
           }
          ],
          "histogram2dcontour": [
           {
            "colorbar": {
             "outlinewidth": 0,
             "ticks": ""
            },
            "colorscale": [
             [
              0,
              "#0d0887"
             ],
             [
              0.1111111111111111,
              "#46039f"
             ],
             [
              0.2222222222222222,
              "#7201a8"
             ],
             [
              0.3333333333333333,
              "#9c179e"
             ],
             [
              0.4444444444444444,
              "#bd3786"
             ],
             [
              0.5555555555555556,
              "#d8576b"
             ],
             [
              0.6666666666666666,
              "#ed7953"
             ],
             [
              0.7777777777777778,
              "#fb9f3a"
             ],
             [
              0.8888888888888888,
              "#fdca26"
             ],
             [
              1,
              "#f0f921"
             ]
            ],
            "type": "histogram2dcontour"
           }
          ],
          "mesh3d": [
           {
            "colorbar": {
             "outlinewidth": 0,
             "ticks": ""
            },
            "type": "mesh3d"
           }
          ],
          "parcoords": [
           {
            "line": {
             "colorbar": {
              "outlinewidth": 0,
              "ticks": ""
             }
            },
            "type": "parcoords"
           }
          ],
          "pie": [
           {
            "automargin": true,
            "type": "pie"
           }
          ],
          "scatter": [
           {
            "marker": {
             "colorbar": {
              "outlinewidth": 0,
              "ticks": ""
             }
            },
            "type": "scatter"
           }
          ],
          "scatter3d": [
           {
            "line": {
             "colorbar": {
              "outlinewidth": 0,
              "ticks": ""
             }
            },
            "marker": {
             "colorbar": {
              "outlinewidth": 0,
              "ticks": ""
             }
            },
            "type": "scatter3d"
           }
          ],
          "scattercarpet": [
           {
            "marker": {
             "colorbar": {
              "outlinewidth": 0,
              "ticks": ""
             }
            },
            "type": "scattercarpet"
           }
          ],
          "scattergeo": [
           {
            "marker": {
             "colorbar": {
              "outlinewidth": 0,
              "ticks": ""
             }
            },
            "type": "scattergeo"
           }
          ],
          "scattergl": [
           {
            "marker": {
             "colorbar": {
              "outlinewidth": 0,
              "ticks": ""
             }
            },
            "type": "scattergl"
           }
          ],
          "scattermapbox": [
           {
            "marker": {
             "colorbar": {
              "outlinewidth": 0,
              "ticks": ""
             }
            },
            "type": "scattermapbox"
           }
          ],
          "scatterpolar": [
           {
            "marker": {
             "colorbar": {
              "outlinewidth": 0,
              "ticks": ""
             }
            },
            "type": "scatterpolar"
           }
          ],
          "scatterpolargl": [
           {
            "marker": {
             "colorbar": {
              "outlinewidth": 0,
              "ticks": ""
             }
            },
            "type": "scatterpolargl"
           }
          ],
          "scatterternary": [
           {
            "marker": {
             "colorbar": {
              "outlinewidth": 0,
              "ticks": ""
             }
            },
            "type": "scatterternary"
           }
          ],
          "surface": [
           {
            "colorbar": {
             "outlinewidth": 0,
             "ticks": ""
            },
            "colorscale": [
             [
              0,
              "#0d0887"
             ],
             [
              0.1111111111111111,
              "#46039f"
             ],
             [
              0.2222222222222222,
              "#7201a8"
             ],
             [
              0.3333333333333333,
              "#9c179e"
             ],
             [
              0.4444444444444444,
              "#bd3786"
             ],
             [
              0.5555555555555556,
              "#d8576b"
             ],
             [
              0.6666666666666666,
              "#ed7953"
             ],
             [
              0.7777777777777778,
              "#fb9f3a"
             ],
             [
              0.8888888888888888,
              "#fdca26"
             ],
             [
              1,
              "#f0f921"
             ]
            ],
            "type": "surface"
           }
          ],
          "table": [
           {
            "cells": {
             "fill": {
              "color": "#EBF0F8"
             },
             "line": {
              "color": "white"
             }
            },
            "header": {
             "fill": {
              "color": "#C8D4E3"
             },
             "line": {
              "color": "white"
             }
            },
            "type": "table"
           }
          ]
         },
         "layout": {
          "annotationdefaults": {
           "arrowcolor": "#2a3f5f",
           "arrowhead": 0,
           "arrowwidth": 1
          },
          "autotypenumbers": "strict",
          "coloraxis": {
           "colorbar": {
            "outlinewidth": 0,
            "ticks": ""
           }
          },
          "colorscale": {
           "diverging": [
            [
             0,
             "#8e0152"
            ],
            [
             0.1,
             "#c51b7d"
            ],
            [
             0.2,
             "#de77ae"
            ],
            [
             0.3,
             "#f1b6da"
            ],
            [
             0.4,
             "#fde0ef"
            ],
            [
             0.5,
             "#f7f7f7"
            ],
            [
             0.6,
             "#e6f5d0"
            ],
            [
             0.7,
             "#b8e186"
            ],
            [
             0.8,
             "#7fbc41"
            ],
            [
             0.9,
             "#4d9221"
            ],
            [
             1,
             "#276419"
            ]
           ],
           "sequential": [
            [
             0,
             "#0d0887"
            ],
            [
             0.1111111111111111,
             "#46039f"
            ],
            [
             0.2222222222222222,
             "#7201a8"
            ],
            [
             0.3333333333333333,
             "#9c179e"
            ],
            [
             0.4444444444444444,
             "#bd3786"
            ],
            [
             0.5555555555555556,
             "#d8576b"
            ],
            [
             0.6666666666666666,
             "#ed7953"
            ],
            [
             0.7777777777777778,
             "#fb9f3a"
            ],
            [
             0.8888888888888888,
             "#fdca26"
            ],
            [
             1,
             "#f0f921"
            ]
           ],
           "sequentialminus": [
            [
             0,
             "#0d0887"
            ],
            [
             0.1111111111111111,
             "#46039f"
            ],
            [
             0.2222222222222222,
             "#7201a8"
            ],
            [
             0.3333333333333333,
             "#9c179e"
            ],
            [
             0.4444444444444444,
             "#bd3786"
            ],
            [
             0.5555555555555556,
             "#d8576b"
            ],
            [
             0.6666666666666666,
             "#ed7953"
            ],
            [
             0.7777777777777778,
             "#fb9f3a"
            ],
            [
             0.8888888888888888,
             "#fdca26"
            ],
            [
             1,
             "#f0f921"
            ]
           ]
          },
          "colorway": [
           "#636efa",
           "#EF553B",
           "#00cc96",
           "#ab63fa",
           "#FFA15A",
           "#19d3f3",
           "#FF6692",
           "#B6E880",
           "#FF97FF",
           "#FECB52"
          ],
          "font": {
           "color": "#2a3f5f"
          },
          "geo": {
           "bgcolor": "white",
           "lakecolor": "white",
           "landcolor": "#E5ECF6",
           "showlakes": true,
           "showland": true,
           "subunitcolor": "white"
          },
          "hoverlabel": {
           "align": "left"
          },
          "hovermode": "closest",
          "mapbox": {
           "style": "light"
          },
          "paper_bgcolor": "white",
          "plot_bgcolor": "#E5ECF6",
          "polar": {
           "angularaxis": {
            "gridcolor": "white",
            "linecolor": "white",
            "ticks": ""
           },
           "bgcolor": "#E5ECF6",
           "radialaxis": {
            "gridcolor": "white",
            "linecolor": "white",
            "ticks": ""
           }
          },
          "scene": {
           "xaxis": {
            "backgroundcolor": "#E5ECF6",
            "gridcolor": "white",
            "gridwidth": 2,
            "linecolor": "white",
            "showbackground": true,
            "ticks": "",
            "zerolinecolor": "white"
           },
           "yaxis": {
            "backgroundcolor": "#E5ECF6",
            "gridcolor": "white",
            "gridwidth": 2,
            "linecolor": "white",
            "showbackground": true,
            "ticks": "",
            "zerolinecolor": "white"
           },
           "zaxis": {
            "backgroundcolor": "#E5ECF6",
            "gridcolor": "white",
            "gridwidth": 2,
            "linecolor": "white",
            "showbackground": true,
            "ticks": "",
            "zerolinecolor": "white"
           }
          },
          "shapedefaults": {
           "line": {
            "color": "#2a3f5f"
           }
          },
          "ternary": {
           "aaxis": {
            "gridcolor": "white",
            "linecolor": "white",
            "ticks": ""
           },
           "baxis": {
            "gridcolor": "white",
            "linecolor": "white",
            "ticks": ""
           },
           "bgcolor": "#E5ECF6",
           "caxis": {
            "gridcolor": "white",
            "linecolor": "white",
            "ticks": ""
           }
          },
          "title": {
           "x": 0.05
          },
          "xaxis": {
           "automargin": true,
           "gridcolor": "white",
           "linecolor": "white",
           "ticks": "",
           "title": {
            "standoff": 15
           },
           "zerolinecolor": "white",
           "zerolinewidth": 2
          },
          "yaxis": {
           "automargin": true,
           "gridcolor": "white",
           "linecolor": "white",
           "ticks": "",
           "title": {
            "standoff": 15
           },
           "zerolinecolor": "white",
           "zerolinewidth": 2
          }
         }
        },
        "title": {
         "text": "test_accuracy [5]: 1.00 [0]: 0.51"
        },
        "xaxis": {
         "title": {
          "text": "epoch"
         }
        },
        "yaxis": {
         "title": {
          "text": "test_accuracy"
         }
        }
       }
      },
      "text/html": [
       "<div>                            <div id=\"1c6ef36c-bd3f-4de2-b435-f5bf00fb5fd5\" class=\"plotly-graph-div\" style=\"height:525px; width:100%;\"></div>            <script type=\"text/javascript\">                require([\"plotly\"], function(Plotly) {                    window.PLOTLYENV=window.PLOTLYENV || {};                                    if (document.getElementById(\"1c6ef36c-bd3f-4de2-b435-f5bf00fb5fd5\")) {                    Plotly.newPlot(                        \"1c6ef36c-bd3f-4de2-b435-f5bf00fb5fd5\",                        [{\"mode\": \"markers+lines\", \"name\": \"5\", \"type\": \"scatter\", \"x\": [0, 1, 2, 3, 4, 5, 6, 7, 8, 9, 10, 11, 12, 13, 14], \"y\": [0.6171229654482736, 0.5517454745344785, 0.762541238972271, 0.5508114795143182, 0.6786874865765975, 0.6438799958389123, 0.8297581083318815, 0.6065866972503822, 0.9177244737265535, 0.9222752114001255, 0.8309644674358704, 0.9917271437414521, 0.8443791620636016, 0.8497085945899364, 0.9969701593691489]}, {\"marker\": {\"color\": \"red\", \"size\": 10, \"symbol\": 104}, \"mode\": \"markers\", \"name\": \"\", \"type\": \"scatter\", \"x\": [14], \"y\": [0.9969701593691489]}, {\"mode\": \"markers+lines\", \"name\": \"0\", \"type\": \"scatter\", \"x\": [0, 1, 2, 3, 4], \"y\": [0.247021022135702, 0.37213858977396796, 0.28269001575211705, 0.5118722065961544, 0.3054763634198644]}, {\"marker\": {\"color\": \"red\", \"size\": 10, \"symbol\": 104}, \"mode\": \"markers\", \"name\": \"\", \"type\": \"scatter\", \"x\": [3], \"y\": [0.5118722065961544]}],                        {\"template\": {\"data\": {\"bar\": [{\"error_x\": {\"color\": \"#2a3f5f\"}, \"error_y\": {\"color\": \"#2a3f5f\"}, \"marker\": {\"line\": {\"color\": \"#E5ECF6\", \"width\": 0.5}}, \"type\": \"bar\"}], \"barpolar\": [{\"marker\": {\"line\": {\"color\": \"#E5ECF6\", \"width\": 0.5}}, \"type\": \"barpolar\"}], \"carpet\": [{\"aaxis\": {\"endlinecolor\": \"#2a3f5f\", \"gridcolor\": \"white\", \"linecolor\": \"white\", \"minorgridcolor\": \"white\", \"startlinecolor\": \"#2a3f5f\"}, \"baxis\": {\"endlinecolor\": \"#2a3f5f\", \"gridcolor\": \"white\", \"linecolor\": \"white\", \"minorgridcolor\": \"white\", \"startlinecolor\": \"#2a3f5f\"}, \"type\": \"carpet\"}], \"choropleth\": [{\"colorbar\": {\"outlinewidth\": 0, \"ticks\": \"\"}, \"type\": \"choropleth\"}], \"contour\": [{\"colorbar\": {\"outlinewidth\": 0, \"ticks\": \"\"}, \"colorscale\": [[0.0, \"#0d0887\"], [0.1111111111111111, \"#46039f\"], [0.2222222222222222, \"#7201a8\"], [0.3333333333333333, \"#9c179e\"], [0.4444444444444444, \"#bd3786\"], [0.5555555555555556, \"#d8576b\"], [0.6666666666666666, \"#ed7953\"], [0.7777777777777778, \"#fb9f3a\"], [0.8888888888888888, \"#fdca26\"], [1.0, \"#f0f921\"]], \"type\": \"contour\"}], \"contourcarpet\": [{\"colorbar\": {\"outlinewidth\": 0, \"ticks\": \"\"}, \"type\": \"contourcarpet\"}], \"heatmap\": [{\"colorbar\": {\"outlinewidth\": 0, \"ticks\": \"\"}, \"colorscale\": [[0.0, \"#0d0887\"], [0.1111111111111111, \"#46039f\"], [0.2222222222222222, \"#7201a8\"], [0.3333333333333333, \"#9c179e\"], [0.4444444444444444, \"#bd3786\"], [0.5555555555555556, \"#d8576b\"], [0.6666666666666666, \"#ed7953\"], [0.7777777777777778, \"#fb9f3a\"], [0.8888888888888888, \"#fdca26\"], [1.0, \"#f0f921\"]], \"type\": \"heatmap\"}], \"heatmapgl\": [{\"colorbar\": {\"outlinewidth\": 0, \"ticks\": \"\"}, \"colorscale\": [[0.0, \"#0d0887\"], [0.1111111111111111, \"#46039f\"], [0.2222222222222222, \"#7201a8\"], [0.3333333333333333, \"#9c179e\"], [0.4444444444444444, \"#bd3786\"], [0.5555555555555556, \"#d8576b\"], [0.6666666666666666, \"#ed7953\"], [0.7777777777777778, \"#fb9f3a\"], [0.8888888888888888, \"#fdca26\"], [1.0, \"#f0f921\"]], \"type\": \"heatmapgl\"}], \"histogram\": [{\"marker\": {\"colorbar\": {\"outlinewidth\": 0, \"ticks\": \"\"}}, \"type\": \"histogram\"}], \"histogram2d\": [{\"colorbar\": {\"outlinewidth\": 0, \"ticks\": \"\"}, \"colorscale\": [[0.0, \"#0d0887\"], [0.1111111111111111, \"#46039f\"], [0.2222222222222222, \"#7201a8\"], [0.3333333333333333, \"#9c179e\"], [0.4444444444444444, \"#bd3786\"], [0.5555555555555556, \"#d8576b\"], [0.6666666666666666, \"#ed7953\"], [0.7777777777777778, \"#fb9f3a\"], [0.8888888888888888, \"#fdca26\"], [1.0, \"#f0f921\"]], \"type\": \"histogram2d\"}], \"histogram2dcontour\": [{\"colorbar\": {\"outlinewidth\": 0, \"ticks\": \"\"}, \"colorscale\": [[0.0, \"#0d0887\"], [0.1111111111111111, \"#46039f\"], [0.2222222222222222, \"#7201a8\"], [0.3333333333333333, \"#9c179e\"], [0.4444444444444444, \"#bd3786\"], [0.5555555555555556, \"#d8576b\"], [0.6666666666666666, \"#ed7953\"], [0.7777777777777778, \"#fb9f3a\"], [0.8888888888888888, \"#fdca26\"], [1.0, \"#f0f921\"]], \"type\": \"histogram2dcontour\"}], \"mesh3d\": [{\"colorbar\": {\"outlinewidth\": 0, \"ticks\": \"\"}, \"type\": \"mesh3d\"}], \"parcoords\": [{\"line\": {\"colorbar\": {\"outlinewidth\": 0, \"ticks\": \"\"}}, \"type\": \"parcoords\"}], \"pie\": [{\"automargin\": true, \"type\": \"pie\"}], \"scatter\": [{\"marker\": {\"colorbar\": {\"outlinewidth\": 0, \"ticks\": \"\"}}, \"type\": \"scatter\"}], \"scatter3d\": [{\"line\": {\"colorbar\": {\"outlinewidth\": 0, \"ticks\": \"\"}}, \"marker\": {\"colorbar\": {\"outlinewidth\": 0, \"ticks\": \"\"}}, \"type\": \"scatter3d\"}], \"scattercarpet\": [{\"marker\": {\"colorbar\": {\"outlinewidth\": 0, \"ticks\": \"\"}}, \"type\": \"scattercarpet\"}], \"scattergeo\": [{\"marker\": {\"colorbar\": {\"outlinewidth\": 0, \"ticks\": \"\"}}, \"type\": \"scattergeo\"}], \"scattergl\": [{\"marker\": {\"colorbar\": {\"outlinewidth\": 0, \"ticks\": \"\"}}, \"type\": \"scattergl\"}], \"scattermapbox\": [{\"marker\": {\"colorbar\": {\"outlinewidth\": 0, \"ticks\": \"\"}}, \"type\": \"scattermapbox\"}], \"scatterpolar\": [{\"marker\": {\"colorbar\": {\"outlinewidth\": 0, \"ticks\": \"\"}}, \"type\": \"scatterpolar\"}], \"scatterpolargl\": [{\"marker\": {\"colorbar\": {\"outlinewidth\": 0, \"ticks\": \"\"}}, \"type\": \"scatterpolargl\"}], \"scatterternary\": [{\"marker\": {\"colorbar\": {\"outlinewidth\": 0, \"ticks\": \"\"}}, \"type\": \"scatterternary\"}], \"surface\": [{\"colorbar\": {\"outlinewidth\": 0, \"ticks\": \"\"}, \"colorscale\": [[0.0, \"#0d0887\"], [0.1111111111111111, \"#46039f\"], [0.2222222222222222, \"#7201a8\"], [0.3333333333333333, \"#9c179e\"], [0.4444444444444444, \"#bd3786\"], [0.5555555555555556, \"#d8576b\"], [0.6666666666666666, \"#ed7953\"], [0.7777777777777778, \"#fb9f3a\"], [0.8888888888888888, \"#fdca26\"], [1.0, \"#f0f921\"]], \"type\": \"surface\"}], \"table\": [{\"cells\": {\"fill\": {\"color\": \"#EBF0F8\"}, \"line\": {\"color\": \"white\"}}, \"header\": {\"fill\": {\"color\": \"#C8D4E3\"}, \"line\": {\"color\": \"white\"}}, \"type\": \"table\"}]}, \"layout\": {\"annotationdefaults\": {\"arrowcolor\": \"#2a3f5f\", \"arrowhead\": 0, \"arrowwidth\": 1}, \"autotypenumbers\": \"strict\", \"coloraxis\": {\"colorbar\": {\"outlinewidth\": 0, \"ticks\": \"\"}}, \"colorscale\": {\"diverging\": [[0, \"#8e0152\"], [0.1, \"#c51b7d\"], [0.2, \"#de77ae\"], [0.3, \"#f1b6da\"], [0.4, \"#fde0ef\"], [0.5, \"#f7f7f7\"], [0.6, \"#e6f5d0\"], [0.7, \"#b8e186\"], [0.8, \"#7fbc41\"], [0.9, \"#4d9221\"], [1, \"#276419\"]], \"sequential\": [[0.0, \"#0d0887\"], [0.1111111111111111, \"#46039f\"], [0.2222222222222222, \"#7201a8\"], [0.3333333333333333, \"#9c179e\"], [0.4444444444444444, \"#bd3786\"], [0.5555555555555556, \"#d8576b\"], [0.6666666666666666, \"#ed7953\"], [0.7777777777777778, \"#fb9f3a\"], [0.8888888888888888, \"#fdca26\"], [1.0, \"#f0f921\"]], \"sequentialminus\": [[0.0, \"#0d0887\"], [0.1111111111111111, \"#46039f\"], [0.2222222222222222, \"#7201a8\"], [0.3333333333333333, \"#9c179e\"], [0.4444444444444444, \"#bd3786\"], [0.5555555555555556, \"#d8576b\"], [0.6666666666666666, \"#ed7953\"], [0.7777777777777778, \"#fb9f3a\"], [0.8888888888888888, \"#fdca26\"], [1.0, \"#f0f921\"]]}, \"colorway\": [\"#636efa\", \"#EF553B\", \"#00cc96\", \"#ab63fa\", \"#FFA15A\", \"#19d3f3\", \"#FF6692\", \"#B6E880\", \"#FF97FF\", \"#FECB52\"], \"font\": {\"color\": \"#2a3f5f\"}, \"geo\": {\"bgcolor\": \"white\", \"lakecolor\": \"white\", \"landcolor\": \"#E5ECF6\", \"showlakes\": true, \"showland\": true, \"subunitcolor\": \"white\"}, \"hoverlabel\": {\"align\": \"left\"}, \"hovermode\": \"closest\", \"mapbox\": {\"style\": \"light\"}, \"paper_bgcolor\": \"white\", \"plot_bgcolor\": \"#E5ECF6\", \"polar\": {\"angularaxis\": {\"gridcolor\": \"white\", \"linecolor\": \"white\", \"ticks\": \"\"}, \"bgcolor\": \"#E5ECF6\", \"radialaxis\": {\"gridcolor\": \"white\", \"linecolor\": \"white\", \"ticks\": \"\"}}, \"scene\": {\"xaxis\": {\"backgroundcolor\": \"#E5ECF6\", \"gridcolor\": \"white\", \"gridwidth\": 2, \"linecolor\": \"white\", \"showbackground\": true, \"ticks\": \"\", \"zerolinecolor\": \"white\"}, \"yaxis\": {\"backgroundcolor\": \"#E5ECF6\", \"gridcolor\": \"white\", \"gridwidth\": 2, \"linecolor\": \"white\", \"showbackground\": true, \"ticks\": \"\", \"zerolinecolor\": \"white\"}, \"zaxis\": {\"backgroundcolor\": \"#E5ECF6\", \"gridcolor\": \"white\", \"gridwidth\": 2, \"linecolor\": \"white\", \"showbackground\": true, \"ticks\": \"\", \"zerolinecolor\": \"white\"}}, \"shapedefaults\": {\"line\": {\"color\": \"#2a3f5f\"}}, \"ternary\": {\"aaxis\": {\"gridcolor\": \"white\", \"linecolor\": \"white\", \"ticks\": \"\"}, \"baxis\": {\"gridcolor\": \"white\", \"linecolor\": \"white\", \"ticks\": \"\"}, \"bgcolor\": \"#E5ECF6\", \"caxis\": {\"gridcolor\": \"white\", \"linecolor\": \"white\", \"ticks\": \"\"}}, \"title\": {\"x\": 0.05}, \"xaxis\": {\"automargin\": true, \"gridcolor\": \"white\", \"linecolor\": \"white\", \"ticks\": \"\", \"title\": {\"standoff\": 15}, \"zerolinecolor\": \"white\", \"zerolinewidth\": 2}, \"yaxis\": {\"automargin\": true, \"gridcolor\": \"white\", \"linecolor\": \"white\", \"ticks\": \"\", \"title\": {\"standoff\": 15}, \"zerolinecolor\": \"white\", \"zerolinewidth\": 2}}}, \"title\": {\"text\": \"test_accuracy [5]: 1.00 [0]: 0.51\"}, \"xaxis\": {\"title\": {\"text\": \"epoch\"}}, \"yaxis\": {\"title\": {\"text\": \"test_accuracy\"}}},                        {\"responsive\": true}                    ).then(function(){\n",
       "                            \n",
       "var gd = document.getElementById('1c6ef36c-bd3f-4de2-b435-f5bf00fb5fd5');\n",
       "var x = new MutationObserver(function (mutations, observer) {{\n",
       "        var display = window.getComputedStyle(gd).display;\n",
       "        if (!display || display === 'none') {{\n",
       "            console.log([gd, 'removed!']);\n",
       "            Plotly.purge(gd);\n",
       "            observer.disconnect();\n",
       "        }}\n",
       "}});\n",
       "\n",
       "// Listen for the removal of the full notebook cells\n",
       "var notebookContainer = gd.closest('#notebook-container');\n",
       "if (notebookContainer) {{\n",
       "    x.observe(notebookContainer, {childList: true});\n",
       "}}\n",
       "\n",
       "// Listen for the clearing of the current output cell\n",
       "var outputEl = gd.closest('.output');\n",
       "if (outputEl) {{\n",
       "    x.observe(outputEl, {childList: true});\n",
       "}}\n",
       "\n",
       "                        })                };                });            </script>        </div>"
      ]
     },
     "metadata": {},
     "output_type": "display_data"
    },
    {
     "data": {
      "text/html": [
       "<div>\n",
       "<style scoped>\n",
       "    .dataframe tbody tr th:only-of-type {\n",
       "        vertical-align: middle;\n",
       "    }\n",
       "\n",
       "    .dataframe tbody tr th {\n",
       "        vertical-align: top;\n",
       "    }\n",
       "\n",
       "    .dataframe thead th {\n",
       "        text-align: right;\n",
       "    }\n",
       "</style>\n",
       "<table border=\"1\" class=\"dataframe\">\n",
       "  <thead>\n",
       "    <tr style=\"text-align: right;\">\n",
       "      <th></th>\n",
       "      <th>epochs</th>\n",
       "      <th>offset</th>\n",
       "      <th>test_accuracy</th>\n",
       "    </tr>\n",
       "  </thead>\n",
       "  <tbody>\n",
       "    <tr>\n",
       "      <th>5</th>\n",
       "      <td>15.0</td>\n",
       "      <td>0.6</td>\n",
       "      <td>0.996970</td>\n",
       "    </tr>\n",
       "    <tr>\n",
       "      <th>0</th>\n",
       "      <td>5.0</td>\n",
       "      <td>0.1</td>\n",
       "      <td>0.511872</td>\n",
       "    </tr>\n",
       "  </tbody>\n",
       "</table>\n",
       "</div>"
      ],
      "text/plain": [
       "   epochs  offset  test_accuracy\n",
       "5    15.0     0.6       0.996970\n",
       "0     5.0     0.1       0.511872"
      ]
     },
     "metadata": {},
     "output_type": "display_data"
    }
   ],
   "source": [
    "metric_visualization(exps=[-2, 0], metric='test_accuracy')"
   ]
  },
  {
   "cell_type": "code",
   "execution_count": null,
   "metadata": {},
   "outputs": [
    {
     "data": {
      "image/png": "[encoded data removed]",
      "text/plain": [
       "<Figure size 1440x720 with 1 Axes>"
      ]
     },
     "metadata": {
      "needs_background": "light"
     },
     "output_type": "display_data"
    },
    {
     "data": {
      "text/html": [
       "<div>\n",
       "<style scoped>\n",
       "    .dataframe tbody tr th:only-of-type {\n",
       "        vertical-align: middle;\n",
       "    }\n",
       "\n",
       "    .dataframe tbody tr th {\n",
       "        vertical-align: top;\n",
       "    }\n",
       "\n",
       "    .dataframe thead th {\n",
       "        text-align: right;\n",
       "    }\n",
       "</style>\n",
       "<table border=\"1\" class=\"dataframe\">\n",
       "  <thead>\n",
       "    <tr style=\"text-align: right;\">\n",
       "      <th></th>\n",
       "      <th>epochs</th>\n",
       "      <th>offset</th>\n",
       "      <th>test_accuracy</th>\n",
       "    </tr>\n",
       "  </thead>\n",
       "  <tbody>\n",
       "    <tr>\n",
       "      <th>3</th>\n",
       "      <td>15.0</td>\n",
       "      <td>0.1</td>\n",
       "      <td>0.46151</td>\n",
       "    </tr>\n",
       "    <tr>\n",
       "      <th>7</th>\n",
       "      <td>30.0</td>\n",
       "      <td>0.3</td>\n",
       "      <td>1.00000</td>\n",
       "    </tr>\n",
       "  </tbody>\n",
       "</table>\n",
       "</div>"
      ],
      "text/plain": [
       "   epochs  offset  test_accuracy\n",
       "3    15.0     0.1        0.46151\n",
       "7    30.0     0.3        1.00000"
      ]
     },
     "metadata": {},
     "output_type": "display_data"
    }
   ],
   "source": [
    "metric_visualization(exps=[3, 7], metric='test_accuracy', backend='matplotlib')"
   ]
  },
  {
   "cell_type": "code",
   "execution_count": null,
   "metadata": {},
   "outputs": [
    {
     "name": "stdout",
     "output_type": "stream",
     "text": [
      "Converted hpconfig.ipynb.\n",
      "Converted manager_factory.ipynb.\n",
      "Converted dummy_experiment_manager.ipynb.\n",
      "Converted example_experiment.ipynb.\n",
      "Converted example_experiment_manager.ipynb.\n",
      "Converted experiment_manager.ipynb.\n",
      "Converted index.ipynb.\n",
      "Converted change_manager.ipynb.\n",
      "Converted metric_visualization.ipynb.\n",
      "Converted print_parameters.ipynb.\n",
      "Converted query.ipynb.\n",
      "Converted experiment_utils.ipynb.\n",
      "Converted organize_experiments.ipynb.\n",
      "Converted experiment_visualization.ipynb.\n",
      "Converted plot_utils.ipynb.\n"
     ]
    }
   ],
   "source": [
    "#hide\n",
    "from nbdev.export import *\n",
    "notebook2script(recursive=True)"
   ]
  }
 ],
 "metadata": {
  "kernelspec": {
   "display_name": "Python (athena_gpu)",
   "language": "python",
   "name": "athena_gpu"
  }
 },
 "nbformat": 4,
 "nbformat_minor": 4
}
