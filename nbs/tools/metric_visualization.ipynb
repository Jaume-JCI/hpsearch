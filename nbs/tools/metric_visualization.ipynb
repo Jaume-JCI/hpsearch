{
 "cells": [
  {
   "cell_type": "code",
   "execution_count": null,
   "metadata": {},
   "outputs": [],
   "source": [
    "#hide\n",
    "#default_exp tools.metric_visualization\n",
    "from nbdev.showdoc import show_doc"
   ]
  },
  {
   "cell_type": "markdown",
   "metadata": {},
   "source": [
    "# Metric visualization\n",
    "\n",
    "> Visualize metrics collected from experiments."
   ]
  },
  {
   "cell_type": "code",
   "execution_count": null,
   "metadata": {},
   "outputs": [],
   "source": [
    "#export\n",
    "import warnings\n",
    "warnings.filterwarnings('ignore')\n",
    "\n",
    "import argparse\n",
    "import sys\n",
    "sys.path.append('.')\n",
    "sys.path.append('src')\n",
    "import pandas as pd\n",
    "import pickle\n",
    "import hpsearch.visualization.experiment_visualization as ev\n",
    "from hpsearch.config.hpconfig import get_path_experiments\n",
    "from hpsearch.config.hpconfig import get_default_operations\n",
    "\n",
    "def metric_visualization (experiments=[-1,-2], run_number=0, root_folder=None, metric=None, op = None,\n",
    "                          parameters=None, name_file='model_history.pk', visualization_options = {},\n",
    "                          backend='plotly'):\n",
    "    \n",
    "    default_operations = get_default_operations ()\n",
    "    if root_folder is None:\n",
    "        root_folder = default_operations.get('root', 'results')\n",
    "    if metric is None:\n",
    "        metric = default_operations.get('metric', 'accuracy')\n",
    "    if op is None:\n",
    "        op = default_operations.get('op', 'min')\n",
    "        \n",
    "    # metrics\n",
    "    if type(metric) is str:\n",
    "        metrics = [metric]\n",
    "    else:\n",
    "        metrics = metric\n",
    "        \n",
    "    for i in range(len(experiments)):\n",
    "        if experiments[i] == -1:\n",
    "            root_path = get_path_experiments (folder = root_folder)\n",
    "            experiment_number = pickle.load(open('%s/current_experiment_number.pkl' %root_path,'rb'))\n",
    "            experiments[i] = experiment_number\n",
    "\n",
    "        if experiments[i] == -2:\n",
    "            root_path = get_path_experiments (folder = root_folder)\n",
    "            df = pd.read_csv('%s/experiments_data.csv' %root_path,index_col=0)\n",
    "            if op=='max':\n",
    "                experiments[i] = df['0_%s' %metric].idxmax()\n",
    "            else:\n",
    "                experiments[i] = df['0_%s' %metric].idxmin()\n",
    "    \n",
    "    if 'visualization' in visualization_options.keys():\n",
    "        visualization = visualization_options.pop('visualization')\n",
    "    else:\n",
    "        visualization = 'history'\n",
    "    \n",
    "    ev.visualize_experiments(visualization=visualization, \n",
    "                             experiments=experiments, run_number=run_number, root_folder=root_folder,metrics=metrics, \n",
    "                             parameters=parameters, name_file=name_file, **visualization_options,\n",
    "                             backend=backend)\n",
    "\n",
    "def parse_args(args):\n",
    "    parser = argparse.ArgumentParser(description='show metrics about experiments') \n",
    "    # Datasets\n",
    "    parser.add_argument('-e', nargs='+', default=[-1, -2], type=int,\n",
    "                        help=\"experiments\")\n",
    "    parser.add_argument('-m', '--metric', nargs='+', type=str, default=None, help=\"metrics\")\n",
    "    parser.add_argument('--root', type=str, default=None)\n",
    "    parser.add_argument('-l','--labels',nargs='+', default=None, type=str)\n",
    "    parser.add_argument('--run', default=0, type=int)\n",
    "    parser.add_argument('--op', default=None, type=str)\n",
    "    parser.add_argument('-b', '--backend', default='visdom', type=str)\n",
    "    parser.add_argument('-f', '--file', default='model_history.pk', type=str)\n",
    "    parser.add_argument('-v', '--visualization', default='{}', type=str)\n",
    "\n",
    "    pars = parser.parse_args(args)\n",
    "    \n",
    "    pars.visualization = eval(pars.visualization)\n",
    "    \n",
    "    return pars\n",
    "\n",
    "def parse_arguments_and_visualize (args):\n",
    "    \n",
    "    pars = parse_args(args)\n",
    "\n",
    "    metric_visualization (pars.e, run_number=pars.run, root_folder=pars.root, metric=pars.metric, \n",
    "                          parameters=pars.labels, name_file=pars.file, backend=pars.backend, \n",
    "                          visualization_options=pars.visualization)\n",
    "    \n",
    "def main():\n",
    "\n",
    "    parse_arguments_and_visualize (sys.argv[1:])\n",
    "\n"
   ]
  },
  {
   "cell_type": "markdown",
   "metadata": {},
   "source": [
    "## Usage examples"
   ]
  },
  {
   "cell_type": "markdown",
   "metadata": {},
   "source": [
    "### Produce data"
   ]
  },
  {
   "cell_type": "code",
   "execution_count": null,
   "metadata": {},
   "outputs": [
    {
     "name": "stderr",
     "output_type": "stream",
     "text": [
      "experiment script: /mnt/athena/hpsearch/hpsearch/examples/dummy_experiment_manager.py, line: 180\n",
      "processing hyper-parameter 0 out of 9\n",
      "doing run 0 out of 5\n",
      "fixed rate, multiple epochs values\n",
      "running experiment 0\n",
      "run number: 0\n",
      "\n",
      "parameters:\n",
      "\tepochs=5,\n",
      "\tnoise=0.1,\n",
      "\toffset=0.1,\n",
      "\trate=0.03\n",
      "\n",
      "script: /mnt/athena/hpsearch/hpsearch/examples/dummy_experiment_manager.py, line number: 180\n",
      "time spent on this experiment: 0.0009114742279052734\n",
      "0 - validation_accuracy: 0.09439720475532212\n",
      "0 - test_accuracy: 0.34211500598259553\n",
      "finished experiment 0\n",
      "processing hyper-parameter 0 out of 9\n",
      "doing run 1 out of 5\n",
      "fixed rate, multiple epochs values\n",
      "running experiment 0\n",
      "run number: 1\n",
      "\n",
      "parameters:\n",
      "\tepochs=5,\n",
      "\tnoise=0.1,\n",
      "\toffset=0.1,\n",
      "\trate=0.03\n",
      "\n",
      "script: /mnt/athena/hpsearch/hpsearch/examples/dummy_experiment_manager.py, line number: 180\n",
      "time spent on this experiment: 0.0009057521820068359\n",
      "1 - validation_accuracy: 0.2576634608225761\n",
      "1 - test_accuracy: 0.41580568815081836\n",
      "finished experiment 0\n",
      "processing hyper-parameter 0 out of 9\n",
      "doing run 2 out of 5\n",
      "fixed rate, multiple epochs values\n",
      "running experiment 0\n",
      "run number: 2\n",
      "\n",
      "parameters:\n",
      "\tepochs=5,\n",
      "\tnoise=0.1,\n",
      "\toffset=0.1,\n",
      "\trate=0.03\n",
      "\n",
      "script: /mnt/athena/hpsearch/hpsearch/examples/dummy_experiment_manager.py, line number: 180\n",
      "time spent on this experiment: 0.0003933906555175781\n",
      "2 - validation_accuracy: 0.5067282636636259\n",
      "2 - test_accuracy: 0.39908507589725\n",
      "finished experiment 0\n",
      "processing hyper-parameter 0 out of 9\n",
      "doing run 3 out of 5\n",
      "fixed rate, multiple epochs values\n",
      "running experiment 0\n",
      "run number: 3\n",
      "\n",
      "parameters:\n",
      "\tepochs=5,\n",
      "\tnoise=0.1,\n",
      "\toffset=0.1,\n",
      "\trate=0.03\n",
      "\n",
      "script: /mnt/athena/hpsearch/hpsearch/examples/dummy_experiment_manager.py, line number: 180\n",
      "time spent on this experiment: 0.0009353160858154297\n",
      "3 - validation_accuracy: 0.16883735836080443\n",
      "3 - test_accuracy: 0.3014587819792549\n",
      "finished experiment 0\n",
      "processing hyper-parameter 0 out of 9\n",
      "doing run 4 out of 5\n",
      "fixed rate, multiple epochs values\n"
     ]
    },
    {
     "name": "stdout",
     "output_type": "stream",
     "text": [
      "current path: /mnt/athena/hpsearch/nbs/tools\n",
      "current path: /mnt/athena/hpsearch/nbs/tools\n",
      "current path: /mnt/athena/hpsearch/nbs/tools\n",
      "fitting model with 5 epochs\n",
      "epoch 0: accuracy: 0.13\n",
      "epoch 1: accuracy: 0.16\n",
      "epoch 2: accuracy: 0.19\n",
      "epoch 3: accuracy: 0.22\n",
      "epoch 4: accuracy: 0.25\n",
      "current path: /mnt/athena/hpsearch/nbs/tools\n",
      "fitting model with 5 epochs\n",
      "epoch 0: accuracy: 0.13\n",
      "epoch 1: accuracy: 0.16\n",
      "epoch 2: accuracy: 0.19\n",
      "epoch 3: accuracy: 0.22\n",
      "epoch 4: accuracy: 0.25\n",
      "current path: /mnt/athena/hpsearch/nbs/tools\n",
      "fitting model with 5 epochs\n",
      "epoch 0: accuracy: 0.13\n",
      "epoch 1: accuracy: 0.16\n",
      "epoch 2: accuracy: 0.19\n",
      "epoch 3: accuracy: 0.22\n",
      "epoch 4: accuracy: 0.25\n",
      "current path: /mnt/athena/hpsearch/nbs/tools\n",
      "fitting model with 5 epochs\n",
      "epoch 0: accuracy: 0.13\n",
      "epoch 1: accuracy: 0.16\n",
      "epoch 2: accuracy: 0.19\n",
      "epoch 3: accuracy: 0.22\n",
      "epoch 4: accuracy: 0.25\n",
      "current path: /mnt/athena/hpsearch/nbs/tools\n"
     ]
    },
    {
     "name": "stderr",
     "output_type": "stream",
     "text": [
      "running experiment 0\n",
      "run number: 4\n",
      "\n",
      "parameters:\n",
      "\tepochs=5,\n",
      "\tnoise=0.1,\n",
      "\toffset=0.1,\n",
      "\trate=0.03\n",
      "\n",
      "script: /mnt/athena/hpsearch/hpsearch/examples/dummy_experiment_manager.py, line number: 180\n",
      "time spent on this experiment: 0.0010068416595458984\n",
      "4 - validation_accuracy: 0.44182002254492225\n",
      "4 - test_accuracy: 0.3525790133202859\n",
      "finished experiment 0\n",
      "processing hyper-parameter 1 out of 9\n",
      "doing run 0 out of 5\n",
      "fixed rate, multiple epochs values\n",
      "running experiment 1\n",
      "run number: 0\n",
      "\n",
      "parameters:\n",
      "\tepochs=5,\n",
      "\tnoise=0.1,\n",
      "\toffset=0.3,\n",
      "\trate=0.03\n",
      "\n",
      "script: /mnt/athena/hpsearch/hpsearch/examples/dummy_experiment_manager.py, line number: 180\n",
      "time spent on this experiment: 0.0009086132049560547\n",
      "0 - validation_accuracy: 0.6375271212114567\n",
      "0 - test_accuracy: 0.5924239320145153\n",
      "finished experiment 1\n",
      "processing hyper-parameter 1 out of 9\n",
      "doing run 1 out of 5\n",
      "fixed rate, multiple epochs values\n",
      "running experiment 1\n",
      "run number: 1\n",
      "\n",
      "parameters:\n",
      "\tepochs=5,\n",
      "\tnoise=0.1,\n",
      "\toffset=0.3,\n",
      "\trate=0.03\n",
      "\n",
      "script: /mnt/athena/hpsearch/hpsearch/examples/dummy_experiment_manager.py, line number: 180\n",
      "time spent on this experiment: 0.0009565353393554688\n",
      "1 - validation_accuracy: 0.4920880922119282\n",
      "1 - test_accuracy: 0.6790322983648551\n",
      "finished experiment 1\n",
      "processing hyper-parameter 1 out of 9\n",
      "doing run 2 out of 5\n",
      "fixed rate, multiple epochs values\n",
      "running experiment 1\n",
      "run number: 2\n",
      "\n",
      "parameters:\n",
      "\tepochs=5,\n",
      "\tnoise=0.1,\n",
      "\toffset=0.3,\n",
      "\trate=0.03\n",
      "\n",
      "script: /mnt/athena/hpsearch/hpsearch/examples/dummy_experiment_manager.py, line number: 180\n",
      "time spent on this experiment: 0.0009648799896240234\n",
      "2 - validation_accuracy: 0.3588203069275586\n",
      "2 - test_accuracy: 0.551906482322577\n",
      "finished experiment 1\n",
      "processing hyper-parameter 1 out of 9\n",
      "doing run 3 out of 5\n",
      "fixed rate, multiple epochs values\n",
      "running experiment 1\n",
      "run number: 3\n",
      "\n",
      "parameters:\n",
      "\tepochs=5,\n",
      "\tnoise=0.1,\n",
      "\toffset=0.3,\n",
      "\trate=0.03\n",
      "\n",
      "script: /mnt/athena/hpsearch/hpsearch/examples/dummy_experiment_manager.py, line number: 180\n",
      "time spent on this experiment: 0.0009996891021728516\n",
      "3 - validation_accuracy: 0.4541725944556989\n",
      "3 - test_accuracy: 0.49059270276717126\n"
     ]
    },
    {
     "name": "stdout",
     "output_type": "stream",
     "text": [
      "fitting model with 5 epochs\n",
      "epoch 0: accuracy: 0.13\n",
      "epoch 1: accuracy: 0.16\n",
      "epoch 2: accuracy: 0.19\n",
      "epoch 3: accuracy: 0.22\n",
      "epoch 4: accuracy: 0.25\n",
      "current path: /mnt/athena/hpsearch/nbs/tools\n",
      "fitting model with 5 epochs\n",
      "epoch 0: accuracy: 0.32999999999999996\n",
      "epoch 1: accuracy: 0.36\n",
      "epoch 2: accuracy: 0.39\n",
      "epoch 3: accuracy: 0.42000000000000004\n",
      "epoch 4: accuracy: 0.45000000000000007\n",
      "current path: /mnt/athena/hpsearch/nbs/tools\n",
      "fitting model with 5 epochs\n",
      "epoch 0: accuracy: 0.32999999999999996\n",
      "epoch 1: accuracy: 0.36\n",
      "epoch 2: accuracy: 0.39\n",
      "epoch 3: accuracy: 0.42000000000000004\n",
      "epoch 4: accuracy: 0.45000000000000007\n",
      "current path: /mnt/athena/hpsearch/nbs/tools\n",
      "fitting model with 5 epochs\n",
      "epoch 0: accuracy: 0.32999999999999996\n",
      "epoch 1: accuracy: 0.36\n",
      "epoch 2: accuracy: 0.39\n",
      "epoch 3: accuracy: 0.42000000000000004\n",
      "epoch 4: accuracy: 0.45000000000000007\n",
      "current path: /mnt/athena/hpsearch/nbs/tools\n",
      "fitting model with 5 epochs\n",
      "epoch 0: accuracy: 0.32999999999999996\n",
      "epoch 1: accuracy: 0.36\n",
      "epoch 2: accuracy: 0.39\n",
      "epoch 3: accuracy: 0.42000000000000004\n",
      "epoch 4: accuracy: 0.45000000000000007\n"
     ]
    },
    {
     "name": "stderr",
     "output_type": "stream",
     "text": [
      "finished experiment 1\n",
      "processing hyper-parameter 1 out of 9\n",
      "doing run 4 out of 5\n",
      "fixed rate, multiple epochs values\n",
      "running experiment 1\n",
      "run number: 4\n",
      "\n",
      "parameters:\n",
      "\tepochs=5,\n",
      "\tnoise=0.1,\n",
      "\toffset=0.3,\n",
      "\trate=0.03\n",
      "\n",
      "script: /mnt/athena/hpsearch/hpsearch/examples/dummy_experiment_manager.py, line number: 180\n",
      "time spent on this experiment: 0.0009427070617675781\n",
      "4 - validation_accuracy: 0.31011653730505157\n",
      "4 - test_accuracy: 0.4482798485999317\n",
      "finished experiment 1\n",
      "processing hyper-parameter 2 out of 9\n",
      "doing run 0 out of 5\n",
      "fixed rate, multiple epochs values\n",
      "running experiment 2\n",
      "run number: 0\n",
      "\n",
      "parameters:\n",
      "\tepochs=5,\n",
      "\tnoise=0.1,\n",
      "\toffset=0.6,\n",
      "\trate=0.03\n",
      "\n",
      "script: /mnt/athena/hpsearch/hpsearch/examples/dummy_experiment_manager.py, line number: 180\n",
      "time spent on this experiment: 0.0008840560913085938\n",
      "0 - validation_accuracy: 0.7954368998631766\n",
      "0 - test_accuracy: 0.8074063322967714\n",
      "finished experiment 2\n",
      "processing hyper-parameter 2 out of 9\n",
      "doing run 1 out of 5\n",
      "fixed rate, multiple epochs values\n",
      "running experiment 2\n",
      "run number: 1\n",
      "\n",
      "parameters:\n",
      "\tepochs=5,\n",
      "\tnoise=0.1,\n",
      "\toffset=0.6,\n",
      "\trate=0.03\n",
      "\n",
      "script: /mnt/athena/hpsearch/hpsearch/examples/dummy_experiment_manager.py, line number: 180\n",
      "time spent on this experiment: 0.0009009838104248047\n",
      "1 - validation_accuracy: 0.9602583057442369\n",
      "1 - test_accuracy: 0.6426265037305995\n",
      "finished experiment 2\n",
      "processing hyper-parameter 2 out of 9\n",
      "doing run 2 out of 5\n",
      "fixed rate, multiple epochs values\n",
      "running experiment 2\n",
      "run number: 2\n",
      "\n",
      "parameters:\n",
      "\tepochs=5,\n",
      "\tnoise=0.1,\n",
      "\toffset=0.6,\n",
      "\trate=0.03\n",
      "\n",
      "script: /mnt/athena/hpsearch/hpsearch/examples/dummy_experiment_manager.py, line number: 180\n",
      "time spent on this experiment: 0.0009090900421142578\n",
      "2 - validation_accuracy: 0.758563323804798\n",
      "2 - test_accuracy: 0.7965642666197752\n",
      "finished experiment 2\n",
      "processing hyper-parameter 2 out of 9\n",
      "doing run 3 out of 5\n",
      "fixed rate, multiple epochs values\n",
      "running experiment 2\n",
      "run number: 3\n",
      "\n",
      "parameters:\n",
      "\tepochs=5,\n",
      "\tnoise=0.1,\n",
      "\toffset=0.6,\n",
      "\trate=0.03\n",
      "\n"
     ]
    },
    {
     "name": "stdout",
     "output_type": "stream",
     "text": [
      "current path: /mnt/athena/hpsearch/nbs/tools\n",
      "fitting model with 5 epochs\n",
      "epoch 0: accuracy: 0.32999999999999996\n",
      "epoch 1: accuracy: 0.36\n",
      "epoch 2: accuracy: 0.39\n",
      "epoch 3: accuracy: 0.42000000000000004\n",
      "epoch 4: accuracy: 0.45000000000000007\n",
      "current path: /mnt/athena/hpsearch/nbs/tools\n",
      "fitting model with 5 epochs\n",
      "epoch 0: accuracy: 0.63\n",
      "epoch 1: accuracy: 0.66\n",
      "epoch 2: accuracy: 0.6900000000000001\n",
      "epoch 3: accuracy: 0.7200000000000001\n",
      "epoch 4: accuracy: 0.7500000000000001\n",
      "current path: /mnt/athena/hpsearch/nbs/tools\n",
      "fitting model with 5 epochs\n",
      "epoch 0: accuracy: 0.63\n",
      "epoch 1: accuracy: 0.66\n",
      "epoch 2: accuracy: 0.6900000000000001\n",
      "epoch 3: accuracy: 0.7200000000000001\n",
      "epoch 4: accuracy: 0.7500000000000001\n",
      "current path: /mnt/athena/hpsearch/nbs/tools\n",
      "fitting model with 5 epochs\n",
      "epoch 0: accuracy: 0.63\n",
      "epoch 1: accuracy: 0.66\n",
      "epoch 2: accuracy: 0.6900000000000001\n",
      "epoch 3: accuracy: 0.7200000000000001\n",
      "epoch 4: accuracy: 0.7500000000000001\n",
      "current path: /mnt/athena/hpsearch/nbs/tools\n"
     ]
    },
    {
     "name": "stderr",
     "output_type": "stream",
     "text": [
      "script: /mnt/athena/hpsearch/hpsearch/examples/dummy_experiment_manager.py, line number: 180\n",
      "time spent on this experiment: 0.0010523796081542969\n",
      "3 - validation_accuracy: 0.7449028935567387\n",
      "3 - test_accuracy: 0.8335223398854913\n",
      "finished experiment 2\n",
      "processing hyper-parameter 2 out of 9\n",
      "doing run 4 out of 5\n",
      "fixed rate, multiple epochs values\n",
      "running experiment 2\n",
      "run number: 4\n",
      "\n",
      "parameters:\n",
      "\tepochs=5,\n",
      "\tnoise=0.1,\n",
      "\toffset=0.6,\n",
      "\trate=0.03\n",
      "\n",
      "script: /mnt/athena/hpsearch/hpsearch/examples/dummy_experiment_manager.py, line number: 180\n",
      "time spent on this experiment: 0.0008878707885742188\n",
      "4 - validation_accuracy: 0.6027798653674918\n",
      "4 - test_accuracy: 0.729079083053807\n",
      "finished experiment 2\n",
      "processing hyper-parameter 3 out of 9\n",
      "doing run 0 out of 5\n",
      "fixed rate, multiple epochs values\n",
      "running experiment 3\n",
      "run number: 0\n",
      "\n",
      "parameters:\n",
      "\tepochs=15,\n",
      "\tnoise=0.1,\n",
      "\toffset=0.1,\n",
      "\trate=0.03\n",
      "\n",
      "script: /mnt/athena/hpsearch/hpsearch/examples/dummy_experiment_manager.py, line number: 180\n",
      "time spent on this experiment: 0.001972198486328125\n",
      "0 - validation_accuracy: 0.48137366295064987\n",
      "0 - test_accuracy: 0.38338850157405\n",
      "finished experiment 3\n",
      "processing hyper-parameter 3 out of 9\n",
      "doing run 1 out of 5\n",
      "fixed rate, multiple epochs values\n",
      "running experiment 3\n",
      "run number: 1\n",
      "\n",
      "parameters:\n",
      "\tepochs=15,\n",
      "\tnoise=0.1,\n",
      "\toffset=0.1,\n",
      "\trate=0.03\n",
      "\n",
      "script: /mnt/athena/hpsearch/hpsearch/examples/dummy_experiment_manager.py, line number: 180\n",
      "time spent on this experiment: 0.0018618106842041016\n",
      "1 - validation_accuracy: 0.4576779479522361\n",
      "1 - test_accuracy: 0.4181354592927811\n",
      "finished experiment 3\n",
      "processing hyper-parameter 3 out of 9\n",
      "doing run 2 out of 5\n",
      "fixed rate, multiple epochs values\n",
      "running experiment 3\n",
      "run number: 2\n",
      "\n",
      "parameters:\n",
      "\tepochs=15,\n",
      "\tnoise=0.1,\n",
      "\toffset=0.1,\n",
      "\trate=0.03\n",
      "\n",
      "script: /mnt/athena/hpsearch/hpsearch/examples/dummy_experiment_manager.py, line number: 180\n"
     ]
    },
    {
     "name": "stdout",
     "output_type": "stream",
     "text": [
      "fitting model with 5 epochs\n",
      "epoch 0: accuracy: 0.63\n",
      "epoch 1: accuracy: 0.66\n",
      "epoch 2: accuracy: 0.6900000000000001\n",
      "epoch 3: accuracy: 0.7200000000000001\n",
      "epoch 4: accuracy: 0.7500000000000001\n",
      "current path: /mnt/athena/hpsearch/nbs/tools\n",
      "fitting model with 5 epochs\n",
      "epoch 0: accuracy: 0.63\n",
      "epoch 1: accuracy: 0.66\n",
      "epoch 2: accuracy: 0.6900000000000001\n",
      "epoch 3: accuracy: 0.7200000000000001\n",
      "epoch 4: accuracy: 0.7500000000000001\n",
      "current path: /mnt/athena/hpsearch/nbs/tools\n",
      "fitting model with 15 epochs\n",
      "epoch 0: accuracy: 0.13\n",
      "epoch 1: accuracy: 0.16\n",
      "epoch 2: accuracy: 0.19\n",
      "epoch 3: accuracy: 0.22\n",
      "epoch 4: accuracy: 0.25\n",
      "epoch 5: accuracy: 0.28\n",
      "epoch 6: accuracy: 0.31000000000000005\n",
      "epoch 7: accuracy: 0.3400000000000001\n",
      "epoch 8: accuracy: 0.3700000000000001\n",
      "epoch 9: accuracy: 0.40000000000000013\n",
      "epoch 10: accuracy: 0.43000000000000016\n",
      "epoch 11: accuracy: 0.4600000000000002\n",
      "epoch 12: accuracy: 0.4900000000000002\n",
      "epoch 13: accuracy: 0.5200000000000002\n",
      "epoch 14: accuracy: 0.5500000000000003\n",
      "current path: /mnt/athena/hpsearch/nbs/tools\n",
      "fitting model with 15 epochs\n",
      "epoch 0: accuracy: 0.13\n",
      "epoch 1: accuracy: 0.16\n",
      "epoch 2: accuracy: 0.19\n",
      "epoch 3: accuracy: 0.22\n",
      "epoch 4: accuracy: 0.25\n",
      "epoch 5: accuracy: 0.28\n",
      "epoch 6: accuracy: 0.31000000000000005\n",
      "epoch 7: accuracy: 0.3400000000000001\n",
      "epoch 8: accuracy: 0.3700000000000001\n",
      "epoch 9: accuracy: 0.40000000000000013\n",
      "epoch 10: accuracy: 0.43000000000000016\n",
      "epoch 11: accuracy: 0.4600000000000002\n",
      "epoch 12: accuracy: 0.4900000000000002\n",
      "epoch 13: accuracy: 0.5200000000000002\n",
      "epoch 14: accuracy: 0.5500000000000003\n",
      "current path: /mnt/athena/hpsearch/nbs/tools\n",
      "fitting model with 15 epochs\n",
      "epoch 0: accuracy: 0.13\n",
      "epoch 1: accuracy: 0.16\n",
      "epoch 2: accuracy: 0.19\n",
      "epoch 3: accuracy: 0.22\n",
      "epoch 4: accuracy: 0.25\n",
      "epoch 5: accuracy: 0.28\n",
      "epoch 6: accuracy: 0.31000000000000005\n",
      "epoch 7: accuracy: 0.3400000000000001\n",
      "epoch 8: accuracy: 0.3700000000000001\n",
      "epoch 9: accuracy: 0.40000000000000013\n",
      "epoch 10: accuracy: 0.43000000000000016\n",
      "epoch 11: accuracy: 0.4600000000000002\n",
      "epoch 12: accuracy: 0.4900000000000002\n",
      "epoch 13: accuracy: 0.5200000000000002\n",
      "epoch 14: accuracy: 0.5500000000000003\n"
     ]
    },
    {
     "name": "stderr",
     "output_type": "stream",
     "text": [
      "time spent on this experiment: 0.002134561538696289\n",
      "2 - validation_accuracy: 0.7266079751579919\n",
      "2 - test_accuracy: 0.531836381696885\n",
      "finished experiment 3\n",
      "processing hyper-parameter 3 out of 9\n",
      "doing run 3 out of 5\n",
      "fixed rate, multiple epochs values\n",
      "running experiment 3\n",
      "run number: 3\n",
      "\n",
      "parameters:\n",
      "\tepochs=15,\n",
      "\tnoise=0.1,\n",
      "\toffset=0.1,\n",
      "\trate=0.03\n",
      "\n",
      "script: /mnt/athena/hpsearch/hpsearch/examples/dummy_experiment_manager.py, line number: 180\n",
      "time spent on this experiment: 0.0019826889038085938\n",
      "3 - validation_accuracy: 0.45749119101476116\n",
      "3 - test_accuracy: 0.7897264972102437\n",
      "finished experiment 3\n",
      "processing hyper-parameter 3 out of 9\n",
      "doing run 4 out of 5\n",
      "fixed rate, multiple epochs values\n",
      "running experiment 3\n",
      "run number: 4\n",
      "\n",
      "parameters:\n",
      "\tepochs=15,\n",
      "\tnoise=0.1,\n",
      "\toffset=0.1,\n",
      "\trate=0.03\n",
      "\n",
      "script: /mnt/athena/hpsearch/hpsearch/examples/dummy_experiment_manager.py, line number: 180\n",
      "time spent on this experiment: 0.0021202564239501953\n",
      "4 - validation_accuracy: 0.5208033670922659\n",
      "4 - test_accuracy: 0.5176315803896419\n",
      "finished experiment 3\n",
      "processing hyper-parameter 4 out of 9\n",
      "doing run 0 out of 5\n",
      "fixed rate, multiple epochs values\n",
      "running experiment 4\n",
      "run number: 0\n",
      "\n",
      "parameters:\n",
      "\tepochs=15,\n",
      "\tnoise=0.1,\n",
      "\toffset=0.3,\n",
      "\trate=0.03\n",
      "\n",
      "script: /mnt/athena/hpsearch/hpsearch/examples/dummy_experiment_manager.py, line number: 180\n",
      "time spent on this experiment: 0.001971721649169922\n",
      "0 - validation_accuracy: 0.730748627382327\n",
      "0 - test_accuracy: 0.601534671665793\n",
      "finished experiment 4\n",
      "processing hyper-parameter 4 out of 9\n",
      "doing run 1 out of 5\n",
      "fixed rate, multiple epochs values\n",
      "running experiment 4\n",
      "run number: 1\n",
      "\n",
      "parameters:\n",
      "\tepochs=15,\n",
      "\tnoise=0.1,\n",
      "\toffset=0.3,\n",
      "\trate=0.03\n",
      "\n",
      "script: /mnt/athena/hpsearch/hpsearch/examples/dummy_experiment_manager.py, line number: 180\n",
      "time spent on this experiment: 0.0019326210021972656\n",
      "1 - validation_accuracy: 0.5835616502213947\n",
      "1 - test_accuracy: 0.7760812342504185\n"
     ]
    },
    {
     "name": "stdout",
     "output_type": "stream",
     "text": [
      "current path: /mnt/athena/hpsearch/nbs/tools\n",
      "fitting model with 15 epochs\n",
      "epoch 0: accuracy: 0.13\n",
      "epoch 1: accuracy: 0.16\n",
      "epoch 2: accuracy: 0.19\n",
      "epoch 3: accuracy: 0.22\n",
      "epoch 4: accuracy: 0.25\n",
      "epoch 5: accuracy: 0.28\n",
      "epoch 6: accuracy: 0.31000000000000005\n",
      "epoch 7: accuracy: 0.3400000000000001\n",
      "epoch 8: accuracy: 0.3700000000000001\n",
      "epoch 9: accuracy: 0.40000000000000013\n",
      "epoch 10: accuracy: 0.43000000000000016\n",
      "epoch 11: accuracy: 0.4600000000000002\n",
      "epoch 12: accuracy: 0.4900000000000002\n",
      "epoch 13: accuracy: 0.5200000000000002\n",
      "epoch 14: accuracy: 0.5500000000000003\n",
      "current path: /mnt/athena/hpsearch/nbs/tools\n",
      "fitting model with 15 epochs\n",
      "epoch 0: accuracy: 0.13\n",
      "epoch 1: accuracy: 0.16\n",
      "epoch 2: accuracy: 0.19\n",
      "epoch 3: accuracy: 0.22\n",
      "epoch 4: accuracy: 0.25\n",
      "epoch 5: accuracy: 0.28\n",
      "epoch 6: accuracy: 0.31000000000000005\n",
      "epoch 7: accuracy: 0.3400000000000001\n",
      "epoch 8: accuracy: 0.3700000000000001\n",
      "epoch 9: accuracy: 0.40000000000000013\n",
      "epoch 10: accuracy: 0.43000000000000016\n",
      "epoch 11: accuracy: 0.4600000000000002\n",
      "epoch 12: accuracy: 0.4900000000000002\n",
      "epoch 13: accuracy: 0.5200000000000002\n",
      "epoch 14: accuracy: 0.5500000000000003\n",
      "current path: /mnt/athena/hpsearch/nbs/tools\n",
      "fitting model with 15 epochs\n",
      "epoch 0: accuracy: 0.32999999999999996\n",
      "epoch 1: accuracy: 0.36\n",
      "epoch 2: accuracy: 0.39\n",
      "epoch 3: accuracy: 0.42000000000000004\n",
      "epoch 4: accuracy: 0.45000000000000007\n",
      "epoch 5: accuracy: 0.4800000000000001\n",
      "epoch 6: accuracy: 0.5100000000000001\n",
      "epoch 7: accuracy: 0.5400000000000001\n",
      "epoch 8: accuracy: 0.5700000000000002\n",
      "epoch 9: accuracy: 0.6000000000000002\n",
      "epoch 10: accuracy: 0.6300000000000002\n",
      "epoch 11: accuracy: 0.6600000000000003\n",
      "epoch 12: accuracy: 0.6900000000000003\n",
      "epoch 13: accuracy: 0.7200000000000003\n",
      "epoch 14: accuracy: 0.7500000000000003\n",
      "current path: /mnt/athena/hpsearch/nbs/tools\n",
      "fitting model with 15 epochs\n",
      "epoch 0: accuracy: 0.32999999999999996\n",
      "epoch 1: accuracy: 0.36\n",
      "epoch 2: accuracy: 0.39\n",
      "epoch 3: accuracy: 0.42000000000000004\n",
      "epoch 4: accuracy: 0.45000000000000007\n",
      "epoch 5: accuracy: 0.4800000000000001\n",
      "epoch 6: accuracy: 0.5100000000000001\n",
      "epoch 7: accuracy: 0.5400000000000001\n",
      "epoch 8: accuracy: 0.5700000000000002\n",
      "epoch 9: accuracy: 0.6000000000000002\n",
      "epoch 10: accuracy: 0.6300000000000002\n",
      "epoch 11: accuracy: 0.6600000000000003\n",
      "epoch 12: accuracy: 0.6900000000000003\n",
      "epoch 13: accuracy: 0.7200000000000003\n",
      "epoch 14: accuracy: 0.7500000000000003\n"
     ]
    },
    {
     "name": "stderr",
     "output_type": "stream",
     "text": [
      "finished experiment 4\n",
      "processing hyper-parameter 4 out of 9\n",
      "doing run 2 out of 5\n",
      "fixed rate, multiple epochs values\n",
      "running experiment 4\n",
      "run number: 2\n",
      "\n",
      "parameters:\n",
      "\tepochs=15,\n",
      "\tnoise=0.1,\n",
      "\toffset=0.3,\n",
      "\trate=0.03\n",
      "\n",
      "script: /mnt/athena/hpsearch/hpsearch/examples/dummy_experiment_manager.py, line number: 180\n",
      "time spent on this experiment: 0.0019347667694091797\n",
      "2 - validation_accuracy: 0.9013329421158054\n",
      "2 - test_accuracy: 0.4760937428541058\n",
      "finished experiment 4\n",
      "processing hyper-parameter 4 out of 9\n",
      "doing run 3 out of 5\n",
      "fixed rate, multiple epochs values\n",
      "running experiment 4\n",
      "run number: 3\n",
      "\n",
      "parameters:\n",
      "\tepochs=15,\n",
      "\tnoise=0.1,\n",
      "\toffset=0.3,\n",
      "\trate=0.03\n",
      "\n",
      "script: /mnt/athena/hpsearch/hpsearch/examples/dummy_experiment_manager.py, line number: 180\n",
      "time spent on this experiment: 0.002106189727783203\n",
      "3 - validation_accuracy: 0.935572974069455\n",
      "3 - test_accuracy: 0.6468269824472955\n",
      "finished experiment 4\n",
      "processing hyper-parameter 4 out of 9\n",
      "doing run 4 out of 5\n",
      "fixed rate, multiple epochs values\n",
      "running experiment 4\n",
      "run number: 4\n",
      "\n",
      "parameters:\n",
      "\tepochs=15,\n",
      "\tnoise=0.1,\n",
      "\toffset=0.3,\n",
      "\trate=0.03\n",
      "\n",
      "script: /mnt/athena/hpsearch/hpsearch/examples/dummy_experiment_manager.py, line number: 180\n",
      "time spent on this experiment: 0.0020177364349365234\n",
      "4 - validation_accuracy: 0.7079790607281852\n",
      "4 - test_accuracy: 0.5958279142810006\n",
      "finished experiment 4\n",
      "processing hyper-parameter 5 out of 9\n",
      "doing run 0 out of 5\n",
      "fixed rate, multiple epochs values\n",
      "running experiment 5\n",
      "run number: 0\n",
      "\n",
      "parameters:\n",
      "\tepochs=15,\n",
      "\tnoise=0.1,\n",
      "\toffset=0.6,\n",
      "\trate=0.03\n",
      "\n",
      "script: /mnt/athena/hpsearch/hpsearch/examples/dummy_experiment_manager.py, line number: 180\n",
      "time spent on this experiment: 0.0016922950744628906\n",
      "0 - validation_accuracy: 1.0\n",
      "0 - test_accuracy: 1.0\n"
     ]
    },
    {
     "name": "stdout",
     "output_type": "stream",
     "text": [
      "current path: /mnt/athena/hpsearch/nbs/tools\n",
      "fitting model with 15 epochs\n",
      "epoch 0: accuracy: 0.32999999999999996\n",
      "epoch 1: accuracy: 0.36\n",
      "epoch 2: accuracy: 0.39\n",
      "epoch 3: accuracy: 0.42000000000000004\n",
      "epoch 4: accuracy: 0.45000000000000007\n",
      "epoch 5: accuracy: 0.4800000000000001\n",
      "epoch 6: accuracy: 0.5100000000000001\n",
      "epoch 7: accuracy: 0.5400000000000001\n",
      "epoch 8: accuracy: 0.5700000000000002\n",
      "epoch 9: accuracy: 0.6000000000000002\n",
      "epoch 10: accuracy: 0.6300000000000002\n",
      "epoch 11: accuracy: 0.6600000000000003\n",
      "epoch 12: accuracy: 0.6900000000000003\n",
      "epoch 13: accuracy: 0.7200000000000003\n",
      "epoch 14: accuracy: 0.7500000000000003\n",
      "current path: /mnt/athena/hpsearch/nbs/tools\n",
      "fitting model with 15 epochs\n",
      "epoch 0: accuracy: 0.32999999999999996\n",
      "epoch 1: accuracy: 0.36\n",
      "epoch 2: accuracy: 0.39\n",
      "epoch 3: accuracy: 0.42000000000000004\n",
      "epoch 4: accuracy: 0.45000000000000007\n",
      "epoch 5: accuracy: 0.4800000000000001\n",
      "epoch 6: accuracy: 0.5100000000000001\n",
      "epoch 7: accuracy: 0.5400000000000001\n",
      "epoch 8: accuracy: 0.5700000000000002\n",
      "epoch 9: accuracy: 0.6000000000000002\n",
      "epoch 10: accuracy: 0.6300000000000002\n",
      "epoch 11: accuracy: 0.6600000000000003\n",
      "epoch 12: accuracy: 0.6900000000000003\n",
      "epoch 13: accuracy: 0.7200000000000003\n",
      "epoch 14: accuracy: 0.7500000000000003\n",
      "current path: /mnt/athena/hpsearch/nbs/tools\n",
      "fitting model with 15 epochs\n",
      "epoch 0: accuracy: 0.32999999999999996\n",
      "epoch 1: accuracy: 0.36\n",
      "epoch 2: accuracy: 0.39\n",
      "epoch 3: accuracy: 0.42000000000000004\n",
      "epoch 4: accuracy: 0.45000000000000007\n",
      "epoch 5: accuracy: 0.4800000000000001\n",
      "epoch 6: accuracy: 0.5100000000000001\n",
      "epoch 7: accuracy: 0.5400000000000001\n",
      "epoch 8: accuracy: 0.5700000000000002\n",
      "epoch 9: accuracy: 0.6000000000000002\n",
      "epoch 10: accuracy: 0.6300000000000002\n",
      "epoch 11: accuracy: 0.6600000000000003\n",
      "epoch 12: accuracy: 0.6900000000000003\n",
      "epoch 13: accuracy: 0.7200000000000003\n",
      "epoch 14: accuracy: 0.7500000000000003\n",
      "current path: /mnt/athena/hpsearch/nbs/tools\n",
      "fitting model with 15 epochs\n",
      "epoch 0: accuracy: 0.63\n",
      "epoch 1: accuracy: 0.66\n",
      "epoch 2: accuracy: 0.6900000000000001\n",
      "epoch 3: accuracy: 0.7200000000000001\n",
      "epoch 4: accuracy: 0.7500000000000001\n",
      "epoch 5: accuracy: 0.7800000000000001\n",
      "epoch 6: accuracy: 0.8100000000000002\n",
      "epoch 7: accuracy: 0.8400000000000002\n",
      "epoch 8: accuracy: 0.8700000000000002\n",
      "epoch 9: accuracy: 0.9000000000000002\n",
      "epoch 10: accuracy: 0.9300000000000003\n",
      "epoch 11: accuracy: 0.9600000000000003\n",
      "epoch 12: accuracy: 0.9900000000000003\n",
      "epoch 13: accuracy: 1.0200000000000002\n",
      "epoch 14: accuracy: 1.0500000000000003\n"
     ]
    },
    {
     "name": "stderr",
     "output_type": "stream",
     "text": [
      "finished experiment 5\n",
      "processing hyper-parameter 5 out of 9\n",
      "doing run 1 out of 5\n",
      "fixed rate, multiple epochs values\n",
      "running experiment 5\n",
      "run number: 1\n",
      "\n",
      "parameters:\n",
      "\tepochs=15,\n",
      "\tnoise=0.1,\n",
      "\toffset=0.6,\n",
      "\trate=0.03\n",
      "\n",
      "script: /mnt/athena/hpsearch/hpsearch/examples/dummy_experiment_manager.py, line number: 180\n",
      "time spent on this experiment: 0.0018672943115234375\n",
      "1 - validation_accuracy: 1.0\n",
      "1 - test_accuracy: 0.8172977047994626\n",
      "finished experiment 5\n",
      "processing hyper-parameter 5 out of 9\n",
      "doing run 2 out of 5\n",
      "fixed rate, multiple epochs values\n",
      "running experiment 5\n",
      "run number: 2\n",
      "\n",
      "parameters:\n",
      "\tepochs=15,\n",
      "\tnoise=0.1,\n",
      "\toffset=0.6,\n",
      "\trate=0.03\n",
      "\n",
      "script: /mnt/athena/hpsearch/hpsearch/examples/dummy_experiment_manager.py, line number: 180\n",
      "time spent on this experiment: 0.0020759105682373047\n",
      "2 - validation_accuracy: 1.0\n",
      "2 - test_accuracy: 0.7301901594785152\n",
      "finished experiment 5\n",
      "processing hyper-parameter 5 out of 9\n",
      "doing run 3 out of 5\n",
      "fixed rate, multiple epochs values\n",
      "running experiment 5\n",
      "run number: 3\n",
      "\n",
      "parameters:\n",
      "\tepochs=15,\n",
      "\tnoise=0.1,\n",
      "\toffset=0.6,\n",
      "\trate=0.03\n",
      "\n",
      "script: /mnt/athena/hpsearch/hpsearch/examples/dummy_experiment_manager.py, line number: 180\n",
      "time spent on this experiment: 0.002259969711303711\n",
      "3 - validation_accuracy: 1.0\n",
      "3 - test_accuracy: 1.0\n",
      "finished experiment 5\n",
      "processing hyper-parameter 5 out of 9\n",
      "doing run 4 out of 5\n",
      "fixed rate, multiple epochs values\n",
      "running experiment 5\n",
      "run number: 4\n",
      "\n",
      "parameters:\n",
      "\tepochs=15,\n",
      "\tnoise=0.1,\n",
      "\toffset=0.6,\n",
      "\trate=0.03\n",
      "\n",
      "script: /mnt/athena/hpsearch/hpsearch/examples/dummy_experiment_manager.py, line number: 180\n",
      "time spent on this experiment: 0.001901865005493164\n",
      "4 - validation_accuracy: 1.0\n",
      "4 - test_accuracy: 0.8547331583682827\n"
     ]
    },
    {
     "name": "stdout",
     "output_type": "stream",
     "text": [
      "current path: /mnt/athena/hpsearch/nbs/tools\n",
      "fitting model with 15 epochs\n",
      "epoch 0: accuracy: 0.63\n",
      "epoch 1: accuracy: 0.66\n",
      "epoch 2: accuracy: 0.6900000000000001\n",
      "epoch 3: accuracy: 0.7200000000000001\n",
      "epoch 4: accuracy: 0.7500000000000001\n",
      "epoch 5: accuracy: 0.7800000000000001\n",
      "epoch 6: accuracy: 0.8100000000000002\n",
      "epoch 7: accuracy: 0.8400000000000002\n",
      "epoch 8: accuracy: 0.8700000000000002\n",
      "epoch 9: accuracy: 0.9000000000000002\n",
      "epoch 10: accuracy: 0.9300000000000003\n",
      "epoch 11: accuracy: 0.9600000000000003\n",
      "epoch 12: accuracy: 0.9900000000000003\n",
      "epoch 13: accuracy: 1.0200000000000002\n",
      "epoch 14: accuracy: 1.0500000000000003\n",
      "current path: /mnt/athena/hpsearch/nbs/tools\n",
      "fitting model with 15 epochs\n",
      "epoch 0: accuracy: 0.63\n",
      "epoch 1: accuracy: 0.66\n",
      "epoch 2: accuracy: 0.6900000000000001\n",
      "epoch 3: accuracy: 0.7200000000000001\n",
      "epoch 4: accuracy: 0.7500000000000001\n",
      "epoch 5: accuracy: 0.7800000000000001\n",
      "epoch 6: accuracy: 0.8100000000000002\n",
      "epoch 7: accuracy: 0.8400000000000002\n",
      "epoch 8: accuracy: 0.8700000000000002\n",
      "epoch 9: accuracy: 0.9000000000000002\n",
      "epoch 10: accuracy: 0.9300000000000003\n",
      "epoch 11: accuracy: 0.9600000000000003\n",
      "epoch 12: accuracy: 0.9900000000000003\n",
      "epoch 13: accuracy: 1.0200000000000002\n",
      "epoch 14: accuracy: 1.0500000000000003\n",
      "current path: /mnt/athena/hpsearch/nbs/tools\n",
      "fitting model with 15 epochs\n",
      "epoch 0: accuracy: 0.63\n",
      "epoch 1: accuracy: 0.66\n",
      "epoch 2: accuracy: 0.6900000000000001\n",
      "epoch 3: accuracy: 0.7200000000000001\n",
      "epoch 4: accuracy: 0.7500000000000001\n",
      "epoch 5: accuracy: 0.7800000000000001\n",
      "epoch 6: accuracy: 0.8100000000000002\n",
      "epoch 7: accuracy: 0.8400000000000002\n",
      "epoch 8: accuracy: 0.8700000000000002\n",
      "epoch 9: accuracy: 0.9000000000000002\n",
      "epoch 10: accuracy: 0.9300000000000003\n",
      "epoch 11: accuracy: 0.9600000000000003\n",
      "epoch 12: accuracy: 0.9900000000000003\n",
      "epoch 13: accuracy: 1.0200000000000002\n",
      "epoch 14: accuracy: 1.0500000000000003\n",
      "current path: /mnt/athena/hpsearch/nbs/tools\n",
      "fitting model with 15 epochs\n",
      "epoch 0: accuracy: 0.63\n",
      "epoch 1: accuracy: 0.66\n",
      "epoch 2: accuracy: 0.6900000000000001\n",
      "epoch 3: accuracy: 0.7200000000000001\n",
      "epoch 4: accuracy: 0.7500000000000001\n",
      "epoch 5: accuracy: 0.7800000000000001\n",
      "epoch 6: accuracy: 0.8100000000000002\n",
      "epoch 7: accuracy: 0.8400000000000002\n",
      "epoch 8: accuracy: 0.8700000000000002\n",
      "epoch 9: accuracy: 0.9000000000000002\n",
      "epoch 10: accuracy: 0.9300000000000003\n",
      "epoch 11: accuracy: 0.9600000000000003\n",
      "epoch 12: accuracy: 0.9900000000000003\n",
      "epoch 13: accuracy: 1.0200000000000002\n",
      "epoch 14: accuracy: 1.0500000000000003\n"
     ]
    },
    {
     "name": "stderr",
     "output_type": "stream",
     "text": [
      "finished experiment 5\n",
      "processing hyper-parameter 6 out of 9\n",
      "doing run 0 out of 5\n",
      "fixed rate, multiple epochs values\n",
      "running experiment 6\n",
      "run number: 0\n",
      "\n",
      "parameters:\n",
      "\tepochs=30,\n",
      "\tnoise=0.1,\n",
      "\toffset=0.1,\n",
      "\trate=0.03\n",
      "\n",
      "script: /mnt/athena/hpsearch/hpsearch/examples/dummy_experiment_manager.py, line number: 180\n",
      "time spent on this experiment: 0.0034208297729492188\n",
      "0 - validation_accuracy: 0.46528941284605935\n",
      "0 - test_accuracy: 0.13980736130292365\n",
      "finished experiment 6\n",
      "processing hyper-parameter 6 out of 9\n",
      "doing run 1 out of 5\n",
      "fixed rate, multiple epochs values\n",
      "running experiment 6\n",
      "run number: 1\n",
      "\n",
      "parameters:\n",
      "\tepochs=30,\n",
      "\tnoise=0.1,\n",
      "\toffset=0.1,\n",
      "\trate=0.03\n",
      "\n",
      "script: /mnt/athena/hpsearch/hpsearch/examples/dummy_experiment_manager.py, line number: 180\n",
      "time spent on this experiment: 0.0032002925872802734\n",
      "1 - validation_accuracy: 0.5401032021249156\n",
      "1 - test_accuracy: 0.33863869660937507\n",
      "finished experiment 6\n",
      "processing hyper-parameter 6 out of 9\n",
      "doing run 2 out of 5\n",
      "fixed rate, multiple epochs values\n",
      "running experiment 6\n",
      "run number: 2\n",
      "\n",
      "parameters:\n",
      "\tepochs=30,\n",
      "\tnoise=0.1,\n",
      "\toffset=0.1,\n",
      "\trate=0.03\n",
      "\n",
      "script: /mnt/athena/hpsearch/hpsearch/examples/dummy_experiment_manager.py, line number: 180\n",
      "time spent on this experiment: 0.0034894943237304688\n",
      "2 - validation_accuracy: 0.38746989960648226\n",
      "2 - test_accuracy: 0.4534519920951353\n",
      "finished experiment 6\n",
      "processing hyper-parameter 6 out of 9\n",
      "doing run 3 out of 5\n",
      "fixed rate, multiple epochs values\n",
      "running experiment 6\n",
      "run number: 3\n",
      "\n",
      "parameters:\n",
      "\tepochs=30,\n",
      "\tnoise=0.1,\n",
      "\toffset=0.1,\n",
      "\trate=0.03\n",
      "\n"
     ]
    },
    {
     "name": "stdout",
     "output_type": "stream",
     "text": [
      "current path: /mnt/athena/hpsearch/nbs/tools\n",
      "fitting model with 30 epochs\n",
      "epoch 0: accuracy: 0.13\n",
      "epoch 1: accuracy: 0.16\n",
      "epoch 2: accuracy: 0.19\n",
      "epoch 3: accuracy: 0.22\n",
      "epoch 4: accuracy: 0.25\n",
      "epoch 5: accuracy: 0.28\n",
      "epoch 6: accuracy: 0.31000000000000005\n",
      "epoch 7: accuracy: 0.3400000000000001\n",
      "epoch 8: accuracy: 0.3700000000000001\n",
      "epoch 9: accuracy: 0.40000000000000013\n",
      "epoch 10: accuracy: 0.43000000000000016\n",
      "epoch 11: accuracy: 0.4600000000000002\n",
      "epoch 12: accuracy: 0.4900000000000002\n",
      "epoch 13: accuracy: 0.5200000000000002\n",
      "epoch 14: accuracy: 0.5500000000000003\n",
      "epoch 15: accuracy: 0.5800000000000003\n",
      "epoch 16: accuracy: 0.6100000000000003\n",
      "epoch 17: accuracy: 0.6400000000000003\n",
      "epoch 18: accuracy: 0.6700000000000004\n",
      "epoch 19: accuracy: 0.7000000000000004\n",
      "epoch 20: accuracy: 0.6700000000000004\n",
      "epoch 21: accuracy: 0.6400000000000003\n",
      "epoch 22: accuracy: 0.6100000000000003\n",
      "epoch 23: accuracy: 0.5800000000000003\n",
      "epoch 24: accuracy: 0.5500000000000003\n",
      "epoch 25: accuracy: 0.5200000000000002\n",
      "epoch 26: accuracy: 0.4900000000000002\n",
      "epoch 27: accuracy: 0.4600000000000002\n",
      "epoch 28: accuracy: 0.43000000000000016\n",
      "epoch 29: accuracy: 0.40000000000000013\n",
      "current path: /mnt/athena/hpsearch/nbs/tools\n",
      "fitting model with 30 epochs\n",
      "epoch 0: accuracy: 0.13\n",
      "epoch 1: accuracy: 0.16\n",
      "epoch 2: accuracy: 0.19\n",
      "epoch 3: accuracy: 0.22\n",
      "epoch 4: accuracy: 0.25\n",
      "epoch 5: accuracy: 0.28\n",
      "epoch 6: accuracy: 0.31000000000000005\n",
      "epoch 7: accuracy: 0.3400000000000001\n",
      "epoch 8: accuracy: 0.3700000000000001\n",
      "epoch 9: accuracy: 0.40000000000000013\n",
      "epoch 10: accuracy: 0.43000000000000016\n",
      "epoch 11: accuracy: 0.4600000000000002\n",
      "epoch 12: accuracy: 0.4900000000000002\n",
      "epoch 13: accuracy: 0.5200000000000002\n",
      "epoch 14: accuracy: 0.5500000000000003\n",
      "epoch 15: accuracy: 0.5800000000000003\n",
      "epoch 16: accuracy: 0.6100000000000003\n",
      "epoch 17: accuracy: 0.6400000000000003\n",
      "epoch 18: accuracy: 0.6700000000000004\n",
      "epoch 19: accuracy: 0.7000000000000004\n",
      "epoch 20: accuracy: 0.6700000000000004\n",
      "epoch 21: accuracy: 0.6400000000000003\n",
      "epoch 22: accuracy: 0.6100000000000003\n",
      "epoch 23: accuracy: 0.5800000000000003\n",
      "epoch 24: accuracy: 0.5500000000000003\n",
      "epoch 25: accuracy: 0.5200000000000002\n",
      "epoch 26: accuracy: 0.4900000000000002\n",
      "epoch 27: accuracy: 0.4600000000000002\n",
      "epoch 28: accuracy: 0.43000000000000016\n",
      "epoch 29: accuracy: 0.40000000000000013\n",
      "current path: /mnt/athena/hpsearch/nbs/tools\n",
      "fitting model with 30 epochs\n",
      "epoch 0: accuracy: 0.13\n",
      "epoch 1: accuracy: 0.16\n",
      "epoch 2: accuracy: 0.19\n",
      "epoch 3: accuracy: 0.22\n",
      "epoch 4: accuracy: 0.25\n",
      "epoch 5: accuracy: 0.28\n",
      "epoch 6: accuracy: 0.31000000000000005\n",
      "epoch 7: accuracy: 0.3400000000000001\n",
      "epoch 8: accuracy: 0.3700000000000001\n",
      "epoch 9: accuracy: 0.40000000000000013\n",
      "epoch 10: accuracy: 0.43000000000000016\n",
      "epoch 11: accuracy: 0.4600000000000002\n",
      "epoch 12: accuracy: 0.4900000000000002\n",
      "epoch 13: accuracy: 0.5200000000000002\n",
      "epoch 14: accuracy: 0.5500000000000003\n",
      "epoch 15: accuracy: 0.5800000000000003\n",
      "epoch 16: accuracy: 0.6100000000000003\n",
      "epoch 17: accuracy: 0.6400000000000003\n",
      "epoch 18: accuracy: 0.6700000000000004\n",
      "epoch 19: accuracy: 0.7000000000000004\n",
      "epoch 20: accuracy: 0.6700000000000004\n",
      "epoch 21: accuracy: 0.6400000000000003\n",
      "epoch 22: accuracy: 0.6100000000000003\n",
      "epoch 23: accuracy: 0.5800000000000003\n",
      "epoch 24: accuracy: 0.5500000000000003\n",
      "epoch 25: accuracy: 0.5200000000000002\n",
      "epoch 26: accuracy: 0.4900000000000002\n",
      "epoch 27: accuracy: 0.4600000000000002\n",
      "epoch 28: accuracy: 0.43000000000000016\n",
      "epoch 29: accuracy: 0.40000000000000013\n",
      "current path: /mnt/athena/hpsearch/nbs/tools\n"
     ]
    },
    {
     "name": "stderr",
     "output_type": "stream",
     "text": [
      "script: /mnt/athena/hpsearch/hpsearch/examples/dummy_experiment_manager.py, line number: 180\n",
      "time spent on this experiment: 0.0033478736877441406\n",
      "3 - validation_accuracy: 0.2568821686719357\n",
      "3 - test_accuracy: 0.2568612437707605\n",
      "finished experiment 6\n",
      "processing hyper-parameter 6 out of 9\n",
      "doing run 4 out of 5\n",
      "fixed rate, multiple epochs values\n",
      "running experiment 6\n",
      "run number: 4\n",
      "\n",
      "parameters:\n",
      "\tepochs=30,\n",
      "\tnoise=0.1,\n",
      "\toffset=0.1,\n",
      "\trate=0.03\n",
      "\n",
      "script: /mnt/athena/hpsearch/hpsearch/examples/dummy_experiment_manager.py, line number: 180\n",
      "time spent on this experiment: 0.003294229507446289\n",
      "4 - validation_accuracy: 0.24424847047536943\n",
      "4 - test_accuracy: 0.3032176568585292\n",
      "finished experiment 6\n",
      "processing hyper-parameter 7 out of 9\n",
      "doing run 0 out of 5\n",
      "fixed rate, multiple epochs values\n",
      "running experiment 7\n",
      "run number: 0\n",
      "\n",
      "parameters:\n",
      "\tepochs=30,\n",
      "\tnoise=0.1,\n",
      "\toffset=0.3,\n",
      "\trate=0.03\n",
      "\n",
      "script: /mnt/athena/hpsearch/hpsearch/examples/dummy_experiment_manager.py, line number: 180\n",
      "time spent on this experiment: 0.003058910369873047\n",
      "0 - validation_accuracy: 0.5338322280492541\n",
      "0 - test_accuracy: 0.6016932785764839\n",
      "finished experiment 7\n",
      "processing hyper-parameter 7 out of 9\n",
      "doing run 1 out of 5\n",
      "fixed rate, multiple epochs values\n",
      "running experiment 7\n",
      "run number: 1\n",
      "\n",
      "parameters:\n",
      "\tepochs=30,\n",
      "\tnoise=0.1,\n",
      "\toffset=0.3,\n",
      "\trate=0.03\n",
      "\n",
      "script: /mnt/athena/hpsearch/hpsearch/examples/dummy_experiment_manager.py, line number: 180\n",
      "time spent on this experiment: 0.0016894340515136719\n",
      "1 - validation_accuracy: 0.7290194065415886\n",
      "1 - test_accuracy: 0.4924126629594824\n"
     ]
    },
    {
     "name": "stdout",
     "output_type": "stream",
     "text": [
      "fitting model with 30 epochs\n",
      "epoch 0: accuracy: 0.13\n",
      "epoch 1: accuracy: 0.16\n",
      "epoch 2: accuracy: 0.19\n",
      "epoch 3: accuracy: 0.22\n",
      "epoch 4: accuracy: 0.25\n",
      "epoch 5: accuracy: 0.28\n",
      "epoch 6: accuracy: 0.31000000000000005\n",
      "epoch 7: accuracy: 0.3400000000000001\n",
      "epoch 8: accuracy: 0.3700000000000001\n",
      "epoch 9: accuracy: 0.40000000000000013\n",
      "epoch 10: accuracy: 0.43000000000000016\n",
      "epoch 11: accuracy: 0.4600000000000002\n",
      "epoch 12: accuracy: 0.4900000000000002\n",
      "epoch 13: accuracy: 0.5200000000000002\n",
      "epoch 14: accuracy: 0.5500000000000003\n",
      "epoch 15: accuracy: 0.5800000000000003\n",
      "epoch 16: accuracy: 0.6100000000000003\n",
      "epoch 17: accuracy: 0.6400000000000003\n",
      "epoch 18: accuracy: 0.6700000000000004\n",
      "epoch 19: accuracy: 0.7000000000000004\n",
      "epoch 20: accuracy: 0.6700000000000004\n",
      "epoch 21: accuracy: 0.6400000000000003\n",
      "epoch 22: accuracy: 0.6100000000000003\n",
      "epoch 23: accuracy: 0.5800000000000003\n",
      "epoch 24: accuracy: 0.5500000000000003\n",
      "epoch 25: accuracy: 0.5200000000000002\n",
      "epoch 26: accuracy: 0.4900000000000002\n",
      "epoch 27: accuracy: 0.4600000000000002\n",
      "epoch 28: accuracy: 0.43000000000000016\n",
      "epoch 29: accuracy: 0.40000000000000013\n",
      "current path: /mnt/athena/hpsearch/nbs/tools\n",
      "fitting model with 30 epochs\n",
      "epoch 0: accuracy: 0.13\n",
      "epoch 1: accuracy: 0.16\n",
      "epoch 2: accuracy: 0.19\n",
      "epoch 3: accuracy: 0.22\n",
      "epoch 4: accuracy: 0.25\n",
      "epoch 5: accuracy: 0.28\n",
      "epoch 6: accuracy: 0.31000000000000005\n",
      "epoch 7: accuracy: 0.3400000000000001\n",
      "epoch 8: accuracy: 0.3700000000000001\n",
      "epoch 9: accuracy: 0.40000000000000013\n",
      "epoch 10: accuracy: 0.43000000000000016\n",
      "epoch 11: accuracy: 0.4600000000000002\n",
      "epoch 12: accuracy: 0.4900000000000002\n",
      "epoch 13: accuracy: 0.5200000000000002\n",
      "epoch 14: accuracy: 0.5500000000000003\n",
      "epoch 15: accuracy: 0.5800000000000003\n",
      "epoch 16: accuracy: 0.6100000000000003\n",
      "epoch 17: accuracy: 0.6400000000000003\n",
      "epoch 18: accuracy: 0.6700000000000004\n",
      "epoch 19: accuracy: 0.7000000000000004\n",
      "epoch 20: accuracy: 0.6700000000000004\n",
      "epoch 21: accuracy: 0.6400000000000003\n",
      "epoch 22: accuracy: 0.6100000000000003\n",
      "epoch 23: accuracy: 0.5800000000000003\n",
      "epoch 24: accuracy: 0.5500000000000003\n",
      "epoch 25: accuracy: 0.5200000000000002\n",
      "epoch 26: accuracy: 0.4900000000000002\n",
      "epoch 27: accuracy: 0.4600000000000002\n",
      "epoch 28: accuracy: 0.43000000000000016\n",
      "epoch 29: accuracy: 0.40000000000000013\n",
      "current path: /mnt/athena/hpsearch/nbs/tools\n",
      "fitting model with 30 epochs\n",
      "epoch 0: accuracy: 0.32999999999999996\n",
      "epoch 1: accuracy: 0.36\n",
      "epoch 2: accuracy: 0.39\n",
      "epoch 3: accuracy: 0.42000000000000004\n",
      "epoch 4: accuracy: 0.45000000000000007\n",
      "epoch 5: accuracy: 0.4800000000000001\n",
      "epoch 6: accuracy: 0.5100000000000001\n",
      "epoch 7: accuracy: 0.5400000000000001\n",
      "epoch 8: accuracy: 0.5700000000000002\n",
      "epoch 9: accuracy: 0.6000000000000002\n",
      "epoch 10: accuracy: 0.6300000000000002\n",
      "epoch 11: accuracy: 0.6600000000000003\n",
      "epoch 12: accuracy: 0.6900000000000003\n",
      "epoch 13: accuracy: 0.7200000000000003\n",
      "epoch 14: accuracy: 0.7500000000000003\n",
      "epoch 15: accuracy: 0.7800000000000004\n",
      "epoch 16: accuracy: 0.8100000000000004\n",
      "epoch 17: accuracy: 0.8400000000000004\n",
      "epoch 18: accuracy: 0.8700000000000004\n",
      "epoch 19: accuracy: 0.9000000000000005\n",
      "epoch 20: accuracy: 0.8700000000000004\n",
      "epoch 21: accuracy: 0.8400000000000004\n",
      "epoch 22: accuracy: 0.8100000000000004\n",
      "epoch 23: accuracy: 0.7800000000000004\n",
      "epoch 24: accuracy: 0.7500000000000003\n",
      "epoch 25: accuracy: 0.7200000000000003\n",
      "epoch 26: accuracy: 0.6900000000000003\n",
      "epoch 27: accuracy: 0.6600000000000003\n",
      "epoch 28: accuracy: 0.6300000000000002\n",
      "epoch 29: accuracy: 0.6000000000000002\n",
      "current path: /mnt/athena/hpsearch/nbs/tools\n",
      "fitting model with 30 epochs\n",
      "epoch 0: accuracy: 0.32999999999999996\n",
      "epoch 1: accuracy: 0.36\n",
      "epoch 2: accuracy: 0.39\n",
      "epoch 3: accuracy: 0.42000000000000004\n",
      "epoch 4: accuracy: 0.45000000000000007\n",
      "epoch 5: accuracy: 0.4800000000000001\n",
      "epoch 6: accuracy: 0.5100000000000001\n",
      "epoch 7: accuracy: 0.5400000000000001\n",
      "epoch 8: accuracy: 0.5700000000000002\n",
      "epoch 9: accuracy: 0.6000000000000002\n",
      "epoch 10: accuracy: 0.6300000000000002\n",
      "epoch 11: accuracy: 0.6600000000000003\n",
      "epoch 12: accuracy: 0.6900000000000003\n",
      "epoch 13: accuracy: 0.7200000000000003\n",
      "epoch 14: accuracy: 0.7500000000000003\n",
      "epoch 15: accuracy: 0.7800000000000004\n",
      "epoch 16: accuracy: 0.8100000000000004\n",
      "epoch 17: accuracy: 0.8400000000000004\n",
      "epoch 18: accuracy: 0.8700000000000004\n",
      "epoch 19: accuracy: 0.9000000000000005\n",
      "epoch 20: accuracy: 0.8700000000000004\n",
      "epoch 21: accuracy: 0.8400000000000004\n",
      "epoch 22: accuracy: 0.8100000000000004\n",
      "epoch 23: accuracy: 0.7800000000000004\n",
      "epoch 24: accuracy: 0.7500000000000003\n",
      "epoch 25: accuracy: 0.7200000000000003\n",
      "epoch 26: accuracy: 0.6900000000000003\n",
      "epoch 27: accuracy: 0.6600000000000003\n",
      "epoch 28: accuracy: 0.6300000000000002\n",
      "epoch 29: accuracy: 0.6000000000000002\n"
     ]
    },
    {
     "name": "stderr",
     "output_type": "stream",
     "text": [
      "finished experiment 7\n",
      "processing hyper-parameter 7 out of 9\n",
      "doing run 2 out of 5\n",
      "fixed rate, multiple epochs values\n",
      "running experiment 7\n",
      "run number: 2\n",
      "\n",
      "parameters:\n",
      "\tepochs=30,\n",
      "\tnoise=0.1,\n",
      "\toffset=0.3,\n",
      "\trate=0.03\n",
      "\n",
      "script: /mnt/athena/hpsearch/hpsearch/examples/dummy_experiment_manager.py, line number: 180\n",
      "time spent on this experiment: 0.0037839412689208984\n",
      "2 - validation_accuracy: 0.6384335095573593\n",
      "2 - test_accuracy: 0.5135670428202012\n",
      "finished experiment 7\n",
      "processing hyper-parameter 7 out of 9\n",
      "doing run 3 out of 5\n",
      "fixed rate, multiple epochs values\n",
      "running experiment 7\n",
      "run number: 3\n",
      "\n",
      "parameters:\n",
      "\tepochs=30,\n",
      "\tnoise=0.1,\n",
      "\toffset=0.3,\n",
      "\trate=0.03\n",
      "\n",
      "script: /mnt/athena/hpsearch/hpsearch/examples/dummy_experiment_manager.py, line number: 180\n",
      "time spent on this experiment: 0.0029344558715820312\n",
      "3 - validation_accuracy: 0.6115658971611174\n",
      "3 - test_accuracy: 0.4121464402428564\n",
      "finished experiment 7\n",
      "processing hyper-parameter 7 out of 9\n",
      "doing run 4 out of 5\n",
      "fixed rate, multiple epochs values\n",
      "running experiment 7\n",
      "run number: 4\n",
      "\n",
      "parameters:\n",
      "\tepochs=30,\n",
      "\tnoise=0.1,\n",
      "\toffset=0.3,\n",
      "\trate=0.03\n",
      "\n",
      "script: /mnt/athena/hpsearch/hpsearch/examples/dummy_experiment_manager.py, line number: 180\n",
      "time spent on this experiment: 0.0034918785095214844\n",
      "4 - validation_accuracy: 0.6751137115721877\n",
      "4 - test_accuracy: 0.6347165860095292\n",
      "finished experiment 7\n",
      "processing hyper-parameter 8 out of 9\n",
      "doing run 0 out of 5\n",
      "fixed rate, multiple epochs values\n",
      "running experiment 8\n"
     ]
    },
    {
     "name": "stdout",
     "output_type": "stream",
     "text": [
      "current path: /mnt/athena/hpsearch/nbs/tools\n",
      "fitting model with 30 epochs\n",
      "epoch 0: accuracy: 0.32999999999999996\n",
      "epoch 1: accuracy: 0.36\n",
      "epoch 2: accuracy: 0.39\n",
      "epoch 3: accuracy: 0.42000000000000004\n",
      "epoch 4: accuracy: 0.45000000000000007\n",
      "epoch 5: accuracy: 0.4800000000000001\n",
      "epoch 6: accuracy: 0.5100000000000001\n",
      "epoch 7: accuracy: 0.5400000000000001\n",
      "epoch 8: accuracy: 0.5700000000000002\n",
      "epoch 9: accuracy: 0.6000000000000002\n",
      "epoch 10: accuracy: 0.6300000000000002\n",
      "epoch 11: accuracy: 0.6600000000000003\n",
      "epoch 12: accuracy: 0.6900000000000003\n",
      "epoch 13: accuracy: 0.7200000000000003\n",
      "epoch 14: accuracy: 0.7500000000000003\n",
      "epoch 15: accuracy: 0.7800000000000004\n",
      "epoch 16: accuracy: 0.8100000000000004\n",
      "epoch 17: accuracy: 0.8400000000000004\n",
      "epoch 18: accuracy: 0.8700000000000004\n",
      "epoch 19: accuracy: 0.9000000000000005\n",
      "epoch 20: accuracy: 0.8700000000000004\n",
      "epoch 21: accuracy: 0.8400000000000004\n",
      "epoch 22: accuracy: 0.8100000000000004\n",
      "epoch 23: accuracy: 0.7800000000000004\n",
      "epoch 24: accuracy: 0.7500000000000003\n",
      "epoch 25: accuracy: 0.7200000000000003\n",
      "epoch 26: accuracy: 0.6900000000000003\n",
      "epoch 27: accuracy: 0.6600000000000003\n",
      "epoch 28: accuracy: 0.6300000000000002\n",
      "epoch 29: accuracy: 0.6000000000000002\n",
      "current path: /mnt/athena/hpsearch/nbs/tools\n",
      "fitting model with 30 epochs\n",
      "epoch 0: accuracy: 0.32999999999999996\n",
      "epoch 1: accuracy: 0.36\n",
      "epoch 2: accuracy: 0.39\n",
      "epoch 3: accuracy: 0.42000000000000004\n",
      "epoch 4: accuracy: 0.45000000000000007\n",
      "epoch 5: accuracy: 0.4800000000000001\n",
      "epoch 6: accuracy: 0.5100000000000001\n",
      "epoch 7: accuracy: 0.5400000000000001\n",
      "epoch 8: accuracy: 0.5700000000000002\n",
      "epoch 9: accuracy: 0.6000000000000002\n",
      "epoch 10: accuracy: 0.6300000000000002\n",
      "epoch 11: accuracy: 0.6600000000000003\n",
      "epoch 12: accuracy: 0.6900000000000003\n",
      "epoch 13: accuracy: 0.7200000000000003\n",
      "epoch 14: accuracy: 0.7500000000000003\n",
      "epoch 15: accuracy: 0.7800000000000004\n",
      "epoch 16: accuracy: 0.8100000000000004\n",
      "epoch 17: accuracy: 0.8400000000000004\n",
      "epoch 18: accuracy: 0.8700000000000004\n",
      "epoch 19: accuracy: 0.9000000000000005\n",
      "epoch 20: accuracy: 0.8700000000000004\n",
      "epoch 21: accuracy: 0.8400000000000004\n",
      "epoch 22: accuracy: 0.8100000000000004\n",
      "epoch 23: accuracy: 0.7800000000000004\n",
      "epoch 24: accuracy: 0.7500000000000003\n",
      "epoch 25: accuracy: 0.7200000000000003\n",
      "epoch 26: accuracy: 0.6900000000000003\n",
      "epoch 27: accuracy: 0.6600000000000003\n",
      "epoch 28: accuracy: 0.6300000000000002\n",
      "epoch 29: accuracy: 0.6000000000000002\n",
      "current path: /mnt/athena/hpsearch/nbs/tools\n",
      "fitting model with 30 epochs\n",
      "epoch 0: accuracy: 0.32999999999999996\n",
      "epoch 1: accuracy: 0.36\n",
      "epoch 2: accuracy: 0.39\n",
      "epoch 3: accuracy: 0.42000000000000004\n",
      "epoch 4: accuracy: 0.45000000000000007\n",
      "epoch 5: accuracy: 0.4800000000000001\n",
      "epoch 6: accuracy: 0.5100000000000001\n",
      "epoch 7: accuracy: 0.5400000000000001\n",
      "epoch 8: accuracy: 0.5700000000000002\n",
      "epoch 9: accuracy: 0.6000000000000002\n",
      "epoch 10: accuracy: 0.6300000000000002\n",
      "epoch 11: accuracy: 0.6600000000000003\n",
      "epoch 12: accuracy: 0.6900000000000003\n",
      "epoch 13: accuracy: 0.7200000000000003\n",
      "epoch 14: accuracy: 0.7500000000000003\n",
      "epoch 15: accuracy: 0.7800000000000004\n",
      "epoch 16: accuracy: 0.8100000000000004\n",
      "epoch 17: accuracy: 0.8400000000000004\n",
      "epoch 18: accuracy: 0.8700000000000004\n",
      "epoch 19: accuracy: 0.9000000000000005\n",
      "epoch 20: accuracy: 0.8700000000000004\n",
      "epoch 21: accuracy: 0.8400000000000004\n",
      "epoch 22: accuracy: 0.8100000000000004\n",
      "epoch 23: accuracy: 0.7800000000000004\n",
      "epoch 24: accuracy: 0.7500000000000003\n",
      "epoch 25: accuracy: 0.7200000000000003\n",
      "epoch 26: accuracy: 0.6900000000000003\n",
      "epoch 27: accuracy: 0.6600000000000003\n",
      "epoch 28: accuracy: 0.6300000000000002\n",
      "epoch 29: accuracy: 0.6000000000000002\n",
      "current path: /mnt/athena/hpsearch/nbs/tools\n"
     ]
    },
    {
     "name": "stderr",
     "output_type": "stream",
     "text": [
      "run number: 0\n",
      "\n",
      "parameters:\n",
      "\tepochs=30,\n",
      "\tnoise=0.1,\n",
      "\toffset=0.6,\n",
      "\trate=0.03\n",
      "\n",
      "script: /mnt/athena/hpsearch/hpsearch/examples/dummy_experiment_manager.py, line number: 180\n",
      "time spent on this experiment: 0.003518819808959961\n",
      "0 - validation_accuracy: 0.8356166563454858\n",
      "0 - test_accuracy: 0.7422316993573503\n",
      "finished experiment 8\n",
      "processing hyper-parameter 8 out of 9\n",
      "doing run 1 out of 5\n",
      "fixed rate, multiple epochs values\n",
      "running experiment 8\n",
      "run number: 1\n",
      "\n",
      "parameters:\n",
      "\tepochs=30,\n",
      "\tnoise=0.1,\n",
      "\toffset=0.6,\n",
      "\trate=0.03\n",
      "\n",
      "script: /mnt/athena/hpsearch/hpsearch/examples/dummy_experiment_manager.py, line number: 180\n",
      "time spent on this experiment: 0.0036215782165527344\n",
      "1 - validation_accuracy: 0.950219788206472\n",
      "1 - test_accuracy: 0.9190235159696007\n",
      "finished experiment 8\n",
      "processing hyper-parameter 8 out of 9\n",
      "doing run 2 out of 5\n",
      "fixed rate, multiple epochs values\n",
      "running experiment 8\n",
      "run number: 2\n",
      "\n",
      "parameters:\n",
      "\tepochs=30,\n",
      "\tnoise=0.1,\n",
      "\toffset=0.6,\n",
      "\trate=0.03\n",
      "\n",
      "script: /mnt/athena/hpsearch/hpsearch/examples/dummy_experiment_manager.py, line number: 180\n",
      "time spent on this experiment: 0.003642559051513672\n",
      "2 - validation_accuracy: 0.897656032774775\n",
      "2 - test_accuracy: 0.8896752946747872\n",
      "finished experiment 8\n",
      "processing hyper-parameter 8 out of 9\n",
      "doing run 3 out of 5\n",
      "fixed rate, multiple epochs values\n",
      "running experiment 8\n",
      "run number: 3\n",
      "\n",
      "parameters:\n",
      "\tepochs=30,\n",
      "\tnoise=0.1,\n",
      "\toffset=0.6,\n",
      "\trate=0.03\n",
      "\n",
      "script: /mnt/athena/hpsearch/hpsearch/examples/dummy_experiment_manager.py, line number: 180\n",
      "time spent on this experiment: 0.0010726451873779297\n",
      "3 - validation_accuracy: 0.9803379889023537\n",
      "3 - test_accuracy: 0.7272790777496375\n",
      "finished experiment 8\n",
      "processing hyper-parameter 8 out of 9\n"
     ]
    },
    {
     "name": "stdout",
     "output_type": "stream",
     "text": [
      "fitting model with 30 epochs\n",
      "epoch 0: accuracy: 0.63\n",
      "epoch 1: accuracy: 0.66\n",
      "epoch 2: accuracy: 0.6900000000000001\n",
      "epoch 3: accuracy: 0.7200000000000001\n",
      "epoch 4: accuracy: 0.7500000000000001\n",
      "epoch 5: accuracy: 0.7800000000000001\n",
      "epoch 6: accuracy: 0.8100000000000002\n",
      "epoch 7: accuracy: 0.8400000000000002\n",
      "epoch 8: accuracy: 0.8700000000000002\n",
      "epoch 9: accuracy: 0.9000000000000002\n",
      "epoch 10: accuracy: 0.9300000000000003\n",
      "epoch 11: accuracy: 0.9600000000000003\n",
      "epoch 12: accuracy: 0.9900000000000003\n",
      "epoch 13: accuracy: 1.0200000000000002\n",
      "epoch 14: accuracy: 1.0500000000000003\n",
      "epoch 15: accuracy: 1.0800000000000003\n",
      "epoch 16: accuracy: 1.1100000000000003\n",
      "epoch 17: accuracy: 1.1400000000000003\n",
      "epoch 18: accuracy: 1.1700000000000004\n",
      "epoch 19: accuracy: 1.2000000000000004\n",
      "epoch 20: accuracy: 1.1700000000000004\n",
      "epoch 21: accuracy: 1.1400000000000003\n",
      "epoch 22: accuracy: 1.1100000000000003\n",
      "epoch 23: accuracy: 1.0800000000000003\n",
      "epoch 24: accuracy: 1.0500000000000003\n",
      "epoch 25: accuracy: 1.0200000000000002\n",
      "epoch 26: accuracy: 0.9900000000000002\n",
      "epoch 27: accuracy: 0.9600000000000002\n",
      "epoch 28: accuracy: 0.9300000000000002\n",
      "epoch 29: accuracy: 0.9000000000000001\n",
      "current path: /mnt/athena/hpsearch/nbs/tools\n",
      "fitting model with 30 epochs\n",
      "epoch 0: accuracy: 0.63\n",
      "epoch 1: accuracy: 0.66\n",
      "epoch 2: accuracy: 0.6900000000000001\n",
      "epoch 3: accuracy: 0.7200000000000001\n",
      "epoch 4: accuracy: 0.7500000000000001\n",
      "epoch 5: accuracy: 0.7800000000000001\n",
      "epoch 6: accuracy: 0.8100000000000002\n",
      "epoch 7: accuracy: 0.8400000000000002\n",
      "epoch 8: accuracy: 0.8700000000000002\n",
      "epoch 9: accuracy: 0.9000000000000002\n",
      "epoch 10: accuracy: 0.9300000000000003\n",
      "epoch 11: accuracy: 0.9600000000000003\n",
      "epoch 12: accuracy: 0.9900000000000003\n",
      "epoch 13: accuracy: 1.0200000000000002\n",
      "epoch 14: accuracy: 1.0500000000000003\n",
      "epoch 15: accuracy: 1.0800000000000003\n",
      "epoch 16: accuracy: 1.1100000000000003\n",
      "epoch 17: accuracy: 1.1400000000000003\n",
      "epoch 18: accuracy: 1.1700000000000004\n",
      "epoch 19: accuracy: 1.2000000000000004\n",
      "epoch 20: accuracy: 1.1700000000000004\n",
      "epoch 21: accuracy: 1.1400000000000003\n",
      "epoch 22: accuracy: 1.1100000000000003\n",
      "epoch 23: accuracy: 1.0800000000000003\n",
      "epoch 24: accuracy: 1.0500000000000003\n",
      "epoch 25: accuracy: 1.0200000000000002\n",
      "epoch 26: accuracy: 0.9900000000000002\n",
      "epoch 27: accuracy: 0.9600000000000002\n",
      "epoch 28: accuracy: 0.9300000000000002\n",
      "epoch 29: accuracy: 0.9000000000000001\n",
      "current path: /mnt/athena/hpsearch/nbs/tools\n",
      "fitting model with 30 epochs\n",
      "epoch 0: accuracy: 0.63\n",
      "epoch 1: accuracy: 0.66\n",
      "epoch 2: accuracy: 0.6900000000000001\n",
      "epoch 3: accuracy: 0.7200000000000001\n",
      "epoch 4: accuracy: 0.7500000000000001\n",
      "epoch 5: accuracy: 0.7800000000000001\n",
      "epoch 6: accuracy: 0.8100000000000002\n",
      "epoch 7: accuracy: 0.8400000000000002\n",
      "epoch 8: accuracy: 0.8700000000000002\n",
      "epoch 9: accuracy: 0.9000000000000002\n",
      "epoch 10: accuracy: 0.9300000000000003\n",
      "epoch 11: accuracy: 0.9600000000000003\n",
      "epoch 12: accuracy: 0.9900000000000003\n",
      "epoch 13: accuracy: 1.0200000000000002\n",
      "epoch 14: accuracy: 1.0500000000000003\n",
      "epoch 15: accuracy: 1.0800000000000003\n",
      "epoch 16: accuracy: 1.1100000000000003\n",
      "epoch 17: accuracy: 1.1400000000000003\n",
      "epoch 18: accuracy: 1.1700000000000004\n",
      "epoch 19: accuracy: 1.2000000000000004\n",
      "epoch 20: accuracy: 1.1700000000000004\n",
      "epoch 21: accuracy: 1.1400000000000003\n",
      "epoch 22: accuracy: 1.1100000000000003\n",
      "epoch 23: accuracy: 1.0800000000000003\n",
      "epoch 24: accuracy: 1.0500000000000003\n",
      "epoch 25: accuracy: 1.0200000000000002\n",
      "epoch 26: accuracy: 0.9900000000000002\n",
      "epoch 27: accuracy: 0.9600000000000002\n",
      "epoch 28: accuracy: 0.9300000000000002\n",
      "epoch 29: accuracy: 0.9000000000000001\n",
      "current path: /mnt/athena/hpsearch/nbs/tools\n",
      "fitting model with 30 epochs\n",
      "epoch 0: accuracy: 0.63\n",
      "epoch 1: accuracy: 0.66\n",
      "epoch 2: accuracy: 0.6900000000000001\n",
      "epoch 3: accuracy: 0.7200000000000001\n",
      "epoch 4: accuracy: 0.7500000000000001\n",
      "epoch 5: accuracy: 0.7800000000000001\n",
      "epoch 6: accuracy: 0.8100000000000002\n",
      "epoch 7: accuracy: 0.8400000000000002\n",
      "epoch 8: accuracy: 0.8700000000000002\n",
      "epoch 9: accuracy: 0.9000000000000002\n",
      "epoch 10: accuracy: 0.9300000000000003\n",
      "epoch 11: accuracy: 0.9600000000000003\n",
      "epoch 12: accuracy: 0.9900000000000003\n",
      "epoch 13: accuracy: 1.0200000000000002\n",
      "epoch 14: accuracy: 1.0500000000000003\n",
      "epoch 15: accuracy: 1.0800000000000003\n",
      "epoch 16: accuracy: 1.1100000000000003\n",
      "epoch 17: accuracy: 1.1400000000000003\n",
      "epoch 18: accuracy: 1.1700000000000004\n",
      "epoch 19: accuracy: 1.2000000000000004\n",
      "epoch 20: accuracy: 1.1700000000000004\n",
      "epoch 21: accuracy: 1.1400000000000003\n",
      "epoch 22: accuracy: 1.1100000000000003\n",
      "epoch 23: accuracy: 1.0800000000000003\n",
      "epoch 24: accuracy: 1.0500000000000003\n",
      "epoch 25: accuracy: 1.0200000000000002\n",
      "epoch 26: accuracy: 0.9900000000000002\n",
      "epoch 27: accuracy: 0.9600000000000002\n",
      "epoch 28: accuracy: 0.9300000000000002\n",
      "epoch 29: accuracy: 0.9000000000000001\n"
     ]
    },
    {
     "name": "stderr",
     "output_type": "stream",
     "text": [
      "doing run 4 out of 5\n",
      "fixed rate, multiple epochs values\n",
      "running experiment 8\n",
      "run number: 4\n",
      "\n",
      "parameters:\n",
      "\tepochs=30,\n",
      "\tnoise=0.1,\n",
      "\toffset=0.6,\n",
      "\trate=0.03\n",
      "\n",
      "script: /mnt/athena/hpsearch/hpsearch/examples/dummy_experiment_manager.py, line number: 180\n",
      "time spent on this experiment: 0.0037994384765625\n",
      "4 - validation_accuracy: 1.0\n",
      "4 - test_accuracy: 0.8439093347640108\n",
      "finished experiment 8\n"
     ]
    },
    {
     "name": "stdout",
     "output_type": "stream",
     "text": [
      "current path: /mnt/athena/hpsearch/nbs/tools\n",
      "fitting model with 30 epochs\n",
      "epoch 0: accuracy: 0.63\n",
      "epoch 1: accuracy: 0.66\n",
      "epoch 2: accuracy: 0.6900000000000001\n",
      "epoch 3: accuracy: 0.7200000000000001\n",
      "epoch 4: accuracy: 0.7500000000000001\n",
      "epoch 5: accuracy: 0.7800000000000001\n",
      "epoch 6: accuracy: 0.8100000000000002\n",
      "epoch 7: accuracy: 0.8400000000000002\n",
      "epoch 8: accuracy: 0.8700000000000002\n",
      "epoch 9: accuracy: 0.9000000000000002\n",
      "epoch 10: accuracy: 0.9300000000000003\n",
      "epoch 11: accuracy: 0.9600000000000003\n",
      "epoch 12: accuracy: 0.9900000000000003\n",
      "epoch 13: accuracy: 1.0200000000000002\n",
      "epoch 14: accuracy: 1.0500000000000003\n",
      "epoch 15: accuracy: 1.0800000000000003\n",
      "epoch 16: accuracy: 1.1100000000000003\n",
      "epoch 17: accuracy: 1.1400000000000003\n",
      "epoch 18: accuracy: 1.1700000000000004\n",
      "epoch 19: accuracy: 1.2000000000000004\n",
      "epoch 20: accuracy: 1.1700000000000004\n",
      "epoch 21: accuracy: 1.1400000000000003\n",
      "epoch 22: accuracy: 1.1100000000000003\n",
      "epoch 23: accuracy: 1.0800000000000003\n",
      "epoch 24: accuracy: 1.0500000000000003\n",
      "epoch 25: accuracy: 1.0200000000000002\n",
      "epoch 26: accuracy: 0.9900000000000002\n",
      "epoch 27: accuracy: 0.9600000000000002\n",
      "epoch 28: accuracy: 0.9300000000000002\n",
      "epoch 29: accuracy: 0.9000000000000001\n"
     ]
    }
   ],
   "source": [
    "#collapse_output\n",
    "from hpsearch.examples.dummy_experiment_manager import remove_previous_experiments, run_multiple_experiments\n",
    "\n",
    "remove_previous_experiments()\n",
    "run_multiple_experiments(nruns=5, noise=0.1)"
   ]
  },
  {
   "cell_type": "code",
   "execution_count": null,
   "metadata": {},
   "outputs": [
    {
     "data": {
      "text/html": [
       "        <script type=\"text/javascript\">\n",
       "        window.PlotlyConfig = {MathJaxConfig: 'local'};\n",
       "        if (window.MathJax) {MathJax.Hub.Config({SVG: {font: \"STIX-Web\"}});}\n",
       "        if (typeof require !== 'undefined') {\n",
       "        require.undef(\"plotly\");\n",
       "        requirejs.config({\n",
       "            paths: {\n",
       "                'plotly': ['https://cdn.plot.ly/plotly-latest.min']\n",
       "            }\n",
       "        });\n",
       "        require(['plotly'], function(Plotly) {\n",
       "            window._Plotly = Plotly;\n",
       "        });\n",
       "        }\n",
       "        </script>\n",
       "        "
      ]
     },
     "metadata": {},
     "output_type": "display_data"
    },
    {
     "data": {
      "application/vnd.plotly.v1+json": {
       "config": {
        "linkText": "Export to plot.ly",
        "plotlyServerURL": "https://plot.ly",
        "showLink": false
       },
       "data": [
        {
         "mode": "markers+lines",
         "name": "8",
         "type": "scatter",
         "x": [
          0,
          1,
          2,
          3,
          4,
          5,
          6,
          7,
          8,
          9,
          10,
          11,
          12,
          13,
          14,
          15,
          16,
          17,
          18,
          19,
          20,
          21,
          22,
          23,
          24,
          25,
          26,
          27,
          28,
          29
         ],
         "y": [
          0.449679238420965,
          0.6346779366746207,
          0.7227505622648247,
          0.8827363349127598,
          0.8668503905421827,
          0.8424516983436003,
          0.885789082430039,
          0.8404147969520697,
          0.9641987366000178,
          0.9356127459915061,
          0.7346327918850628,
          0.9167924808553861,
          0.894859038971086,
          0.9009814030024021,
          1,
          0.9309870550737296,
          1,
          1,
          1,
          1,
          1,
          1,
          1,
          0.9902852138526296,
          0.9491966073101289,
          0.9151529597597685,
          1,
          0.932530531735483,
          0.7884376802870519,
          0.8874910063830931
         ]
        },
        {
         "marker": {
          "color": "red",
          "size": 10,
          "symbol": 104
         },
         "mode": "markers",
         "name": "",
         "type": "scatter",
         "x": [
          14
         ],
         "y": [
          1
         ]
        },
        {
         "mode": "markers+lines",
         "name": "5",
         "type": "scatter",
         "x": [
          0,
          1,
          2,
          3,
          4,
          5,
          6,
          7,
          8,
          9,
          10,
          11,
          12,
          13,
          14
         ],
         "y": [
          0.7258222979222025,
          0.48768701135343073,
          0.5843646395559943,
          0.6823727702607397,
          0.7147711138379448,
          0.8046143666096272,
          0.6976775575914894,
          0.6692091711534603,
          0.9610413884774618,
          0.8491289884417338,
          0.974366333788847,
          0.8928712321131229,
          0.9049314824626574,
          1,
          0.9122760310990377
         ]
        },
        {
         "marker": {
          "color": "red",
          "size": 10,
          "symbol": 104
         },
         "mode": "markers",
         "name": "",
         "type": "scatter",
         "x": [
          13
         ],
         "y": [
          1
         ]
        }
       ],
       "layout": {
        "template": {
         "data": {
          "bar": [
           {
            "error_x": {
             "color": "#2a3f5f"
            },
            "error_y": {
             "color": "#2a3f5f"
            },
            "marker": {
             "line": {
              "color": "#E5ECF6",
              "width": 0.5
             }
            },
            "type": "bar"
           }
          ],
          "barpolar": [
           {
            "marker": {
             "line": {
              "color": "#E5ECF6",
              "width": 0.5
             }
            },
            "type": "barpolar"
           }
          ],
          "carpet": [
           {
            "aaxis": {
             "endlinecolor": "#2a3f5f",
             "gridcolor": "white",
             "linecolor": "white",
             "minorgridcolor": "white",
             "startlinecolor": "#2a3f5f"
            },
            "baxis": {
             "endlinecolor": "#2a3f5f",
             "gridcolor": "white",
             "linecolor": "white",
             "minorgridcolor": "white",
             "startlinecolor": "#2a3f5f"
            },
            "type": "carpet"
           }
          ],
          "choropleth": [
           {
            "colorbar": {
             "outlinewidth": 0,
             "ticks": ""
            },
            "type": "choropleth"
           }
          ],
          "contour": [
           {
            "colorbar": {
             "outlinewidth": 0,
             "ticks": ""
            },
            "colorscale": [
             [
              0,
              "#0d0887"
             ],
             [
              0.1111111111111111,
              "#46039f"
             ],
             [
              0.2222222222222222,
              "#7201a8"
             ],
             [
              0.3333333333333333,
              "#9c179e"
             ],
             [
              0.4444444444444444,
              "#bd3786"
             ],
             [
              0.5555555555555556,
              "#d8576b"
             ],
             [
              0.6666666666666666,
              "#ed7953"
             ],
             [
              0.7777777777777778,
              "#fb9f3a"
             ],
             [
              0.8888888888888888,
              "#fdca26"
             ],
             [
              1,
              "#f0f921"
             ]
            ],
            "type": "contour"
           }
          ],
          "contourcarpet": [
           {
            "colorbar": {
             "outlinewidth": 0,
             "ticks": ""
            },
            "type": "contourcarpet"
           }
          ],
          "heatmap": [
           {
            "colorbar": {
             "outlinewidth": 0,
             "ticks": ""
            },
            "colorscale": [
             [
              0,
              "#0d0887"
             ],
             [
              0.1111111111111111,
              "#46039f"
             ],
             [
              0.2222222222222222,
              "#7201a8"
             ],
             [
              0.3333333333333333,
              "#9c179e"
             ],
             [
              0.4444444444444444,
              "#bd3786"
             ],
             [
              0.5555555555555556,
              "#d8576b"
             ],
             [
              0.6666666666666666,
              "#ed7953"
             ],
             [
              0.7777777777777778,
              "#fb9f3a"
             ],
             [
              0.8888888888888888,
              "#fdca26"
             ],
             [
              1,
              "#f0f921"
             ]
            ],
            "type": "heatmap"
           }
          ],
          "heatmapgl": [
           {
            "colorbar": {
             "outlinewidth": 0,
             "ticks": ""
            },
            "colorscale": [
             [
              0,
              "#0d0887"
             ],
             [
              0.1111111111111111,
              "#46039f"
             ],
             [
              0.2222222222222222,
              "#7201a8"
             ],
             [
              0.3333333333333333,
              "#9c179e"
             ],
             [
              0.4444444444444444,
              "#bd3786"
             ],
             [
              0.5555555555555556,
              "#d8576b"
             ],
             [
              0.6666666666666666,
              "#ed7953"
             ],
             [
              0.7777777777777778,
              "#fb9f3a"
             ],
             [
              0.8888888888888888,
              "#fdca26"
             ],
             [
              1,
              "#f0f921"
             ]
            ],
            "type": "heatmapgl"
           }
          ],
          "histogram": [
           {
            "marker": {
             "colorbar": {
              "outlinewidth": 0,
              "ticks": ""
             }
            },
            "type": "histogram"
           }
          ],
          "histogram2d": [
           {
            "colorbar": {
             "outlinewidth": 0,
             "ticks": ""
            },
            "colorscale": [
             [
              0,
              "#0d0887"
             ],
             [
              0.1111111111111111,
              "#46039f"
             ],
             [
              0.2222222222222222,
              "#7201a8"
             ],
             [
              0.3333333333333333,
              "#9c179e"
             ],
             [
              0.4444444444444444,
              "#bd3786"
             ],
             [
              0.5555555555555556,
              "#d8576b"
             ],
             [
              0.6666666666666666,
              "#ed7953"
             ],
             [
              0.7777777777777778,
              "#fb9f3a"
             ],
             [
              0.8888888888888888,
              "#fdca26"
             ],
             [
              1,
              "#f0f921"
             ]
            ],
            "type": "histogram2d"
           }
          ],
          "histogram2dcontour": [
           {
            "colorbar": {
             "outlinewidth": 0,
             "ticks": ""
            },
            "colorscale": [
             [
              0,
              "#0d0887"
             ],
             [
              0.1111111111111111,
              "#46039f"
             ],
             [
              0.2222222222222222,
              "#7201a8"
             ],
             [
              0.3333333333333333,
              "#9c179e"
             ],
             [
              0.4444444444444444,
              "#bd3786"
             ],
             [
              0.5555555555555556,
              "#d8576b"
             ],
             [
              0.6666666666666666,
              "#ed7953"
             ],
             [
              0.7777777777777778,
              "#fb9f3a"
             ],
             [
              0.8888888888888888,
              "#fdca26"
             ],
             [
              1,
              "#f0f921"
             ]
            ],
            "type": "histogram2dcontour"
           }
          ],
          "mesh3d": [
           {
            "colorbar": {
             "outlinewidth": 0,
             "ticks": ""
            },
            "type": "mesh3d"
           }
          ],
          "parcoords": [
           {
            "line": {
             "colorbar": {
              "outlinewidth": 0,
              "ticks": ""
             }
            },
            "type": "parcoords"
           }
          ],
          "pie": [
           {
            "automargin": true,
            "type": "pie"
           }
          ],
          "scatter": [
           {
            "marker": {
             "colorbar": {
              "outlinewidth": 0,
              "ticks": ""
             }
            },
            "type": "scatter"
           }
          ],
          "scatter3d": [
           {
            "line": {
             "colorbar": {
              "outlinewidth": 0,
              "ticks": ""
             }
            },
            "marker": {
             "colorbar": {
              "outlinewidth": 0,
              "ticks": ""
             }
            },
            "type": "scatter3d"
           }
          ],
          "scattercarpet": [
           {
            "marker": {
             "colorbar": {
              "outlinewidth": 0,
              "ticks": ""
             }
            },
            "type": "scattercarpet"
           }
          ],
          "scattergeo": [
           {
            "marker": {
             "colorbar": {
              "outlinewidth": 0,
              "ticks": ""
             }
            },
            "type": "scattergeo"
           }
          ],
          "scattergl": [
           {
            "marker": {
             "colorbar": {
              "outlinewidth": 0,
              "ticks": ""
             }
            },
            "type": "scattergl"
           }
          ],
          "scattermapbox": [
           {
            "marker": {
             "colorbar": {
              "outlinewidth": 0,
              "ticks": ""
             }
            },
            "type": "scattermapbox"
           }
          ],
          "scatterpolar": [
           {
            "marker": {
             "colorbar": {
              "outlinewidth": 0,
              "ticks": ""
             }
            },
            "type": "scatterpolar"
           }
          ],
          "scatterpolargl": [
           {
            "marker": {
             "colorbar": {
              "outlinewidth": 0,
              "ticks": ""
             }
            },
            "type": "scatterpolargl"
           }
          ],
          "scatterternary": [
           {
            "marker": {
             "colorbar": {
              "outlinewidth": 0,
              "ticks": ""
             }
            },
            "type": "scatterternary"
           }
          ],
          "surface": [
           {
            "colorbar": {
             "outlinewidth": 0,
             "ticks": ""
            },
            "colorscale": [
             [
              0,
              "#0d0887"
             ],
             [
              0.1111111111111111,
              "#46039f"
             ],
             [
              0.2222222222222222,
              "#7201a8"
             ],
             [
              0.3333333333333333,
              "#9c179e"
             ],
             [
              0.4444444444444444,
              "#bd3786"
             ],
             [
              0.5555555555555556,
              "#d8576b"
             ],
             [
              0.6666666666666666,
              "#ed7953"
             ],
             [
              0.7777777777777778,
              "#fb9f3a"
             ],
             [
              0.8888888888888888,
              "#fdca26"
             ],
             [
              1,
              "#f0f921"
             ]
            ],
            "type": "surface"
           }
          ],
          "table": [
           {
            "cells": {
             "fill": {
              "color": "#EBF0F8"
             },
             "line": {
              "color": "white"
             }
            },
            "header": {
             "fill": {
              "color": "#C8D4E3"
             },
             "line": {
              "color": "white"
             }
            },
            "type": "table"
           }
          ]
         },
         "layout": {
          "annotationdefaults": {
           "arrowcolor": "#2a3f5f",
           "arrowhead": 0,
           "arrowwidth": 1
          },
          "autotypenumbers": "strict",
          "coloraxis": {
           "colorbar": {
            "outlinewidth": 0,
            "ticks": ""
           }
          },
          "colorscale": {
           "diverging": [
            [
             0,
             "#8e0152"
            ],
            [
             0.1,
             "#c51b7d"
            ],
            [
             0.2,
             "#de77ae"
            ],
            [
             0.3,
             "#f1b6da"
            ],
            [
             0.4,
             "#fde0ef"
            ],
            [
             0.5,
             "#f7f7f7"
            ],
            [
             0.6,
             "#e6f5d0"
            ],
            [
             0.7,
             "#b8e186"
            ],
            [
             0.8,
             "#7fbc41"
            ],
            [
             0.9,
             "#4d9221"
            ],
            [
             1,
             "#276419"
            ]
           ],
           "sequential": [
            [
             0,
             "#0d0887"
            ],
            [
             0.1111111111111111,
             "#46039f"
            ],
            [
             0.2222222222222222,
             "#7201a8"
            ],
            [
             0.3333333333333333,
             "#9c179e"
            ],
            [
             0.4444444444444444,
             "#bd3786"
            ],
            [
             0.5555555555555556,
             "#d8576b"
            ],
            [
             0.6666666666666666,
             "#ed7953"
            ],
            [
             0.7777777777777778,
             "#fb9f3a"
            ],
            [
             0.8888888888888888,
             "#fdca26"
            ],
            [
             1,
             "#f0f921"
            ]
           ],
           "sequentialminus": [
            [
             0,
             "#0d0887"
            ],
            [
             0.1111111111111111,
             "#46039f"
            ],
            [
             0.2222222222222222,
             "#7201a8"
            ],
            [
             0.3333333333333333,
             "#9c179e"
            ],
            [
             0.4444444444444444,
             "#bd3786"
            ],
            [
             0.5555555555555556,
             "#d8576b"
            ],
            [
             0.6666666666666666,
             "#ed7953"
            ],
            [
             0.7777777777777778,
             "#fb9f3a"
            ],
            [
             0.8888888888888888,
             "#fdca26"
            ],
            [
             1,
             "#f0f921"
            ]
           ]
          },
          "colorway": [
           "#636efa",
           "#EF553B",
           "#00cc96",
           "#ab63fa",
           "#FFA15A",
           "#19d3f3",
           "#FF6692",
           "#B6E880",
           "#FF97FF",
           "#FECB52"
          ],
          "font": {
           "color": "#2a3f5f"
          },
          "geo": {
           "bgcolor": "white",
           "lakecolor": "white",
           "landcolor": "#E5ECF6",
           "showlakes": true,
           "showland": true,
           "subunitcolor": "white"
          },
          "hoverlabel": {
           "align": "left"
          },
          "hovermode": "closest",
          "mapbox": {
           "style": "light"
          },
          "paper_bgcolor": "white",
          "plot_bgcolor": "#E5ECF6",
          "polar": {
           "angularaxis": {
            "gridcolor": "white",
            "linecolor": "white",
            "ticks": ""
           },
           "bgcolor": "#E5ECF6",
           "radialaxis": {
            "gridcolor": "white",
            "linecolor": "white",
            "ticks": ""
           }
          },
          "scene": {
           "xaxis": {
            "backgroundcolor": "#E5ECF6",
            "gridcolor": "white",
            "gridwidth": 2,
            "linecolor": "white",
            "showbackground": true,
            "ticks": "",
            "zerolinecolor": "white"
           },
           "yaxis": {
            "backgroundcolor": "#E5ECF6",
            "gridcolor": "white",
            "gridwidth": 2,
            "linecolor": "white",
            "showbackground": true,
            "ticks": "",
            "zerolinecolor": "white"
           },
           "zaxis": {
            "backgroundcolor": "#E5ECF6",
            "gridcolor": "white",
            "gridwidth": 2,
            "linecolor": "white",
            "showbackground": true,
            "ticks": "",
            "zerolinecolor": "white"
           }
          },
          "shapedefaults": {
           "line": {
            "color": "#2a3f5f"
           }
          },
          "ternary": {
           "aaxis": {
            "gridcolor": "white",
            "linecolor": "white",
            "ticks": ""
           },
           "baxis": {
            "gridcolor": "white",
            "linecolor": "white",
            "ticks": ""
           },
           "bgcolor": "#E5ECF6",
           "caxis": {
            "gridcolor": "white",
            "linecolor": "white",
            "ticks": ""
           }
          },
          "title": {
           "x": 0.05
          },
          "xaxis": {
           "automargin": true,
           "gridcolor": "white",
           "linecolor": "white",
           "ticks": "",
           "title": {
            "standoff": 15
           },
           "zerolinecolor": "white",
           "zerolinewidth": 2
          },
          "yaxis": {
           "automargin": true,
           "gridcolor": "white",
           "linecolor": "white",
           "ticks": "",
           "title": {
            "standoff": 15
           },
           "zerolinecolor": "white",
           "zerolinewidth": 2
          }
         }
        },
        "title": {
         "text": "validation_accuracy [8]: 1.00 [5]: 1.00"
        },
        "xaxis": {
         "title": {
          "text": "epoch"
         }
        },
        "yaxis": {
         "title": {
          "text": "validation_accuracy"
         }
        }
       }
      },
      "text/html": [
       "<div>                            <div id=\"00364ec4-50c3-4f72-a7d1-659dc48cdb3f\" class=\"plotly-graph-div\" style=\"height:525px; width:100%;\"></div>            <script type=\"text/javascript\">                require([\"plotly\"], function(Plotly) {                    window.PLOTLYENV=window.PLOTLYENV || {};                                    if (document.getElementById(\"00364ec4-50c3-4f72-a7d1-659dc48cdb3f\")) {                    Plotly.newPlot(                        \"00364ec4-50c3-4f72-a7d1-659dc48cdb3f\",                        [{\"mode\": \"markers+lines\", \"name\": \"8\", \"type\": \"scatter\", \"x\": [0, 1, 2, 3, 4, 5, 6, 7, 8, 9, 10, 11, 12, 13, 14, 15, 16, 17, 18, 19, 20, 21, 22, 23, 24, 25, 26, 27, 28, 29], \"y\": [0.449679238420965, 0.6346779366746207, 0.7227505622648247, 0.8827363349127598, 0.8668503905421827, 0.8424516983436003, 0.885789082430039, 0.8404147969520697, 0.9641987366000178, 0.9356127459915061, 0.7346327918850628, 0.9167924808553861, 0.894859038971086, 0.9009814030024021, 1.0, 0.9309870550737296, 1.0, 1.0, 1.0, 1.0, 1.0, 1.0, 1.0, 0.9902852138526296, 0.9491966073101289, 0.9151529597597685, 1.0, 0.932530531735483, 0.7884376802870519, 0.8874910063830931]}, {\"marker\": {\"color\": \"red\", \"size\": 10, \"symbol\": 104}, \"mode\": \"markers\", \"name\": \"\", \"type\": \"scatter\", \"x\": [14], \"y\": [1.0]}, {\"mode\": \"markers+lines\", \"name\": \"5\", \"type\": \"scatter\", \"x\": [0, 1, 2, 3, 4, 5, 6, 7, 8, 9, 10, 11, 12, 13, 14], \"y\": [0.7258222979222025, 0.48768701135343073, 0.5843646395559943, 0.6823727702607397, 0.7147711138379448, 0.8046143666096272, 0.6976775575914894, 0.6692091711534603, 0.9610413884774618, 0.8491289884417338, 0.974366333788847, 0.8928712321131229, 0.9049314824626574, 1.0, 0.9122760310990377]}, {\"marker\": {\"color\": \"red\", \"size\": 10, \"symbol\": 104}, \"mode\": \"markers\", \"name\": \"\", \"type\": \"scatter\", \"x\": [13], \"y\": [1.0]}],                        {\"template\": {\"data\": {\"bar\": [{\"error_x\": {\"color\": \"#2a3f5f\"}, \"error_y\": {\"color\": \"#2a3f5f\"}, \"marker\": {\"line\": {\"color\": \"#E5ECF6\", \"width\": 0.5}}, \"type\": \"bar\"}], \"barpolar\": [{\"marker\": {\"line\": {\"color\": \"#E5ECF6\", \"width\": 0.5}}, \"type\": \"barpolar\"}], \"carpet\": [{\"aaxis\": {\"endlinecolor\": \"#2a3f5f\", \"gridcolor\": \"white\", \"linecolor\": \"white\", \"minorgridcolor\": \"white\", \"startlinecolor\": \"#2a3f5f\"}, \"baxis\": {\"endlinecolor\": \"#2a3f5f\", \"gridcolor\": \"white\", \"linecolor\": \"white\", \"minorgridcolor\": \"white\", \"startlinecolor\": \"#2a3f5f\"}, \"type\": \"carpet\"}], \"choropleth\": [{\"colorbar\": {\"outlinewidth\": 0, \"ticks\": \"\"}, \"type\": \"choropleth\"}], \"contour\": [{\"colorbar\": {\"outlinewidth\": 0, \"ticks\": \"\"}, \"colorscale\": [[0.0, \"#0d0887\"], [0.1111111111111111, \"#46039f\"], [0.2222222222222222, \"#7201a8\"], [0.3333333333333333, \"#9c179e\"], [0.4444444444444444, \"#bd3786\"], [0.5555555555555556, \"#d8576b\"], [0.6666666666666666, \"#ed7953\"], [0.7777777777777778, \"#fb9f3a\"], [0.8888888888888888, \"#fdca26\"], [1.0, \"#f0f921\"]], \"type\": \"contour\"}], \"contourcarpet\": [{\"colorbar\": {\"outlinewidth\": 0, \"ticks\": \"\"}, \"type\": \"contourcarpet\"}], \"heatmap\": [{\"colorbar\": {\"outlinewidth\": 0, \"ticks\": \"\"}, \"colorscale\": [[0.0, \"#0d0887\"], [0.1111111111111111, \"#46039f\"], [0.2222222222222222, \"#7201a8\"], [0.3333333333333333, \"#9c179e\"], [0.4444444444444444, \"#bd3786\"], [0.5555555555555556, \"#d8576b\"], [0.6666666666666666, \"#ed7953\"], [0.7777777777777778, \"#fb9f3a\"], [0.8888888888888888, \"#fdca26\"], [1.0, \"#f0f921\"]], \"type\": \"heatmap\"}], \"heatmapgl\": [{\"colorbar\": {\"outlinewidth\": 0, \"ticks\": \"\"}, \"colorscale\": [[0.0, \"#0d0887\"], [0.1111111111111111, \"#46039f\"], [0.2222222222222222, \"#7201a8\"], [0.3333333333333333, \"#9c179e\"], [0.4444444444444444, \"#bd3786\"], [0.5555555555555556, \"#d8576b\"], [0.6666666666666666, \"#ed7953\"], [0.7777777777777778, \"#fb9f3a\"], [0.8888888888888888, \"#fdca26\"], [1.0, \"#f0f921\"]], \"type\": \"heatmapgl\"}], \"histogram\": [{\"marker\": {\"colorbar\": {\"outlinewidth\": 0, \"ticks\": \"\"}}, \"type\": \"histogram\"}], \"histogram2d\": [{\"colorbar\": {\"outlinewidth\": 0, \"ticks\": \"\"}, \"colorscale\": [[0.0, \"#0d0887\"], [0.1111111111111111, \"#46039f\"], [0.2222222222222222, \"#7201a8\"], [0.3333333333333333, \"#9c179e\"], [0.4444444444444444, \"#bd3786\"], [0.5555555555555556, \"#d8576b\"], [0.6666666666666666, \"#ed7953\"], [0.7777777777777778, \"#fb9f3a\"], [0.8888888888888888, \"#fdca26\"], [1.0, \"#f0f921\"]], \"type\": \"histogram2d\"}], \"histogram2dcontour\": [{\"colorbar\": {\"outlinewidth\": 0, \"ticks\": \"\"}, \"colorscale\": [[0.0, \"#0d0887\"], [0.1111111111111111, \"#46039f\"], [0.2222222222222222, \"#7201a8\"], [0.3333333333333333, \"#9c179e\"], [0.4444444444444444, \"#bd3786\"], [0.5555555555555556, \"#d8576b\"], [0.6666666666666666, \"#ed7953\"], [0.7777777777777778, \"#fb9f3a\"], [0.8888888888888888, \"#fdca26\"], [1.0, \"#f0f921\"]], \"type\": \"histogram2dcontour\"}], \"mesh3d\": [{\"colorbar\": {\"outlinewidth\": 0, \"ticks\": \"\"}, \"type\": \"mesh3d\"}], \"parcoords\": [{\"line\": {\"colorbar\": {\"outlinewidth\": 0, \"ticks\": \"\"}}, \"type\": \"parcoords\"}], \"pie\": [{\"automargin\": true, \"type\": \"pie\"}], \"scatter\": [{\"marker\": {\"colorbar\": {\"outlinewidth\": 0, \"ticks\": \"\"}}, \"type\": \"scatter\"}], \"scatter3d\": [{\"line\": {\"colorbar\": {\"outlinewidth\": 0, \"ticks\": \"\"}}, \"marker\": {\"colorbar\": {\"outlinewidth\": 0, \"ticks\": \"\"}}, \"type\": \"scatter3d\"}], \"scattercarpet\": [{\"marker\": {\"colorbar\": {\"outlinewidth\": 0, \"ticks\": \"\"}}, \"type\": \"scattercarpet\"}], \"scattergeo\": [{\"marker\": {\"colorbar\": {\"outlinewidth\": 0, \"ticks\": \"\"}}, \"type\": \"scattergeo\"}], \"scattergl\": [{\"marker\": {\"colorbar\": {\"outlinewidth\": 0, \"ticks\": \"\"}}, \"type\": \"scattergl\"}], \"scattermapbox\": [{\"marker\": {\"colorbar\": {\"outlinewidth\": 0, \"ticks\": \"\"}}, \"type\": \"scattermapbox\"}], \"scatterpolar\": [{\"marker\": {\"colorbar\": {\"outlinewidth\": 0, \"ticks\": \"\"}}, \"type\": \"scatterpolar\"}], \"scatterpolargl\": [{\"marker\": {\"colorbar\": {\"outlinewidth\": 0, \"ticks\": \"\"}}, \"type\": \"scatterpolargl\"}], \"scatterternary\": [{\"marker\": {\"colorbar\": {\"outlinewidth\": 0, \"ticks\": \"\"}}, \"type\": \"scatterternary\"}], \"surface\": [{\"colorbar\": {\"outlinewidth\": 0, \"ticks\": \"\"}, \"colorscale\": [[0.0, \"#0d0887\"], [0.1111111111111111, \"#46039f\"], [0.2222222222222222, \"#7201a8\"], [0.3333333333333333, \"#9c179e\"], [0.4444444444444444, \"#bd3786\"], [0.5555555555555556, \"#d8576b\"], [0.6666666666666666, \"#ed7953\"], [0.7777777777777778, \"#fb9f3a\"], [0.8888888888888888, \"#fdca26\"], [1.0, \"#f0f921\"]], \"type\": \"surface\"}], \"table\": [{\"cells\": {\"fill\": {\"color\": \"#EBF0F8\"}, \"line\": {\"color\": \"white\"}}, \"header\": {\"fill\": {\"color\": \"#C8D4E3\"}, \"line\": {\"color\": \"white\"}}, \"type\": \"table\"}]}, \"layout\": {\"annotationdefaults\": {\"arrowcolor\": \"#2a3f5f\", \"arrowhead\": 0, \"arrowwidth\": 1}, \"autotypenumbers\": \"strict\", \"coloraxis\": {\"colorbar\": {\"outlinewidth\": 0, \"ticks\": \"\"}}, \"colorscale\": {\"diverging\": [[0, \"#8e0152\"], [0.1, \"#c51b7d\"], [0.2, \"#de77ae\"], [0.3, \"#f1b6da\"], [0.4, \"#fde0ef\"], [0.5, \"#f7f7f7\"], [0.6, \"#e6f5d0\"], [0.7, \"#b8e186\"], [0.8, \"#7fbc41\"], [0.9, \"#4d9221\"], [1, \"#276419\"]], \"sequential\": [[0.0, \"#0d0887\"], [0.1111111111111111, \"#46039f\"], [0.2222222222222222, \"#7201a8\"], [0.3333333333333333, \"#9c179e\"], [0.4444444444444444, \"#bd3786\"], [0.5555555555555556, \"#d8576b\"], [0.6666666666666666, \"#ed7953\"], [0.7777777777777778, \"#fb9f3a\"], [0.8888888888888888, \"#fdca26\"], [1.0, \"#f0f921\"]], \"sequentialminus\": [[0.0, \"#0d0887\"], [0.1111111111111111, \"#46039f\"], [0.2222222222222222, \"#7201a8\"], [0.3333333333333333, \"#9c179e\"], [0.4444444444444444, \"#bd3786\"], [0.5555555555555556, \"#d8576b\"], [0.6666666666666666, \"#ed7953\"], [0.7777777777777778, \"#fb9f3a\"], [0.8888888888888888, \"#fdca26\"], [1.0, \"#f0f921\"]]}, \"colorway\": [\"#636efa\", \"#EF553B\", \"#00cc96\", \"#ab63fa\", \"#FFA15A\", \"#19d3f3\", \"#FF6692\", \"#B6E880\", \"#FF97FF\", \"#FECB52\"], \"font\": {\"color\": \"#2a3f5f\"}, \"geo\": {\"bgcolor\": \"white\", \"lakecolor\": \"white\", \"landcolor\": \"#E5ECF6\", \"showlakes\": true, \"showland\": true, \"subunitcolor\": \"white\"}, \"hoverlabel\": {\"align\": \"left\"}, \"hovermode\": \"closest\", \"mapbox\": {\"style\": \"light\"}, \"paper_bgcolor\": \"white\", \"plot_bgcolor\": \"#E5ECF6\", \"polar\": {\"angularaxis\": {\"gridcolor\": \"white\", \"linecolor\": \"white\", \"ticks\": \"\"}, \"bgcolor\": \"#E5ECF6\", \"radialaxis\": {\"gridcolor\": \"white\", \"linecolor\": \"white\", \"ticks\": \"\"}}, \"scene\": {\"xaxis\": {\"backgroundcolor\": \"#E5ECF6\", \"gridcolor\": \"white\", \"gridwidth\": 2, \"linecolor\": \"white\", \"showbackground\": true, \"ticks\": \"\", \"zerolinecolor\": \"white\"}, \"yaxis\": {\"backgroundcolor\": \"#E5ECF6\", \"gridcolor\": \"white\", \"gridwidth\": 2, \"linecolor\": \"white\", \"showbackground\": true, \"ticks\": \"\", \"zerolinecolor\": \"white\"}, \"zaxis\": {\"backgroundcolor\": \"#E5ECF6\", \"gridcolor\": \"white\", \"gridwidth\": 2, \"linecolor\": \"white\", \"showbackground\": true, \"ticks\": \"\", \"zerolinecolor\": \"white\"}}, \"shapedefaults\": {\"line\": {\"color\": \"#2a3f5f\"}}, \"ternary\": {\"aaxis\": {\"gridcolor\": \"white\", \"linecolor\": \"white\", \"ticks\": \"\"}, \"baxis\": {\"gridcolor\": \"white\", \"linecolor\": \"white\", \"ticks\": \"\"}, \"bgcolor\": \"#E5ECF6\", \"caxis\": {\"gridcolor\": \"white\", \"linecolor\": \"white\", \"ticks\": \"\"}}, \"title\": {\"x\": 0.05}, \"xaxis\": {\"automargin\": true, \"gridcolor\": \"white\", \"linecolor\": \"white\", \"ticks\": \"\", \"title\": {\"standoff\": 15}, \"zerolinecolor\": \"white\", \"zerolinewidth\": 2}, \"yaxis\": {\"automargin\": true, \"gridcolor\": \"white\", \"linecolor\": \"white\", \"ticks\": \"\", \"title\": {\"standoff\": 15}, \"zerolinecolor\": \"white\", \"zerolinewidth\": 2}}}, \"title\": {\"text\": \"validation_accuracy [8]: 1.00 [5]: 1.00\"}, \"xaxis\": {\"title\": {\"text\": \"epoch\"}}, \"yaxis\": {\"title\": {\"text\": \"validation_accuracy\"}}},                        {\"responsive\": true}                    ).then(function(){\n",
       "                            \n",
       "var gd = document.getElementById('00364ec4-50c3-4f72-a7d1-659dc48cdb3f');\n",
       "var x = new MutationObserver(function (mutations, observer) {{\n",
       "        var display = window.getComputedStyle(gd).display;\n",
       "        if (!display || display === 'none') {{\n",
       "            console.log([gd, 'removed!']);\n",
       "            Plotly.purge(gd);\n",
       "            observer.disconnect();\n",
       "        }}\n",
       "}});\n",
       "\n",
       "// Listen for the removal of the full notebook cells\n",
       "var notebookContainer = gd.closest('#notebook-container');\n",
       "if (notebookContainer) {{\n",
       "    x.observe(notebookContainer, {childList: true});\n",
       "}}\n",
       "\n",
       "// Listen for the clearing of the current output cell\n",
       "var outputEl = gd.closest('.output');\n",
       "if (outputEl) {{\n",
       "    x.observe(outputEl, {childList: true});\n",
       "}}\n",
       "\n",
       "                        })                };                });            </script>        </div>"
      ]
     },
     "metadata": {},
     "output_type": "display_data"
    },
    {
     "data": {
      "text/html": [
       "<div>\n",
       "<style scoped>\n",
       "    .dataframe tbody tr th:only-of-type {\n",
       "        vertical-align: middle;\n",
       "    }\n",
       "\n",
       "    .dataframe tbody tr th {\n",
       "        vertical-align: top;\n",
       "    }\n",
       "\n",
       "    .dataframe thead th {\n",
       "        text-align: right;\n",
       "    }\n",
       "</style>\n",
       "<table border=\"1\" class=\"dataframe\">\n",
       "  <thead>\n",
       "    <tr style=\"text-align: right;\">\n",
       "      <th></th>\n",
       "      <th>epochs</th>\n",
       "      <th>validation_accuracy</th>\n",
       "    </tr>\n",
       "  </thead>\n",
       "  <tbody>\n",
       "    <tr>\n",
       "      <th>8</th>\n",
       "      <td>30.0</td>\n",
       "      <td>1.0</td>\n",
       "    </tr>\n",
       "    <tr>\n",
       "      <th>5</th>\n",
       "      <td>15.0</td>\n",
       "      <td>1.0</td>\n",
       "    </tr>\n",
       "  </tbody>\n",
       "</table>\n",
       "</div>"
      ],
      "text/plain": [
       "   epochs  validation_accuracy\n",
       "8    30.0                  1.0\n",
       "5    15.0                  1.0"
      ]
     },
     "metadata": {},
     "output_type": "display_data"
    }
   ],
   "source": [
    "metric_visualization()"
   ]
  },
  {
   "cell_type": "code",
   "execution_count": null,
   "metadata": {},
   "outputs": [
    {
     "data": {
      "text/html": [
       "        <script type=\"text/javascript\">\n",
       "        window.PlotlyConfig = {MathJaxConfig: 'local'};\n",
       "        if (window.MathJax) {MathJax.Hub.Config({SVG: {font: \"STIX-Web\"}});}\n",
       "        if (typeof require !== 'undefined') {\n",
       "        require.undef(\"plotly\");\n",
       "        requirejs.config({\n",
       "            paths: {\n",
       "                'plotly': ['https://cdn.plot.ly/plotly-latest.min']\n",
       "            }\n",
       "        });\n",
       "        require(['plotly'], function(Plotly) {\n",
       "            window._Plotly = Plotly;\n",
       "        });\n",
       "        }\n",
       "        </script>\n",
       "        "
      ]
     },
     "metadata": {},
     "output_type": "display_data"
    },
    {
     "data": {
      "application/vnd.plotly.v1+json": {
       "config": {
        "linkText": "Export to plot.ly",
        "plotlyServerURL": "https://plot.ly",
        "showLink": false
       },
       "data": [
        {
         "mode": "markers+lines",
         "name": "5",
         "type": "scatter",
         "x": [
          0,
          1,
          2,
          3,
          4,
          5,
          6,
          7,
          8,
          9,
          10,
          11,
          12,
          13,
          14
         ],
         "y": [
          0.42441701763246226,
          0.4960605319937741,
          0.6550374061850741,
          0.5635410519178637,
          0.7549425950121041,
          0.894242857487484,
          0.5806907643609737,
          0.7861041240691155,
          0.638226666126193,
          0.9111893698671779,
          0.7164741920868479,
          1,
          1,
          0.8470796790325511,
          0.9244238139098303
         ]
        },
        {
         "marker": {
          "color": "red",
          "size": 10,
          "symbol": 104
         },
         "mode": "markers",
         "name": "",
         "type": "scatter",
         "x": [
          11
         ],
         "y": [
          1
         ]
        },
        {
         "mode": "markers+lines",
         "name": "0",
         "type": "scatter",
         "x": [
          0,
          1,
          2,
          3,
          4
         ],
         "y": [
          0.2079385353193108,
          0.35792540127639183,
          0.3421809523665862,
          0.23876714080715677,
          0.42073087765542394
         ]
        },
        {
         "marker": {
          "color": "red",
          "size": 10,
          "symbol": 104
         },
         "mode": "markers",
         "name": "",
         "type": "scatter",
         "x": [
          4
         ],
         "y": [
          0.42073087765542394
         ]
        }
       ],
       "layout": {
        "template": {
         "data": {
          "bar": [
           {
            "error_x": {
             "color": "#2a3f5f"
            },
            "error_y": {
             "color": "#2a3f5f"
            },
            "marker": {
             "line": {
              "color": "#E5ECF6",
              "width": 0.5
             }
            },
            "type": "bar"
           }
          ],
          "barpolar": [
           {
            "marker": {
             "line": {
              "color": "#E5ECF6",
              "width": 0.5
             }
            },
            "type": "barpolar"
           }
          ],
          "carpet": [
           {
            "aaxis": {
             "endlinecolor": "#2a3f5f",
             "gridcolor": "white",
             "linecolor": "white",
             "minorgridcolor": "white",
             "startlinecolor": "#2a3f5f"
            },
            "baxis": {
             "endlinecolor": "#2a3f5f",
             "gridcolor": "white",
             "linecolor": "white",
             "minorgridcolor": "white",
             "startlinecolor": "#2a3f5f"
            },
            "type": "carpet"
           }
          ],
          "choropleth": [
           {
            "colorbar": {
             "outlinewidth": 0,
             "ticks": ""
            },
            "type": "choropleth"
           }
          ],
          "contour": [
           {
            "colorbar": {
             "outlinewidth": 0,
             "ticks": ""
            },
            "colorscale": [
             [
              0,
              "#0d0887"
             ],
             [
              0.1111111111111111,
              "#46039f"
             ],
             [
              0.2222222222222222,
              "#7201a8"
             ],
             [
              0.3333333333333333,
              "#9c179e"
             ],
             [
              0.4444444444444444,
              "#bd3786"
             ],
             [
              0.5555555555555556,
              "#d8576b"
             ],
             [
              0.6666666666666666,
              "#ed7953"
             ],
             [
              0.7777777777777778,
              "#fb9f3a"
             ],
             [
              0.8888888888888888,
              "#fdca26"
             ],
             [
              1,
              "#f0f921"
             ]
            ],
            "type": "contour"
           }
          ],
          "contourcarpet": [
           {
            "colorbar": {
             "outlinewidth": 0,
             "ticks": ""
            },
            "type": "contourcarpet"
           }
          ],
          "heatmap": [
           {
            "colorbar": {
             "outlinewidth": 0,
             "ticks": ""
            },
            "colorscale": [
             [
              0,
              "#0d0887"
             ],
             [
              0.1111111111111111,
              "#46039f"
             ],
             [
              0.2222222222222222,
              "#7201a8"
             ],
             [
              0.3333333333333333,
              "#9c179e"
             ],
             [
              0.4444444444444444,
              "#bd3786"
             ],
             [
              0.5555555555555556,
              "#d8576b"
             ],
             [
              0.6666666666666666,
              "#ed7953"
             ],
             [
              0.7777777777777778,
              "#fb9f3a"
             ],
             [
              0.8888888888888888,
              "#fdca26"
             ],
             [
              1,
              "#f0f921"
             ]
            ],
            "type": "heatmap"
           }
          ],
          "heatmapgl": [
           {
            "colorbar": {
             "outlinewidth": 0,
             "ticks": ""
            },
            "colorscale": [
             [
              0,
              "#0d0887"
             ],
             [
              0.1111111111111111,
              "#46039f"
             ],
             [
              0.2222222222222222,
              "#7201a8"
             ],
             [
              0.3333333333333333,
              "#9c179e"
             ],
             [
              0.4444444444444444,
              "#bd3786"
             ],
             [
              0.5555555555555556,
              "#d8576b"
             ],
             [
              0.6666666666666666,
              "#ed7953"
             ],
             [
              0.7777777777777778,
              "#fb9f3a"
             ],
             [
              0.8888888888888888,
              "#fdca26"
             ],
             [
              1,
              "#f0f921"
             ]
            ],
            "type": "heatmapgl"
           }
          ],
          "histogram": [
           {
            "marker": {
             "colorbar": {
              "outlinewidth": 0,
              "ticks": ""
             }
            },
            "type": "histogram"
           }
          ],
          "histogram2d": [
           {
            "colorbar": {
             "outlinewidth": 0,
             "ticks": ""
            },
            "colorscale": [
             [
              0,
              "#0d0887"
             ],
             [
              0.1111111111111111,
              "#46039f"
             ],
             [
              0.2222222222222222,
              "#7201a8"
             ],
             [
              0.3333333333333333,
              "#9c179e"
             ],
             [
              0.4444444444444444,
              "#bd3786"
             ],
             [
              0.5555555555555556,
              "#d8576b"
             ],
             [
              0.6666666666666666,
              "#ed7953"
             ],
             [
              0.7777777777777778,
              "#fb9f3a"
             ],
             [
              0.8888888888888888,
              "#fdca26"
             ],
             [
              1,
              "#f0f921"
             ]
            ],
            "type": "histogram2d"
           }
          ],
          "histogram2dcontour": [
           {
            "colorbar": {
             "outlinewidth": 0,
             "ticks": ""
            },
            "colorscale": [
             [
              0,
              "#0d0887"
             ],
             [
              0.1111111111111111,
              "#46039f"
             ],
             [
              0.2222222222222222,
              "#7201a8"
             ],
             [
              0.3333333333333333,
              "#9c179e"
             ],
             [
              0.4444444444444444,
              "#bd3786"
             ],
             [
              0.5555555555555556,
              "#d8576b"
             ],
             [
              0.6666666666666666,
              "#ed7953"
             ],
             [
              0.7777777777777778,
              "#fb9f3a"
             ],
             [
              0.8888888888888888,
              "#fdca26"
             ],
             [
              1,
              "#f0f921"
             ]
            ],
            "type": "histogram2dcontour"
           }
          ],
          "mesh3d": [
           {
            "colorbar": {
             "outlinewidth": 0,
             "ticks": ""
            },
            "type": "mesh3d"
           }
          ],
          "parcoords": [
           {
            "line": {
             "colorbar": {
              "outlinewidth": 0,
              "ticks": ""
             }
            },
            "type": "parcoords"
           }
          ],
          "pie": [
           {
            "automargin": true,
            "type": "pie"
           }
          ],
          "scatter": [
           {
            "marker": {
             "colorbar": {
              "outlinewidth": 0,
              "ticks": ""
             }
            },
            "type": "scatter"
           }
          ],
          "scatter3d": [
           {
            "line": {
             "colorbar": {
              "outlinewidth": 0,
              "ticks": ""
             }
            },
            "marker": {
             "colorbar": {
              "outlinewidth": 0,
              "ticks": ""
             }
            },
            "type": "scatter3d"
           }
          ],
          "scattercarpet": [
           {
            "marker": {
             "colorbar": {
              "outlinewidth": 0,
              "ticks": ""
             }
            },
            "type": "scattercarpet"
           }
          ],
          "scattergeo": [
           {
            "marker": {
             "colorbar": {
              "outlinewidth": 0,
              "ticks": ""
             }
            },
            "type": "scattergeo"
           }
          ],
          "scattergl": [
           {
            "marker": {
             "colorbar": {
              "outlinewidth": 0,
              "ticks": ""
             }
            },
            "type": "scattergl"
           }
          ],
          "scattermapbox": [
           {
            "marker": {
             "colorbar": {
              "outlinewidth": 0,
              "ticks": ""
             }
            },
            "type": "scattermapbox"
           }
          ],
          "scatterpolar": [
           {
            "marker": {
             "colorbar": {
              "outlinewidth": 0,
              "ticks": ""
             }
            },
            "type": "scatterpolar"
           }
          ],
          "scatterpolargl": [
           {
            "marker": {
             "colorbar": {
              "outlinewidth": 0,
              "ticks": ""
             }
            },
            "type": "scatterpolargl"
           }
          ],
          "scatterternary": [
           {
            "marker": {
             "colorbar": {
              "outlinewidth": 0,
              "ticks": ""
             }
            },
            "type": "scatterternary"
           }
          ],
          "surface": [
           {
            "colorbar": {
             "outlinewidth": 0,
             "ticks": ""
            },
            "colorscale": [
             [
              0,
              "#0d0887"
             ],
             [
              0.1111111111111111,
              "#46039f"
             ],
             [
              0.2222222222222222,
              "#7201a8"
             ],
             [
              0.3333333333333333,
              "#9c179e"
             ],
             [
              0.4444444444444444,
              "#bd3786"
             ],
             [
              0.5555555555555556,
              "#d8576b"
             ],
             [
              0.6666666666666666,
              "#ed7953"
             ],
             [
              0.7777777777777778,
              "#fb9f3a"
             ],
             [
              0.8888888888888888,
              "#fdca26"
             ],
             [
              1,
              "#f0f921"
             ]
            ],
            "type": "surface"
           }
          ],
          "table": [
           {
            "cells": {
             "fill": {
              "color": "#EBF0F8"
             },
             "line": {
              "color": "white"
             }
            },
            "header": {
             "fill": {
              "color": "#C8D4E3"
             },
             "line": {
              "color": "white"
             }
            },
            "type": "table"
           }
          ]
         },
         "layout": {
          "annotationdefaults": {
           "arrowcolor": "#2a3f5f",
           "arrowhead": 0,
           "arrowwidth": 1
          },
          "autotypenumbers": "strict",
          "coloraxis": {
           "colorbar": {
            "outlinewidth": 0,
            "ticks": ""
           }
          },
          "colorscale": {
           "diverging": [
            [
             0,
             "#8e0152"
            ],
            [
             0.1,
             "#c51b7d"
            ],
            [
             0.2,
             "#de77ae"
            ],
            [
             0.3,
             "#f1b6da"
            ],
            [
             0.4,
             "#fde0ef"
            ],
            [
             0.5,
             "#f7f7f7"
            ],
            [
             0.6,
             "#e6f5d0"
            ],
            [
             0.7,
             "#b8e186"
            ],
            [
             0.8,
             "#7fbc41"
            ],
            [
             0.9,
             "#4d9221"
            ],
            [
             1,
             "#276419"
            ]
           ],
           "sequential": [
            [
             0,
             "#0d0887"
            ],
            [
             0.1111111111111111,
             "#46039f"
            ],
            [
             0.2222222222222222,
             "#7201a8"
            ],
            [
             0.3333333333333333,
             "#9c179e"
            ],
            [
             0.4444444444444444,
             "#bd3786"
            ],
            [
             0.5555555555555556,
             "#d8576b"
            ],
            [
             0.6666666666666666,
             "#ed7953"
            ],
            [
             0.7777777777777778,
             "#fb9f3a"
            ],
            [
             0.8888888888888888,
             "#fdca26"
            ],
            [
             1,
             "#f0f921"
            ]
           ],
           "sequentialminus": [
            [
             0,
             "#0d0887"
            ],
            [
             0.1111111111111111,
             "#46039f"
            ],
            [
             0.2222222222222222,
             "#7201a8"
            ],
            [
             0.3333333333333333,
             "#9c179e"
            ],
            [
             0.4444444444444444,
             "#bd3786"
            ],
            [
             0.5555555555555556,
             "#d8576b"
            ],
            [
             0.6666666666666666,
             "#ed7953"
            ],
            [
             0.7777777777777778,
             "#fb9f3a"
            ],
            [
             0.8888888888888888,
             "#fdca26"
            ],
            [
             1,
             "#f0f921"
            ]
           ]
          },
          "colorway": [
           "#636efa",
           "#EF553B",
           "#00cc96",
           "#ab63fa",
           "#FFA15A",
           "#19d3f3",
           "#FF6692",
           "#B6E880",
           "#FF97FF",
           "#FECB52"
          ],
          "font": {
           "color": "#2a3f5f"
          },
          "geo": {
           "bgcolor": "white",
           "lakecolor": "white",
           "landcolor": "#E5ECF6",
           "showlakes": true,
           "showland": true,
           "subunitcolor": "white"
          },
          "hoverlabel": {
           "align": "left"
          },
          "hovermode": "closest",
          "mapbox": {
           "style": "light"
          },
          "paper_bgcolor": "white",
          "plot_bgcolor": "#E5ECF6",
          "polar": {
           "angularaxis": {
            "gridcolor": "white",
            "linecolor": "white",
            "ticks": ""
           },
           "bgcolor": "#E5ECF6",
           "radialaxis": {
            "gridcolor": "white",
            "linecolor": "white",
            "ticks": ""
           }
          },
          "scene": {
           "xaxis": {
            "backgroundcolor": "#E5ECF6",
            "gridcolor": "white",
            "gridwidth": 2,
            "linecolor": "white",
            "showbackground": true,
            "ticks": "",
            "zerolinecolor": "white"
           },
           "yaxis": {
            "backgroundcolor": "#E5ECF6",
            "gridcolor": "white",
            "gridwidth": 2,
            "linecolor": "white",
            "showbackground": true,
            "ticks": "",
            "zerolinecolor": "white"
           },
           "zaxis": {
            "backgroundcolor": "#E5ECF6",
            "gridcolor": "white",
            "gridwidth": 2,
            "linecolor": "white",
            "showbackground": true,
            "ticks": "",
            "zerolinecolor": "white"
           }
          },
          "shapedefaults": {
           "line": {
            "color": "#2a3f5f"
           }
          },
          "ternary": {
           "aaxis": {
            "gridcolor": "white",
            "linecolor": "white",
            "ticks": ""
           },
           "baxis": {
            "gridcolor": "white",
            "linecolor": "white",
            "ticks": ""
           },
           "bgcolor": "#E5ECF6",
           "caxis": {
            "gridcolor": "white",
            "linecolor": "white",
            "ticks": ""
           }
          },
          "title": {
           "x": 0.05
          },
          "xaxis": {
           "automargin": true,
           "gridcolor": "white",
           "linecolor": "white",
           "ticks": "",
           "title": {
            "standoff": 15
           },
           "zerolinecolor": "white",
           "zerolinewidth": 2
          },
          "yaxis": {
           "automargin": true,
           "gridcolor": "white",
           "linecolor": "white",
           "ticks": "",
           "title": {
            "standoff": 15
           },
           "zerolinecolor": "white",
           "zerolinewidth": 2
          }
         }
        },
        "title": {
         "text": "test_accuracy [5]: 1.00 [0]: 0.42"
        },
        "xaxis": {
         "title": {
          "text": "epoch"
         }
        },
        "yaxis": {
         "title": {
          "text": "test_accuracy"
         }
        }
       }
      },
      "text/html": [
       "<div>                            <div id=\"86e897ec-27c9-41dd-af4e-f50ff27767bd\" class=\"plotly-graph-div\" style=\"height:525px; width:100%;\"></div>            <script type=\"text/javascript\">                require([\"plotly\"], function(Plotly) {                    window.PLOTLYENV=window.PLOTLYENV || {};                                    if (document.getElementById(\"86e897ec-27c9-41dd-af4e-f50ff27767bd\")) {                    Plotly.newPlot(                        \"86e897ec-27c9-41dd-af4e-f50ff27767bd\",                        [{\"mode\": \"markers+lines\", \"name\": \"5\", \"type\": \"scatter\", \"x\": [0, 1, 2, 3, 4, 5, 6, 7, 8, 9, 10, 11, 12, 13, 14], \"y\": [0.42441701763246226, 0.4960605319937741, 0.6550374061850741, 0.5635410519178637, 0.7549425950121041, 0.894242857487484, 0.5806907643609737, 0.7861041240691155, 0.638226666126193, 0.9111893698671779, 0.7164741920868479, 1.0, 1.0, 0.8470796790325511, 0.9244238139098303]}, {\"marker\": {\"color\": \"red\", \"size\": 10, \"symbol\": 104}, \"mode\": \"markers\", \"name\": \"\", \"type\": \"scatter\", \"x\": [11], \"y\": [1.0]}, {\"mode\": \"markers+lines\", \"name\": \"0\", \"type\": \"scatter\", \"x\": [0, 1, 2, 3, 4], \"y\": [0.2079385353193108, 0.35792540127639183, 0.3421809523665862, 0.23876714080715677, 0.42073087765542394]}, {\"marker\": {\"color\": \"red\", \"size\": 10, \"symbol\": 104}, \"mode\": \"markers\", \"name\": \"\", \"type\": \"scatter\", \"x\": [4], \"y\": [0.42073087765542394]}],                        {\"template\": {\"data\": {\"bar\": [{\"error_x\": {\"color\": \"#2a3f5f\"}, \"error_y\": {\"color\": \"#2a3f5f\"}, \"marker\": {\"line\": {\"color\": \"#E5ECF6\", \"width\": 0.5}}, \"type\": \"bar\"}], \"barpolar\": [{\"marker\": {\"line\": {\"color\": \"#E5ECF6\", \"width\": 0.5}}, \"type\": \"barpolar\"}], \"carpet\": [{\"aaxis\": {\"endlinecolor\": \"#2a3f5f\", \"gridcolor\": \"white\", \"linecolor\": \"white\", \"minorgridcolor\": \"white\", \"startlinecolor\": \"#2a3f5f\"}, \"baxis\": {\"endlinecolor\": \"#2a3f5f\", \"gridcolor\": \"white\", \"linecolor\": \"white\", \"minorgridcolor\": \"white\", \"startlinecolor\": \"#2a3f5f\"}, \"type\": \"carpet\"}], \"choropleth\": [{\"colorbar\": {\"outlinewidth\": 0, \"ticks\": \"\"}, \"type\": \"choropleth\"}], \"contour\": [{\"colorbar\": {\"outlinewidth\": 0, \"ticks\": \"\"}, \"colorscale\": [[0.0, \"#0d0887\"], [0.1111111111111111, \"#46039f\"], [0.2222222222222222, \"#7201a8\"], [0.3333333333333333, \"#9c179e\"], [0.4444444444444444, \"#bd3786\"], [0.5555555555555556, \"#d8576b\"], [0.6666666666666666, \"#ed7953\"], [0.7777777777777778, \"#fb9f3a\"], [0.8888888888888888, \"#fdca26\"], [1.0, \"#f0f921\"]], \"type\": \"contour\"}], \"contourcarpet\": [{\"colorbar\": {\"outlinewidth\": 0, \"ticks\": \"\"}, \"type\": \"contourcarpet\"}], \"heatmap\": [{\"colorbar\": {\"outlinewidth\": 0, \"ticks\": \"\"}, \"colorscale\": [[0.0, \"#0d0887\"], [0.1111111111111111, \"#46039f\"], [0.2222222222222222, \"#7201a8\"], [0.3333333333333333, \"#9c179e\"], [0.4444444444444444, \"#bd3786\"], [0.5555555555555556, \"#d8576b\"], [0.6666666666666666, \"#ed7953\"], [0.7777777777777778, \"#fb9f3a\"], [0.8888888888888888, \"#fdca26\"], [1.0, \"#f0f921\"]], \"type\": \"heatmap\"}], \"heatmapgl\": [{\"colorbar\": {\"outlinewidth\": 0, \"ticks\": \"\"}, \"colorscale\": [[0.0, \"#0d0887\"], [0.1111111111111111, \"#46039f\"], [0.2222222222222222, \"#7201a8\"], [0.3333333333333333, \"#9c179e\"], [0.4444444444444444, \"#bd3786\"], [0.5555555555555556, \"#d8576b\"], [0.6666666666666666, \"#ed7953\"], [0.7777777777777778, \"#fb9f3a\"], [0.8888888888888888, \"#fdca26\"], [1.0, \"#f0f921\"]], \"type\": \"heatmapgl\"}], \"histogram\": [{\"marker\": {\"colorbar\": {\"outlinewidth\": 0, \"ticks\": \"\"}}, \"type\": \"histogram\"}], \"histogram2d\": [{\"colorbar\": {\"outlinewidth\": 0, \"ticks\": \"\"}, \"colorscale\": [[0.0, \"#0d0887\"], [0.1111111111111111, \"#46039f\"], [0.2222222222222222, \"#7201a8\"], [0.3333333333333333, \"#9c179e\"], [0.4444444444444444, \"#bd3786\"], [0.5555555555555556, \"#d8576b\"], [0.6666666666666666, \"#ed7953\"], [0.7777777777777778, \"#fb9f3a\"], [0.8888888888888888, \"#fdca26\"], [1.0, \"#f0f921\"]], \"type\": \"histogram2d\"}], \"histogram2dcontour\": [{\"colorbar\": {\"outlinewidth\": 0, \"ticks\": \"\"}, \"colorscale\": [[0.0, \"#0d0887\"], [0.1111111111111111, \"#46039f\"], [0.2222222222222222, \"#7201a8\"], [0.3333333333333333, \"#9c179e\"], [0.4444444444444444, \"#bd3786\"], [0.5555555555555556, \"#d8576b\"], [0.6666666666666666, \"#ed7953\"], [0.7777777777777778, \"#fb9f3a\"], [0.8888888888888888, \"#fdca26\"], [1.0, \"#f0f921\"]], \"type\": \"histogram2dcontour\"}], \"mesh3d\": [{\"colorbar\": {\"outlinewidth\": 0, \"ticks\": \"\"}, \"type\": \"mesh3d\"}], \"parcoords\": [{\"line\": {\"colorbar\": {\"outlinewidth\": 0, \"ticks\": \"\"}}, \"type\": \"parcoords\"}], \"pie\": [{\"automargin\": true, \"type\": \"pie\"}], \"scatter\": [{\"marker\": {\"colorbar\": {\"outlinewidth\": 0, \"ticks\": \"\"}}, \"type\": \"scatter\"}], \"scatter3d\": [{\"line\": {\"colorbar\": {\"outlinewidth\": 0, \"ticks\": \"\"}}, \"marker\": {\"colorbar\": {\"outlinewidth\": 0, \"ticks\": \"\"}}, \"type\": \"scatter3d\"}], \"scattercarpet\": [{\"marker\": {\"colorbar\": {\"outlinewidth\": 0, \"ticks\": \"\"}}, \"type\": \"scattercarpet\"}], \"scattergeo\": [{\"marker\": {\"colorbar\": {\"outlinewidth\": 0, \"ticks\": \"\"}}, \"type\": \"scattergeo\"}], \"scattergl\": [{\"marker\": {\"colorbar\": {\"outlinewidth\": 0, \"ticks\": \"\"}}, \"type\": \"scattergl\"}], \"scattermapbox\": [{\"marker\": {\"colorbar\": {\"outlinewidth\": 0, \"ticks\": \"\"}}, \"type\": \"scattermapbox\"}], \"scatterpolar\": [{\"marker\": {\"colorbar\": {\"outlinewidth\": 0, \"ticks\": \"\"}}, \"type\": \"scatterpolar\"}], \"scatterpolargl\": [{\"marker\": {\"colorbar\": {\"outlinewidth\": 0, \"ticks\": \"\"}}, \"type\": \"scatterpolargl\"}], \"scatterternary\": [{\"marker\": {\"colorbar\": {\"outlinewidth\": 0, \"ticks\": \"\"}}, \"type\": \"scatterternary\"}], \"surface\": [{\"colorbar\": {\"outlinewidth\": 0, \"ticks\": \"\"}, \"colorscale\": [[0.0, \"#0d0887\"], [0.1111111111111111, \"#46039f\"], [0.2222222222222222, \"#7201a8\"], [0.3333333333333333, \"#9c179e\"], [0.4444444444444444, \"#bd3786\"], [0.5555555555555556, \"#d8576b\"], [0.6666666666666666, \"#ed7953\"], [0.7777777777777778, \"#fb9f3a\"], [0.8888888888888888, \"#fdca26\"], [1.0, \"#f0f921\"]], \"type\": \"surface\"}], \"table\": [{\"cells\": {\"fill\": {\"color\": \"#EBF0F8\"}, \"line\": {\"color\": \"white\"}}, \"header\": {\"fill\": {\"color\": \"#C8D4E3\"}, \"line\": {\"color\": \"white\"}}, \"type\": \"table\"}]}, \"layout\": {\"annotationdefaults\": {\"arrowcolor\": \"#2a3f5f\", \"arrowhead\": 0, \"arrowwidth\": 1}, \"autotypenumbers\": \"strict\", \"coloraxis\": {\"colorbar\": {\"outlinewidth\": 0, \"ticks\": \"\"}}, \"colorscale\": {\"diverging\": [[0, \"#8e0152\"], [0.1, \"#c51b7d\"], [0.2, \"#de77ae\"], [0.3, \"#f1b6da\"], [0.4, \"#fde0ef\"], [0.5, \"#f7f7f7\"], [0.6, \"#e6f5d0\"], [0.7, \"#b8e186\"], [0.8, \"#7fbc41\"], [0.9, \"#4d9221\"], [1, \"#276419\"]], \"sequential\": [[0.0, \"#0d0887\"], [0.1111111111111111, \"#46039f\"], [0.2222222222222222, \"#7201a8\"], [0.3333333333333333, \"#9c179e\"], [0.4444444444444444, \"#bd3786\"], [0.5555555555555556, \"#d8576b\"], [0.6666666666666666, \"#ed7953\"], [0.7777777777777778, \"#fb9f3a\"], [0.8888888888888888, \"#fdca26\"], [1.0, \"#f0f921\"]], \"sequentialminus\": [[0.0, \"#0d0887\"], [0.1111111111111111, \"#46039f\"], [0.2222222222222222, \"#7201a8\"], [0.3333333333333333, \"#9c179e\"], [0.4444444444444444, \"#bd3786\"], [0.5555555555555556, \"#d8576b\"], [0.6666666666666666, \"#ed7953\"], [0.7777777777777778, \"#fb9f3a\"], [0.8888888888888888, \"#fdca26\"], [1.0, \"#f0f921\"]]}, \"colorway\": [\"#636efa\", \"#EF553B\", \"#00cc96\", \"#ab63fa\", \"#FFA15A\", \"#19d3f3\", \"#FF6692\", \"#B6E880\", \"#FF97FF\", \"#FECB52\"], \"font\": {\"color\": \"#2a3f5f\"}, \"geo\": {\"bgcolor\": \"white\", \"lakecolor\": \"white\", \"landcolor\": \"#E5ECF6\", \"showlakes\": true, \"showland\": true, \"subunitcolor\": \"white\"}, \"hoverlabel\": {\"align\": \"left\"}, \"hovermode\": \"closest\", \"mapbox\": {\"style\": \"light\"}, \"paper_bgcolor\": \"white\", \"plot_bgcolor\": \"#E5ECF6\", \"polar\": {\"angularaxis\": {\"gridcolor\": \"white\", \"linecolor\": \"white\", \"ticks\": \"\"}, \"bgcolor\": \"#E5ECF6\", \"radialaxis\": {\"gridcolor\": \"white\", \"linecolor\": \"white\", \"ticks\": \"\"}}, \"scene\": {\"xaxis\": {\"backgroundcolor\": \"#E5ECF6\", \"gridcolor\": \"white\", \"gridwidth\": 2, \"linecolor\": \"white\", \"showbackground\": true, \"ticks\": \"\", \"zerolinecolor\": \"white\"}, \"yaxis\": {\"backgroundcolor\": \"#E5ECF6\", \"gridcolor\": \"white\", \"gridwidth\": 2, \"linecolor\": \"white\", \"showbackground\": true, \"ticks\": \"\", \"zerolinecolor\": \"white\"}, \"zaxis\": {\"backgroundcolor\": \"#E5ECF6\", \"gridcolor\": \"white\", \"gridwidth\": 2, \"linecolor\": \"white\", \"showbackground\": true, \"ticks\": \"\", \"zerolinecolor\": \"white\"}}, \"shapedefaults\": {\"line\": {\"color\": \"#2a3f5f\"}}, \"ternary\": {\"aaxis\": {\"gridcolor\": \"white\", \"linecolor\": \"white\", \"ticks\": \"\"}, \"baxis\": {\"gridcolor\": \"white\", \"linecolor\": \"white\", \"ticks\": \"\"}, \"bgcolor\": \"#E5ECF6\", \"caxis\": {\"gridcolor\": \"white\", \"linecolor\": \"white\", \"ticks\": \"\"}}, \"title\": {\"x\": 0.05}, \"xaxis\": {\"automargin\": true, \"gridcolor\": \"white\", \"linecolor\": \"white\", \"ticks\": \"\", \"title\": {\"standoff\": 15}, \"zerolinecolor\": \"white\", \"zerolinewidth\": 2}, \"yaxis\": {\"automargin\": true, \"gridcolor\": \"white\", \"linecolor\": \"white\", \"ticks\": \"\", \"title\": {\"standoff\": 15}, \"zerolinecolor\": \"white\", \"zerolinewidth\": 2}}}, \"title\": {\"text\": \"test_accuracy [5]: 1.00 [0]: 0.42\"}, \"xaxis\": {\"title\": {\"text\": \"epoch\"}}, \"yaxis\": {\"title\": {\"text\": \"test_accuracy\"}}},                        {\"responsive\": true}                    ).then(function(){\n",
       "                            \n",
       "var gd = document.getElementById('86e897ec-27c9-41dd-af4e-f50ff27767bd');\n",
       "var x = new MutationObserver(function (mutations, observer) {{\n",
       "        var display = window.getComputedStyle(gd).display;\n",
       "        if (!display || display === 'none') {{\n",
       "            console.log([gd, 'removed!']);\n",
       "            Plotly.purge(gd);\n",
       "            observer.disconnect();\n",
       "        }}\n",
       "}});\n",
       "\n",
       "// Listen for the removal of the full notebook cells\n",
       "var notebookContainer = gd.closest('#notebook-container');\n",
       "if (notebookContainer) {{\n",
       "    x.observe(notebookContainer, {childList: true});\n",
       "}}\n",
       "\n",
       "// Listen for the clearing of the current output cell\n",
       "var outputEl = gd.closest('.output');\n",
       "if (outputEl) {{\n",
       "    x.observe(outputEl, {childList: true});\n",
       "}}\n",
       "\n",
       "                        })                };                });            </script>        </div>"
      ]
     },
     "metadata": {},
     "output_type": "display_data"
    },
    {
     "data": {
      "text/html": [
       "<div>\n",
       "<style scoped>\n",
       "    .dataframe tbody tr th:only-of-type {\n",
       "        vertical-align: middle;\n",
       "    }\n",
       "\n",
       "    .dataframe tbody tr th {\n",
       "        vertical-align: top;\n",
       "    }\n",
       "\n",
       "    .dataframe thead th {\n",
       "        text-align: right;\n",
       "    }\n",
       "</style>\n",
       "<table border=\"1\" class=\"dataframe\">\n",
       "  <thead>\n",
       "    <tr style=\"text-align: right;\">\n",
       "      <th></th>\n",
       "      <th>epochs</th>\n",
       "      <th>offset</th>\n",
       "      <th>test_accuracy</th>\n",
       "    </tr>\n",
       "  </thead>\n",
       "  <tbody>\n",
       "    <tr>\n",
       "      <th>5</th>\n",
       "      <td>15.0</td>\n",
       "      <td>0.6</td>\n",
       "      <td>1.000000</td>\n",
       "    </tr>\n",
       "    <tr>\n",
       "      <th>0</th>\n",
       "      <td>5.0</td>\n",
       "      <td>0.1</td>\n",
       "      <td>0.420731</td>\n",
       "    </tr>\n",
       "  </tbody>\n",
       "</table>\n",
       "</div>"
      ],
      "text/plain": [
       "   epochs  offset  test_accuracy\n",
       "5    15.0     0.6       1.000000\n",
       "0     5.0     0.1       0.420731"
      ]
     },
     "metadata": {},
     "output_type": "display_data"
    }
   ],
   "source": [
    "metric_visualization(experiments=[-2, 0], metric='test_accuracy')"
   ]
  },
  {
   "cell_type": "code",
   "execution_count": null,
   "metadata": {},
   "outputs": [
    {
     "data": {
      "image/png": "[encoded data removed]",
      "text/plain": [
       "<Figure size 1440x720 with 1 Axes>"
      ]
     },
     "metadata": {
      "needs_background": "light"
     },
     "output_type": "display_data"
    },
    {
     "data": {
      "text/html": [
       "<div>\n",
       "<style scoped>\n",
       "    .dataframe tbody tr th:only-of-type {\n",
       "        vertical-align: middle;\n",
       "    }\n",
       "\n",
       "    .dataframe tbody tr th {\n",
       "        vertical-align: top;\n",
       "    }\n",
       "\n",
       "    .dataframe thead th {\n",
       "        text-align: right;\n",
       "    }\n",
       "</style>\n",
       "<table border=\"1\" class=\"dataframe\">\n",
       "  <thead>\n",
       "    <tr style=\"text-align: right;\">\n",
       "      <th></th>\n",
       "      <th>epochs</th>\n",
       "      <th>offset</th>\n",
       "      <th>test_accuracy</th>\n",
       "    </tr>\n",
       "  </thead>\n",
       "  <tbody>\n",
       "    <tr>\n",
       "      <th>3</th>\n",
       "      <td>15.0</td>\n",
       "      <td>0.1</td>\n",
       "      <td>0.519848</td>\n",
       "    </tr>\n",
       "    <tr>\n",
       "      <th>7</th>\n",
       "      <td>30.0</td>\n",
       "      <td>0.3</td>\n",
       "      <td>0.823344</td>\n",
       "    </tr>\n",
       "  </tbody>\n",
       "</table>\n",
       "</div>"
      ],
      "text/plain": [
       "   epochs  offset  test_accuracy\n",
       "3    15.0     0.1       0.519848\n",
       "7    30.0     0.3       0.823344"
      ]
     },
     "metadata": {},
     "output_type": "display_data"
    }
   ],
   "source": [
    "metric_visualization(experiments=[3, 7], metric='test_accuracy', backend='matplotlib')"
   ]
  },
  {
   "cell_type": "markdown",
   "metadata": {},
   "source": [
    "## Using more than one visualization routine"
   ]
  },
  {
   "cell_type": "code",
   "execution_count": null,
   "metadata": {},
   "outputs": [
    {
     "data": {
      "image/png": "[encoded data removed]",
      "text/plain": [
       "<Figure size 1440x720 with 1 Axes>"
      ]
     },
     "metadata": {
      "needs_background": "light"
     },
     "output_type": "display_data"
    },
    {
     "data": {
      "text/html": [
       "<div>\n",
       "<style scoped>\n",
       "    .dataframe tbody tr th:only-of-type {\n",
       "        vertical-align: middle;\n",
       "    }\n",
       "\n",
       "    .dataframe tbody tr th {\n",
       "        vertical-align: top;\n",
       "    }\n",
       "\n",
       "    .dataframe thead th {\n",
       "        text-align: right;\n",
       "    }\n",
       "</style>\n",
       "<table border=\"1\" class=\"dataframe\">\n",
       "  <thead>\n",
       "    <tr style=\"text-align: right;\">\n",
       "      <th></th>\n",
       "      <th>epochs</th>\n",
       "      <th>offset</th>\n",
       "      <th>test_accuracy</th>\n",
       "    </tr>\n",
       "  </thead>\n",
       "  <tbody>\n",
       "    <tr>\n",
       "      <th>3</th>\n",
       "      <td>15.0</td>\n",
       "      <td>0.1</td>\n",
       "      <td>0.519848</td>\n",
       "    </tr>\n",
       "    <tr>\n",
       "      <th>7</th>\n",
       "      <td>30.0</td>\n",
       "      <td>0.3</td>\n",
       "      <td>0.823344</td>\n",
       "    </tr>\n",
       "  </tbody>\n",
       "</table>\n",
       "</div>"
      ],
      "text/plain": [
       "   epochs  offset  test_accuracy\n",
       "3    15.0     0.1       0.519848\n",
       "7    30.0     0.3       0.823344"
      ]
     },
     "metadata": {},
     "output_type": "display_data"
    },
    {
     "data": {
      "image/png": "[encoded data removed]",
      "text/plain": [
       "<Figure size 1440x720 with 1 Axes>"
      ]
     },
     "metadata": {
      "needs_background": "light"
     },
     "output_type": "display_data"
    },
    {
     "data": {
      "image/png": "[encoded data removed]",
      "text/plain": [
       "<Figure size 432x288 with 1 Axes>"
      ]
     },
     "metadata": {
      "needs_background": "light"
     },
     "output_type": "display_data"
    }
   ],
   "source": [
    "metric_visualization(experiments=[3, 7], metric='test_accuracy', backend='matplotlib', \n",
    "                     visualization_options={'visualization': ['history', 'metric_correlation', 'custom'],\n",
    "                                           'metric_1': 'validation_accuracy',\n",
    "                                            'metric_2': 'test_accuracy'})"
   ]
  },
  {
   "cell_type": "markdown",
   "metadata": {},
   "source": [
    "Test the command line parser"
   ]
  },
  {
   "cell_type": "code",
   "execution_count": null,
   "metadata": {},
   "outputs": [
    {
     "data": {
      "image/png": "[encoded data removed]",
      "text/plain": [
       "<Figure size 1440x720 with 1 Axes>"
      ]
     },
     "metadata": {
      "needs_background": "light"
     },
     "output_type": "display_data"
    },
    {
     "data": {
      "text/html": [
       "<div>\n",
       "<style scoped>\n",
       "    .dataframe tbody tr th:only-of-type {\n",
       "        vertical-align: middle;\n",
       "    }\n",
       "\n",
       "    .dataframe tbody tr th {\n",
       "        vertical-align: top;\n",
       "    }\n",
       "\n",
       "    .dataframe thead th {\n",
       "        text-align: right;\n",
       "    }\n",
       "</style>\n",
       "<table border=\"1\" class=\"dataframe\">\n",
       "  <thead>\n",
       "    <tr style=\"text-align: right;\">\n",
       "      <th></th>\n",
       "      <th>epochs</th>\n",
       "      <th>offset</th>\n",
       "      <th>test_accuracy</th>\n",
       "    </tr>\n",
       "  </thead>\n",
       "  <tbody>\n",
       "    <tr>\n",
       "      <th>3</th>\n",
       "      <td>15.0</td>\n",
       "      <td>0.1</td>\n",
       "      <td>0.519848</td>\n",
       "    </tr>\n",
       "    <tr>\n",
       "      <th>7</th>\n",
       "      <td>30.0</td>\n",
       "      <td>0.3</td>\n",
       "      <td>0.823344</td>\n",
       "    </tr>\n",
       "  </tbody>\n",
       "</table>\n",
       "</div>"
      ],
      "text/plain": [
       "   epochs  offset  test_accuracy\n",
       "3    15.0     0.1       0.519848\n",
       "7    30.0     0.3       0.823344"
      ]
     },
     "metadata": {},
     "output_type": "display_data"
    },
    {
     "data": {
      "image/png": "[encoded data removed]",
      "text/plain": [
       "<Figure size 1440x720 with 1 Axes>"
      ]
     },
     "metadata": {
      "needs_background": "light"
     },
     "output_type": "display_data"
    },
    {
     "data": {
      "image/png": "[encoded data removed]",
      "text/plain": [
       "<Figure size 432x288 with 1 Axes>"
      ]
     },
     "metadata": {
      "needs_background": "light"
     },
     "output_type": "display_data"
    }
   ],
   "source": [
    "parse_arguments_and_visualize (['-e', '3', '7', \n",
    "                                '-m', 'test_accuracy', \n",
    "                                '-b', 'matplotlib', \n",
    "                                '-v', '{\"visualization\": [\"history\", \"metric_correlation\", \"custom\"], \"metric_1\": \"validation_accuracy\", \"metric_2\": \"test_accuracy\"}'])"
   ]
  },
  {
   "cell_type": "code",
   "execution_count": null,
   "metadata": {},
   "outputs": [],
   "source": [
    "#hide\n",
    "from nbdev.export import *\n",
    "notebook2script(recursive=True)"
   ]
  }
 ],
 "metadata": {
  "kernelspec": {
   "display_name": "Python (athena_gpu)",
   "language": "python",
   "name": "athena_gpu"
  }
 },
 "nbformat": 4,
 "nbformat_minor": 4
}
