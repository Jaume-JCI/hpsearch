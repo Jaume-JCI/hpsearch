{
 "cells": [
  {
   "cell_type": "code",
   "execution_count": null,
   "metadata": {},
   "outputs": [],
   "source": [
    "#hide\n",
    "#default_exp tools.metric_visualization\n",
    "from nbdev.showdoc import show_doc"
   ]
  },
  {
   "cell_type": "markdown",
   "metadata": {},
   "source": [
    "# Metric visualization\n",
    "\n",
    "> Visualize metrics collected from experiments."
   ]
  },
  {
   "cell_type": "code",
   "execution_count": null,
   "metadata": {},
   "outputs": [
    {
     "name": "stdout",
     "output_type": "stream",
     "text": [
      "using import method 1\n",
      "using import method 1\n"
     ]
    }
   ],
   "source": [
    "#export\n",
    "import warnings\n",
    "warnings.filterwarnings('ignore')\n",
    "\n",
    "import argparse\n",
    "import sys\n",
    "sys.path.append('.')\n",
    "sys.path.append('src')\n",
    "import pandas as pd\n",
    "import pickle\n",
    "import hpsearch.visualization.experiment_visualization as ev\n",
    "from hpsearch.config.hpconfig import get_path_experiments\n",
    "from hpsearch.config.hpconfig import get_default_operations\n",
    "\n",
    "def include_best_and_last_experiment (metrics, experiments=[-1, -2], root_folder=None, run_number=0, op='max'):\n",
    "    for i in range(len(experiments)):\n",
    "        if experiments[i] == -1:\n",
    "            root_path = get_path_experiments (folder = root_folder)\n",
    "            experiment_number = pickle.load(open(f'{root_path}/current_experiment_number.pkl','rb'))\n",
    "            experiments[i] = experiment_number\n",
    "\n",
    "        if experiments[i] == -2:\n",
    "            first_metric = metrics[0]\n",
    "            if len(metrics)>1:\n",
    "                print (f'we use the first metric {first_metric} in given list {metrics} for obtaining the best experiment')\n",
    "            root_path = get_path_experiments (folder = root_folder)\n",
    "            df = pd.read_csv(f'{root_path}/experiments_data.csv',index_col=0)\n",
    "            score_column = f'{run_number}_{first_metric}'\n",
    "            if score_column in df.columns:\n",
    "                if op=='max':\n",
    "                    experiments[i] = df[score_column].idxmax()\n",
    "                else:\n",
    "                    experiments[i] = df[score_column].idxmin()\n",
    "            else:\n",
    "                del experiments[i]\n",
    "                \n",
    "    return experiments\n",
    "\n",
    "def metric_visualization (experiments=[-1,-2], run_number=0, root_folder=None, metric=None, op = None,\n",
    "                          parameters=None, name_file='model_history.pk', visualization_options = {},\n",
    "                          backend='plotly'):\n",
    "    \n",
    "    default_operations = get_default_operations ()\n",
    "    if root_folder is None:\n",
    "        root_folder = default_operations.get('root', 'results')\n",
    "    if metric is None:\n",
    "        metric = default_operations.get('metric', 'accuracy')\n",
    "    if op is None:\n",
    "        op = default_operations.get('op', 'min')\n",
    "        \n",
    "    # metrics\n",
    "    if type(metric) is str:\n",
    "        metrics = [metric]\n",
    "    else:\n",
    "        metrics = metric\n",
    "        \n",
    "    experiments = include_best_and_last_experiment (metrics, experiments=experiments, root_folder=root_folder, \n",
    "                                                         run_number=run_number, op=op)\n",
    "    \n",
    "    if 'visualization' in visualization_options.keys():\n",
    "        visualization = visualization_options.pop('visualization')\n",
    "    else:\n",
    "        visualization = 'history'\n",
    "    \n",
    "    ev.visualize_experiments(visualization=visualization, \n",
    "                             experiments=experiments, run_number=run_number, root_folder=root_folder,metrics=metrics, \n",
    "                             parameters=parameters, name_file=name_file, **visualization_options,\n",
    "                             backend=backend)\n",
    "\n",
    "def parse_args(args):\n",
    "    parser = argparse.ArgumentParser(description='show metrics about experiments') \n",
    "    # Datasets\n",
    "    parser.add_argument('-e', nargs='+', default=[-1, -2], type=int,\n",
    "                        help=\"experiments\")\n",
    "    parser.add_argument('-m', '--metric', nargs='+', type=str, default=None, help=\"metrics\")\n",
    "    parser.add_argument('--root', type=str, default=None)\n",
    "    parser.add_argument('-l','--labels',nargs='+', default=None, type=str)\n",
    "    parser.add_argument('--run', default=0, type=int)\n",
    "    parser.add_argument('--op', default=None, type=str)\n",
    "    parser.add_argument('-b', '--backend', default='visdom', type=str)\n",
    "    parser.add_argument('-f', '--file', default='model_history.pk', type=str)\n",
    "    parser.add_argument('-v', '--visualization', default='{}', type=str)\n",
    "\n",
    "    pars = parser.parse_args(args)\n",
    "    \n",
    "    pars.visualization = eval(pars.visualization)\n",
    "    \n",
    "    return pars\n",
    "\n",
    "def parse_arguments_and_visualize (args):\n",
    "    \n",
    "    pars = parse_args(args)\n",
    "\n",
    "    metric_visualization (pars.e, run_number=pars.run, root_folder=pars.root, metric=pars.metric, \n",
    "                          parameters=pars.labels, name_file=pars.file, backend=pars.backend, \n",
    "                          visualization_options=pars.visualization)\n",
    "    \n",
    "def main():\n",
    "\n",
    "    parse_arguments_and_visualize (sys.argv[1:])\n",
    "\n"
   ]
  },
  {
   "cell_type": "markdown",
   "metadata": {},
   "source": [
    "## Usage examples"
   ]
  },
  {
   "cell_type": "markdown",
   "metadata": {},
   "source": [
    "### Produce data"
   ]
  },
  {
   "cell_type": "code",
   "execution_count": null,
   "metadata": {},
   "outputs": [
    {
     "name": "stderr",
     "output_type": "stream",
     "text": [
      "experiment script: /mnt/athena/hpsearch/hpsearch/examples/dummy_experiment_manager.py, line: 212\n",
      "processing hyper-parameter 0 out of 9\n",
      "doing run 0 out of 5\n",
      "fixed rate, multiple epochs values\n",
      "running experiment 0\n",
      "run number: 0\n",
      "\n",
      "parameters:\n",
      "\tepochs=5,\n",
      "\tnoise=0.1,\n",
      "\toffset=0.1,\n",
      "\trate=0.03\n",
      "\n",
      "script: /mnt/athena/hpsearch/hpsearch/examples/dummy_experiment_manager.py, line number: 212\n",
      "time spent on this experiment: 0.0009152889251708984\n",
      "0 - validation_accuracy: 0.22990889500819517\n",
      "0 - test_accuracy: 0.4905319524006339\n",
      "finished experiment 0\n",
      "processing hyper-parameter 0 out of 9\n",
      "doing run 1 out of 5\n",
      "fixed rate, multiple epochs values\n",
      "running experiment 0\n",
      "run number: 1\n",
      "\n",
      "parameters:\n",
      "\tepochs=5,\n",
      "\tnoise=0.1,\n",
      "\toffset=0.1,\n",
      "\trate=0.03\n",
      "\n",
      "script: /mnt/athena/hpsearch/hpsearch/examples/dummy_experiment_manager.py, line number: 212\n",
      "time spent on this experiment: 0.0009195804595947266\n",
      "1 - validation_accuracy: 0.25397017350579276\n",
      "1 - test_accuracy: 0.5006400879809302\n",
      "finished experiment 0\n",
      "processing hyper-parameter 0 out of 9\n",
      "doing run 2 out of 5\n",
      "fixed rate, multiple epochs values\n",
      "running experiment 0\n",
      "run number: 2\n",
      "\n",
      "parameters:\n",
      "\tepochs=5,\n",
      "\tnoise=0.1,\n",
      "\toffset=0.1,\n",
      "\trate=0.03\n",
      "\n",
      "script: /mnt/athena/hpsearch/hpsearch/examples/dummy_experiment_manager.py, line number: 212\n",
      "time spent on this experiment: 0.00092315673828125\n",
      "2 - validation_accuracy: 0.46802016600792673\n",
      "2 - test_accuracy: 0.26349931144327454\n",
      "finished experiment 0\n",
      "processing hyper-parameter 0 out of 9\n",
      "doing run 3 out of 5\n",
      "fixed rate, multiple epochs values\n",
      "running experiment 0\n",
      "run number: 3\n",
      "\n",
      "parameters:\n",
      "\tepochs=5,\n",
      "\tnoise=0.1,\n",
      "\toffset=0.1,\n",
      "\trate=0.03\n",
      "\n",
      "script: /mnt/athena/hpsearch/hpsearch/examples/dummy_experiment_manager.py, line number: 212\n",
      "time spent on this experiment: 0.0009596347808837891\n",
      "3 - validation_accuracy: 0.2298366254255696\n",
      "3 - test_accuracy: 0.2884809115685501\n",
      "finished experiment 0\n"
     ]
    },
    {
     "name": "stdout",
     "output_type": "stream",
     "text": [
      "using import method 1\n",
      "using import method 1\n",
      "registering\n",
      "fitting model with 5 epochs\n",
      "epoch 0: accuracy: 0.13\n",
      "epoch 1: accuracy: 0.16\n",
      "epoch 2: accuracy: 0.19\n",
      "epoch 3: accuracy: 0.22\n",
      "epoch 4: accuracy: 0.25\n",
      "registering\n",
      "fitting model with 5 epochs\n",
      "epoch 0: accuracy: 0.13\n",
      "epoch 1: accuracy: 0.16\n",
      "epoch 2: accuracy: 0.19\n",
      "epoch 3: accuracy: 0.22\n",
      "epoch 4: accuracy: 0.25\n",
      "registering\n",
      "fitting model with 5 epochs\n",
      "epoch 0: accuracy: 0.13\n",
      "epoch 1: accuracy: 0.16\n",
      "epoch 2: accuracy: 0.19\n",
      "epoch 3: accuracy: 0.22\n",
      "epoch 4: accuracy: 0.25\n",
      "registering\n",
      "fitting model with 5 epochs\n",
      "epoch 0: accuracy: 0.13\n",
      "epoch 1: accuracy: 0.16\n",
      "epoch 2: accuracy: 0.19\n",
      "epoch 3: accuracy: 0.22\n",
      "epoch 4: accuracy: 0.25\n"
     ]
    },
    {
     "name": "stderr",
     "output_type": "stream",
     "text": [
      "processing hyper-parameter 0 out of 9\n",
      "doing run 4 out of 5\n",
      "fixed rate, multiple epochs values\n"
     ]
    },
    {
     "name": "stdout",
     "output_type": "stream",
     "text": [
      "registering\n"
     ]
    },
    {
     "name": "stderr",
     "output_type": "stream",
     "text": [
      "running experiment 0\n",
      "run number: 4\n",
      "\n",
      "parameters:\n",
      "\tepochs=5,\n",
      "\tnoise=0.1,\n",
      "\toffset=0.1,\n",
      "\trate=0.03\n",
      "\n",
      "script: /mnt/athena/hpsearch/hpsearch/examples/dummy_experiment_manager.py, line number: 212\n",
      "time spent on this experiment: 0.0009312629699707031\n",
      "4 - validation_accuracy: 0.16231237151444616\n",
      "4 - test_accuracy: 0.09351245064290298\n",
      "finished experiment 0\n",
      "processing hyper-parameter 1 out of 9\n",
      "doing run 0 out of 5\n",
      "fixed rate, multiple epochs values\n",
      "running experiment 1\n",
      "run number: 0\n",
      "\n",
      "parameters:\n",
      "\tepochs=5,\n",
      "\tnoise=0.1,\n",
      "\toffset=0.3,\n",
      "\trate=0.03\n",
      "\n",
      "script: /mnt/athena/hpsearch/hpsearch/examples/dummy_experiment_manager.py, line number: 212\n",
      "time spent on this experiment: 0.0025458335876464844\n",
      "0 - validation_accuracy: 0.5840470841507412\n",
      "0 - test_accuracy: 0.623218608768475\n",
      "finished experiment 1\n",
      "processing hyper-parameter 1 out of 9\n",
      "doing run 1 out of 5\n",
      "fixed rate, multiple epochs values\n",
      "running experiment 1\n",
      "run number: 1\n",
      "\n",
      "parameters:\n",
      "\tepochs=5,\n",
      "\tnoise=0.1,\n",
      "\toffset=0.3,\n",
      "\trate=0.03\n",
      "\n",
      "script: /mnt/athena/hpsearch/hpsearch/examples/dummy_experiment_manager.py, line number: 212\n",
      "time spent on this experiment: 0.0008666515350341797\n",
      "1 - validation_accuracy: 0.4971737637616659\n",
      "1 - test_accuracy: 0.5468043205161395\n",
      "finished experiment 1\n",
      "processing hyper-parameter 1 out of 9\n",
      "doing run 2 out of 5\n",
      "fixed rate, multiple epochs values\n",
      "running experiment 1\n",
      "run number: 2\n",
      "\n",
      "parameters:\n",
      "\tepochs=5,\n",
      "\tnoise=0.1,\n",
      "\toffset=0.3,\n",
      "\trate=0.03\n",
      "\n",
      "script: /mnt/athena/hpsearch/hpsearch/examples/dummy_experiment_manager.py, line number: 212\n",
      "time spent on this experiment: 0.0009679794311523438\n",
      "2 - validation_accuracy: 0.4036375256080968\n",
      "2 - test_accuracy: 0.44273574288979994\n",
      "finished experiment 1\n",
      "processing hyper-parameter 1 out of 9\n",
      "doing run 3 out of 5\n",
      "fixed rate, multiple epochs values\n",
      "running experiment 1\n",
      "run number: 3\n",
      "\n",
      "parameters:\n",
      "\tepochs=5,\n",
      "\tnoise=0.1,\n",
      "\toffset=0.3,\n",
      "\trate=0.03\n",
      "\n"
     ]
    },
    {
     "name": "stdout",
     "output_type": "stream",
     "text": [
      "fitting model with 5 epochs\n",
      "epoch 0: accuracy: 0.13\n",
      "epoch 1: accuracy: 0.16\n",
      "epoch 2: accuracy: 0.19\n",
      "epoch 3: accuracy: 0.22\n",
      "epoch 4: accuracy: 0.25\n",
      "registering\n",
      "fitting model with 5 epochs\n",
      "epoch 0: accuracy: 0.32999999999999996\n",
      "epoch 1: accuracy: 0.36\n",
      "epoch 2: accuracy: 0.39\n",
      "epoch 3: accuracy: 0.42000000000000004\n",
      "epoch 4: accuracy: 0.45000000000000007\n",
      "registering\n",
      "fitting model with 5 epochs\n",
      "epoch 0: accuracy: 0.32999999999999996\n",
      "epoch 1: accuracy: 0.36\n",
      "epoch 2: accuracy: 0.39\n",
      "epoch 3: accuracy: 0.42000000000000004\n",
      "epoch 4: accuracy: 0.45000000000000007\n",
      "registering\n",
      "fitting model with 5 epochs\n",
      "epoch 0: accuracy: 0.32999999999999996\n",
      "epoch 1: accuracy: 0.36\n",
      "epoch 2: accuracy: 0.39\n",
      "epoch 3: accuracy: 0.42000000000000004\n",
      "epoch 4: accuracy: 0.45000000000000007\n",
      "registering\n"
     ]
    },
    {
     "name": "stderr",
     "output_type": "stream",
     "text": [
      "script: /mnt/athena/hpsearch/hpsearch/examples/dummy_experiment_manager.py, line number: 212\n",
      "time spent on this experiment: 0.00039005279541015625\n",
      "3 - validation_accuracy: 0.6308530148562459\n",
      "3 - test_accuracy: 0.5603458835646334\n"
     ]
    },
    {
     "name": "stdout",
     "output_type": "stream",
     "text": [
      "fitting model with 5 epochs\n",
      "epoch 0: accuracy: 0.32999999999999996\n",
      "epoch 1: accuracy: 0.36\n",
      "epoch 2: accuracy: 0.39\n",
      "epoch 3: accuracy: 0.42000000000000004\n",
      "epoch 4: accuracy: 0.45000000000000007\n"
     ]
    },
    {
     "name": "stderr",
     "output_type": "stream",
     "text": [
      "finished experiment 1\n",
      "processing hyper-parameter 1 out of 9\n",
      "doing run 4 out of 5\n",
      "fixed rate, multiple epochs values\n",
      "running experiment 1\n",
      "run number: 4\n",
      "\n",
      "parameters:\n",
      "\tepochs=5,\n",
      "\tnoise=0.1,\n",
      "\toffset=0.3,\n",
      "\trate=0.03\n",
      "\n",
      "script: /mnt/athena/hpsearch/hpsearch/examples/dummy_experiment_manager.py, line number: 212\n",
      "time spent on this experiment: 0.0009391307830810547\n",
      "4 - validation_accuracy: 0.43960939046069386\n",
      "4 - test_accuracy: 0.4308520537691496\n",
      "finished experiment 1\n",
      "processing hyper-parameter 2 out of 9\n",
      "doing run 0 out of 5\n",
      "fixed rate, multiple epochs values\n",
      "running experiment 2\n",
      "run number: 0\n",
      "\n",
      "parameters:\n",
      "\tepochs=5,\n",
      "\tnoise=0.1,\n",
      "\toffset=0.6,\n",
      "\trate=0.03\n",
      "\n",
      "script: /mnt/athena/hpsearch/hpsearch/examples/dummy_experiment_manager.py, line number: 212\n",
      "time spent on this experiment: 0.001238107681274414\n",
      "0 - validation_accuracy: 0.907949520739177\n",
      "0 - test_accuracy: 0.5921067746004782\n",
      "finished experiment 2\n",
      "processing hyper-parameter 2 out of 9\n",
      "doing run 1 out of 5\n",
      "fixed rate, multiple epochs values\n",
      "running experiment 2\n",
      "run number: 1\n",
      "\n",
      "parameters:\n",
      "\tepochs=5,\n",
      "\tnoise=0.1,\n",
      "\toffset=0.6,\n",
      "\trate=0.03\n",
      "\n",
      "script: /mnt/athena/hpsearch/hpsearch/examples/dummy_experiment_manager.py, line number: 212\n",
      "time spent on this experiment: 0.0009584426879882812\n",
      "1 - validation_accuracy: 0.9256672178421569\n",
      "1 - test_accuracy: 0.9193129630052752\n",
      "finished experiment 2\n",
      "processing hyper-parameter 2 out of 9\n",
      "doing run 2 out of 5\n",
      "fixed rate, multiple epochs values\n",
      "running experiment 2\n",
      "run number: 2\n",
      "\n",
      "parameters:\n",
      "\tepochs=5,\n",
      "\tnoise=0.1,\n",
      "\toffset=0.6,\n",
      "\trate=0.03\n",
      "\n",
      "script: /mnt/athena/hpsearch/hpsearch/examples/dummy_experiment_manager.py, line number: 212\n",
      "time spent on this experiment: 0.0009725093841552734\n",
      "2 - validation_accuracy: 0.7076783071054781\n",
      "2 - test_accuracy: 1.0\n"
     ]
    },
    {
     "name": "stdout",
     "output_type": "stream",
     "text": [
      "registering\n",
      "fitting model with 5 epochs\n",
      "epoch 0: accuracy: 0.32999999999999996\n",
      "epoch 1: accuracy: 0.36\n",
      "epoch 2: accuracy: 0.39\n",
      "epoch 3: accuracy: 0.42000000000000004\n",
      "epoch 4: accuracy: 0.45000000000000007\n",
      "registering\n",
      "fitting model with 5 epochs\n",
      "epoch 0: accuracy: 0.63\n",
      "epoch 1: accuracy: 0.66\n",
      "epoch 2: accuracy: 0.6900000000000001\n",
      "epoch 3: accuracy: 0.7200000000000001\n",
      "epoch 4: accuracy: 0.7500000000000001\n",
      "registering\n",
      "fitting model with 5 epochs\n",
      "epoch 0: accuracy: 0.63\n",
      "epoch 1: accuracy: 0.66\n",
      "epoch 2: accuracy: 0.6900000000000001\n",
      "epoch 3: accuracy: 0.7200000000000001\n",
      "epoch 4: accuracy: 0.7500000000000001\n",
      "registering\n",
      "fitting model with 5 epochs\n",
      "epoch 0: accuracy: 0.63\n",
      "epoch 1: accuracy: 0.66\n",
      "epoch 2: accuracy: 0.6900000000000001\n",
      "epoch 3: accuracy: 0.7200000000000001\n",
      "epoch 4: accuracy: 0.7500000000000001\n"
     ]
    },
    {
     "name": "stderr",
     "output_type": "stream",
     "text": [
      "finished experiment 2\n",
      "processing hyper-parameter 2 out of 9\n",
      "doing run 3 out of 5\n",
      "fixed rate, multiple epochs values\n",
      "running experiment 2\n",
      "run number: 3\n"
     ]
    },
    {
     "name": "stdout",
     "output_type": "stream",
     "text": [
      "registering\n"
     ]
    },
    {
     "name": "stderr",
     "output_type": "stream",
     "text": [
      "\n",
      "parameters:\n",
      "\tepochs=5,\n",
      "\tnoise=0.1,\n",
      "\toffset=0.6,\n",
      "\trate=0.03\n",
      "\n",
      "script: /mnt/athena/hpsearch/hpsearch/examples/dummy_experiment_manager.py, line number: 212\n",
      "time spent on this experiment: 0.0009427070617675781\n",
      "3 - validation_accuracy: 0.894522961708123\n",
      "3 - test_accuracy: 0.701398467541498\n",
      "finished experiment 2\n",
      "processing hyper-parameter 2 out of 9\n",
      "doing run 4 out of 5\n",
      "fixed rate, multiple epochs values\n",
      "running experiment 2\n",
      "run number: 4\n",
      "\n",
      "parameters:\n",
      "\tepochs=5,\n",
      "\tnoise=0.1,\n",
      "\toffset=0.6,\n",
      "\trate=0.03\n",
      "\n",
      "script: /mnt/athena/hpsearch/hpsearch/examples/dummy_experiment_manager.py, line number: 212\n",
      "time spent on this experiment: 0.0009124279022216797\n",
      "4 - validation_accuracy: 0.8887400661175846\n",
      "4 - test_accuracy: 0.967193250941391\n",
      "finished experiment 2\n",
      "processing hyper-parameter 3 out of 9\n",
      "doing run 0 out of 5\n",
      "fixed rate, multiple epochs values\n",
      "running experiment 3\n",
      "run number: 0\n",
      "\n",
      "parameters:\n",
      "\tepochs=15,\n",
      "\tnoise=0.1,\n",
      "\toffset=0.1,\n",
      "\trate=0.03\n",
      "\n",
      "script: /mnt/athena/hpsearch/hpsearch/examples/dummy_experiment_manager.py, line number: 212\n",
      "time spent on this experiment: 0.0019423961639404297\n",
      "0 - validation_accuracy: 0.6037081939654103\n",
      "0 - test_accuracy: 0.4967092993296751\n",
      "finished experiment 3\n",
      "processing hyper-parameter 3 out of 9\n",
      "doing run 1 out of 5\n",
      "fixed rate, multiple epochs values\n",
      "running experiment 3\n",
      "run number: 1\n",
      "\n",
      "parameters:\n",
      "\tepochs=15,\n",
      "\tnoise=0.1,\n",
      "\toffset=0.1,\n",
      "\trate=0.03\n",
      "\n",
      "script: /mnt/athena/hpsearch/hpsearch/examples/dummy_experiment_manager.py, line number: 212\n",
      "time spent on this experiment: 0.0019292831420898438\n",
      "1 - validation_accuracy: 0.5356016981163886\n",
      "1 - test_accuracy: 0.47818525206185253\n",
      "finished experiment 3\n",
      "processing hyper-parameter 3 out of 9\n",
      "doing run 2 out of 5\n",
      "fixed rate, multiple epochs values\n"
     ]
    },
    {
     "name": "stdout",
     "output_type": "stream",
     "text": [
      "fitting model with 5 epochs\n",
      "epoch 0: accuracy: 0.63\n",
      "epoch 1: accuracy: 0.66\n",
      "epoch 2: accuracy: 0.6900000000000001\n",
      "epoch 3: accuracy: 0.7200000000000001\n",
      "epoch 4: accuracy: 0.7500000000000001\n",
      "registering\n",
      "fitting model with 5 epochs\n",
      "epoch 0: accuracy: 0.63\n",
      "epoch 1: accuracy: 0.66\n",
      "epoch 2: accuracy: 0.6900000000000001\n",
      "epoch 3: accuracy: 0.7200000000000001\n",
      "epoch 4: accuracy: 0.7500000000000001\n",
      "registering\n",
      "fitting model with 15 epochs\n",
      "epoch 0: accuracy: 0.13\n",
      "epoch 1: accuracy: 0.16\n",
      "epoch 2: accuracy: 0.19\n",
      "epoch 3: accuracy: 0.22\n",
      "epoch 4: accuracy: 0.25\n",
      "epoch 5: accuracy: 0.28\n",
      "epoch 6: accuracy: 0.31000000000000005\n",
      "epoch 7: accuracy: 0.3400000000000001\n",
      "epoch 8: accuracy: 0.3700000000000001\n",
      "epoch 9: accuracy: 0.40000000000000013\n",
      "epoch 10: accuracy: 0.43000000000000016\n",
      "epoch 11: accuracy: 0.4600000000000002\n",
      "epoch 12: accuracy: 0.4900000000000002\n",
      "epoch 13: accuracy: 0.5200000000000002\n",
      "epoch 14: accuracy: 0.5500000000000003\n",
      "registering\n",
      "fitting model with 15 epochs\n",
      "epoch 0: accuracy: 0.13\n",
      "epoch 1: accuracy: 0.16\n",
      "epoch 2: accuracy: 0.19\n",
      "epoch 3: accuracy: 0.22\n",
      "epoch 4: accuracy: 0.25\n",
      "epoch 5: accuracy: 0.28\n",
      "epoch 6: accuracy: 0.31000000000000005\n",
      "epoch 7: accuracy: 0.3400000000000001\n",
      "epoch 8: accuracy: 0.3700000000000001\n",
      "epoch 9: accuracy: 0.40000000000000013\n",
      "epoch 10: accuracy: 0.43000000000000016\n",
      "epoch 11: accuracy: 0.4600000000000002\n",
      "epoch 12: accuracy: 0.4900000000000002\n",
      "epoch 13: accuracy: 0.5200000000000002\n",
      "epoch 14: accuracy: 0.5500000000000003\n",
      "registering\n"
     ]
    },
    {
     "name": "stderr",
     "output_type": "stream",
     "text": [
      "running experiment 3\n",
      "run number: 2\n",
      "\n",
      "parameters:\n",
      "\tepochs=15,\n",
      "\tnoise=0.1,\n",
      "\toffset=0.1,\n",
      "\trate=0.03\n",
      "\n",
      "script: /mnt/athena/hpsearch/hpsearch/examples/dummy_experiment_manager.py, line number: 212\n",
      "time spent on this experiment: 0.0021190643310546875\n",
      "2 - validation_accuracy: 0.44321365678180635\n",
      "2 - test_accuracy: 0.4749535256676319\n"
     ]
    },
    {
     "name": "stdout",
     "output_type": "stream",
     "text": [
      "fitting model with 15 epochs\n",
      "epoch 0: accuracy: 0.13\n",
      "epoch 1: accuracy: 0.16\n",
      "epoch 2: accuracy: 0.19\n",
      "epoch 3: accuracy: 0.22\n",
      "epoch 4: accuracy: 0.25\n",
      "epoch 5: accuracy: 0.28\n",
      "epoch 6: accuracy: 0.31000000000000005\n",
      "epoch 7: accuracy: 0.3400000000000001\n",
      "epoch 8: accuracy: 0.3700000000000001\n",
      "epoch 9: accuracy: 0.40000000000000013\n",
      "epoch 10: accuracy: 0.43000000000000016\n",
      "epoch 11: accuracy: 0.4600000000000002\n",
      "epoch 12: accuracy: 0.4900000000000002\n",
      "epoch 13: accuracy: 0.5200000000000002\n",
      "epoch 14: accuracy: 0.5500000000000003\n"
     ]
    },
    {
     "name": "stderr",
     "output_type": "stream",
     "text": [
      "finished experiment 3\n",
      "processing hyper-parameter 3 out of 9\n",
      "doing run 3 out of 5\n",
      "fixed rate, multiple epochs values\n",
      "running experiment 3\n",
      "run number: 3\n",
      "\n",
      "parameters:\n",
      "\tepochs=15,\n",
      "\tnoise=0.1,\n",
      "\toffset=0.1,\n",
      "\trate=0.03\n",
      "\n",
      "script: /mnt/athena/hpsearch/hpsearch/examples/dummy_experiment_manager.py, line number: 212\n",
      "time spent on this experiment: 0.001954793930053711\n",
      "3 - validation_accuracy: 0.611398611340786\n",
      "3 - test_accuracy: 0.5914730677662127\n",
      "finished experiment 3\n",
      "processing hyper-parameter 3 out of 9\n",
      "doing run 4 out of 5\n",
      "fixed rate, multiple epochs values\n",
      "running experiment 3\n",
      "run number: 4\n",
      "\n",
      "parameters:\n",
      "\tepochs=15,\n",
      "\tnoise=0.1,\n",
      "\toffset=0.1,\n",
      "\trate=0.03\n",
      "\n",
      "script: /mnt/athena/hpsearch/hpsearch/examples/dummy_experiment_manager.py, line number: 212\n",
      "time spent on this experiment: 0.0018672943115234375\n",
      "4 - validation_accuracy: 0.6510497067068015\n",
      "4 - test_accuracy: 0.6761161479992566\n",
      "finished experiment 3\n",
      "processing hyper-parameter 4 out of 9\n",
      "doing run 0 out of 5\n",
      "fixed rate, multiple epochs values\n",
      "running experiment 4\n",
      "run number: 0\n",
      "\n",
      "parameters:\n",
      "\tepochs=15,\n",
      "\tnoise=0.1,\n",
      "\toffset=0.3,\n",
      "\trate=0.03\n",
      "\n",
      "script: /mnt/athena/hpsearch/hpsearch/examples/dummy_experiment_manager.py, line number: 212\n",
      "time spent on this experiment: 0.002083301544189453\n",
      "0 - validation_accuracy: 0.6144215653289682\n",
      "0 - test_accuracy: 0.6457012006118497\n",
      "finished experiment 4\n",
      "processing hyper-parameter 4 out of 9\n",
      "doing run 1 out of 5\n",
      "fixed rate, multiple epochs values\n",
      "running experiment 4\n",
      "run number: 1\n",
      "\n",
      "parameters:\n",
      "\tepochs=15,\n",
      "\tnoise=0.1,\n",
      "\toffset=0.3,\n",
      "\trate=0.03\n",
      "\n"
     ]
    },
    {
     "name": "stdout",
     "output_type": "stream",
     "text": [
      "registering\n",
      "fitting model with 15 epochs\n",
      "epoch 0: accuracy: 0.13\n",
      "epoch 1: accuracy: 0.16\n",
      "epoch 2: accuracy: 0.19\n",
      "epoch 3: accuracy: 0.22\n",
      "epoch 4: accuracy: 0.25\n",
      "epoch 5: accuracy: 0.28\n",
      "epoch 6: accuracy: 0.31000000000000005\n",
      "epoch 7: accuracy: 0.3400000000000001\n",
      "epoch 8: accuracy: 0.3700000000000001\n",
      "epoch 9: accuracy: 0.40000000000000013\n",
      "epoch 10: accuracy: 0.43000000000000016\n",
      "epoch 11: accuracy: 0.4600000000000002\n",
      "epoch 12: accuracy: 0.4900000000000002\n",
      "epoch 13: accuracy: 0.5200000000000002\n",
      "epoch 14: accuracy: 0.5500000000000003\n",
      "registering\n",
      "fitting model with 15 epochs\n",
      "epoch 0: accuracy: 0.13\n",
      "epoch 1: accuracy: 0.16\n",
      "epoch 2: accuracy: 0.19\n",
      "epoch 3: accuracy: 0.22\n",
      "epoch 4: accuracy: 0.25\n",
      "epoch 5: accuracy: 0.28\n",
      "epoch 6: accuracy: 0.31000000000000005\n",
      "epoch 7: accuracy: 0.3400000000000001\n",
      "epoch 8: accuracy: 0.3700000000000001\n",
      "epoch 9: accuracy: 0.40000000000000013\n",
      "epoch 10: accuracy: 0.43000000000000016\n",
      "epoch 11: accuracy: 0.4600000000000002\n",
      "epoch 12: accuracy: 0.4900000000000002\n",
      "epoch 13: accuracy: 0.5200000000000002\n",
      "epoch 14: accuracy: 0.5500000000000003\n",
      "registering\n",
      "fitting model with 15 epochs\n",
      "epoch 0: accuracy: 0.32999999999999996\n",
      "epoch 1: accuracy: 0.36\n",
      "epoch 2: accuracy: 0.39\n",
      "epoch 3: accuracy: 0.42000000000000004\n",
      "epoch 4: accuracy: 0.45000000000000007\n",
      "epoch 5: accuracy: 0.4800000000000001\n",
      "epoch 6: accuracy: 0.5100000000000001\n",
      "epoch 7: accuracy: 0.5400000000000001\n",
      "epoch 8: accuracy: 0.5700000000000002\n",
      "epoch 9: accuracy: 0.6000000000000002\n",
      "epoch 10: accuracy: 0.6300000000000002\n",
      "epoch 11: accuracy: 0.6600000000000003\n",
      "epoch 12: accuracy: 0.6900000000000003\n",
      "epoch 13: accuracy: 0.7200000000000003\n",
      "epoch 14: accuracy: 0.7500000000000003\n",
      "registering\n"
     ]
    },
    {
     "name": "stderr",
     "output_type": "stream",
     "text": [
      "script: /mnt/athena/hpsearch/hpsearch/examples/dummy_experiment_manager.py, line number: 212\n",
      "time spent on this experiment: 0.0023937225341796875\n",
      "1 - validation_accuracy: 0.8369948347903166\n",
      "1 - test_accuracy: 0.7501203853640724\n"
     ]
    },
    {
     "name": "stdout",
     "output_type": "stream",
     "text": [
      "fitting model with 15 epochs\n",
      "epoch 0: accuracy: 0.32999999999999996\n",
      "epoch 1: accuracy: 0.36\n",
      "epoch 2: accuracy: 0.39\n",
      "epoch 3: accuracy: 0.42000000000000004\n",
      "epoch 4: accuracy: 0.45000000000000007\n",
      "epoch 5: accuracy: 0.4800000000000001\n",
      "epoch 6: accuracy: 0.5100000000000001\n",
      "epoch 7: accuracy: 0.5400000000000001\n",
      "epoch 8: accuracy: 0.5700000000000002\n",
      "epoch 9: accuracy: 0.6000000000000002\n",
      "epoch 10: accuracy: 0.6300000000000002\n",
      "epoch 11: accuracy: 0.6600000000000003\n",
      "epoch 12: accuracy: 0.6900000000000003\n",
      "epoch 13: accuracy: 0.7200000000000003\n",
      "epoch 14: accuracy: 0.7500000000000003\n"
     ]
    },
    {
     "name": "stderr",
     "output_type": "stream",
     "text": [
      "finished experiment 4\n",
      "processing hyper-parameter 4 out of 9\n",
      "doing run 2 out of 5\n",
      "fixed rate, multiple epochs values\n",
      "running experiment 4\n",
      "run number: 2\n",
      "\n",
      "parameters:\n",
      "\tepochs=15,\n",
      "\tnoise=0.1,\n",
      "\toffset=0.3,\n",
      "\trate=0.03\n",
      "\n",
      "script: /mnt/athena/hpsearch/hpsearch/examples/dummy_experiment_manager.py, line number: 212\n",
      "time spent on this experiment: 0.001978158950805664\n",
      "2 - validation_accuracy: 0.8938745334705158\n",
      "2 - test_accuracy: 0.6312646875195741\n",
      "finished experiment 4\n",
      "processing hyper-parameter 4 out of 9\n",
      "doing run 3 out of 5\n",
      "fixed rate, multiple epochs values\n",
      "running experiment 4\n",
      "run number: 3\n",
      "\n",
      "parameters:\n",
      "\tepochs=15,\n",
      "\tnoise=0.1,\n",
      "\toffset=0.3,\n",
      "\trate=0.03\n",
      "\n",
      "script: /mnt/athena/hpsearch/hpsearch/examples/dummy_experiment_manager.py, line number: 212\n",
      "time spent on this experiment: 0.0018854141235351562\n",
      "3 - validation_accuracy: 0.7032401267775945\n",
      "3 - test_accuracy: 0.6813495030578017\n",
      "finished experiment 4\n",
      "processing hyper-parameter 4 out of 9\n",
      "doing run 4 out of 5\n",
      "fixed rate, multiple epochs values\n",
      "running experiment 4\n",
      "run number: 4\n",
      "\n",
      "parameters:\n",
      "\tepochs=15,\n",
      "\tnoise=0.1,\n",
      "\toffset=0.3,\n",
      "\trate=0.03\n",
      "\n",
      "script: /mnt/athena/hpsearch/hpsearch/examples/dummy_experiment_manager.py, line number: 212\n",
      "time spent on this experiment: 0.0020143985748291016\n",
      "4 - validation_accuracy: 0.9256356486446019\n",
      "4 - test_accuracy: 0.7271624041852844\n",
      "finished experiment 4\n",
      "processing hyper-parameter 5 out of 9\n",
      "doing run 0 out of 5\n",
      "fixed rate, multiple epochs values\n",
      "running experiment 5\n"
     ]
    },
    {
     "name": "stdout",
     "output_type": "stream",
     "text": [
      "registering\n",
      "fitting model with 15 epochs\n",
      "epoch 0: accuracy: 0.32999999999999996\n",
      "epoch 1: accuracy: 0.36\n",
      "epoch 2: accuracy: 0.39\n",
      "epoch 3: accuracy: 0.42000000000000004\n",
      "epoch 4: accuracy: 0.45000000000000007\n",
      "epoch 5: accuracy: 0.4800000000000001\n",
      "epoch 6: accuracy: 0.5100000000000001\n",
      "epoch 7: accuracy: 0.5400000000000001\n",
      "epoch 8: accuracy: 0.5700000000000002\n",
      "epoch 9: accuracy: 0.6000000000000002\n",
      "epoch 10: accuracy: 0.6300000000000002\n",
      "epoch 11: accuracy: 0.6600000000000003\n",
      "epoch 12: accuracy: 0.6900000000000003\n",
      "epoch 13: accuracy: 0.7200000000000003\n",
      "epoch 14: accuracy: 0.7500000000000003\n",
      "registering\n",
      "fitting model with 15 epochs\n",
      "epoch 0: accuracy: 0.32999999999999996\n",
      "epoch 1: accuracy: 0.36\n",
      "epoch 2: accuracy: 0.39\n",
      "epoch 3: accuracy: 0.42000000000000004\n",
      "epoch 4: accuracy: 0.45000000000000007\n",
      "epoch 5: accuracy: 0.4800000000000001\n",
      "epoch 6: accuracy: 0.5100000000000001\n",
      "epoch 7: accuracy: 0.5400000000000001\n",
      "epoch 8: accuracy: 0.5700000000000002\n",
      "epoch 9: accuracy: 0.6000000000000002\n",
      "epoch 10: accuracy: 0.6300000000000002\n",
      "epoch 11: accuracy: 0.6600000000000003\n",
      "epoch 12: accuracy: 0.6900000000000003\n",
      "epoch 13: accuracy: 0.7200000000000003\n",
      "epoch 14: accuracy: 0.7500000000000003\n",
      "registering\n",
      "fitting model with 15 epochs\n",
      "epoch 0: accuracy: 0.32999999999999996\n",
      "epoch 1: accuracy: 0.36\n",
      "epoch 2: accuracy: 0.39\n",
      "epoch 3: accuracy: 0.42000000000000004\n",
      "epoch 4: accuracy: 0.45000000000000007\n",
      "epoch 5: accuracy: 0.4800000000000001\n",
      "epoch 6: accuracy: 0.5100000000000001\n",
      "epoch 7: accuracy: 0.5400000000000001\n",
      "epoch 8: accuracy: 0.5700000000000002\n",
      "epoch 9: accuracy: 0.6000000000000002\n",
      "epoch 10: accuracy: 0.6300000000000002\n",
      "epoch 11: accuracy: 0.6600000000000003\n",
      "epoch 12: accuracy: 0.6900000000000003\n",
      "epoch 13: accuracy: 0.7200000000000003\n",
      "epoch 14: accuracy: 0.7500000000000003\n",
      "registering\n"
     ]
    },
    {
     "name": "stderr",
     "output_type": "stream",
     "text": [
      "run number: 0\n",
      "\n",
      "parameters:\n",
      "\tepochs=15,\n",
      "\tnoise=0.1,\n",
      "\toffset=0.6,\n",
      "\trate=0.03\n",
      "\n",
      "script: /mnt/athena/hpsearch/hpsearch/examples/dummy_experiment_manager.py, line number: 212\n",
      "time spent on this experiment: 0.0019762516021728516\n",
      "0 - validation_accuracy: 1.0\n",
      "0 - test_accuracy: 0.8286218914693593\n"
     ]
    },
    {
     "name": "stdout",
     "output_type": "stream",
     "text": [
      "fitting model with 15 epochs\n",
      "epoch 0: accuracy: 0.63\n",
      "epoch 1: accuracy: 0.66\n",
      "epoch 2: accuracy: 0.6900000000000001\n",
      "epoch 3: accuracy: 0.7200000000000001\n",
      "epoch 4: accuracy: 0.7500000000000001\n",
      "epoch 5: accuracy: 0.7800000000000001\n",
      "epoch 6: accuracy: 0.8100000000000002\n",
      "epoch 7: accuracy: 0.8400000000000002\n",
      "epoch 8: accuracy: 0.8700000000000002\n",
      "epoch 9: accuracy: 0.9000000000000002\n",
      "epoch 10: accuracy: 0.9300000000000003\n",
      "epoch 11: accuracy: 0.9600000000000003\n",
      "epoch 12: accuracy: 0.9900000000000003\n",
      "epoch 13: accuracy: 1.0200000000000002\n",
      "epoch 14: accuracy: 1.0500000000000003\n"
     ]
    },
    {
     "name": "stderr",
     "output_type": "stream",
     "text": [
      "finished experiment 5\n",
      "processing hyper-parameter 5 out of 9\n",
      "doing run 1 out of 5\n",
      "fixed rate, multiple epochs values\n",
      "running experiment 5\n",
      "run number: 1\n",
      "\n",
      "parameters:\n",
      "\tepochs=15,\n",
      "\tnoise=0.1,\n",
      "\toffset=0.6,\n",
      "\trate=0.03\n",
      "\n",
      "script: /mnt/athena/hpsearch/hpsearch/examples/dummy_experiment_manager.py, line number: 212\n",
      "time spent on this experiment: 0.002179384231567383\n",
      "1 - validation_accuracy: 1.0\n",
      "1 - test_accuracy: 1.0\n",
      "finished experiment 5\n",
      "processing hyper-parameter 5 out of 9\n",
      "doing run 2 out of 5\n",
      "fixed rate, multiple epochs values\n",
      "running experiment 5\n",
      "run number: 2\n",
      "\n",
      "parameters:\n",
      "\tepochs=15,\n",
      "\tnoise=0.1,\n",
      "\toffset=0.6,\n",
      "\trate=0.03\n",
      "\n",
      "script: /mnt/athena/hpsearch/hpsearch/examples/dummy_experiment_manager.py, line number: 212\n",
      "time spent on this experiment: 0.002201080322265625\n",
      "2 - validation_accuracy: 1.0\n",
      "2 - test_accuracy: 0.9728237400337529\n",
      "finished experiment 5\n",
      "processing hyper-parameter 5 out of 9\n",
      "doing run 3 out of 5\n",
      "fixed rate, multiple epochs values\n",
      "running experiment 5\n",
      "run number: 3\n",
      "\n",
      "parameters:\n",
      "\tepochs=15,\n",
      "\tnoise=0.1,\n",
      "\toffset=0.6,\n",
      "\trate=0.03\n",
      "\n",
      "script: /mnt/athena/hpsearch/hpsearch/examples/dummy_experiment_manager.py, line number: 212\n",
      "time spent on this experiment: 0.002743244171142578\n",
      "3 - validation_accuracy: 1.0\n",
      "3 - test_accuracy: 1.0\n",
      "finished experiment 5\n",
      "processing hyper-parameter 5 out of 9\n",
      "doing run 4 out of 5\n",
      "fixed rate, multiple epochs values\n",
      "running experiment 5\n",
      "run number: 4\n",
      "\n",
      "parameters:\n",
      "\tepochs=15,\n",
      "\tnoise=0.1,\n",
      "\toffset=0.6,\n",
      "\trate=0.03\n",
      "\n"
     ]
    },
    {
     "name": "stdout",
     "output_type": "stream",
     "text": [
      "registering\n",
      "fitting model with 15 epochs\n",
      "epoch 0: accuracy: 0.63\n",
      "epoch 1: accuracy: 0.66\n",
      "epoch 2: accuracy: 0.6900000000000001\n",
      "epoch 3: accuracy: 0.7200000000000001\n",
      "epoch 4: accuracy: 0.7500000000000001\n",
      "epoch 5: accuracy: 0.7800000000000001\n",
      "epoch 6: accuracy: 0.8100000000000002\n",
      "epoch 7: accuracy: 0.8400000000000002\n",
      "epoch 8: accuracy: 0.8700000000000002\n",
      "epoch 9: accuracy: 0.9000000000000002\n",
      "epoch 10: accuracy: 0.9300000000000003\n",
      "epoch 11: accuracy: 0.9600000000000003\n",
      "epoch 12: accuracy: 0.9900000000000003\n",
      "epoch 13: accuracy: 1.0200000000000002\n",
      "epoch 14: accuracy: 1.0500000000000003\n",
      "registering\n",
      "fitting model with 15 epochs\n",
      "epoch 0: accuracy: 0.63\n",
      "epoch 1: accuracy: 0.66\n",
      "epoch 2: accuracy: 0.6900000000000001\n",
      "epoch 3: accuracy: 0.7200000000000001\n",
      "epoch 4: accuracy: 0.7500000000000001\n",
      "epoch 5: accuracy: 0.7800000000000001\n",
      "epoch 6: accuracy: 0.8100000000000002\n",
      "epoch 7: accuracy: 0.8400000000000002\n",
      "epoch 8: accuracy: 0.8700000000000002\n",
      "epoch 9: accuracy: 0.9000000000000002\n",
      "epoch 10: accuracy: 0.9300000000000003\n",
      "epoch 11: accuracy: 0.9600000000000003\n",
      "epoch 12: accuracy: 0.9900000000000003\n",
      "epoch 13: accuracy: 1.0200000000000002\n",
      "epoch 14: accuracy: 1.0500000000000003\n",
      "registering\n",
      "fitting model with 15 epochs\n",
      "epoch 0: accuracy: 0.63\n",
      "epoch 1: accuracy: 0.66\n",
      "epoch 2: accuracy: 0.6900000000000001\n",
      "epoch 3: accuracy: 0.7200000000000001\n",
      "epoch 4: accuracy: 0.7500000000000001\n",
      "epoch 5: accuracy: 0.7800000000000001\n",
      "epoch 6: accuracy: 0.8100000000000002\n",
      "epoch 7: accuracy: 0.8400000000000002\n",
      "epoch 8: accuracy: 0.8700000000000002\n",
      "epoch 9: accuracy: 0.9000000000000002\n",
      "epoch 10: accuracy: 0.9300000000000003\n",
      "epoch 11: accuracy: 0.9600000000000003\n",
      "epoch 12: accuracy: 0.9900000000000003\n",
      "epoch 13: accuracy: 1.0200000000000002\n",
      "epoch 14: accuracy: 1.0500000000000003\n",
      "registering\n"
     ]
    },
    {
     "name": "stderr",
     "output_type": "stream",
     "text": [
      "script: /mnt/athena/hpsearch/hpsearch/examples/dummy_experiment_manager.py, line number: 212\n",
      "time spent on this experiment: 0.002294301986694336\n",
      "4 - validation_accuracy: 1.0\n",
      "4 - test_accuracy: 0.8066986123746074\n"
     ]
    },
    {
     "name": "stdout",
     "output_type": "stream",
     "text": [
      "fitting model with 15 epochs\n",
      "epoch 0: accuracy: 0.63\n",
      "epoch 1: accuracy: 0.66\n",
      "epoch 2: accuracy: 0.6900000000000001\n",
      "epoch 3: accuracy: 0.7200000000000001\n",
      "epoch 4: accuracy: 0.7500000000000001\n",
      "epoch 5: accuracy: 0.7800000000000001\n",
      "epoch 6: accuracy: 0.8100000000000002\n",
      "epoch 7: accuracy: 0.8400000000000002\n",
      "epoch 8: accuracy: 0.8700000000000002\n",
      "epoch 9: accuracy: 0.9000000000000002\n",
      "epoch 10: accuracy: 0.9300000000000003\n",
      "epoch 11: accuracy: 0.9600000000000003\n",
      "epoch 12: accuracy: 0.9900000000000003\n",
      "epoch 13: accuracy: 1.0200000000000002\n",
      "epoch 14: accuracy: 1.0500000000000003\n"
     ]
    },
    {
     "name": "stderr",
     "output_type": "stream",
     "text": [
      "finished experiment 5\n",
      "processing hyper-parameter 6 out of 9\n",
      "doing run 0 out of 5\n",
      "fixed rate, multiple epochs values\n",
      "running experiment 6\n",
      "run number: 0\n",
      "\n",
      "parameters:\n",
      "\tepochs=30,\n",
      "\tnoise=0.1,\n",
      "\toffset=0.1,\n",
      "\trate=0.03\n",
      "\n",
      "script: /mnt/athena/hpsearch/hpsearch/examples/dummy_experiment_manager.py, line number: 212\n",
      "time spent on this experiment: 0.0034105777740478516\n",
      "0 - validation_accuracy: 0.356200171617841\n",
      "0 - test_accuracy: 0.380569097910059\n",
      "finished experiment 6\n",
      "processing hyper-parameter 6 out of 9\n",
      "doing run 1 out of 5\n",
      "fixed rate, multiple epochs values\n",
      "running experiment 6\n",
      "run number: 1\n",
      "\n",
      "parameters:\n",
      "\tepochs=30,\n",
      "\tnoise=0.1,\n",
      "\toffset=0.1,\n",
      "\trate=0.03\n",
      "\n",
      "script: /mnt/athena/hpsearch/hpsearch/examples/dummy_experiment_manager.py, line number: 212\n",
      "time spent on this experiment: 0.0034339427947998047\n",
      "1 - validation_accuracy: 0.5340493805453811\n",
      "1 - test_accuracy: 0.3447417966796682\n",
      "finished experiment 6\n",
      "processing hyper-parameter 6 out of 9\n",
      "doing run 2 out of 5\n",
      "fixed rate, multiple epochs values\n",
      "running experiment 6\n",
      "run number: 2\n",
      "\n",
      "parameters:\n",
      "\tepochs=30,\n",
      "\tnoise=0.1,\n",
      "\toffset=0.1,\n",
      "\trate=0.03\n",
      "\n",
      "script: /mnt/athena/hpsearch/hpsearch/examples/dummy_experiment_manager.py, line number: 212\n",
      "time spent on this experiment: 0.0034193992614746094\n",
      "2 - validation_accuracy: 0.4449673789246711\n",
      "2 - test_accuracy: 0.2631185404970319\n",
      "finished experiment 6\n",
      "processing hyper-parameter 6 out of 9\n",
      "doing run 3 out of 5\n",
      "fixed rate, multiple epochs values\n"
     ]
    },
    {
     "name": "stdout",
     "output_type": "stream",
     "text": [
      "registering\n",
      "fitting model with 30 epochs\n",
      "epoch 0: accuracy: 0.13\n",
      "epoch 1: accuracy: 0.16\n",
      "epoch 2: accuracy: 0.19\n",
      "epoch 3: accuracy: 0.22\n",
      "epoch 4: accuracy: 0.25\n",
      "epoch 5: accuracy: 0.28\n",
      "epoch 6: accuracy: 0.31000000000000005\n",
      "epoch 7: accuracy: 0.3400000000000001\n",
      "epoch 8: accuracy: 0.3700000000000001\n",
      "epoch 9: accuracy: 0.40000000000000013\n",
      "epoch 10: accuracy: 0.43000000000000016\n",
      "epoch 11: accuracy: 0.4600000000000002\n",
      "epoch 12: accuracy: 0.4900000000000002\n",
      "epoch 13: accuracy: 0.5200000000000002\n",
      "epoch 14: accuracy: 0.5500000000000003\n",
      "epoch 15: accuracy: 0.5800000000000003\n",
      "epoch 16: accuracy: 0.6100000000000003\n",
      "epoch 17: accuracy: 0.6400000000000003\n",
      "epoch 18: accuracy: 0.6700000000000004\n",
      "epoch 19: accuracy: 0.7000000000000004\n",
      "epoch 20: accuracy: 0.6700000000000004\n",
      "epoch 21: accuracy: 0.6400000000000003\n",
      "epoch 22: accuracy: 0.6100000000000003\n",
      "epoch 23: accuracy: 0.5800000000000003\n",
      "epoch 24: accuracy: 0.5500000000000003\n",
      "epoch 25: accuracy: 0.5200000000000002\n",
      "epoch 26: accuracy: 0.4900000000000002\n",
      "epoch 27: accuracy: 0.4600000000000002\n",
      "epoch 28: accuracy: 0.43000000000000016\n",
      "epoch 29: accuracy: 0.40000000000000013\n",
      "registering\n",
      "fitting model with 30 epochs\n",
      "epoch 0: accuracy: 0.13\n",
      "epoch 1: accuracy: 0.16\n",
      "epoch 2: accuracy: 0.19\n",
      "epoch 3: accuracy: 0.22\n",
      "epoch 4: accuracy: 0.25\n",
      "epoch 5: accuracy: 0.28\n",
      "epoch 6: accuracy: 0.31000000000000005\n",
      "epoch 7: accuracy: 0.3400000000000001\n",
      "epoch 8: accuracy: 0.3700000000000001\n",
      "epoch 9: accuracy: 0.40000000000000013\n",
      "epoch 10: accuracy: 0.43000000000000016\n",
      "epoch 11: accuracy: 0.4600000000000002\n",
      "epoch 12: accuracy: 0.4900000000000002\n",
      "epoch 13: accuracy: 0.5200000000000002\n",
      "epoch 14: accuracy: 0.5500000000000003\n",
      "epoch 15: accuracy: 0.5800000000000003\n",
      "epoch 16: accuracy: 0.6100000000000003\n",
      "epoch 17: accuracy: 0.6400000000000003\n",
      "epoch 18: accuracy: 0.6700000000000004\n",
      "epoch 19: accuracy: 0.7000000000000004\n",
      "epoch 20: accuracy: 0.6700000000000004\n",
      "epoch 21: accuracy: 0.6400000000000003\n",
      "epoch 22: accuracy: 0.6100000000000003\n",
      "epoch 23: accuracy: 0.5800000000000003\n",
      "epoch 24: accuracy: 0.5500000000000003\n",
      "epoch 25: accuracy: 0.5200000000000002\n",
      "epoch 26: accuracy: 0.4900000000000002\n",
      "epoch 27: accuracy: 0.4600000000000002\n",
      "epoch 28: accuracy: 0.43000000000000016\n",
      "epoch 29: accuracy: 0.40000000000000013\n",
      "registering\n",
      "fitting model with 30 epochs\n",
      "epoch 0: accuracy: 0.13\n",
      "epoch 1: accuracy: 0.16\n",
      "epoch 2: accuracy: 0.19\n",
      "epoch 3: accuracy: 0.22\n",
      "epoch 4: accuracy: 0.25\n",
      "epoch 5: accuracy: 0.28\n",
      "epoch 6: accuracy: 0.31000000000000005\n",
      "epoch 7: accuracy: 0.3400000000000001\n",
      "epoch 8: accuracy: 0.3700000000000001\n",
      "epoch 9: accuracy: 0.40000000000000013\n",
      "epoch 10: accuracy: 0.43000000000000016\n",
      "epoch 11: accuracy: 0.4600000000000002\n",
      "epoch 12: accuracy: 0.4900000000000002\n",
      "epoch 13: accuracy: 0.5200000000000002\n",
      "epoch 14: accuracy: 0.5500000000000003\n",
      "epoch 15: accuracy: 0.5800000000000003\n",
      "epoch 16: accuracy: 0.6100000000000003\n",
      "epoch 17: accuracy: 0.6400000000000003\n",
      "epoch 18: accuracy: 0.6700000000000004\n",
      "epoch 19: accuracy: 0.7000000000000004\n",
      "epoch 20: accuracy: 0.6700000000000004\n",
      "epoch 21: accuracy: 0.6400000000000003\n",
      "epoch 22: accuracy: 0.6100000000000003\n",
      "epoch 23: accuracy: 0.5800000000000003\n",
      "epoch 24: accuracy: 0.5500000000000003\n",
      "epoch 25: accuracy: 0.5200000000000002\n",
      "epoch 26: accuracy: 0.4900000000000002\n",
      "epoch 27: accuracy: 0.4600000000000002\n",
      "epoch 28: accuracy: 0.43000000000000016\n",
      "epoch 29: accuracy: 0.40000000000000013\n",
      "registering\n"
     ]
    },
    {
     "name": "stderr",
     "output_type": "stream",
     "text": [
      "running experiment 6\n",
      "run number: 3\n",
      "\n",
      "parameters:\n",
      "\tepochs=30,\n",
      "\tnoise=0.1,\n",
      "\toffset=0.1,\n",
      "\trate=0.03\n",
      "\n",
      "script: /mnt/athena/hpsearch/hpsearch/examples/dummy_experiment_manager.py, line number: 212\n",
      "time spent on this experiment: 0.004927396774291992\n",
      "3 - validation_accuracy: 0.34585408457294153\n",
      "3 - test_accuracy: 0.17889967466956966\n",
      "finished experiment 6\n",
      "processing hyper-parameter 6 out of 9\n",
      "doing run 4 out of 5\n",
      "fixed rate, multiple epochs values\n",
      "running experiment 6\n",
      "run number: 4\n",
      "\n",
      "parameters:\n",
      "\tepochs=30,\n",
      "\tnoise=0.1,\n",
      "\toffset=0.1,\n",
      "\trate=0.03\n",
      "\n",
      "script: /mnt/athena/hpsearch/hpsearch/examples/dummy_experiment_manager.py, line number: 212\n",
      "time spent on this experiment: 0.0035996437072753906\n",
      "4 - validation_accuracy: 0.21812887672904502\n",
      "4 - test_accuracy: 0.2544931611342568\n",
      "finished experiment 6\n",
      "processing hyper-parameter 7 out of 9\n",
      "doing run 0 out of 5\n",
      "fixed rate, multiple epochs values\n",
      "running experiment 7\n",
      "run number: 0\n",
      "\n",
      "parameters:\n",
      "\tepochs=30,\n",
      "\tnoise=0.1,\n",
      "\toffset=0.3,\n",
      "\trate=0.03\n",
      "\n",
      "script: /mnt/athena/hpsearch/hpsearch/examples/dummy_experiment_manager.py, line number: 212\n",
      "time spent on this experiment: 0.0034935474395751953\n",
      "0 - validation_accuracy: 0.679427752142139\n",
      "0 - test_accuracy: 0.6597751467247771\n",
      "finished experiment 7\n",
      "processing hyper-parameter 7 out of 9\n",
      "doing run 1 out of 5\n",
      "fixed rate, multiple epochs values\n",
      "running experiment 7\n",
      "run number: 1\n",
      "\n",
      "parameters:\n",
      "\tepochs=30,\n",
      "\tnoise=0.1,\n",
      "\toffset=0.3,\n",
      "\trate=0.03\n",
      "\n",
      "script: /mnt/athena/hpsearch/hpsearch/examples/dummy_experiment_manager.py, line number: 212\n",
      "time spent on this experiment: 0.003493070602416992\n",
      "1 - validation_accuracy: 0.5505835228502074\n",
      "1 - test_accuracy: 0.25833148012716944\n"
     ]
    },
    {
     "name": "stdout",
     "output_type": "stream",
     "text": [
      "fitting model with 30 epochs\n",
      "epoch 0: accuracy: 0.13\n",
      "epoch 1: accuracy: 0.16\n",
      "epoch 2: accuracy: 0.19\n",
      "epoch 3: accuracy: 0.22\n",
      "epoch 4: accuracy: 0.25\n",
      "epoch 5: accuracy: 0.28\n",
      "epoch 6: accuracy: 0.31000000000000005\n",
      "epoch 7: accuracy: 0.3400000000000001\n",
      "epoch 8: accuracy: 0.3700000000000001\n",
      "epoch 9: accuracy: 0.40000000000000013\n",
      "epoch 10: accuracy: 0.43000000000000016\n",
      "epoch 11: accuracy: 0.4600000000000002\n",
      "epoch 12: accuracy: 0.4900000000000002\n",
      "epoch 13: accuracy: 0.5200000000000002\n",
      "epoch 14: accuracy: 0.5500000000000003\n",
      "epoch 15: accuracy: 0.5800000000000003\n",
      "epoch 16: accuracy: 0.6100000000000003\n",
      "epoch 17: accuracy: 0.6400000000000003\n",
      "epoch 18: accuracy: 0.6700000000000004\n",
      "epoch 19: accuracy: 0.7000000000000004\n",
      "epoch 20: accuracy: 0.6700000000000004\n",
      "epoch 21: accuracy: 0.6400000000000003\n",
      "epoch 22: accuracy: 0.6100000000000003\n",
      "epoch 23: accuracy: 0.5800000000000003\n",
      "epoch 24: accuracy: 0.5500000000000003\n",
      "epoch 25: accuracy: 0.5200000000000002\n",
      "epoch 26: accuracy: 0.4900000000000002\n",
      "epoch 27: accuracy: 0.4600000000000002\n",
      "epoch 28: accuracy: 0.43000000000000016\n",
      "epoch 29: accuracy: 0.40000000000000013\n",
      "registering\n",
      "fitting model with 30 epochs\n",
      "epoch 0: accuracy: 0.13\n",
      "epoch 1: accuracy: 0.16\n",
      "epoch 2: accuracy: 0.19\n",
      "epoch 3: accuracy: 0.22\n",
      "epoch 4: accuracy: 0.25\n",
      "epoch 5: accuracy: 0.28\n",
      "epoch 6: accuracy: 0.31000000000000005\n",
      "epoch 7: accuracy: 0.3400000000000001\n",
      "epoch 8: accuracy: 0.3700000000000001\n",
      "epoch 9: accuracy: 0.40000000000000013\n",
      "epoch 10: accuracy: 0.43000000000000016\n",
      "epoch 11: accuracy: 0.4600000000000002\n",
      "epoch 12: accuracy: 0.4900000000000002\n",
      "epoch 13: accuracy: 0.5200000000000002\n",
      "epoch 14: accuracy: 0.5500000000000003\n",
      "epoch 15: accuracy: 0.5800000000000003\n",
      "epoch 16: accuracy: 0.6100000000000003\n",
      "epoch 17: accuracy: 0.6400000000000003\n",
      "epoch 18: accuracy: 0.6700000000000004\n",
      "epoch 19: accuracy: 0.7000000000000004\n",
      "epoch 20: accuracy: 0.6700000000000004\n",
      "epoch 21: accuracy: 0.6400000000000003\n",
      "epoch 22: accuracy: 0.6100000000000003\n",
      "epoch 23: accuracy: 0.5800000000000003\n",
      "epoch 24: accuracy: 0.5500000000000003\n",
      "epoch 25: accuracy: 0.5200000000000002\n",
      "epoch 26: accuracy: 0.4900000000000002\n",
      "epoch 27: accuracy: 0.4600000000000002\n",
      "epoch 28: accuracy: 0.43000000000000016\n",
      "epoch 29: accuracy: 0.40000000000000013\n",
      "registering\n",
      "fitting model with 30 epochs\n",
      "epoch 0: accuracy: 0.32999999999999996\n",
      "epoch 1: accuracy: 0.36\n",
      "epoch 2: accuracy: 0.39\n",
      "epoch 3: accuracy: 0.42000000000000004\n",
      "epoch 4: accuracy: 0.45000000000000007\n",
      "epoch 5: accuracy: 0.4800000000000001\n",
      "epoch 6: accuracy: 0.5100000000000001\n",
      "epoch 7: accuracy: 0.5400000000000001\n",
      "epoch 8: accuracy: 0.5700000000000002\n",
      "epoch 9: accuracy: 0.6000000000000002\n",
      "epoch 10: accuracy: 0.6300000000000002\n",
      "epoch 11: accuracy: 0.6600000000000003\n",
      "epoch 12: accuracy: 0.6900000000000003\n",
      "epoch 13: accuracy: 0.7200000000000003\n",
      "epoch 14: accuracy: 0.7500000000000003\n",
      "epoch 15: accuracy: 0.7800000000000004\n",
      "epoch 16: accuracy: 0.8100000000000004\n",
      "epoch 17: accuracy: 0.8400000000000004\n",
      "epoch 18: accuracy: 0.8700000000000004\n",
      "epoch 19: accuracy: 0.9000000000000005\n",
      "epoch 20: accuracy: 0.8700000000000004\n",
      "epoch 21: accuracy: 0.8400000000000004\n",
      "epoch 22: accuracy: 0.8100000000000004\n",
      "epoch 23: accuracy: 0.7800000000000004\n",
      "epoch 24: accuracy: 0.7500000000000003\n",
      "epoch 25: accuracy: 0.7200000000000003\n",
      "epoch 26: accuracy: 0.6900000000000003\n",
      "epoch 27: accuracy: 0.6600000000000003\n",
      "epoch 28: accuracy: 0.6300000000000002\n",
      "epoch 29: accuracy: 0.6000000000000002\n",
      "registering\n",
      "fitting model with 30 epochs\n",
      "epoch 0: accuracy: 0.32999999999999996\n",
      "epoch 1: accuracy: 0.36\n",
      "epoch 2: accuracy: 0.39\n",
      "epoch 3: accuracy: 0.42000000000000004\n",
      "epoch 4: accuracy: 0.45000000000000007\n",
      "epoch 5: accuracy: 0.4800000000000001\n",
      "epoch 6: accuracy: 0.5100000000000001\n",
      "epoch 7: accuracy: 0.5400000000000001\n",
      "epoch 8: accuracy: 0.5700000000000002\n",
      "epoch 9: accuracy: 0.6000000000000002\n",
      "epoch 10: accuracy: 0.6300000000000002\n",
      "epoch 11: accuracy: 0.6600000000000003\n",
      "epoch 12: accuracy: 0.6900000000000003\n",
      "epoch 13: accuracy: 0.7200000000000003\n",
      "epoch 14: accuracy: 0.7500000000000003\n",
      "epoch 15: accuracy: 0.7800000000000004\n",
      "epoch 16: accuracy: 0.8100000000000004\n",
      "epoch 17: accuracy: 0.8400000000000004\n",
      "epoch 18: accuracy: 0.8700000000000004\n",
      "epoch 19: accuracy: 0.9000000000000005\n",
      "epoch 20: accuracy: 0.8700000000000004\n",
      "epoch 21: accuracy: 0.8400000000000004\n",
      "epoch 22: accuracy: 0.8100000000000004\n",
      "epoch 23: accuracy: 0.7800000000000004\n",
      "epoch 24: accuracy: 0.7500000000000003\n",
      "epoch 25: accuracy: 0.7200000000000003\n",
      "epoch 26: accuracy: 0.6900000000000003\n",
      "epoch 27: accuracy: 0.6600000000000003\n",
      "epoch 28: accuracy: 0.6300000000000002\n",
      "epoch 29: accuracy: 0.6000000000000002\n"
     ]
    },
    {
     "name": "stderr",
     "output_type": "stream",
     "text": [
      "finished experiment 7\n",
      "processing hyper-parameter 7 out of 9\n",
      "doing run 2 out of 5\n",
      "fixed rate, multiple epochs values\n",
      "running experiment 7\n",
      "run number: 2\n",
      "\n",
      "parameters:\n",
      "\tepochs=30,\n",
      "\tnoise=0.1,\n",
      "\toffset=0.3,\n",
      "\trate=0.03\n",
      "\n",
      "script: /mnt/athena/hpsearch/hpsearch/examples/dummy_experiment_manager.py, line number: 212\n",
      "time spent on this experiment: 0.004267215728759766\n",
      "2 - validation_accuracy: 0.5618828437244182\n",
      "2 - test_accuracy: 0.5883677586265945\n",
      "finished experiment 7\n",
      "processing hyper-parameter 7 out of 9\n",
      "doing run 3 out of 5\n",
      "fixed rate, multiple epochs values\n",
      "running experiment 7\n",
      "run number: 3\n",
      "\n",
      "parameters:\n",
      "\tepochs=30,\n",
      "\tnoise=0.1,\n",
      "\toffset=0.3,\n",
      "\trate=0.03\n",
      "\n",
      "script: /mnt/athena/hpsearch/hpsearch/examples/dummy_experiment_manager.py, line number: 212\n",
      "time spent on this experiment: 0.003318309783935547\n",
      "3 - validation_accuracy: 0.5206366846652153\n",
      "3 - test_accuracy: 0.3438926213671081\n",
      "finished experiment 7\n",
      "processing hyper-parameter 7 out of 9\n",
      "doing run 4 out of 5\n",
      "fixed rate, multiple epochs values\n",
      "running experiment 7\n",
      "run number: 4\n",
      "\n",
      "parameters:\n",
      "\tepochs=30,\n",
      "\tnoise=0.1,\n",
      "\toffset=0.3,\n",
      "\trate=0.03\n",
      "\n",
      "script: /mnt/athena/hpsearch/hpsearch/examples/dummy_experiment_manager.py, line number: 212\n",
      "time spent on this experiment: 0.0037801265716552734\n",
      "4 - validation_accuracy: 0.6184379619916909\n",
      "4 - test_accuracy: 0.6026076959254419\n",
      "finished experiment 7\n",
      "processing hyper-parameter 8 out of 9\n",
      "doing run 0 out of 5\n",
      "fixed rate, multiple epochs values\n"
     ]
    },
    {
     "name": "stdout",
     "output_type": "stream",
     "text": [
      "registering\n",
      "fitting model with 30 epochs\n",
      "epoch 0: accuracy: 0.32999999999999996\n",
      "epoch 1: accuracy: 0.36\n",
      "epoch 2: accuracy: 0.39\n",
      "epoch 3: accuracy: 0.42000000000000004\n",
      "epoch 4: accuracy: 0.45000000000000007\n",
      "epoch 5: accuracy: 0.4800000000000001\n",
      "epoch 6: accuracy: 0.5100000000000001\n",
      "epoch 7: accuracy: 0.5400000000000001\n",
      "epoch 8: accuracy: 0.5700000000000002\n",
      "epoch 9: accuracy: 0.6000000000000002\n",
      "epoch 10: accuracy: 0.6300000000000002\n",
      "epoch 11: accuracy: 0.6600000000000003\n",
      "epoch 12: accuracy: 0.6900000000000003\n",
      "epoch 13: accuracy: 0.7200000000000003\n",
      "epoch 14: accuracy: 0.7500000000000003\n",
      "epoch 15: accuracy: 0.7800000000000004\n",
      "epoch 16: accuracy: 0.8100000000000004\n",
      "epoch 17: accuracy: 0.8400000000000004\n",
      "epoch 18: accuracy: 0.8700000000000004\n",
      "epoch 19: accuracy: 0.9000000000000005\n",
      "epoch 20: accuracy: 0.8700000000000004\n",
      "epoch 21: accuracy: 0.8400000000000004\n",
      "epoch 22: accuracy: 0.8100000000000004\n",
      "epoch 23: accuracy: 0.7800000000000004\n",
      "epoch 24: accuracy: 0.7500000000000003\n",
      "epoch 25: accuracy: 0.7200000000000003\n",
      "epoch 26: accuracy: 0.6900000000000003\n",
      "epoch 27: accuracy: 0.6600000000000003\n",
      "epoch 28: accuracy: 0.6300000000000002\n",
      "epoch 29: accuracy: 0.6000000000000002\n",
      "registering\n",
      "fitting model with 30 epochs\n",
      "epoch 0: accuracy: 0.32999999999999996\n",
      "epoch 1: accuracy: 0.36\n",
      "epoch 2: accuracy: 0.39\n",
      "epoch 3: accuracy: 0.42000000000000004\n",
      "epoch 4: accuracy: 0.45000000000000007\n",
      "epoch 5: accuracy: 0.4800000000000001\n",
      "epoch 6: accuracy: 0.5100000000000001\n",
      "epoch 7: accuracy: 0.5400000000000001\n",
      "epoch 8: accuracy: 0.5700000000000002\n",
      "epoch 9: accuracy: 0.6000000000000002\n",
      "epoch 10: accuracy: 0.6300000000000002\n",
      "epoch 11: accuracy: 0.6600000000000003\n",
      "epoch 12: accuracy: 0.6900000000000003\n",
      "epoch 13: accuracy: 0.7200000000000003\n",
      "epoch 14: accuracy: 0.7500000000000003\n",
      "epoch 15: accuracy: 0.7800000000000004\n",
      "epoch 16: accuracy: 0.8100000000000004\n",
      "epoch 17: accuracy: 0.8400000000000004\n",
      "epoch 18: accuracy: 0.8700000000000004\n",
      "epoch 19: accuracy: 0.9000000000000005\n",
      "epoch 20: accuracy: 0.8700000000000004\n",
      "epoch 21: accuracy: 0.8400000000000004\n",
      "epoch 22: accuracy: 0.8100000000000004\n",
      "epoch 23: accuracy: 0.7800000000000004\n",
      "epoch 24: accuracy: 0.7500000000000003\n",
      "epoch 25: accuracy: 0.7200000000000003\n",
      "epoch 26: accuracy: 0.6900000000000003\n",
      "epoch 27: accuracy: 0.6600000000000003\n",
      "epoch 28: accuracy: 0.6300000000000002\n",
      "epoch 29: accuracy: 0.6000000000000002\n",
      "registering\n",
      "fitting model with 30 epochs\n",
      "epoch 0: accuracy: 0.32999999999999996\n",
      "epoch 1: accuracy: 0.36\n",
      "epoch 2: accuracy: 0.39\n",
      "epoch 3: accuracy: 0.42000000000000004\n",
      "epoch 4: accuracy: 0.45000000000000007\n",
      "epoch 5: accuracy: 0.4800000000000001\n",
      "epoch 6: accuracy: 0.5100000000000001\n",
      "epoch 7: accuracy: 0.5400000000000001\n",
      "epoch 8: accuracy: 0.5700000000000002\n",
      "epoch 9: accuracy: 0.6000000000000002\n",
      "epoch 10: accuracy: 0.6300000000000002\n",
      "epoch 11: accuracy: 0.6600000000000003\n",
      "epoch 12: accuracy: 0.6900000000000003\n",
      "epoch 13: accuracy: 0.7200000000000003\n",
      "epoch 14: accuracy: 0.7500000000000003\n",
      "epoch 15: accuracy: 0.7800000000000004\n",
      "epoch 16: accuracy: 0.8100000000000004\n",
      "epoch 17: accuracy: 0.8400000000000004\n",
      "epoch 18: accuracy: 0.8700000000000004\n",
      "epoch 19: accuracy: 0.9000000000000005\n",
      "epoch 20: accuracy: 0.8700000000000004\n",
      "epoch 21: accuracy: 0.8400000000000004\n",
      "epoch 22: accuracy: 0.8100000000000004\n",
      "epoch 23: accuracy: 0.7800000000000004\n",
      "epoch 24: accuracy: 0.7500000000000003\n",
      "epoch 25: accuracy: 0.7200000000000003\n",
      "epoch 26: accuracy: 0.6900000000000003\n",
      "epoch 27: accuracy: 0.6600000000000003\n",
      "epoch 28: accuracy: 0.6300000000000002\n",
      "epoch 29: accuracy: 0.6000000000000002\n",
      "registering\n"
     ]
    },
    {
     "name": "stderr",
     "output_type": "stream",
     "text": [
      "running experiment 8\n",
      "run number: 0\n",
      "\n",
      "parameters:\n",
      "\tepochs=30,\n",
      "\tnoise=0.1,\n",
      "\toffset=0.6,\n",
      "\trate=0.03\n",
      "\n",
      "script: /mnt/athena/hpsearch/hpsearch/examples/dummy_experiment_manager.py, line number: 212\n",
      "time spent on this experiment: 0.0035250186920166016\n",
      "0 - validation_accuracy: 0.8635698410259941\n",
      "0 - test_accuracy: 0.8902738140605706\n",
      "finished experiment 8\n",
      "processing hyper-parameter 8 out of 9\n",
      "doing run 1 out of 5\n",
      "fixed rate, multiple epochs values\n",
      "running experiment 8\n",
      "run number: 1\n",
      "\n",
      "parameters:\n",
      "\tepochs=30,\n",
      "\tnoise=0.1,\n",
      "\toffset=0.6,\n",
      "\trate=0.03\n",
      "\n",
      "script: /mnt/athena/hpsearch/hpsearch/examples/dummy_experiment_manager.py, line number: 212\n",
      "time spent on this experiment: 0.003618001937866211\n",
      "1 - validation_accuracy: 0.6521662058585971\n",
      "1 - test_accuracy: 0.7482347327790277\n",
      "finished experiment 8\n",
      "processing hyper-parameter 8 out of 9\n",
      "doing run 2 out of 5\n",
      "fixed rate, multiple epochs values\n",
      "running experiment 8\n",
      "run number: 2\n",
      "\n",
      "parameters:\n",
      "\tepochs=30,\n",
      "\tnoise=0.1,\n",
      "\toffset=0.6,\n",
      "\trate=0.03\n",
      "\n",
      "script: /mnt/athena/hpsearch/hpsearch/examples/dummy_experiment_manager.py, line number: 212\n",
      "time spent on this experiment: 0.003922462463378906\n",
      "2 - validation_accuracy: 0.9117153759556175\n",
      "2 - test_accuracy: 0.7599822006395079\n",
      "finished experiment 8\n",
      "processing hyper-parameter 8 out of 9\n",
      "doing run 3 out of 5\n",
      "fixed rate, multiple epochs values\n",
      "running experiment 8\n",
      "run number: 3\n",
      "\n",
      "parameters:\n",
      "\tepochs=30,\n",
      "\tnoise=0.1,\n",
      "\toffset=0.6,\n",
      "\trate=0.03\n",
      "\n",
      "script: /mnt/athena/hpsearch/hpsearch/examples/dummy_experiment_manager.py, line number: 212\n",
      "time spent on this experiment: 0.0035440921783447266\n",
      "3 - validation_accuracy: 0.7651719811267723\n",
      "3 - test_accuracy: 0.7986818884226254\n",
      "finished experiment 8\n",
      "processing hyper-parameter 8 out of 9\n"
     ]
    },
    {
     "name": "stdout",
     "output_type": "stream",
     "text": [
      "fitting model with 30 epochs\n",
      "epoch 0: accuracy: 0.63\n",
      "epoch 1: accuracy: 0.66\n",
      "epoch 2: accuracy: 0.6900000000000001\n",
      "epoch 3: accuracy: 0.7200000000000001\n",
      "epoch 4: accuracy: 0.7500000000000001\n",
      "epoch 5: accuracy: 0.7800000000000001\n",
      "epoch 6: accuracy: 0.8100000000000002\n",
      "epoch 7: accuracy: 0.8400000000000002\n",
      "epoch 8: accuracy: 0.8700000000000002\n",
      "epoch 9: accuracy: 0.9000000000000002\n",
      "epoch 10: accuracy: 0.9300000000000003\n",
      "epoch 11: accuracy: 0.9600000000000003\n",
      "epoch 12: accuracy: 0.9900000000000003\n",
      "epoch 13: accuracy: 1.0200000000000002\n",
      "epoch 14: accuracy: 1.0500000000000003\n",
      "epoch 15: accuracy: 1.0800000000000003\n",
      "epoch 16: accuracy: 1.1100000000000003\n",
      "epoch 17: accuracy: 1.1400000000000003\n",
      "epoch 18: accuracy: 1.1700000000000004\n",
      "epoch 19: accuracy: 1.2000000000000004\n",
      "epoch 20: accuracy: 1.1700000000000004\n",
      "epoch 21: accuracy: 1.1400000000000003\n",
      "epoch 22: accuracy: 1.1100000000000003\n",
      "epoch 23: accuracy: 1.0800000000000003\n",
      "epoch 24: accuracy: 1.0500000000000003\n",
      "epoch 25: accuracy: 1.0200000000000002\n",
      "epoch 26: accuracy: 0.9900000000000002\n",
      "epoch 27: accuracy: 0.9600000000000002\n",
      "epoch 28: accuracy: 0.9300000000000002\n",
      "epoch 29: accuracy: 0.9000000000000001\n",
      "registering\n",
      "fitting model with 30 epochs\n",
      "epoch 0: accuracy: 0.63\n",
      "epoch 1: accuracy: 0.66\n",
      "epoch 2: accuracy: 0.6900000000000001\n",
      "epoch 3: accuracy: 0.7200000000000001\n",
      "epoch 4: accuracy: 0.7500000000000001\n",
      "epoch 5: accuracy: 0.7800000000000001\n",
      "epoch 6: accuracy: 0.8100000000000002\n",
      "epoch 7: accuracy: 0.8400000000000002\n",
      "epoch 8: accuracy: 0.8700000000000002\n",
      "epoch 9: accuracy: 0.9000000000000002\n",
      "epoch 10: accuracy: 0.9300000000000003\n",
      "epoch 11: accuracy: 0.9600000000000003\n",
      "epoch 12: accuracy: 0.9900000000000003\n",
      "epoch 13: accuracy: 1.0200000000000002\n",
      "epoch 14: accuracy: 1.0500000000000003\n",
      "epoch 15: accuracy: 1.0800000000000003\n",
      "epoch 16: accuracy: 1.1100000000000003\n",
      "epoch 17: accuracy: 1.1400000000000003\n",
      "epoch 18: accuracy: 1.1700000000000004\n",
      "epoch 19: accuracy: 1.2000000000000004\n",
      "epoch 20: accuracy: 1.1700000000000004\n",
      "epoch 21: accuracy: 1.1400000000000003\n",
      "epoch 22: accuracy: 1.1100000000000003\n",
      "epoch 23: accuracy: 1.0800000000000003\n",
      "epoch 24: accuracy: 1.0500000000000003\n",
      "epoch 25: accuracy: 1.0200000000000002\n",
      "epoch 26: accuracy: 0.9900000000000002\n",
      "epoch 27: accuracy: 0.9600000000000002\n",
      "epoch 28: accuracy: 0.9300000000000002\n",
      "epoch 29: accuracy: 0.9000000000000001\n",
      "registering\n",
      "fitting model with 30 epochs\n",
      "epoch 0: accuracy: 0.63\n",
      "epoch 1: accuracy: 0.66\n",
      "epoch 2: accuracy: 0.6900000000000001\n",
      "epoch 3: accuracy: 0.7200000000000001\n",
      "epoch 4: accuracy: 0.7500000000000001\n",
      "epoch 5: accuracy: 0.7800000000000001\n",
      "epoch 6: accuracy: 0.8100000000000002\n",
      "epoch 7: accuracy: 0.8400000000000002\n",
      "epoch 8: accuracy: 0.8700000000000002\n",
      "epoch 9: accuracy: 0.9000000000000002\n",
      "epoch 10: accuracy: 0.9300000000000003\n",
      "epoch 11: accuracy: 0.9600000000000003\n",
      "epoch 12: accuracy: 0.9900000000000003\n",
      "epoch 13: accuracy: 1.0200000000000002\n",
      "epoch 14: accuracy: 1.0500000000000003\n",
      "epoch 15: accuracy: 1.0800000000000003\n",
      "epoch 16: accuracy: 1.1100000000000003\n",
      "epoch 17: accuracy: 1.1400000000000003\n",
      "epoch 18: accuracy: 1.1700000000000004\n",
      "epoch 19: accuracy: 1.2000000000000004\n",
      "epoch 20: accuracy: 1.1700000000000004\n",
      "epoch 21: accuracy: 1.1400000000000003\n",
      "epoch 22: accuracy: 1.1100000000000003\n",
      "epoch 23: accuracy: 1.0800000000000003\n",
      "epoch 24: accuracy: 1.0500000000000003\n",
      "epoch 25: accuracy: 1.0200000000000002\n",
      "epoch 26: accuracy: 0.9900000000000002\n",
      "epoch 27: accuracy: 0.9600000000000002\n",
      "epoch 28: accuracy: 0.9300000000000002\n",
      "epoch 29: accuracy: 0.9000000000000001\n",
      "registering\n",
      "fitting model with 30 epochs\n",
      "epoch 0: accuracy: 0.63\n",
      "epoch 1: accuracy: 0.66\n",
      "epoch 2: accuracy: 0.6900000000000001\n",
      "epoch 3: accuracy: 0.7200000000000001\n",
      "epoch 4: accuracy: 0.7500000000000001\n",
      "epoch 5: accuracy: 0.7800000000000001\n",
      "epoch 6: accuracy: 0.8100000000000002\n",
      "epoch 7: accuracy: 0.8400000000000002\n",
      "epoch 8: accuracy: 0.8700000000000002\n",
      "epoch 9: accuracy: 0.9000000000000002\n",
      "epoch 10: accuracy: 0.9300000000000003\n",
      "epoch 11: accuracy: 0.9600000000000003\n",
      "epoch 12: accuracy: 0.9900000000000003\n",
      "epoch 13: accuracy: 1.0200000000000002\n",
      "epoch 14: accuracy: 1.0500000000000003\n",
      "epoch 15: accuracy: 1.0800000000000003\n",
      "epoch 16: accuracy: 1.1100000000000003\n",
      "epoch 17: accuracy: 1.1400000000000003\n",
      "epoch 18: accuracy: 1.1700000000000004\n",
      "epoch 19: accuracy: 1.2000000000000004\n",
      "epoch 20: accuracy: 1.1700000000000004\n",
      "epoch 21: accuracy: 1.1400000000000003\n",
      "epoch 22: accuracy: 1.1100000000000003\n",
      "epoch 23: accuracy: 1.0800000000000003\n",
      "epoch 24: accuracy: 1.0500000000000003\n",
      "epoch 25: accuracy: 1.0200000000000002\n",
      "epoch 26: accuracy: 0.9900000000000002\n",
      "epoch 27: accuracy: 0.9600000000000002\n",
      "epoch 28: accuracy: 0.9300000000000002\n",
      "epoch 29: accuracy: 0.9000000000000001\n"
     ]
    },
    {
     "name": "stderr",
     "output_type": "stream",
     "text": [
      "doing run 4 out of 5\n",
      "fixed rate, multiple epochs values\n",
      "running experiment 8\n",
      "run number: 4\n",
      "\n",
      "parameters:\n",
      "\tepochs=30,\n",
      "\tnoise=0.1,\n",
      "\toffset=0.6,\n",
      "\trate=0.03\n",
      "\n",
      "script: /mnt/athena/hpsearch/hpsearch/examples/dummy_experiment_manager.py, line number: 212\n",
      "time spent on this experiment: 0.0036454200744628906\n",
      "4 - validation_accuracy: 0.808500772953279\n",
      "4 - test_accuracy: 0.7626434747760414\n",
      "finished experiment 8\n"
     ]
    },
    {
     "name": "stdout",
     "output_type": "stream",
     "text": [
      "registering\n",
      "fitting model with 30 epochs\n",
      "epoch 0: accuracy: 0.63\n",
      "epoch 1: accuracy: 0.66\n",
      "epoch 2: accuracy: 0.6900000000000001\n",
      "epoch 3: accuracy: 0.7200000000000001\n",
      "epoch 4: accuracy: 0.7500000000000001\n",
      "epoch 5: accuracy: 0.7800000000000001\n",
      "epoch 6: accuracy: 0.8100000000000002\n",
      "epoch 7: accuracy: 0.8400000000000002\n",
      "epoch 8: accuracy: 0.8700000000000002\n",
      "epoch 9: accuracy: 0.9000000000000002\n",
      "epoch 10: accuracy: 0.9300000000000003\n",
      "epoch 11: accuracy: 0.9600000000000003\n",
      "epoch 12: accuracy: 0.9900000000000003\n",
      "epoch 13: accuracy: 1.0200000000000002\n",
      "epoch 14: accuracy: 1.0500000000000003\n",
      "epoch 15: accuracy: 1.0800000000000003\n",
      "epoch 16: accuracy: 1.1100000000000003\n",
      "epoch 17: accuracy: 1.1400000000000003\n",
      "epoch 18: accuracy: 1.1700000000000004\n",
      "epoch 19: accuracy: 1.2000000000000004\n",
      "epoch 20: accuracy: 1.1700000000000004\n",
      "epoch 21: accuracy: 1.1400000000000003\n",
      "epoch 22: accuracy: 1.1100000000000003\n",
      "epoch 23: accuracy: 1.0800000000000003\n",
      "epoch 24: accuracy: 1.0500000000000003\n",
      "epoch 25: accuracy: 1.0200000000000002\n",
      "epoch 26: accuracy: 0.9900000000000002\n",
      "epoch 27: accuracy: 0.9600000000000002\n",
      "epoch 28: accuracy: 0.9300000000000002\n",
      "epoch 29: accuracy: 0.9000000000000001\n"
     ]
    }
   ],
   "source": [
    "#collapse_output\n",
    "from hpsearch.examples.dummy_experiment_manager import remove_previous_experiments, run_multiple_experiments\n",
    "\n",
    "remove_previous_experiments()\n",
    "run_multiple_experiments(nruns=5, noise=0.1)"
   ]
  },
  {
   "cell_type": "code",
   "execution_count": null,
   "metadata": {},
   "outputs": [
    {
     "data": {
      "text/html": [
       "        <script type=\"text/javascript\">\n",
       "        window.PlotlyConfig = {MathJaxConfig: 'local'};\n",
       "        if (window.MathJax) {MathJax.Hub.Config({SVG: {font: \"STIX-Web\"}});}\n",
       "        if (typeof require !== 'undefined') {\n",
       "        require.undef(\"plotly\");\n",
       "        requirejs.config({\n",
       "            paths: {\n",
       "                'plotly': ['https://cdn.plot.ly/plotly-latest.min']\n",
       "            }\n",
       "        });\n",
       "        require(['plotly'], function(Plotly) {\n",
       "            window._Plotly = Plotly;\n",
       "        });\n",
       "        }\n",
       "        </script>\n",
       "        "
      ]
     },
     "metadata": {},
     "output_type": "display_data"
    },
    {
     "data": {
      "application/vnd.plotly.v1+json": {
       "config": {
        "linkText": "Export to plot.ly",
        "plotlyServerURL": "https://plot.ly",
        "showLink": false
       },
       "data": [
        {
         "mode": "markers+lines",
         "name": "8",
         "type": "scatter",
         "x": [
          0,
          1,
          2,
          3,
          4,
          5,
          6,
          7,
          8,
          9,
          10,
          11,
          12,
          13,
          14,
          15,
          16,
          17,
          18,
          19,
          20,
          21,
          22,
          23,
          24,
          25,
          26,
          27,
          28,
          29
         ],
         "y": [
          0.6787101149562891,
          0.6274637656888755,
          0.5416861161645714,
          0.662182100906714,
          0.7929818668902773,
          0.8834790906713232,
          0.8391546701782541,
          0.6783288062393006,
          0.8801804759936689,
          0.8897559297422386,
          1,
          1,
          1,
          0.9943050386312892,
          1,
          1,
          1,
          1,
          1,
          1,
          1,
          1,
          1,
          1,
          1,
          0.8906189234509277,
          0.9356960942864175,
          0.9777983093084717,
          0.8747718554467859,
          0.9488060324066379
         ]
        },
        {
         "marker": {
          "color": "red",
          "size": 10,
          "symbol": 104
         },
         "mode": "markers",
         "name": "",
         "type": "scatter",
         "x": [
          10
         ],
         "y": [
          1
         ]
        },
        {
         "mode": "markers+lines",
         "name": "5",
         "type": "scatter",
         "x": [
          0,
          1,
          2,
          3,
          4,
          5,
          6,
          7,
          8,
          9,
          10,
          11,
          12,
          13,
          14
         ],
         "y": [
          0.44837075526676656,
          0.6503990774829256,
          0.6176142926834308,
          0.8660564036808407,
          0.7311976408750922,
          0.7542265140555082,
          0.718341284181767,
          0.6559984741947595,
          0.771209582479806,
          0.7494242678231718,
          0.9591838307630655,
          0.9518154454517487,
          0.8407964607586869,
          1,
          0.997293639648051
         ]
        },
        {
         "marker": {
          "color": "red",
          "size": 10,
          "symbol": 104
         },
         "mode": "markers",
         "name": "",
         "type": "scatter",
         "x": [
          13
         ],
         "y": [
          1
         ]
        }
       ],
       "layout": {
        "template": {
         "data": {
          "bar": [
           {
            "error_x": {
             "color": "#2a3f5f"
            },
            "error_y": {
             "color": "#2a3f5f"
            },
            "marker": {
             "line": {
              "color": "#E5ECF6",
              "width": 0.5
             }
            },
            "type": "bar"
           }
          ],
          "barpolar": [
           {
            "marker": {
             "line": {
              "color": "#E5ECF6",
              "width": 0.5
             }
            },
            "type": "barpolar"
           }
          ],
          "carpet": [
           {
            "aaxis": {
             "endlinecolor": "#2a3f5f",
             "gridcolor": "white",
             "linecolor": "white",
             "minorgridcolor": "white",
             "startlinecolor": "#2a3f5f"
            },
            "baxis": {
             "endlinecolor": "#2a3f5f",
             "gridcolor": "white",
             "linecolor": "white",
             "minorgridcolor": "white",
             "startlinecolor": "#2a3f5f"
            },
            "type": "carpet"
           }
          ],
          "choropleth": [
           {
            "colorbar": {
             "outlinewidth": 0,
             "ticks": ""
            },
            "type": "choropleth"
           }
          ],
          "contour": [
           {
            "colorbar": {
             "outlinewidth": 0,
             "ticks": ""
            },
            "colorscale": [
             [
              0,
              "#0d0887"
             ],
             [
              0.1111111111111111,
              "#46039f"
             ],
             [
              0.2222222222222222,
              "#7201a8"
             ],
             [
              0.3333333333333333,
              "#9c179e"
             ],
             [
              0.4444444444444444,
              "#bd3786"
             ],
             [
              0.5555555555555556,
              "#d8576b"
             ],
             [
              0.6666666666666666,
              "#ed7953"
             ],
             [
              0.7777777777777778,
              "#fb9f3a"
             ],
             [
              0.8888888888888888,
              "#fdca26"
             ],
             [
              1,
              "#f0f921"
             ]
            ],
            "type": "contour"
           }
          ],
          "contourcarpet": [
           {
            "colorbar": {
             "outlinewidth": 0,
             "ticks": ""
            },
            "type": "contourcarpet"
           }
          ],
          "heatmap": [
           {
            "colorbar": {
             "outlinewidth": 0,
             "ticks": ""
            },
            "colorscale": [
             [
              0,
              "#0d0887"
             ],
             [
              0.1111111111111111,
              "#46039f"
             ],
             [
              0.2222222222222222,
              "#7201a8"
             ],
             [
              0.3333333333333333,
              "#9c179e"
             ],
             [
              0.4444444444444444,
              "#bd3786"
             ],
             [
              0.5555555555555556,
              "#d8576b"
             ],
             [
              0.6666666666666666,
              "#ed7953"
             ],
             [
              0.7777777777777778,
              "#fb9f3a"
             ],
             [
              0.8888888888888888,
              "#fdca26"
             ],
             [
              1,
              "#f0f921"
             ]
            ],
            "type": "heatmap"
           }
          ],
          "heatmapgl": [
           {
            "colorbar": {
             "outlinewidth": 0,
             "ticks": ""
            },
            "colorscale": [
             [
              0,
              "#0d0887"
             ],
             [
              0.1111111111111111,
              "#46039f"
             ],
             [
              0.2222222222222222,
              "#7201a8"
             ],
             [
              0.3333333333333333,
              "#9c179e"
             ],
             [
              0.4444444444444444,
              "#bd3786"
             ],
             [
              0.5555555555555556,
              "#d8576b"
             ],
             [
              0.6666666666666666,
              "#ed7953"
             ],
             [
              0.7777777777777778,
              "#fb9f3a"
             ],
             [
              0.8888888888888888,
              "#fdca26"
             ],
             [
              1,
              "#f0f921"
             ]
            ],
            "type": "heatmapgl"
           }
          ],
          "histogram": [
           {
            "marker": {
             "colorbar": {
              "outlinewidth": 0,
              "ticks": ""
             }
            },
            "type": "histogram"
           }
          ],
          "histogram2d": [
           {
            "colorbar": {
             "outlinewidth": 0,
             "ticks": ""
            },
            "colorscale": [
             [
              0,
              "#0d0887"
             ],
             [
              0.1111111111111111,
              "#46039f"
             ],
             [
              0.2222222222222222,
              "#7201a8"
             ],
             [
              0.3333333333333333,
              "#9c179e"
             ],
             [
              0.4444444444444444,
              "#bd3786"
             ],
             [
              0.5555555555555556,
              "#d8576b"
             ],
             [
              0.6666666666666666,
              "#ed7953"
             ],
             [
              0.7777777777777778,
              "#fb9f3a"
             ],
             [
              0.8888888888888888,
              "#fdca26"
             ],
             [
              1,
              "#f0f921"
             ]
            ],
            "type": "histogram2d"
           }
          ],
          "histogram2dcontour": [
           {
            "colorbar": {
             "outlinewidth": 0,
             "ticks": ""
            },
            "colorscale": [
             [
              0,
              "#0d0887"
             ],
             [
              0.1111111111111111,
              "#46039f"
             ],
             [
              0.2222222222222222,
              "#7201a8"
             ],
             [
              0.3333333333333333,
              "#9c179e"
             ],
             [
              0.4444444444444444,
              "#bd3786"
             ],
             [
              0.5555555555555556,
              "#d8576b"
             ],
             [
              0.6666666666666666,
              "#ed7953"
             ],
             [
              0.7777777777777778,
              "#fb9f3a"
             ],
             [
              0.8888888888888888,
              "#fdca26"
             ],
             [
              1,
              "#f0f921"
             ]
            ],
            "type": "histogram2dcontour"
           }
          ],
          "mesh3d": [
           {
            "colorbar": {
             "outlinewidth": 0,
             "ticks": ""
            },
            "type": "mesh3d"
           }
          ],
          "parcoords": [
           {
            "line": {
             "colorbar": {
              "outlinewidth": 0,
              "ticks": ""
             }
            },
            "type": "parcoords"
           }
          ],
          "pie": [
           {
            "automargin": true,
            "type": "pie"
           }
          ],
          "scatter": [
           {
            "marker": {
             "colorbar": {
              "outlinewidth": 0,
              "ticks": ""
             }
            },
            "type": "scatter"
           }
          ],
          "scatter3d": [
           {
            "line": {
             "colorbar": {
              "outlinewidth": 0,
              "ticks": ""
             }
            },
            "marker": {
             "colorbar": {
              "outlinewidth": 0,
              "ticks": ""
             }
            },
            "type": "scatter3d"
           }
          ],
          "scattercarpet": [
           {
            "marker": {
             "colorbar": {
              "outlinewidth": 0,
              "ticks": ""
             }
            },
            "type": "scattercarpet"
           }
          ],
          "scattergeo": [
           {
            "marker": {
             "colorbar": {
              "outlinewidth": 0,
              "ticks": ""
             }
            },
            "type": "scattergeo"
           }
          ],
          "scattergl": [
           {
            "marker": {
             "colorbar": {
              "outlinewidth": 0,
              "ticks": ""
             }
            },
            "type": "scattergl"
           }
          ],
          "scattermapbox": [
           {
            "marker": {
             "colorbar": {
              "outlinewidth": 0,
              "ticks": ""
             }
            },
            "type": "scattermapbox"
           }
          ],
          "scatterpolar": [
           {
            "marker": {
             "colorbar": {
              "outlinewidth": 0,
              "ticks": ""
             }
            },
            "type": "scatterpolar"
           }
          ],
          "scatterpolargl": [
           {
            "marker": {
             "colorbar": {
              "outlinewidth": 0,
              "ticks": ""
             }
            },
            "type": "scatterpolargl"
           }
          ],
          "scatterternary": [
           {
            "marker": {
             "colorbar": {
              "outlinewidth": 0,
              "ticks": ""
             }
            },
            "type": "scatterternary"
           }
          ],
          "surface": [
           {
            "colorbar": {
             "outlinewidth": 0,
             "ticks": ""
            },
            "colorscale": [
             [
              0,
              "#0d0887"
             ],
             [
              0.1111111111111111,
              "#46039f"
             ],
             [
              0.2222222222222222,
              "#7201a8"
             ],
             [
              0.3333333333333333,
              "#9c179e"
             ],
             [
              0.4444444444444444,
              "#bd3786"
             ],
             [
              0.5555555555555556,
              "#d8576b"
             ],
             [
              0.6666666666666666,
              "#ed7953"
             ],
             [
              0.7777777777777778,
              "#fb9f3a"
             ],
             [
              0.8888888888888888,
              "#fdca26"
             ],
             [
              1,
              "#f0f921"
             ]
            ],
            "type": "surface"
           }
          ],
          "table": [
           {
            "cells": {
             "fill": {
              "color": "#EBF0F8"
             },
             "line": {
              "color": "white"
             }
            },
            "header": {
             "fill": {
              "color": "#C8D4E3"
             },
             "line": {
              "color": "white"
             }
            },
            "type": "table"
           }
          ]
         },
         "layout": {
          "annotationdefaults": {
           "arrowcolor": "#2a3f5f",
           "arrowhead": 0,
           "arrowwidth": 1
          },
          "autotypenumbers": "strict",
          "coloraxis": {
           "colorbar": {
            "outlinewidth": 0,
            "ticks": ""
           }
          },
          "colorscale": {
           "diverging": [
            [
             0,
             "#8e0152"
            ],
            [
             0.1,
             "#c51b7d"
            ],
            [
             0.2,
             "#de77ae"
            ],
            [
             0.3,
             "#f1b6da"
            ],
            [
             0.4,
             "#fde0ef"
            ],
            [
             0.5,
             "#f7f7f7"
            ],
            [
             0.6,
             "#e6f5d0"
            ],
            [
             0.7,
             "#b8e186"
            ],
            [
             0.8,
             "#7fbc41"
            ],
            [
             0.9,
             "#4d9221"
            ],
            [
             1,
             "#276419"
            ]
           ],
           "sequential": [
            [
             0,
             "#0d0887"
            ],
            [
             0.1111111111111111,
             "#46039f"
            ],
            [
             0.2222222222222222,
             "#7201a8"
            ],
            [
             0.3333333333333333,
             "#9c179e"
            ],
            [
             0.4444444444444444,
             "#bd3786"
            ],
            [
             0.5555555555555556,
             "#d8576b"
            ],
            [
             0.6666666666666666,
             "#ed7953"
            ],
            [
             0.7777777777777778,
             "#fb9f3a"
            ],
            [
             0.8888888888888888,
             "#fdca26"
            ],
            [
             1,
             "#f0f921"
            ]
           ],
           "sequentialminus": [
            [
             0,
             "#0d0887"
            ],
            [
             0.1111111111111111,
             "#46039f"
            ],
            [
             0.2222222222222222,
             "#7201a8"
            ],
            [
             0.3333333333333333,
             "#9c179e"
            ],
            [
             0.4444444444444444,
             "#bd3786"
            ],
            [
             0.5555555555555556,
             "#d8576b"
            ],
            [
             0.6666666666666666,
             "#ed7953"
            ],
            [
             0.7777777777777778,
             "#fb9f3a"
            ],
            [
             0.8888888888888888,
             "#fdca26"
            ],
            [
             1,
             "#f0f921"
            ]
           ]
          },
          "colorway": [
           "#636efa",
           "#EF553B",
           "#00cc96",
           "#ab63fa",
           "#FFA15A",
           "#19d3f3",
           "#FF6692",
           "#B6E880",
           "#FF97FF",
           "#FECB52"
          ],
          "font": {
           "color": "#2a3f5f"
          },
          "geo": {
           "bgcolor": "white",
           "lakecolor": "white",
           "landcolor": "#E5ECF6",
           "showlakes": true,
           "showland": true,
           "subunitcolor": "white"
          },
          "hoverlabel": {
           "align": "left"
          },
          "hovermode": "closest",
          "mapbox": {
           "style": "light"
          },
          "paper_bgcolor": "white",
          "plot_bgcolor": "#E5ECF6",
          "polar": {
           "angularaxis": {
            "gridcolor": "white",
            "linecolor": "white",
            "ticks": ""
           },
           "bgcolor": "#E5ECF6",
           "radialaxis": {
            "gridcolor": "white",
            "linecolor": "white",
            "ticks": ""
           }
          },
          "scene": {
           "xaxis": {
            "backgroundcolor": "#E5ECF6",
            "gridcolor": "white",
            "gridwidth": 2,
            "linecolor": "white",
            "showbackground": true,
            "ticks": "",
            "zerolinecolor": "white"
           },
           "yaxis": {
            "backgroundcolor": "#E5ECF6",
            "gridcolor": "white",
            "gridwidth": 2,
            "linecolor": "white",
            "showbackground": true,
            "ticks": "",
            "zerolinecolor": "white"
           },
           "zaxis": {
            "backgroundcolor": "#E5ECF6",
            "gridcolor": "white",
            "gridwidth": 2,
            "linecolor": "white",
            "showbackground": true,
            "ticks": "",
            "zerolinecolor": "white"
           }
          },
          "shapedefaults": {
           "line": {
            "color": "#2a3f5f"
           }
          },
          "ternary": {
           "aaxis": {
            "gridcolor": "white",
            "linecolor": "white",
            "ticks": ""
           },
           "baxis": {
            "gridcolor": "white",
            "linecolor": "white",
            "ticks": ""
           },
           "bgcolor": "#E5ECF6",
           "caxis": {
            "gridcolor": "white",
            "linecolor": "white",
            "ticks": ""
           }
          },
          "title": {
           "x": 0.05
          },
          "xaxis": {
           "automargin": true,
           "gridcolor": "white",
           "linecolor": "white",
           "ticks": "",
           "title": {
            "standoff": 15
           },
           "zerolinecolor": "white",
           "zerolinewidth": 2
          },
          "yaxis": {
           "automargin": true,
           "gridcolor": "white",
           "linecolor": "white",
           "ticks": "",
           "title": {
            "standoff": 15
           },
           "zerolinecolor": "white",
           "zerolinewidth": 2
          }
         }
        },
        "title": {
         "text": "validation_accuracy [8]: 1.00 [5]: 1.00"
        },
        "xaxis": {
         "title": {
          "text": "epoch"
         }
        },
        "yaxis": {
         "title": {
          "text": "validation_accuracy"
         }
        }
       }
      },
      "text/html": [
       "<div>                            <div id=\"a05f40c3-a726-49e2-ab48-1a90e3583bae\" class=\"plotly-graph-div\" style=\"height:525px; width:100%;\"></div>            <script type=\"text/javascript\">                require([\"plotly\"], function(Plotly) {                    window.PLOTLYENV=window.PLOTLYENV || {};                                    if (document.getElementById(\"a05f40c3-a726-49e2-ab48-1a90e3583bae\")) {                    Plotly.newPlot(                        \"a05f40c3-a726-49e2-ab48-1a90e3583bae\",                        [{\"mode\": \"markers+lines\", \"name\": \"8\", \"type\": \"scatter\", \"x\": [0, 1, 2, 3, 4, 5, 6, 7, 8, 9, 10, 11, 12, 13, 14, 15, 16, 17, 18, 19, 20, 21, 22, 23, 24, 25, 26, 27, 28, 29], \"y\": [0.6787101149562891, 0.6274637656888755, 0.5416861161645714, 0.662182100906714, 0.7929818668902773, 0.8834790906713232, 0.8391546701782541, 0.6783288062393006, 0.8801804759936689, 0.8897559297422386, 1.0, 1.0, 1.0, 0.9943050386312892, 1.0, 1.0, 1.0, 1.0, 1.0, 1.0, 1.0, 1.0, 1.0, 1.0, 1.0, 0.8906189234509277, 0.9356960942864175, 0.9777983093084717, 0.8747718554467859, 0.9488060324066379]}, {\"marker\": {\"color\": \"red\", \"size\": 10, \"symbol\": 104}, \"mode\": \"markers\", \"name\": \"\", \"type\": \"scatter\", \"x\": [10], \"y\": [1.0]}, {\"mode\": \"markers+lines\", \"name\": \"5\", \"type\": \"scatter\", \"x\": [0, 1, 2, 3, 4, 5, 6, 7, 8, 9, 10, 11, 12, 13, 14], \"y\": [0.44837075526676656, 0.6503990774829256, 0.6176142926834308, 0.8660564036808407, 0.7311976408750922, 0.7542265140555082, 0.718341284181767, 0.6559984741947595, 0.771209582479806, 0.7494242678231718, 0.9591838307630655, 0.9518154454517487, 0.8407964607586869, 1.0, 0.997293639648051]}, {\"marker\": {\"color\": \"red\", \"size\": 10, \"symbol\": 104}, \"mode\": \"markers\", \"name\": \"\", \"type\": \"scatter\", \"x\": [13], \"y\": [1.0]}],                        {\"template\": {\"data\": {\"bar\": [{\"error_x\": {\"color\": \"#2a3f5f\"}, \"error_y\": {\"color\": \"#2a3f5f\"}, \"marker\": {\"line\": {\"color\": \"#E5ECF6\", \"width\": 0.5}}, \"type\": \"bar\"}], \"barpolar\": [{\"marker\": {\"line\": {\"color\": \"#E5ECF6\", \"width\": 0.5}}, \"type\": \"barpolar\"}], \"carpet\": [{\"aaxis\": {\"endlinecolor\": \"#2a3f5f\", \"gridcolor\": \"white\", \"linecolor\": \"white\", \"minorgridcolor\": \"white\", \"startlinecolor\": \"#2a3f5f\"}, \"baxis\": {\"endlinecolor\": \"#2a3f5f\", \"gridcolor\": \"white\", \"linecolor\": \"white\", \"minorgridcolor\": \"white\", \"startlinecolor\": \"#2a3f5f\"}, \"type\": \"carpet\"}], \"choropleth\": [{\"colorbar\": {\"outlinewidth\": 0, \"ticks\": \"\"}, \"type\": \"choropleth\"}], \"contour\": [{\"colorbar\": {\"outlinewidth\": 0, \"ticks\": \"\"}, \"colorscale\": [[0.0, \"#0d0887\"], [0.1111111111111111, \"#46039f\"], [0.2222222222222222, \"#7201a8\"], [0.3333333333333333, \"#9c179e\"], [0.4444444444444444, \"#bd3786\"], [0.5555555555555556, \"#d8576b\"], [0.6666666666666666, \"#ed7953\"], [0.7777777777777778, \"#fb9f3a\"], [0.8888888888888888, \"#fdca26\"], [1.0, \"#f0f921\"]], \"type\": \"contour\"}], \"contourcarpet\": [{\"colorbar\": {\"outlinewidth\": 0, \"ticks\": \"\"}, \"type\": \"contourcarpet\"}], \"heatmap\": [{\"colorbar\": {\"outlinewidth\": 0, \"ticks\": \"\"}, \"colorscale\": [[0.0, \"#0d0887\"], [0.1111111111111111, \"#46039f\"], [0.2222222222222222, \"#7201a8\"], [0.3333333333333333, \"#9c179e\"], [0.4444444444444444, \"#bd3786\"], [0.5555555555555556, \"#d8576b\"], [0.6666666666666666, \"#ed7953\"], [0.7777777777777778, \"#fb9f3a\"], [0.8888888888888888, \"#fdca26\"], [1.0, \"#f0f921\"]], \"type\": \"heatmap\"}], \"heatmapgl\": [{\"colorbar\": {\"outlinewidth\": 0, \"ticks\": \"\"}, \"colorscale\": [[0.0, \"#0d0887\"], [0.1111111111111111, \"#46039f\"], [0.2222222222222222, \"#7201a8\"], [0.3333333333333333, \"#9c179e\"], [0.4444444444444444, \"#bd3786\"], [0.5555555555555556, \"#d8576b\"], [0.6666666666666666, \"#ed7953\"], [0.7777777777777778, \"#fb9f3a\"], [0.8888888888888888, \"#fdca26\"], [1.0, \"#f0f921\"]], \"type\": \"heatmapgl\"}], \"histogram\": [{\"marker\": {\"colorbar\": {\"outlinewidth\": 0, \"ticks\": \"\"}}, \"type\": \"histogram\"}], \"histogram2d\": [{\"colorbar\": {\"outlinewidth\": 0, \"ticks\": \"\"}, \"colorscale\": [[0.0, \"#0d0887\"], [0.1111111111111111, \"#46039f\"], [0.2222222222222222, \"#7201a8\"], [0.3333333333333333, \"#9c179e\"], [0.4444444444444444, \"#bd3786\"], [0.5555555555555556, \"#d8576b\"], [0.6666666666666666, \"#ed7953\"], [0.7777777777777778, \"#fb9f3a\"], [0.8888888888888888, \"#fdca26\"], [1.0, \"#f0f921\"]], \"type\": \"histogram2d\"}], \"histogram2dcontour\": [{\"colorbar\": {\"outlinewidth\": 0, \"ticks\": \"\"}, \"colorscale\": [[0.0, \"#0d0887\"], [0.1111111111111111, \"#46039f\"], [0.2222222222222222, \"#7201a8\"], [0.3333333333333333, \"#9c179e\"], [0.4444444444444444, \"#bd3786\"], [0.5555555555555556, \"#d8576b\"], [0.6666666666666666, \"#ed7953\"], [0.7777777777777778, \"#fb9f3a\"], [0.8888888888888888, \"#fdca26\"], [1.0, \"#f0f921\"]], \"type\": \"histogram2dcontour\"}], \"mesh3d\": [{\"colorbar\": {\"outlinewidth\": 0, \"ticks\": \"\"}, \"type\": \"mesh3d\"}], \"parcoords\": [{\"line\": {\"colorbar\": {\"outlinewidth\": 0, \"ticks\": \"\"}}, \"type\": \"parcoords\"}], \"pie\": [{\"automargin\": true, \"type\": \"pie\"}], \"scatter\": [{\"marker\": {\"colorbar\": {\"outlinewidth\": 0, \"ticks\": \"\"}}, \"type\": \"scatter\"}], \"scatter3d\": [{\"line\": {\"colorbar\": {\"outlinewidth\": 0, \"ticks\": \"\"}}, \"marker\": {\"colorbar\": {\"outlinewidth\": 0, \"ticks\": \"\"}}, \"type\": \"scatter3d\"}], \"scattercarpet\": [{\"marker\": {\"colorbar\": {\"outlinewidth\": 0, \"ticks\": \"\"}}, \"type\": \"scattercarpet\"}], \"scattergeo\": [{\"marker\": {\"colorbar\": {\"outlinewidth\": 0, \"ticks\": \"\"}}, \"type\": \"scattergeo\"}], \"scattergl\": [{\"marker\": {\"colorbar\": {\"outlinewidth\": 0, \"ticks\": \"\"}}, \"type\": \"scattergl\"}], \"scattermapbox\": [{\"marker\": {\"colorbar\": {\"outlinewidth\": 0, \"ticks\": \"\"}}, \"type\": \"scattermapbox\"}], \"scatterpolar\": [{\"marker\": {\"colorbar\": {\"outlinewidth\": 0, \"ticks\": \"\"}}, \"type\": \"scatterpolar\"}], \"scatterpolargl\": [{\"marker\": {\"colorbar\": {\"outlinewidth\": 0, \"ticks\": \"\"}}, \"type\": \"scatterpolargl\"}], \"scatterternary\": [{\"marker\": {\"colorbar\": {\"outlinewidth\": 0, \"ticks\": \"\"}}, \"type\": \"scatterternary\"}], \"surface\": [{\"colorbar\": {\"outlinewidth\": 0, \"ticks\": \"\"}, \"colorscale\": [[0.0, \"#0d0887\"], [0.1111111111111111, \"#46039f\"], [0.2222222222222222, \"#7201a8\"], [0.3333333333333333, \"#9c179e\"], [0.4444444444444444, \"#bd3786\"], [0.5555555555555556, \"#d8576b\"], [0.6666666666666666, \"#ed7953\"], [0.7777777777777778, \"#fb9f3a\"], [0.8888888888888888, \"#fdca26\"], [1.0, \"#f0f921\"]], \"type\": \"surface\"}], \"table\": [{\"cells\": {\"fill\": {\"color\": \"#EBF0F8\"}, \"line\": {\"color\": \"white\"}}, \"header\": {\"fill\": {\"color\": \"#C8D4E3\"}, \"line\": {\"color\": \"white\"}}, \"type\": \"table\"}]}, \"layout\": {\"annotationdefaults\": {\"arrowcolor\": \"#2a3f5f\", \"arrowhead\": 0, \"arrowwidth\": 1}, \"autotypenumbers\": \"strict\", \"coloraxis\": {\"colorbar\": {\"outlinewidth\": 0, \"ticks\": \"\"}}, \"colorscale\": {\"diverging\": [[0, \"#8e0152\"], [0.1, \"#c51b7d\"], [0.2, \"#de77ae\"], [0.3, \"#f1b6da\"], [0.4, \"#fde0ef\"], [0.5, \"#f7f7f7\"], [0.6, \"#e6f5d0\"], [0.7, \"#b8e186\"], [0.8, \"#7fbc41\"], [0.9, \"#4d9221\"], [1, \"#276419\"]], \"sequential\": [[0.0, \"#0d0887\"], [0.1111111111111111, \"#46039f\"], [0.2222222222222222, \"#7201a8\"], [0.3333333333333333, \"#9c179e\"], [0.4444444444444444, \"#bd3786\"], [0.5555555555555556, \"#d8576b\"], [0.6666666666666666, \"#ed7953\"], [0.7777777777777778, \"#fb9f3a\"], [0.8888888888888888, \"#fdca26\"], [1.0, \"#f0f921\"]], \"sequentialminus\": [[0.0, \"#0d0887\"], [0.1111111111111111, \"#46039f\"], [0.2222222222222222, \"#7201a8\"], [0.3333333333333333, \"#9c179e\"], [0.4444444444444444, \"#bd3786\"], [0.5555555555555556, \"#d8576b\"], [0.6666666666666666, \"#ed7953\"], [0.7777777777777778, \"#fb9f3a\"], [0.8888888888888888, \"#fdca26\"], [1.0, \"#f0f921\"]]}, \"colorway\": [\"#636efa\", \"#EF553B\", \"#00cc96\", \"#ab63fa\", \"#FFA15A\", \"#19d3f3\", \"#FF6692\", \"#B6E880\", \"#FF97FF\", \"#FECB52\"], \"font\": {\"color\": \"#2a3f5f\"}, \"geo\": {\"bgcolor\": \"white\", \"lakecolor\": \"white\", \"landcolor\": \"#E5ECF6\", \"showlakes\": true, \"showland\": true, \"subunitcolor\": \"white\"}, \"hoverlabel\": {\"align\": \"left\"}, \"hovermode\": \"closest\", \"mapbox\": {\"style\": \"light\"}, \"paper_bgcolor\": \"white\", \"plot_bgcolor\": \"#E5ECF6\", \"polar\": {\"angularaxis\": {\"gridcolor\": \"white\", \"linecolor\": \"white\", \"ticks\": \"\"}, \"bgcolor\": \"#E5ECF6\", \"radialaxis\": {\"gridcolor\": \"white\", \"linecolor\": \"white\", \"ticks\": \"\"}}, \"scene\": {\"xaxis\": {\"backgroundcolor\": \"#E5ECF6\", \"gridcolor\": \"white\", \"gridwidth\": 2, \"linecolor\": \"white\", \"showbackground\": true, \"ticks\": \"\", \"zerolinecolor\": \"white\"}, \"yaxis\": {\"backgroundcolor\": \"#E5ECF6\", \"gridcolor\": \"white\", \"gridwidth\": 2, \"linecolor\": \"white\", \"showbackground\": true, \"ticks\": \"\", \"zerolinecolor\": \"white\"}, \"zaxis\": {\"backgroundcolor\": \"#E5ECF6\", \"gridcolor\": \"white\", \"gridwidth\": 2, \"linecolor\": \"white\", \"showbackground\": true, \"ticks\": \"\", \"zerolinecolor\": \"white\"}}, \"shapedefaults\": {\"line\": {\"color\": \"#2a3f5f\"}}, \"ternary\": {\"aaxis\": {\"gridcolor\": \"white\", \"linecolor\": \"white\", \"ticks\": \"\"}, \"baxis\": {\"gridcolor\": \"white\", \"linecolor\": \"white\", \"ticks\": \"\"}, \"bgcolor\": \"#E5ECF6\", \"caxis\": {\"gridcolor\": \"white\", \"linecolor\": \"white\", \"ticks\": \"\"}}, \"title\": {\"x\": 0.05}, \"xaxis\": {\"automargin\": true, \"gridcolor\": \"white\", \"linecolor\": \"white\", \"ticks\": \"\", \"title\": {\"standoff\": 15}, \"zerolinecolor\": \"white\", \"zerolinewidth\": 2}, \"yaxis\": {\"automargin\": true, \"gridcolor\": \"white\", \"linecolor\": \"white\", \"ticks\": \"\", \"title\": {\"standoff\": 15}, \"zerolinecolor\": \"white\", \"zerolinewidth\": 2}}}, \"title\": {\"text\": \"validation_accuracy [8]: 1.00 [5]: 1.00\"}, \"xaxis\": {\"title\": {\"text\": \"epoch\"}}, \"yaxis\": {\"title\": {\"text\": \"validation_accuracy\"}}},                        {\"responsive\": true}                    ).then(function(){\n",
       "                            \n",
       "var gd = document.getElementById('a05f40c3-a726-49e2-ab48-1a90e3583bae');\n",
       "var x = new MutationObserver(function (mutations, observer) {{\n",
       "        var display = window.getComputedStyle(gd).display;\n",
       "        if (!display || display === 'none') {{\n",
       "            console.log([gd, 'removed!']);\n",
       "            Plotly.purge(gd);\n",
       "            observer.disconnect();\n",
       "        }}\n",
       "}});\n",
       "\n",
       "// Listen for the removal of the full notebook cells\n",
       "var notebookContainer = gd.closest('#notebook-container');\n",
       "if (notebookContainer) {{\n",
       "    x.observe(notebookContainer, {childList: true});\n",
       "}}\n",
       "\n",
       "// Listen for the clearing of the current output cell\n",
       "var outputEl = gd.closest('.output');\n",
       "if (outputEl) {{\n",
       "    x.observe(outputEl, {childList: true});\n",
       "}}\n",
       "\n",
       "                        })                };                });            </script>        </div>"
      ]
     },
     "metadata": {},
     "output_type": "display_data"
    },
    {
     "data": {
      "text/html": [
       "<div>\n",
       "<style scoped>\n",
       "    .dataframe tbody tr th:only-of-type {\n",
       "        vertical-align: middle;\n",
       "    }\n",
       "\n",
       "    .dataframe tbody tr th {\n",
       "        vertical-align: top;\n",
       "    }\n",
       "\n",
       "    .dataframe thead th {\n",
       "        text-align: right;\n",
       "    }\n",
       "</style>\n",
       "<table border=\"1\" class=\"dataframe\">\n",
       "  <thead>\n",
       "    <tr style=\"text-align: right;\">\n",
       "      <th></th>\n",
       "      <th>epochs</th>\n",
       "      <th>validation_accuracy</th>\n",
       "    </tr>\n",
       "  </thead>\n",
       "  <tbody>\n",
       "    <tr>\n",
       "      <th>8</th>\n",
       "      <td>30.0</td>\n",
       "      <td>1.0</td>\n",
       "    </tr>\n",
       "    <tr>\n",
       "      <th>5</th>\n",
       "      <td>15.0</td>\n",
       "      <td>1.0</td>\n",
       "    </tr>\n",
       "  </tbody>\n",
       "</table>\n",
       "</div>"
      ],
      "text/plain": [
       "   epochs  validation_accuracy\n",
       "8    30.0                  1.0\n",
       "5    15.0                  1.0"
      ]
     },
     "metadata": {},
     "output_type": "display_data"
    }
   ],
   "source": [
    "metric_visualization()"
   ]
  },
  {
   "cell_type": "code",
   "execution_count": null,
   "metadata": {},
   "outputs": [
    {
     "data": {
      "text/html": [
       "        <script type=\"text/javascript\">\n",
       "        window.PlotlyConfig = {MathJaxConfig: 'local'};\n",
       "        if (window.MathJax) {MathJax.Hub.Config({SVG: {font: \"STIX-Web\"}});}\n",
       "        if (typeof require !== 'undefined') {\n",
       "        require.undef(\"plotly\");\n",
       "        requirejs.config({\n",
       "            paths: {\n",
       "                'plotly': ['https://cdn.plot.ly/plotly-latest.min']\n",
       "            }\n",
       "        });\n",
       "        require(['plotly'], function(Plotly) {\n",
       "            window._Plotly = Plotly;\n",
       "        });\n",
       "        }\n",
       "        </script>\n",
       "        "
      ]
     },
     "metadata": {},
     "output_type": "display_data"
    },
    {
     "data": {
      "application/vnd.plotly.v1+json": {
       "config": {
        "linkText": "Export to plot.ly",
        "plotlyServerURL": "https://plot.ly",
        "showLink": false
       },
       "data": [
        {
         "mode": "markers+lines",
         "name": "8",
         "type": "scatter",
         "x": [
          0,
          1,
          2,
          3,
          4,
          5,
          6,
          7,
          8,
          9,
          10,
          11,
          12,
          13,
          14,
          15,
          16,
          17,
          18,
          19,
          20,
          21,
          22,
          23,
          24,
          25,
          26,
          27,
          28,
          29
         ],
         "y": [
          0.5882937191808552,
          0.7492510412476302,
          0.7417293799141979,
          0.6019601579389209,
          0.6232409317932608,
          0.754757227218469,
          0.7510601630638594,
          0.6195451707390853,
          0.7383355215456536,
          0.7293037468065591,
          0.7507178490597107,
          0.7365552720181086,
          0.8403459531713143,
          0.9254930383844531,
          1,
          0.9326002078987198,
          1,
          1,
          0.9757221749895155,
          1,
          1,
          1,
          1,
          0.9338581290848208,
          1,
          0.8385428600374976,
          1,
          0.833481347628265,
          0.789861323464912,
          0.8647356854668623
         ]
        },
        {
         "marker": {
          "color": "red",
          "size": 10,
          "symbol": 104
         },
         "mode": "markers",
         "name": "",
         "type": "scatter",
         "x": [
          14
         ],
         "y": [
          1
         ]
        },
        {
         "mode": "markers+lines",
         "name": "0",
         "type": "scatter",
         "x": [
          0,
          1,
          2,
          3,
          4
         ],
         "y": [
          0.1751741918908548,
          0.24832004978865593,
          0.2663830671750688,
          0.37765787050586275,
          0.5352358469038996
         ]
        },
        {
         "marker": {
          "color": "red",
          "size": 10,
          "symbol": 104
         },
         "mode": "markers",
         "name": "",
         "type": "scatter",
         "x": [
          4
         ],
         "y": [
          0.5352358469038996
         ]
        }
       ],
       "layout": {
        "template": {
         "data": {
          "bar": [
           {
            "error_x": {
             "color": "#2a3f5f"
            },
            "error_y": {
             "color": "#2a3f5f"
            },
            "marker": {
             "line": {
              "color": "#E5ECF6",
              "width": 0.5
             }
            },
            "type": "bar"
           }
          ],
          "barpolar": [
           {
            "marker": {
             "line": {
              "color": "#E5ECF6",
              "width": 0.5
             }
            },
            "type": "barpolar"
           }
          ],
          "carpet": [
           {
            "aaxis": {
             "endlinecolor": "#2a3f5f",
             "gridcolor": "white",
             "linecolor": "white",
             "minorgridcolor": "white",
             "startlinecolor": "#2a3f5f"
            },
            "baxis": {
             "endlinecolor": "#2a3f5f",
             "gridcolor": "white",
             "linecolor": "white",
             "minorgridcolor": "white",
             "startlinecolor": "#2a3f5f"
            },
            "type": "carpet"
           }
          ],
          "choropleth": [
           {
            "colorbar": {
             "outlinewidth": 0,
             "ticks": ""
            },
            "type": "choropleth"
           }
          ],
          "contour": [
           {
            "colorbar": {
             "outlinewidth": 0,
             "ticks": ""
            },
            "colorscale": [
             [
              0,
              "#0d0887"
             ],
             [
              0.1111111111111111,
              "#46039f"
             ],
             [
              0.2222222222222222,
              "#7201a8"
             ],
             [
              0.3333333333333333,
              "#9c179e"
             ],
             [
              0.4444444444444444,
              "#bd3786"
             ],
             [
              0.5555555555555556,
              "#d8576b"
             ],
             [
              0.6666666666666666,
              "#ed7953"
             ],
             [
              0.7777777777777778,
              "#fb9f3a"
             ],
             [
              0.8888888888888888,
              "#fdca26"
             ],
             [
              1,
              "#f0f921"
             ]
            ],
            "type": "contour"
           }
          ],
          "contourcarpet": [
           {
            "colorbar": {
             "outlinewidth": 0,
             "ticks": ""
            },
            "type": "contourcarpet"
           }
          ],
          "heatmap": [
           {
            "colorbar": {
             "outlinewidth": 0,
             "ticks": ""
            },
            "colorscale": [
             [
              0,
              "#0d0887"
             ],
             [
              0.1111111111111111,
              "#46039f"
             ],
             [
              0.2222222222222222,
              "#7201a8"
             ],
             [
              0.3333333333333333,
              "#9c179e"
             ],
             [
              0.4444444444444444,
              "#bd3786"
             ],
             [
              0.5555555555555556,
              "#d8576b"
             ],
             [
              0.6666666666666666,
              "#ed7953"
             ],
             [
              0.7777777777777778,
              "#fb9f3a"
             ],
             [
              0.8888888888888888,
              "#fdca26"
             ],
             [
              1,
              "#f0f921"
             ]
            ],
            "type": "heatmap"
           }
          ],
          "heatmapgl": [
           {
            "colorbar": {
             "outlinewidth": 0,
             "ticks": ""
            },
            "colorscale": [
             [
              0,
              "#0d0887"
             ],
             [
              0.1111111111111111,
              "#46039f"
             ],
             [
              0.2222222222222222,
              "#7201a8"
             ],
             [
              0.3333333333333333,
              "#9c179e"
             ],
             [
              0.4444444444444444,
              "#bd3786"
             ],
             [
              0.5555555555555556,
              "#d8576b"
             ],
             [
              0.6666666666666666,
              "#ed7953"
             ],
             [
              0.7777777777777778,
              "#fb9f3a"
             ],
             [
              0.8888888888888888,
              "#fdca26"
             ],
             [
              1,
              "#f0f921"
             ]
            ],
            "type": "heatmapgl"
           }
          ],
          "histogram": [
           {
            "marker": {
             "colorbar": {
              "outlinewidth": 0,
              "ticks": ""
             }
            },
            "type": "histogram"
           }
          ],
          "histogram2d": [
           {
            "colorbar": {
             "outlinewidth": 0,
             "ticks": ""
            },
            "colorscale": [
             [
              0,
              "#0d0887"
             ],
             [
              0.1111111111111111,
              "#46039f"
             ],
             [
              0.2222222222222222,
              "#7201a8"
             ],
             [
              0.3333333333333333,
              "#9c179e"
             ],
             [
              0.4444444444444444,
              "#bd3786"
             ],
             [
              0.5555555555555556,
              "#d8576b"
             ],
             [
              0.6666666666666666,
              "#ed7953"
             ],
             [
              0.7777777777777778,
              "#fb9f3a"
             ],
             [
              0.8888888888888888,
              "#fdca26"
             ],
             [
              1,
              "#f0f921"
             ]
            ],
            "type": "histogram2d"
           }
          ],
          "histogram2dcontour": [
           {
            "colorbar": {
             "outlinewidth": 0,
             "ticks": ""
            },
            "colorscale": [
             [
              0,
              "#0d0887"
             ],
             [
              0.1111111111111111,
              "#46039f"
             ],
             [
              0.2222222222222222,
              "#7201a8"
             ],
             [
              0.3333333333333333,
              "#9c179e"
             ],
             [
              0.4444444444444444,
              "#bd3786"
             ],
             [
              0.5555555555555556,
              "#d8576b"
             ],
             [
              0.6666666666666666,
              "#ed7953"
             ],
             [
              0.7777777777777778,
              "#fb9f3a"
             ],
             [
              0.8888888888888888,
              "#fdca26"
             ],
             [
              1,
              "#f0f921"
             ]
            ],
            "type": "histogram2dcontour"
           }
          ],
          "mesh3d": [
           {
            "colorbar": {
             "outlinewidth": 0,
             "ticks": ""
            },
            "type": "mesh3d"
           }
          ],
          "parcoords": [
           {
            "line": {
             "colorbar": {
              "outlinewidth": 0,
              "ticks": ""
             }
            },
            "type": "parcoords"
           }
          ],
          "pie": [
           {
            "automargin": true,
            "type": "pie"
           }
          ],
          "scatter": [
           {
            "marker": {
             "colorbar": {
              "outlinewidth": 0,
              "ticks": ""
             }
            },
            "type": "scatter"
           }
          ],
          "scatter3d": [
           {
            "line": {
             "colorbar": {
              "outlinewidth": 0,
              "ticks": ""
             }
            },
            "marker": {
             "colorbar": {
              "outlinewidth": 0,
              "ticks": ""
             }
            },
            "type": "scatter3d"
           }
          ],
          "scattercarpet": [
           {
            "marker": {
             "colorbar": {
              "outlinewidth": 0,
              "ticks": ""
             }
            },
            "type": "scattercarpet"
           }
          ],
          "scattergeo": [
           {
            "marker": {
             "colorbar": {
              "outlinewidth": 0,
              "ticks": ""
             }
            },
            "type": "scattergeo"
           }
          ],
          "scattergl": [
           {
            "marker": {
             "colorbar": {
              "outlinewidth": 0,
              "ticks": ""
             }
            },
            "type": "scattergl"
           }
          ],
          "scattermapbox": [
           {
            "marker": {
             "colorbar": {
              "outlinewidth": 0,
              "ticks": ""
             }
            },
            "type": "scattermapbox"
           }
          ],
          "scatterpolar": [
           {
            "marker": {
             "colorbar": {
              "outlinewidth": 0,
              "ticks": ""
             }
            },
            "type": "scatterpolar"
           }
          ],
          "scatterpolargl": [
           {
            "marker": {
             "colorbar": {
              "outlinewidth": 0,
              "ticks": ""
             }
            },
            "type": "scatterpolargl"
           }
          ],
          "scatterternary": [
           {
            "marker": {
             "colorbar": {
              "outlinewidth": 0,
              "ticks": ""
             }
            },
            "type": "scatterternary"
           }
          ],
          "surface": [
           {
            "colorbar": {
             "outlinewidth": 0,
             "ticks": ""
            },
            "colorscale": [
             [
              0,
              "#0d0887"
             ],
             [
              0.1111111111111111,
              "#46039f"
             ],
             [
              0.2222222222222222,
              "#7201a8"
             ],
             [
              0.3333333333333333,
              "#9c179e"
             ],
             [
              0.4444444444444444,
              "#bd3786"
             ],
             [
              0.5555555555555556,
              "#d8576b"
             ],
             [
              0.6666666666666666,
              "#ed7953"
             ],
             [
              0.7777777777777778,
              "#fb9f3a"
             ],
             [
              0.8888888888888888,
              "#fdca26"
             ],
             [
              1,
              "#f0f921"
             ]
            ],
            "type": "surface"
           }
          ],
          "table": [
           {
            "cells": {
             "fill": {
              "color": "#EBF0F8"
             },
             "line": {
              "color": "white"
             }
            },
            "header": {
             "fill": {
              "color": "#C8D4E3"
             },
             "line": {
              "color": "white"
             }
            },
            "type": "table"
           }
          ]
         },
         "layout": {
          "annotationdefaults": {
           "arrowcolor": "#2a3f5f",
           "arrowhead": 0,
           "arrowwidth": 1
          },
          "autotypenumbers": "strict",
          "coloraxis": {
           "colorbar": {
            "outlinewidth": 0,
            "ticks": ""
           }
          },
          "colorscale": {
           "diverging": [
            [
             0,
             "#8e0152"
            ],
            [
             0.1,
             "#c51b7d"
            ],
            [
             0.2,
             "#de77ae"
            ],
            [
             0.3,
             "#f1b6da"
            ],
            [
             0.4,
             "#fde0ef"
            ],
            [
             0.5,
             "#f7f7f7"
            ],
            [
             0.6,
             "#e6f5d0"
            ],
            [
             0.7,
             "#b8e186"
            ],
            [
             0.8,
             "#7fbc41"
            ],
            [
             0.9,
             "#4d9221"
            ],
            [
             1,
             "#276419"
            ]
           ],
           "sequential": [
            [
             0,
             "#0d0887"
            ],
            [
             0.1111111111111111,
             "#46039f"
            ],
            [
             0.2222222222222222,
             "#7201a8"
            ],
            [
             0.3333333333333333,
             "#9c179e"
            ],
            [
             0.4444444444444444,
             "#bd3786"
            ],
            [
             0.5555555555555556,
             "#d8576b"
            ],
            [
             0.6666666666666666,
             "#ed7953"
            ],
            [
             0.7777777777777778,
             "#fb9f3a"
            ],
            [
             0.8888888888888888,
             "#fdca26"
            ],
            [
             1,
             "#f0f921"
            ]
           ],
           "sequentialminus": [
            [
             0,
             "#0d0887"
            ],
            [
             0.1111111111111111,
             "#46039f"
            ],
            [
             0.2222222222222222,
             "#7201a8"
            ],
            [
             0.3333333333333333,
             "#9c179e"
            ],
            [
             0.4444444444444444,
             "#bd3786"
            ],
            [
             0.5555555555555556,
             "#d8576b"
            ],
            [
             0.6666666666666666,
             "#ed7953"
            ],
            [
             0.7777777777777778,
             "#fb9f3a"
            ],
            [
             0.8888888888888888,
             "#fdca26"
            ],
            [
             1,
             "#f0f921"
            ]
           ]
          },
          "colorway": [
           "#636efa",
           "#EF553B",
           "#00cc96",
           "#ab63fa",
           "#FFA15A",
           "#19d3f3",
           "#FF6692",
           "#B6E880",
           "#FF97FF",
           "#FECB52"
          ],
          "font": {
           "color": "#2a3f5f"
          },
          "geo": {
           "bgcolor": "white",
           "lakecolor": "white",
           "landcolor": "#E5ECF6",
           "showlakes": true,
           "showland": true,
           "subunitcolor": "white"
          },
          "hoverlabel": {
           "align": "left"
          },
          "hovermode": "closest",
          "mapbox": {
           "style": "light"
          },
          "paper_bgcolor": "white",
          "plot_bgcolor": "#E5ECF6",
          "polar": {
           "angularaxis": {
            "gridcolor": "white",
            "linecolor": "white",
            "ticks": ""
           },
           "bgcolor": "#E5ECF6",
           "radialaxis": {
            "gridcolor": "white",
            "linecolor": "white",
            "ticks": ""
           }
          },
          "scene": {
           "xaxis": {
            "backgroundcolor": "#E5ECF6",
            "gridcolor": "white",
            "gridwidth": 2,
            "linecolor": "white",
            "showbackground": true,
            "ticks": "",
            "zerolinecolor": "white"
           },
           "yaxis": {
            "backgroundcolor": "#E5ECF6",
            "gridcolor": "white",
            "gridwidth": 2,
            "linecolor": "white",
            "showbackground": true,
            "ticks": "",
            "zerolinecolor": "white"
           },
           "zaxis": {
            "backgroundcolor": "#E5ECF6",
            "gridcolor": "white",
            "gridwidth": 2,
            "linecolor": "white",
            "showbackground": true,
            "ticks": "",
            "zerolinecolor": "white"
           }
          },
          "shapedefaults": {
           "line": {
            "color": "#2a3f5f"
           }
          },
          "ternary": {
           "aaxis": {
            "gridcolor": "white",
            "linecolor": "white",
            "ticks": ""
           },
           "baxis": {
            "gridcolor": "white",
            "linecolor": "white",
            "ticks": ""
           },
           "bgcolor": "#E5ECF6",
           "caxis": {
            "gridcolor": "white",
            "linecolor": "white",
            "ticks": ""
           }
          },
          "title": {
           "x": 0.05
          },
          "xaxis": {
           "automargin": true,
           "gridcolor": "white",
           "linecolor": "white",
           "ticks": "",
           "title": {
            "standoff": 15
           },
           "zerolinecolor": "white",
           "zerolinewidth": 2
          },
          "yaxis": {
           "automargin": true,
           "gridcolor": "white",
           "linecolor": "white",
           "ticks": "",
           "title": {
            "standoff": 15
           },
           "zerolinecolor": "white",
           "zerolinewidth": 2
          }
         }
        },
        "title": {
         "text": "test_accuracy [8]: 1.00 [0]: 0.54"
        },
        "xaxis": {
         "title": {
          "text": "epoch"
         }
        },
        "yaxis": {
         "title": {
          "text": "test_accuracy"
         }
        }
       }
      },
      "text/html": [
       "<div>                            <div id=\"41f13c9e-b7ba-4236-af8f-f4e87dbde751\" class=\"plotly-graph-div\" style=\"height:525px; width:100%;\"></div>            <script type=\"text/javascript\">                require([\"plotly\"], function(Plotly) {                    window.PLOTLYENV=window.PLOTLYENV || {};                                    if (document.getElementById(\"41f13c9e-b7ba-4236-af8f-f4e87dbde751\")) {                    Plotly.newPlot(                        \"41f13c9e-b7ba-4236-af8f-f4e87dbde751\",                        [{\"mode\": \"markers+lines\", \"name\": \"8\", \"type\": \"scatter\", \"x\": [0, 1, 2, 3, 4, 5, 6, 7, 8, 9, 10, 11, 12, 13, 14, 15, 16, 17, 18, 19, 20, 21, 22, 23, 24, 25, 26, 27, 28, 29], \"y\": [0.5882937191808552, 0.7492510412476302, 0.7417293799141979, 0.6019601579389209, 0.6232409317932608, 0.754757227218469, 0.7510601630638594, 0.6195451707390853, 0.7383355215456536, 0.7293037468065591, 0.7507178490597107, 0.7365552720181086, 0.8403459531713143, 0.9254930383844531, 1.0, 0.9326002078987198, 1.0, 1.0, 0.9757221749895155, 1.0, 1.0, 1.0, 1.0, 0.9338581290848208, 1.0, 0.8385428600374976, 1.0, 0.833481347628265, 0.789861323464912, 0.8647356854668623]}, {\"marker\": {\"color\": \"red\", \"size\": 10, \"symbol\": 104}, \"mode\": \"markers\", \"name\": \"\", \"type\": \"scatter\", \"x\": [14], \"y\": [1.0]}, {\"mode\": \"markers+lines\", \"name\": \"0\", \"type\": \"scatter\", \"x\": [0, 1, 2, 3, 4], \"y\": [0.1751741918908548, 0.24832004978865593, 0.2663830671750688, 0.37765787050586275, 0.5352358469038996]}, {\"marker\": {\"color\": \"red\", \"size\": 10, \"symbol\": 104}, \"mode\": \"markers\", \"name\": \"\", \"type\": \"scatter\", \"x\": [4], \"y\": [0.5352358469038996]}],                        {\"template\": {\"data\": {\"bar\": [{\"error_x\": {\"color\": \"#2a3f5f\"}, \"error_y\": {\"color\": \"#2a3f5f\"}, \"marker\": {\"line\": {\"color\": \"#E5ECF6\", \"width\": 0.5}}, \"type\": \"bar\"}], \"barpolar\": [{\"marker\": {\"line\": {\"color\": \"#E5ECF6\", \"width\": 0.5}}, \"type\": \"barpolar\"}], \"carpet\": [{\"aaxis\": {\"endlinecolor\": \"#2a3f5f\", \"gridcolor\": \"white\", \"linecolor\": \"white\", \"minorgridcolor\": \"white\", \"startlinecolor\": \"#2a3f5f\"}, \"baxis\": {\"endlinecolor\": \"#2a3f5f\", \"gridcolor\": \"white\", \"linecolor\": \"white\", \"minorgridcolor\": \"white\", \"startlinecolor\": \"#2a3f5f\"}, \"type\": \"carpet\"}], \"choropleth\": [{\"colorbar\": {\"outlinewidth\": 0, \"ticks\": \"\"}, \"type\": \"choropleth\"}], \"contour\": [{\"colorbar\": {\"outlinewidth\": 0, \"ticks\": \"\"}, \"colorscale\": [[0.0, \"#0d0887\"], [0.1111111111111111, \"#46039f\"], [0.2222222222222222, \"#7201a8\"], [0.3333333333333333, \"#9c179e\"], [0.4444444444444444, \"#bd3786\"], [0.5555555555555556, \"#d8576b\"], [0.6666666666666666, \"#ed7953\"], [0.7777777777777778, \"#fb9f3a\"], [0.8888888888888888, \"#fdca26\"], [1.0, \"#f0f921\"]], \"type\": \"contour\"}], \"contourcarpet\": [{\"colorbar\": {\"outlinewidth\": 0, \"ticks\": \"\"}, \"type\": \"contourcarpet\"}], \"heatmap\": [{\"colorbar\": {\"outlinewidth\": 0, \"ticks\": \"\"}, \"colorscale\": [[0.0, \"#0d0887\"], [0.1111111111111111, \"#46039f\"], [0.2222222222222222, \"#7201a8\"], [0.3333333333333333, \"#9c179e\"], [0.4444444444444444, \"#bd3786\"], [0.5555555555555556, \"#d8576b\"], [0.6666666666666666, \"#ed7953\"], [0.7777777777777778, \"#fb9f3a\"], [0.8888888888888888, \"#fdca26\"], [1.0, \"#f0f921\"]], \"type\": \"heatmap\"}], \"heatmapgl\": [{\"colorbar\": {\"outlinewidth\": 0, \"ticks\": \"\"}, \"colorscale\": [[0.0, \"#0d0887\"], [0.1111111111111111, \"#46039f\"], [0.2222222222222222, \"#7201a8\"], [0.3333333333333333, \"#9c179e\"], [0.4444444444444444, \"#bd3786\"], [0.5555555555555556, \"#d8576b\"], [0.6666666666666666, \"#ed7953\"], [0.7777777777777778, \"#fb9f3a\"], [0.8888888888888888, \"#fdca26\"], [1.0, \"#f0f921\"]], \"type\": \"heatmapgl\"}], \"histogram\": [{\"marker\": {\"colorbar\": {\"outlinewidth\": 0, \"ticks\": \"\"}}, \"type\": \"histogram\"}], \"histogram2d\": [{\"colorbar\": {\"outlinewidth\": 0, \"ticks\": \"\"}, \"colorscale\": [[0.0, \"#0d0887\"], [0.1111111111111111, \"#46039f\"], [0.2222222222222222, \"#7201a8\"], [0.3333333333333333, \"#9c179e\"], [0.4444444444444444, \"#bd3786\"], [0.5555555555555556, \"#d8576b\"], [0.6666666666666666, \"#ed7953\"], [0.7777777777777778, \"#fb9f3a\"], [0.8888888888888888, \"#fdca26\"], [1.0, \"#f0f921\"]], \"type\": \"histogram2d\"}], \"histogram2dcontour\": [{\"colorbar\": {\"outlinewidth\": 0, \"ticks\": \"\"}, \"colorscale\": [[0.0, \"#0d0887\"], [0.1111111111111111, \"#46039f\"], [0.2222222222222222, \"#7201a8\"], [0.3333333333333333, \"#9c179e\"], [0.4444444444444444, \"#bd3786\"], [0.5555555555555556, \"#d8576b\"], [0.6666666666666666, \"#ed7953\"], [0.7777777777777778, \"#fb9f3a\"], [0.8888888888888888, \"#fdca26\"], [1.0, \"#f0f921\"]], \"type\": \"histogram2dcontour\"}], \"mesh3d\": [{\"colorbar\": {\"outlinewidth\": 0, \"ticks\": \"\"}, \"type\": \"mesh3d\"}], \"parcoords\": [{\"line\": {\"colorbar\": {\"outlinewidth\": 0, \"ticks\": \"\"}}, \"type\": \"parcoords\"}], \"pie\": [{\"automargin\": true, \"type\": \"pie\"}], \"scatter\": [{\"marker\": {\"colorbar\": {\"outlinewidth\": 0, \"ticks\": \"\"}}, \"type\": \"scatter\"}], \"scatter3d\": [{\"line\": {\"colorbar\": {\"outlinewidth\": 0, \"ticks\": \"\"}}, \"marker\": {\"colorbar\": {\"outlinewidth\": 0, \"ticks\": \"\"}}, \"type\": \"scatter3d\"}], \"scattercarpet\": [{\"marker\": {\"colorbar\": {\"outlinewidth\": 0, \"ticks\": \"\"}}, \"type\": \"scattercarpet\"}], \"scattergeo\": [{\"marker\": {\"colorbar\": {\"outlinewidth\": 0, \"ticks\": \"\"}}, \"type\": \"scattergeo\"}], \"scattergl\": [{\"marker\": {\"colorbar\": {\"outlinewidth\": 0, \"ticks\": \"\"}}, \"type\": \"scattergl\"}], \"scattermapbox\": [{\"marker\": {\"colorbar\": {\"outlinewidth\": 0, \"ticks\": \"\"}}, \"type\": \"scattermapbox\"}], \"scatterpolar\": [{\"marker\": {\"colorbar\": {\"outlinewidth\": 0, \"ticks\": \"\"}}, \"type\": \"scatterpolar\"}], \"scatterpolargl\": [{\"marker\": {\"colorbar\": {\"outlinewidth\": 0, \"ticks\": \"\"}}, \"type\": \"scatterpolargl\"}], \"scatterternary\": [{\"marker\": {\"colorbar\": {\"outlinewidth\": 0, \"ticks\": \"\"}}, \"type\": \"scatterternary\"}], \"surface\": [{\"colorbar\": {\"outlinewidth\": 0, \"ticks\": \"\"}, \"colorscale\": [[0.0, \"#0d0887\"], [0.1111111111111111, \"#46039f\"], [0.2222222222222222, \"#7201a8\"], [0.3333333333333333, \"#9c179e\"], [0.4444444444444444, \"#bd3786\"], [0.5555555555555556, \"#d8576b\"], [0.6666666666666666, \"#ed7953\"], [0.7777777777777778, \"#fb9f3a\"], [0.8888888888888888, \"#fdca26\"], [1.0, \"#f0f921\"]], \"type\": \"surface\"}], \"table\": [{\"cells\": {\"fill\": {\"color\": \"#EBF0F8\"}, \"line\": {\"color\": \"white\"}}, \"header\": {\"fill\": {\"color\": \"#C8D4E3\"}, \"line\": {\"color\": \"white\"}}, \"type\": \"table\"}]}, \"layout\": {\"annotationdefaults\": {\"arrowcolor\": \"#2a3f5f\", \"arrowhead\": 0, \"arrowwidth\": 1}, \"autotypenumbers\": \"strict\", \"coloraxis\": {\"colorbar\": {\"outlinewidth\": 0, \"ticks\": \"\"}}, \"colorscale\": {\"diverging\": [[0, \"#8e0152\"], [0.1, \"#c51b7d\"], [0.2, \"#de77ae\"], [0.3, \"#f1b6da\"], [0.4, \"#fde0ef\"], [0.5, \"#f7f7f7\"], [0.6, \"#e6f5d0\"], [0.7, \"#b8e186\"], [0.8, \"#7fbc41\"], [0.9, \"#4d9221\"], [1, \"#276419\"]], \"sequential\": [[0.0, \"#0d0887\"], [0.1111111111111111, \"#46039f\"], [0.2222222222222222, \"#7201a8\"], [0.3333333333333333, \"#9c179e\"], [0.4444444444444444, \"#bd3786\"], [0.5555555555555556, \"#d8576b\"], [0.6666666666666666, \"#ed7953\"], [0.7777777777777778, \"#fb9f3a\"], [0.8888888888888888, \"#fdca26\"], [1.0, \"#f0f921\"]], \"sequentialminus\": [[0.0, \"#0d0887\"], [0.1111111111111111, \"#46039f\"], [0.2222222222222222, \"#7201a8\"], [0.3333333333333333, \"#9c179e\"], [0.4444444444444444, \"#bd3786\"], [0.5555555555555556, \"#d8576b\"], [0.6666666666666666, \"#ed7953\"], [0.7777777777777778, \"#fb9f3a\"], [0.8888888888888888, \"#fdca26\"], [1.0, \"#f0f921\"]]}, \"colorway\": [\"#636efa\", \"#EF553B\", \"#00cc96\", \"#ab63fa\", \"#FFA15A\", \"#19d3f3\", \"#FF6692\", \"#B6E880\", \"#FF97FF\", \"#FECB52\"], \"font\": {\"color\": \"#2a3f5f\"}, \"geo\": {\"bgcolor\": \"white\", \"lakecolor\": \"white\", \"landcolor\": \"#E5ECF6\", \"showlakes\": true, \"showland\": true, \"subunitcolor\": \"white\"}, \"hoverlabel\": {\"align\": \"left\"}, \"hovermode\": \"closest\", \"mapbox\": {\"style\": \"light\"}, \"paper_bgcolor\": \"white\", \"plot_bgcolor\": \"#E5ECF6\", \"polar\": {\"angularaxis\": {\"gridcolor\": \"white\", \"linecolor\": \"white\", \"ticks\": \"\"}, \"bgcolor\": \"#E5ECF6\", \"radialaxis\": {\"gridcolor\": \"white\", \"linecolor\": \"white\", \"ticks\": \"\"}}, \"scene\": {\"xaxis\": {\"backgroundcolor\": \"#E5ECF6\", \"gridcolor\": \"white\", \"gridwidth\": 2, \"linecolor\": \"white\", \"showbackground\": true, \"ticks\": \"\", \"zerolinecolor\": \"white\"}, \"yaxis\": {\"backgroundcolor\": \"#E5ECF6\", \"gridcolor\": \"white\", \"gridwidth\": 2, \"linecolor\": \"white\", \"showbackground\": true, \"ticks\": \"\", \"zerolinecolor\": \"white\"}, \"zaxis\": {\"backgroundcolor\": \"#E5ECF6\", \"gridcolor\": \"white\", \"gridwidth\": 2, \"linecolor\": \"white\", \"showbackground\": true, \"ticks\": \"\", \"zerolinecolor\": \"white\"}}, \"shapedefaults\": {\"line\": {\"color\": \"#2a3f5f\"}}, \"ternary\": {\"aaxis\": {\"gridcolor\": \"white\", \"linecolor\": \"white\", \"ticks\": \"\"}, \"baxis\": {\"gridcolor\": \"white\", \"linecolor\": \"white\", \"ticks\": \"\"}, \"bgcolor\": \"#E5ECF6\", \"caxis\": {\"gridcolor\": \"white\", \"linecolor\": \"white\", \"ticks\": \"\"}}, \"title\": {\"x\": 0.05}, \"xaxis\": {\"automargin\": true, \"gridcolor\": \"white\", \"linecolor\": \"white\", \"ticks\": \"\", \"title\": {\"standoff\": 15}, \"zerolinecolor\": \"white\", \"zerolinewidth\": 2}, \"yaxis\": {\"automargin\": true, \"gridcolor\": \"white\", \"linecolor\": \"white\", \"ticks\": \"\", \"title\": {\"standoff\": 15}, \"zerolinecolor\": \"white\", \"zerolinewidth\": 2}}}, \"title\": {\"text\": \"test_accuracy [8]: 1.00 [0]: 0.54\"}, \"xaxis\": {\"title\": {\"text\": \"epoch\"}}, \"yaxis\": {\"title\": {\"text\": \"test_accuracy\"}}},                        {\"responsive\": true}                    ).then(function(){\n",
       "                            \n",
       "var gd = document.getElementById('41f13c9e-b7ba-4236-af8f-f4e87dbde751');\n",
       "var x = new MutationObserver(function (mutations, observer) {{\n",
       "        var display = window.getComputedStyle(gd).display;\n",
       "        if (!display || display === 'none') {{\n",
       "            console.log([gd, 'removed!']);\n",
       "            Plotly.purge(gd);\n",
       "            observer.disconnect();\n",
       "        }}\n",
       "}});\n",
       "\n",
       "// Listen for the removal of the full notebook cells\n",
       "var notebookContainer = gd.closest('#notebook-container');\n",
       "if (notebookContainer) {{\n",
       "    x.observe(notebookContainer, {childList: true});\n",
       "}}\n",
       "\n",
       "// Listen for the clearing of the current output cell\n",
       "var outputEl = gd.closest('.output');\n",
       "if (outputEl) {{\n",
       "    x.observe(outputEl, {childList: true});\n",
       "}}\n",
       "\n",
       "                        })                };                });            </script>        </div>"
      ]
     },
     "metadata": {},
     "output_type": "display_data"
    },
    {
     "data": {
      "text/html": [
       "<div>\n",
       "<style scoped>\n",
       "    .dataframe tbody tr th:only-of-type {\n",
       "        vertical-align: middle;\n",
       "    }\n",
       "\n",
       "    .dataframe tbody tr th {\n",
       "        vertical-align: top;\n",
       "    }\n",
       "\n",
       "    .dataframe thead th {\n",
       "        text-align: right;\n",
       "    }\n",
       "</style>\n",
       "<table border=\"1\" class=\"dataframe\">\n",
       "  <thead>\n",
       "    <tr style=\"text-align: right;\">\n",
       "      <th></th>\n",
       "      <th>epochs</th>\n",
       "      <th>offset</th>\n",
       "      <th>test_accuracy</th>\n",
       "    </tr>\n",
       "  </thead>\n",
       "  <tbody>\n",
       "    <tr>\n",
       "      <th>8</th>\n",
       "      <td>30.0</td>\n",
       "      <td>0.6</td>\n",
       "      <td>1.000000</td>\n",
       "    </tr>\n",
       "    <tr>\n",
       "      <th>0</th>\n",
       "      <td>5.0</td>\n",
       "      <td>0.1</td>\n",
       "      <td>0.535236</td>\n",
       "    </tr>\n",
       "  </tbody>\n",
       "</table>\n",
       "</div>"
      ],
      "text/plain": [
       "   epochs  offset  test_accuracy\n",
       "8    30.0     0.6       1.000000\n",
       "0     5.0     0.1       0.535236"
      ]
     },
     "metadata": {},
     "output_type": "display_data"
    }
   ],
   "source": [
    "metric_visualization(experiments=[-2, 0], metric='test_accuracy')"
   ]
  },
  {
   "cell_type": "code",
   "execution_count": null,
   "metadata": {},
   "outputs": [
    {
     "data": {
      "image/png": "[encoded data removed]",
      "text/plain": [
       "<Figure size 1440x720 with 1 Axes>"
      ]
     },
     "metadata": {
      "needs_background": "light"
     },
     "output_type": "display_data"
    },
    {
     "data": {
      "text/html": [
       "<div>\n",
       "<style scoped>\n",
       "    .dataframe tbody tr th:only-of-type {\n",
       "        vertical-align: middle;\n",
       "    }\n",
       "\n",
       "    .dataframe tbody tr th {\n",
       "        vertical-align: top;\n",
       "    }\n",
       "\n",
       "    .dataframe thead th {\n",
       "        text-align: right;\n",
       "    }\n",
       "</style>\n",
       "<table border=\"1\" class=\"dataframe\">\n",
       "  <thead>\n",
       "    <tr style=\"text-align: right;\">\n",
       "      <th></th>\n",
       "      <th>epochs</th>\n",
       "      <th>offset</th>\n",
       "      <th>test_accuracy</th>\n",
       "    </tr>\n",
       "  </thead>\n",
       "  <tbody>\n",
       "    <tr>\n",
       "      <th>3</th>\n",
       "      <td>15.0</td>\n",
       "      <td>0.1</td>\n",
       "      <td>0.471474</td>\n",
       "    </tr>\n",
       "    <tr>\n",
       "      <th>7</th>\n",
       "      <td>30.0</td>\n",
       "      <td>0.3</td>\n",
       "      <td>1.000000</td>\n",
       "    </tr>\n",
       "  </tbody>\n",
       "</table>\n",
       "</div>"
      ],
      "text/plain": [
       "   epochs  offset  test_accuracy\n",
       "3    15.0     0.1       0.471474\n",
       "7    30.0     0.3       1.000000"
      ]
     },
     "metadata": {},
     "output_type": "display_data"
    }
   ],
   "source": [
    "metric_visualization(experiments=[3, 7], metric='test_accuracy', backend='matplotlib')"
   ]
  },
  {
   "cell_type": "markdown",
   "metadata": {},
   "source": [
    "## Using more than one visualization routine"
   ]
  },
  {
   "cell_type": "code",
   "execution_count": null,
   "metadata": {},
   "outputs": [
    {
     "data": {
      "image/png": "[encoded data removed]",
      "text/plain": [
       "<Figure size 1440x720 with 1 Axes>"
      ]
     },
     "metadata": {
      "needs_background": "light"
     },
     "output_type": "display_data"
    },
    {
     "data": {
      "text/html": [
       "<div>\n",
       "<style scoped>\n",
       "    .dataframe tbody tr th:only-of-type {\n",
       "        vertical-align: middle;\n",
       "    }\n",
       "\n",
       "    .dataframe tbody tr th {\n",
       "        vertical-align: top;\n",
       "    }\n",
       "\n",
       "    .dataframe thead th {\n",
       "        text-align: right;\n",
       "    }\n",
       "</style>\n",
       "<table border=\"1\" class=\"dataframe\">\n",
       "  <thead>\n",
       "    <tr style=\"text-align: right;\">\n",
       "      <th></th>\n",
       "      <th>epochs</th>\n",
       "      <th>offset</th>\n",
       "      <th>test_accuracy</th>\n",
       "    </tr>\n",
       "  </thead>\n",
       "  <tbody>\n",
       "    <tr>\n",
       "      <th>3</th>\n",
       "      <td>15.0</td>\n",
       "      <td>0.1</td>\n",
       "      <td>0.471474</td>\n",
       "    </tr>\n",
       "    <tr>\n",
       "      <th>7</th>\n",
       "      <td>30.0</td>\n",
       "      <td>0.3</td>\n",
       "      <td>1.000000</td>\n",
       "    </tr>\n",
       "  </tbody>\n",
       "</table>\n",
       "</div>"
      ],
      "text/plain": [
       "   epochs  offset  test_accuracy\n",
       "3    15.0     0.1       0.471474\n",
       "7    30.0     0.3       1.000000"
      ]
     },
     "metadata": {},
     "output_type": "display_data"
    },
    {
     "data": {
      "image/png": "[encoded data removed]",
      "text/plain": [
       "<Figure size 1440x720 with 1 Axes>"
      ]
     },
     "metadata": {
      "needs_background": "light"
     },
     "output_type": "display_data"
    },
    {
     "data": {
      "image/png": "[encoded data removed]",
      "text/plain": [
       "<Figure size 1440x720 with 1 Axes>"
      ]
     },
     "metadata": {
      "needs_background": "light"
     },
     "output_type": "display_data"
    }
   ],
   "source": [
    "metric_visualization(experiments=[3, 7], metric='test_accuracy', backend='matplotlib', \n",
    "                     visualization_options={'visualization': ['history', 'metric_correlation', 'custom'],\n",
    "                                           'metric_1': 'validation_accuracy',\n",
    "                                            'metric_2': 'test_accuracy'})"
   ]
  },
  {
   "cell_type": "markdown",
   "metadata": {},
   "source": [
    "Test the command line parser"
   ]
  },
  {
   "cell_type": "code",
   "execution_count": null,
   "metadata": {},
   "outputs": [
    {
     "data": {
      "image/png": "[encoded data removed]",
      "text/plain": [
       "<Figure size 1440x720 with 1 Axes>"
      ]
     },
     "metadata": {
      "needs_background": "light"
     },
     "output_type": "display_data"
    },
    {
     "data": {
      "text/html": [
       "<div>\n",
       "<style scoped>\n",
       "    .dataframe tbody tr th:only-of-type {\n",
       "        vertical-align: middle;\n",
       "    }\n",
       "\n",
       "    .dataframe tbody tr th {\n",
       "        vertical-align: top;\n",
       "    }\n",
       "\n",
       "    .dataframe thead th {\n",
       "        text-align: right;\n",
       "    }\n",
       "</style>\n",
       "<table border=\"1\" class=\"dataframe\">\n",
       "  <thead>\n",
       "    <tr style=\"text-align: right;\">\n",
       "      <th></th>\n",
       "      <th>epochs</th>\n",
       "      <th>offset</th>\n",
       "      <th>test_accuracy</th>\n",
       "    </tr>\n",
       "  </thead>\n",
       "  <tbody>\n",
       "    <tr>\n",
       "      <th>3</th>\n",
       "      <td>15.0</td>\n",
       "      <td>0.1</td>\n",
       "      <td>0.471474</td>\n",
       "    </tr>\n",
       "    <tr>\n",
       "      <th>7</th>\n",
       "      <td>30.0</td>\n",
       "      <td>0.3</td>\n",
       "      <td>1.000000</td>\n",
       "    </tr>\n",
       "  </tbody>\n",
       "</table>\n",
       "</div>"
      ],
      "text/plain": [
       "   epochs  offset  test_accuracy\n",
       "3    15.0     0.1       0.471474\n",
       "7    30.0     0.3       1.000000"
      ]
     },
     "metadata": {},
     "output_type": "display_data"
    },
    {
     "data": {
      "image/png": "[encoded data removed]",
      "text/plain": [
       "<Figure size 1440x720 with 1 Axes>"
      ]
     },
     "metadata": {
      "needs_background": "light"
     },
     "output_type": "display_data"
    },
    {
     "data": {
      "image/png": "[encoded data removed]",
      "text/plain": [
       "<Figure size 1440x720 with 1 Axes>"
      ]
     },
     "metadata": {
      "needs_background": "light"
     },
     "output_type": "display_data"
    }
   ],
   "source": [
    "parse_arguments_and_visualize (['-e', '3', '7', \n",
    "                                '-m', 'test_accuracy', \n",
    "                                '-b', 'matplotlib', \n",
    "                                '-v', '{\"visualization\": [\"history\", \"metric_correlation\", \"custom\"], \"metric_1\": \"validation_accuracy\", \"metric_2\": \"test_accuracy\"}'])"
   ]
  },
  {
   "cell_type": "markdown",
   "metadata": {},
   "source": [
    "### Visualize more than one metric"
   ]
  },
  {
   "cell_type": "code",
   "execution_count": null,
   "metadata": {},
   "outputs": [
    {
     "name": "stdout",
     "output_type": "stream",
     "text": [
      "we use the first metric test_accuracy in given list ['test_accuracy', 'validation_accuracy'] for obtaining the best experiment\n"
     ]
    },
    {
     "data": {
      "image/png": "[encoded data removed]",
      "text/plain": [
       "<Figure size 1440x720 with 1 Axes>"
      ]
     },
     "metadata": {
      "needs_background": "light"
     },
     "output_type": "display_data"
    },
    {
     "data": {
      "text/html": [
       "<div>\n",
       "<style scoped>\n",
       "    .dataframe tbody tr th:only-of-type {\n",
       "        vertical-align: middle;\n",
       "    }\n",
       "\n",
       "    .dataframe tbody tr th {\n",
       "        vertical-align: top;\n",
       "    }\n",
       "\n",
       "    .dataframe thead th {\n",
       "        text-align: right;\n",
       "    }\n",
       "</style>\n",
       "<table border=\"1\" class=\"dataframe\">\n",
       "  <thead>\n",
       "    <tr style=\"text-align: right;\">\n",
       "      <th></th>\n",
       "      <th>test_accuracy</th>\n",
       "    </tr>\n",
       "  </thead>\n",
       "  <tbody>\n",
       "    <tr>\n",
       "      <th>8</th>\n",
       "      <td>1.0</td>\n",
       "    </tr>\n",
       "    <tr>\n",
       "      <th>8</th>\n",
       "      <td>1.0</td>\n",
       "    </tr>\n",
       "  </tbody>\n",
       "</table>\n",
       "</div>"
      ],
      "text/plain": [
       "   test_accuracy\n",
       "8            1.0\n",
       "8            1.0"
      ]
     },
     "metadata": {},
     "output_type": "display_data"
    },
    {
     "data": {
      "image/png": "[encoded data removed]",
      "text/plain": [
       "<Figure size 1440x720 with 1 Axes>"
      ]
     },
     "metadata": {
      "needs_background": "light"
     },
     "output_type": "display_data"
    },
    {
     "data": {
      "text/html": [
       "<div>\n",
       "<style scoped>\n",
       "    .dataframe tbody tr th:only-of-type {\n",
       "        vertical-align: middle;\n",
       "    }\n",
       "\n",
       "    .dataframe tbody tr th {\n",
       "        vertical-align: top;\n",
       "    }\n",
       "\n",
       "    .dataframe thead th {\n",
       "        text-align: right;\n",
       "    }\n",
       "</style>\n",
       "<table border=\"1\" class=\"dataframe\">\n",
       "  <thead>\n",
       "    <tr style=\"text-align: right;\">\n",
       "      <th></th>\n",
       "      <th>test_accuracy</th>\n",
       "      <th>validation_accuracy</th>\n",
       "    </tr>\n",
       "  </thead>\n",
       "  <tbody>\n",
       "    <tr>\n",
       "      <th>8</th>\n",
       "      <td>1.0</td>\n",
       "      <td>1.0</td>\n",
       "    </tr>\n",
       "    <tr>\n",
       "      <th>8</th>\n",
       "      <td>1.0</td>\n",
       "      <td>1.0</td>\n",
       "    </tr>\n",
       "  </tbody>\n",
       "</table>\n",
       "</div>"
      ],
      "text/plain": [
       "   test_accuracy  validation_accuracy\n",
       "8            1.0                  1.0\n",
       "8            1.0                  1.0"
      ]
     },
     "metadata": {},
     "output_type": "display_data"
    }
   ],
   "source": [
    "metric_visualization (experiments=[-1,-2], metric=['test_accuracy', 'validation_accuracy'], backend='matplotlib')"
   ]
  },
  {
   "cell_type": "code",
   "execution_count": null,
   "metadata": {},
   "outputs": [
    {
     "name": "stdout",
     "output_type": "stream",
     "text": [
      "Converted hpconfig.ipynb.\n",
      "Converted manager_factory.ipynb.\n",
      "Converted complex_dummy_experiment_manager.ipynb.\n",
      "Converted dummy_experiment_manager.ipynb.\n",
      "Converted example_experiment.ipynb.\n",
      "Converted example_experiment_manager.ipynb.\n",
      "Converted experiment_manager.ipynb.\n",
      "Converted index.ipynb.\n",
      "Converted change_manager.ipynb.\n",
      "Converted metric_visualization.ipynb.\n",
      "Converted print_info.ipynb.\n",
      "Converted print_parameters.ipynb.\n",
      "Converted print_table.ipynb.\n",
      "Converted query.ipynb.\n",
      "Converted remove_experiments.ipynb.\n",
      "Converted experiment_utils.ipynb.\n",
      "Converted organize_experiments.ipynb.\n",
      "Converted resume_from_checkpoint.ipynb.\n",
      "Converted experiment_visualization.ipynb.\n",
      "Converted plot_utils.ipynb.\n"
     ]
    }
   ],
   "source": [
    "#hide\n",
    "from nbdev.export import *\n",
    "notebook2script(recursive=True)"
   ]
  }
 ],
 "metadata": {
  "kernelspec": {
   "display_name": "Python (athena_gpu)",
   "language": "python",
   "name": "athena_gpu"
  },
  "language_info": {
   "codemirror_mode": {
    "name": "ipython",
    "version": 3
   },
   "file_extension": ".py",
   "mimetype": "text/x-python",
   "name": "python",
   "nbconvert_exporter": "python",
   "pygments_lexer": "ipython3",
   "version": "3.7.6"
  }
 },
 "nbformat": 4,
 "nbformat_minor": 4
}
