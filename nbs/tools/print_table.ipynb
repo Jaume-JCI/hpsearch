{
 "cells": [
  {
   "cell_type": "code",
   "execution_count": 1,
   "metadata": {},
   "outputs": [],
   "source": [
    "#hide\n",
    "#default_exp tools.print_table\n",
    "from nbdev.showdoc import *\n",
    "from dsblocks.utils.nbdev_utils import nbdev_setup, TestRunner\n",
    "\n",
    "nbdev_setup ()\n",
    "tst = TestRunner (targets=['dummy'])"
   ]
  },
  {
   "cell_type": "markdown",
   "metadata": {},
   "source": [
    "# Print table\n",
    "\n",
    "> Prints results obtained in the experiment indicated as argument, across all the runs "
   ]
  },
  {
   "cell_type": "code",
   "execution_count": 2,
   "metadata": {},
   "outputs": [],
   "source": [
    "#export\n",
    "import warnings\n",
    "warnings.filterwarnings('ignore')\n",
    "\n",
    "import pandas as pd\n",
    "from IPython.display import display\n",
    "import argparse\n",
    "\n",
    "import sys\n",
    "sys.path.append('.')\n",
    "sys.path.append('src')\n",
    "\n",
    "from hpsearch.config.hpconfig import get_experiment_manager, get_path_experiments\n",
    "import hpsearch.utils.experiment_utils as ut\n",
    "from hpsearch.tools.metric_visualization import include_best_and_last_experiment\n",
    "import hpsearch.config.hp_defaults as dflt"
   ]
  },
  {
   "cell_type": "code",
   "execution_count": 3,
   "metadata": {},
   "outputs": [],
   "source": [
    "#for tests\n",
    "import pytest\n",
    "from hpsearch.examples.dummy_experiment_manager import generate_data"
   ]
  },
  {
   "cell_type": "markdown",
   "metadata": {},
   "source": [
    "## print_table"
   ]
  },
  {
   "cell_type": "code",
   "execution_count": 4,
   "metadata": {},
   "outputs": [],
   "source": [
    "#export\n",
    "def print_table (experiments=[-1, -2], path_experiments=None, folder=None, display_all=False, \n",
    "                 include_best=False, op=None, metric=None, round_digits=2, compare=True, \n",
    "                 compact=0, run_number=0, manager_path=dflt.manager_path):\n",
    "        \n",
    "    em = get_experiment_manager (manager_path=manager_path)\n",
    "    if path_experiments is not None or folder is not None:\n",
    "        em.set_path_experiments (path_experiments=path_experiments, folder=folder)\n",
    "    if metric is not None:\n",
    "        em.key_score = metric\n",
    "    if op is not None:\n",
    "        em.op = op\n",
    "        \n",
    "    path_experiments = em.path_experiments\n",
    "        \n",
    "    df = pd.read_pickle(path_experiments/'experiments_data.pk')\n",
    "\n",
    "    if display_all:\n",
    "        display (df[em.key_score])\n",
    "\n",
    "    metric_column = f'{run_number}_{em.key_score}'\n",
    "        \n",
    "    experiments = include_best_and_last_experiment ([metric], experiments=experiments, \n",
    "                                                    run_number=run_number, op=em.op)\n",
    "\n",
    "\n",
    "    df_scores = None\n",
    "    print ('\\n*****************************')\n",
    "    for e in experiments:\n",
    "        parameters = ut.get_parameters_columns(df.loc[e:e+1], True)\n",
    "        print ('\\nparameters for %d:' %e)\n",
    "        display (df.loc[e,parameters])\n",
    "        print ('scores for all experiments:')\n",
    "        df_scores = ut.get_experiment_scores(df.loc[[e]], suffix_results='_%s' %em.key_score, remove_suffix=True)\n",
    "        display(df_scores.round(round_digits))\n",
    "        print ('score:')\n",
    "        display (df.loc[e, metric_column])\n",
    "\n",
    "    df2 = None\n",
    "    if len(experiments) > 0 and compare:\n",
    "        parameters = ut.get_parameters_columns(df.loc[experiments], True)\n",
    "        print ('\\ncomparison')\n",
    "        display (df.loc[experiments, parameters])\n",
    "        print ('score')\n",
    "        display (df.loc[experiments, metric_column])\n",
    "\n",
    "        print ('with unique parameters:')\n",
    "        _, df2 = ut.get_parameters_unique(df.loc[experiments])\n",
    "        if compact > 0:\n",
    "            prev_cols = df2.columns.copy()\n",
    "            df2, dict_rename = ut.compact_parameters (df2, compact)\n",
    "            for k, kor in zip(df2.columns, prev_cols):\n",
    "                print ('{} => {}'.format(k, kor))\n",
    "        display(df2)\n",
    "\n",
    "    return df, df2, df_scores"
   ]
  },
  {
   "cell_type": "markdown",
   "metadata": {
    "tags": []
   },
   "source": [
    "### usage"
   ]
  },
  {
   "cell_type": "code",
   "execution_count": 5,
   "metadata": {},
   "outputs": [],
   "source": [
    "#export tests.tools.test_print_table\n",
    "def test_print_table ():\n",
    "    em = generate_data ('print_table')\n",
    "    \n",
    "    print_table (manager_path=em.manager_path)\n",
    "    \n",
    "    print_table (compare=True, manager_path=em.manager_path)\n",
    "    \n",
    "    print_table (experiments=[2, 6, -2], compare=True, compact=3, manager_path=em.manager_path)\n",
    "    \n",
    "    em.remove_previous_experiments (parent=True)"
   ]
  },
  {
   "cell_type": "code",
   "execution_count": 6,
   "metadata": {},
   "outputs": [
    {
     "name": "stdout",
     "output_type": "stream",
     "text": [
      "running test_print_table\n",
      "\n",
      "*****************************\n",
      "\n",
      "parameters for 8:\n"
     ]
    },
    {
     "data": {
      "text/plain": [
       "epochs      30\n",
       "noise      0.1\n",
       "offset     0.6\n",
       "rate      0.03\n",
       "Name: 8, dtype: object"
      ]
     },
     "metadata": {},
     "output_type": "display_data"
    },
    {
     "name": "stdout",
     "output_type": "stream",
     "text": [
      "scores for all experiments:\n"
     ]
    },
    {
     "data": {
      "text/html": [
       "<div>\n",
       "<style scoped>\n",
       "    .dataframe tbody tr th:only-of-type {\n",
       "        vertical-align: middle;\n",
       "    }\n",
       "\n",
       "    .dataframe tbody tr th {\n",
       "        vertical-align: top;\n",
       "    }\n",
       "\n",
       "    .dataframe thead th {\n",
       "        text-align: right;\n",
       "    }\n",
       "</style>\n",
       "<table border=\"1\" class=\"dataframe\">\n",
       "  <thead>\n",
       "    <tr style=\"text-align: right;\">\n",
       "      <th></th>\n",
       "      <th>0</th>\n",
       "      <th>1</th>\n",
       "      <th>2</th>\n",
       "      <th>3</th>\n",
       "      <th>4</th>\n",
       "    </tr>\n",
       "  </thead>\n",
       "  <tbody>\n",
       "    <tr>\n",
       "      <th>8</th>\n",
       "      <td>0.69</td>\n",
       "      <td>0.97</td>\n",
       "      <td>0.95</td>\n",
       "      <td>0.84</td>\n",
       "      <td>0.77</td>\n",
       "    </tr>\n",
       "  </tbody>\n",
       "</table>\n",
       "</div>"
      ],
      "text/plain": [
       "      0     1     2     3     4\n",
       "8  0.69  0.97  0.95  0.84  0.77"
      ]
     },
     "metadata": {},
     "output_type": "display_data"
    },
    {
     "name": "stdout",
     "output_type": "stream",
     "text": [
      "score:\n"
     ]
    },
    {
     "data": {
      "text/plain": [
       "0.6927138633073966"
      ]
     },
     "metadata": {},
     "output_type": "display_data"
    },
    {
     "name": "stdout",
     "output_type": "stream",
     "text": [
      "\n",
      "parameters for 5:\n"
     ]
    },
    {
     "data": {
      "text/plain": [
       "epochs      15\n",
       "noise      0.1\n",
       "offset     0.6\n",
       "rate      0.03\n",
       "Name: 5, dtype: object"
      ]
     },
     "metadata": {},
     "output_type": "display_data"
    },
    {
     "name": "stdout",
     "output_type": "stream",
     "text": [
      "scores for all experiments:\n"
     ]
    },
    {
     "data": {
      "text/html": [
       "<div>\n",
       "<style scoped>\n",
       "    .dataframe tbody tr th:only-of-type {\n",
       "        vertical-align: middle;\n",
       "    }\n",
       "\n",
       "    .dataframe tbody tr th {\n",
       "        vertical-align: top;\n",
       "    }\n",
       "\n",
       "    .dataframe thead th {\n",
       "        text-align: right;\n",
       "    }\n",
       "</style>\n",
       "<table border=\"1\" class=\"dataframe\">\n",
       "  <thead>\n",
       "    <tr style=\"text-align: right;\">\n",
       "      <th></th>\n",
       "      <th>0</th>\n",
       "      <th>1</th>\n",
       "      <th>2</th>\n",
       "      <th>3</th>\n",
       "      <th>4</th>\n",
       "    </tr>\n",
       "  </thead>\n",
       "  <tbody>\n",
       "    <tr>\n",
       "      <th>5</th>\n",
       "      <td>1.0</td>\n",
       "      <td>0.86</td>\n",
       "      <td>1.0</td>\n",
       "      <td>1.0</td>\n",
       "      <td>1.0</td>\n",
       "    </tr>\n",
       "  </tbody>\n",
       "</table>\n",
       "</div>"
      ],
      "text/plain": [
       "     0     1    2    3    4\n",
       "5  1.0  0.86  1.0  1.0  1.0"
      ]
     },
     "metadata": {},
     "output_type": "display_data"
    },
    {
     "name": "stdout",
     "output_type": "stream",
     "text": [
      "score:\n"
     ]
    },
    {
     "data": {
      "text/plain": [
       "1.0"
      ]
     },
     "metadata": {},
     "output_type": "display_data"
    },
    {
     "name": "stdout",
     "output_type": "stream",
     "text": [
      "\n",
      "comparison\n"
     ]
    },
    {
     "data": {
      "text/html": [
       "<div>\n",
       "<style scoped>\n",
       "    .dataframe tbody tr th:only-of-type {\n",
       "        vertical-align: middle;\n",
       "    }\n",
       "\n",
       "    .dataframe tbody tr th {\n",
       "        vertical-align: top;\n",
       "    }\n",
       "\n",
       "    .dataframe thead th {\n",
       "        text-align: right;\n",
       "    }\n",
       "</style>\n",
       "<table border=\"1\" class=\"dataframe\">\n",
       "  <thead>\n",
       "    <tr style=\"text-align: right;\">\n",
       "      <th></th>\n",
       "      <th>epochs</th>\n",
       "      <th>noise</th>\n",
       "      <th>offset</th>\n",
       "      <th>rate</th>\n",
       "    </tr>\n",
       "  </thead>\n",
       "  <tbody>\n",
       "    <tr>\n",
       "      <th>8</th>\n",
       "      <td>30.0</td>\n",
       "      <td>0.1</td>\n",
       "      <td>0.6</td>\n",
       "      <td>0.03</td>\n",
       "    </tr>\n",
       "    <tr>\n",
       "      <th>5</th>\n",
       "      <td>15.0</td>\n",
       "      <td>0.1</td>\n",
       "      <td>0.6</td>\n",
       "      <td>0.03</td>\n",
       "    </tr>\n",
       "  </tbody>\n",
       "</table>\n",
       "</div>"
      ],
      "text/plain": [
       "   epochs  noise  offset  rate\n",
       "8    30.0    0.1     0.6  0.03\n",
       "5    15.0    0.1     0.6  0.03"
      ]
     },
     "metadata": {},
     "output_type": "display_data"
    },
    {
     "name": "stdout",
     "output_type": "stream",
     "text": [
      "score\n"
     ]
    },
    {
     "data": {
      "text/plain": [
       "8    0.692714\n",
       "5    1.000000\n",
       "Name: 0_validation_accuracy, dtype: float64"
      ]
     },
     "metadata": {},
     "output_type": "display_data"
    },
    {
     "name": "stdout",
     "output_type": "stream",
     "text": [
      "with unique parameters:\n"
     ]
    },
    {
     "data": {
      "text/html": [
       "<div>\n",
       "<style scoped>\n",
       "    .dataframe tbody tr th:only-of-type {\n",
       "        vertical-align: middle;\n",
       "    }\n",
       "\n",
       "    .dataframe tbody tr th {\n",
       "        vertical-align: top;\n",
       "    }\n",
       "\n",
       "    .dataframe thead th {\n",
       "        text-align: right;\n",
       "    }\n",
       "</style>\n",
       "<table border=\"1\" class=\"dataframe\">\n",
       "  <thead>\n",
       "    <tr style=\"text-align: right;\">\n",
       "      <th></th>\n",
       "      <th>epochs</th>\n",
       "      <th>0_validation_accuracy</th>\n",
       "      <th>0_test_accuracy</th>\n",
       "      <th>time_0</th>\n",
       "      <th>date</th>\n",
       "      <th>1_validation_accuracy</th>\n",
       "      <th>1_test_accuracy</th>\n",
       "      <th>time_1</th>\n",
       "      <th>2_validation_accuracy</th>\n",
       "      <th>2_test_accuracy</th>\n",
       "      <th>time_2</th>\n",
       "      <th>3_validation_accuracy</th>\n",
       "      <th>3_test_accuracy</th>\n",
       "      <th>time_3</th>\n",
       "      <th>4_validation_accuracy</th>\n",
       "      <th>4_test_accuracy</th>\n",
       "      <th>time_4</th>\n",
       "    </tr>\n",
       "  </thead>\n",
       "  <tbody>\n",
       "    <tr>\n",
       "      <th>8</th>\n",
       "      <td>30.0</td>\n",
       "      <td>0.692714</td>\n",
       "      <td>0.937393</td>\n",
       "      <td>0.000289</td>\n",
       "      <td>21:13:20.927940</td>\n",
       "      <td>0.972286</td>\n",
       "      <td>0.836431</td>\n",
       "      <td>0.000289</td>\n",
       "      <td>0.94632</td>\n",
       "      <td>0.824070</td>\n",
       "      <td>0.000316</td>\n",
       "      <td>0.84128</td>\n",
       "      <td>0.836821</td>\n",
       "      <td>0.000349</td>\n",
       "      <td>0.77371</td>\n",
       "      <td>0.911645</td>\n",
       "      <td>0.000307</td>\n",
       "    </tr>\n",
       "    <tr>\n",
       "      <th>5</th>\n",
       "      <td>15.0</td>\n",
       "      <td>1.000000</td>\n",
       "      <td>0.910991</td>\n",
       "      <td>0.000259</td>\n",
       "      <td>21:13:20.266897</td>\n",
       "      <td>0.858103</td>\n",
       "      <td>0.882976</td>\n",
       "      <td>0.000279</td>\n",
       "      <td>1.00000</td>\n",
       "      <td>0.809882</td>\n",
       "      <td>0.000254</td>\n",
       "      <td>1.00000</td>\n",
       "      <td>0.842953</td>\n",
       "      <td>0.000283</td>\n",
       "      <td>1.00000</td>\n",
       "      <td>1.000000</td>\n",
       "      <td>0.000284</td>\n",
       "    </tr>\n",
       "  </tbody>\n",
       "</table>\n",
       "</div>"
      ],
      "text/plain": [
       "   epochs  0_validation_accuracy  0_test_accuracy    time_0             date  \\\n",
       "8    30.0               0.692714         0.937393  0.000289  21:13:20.927940   \n",
       "5    15.0               1.000000         0.910991  0.000259  21:13:20.266897   \n",
       "\n",
       "   1_validation_accuracy  1_test_accuracy    time_1  2_validation_accuracy  \\\n",
       "8               0.972286         0.836431  0.000289                0.94632   \n",
       "5               0.858103         0.882976  0.000279                1.00000   \n",
       "\n",
       "   2_test_accuracy    time_2  3_validation_accuracy  3_test_accuracy  \\\n",
       "8         0.824070  0.000316                0.84128         0.836821   \n",
       "5         0.809882  0.000254                1.00000         0.842953   \n",
       "\n",
       "     time_3  4_validation_accuracy  4_test_accuracy    time_4  \n",
       "8  0.000349                0.77371         0.911645  0.000307  \n",
       "5  0.000283                1.00000         1.000000  0.000284  "
      ]
     },
     "metadata": {},
     "output_type": "display_data"
    },
    {
     "name": "stdout",
     "output_type": "stream",
     "text": [
      "\n",
      "*****************************\n",
      "\n",
      "parameters for 8:\n"
     ]
    },
    {
     "data": {
      "text/plain": [
       "epochs      30\n",
       "noise      0.1\n",
       "offset     0.6\n",
       "rate      0.03\n",
       "Name: 8, dtype: object"
      ]
     },
     "metadata": {},
     "output_type": "display_data"
    },
    {
     "name": "stdout",
     "output_type": "stream",
     "text": [
      "scores for all experiments:\n"
     ]
    },
    {
     "data": {
      "text/html": [
       "<div>\n",
       "<style scoped>\n",
       "    .dataframe tbody tr th:only-of-type {\n",
       "        vertical-align: middle;\n",
       "    }\n",
       "\n",
       "    .dataframe tbody tr th {\n",
       "        vertical-align: top;\n",
       "    }\n",
       "\n",
       "    .dataframe thead th {\n",
       "        text-align: right;\n",
       "    }\n",
       "</style>\n",
       "<table border=\"1\" class=\"dataframe\">\n",
       "  <thead>\n",
       "    <tr style=\"text-align: right;\">\n",
       "      <th></th>\n",
       "      <th>0</th>\n",
       "      <th>1</th>\n",
       "      <th>2</th>\n",
       "      <th>3</th>\n",
       "      <th>4</th>\n",
       "    </tr>\n",
       "  </thead>\n",
       "  <tbody>\n",
       "    <tr>\n",
       "      <th>8</th>\n",
       "      <td>0.69</td>\n",
       "      <td>0.97</td>\n",
       "      <td>0.95</td>\n",
       "      <td>0.84</td>\n",
       "      <td>0.77</td>\n",
       "    </tr>\n",
       "  </tbody>\n",
       "</table>\n",
       "</div>"
      ],
      "text/plain": [
       "      0     1     2     3     4\n",
       "8  0.69  0.97  0.95  0.84  0.77"
      ]
     },
     "metadata": {},
     "output_type": "display_data"
    },
    {
     "name": "stdout",
     "output_type": "stream",
     "text": [
      "score:\n"
     ]
    },
    {
     "data": {
      "text/plain": [
       "0.6927138633073966"
      ]
     },
     "metadata": {},
     "output_type": "display_data"
    },
    {
     "name": "stdout",
     "output_type": "stream",
     "text": [
      "\n",
      "parameters for 5:\n"
     ]
    },
    {
     "data": {
      "text/plain": [
       "epochs      15\n",
       "noise      0.1\n",
       "offset     0.6\n",
       "rate      0.03\n",
       "Name: 5, dtype: object"
      ]
     },
     "metadata": {},
     "output_type": "display_data"
    },
    {
     "name": "stdout",
     "output_type": "stream",
     "text": [
      "scores for all experiments:\n"
     ]
    },
    {
     "data": {
      "text/html": [
       "<div>\n",
       "<style scoped>\n",
       "    .dataframe tbody tr th:only-of-type {\n",
       "        vertical-align: middle;\n",
       "    }\n",
       "\n",
       "    .dataframe tbody tr th {\n",
       "        vertical-align: top;\n",
       "    }\n",
       "\n",
       "    .dataframe thead th {\n",
       "        text-align: right;\n",
       "    }\n",
       "</style>\n",
       "<table border=\"1\" class=\"dataframe\">\n",
       "  <thead>\n",
       "    <tr style=\"text-align: right;\">\n",
       "      <th></th>\n",
       "      <th>0</th>\n",
       "      <th>1</th>\n",
       "      <th>2</th>\n",
       "      <th>3</th>\n",
       "      <th>4</th>\n",
       "    </tr>\n",
       "  </thead>\n",
       "  <tbody>\n",
       "    <tr>\n",
       "      <th>5</th>\n",
       "      <td>1.0</td>\n",
       "      <td>0.86</td>\n",
       "      <td>1.0</td>\n",
       "      <td>1.0</td>\n",
       "      <td>1.0</td>\n",
       "    </tr>\n",
       "  </tbody>\n",
       "</table>\n",
       "</div>"
      ],
      "text/plain": [
       "     0     1    2    3    4\n",
       "5  1.0  0.86  1.0  1.0  1.0"
      ]
     },
     "metadata": {},
     "output_type": "display_data"
    },
    {
     "name": "stdout",
     "output_type": "stream",
     "text": [
      "score:\n"
     ]
    },
    {
     "data": {
      "text/plain": [
       "1.0"
      ]
     },
     "metadata": {},
     "output_type": "display_data"
    },
    {
     "name": "stdout",
     "output_type": "stream",
     "text": [
      "\n",
      "comparison\n"
     ]
    },
    {
     "data": {
      "text/html": [
       "<div>\n",
       "<style scoped>\n",
       "    .dataframe tbody tr th:only-of-type {\n",
       "        vertical-align: middle;\n",
       "    }\n",
       "\n",
       "    .dataframe tbody tr th {\n",
       "        vertical-align: top;\n",
       "    }\n",
       "\n",
       "    .dataframe thead th {\n",
       "        text-align: right;\n",
       "    }\n",
       "</style>\n",
       "<table border=\"1\" class=\"dataframe\">\n",
       "  <thead>\n",
       "    <tr style=\"text-align: right;\">\n",
       "      <th></th>\n",
       "      <th>epochs</th>\n",
       "      <th>noise</th>\n",
       "      <th>offset</th>\n",
       "      <th>rate</th>\n",
       "    </tr>\n",
       "  </thead>\n",
       "  <tbody>\n",
       "    <tr>\n",
       "      <th>8</th>\n",
       "      <td>30.0</td>\n",
       "      <td>0.1</td>\n",
       "      <td>0.6</td>\n",
       "      <td>0.03</td>\n",
       "    </tr>\n",
       "    <tr>\n",
       "      <th>5</th>\n",
       "      <td>15.0</td>\n",
       "      <td>0.1</td>\n",
       "      <td>0.6</td>\n",
       "      <td>0.03</td>\n",
       "    </tr>\n",
       "  </tbody>\n",
       "</table>\n",
       "</div>"
      ],
      "text/plain": [
       "   epochs  noise  offset  rate\n",
       "8    30.0    0.1     0.6  0.03\n",
       "5    15.0    0.1     0.6  0.03"
      ]
     },
     "metadata": {},
     "output_type": "display_data"
    },
    {
     "name": "stdout",
     "output_type": "stream",
     "text": [
      "score\n"
     ]
    },
    {
     "data": {
      "text/plain": [
       "8    0.692714\n",
       "5    1.000000\n",
       "Name: 0_validation_accuracy, dtype: float64"
      ]
     },
     "metadata": {},
     "output_type": "display_data"
    },
    {
     "name": "stdout",
     "output_type": "stream",
     "text": [
      "with unique parameters:\n"
     ]
    },
    {
     "data": {
      "text/html": [
       "<div>\n",
       "<style scoped>\n",
       "    .dataframe tbody tr th:only-of-type {\n",
       "        vertical-align: middle;\n",
       "    }\n",
       "\n",
       "    .dataframe tbody tr th {\n",
       "        vertical-align: top;\n",
       "    }\n",
       "\n",
       "    .dataframe thead th {\n",
       "        text-align: right;\n",
       "    }\n",
       "</style>\n",
       "<table border=\"1\" class=\"dataframe\">\n",
       "  <thead>\n",
       "    <tr style=\"text-align: right;\">\n",
       "      <th></th>\n",
       "      <th>epochs</th>\n",
       "      <th>0_validation_accuracy</th>\n",
       "      <th>0_test_accuracy</th>\n",
       "      <th>time_0</th>\n",
       "      <th>date</th>\n",
       "      <th>1_validation_accuracy</th>\n",
       "      <th>1_test_accuracy</th>\n",
       "      <th>time_1</th>\n",
       "      <th>2_validation_accuracy</th>\n",
       "      <th>2_test_accuracy</th>\n",
       "      <th>time_2</th>\n",
       "      <th>3_validation_accuracy</th>\n",
       "      <th>3_test_accuracy</th>\n",
       "      <th>time_3</th>\n",
       "      <th>4_validation_accuracy</th>\n",
       "      <th>4_test_accuracy</th>\n",
       "      <th>time_4</th>\n",
       "    </tr>\n",
       "  </thead>\n",
       "  <tbody>\n",
       "    <tr>\n",
       "      <th>8</th>\n",
       "      <td>30.0</td>\n",
       "      <td>0.692714</td>\n",
       "      <td>0.937393</td>\n",
       "      <td>0.000289</td>\n",
       "      <td>21:13:20.927940</td>\n",
       "      <td>0.972286</td>\n",
       "      <td>0.836431</td>\n",
       "      <td>0.000289</td>\n",
       "      <td>0.94632</td>\n",
       "      <td>0.824070</td>\n",
       "      <td>0.000316</td>\n",
       "      <td>0.84128</td>\n",
       "      <td>0.836821</td>\n",
       "      <td>0.000349</td>\n",
       "      <td>0.77371</td>\n",
       "      <td>0.911645</td>\n",
       "      <td>0.000307</td>\n",
       "    </tr>\n",
       "    <tr>\n",
       "      <th>5</th>\n",
       "      <td>15.0</td>\n",
       "      <td>1.000000</td>\n",
       "      <td>0.910991</td>\n",
       "      <td>0.000259</td>\n",
       "      <td>21:13:20.266897</td>\n",
       "      <td>0.858103</td>\n",
       "      <td>0.882976</td>\n",
       "      <td>0.000279</td>\n",
       "      <td>1.00000</td>\n",
       "      <td>0.809882</td>\n",
       "      <td>0.000254</td>\n",
       "      <td>1.00000</td>\n",
       "      <td>0.842953</td>\n",
       "      <td>0.000283</td>\n",
       "      <td>1.00000</td>\n",
       "      <td>1.000000</td>\n",
       "      <td>0.000284</td>\n",
       "    </tr>\n",
       "  </tbody>\n",
       "</table>\n",
       "</div>"
      ],
      "text/plain": [
       "   epochs  0_validation_accuracy  0_test_accuracy    time_0             date  \\\n",
       "8    30.0               0.692714         0.937393  0.000289  21:13:20.927940   \n",
       "5    15.0               1.000000         0.910991  0.000259  21:13:20.266897   \n",
       "\n",
       "   1_validation_accuracy  1_test_accuracy    time_1  2_validation_accuracy  \\\n",
       "8               0.972286         0.836431  0.000289                0.94632   \n",
       "5               0.858103         0.882976  0.000279                1.00000   \n",
       "\n",
       "   2_test_accuracy    time_2  3_validation_accuracy  3_test_accuracy  \\\n",
       "8         0.824070  0.000316                0.84128         0.836821   \n",
       "5         0.809882  0.000254                1.00000         0.842953   \n",
       "\n",
       "     time_3  4_validation_accuracy  4_test_accuracy    time_4  \n",
       "8  0.000349                0.77371         0.911645  0.000307  \n",
       "5  0.000283                1.00000         1.000000  0.000284  "
      ]
     },
     "metadata": {},
     "output_type": "display_data"
    },
    {
     "name": "stdout",
     "output_type": "stream",
     "text": [
      "\n",
      "*****************************\n",
      "\n",
      "parameters for 2:\n"
     ]
    },
    {
     "data": {
      "text/plain": [
       "epochs       5\n",
       "noise      0.1\n",
       "offset     0.6\n",
       "rate      0.03\n",
       "Name: 2, dtype: object"
      ]
     },
     "metadata": {},
     "output_type": "display_data"
    },
    {
     "name": "stdout",
     "output_type": "stream",
     "text": [
      "scores for all experiments:\n"
     ]
    },
    {
     "data": {
      "text/html": [
       "<div>\n",
       "<style scoped>\n",
       "    .dataframe tbody tr th:only-of-type {\n",
       "        vertical-align: middle;\n",
       "    }\n",
       "\n",
       "    .dataframe tbody tr th {\n",
       "        vertical-align: top;\n",
       "    }\n",
       "\n",
       "    .dataframe thead th {\n",
       "        text-align: right;\n",
       "    }\n",
       "</style>\n",
       "<table border=\"1\" class=\"dataframe\">\n",
       "  <thead>\n",
       "    <tr style=\"text-align: right;\">\n",
       "      <th></th>\n",
       "      <th>0</th>\n",
       "      <th>1</th>\n",
       "      <th>2</th>\n",
       "      <th>3</th>\n",
       "      <th>4</th>\n",
       "    </tr>\n",
       "  </thead>\n",
       "  <tbody>\n",
       "    <tr>\n",
       "      <th>2</th>\n",
       "      <td>0.55</td>\n",
       "      <td>0.59</td>\n",
       "      <td>0.6</td>\n",
       "      <td>0.77</td>\n",
       "      <td>0.84</td>\n",
       "    </tr>\n",
       "  </tbody>\n",
       "</table>\n",
       "</div>"
      ],
      "text/plain": [
       "      0     1    2     3     4\n",
       "2  0.55  0.59  0.6  0.77  0.84"
      ]
     },
     "metadata": {},
     "output_type": "display_data"
    },
    {
     "name": "stdout",
     "output_type": "stream",
     "text": [
      "score:\n"
     ]
    },
    {
     "data": {
      "text/plain": [
       "0.5543309780894542"
      ]
     },
     "metadata": {},
     "output_type": "display_data"
    },
    {
     "name": "stdout",
     "output_type": "stream",
     "text": [
      "\n",
      "parameters for 6:\n"
     ]
    },
    {
     "data": {
      "text/plain": [
       "epochs      30\n",
       "noise      0.1\n",
       "offset     0.1\n",
       "rate      0.03\n",
       "Name: 6, dtype: object"
      ]
     },
     "metadata": {},
     "output_type": "display_data"
    },
    {
     "name": "stdout",
     "output_type": "stream",
     "text": [
      "scores for all experiments:\n"
     ]
    },
    {
     "data": {
      "text/html": [
       "<div>\n",
       "<style scoped>\n",
       "    .dataframe tbody tr th:only-of-type {\n",
       "        vertical-align: middle;\n",
       "    }\n",
       "\n",
       "    .dataframe tbody tr th {\n",
       "        vertical-align: top;\n",
       "    }\n",
       "\n",
       "    .dataframe thead th {\n",
       "        text-align: right;\n",
       "    }\n",
       "</style>\n",
       "<table border=\"1\" class=\"dataframe\">\n",
       "  <thead>\n",
       "    <tr style=\"text-align: right;\">\n",
       "      <th></th>\n",
       "      <th>0</th>\n",
       "      <th>1</th>\n",
       "      <th>2</th>\n",
       "      <th>3</th>\n",
       "      <th>4</th>\n",
       "    </tr>\n",
       "  </thead>\n",
       "  <tbody>\n",
       "    <tr>\n",
       "      <th>6</th>\n",
       "      <td>0.39</td>\n",
       "      <td>0.39</td>\n",
       "      <td>0.36</td>\n",
       "      <td>0.55</td>\n",
       "      <td>0.29</td>\n",
       "    </tr>\n",
       "  </tbody>\n",
       "</table>\n",
       "</div>"
      ],
      "text/plain": [
       "      0     1     2     3     4\n",
       "6  0.39  0.39  0.36  0.55  0.29"
      ]
     },
     "metadata": {},
     "output_type": "display_data"
    },
    {
     "name": "stdout",
     "output_type": "stream",
     "text": [
      "score:\n"
     ]
    },
    {
     "data": {
      "text/plain": [
       "0.3938495665814299"
      ]
     },
     "metadata": {},
     "output_type": "display_data"
    },
    {
     "name": "stdout",
     "output_type": "stream",
     "text": [
      "\n",
      "parameters for 5:\n"
     ]
    },
    {
     "data": {
      "text/plain": [
       "epochs      15\n",
       "noise      0.1\n",
       "offset     0.6\n",
       "rate      0.03\n",
       "Name: 5, dtype: object"
      ]
     },
     "metadata": {},
     "output_type": "display_data"
    },
    {
     "name": "stdout",
     "output_type": "stream",
     "text": [
      "scores for all experiments:\n"
     ]
    },
    {
     "data": {
      "text/html": [
       "<div>\n",
       "<style scoped>\n",
       "    .dataframe tbody tr th:only-of-type {\n",
       "        vertical-align: middle;\n",
       "    }\n",
       "\n",
       "    .dataframe tbody tr th {\n",
       "        vertical-align: top;\n",
       "    }\n",
       "\n",
       "    .dataframe thead th {\n",
       "        text-align: right;\n",
       "    }\n",
       "</style>\n",
       "<table border=\"1\" class=\"dataframe\">\n",
       "  <thead>\n",
       "    <tr style=\"text-align: right;\">\n",
       "      <th></th>\n",
       "      <th>0</th>\n",
       "      <th>1</th>\n",
       "      <th>2</th>\n",
       "      <th>3</th>\n",
       "      <th>4</th>\n",
       "    </tr>\n",
       "  </thead>\n",
       "  <tbody>\n",
       "    <tr>\n",
       "      <th>5</th>\n",
       "      <td>1.0</td>\n",
       "      <td>0.86</td>\n",
       "      <td>1.0</td>\n",
       "      <td>1.0</td>\n",
       "      <td>1.0</td>\n",
       "    </tr>\n",
       "  </tbody>\n",
       "</table>\n",
       "</div>"
      ],
      "text/plain": [
       "     0     1    2    3    4\n",
       "5  1.0  0.86  1.0  1.0  1.0"
      ]
     },
     "metadata": {},
     "output_type": "display_data"
    },
    {
     "name": "stdout",
     "output_type": "stream",
     "text": [
      "score:\n"
     ]
    },
    {
     "data": {
      "text/plain": [
       "1.0"
      ]
     },
     "metadata": {},
     "output_type": "display_data"
    },
    {
     "name": "stdout",
     "output_type": "stream",
     "text": [
      "\n",
      "comparison\n"
     ]
    },
    {
     "data": {
      "text/html": [
       "<div>\n",
       "<style scoped>\n",
       "    .dataframe tbody tr th:only-of-type {\n",
       "        vertical-align: middle;\n",
       "    }\n",
       "\n",
       "    .dataframe tbody tr th {\n",
       "        vertical-align: top;\n",
       "    }\n",
       "\n",
       "    .dataframe thead th {\n",
       "        text-align: right;\n",
       "    }\n",
       "</style>\n",
       "<table border=\"1\" class=\"dataframe\">\n",
       "  <thead>\n",
       "    <tr style=\"text-align: right;\">\n",
       "      <th></th>\n",
       "      <th>epochs</th>\n",
       "      <th>noise</th>\n",
       "      <th>offset</th>\n",
       "      <th>rate</th>\n",
       "    </tr>\n",
       "  </thead>\n",
       "  <tbody>\n",
       "    <tr>\n",
       "      <th>2</th>\n",
       "      <td>5.0</td>\n",
       "      <td>0.1</td>\n",
       "      <td>0.6</td>\n",
       "      <td>0.03</td>\n",
       "    </tr>\n",
       "    <tr>\n",
       "      <th>6</th>\n",
       "      <td>30.0</td>\n",
       "      <td>0.1</td>\n",
       "      <td>0.1</td>\n",
       "      <td>0.03</td>\n",
       "    </tr>\n",
       "    <tr>\n",
       "      <th>5</th>\n",
       "      <td>15.0</td>\n",
       "      <td>0.1</td>\n",
       "      <td>0.6</td>\n",
       "      <td>0.03</td>\n",
       "    </tr>\n",
       "  </tbody>\n",
       "</table>\n",
       "</div>"
      ],
      "text/plain": [
       "   epochs  noise  offset  rate\n",
       "2     5.0    0.1     0.6  0.03\n",
       "6    30.0    0.1     0.1  0.03\n",
       "5    15.0    0.1     0.6  0.03"
      ]
     },
     "metadata": {},
     "output_type": "display_data"
    },
    {
     "name": "stdout",
     "output_type": "stream",
     "text": [
      "score\n"
     ]
    },
    {
     "data": {
      "text/plain": [
       "2    0.554331\n",
       "6    0.393850\n",
       "5    1.000000\n",
       "Name: 0_validation_accuracy, dtype: float64"
      ]
     },
     "metadata": {},
     "output_type": "display_data"
    },
    {
     "name": "stdout",
     "output_type": "stream",
     "text": [
      "with unique parameters:\n",
      "Epo => epochs\n",
      "Off => offset\n",
      "0ValAcc => 0_validation_accuracy\n",
      "0TesAcc => 0_test_accuracy\n",
      "Tim0 => time_0\n",
      "Dat => date\n",
      "1ValAcc => 1_validation_accuracy\n",
      "1TesAcc => 1_test_accuracy\n",
      "Tim1 => time_1\n",
      "2ValAcc => 2_validation_accuracy\n",
      "2TesAcc => 2_test_accuracy\n",
      "Tim2 => time_2\n",
      "3ValAcc => 3_validation_accuracy\n",
      "3TesAcc => 3_test_accuracy\n",
      "Tim3 => time_3\n",
      "4ValAcc => 4_validation_accuracy\n",
      "4TesAcc => 4_test_accuracy\n",
      "Tim4 => time_4\n"
     ]
    },
    {
     "data": {
      "text/html": [
       "<div>\n",
       "<style scoped>\n",
       "    .dataframe tbody tr th:only-of-type {\n",
       "        vertical-align: middle;\n",
       "    }\n",
       "\n",
       "    .dataframe tbody tr th {\n",
       "        vertical-align: top;\n",
       "    }\n",
       "\n",
       "    .dataframe thead th {\n",
       "        text-align: right;\n",
       "    }\n",
       "</style>\n",
       "<table border=\"1\" class=\"dataframe\">\n",
       "  <thead>\n",
       "    <tr style=\"text-align: right;\">\n",
       "      <th></th>\n",
       "      <th>Epo</th>\n",
       "      <th>Off</th>\n",
       "      <th>0ValAcc</th>\n",
       "      <th>0TesAcc</th>\n",
       "      <th>Tim0</th>\n",
       "      <th>Dat</th>\n",
       "      <th>1ValAcc</th>\n",
       "      <th>1TesAcc</th>\n",
       "      <th>Tim1</th>\n",
       "      <th>2ValAcc</th>\n",
       "      <th>2TesAcc</th>\n",
       "      <th>Tim2</th>\n",
       "      <th>3ValAcc</th>\n",
       "      <th>3TesAcc</th>\n",
       "      <th>Tim3</th>\n",
       "      <th>4ValAcc</th>\n",
       "      <th>4TesAcc</th>\n",
       "      <th>Tim4</th>\n",
       "    </tr>\n",
       "  </thead>\n",
       "  <tbody>\n",
       "    <tr>\n",
       "      <th>2</th>\n",
       "      <td>5.0</td>\n",
       "      <td>0.6</td>\n",
       "      <td>0.554331</td>\n",
       "      <td>0.827450</td>\n",
       "      <td>0.000233</td>\n",
       "      <td>21:13:19.669841</td>\n",
       "      <td>0.588019</td>\n",
       "      <td>0.866663</td>\n",
       "      <td>0.000222</td>\n",
       "      <td>0.603512</td>\n",
       "      <td>0.734215</td>\n",
       "      <td>0.000219</td>\n",
       "      <td>0.766158</td>\n",
       "      <td>0.773693</td>\n",
       "      <td>0.000230</td>\n",
       "      <td>0.835562</td>\n",
       "      <td>0.921418</td>\n",
       "      <td>0.000244</td>\n",
       "    </tr>\n",
       "    <tr>\n",
       "      <th>6</th>\n",
       "      <td>30.0</td>\n",
       "      <td>0.1</td>\n",
       "      <td>0.393850</td>\n",
       "      <td>0.202604</td>\n",
       "      <td>0.000307</td>\n",
       "      <td>21:13:20.477696</td>\n",
       "      <td>0.392414</td>\n",
       "      <td>0.292257</td>\n",
       "      <td>0.000329</td>\n",
       "      <td>0.362720</td>\n",
       "      <td>0.400189</td>\n",
       "      <td>0.000331</td>\n",
       "      <td>0.549044</td>\n",
       "      <td>0.358083</td>\n",
       "      <td>0.000329</td>\n",
       "      <td>0.287793</td>\n",
       "      <td>0.340739</td>\n",
       "      <td>0.000326</td>\n",
       "    </tr>\n",
       "    <tr>\n",
       "      <th>5</th>\n",
       "      <td>15.0</td>\n",
       "      <td>0.6</td>\n",
       "      <td>1.000000</td>\n",
       "      <td>0.910991</td>\n",
       "      <td>0.000259</td>\n",
       "      <td>21:13:20.266897</td>\n",
       "      <td>0.858103</td>\n",
       "      <td>0.882976</td>\n",
       "      <td>0.000279</td>\n",
       "      <td>1.000000</td>\n",
       "      <td>0.809882</td>\n",
       "      <td>0.000254</td>\n",
       "      <td>1.000000</td>\n",
       "      <td>0.842953</td>\n",
       "      <td>0.000283</td>\n",
       "      <td>1.000000</td>\n",
       "      <td>1.000000</td>\n",
       "      <td>0.000284</td>\n",
       "    </tr>\n",
       "  </tbody>\n",
       "</table>\n",
       "</div>"
      ],
      "text/plain": [
       "    Epo  Off   0ValAcc   0TesAcc      Tim0              Dat   1ValAcc  \\\n",
       "2   5.0  0.6  0.554331  0.827450  0.000233  21:13:19.669841  0.588019   \n",
       "6  30.0  0.1  0.393850  0.202604  0.000307  21:13:20.477696  0.392414   \n",
       "5  15.0  0.6  1.000000  0.910991  0.000259  21:13:20.266897  0.858103   \n",
       "\n",
       "    1TesAcc      Tim1   2ValAcc   2TesAcc      Tim2   3ValAcc   3TesAcc  \\\n",
       "2  0.866663  0.000222  0.603512  0.734215  0.000219  0.766158  0.773693   \n",
       "6  0.292257  0.000329  0.362720  0.400189  0.000331  0.549044  0.358083   \n",
       "5  0.882976  0.000279  1.000000  0.809882  0.000254  1.000000  0.842953   \n",
       "\n",
       "       Tim3   4ValAcc   4TesAcc      Tim4  \n",
       "2  0.000230  0.835562  0.921418  0.000244  \n",
       "6  0.000329  0.287793  0.340739  0.000326  \n",
       "5  0.000283  1.000000  1.000000  0.000284  "
      ]
     },
     "metadata": {},
     "output_type": "display_data"
    }
   ],
   "source": [
    "tst.run (test_print_table, tag='dummy')"
   ]
  },
  {
   "cell_type": "markdown",
   "metadata": {},
   "source": [
    "## parse_arguments_and_run"
   ]
  },
  {
   "cell_type": "code",
   "execution_count": 7,
   "metadata": {},
   "outputs": [],
   "source": [
    "#export\n",
    "def parse_args(args):\n",
    "    parser = argparse.ArgumentParser(description='print table') \n",
    "    # Datasets\n",
    "    parser.add_argument('--folder', type=str, default=None, help='name of experiments folder')\n",
    "    parser.add_argument('--path_experiments', type=str, default=None, help='full path')\n",
    "    parser.add_argument('-m', '--metric', type=str, default=None, help='metric score')\n",
    "    parser.add_argument('-e', type=int, nargs='+', default=[-1, -2], help='experiment numbers')\n",
    "    parser.add_argument('-a', type=bool, default=False)\n",
    "    parser.add_argument ('-b', '--best', action= \"store_true\", help='include experiment with best performance (on given run id!!)')\n",
    "    parser.add_argument ('-r', '--run', type=int, default=0, help='run id') \n",
    "    parser.add_argument('-n', '--no_comp', action= \"store_true\", help='do not perform comparison')\n",
    "    parser.add_argument('--compact', type=int, default=0, help='compact parameters to this number of characters') \n",
    "    parser.add_argument('--op', default=None, type=str)\n",
    "    parser.add_argument('--round', default=2, type=int, help='round scores to this number of digits')\n",
    "    parser.add_argument('-p', '--path', default=dflt.manager_path, type=str)\n",
    "    pars = parser.parse_args(args)\n",
    "    \n",
    "    return pars\n",
    "\n",
    "def parse_arguments_and_run (args):\n",
    "    \n",
    "    pars = parse_args(args)\n",
    "\n",
    "    df, df2, df_scores=print_table (experiments=pars.e, path_experiments = pars.path_experiments, \n",
    "                                    folder=pars.folder, \n",
    "                                    display_all=pars.a, include_best=pars.best, op=pars.op, \n",
    "                                    metric=pars.metric, round_digits=pars.round, \n",
    "                                    compare=not pars.no_comp, compact=pars.compact, \n",
    "                                    run_number=pars.run, manager_path=pars.path)\n",
    "\n",
    "def main():\n",
    "    parse_arguments_and_run (sys.argv[1:])"
   ]
  },
  {
   "cell_type": "markdown",
   "metadata": {
    "tags": []
   },
   "source": [
    "### usage"
   ]
  },
  {
   "cell_type": "code",
   "execution_count": 8,
   "metadata": {},
   "outputs": [],
   "source": [
    "#export tests.tools.test_print_table\n",
    "def test_parse_arguments_and_run ():\n",
    "    em = generate_data ('parse_arguments_and_run')\n",
    "    \n",
    "    args = ['-e', '4', '3',\n",
    "           '--compact', '3',\n",
    "           '--round', '3',\n",
    "           '-p', em.manager_path]\n",
    "    parse_arguments_and_run (args)\n",
    "    \n",
    "    em.remove_previous_experiments (parent=True)"
   ]
  },
  {
   "cell_type": "code",
   "execution_count": 9,
   "metadata": {},
   "outputs": [
    {
     "name": "stdout",
     "output_type": "stream",
     "text": [
      "running test_parse_arguments_and_run\n",
      "\n",
      "*****************************\n",
      "\n",
      "parameters for 4:\n"
     ]
    },
    {
     "data": {
      "text/plain": [
       "epochs      15\n",
       "noise      0.1\n",
       "offset     0.3\n",
       "rate      0.03\n",
       "Name: 4, dtype: object"
      ]
     },
     "metadata": {},
     "output_type": "display_data"
    },
    {
     "name": "stdout",
     "output_type": "stream",
     "text": [
      "scores for all experiments:\n"
     ]
    },
    {
     "data": {
      "text/html": [
       "<div>\n",
       "<style scoped>\n",
       "    .dataframe tbody tr th:only-of-type {\n",
       "        vertical-align: middle;\n",
       "    }\n",
       "\n",
       "    .dataframe tbody tr th {\n",
       "        vertical-align: top;\n",
       "    }\n",
       "\n",
       "    .dataframe thead th {\n",
       "        text-align: right;\n",
       "    }\n",
       "</style>\n",
       "<table border=\"1\" class=\"dataframe\">\n",
       "  <thead>\n",
       "    <tr style=\"text-align: right;\">\n",
       "      <th></th>\n",
       "      <th>0</th>\n",
       "      <th>1</th>\n",
       "      <th>2</th>\n",
       "      <th>3</th>\n",
       "      <th>4</th>\n",
       "    </tr>\n",
       "  </thead>\n",
       "  <tbody>\n",
       "    <tr>\n",
       "      <th>4</th>\n",
       "      <td>0.732</td>\n",
       "      <td>0.628</td>\n",
       "      <td>0.776</td>\n",
       "      <td>0.821</td>\n",
       "      <td>0.879</td>\n",
       "    </tr>\n",
       "  </tbody>\n",
       "</table>\n",
       "</div>"
      ],
      "text/plain": [
       "       0      1      2      3      4\n",
       "4  0.732  0.628  0.776  0.821  0.879"
      ]
     },
     "metadata": {},
     "output_type": "display_data"
    },
    {
     "name": "stdout",
     "output_type": "stream",
     "text": [
      "score:\n"
     ]
    },
    {
     "data": {
      "text/plain": [
       "0.7322854321061811"
      ]
     },
     "metadata": {},
     "output_type": "display_data"
    },
    {
     "name": "stdout",
     "output_type": "stream",
     "text": [
      "\n",
      "parameters for 3:\n"
     ]
    },
    {
     "data": {
      "text/plain": [
       "epochs      15\n",
       "noise      0.1\n",
       "offset     0.1\n",
       "rate      0.03\n",
       "Name: 3, dtype: object"
      ]
     },
     "metadata": {},
     "output_type": "display_data"
    },
    {
     "name": "stdout",
     "output_type": "stream",
     "text": [
      "scores for all experiments:\n"
     ]
    },
    {
     "data": {
      "text/html": [
       "<div>\n",
       "<style scoped>\n",
       "    .dataframe tbody tr th:only-of-type {\n",
       "        vertical-align: middle;\n",
       "    }\n",
       "\n",
       "    .dataframe tbody tr th {\n",
       "        vertical-align: top;\n",
       "    }\n",
       "\n",
       "    .dataframe thead th {\n",
       "        text-align: right;\n",
       "    }\n",
       "</style>\n",
       "<table border=\"1\" class=\"dataframe\">\n",
       "  <thead>\n",
       "    <tr style=\"text-align: right;\">\n",
       "      <th></th>\n",
       "      <th>0</th>\n",
       "      <th>1</th>\n",
       "      <th>2</th>\n",
       "      <th>3</th>\n",
       "      <th>4</th>\n",
       "    </tr>\n",
       "  </thead>\n",
       "  <tbody>\n",
       "    <tr>\n",
       "      <th>3</th>\n",
       "      <td>0.708</td>\n",
       "      <td>0.509</td>\n",
       "      <td>0.545</td>\n",
       "      <td>0.663</td>\n",
       "      <td>0.577</td>\n",
       "    </tr>\n",
       "  </tbody>\n",
       "</table>\n",
       "</div>"
      ],
      "text/plain": [
       "       0      1      2      3      4\n",
       "3  0.708  0.509  0.545  0.663  0.577"
      ]
     },
     "metadata": {},
     "output_type": "display_data"
    },
    {
     "name": "stdout",
     "output_type": "stream",
     "text": [
      "score:\n"
     ]
    },
    {
     "data": {
      "text/plain": [
       "0.7078544484647308"
      ]
     },
     "metadata": {},
     "output_type": "display_data"
    },
    {
     "name": "stdout",
     "output_type": "stream",
     "text": [
      "\n",
      "comparison\n"
     ]
    },
    {
     "data": {
      "text/html": [
       "<div>\n",
       "<style scoped>\n",
       "    .dataframe tbody tr th:only-of-type {\n",
       "        vertical-align: middle;\n",
       "    }\n",
       "\n",
       "    .dataframe tbody tr th {\n",
       "        vertical-align: top;\n",
       "    }\n",
       "\n",
       "    .dataframe thead th {\n",
       "        text-align: right;\n",
       "    }\n",
       "</style>\n",
       "<table border=\"1\" class=\"dataframe\">\n",
       "  <thead>\n",
       "    <tr style=\"text-align: right;\">\n",
       "      <th></th>\n",
       "      <th>epochs</th>\n",
       "      <th>noise</th>\n",
       "      <th>offset</th>\n",
       "      <th>rate</th>\n",
       "    </tr>\n",
       "  </thead>\n",
       "  <tbody>\n",
       "    <tr>\n",
       "      <th>4</th>\n",
       "      <td>15.0</td>\n",
       "      <td>0.1</td>\n",
       "      <td>0.3</td>\n",
       "      <td>0.03</td>\n",
       "    </tr>\n",
       "    <tr>\n",
       "      <th>3</th>\n",
       "      <td>15.0</td>\n",
       "      <td>0.1</td>\n",
       "      <td>0.1</td>\n",
       "      <td>0.03</td>\n",
       "    </tr>\n",
       "  </tbody>\n",
       "</table>\n",
       "</div>"
      ],
      "text/plain": [
       "   epochs  noise  offset  rate\n",
       "4    15.0    0.1     0.3  0.03\n",
       "3    15.0    0.1     0.1  0.03"
      ]
     },
     "metadata": {},
     "output_type": "display_data"
    },
    {
     "name": "stdout",
     "output_type": "stream",
     "text": [
      "score\n"
     ]
    },
    {
     "data": {
      "text/plain": [
       "4    0.732285\n",
       "3    0.707854\n",
       "Name: 0_validation_accuracy, dtype: float64"
      ]
     },
     "metadata": {},
     "output_type": "display_data"
    },
    {
     "name": "stdout",
     "output_type": "stream",
     "text": [
      "with unique parameters:\n",
      "Off => offset\n",
      "0ValAcc => 0_validation_accuracy\n",
      "0TesAcc => 0_test_accuracy\n",
      "Tim0 => time_0\n",
      "Dat => date\n",
      "1ValAcc => 1_validation_accuracy\n",
      "1TesAcc => 1_test_accuracy\n",
      "Tim1 => time_1\n",
      "2ValAcc => 2_validation_accuracy\n",
      "2TesAcc => 2_test_accuracy\n",
      "Tim2 => time_2\n",
      "3ValAcc => 3_validation_accuracy\n",
      "3TesAcc => 3_test_accuracy\n",
      "Tim3 => time_3\n",
      "4ValAcc => 4_validation_accuracy\n",
      "4TesAcc => 4_test_accuracy\n",
      "Tim4 => time_4\n"
     ]
    },
    {
     "data": {
      "text/html": [
       "<div>\n",
       "<style scoped>\n",
       "    .dataframe tbody tr th:only-of-type {\n",
       "        vertical-align: middle;\n",
       "    }\n",
       "\n",
       "    .dataframe tbody tr th {\n",
       "        vertical-align: top;\n",
       "    }\n",
       "\n",
       "    .dataframe thead th {\n",
       "        text-align: right;\n",
       "    }\n",
       "</style>\n",
       "<table border=\"1\" class=\"dataframe\">\n",
       "  <thead>\n",
       "    <tr style=\"text-align: right;\">\n",
       "      <th></th>\n",
       "      <th>Off</th>\n",
       "      <th>0ValAcc</th>\n",
       "      <th>0TesAcc</th>\n",
       "      <th>Tim0</th>\n",
       "      <th>Dat</th>\n",
       "      <th>1ValAcc</th>\n",
       "      <th>1TesAcc</th>\n",
       "      <th>Tim1</th>\n",
       "      <th>2ValAcc</th>\n",
       "      <th>2TesAcc</th>\n",
       "      <th>Tim2</th>\n",
       "      <th>3ValAcc</th>\n",
       "      <th>3TesAcc</th>\n",
       "      <th>Tim3</th>\n",
       "      <th>4ValAcc</th>\n",
       "      <th>4TesAcc</th>\n",
       "      <th>Tim4</th>\n",
       "    </tr>\n",
       "  </thead>\n",
       "  <tbody>\n",
       "    <tr>\n",
       "      <th>4</th>\n",
       "      <td>0.3</td>\n",
       "      <td>0.732285</td>\n",
       "      <td>0.924655</td>\n",
       "      <td>0.000281</td>\n",
       "      <td>21:13:22.207040</td>\n",
       "      <td>0.627768</td>\n",
       "      <td>0.481516</td>\n",
       "      <td>0.000272</td>\n",
       "      <td>0.776318</td>\n",
       "      <td>0.722544</td>\n",
       "      <td>0.000261</td>\n",
       "      <td>0.821438</td>\n",
       "      <td>0.683518</td>\n",
       "      <td>0.000251</td>\n",
       "      <td>0.879119</td>\n",
       "      <td>0.679725</td>\n",
       "      <td>0.000279</td>\n",
       "    </tr>\n",
       "    <tr>\n",
       "      <th>3</th>\n",
       "      <td>0.1</td>\n",
       "      <td>0.707854</td>\n",
       "      <td>0.346810</td>\n",
       "      <td>0.000257</td>\n",
       "      <td>21:13:21.997027</td>\n",
       "      <td>0.508697</td>\n",
       "      <td>0.419747</td>\n",
       "      <td>0.000275</td>\n",
       "      <td>0.545406</td>\n",
       "      <td>0.439323</td>\n",
       "      <td>0.000264</td>\n",
       "      <td>0.663109</td>\n",
       "      <td>0.428636</td>\n",
       "      <td>0.000269</td>\n",
       "      <td>0.577253</td>\n",
       "      <td>0.319690</td>\n",
       "      <td>0.000268</td>\n",
       "    </tr>\n",
       "  </tbody>\n",
       "</table>\n",
       "</div>"
      ],
      "text/plain": [
       "   Off   0ValAcc   0TesAcc      Tim0              Dat   1ValAcc   1TesAcc  \\\n",
       "4  0.3  0.732285  0.924655  0.000281  21:13:22.207040  0.627768  0.481516   \n",
       "3  0.1  0.707854  0.346810  0.000257  21:13:21.997027  0.508697  0.419747   \n",
       "\n",
       "       Tim1   2ValAcc   2TesAcc      Tim2   3ValAcc   3TesAcc      Tim3  \\\n",
       "4  0.000272  0.776318  0.722544  0.000261  0.821438  0.683518  0.000251   \n",
       "3  0.000275  0.545406  0.439323  0.000264  0.663109  0.428636  0.000269   \n",
       "\n",
       "    4ValAcc   4TesAcc      Tim4  \n",
       "4  0.879119  0.679725  0.000279  \n",
       "3  0.577253  0.319690  0.000268  "
      ]
     },
     "metadata": {},
     "output_type": "display_data"
    }
   ],
   "source": [
    "tst.run (test_parse_arguments_and_run, tag='dummy')"
   ]
  }
 ],
 "metadata": {
  "kernelspec": {
   "display_name": "Python (hpsearch)",
   "language": "python",
   "name": "hpsearch"
  },
  "language_info": {
   "codemirror_mode": {
    "name": "ipython",
    "version": 3
   },
   "file_extension": ".py",
   "mimetype": "text/x-python",
   "name": "python",
   "nbconvert_exporter": "python",
   "pygments_lexer": "ipython3",
   "version": "3.9.7"
  },
  "toc-showcode": true,
  "toc-showmarkdowntxt": true
 },
 "nbformat": 4,
 "nbformat_minor": 4
}
