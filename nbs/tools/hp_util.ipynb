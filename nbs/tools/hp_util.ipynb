{
 "cells": [
  {
   "cell_type": "code",
   "execution_count": null,
   "metadata": {},
   "outputs": [],
   "source": [
    "#hide\n",
    "#default_exp tools.hp_util\n",
    "from nbdev.showdoc import show_doc"
   ]
  },
  {
   "cell_type": "code",
   "execution_count": 2,
   "metadata": {},
   "outputs": [],
   "source": [
    "#export\n",
    "def print_util (x):\n",
    "    ''' dummy example\n",
    "    \n",
    "    Arguments:\n",
    "        x: integer\n",
    "    '''\n",
    "    print (f'the input is {x}')"
   ]
  }
 ],
 "metadata": {
  "kernelspec": {
   "display_name": "Python (ra)",
   "language": "python",
   "name": "ra"
  },
  "language_info": {
   "codemirror_mode": {
    "name": "ipython",
    "version": 3
   },
   "file_extension": ".py",
   "mimetype": "text/x-python",
   "name": "python",
   "nbconvert_exporter": "python",
   "pygments_lexer": "ipython3",
   "version": "3.8.2"
  }
 },
 "nbformat": 4,
 "nbformat_minor": 4
}
