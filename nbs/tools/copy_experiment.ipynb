{
 "cells": [
  {
   "cell_type": "code",
   "execution_count": 13,
   "metadata": {},
   "outputs": [],
   "source": [
    "#hide\n",
    "#default_exp tools.copy_experiment\n",
    "from nbdev.showdoc import *\n",
    "from dsblocks.utils.nbdev_utils import nbdev_setup, TestRunner\n",
    "\n",
    "nbdev_setup ()\n",
    "tst = TestRunner (targets=['dummy'])"
   ]
  },
  {
   "cell_type": "markdown",
   "metadata": {},
   "source": [
    "# Copy experiment indicated by argument"
   ]
  },
  {
   "cell_type": "code",
   "execution_count": 14,
   "metadata": {},
   "outputs": [],
   "source": [
    "#export\n",
    "import argparse\n",
    "import sys\n",
    "import inspect\n",
    "import shutil\n",
    "import joblib\n",
    "import os\n",
    "import re\n",
    "from distutils.dir_util import copy_tree\n",
    "\n",
    "from hpsearch.experiment_manager import mypprint\n",
    "from hpsearch.config.hpconfig import get_experiment_manager\n",
    "from hpsearch.tools.query import query\n",
    "import hpsearch.config.hp_defaults as dflt"
   ]
  },
  {
   "cell_type": "code",
   "execution_count": 15,
   "metadata": {},
   "outputs": [],
   "source": [
    "#for tests\n",
    "import pytest\n",
    "import os\n",
    "from hpsearch.examples.complex_dummy_experiment_manager import generate_data, init_em"
   ]
  },
  {
   "cell_type": "markdown",
   "metadata": {},
   "source": [
    "## get_best_experiment"
   ]
  },
  {
   "cell_type": "markdown",
   "metadata": {},
   "source": [
    "```python\n",
    "#export\n",
    "def get_best_experiment (root=None, metric=None, runs=None, op=None, \n",
    "                         stats=None, results=None, other_parameters={}, \n",
    "                         sort=None, show=False):\n",
    "    df = query (root=root,\n",
    "               metric=metric, runs=runs, op=op, stats=stats,\n",
    "               results=results, other_parameters=other_parameters)\n",
    "    if sort is not None:\n",
    "        assert sort in df.columns, ('sort must be a column in '\n",
    "                                    f'dataframe ({df.columns})')\n",
    "        df = df.sort_values(by=sort, ascending=(op=='min'))\n",
    "    best = df.index[0]\n",
    "    if show:\n",
    "        display (df)\n",
    "    return best\n",
    "```"
   ]
  },
  {
   "cell_type": "markdown",
   "metadata": {},
   "source": [
    "## copy_experiment_contents"
   ]
  },
  {
   "cell_type": "code",
   "execution_count": 16,
   "metadata": {},
   "outputs": [],
   "source": [
    "#export\n",
    "def copy_experiment_contents (experiment=None, root=None, destination_folder='.', \n",
    "                              run=0, desired=None, target_model=None,\n",
    "                              destination_model=None, manager_path=dflt.manager_path):\n",
    "    \n",
    "    os.makedirs (destination_folder, exist_ok=True)\n",
    "    \n",
    "    em = get_experiment_manager (manager_path=manager_path)\n",
    "    \n",
    "    # 3 write code about calling run_experiment\n",
    "    root_path = em.get_path_experiments(folder=root)\n",
    "    path_root_experiment = em.get_path_experiment (experiment, root_path=root_path)\n",
    "    shutil.copy (f'{path_root_experiment}/parameters.pk', \n",
    "                 f'{destination_folder}/separate_parameters.pk')\n",
    "    path_results = em.get_path_results (experiment, run, root_folder=root)\n",
    "    if desired is not None and 'path_results' in desired:\n",
    "        assert path_results == desired['path_results']\n",
    "    copy_tree (f'{path_results}', destination_folder)\n",
    "    target_model = (target_model if target_model is not None \n",
    "                    else em.target_model_file)\n",
    "    destination_model = (destination_model if destination_model is not None \n",
    "                    else em.destination_model_file)\n",
    "    if target_model is not None and destination_model is not None:\n",
    "        shutil.copy (f'{path_results}/{target_model}', \n",
    "                     f'{destination_folder}/{destination_model}')"
   ]
  },
  {
   "cell_type": "markdown",
   "metadata": {},
   "source": [
    "## copy_code"
   ]
  },
  {
   "cell_type": "code",
   "execution_count": 17,
   "metadata": {},
   "outputs": [],
   "source": [
    "#export\n",
    "def copy_code (source_folder, destination_folder, file=None,\n",
    "               path_root_experiment=None, manager_path=dflt.manager_path):\n",
    "    \n",
    "    os.makedirs (destination_folder, exist_ok=True)\n",
    "    destination_path = (f'{destination_folder}/best_experiment.py' if file is None \n",
    "                        else f'{destination_folder}/{file}')\n",
    "    path_root_experiment = (source_folder if path_root_experiment is None\n",
    "                            else path_root_experiment)\n",
    "    path_results = source_folder\n",
    "    fdest = open (destination_path, 'wt')\n",
    "    \n",
    "    # 1 write code before definition of subclassed manager\n",
    "    em = get_experiment_manager (manager_path=manager_path)\n",
    "    source_path = inspect.getfile(em.__class__)\n",
    "    fsrc = open (source_path, 'rt')\n",
    "    original = fsrc.read ()\n",
    "    fsrc.close ()\n",
    "    original.replace ('from hpsearch.experiment_manager import ExperimentManager', '')\n",
    "    \n",
    "    # 2 write code from base manager\n",
    "    try:\n",
    "        r = re.findall (f'class\\s+{em.__class__.__name__}\\s*\\(.*\\)', original)\n",
    "        assert len(r) == 1, 'class not found'\n",
    "        name_base_class = re.findall ('\\(.*\\)', r[0])[0][1:-1]\n",
    "    except Exception as e:\n",
    "        print (f'{e}')\n",
    "        name_base_class = 'ExperimentManager'\n",
    "\n",
    "    base_manager = f'class {name_base_class} ():'\n",
    "    base_manager = base_manager + '''\n",
    "    def __init__ (self, *args, **kwargs):\n",
    "        pass\n",
    "'''\n",
    "    r= re.findall (f'class\\s+{em.__class__.__name__}', original)\n",
    "    assert len(r) == 1, 'class not found'\n",
    "    r = original.find (r[0])\n",
    "    original = (original[:r-1] + base_manager + '\\n' + original[r:])\n",
    "    fdest.write (original)\n",
    "    \n",
    "    # 3 write code about calling run_experiment\n",
    "    try:\n",
    "        parameters, other_parameters, *_ = joblib.load (f'{path_root_experiment}/separate_parameters.pk')\n",
    "    except FileNotFoundError:\n",
    "        parameters, other_parameters, *_ = joblib.load (f'{path_root_experiment}/parameters.pk')\n",
    "    parameters = mypprint(parameters, dict_name='    parameters')\n",
    "    \n",
    "    path_results_str = '{path_results}'\n",
    "    run_experiment = (\n",
    "f'''\n",
    "def main (**kwargs):\n",
    "    path_results = {path_results}\n",
    "    all_parameters = joblib.load (f'{path_results_str}/parameters.pk')\n",
    "{parameters}\n",
    "    all_parameters.update (parameters)\n",
    "    all_parameters.update (**kwargs)\n",
    "    em = {em.__class__.__name__} ()\n",
    "    em.run_experiment (all_parameters, path_results)\n",
    "\n",
    "if __name__ == '__main__':\n",
    "    main ()\n",
    "'''\n",
    "    )\n",
    "    fdest.write (run_experiment)\n",
    "    fdest.close ()"
   ]
  },
  {
   "cell_type": "markdown",
   "metadata": {},
   "source": [
    "## copy_experiment_contents_and_code"
   ]
  },
  {
   "cell_type": "code",
   "execution_count": 18,
   "metadata": {},
   "outputs": [],
   "source": [
    "#export\n",
    "def copy_experiment_contents_and_code (experiment=None, root=None, \n",
    "                                       content='.', \n",
    "                                       code='.',\n",
    "                                       run=0, \n",
    "                                       file=None, \n",
    "                                       target_model=None,\n",
    "                                       destination_model=None,\n",
    "                                       desired=None,\n",
    "                                       manager_path=dflt.manager_path):\n",
    "    copy_experiment_contents (experiment=experiment, root=root, \n",
    "                              destination_folder=content, \n",
    "                              run=run, target_model=target_model,\n",
    "                              destination_model=destination_model,\n",
    "                              desired=desired, manager_path=manager_path)\n",
    "    copy_code (content, code, file=file,\n",
    "               path_root_experiment=content, \n",
    "               manager_path=manager_path)"
   ]
  },
  {
   "cell_type": "markdown",
   "metadata": {
    "tags": []
   },
   "source": [
    "### Usage example"
   ]
  },
  {
   "cell_type": "code",
   "execution_count": 19,
   "metadata": {
    "tags": []
   },
   "outputs": [],
   "source": [
    "#export tests.tools.test_copy_experiment\n",
    "def test_copy_content_and_code ():\n",
    "    em = generate_data ('copy_experiment_contents')\n",
    "\n",
    "    # function\n",
    "    copy_experiment_contents_and_code (\n",
    "        experiment=2, content='test_dest_folder_copy_exp_content', \n",
    "        code='test_my_code', run=0, file='test_file.py',\n",
    "        manager_path=em.manager_path\n",
    "    )\n",
    "\n",
    "    assert sorted(os.listdir ('test_dest_folder_copy_exp_content'))==[\n",
    "     'dict_results.pk', 'dummy_experiment_manager.py', 'logs.txt', 'model_history.pk',\n",
    "     'model_weights.pk', 'parameters.json', 'parameters.pk',\n",
    "     'parameters.txt', 'separate_parameters.pk', 'summary.txt']\n",
    "    \n",
    "    shutil.rmtree ('test_dest_folder_copy_exp_content')\n",
    "    copy_experiment_contents_and_code (\n",
    "        experiment=2, content='test_dest_folder_copy_exp_content', \n",
    "        code='test_my_code', run=0, file='test_file.py',\n",
    "        target_model='model_weights.pk', destination_model='nn_model.pk',\n",
    "        manager_path=em.manager_path\n",
    "    )\n",
    "    assert sorted(os.listdir ('test_dest_folder_copy_exp_content')) == [\n",
    "        'dict_results.pk', 'dummy_experiment_manager.py', 'logs.txt', 'model_history.pk', \n",
    "        'model_weights.pk', 'nn_model.pk', 'parameters.json', \n",
    "        'parameters.pk', 'parameters.txt', 'separate_parameters.pk', \n",
    "        'summary.txt']\n",
    "    \n",
    "    # checks\n",
    "    assert os.listdir ('test_my_code')==['test_file.py']\n",
    "    f = open (f'test_my_code/test_file.py', 'rt')\n",
    "    text = f.read()\n",
    "    f.close()\n",
    "    assert 'ExperimentManager ()' in text\n",
    "    assert 'parameters=dict(epochs=5,' in text\n",
    "    assert 'em = ComplexDummyExperimentManager ()' in text\n",
    "    \n",
    "    shutil.rmtree ('test_my_code')\n",
    "    shutil.rmtree ('test_dest_folder_copy_exp_content')\n",
    "    em.remove_previous_experiments ()"
   ]
  },
  {
   "cell_type": "code",
   "execution_count": 20,
   "metadata": {},
   "outputs": [
    {
     "name": "stdout",
     "output_type": "stream",
     "text": [
      "running test_copy_content_and_code\n",
      "error saving other parameters\n",
      "error saving other parameters\n",
      "error saving other parameters\n",
      "error saving other parameters\n",
      "error saving other parameters\n",
      "error saving other parameters\n",
      "error saving other parameters\n",
      "error saving other parameters\n",
      "error saving other parameters\n",
      "error saving other parameters\n",
      "error saving other parameters\n",
      "error saving other parameters\n",
      "error saving other parameters\n",
      "error saving other parameters\n",
      "error saving other parameters\n",
      "error saving other parameters\n",
      "error saving other parameters\n",
      "error saving other parameters\n",
      "error saving other parameters\n",
      "error saving other parameters\n",
      "error saving other parameters\n",
      "error saving other parameters\n",
      "error saving other parameters\n",
      "error saving other parameters\n",
      "error saving other parameters\n",
      "error saving other parameters\n",
      "error saving other parameters\n",
      "error saving other parameters\n",
      "error saving other parameters\n",
      "error saving other parameters\n",
      "error saving other parameters\n",
      "error saving other parameters\n",
      "error saving other parameters\n",
      "error saving other parameters\n",
      "error saving other parameters\n",
      "error saving other parameters\n",
      "error saving other parameters\n",
      "error saving other parameters\n",
      "error saving other parameters\n",
      "error saving other parameters\n",
      "error saving other parameters\n",
      "error saving other parameters\n",
      "error saving other parameters\n",
      "error saving other parameters\n",
      "error saving other parameters\n"
     ]
    }
   ],
   "source": [
    "tst.run (test_copy_content_and_code, tag='dummy')"
   ]
  },
  {
   "cell_type": "markdown",
   "metadata": {},
   "source": [
    "## copy_code_with_experiment_paths"
   ]
  },
  {
   "cell_type": "code",
   "execution_count": 21,
   "metadata": {},
   "outputs": [],
   "source": [
    "#export\n",
    "def copy_code_with_experiment_paths (experiment=None, root=None, \n",
    "                                     destination_folder='.', file=None,\n",
    "                                     run=0, desired=None, manager_path=dflt.manager_path):\n",
    "    em = get_experiment_manager (manager_path=manager_path)\n",
    "    root_path = em.get_path_experiments(folder=root)\n",
    "    path_root_experiment = em.get_path_experiment (experiment, root_path=root_path)\n",
    "    path_results = em.get_path_results (experiment, run, root_folder=root)\n",
    "    copy_code (path_results, destination_folder, file=file,\n",
    "               path_root_experiment=path_root_experiment,\n",
    "               manager_path=manager_path)\n",
    "    "
   ]
  },
  {
   "cell_type": "markdown",
   "metadata": {
    "tags": []
   },
   "source": [
    "### Usage example"
   ]
  },
  {
   "cell_type": "code",
   "execution_count": 22,
   "metadata": {
    "tags": []
   },
   "outputs": [],
   "source": [
    "#export tests.tools.test_copy_experiment\n",
    "def test_copy_code_with_experiment_paths ():\n",
    "    em = generate_data ('copy_code_with_experiment_paths')\n",
    "    \n",
    "    # function\n",
    "    copy_code_with_experiment_paths (experiment=2, \n",
    "                                     destination_folder='test_dest_folder_copy_exp', \n",
    "                                     file='test_file.py', run=0,\n",
    "                                     manager_path=em.manager_path)\n",
    "    \n",
    "    # checks\n",
    "    assert os.listdir ('test_dest_folder_copy_exp')==['test_file.py']\n",
    "    f = open (f'test_dest_folder_copy_exp/test_file.py', 'rt')\n",
    "    text = f.read()\n",
    "    f.close()\n",
    "    assert 'ExperimentManager ()' in text\n",
    "    assert 'parameters=dict(epochs=5,' in text\n",
    "    assert 'em = ComplexDummyExperimentManager ()' in text\n",
    "    \n",
    "    em.remove_previous_experiments ()\n",
    "    shutil.rmtree ('test_dest_folder_copy_exp')"
   ]
  },
  {
   "cell_type": "code",
   "execution_count": 23,
   "metadata": {},
   "outputs": [
    {
     "name": "stdout",
     "output_type": "stream",
     "text": [
      "running test_copy_code_with_experiment_paths\n",
      "error saving other parameters\n",
      "error saving other parameters\n",
      "error saving other parameters\n",
      "error saving other parameters\n",
      "error saving other parameters\n",
      "error saving other parameters\n",
      "error saving other parameters\n",
      "error saving other parameters\n",
      "error saving other parameters\n",
      "error saving other parameters\n",
      "error saving other parameters\n",
      "error saving other parameters\n",
      "error saving other parameters\n",
      "error saving other parameters\n",
      "error saving other parameters\n",
      "error saving other parameters\n",
      "error saving other parameters\n",
      "error saving other parameters\n",
      "error saving other parameters\n",
      "error saving other parameters\n",
      "error saving other parameters\n",
      "error saving other parameters\n",
      "error saving other parameters\n",
      "error saving other parameters\n",
      "error saving other parameters\n",
      "error saving other parameters\n",
      "error saving other parameters\n",
      "error saving other parameters\n",
      "error saving other parameters\n",
      "error saving other parameters\n",
      "error saving other parameters\n",
      "error saving other parameters\n",
      "error saving other parameters\n",
      "error saving other parameters\n",
      "error saving other parameters\n",
      "error saving other parameters\n",
      "error saving other parameters\n",
      "error saving other parameters\n",
      "error saving other parameters\n",
      "error saving other parameters\n",
      "error saving other parameters\n",
      "error saving other parameters\n",
      "error saving other parameters\n",
      "error saving other parameters\n",
      "error saving other parameters\n"
     ]
    }
   ],
   "source": [
    "tst.run (test_copy_code_with_experiment_paths, tag='dummy')"
   ]
  },
  {
   "cell_type": "markdown",
   "metadata": {
    "tags": []
   },
   "source": [
    "## parse_arguments_and_run"
   ]
  },
  {
   "cell_type": "code",
   "execution_count": 24,
   "metadata": {},
   "outputs": [],
   "source": [
    "#export\n",
    "def parse_args (args):\n",
    "    parser = argparse.ArgumentParser(description='copy experiment')\n",
    "    parser.add_argument('-e', '--experiment', type=int, default=None,  \n",
    "                        help=\"experiment number\")\n",
    "    parser.add_argument('--run', type=int, default=None,  help=\"run number\")\n",
    "    parser.add_argument('--root', type=str, default=None, help='name of root folder')\n",
    "    parser.add_argument('--content', type=str, \n",
    "                        default='.', help='path to folder containing experiment results')\n",
    "    parser.add_argument('--code', type=str, \n",
    "                        default='.', help='path to folder containing experiment results')\n",
    "    parser.add_argument('--file', type=str, default=None, help='destination code file')\n",
    "    parser.add_argument('--target_model', type=str, default=None, \n",
    "                        help='target model file')\n",
    "    parser.add_argument('--destination_model', type=str, default=None, \n",
    "                        help='destination model file')\n",
    "    parser.add_argument('-p', '--path', default=dflt.manager_path, type=str)\n",
    "    \n",
    "    pars = parser.parse_args(args)\n",
    "    \n",
    "    return pars\n",
    "\n",
    "def parse_arguments_and_run (args, desired = None):\n",
    "    \n",
    "    pars = parse_args(args)\n",
    "    pars = vars(pars)\n",
    "    pars['manager_path'] = pars['path']\n",
    "    del pars['path']\n",
    "    copy_experiment_contents_and_code (**pars, desired=desired)\n",
    "\n",
    "def main():\n",
    "    parse_arguments_and_run (sys.argv[1:])"
   ]
  },
  {
   "cell_type": "markdown",
   "metadata": {
    "tags": []
   },
   "source": [
    "### Usage example"
   ]
  },
  {
   "cell_type": "code",
   "execution_count": 25,
   "metadata": {
    "tags": []
   },
   "outputs": [],
   "source": [
    "#export tests.tools.test_copy_experiment\n",
    "def test_parse_arguments_copy_experiment ():\n",
    "    em = generate_data ('parse_arguments_copy_experiment', root_folder='newroot')\n",
    "    \n",
    "    df = em.get_experiment_data (folder_experiments='newroot')\n",
    "    assert df.shape==(9,25)\n",
    "        \n",
    "    args = ('--root newroot -e 2 --content test_dest_folder_copy_exp_content '\n",
    "           f'--run 1 --file test_file.py --code test_my_code -p {em.manager_path}')\n",
    "    desired = {'path_results': \n",
    "               'test_parse_arguments_copy_experiment/newroot/experiments/00002/1'}\n",
    "    parse_arguments_and_run (args.split (), desired=desired)\n",
    "    \n",
    "    assert sorted(os.listdir ('test_dest_folder_copy_exp_content'))==[\n",
    "     'dict_results.pk',\n",
    "     'dummy_experiment_manager.py',\n",
    "     'logs.txt',\n",
    "     'model_history.pk',\n",
    "     'model_weights.pk',\n",
    "     'parameters.json',\n",
    "     'parameters.pk',\n",
    "     'parameters.txt',\n",
    "     'separate_parameters.pk',\n",
    "     'summary.txt']\n",
    "    \n",
    "    # checks\n",
    "    assert os.listdir ('test_my_code')==['test_file.py']\n",
    "    f = open (f'test_my_code/test_file.py', 'rt')\n",
    "    text = f.read()\n",
    "    f.close()\n",
    "    assert 'ExperimentManager ()' in text\n",
    "    assert 'parameters=dict(epochs=5,' in text\n",
    "    assert 'em = ComplexDummyExperimentManager ()' in text\n",
    "    \n",
    "    shutil.rmtree ('test_my_code')\n",
    "    shutil.rmtree ('test_dest_folder_copy_exp_content')\n",
    "    em.remove_previous_experiments ()"
   ]
  },
  {
   "cell_type": "code",
   "execution_count": 26,
   "metadata": {},
   "outputs": [
    {
     "name": "stdout",
     "output_type": "stream",
     "text": [
      "running test_parse_arguments_copy_experiment\n"
     ]
    },
    {
     "ename": "ValueError",
     "evalue": "self.root != self.root_folder",
     "output_type": "error",
     "traceback": [
      "\u001b[0;31m---------------------------------------------------------------------------\u001b[0m",
      "\u001b[0;31mValueError\u001b[0m                                Traceback (most recent call last)",
      "\u001b[0;32m/tmp/ipykernel_93938/4202148619.py\u001b[0m in \u001b[0;36m<module>\u001b[0;34m\u001b[0m\n\u001b[0;32m----> 1\u001b[0;31m \u001b[0mtst\u001b[0m\u001b[0;34m.\u001b[0m\u001b[0mrun\u001b[0m \u001b[0;34m(\u001b[0m\u001b[0mtest_parse_arguments_copy_experiment\u001b[0m\u001b[0;34m,\u001b[0m \u001b[0mtag\u001b[0m\u001b[0;34m=\u001b[0m\u001b[0;34m'dummy'\u001b[0m\u001b[0;34m,\u001b[0m \u001b[0mdebug\u001b[0m\u001b[0;34m=\u001b[0m\u001b[0;32mFalse\u001b[0m\u001b[0;34m)\u001b[0m\u001b[0;34m\u001b[0m\u001b[0;34m\u001b[0m\u001b[0m\n\u001b[0m",
      "\u001b[0;32m~/jaume/workspace/remote/ds-blocks/dsblocks/utils/nbdev_utils.py\u001b[0m in \u001b[0;36mrun\u001b[0;34m(self, test_func, data_func, do, include, debug, exclude, tag, show, store)\u001b[0m\n\u001b[1;32m    113\u001b[0m                 \u001b[0;32mif\u001b[0m \u001b[0mshow\u001b[0m\u001b[0;34m:\u001b[0m\u001b[0;34m\u001b[0m\u001b[0;34m\u001b[0m\u001b[0m\n\u001b[1;32m    114\u001b[0m                     \u001b[0mprint\u001b[0m \u001b[0;34m(\u001b[0m\u001b[0;34mf'running {name}'\u001b[0m\u001b[0;34m)\u001b[0m\u001b[0;34m\u001b[0m\u001b[0;34m\u001b[0m\u001b[0m\n\u001b[0;32m--> 115\u001b[0;31m                 \u001b[0mtest_func\u001b[0m \u001b[0;34m(\u001b[0m\u001b[0;34m*\u001b[0m\u001b[0margs\u001b[0m\u001b[0;34m)\u001b[0m\u001b[0;34m\u001b[0m\u001b[0;34m\u001b[0m\u001b[0m\n\u001b[0m\u001b[1;32m    116\u001b[0m \u001b[0;34m\u001b[0m\u001b[0m\n\u001b[1;32m    117\u001b[0m \u001b[0;31m# Cell\u001b[0m\u001b[0;34m\u001b[0m\u001b[0;34m\u001b[0m\u001b[0m\n",
      "\u001b[0;32m/tmp/ipykernel_93938/745222880.py\u001b[0m in \u001b[0;36mtest_parse_arguments_copy_experiment\u001b[0;34m()\u001b[0m\n\u001b[1;32m      1\u001b[0m \u001b[0;31m#export tests.tools.test_copy_experiment\u001b[0m\u001b[0;34m\u001b[0m\u001b[0;34m\u001b[0m\u001b[0m\n\u001b[1;32m      2\u001b[0m \u001b[0;32mdef\u001b[0m \u001b[0mtest_parse_arguments_copy_experiment\u001b[0m \u001b[0;34m(\u001b[0m\u001b[0;34m)\u001b[0m\u001b[0;34m:\u001b[0m\u001b[0;34m\u001b[0m\u001b[0;34m\u001b[0m\u001b[0m\n\u001b[0;32m----> 3\u001b[0;31m     \u001b[0mem\u001b[0m \u001b[0;34m=\u001b[0m \u001b[0mgenerate_data\u001b[0m \u001b[0;34m(\u001b[0m\u001b[0;34m'parse_arguments_copy_experiment'\u001b[0m\u001b[0;34m,\u001b[0m \u001b[0mroot_folder\u001b[0m\u001b[0;34m=\u001b[0m\u001b[0;34m'newroot'\u001b[0m\u001b[0;34m)\u001b[0m\u001b[0;34m\u001b[0m\u001b[0;34m\u001b[0m\u001b[0m\n\u001b[0m\u001b[1;32m      4\u001b[0m \u001b[0;34m\u001b[0m\u001b[0m\n\u001b[1;32m      5\u001b[0m     \u001b[0mdf\u001b[0m \u001b[0;34m=\u001b[0m \u001b[0mem\u001b[0m\u001b[0;34m.\u001b[0m\u001b[0mget_experiment_data\u001b[0m \u001b[0;34m(\u001b[0m\u001b[0mfolder_experiments\u001b[0m\u001b[0;34m=\u001b[0m\u001b[0;34m'newroot'\u001b[0m\u001b[0;34m)\u001b[0m\u001b[0;34m\u001b[0m\u001b[0;34m\u001b[0m\u001b[0m\n",
      "\u001b[0;32m~/jaume/workspace/remote/hpsearch/hpsearch/examples/complex_dummy_experiment_manager.py\u001b[0m in \u001b[0;36mgenerate_data\u001b[0;34m(name_folder, nruns, noise, verbose_model, verbose, parameters_multiple_values, parameters_single_value, other_parameters, em_args, **kwargs)\u001b[0m\n\u001b[1;32m    116\u001b[0m     \u001b[0mpath_experiments\u001b[0m \u001b[0;34m=\u001b[0m \u001b[0;34mf'test_{name_folder}'\u001b[0m\u001b[0;34m\u001b[0m\u001b[0;34m\u001b[0m\u001b[0m\n\u001b[1;32m    117\u001b[0m     \u001b[0mmanager_path\u001b[0m \u001b[0;34m=\u001b[0m \u001b[0;34mf'{path_experiments}/managers'\u001b[0m\u001b[0;34m\u001b[0m\u001b[0;34m\u001b[0m\u001b[0m\n\u001b[0;32m--> 118\u001b[0;31m     em = ComplexDummyExperimentManager (path_experiments=path_experiments, manager_path=manager_path,\n\u001b[0m\u001b[1;32m    119\u001b[0m                                         verbose=verbose, **kwargs)\n\u001b[1;32m    120\u001b[0m     \u001b[0mem\u001b[0m\u001b[0;34m.\u001b[0m\u001b[0mremove_previous_experiments\u001b[0m \u001b[0;34m(\u001b[0m\u001b[0;34m)\u001b[0m\u001b[0;34m\u001b[0m\u001b[0;34m\u001b[0m\u001b[0m\n",
      "\u001b[0;32m~/jaume/workspace/remote/hpsearch/hpsearch/examples/complex_dummy_experiment_manager.py\u001b[0m in \u001b[0;36m__init__\u001b[0;34m(self, model_file_name, **kwargs)\u001b[0m\n\u001b[1;32m     20\u001b[0m \u001b[0;34m\u001b[0m\u001b[0m\n\u001b[1;32m     21\u001b[0m     \u001b[0;32mdef\u001b[0m \u001b[0m__init__\u001b[0m \u001b[0;34m(\u001b[0m\u001b[0mself\u001b[0m\u001b[0;34m,\u001b[0m \u001b[0mmodel_file_name\u001b[0m\u001b[0;34m=\u001b[0m\u001b[0;34m'model_weights.pk'\u001b[0m\u001b[0;34m,\u001b[0m \u001b[0;34m**\u001b[0m\u001b[0mkwargs\u001b[0m\u001b[0;34m)\u001b[0m\u001b[0;34m:\u001b[0m\u001b[0;34m\u001b[0m\u001b[0;34m\u001b[0m\u001b[0m\n\u001b[0;32m---> 22\u001b[0;31m         \u001b[0msuper\u001b[0m\u001b[0;34m(\u001b[0m\u001b[0;34m)\u001b[0m\u001b[0;34m.\u001b[0m\u001b[0m__init__\u001b[0m \u001b[0;34m(\u001b[0m\u001b[0mmodel_file_name\u001b[0m\u001b[0;34m=\u001b[0m\u001b[0mmodel_file_name\u001b[0m\u001b[0;34m,\u001b[0m \u001b[0;34m**\u001b[0m\u001b[0mkwargs\u001b[0m\u001b[0;34m)\u001b[0m\u001b[0;34m\u001b[0m\u001b[0;34m\u001b[0m\u001b[0m\n\u001b[0m\u001b[1;32m     23\u001b[0m         \u001b[0mself\u001b[0m\u001b[0;34m.\u001b[0m\u001b[0mraise_error_if_run\u001b[0m \u001b[0;34m=\u001b[0m \u001b[0;32mFalse\u001b[0m\u001b[0;34m\u001b[0m\u001b[0;34m\u001b[0m\u001b[0m\n\u001b[1;32m     24\u001b[0m         \u001b[0mself\u001b[0m\u001b[0;34m.\u001b[0m\u001b[0mdesired_path_results_previous_experiment\u001b[0m \u001b[0;34m=\u001b[0m \u001b[0;32mNone\u001b[0m\u001b[0;34m\u001b[0m\u001b[0;34m\u001b[0m\u001b[0m\n",
      "\u001b[0;32m~/jaume/workspace/remote/hpsearch/hpsearch/examples/dummy_experiment_manager.py\u001b[0m in \u001b[0;36m__init__\u001b[0;34m(self, path_experiments, root, metric, op, **kwargs)\u001b[0m\n\u001b[1;32m    138\u001b[0m         \u001b[0;32mif\u001b[0m \u001b[0mpath_experiments\u001b[0m \u001b[0;32mis\u001b[0m \u001b[0;32mNone\u001b[0m\u001b[0;34m:\u001b[0m \u001b[0mpath_experiments\u001b[0m \u001b[0;34m=\u001b[0m \u001b[0;34mf'{os.path.dirname(hpsearch.__file__)}/../results'\u001b[0m\u001b[0;34m\u001b[0m\u001b[0;34m\u001b[0m\u001b[0m\n\u001b[1;32m    139\u001b[0m \u001b[0;34m\u001b[0m\u001b[0m\n\u001b[0;32m--> 140\u001b[0;31m         super().__init__ (path_experiments=path_experiments,\n\u001b[0m\u001b[1;32m    141\u001b[0m                           \u001b[0mroot\u001b[0m\u001b[0;34m=\u001b[0m\u001b[0mroot\u001b[0m\u001b[0;34m,\u001b[0m\u001b[0;34m\u001b[0m\u001b[0;34m\u001b[0m\u001b[0m\n\u001b[1;32m    142\u001b[0m                           \u001b[0mmetric\u001b[0m\u001b[0;34m=\u001b[0m\u001b[0mmetric\u001b[0m\u001b[0;34m,\u001b[0m\u001b[0;34m\u001b[0m\u001b[0;34m\u001b[0m\u001b[0m\n",
      "\u001b[0;32m~/jaume/workspace/remote/hpsearch/hpsearch/experiment_manager.py\u001b[0m in \u001b[0;36m__init__\u001b[0;34m(self, allow_base_class, path_experiments, defaults, root, metric, op, alternative_root_path, path_data, name_model_history, model_file_name, name_epoch, result_file, target_model_file, destination_model_file, root_folder, manager_path, non_pickable_fields, avoid_saving_fields, logger, verbose, name_logger)\u001b[0m\n\u001b[1;32m     99\u001b[0m             \u001b[0mself\u001b[0m\u001b[0;34m.\u001b[0m\u001b[0mroot\u001b[0m \u001b[0;34m=\u001b[0m \u001b[0mself\u001b[0m\u001b[0;34m.\u001b[0m\u001b[0mroot_folder\u001b[0m\u001b[0;34m\u001b[0m\u001b[0;34m\u001b[0m\u001b[0m\n\u001b[1;32m    100\u001b[0m         \u001b[0;32mif\u001b[0m \u001b[0mself\u001b[0m\u001b[0;34m.\u001b[0m\u001b[0mroot\u001b[0m \u001b[0;32mis\u001b[0m \u001b[0;32mnot\u001b[0m \u001b[0;32mNone\u001b[0m \u001b[0;32mand\u001b[0m \u001b[0mself\u001b[0m\u001b[0;34m.\u001b[0m\u001b[0mroot_folder\u001b[0m \u001b[0;32mis\u001b[0m \u001b[0;32mnot\u001b[0m \u001b[0;32mNone\u001b[0m \u001b[0;32mand\u001b[0m \u001b[0mself\u001b[0m\u001b[0;34m.\u001b[0m\u001b[0mroot\u001b[0m \u001b[0;34m!=\u001b[0m \u001b[0mself\u001b[0m\u001b[0;34m.\u001b[0m\u001b[0mroot_folder\u001b[0m\u001b[0;34m:\u001b[0m\u001b[0;34m\u001b[0m\u001b[0;34m\u001b[0m\u001b[0m\n\u001b[0;32m--> 101\u001b[0;31m             \u001b[0;32mraise\u001b[0m \u001b[0mValueError\u001b[0m \u001b[0;34m(\u001b[0m\u001b[0;34m'self.root != self.root_folder'\u001b[0m\u001b[0;34m)\u001b[0m\u001b[0;34m\u001b[0m\u001b[0;34m\u001b[0m\u001b[0m\n\u001b[0m\u001b[1;32m    102\u001b[0m \u001b[0;34m\u001b[0m\u001b[0m\n\u001b[1;32m    103\u001b[0m         self.registered_name = (f'{class_name}-default' if (self.root_folder is None\n",
      "\u001b[0;31mValueError\u001b[0m: self.root != self.root_folder"
     ]
    }
   ],
   "source": [
    "tst.run (test_parse_arguments_copy_experiment, tag='dummy', debug=False)"
   ]
  },
  {
   "cell_type": "code",
   "execution_count": 27,
   "metadata": {},
   "outputs": [
    {
     "name": "stdout",
     "output_type": "stream",
     "text": [
      "> \u001b[0;32m/home/jcidatascience/jaume/workspace/remote/hpsearch/hpsearch/experiment_manager.py\u001b[0m(101)\u001b[0;36m__init__\u001b[0;34m()\u001b[0m\n",
      "\u001b[0;32m     99 \u001b[0;31m            \u001b[0mself\u001b[0m\u001b[0;34m.\u001b[0m\u001b[0mroot\u001b[0m \u001b[0;34m=\u001b[0m \u001b[0mself\u001b[0m\u001b[0;34m.\u001b[0m\u001b[0mroot_folder\u001b[0m\u001b[0;34m\u001b[0m\u001b[0;34m\u001b[0m\u001b[0m\n",
      "\u001b[0m\u001b[0;32m    100 \u001b[0;31m        \u001b[0;32mif\u001b[0m \u001b[0mself\u001b[0m\u001b[0;34m.\u001b[0m\u001b[0mroot\u001b[0m \u001b[0;32mis\u001b[0m \u001b[0;32mnot\u001b[0m \u001b[0;32mNone\u001b[0m \u001b[0;32mand\u001b[0m \u001b[0mself\u001b[0m\u001b[0;34m.\u001b[0m\u001b[0mroot_folder\u001b[0m \u001b[0;32mis\u001b[0m \u001b[0;32mnot\u001b[0m \u001b[0;32mNone\u001b[0m \u001b[0;32mand\u001b[0m \u001b[0mself\u001b[0m\u001b[0;34m.\u001b[0m\u001b[0mroot\u001b[0m \u001b[0;34m!=\u001b[0m \u001b[0mself\u001b[0m\u001b[0;34m.\u001b[0m\u001b[0mroot_folder\u001b[0m\u001b[0;34m:\u001b[0m\u001b[0;34m\u001b[0m\u001b[0;34m\u001b[0m\u001b[0m\n",
      "\u001b[0m\u001b[0;32m--> 101 \u001b[0;31m            \u001b[0;32mraise\u001b[0m \u001b[0mValueError\u001b[0m \u001b[0;34m(\u001b[0m\u001b[0;34m'self.root != self.root_folder'\u001b[0m\u001b[0;34m)\u001b[0m\u001b[0;34m\u001b[0m\u001b[0;34m\u001b[0m\u001b[0m\n",
      "\u001b[0m\u001b[0;32m    102 \u001b[0;31m\u001b[0;34m\u001b[0m\u001b[0m\n",
      "\u001b[0m\u001b[0;32m    103 \u001b[0;31m        self.registered_name = (f'{class_name}-default' if (self.root_folder is None\n",
      "\u001b[0m\n"
     ]
    },
    {
     "name": "stdin",
     "output_type": "stream",
     "text": [
      "ipdb>  self.root\n"
     ]
    },
    {
     "name": "stdout",
     "output_type": "stream",
     "text": [
      "''\n"
     ]
    },
    {
     "name": "stdin",
     "output_type": "stream",
     "text": [
      "ipdb>  self.root_folder\n"
     ]
    },
    {
     "name": "stdout",
     "output_type": "stream",
     "text": [
      "'newroot'\n"
     ]
    },
    {
     "name": "stdin",
     "output_type": "stream",
     "text": [
      "ipdb>  dflt.root\n"
     ]
    },
    {
     "name": "stdout",
     "output_type": "stream",
     "text": [
      "''\n"
     ]
    },
    {
     "name": "stdin",
     "output_type": "stream",
     "text": [
      "ipdb>  q\n"
     ]
    }
   ],
   "source": [
    "%debug"
   ]
  },
  {
   "cell_type": "code",
   "execution_count": null,
   "metadata": {},
   "outputs": [],
   "source": []
  }
 ],
 "metadata": {
  "kernelspec": {
   "display_name": "Python (hpsearch)",
   "language": "python",
   "name": "hpsearch"
  },
  "language_info": {
   "codemirror_mode": {
    "name": "ipython",
    "version": 3
   },
   "file_extension": ".py",
   "mimetype": "text/x-python",
   "name": "python",
   "nbconvert_exporter": "python",
   "pygments_lexer": "ipython3",
   "version": "3.9.7"
  },
  "toc-showmarkdowntxt": false
 },
 "nbformat": 4,
 "nbformat_minor": 4
}
