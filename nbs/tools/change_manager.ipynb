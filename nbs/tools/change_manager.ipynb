{
 "cells": [
  {
   "cell_type": "code",
   "execution_count": null,
   "metadata": {},
   "outputs": [],
   "source": [
    "#hide\n",
    "#default_exp tools.change_manager\n",
    "from nbdev.showdoc import show_doc"
   ]
  },
  {
   "cell_type": "markdown",
   "metadata": {},
   "source": [
    "# Change manager\n",
    "\n",
    "Displays the relationship between scores obtained across experiments with two different evaluation metrics indicated as argument. Calculates Pearson R-squared coefficient."
   ]
  },
  {
   "cell_type": "code",
   "execution_count": null,
   "metadata": {},
   "outputs": [],
   "source": [
    "#export\n",
    "import argparse\n",
    "from importlib import reload\n",
    "import warnings\n",
    "import pdb\n",
    "warnings.filterwarnings('ignore')\n",
    "\n",
    "def change_manager (subclass=None):\n",
    "    import hpsearch.config.manager_factory as mf\n",
    "    reload(mf)\n",
    "        \n",
    "    manager_factory = mf.ManagerFactory(verbose=2)\n",
    "    \n",
    "    if subclass is None:\n",
    "        manager_factory.list_subclasses()\n",
    "    else:\n",
    "        manager_factory.change_manager(subclass)\n",
    "        manager_factory.import_written_manager ()\n",
    "        change_manager (None)\n",
    "\n",
    "def main():\n",
    "    parser = argparse.ArgumentParser(description='change experiment manager')\n",
    "    parser.add_argument('-m','--manager', type=str, default=None, help=\"new experiment manager to use\")\n",
    "    parser.add_argument('-l', '--list', action= \"store_true\", help=\"list experiment managers registered so far\")\n",
    "    pars = parser.parse_args()\n",
    "    \n",
    "    #pdb.set_trace()\n",
    "    if pars.list:\n",
    "        change_manager (None)\n",
    "    else:\n",
    "        if pars.manager is None:\n",
    "            print ('you did not indicate any manager to change to, listing the managers available')\n",
    "        change_manager (pars.manager)"
   ]
  },
  {
   "cell_type": "code",
   "execution_count": null,
   "metadata": {},
   "outputs": [
    {
     "name": "stdout",
     "output_type": "stream",
     "text": [
      "current path: /mnt/athena/hpsearch/nbs/tools\n",
      "subclasses: dict_keys([])\n",
      "experiment manager registered: ExperimentManager\n",
      "current path: /mnt/athena/hpsearch/nbs/tools\n",
      "subclasses: dict_keys(['ExampleExperimentManager'])\n",
      "experiment manager registered: ExampleExperimentManager\n"
     ]
    }
   ],
   "source": [
    "from hpsearch.config.manager_factory import ManagerFactory\n",
    "manager_factory = ManagerFactory()\n",
    "manager_factory.delete_and_reset_all()\n",
    "change_manager (None)\n",
    "\n",
    "from hpsearch.examples.example_experiment_manager import ExampleExperimentManager\n",
    "em = ExampleExperimentManager()\n",
    "manager_factory.register_manager(em)\n",
    "manager_factory.write_manager(em)\n",
    "\n",
    "change_manager (None)"
   ]
  },
  {
   "cell_type": "code",
   "execution_count": null,
   "metadata": {},
   "outputs": [
    {
     "name": "stdout",
     "output_type": "stream",
     "text": [
      "current path: /mnt/athena/hpsearch/nbs/tools\n",
      "subclasses: dict_keys(['ExampleExperimentManager', 'DummyExperimentManager'])\n",
      "experiment manager registered: ExperimentManager\n"
     ]
    }
   ],
   "source": [
    "from hpsearch.examples.dummy_experiment_manager import DummyExperimentManager\n",
    "\n",
    "em = DummyExperimentManager()\n",
    "manager_factory.register_manager(em)\n",
    "manager_factory.write_manager(em)\n",
    "assert manager_factory.get_experiment_manager().__class__.__name__ == 'DummyExperimentManager'\n",
    "change_manager (None)"
   ]
  },
  {
   "cell_type": "code",
   "execution_count": null,
   "metadata": {},
   "outputs": [
    {
     "name": "stdout",
     "output_type": "stream",
     "text": [
      "current path: /mnt/athena/hpsearch/nbs/tools\n",
      "current path: /mnt/athena/hpsearch/nbs/tools\n",
      "current path: /mnt/athena/hpsearch/nbs/tools\n",
      "subclasses: dict_keys(['ExampleExperimentManager', 'DummyExperimentManager'])\n",
      "experiment manager registered: ExampleExperimentManager\n"
     ]
    }
   ],
   "source": [
    "change_manager('ExampleExperimentManager')\n",
    "assert manager_factory.get_experiment_manager().__class__.__name__ == 'ExampleExperimentManager'"
   ]
  },
  {
   "cell_type": "code",
   "execution_count": null,
   "metadata": {},
   "outputs": [
    {
     "name": "stdout",
     "output_type": "stream",
     "text": [
      "Converted hpconfig.ipynb.\n",
      "Converted manager_factory.ipynb.\n",
      "Converted dummy_experiment_manager.ipynb.\n",
      "Converted example_experiment.ipynb.\n",
      "Converted example_experiment_manager.ipynb.\n",
      "Converted experiment_manager.ipynb.\n",
      "Converted index.ipynb.\n",
      "Converted change_manager.ipynb.\n",
      "Converted query.ipynb.\n",
      "Converted experiment_utils.ipynb.\n",
      "Converted organize_experiments.ipynb.\n",
      "Converted metric_correlation.ipynb.\n",
      "Converted plotly.ipynb.\n"
     ]
    }
   ],
   "source": [
    "#hide\n",
    "from nbdev.export import *\n",
    "notebook2script(recursive=True)"
   ]
  }
 ],
 "metadata": {
  "kernelspec": {
   "display_name": "Python (athena_gpu)",
   "language": "python",
   "name": "athena_gpu"
  },
  "language_info": {
   "codemirror_mode": {
    "name": "ipython",
    "version": 3
   },
   "file_extension": ".py",
   "mimetype": "text/x-python",
   "name": "python",
   "nbconvert_exporter": "python",
   "pygments_lexer": "ipython3",
   "version": "3.7.6"
  }
 },
 "nbformat": 4,
 "nbformat_minor": 4
}
