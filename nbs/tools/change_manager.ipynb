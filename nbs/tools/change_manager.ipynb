{
 "cells": [
  {
   "cell_type": "code",
   "execution_count": 27,
   "metadata": {},
   "outputs": [],
   "source": [
    "#hide\n",
    "#default_exp tools.change_manager\n",
    "from nbdev.showdoc import *\n",
    "from block_types.utils.nbdev_utils import nbdev_setup, TestRunner\n",
    "\n",
    "nbdev_setup ()\n",
    "tst = TestRunner (targets=['dummy'])"
   ]
  },
  {
   "cell_type": "markdown",
   "metadata": {},
   "source": [
    "# Change manager\n",
    "\n",
    "Displays the relationship between scores obtained across experiments with two different evaluation metrics indicated as argument. Calculates Pearson R-squared coefficient."
   ]
  },
  {
   "cell_type": "code",
   "execution_count": 28,
   "metadata": {},
   "outputs": [],
   "source": [
    "#export\n",
    "import argparse\n",
    "from importlib import reload\n",
    "import warnings\n",
    "import pdb\n",
    "warnings.filterwarnings('ignore')"
   ]
  },
  {
   "cell_type": "code",
   "execution_count": 29,
   "metadata": {},
   "outputs": [],
   "source": [
    "#for tests\n",
    "import pytest\n",
    "from hpsearch.config.manager_factory import ManagerFactory\n",
    "from hpsearch.examples.example_experiment_manager import ExampleExperimentManager\n",
    "from hpsearch.examples.dummy_experiment_manager import DummyExperimentManager"
   ]
  },
  {
   "cell_type": "code",
   "execution_count": 30,
   "metadata": {},
   "outputs": [],
   "source": [
    "#export\n",
    "def change_manager (subclass=None):\n",
    "    import hpsearch.config.manager_factory as mf\n",
    "    reload (mf)\n",
    "        \n",
    "    manager_factory = mf.ManagerFactory (verbose=2)\n",
    "    \n",
    "    if subclass is None:\n",
    "        manager_factory.list_subclasses ()\n",
    "    else:\n",
    "        manager_factory.change_manager (subclass)\n",
    "        manager_factory.import_written_manager ()\n",
    "        change_manager (None)"
   ]
  },
  {
   "cell_type": "markdown",
   "metadata": {},
   "source": [
    "### example usage"
   ]
  },
  {
   "cell_type": "code",
   "execution_count": 36,
   "metadata": {},
   "outputs": [],
   "source": [
    "#export tests.tools.test_change_manager\n",
    "def test_change_manager_list ():\n",
    "    # the following lists stored experiment managers, keeping the current experiment manager\n",
    "    manager_factory = ManagerFactory ()\n",
    "    manager_factory.delete_and_reset_all ()\n",
    "    \n",
    "    print ('\\ninitial list')\n",
    "    em_before = manager_factory.get_experiment_manager ()\n",
    "    change_manager (None)\n",
    "    em_after = manager_factory.get_experiment_manager ()\n",
    "    assert em_before.__class__.__name__ == em_after.__class__.__name__\n",
    "\n",
    "    # **************************************************************\n",
    "    # same but using ExampleExperimentManager as registered manager\n",
    "    # **************************************************************\n",
    "    em = ExampleExperimentManager()\n",
    "    manager_factory.register_manager (em)\n",
    "    manager_factory.write_manager (em)\n",
    "    \n",
    "    print ('\\nlist after storing ExampleExperimentManager')\n",
    "    em_before = manager_factory.get_experiment_manager ()\n",
    "    change_manager (None)\n",
    "    em_after = manager_factory.get_experiment_manager ()\n",
    "    assert em_before.__class__.__name__ == em_after.__class__.__name__\n",
    "    \n",
    "    # we store a third EM (DummyExperimentManager) and list the two \n",
    "    # stored managers\n",
    "    print ('\\nlist after storing DummyExperimentManager')\n",
    "    em = DummyExperimentManager()\n",
    "    manager_factory.register_manager(em)\n",
    "    manager_factory.write_manager(em)\n",
    "    assert manager_factory.get_experiment_manager().__class__.__name__ == 'DummyExperimentManager'\n",
    "    change_manager (None)\n",
    "    \n",
    "    # we change the registered manager back to the first one\n",
    "    print ('\\nlist after changing manager')\n",
    "    change_manager('ExampleExperimentManager')\n",
    "    # TODO: error in pytest\n",
    "    #assert manager_factory.get_experiment_manager().__class__.__name__ == 'ExampleExperimentManager'"
   ]
  },
  {
   "cell_type": "code",
   "execution_count": 37,
   "metadata": {},
   "outputs": [
    {
     "name": "stderr",
     "output_type": "stream",
     "text": [
      "class2import not found, switching to original method\n",
      "class2import not found, switching to original method\n"
     ]
    },
    {
     "name": "stdout",
     "output_type": "stream",
     "text": [
      "running test_change_manager_list\n",
      "\n",
      "initial list\n",
      "subclasses: dict_keys([])\n",
      "experiment manager registered: ExperimentManager\n",
      "\n",
      "list after storing ExampleExperimentManager\n",
      "subclasses: dict_keys(['ExampleExperimentManager'])\n",
      "experiment manager registered: ExampleExperimentManager\n",
      "\n",
      "list after storing DummyExperimentManager\n",
      "subclasses: dict_keys(['ExampleExperimentManager', 'DummyExperimentManager'])\n",
      "experiment manager registered: DummyExperimentManager\n",
      "\n",
      "list after changing manager\n",
      "subclasses: dict_keys(['ExampleExperimentManager', 'DummyExperimentManager'])\n",
      "experiment manager registered: ExampleExperimentManager\n"
     ]
    }
   ],
   "source": [
    "tst.run (test_change_manager_list, tag='dummy')"
   ]
  },
  {
   "cell_type": "code",
   "execution_count": 33,
   "metadata": {},
   "outputs": [],
   "source": [
    "#export\n",
    "def main():\n",
    "    parser = argparse.ArgumentParser(description='change experiment manager')\n",
    "    parser.add_argument('-m','--manager', type=str, default=None, help=\"new experiment manager to use\")\n",
    "    parser.add_argument('-l', '--list', action= \"store_true\", help=\"list experiment managers registered so far\")\n",
    "    pars = parser.parse_args()\n",
    "    \n",
    "    #pdb.set_trace()\n",
    "    if pars.list:\n",
    "        change_manager (None)\n",
    "    else:\n",
    "        if pars.manager is None:\n",
    "            print ('you did not indicate any manager to change to, listing the managers available')\n",
    "        change_manager (pars.manager)"
   ]
  }
 ],
 "metadata": {
  "kernelspec": {
   "display_name": "Python (athena_gpu)",
   "language": "python",
   "name": "athena_gpu"
  },
  "language_info": {
   "codemirror_mode": {
    "name": "ipython",
    "version": 3
   },
   "file_extension": ".py",
   "mimetype": "text/x-python",
   "name": "python",
   "nbconvert_exporter": "python",
   "pygments_lexer": "ipython3",
   "version": "3.7.6"
  }
 },
 "nbformat": 4,
 "nbformat_minor": 4
}
