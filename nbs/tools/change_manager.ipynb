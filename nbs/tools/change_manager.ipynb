{
 "cells": [
  {
   "cell_type": "code",
   "execution_count": 1,
   "metadata": {},
   "outputs": [],
   "source": [
    "#hide\n",
    "#default_exp tools.change_manager\n",
    "from nbdev.showdoc import *\n",
    "from dsblocks.utils.nbdev_utils import nbdev_setup, TestRunner\n",
    "\n",
    "nbdev_setup ()\n",
    "tst = TestRunner (targets=['dummy'])"
   ]
  },
  {
   "cell_type": "markdown",
   "metadata": {},
   "source": [
    "# Change manager\n",
    "\n",
    "Displays the relationship between scores obtained across experiments with two different evaluation metrics indicated as argument. Calculates Pearson R-squared coefficient."
   ]
  },
  {
   "cell_type": "code",
   "execution_count": 2,
   "metadata": {},
   "outputs": [],
   "source": [
    "#export\n",
    "import sys\n",
    "import argparse\n",
    "from importlib import reload\n",
    "import warnings\n",
    "warnings.filterwarnings('ignore')\n",
    "\n",
    "import pdb\n",
    "\n",
    "import hpsearch.config.hp_defaults as dflt"
   ]
  },
  {
   "cell_type": "code",
   "execution_count": 3,
   "metadata": {},
   "outputs": [],
   "source": [
    "#for tests\n",
    "import os\n",
    "import pytest\n",
    "from pathlib import Path\n",
    "import cloudpickle\n",
    "\n",
    "from dsblocks.utils.utils import remove_previous_results\n",
    "\n",
    "from hpsearch.config.manager_factory import ManagerFactory\n",
    "from hpsearch.examples.example_experiment_manager import ExampleExperimentManager\n",
    "from hpsearch.examples.dummy_experiment_manager import DummyExperimentManager"
   ]
  },
  {
   "cell_type": "markdown",
   "metadata": {},
   "source": [
    "## change_manager"
   ]
  },
  {
   "cell_type": "code",
   "execution_count": 4,
   "metadata": {},
   "outputs": [],
   "source": [
    "#export\n",
    "def change_manager (subclass=None, manager_path=dflt.manager_path, print_list=True):\n",
    "    # TODO: check if it is really necessary to import inside the function and reload\n",
    "    import hpsearch.config.manager_factory as mf\n",
    "    from hpsearch.config.hpconfig import register_manager\n",
    "    reload (mf)\n",
    "\n",
    "    manager_factory = mf.ManagerFactory (manager_path=manager_path, verbose=2)\n",
    "    \n",
    "    if subclass is None:\n",
    "        print ('\\nList of managers:')\n",
    "        manager_factory.list_subclasses ()\n",
    "    else:\n",
    "        manager_factory.change_manager (subclass)\n",
    "        em = manager_factory.get_experiment_manager ()\n",
    "        register_manager (em, manager_path=manager_factory.manager_path)\n",
    "        if print_list:\n",
    "            change_manager (subclass=None, manager_path=manager_path)"
   ]
  },
  {
   "cell_type": "markdown",
   "metadata": {},
   "source": [
    "### example usage"
   ]
  },
  {
   "cell_type": "code",
   "execution_count": 5,
   "metadata": {},
   "outputs": [],
   "source": [
    "#export tests.tools.test_change_manager\n",
    "def test_change_manager_list ():\n",
    "    # the following lists stored experiment managers, keeping the current experiment manager\n",
    "    path_results = 'test_change_manager_list'\n",
    "    manager_path = f'{path_results}/manager'\n",
    "    path_experiments = f'{path_results}/experiments'\n",
    "    \n",
    "    manager_factory = ManagerFactory (manager_path=manager_path)\n",
    "    manager_factory.delete_and_reset_all ()\n",
    "\n",
    "    assert os.path.exists (path_results)\n",
    "    assert os.listdir (path_results)==[]\n",
    "\n",
    "    print ('\\ninitial list')\n",
    "    em_before = manager_factory.get_experiment_manager ()\n",
    "    change_manager (None, manager_path=manager_path)\n",
    "    em_after = manager_factory.get_experiment_manager ()\n",
    "    assert em_before.__class__.__name__ == em_after.__class__.__name__\n",
    "\n",
    "    assert os.listdir (manager_path)==['logs.txt']\n",
    "\n",
    "    # **************************************************************\n",
    "    # same but using ExampleExperimentManager as registered manager\n",
    "    # **************************************************************\n",
    "    em = ExampleExperimentManager(path_experiments=path_experiments)\n",
    "    manager_factory.register_manager (em)\n",
    "    manager_factory.write_manager (em)\n",
    "\n",
    "    assert sorted(os.listdir (manager_path))==['fields', 'info', 'logs.txt', 'whole']\n",
    "    assert sorted(os.listdir (f'{manager_path}/whole'))==['ExampleExperimentManager-experiments.pk', 'last.pk']\n",
    "    assert sorted(os.listdir (f'{manager_path}/info'))==['ExampleExperimentManager-experiments.pk', 'last.pk']\n",
    "    assert sorted(os.listdir (f'{manager_path}/fields'))==['ExampleExperimentManager-experiments.pk', 'last.pk']\n",
    "\n",
    "    print ('\\nlist after storing ExampleExperimentManager')\n",
    "    em_before = manager_factory.get_experiment_manager ()\n",
    "    change_manager (None, manager_path=manager_path)\n",
    "    em_after = manager_factory.get_experiment_manager ()\n",
    "    assert em_before.__class__.__name__ == em_after.__class__.__name__\n",
    "\n",
    "    assert sorted(os.listdir (f'{manager_path}/whole'))==['ExampleExperimentManager-experiments.pk', 'last.pk']\n",
    "\n",
    "    # we store a third EM (DummyExperimentManager) and list the two \n",
    "    # stored managers\n",
    "    print ('\\nlist after storing DummyExperimentManager')\n",
    "    em = DummyExperimentManager (path_experiments=path_experiments)\n",
    "    manager_factory.register_manager(em)\n",
    "    manager_factory.write_manager(em)\n",
    "    assert manager_factory.get_experiment_manager().__class__.__name__ == 'DummyExperimentManager'\n",
    "    change_manager (None, manager_path=manager_path)\n",
    "\n",
    "    assert sorted(os.listdir (f'{manager_path}/whole'))==['DummyExperimentManager-experiments.pk', 'ExampleExperimentManager-experiments.pk', 'last.pk']\n",
    "    \n",
    "    whole_object_path = Path(f'{manager_path}/whole')\n",
    "    em=cloudpickle.load (open (whole_object_path / 'last.pk', 'rb'))\n",
    "    assert em.__class__.__name__=='DummyExperimentManager'\n",
    "    \n",
    "    # we change the registered manager back to the first one\n",
    "    print ('\\nlist after changing manager')\n",
    "    change_manager('ExampleExperimentManager-experiments', manager_path=manager_path)\n",
    "    assert manager_factory.get_experiment_manager().__class__.__name__ == 'ExampleExperimentManager'\n",
    "    em=cloudpickle.load (open (whole_object_path / 'last.pk', 'rb'))\n",
    "    assert em.__class__.__name__=='ExampleExperimentManager'\n",
    "    \n",
    "    remove_previous_results (path_results)"
   ]
  },
  {
   "cell_type": "code",
   "execution_count": 6,
   "metadata": {
    "tags": []
   },
   "outputs": [
    {
     "name": "stderr",
     "output_type": "stream",
     "text": [
      "experiment manager not registered yet, importing experiment manager\n",
      "loading manager from /home/jcidatascience/jaume/workspace/remote/temp/hpsearch/test_change_manager_list/manager/whole\n",
      "No experiment manager to import was found, setting base manager.\n",
      "experiment manager not registered yet, importing experiment manager\n",
      "loading manager from /home/jcidatascience/jaume/workspace/remote/temp/hpsearch/test_change_manager_list/manager/whole\n",
      "returning registered experiment manager\n",
      "returning experiment manager <hpsearch.examples.example_experiment_manager.ExampleExperimentManager object at 0x7fb633d00460>\n",
      "returning experiment manager <hpsearch.examples.example_experiment_manager.ExampleExperimentManager object at 0x7fb633d00460>\n",
      "returning registered experiment manager\n",
      "returning experiment manager <hpsearch.examples.example_experiment_manager.ExampleExperimentManager object at 0x7fb633d00460>\n",
      "experiment manager not registered yet, importing experiment manager\n",
      "loading manager from /home/jcidatascience/jaume/workspace/remote/temp/hpsearch/test_change_manager_list/manager/whole\n",
      "returning registered experiment manager\n",
      "returning experiment manager <hpsearch.examples.dummy_experiment_manager.DummyExperimentManager object at 0x7fb61e28fa30>\n",
      "returning experiment manager <hpsearch.examples.dummy_experiment_manager.DummyExperimentManager object at 0x7fb61e28fa30>\n",
      "experiment manager not registered yet, importing experiment manager\n",
      "loading manager from /home/jcidatascience/jaume/workspace/remote/temp/hpsearch/test_change_manager_list/manager/whole\n",
      "returning registered experiment manager\n",
      "returning experiment manager <hpsearch.examples.dummy_experiment_manager.DummyExperimentManager object at 0x7fb61e28feb0>\n",
      "returning experiment manager <hpsearch.examples.dummy_experiment_manager.DummyExperimentManager object at 0x7fb61e28feb0>\n",
      "loading manager from /home/jcidatascience/jaume/workspace/remote/temp/hpsearch/test_change_manager_list/manager/whole\n",
      "experiment manager not registered yet, importing experiment manager\n",
      "loading manager from /home/jcidatascience/jaume/workspace/remote/temp/hpsearch/test_change_manager_list/manager/whole\n",
      "returning registered experiment manager\n",
      "returning experiment manager <hpsearch.examples.example_experiment_manager.ExampleExperimentManager object at 0x7fb60226e610>\n",
      "returning experiment manager <hpsearch.examples.example_experiment_manager.ExampleExperimentManager object at 0x7fb60226e610>\n",
      "returning registered experiment manager\n",
      "returning experiment manager <hpsearch.examples.example_experiment_manager.ExampleExperimentManager object at 0x7fb60226e610>\n"
     ]
    },
    {
     "name": "stdout",
     "output_type": "stream",
     "text": [
      "running test_change_manager_list\n",
      "\n",
      "initial list\n",
      "managers: []\n",
      "experiment manager registered: ExperimentManager\n",
      "registered name: ExperimentManager-default\n",
      "\n",
      "list after storing ExampleExperimentManager\n",
      "managers: ['ExampleExperimentManager-default']\n",
      "experiment manager registered: ExampleExperimentManager\n",
      "registered name: ExampleExperimentManager-default\n",
      "\n",
      "list after storing DummyExperimentManager\n",
      "managers: ['DummyExperimentManager-default', 'ExampleExperimentManager-default']\n",
      "experiment manager registered: DummyExperimentManager\n",
      "registered name: DummyExperimentManager-default\n",
      "\n",
      "list after changing manager\n",
      "managers: ['DummyExperimentManager-default', 'ExampleExperimentManager-default']\n",
      "experiment manager registered: ExampleExperimentManager\n",
      "registered name: ExampleExperimentManager-default\n"
     ]
    }
   ],
   "source": [
    "tst.run (test_change_manager_list, tag='dummy', debug=False)"
   ]
  },
  {
   "cell_type": "markdown",
   "metadata": {},
   "source": [
    "## parse_args"
   ]
  },
  {
   "cell_type": "code",
   "execution_count": 7,
   "metadata": {
    "tags": []
   },
   "outputs": [],
   "source": [
    "#export\n",
    "def parse_args (args):\n",
    "    parser = argparse.ArgumentParser(description='change experiment manager')\n",
    "    parser.add_argument('-m','--manager', type=str, default=None, help=\"new experiment manager to use\")\n",
    "    parser.add_argument('-l', '--list', action= \"store_true\", help=\"list experiment managers registered so far\")\n",
    "    parser.add_argument('-p','--path', type=str, default=None, \n",
    "                        help=f\"path where experiment managers are stored, default={dflt.manager_path}\")\n",
    "    pars = parser.parse_args(args)\n",
    "    return pars"
   ]
  },
  {
   "cell_type": "markdown",
   "metadata": {},
   "source": [
    "## run_change_manager"
   ]
  },
  {
   "cell_type": "code",
   "execution_count": 8,
   "metadata": {
    "tags": []
   },
   "outputs": [],
   "source": [
    "#export\n",
    "def run_change_manager (pars):\n",
    "    manager_path = dflt.manager_path if pars.path is None else pars.path\n",
    "    #pdb.set_trace()\n",
    "    if pars.list:\n",
    "        change_manager (subclass=None, manager_path=manager_path)\n",
    "    else:\n",
    "        if pars.manager is None:\n",
    "            print ('you did not indicate any manager to change to, listing the managers available')\n",
    "        change_manager (subclass=pars.manager, manager_path=manager_path)"
   ]
  },
  {
   "cell_type": "markdown",
   "metadata": {},
   "source": [
    "## parse_arguments_and_run"
   ]
  },
  {
   "cell_type": "code",
   "execution_count": 9,
   "metadata": {},
   "outputs": [],
   "source": [
    "#export\n",
    "def parse_arguments_and_run (args):\n",
    "    pars = parse_args(args)\n",
    "    run_change_manager (pars)"
   ]
  },
  {
   "cell_type": "markdown",
   "metadata": {
    "tags": []
   },
   "source": [
    "### Example usage"
   ]
  },
  {
   "cell_type": "code",
   "execution_count": 16,
   "metadata": {},
   "outputs": [],
   "source": [
    "#export tests.tools.test_change_manager\n",
    "def test_change_manager_parse_and_run ():\n",
    "    # the following lists stored experiment managers, keeping the current experiment manager\n",
    "    path_results = 'test_change_manager_parse_and_run'\n",
    "    manager_path = f'{path_results}/manager'\n",
    "    path_experiments = f'{path_results}/experiments'\n",
    "    \n",
    "    # *********************************\n",
    "    # write managers\n",
    "    # *********************************\n",
    "    em = ExampleExperimentManager(path_experiments=path_experiments, manager_path=manager_path)\n",
    "    em.register_and_store_subclassed_manager ()\n",
    "    \n",
    "    em = DummyExperimentManager(path_experiments=path_experiments, manager_path=manager_path)\n",
    "    em.register_and_store_subclassed_manager ()\n",
    "    \n",
    "    assert sorted(os.listdir (f'{manager_path}/whole'))==['DummyExperimentManager-experiments.pk', 'ExampleExperimentManager-experiments.pk', 'last.pk']\n",
    "    \n",
    "    # *********************************\n",
    "    # *********************************\n",
    "    command = f'-l -p {manager_path}'\n",
    "    parse_arguments_and_run (command.split())\n",
    "    \n",
    "    command = f'-m ExampleExperimentManager-experiments -p {manager_path}'\n",
    "    parse_arguments_and_run (command.split())\n",
    "    \n",
    "    command = f'-l -p {manager_path}'\n",
    "    parse_arguments_and_run (command.split())\n",
    "    \n",
    "    remove_previous_results (path_results)"
   ]
  },
  {
   "cell_type": "code",
   "execution_count": 17,
   "metadata": {},
   "outputs": [
    {
     "name": "stderr",
     "output_type": "stream",
     "text": [
      "experiment manager not registered yet, importing experiment manager\n",
      "loading manager from /home/jcidatascience/jaume/workspace/remote/temp/hpsearch/test_change_manager_parse_and_run/manager/whole\n",
      "returning registered experiment manager\n",
      "returning experiment manager <hpsearch.examples.dummy_experiment_manager.DummyExperimentManager object at 0x7fb6581b8490>\n",
      "returning experiment manager <hpsearch.examples.dummy_experiment_manager.DummyExperimentManager object at 0x7fb6581b8490>\n",
      "experiment manager not registered yet, importing experiment manager\n",
      "loading manager from /home/jcidatascience/jaume/workspace/remote/temp/hpsearch/test_change_manager_parse_and_run/manager/whole\n",
      "returning registered experiment manager\n",
      "returning experiment manager <hpsearch.examples.dummy_experiment_manager.DummyExperimentManager object at 0x7fb602008df0>\n",
      "returning experiment manager <hpsearch.examples.dummy_experiment_manager.DummyExperimentManager object at 0x7fb602008df0>\n",
      "loading manager from /home/jcidatascience/jaume/workspace/remote/temp/hpsearch/test_change_manager_parse_and_run/manager/whole\n",
      "experiment manager not registered yet, importing experiment manager\n",
      "loading manager from /home/jcidatascience/jaume/workspace/remote/temp/hpsearch/test_change_manager_parse_and_run/manager/whole\n",
      "returning registered experiment manager\n",
      "returning experiment manager <hpsearch.examples.example_experiment_manager.ExampleExperimentManager object at 0x7fb601fd3b20>\n",
      "returning experiment manager <hpsearch.examples.example_experiment_manager.ExampleExperimentManager object at 0x7fb601fd3b20>\n",
      "experiment manager not registered yet, importing experiment manager\n",
      "loading manager from /home/jcidatascience/jaume/workspace/remote/temp/hpsearch/test_change_manager_parse_and_run/manager/whole\n",
      "returning registered experiment manager\n",
      "returning experiment manager <hpsearch.examples.example_experiment_manager.ExampleExperimentManager object at 0x7fb6592296a0>\n",
      "returning experiment manager <hpsearch.examples.example_experiment_manager.ExampleExperimentManager object at 0x7fb6592296a0>\n"
     ]
    },
    {
     "name": "stdout",
     "output_type": "stream",
     "text": [
      "running test_change_manager_parse_and_run\n",
      "managers: ['DummyExperimentManager-default', 'ExampleExperimentManager-default']\n",
      "experiment manager registered: DummyExperimentManager\n",
      "registered name: DummyExperimentManager-default\n",
      "managers: ['DummyExperimentManager-default', 'ExampleExperimentManager-default']\n",
      "experiment manager registered: ExampleExperimentManager\n",
      "registered name: ExampleExperimentManager-default\n",
      "managers: ['DummyExperimentManager-default', 'ExampleExperimentManager-default']\n",
      "experiment manager registered: ExampleExperimentManager\n",
      "registered name: ExampleExperimentManager-default\n"
     ]
    }
   ],
   "source": [
    "tst.run (test_change_manager_parse_and_run, tag='dummy', debug=False)"
   ]
  },
  {
   "cell_type": "markdown",
   "metadata": {},
   "source": [
    "## main"
   ]
  },
  {
   "cell_type": "code",
   "execution_count": null,
   "metadata": {},
   "outputs": [],
   "source": [
    "#export\n",
    "def main():\n",
    "    parse_arguments_and_run (sys.argv[1:])"
   ]
  }
 ],
 "metadata": {
  "kernelspec": {
   "display_name": "Python (hpsearch)",
   "language": "python",
   "name": "hpsearch"
  },
  "language_info": {
   "codemirror_mode": {
    "name": "ipython",
    "version": 3
   },
   "file_extension": ".py",
   "mimetype": "text/x-python",
   "name": "python",
   "nbconvert_exporter": "python",
   "pygments_lexer": "ipython3",
   "version": "3.9.7"
  }
 },
 "nbformat": 4,
 "nbformat_minor": 4
}
