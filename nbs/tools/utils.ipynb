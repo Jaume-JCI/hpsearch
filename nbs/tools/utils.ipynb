{
 "cells": [
  {
   "cell_type": "code",
   "execution_count": 28,
   "metadata": {},
   "outputs": [],
   "source": [
    "#hide\n",
    "#default_exp tools.utils\n",
    "from nbdev.showdoc import *\n",
    "from dsblocks.utils.nbdev_utils import nbdev_setup, TestRunner\n",
    "\n",
    "nbdev_setup ()\n",
    "tst = TestRunner (targets=['dummy'])"
   ]
  },
  {
   "cell_type": "markdown",
   "metadata": {},
   "source": [
    "# CLI utils\n",
    "\n",
    "> Utils used in cli tools."
   ]
  },
  {
   "cell_type": "code",
   "execution_count": 29,
   "metadata": {},
   "outputs": [],
   "source": [
    "#export\n",
    "import warnings\n",
    "warnings.filterwarnings('ignore')\n",
    "\n",
    "import pandas as pd\n",
    "import joblib\n",
    "\n",
    "from hpsearch.config.hpconfig import get_experiment_manager\n",
    "import hpsearch.config.hp_defaults as dflt"
   ]
  },
  {
   "cell_type": "code",
   "execution_count": 30,
   "metadata": {},
   "outputs": [],
   "source": [
    "#for tests\n",
    "import pytest\n",
    "import os\n",
    "\n",
    "from dsblocks.utils.utils import remove_previous_results\n",
    "\n",
    "from hpsearch.examples.dummy_experiment_manager import generate_data"
   ]
  },
  {
   "cell_type": "markdown",
   "metadata": {
    "tags": []
   },
   "source": [
    "## include best and last experiment"
   ]
  },
  {
   "cell_type": "code",
   "execution_count": 31,
   "metadata": {},
   "outputs": [],
   "source": [
    "#export\n",
    "def include_best_and_last_experiment (metrics, experiments=[-1, -2], run_number=0, \n",
    "                                      op='max', manager_path=dflt.manager_path, em=None):\n",
    "    if em is None: em = get_experiment_manager (manager_path=manager_path)\n",
    "    path_experiments = em.path_experiments\n",
    "    df = em.get_experiment_data ()\n",
    "    remove_experiment = None\n",
    "    for i in range(len(experiments)):\n",
    "        if experiments[i] == -1:\n",
    "            experiment_number = joblib.load(path_experiments/'current_experiment_number.pkl')\n",
    "            experiments[i] = experiment_number\n",
    "\n",
    "        if experiments[i] == -2:\n",
    "            first_metric = metrics[0]\n",
    "            if len(metrics)>1:\n",
    "                print (f'we use the first metric {first_metric} in given list {metrics} '\n",
    "                        'for obtaining the best experiment')\n",
    "            \n",
    "            score_column = (dflt.scores_col, first_metric, run_number)\n",
    "            if score_column in df.columns:\n",
    "                if op=='max':\n",
    "                    experiments[i] = df[score_column].astype(float).idxmax()\n",
    "                else:\n",
    "                    experiments[i] = df[score_column].astype(float).idxmin()\n",
    "            else:\n",
    "                if remove_experiment is not None: raise ValueError ('more than one experiment is -2')\n",
    "                remove_experiment = i\n",
    "    if remove_experiment is not None: del experiments[remove_experiment]\n",
    "    return experiments"
   ]
  },
  {
   "cell_type": "markdown",
   "metadata": {
    "tags": []
   },
   "source": [
    "## set_metric"
   ]
  },
  {
   "cell_type": "code",
   "execution_count": 32,
   "metadata": {},
   "outputs": [],
   "source": [
    "#export\n",
    "def set_metric (em, metric=None):\n",
    "    assert metric is not None or em.key_score is not None\n",
    "    if metric is None: \n",
    "        metric = em.key_score\n",
    "        metric = [metric]\n",
    "    else:\n",
    "        if not isinstance (metric, list): metric = [metric]\n",
    "        em.key_score = metric[0]\n",
    "    if em.key_score is None: em.key_score = metric[0]\n",
    "    return metric"
   ]
  }
 ],
 "metadata": {
  "kernelspec": {
   "display_name": "Python (hpsearch)",
   "language": "python",
   "name": "hpsearch"
  },
  "language_info": {
   "codemirror_mode": {
    "name": "ipython",
    "version": 3
   },
   "file_extension": ".py",
   "mimetype": "text/x-python",
   "name": "python",
   "nbconvert_exporter": "python",
   "pygments_lexer": "ipython3",
   "version": "3.9.7"
  }
 },
 "nbformat": 4,
 "nbformat_minor": 4
}
