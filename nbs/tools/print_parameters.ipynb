{
 "cells": [
  {
   "cell_type": "code",
   "execution_count": 1,
   "metadata": {},
   "outputs": [],
   "source": [
    "#hide\n",
    "#default_exp tools.print_parameters\n",
    "from nbdev.showdoc import *\n",
    "from dsblocks.utils.nbdev_utils import nbdev_setup, TestRunner\n",
    "\n",
    "nbdev_setup ()\n",
    "tst = TestRunner (targets=['dummy'])"
   ]
  },
  {
   "cell_type": "markdown",
   "metadata": {},
   "source": [
    "# Print parameters\n",
    "\n",
    "> Displays parameters used in the experiment indicated as argument"
   ]
  },
  {
   "cell_type": "code",
   "execution_count": 2,
   "metadata": {},
   "outputs": [],
   "source": [
    "#export\n",
    "import warnings\n",
    "warnings.filterwarnings('ignore')\n",
    "\n",
    "import argparse\n",
    "import sys\n",
    "sys.path.append('.')\n",
    "from IPython.display import display\n",
    "\n",
    "import hpsearch.config.hp_defaults as dflt"
   ]
  },
  {
   "cell_type": "code",
   "execution_count": 3,
   "metadata": {},
   "outputs": [],
   "source": [
    "#for tests\n",
    "import pytest\n",
    "from hpsearch.examples.dummy_experiment_manager import generate_data"
   ]
  },
  {
   "cell_type": "markdown",
   "metadata": {},
   "source": [
    "## print_parameters"
   ]
  },
  {
   "cell_type": "code",
   "execution_count": 4,
   "metadata": {},
   "outputs": [],
   "source": [
    "#export\n",
    "def print_parameters (experiment, folder=None, manager_path=dflt.manager_path):\n",
    "    \n",
    "    from hpsearch.config.hpconfig import get_experiment_manager\n",
    "    em = get_experiment_manager (manager_path=manager_path)\n",
    "    if folder is not None:\n",
    "        em.set_path_experiments (folder=folder)\n",
    "    \n",
    "    path_experiment = em.get_path_experiment (experiment)\n",
    "    parameters_text_file = open(f'{path_experiment}/parameters.txt', 'rt')\n",
    "    print (parameters_text_file.read())\n",
    "    parameters_text_file.close()"
   ]
  },
  {
   "cell_type": "markdown",
   "metadata": {
    "tags": []
   },
   "source": [
    "### usage"
   ]
  },
  {
   "cell_type": "code",
   "execution_count": 5,
   "metadata": {},
   "outputs": [],
   "source": [
    "#export tests.tools.test_print_parameters\n",
    "def test_print_parameters ():\n",
    "    em = generate_data ('print_parameters')\n",
    "    \n",
    "    print_parameters (3, manager_path=em.manager_path)\n",
    "    \n",
    "    em.remove_previous_experiments (parent=True)"
   ]
  },
  {
   "cell_type": "code",
   "execution_count": 6,
   "metadata": {},
   "outputs": [
    {
     "name": "stdout",
     "output_type": "stream",
     "text": [
      "running test_print_parameters\n",
      "parameters=dict(epochs=15,\n",
      "                noise=0.1,\n",
      "                offset=0.1,\n",
      "                rate=0.03)\n",
      "\n",
      "\n",
      "\n",
      "other_parameters=dict(experiment_number=3,\n",
      "                      git_hash='b'e12dbc9b2b3bc38f59a7cc4a5334a93f39ad74dc\\n'',\n",
      "                      lineno=212,\n",
      "                      log_message='fixed rate, multiple epochs values',\n",
      "                      path_results_big='test_print_parameters/experiments/00003/4',\n",
      "                      script_path='/home/jcidatascience/jaume/workspace/remote/hpsearch/hpsearch/examples/dummy_experiment_manager.py',\n",
      "                      suffix_results='_validation_accuracy',\n",
      "                      verbose=False)\n",
      "\n",
      "\n"
     ]
    }
   ],
   "source": [
    "tst.run (test_print_parameters, tag='dummy')"
   ]
  },
  {
   "cell_type": "code",
   "execution_count": 7,
   "metadata": {},
   "outputs": [],
   "source": [
    "#export\n",
    "def parse_args(args):\n",
    "    parser = argparse.ArgumentParser(description='display dictionary of parameters used by this experiment')\n",
    "    parser.add_argument('-e', '--experiment', type=int, required=True,  help=\"experiment number\")\n",
    "    parser.add_argument('-f','--folder', type=str, default=None)\n",
    "    parser.add_argument('-p', '--path', default=dflt.manager_path, type=str)\n",
    "    pars = parser.parse_args(args)\n",
    "    \n",
    "    return pars\n",
    "\n",
    "def parse_arguments_and_print (args):\n",
    "    \n",
    "    pars = parse_args(args)\n",
    "\n",
    "    print_parameters (pars.experiment, pars.folder, manager_path=pars.path)\n",
    "\n",
    "def main():\n",
    "    parse_arguments_and_print (sys.argv[1:])"
   ]
  }
 ],
 "metadata": {
  "kernelspec": {
   "display_name": "Python (hpsearch)",
   "language": "python",
   "name": "hpsearch"
  },
  "language_info": {
   "codemirror_mode": {
    "name": "ipython",
    "version": 3
   },
   "file_extension": ".py",
   "mimetype": "text/x-python",
   "name": "python",
   "nbconvert_exporter": "python",
   "pygments_lexer": "ipython3",
   "version": "3.9.7"
  },
  "toc-showmarkdowntxt": false
 },
 "nbformat": 4,
 "nbformat_minor": 4
}
