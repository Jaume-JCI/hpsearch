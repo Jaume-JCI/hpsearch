{
 "cells": [
  {
   "cell_type": "code",
   "execution_count": 1,
   "metadata": {},
   "outputs": [],
   "source": [
    "#hide\n",
    "#default_exp tools.more_runs\n",
    "from nbdev.showdoc import *\n",
    "from dsblocks.utils.nbdev_utils import nbdev_setup, TestRunner\n",
    "\n",
    "nbdev_setup ()\n",
    "tst = TestRunner (targets=['dummy'])"
   ]
  },
  {
   "cell_type": "markdown",
   "metadata": {},
   "source": [
    "# More runs\n",
    "\n",
    "> Performs more runs on previous experiments, each run having a different random seed."
   ]
  },
  {
   "cell_type": "code",
   "execution_count": 2,
   "metadata": {},
   "outputs": [],
   "source": [
    "#export\n",
    "import sys\n",
    "import argparse\n",
    "\n",
    "from hpsearch.config.hpconfig import get_experiment_manager\n",
    "import hpsearch.config.hp_defaults as dflt"
   ]
  },
  {
   "cell_type": "code",
   "execution_count": 3,
   "metadata": {},
   "outputs": [],
   "source": [
    "#for tests\n",
    "import pytest\n",
    "from hpsearch.examples.complex_dummy_experiment_manager import generate_data"
   ]
  },
  {
   "cell_type": "markdown",
   "metadata": {},
   "source": [
    "## parse_arguments_and_run"
   ]
  },
  {
   "cell_type": "code",
   "execution_count": 4,
   "metadata": {},
   "outputs": [],
   "source": [
    "#export\n",
    "def parse_args (args):\n",
    "    parser = argparse.ArgumentParser(description='run experiment')\n",
    "    parser.add_argument('-d', '--debug', action= \"store_true\")\n",
    "    parser.add_argument('-e', '--experiments', type=int, nargs='+', default=None,  help=\"experiment numbers\")\n",
    "    parser.add_argument('--runs', type=int, default=None,  help=\"number of runs\")\n",
    "    parser.add_argument('--folder', type=str, default=None, help='name of experiments folder')\n",
    "    parser.add_argument('-p', '--path', default=dflt.manager_path, type=str)\n",
    "    pars = parser.parse_args(args)\n",
    "    \n",
    "    return pars\n",
    "\n",
    "def parse_arguments_and_run (args):\n",
    "    \n",
    "    pars = parse_args(args)\n",
    "\n",
    "    em_args = dict(use_process=not pars.debug)\n",
    "    \n",
    "    em = get_experiment_manager (manager_path=pars.path)\n",
    "    \n",
    "    em.rerun_experiment (experiments= pars.experiments, nruns = pars.runs, \n",
    "                         **em_args)\n",
    "\n",
    "def main():\n",
    "    parse_arguments_and_run (sys.argv[1:])"
   ]
  },
  {
   "cell_type": "markdown",
   "metadata": {
    "tags": []
   },
   "source": [
    "### usage"
   ]
  },
  {
   "cell_type": "code",
   "execution_count": 5,
   "metadata": {
    "tags": []
   },
   "outputs": [],
   "source": [
    "#export tests.tools.test_more_runs\n",
    "def test_parse_arguments_and_run_more_runs ():\n",
    "    em = generate_data ('test_parse_arguments_and_run_more_runs')\n",
    "\n",
    "    df = em.get_experiment_data ()\n",
    "    assert df.shape==(9,25)\n",
    "\n",
    "    args = ['-e', '4', '3', '-p', em.manager_path]\n",
    "    parse_arguments_and_run (args)\n",
    "    em.raise_error_if_run=True\n",
    "    df = em.get_experiment_data ()\n",
    "    x=[f'{i}_validation_accuracy' for i in range(5)]; assert df.columns.isin(x).sum()==5\n",
    "    assert df.shape==(9,25)\n",
    "\n",
    "    args = ['-e', '4', '3', '--runs', '10', '-p', em.manager_path]\n",
    "    em.raise_error_if_run=False\n",
    "    parse_arguments_and_run (args)\n",
    "    df = em.get_experiment_data ()\n",
    "    assert df.shape==(9,45)\n",
    "    x=[f'{i}_validation_accuracy' for i in range(10)]; assert df.columns.isin(x).sum()==10\n",
    "    \n",
    "    em.remove_previous_experiments (parent=True)"
   ]
  },
  {
   "cell_type": "code",
   "execution_count": 6,
   "metadata": {},
   "outputs": [
    {
     "name": "stdout",
     "output_type": "stream",
     "text": [
      "running test_parse_arguments_and_run_more_runs\n"
     ]
    }
   ],
   "source": [
    "tst.run (test_parse_arguments_and_run_more_runs, tag='dummy', debug=False)"
   ]
  }
 ],
 "metadata": {
  "kernelspec": {
   "display_name": "Python (hpsearch)",
   "language": "python",
   "name": "hpsearch"
  },
  "language_info": {
   "codemirror_mode": {
    "name": "ipython",
    "version": 3
   },
   "file_extension": ".py",
   "mimetype": "text/x-python",
   "name": "python",
   "nbconvert_exporter": "python",
   "pygments_lexer": "ipython3",
   "version": "3.9.7"
  },
  "toc-showmarkdowntxt": false
 },
 "nbformat": 4,
 "nbformat_minor": 4
}
