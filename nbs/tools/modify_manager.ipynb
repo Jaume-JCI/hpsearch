{
 "cells": [
  {
   "cell_type": "code",
   "execution_count": 1,
   "metadata": {},
   "outputs": [],
   "source": [
    "#hide\n",
    "#default_exp tools.modify_manager\n",
    "from nbdev.showdoc import *\n",
    "from dsblocks.utils.nbdev_utils import nbdev_setup, TestRunner\n",
    "\n",
    "nbdev_setup ()\n",
    "tst = TestRunner (targets=['dummy'])"
   ]
  },
  {
   "cell_type": "markdown",
   "metadata": {},
   "source": [
    "# Modify manager\n",
    "\n",
    "Modifies experiment manager properties"
   ]
  },
  {
   "cell_type": "code",
   "execution_count": 2,
   "metadata": {},
   "outputs": [],
   "source": [
    "#export\n",
    "import sys\n",
    "import argparse\n",
    "from importlib import reload\n",
    "import warnings\n",
    "warnings.filterwarnings('ignore')\n",
    "\n",
    "import hpsearch.config.hp_defaults as dflt\n",
    "from hpsearch.config.hpconfig import get_experiment_manager"
   ]
  },
  {
   "cell_type": "code",
   "execution_count": 3,
   "metadata": {},
   "outputs": [],
   "source": [
    "#for tests\n",
    "import os\n",
    "import pytest\n",
    "from pathlib import Path\n",
    "import cloudpickle\n",
    "\n",
    "from dsblocks.utils.utils import remove_previous_results, check_last_part\n",
    "\n",
    "from hpsearch.config.hpconfig import get_experiment_manager\n",
    "from hpsearch.examples.example_experiment_manager import ExampleExperimentManager\n",
    "from hpsearch.examples.dummy_experiment_manager import DummyExperimentManager"
   ]
  },
  {
   "cell_type": "markdown",
   "metadata": {},
   "source": [
    "## modify_manager"
   ]
  },
  {
   "cell_type": "code",
   "execution_count": 4,
   "metadata": {},
   "outputs": [],
   "source": [
    "#export\n",
    "def modify_manager (path_experiments=None, parent_path=None, folder=None, metric=None, op=None, \n",
    "                    manager_path=dflt.manager_path): \n",
    "    em = get_experiment_manager (manager_path=manager_path)\n",
    "    print ('current properties:')\n",
    "    print (f'class={em.__class__.__name__}')\n",
    "    print (f'path_experiments={em.path_experiments}')\n",
    "    print (f'metric={em.key_score}')\n",
    "    print (f'op={em.op}')\n",
    "    \n",
    "    modified = False\n",
    "    if path_experiments is not None or folder is not None or parent_path is not None:\n",
    "        em.set_path_experiments (path_experiments, parent_path=parent_path, folder=folder)\n",
    "        modified = True\n",
    "    if metric is not None:\n",
    "        em.key_score = metric\n",
    "        modified = True\n",
    "    if op is not None:\n",
    "        em.op = op\n",
    "        modified = True\n",
    "    \n",
    "    if modified:\n",
    "        em.register_and_store_subclassed_manager ()\n",
    "        print ('new properties:')\n",
    "        print (f'path_experiments={em.path_experiments}')\n",
    "        print (f'metric={em.key_score}')\n",
    "        print (f'op={em.op}')"
   ]
  },
  {
   "cell_type": "markdown",
   "metadata": {},
   "source": [
    "### example usage"
   ]
  },
  {
   "cell_type": "code",
   "execution_count": 5,
   "metadata": {},
   "outputs": [],
   "source": [
    "#export tests.tools.test_modify_manager\n",
    "def test_modify_manager ():\n",
    "    # the following lists stored experiment managers, keeping the current experiment manager\n",
    "    path_results = 'test_modify_manager'\n",
    "    manager_path = f'{path_results}/manager'\n",
    "    path_experiments = f'{path_results}/experiments'\n",
    "    \n",
    "    # **************************************************************\n",
    "    # using ExampleExperimentManager as registered manager\n",
    "    # **************************************************************\n",
    "    em = ExampleExperimentManager(path_experiments=path_experiments)\n",
    "    em.register_and_store_subclassed_manager ()\n",
    "    modify_manager ()\n",
    "    em = get_experiment_manager ()\n",
    "    check_last_part (em.path_experiments, path_experiments)\n",
    "    \n",
    "    modify_manager (path_experiments='test_other_modify/experiments')\n",
    "    em = get_experiment_manager ()\n",
    "    check_last_part (em.path_experiments, 'test_other_modify/experiments')\n",
    "    \n",
    "    remove_previous_results (path_results)"
   ]
  },
  {
   "cell_type": "code",
   "execution_count": 6,
   "metadata": {
    "tags": []
   },
   "outputs": [
    {
     "name": "stderr",
     "output_type": "stream",
     "text": [
      "experiment manager not registered yet, importing experiment manager\n",
      "loading manager from /home/jcidatascience/jaume/workspace/remote/temp/hpsearch/test_change_manager_list/manager/whole\n",
      "No experiment manager to import was found, setting base manager.\n",
      "experiment manager not registered yet, importing experiment manager\n",
      "loading manager from /home/jcidatascience/jaume/workspace/remote/temp/hpsearch/test_change_manager_list/manager/whole\n",
      "returning registered experiment manager\n",
      "returning experiment manager <hpsearch.examples.example_experiment_manager.ExampleExperimentManager object at 0x7fb633d00460>\n",
      "returning experiment manager <hpsearch.examples.example_experiment_manager.ExampleExperimentManager object at 0x7fb633d00460>\n",
      "returning registered experiment manager\n",
      "returning experiment manager <hpsearch.examples.example_experiment_manager.ExampleExperimentManager object at 0x7fb633d00460>\n",
      "experiment manager not registered yet, importing experiment manager\n",
      "loading manager from /home/jcidatascience/jaume/workspace/remote/temp/hpsearch/test_change_manager_list/manager/whole\n",
      "returning registered experiment manager\n",
      "returning experiment manager <hpsearch.examples.dummy_experiment_manager.DummyExperimentManager object at 0x7fb61e28fa30>\n",
      "returning experiment manager <hpsearch.examples.dummy_experiment_manager.DummyExperimentManager object at 0x7fb61e28fa30>\n",
      "experiment manager not registered yet, importing experiment manager\n",
      "loading manager from /home/jcidatascience/jaume/workspace/remote/temp/hpsearch/test_change_manager_list/manager/whole\n",
      "returning registered experiment manager\n",
      "returning experiment manager <hpsearch.examples.dummy_experiment_manager.DummyExperimentManager object at 0x7fb61e28feb0>\n",
      "returning experiment manager <hpsearch.examples.dummy_experiment_manager.DummyExperimentManager object at 0x7fb61e28feb0>\n",
      "loading manager from /home/jcidatascience/jaume/workspace/remote/temp/hpsearch/test_change_manager_list/manager/whole\n",
      "experiment manager not registered yet, importing experiment manager\n",
      "loading manager from /home/jcidatascience/jaume/workspace/remote/temp/hpsearch/test_change_manager_list/manager/whole\n",
      "returning registered experiment manager\n",
      "returning experiment manager <hpsearch.examples.example_experiment_manager.ExampleExperimentManager object at 0x7fb60226e610>\n",
      "returning experiment manager <hpsearch.examples.example_experiment_manager.ExampleExperimentManager object at 0x7fb60226e610>\n",
      "returning registered experiment manager\n",
      "returning experiment manager <hpsearch.examples.example_experiment_manager.ExampleExperimentManager object at 0x7fb60226e610>\n"
     ]
    },
    {
     "name": "stdout",
     "output_type": "stream",
     "text": [
      "running test_change_manager_list\n",
      "\n",
      "initial list\n",
      "managers: []\n",
      "experiment manager registered: ExperimentManager\n",
      "registered name: ExperimentManager-default\n",
      "\n",
      "list after storing ExampleExperimentManager\n",
      "managers: ['ExampleExperimentManager-default']\n",
      "experiment manager registered: ExampleExperimentManager\n",
      "registered name: ExampleExperimentManager-default\n",
      "\n",
      "list after storing DummyExperimentManager\n",
      "managers: ['DummyExperimentManager-default', 'ExampleExperimentManager-default']\n",
      "experiment manager registered: DummyExperimentManager\n",
      "registered name: DummyExperimentManager-default\n",
      "\n",
      "list after changing manager\n",
      "managers: ['DummyExperimentManager-default', 'ExampleExperimentManager-default']\n",
      "experiment manager registered: ExampleExperimentManager\n",
      "registered name: ExampleExperimentManager-default\n"
     ]
    }
   ],
   "source": [
    "tst.run (test_modify_manager, tag='dummy', debug=False)"
   ]
  },
  {
   "cell_type": "markdown",
   "metadata": {},
   "source": [
    "## parse_args"
   ]
  },
  {
   "cell_type": "code",
   "execution_count": 7,
   "metadata": {
    "tags": []
   },
   "outputs": [],
   "source": [
    "#export\n",
    "def parse_args (args):\n",
    "    parser = argparse.ArgumentParser(description='change experiment manager')\n",
    "    parser.add_argument('--path_experiments', type=str, default=None, help=\"new experiment manager to use\")\n",
    "    parser.add_argument('--parent_path', type=str, default=None, help=\"new experiment manager to use\")\n",
    "    parser.add_argument('--folder', type=str, default=None, help=\"new experiment manager to use\")\n",
    "    parser.add_argument('-m','--metric', type=str, default=None, help=\"new experiment manager to use\")\n",
    "    parser.add_argument('-o','--op', type=str, default=None, help=\"new experiment manager to use\")\n",
    "    parser.add_argument('--manager_path', type=str, default=None, \n",
    "                        help=f\"path where experiment managers are stored, default={dflt.manager_path}\")\n",
    "    pars = parser.parse_args(args)\n",
    "    return pars"
   ]
  },
  {
   "cell_type": "markdown",
   "metadata": {},
   "source": [
    "## run_change_manager"
   ]
  },
  {
   "cell_type": "code",
   "execution_count": 8,
   "metadata": {
    "tags": []
   },
   "outputs": [],
   "source": [
    "#export\n",
    "def run_modify_manager (pars):\n",
    "    pars.manager_path = dflt.manager_path if pars.manager_path is None else pars.manager_path\n",
    "    modify_manager (**vars(pars))"
   ]
  },
  {
   "cell_type": "markdown",
   "metadata": {},
   "source": [
    "## parse_arguments_and_run"
   ]
  },
  {
   "cell_type": "code",
   "execution_count": 9,
   "metadata": {},
   "outputs": [],
   "source": [
    "#export\n",
    "def parse_arguments_and_run (args):\n",
    "    pars = parse_args (args)\n",
    "    run_modify_manager (pars)"
   ]
  },
  {
   "cell_type": "markdown",
   "metadata": {
    "tags": []
   },
   "source": [
    "### Example usage"
   ]
  },
  {
   "cell_type": "code",
   "execution_count": 16,
   "metadata": {},
   "outputs": [],
   "source": [
    "#export tests.tools.test_modify_manager\n",
    "def test_modify_manager_parse_and_run ():\n",
    "    # the following lists stored experiment managers, keeping the current experiment manager\n",
    "    path_results = 'test_modify_manager_parse_and_run'\n",
    "    manager_path = f'{path_results}/manager'\n",
    "    path_experiments = f'{path_results}/experiments'\n",
    "    \n",
    "    # *********************************\n",
    "    # write managers\n",
    "    # *********************************   \n",
    "    em = DummyExperimentManager(path_experiments=path_experiments, manager_path=manager_path)\n",
    "    em.register_and_store_subclassed_manager ()\n",
    "    \n",
    "    # *********************************\n",
    "    # *********************************\n",
    "    command = f'--path_experiments test_another_path_modify_manager_parse_and_run/myfolder'\n",
    "    parse_arguments_and_run (command.split())\n",
    "    em = get_experiment_manager ()\n",
    "    check_last_part (em.path_experiments, 'test_another_path_modify_manager_parse_and_run/myfolder')\n",
    "    \n",
    "    remove_previous_results (path_results)"
   ]
  },
  {
   "cell_type": "code",
   "execution_count": 17,
   "metadata": {},
   "outputs": [
    {
     "name": "stderr",
     "output_type": "stream",
     "text": [
      "experiment manager not registered yet, importing experiment manager\n",
      "loading manager from /home/jcidatascience/jaume/workspace/remote/temp/hpsearch/test_change_manager_parse_and_run/manager/whole\n",
      "returning registered experiment manager\n",
      "returning experiment manager <hpsearch.examples.dummy_experiment_manager.DummyExperimentManager object at 0x7fb6581b8490>\n",
      "returning experiment manager <hpsearch.examples.dummy_experiment_manager.DummyExperimentManager object at 0x7fb6581b8490>\n",
      "experiment manager not registered yet, importing experiment manager\n",
      "loading manager from /home/jcidatascience/jaume/workspace/remote/temp/hpsearch/test_change_manager_parse_and_run/manager/whole\n",
      "returning registered experiment manager\n",
      "returning experiment manager <hpsearch.examples.dummy_experiment_manager.DummyExperimentManager object at 0x7fb602008df0>\n",
      "returning experiment manager <hpsearch.examples.dummy_experiment_manager.DummyExperimentManager object at 0x7fb602008df0>\n",
      "loading manager from /home/jcidatascience/jaume/workspace/remote/temp/hpsearch/test_change_manager_parse_and_run/manager/whole\n",
      "experiment manager not registered yet, importing experiment manager\n",
      "loading manager from /home/jcidatascience/jaume/workspace/remote/temp/hpsearch/test_change_manager_parse_and_run/manager/whole\n",
      "returning registered experiment manager\n",
      "returning experiment manager <hpsearch.examples.example_experiment_manager.ExampleExperimentManager object at 0x7fb601fd3b20>\n",
      "returning experiment manager <hpsearch.examples.example_experiment_manager.ExampleExperimentManager object at 0x7fb601fd3b20>\n",
      "experiment manager not registered yet, importing experiment manager\n",
      "loading manager from /home/jcidatascience/jaume/workspace/remote/temp/hpsearch/test_change_manager_parse_and_run/manager/whole\n",
      "returning registered experiment manager\n",
      "returning experiment manager <hpsearch.examples.example_experiment_manager.ExampleExperimentManager object at 0x7fb6592296a0>\n",
      "returning experiment manager <hpsearch.examples.example_experiment_manager.ExampleExperimentManager object at 0x7fb6592296a0>\n"
     ]
    },
    {
     "name": "stdout",
     "output_type": "stream",
     "text": [
      "running test_change_manager_parse_and_run\n",
      "managers: ['DummyExperimentManager-default', 'ExampleExperimentManager-default']\n",
      "experiment manager registered: DummyExperimentManager\n",
      "registered name: DummyExperimentManager-default\n",
      "managers: ['DummyExperimentManager-default', 'ExampleExperimentManager-default']\n",
      "experiment manager registered: ExampleExperimentManager\n",
      "registered name: ExampleExperimentManager-default\n",
      "managers: ['DummyExperimentManager-default', 'ExampleExperimentManager-default']\n",
      "experiment manager registered: ExampleExperimentManager\n",
      "registered name: ExampleExperimentManager-default\n"
     ]
    }
   ],
   "source": [
    "tst.run (test_modify_manager_parse_and_run, tag='dummy', debug=False)"
   ]
  },
  {
   "cell_type": "markdown",
   "metadata": {},
   "source": [
    "## main"
   ]
  },
  {
   "cell_type": "code",
   "execution_count": null,
   "metadata": {},
   "outputs": [],
   "source": [
    "#export\n",
    "def main():\n",
    "    parse_arguments_and_run (sys.argv[1:])"
   ]
  }
 ],
 "metadata": {
  "kernelspec": {
   "display_name": "Python (hpsearch)",
   "language": "python",
   "name": "hpsearch"
  },
  "language_info": {
   "codemirror_mode": {
    "name": "ipython",
    "version": 3
   },
   "file_extension": ".py",
   "mimetype": "text/x-python",
   "name": "python",
   "nbconvert_exporter": "python",
   "pygments_lexer": "ipython3",
   "version": "3.9.7"
  }
 },
 "nbformat": 4,
 "nbformat_minor": 4
}
