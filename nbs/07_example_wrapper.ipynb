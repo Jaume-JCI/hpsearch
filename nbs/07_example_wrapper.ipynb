{
 "cells": [
  {
   "cell_type": "code",
   "execution_count": 1,
   "metadata": {
    "hide_input": false
   },
   "outputs": [],
   "source": [
    "#hide\n",
    "#default_exp example_wrapper\n",
    "from nbdev.showdoc import show_doc"
   ]
  },
  {
   "cell_type": "markdown",
   "metadata": {},
   "source": [
    "# Example Wrapper"
   ]
  },
  {
   "cell_type": "code",
   "execution_count": 2,
   "metadata": {},
   "outputs": [],
   "source": [
    "#export\n",
    "import warnings\n",
    "warnings.filterwarnings('ignore')\n",
    "import sys\n",
    "from hpsearch.experiment_manager import ExperimentManager\n",
    "\n",
    "class ExampleExperimentManager (ExperimentManager):\n",
    "\n",
    "    def __init__ (self):\n",
    "        super().__init__()\n",
    "\n",
    "    def run_experiment (self, parameters={}, path_results='./results'):\n",
    "        dict_results = {}\n",
    "        if parameters.get('my_first',0) > 0.5:\n",
    "            dict_results['my_score'] = parameters.get('my_second',1) - parameters.get('my_third', 2)\n",
    "        else:\n",
    "            dict_results['my_score'] = parameters.get('my_second',1) * parameters.get('my_third', 2)\n",
    "        return dict_results"
   ]
  },
  {
   "cell_type": "markdown",
   "metadata": {},
   "source": [
    "## Example use"
   ]
  },
  {
   "cell_type": "code",
   "execution_count": 3,
   "metadata": {
    "scrolled": true
   },
   "outputs": [
    {
     "name": "stderr",
     "output_type": "stream",
     "text": [
      "experiment script: <ipython-input-3-90d3a1d1a2a4>, line: 9\n",
      "processing hyper-parameter 0 out of 6\n",
      "doing run 0 out of 1\n",
      "single input, learning rate and regularization grid search, 500 epochs\n",
      "running experiment 0\n",
      "run number: 0\n",
      "\n",
      "parameters:\n",
      "\tmy_first=0.6,\n",
      "\tmy_second=1.2,\n",
      "\tmy_third=3.0\n",
      "\n",
      "script: <ipython-input-3-90d3a1d1a2a4>, line number: 9\n",
      "time spent for evaluation: 3.314018249511719e-05\n",
      "0 - my_score: -1.8\n",
      "finished experiment 0\n",
      "processing hyper-parameter 1 out of 6\n",
      "doing run 0 out of 1\n",
      "single input, learning rate and regularization grid search, 500 epochs\n",
      "running experiment 1\n",
      "run number: 0\n",
      "\n",
      "parameters:\n",
      "\tmy_first=0.6,\n",
      "\tmy_second=2.3,\n",
      "\tmy_third=3.0\n",
      "\n",
      "script: <ipython-input-3-90d3a1d1a2a4>, line number: 9\n",
      "time spent for evaluation: 3.075599670410156e-05\n",
      "0 - my_score: -0.7000000000000002\n",
      "finished experiment 1\n",
      "processing hyper-parameter 2 out of 6\n",
      "doing run 0 out of 1\n",
      "single input, learning rate and regularization grid search, 500 epochs\n",
      "running experiment 2\n",
      "run number: 0\n",
      "\n",
      "parameters:\n",
      "\tmy_first=0.6,\n",
      "\tmy_second=4.0,\n",
      "\tmy_third=3.0\n",
      "\n",
      "script: <ipython-input-3-90d3a1d1a2a4>, line number: 9\n",
      "time spent for evaluation: 3.457069396972656e-05\n",
      "0 - my_score: 1.0\n",
      "finished experiment 2\n",
      "processing hyper-parameter 3 out of 6\n",
      "doing run 0 out of 1\n",
      "single input, learning rate and regularization grid search, 500 epochs\n",
      "running experiment 3\n",
      "run number: 0\n",
      "\n",
      "parameters:\n",
      "\tmy_first=0.3,\n",
      "\tmy_second=1.2,\n",
      "\tmy_third=3.0\n",
      "\n",
      "script: <ipython-input-3-90d3a1d1a2a4>, line number: 9\n",
      "time spent for evaluation: 3.314018249511719e-05\n",
      "0 - my_score: 3.5999999999999996\n",
      "finished experiment 3\n",
      "processing hyper-parameter 4 out of 6\n",
      "doing run 0 out of 1\n",
      "single input, learning rate and regularization grid search, 500 epochs\n",
      "running experiment 4\n",
      "run number: 0\n",
      "\n",
      "parameters:\n",
      "\tmy_first=0.3,\n",
      "\tmy_second=2.3,\n",
      "\tmy_third=3.0\n",
      "\n",
      "script: <ipython-input-3-90d3a1d1a2a4>, line number: 9\n",
      "time spent for evaluation: 3.361701965332031e-05\n",
      "0 - my_score: 6.8999999999999995\n",
      "finished experiment 4\n",
      "processing hyper-parameter 5 out of 6\n",
      "doing run 0 out of 1\n",
      "single input, learning rate and regularization grid search, 500 epochs\n",
      "running experiment 5\n",
      "run number: 0\n",
      "\n",
      "parameters:\n",
      "\tmy_first=0.3,\n",
      "\tmy_second=4.0,\n",
      "\tmy_third=3.0\n",
      "\n",
      "script: <ipython-input-3-90d3a1d1a2a4>, line number: 9\n",
      "time spent for evaluation: 3.409385681152344e-05\n",
      "0 - my_score: 12.0\n",
      "finished experiment 5\n"
     ]
    }
   ],
   "source": [
    "import argparse\n",
    "\n",
    "import sys\n",
    "sys.path.append('.')\n",
    "\n",
    "em = ExampleExperimentManager ()\n",
    "parameters = dict(my_third=3.0)\n",
    "other_parameters = dict()\n",
    "em.grid_search (log_message='single input, learning rate and regularization grid search, 500 epochs',\n",
    "        parameters_multiple_values=dict(my_first=[0.6, 0.3], my_second=[1.2, 2.3, 4.0]),\n",
    "        parameters_single_value = parameters,\n",
    "        other_parameters=other_parameters,\n",
    "        nruns=1)\n"
   ]
  },
  {
   "cell_type": "markdown",
   "metadata": {},
   "source": [
    "## Another example"
   ]
  },
  {
   "cell_type": "code",
   "execution_count": 4,
   "metadata": {},
   "outputs": [],
   "source": [
    "#export\n",
    "def my_function(x):\n",
    "    ''' Example help.\n",
    "    \n",
    "    Parameters:\n",
    "       x: int\n",
    "       y: str\n",
    "    Returns:\n",
    "       int\n",
    "    '''\n",
    "    \n",
    "    return 2*x"
   ]
  },
  {
   "cell_type": "code",
   "execution_count": 5,
   "metadata": {},
   "outputs": [
    {
     "data": {
      "text/plain": [
       "4"
      ]
     },
     "execution_count": 5,
     "metadata": {},
     "output_type": "execute_result"
    }
   ],
   "source": [
    "my_function(2)"
   ]
  },
  {
   "cell_type": "code",
   "execution_count": 6,
   "metadata": {},
   "outputs": [],
   "source": [
    "#export \n",
    "from hpsearch.tools import hp_util\n",
    "\n",
    "def write_some (x):\n",
    "    print ('this is the message')\n",
    "    hp_util.print_util(x*2)\n",
    "    print ('returning')\n",
    "    return x*2"
   ]
  },
  {
   "cell_type": "code",
   "execution_count": 7,
   "metadata": {},
   "outputs": [
    {
     "name": "stdout",
     "output_type": "stream",
     "text": [
      "this is the message\n",
      "the input is 6\n",
      "returning\n",
      "6\n"
     ]
    }
   ],
   "source": [
    "y = write_some(3)\n",
    "\n",
    "print(y)"
   ]
  },
  {
   "cell_type": "code",
   "execution_count": null,
   "metadata": {},
   "outputs": [],
   "source": []
  }
 ],
 "metadata": {
  "jupytext": {
   "split_at_heading": true
  },
  "kernelspec": {
   "display_name": "Python (ra)",
   "language": "python",
   "name": "ra"
  },
  "language_info": {
   "codemirror_mode": {
    "name": "ipython",
    "version": 3
   },
   "file_extension": ".py",
   "mimetype": "text/x-python",
   "name": "python",
   "nbconvert_exporter": "python",
   "pygments_lexer": "ipython3",
   "version": "3.8.2"
  }
 },
 "nbformat": 4,
 "nbformat_minor": 1
}
