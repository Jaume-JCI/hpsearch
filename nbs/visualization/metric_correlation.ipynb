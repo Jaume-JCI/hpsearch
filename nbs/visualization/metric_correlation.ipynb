{
 "cells": [
  {
   "cell_type": "code",
   "execution_count": null,
   "metadata": {},
   "outputs": [],
   "source": [
    "#hide\n",
    "#default_exp visualization.metric_correlation\n",
    "from nbdev.showdoc import show_doc\n",
    "import warnings\n",
    "warnings.filterwarnings('ignore')"
   ]
  },
  {
   "cell_type": "markdown",
   "metadata": {},
   "source": [
    "# Metric correlation\n",
    "\n",
    "Displays the relationship between scores obtained across experiments with two different evaluation metrics indicated as argument. Calculates Pearson R-squared coefficient."
   ]
  },
  {
   "cell_type": "code",
   "execution_count": null,
   "metadata": {},
   "outputs": [],
   "source": [
    "#export\n",
    "from hpsearch.utils import experiment_utils as ut\n",
    "from hpsearch.visualization import plotly\n",
    "import numpy as np\n",
    "\n",
    "def plot_metric_relationship (metric_1, metric_2, folder_experiments=None, run_numbers=None, \n",
    "                              experiments=None, experiment_subset=None,\n",
    "                              backend='visdom'):\n",
    "    df = ut.get_experiment_data (folder_experiments=folder_experiments, experiments=experiments)\n",
    "    df_metric_1 = ut.get_experiment_scores (experiment_data=df, suffix_results=f'_{metric_1}', remove_suffix=True, class_ids=run_numbers)\n",
    "    df_metric_2 = ut.get_experiment_scores (experiment_data=df, suffix_results=f'_{metric_2}', remove_suffix=True, class_ids=run_numbers)\n",
    "    \n",
    "    traces=plotly.add_trace(df_metric_1.values, df_metric_2.values, traces=[], style='A.', label='all experiments', backend=backend);\n",
    "    \n",
    "    if experiment_subset is not None:\n",
    "        df_metric_1_subset = ut.get_experiment_scores (experiment_data=df.loc[experiment_subset], suffix_results=f'_{metric_1}', remove_suffix=True, class_ids=run_numbers)\n",
    "        df_metric_2_subset = ut.get_experiment_scores (experiment_data=df.loc[experiment_subset], suffix_results=f'_{metric_2}', remove_suffix=True, class_ids=run_numbers)\n",
    "        traces=plotly.add_trace(df_metric_1_subset.values, df_metric_2_subset.values, traces=traces, style='A.', label=f'selected subset', backend=backend);\n",
    "    \n",
    "    plotly.plot(np.linspace(df_metric_1.values.min(), df_metric_1.values.max(), 100), \n",
    "                np.linspace(df_metric_2.values.min(), df_metric_2.values.max(), 100), \n",
    "                traces=traces, style='A-', label='linear', title=f'{metric_1} vs {metric_2}', xlabel=metric_1, ylabel=metric_2, backend=backend);"
   ]
  },
  {
   "cell_type": "markdown",
   "metadata": {},
   "source": [
    "## Tests\n",
    "\n",
    "Test the visualization using dummy experiment manager"
   ]
  },
  {
   "cell_type": "markdown",
   "metadata": {},
   "source": [
    "#### 1. create experiment data"
   ]
  },
  {
   "cell_type": "code",
   "execution_count": null,
   "metadata": {},
   "outputs": [
    {
     "name": "stderr",
     "output_type": "stream",
     "text": [
      "experiment script: /mnt/athena/hpsearch/hpsearch/examples/dummy_experiment_manager.py, line: 125\n",
      "processing hyper-parameter 0 out of 9\n",
      "doing run 0 out of 5\n",
      "fixed rate, multiple epochs values\n",
      "returning registered experiment manager\n",
      "returning experiment manager <hpsearch.examples.dummy_experiment_manager.DummyExperimentManager object at 0x7f3ee9ddffd0>\n",
      "running experiment 0\n",
      "run number: 0\n",
      "\n",
      "parameters:\n",
      "\tepochs=5,\n",
      "\toffset=0.1,\n",
      "\trate=0.03\n",
      "\n",
      "script: /mnt/athena/hpsearch/hpsearch/examples/dummy_experiment_manager.py, line number: 125\n",
      "time spent on this experiment: 0.0002994537353515625\n",
      "0 - validation_accuracy: 0.324709761456397\n",
      "0 - test_accuracy: 0.3120178065642553\n",
      "finished experiment 0\n",
      "processing hyper-parameter 0 out of 9\n",
      "doing run 1 out of 5\n",
      "fixed rate, multiple epochs values\n",
      "running experiment 0\n",
      "run number: 1\n",
      "\n",
      "parameters:\n",
      "\tepochs=5,\n",
      "\toffset=0.1,\n",
      "\trate=0.03\n",
      "\n",
      "script: /mnt/athena/hpsearch/hpsearch/examples/dummy_experiment_manager.py, line number: 125\n",
      "time spent on this experiment: 0.00029468536376953125\n",
      "1 - validation_accuracy: 0.24924041471588348\n",
      "1 - test_accuracy: 0.4253109965296676\n",
      "finished experiment 0\n",
      "processing hyper-parameter 0 out of 9\n",
      "doing run 2 out of 5\n",
      "fixed rate, multiple epochs values\n",
      "running experiment 0\n",
      "run number: 2\n",
      "\n",
      "parameters:\n",
      "\tepochs=5,\n",
      "\toffset=0.1,\n",
      "\trate=0.03\n",
      "\n",
      "script: /mnt/athena/hpsearch/hpsearch/examples/dummy_experiment_manager.py, line number: 125\n",
      "time spent on this experiment: 0.0002589225769042969\n",
      "2 - validation_accuracy: 0.2795850788524763\n",
      "2 - test_accuracy: 0.3467138694179387\n",
      "finished experiment 0\n",
      "processing hyper-parameter 0 out of 9\n",
      "doing run 3 out of 5\n",
      "fixed rate, multiple epochs values\n",
      "running experiment 0\n",
      "run number: 3\n",
      "\n",
      "parameters:\n",
      "\tepochs=5,\n",
      "\toffset=0.1,\n",
      "\trate=0.03\n",
      "\n",
      "script: /mnt/athena/hpsearch/hpsearch/examples/dummy_experiment_manager.py, line number: 125\n",
      "time spent on this experiment: 0.00027561187744140625\n",
      "3 - validation_accuracy: 0.2458881545220484\n",
      "3 - test_accuracy: 0.2409062429971442\n",
      "finished experiment 0\n",
      "processing hyper-parameter 0 out of 9\n",
      "doing run 4 out of 5\n",
      "fixed rate, multiple epochs values\n",
      "running experiment 0\n",
      "run number: 4\n",
      "\n",
      "parameters:\n",
      "\tepochs=5,\n",
      "\toffset=0.1,\n",
      "\trate=0.03\n",
      "\n"
     ]
    },
    {
     "name": "stdout",
     "output_type": "stream",
     "text": [
      "current path: /mnt/athena/hpsearch/nbs/visualization\n",
      "current path: /mnt/athena/hpsearch/nbs/visualization\n",
      "current path: /mnt/athena/hpsearch/nbs/visualization\n",
      "current path: /mnt/athena/hpsearch/nbs/visualization\n",
      "fitting model with 5 epochs\n",
      "epoch 0: accuracy: 0.13\n",
      "epoch 1: accuracy: 0.16\n",
      "epoch 2: accuracy: 0.19\n",
      "epoch 3: accuracy: 0.22\n",
      "epoch 4: accuracy: 0.25\n",
      "noise: 0.1\n",
      "current path: /mnt/athena/hpsearch/nbs/visualization\n",
      "fitting model with 5 epochs\n",
      "epoch 0: accuracy: 0.13\n",
      "epoch 1: accuracy: 0.16\n",
      "epoch 2: accuracy: 0.19\n",
      "epoch 3: accuracy: 0.22\n",
      "epoch 4: accuracy: 0.25\n",
      "noise: 0.1\n",
      "current path: /mnt/athena/hpsearch/nbs/visualization\n",
      "fitting model with 5 epochs\n",
      "epoch 0: accuracy: 0.13\n",
      "epoch 1: accuracy: 0.16\n",
      "epoch 2: accuracy: 0.19\n",
      "epoch 3: accuracy: 0.22\n",
      "epoch 4: accuracy: 0.25\n",
      "noise: 0.1\n",
      "current path: /mnt/athena/hpsearch/nbs/visualization\n",
      "fitting model with 5 epochs\n",
      "epoch 0: accuracy: 0.13\n",
      "epoch 1: accuracy: 0.16\n",
      "epoch 2: accuracy: 0.19\n",
      "epoch 3: accuracy: 0.22\n",
      "epoch 4: accuracy: 0.25\n",
      "noise: 0.1\n",
      "current path: /mnt/athena/hpsearch/nbs/visualization\n"
     ]
    },
    {
     "name": "stderr",
     "output_type": "stream",
     "text": [
      "script: /mnt/athena/hpsearch/hpsearch/examples/dummy_experiment_manager.py, line number: 125\n",
      "time spent on this experiment: 0.0009284019470214844\n",
      "4 - validation_accuracy: 0.11152706047649544\n",
      "4 - test_accuracy: 0.47902662410359254\n",
      "finished experiment 0\n",
      "processing hyper-parameter 1 out of 9\n",
      "doing run 0 out of 5\n",
      "fixed rate, multiple epochs values\n",
      "running experiment 1\n",
      "run number: 0\n",
      "\n",
      "parameters:\n",
      "\tepochs=5,\n",
      "\toffset=0.3,\n",
      "\trate=0.03\n",
      "\n",
      "script: /mnt/athena/hpsearch/hpsearch/examples/dummy_experiment_manager.py, line number: 125\n",
      "time spent on this experiment: 0.0006041526794433594\n",
      "0 - validation_accuracy: 0.48500780433891577\n",
      "0 - test_accuracy: 0.5683586241008535\n",
      "finished experiment 1\n",
      "processing hyper-parameter 1 out of 9\n",
      "doing run 1 out of 5\n",
      "fixed rate, multiple epochs values\n",
      "running experiment 1\n",
      "run number: 1\n",
      "\n",
      "parameters:\n",
      "\tepochs=5,\n",
      "\toffset=0.3,\n",
      "\trate=0.03\n",
      "\n",
      "script: /mnt/athena/hpsearch/hpsearch/examples/dummy_experiment_manager.py, line number: 125\n",
      "time spent on this experiment: 0.0002620220184326172\n",
      "1 - validation_accuracy: 0.3984862700013293\n",
      "1 - test_accuracy: 0.549011756664241\n",
      "finished experiment 1\n",
      "processing hyper-parameter 1 out of 9\n",
      "doing run 2 out of 5\n",
      "fixed rate, multiple epochs values\n",
      "running experiment 1\n",
      "run number: 2\n",
      "\n",
      "parameters:\n",
      "\tepochs=5,\n",
      "\toffset=0.3,\n",
      "\trate=0.03\n",
      "\n",
      "script: /mnt/athena/hpsearch/hpsearch/examples/dummy_experiment_manager.py, line number: 125\n",
      "time spent on this experiment: 0.0002658367156982422\n",
      "2 - validation_accuracy: 0.5316582721633765\n",
      "2 - test_accuracy: 0.6335556178979252\n",
      "finished experiment 1\n",
      "processing hyper-parameter 1 out of 9\n",
      "doing run 3 out of 5\n",
      "fixed rate, multiple epochs values\n",
      "running experiment 1\n",
      "run number: 3\n",
      "\n",
      "parameters:\n",
      "\tepochs=5,\n",
      "\toffset=0.3,\n",
      "\trate=0.03\n",
      "\n",
      "script: /mnt/athena/hpsearch/hpsearch/examples/dummy_experiment_manager.py, line number: 125\n",
      "time spent on this experiment: 0.0002734661102294922\n",
      "3 - validation_accuracy: 0.5630088390150083\n",
      "3 - test_accuracy: 0.3703176651741073\n"
     ]
    },
    {
     "name": "stdout",
     "output_type": "stream",
     "text": [
      "fitting model with 5 epochs\n",
      "epoch 0: accuracy: 0.13\n",
      "epoch 1: accuracy: 0.16\n",
      "epoch 2: accuracy: 0.19\n",
      "epoch 3: accuracy: 0.22\n",
      "epoch 4: accuracy: 0.25\n",
      "noise: 0.1\n",
      "current path: /mnt/athena/hpsearch/nbs/visualization\n",
      "fitting model with 5 epochs\n",
      "epoch 0: accuracy: 0.32999999999999996\n",
      "epoch 1: accuracy: 0.36\n",
      "epoch 2: accuracy: 0.39\n",
      "epoch 3: accuracy: 0.42000000000000004\n",
      "epoch 4: accuracy: 0.45000000000000007\n",
      "noise: 0.1\n",
      "current path: /mnt/athena/hpsearch/nbs/visualization\n",
      "fitting model with 5 epochs\n",
      "epoch 0: accuracy: 0.32999999999999996\n",
      "epoch 1: accuracy: 0.36\n",
      "epoch 2: accuracy: 0.39\n",
      "epoch 3: accuracy: 0.42000000000000004\n",
      "epoch 4: accuracy: 0.45000000000000007\n",
      "noise: 0.1\n",
      "current path: /mnt/athena/hpsearch/nbs/visualization\n",
      "fitting model with 5 epochs\n",
      "epoch 0: accuracy: 0.32999999999999996\n",
      "epoch 1: accuracy: 0.36\n",
      "epoch 2: accuracy: 0.39\n",
      "epoch 3: accuracy: 0.42000000000000004\n",
      "epoch 4: accuracy: 0.45000000000000007\n",
      "noise: 0.1\n",
      "current path: /mnt/athena/hpsearch/nbs/visualization\n",
      "fitting model with 5 epochs\n",
      "epoch 0: accuracy: 0.32999999999999996\n",
      "epoch 1: accuracy: 0.36\n",
      "epoch 2: accuracy: 0.39\n",
      "epoch 3: accuracy: 0.42000000000000004\n",
      "epoch 4: accuracy: 0.45000000000000007\n",
      "noise: 0.1\n"
     ]
    },
    {
     "name": "stderr",
     "output_type": "stream",
     "text": [
      "finished experiment 1\n",
      "processing hyper-parameter 1 out of 9\n",
      "doing run 4 out of 5\n",
      "fixed rate, multiple epochs values\n",
      "running experiment 1\n",
      "run number: 4\n",
      "\n",
      "parameters:\n",
      "\tepochs=5,\n",
      "\toffset=0.3,\n",
      "\trate=0.03\n",
      "\n",
      "script: /mnt/athena/hpsearch/hpsearch/examples/dummy_experiment_manager.py, line number: 125\n",
      "time spent on this experiment: 0.0002894401550292969\n",
      "4 - validation_accuracy: 0.47914458085939304\n",
      "4 - test_accuracy: 0.5076534909083208\n",
      "finished experiment 1\n",
      "processing hyper-parameter 2 out of 9\n",
      "doing run 0 out of 5\n",
      "fixed rate, multiple epochs values\n",
      "running experiment 2\n",
      "run number: 0\n",
      "\n",
      "parameters:\n",
      "\tepochs=5,\n",
      "\toffset=0.6,\n",
      "\trate=0.03\n",
      "\n",
      "script: /mnt/athena/hpsearch/hpsearch/examples/dummy_experiment_manager.py, line number: 125\n",
      "time spent on this experiment: 0.0002522468566894531\n",
      "0 - validation_accuracy: 0.6469655589890273\n",
      "0 - test_accuracy: 0.7046334736131065\n",
      "finished experiment 2\n",
      "processing hyper-parameter 2 out of 9\n",
      "doing run 1 out of 5\n",
      "fixed rate, multiple epochs values\n",
      "running experiment 2\n",
      "run number: 1\n",
      "\n",
      "parameters:\n",
      "\tepochs=5,\n",
      "\toffset=0.6,\n",
      "\trate=0.03\n",
      "\n",
      "script: /mnt/athena/hpsearch/hpsearch/examples/dummy_experiment_manager.py, line number: 125\n",
      "time spent on this experiment: 0.0005970001220703125\n",
      "1 - validation_accuracy: 0.7181075207928177\n",
      "1 - test_accuracy: 0.8137052023157277\n",
      "finished experiment 2\n",
      "processing hyper-parameter 2 out of 9\n",
      "doing run 2 out of 5\n",
      "fixed rate, multiple epochs values\n",
      "running experiment 2\n",
      "run number: 2\n",
      "\n",
      "parameters:\n",
      "\tepochs=5,\n",
      "\toffset=0.6,\n",
      "\trate=0.03\n",
      "\n",
      "script: /mnt/athena/hpsearch/hpsearch/examples/dummy_experiment_manager.py, line number: 125\n",
      "time spent on this experiment: 0.0002574920654296875\n",
      "2 - validation_accuracy: 0.7509273413558777\n",
      "2 - test_accuracy: 0.8306611981072785\n",
      "finished experiment 2\n",
      "processing hyper-parameter 2 out of 9\n",
      "doing run 3 out of 5\n",
      "fixed rate, multiple epochs values\n",
      "running experiment 2\n",
      "run number: 3\n",
      "\n",
      "parameters:\n",
      "\tepochs=5,\n",
      "\toffset=0.6,\n",
      "\trate=0.03\n",
      "\n"
     ]
    },
    {
     "name": "stdout",
     "output_type": "stream",
     "text": [
      "current path: /mnt/athena/hpsearch/nbs/visualization\n",
      "fitting model with 5 epochs\n",
      "epoch 0: accuracy: 0.32999999999999996\n",
      "epoch 1: accuracy: 0.36\n",
      "epoch 2: accuracy: 0.39\n",
      "epoch 3: accuracy: 0.42000000000000004\n",
      "epoch 4: accuracy: 0.45000000000000007\n",
      "noise: 0.1\n",
      "current path: /mnt/athena/hpsearch/nbs/visualization\n",
      "fitting model with 5 epochs\n",
      "epoch 0: accuracy: 0.63\n",
      "epoch 1: accuracy: 0.66\n",
      "epoch 2: accuracy: 0.6900000000000001\n",
      "epoch 3: accuracy: 0.7200000000000001\n",
      "epoch 4: accuracy: 0.7500000000000001\n",
      "noise: 0.1\n",
      "current path: /mnt/athena/hpsearch/nbs/visualization\n",
      "fitting model with 5 epochs\n",
      "epoch 0: accuracy: 0.63\n",
      "epoch 1: accuracy: 0.66\n",
      "epoch 2: accuracy: 0.6900000000000001\n",
      "epoch 3: accuracy: 0.7200000000000001\n",
      "epoch 4: accuracy: 0.7500000000000001\n",
      "noise: 0.1\n",
      "current path: /mnt/athena/hpsearch/nbs/visualization\n",
      "fitting model with 5 epochs\n",
      "epoch 0: accuracy: 0.63\n",
      "epoch 1: accuracy: 0.66\n",
      "epoch 2: accuracy: 0.6900000000000001\n",
      "epoch 3: accuracy: 0.7200000000000001\n",
      "epoch 4: accuracy: 0.7500000000000001\n",
      "noise: 0.1\n",
      "current path: /mnt/athena/hpsearch/nbs/visualization\n"
     ]
    },
    {
     "name": "stderr",
     "output_type": "stream",
     "text": [
      "script: /mnt/athena/hpsearch/hpsearch/examples/dummy_experiment_manager.py, line number: 125\n",
      "time spent on this experiment: 0.0002892017364501953\n",
      "3 - validation_accuracy: 0.7797694977984767\n",
      "3 - test_accuracy: 0.7931496934799204\n",
      "finished experiment 2\n",
      "processing hyper-parameter 2 out of 9\n",
      "doing run 4 out of 5\n",
      "fixed rate, multiple epochs values\n",
      "running experiment 2\n",
      "run number: 4\n",
      "\n",
      "parameters:\n",
      "\tepochs=5,\n",
      "\toffset=0.6,\n",
      "\trate=0.03\n",
      "\n",
      "script: /mnt/athena/hpsearch/hpsearch/examples/dummy_experiment_manager.py, line number: 125\n",
      "time spent on this experiment: 0.0002579689025878906\n",
      "4 - validation_accuracy: 0.6993949484221077\n",
      "4 - test_accuracy: 0.869509160467965\n",
      "finished experiment 2\n",
      "processing hyper-parameter 3 out of 9\n",
      "doing run 0 out of 5\n",
      "fixed rate, multiple epochs values\n",
      "running experiment 3\n",
      "run number: 0\n",
      "\n",
      "parameters:\n",
      "\tepochs=15,\n",
      "\toffset=0.1,\n",
      "\trate=0.03\n",
      "\n",
      "script: /mnt/athena/hpsearch/hpsearch/examples/dummy_experiment_manager.py, line number: 125\n",
      "time spent on this experiment: 0.0014145374298095703\n",
      "0 - validation_accuracy: 0.5892227052302613\n",
      "0 - test_accuracy: 0.5916453877889559\n",
      "finished experiment 3\n",
      "processing hyper-parameter 3 out of 9\n",
      "doing run 1 out of 5\n",
      "fixed rate, multiple epochs values\n",
      "running experiment 3\n",
      "run number: 1\n",
      "\n",
      "parameters:\n",
      "\tepochs=15,\n",
      "\toffset=0.1,\n",
      "\trate=0.03\n",
      "\n",
      "script: /mnt/athena/hpsearch/hpsearch/examples/dummy_experiment_manager.py, line number: 125\n",
      "time spent on this experiment: 0.0004899501800537109\n",
      "1 - validation_accuracy: 0.5183985361704535\n",
      "1 - test_accuracy: 0.6693167972462177\n",
      "finished experiment 3\n",
      "processing hyper-parameter 3 out of 9\n",
      "doing run 2 out of 5\n",
      "fixed rate, multiple epochs values\n",
      "running experiment 3\n",
      "run number: 2\n",
      "\n",
      "parameters:\n",
      "\tepochs=15,\n",
      "\toffset=0.1,\n",
      "\trate=0.03\n",
      "\n",
      "script: /mnt/athena/hpsearch/hpsearch/examples/dummy_experiment_manager.py, line number: 125\n",
      "time spent on this experiment: 0.0005064010620117188\n",
      "2 - validation_accuracy: 0.51591917379494\n"
     ]
    },
    {
     "name": "stdout",
     "output_type": "stream",
     "text": [
      "fitting model with 5 epochs\n",
      "epoch 0: accuracy: 0.63\n",
      "epoch 1: accuracy: 0.66\n",
      "epoch 2: accuracy: 0.6900000000000001\n",
      "epoch 3: accuracy: 0.7200000000000001\n",
      "epoch 4: accuracy: 0.7500000000000001\n",
      "noise: 0.1\n",
      "current path: /mnt/athena/hpsearch/nbs/visualization\n",
      "fitting model with 5 epochs\n",
      "epoch 0: accuracy: 0.63\n",
      "epoch 1: accuracy: 0.66\n",
      "epoch 2: accuracy: 0.6900000000000001\n",
      "epoch 3: accuracy: 0.7200000000000001\n",
      "epoch 4: accuracy: 0.7500000000000001\n",
      "noise: 0.1\n",
      "current path: /mnt/athena/hpsearch/nbs/visualization\n",
      "fitting model with 15 epochs\n",
      "epoch 0: accuracy: 0.13\n",
      "epoch 1: accuracy: 0.16\n",
      "epoch 2: accuracy: 0.19\n",
      "epoch 3: accuracy: 0.22\n",
      "epoch 4: accuracy: 0.25\n",
      "epoch 5: accuracy: 0.28\n",
      "epoch 6: accuracy: 0.31000000000000005\n",
      "epoch 7: accuracy: 0.3400000000000001\n",
      "epoch 8: accuracy: 0.3700000000000001\n",
      "epoch 9: accuracy: 0.40000000000000013\n",
      "epoch 10: accuracy: 0.43000000000000016\n",
      "epoch 11: accuracy: 0.4600000000000002\n",
      "epoch 12: accuracy: 0.4900000000000002\n",
      "epoch 13: accuracy: 0.5200000000000002\n",
      "epoch 14: accuracy: 0.5500000000000003\n",
      "noise: 0.1\n",
      "current path: /mnt/athena/hpsearch/nbs/visualization\n",
      "fitting model with 15 epochs\n",
      "epoch 0: accuracy: 0.13\n",
      "epoch 1: accuracy: 0.16\n",
      "epoch 2: accuracy: 0.19\n",
      "epoch 3: accuracy: 0.22\n",
      "epoch 4: accuracy: 0.25\n",
      "epoch 5: accuracy: 0.28\n",
      "epoch 6: accuracy: 0.31000000000000005\n",
      "epoch 7: accuracy: 0.3400000000000001\n",
      "epoch 8: accuracy: 0.3700000000000001\n",
      "epoch 9: accuracy: 0.40000000000000013\n",
      "epoch 10: accuracy: 0.43000000000000016\n",
      "epoch 11: accuracy: 0.4600000000000002\n",
      "epoch 12: accuracy: 0.4900000000000002\n",
      "epoch 13: accuracy: 0.5200000000000002\n",
      "epoch 14: accuracy: 0.5500000000000003\n",
      "noise: 0.1\n",
      "current path: /mnt/athena/hpsearch/nbs/visualization\n",
      "fitting model with 15 epochs\n",
      "epoch 0: accuracy: 0.13\n",
      "epoch 1: accuracy: 0.16\n",
      "epoch 2: accuracy: 0.19\n",
      "epoch 3: accuracy: 0.22\n",
      "epoch 4: accuracy: 0.25\n",
      "epoch 5: accuracy: 0.28\n",
      "epoch 6: accuracy: 0.31000000000000005\n",
      "epoch 7: accuracy: 0.3400000000000001\n",
      "epoch 8: accuracy: 0.3700000000000001\n",
      "epoch 9: accuracy: 0.40000000000000013\n",
      "epoch 10: accuracy: 0.43000000000000016\n",
      "epoch 11: accuracy: 0.4600000000000002\n",
      "epoch 12: accuracy: 0.4900000000000002\n",
      "epoch 13: accuracy: 0.5200000000000002\n",
      "epoch 14: accuracy: 0.5500000000000003\n",
      "noise: 0.1\n"
     ]
    },
    {
     "name": "stderr",
     "output_type": "stream",
     "text": [
      "2 - test_accuracy: 0.3839094339594172\n",
      "finished experiment 3\n",
      "processing hyper-parameter 3 out of 9\n",
      "doing run 3 out of 5\n",
      "fixed rate, multiple epochs values\n",
      "running experiment 3\n",
      "run number: 3\n",
      "\n",
      "parameters:\n",
      "\tepochs=15,\n",
      "\toffset=0.1,\n",
      "\trate=0.03\n",
      "\n",
      "script: /mnt/athena/hpsearch/hpsearch/examples/dummy_experiment_manager.py, line number: 125\n",
      "time spent on this experiment: 0.0016484260559082031\n",
      "3 - validation_accuracy: 0.5716197017615264\n",
      "3 - test_accuracy: 0.4442272126174261\n",
      "finished experiment 3\n",
      "processing hyper-parameter 3 out of 9\n",
      "doing run 4 out of 5\n",
      "fixed rate, multiple epochs values\n",
      "running experiment 3\n",
      "run number: 4\n",
      "\n",
      "parameters:\n",
      "\tepochs=15,\n",
      "\toffset=0.1,\n",
      "\trate=0.03\n",
      "\n",
      "script: /mnt/athena/hpsearch/hpsearch/examples/dummy_experiment_manager.py, line number: 125\n",
      "time spent on this experiment: 0.0009765625\n",
      "4 - validation_accuracy: 0.6856172585054171\n",
      "4 - test_accuracy: 0.4187744552255181\n",
      "finished experiment 3\n",
      "processing hyper-parameter 4 out of 9\n",
      "doing run 0 out of 5\n",
      "fixed rate, multiple epochs values\n",
      "running experiment 4\n",
      "run number: 0\n",
      "\n",
      "parameters:\n",
      "\tepochs=15,\n",
      "\toffset=0.3,\n",
      "\trate=0.03\n",
      "\n",
      "script: /mnt/athena/hpsearch/hpsearch/examples/dummy_experiment_manager.py, line number: 125\n",
      "time spent on this experiment: 0.0006659030914306641\n",
      "0 - validation_accuracy: 0.6395287748422933\n",
      "0 - test_accuracy: 0.7527991479124528\n",
      "finished experiment 4\n",
      "processing hyper-parameter 4 out of 9\n",
      "doing run 1 out of 5\n",
      "fixed rate, multiple epochs values\n",
      "running experiment 4\n",
      "run number: 1\n",
      "\n",
      "parameters:\n",
      "\tepochs=15,\n",
      "\toffset=0.3,\n",
      "\trate=0.03\n",
      "\n",
      "script: /mnt/athena/hpsearch/hpsearch/examples/dummy_experiment_manager.py, line number: 125\n",
      "time spent on this experiment: 0.0005168914794921875\n",
      "1 - validation_accuracy: 0.5664077490082549\n",
      "1 - test_accuracy: 0.9602763540736858\n",
      "finished experiment 4\n",
      "processing hyper-parameter 4 out of 9\n",
      "doing run 2 out of 5\n",
      "fixed rate, multiple epochs values\n"
     ]
    },
    {
     "name": "stdout",
     "output_type": "stream",
     "text": [
      "current path: /mnt/athena/hpsearch/nbs/visualization\n",
      "fitting model with 15 epochs\n",
      "epoch 0: accuracy: 0.13\n",
      "epoch 1: accuracy: 0.16\n",
      "epoch 2: accuracy: 0.19\n",
      "epoch 3: accuracy: 0.22\n",
      "epoch 4: accuracy: 0.25\n",
      "epoch 5: accuracy: 0.28\n",
      "epoch 6: accuracy: 0.31000000000000005\n",
      "epoch 7: accuracy: 0.3400000000000001\n",
      "epoch 8: accuracy: 0.3700000000000001\n",
      "epoch 9: accuracy: 0.40000000000000013\n",
      "epoch 10: accuracy: 0.43000000000000016\n",
      "epoch 11: accuracy: 0.4600000000000002\n",
      "epoch 12: accuracy: 0.4900000000000002\n",
      "epoch 13: accuracy: 0.5200000000000002\n",
      "epoch 14: accuracy: 0.5500000000000003\n",
      "noise: 0.1\n",
      "current path: /mnt/athena/hpsearch/nbs/visualization\n",
      "fitting model with 15 epochs\n",
      "epoch 0: accuracy: 0.13\n",
      "epoch 1: accuracy: 0.16\n",
      "epoch 2: accuracy: 0.19\n",
      "epoch 3: accuracy: 0.22\n",
      "epoch 4: accuracy: 0.25\n",
      "epoch 5: accuracy: 0.28\n",
      "epoch 6: accuracy: 0.31000000000000005\n",
      "epoch 7: accuracy: 0.3400000000000001\n",
      "epoch 8: accuracy: 0.3700000000000001\n",
      "epoch 9: accuracy: 0.40000000000000013\n",
      "epoch 10: accuracy: 0.43000000000000016\n",
      "epoch 11: accuracy: 0.4600000000000002\n",
      "epoch 12: accuracy: 0.4900000000000002\n",
      "epoch 13: accuracy: 0.5200000000000002\n",
      "epoch 14: accuracy: 0.5500000000000003\n",
      "noise: 0.1\n",
      "current path: /mnt/athena/hpsearch/nbs/visualization\n",
      "fitting model with 15 epochs\n",
      "epoch 0: accuracy: 0.32999999999999996\n",
      "epoch 1: accuracy: 0.36\n",
      "epoch 2: accuracy: 0.39\n",
      "epoch 3: accuracy: 0.42000000000000004\n",
      "epoch 4: accuracy: 0.45000000000000007\n",
      "epoch 5: accuracy: 0.4800000000000001\n",
      "epoch 6: accuracy: 0.5100000000000001\n",
      "epoch 7: accuracy: 0.5400000000000001\n",
      "epoch 8: accuracy: 0.5700000000000002\n",
      "epoch 9: accuracy: 0.6000000000000002\n",
      "epoch 10: accuracy: 0.6300000000000002\n",
      "epoch 11: accuracy: 0.6600000000000003\n",
      "epoch 12: accuracy: 0.6900000000000003\n",
      "epoch 13: accuracy: 0.7200000000000003\n",
      "epoch 14: accuracy: 0.7500000000000003\n",
      "noise: 0.1\n",
      "current path: /mnt/athena/hpsearch/nbs/visualization\n",
      "fitting model with 15 epochs\n",
      "epoch 0: accuracy: 0.32999999999999996\n",
      "epoch 1: accuracy: 0.36\n",
      "epoch 2: accuracy: 0.39\n",
      "epoch 3: accuracy: 0.42000000000000004\n",
      "epoch 4: accuracy: 0.45000000000000007\n",
      "epoch 5: accuracy: 0.4800000000000001\n",
      "epoch 6: accuracy: 0.5100000000000001\n",
      "epoch 7: accuracy: 0.5400000000000001\n",
      "epoch 8: accuracy: 0.5700000000000002\n",
      "epoch 9: accuracy: 0.6000000000000002\n",
      "epoch 10: accuracy: 0.6300000000000002\n",
      "epoch 11: accuracy: 0.6600000000000003\n",
      "epoch 12: accuracy: 0.6900000000000003\n",
      "epoch 13: accuracy: 0.7200000000000003\n",
      "epoch 14: accuracy: 0.7500000000000003\n",
      "noise: 0.1\n"
     ]
    },
    {
     "name": "stderr",
     "output_type": "stream",
     "text": [
      "running experiment 4\n",
      "run number: 2\n",
      "\n",
      "parameters:\n",
      "\tepochs=15,\n",
      "\toffset=0.3,\n",
      "\trate=0.03\n",
      "\n",
      "script: /mnt/athena/hpsearch/hpsearch/examples/dummy_experiment_manager.py, line number: 125\n",
      "time spent on this experiment: 0.0005097389221191406\n",
      "2 - validation_accuracy: 0.6890514925311217\n",
      "2 - test_accuracy: 0.7007679869565064\n",
      "finished experiment 4\n",
      "processing hyper-parameter 4 out of 9\n",
      "doing run 3 out of 5\n",
      "fixed rate, multiple epochs values\n",
      "running experiment 4\n",
      "run number: 3\n",
      "\n",
      "parameters:\n",
      "\tepochs=15,\n",
      "\toffset=0.3,\n",
      "\trate=0.03\n",
      "\n",
      "script: /mnt/athena/hpsearch/hpsearch/examples/dummy_experiment_manager.py, line number: 125\n",
      "time spent on this experiment: 0.0011222362518310547\n",
      "3 - validation_accuracy: 0.6987516502150941\n",
      "3 - test_accuracy: 0.5701514392024184\n",
      "finished experiment 4\n",
      "processing hyper-parameter 4 out of 9\n",
      "doing run 4 out of 5\n",
      "fixed rate, multiple epochs values\n",
      "running experiment 4\n",
      "run number: 4\n",
      "\n",
      "parameters:\n",
      "\tepochs=15,\n",
      "\toffset=0.3,\n",
      "\trate=0.03\n",
      "\n",
      "script: /mnt/athena/hpsearch/hpsearch/examples/dummy_experiment_manager.py, line number: 125\n",
      "time spent on this experiment: 0.0009360313415527344\n",
      "4 - validation_accuracy: 0.6637091194860698\n",
      "4 - test_accuracy: 0.6757909063443553\n",
      "finished experiment 4\n",
      "processing hyper-parameter 5 out of 9\n",
      "doing run 0 out of 5\n",
      "fixed rate, multiple epochs values\n",
      "running experiment 5\n",
      "run number: 0\n",
      "\n",
      "parameters:\n",
      "\tepochs=15,\n",
      "\toffset=0.6,\n",
      "\trate=0.03\n",
      "\n",
      "script: /mnt/athena/hpsearch/hpsearch/examples/dummy_experiment_manager.py, line number: 125\n",
      "time spent on this experiment: 0.0011551380157470703\n",
      "0 - validation_accuracy: 1.0\n",
      "0 - test_accuracy: 0.740257215058908\n"
     ]
    },
    {
     "name": "stdout",
     "output_type": "stream",
     "text": [
      "current path: /mnt/athena/hpsearch/nbs/visualization\n",
      "fitting model with 15 epochs\n",
      "epoch 0: accuracy: 0.32999999999999996\n",
      "epoch 1: accuracy: 0.36\n",
      "epoch 2: accuracy: 0.39\n",
      "epoch 3: accuracy: 0.42000000000000004\n",
      "epoch 4: accuracy: 0.45000000000000007\n",
      "epoch 5: accuracy: 0.4800000000000001\n",
      "epoch 6: accuracy: 0.5100000000000001\n",
      "epoch 7: accuracy: 0.5400000000000001\n",
      "epoch 8: accuracy: 0.5700000000000002\n",
      "epoch 9: accuracy: 0.6000000000000002\n",
      "epoch 10: accuracy: 0.6300000000000002\n",
      "epoch 11: accuracy: 0.6600000000000003\n",
      "epoch 12: accuracy: 0.6900000000000003\n",
      "epoch 13: accuracy: 0.7200000000000003\n",
      "epoch 14: accuracy: 0.7500000000000003\n",
      "noise: 0.1\n",
      "current path: /mnt/athena/hpsearch/nbs/visualization\n",
      "fitting model with 15 epochs\n",
      "epoch 0: accuracy: 0.32999999999999996\n",
      "epoch 1: accuracy: 0.36\n",
      "epoch 2: accuracy: 0.39\n",
      "epoch 3: accuracy: 0.42000000000000004\n",
      "epoch 4: accuracy: 0.45000000000000007\n",
      "epoch 5: accuracy: 0.4800000000000001\n",
      "epoch 6: accuracy: 0.5100000000000001\n",
      "epoch 7: accuracy: 0.5400000000000001\n",
      "epoch 8: accuracy: 0.5700000000000002\n",
      "epoch 9: accuracy: 0.6000000000000002\n",
      "epoch 10: accuracy: 0.6300000000000002\n",
      "epoch 11: accuracy: 0.6600000000000003\n",
      "epoch 12: accuracy: 0.6900000000000003\n",
      "epoch 13: accuracy: 0.7200000000000003\n",
      "epoch 14: accuracy: 0.7500000000000003\n",
      "noise: 0.1\n",
      "current path: /mnt/athena/hpsearch/nbs/visualization\n",
      "fitting model with 15 epochs\n",
      "epoch 0: accuracy: 0.32999999999999996\n",
      "epoch 1: accuracy: 0.36\n",
      "epoch 2: accuracy: 0.39\n",
      "epoch 3: accuracy: 0.42000000000000004\n",
      "epoch 4: accuracy: 0.45000000000000007\n",
      "epoch 5: accuracy: 0.4800000000000001\n",
      "epoch 6: accuracy: 0.5100000000000001\n",
      "epoch 7: accuracy: 0.5400000000000001\n",
      "epoch 8: accuracy: 0.5700000000000002\n",
      "epoch 9: accuracy: 0.6000000000000002\n",
      "epoch 10: accuracy: 0.6300000000000002\n",
      "epoch 11: accuracy: 0.6600000000000003\n",
      "epoch 12: accuracy: 0.6900000000000003\n",
      "epoch 13: accuracy: 0.7200000000000003\n",
      "epoch 14: accuracy: 0.7500000000000003\n",
      "noise: 0.1\n",
      "current path: /mnt/athena/hpsearch/nbs/visualization\n",
      "fitting model with 15 epochs\n",
      "epoch 0: accuracy: 0.63\n",
      "epoch 1: accuracy: 0.66\n",
      "epoch 2: accuracy: 0.6900000000000001\n",
      "epoch 3: accuracy: 0.7200000000000001\n",
      "epoch 4: accuracy: 0.7500000000000001\n",
      "epoch 5: accuracy: 0.7800000000000001\n",
      "epoch 6: accuracy: 0.8100000000000002\n",
      "epoch 7: accuracy: 0.8400000000000002\n",
      "epoch 8: accuracy: 0.8700000000000002\n",
      "epoch 9: accuracy: 0.9000000000000002\n",
      "epoch 10: accuracy: 0.9300000000000003\n",
      "epoch 11: accuracy: 0.9600000000000003\n",
      "epoch 12: accuracy: 0.9900000000000003\n",
      "epoch 13: accuracy: 1.0200000000000002\n",
      "epoch 14: accuracy: 1.0500000000000003\n",
      "noise: 0.1\n"
     ]
    },
    {
     "name": "stderr",
     "output_type": "stream",
     "text": [
      "finished experiment 5\n",
      "processing hyper-parameter 5 out of 9\n",
      "doing run 1 out of 5\n",
      "fixed rate, multiple epochs values\n",
      "running experiment 5\n",
      "run number: 1\n",
      "\n",
      "parameters:\n",
      "\tepochs=15,\n",
      "\toffset=0.6,\n",
      "\trate=0.03\n",
      "\n",
      "script: /mnt/athena/hpsearch/hpsearch/examples/dummy_experiment_manager.py, line number: 125\n",
      "time spent on this experiment: 0.0004341602325439453\n",
      "1 - validation_accuracy: 1.0\n",
      "1 - test_accuracy: 0.7980779449705775\n",
      "finished experiment 5\n",
      "processing hyper-parameter 5 out of 9\n",
      "doing run 2 out of 5\n",
      "fixed rate, multiple epochs values\n",
      "running experiment 5\n",
      "run number: 2\n",
      "\n",
      "parameters:\n",
      "\tepochs=15,\n",
      "\toffset=0.6,\n",
      "\trate=0.03\n",
      "\n",
      "script: /mnt/athena/hpsearch/hpsearch/examples/dummy_experiment_manager.py, line number: 125\n",
      "time spent on this experiment: 0.055240631103515625\n",
      "2 - validation_accuracy: 0.9297792131744719\n",
      "2 - test_accuracy: 0.9093330296087141\n",
      "finished experiment 5\n",
      "processing hyper-parameter 5 out of 9\n",
      "doing run 3 out of 5\n",
      "fixed rate, multiple epochs values\n",
      "running experiment 5\n",
      "run number: 3\n",
      "\n",
      "parameters:\n",
      "\tepochs=15,\n",
      "\toffset=0.6,\n",
      "\trate=0.03\n",
      "\n",
      "script: /mnt/athena/hpsearch/hpsearch/examples/dummy_experiment_manager.py, line number: 125\n",
      "time spent on this experiment: 0.0011563301086425781\n",
      "3 - validation_accuracy: 1.0\n",
      "3 - test_accuracy: 0.8109835046399081\n"
     ]
    },
    {
     "name": "stdout",
     "output_type": "stream",
     "text": [
      "current path: /mnt/athena/hpsearch/nbs/visualization\n",
      "fitting model with 15 epochs\n",
      "epoch 0: accuracy: 0.63\n",
      "epoch 1: accuracy: 0.66\n",
      "epoch 2: accuracy: 0.6900000000000001\n",
      "epoch 3: accuracy: 0.7200000000000001\n",
      "epoch 4: accuracy: 0.7500000000000001\n",
      "epoch 5: accuracy: 0.7800000000000001\n",
      "epoch 6: accuracy: 0.8100000000000002\n",
      "epoch 7: accuracy: 0.8400000000000002\n",
      "epoch 8: accuracy: 0.8700000000000002\n",
      "epoch 9: accuracy: 0.9000000000000002\n",
      "epoch 10: accuracy: 0.9300000000000003\n",
      "epoch 11: accuracy: 0.9600000000000003\n",
      "epoch 12: accuracy: 0.9900000000000003\n",
      "epoch 13: accuracy: 1.0200000000000002\n",
      "epoch 14: accuracy: 1.0500000000000003\n",
      "noise: 0.1\n",
      "current path: /mnt/athena/hpsearch/nbs/visualization\n",
      "fitting model with 15 epochs\n",
      "epoch 0: accuracy: 0.63\n",
      "epoch 1: accuracy: 0.66\n",
      "epoch 2: accuracy: 0.6900000000000001\n",
      "epoch 3: accuracy: 0.7200000000000001\n",
      "epoch 4: accuracy: 0.7500000000000001\n",
      "epoch 5: accuracy: 0.7800000000000001\n",
      "epoch 6: accuracy: 0.8100000000000002\n",
      "epoch 7: accuracy: 0.8400000000000002\n",
      "epoch 8: accuracy: 0.8700000000000002\n",
      "epoch 9: accuracy: 0.9000000000000002\n",
      "epoch 10: accuracy: 0.9300000000000003\n",
      "epoch 11: accuracy: 0.9600000000000003\n",
      "epoch 12: accuracy: 0.9900000000000003\n",
      "epoch 13: accuracy: 1.0200000000000002\n",
      "epoch 14: accuracy: 1.0500000000000003\n",
      "noise: 0.1\n",
      "current path: /mnt/athena/hpsearch/nbs/visualization\n",
      "fitting model with 15 epochs\n",
      "epoch 0: accuracy: 0.63\n",
      "epoch 1: accuracy: 0.66\n",
      "epoch 2: accuracy: 0.6900000000000001\n",
      "epoch 3: accuracy: 0.7200000000000001\n",
      "epoch 4: accuracy: 0.7500000000000001\n",
      "epoch 5: accuracy: 0.7800000000000001\n",
      "epoch 6: accuracy: 0.8100000000000002\n",
      "epoch 7: accuracy: 0.8400000000000002\n",
      "epoch 8: accuracy: 0.8700000000000002\n",
      "epoch 9: accuracy: 0.9000000000000002\n",
      "epoch 10: accuracy: 0.9300000000000003\n",
      "epoch 11: accuracy: 0.9600000000000003\n",
      "epoch 12: accuracy: 0.9900000000000003\n",
      "epoch 13: accuracy: 1.0200000000000002\n",
      "epoch 14: accuracy: 1.0500000000000003\n",
      "noise: 0.1\n"
     ]
    },
    {
     "name": "stderr",
     "output_type": "stream",
     "text": [
      "finished experiment 5\n",
      "processing hyper-parameter 5 out of 9\n",
      "doing run 4 out of 5\n",
      "fixed rate, multiple epochs values\n",
      "running experiment 5\n",
      "run number: 4\n",
      "\n",
      "parameters:\n",
      "\tepochs=15,\n",
      "\toffset=0.6,\n",
      "\trate=0.03\n",
      "\n",
      "script: /mnt/athena/hpsearch/hpsearch/examples/dummy_experiment_manager.py, line number: 125\n",
      "time spent on this experiment: 0.0005409717559814453\n",
      "4 - validation_accuracy: 1.0\n",
      "4 - test_accuracy: 0.9576236142524214\n",
      "finished experiment 5\n",
      "processing hyper-parameter 6 out of 9\n",
      "doing run 0 out of 5\n",
      "fixed rate, multiple epochs values\n",
      "running experiment 6\n",
      "run number: 0\n",
      "\n",
      "parameters:\n",
      "\tepochs=30,\n",
      "\toffset=0.1,\n",
      "\trate=0.03\n",
      "\n",
      "script: /mnt/athena/hpsearch/hpsearch/examples/dummy_experiment_manager.py, line number: 125\n",
      "time spent on this experiment: 0.0008296966552734375\n",
      "0 - validation_accuracy: 0.271787355535688\n",
      "0 - test_accuracy: 0.3085543848676527\n",
      "finished experiment 6\n",
      "processing hyper-parameter 6 out of 9\n",
      "doing run 1 out of 5\n",
      "fixed rate, multiple epochs values\n",
      "running experiment 6\n",
      "run number: 1\n",
      "\n",
      "parameters:\n",
      "\tepochs=30,\n",
      "\toffset=0.1,\n",
      "\trate=0.03\n",
      "\n",
      "script: /mnt/athena/hpsearch/hpsearch/examples/dummy_experiment_manager.py, line number: 125\n",
      "time spent on this experiment: 0.0020742416381835938\n",
      "1 - validation_accuracy: 0.5060273988275441\n",
      "1 - test_accuracy: 0.34338507580999067\n",
      "finished experiment 6\n",
      "processing hyper-parameter 6 out of 9\n",
      "doing run 2 out of 5\n",
      "fixed rate, multiple epochs values\n",
      "running experiment 6\n",
      "run number: 2\n",
      "\n",
      "parameters:\n",
      "\tepochs=30,\n",
      "\toffset=0.1,\n",
      "\trate=0.03\n",
      "\n",
      "script: /mnt/athena/hpsearch/hpsearch/examples/dummy_experiment_manager.py, line number: 125\n"
     ]
    },
    {
     "name": "stdout",
     "output_type": "stream",
     "text": [
      "current path: /mnt/athena/hpsearch/nbs/visualization\n",
      "fitting model with 15 epochs\n",
      "epoch 0: accuracy: 0.63\n",
      "epoch 1: accuracy: 0.66\n",
      "epoch 2: accuracy: 0.6900000000000001\n",
      "epoch 3: accuracy: 0.7200000000000001\n",
      "epoch 4: accuracy: 0.7500000000000001\n",
      "epoch 5: accuracy: 0.7800000000000001\n",
      "epoch 6: accuracy: 0.8100000000000002\n",
      "epoch 7: accuracy: 0.8400000000000002\n",
      "epoch 8: accuracy: 0.8700000000000002\n",
      "epoch 9: accuracy: 0.9000000000000002\n",
      "epoch 10: accuracy: 0.9300000000000003\n",
      "epoch 11: accuracy: 0.9600000000000003\n",
      "epoch 12: accuracy: 0.9900000000000003\n",
      "epoch 13: accuracy: 1.0200000000000002\n",
      "epoch 14: accuracy: 1.0500000000000003\n",
      "noise: 0.1\n",
      "current path: /mnt/athena/hpsearch/nbs/visualization\n",
      "fitting model with 30 epochs\n",
      "epoch 0: accuracy: 0.13\n",
      "epoch 1: accuracy: 0.16\n",
      "epoch 2: accuracy: 0.19\n",
      "epoch 3: accuracy: 0.22\n",
      "epoch 4: accuracy: 0.25\n",
      "epoch 5: accuracy: 0.28\n",
      "epoch 6: accuracy: 0.31000000000000005\n",
      "epoch 7: accuracy: 0.3400000000000001\n",
      "epoch 8: accuracy: 0.3700000000000001\n",
      "epoch 9: accuracy: 0.40000000000000013\n",
      "epoch 10: accuracy: 0.43000000000000016\n",
      "epoch 11: accuracy: 0.4600000000000002\n",
      "epoch 12: accuracy: 0.4900000000000002\n",
      "epoch 13: accuracy: 0.5200000000000002\n",
      "epoch 14: accuracy: 0.5500000000000003\n",
      "epoch 15: accuracy: 0.5800000000000003\n",
      "epoch 16: accuracy: 0.6100000000000003\n",
      "epoch 17: accuracy: 0.6400000000000003\n",
      "epoch 18: accuracy: 0.6700000000000004\n",
      "epoch 19: accuracy: 0.7000000000000004\n",
      "epoch 20: accuracy: 0.6700000000000004\n",
      "epoch 21: accuracy: 0.6400000000000003\n",
      "epoch 22: accuracy: 0.6100000000000003\n",
      "epoch 23: accuracy: 0.5800000000000003\n",
      "epoch 24: accuracy: 0.5500000000000003\n",
      "epoch 25: accuracy: 0.5200000000000002\n",
      "epoch 26: accuracy: 0.4900000000000002\n",
      "epoch 27: accuracy: 0.4600000000000002\n",
      "epoch 28: accuracy: 0.43000000000000016\n",
      "epoch 29: accuracy: 0.40000000000000013\n",
      "noise: 0.1\n",
      "current path: /mnt/athena/hpsearch/nbs/visualization\n",
      "fitting model with 30 epochs\n",
      "epoch 0: accuracy: 0.13\n",
      "epoch 1: accuracy: 0.16\n",
      "epoch 2: accuracy: 0.19\n",
      "epoch 3: accuracy: 0.22\n",
      "epoch 4: accuracy: 0.25\n",
      "epoch 5: accuracy: 0.28\n",
      "epoch 6: accuracy: 0.31000000000000005\n",
      "epoch 7: accuracy: 0.3400000000000001\n",
      "epoch 8: accuracy: 0.3700000000000001\n",
      "epoch 9: accuracy: 0.40000000000000013\n",
      "epoch 10: accuracy: 0.43000000000000016\n",
      "epoch 11: accuracy: 0.4600000000000002\n",
      "epoch 12: accuracy: 0.4900000000000002\n",
      "epoch 13: accuracy: 0.5200000000000002\n",
      "epoch 14: accuracy: 0.5500000000000003\n",
      "epoch 15: accuracy: 0.5800000000000003\n",
      "epoch 16: accuracy: 0.6100000000000003\n",
      "epoch 17: accuracy: 0.6400000000000003\n",
      "epoch 18: accuracy: 0.6700000000000004\n",
      "epoch 19: accuracy: 0.7000000000000004\n",
      "epoch 20: accuracy: 0.6700000000000004\n",
      "epoch 21: accuracy: 0.6400000000000003\n",
      "epoch 22: accuracy: 0.6100000000000003\n",
      "epoch 23: accuracy: 0.5800000000000003\n",
      "epoch 24: accuracy: 0.5500000000000003\n",
      "epoch 25: accuracy: 0.5200000000000002\n",
      "epoch 26: accuracy: 0.4900000000000002\n",
      "epoch 27: accuracy: 0.4600000000000002\n",
      "epoch 28: accuracy: 0.43000000000000016\n",
      "epoch 29: accuracy: 0.40000000000000013\n",
      "noise: 0.1\n",
      "current path: /mnt/athena/hpsearch/nbs/visualization\n"
     ]
    },
    {
     "name": "stderr",
     "output_type": "stream",
     "text": [
      "time spent on this experiment: 0.001972675323486328\n",
      "2 - validation_accuracy: 0.38018911518477616\n",
      "2 - test_accuracy: 0.28172691457381777\n",
      "finished experiment 6\n",
      "processing hyper-parameter 6 out of 9\n",
      "doing run 3 out of 5\n",
      "fixed rate, multiple epochs values\n",
      "running experiment 6\n",
      "run number: 3\n",
      "\n",
      "parameters:\n",
      "\tepochs=30,\n",
      "\toffset=0.1,\n",
      "\trate=0.03\n",
      "\n",
      "script: /mnt/athena/hpsearch/hpsearch/examples/dummy_experiment_manager.py, line number: 125\n",
      "time spent on this experiment: 0.0007925033569335938\n",
      "3 - validation_accuracy: 0.350670233399756\n",
      "3 - test_accuracy: 0.3934843631463059\n",
      "finished experiment 6\n",
      "processing hyper-parameter 6 out of 9\n",
      "doing run 4 out of 5\n",
      "fixed rate, multiple epochs values\n",
      "running experiment 6\n",
      "run number: 4\n",
      "\n",
      "parameters:\n",
      "\tepochs=30,\n",
      "\toffset=0.1,\n",
      "\trate=0.03\n",
      "\n",
      "script: /mnt/athena/hpsearch/hpsearch/examples/dummy_experiment_manager.py, line number: 125\n",
      "time spent on this experiment: 0.002297639846801758\n",
      "4 - validation_accuracy: 0.23019062088258893\n",
      "4 - test_accuracy: 0.26037995800316216\n",
      "finished experiment 6\n",
      "processing hyper-parameter 7 out of 9\n",
      "doing run 0 out of 5\n",
      "fixed rate, multiple epochs values\n",
      "running experiment 7\n",
      "run number: 0\n",
      "\n",
      "parameters:\n",
      "\tepochs=30,\n",
      "\toffset=0.3,\n",
      "\trate=0.03\n",
      "\n",
      "script: /mnt/athena/hpsearch/hpsearch/examples/dummy_experiment_manager.py, line number: 125\n",
      "time spent on this experiment: 0.0014050006866455078\n",
      "0 - validation_accuracy: 0.6034430805565831\n",
      "0 - test_accuracy: 0.41700744877730056\n",
      "finished experiment 7\n",
      "processing hyper-parameter 7 out of 9\n",
      "doing run 1 out of 5\n",
      "fixed rate, multiple epochs values\n"
     ]
    },
    {
     "name": "stdout",
     "output_type": "stream",
     "text": [
      "fitting model with 30 epochs\n",
      "epoch 0: accuracy: 0.13\n",
      "epoch 1: accuracy: 0.16\n",
      "epoch 2: accuracy: 0.19\n",
      "epoch 3: accuracy: 0.22\n",
      "epoch 4: accuracy: 0.25\n",
      "epoch 5: accuracy: 0.28\n",
      "epoch 6: accuracy: 0.31000000000000005\n",
      "epoch 7: accuracy: 0.3400000000000001\n",
      "epoch 8: accuracy: 0.3700000000000001\n",
      "epoch 9: accuracy: 0.40000000000000013\n",
      "epoch 10: accuracy: 0.43000000000000016\n",
      "epoch 11: accuracy: 0.4600000000000002\n",
      "epoch 12: accuracy: 0.4900000000000002\n",
      "epoch 13: accuracy: 0.5200000000000002\n",
      "epoch 14: accuracy: 0.5500000000000003\n",
      "epoch 15: accuracy: 0.5800000000000003\n",
      "epoch 16: accuracy: 0.6100000000000003\n",
      "epoch 17: accuracy: 0.6400000000000003\n",
      "epoch 18: accuracy: 0.6700000000000004\n",
      "epoch 19: accuracy: 0.7000000000000004\n",
      "epoch 20: accuracy: 0.6700000000000004\n",
      "epoch 21: accuracy: 0.6400000000000003\n",
      "epoch 22: accuracy: 0.6100000000000003\n",
      "epoch 23: accuracy: 0.5800000000000003\n",
      "epoch 24: accuracy: 0.5500000000000003\n",
      "epoch 25: accuracy: 0.5200000000000002\n",
      "epoch 26: accuracy: 0.4900000000000002\n",
      "epoch 27: accuracy: 0.4600000000000002\n",
      "epoch 28: accuracy: 0.43000000000000016\n",
      "epoch 29: accuracy: 0.40000000000000013\n",
      "noise: 0.1\n",
      "current path: /mnt/athena/hpsearch/nbs/visualization\n",
      "fitting model with 30 epochs\n",
      "epoch 0: accuracy: 0.13\n",
      "epoch 1: accuracy: 0.16\n",
      "epoch 2: accuracy: 0.19\n",
      "epoch 3: accuracy: 0.22\n",
      "epoch 4: accuracy: 0.25\n",
      "epoch 5: accuracy: 0.28\n",
      "epoch 6: accuracy: 0.31000000000000005\n",
      "epoch 7: accuracy: 0.3400000000000001\n",
      "epoch 8: accuracy: 0.3700000000000001\n",
      "epoch 9: accuracy: 0.40000000000000013\n",
      "epoch 10: accuracy: 0.43000000000000016\n",
      "epoch 11: accuracy: 0.4600000000000002\n",
      "epoch 12: accuracy: 0.4900000000000002\n",
      "epoch 13: accuracy: 0.5200000000000002\n",
      "epoch 14: accuracy: 0.5500000000000003\n",
      "epoch 15: accuracy: 0.5800000000000003\n",
      "epoch 16: accuracy: 0.6100000000000003\n",
      "epoch 17: accuracy: 0.6400000000000003\n",
      "epoch 18: accuracy: 0.6700000000000004\n",
      "epoch 19: accuracy: 0.7000000000000004\n",
      "epoch 20: accuracy: 0.6700000000000004\n",
      "epoch 21: accuracy: 0.6400000000000003\n",
      "epoch 22: accuracy: 0.6100000000000003\n",
      "epoch 23: accuracy: 0.5800000000000003\n",
      "epoch 24: accuracy: 0.5500000000000003\n",
      "epoch 25: accuracy: 0.5200000000000002\n",
      "epoch 26: accuracy: 0.4900000000000002\n",
      "epoch 27: accuracy: 0.4600000000000002\n",
      "epoch 28: accuracy: 0.43000000000000016\n",
      "epoch 29: accuracy: 0.40000000000000013\n",
      "noise: 0.1\n",
      "current path: /mnt/athena/hpsearch/nbs/visualization\n",
      "fitting model with 30 epochs\n",
      "epoch 0: accuracy: 0.13\n",
      "epoch 1: accuracy: 0.16\n",
      "epoch 2: accuracy: 0.19\n",
      "epoch 3: accuracy: 0.22\n",
      "epoch 4: accuracy: 0.25\n",
      "epoch 5: accuracy: 0.28\n",
      "epoch 6: accuracy: 0.31000000000000005\n",
      "epoch 7: accuracy: 0.3400000000000001\n",
      "epoch 8: accuracy: 0.3700000000000001\n",
      "epoch 9: accuracy: 0.40000000000000013\n",
      "epoch 10: accuracy: 0.43000000000000016\n",
      "epoch 11: accuracy: 0.4600000000000002\n",
      "epoch 12: accuracy: 0.4900000000000002\n",
      "epoch 13: accuracy: 0.5200000000000002\n",
      "epoch 14: accuracy: 0.5500000000000003\n",
      "epoch 15: accuracy: 0.5800000000000003\n",
      "epoch 16: accuracy: 0.6100000000000003\n",
      "epoch 17: accuracy: 0.6400000000000003\n",
      "epoch 18: accuracy: 0.6700000000000004\n",
      "epoch 19: accuracy: 0.7000000000000004\n",
      "epoch 20: accuracy: 0.6700000000000004\n",
      "epoch 21: accuracy: 0.6400000000000003\n",
      "epoch 22: accuracy: 0.6100000000000003\n",
      "epoch 23: accuracy: 0.5800000000000003\n",
      "epoch 24: accuracy: 0.5500000000000003\n",
      "epoch 25: accuracy: 0.5200000000000002\n",
      "epoch 26: accuracy: 0.4900000000000002\n",
      "epoch 27: accuracy: 0.4600000000000002\n",
      "epoch 28: accuracy: 0.43000000000000016\n",
      "epoch 29: accuracy: 0.40000000000000013\n",
      "noise: 0.1\n",
      "current path: /mnt/athena/hpsearch/nbs/visualization\n",
      "fitting model with 30 epochs\n",
      "epoch 0: accuracy: 0.32999999999999996\n",
      "epoch 1: accuracy: 0.36\n",
      "epoch 2: accuracy: 0.39\n",
      "epoch 3: accuracy: 0.42000000000000004\n",
      "epoch 4: accuracy: 0.45000000000000007\n",
      "epoch 5: accuracy: 0.4800000000000001\n",
      "epoch 6: accuracy: 0.5100000000000001\n",
      "epoch 7: accuracy: 0.5400000000000001\n",
      "epoch 8: accuracy: 0.5700000000000002\n",
      "epoch 9: accuracy: 0.6000000000000002\n",
      "epoch 10: accuracy: 0.6300000000000002\n",
      "epoch 11: accuracy: 0.6600000000000003\n",
      "epoch 12: accuracy: 0.6900000000000003\n",
      "epoch 13: accuracy: 0.7200000000000003\n",
      "epoch 14: accuracy: 0.7500000000000003\n",
      "epoch 15: accuracy: 0.7800000000000004\n",
      "epoch 16: accuracy: 0.8100000000000004\n",
      "epoch 17: accuracy: 0.8400000000000004\n",
      "epoch 18: accuracy: 0.8700000000000004\n",
      "epoch 19: accuracy: 0.9000000000000005\n",
      "epoch 20: accuracy: 0.8700000000000004\n",
      "epoch 21: accuracy: 0.8400000000000004\n",
      "epoch 22: accuracy: 0.8100000000000004\n",
      "epoch 23: accuracy: 0.7800000000000004\n",
      "epoch 24: accuracy: 0.7500000000000003\n",
      "epoch 25: accuracy: 0.7200000000000003\n",
      "epoch 26: accuracy: 0.6900000000000003\n",
      "epoch 27: accuracy: 0.6600000000000003\n",
      "epoch 28: accuracy: 0.6300000000000002\n",
      "epoch 29: accuracy: 0.6000000000000002\n",
      "noise: 0.1\n",
      "current path: /mnt/athena/hpsearch/nbs/visualization\n"
     ]
    },
    {
     "name": "stderr",
     "output_type": "stream",
     "text": [
      "running experiment 7\n",
      "run number: 1\n",
      "\n",
      "parameters:\n",
      "\tepochs=30,\n",
      "\toffset=0.3,\n",
      "\trate=0.03\n",
      "\n",
      "script: /mnt/athena/hpsearch/hpsearch/examples/dummy_experiment_manager.py, line number: 125\n",
      "time spent on this experiment: 0.0007650852203369141\n",
      "1 - validation_accuracy: 0.6686897631679715\n",
      "1 - test_accuracy: 0.36622178965752106\n",
      "finished experiment 7\n",
      "processing hyper-parameter 7 out of 9\n",
      "doing run 2 out of 5\n",
      "fixed rate, multiple epochs values\n",
      "running experiment 7\n",
      "run number: 2\n",
      "\n",
      "parameters:\n",
      "\tepochs=30,\n",
      "\toffset=0.3,\n",
      "\trate=0.03\n",
      "\n",
      "script: /mnt/athena/hpsearch/hpsearch/examples/dummy_experiment_manager.py, line number: 125\n",
      "time spent on this experiment: 0.0004949569702148438\n",
      "2 - validation_accuracy: 0.4933845859699111\n",
      "2 - test_accuracy: 0.5244033235641063\n",
      "finished experiment 7\n",
      "processing hyper-parameter 7 out of 9\n",
      "doing run 3 out of 5\n",
      "fixed rate, multiple epochs values\n",
      "running experiment 7\n",
      "run number: 3\n",
      "\n",
      "parameters:\n",
      "\tepochs=30,\n",
      "\toffset=0.3,\n",
      "\trate=0.03\n",
      "\n",
      "script: /mnt/athena/hpsearch/hpsearch/examples/dummy_experiment_manager.py, line number: 125\n",
      "time spent on this experiment: 0.00498199462890625\n",
      "3 - validation_accuracy: 0.6480703885419896\n",
      "3 - test_accuracy: 0.442811767110808\n",
      "finished experiment 7\n",
      "processing hyper-parameter 7 out of 9\n",
      "doing run 4 out of 5\n",
      "fixed rate, multiple epochs values\n",
      "running experiment 7\n",
      "run number: 4\n",
      "\n",
      "parameters:\n",
      "\tepochs=30,\n",
      "\toffset=0.3,\n",
      "\trate=0.03\n",
      "\n",
      "script: /mnt/athena/hpsearch/hpsearch/examples/dummy_experiment_manager.py, line number: 125\n",
      "time spent on this experiment: 0.0013685226440429688\n",
      "4 - validation_accuracy: 0.538184302817539\n",
      "4 - test_accuracy: 0.30454460264718053\n",
      "finished experiment 7\n",
      "processing hyper-parameter 8 out of 9\n",
      "doing run 0 out of 5\n",
      "fixed rate, multiple epochs values\n"
     ]
    },
    {
     "name": "stdout",
     "output_type": "stream",
     "text": [
      "fitting model with 30 epochs\n",
      "epoch 0: accuracy: 0.32999999999999996\n",
      "epoch 1: accuracy: 0.36\n",
      "epoch 2: accuracy: 0.39\n",
      "epoch 3: accuracy: 0.42000000000000004\n",
      "epoch 4: accuracy: 0.45000000000000007\n",
      "epoch 5: accuracy: 0.4800000000000001\n",
      "epoch 6: accuracy: 0.5100000000000001\n",
      "epoch 7: accuracy: 0.5400000000000001\n",
      "epoch 8: accuracy: 0.5700000000000002\n",
      "epoch 9: accuracy: 0.6000000000000002\n",
      "epoch 10: accuracy: 0.6300000000000002\n",
      "epoch 11: accuracy: 0.6600000000000003\n",
      "epoch 12: accuracy: 0.6900000000000003\n",
      "epoch 13: accuracy: 0.7200000000000003\n",
      "epoch 14: accuracy: 0.7500000000000003\n",
      "epoch 15: accuracy: 0.7800000000000004\n",
      "epoch 16: accuracy: 0.8100000000000004\n",
      "epoch 17: accuracy: 0.8400000000000004\n",
      "epoch 18: accuracy: 0.8700000000000004\n",
      "epoch 19: accuracy: 0.9000000000000005\n",
      "epoch 20: accuracy: 0.8700000000000004\n",
      "epoch 21: accuracy: 0.8400000000000004\n",
      "epoch 22: accuracy: 0.8100000000000004\n",
      "epoch 23: accuracy: 0.7800000000000004\n",
      "epoch 24: accuracy: 0.7500000000000003\n",
      "epoch 25: accuracy: 0.7200000000000003\n",
      "epoch 26: accuracy: 0.6900000000000003\n",
      "epoch 27: accuracy: 0.6600000000000003\n",
      "epoch 28: accuracy: 0.6300000000000002\n",
      "epoch 29: accuracy: 0.6000000000000002\n",
      "noise: 0.1\n",
      "current path: /mnt/athena/hpsearch/nbs/visualization\n",
      "fitting model with 30 epochs\n",
      "epoch 0: accuracy: 0.32999999999999996\n",
      "epoch 1: accuracy: 0.36\n",
      "epoch 2: accuracy: 0.39\n",
      "epoch 3: accuracy: 0.42000000000000004\n",
      "epoch 4: accuracy: 0.45000000000000007\n",
      "epoch 5: accuracy: 0.4800000000000001\n",
      "epoch 6: accuracy: 0.5100000000000001\n",
      "epoch 7: accuracy: 0.5400000000000001\n",
      "epoch 8: accuracy: 0.5700000000000002\n",
      "epoch 9: accuracy: 0.6000000000000002\n",
      "epoch 10: accuracy: 0.6300000000000002\n",
      "epoch 11: accuracy: 0.6600000000000003\n",
      "epoch 12: accuracy: 0.6900000000000003\n",
      "epoch 13: accuracy: 0.7200000000000003\n",
      "epoch 14: accuracy: 0.7500000000000003\n",
      "epoch 15: accuracy: 0.7800000000000004\n",
      "epoch 16: accuracy: 0.8100000000000004\n",
      "epoch 17: accuracy: 0.8400000000000004\n",
      "epoch 18: accuracy: 0.8700000000000004\n",
      "epoch 19: accuracy: 0.9000000000000005\n",
      "epoch 20: accuracy: 0.8700000000000004\n",
      "epoch 21: accuracy: 0.8400000000000004\n",
      "epoch 22: accuracy: 0.8100000000000004\n",
      "epoch 23: accuracy: 0.7800000000000004\n",
      "epoch 24: accuracy: 0.7500000000000003\n",
      "epoch 25: accuracy: 0.7200000000000003\n",
      "epoch 26: accuracy: 0.6900000000000003\n",
      "epoch 27: accuracy: 0.6600000000000003\n",
      "epoch 28: accuracy: 0.6300000000000002\n",
      "epoch 29: accuracy: 0.6000000000000002\n",
      "noise: 0.1\n",
      "current path: /mnt/athena/hpsearch/nbs/visualization\n",
      "fitting model with 30 epochs\n",
      "epoch 0: accuracy: 0.32999999999999996\n",
      "epoch 1: accuracy: 0.36\n",
      "epoch 2: accuracy: 0.39\n",
      "epoch 3: accuracy: 0.42000000000000004\n",
      "epoch 4: accuracy: 0.45000000000000007\n",
      "epoch 5: accuracy: 0.4800000000000001\n",
      "epoch 6: accuracy: 0.5100000000000001\n",
      "epoch 7: accuracy: 0.5400000000000001\n",
      "epoch 8: accuracy: 0.5700000000000002\n",
      "epoch 9: accuracy: 0.6000000000000002\n",
      "epoch 10: accuracy: 0.6300000000000002\n",
      "epoch 11: accuracy: 0.6600000000000003\n",
      "epoch 12: accuracy: 0.6900000000000003\n",
      "epoch 13: accuracy: 0.7200000000000003\n",
      "epoch 14: accuracy: 0.7500000000000003\n",
      "epoch 15: accuracy: 0.7800000000000004\n",
      "epoch 16: accuracy: 0.8100000000000004\n",
      "epoch 17: accuracy: 0.8400000000000004\n",
      "epoch 18: accuracy: 0.8700000000000004\n",
      "epoch 19: accuracy: 0.9000000000000005\n",
      "epoch 20: accuracy: 0.8700000000000004\n",
      "epoch 21: accuracy: 0.8400000000000004\n",
      "epoch 22: accuracy: 0.8100000000000004\n",
      "epoch 23: accuracy: 0.7800000000000004\n",
      "epoch 24: accuracy: 0.7500000000000003\n",
      "epoch 25: accuracy: 0.7200000000000003\n",
      "epoch 26: accuracy: 0.6900000000000003\n",
      "epoch 27: accuracy: 0.6600000000000003\n",
      "epoch 28: accuracy: 0.6300000000000002\n",
      "epoch 29: accuracy: 0.6000000000000002\n",
      "noise: 0.1\n",
      "current path: /mnt/athena/hpsearch/nbs/visualization\n",
      "fitting model with 30 epochs\n",
      "epoch 0: accuracy: 0.32999999999999996\n",
      "epoch 1: accuracy: 0.36\n",
      "epoch 2: accuracy: 0.39\n",
      "epoch 3: accuracy: 0.42000000000000004\n",
      "epoch 4: accuracy: 0.45000000000000007\n",
      "epoch 5: accuracy: 0.4800000000000001\n",
      "epoch 6: accuracy: 0.5100000000000001\n",
      "epoch 7: accuracy: 0.5400000000000001\n",
      "epoch 8: accuracy: 0.5700000000000002\n",
      "epoch 9: accuracy: 0.6000000000000002\n",
      "epoch 10: accuracy: 0.6300000000000002\n",
      "epoch 11: accuracy: 0.6600000000000003\n",
      "epoch 12: accuracy: 0.6900000000000003\n",
      "epoch 13: accuracy: 0.7200000000000003\n",
      "epoch 14: accuracy: 0.7500000000000003\n",
      "epoch 15: accuracy: 0.7800000000000004\n",
      "epoch 16: accuracy: 0.8100000000000004\n",
      "epoch 17: accuracy: 0.8400000000000004\n",
      "epoch 18: accuracy: 0.8700000000000004\n",
      "epoch 19: accuracy: 0.9000000000000005\n",
      "epoch 20: accuracy: 0.8700000000000004\n",
      "epoch 21: accuracy: 0.8400000000000004\n",
      "epoch 22: accuracy: 0.8100000000000004\n",
      "epoch 23: accuracy: 0.7800000000000004\n",
      "epoch 24: accuracy: 0.7500000000000003\n",
      "epoch 25: accuracy: 0.7200000000000003\n",
      "epoch 26: accuracy: 0.6900000000000003\n",
      "epoch 27: accuracy: 0.6600000000000003\n",
      "epoch 28: accuracy: 0.6300000000000002\n",
      "epoch 29: accuracy: 0.6000000000000002\n",
      "noise: 0.1\n",
      "current path: /mnt/athena/hpsearch/nbs/visualization\n"
     ]
    },
    {
     "name": "stderr",
     "output_type": "stream",
     "text": [
      "running experiment 8\n",
      "run number: 0\n",
      "\n",
      "parameters:\n",
      "\tepochs=30,\n",
      "\toffset=0.6,\n",
      "\trate=0.03\n",
      "\n",
      "script: /mnt/athena/hpsearch/hpsearch/examples/dummy_experiment_manager.py, line number: 125\n",
      "time spent on this experiment: 0.0008382797241210938\n",
      "0 - validation_accuracy: 0.7321620915427672\n",
      "0 - test_accuracy: 0.7749724370655557\n",
      "finished experiment 8\n",
      "processing hyper-parameter 8 out of 9\n",
      "doing run 1 out of 5\n",
      "fixed rate, multiple epochs values\n",
      "running experiment 8\n",
      "run number: 1\n",
      "\n",
      "parameters:\n",
      "\tepochs=30,\n",
      "\toffset=0.6,\n",
      "\trate=0.03\n",
      "\n",
      "script: /mnt/athena/hpsearch/hpsearch/examples/dummy_experiment_manager.py, line number: 125\n",
      "time spent on this experiment: 0.0009648799896240234\n",
      "1 - validation_accuracy: 0.8625143538276526\n",
      "1 - test_accuracy: 0.8283856789227335\n",
      "finished experiment 8\n",
      "processing hyper-parameter 8 out of 9\n",
      "doing run 2 out of 5\n",
      "fixed rate, multiple epochs values\n",
      "running experiment 8\n",
      "run number: 2\n",
      "\n",
      "parameters:\n",
      "\tepochs=30,\n",
      "\toffset=0.6,\n",
      "\trate=0.03\n",
      "\n",
      "script: /mnt/athena/hpsearch/hpsearch/examples/dummy_experiment_manager.py, line number: 125\n",
      "time spent on this experiment: 0.000812530517578125\n",
      "2 - validation_accuracy: 1.0\n",
      "2 - test_accuracy: 0.9182371048228002\n",
      "finished experiment 8\n",
      "processing hyper-parameter 8 out of 9\n",
      "doing run 3 out of 5\n",
      "fixed rate, multiple epochs values\n",
      "running experiment 8\n",
      "run number: 3\n",
      "\n",
      "parameters:\n",
      "\tepochs=30,\n",
      "\toffset=0.6,\n",
      "\trate=0.03\n",
      "\n",
      "script: /mnt/athena/hpsearch/hpsearch/examples/dummy_experiment_manager.py, line number: 125\n",
      "time spent on this experiment: 0.0008203983306884766\n",
      "3 - validation_accuracy: 0.8690315725243123\n",
      "3 - test_accuracy: 0.8719461164379667\n",
      "finished experiment 8\n",
      "processing hyper-parameter 8 out of 9\n",
      "doing run 4 out of 5\n",
      "fixed rate, multiple epochs values\n",
      "running experiment 8\n"
     ]
    },
    {
     "name": "stdout",
     "output_type": "stream",
     "text": [
      "fitting model with 30 epochs\n",
      "epoch 0: accuracy: 0.63\n",
      "epoch 1: accuracy: 0.66\n",
      "epoch 2: accuracy: 0.6900000000000001\n",
      "epoch 3: accuracy: 0.7200000000000001\n",
      "epoch 4: accuracy: 0.7500000000000001\n",
      "epoch 5: accuracy: 0.7800000000000001\n",
      "epoch 6: accuracy: 0.8100000000000002\n",
      "epoch 7: accuracy: 0.8400000000000002\n",
      "epoch 8: accuracy: 0.8700000000000002\n",
      "epoch 9: accuracy: 0.9000000000000002\n",
      "epoch 10: accuracy: 0.9300000000000003\n",
      "epoch 11: accuracy: 0.9600000000000003\n",
      "epoch 12: accuracy: 0.9900000000000003\n",
      "epoch 13: accuracy: 1.0200000000000002\n",
      "epoch 14: accuracy: 1.0500000000000003\n",
      "epoch 15: accuracy: 1.0800000000000003\n",
      "epoch 16: accuracy: 1.1100000000000003\n",
      "epoch 17: accuracy: 1.1400000000000003\n",
      "epoch 18: accuracy: 1.1700000000000004\n",
      "epoch 19: accuracy: 1.2000000000000004\n",
      "epoch 20: accuracy: 1.1700000000000004\n",
      "epoch 21: accuracy: 1.1400000000000003\n",
      "epoch 22: accuracy: 1.1100000000000003\n",
      "epoch 23: accuracy: 1.0800000000000003\n",
      "epoch 24: accuracy: 1.0500000000000003\n",
      "epoch 25: accuracy: 1.0200000000000002\n",
      "epoch 26: accuracy: 0.9900000000000002\n",
      "epoch 27: accuracy: 0.9600000000000002\n",
      "epoch 28: accuracy: 0.9300000000000002\n",
      "epoch 29: accuracy: 0.9000000000000001\n",
      "noise: 0.1\n",
      "current path: /mnt/athena/hpsearch/nbs/visualization\n",
      "fitting model with 30 epochs\n",
      "epoch 0: accuracy: 0.63\n",
      "epoch 1: accuracy: 0.66\n",
      "epoch 2: accuracy: 0.6900000000000001\n",
      "epoch 3: accuracy: 0.7200000000000001\n",
      "epoch 4: accuracy: 0.7500000000000001\n",
      "epoch 5: accuracy: 0.7800000000000001\n",
      "epoch 6: accuracy: 0.8100000000000002\n",
      "epoch 7: accuracy: 0.8400000000000002\n",
      "epoch 8: accuracy: 0.8700000000000002\n",
      "epoch 9: accuracy: 0.9000000000000002\n",
      "epoch 10: accuracy: 0.9300000000000003\n",
      "epoch 11: accuracy: 0.9600000000000003\n",
      "epoch 12: accuracy: 0.9900000000000003\n",
      "epoch 13: accuracy: 1.0200000000000002\n",
      "epoch 14: accuracy: 1.0500000000000003\n",
      "epoch 15: accuracy: 1.0800000000000003\n",
      "epoch 16: accuracy: 1.1100000000000003\n",
      "epoch 17: accuracy: 1.1400000000000003\n",
      "epoch 18: accuracy: 1.1700000000000004\n",
      "epoch 19: accuracy: 1.2000000000000004\n",
      "epoch 20: accuracy: 1.1700000000000004\n",
      "epoch 21: accuracy: 1.1400000000000003\n",
      "epoch 22: accuracy: 1.1100000000000003\n",
      "epoch 23: accuracy: 1.0800000000000003\n",
      "epoch 24: accuracy: 1.0500000000000003\n",
      "epoch 25: accuracy: 1.0200000000000002\n",
      "epoch 26: accuracy: 0.9900000000000002\n",
      "epoch 27: accuracy: 0.9600000000000002\n",
      "epoch 28: accuracy: 0.9300000000000002\n",
      "epoch 29: accuracy: 0.9000000000000001\n",
      "noise: 0.1\n",
      "current path: /mnt/athena/hpsearch/nbs/visualization\n",
      "fitting model with 30 epochs\n",
      "epoch 0: accuracy: 0.63\n",
      "epoch 1: accuracy: 0.66\n",
      "epoch 2: accuracy: 0.6900000000000001\n",
      "epoch 3: accuracy: 0.7200000000000001\n",
      "epoch 4: accuracy: 0.7500000000000001\n",
      "epoch 5: accuracy: 0.7800000000000001\n",
      "epoch 6: accuracy: 0.8100000000000002\n",
      "epoch 7: accuracy: 0.8400000000000002\n",
      "epoch 8: accuracy: 0.8700000000000002\n",
      "epoch 9: accuracy: 0.9000000000000002\n",
      "epoch 10: accuracy: 0.9300000000000003\n",
      "epoch 11: accuracy: 0.9600000000000003\n",
      "epoch 12: accuracy: 0.9900000000000003\n",
      "epoch 13: accuracy: 1.0200000000000002\n",
      "epoch 14: accuracy: 1.0500000000000003\n",
      "epoch 15: accuracy: 1.0800000000000003\n",
      "epoch 16: accuracy: 1.1100000000000003\n",
      "epoch 17: accuracy: 1.1400000000000003\n",
      "epoch 18: accuracy: 1.1700000000000004\n",
      "epoch 19: accuracy: 1.2000000000000004\n",
      "epoch 20: accuracy: 1.1700000000000004\n",
      "epoch 21: accuracy: 1.1400000000000003\n",
      "epoch 22: accuracy: 1.1100000000000003\n",
      "epoch 23: accuracy: 1.0800000000000003\n",
      "epoch 24: accuracy: 1.0500000000000003\n",
      "epoch 25: accuracy: 1.0200000000000002\n",
      "epoch 26: accuracy: 0.9900000000000002\n",
      "epoch 27: accuracy: 0.9600000000000002\n",
      "epoch 28: accuracy: 0.9300000000000002\n",
      "epoch 29: accuracy: 0.9000000000000001\n",
      "noise: 0.1\n",
      "current path: /mnt/athena/hpsearch/nbs/visualization\n",
      "fitting model with 30 epochs\n",
      "epoch 0: accuracy: 0.63\n",
      "epoch 1: accuracy: 0.66\n",
      "epoch 2: accuracy: 0.6900000000000001\n",
      "epoch 3: accuracy: 0.7200000000000001\n",
      "epoch 4: accuracy: 0.7500000000000001\n",
      "epoch 5: accuracy: 0.7800000000000001\n",
      "epoch 6: accuracy: 0.8100000000000002\n",
      "epoch 7: accuracy: 0.8400000000000002\n",
      "epoch 8: accuracy: 0.8700000000000002\n",
      "epoch 9: accuracy: 0.9000000000000002\n",
      "epoch 10: accuracy: 0.9300000000000003\n",
      "epoch 11: accuracy: 0.9600000000000003\n",
      "epoch 12: accuracy: 0.9900000000000003\n",
      "epoch 13: accuracy: 1.0200000000000002\n",
      "epoch 14: accuracy: 1.0500000000000003\n",
      "epoch 15: accuracy: 1.0800000000000003\n",
      "epoch 16: accuracy: 1.1100000000000003\n",
      "epoch 17: accuracy: 1.1400000000000003\n",
      "epoch 18: accuracy: 1.1700000000000004\n",
      "epoch 19: accuracy: 1.2000000000000004\n",
      "epoch 20: accuracy: 1.1700000000000004\n",
      "epoch 21: accuracy: 1.1400000000000003\n",
      "epoch 22: accuracy: 1.1100000000000003\n",
      "epoch 23: accuracy: 1.0800000000000003\n",
      "epoch 24: accuracy: 1.0500000000000003\n",
      "epoch 25: accuracy: 1.0200000000000002\n",
      "epoch 26: accuracy: 0.9900000000000002\n",
      "epoch 27: accuracy: 0.9600000000000002\n",
      "epoch 28: accuracy: 0.9300000000000002\n",
      "epoch 29: accuracy: 0.9000000000000001\n",
      "noise: 0.1\n",
      "current path: /mnt/athena/hpsearch/nbs/visualization\n"
     ]
    },
    {
     "name": "stderr",
     "output_type": "stream",
     "text": [
      "run number: 4\n",
      "\n",
      "parameters:\n",
      "\tepochs=30,\n",
      "\toffset=0.6,\n",
      "\trate=0.03\n",
      "\n",
      "script: /mnt/athena/hpsearch/hpsearch/examples/dummy_experiment_manager.py, line number: 125\n",
      "time spent on this experiment: 0.0009307861328125\n",
      "4 - validation_accuracy: 0.9547925318068822\n",
      "4 - test_accuracy: 0.7464644236225588\n",
      "finished experiment 8\n"
     ]
    },
    {
     "name": "stdout",
     "output_type": "stream",
     "text": [
      "fitting model with 30 epochs\n",
      "epoch 0: accuracy: 0.63\n",
      "epoch 1: accuracy: 0.66\n",
      "epoch 2: accuracy: 0.6900000000000001\n",
      "epoch 3: accuracy: 0.7200000000000001\n",
      "epoch 4: accuracy: 0.7500000000000001\n",
      "epoch 5: accuracy: 0.7800000000000001\n",
      "epoch 6: accuracy: 0.8100000000000002\n",
      "epoch 7: accuracy: 0.8400000000000002\n",
      "epoch 8: accuracy: 0.8700000000000002\n",
      "epoch 9: accuracy: 0.9000000000000002\n",
      "epoch 10: accuracy: 0.9300000000000003\n",
      "epoch 11: accuracy: 0.9600000000000003\n",
      "epoch 12: accuracy: 0.9900000000000003\n",
      "epoch 13: accuracy: 1.0200000000000002\n",
      "epoch 14: accuracy: 1.0500000000000003\n",
      "epoch 15: accuracy: 1.0800000000000003\n",
      "epoch 16: accuracy: 1.1100000000000003\n",
      "epoch 17: accuracy: 1.1400000000000003\n",
      "epoch 18: accuracy: 1.1700000000000004\n",
      "epoch 19: accuracy: 1.2000000000000004\n",
      "epoch 20: accuracy: 1.1700000000000004\n",
      "epoch 21: accuracy: 1.1400000000000003\n",
      "epoch 22: accuracy: 1.1100000000000003\n",
      "epoch 23: accuracy: 1.0800000000000003\n",
      "epoch 24: accuracy: 1.0500000000000003\n",
      "epoch 25: accuracy: 1.0200000000000002\n",
      "epoch 26: accuracy: 0.9900000000000002\n",
      "epoch 27: accuracy: 0.9600000000000002\n",
      "epoch 28: accuracy: 0.9300000000000002\n",
      "epoch 29: accuracy: 0.9000000000000001\n",
      "noise: 0.1\n"
     ]
    }
   ],
   "source": [
    "#collapse_output\n",
    "from hpsearch.examples.dummy_experiment_manager import remove_previous_experiments, run_multiple_experiments\n",
    "\n",
    "remove_previous_experiments()\n",
    "run_multiple_experiments(nruns=5, noise=0.1)\n",
    "\n",
    "# plot experiment\n",
    "metric_1 = 'validation_accuracy'\n",
    "metric_2 = 'test_accuracy'\n",
    "run_numbers = range(5)"
   ]
  },
  {
   "cell_type": "markdown",
   "metadata": {},
   "source": [
    "#### 2. plot relationship between validation and accuracy metrics"
   ]
  },
  {
   "cell_type": "code",
   "execution_count": null,
   "metadata": {},
   "outputs": [
    {
     "data": {
      "text/html": [
       "        <script type=\"text/javascript\">\n",
       "        window.PlotlyConfig = {MathJaxConfig: 'local'};\n",
       "        if (window.MathJax) {MathJax.Hub.Config({SVG: {font: \"STIX-Web\"}});}\n",
       "        if (typeof require !== 'undefined') {\n",
       "        require.undef(\"plotly\");\n",
       "        requirejs.config({\n",
       "            paths: {\n",
       "                'plotly': ['https://cdn.plot.ly/plotly-latest.min']\n",
       "            }\n",
       "        });\n",
       "        require(['plotly'], function(Plotly) {\n",
       "            window._Plotly = Plotly;\n",
       "        });\n",
       "        }\n",
       "        </script>\n",
       "        "
      ]
     },
     "metadata": {},
     "output_type": "display_data"
    },
    {
     "data": {
      "application/vnd.plotly.v1+json": {
       "config": {
        "linkText": "Export to plot.ly",
        "plotlyServerURL": "https://plot.ly",
        "showLink": false
       },
       "data": [
        {
         "mode": "markers",
         "name": "all experiments",
         "type": "scatter",
         "x": [
          0.324709761456397,
          0.24924041471588348,
          0.2795850788524763,
          0.2458881545220484,
          0.11152706047649544,
          0.48500780433891577,
          0.3984862700013293,
          0.5316582721633765,
          0.5630088390150083,
          0.47914458085939304,
          0.6469655589890273,
          0.7181075207928177,
          0.7509273413558777,
          0.7797694977984767,
          0.6993949484221077,
          0.5892227052302613,
          0.5183985361704535,
          0.51591917379494,
          0.5716197017615264,
          0.6856172585054171,
          0.6395287748422933,
          0.5664077490082549,
          0.6890514925311217,
          0.6987516502150941,
          0.6637091194860698,
          1,
          1,
          0.9297792131744719,
          1,
          1,
          0.271787355535688,
          0.5060273988275441,
          0.38018911518477616,
          0.350670233399756,
          0.23019062088258893,
          0.6034430805565831,
          0.6686897631679715,
          0.4933845859699111,
          0.6480703885419896,
          0.538184302817539,
          0.7321620915427672,
          0.8625143538276526,
          1,
          0.8690315725243123,
          0.9547925318068822
         ],
         "y": [
          0.3120178065642553,
          0.4253109965296676,
          0.3467138694179387,
          0.2409062429971442,
          0.47902662410359254,
          0.5683586241008535,
          0.549011756664241,
          0.6335556178979252,
          0.3703176651741073,
          0.5076534909083208,
          0.7046334736131065,
          0.8137052023157277,
          0.8306611981072785,
          0.7931496934799204,
          0.869509160467965,
          0.5916453877889559,
          0.6693167972462177,
          0.3839094339594172,
          0.4442272126174261,
          0.4187744552255181,
          0.7527991479124528,
          0.9602763540736858,
          0.7007679869565064,
          0.5701514392024184,
          0.6757909063443553,
          0.740257215058908,
          0.7980779449705775,
          0.9093330296087141,
          0.8109835046399081,
          0.9576236142524214,
          0.3085543848676527,
          0.34338507580999067,
          0.28172691457381777,
          0.3934843631463059,
          0.26037995800316216,
          0.41700744877730056,
          0.36622178965752106,
          0.5244033235641063,
          0.442811767110808,
          0.30454460264718053,
          0.7749724370655557,
          0.8283856789227335,
          0.9182371048228002,
          0.8719461164379667,
          0.7464644236225588
         ]
        },
        {
         "mode": "lines",
         "name": "linear",
         "type": "scatter",
         "x": [
          0.11152706047649544,
          0.1205015346130965,
          0.12947600874969756,
          0.1384504828862986,
          0.14742495702289965,
          0.15639943115950072,
          0.16537390529610177,
          0.17434837943270282,
          0.1833228535693039,
          0.19229732770590496,
          0.201271801842506,
          0.21024627597910706,
          0.21922075011570813,
          0.22819522425230918,
          0.23716969838891022,
          0.2461441725255113,
          0.25511864666211237,
          0.2640931207987134,
          0.27306759493531446,
          0.28204206907191554,
          0.29101654320851655,
          0.2999910173451176,
          0.3089654914817187,
          0.3179399656183197,
          0.3269144397549208,
          0.33588891389152187,
          0.3448633880281229,
          0.35383786216472396,
          0.36281233630132503,
          0.37178681043792605,
          0.3807612845745272,
          0.3897357587111282,
          0.3987102328477292,
          0.40768470698433035,
          0.41665918112093137,
          0.4256336552575324,
          0.4346081293941335,
          0.44358260353073453,
          0.45255707766733555,
          0.4615315518039367,
          0.4705060259405377,
          0.4794805000771387,
          0.48845497421373985,
          0.49742944835034086,
          0.5064039224869419,
          0.515378396623543,
          0.524352870760144,
          0.533327344896745,
          0.5423018190333462,
          0.5512762931699472,
          0.5602507673065482,
          0.5692252414431493,
          0.5781997155797504,
          0.5871741897163514,
          0.5961486638529525,
          0.6051231379895535,
          0.6140976121261545,
          0.6230720862627557,
          0.6320465603993567,
          0.6410210345359577,
          0.6499955086725588,
          0.6589699828091599,
          0.6679444569457609,
          0.676918931082362,
          0.685893405218963,
          0.694867879355564,
          0.7038423534921652,
          0.7128168276287662,
          0.7217913017653672,
          0.7307657759019683,
          0.7397402500385694,
          0.7487147241751704,
          0.7576891983117715,
          0.7666636724483725,
          0.7756381465849735,
          0.7846126207215747,
          0.7935870948581757,
          0.8025615689947767,
          0.8115360431313778,
          0.8205105172679789,
          0.82948499140458,
          0.838459465541181,
          0.847433939677782,
          0.8564084138143832,
          0.8653828879509842,
          0.8743573620875852,
          0.8833318362241863,
          0.8923063103607873,
          0.9012807844973884,
          0.9102552586339895,
          0.9192297327705905,
          0.9282042069071915,
          0.9371786810437926,
          0.9461531551803937,
          0.9551276293169947,
          0.9641021034535958,
          0.9730765775901968,
          0.9820510517267979,
          0.991025525863399,
          1
         ],
         "y": [
          0.2409062429971442,
          0.2481726077554931,
          0.255438972513842,
          0.2627053372721909,
          0.26997170203053983,
          0.27723806678888874,
          0.2845044315472376,
          0.29177079630558655,
          0.2990371610639354,
          0.3063035258222843,
          0.3135698905806332,
          0.32083625533898213,
          0.32810262009733104,
          0.33536898485567995,
          0.34263534961402886,
          0.34990171437237777,
          0.3571680791307267,
          0.3644344438890756,
          0.3717008086474245,
          0.37896717340577335,
          0.3862335381641223,
          0.39349990292247117,
          0.40076626768082013,
          0.408032632439169,
          0.4152989971975179,
          0.4225653619558668,
          0.4298317267142157,
          0.4370980914725646,
          0.44436445623091353,
          0.45163082098926244,
          0.4588971857476113,
          0.46616355050596026,
          0.4734299152643091,
          0.4806962800226581,
          0.4879626447810069,
          0.49522900953935584,
          0.5024953742977047,
          0.5097617390560536,
          0.5170281038144026,
          0.5242944685727515,
          0.5315608333311004,
          0.5388271980894492,
          0.5460935628477982,
          0.5533599276061472,
          0.560626292364496,
          0.5678926571228449,
          0.5751590218811937,
          0.5824253866395427,
          0.5896917513978917,
          0.5969581161562405,
          0.6042244809145894,
          0.6114908456729383,
          0.6187572104312873,
          0.6260235751896361,
          0.633289939947985,
          0.640556304706334,
          0.6478226694646829,
          0.6550890342230318,
          0.6623553989813806,
          0.6696217637397295,
          0.6768881284980784,
          0.6841544932564274,
          0.6914208580147763,
          0.6986872227731251,
          0.7059535875314741,
          0.713219952289823,
          0.7204863170481719,
          0.7277526818065208,
          0.7350190465648697,
          0.7422854113232187,
          0.7495517760815675,
          0.7568181408399164,
          0.7640845055982652,
          0.7713508703566143,
          0.7786172351149632,
          0.785883599873312,
          0.7931499646316609,
          0.8004163293900097,
          0.8076826941483588,
          0.8149490589067077,
          0.8222154236650565,
          0.8294817884234054,
          0.8367481531817544,
          0.8440145179401033,
          0.8512808826984521,
          0.858547247456801,
          0.8658136122151501,
          0.8730799769734989,
          0.8803463417318478,
          0.8876127064901966,
          0.8948790712485455,
          0.9021454360068946,
          0.9094118007652434,
          0.9166781655235923,
          0.9239445302819411,
          0.9312108950402902,
          0.938477259798639,
          0.9457436245569879,
          0.9530099893153368,
          0.9602763540736858
         ]
        }
       ],
       "layout": {
        "template": {
         "data": {
          "bar": [
           {
            "error_x": {
             "color": "#2a3f5f"
            },
            "error_y": {
             "color": "#2a3f5f"
            },
            "marker": {
             "line": {
              "color": "#E5ECF6",
              "width": 0.5
             }
            },
            "type": "bar"
           }
          ],
          "barpolar": [
           {
            "marker": {
             "line": {
              "color": "#E5ECF6",
              "width": 0.5
             }
            },
            "type": "barpolar"
           }
          ],
          "carpet": [
           {
            "aaxis": {
             "endlinecolor": "#2a3f5f",
             "gridcolor": "white",
             "linecolor": "white",
             "minorgridcolor": "white",
             "startlinecolor": "#2a3f5f"
            },
            "baxis": {
             "endlinecolor": "#2a3f5f",
             "gridcolor": "white",
             "linecolor": "white",
             "minorgridcolor": "white",
             "startlinecolor": "#2a3f5f"
            },
            "type": "carpet"
           }
          ],
          "choropleth": [
           {
            "colorbar": {
             "outlinewidth": 0,
             "ticks": ""
            },
            "type": "choropleth"
           }
          ],
          "contour": [
           {
            "colorbar": {
             "outlinewidth": 0,
             "ticks": ""
            },
            "colorscale": [
             [
              0,
              "#0d0887"
             ],
             [
              0.1111111111111111,
              "#46039f"
             ],
             [
              0.2222222222222222,
              "#7201a8"
             ],
             [
              0.3333333333333333,
              "#9c179e"
             ],
             [
              0.4444444444444444,
              "#bd3786"
             ],
             [
              0.5555555555555556,
              "#d8576b"
             ],
             [
              0.6666666666666666,
              "#ed7953"
             ],
             [
              0.7777777777777778,
              "#fb9f3a"
             ],
             [
              0.8888888888888888,
              "#fdca26"
             ],
             [
              1,
              "#f0f921"
             ]
            ],
            "type": "contour"
           }
          ],
          "contourcarpet": [
           {
            "colorbar": {
             "outlinewidth": 0,
             "ticks": ""
            },
            "type": "contourcarpet"
           }
          ],
          "heatmap": [
           {
            "colorbar": {
             "outlinewidth": 0,
             "ticks": ""
            },
            "colorscale": [
             [
              0,
              "#0d0887"
             ],
             [
              0.1111111111111111,
              "#46039f"
             ],
             [
              0.2222222222222222,
              "#7201a8"
             ],
             [
              0.3333333333333333,
              "#9c179e"
             ],
             [
              0.4444444444444444,
              "#bd3786"
             ],
             [
              0.5555555555555556,
              "#d8576b"
             ],
             [
              0.6666666666666666,
              "#ed7953"
             ],
             [
              0.7777777777777778,
              "#fb9f3a"
             ],
             [
              0.8888888888888888,
              "#fdca26"
             ],
             [
              1,
              "#f0f921"
             ]
            ],
            "type": "heatmap"
           }
          ],
          "heatmapgl": [
           {
            "colorbar": {
             "outlinewidth": 0,
             "ticks": ""
            },
            "colorscale": [
             [
              0,
              "#0d0887"
             ],
             [
              0.1111111111111111,
              "#46039f"
             ],
             [
              0.2222222222222222,
              "#7201a8"
             ],
             [
              0.3333333333333333,
              "#9c179e"
             ],
             [
              0.4444444444444444,
              "#bd3786"
             ],
             [
              0.5555555555555556,
              "#d8576b"
             ],
             [
              0.6666666666666666,
              "#ed7953"
             ],
             [
              0.7777777777777778,
              "#fb9f3a"
             ],
             [
              0.8888888888888888,
              "#fdca26"
             ],
             [
              1,
              "#f0f921"
             ]
            ],
            "type": "heatmapgl"
           }
          ],
          "histogram": [
           {
            "marker": {
             "colorbar": {
              "outlinewidth": 0,
              "ticks": ""
             }
            },
            "type": "histogram"
           }
          ],
          "histogram2d": [
           {
            "colorbar": {
             "outlinewidth": 0,
             "ticks": ""
            },
            "colorscale": [
             [
              0,
              "#0d0887"
             ],
             [
              0.1111111111111111,
              "#46039f"
             ],
             [
              0.2222222222222222,
              "#7201a8"
             ],
             [
              0.3333333333333333,
              "#9c179e"
             ],
             [
              0.4444444444444444,
              "#bd3786"
             ],
             [
              0.5555555555555556,
              "#d8576b"
             ],
             [
              0.6666666666666666,
              "#ed7953"
             ],
             [
              0.7777777777777778,
              "#fb9f3a"
             ],
             [
              0.8888888888888888,
              "#fdca26"
             ],
             [
              1,
              "#f0f921"
             ]
            ],
            "type": "histogram2d"
           }
          ],
          "histogram2dcontour": [
           {
            "colorbar": {
             "outlinewidth": 0,
             "ticks": ""
            },
            "colorscale": [
             [
              0,
              "#0d0887"
             ],
             [
              0.1111111111111111,
              "#46039f"
             ],
             [
              0.2222222222222222,
              "#7201a8"
             ],
             [
              0.3333333333333333,
              "#9c179e"
             ],
             [
              0.4444444444444444,
              "#bd3786"
             ],
             [
              0.5555555555555556,
              "#d8576b"
             ],
             [
              0.6666666666666666,
              "#ed7953"
             ],
             [
              0.7777777777777778,
              "#fb9f3a"
             ],
             [
              0.8888888888888888,
              "#fdca26"
             ],
             [
              1,
              "#f0f921"
             ]
            ],
            "type": "histogram2dcontour"
           }
          ],
          "mesh3d": [
           {
            "colorbar": {
             "outlinewidth": 0,
             "ticks": ""
            },
            "type": "mesh3d"
           }
          ],
          "parcoords": [
           {
            "line": {
             "colorbar": {
              "outlinewidth": 0,
              "ticks": ""
             }
            },
            "type": "parcoords"
           }
          ],
          "pie": [
           {
            "automargin": true,
            "type": "pie"
           }
          ],
          "scatter": [
           {
            "marker": {
             "colorbar": {
              "outlinewidth": 0,
              "ticks": ""
             }
            },
            "type": "scatter"
           }
          ],
          "scatter3d": [
           {
            "line": {
             "colorbar": {
              "outlinewidth": 0,
              "ticks": ""
             }
            },
            "marker": {
             "colorbar": {
              "outlinewidth": 0,
              "ticks": ""
             }
            },
            "type": "scatter3d"
           }
          ],
          "scattercarpet": [
           {
            "marker": {
             "colorbar": {
              "outlinewidth": 0,
              "ticks": ""
             }
            },
            "type": "scattercarpet"
           }
          ],
          "scattergeo": [
           {
            "marker": {
             "colorbar": {
              "outlinewidth": 0,
              "ticks": ""
             }
            },
            "type": "scattergeo"
           }
          ],
          "scattergl": [
           {
            "marker": {
             "colorbar": {
              "outlinewidth": 0,
              "ticks": ""
             }
            },
            "type": "scattergl"
           }
          ],
          "scattermapbox": [
           {
            "marker": {
             "colorbar": {
              "outlinewidth": 0,
              "ticks": ""
             }
            },
            "type": "scattermapbox"
           }
          ],
          "scatterpolar": [
           {
            "marker": {
             "colorbar": {
              "outlinewidth": 0,
              "ticks": ""
             }
            },
            "type": "scatterpolar"
           }
          ],
          "scatterpolargl": [
           {
            "marker": {
             "colorbar": {
              "outlinewidth": 0,
              "ticks": ""
             }
            },
            "type": "scatterpolargl"
           }
          ],
          "scatterternary": [
           {
            "marker": {
             "colorbar": {
              "outlinewidth": 0,
              "ticks": ""
             }
            },
            "type": "scatterternary"
           }
          ],
          "surface": [
           {
            "colorbar": {
             "outlinewidth": 0,
             "ticks": ""
            },
            "colorscale": [
             [
              0,
              "#0d0887"
             ],
             [
              0.1111111111111111,
              "#46039f"
             ],
             [
              0.2222222222222222,
              "#7201a8"
             ],
             [
              0.3333333333333333,
              "#9c179e"
             ],
             [
              0.4444444444444444,
              "#bd3786"
             ],
             [
              0.5555555555555556,
              "#d8576b"
             ],
             [
              0.6666666666666666,
              "#ed7953"
             ],
             [
              0.7777777777777778,
              "#fb9f3a"
             ],
             [
              0.8888888888888888,
              "#fdca26"
             ],
             [
              1,
              "#f0f921"
             ]
            ],
            "type": "surface"
           }
          ],
          "table": [
           {
            "cells": {
             "fill": {
              "color": "#EBF0F8"
             },
             "line": {
              "color": "white"
             }
            },
            "header": {
             "fill": {
              "color": "#C8D4E3"
             },
             "line": {
              "color": "white"
             }
            },
            "type": "table"
           }
          ]
         },
         "layout": {
          "annotationdefaults": {
           "arrowcolor": "#2a3f5f",
           "arrowhead": 0,
           "arrowwidth": 1
          },
          "autotypenumbers": "strict",
          "coloraxis": {
           "colorbar": {
            "outlinewidth": 0,
            "ticks": ""
           }
          },
          "colorscale": {
           "diverging": [
            [
             0,
             "#8e0152"
            ],
            [
             0.1,
             "#c51b7d"
            ],
            [
             0.2,
             "#de77ae"
            ],
            [
             0.3,
             "#f1b6da"
            ],
            [
             0.4,
             "#fde0ef"
            ],
            [
             0.5,
             "#f7f7f7"
            ],
            [
             0.6,
             "#e6f5d0"
            ],
            [
             0.7,
             "#b8e186"
            ],
            [
             0.8,
             "#7fbc41"
            ],
            [
             0.9,
             "#4d9221"
            ],
            [
             1,
             "#276419"
            ]
           ],
           "sequential": [
            [
             0,
             "#0d0887"
            ],
            [
             0.1111111111111111,
             "#46039f"
            ],
            [
             0.2222222222222222,
             "#7201a8"
            ],
            [
             0.3333333333333333,
             "#9c179e"
            ],
            [
             0.4444444444444444,
             "#bd3786"
            ],
            [
             0.5555555555555556,
             "#d8576b"
            ],
            [
             0.6666666666666666,
             "#ed7953"
            ],
            [
             0.7777777777777778,
             "#fb9f3a"
            ],
            [
             0.8888888888888888,
             "#fdca26"
            ],
            [
             1,
             "#f0f921"
            ]
           ],
           "sequentialminus": [
            [
             0,
             "#0d0887"
            ],
            [
             0.1111111111111111,
             "#46039f"
            ],
            [
             0.2222222222222222,
             "#7201a8"
            ],
            [
             0.3333333333333333,
             "#9c179e"
            ],
            [
             0.4444444444444444,
             "#bd3786"
            ],
            [
             0.5555555555555556,
             "#d8576b"
            ],
            [
             0.6666666666666666,
             "#ed7953"
            ],
            [
             0.7777777777777778,
             "#fb9f3a"
            ],
            [
             0.8888888888888888,
             "#fdca26"
            ],
            [
             1,
             "#f0f921"
            ]
           ]
          },
          "colorway": [
           "#636efa",
           "#EF553B",
           "#00cc96",
           "#ab63fa",
           "#FFA15A",
           "#19d3f3",
           "#FF6692",
           "#B6E880",
           "#FF97FF",
           "#FECB52"
          ],
          "font": {
           "color": "#2a3f5f"
          },
          "geo": {
           "bgcolor": "white",
           "lakecolor": "white",
           "landcolor": "#E5ECF6",
           "showlakes": true,
           "showland": true,
           "subunitcolor": "white"
          },
          "hoverlabel": {
           "align": "left"
          },
          "hovermode": "closest",
          "mapbox": {
           "style": "light"
          },
          "paper_bgcolor": "white",
          "plot_bgcolor": "#E5ECF6",
          "polar": {
           "angularaxis": {
            "gridcolor": "white",
            "linecolor": "white",
            "ticks": ""
           },
           "bgcolor": "#E5ECF6",
           "radialaxis": {
            "gridcolor": "white",
            "linecolor": "white",
            "ticks": ""
           }
          },
          "scene": {
           "xaxis": {
            "backgroundcolor": "#E5ECF6",
            "gridcolor": "white",
            "gridwidth": 2,
            "linecolor": "white",
            "showbackground": true,
            "ticks": "",
            "zerolinecolor": "white"
           },
           "yaxis": {
            "backgroundcolor": "#E5ECF6",
            "gridcolor": "white",
            "gridwidth": 2,
            "linecolor": "white",
            "showbackground": true,
            "ticks": "",
            "zerolinecolor": "white"
           },
           "zaxis": {
            "backgroundcolor": "#E5ECF6",
            "gridcolor": "white",
            "gridwidth": 2,
            "linecolor": "white",
            "showbackground": true,
            "ticks": "",
            "zerolinecolor": "white"
           }
          },
          "shapedefaults": {
           "line": {
            "color": "#2a3f5f"
           }
          },
          "ternary": {
           "aaxis": {
            "gridcolor": "white",
            "linecolor": "white",
            "ticks": ""
           },
           "baxis": {
            "gridcolor": "white",
            "linecolor": "white",
            "ticks": ""
           },
           "bgcolor": "#E5ECF6",
           "caxis": {
            "gridcolor": "white",
            "linecolor": "white",
            "ticks": ""
           }
          },
          "title": {
           "x": 0.05
          },
          "xaxis": {
           "automargin": true,
           "gridcolor": "white",
           "linecolor": "white",
           "ticks": "",
           "title": {
            "standoff": 15
           },
           "zerolinecolor": "white",
           "zerolinewidth": 2
          },
          "yaxis": {
           "automargin": true,
           "gridcolor": "white",
           "linecolor": "white",
           "ticks": "",
           "title": {
            "standoff": 15
           },
           "zerolinecolor": "white",
           "zerolinewidth": 2
          }
         }
        },
        "title": {
         "text": "validation_accuracy vs test_accuracy"
        },
        "xaxis": {
         "title": {
          "text": "validation_accuracy"
         }
        },
        "yaxis": {
         "title": {
          "text": "test_accuracy"
         }
        }
       }
      },
      "text/html": [
       "<div>                            <div id=\"70a00646-a73a-4236-8ce3-5c97399661e9\" class=\"plotly-graph-div\" style=\"height:525px; width:100%;\"></div>            <script type=\"text/javascript\">                require([\"plotly\"], function(Plotly) {                    window.PLOTLYENV=window.PLOTLYENV || {};                                    if (document.getElementById(\"70a00646-a73a-4236-8ce3-5c97399661e9\")) {                    Plotly.newPlot(                        \"70a00646-a73a-4236-8ce3-5c97399661e9\",                        [{\"mode\": \"markers\", \"name\": \"all experiments\", \"type\": \"scatter\", \"x\": [0.324709761456397, 0.24924041471588348, 0.2795850788524763, 0.2458881545220484, 0.11152706047649544, 0.48500780433891577, 0.3984862700013293, 0.5316582721633765, 0.5630088390150083, 0.47914458085939304, 0.6469655589890273, 0.7181075207928177, 0.7509273413558777, 0.7797694977984767, 0.6993949484221077, 0.5892227052302613, 0.5183985361704535, 0.51591917379494, 0.5716197017615264, 0.6856172585054171, 0.6395287748422933, 0.5664077490082549, 0.6890514925311217, 0.6987516502150941, 0.6637091194860698, 1.0, 1.0, 0.9297792131744719, 1.0, 1.0, 0.271787355535688, 0.5060273988275441, 0.38018911518477616, 0.350670233399756, 0.23019062088258893, 0.6034430805565831, 0.6686897631679715, 0.4933845859699111, 0.6480703885419896, 0.538184302817539, 0.7321620915427672, 0.8625143538276526, 1.0, 0.8690315725243123, 0.9547925318068822], \"y\": [0.3120178065642553, 0.4253109965296676, 0.3467138694179387, 0.2409062429971442, 0.47902662410359254, 0.5683586241008535, 0.549011756664241, 0.6335556178979252, 0.3703176651741073, 0.5076534909083208, 0.7046334736131065, 0.8137052023157277, 0.8306611981072785, 0.7931496934799204, 0.869509160467965, 0.5916453877889559, 0.6693167972462177, 0.3839094339594172, 0.4442272126174261, 0.4187744552255181, 0.7527991479124528, 0.9602763540736858, 0.7007679869565064, 0.5701514392024184, 0.6757909063443553, 0.740257215058908, 0.7980779449705775, 0.9093330296087141, 0.8109835046399081, 0.9576236142524214, 0.3085543848676527, 0.34338507580999067, 0.28172691457381777, 0.3934843631463059, 0.26037995800316216, 0.41700744877730056, 0.36622178965752106, 0.5244033235641063, 0.442811767110808, 0.30454460264718053, 0.7749724370655557, 0.8283856789227335, 0.9182371048228002, 0.8719461164379667, 0.7464644236225588]}, {\"mode\": \"lines\", \"name\": \"linear\", \"type\": \"scatter\", \"x\": [0.11152706047649544, 0.1205015346130965, 0.12947600874969756, 0.1384504828862986, 0.14742495702289965, 0.15639943115950072, 0.16537390529610177, 0.17434837943270282, 0.1833228535693039, 0.19229732770590496, 0.201271801842506, 0.21024627597910706, 0.21922075011570813, 0.22819522425230918, 0.23716969838891022, 0.2461441725255113, 0.25511864666211237, 0.2640931207987134, 0.27306759493531446, 0.28204206907191554, 0.29101654320851655, 0.2999910173451176, 0.3089654914817187, 0.3179399656183197, 0.3269144397549208, 0.33588891389152187, 0.3448633880281229, 0.35383786216472396, 0.36281233630132503, 0.37178681043792605, 0.3807612845745272, 0.3897357587111282, 0.3987102328477292, 0.40768470698433035, 0.41665918112093137, 0.4256336552575324, 0.4346081293941335, 0.44358260353073453, 0.45255707766733555, 0.4615315518039367, 0.4705060259405377, 0.4794805000771387, 0.48845497421373985, 0.49742944835034086, 0.5064039224869419, 0.515378396623543, 0.524352870760144, 0.533327344896745, 0.5423018190333462, 0.5512762931699472, 0.5602507673065482, 0.5692252414431493, 0.5781997155797504, 0.5871741897163514, 0.5961486638529525, 0.6051231379895535, 0.6140976121261545, 0.6230720862627557, 0.6320465603993567, 0.6410210345359577, 0.6499955086725588, 0.6589699828091599, 0.6679444569457609, 0.676918931082362, 0.685893405218963, 0.694867879355564, 0.7038423534921652, 0.7128168276287662, 0.7217913017653672, 0.7307657759019683, 0.7397402500385694, 0.7487147241751704, 0.7576891983117715, 0.7666636724483725, 0.7756381465849735, 0.7846126207215747, 0.7935870948581757, 0.8025615689947767, 0.8115360431313778, 0.8205105172679789, 0.82948499140458, 0.838459465541181, 0.847433939677782, 0.8564084138143832, 0.8653828879509842, 0.8743573620875852, 0.8833318362241863, 0.8923063103607873, 0.9012807844973884, 0.9102552586339895, 0.9192297327705905, 0.9282042069071915, 0.9371786810437926, 0.9461531551803937, 0.9551276293169947, 0.9641021034535958, 0.9730765775901968, 0.9820510517267979, 0.991025525863399, 1.0], \"y\": [0.2409062429971442, 0.2481726077554931, 0.255438972513842, 0.2627053372721909, 0.26997170203053983, 0.27723806678888874, 0.2845044315472376, 0.29177079630558655, 0.2990371610639354, 0.3063035258222843, 0.3135698905806332, 0.32083625533898213, 0.32810262009733104, 0.33536898485567995, 0.34263534961402886, 0.34990171437237777, 0.3571680791307267, 0.3644344438890756, 0.3717008086474245, 0.37896717340577335, 0.3862335381641223, 0.39349990292247117, 0.40076626768082013, 0.408032632439169, 0.4152989971975179, 0.4225653619558668, 0.4298317267142157, 0.4370980914725646, 0.44436445623091353, 0.45163082098926244, 0.4588971857476113, 0.46616355050596026, 0.4734299152643091, 0.4806962800226581, 0.4879626447810069, 0.49522900953935584, 0.5024953742977047, 0.5097617390560536, 0.5170281038144026, 0.5242944685727515, 0.5315608333311004, 0.5388271980894492, 0.5460935628477982, 0.5533599276061472, 0.560626292364496, 0.5678926571228449, 0.5751590218811937, 0.5824253866395427, 0.5896917513978917, 0.5969581161562405, 0.6042244809145894, 0.6114908456729383, 0.6187572104312873, 0.6260235751896361, 0.633289939947985, 0.640556304706334, 0.6478226694646829, 0.6550890342230318, 0.6623553989813806, 0.6696217637397295, 0.6768881284980784, 0.6841544932564274, 0.6914208580147763, 0.6986872227731251, 0.7059535875314741, 0.713219952289823, 0.7204863170481719, 0.7277526818065208, 0.7350190465648697, 0.7422854113232187, 0.7495517760815675, 0.7568181408399164, 0.7640845055982652, 0.7713508703566143, 0.7786172351149632, 0.785883599873312, 0.7931499646316609, 0.8004163293900097, 0.8076826941483588, 0.8149490589067077, 0.8222154236650565, 0.8294817884234054, 0.8367481531817544, 0.8440145179401033, 0.8512808826984521, 0.858547247456801, 0.8658136122151501, 0.8730799769734989, 0.8803463417318478, 0.8876127064901966, 0.8948790712485455, 0.9021454360068946, 0.9094118007652434, 0.9166781655235923, 0.9239445302819411, 0.9312108950402902, 0.938477259798639, 0.9457436245569879, 0.9530099893153368, 0.9602763540736858]}],                        {\"template\": {\"data\": {\"bar\": [{\"error_x\": {\"color\": \"#2a3f5f\"}, \"error_y\": {\"color\": \"#2a3f5f\"}, \"marker\": {\"line\": {\"color\": \"#E5ECF6\", \"width\": 0.5}}, \"type\": \"bar\"}], \"barpolar\": [{\"marker\": {\"line\": {\"color\": \"#E5ECF6\", \"width\": 0.5}}, \"type\": \"barpolar\"}], \"carpet\": [{\"aaxis\": {\"endlinecolor\": \"#2a3f5f\", \"gridcolor\": \"white\", \"linecolor\": \"white\", \"minorgridcolor\": \"white\", \"startlinecolor\": \"#2a3f5f\"}, \"baxis\": {\"endlinecolor\": \"#2a3f5f\", \"gridcolor\": \"white\", \"linecolor\": \"white\", \"minorgridcolor\": \"white\", \"startlinecolor\": \"#2a3f5f\"}, \"type\": \"carpet\"}], \"choropleth\": [{\"colorbar\": {\"outlinewidth\": 0, \"ticks\": \"\"}, \"type\": \"choropleth\"}], \"contour\": [{\"colorbar\": {\"outlinewidth\": 0, \"ticks\": \"\"}, \"colorscale\": [[0.0, \"#0d0887\"], [0.1111111111111111, \"#46039f\"], [0.2222222222222222, \"#7201a8\"], [0.3333333333333333, \"#9c179e\"], [0.4444444444444444, \"#bd3786\"], [0.5555555555555556, \"#d8576b\"], [0.6666666666666666, \"#ed7953\"], [0.7777777777777778, \"#fb9f3a\"], [0.8888888888888888, \"#fdca26\"], [1.0, \"#f0f921\"]], \"type\": \"contour\"}], \"contourcarpet\": [{\"colorbar\": {\"outlinewidth\": 0, \"ticks\": \"\"}, \"type\": \"contourcarpet\"}], \"heatmap\": [{\"colorbar\": {\"outlinewidth\": 0, \"ticks\": \"\"}, \"colorscale\": [[0.0, \"#0d0887\"], [0.1111111111111111, \"#46039f\"], [0.2222222222222222, \"#7201a8\"], [0.3333333333333333, \"#9c179e\"], [0.4444444444444444, \"#bd3786\"], [0.5555555555555556, \"#d8576b\"], [0.6666666666666666, \"#ed7953\"], [0.7777777777777778, \"#fb9f3a\"], [0.8888888888888888, \"#fdca26\"], [1.0, \"#f0f921\"]], \"type\": \"heatmap\"}], \"heatmapgl\": [{\"colorbar\": {\"outlinewidth\": 0, \"ticks\": \"\"}, \"colorscale\": [[0.0, \"#0d0887\"], [0.1111111111111111, \"#46039f\"], [0.2222222222222222, \"#7201a8\"], [0.3333333333333333, \"#9c179e\"], [0.4444444444444444, \"#bd3786\"], [0.5555555555555556, \"#d8576b\"], [0.6666666666666666, \"#ed7953\"], [0.7777777777777778, \"#fb9f3a\"], [0.8888888888888888, \"#fdca26\"], [1.0, \"#f0f921\"]], \"type\": \"heatmapgl\"}], \"histogram\": [{\"marker\": {\"colorbar\": {\"outlinewidth\": 0, \"ticks\": \"\"}}, \"type\": \"histogram\"}], \"histogram2d\": [{\"colorbar\": {\"outlinewidth\": 0, \"ticks\": \"\"}, \"colorscale\": [[0.0, \"#0d0887\"], [0.1111111111111111, \"#46039f\"], [0.2222222222222222, \"#7201a8\"], [0.3333333333333333, \"#9c179e\"], [0.4444444444444444, \"#bd3786\"], [0.5555555555555556, \"#d8576b\"], [0.6666666666666666, \"#ed7953\"], [0.7777777777777778, \"#fb9f3a\"], [0.8888888888888888, \"#fdca26\"], [1.0, \"#f0f921\"]], \"type\": \"histogram2d\"}], \"histogram2dcontour\": [{\"colorbar\": {\"outlinewidth\": 0, \"ticks\": \"\"}, \"colorscale\": [[0.0, \"#0d0887\"], [0.1111111111111111, \"#46039f\"], [0.2222222222222222, \"#7201a8\"], [0.3333333333333333, \"#9c179e\"], [0.4444444444444444, \"#bd3786\"], [0.5555555555555556, \"#d8576b\"], [0.6666666666666666, \"#ed7953\"], [0.7777777777777778, \"#fb9f3a\"], [0.8888888888888888, \"#fdca26\"], [1.0, \"#f0f921\"]], \"type\": \"histogram2dcontour\"}], \"mesh3d\": [{\"colorbar\": {\"outlinewidth\": 0, \"ticks\": \"\"}, \"type\": \"mesh3d\"}], \"parcoords\": [{\"line\": {\"colorbar\": {\"outlinewidth\": 0, \"ticks\": \"\"}}, \"type\": \"parcoords\"}], \"pie\": [{\"automargin\": true, \"type\": \"pie\"}], \"scatter\": [{\"marker\": {\"colorbar\": {\"outlinewidth\": 0, \"ticks\": \"\"}}, \"type\": \"scatter\"}], \"scatter3d\": [{\"line\": {\"colorbar\": {\"outlinewidth\": 0, \"ticks\": \"\"}}, \"marker\": {\"colorbar\": {\"outlinewidth\": 0, \"ticks\": \"\"}}, \"type\": \"scatter3d\"}], \"scattercarpet\": [{\"marker\": {\"colorbar\": {\"outlinewidth\": 0, \"ticks\": \"\"}}, \"type\": \"scattercarpet\"}], \"scattergeo\": [{\"marker\": {\"colorbar\": {\"outlinewidth\": 0, \"ticks\": \"\"}}, \"type\": \"scattergeo\"}], \"scattergl\": [{\"marker\": {\"colorbar\": {\"outlinewidth\": 0, \"ticks\": \"\"}}, \"type\": \"scattergl\"}], \"scattermapbox\": [{\"marker\": {\"colorbar\": {\"outlinewidth\": 0, \"ticks\": \"\"}}, \"type\": \"scattermapbox\"}], \"scatterpolar\": [{\"marker\": {\"colorbar\": {\"outlinewidth\": 0, \"ticks\": \"\"}}, \"type\": \"scatterpolar\"}], \"scatterpolargl\": [{\"marker\": {\"colorbar\": {\"outlinewidth\": 0, \"ticks\": \"\"}}, \"type\": \"scatterpolargl\"}], \"scatterternary\": [{\"marker\": {\"colorbar\": {\"outlinewidth\": 0, \"ticks\": \"\"}}, \"type\": \"scatterternary\"}], \"surface\": [{\"colorbar\": {\"outlinewidth\": 0, \"ticks\": \"\"}, \"colorscale\": [[0.0, \"#0d0887\"], [0.1111111111111111, \"#46039f\"], [0.2222222222222222, \"#7201a8\"], [0.3333333333333333, \"#9c179e\"], [0.4444444444444444, \"#bd3786\"], [0.5555555555555556, \"#d8576b\"], [0.6666666666666666, \"#ed7953\"], [0.7777777777777778, \"#fb9f3a\"], [0.8888888888888888, \"#fdca26\"], [1.0, \"#f0f921\"]], \"type\": \"surface\"}], \"table\": [{\"cells\": {\"fill\": {\"color\": \"#EBF0F8\"}, \"line\": {\"color\": \"white\"}}, \"header\": {\"fill\": {\"color\": \"#C8D4E3\"}, \"line\": {\"color\": \"white\"}}, \"type\": \"table\"}]}, \"layout\": {\"annotationdefaults\": {\"arrowcolor\": \"#2a3f5f\", \"arrowhead\": 0, \"arrowwidth\": 1}, \"autotypenumbers\": \"strict\", \"coloraxis\": {\"colorbar\": {\"outlinewidth\": 0, \"ticks\": \"\"}}, \"colorscale\": {\"diverging\": [[0, \"#8e0152\"], [0.1, \"#c51b7d\"], [0.2, \"#de77ae\"], [0.3, \"#f1b6da\"], [0.4, \"#fde0ef\"], [0.5, \"#f7f7f7\"], [0.6, \"#e6f5d0\"], [0.7, \"#b8e186\"], [0.8, \"#7fbc41\"], [0.9, \"#4d9221\"], [1, \"#276419\"]], \"sequential\": [[0.0, \"#0d0887\"], [0.1111111111111111, \"#46039f\"], [0.2222222222222222, \"#7201a8\"], [0.3333333333333333, \"#9c179e\"], [0.4444444444444444, \"#bd3786\"], [0.5555555555555556, \"#d8576b\"], [0.6666666666666666, \"#ed7953\"], [0.7777777777777778, \"#fb9f3a\"], [0.8888888888888888, \"#fdca26\"], [1.0, \"#f0f921\"]], \"sequentialminus\": [[0.0, \"#0d0887\"], [0.1111111111111111, \"#46039f\"], [0.2222222222222222, \"#7201a8\"], [0.3333333333333333, \"#9c179e\"], [0.4444444444444444, \"#bd3786\"], [0.5555555555555556, \"#d8576b\"], [0.6666666666666666, \"#ed7953\"], [0.7777777777777778, \"#fb9f3a\"], [0.8888888888888888, \"#fdca26\"], [1.0, \"#f0f921\"]]}, \"colorway\": [\"#636efa\", \"#EF553B\", \"#00cc96\", \"#ab63fa\", \"#FFA15A\", \"#19d3f3\", \"#FF6692\", \"#B6E880\", \"#FF97FF\", \"#FECB52\"], \"font\": {\"color\": \"#2a3f5f\"}, \"geo\": {\"bgcolor\": \"white\", \"lakecolor\": \"white\", \"landcolor\": \"#E5ECF6\", \"showlakes\": true, \"showland\": true, \"subunitcolor\": \"white\"}, \"hoverlabel\": {\"align\": \"left\"}, \"hovermode\": \"closest\", \"mapbox\": {\"style\": \"light\"}, \"paper_bgcolor\": \"white\", \"plot_bgcolor\": \"#E5ECF6\", \"polar\": {\"angularaxis\": {\"gridcolor\": \"white\", \"linecolor\": \"white\", \"ticks\": \"\"}, \"bgcolor\": \"#E5ECF6\", \"radialaxis\": {\"gridcolor\": \"white\", \"linecolor\": \"white\", \"ticks\": \"\"}}, \"scene\": {\"xaxis\": {\"backgroundcolor\": \"#E5ECF6\", \"gridcolor\": \"white\", \"gridwidth\": 2, \"linecolor\": \"white\", \"showbackground\": true, \"ticks\": \"\", \"zerolinecolor\": \"white\"}, \"yaxis\": {\"backgroundcolor\": \"#E5ECF6\", \"gridcolor\": \"white\", \"gridwidth\": 2, \"linecolor\": \"white\", \"showbackground\": true, \"ticks\": \"\", \"zerolinecolor\": \"white\"}, \"zaxis\": {\"backgroundcolor\": \"#E5ECF6\", \"gridcolor\": \"white\", \"gridwidth\": 2, \"linecolor\": \"white\", \"showbackground\": true, \"ticks\": \"\", \"zerolinecolor\": \"white\"}}, \"shapedefaults\": {\"line\": {\"color\": \"#2a3f5f\"}}, \"ternary\": {\"aaxis\": {\"gridcolor\": \"white\", \"linecolor\": \"white\", \"ticks\": \"\"}, \"baxis\": {\"gridcolor\": \"white\", \"linecolor\": \"white\", \"ticks\": \"\"}, \"bgcolor\": \"#E5ECF6\", \"caxis\": {\"gridcolor\": \"white\", \"linecolor\": \"white\", \"ticks\": \"\"}}, \"title\": {\"x\": 0.05}, \"xaxis\": {\"automargin\": true, \"gridcolor\": \"white\", \"linecolor\": \"white\", \"ticks\": \"\", \"title\": {\"standoff\": 15}, \"zerolinecolor\": \"white\", \"zerolinewidth\": 2}, \"yaxis\": {\"automargin\": true, \"gridcolor\": \"white\", \"linecolor\": \"white\", \"ticks\": \"\", \"title\": {\"standoff\": 15}, \"zerolinecolor\": \"white\", \"zerolinewidth\": 2}}}, \"title\": {\"text\": \"validation_accuracy vs test_accuracy\"}, \"xaxis\": {\"title\": {\"text\": \"validation_accuracy\"}}, \"yaxis\": {\"title\": {\"text\": \"test_accuracy\"}}},                        {\"responsive\": true}                    ).then(function(){\n",
       "                            \n",
       "var gd = document.getElementById('70a00646-a73a-4236-8ce3-5c97399661e9');\n",
       "var x = new MutationObserver(function (mutations, observer) {{\n",
       "        var display = window.getComputedStyle(gd).display;\n",
       "        if (!display || display === 'none') {{\n",
       "            console.log([gd, 'removed!']);\n",
       "            Plotly.purge(gd);\n",
       "            observer.disconnect();\n",
       "        }}\n",
       "}});\n",
       "\n",
       "// Listen for the removal of the full notebook cells\n",
       "var notebookContainer = gd.closest('#notebook-container');\n",
       "if (notebookContainer) {{\n",
       "    x.observe(notebookContainer, {childList: true});\n",
       "}}\n",
       "\n",
       "// Listen for the clearing of the current output cell\n",
       "var outputEl = gd.closest('.output');\n",
       "if (outputEl) {{\n",
       "    x.observe(outputEl, {childList: true});\n",
       "}}\n",
       "\n",
       "                        })                };                });            </script>        </div>"
      ]
     },
     "metadata": {},
     "output_type": "display_data"
    }
   ],
   "source": [
    "plot_metric_relationship (metric_1, metric_2, backend='plotly')"
   ]
  },
  {
   "cell_type": "markdown",
   "metadata": {},
   "source": [
    "#### 3. Highlight selected experiments"
   ]
  },
  {
   "cell_type": "code",
   "execution_count": null,
   "metadata": {},
   "outputs": [
    {
     "data": {
      "text/html": [
       "        <script type=\"text/javascript\">\n",
       "        window.PlotlyConfig = {MathJaxConfig: 'local'};\n",
       "        if (window.MathJax) {MathJax.Hub.Config({SVG: {font: \"STIX-Web\"}});}\n",
       "        if (typeof require !== 'undefined') {\n",
       "        require.undef(\"plotly\");\n",
       "        requirejs.config({\n",
       "            paths: {\n",
       "                'plotly': ['https://cdn.plot.ly/plotly-latest.min']\n",
       "            }\n",
       "        });\n",
       "        require(['plotly'], function(Plotly) {\n",
       "            window._Plotly = Plotly;\n",
       "        });\n",
       "        }\n",
       "        </script>\n",
       "        "
      ]
     },
     "metadata": {},
     "output_type": "display_data"
    },
    {
     "data": {
      "application/vnd.plotly.v1+json": {
       "config": {
        "linkText": "Export to plot.ly",
        "plotlyServerURL": "https://plot.ly",
        "showLink": false
       },
       "data": [
        {
         "mode": "markers",
         "name": "all experiments",
         "type": "scatter",
         "x": [
          0.324709761456397,
          0.24924041471588348,
          0.2795850788524763,
          0.2458881545220484,
          0.11152706047649544,
          0.48500780433891577,
          0.3984862700013293,
          0.5316582721633765,
          0.5630088390150083,
          0.47914458085939304,
          0.6469655589890273,
          0.7181075207928177,
          0.7509273413558777,
          0.7797694977984767,
          0.6993949484221077,
          0.5892227052302613,
          0.5183985361704535,
          0.51591917379494,
          0.5716197017615264,
          0.6856172585054171,
          0.6395287748422933,
          0.5664077490082549,
          0.6890514925311217,
          0.6987516502150941,
          0.6637091194860698,
          1,
          1,
          0.9297792131744719,
          1,
          1,
          0.271787355535688,
          0.5060273988275441,
          0.38018911518477616,
          0.350670233399756,
          0.23019062088258893,
          0.6034430805565831,
          0.6686897631679715,
          0.4933845859699111,
          0.6480703885419896,
          0.538184302817539,
          0.7321620915427672,
          0.8625143538276526,
          1,
          0.8690315725243123,
          0.9547925318068822
         ],
         "y": [
          0.3120178065642553,
          0.4253109965296676,
          0.3467138694179387,
          0.2409062429971442,
          0.47902662410359254,
          0.5683586241008535,
          0.549011756664241,
          0.6335556178979252,
          0.3703176651741073,
          0.5076534909083208,
          0.7046334736131065,
          0.8137052023157277,
          0.8306611981072785,
          0.7931496934799204,
          0.869509160467965,
          0.5916453877889559,
          0.6693167972462177,
          0.3839094339594172,
          0.4442272126174261,
          0.4187744552255181,
          0.7527991479124528,
          0.9602763540736858,
          0.7007679869565064,
          0.5701514392024184,
          0.6757909063443553,
          0.740257215058908,
          0.7980779449705775,
          0.9093330296087141,
          0.8109835046399081,
          0.9576236142524214,
          0.3085543848676527,
          0.34338507580999067,
          0.28172691457381777,
          0.3934843631463059,
          0.26037995800316216,
          0.41700744877730056,
          0.36622178965752106,
          0.5244033235641063,
          0.442811767110808,
          0.30454460264718053,
          0.7749724370655557,
          0.8283856789227335,
          0.9182371048228002,
          0.8719461164379667,
          0.7464644236225588
         ]
        },
        {
         "mode": "markers",
         "name": "selected subset",
         "type": "scatter",
         "x": [
          1,
          1,
          0.9297792131744719,
          1,
          1,
          0.6469655589890273,
          0.7181075207928177,
          0.7509273413558777,
          0.7797694977984767,
          0.6993949484221077
         ],
         "y": [
          0.740257215058908,
          0.7980779449705775,
          0.9093330296087141,
          0.8109835046399081,
          0.9576236142524214,
          0.7046334736131065,
          0.8137052023157277,
          0.8306611981072785,
          0.7931496934799204,
          0.869509160467965
         ]
        },
        {
         "mode": "lines",
         "name": "linear",
         "type": "scatter",
         "x": [
          0.11152706047649544,
          0.1205015346130965,
          0.12947600874969756,
          0.1384504828862986,
          0.14742495702289965,
          0.15639943115950072,
          0.16537390529610177,
          0.17434837943270282,
          0.1833228535693039,
          0.19229732770590496,
          0.201271801842506,
          0.21024627597910706,
          0.21922075011570813,
          0.22819522425230918,
          0.23716969838891022,
          0.2461441725255113,
          0.25511864666211237,
          0.2640931207987134,
          0.27306759493531446,
          0.28204206907191554,
          0.29101654320851655,
          0.2999910173451176,
          0.3089654914817187,
          0.3179399656183197,
          0.3269144397549208,
          0.33588891389152187,
          0.3448633880281229,
          0.35383786216472396,
          0.36281233630132503,
          0.37178681043792605,
          0.3807612845745272,
          0.3897357587111282,
          0.3987102328477292,
          0.40768470698433035,
          0.41665918112093137,
          0.4256336552575324,
          0.4346081293941335,
          0.44358260353073453,
          0.45255707766733555,
          0.4615315518039367,
          0.4705060259405377,
          0.4794805000771387,
          0.48845497421373985,
          0.49742944835034086,
          0.5064039224869419,
          0.515378396623543,
          0.524352870760144,
          0.533327344896745,
          0.5423018190333462,
          0.5512762931699472,
          0.5602507673065482,
          0.5692252414431493,
          0.5781997155797504,
          0.5871741897163514,
          0.5961486638529525,
          0.6051231379895535,
          0.6140976121261545,
          0.6230720862627557,
          0.6320465603993567,
          0.6410210345359577,
          0.6499955086725588,
          0.6589699828091599,
          0.6679444569457609,
          0.676918931082362,
          0.685893405218963,
          0.694867879355564,
          0.7038423534921652,
          0.7128168276287662,
          0.7217913017653672,
          0.7307657759019683,
          0.7397402500385694,
          0.7487147241751704,
          0.7576891983117715,
          0.7666636724483725,
          0.7756381465849735,
          0.7846126207215747,
          0.7935870948581757,
          0.8025615689947767,
          0.8115360431313778,
          0.8205105172679789,
          0.82948499140458,
          0.838459465541181,
          0.847433939677782,
          0.8564084138143832,
          0.8653828879509842,
          0.8743573620875852,
          0.8833318362241863,
          0.8923063103607873,
          0.9012807844973884,
          0.9102552586339895,
          0.9192297327705905,
          0.9282042069071915,
          0.9371786810437926,
          0.9461531551803937,
          0.9551276293169947,
          0.9641021034535958,
          0.9730765775901968,
          0.9820510517267979,
          0.991025525863399,
          1
         ],
         "y": [
          0.2409062429971442,
          0.2481726077554931,
          0.255438972513842,
          0.2627053372721909,
          0.26997170203053983,
          0.27723806678888874,
          0.2845044315472376,
          0.29177079630558655,
          0.2990371610639354,
          0.3063035258222843,
          0.3135698905806332,
          0.32083625533898213,
          0.32810262009733104,
          0.33536898485567995,
          0.34263534961402886,
          0.34990171437237777,
          0.3571680791307267,
          0.3644344438890756,
          0.3717008086474245,
          0.37896717340577335,
          0.3862335381641223,
          0.39349990292247117,
          0.40076626768082013,
          0.408032632439169,
          0.4152989971975179,
          0.4225653619558668,
          0.4298317267142157,
          0.4370980914725646,
          0.44436445623091353,
          0.45163082098926244,
          0.4588971857476113,
          0.46616355050596026,
          0.4734299152643091,
          0.4806962800226581,
          0.4879626447810069,
          0.49522900953935584,
          0.5024953742977047,
          0.5097617390560536,
          0.5170281038144026,
          0.5242944685727515,
          0.5315608333311004,
          0.5388271980894492,
          0.5460935628477982,
          0.5533599276061472,
          0.560626292364496,
          0.5678926571228449,
          0.5751590218811937,
          0.5824253866395427,
          0.5896917513978917,
          0.5969581161562405,
          0.6042244809145894,
          0.6114908456729383,
          0.6187572104312873,
          0.6260235751896361,
          0.633289939947985,
          0.640556304706334,
          0.6478226694646829,
          0.6550890342230318,
          0.6623553989813806,
          0.6696217637397295,
          0.6768881284980784,
          0.6841544932564274,
          0.6914208580147763,
          0.6986872227731251,
          0.7059535875314741,
          0.713219952289823,
          0.7204863170481719,
          0.7277526818065208,
          0.7350190465648697,
          0.7422854113232187,
          0.7495517760815675,
          0.7568181408399164,
          0.7640845055982652,
          0.7713508703566143,
          0.7786172351149632,
          0.785883599873312,
          0.7931499646316609,
          0.8004163293900097,
          0.8076826941483588,
          0.8149490589067077,
          0.8222154236650565,
          0.8294817884234054,
          0.8367481531817544,
          0.8440145179401033,
          0.8512808826984521,
          0.858547247456801,
          0.8658136122151501,
          0.8730799769734989,
          0.8803463417318478,
          0.8876127064901966,
          0.8948790712485455,
          0.9021454360068946,
          0.9094118007652434,
          0.9166781655235923,
          0.9239445302819411,
          0.9312108950402902,
          0.938477259798639,
          0.9457436245569879,
          0.9530099893153368,
          0.9602763540736858
         ]
        }
       ],
       "layout": {
        "template": {
         "data": {
          "bar": [
           {
            "error_x": {
             "color": "#2a3f5f"
            },
            "error_y": {
             "color": "#2a3f5f"
            },
            "marker": {
             "line": {
              "color": "#E5ECF6",
              "width": 0.5
             }
            },
            "type": "bar"
           }
          ],
          "barpolar": [
           {
            "marker": {
             "line": {
              "color": "#E5ECF6",
              "width": 0.5
             }
            },
            "type": "barpolar"
           }
          ],
          "carpet": [
           {
            "aaxis": {
             "endlinecolor": "#2a3f5f",
             "gridcolor": "white",
             "linecolor": "white",
             "minorgridcolor": "white",
             "startlinecolor": "#2a3f5f"
            },
            "baxis": {
             "endlinecolor": "#2a3f5f",
             "gridcolor": "white",
             "linecolor": "white",
             "minorgridcolor": "white",
             "startlinecolor": "#2a3f5f"
            },
            "type": "carpet"
           }
          ],
          "choropleth": [
           {
            "colorbar": {
             "outlinewidth": 0,
             "ticks": ""
            },
            "type": "choropleth"
           }
          ],
          "contour": [
           {
            "colorbar": {
             "outlinewidth": 0,
             "ticks": ""
            },
            "colorscale": [
             [
              0,
              "#0d0887"
             ],
             [
              0.1111111111111111,
              "#46039f"
             ],
             [
              0.2222222222222222,
              "#7201a8"
             ],
             [
              0.3333333333333333,
              "#9c179e"
             ],
             [
              0.4444444444444444,
              "#bd3786"
             ],
             [
              0.5555555555555556,
              "#d8576b"
             ],
             [
              0.6666666666666666,
              "#ed7953"
             ],
             [
              0.7777777777777778,
              "#fb9f3a"
             ],
             [
              0.8888888888888888,
              "#fdca26"
             ],
             [
              1,
              "#f0f921"
             ]
            ],
            "type": "contour"
           }
          ],
          "contourcarpet": [
           {
            "colorbar": {
             "outlinewidth": 0,
             "ticks": ""
            },
            "type": "contourcarpet"
           }
          ],
          "heatmap": [
           {
            "colorbar": {
             "outlinewidth": 0,
             "ticks": ""
            },
            "colorscale": [
             [
              0,
              "#0d0887"
             ],
             [
              0.1111111111111111,
              "#46039f"
             ],
             [
              0.2222222222222222,
              "#7201a8"
             ],
             [
              0.3333333333333333,
              "#9c179e"
             ],
             [
              0.4444444444444444,
              "#bd3786"
             ],
             [
              0.5555555555555556,
              "#d8576b"
             ],
             [
              0.6666666666666666,
              "#ed7953"
             ],
             [
              0.7777777777777778,
              "#fb9f3a"
             ],
             [
              0.8888888888888888,
              "#fdca26"
             ],
             [
              1,
              "#f0f921"
             ]
            ],
            "type": "heatmap"
           }
          ],
          "heatmapgl": [
           {
            "colorbar": {
             "outlinewidth": 0,
             "ticks": ""
            },
            "colorscale": [
             [
              0,
              "#0d0887"
             ],
             [
              0.1111111111111111,
              "#46039f"
             ],
             [
              0.2222222222222222,
              "#7201a8"
             ],
             [
              0.3333333333333333,
              "#9c179e"
             ],
             [
              0.4444444444444444,
              "#bd3786"
             ],
             [
              0.5555555555555556,
              "#d8576b"
             ],
             [
              0.6666666666666666,
              "#ed7953"
             ],
             [
              0.7777777777777778,
              "#fb9f3a"
             ],
             [
              0.8888888888888888,
              "#fdca26"
             ],
             [
              1,
              "#f0f921"
             ]
            ],
            "type": "heatmapgl"
           }
          ],
          "histogram": [
           {
            "marker": {
             "colorbar": {
              "outlinewidth": 0,
              "ticks": ""
             }
            },
            "type": "histogram"
           }
          ],
          "histogram2d": [
           {
            "colorbar": {
             "outlinewidth": 0,
             "ticks": ""
            },
            "colorscale": [
             [
              0,
              "#0d0887"
             ],
             [
              0.1111111111111111,
              "#46039f"
             ],
             [
              0.2222222222222222,
              "#7201a8"
             ],
             [
              0.3333333333333333,
              "#9c179e"
             ],
             [
              0.4444444444444444,
              "#bd3786"
             ],
             [
              0.5555555555555556,
              "#d8576b"
             ],
             [
              0.6666666666666666,
              "#ed7953"
             ],
             [
              0.7777777777777778,
              "#fb9f3a"
             ],
             [
              0.8888888888888888,
              "#fdca26"
             ],
             [
              1,
              "#f0f921"
             ]
            ],
            "type": "histogram2d"
           }
          ],
          "histogram2dcontour": [
           {
            "colorbar": {
             "outlinewidth": 0,
             "ticks": ""
            },
            "colorscale": [
             [
              0,
              "#0d0887"
             ],
             [
              0.1111111111111111,
              "#46039f"
             ],
             [
              0.2222222222222222,
              "#7201a8"
             ],
             [
              0.3333333333333333,
              "#9c179e"
             ],
             [
              0.4444444444444444,
              "#bd3786"
             ],
             [
              0.5555555555555556,
              "#d8576b"
             ],
             [
              0.6666666666666666,
              "#ed7953"
             ],
             [
              0.7777777777777778,
              "#fb9f3a"
             ],
             [
              0.8888888888888888,
              "#fdca26"
             ],
             [
              1,
              "#f0f921"
             ]
            ],
            "type": "histogram2dcontour"
           }
          ],
          "mesh3d": [
           {
            "colorbar": {
             "outlinewidth": 0,
             "ticks": ""
            },
            "type": "mesh3d"
           }
          ],
          "parcoords": [
           {
            "line": {
             "colorbar": {
              "outlinewidth": 0,
              "ticks": ""
             }
            },
            "type": "parcoords"
           }
          ],
          "pie": [
           {
            "automargin": true,
            "type": "pie"
           }
          ],
          "scatter": [
           {
            "marker": {
             "colorbar": {
              "outlinewidth": 0,
              "ticks": ""
             }
            },
            "type": "scatter"
           }
          ],
          "scatter3d": [
           {
            "line": {
             "colorbar": {
              "outlinewidth": 0,
              "ticks": ""
             }
            },
            "marker": {
             "colorbar": {
              "outlinewidth": 0,
              "ticks": ""
             }
            },
            "type": "scatter3d"
           }
          ],
          "scattercarpet": [
           {
            "marker": {
             "colorbar": {
              "outlinewidth": 0,
              "ticks": ""
             }
            },
            "type": "scattercarpet"
           }
          ],
          "scattergeo": [
           {
            "marker": {
             "colorbar": {
              "outlinewidth": 0,
              "ticks": ""
             }
            },
            "type": "scattergeo"
           }
          ],
          "scattergl": [
           {
            "marker": {
             "colorbar": {
              "outlinewidth": 0,
              "ticks": ""
             }
            },
            "type": "scattergl"
           }
          ],
          "scattermapbox": [
           {
            "marker": {
             "colorbar": {
              "outlinewidth": 0,
              "ticks": ""
             }
            },
            "type": "scattermapbox"
           }
          ],
          "scatterpolar": [
           {
            "marker": {
             "colorbar": {
              "outlinewidth": 0,
              "ticks": ""
             }
            },
            "type": "scatterpolar"
           }
          ],
          "scatterpolargl": [
           {
            "marker": {
             "colorbar": {
              "outlinewidth": 0,
              "ticks": ""
             }
            },
            "type": "scatterpolargl"
           }
          ],
          "scatterternary": [
           {
            "marker": {
             "colorbar": {
              "outlinewidth": 0,
              "ticks": ""
             }
            },
            "type": "scatterternary"
           }
          ],
          "surface": [
           {
            "colorbar": {
             "outlinewidth": 0,
             "ticks": ""
            },
            "colorscale": [
             [
              0,
              "#0d0887"
             ],
             [
              0.1111111111111111,
              "#46039f"
             ],
             [
              0.2222222222222222,
              "#7201a8"
             ],
             [
              0.3333333333333333,
              "#9c179e"
             ],
             [
              0.4444444444444444,
              "#bd3786"
             ],
             [
              0.5555555555555556,
              "#d8576b"
             ],
             [
              0.6666666666666666,
              "#ed7953"
             ],
             [
              0.7777777777777778,
              "#fb9f3a"
             ],
             [
              0.8888888888888888,
              "#fdca26"
             ],
             [
              1,
              "#f0f921"
             ]
            ],
            "type": "surface"
           }
          ],
          "table": [
           {
            "cells": {
             "fill": {
              "color": "#EBF0F8"
             },
             "line": {
              "color": "white"
             }
            },
            "header": {
             "fill": {
              "color": "#C8D4E3"
             },
             "line": {
              "color": "white"
             }
            },
            "type": "table"
           }
          ]
         },
         "layout": {
          "annotationdefaults": {
           "arrowcolor": "#2a3f5f",
           "arrowhead": 0,
           "arrowwidth": 1
          },
          "autotypenumbers": "strict",
          "coloraxis": {
           "colorbar": {
            "outlinewidth": 0,
            "ticks": ""
           }
          },
          "colorscale": {
           "diverging": [
            [
             0,
             "#8e0152"
            ],
            [
             0.1,
             "#c51b7d"
            ],
            [
             0.2,
             "#de77ae"
            ],
            [
             0.3,
             "#f1b6da"
            ],
            [
             0.4,
             "#fde0ef"
            ],
            [
             0.5,
             "#f7f7f7"
            ],
            [
             0.6,
             "#e6f5d0"
            ],
            [
             0.7,
             "#b8e186"
            ],
            [
             0.8,
             "#7fbc41"
            ],
            [
             0.9,
             "#4d9221"
            ],
            [
             1,
             "#276419"
            ]
           ],
           "sequential": [
            [
             0,
             "#0d0887"
            ],
            [
             0.1111111111111111,
             "#46039f"
            ],
            [
             0.2222222222222222,
             "#7201a8"
            ],
            [
             0.3333333333333333,
             "#9c179e"
            ],
            [
             0.4444444444444444,
             "#bd3786"
            ],
            [
             0.5555555555555556,
             "#d8576b"
            ],
            [
             0.6666666666666666,
             "#ed7953"
            ],
            [
             0.7777777777777778,
             "#fb9f3a"
            ],
            [
             0.8888888888888888,
             "#fdca26"
            ],
            [
             1,
             "#f0f921"
            ]
           ],
           "sequentialminus": [
            [
             0,
             "#0d0887"
            ],
            [
             0.1111111111111111,
             "#46039f"
            ],
            [
             0.2222222222222222,
             "#7201a8"
            ],
            [
             0.3333333333333333,
             "#9c179e"
            ],
            [
             0.4444444444444444,
             "#bd3786"
            ],
            [
             0.5555555555555556,
             "#d8576b"
            ],
            [
             0.6666666666666666,
             "#ed7953"
            ],
            [
             0.7777777777777778,
             "#fb9f3a"
            ],
            [
             0.8888888888888888,
             "#fdca26"
            ],
            [
             1,
             "#f0f921"
            ]
           ]
          },
          "colorway": [
           "#636efa",
           "#EF553B",
           "#00cc96",
           "#ab63fa",
           "#FFA15A",
           "#19d3f3",
           "#FF6692",
           "#B6E880",
           "#FF97FF",
           "#FECB52"
          ],
          "font": {
           "color": "#2a3f5f"
          },
          "geo": {
           "bgcolor": "white",
           "lakecolor": "white",
           "landcolor": "#E5ECF6",
           "showlakes": true,
           "showland": true,
           "subunitcolor": "white"
          },
          "hoverlabel": {
           "align": "left"
          },
          "hovermode": "closest",
          "mapbox": {
           "style": "light"
          },
          "paper_bgcolor": "white",
          "plot_bgcolor": "#E5ECF6",
          "polar": {
           "angularaxis": {
            "gridcolor": "white",
            "linecolor": "white",
            "ticks": ""
           },
           "bgcolor": "#E5ECF6",
           "radialaxis": {
            "gridcolor": "white",
            "linecolor": "white",
            "ticks": ""
           }
          },
          "scene": {
           "xaxis": {
            "backgroundcolor": "#E5ECF6",
            "gridcolor": "white",
            "gridwidth": 2,
            "linecolor": "white",
            "showbackground": true,
            "ticks": "",
            "zerolinecolor": "white"
           },
           "yaxis": {
            "backgroundcolor": "#E5ECF6",
            "gridcolor": "white",
            "gridwidth": 2,
            "linecolor": "white",
            "showbackground": true,
            "ticks": "",
            "zerolinecolor": "white"
           },
           "zaxis": {
            "backgroundcolor": "#E5ECF6",
            "gridcolor": "white",
            "gridwidth": 2,
            "linecolor": "white",
            "showbackground": true,
            "ticks": "",
            "zerolinecolor": "white"
           }
          },
          "shapedefaults": {
           "line": {
            "color": "#2a3f5f"
           }
          },
          "ternary": {
           "aaxis": {
            "gridcolor": "white",
            "linecolor": "white",
            "ticks": ""
           },
           "baxis": {
            "gridcolor": "white",
            "linecolor": "white",
            "ticks": ""
           },
           "bgcolor": "#E5ECF6",
           "caxis": {
            "gridcolor": "white",
            "linecolor": "white",
            "ticks": ""
           }
          },
          "title": {
           "x": 0.05
          },
          "xaxis": {
           "automargin": true,
           "gridcolor": "white",
           "linecolor": "white",
           "ticks": "",
           "title": {
            "standoff": 15
           },
           "zerolinecolor": "white",
           "zerolinewidth": 2
          },
          "yaxis": {
           "automargin": true,
           "gridcolor": "white",
           "linecolor": "white",
           "ticks": "",
           "title": {
            "standoff": 15
           },
           "zerolinecolor": "white",
           "zerolinewidth": 2
          }
         }
        },
        "title": {
         "text": "validation_accuracy vs test_accuracy"
        },
        "xaxis": {
         "title": {
          "text": "validation_accuracy"
         }
        },
        "yaxis": {
         "title": {
          "text": "test_accuracy"
         }
        }
       }
      },
      "text/html": [
       "<div>                            <div id=\"8afc480e-88c7-4dcd-b6d7-41e5bd2b1611\" class=\"plotly-graph-div\" style=\"height:525px; width:100%;\"></div>            <script type=\"text/javascript\">                require([\"plotly\"], function(Plotly) {                    window.PLOTLYENV=window.PLOTLYENV || {};                                    if (document.getElementById(\"8afc480e-88c7-4dcd-b6d7-41e5bd2b1611\")) {                    Plotly.newPlot(                        \"8afc480e-88c7-4dcd-b6d7-41e5bd2b1611\",                        [{\"mode\": \"markers\", \"name\": \"all experiments\", \"type\": \"scatter\", \"x\": [0.324709761456397, 0.24924041471588348, 0.2795850788524763, 0.2458881545220484, 0.11152706047649544, 0.48500780433891577, 0.3984862700013293, 0.5316582721633765, 0.5630088390150083, 0.47914458085939304, 0.6469655589890273, 0.7181075207928177, 0.7509273413558777, 0.7797694977984767, 0.6993949484221077, 0.5892227052302613, 0.5183985361704535, 0.51591917379494, 0.5716197017615264, 0.6856172585054171, 0.6395287748422933, 0.5664077490082549, 0.6890514925311217, 0.6987516502150941, 0.6637091194860698, 1.0, 1.0, 0.9297792131744719, 1.0, 1.0, 0.271787355535688, 0.5060273988275441, 0.38018911518477616, 0.350670233399756, 0.23019062088258893, 0.6034430805565831, 0.6686897631679715, 0.4933845859699111, 0.6480703885419896, 0.538184302817539, 0.7321620915427672, 0.8625143538276526, 1.0, 0.8690315725243123, 0.9547925318068822], \"y\": [0.3120178065642553, 0.4253109965296676, 0.3467138694179387, 0.2409062429971442, 0.47902662410359254, 0.5683586241008535, 0.549011756664241, 0.6335556178979252, 0.3703176651741073, 0.5076534909083208, 0.7046334736131065, 0.8137052023157277, 0.8306611981072785, 0.7931496934799204, 0.869509160467965, 0.5916453877889559, 0.6693167972462177, 0.3839094339594172, 0.4442272126174261, 0.4187744552255181, 0.7527991479124528, 0.9602763540736858, 0.7007679869565064, 0.5701514392024184, 0.6757909063443553, 0.740257215058908, 0.7980779449705775, 0.9093330296087141, 0.8109835046399081, 0.9576236142524214, 0.3085543848676527, 0.34338507580999067, 0.28172691457381777, 0.3934843631463059, 0.26037995800316216, 0.41700744877730056, 0.36622178965752106, 0.5244033235641063, 0.442811767110808, 0.30454460264718053, 0.7749724370655557, 0.8283856789227335, 0.9182371048228002, 0.8719461164379667, 0.7464644236225588]}, {\"mode\": \"markers\", \"name\": \"selected subset\", \"type\": \"scatter\", \"x\": [1.0, 1.0, 0.9297792131744719, 1.0, 1.0, 0.6469655589890273, 0.7181075207928177, 0.7509273413558777, 0.7797694977984767, 0.6993949484221077], \"y\": [0.740257215058908, 0.7980779449705775, 0.9093330296087141, 0.8109835046399081, 0.9576236142524214, 0.7046334736131065, 0.8137052023157277, 0.8306611981072785, 0.7931496934799204, 0.869509160467965]}, {\"mode\": \"lines\", \"name\": \"linear\", \"type\": \"scatter\", \"x\": [0.11152706047649544, 0.1205015346130965, 0.12947600874969756, 0.1384504828862986, 0.14742495702289965, 0.15639943115950072, 0.16537390529610177, 0.17434837943270282, 0.1833228535693039, 0.19229732770590496, 0.201271801842506, 0.21024627597910706, 0.21922075011570813, 0.22819522425230918, 0.23716969838891022, 0.2461441725255113, 0.25511864666211237, 0.2640931207987134, 0.27306759493531446, 0.28204206907191554, 0.29101654320851655, 0.2999910173451176, 0.3089654914817187, 0.3179399656183197, 0.3269144397549208, 0.33588891389152187, 0.3448633880281229, 0.35383786216472396, 0.36281233630132503, 0.37178681043792605, 0.3807612845745272, 0.3897357587111282, 0.3987102328477292, 0.40768470698433035, 0.41665918112093137, 0.4256336552575324, 0.4346081293941335, 0.44358260353073453, 0.45255707766733555, 0.4615315518039367, 0.4705060259405377, 0.4794805000771387, 0.48845497421373985, 0.49742944835034086, 0.5064039224869419, 0.515378396623543, 0.524352870760144, 0.533327344896745, 0.5423018190333462, 0.5512762931699472, 0.5602507673065482, 0.5692252414431493, 0.5781997155797504, 0.5871741897163514, 0.5961486638529525, 0.6051231379895535, 0.6140976121261545, 0.6230720862627557, 0.6320465603993567, 0.6410210345359577, 0.6499955086725588, 0.6589699828091599, 0.6679444569457609, 0.676918931082362, 0.685893405218963, 0.694867879355564, 0.7038423534921652, 0.7128168276287662, 0.7217913017653672, 0.7307657759019683, 0.7397402500385694, 0.7487147241751704, 0.7576891983117715, 0.7666636724483725, 0.7756381465849735, 0.7846126207215747, 0.7935870948581757, 0.8025615689947767, 0.8115360431313778, 0.8205105172679789, 0.82948499140458, 0.838459465541181, 0.847433939677782, 0.8564084138143832, 0.8653828879509842, 0.8743573620875852, 0.8833318362241863, 0.8923063103607873, 0.9012807844973884, 0.9102552586339895, 0.9192297327705905, 0.9282042069071915, 0.9371786810437926, 0.9461531551803937, 0.9551276293169947, 0.9641021034535958, 0.9730765775901968, 0.9820510517267979, 0.991025525863399, 1.0], \"y\": [0.2409062429971442, 0.2481726077554931, 0.255438972513842, 0.2627053372721909, 0.26997170203053983, 0.27723806678888874, 0.2845044315472376, 0.29177079630558655, 0.2990371610639354, 0.3063035258222843, 0.3135698905806332, 0.32083625533898213, 0.32810262009733104, 0.33536898485567995, 0.34263534961402886, 0.34990171437237777, 0.3571680791307267, 0.3644344438890756, 0.3717008086474245, 0.37896717340577335, 0.3862335381641223, 0.39349990292247117, 0.40076626768082013, 0.408032632439169, 0.4152989971975179, 0.4225653619558668, 0.4298317267142157, 0.4370980914725646, 0.44436445623091353, 0.45163082098926244, 0.4588971857476113, 0.46616355050596026, 0.4734299152643091, 0.4806962800226581, 0.4879626447810069, 0.49522900953935584, 0.5024953742977047, 0.5097617390560536, 0.5170281038144026, 0.5242944685727515, 0.5315608333311004, 0.5388271980894492, 0.5460935628477982, 0.5533599276061472, 0.560626292364496, 0.5678926571228449, 0.5751590218811937, 0.5824253866395427, 0.5896917513978917, 0.5969581161562405, 0.6042244809145894, 0.6114908456729383, 0.6187572104312873, 0.6260235751896361, 0.633289939947985, 0.640556304706334, 0.6478226694646829, 0.6550890342230318, 0.6623553989813806, 0.6696217637397295, 0.6768881284980784, 0.6841544932564274, 0.6914208580147763, 0.6986872227731251, 0.7059535875314741, 0.713219952289823, 0.7204863170481719, 0.7277526818065208, 0.7350190465648697, 0.7422854113232187, 0.7495517760815675, 0.7568181408399164, 0.7640845055982652, 0.7713508703566143, 0.7786172351149632, 0.785883599873312, 0.7931499646316609, 0.8004163293900097, 0.8076826941483588, 0.8149490589067077, 0.8222154236650565, 0.8294817884234054, 0.8367481531817544, 0.8440145179401033, 0.8512808826984521, 0.858547247456801, 0.8658136122151501, 0.8730799769734989, 0.8803463417318478, 0.8876127064901966, 0.8948790712485455, 0.9021454360068946, 0.9094118007652434, 0.9166781655235923, 0.9239445302819411, 0.9312108950402902, 0.938477259798639, 0.9457436245569879, 0.9530099893153368, 0.9602763540736858]}],                        {\"template\": {\"data\": {\"bar\": [{\"error_x\": {\"color\": \"#2a3f5f\"}, \"error_y\": {\"color\": \"#2a3f5f\"}, \"marker\": {\"line\": {\"color\": \"#E5ECF6\", \"width\": 0.5}}, \"type\": \"bar\"}], \"barpolar\": [{\"marker\": {\"line\": {\"color\": \"#E5ECF6\", \"width\": 0.5}}, \"type\": \"barpolar\"}], \"carpet\": [{\"aaxis\": {\"endlinecolor\": \"#2a3f5f\", \"gridcolor\": \"white\", \"linecolor\": \"white\", \"minorgridcolor\": \"white\", \"startlinecolor\": \"#2a3f5f\"}, \"baxis\": {\"endlinecolor\": \"#2a3f5f\", \"gridcolor\": \"white\", \"linecolor\": \"white\", \"minorgridcolor\": \"white\", \"startlinecolor\": \"#2a3f5f\"}, \"type\": \"carpet\"}], \"choropleth\": [{\"colorbar\": {\"outlinewidth\": 0, \"ticks\": \"\"}, \"type\": \"choropleth\"}], \"contour\": [{\"colorbar\": {\"outlinewidth\": 0, \"ticks\": \"\"}, \"colorscale\": [[0.0, \"#0d0887\"], [0.1111111111111111, \"#46039f\"], [0.2222222222222222, \"#7201a8\"], [0.3333333333333333, \"#9c179e\"], [0.4444444444444444, \"#bd3786\"], [0.5555555555555556, \"#d8576b\"], [0.6666666666666666, \"#ed7953\"], [0.7777777777777778, \"#fb9f3a\"], [0.8888888888888888, \"#fdca26\"], [1.0, \"#f0f921\"]], \"type\": \"contour\"}], \"contourcarpet\": [{\"colorbar\": {\"outlinewidth\": 0, \"ticks\": \"\"}, \"type\": \"contourcarpet\"}], \"heatmap\": [{\"colorbar\": {\"outlinewidth\": 0, \"ticks\": \"\"}, \"colorscale\": [[0.0, \"#0d0887\"], [0.1111111111111111, \"#46039f\"], [0.2222222222222222, \"#7201a8\"], [0.3333333333333333, \"#9c179e\"], [0.4444444444444444, \"#bd3786\"], [0.5555555555555556, \"#d8576b\"], [0.6666666666666666, \"#ed7953\"], [0.7777777777777778, \"#fb9f3a\"], [0.8888888888888888, \"#fdca26\"], [1.0, \"#f0f921\"]], \"type\": \"heatmap\"}], \"heatmapgl\": [{\"colorbar\": {\"outlinewidth\": 0, \"ticks\": \"\"}, \"colorscale\": [[0.0, \"#0d0887\"], [0.1111111111111111, \"#46039f\"], [0.2222222222222222, \"#7201a8\"], [0.3333333333333333, \"#9c179e\"], [0.4444444444444444, \"#bd3786\"], [0.5555555555555556, \"#d8576b\"], [0.6666666666666666, \"#ed7953\"], [0.7777777777777778, \"#fb9f3a\"], [0.8888888888888888, \"#fdca26\"], [1.0, \"#f0f921\"]], \"type\": \"heatmapgl\"}], \"histogram\": [{\"marker\": {\"colorbar\": {\"outlinewidth\": 0, \"ticks\": \"\"}}, \"type\": \"histogram\"}], \"histogram2d\": [{\"colorbar\": {\"outlinewidth\": 0, \"ticks\": \"\"}, \"colorscale\": [[0.0, \"#0d0887\"], [0.1111111111111111, \"#46039f\"], [0.2222222222222222, \"#7201a8\"], [0.3333333333333333, \"#9c179e\"], [0.4444444444444444, \"#bd3786\"], [0.5555555555555556, \"#d8576b\"], [0.6666666666666666, \"#ed7953\"], [0.7777777777777778, \"#fb9f3a\"], [0.8888888888888888, \"#fdca26\"], [1.0, \"#f0f921\"]], \"type\": \"histogram2d\"}], \"histogram2dcontour\": [{\"colorbar\": {\"outlinewidth\": 0, \"ticks\": \"\"}, \"colorscale\": [[0.0, \"#0d0887\"], [0.1111111111111111, \"#46039f\"], [0.2222222222222222, \"#7201a8\"], [0.3333333333333333, \"#9c179e\"], [0.4444444444444444, \"#bd3786\"], [0.5555555555555556, \"#d8576b\"], [0.6666666666666666, \"#ed7953\"], [0.7777777777777778, \"#fb9f3a\"], [0.8888888888888888, \"#fdca26\"], [1.0, \"#f0f921\"]], \"type\": \"histogram2dcontour\"}], \"mesh3d\": [{\"colorbar\": {\"outlinewidth\": 0, \"ticks\": \"\"}, \"type\": \"mesh3d\"}], \"parcoords\": [{\"line\": {\"colorbar\": {\"outlinewidth\": 0, \"ticks\": \"\"}}, \"type\": \"parcoords\"}], \"pie\": [{\"automargin\": true, \"type\": \"pie\"}], \"scatter\": [{\"marker\": {\"colorbar\": {\"outlinewidth\": 0, \"ticks\": \"\"}}, \"type\": \"scatter\"}], \"scatter3d\": [{\"line\": {\"colorbar\": {\"outlinewidth\": 0, \"ticks\": \"\"}}, \"marker\": {\"colorbar\": {\"outlinewidth\": 0, \"ticks\": \"\"}}, \"type\": \"scatter3d\"}], \"scattercarpet\": [{\"marker\": {\"colorbar\": {\"outlinewidth\": 0, \"ticks\": \"\"}}, \"type\": \"scattercarpet\"}], \"scattergeo\": [{\"marker\": {\"colorbar\": {\"outlinewidth\": 0, \"ticks\": \"\"}}, \"type\": \"scattergeo\"}], \"scattergl\": [{\"marker\": {\"colorbar\": {\"outlinewidth\": 0, \"ticks\": \"\"}}, \"type\": \"scattergl\"}], \"scattermapbox\": [{\"marker\": {\"colorbar\": {\"outlinewidth\": 0, \"ticks\": \"\"}}, \"type\": \"scattermapbox\"}], \"scatterpolar\": [{\"marker\": {\"colorbar\": {\"outlinewidth\": 0, \"ticks\": \"\"}}, \"type\": \"scatterpolar\"}], \"scatterpolargl\": [{\"marker\": {\"colorbar\": {\"outlinewidth\": 0, \"ticks\": \"\"}}, \"type\": \"scatterpolargl\"}], \"scatterternary\": [{\"marker\": {\"colorbar\": {\"outlinewidth\": 0, \"ticks\": \"\"}}, \"type\": \"scatterternary\"}], \"surface\": [{\"colorbar\": {\"outlinewidth\": 0, \"ticks\": \"\"}, \"colorscale\": [[0.0, \"#0d0887\"], [0.1111111111111111, \"#46039f\"], [0.2222222222222222, \"#7201a8\"], [0.3333333333333333, \"#9c179e\"], [0.4444444444444444, \"#bd3786\"], [0.5555555555555556, \"#d8576b\"], [0.6666666666666666, \"#ed7953\"], [0.7777777777777778, \"#fb9f3a\"], [0.8888888888888888, \"#fdca26\"], [1.0, \"#f0f921\"]], \"type\": \"surface\"}], \"table\": [{\"cells\": {\"fill\": {\"color\": \"#EBF0F8\"}, \"line\": {\"color\": \"white\"}}, \"header\": {\"fill\": {\"color\": \"#C8D4E3\"}, \"line\": {\"color\": \"white\"}}, \"type\": \"table\"}]}, \"layout\": {\"annotationdefaults\": {\"arrowcolor\": \"#2a3f5f\", \"arrowhead\": 0, \"arrowwidth\": 1}, \"autotypenumbers\": \"strict\", \"coloraxis\": {\"colorbar\": {\"outlinewidth\": 0, \"ticks\": \"\"}}, \"colorscale\": {\"diverging\": [[0, \"#8e0152\"], [0.1, \"#c51b7d\"], [0.2, \"#de77ae\"], [0.3, \"#f1b6da\"], [0.4, \"#fde0ef\"], [0.5, \"#f7f7f7\"], [0.6, \"#e6f5d0\"], [0.7, \"#b8e186\"], [0.8, \"#7fbc41\"], [0.9, \"#4d9221\"], [1, \"#276419\"]], \"sequential\": [[0.0, \"#0d0887\"], [0.1111111111111111, \"#46039f\"], [0.2222222222222222, \"#7201a8\"], [0.3333333333333333, \"#9c179e\"], [0.4444444444444444, \"#bd3786\"], [0.5555555555555556, \"#d8576b\"], [0.6666666666666666, \"#ed7953\"], [0.7777777777777778, \"#fb9f3a\"], [0.8888888888888888, \"#fdca26\"], [1.0, \"#f0f921\"]], \"sequentialminus\": [[0.0, \"#0d0887\"], [0.1111111111111111, \"#46039f\"], [0.2222222222222222, \"#7201a8\"], [0.3333333333333333, \"#9c179e\"], [0.4444444444444444, \"#bd3786\"], [0.5555555555555556, \"#d8576b\"], [0.6666666666666666, \"#ed7953\"], [0.7777777777777778, \"#fb9f3a\"], [0.8888888888888888, \"#fdca26\"], [1.0, \"#f0f921\"]]}, \"colorway\": [\"#636efa\", \"#EF553B\", \"#00cc96\", \"#ab63fa\", \"#FFA15A\", \"#19d3f3\", \"#FF6692\", \"#B6E880\", \"#FF97FF\", \"#FECB52\"], \"font\": {\"color\": \"#2a3f5f\"}, \"geo\": {\"bgcolor\": \"white\", \"lakecolor\": \"white\", \"landcolor\": \"#E5ECF6\", \"showlakes\": true, \"showland\": true, \"subunitcolor\": \"white\"}, \"hoverlabel\": {\"align\": \"left\"}, \"hovermode\": \"closest\", \"mapbox\": {\"style\": \"light\"}, \"paper_bgcolor\": \"white\", \"plot_bgcolor\": \"#E5ECF6\", \"polar\": {\"angularaxis\": {\"gridcolor\": \"white\", \"linecolor\": \"white\", \"ticks\": \"\"}, \"bgcolor\": \"#E5ECF6\", \"radialaxis\": {\"gridcolor\": \"white\", \"linecolor\": \"white\", \"ticks\": \"\"}}, \"scene\": {\"xaxis\": {\"backgroundcolor\": \"#E5ECF6\", \"gridcolor\": \"white\", \"gridwidth\": 2, \"linecolor\": \"white\", \"showbackground\": true, \"ticks\": \"\", \"zerolinecolor\": \"white\"}, \"yaxis\": {\"backgroundcolor\": \"#E5ECF6\", \"gridcolor\": \"white\", \"gridwidth\": 2, \"linecolor\": \"white\", \"showbackground\": true, \"ticks\": \"\", \"zerolinecolor\": \"white\"}, \"zaxis\": {\"backgroundcolor\": \"#E5ECF6\", \"gridcolor\": \"white\", \"gridwidth\": 2, \"linecolor\": \"white\", \"showbackground\": true, \"ticks\": \"\", \"zerolinecolor\": \"white\"}}, \"shapedefaults\": {\"line\": {\"color\": \"#2a3f5f\"}}, \"ternary\": {\"aaxis\": {\"gridcolor\": \"white\", \"linecolor\": \"white\", \"ticks\": \"\"}, \"baxis\": {\"gridcolor\": \"white\", \"linecolor\": \"white\", \"ticks\": \"\"}, \"bgcolor\": \"#E5ECF6\", \"caxis\": {\"gridcolor\": \"white\", \"linecolor\": \"white\", \"ticks\": \"\"}}, \"title\": {\"x\": 0.05}, \"xaxis\": {\"automargin\": true, \"gridcolor\": \"white\", \"linecolor\": \"white\", \"ticks\": \"\", \"title\": {\"standoff\": 15}, \"zerolinecolor\": \"white\", \"zerolinewidth\": 2}, \"yaxis\": {\"automargin\": true, \"gridcolor\": \"white\", \"linecolor\": \"white\", \"ticks\": \"\", \"title\": {\"standoff\": 15}, \"zerolinecolor\": \"white\", \"zerolinewidth\": 2}}}, \"title\": {\"text\": \"validation_accuracy vs test_accuracy\"}, \"xaxis\": {\"title\": {\"text\": \"validation_accuracy\"}}, \"yaxis\": {\"title\": {\"text\": \"test_accuracy\"}}},                        {\"responsive\": true}                    ).then(function(){\n",
       "                            \n",
       "var gd = document.getElementById('8afc480e-88c7-4dcd-b6d7-41e5bd2b1611');\n",
       "var x = new MutationObserver(function (mutations, observer) {{\n",
       "        var display = window.getComputedStyle(gd).display;\n",
       "        if (!display || display === 'none') {{\n",
       "            console.log([gd, 'removed!']);\n",
       "            Plotly.purge(gd);\n",
       "            observer.disconnect();\n",
       "        }}\n",
       "}});\n",
       "\n",
       "// Listen for the removal of the full notebook cells\n",
       "var notebookContainer = gd.closest('#notebook-container');\n",
       "if (notebookContainer) {{\n",
       "    x.observe(notebookContainer, {childList: true});\n",
       "}}\n",
       "\n",
       "// Listen for the clearing of the current output cell\n",
       "var outputEl = gd.closest('.output');\n",
       "if (outputEl) {{\n",
       "    x.observe(outputEl, {childList: true});\n",
       "}}\n",
       "\n",
       "                        })                };                });            </script>        </div>"
      ]
     },
     "metadata": {},
     "output_type": "display_data"
    }
   ],
   "source": [
    "plot_metric_relationship (metric_1, metric_2, experiment_subset=[5,2], backend='plotly')"
   ]
  },
  {
   "cell_type": "code",
   "execution_count": null,
   "metadata": {},
   "outputs": [
    {
     "name": "stdout",
     "output_type": "stream",
     "text": [
      "Converted hpconfig.ipynb.\n",
      "Converted manager_factory.ipynb.\n",
      "Converted dummy_experiment_manager.ipynb.\n",
      "Converted example_experiment.ipynb.\n",
      "Converted example_experiment_manager.ipynb.\n",
      "Converted experiment_manager.ipynb.\n",
      "Converted index.ipynb.\n",
      "Converted change_manager.ipynb.\n",
      "Converted query.ipynb.\n",
      "Converted experiment_utils.ipynb.\n",
      "Converted organize_experiments.ipynb.\n",
      "Converted metric_correlation.ipynb.\n",
      "Converted plotly.ipynb.\n"
     ]
    }
   ],
   "source": [
    "#hide\n",
    "from nbdev.export import *\n",
    "notebook2script(recursive=True)"
   ]
  }
 ],
 "metadata": {
  "kernelspec": {
   "display_name": "Python (athena_gpu)",
   "language": "python",
   "name": "athena_gpu"
  }
 },
 "nbformat": 4,
 "nbformat_minor": 4
}
