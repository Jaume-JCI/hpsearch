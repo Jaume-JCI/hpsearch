{
 "cells": [
  {
   "cell_type": "code",
   "execution_count": null,
   "metadata": {},
   "outputs": [],
   "source": [
    "#hide\n",
    "#default_exp visualization.experiment_visualization\n",
    "from nbdev.showdoc import show_doc\n",
    "import warnings\n",
    "warnings.filterwarnings('ignore')"
   ]
  },
  {
   "cell_type": "markdown",
   "metadata": {},
   "source": [
    "# Visualization utils"
   ]
  },
  {
   "cell_type": "markdown",
   "metadata": {},
   "source": [
    "## Plot history"
   ]
  },
  {
   "cell_type": "code",
   "execution_count": null,
   "metadata": {},
   "outputs": [],
   "source": [
    "#export\n",
    "import numpy as np\n",
    "#import matplotlib.pyplot as plt\n",
    "import os\n",
    "import pickle\n",
    "import pandas as pd\n",
    "from IPython.display import display\n",
    "import visdom\n",
    "from hpsearch.config.hpconfig import get_path_results, get_path_experiments\n",
    "import hpsearch.utils.experiment_utils as ut\n",
    "from hpsearch.visualization import plot_utils \n",
    "import warnings\n",
    "warnings.filterwarnings('ignore')\n",
    "    \n",
    "              \n",
    "def plot_multiple_histories (experiments, run_number=0, root_path=None, root_folder=None, metrics='all', \n",
    "                             metrics_second=[], parameters = None, compare = True, \n",
    "                             ylegend=0.5, name_file='model_history.pk', \n",
    "                             op='max', include_parameters_in_legend=False,\n",
    "                             backend='visdom'):\n",
    "    \n",
    "    if root_path is None:\n",
    "        root_path = get_path_experiments(folder=root_folder)\n",
    "    \n",
    "    df = pd.read_csv('%s/experiments_data.csv' %root_path,index_col=0)\n",
    "    df2 = ut.get_experiment_parameters (df.loc[experiments], only_not_null=True)\n",
    "    parameters2, df2 = ut.get_parameters_unique(df2)\n",
    "\n",
    "    if compare or parameters is not None:        \n",
    "        if parameters is None:\n",
    "            parameters = parameters2 \n",
    "        df = df.loc[experiments,parameters]\n",
    "    \n",
    "    if type(metrics)==str and (metrics == 'all'):\n",
    "        path_results = get_path_results (experiments[0], run_number=run_number, root_path=root_path)\n",
    "        history = pickle.load(open('%s/%s' %(path_results, name_file),'rb'))\n",
    "        metrics = history.keys()\n",
    "    if type(metrics) == str:\n",
    "        metrics = [metrics]\n",
    "    if type(metrics_second) == str:\n",
    "        metrics_second = [metrics_second]\n",
    "    df = ut.replace_with_default_values (df)\n",
    "    df2 = ut.replace_with_default_values (df2)\n",
    "    df_show = df.copy()\n",
    "    \n",
    "    for (imetric,metric) in enumerate(metrics):\n",
    "        title = metric\n",
    "        traces = []\n",
    "        for experiment_id in experiments:\n",
    "            path_results = get_path_results (experiment_id, run_number=run_number, root_path=root_path)\n",
    "            if os.path.exists('%s/%s' %(path_results, name_file)):\n",
    "                history = pickle.load(open('%s/%s' %(path_results, name_file),'rb'))\n",
    "                values = [float(x) for x in history[metric]]\n",
    "                if compare and include_parameters_in_legend:\n",
    "                    label = '{}-{}'.format(experiment_id, list(dict(df.loc[experiment_id]).values()))\n",
    "                else:\n",
    "                    label = '{}'.format(experiment_id)\n",
    "                traces = plot_utils.add_trace (history[metric], style='A.-', label=label, backend=backend, traces=traces)\n",
    "                \n",
    "                if True:\n",
    "                    if op == 'min':\n",
    "                        imin = int(np.array(history[metric]).argmin())\n",
    "                    else:\n",
    "                        imin = int(np.array(history[metric]).argmax())\n",
    "                    vmin = float(history[metric][imin])\n",
    "                    traces = plot_utils.add_trace ([imin], [vmin], style='.', label='', backend=backend, \n",
    "                                                   marker={'color': 'red', 'symbol': 104, 'size': 10},\n",
    "                                                   traces=traces)\n",
    "                    \n",
    "                    title += ' [%d]: %.2f' %(experiment_id, vmin)\n",
    "                    df_show.loc[experiment_id, metric] = vmin\n",
    "                    df2.loc[experiment_id, metric] = vmin\n",
    "                if (imetric == 0):\n",
    "                    for metric_second in metrics_second:\n",
    "                        values = [float(x) for x in history[metric_second]]\n",
    "                        if compare and include_parameters_in_legend:\n",
    "                            label = '{}: {}-{}'.format(metric_second, experiment_id, list(dict(df.loc[experiment_id]).values()))\n",
    "                        else:\n",
    "                            label = '{}: {}'.format(metric_second, experiment_id)\n",
    "                        traces = plot_utils.add_trace (history[metric_second], style='A.-', label=label, backend=backend, traces=traces)\n",
    "                        \n",
    "                        if op == 'min':\n",
    "                            imin = int(np.array(history[metric_second]).argmin())\n",
    "                        else:\n",
    "                            imin = int(np.array(history[metric_second]).argmax())\n",
    "                        vmin = float(history[metric_second][imin])\n",
    "                        traces = plot_utils.add_trace ([imin], [vmin], style='.', label='', backend=backend, \n",
    "                                                   marker={'color': 'red', 'symbol': 104, 'size': 10},\n",
    "                                                   traces=traces)\n",
    "                        title += ' [%d]: %.2f' %(experiment_id, vmin)\n",
    "                        df_show.loc[experiment_id, metric_second] = vmin\n",
    "                        df2.loc[experiment_id, metric_second] = vmin\n",
    "\n",
    "        plot_utils.plot(title=title, xlabel='epoch', ylabel=metric, traces=traces, backend=backend)\n",
    "        if backend=='visdom':\n",
    "            vis = visdom.Visdom()\n",
    "            vis.text (df_show.to_html(justify='left', col_space=100), win= f'{metric}_parameters')\n",
    "        display(df2)\n"
   ]
  },
  {
   "cell_type": "code",
   "execution_count": null,
   "metadata": {},
   "outputs": [
    {
     "name": "stderr",
     "output_type": "stream",
     "text": [
      "experiment script: /mnt/athena/hpsearch/hpsearch/examples/dummy_experiment_manager.py, line: 170\n",
      "processing hyper-parameter 0 out of 9\n",
      "doing run 0 out of 5\n",
      "fixed rate, multiple epochs values\n",
      "running experiment 0\n",
      "run number: 0\n",
      "\n",
      "parameters:\n",
      "\tepochs=5,\n",
      "\tnoise=0.1,\n",
      "\toffset=0.1,\n",
      "\trate=0.03\n",
      "\n",
      "script: /mnt/athena/hpsearch/hpsearch/examples/dummy_experiment_manager.py, line number: 170\n",
      "time spent on this experiment: 0.0011146068572998047\n",
      "0 - validation_accuracy: 0.26437898169579377\n",
      "0 - test_accuracy: 0.35304522694943397\n",
      "finished experiment 0\n",
      "processing hyper-parameter 0 out of 9\n",
      "doing run 1 out of 5\n",
      "fixed rate, multiple epochs values\n",
      "running experiment 0\n",
      "run number: 1\n",
      "\n",
      "parameters:\n",
      "\tepochs=5,\n",
      "\tnoise=0.1,\n",
      "\toffset=0.1,\n",
      "\trate=0.03\n",
      "\n",
      "script: /mnt/athena/hpsearch/hpsearch/examples/dummy_experiment_manager.py, line number: 170\n",
      "time spent on this experiment: 0.0009634494781494141\n",
      "1 - validation_accuracy: 0.1392998029036163\n",
      "1 - test_accuracy: 0.3470026800613887\n",
      "finished experiment 0\n",
      "processing hyper-parameter 0 out of 9\n",
      "doing run 2 out of 5\n",
      "fixed rate, multiple epochs values\n",
      "running experiment 0\n",
      "run number: 2\n",
      "\n",
      "parameters:\n",
      "\tepochs=5,\n",
      "\tnoise=0.1,\n",
      "\toffset=0.1,\n",
      "\trate=0.03\n",
      "\n",
      "script: /mnt/athena/hpsearch/hpsearch/examples/dummy_experiment_manager.py, line number: 170\n",
      "time spent on this experiment: 0.000942230224609375\n",
      "2 - validation_accuracy: 0.20901120068218934\n",
      "2 - test_accuracy: 0.2726260510125984\n",
      "finished experiment 0\n",
      "processing hyper-parameter 0 out of 9\n",
      "doing run 3 out of 5\n",
      "fixed rate, multiple epochs values\n",
      "running experiment 0\n",
      "run number: 3\n",
      "\n",
      "parameters:\n",
      "\tepochs=5,\n",
      "\tnoise=0.1,\n",
      "\toffset=0.1,\n",
      "\trate=0.03\n",
      "\n",
      "script: /mnt/athena/hpsearch/hpsearch/examples/dummy_experiment_manager.py, line number: 170\n",
      "time spent on this experiment: 0.0009734630584716797\n",
      "3 - validation_accuracy: 0.2672739068274302\n",
      "3 - test_accuracy: 0.2830582715019198\n"
     ]
    },
    {
     "name": "stdout",
     "output_type": "stream",
     "text": [
      "current path: /mnt/athena/hpsearch/nbs/visualization\n",
      "current path: /mnt/athena/hpsearch/nbs/visualization\n",
      "current path: /mnt/athena/hpsearch/nbs/visualization\n",
      "fitting model with 5 epochs\n",
      "epoch 0: accuracy: 0.13\n",
      "epoch 1: accuracy: 0.16\n",
      "epoch 2: accuracy: 0.19\n",
      "epoch 3: accuracy: 0.22\n",
      "epoch 4: accuracy: 0.25\n",
      "current path: /mnt/athena/hpsearch/nbs/visualization\n",
      "fitting model with 5 epochs\n",
      "epoch 0: accuracy: 0.13\n",
      "epoch 1: accuracy: 0.16\n",
      "epoch 2: accuracy: 0.19\n",
      "epoch 3: accuracy: 0.22\n",
      "epoch 4: accuracy: 0.25\n",
      "current path: /mnt/athena/hpsearch/nbs/visualization\n",
      "fitting model with 5 epochs\n",
      "epoch 0: accuracy: 0.13\n",
      "epoch 1: accuracy: 0.16\n",
      "epoch 2: accuracy: 0.19\n",
      "epoch 3: accuracy: 0.22\n",
      "epoch 4: accuracy: 0.25\n",
      "current path: /mnt/athena/hpsearch/nbs/visualization\n",
      "fitting model with 5 epochs\n",
      "epoch 0: accuracy: 0.13\n",
      "epoch 1: accuracy: 0.16\n",
      "epoch 2: accuracy: 0.19\n",
      "epoch 3: accuracy: 0.22\n",
      "epoch 4: accuracy: 0.25\n"
     ]
    },
    {
     "name": "stderr",
     "output_type": "stream",
     "text": [
      "finished experiment 0\n",
      "processing hyper-parameter 0 out of 9\n",
      "doing run 4 out of 5\n",
      "fixed rate, multiple epochs values\n",
      "running experiment 0\n",
      "run number: 4\n",
      "\n",
      "parameters:\n",
      "\tepochs=5,\n",
      "\tnoise=0.1,\n",
      "\toffset=0.1,\n",
      "\trate=0.03\n",
      "\n",
      "script: /mnt/athena/hpsearch/hpsearch/examples/dummy_experiment_manager.py, line number: 170\n",
      "time spent on this experiment: 0.0009491443634033203\n",
      "4 - validation_accuracy: 0.16307826288535615\n",
      "4 - test_accuracy: 0.40808294024029795\n",
      "finished experiment 0\n",
      "processing hyper-parameter 1 out of 9\n",
      "doing run 0 out of 5\n",
      "fixed rate, multiple epochs values\n",
      "running experiment 1\n",
      "run number: 0\n",
      "\n",
      "parameters:\n",
      "\tepochs=5,\n",
      "\tnoise=0.1,\n",
      "\toffset=0.3,\n",
      "\trate=0.03\n",
      "\n",
      "script: /mnt/athena/hpsearch/hpsearch/examples/dummy_experiment_manager.py, line number: 170\n",
      "time spent on this experiment: 0.0009326934814453125\n",
      "0 - validation_accuracy: 0.43530591477787334\n",
      "0 - test_accuracy: 0.5629307593930236\n",
      "finished experiment 1\n",
      "processing hyper-parameter 1 out of 9\n",
      "doing run 1 out of 5\n",
      "fixed rate, multiple epochs values\n",
      "running experiment 1\n",
      "run number: 1\n",
      "\n",
      "parameters:\n",
      "\tepochs=5,\n",
      "\tnoise=0.1,\n",
      "\toffset=0.3,\n",
      "\trate=0.03\n",
      "\n",
      "script: /mnt/athena/hpsearch/hpsearch/examples/dummy_experiment_manager.py, line number: 170\n",
      "time spent on this experiment: 0.0009922981262207031\n",
      "1 - validation_accuracy: 0.44357759508517774\n",
      "1 - test_accuracy: 0.5881674638899256\n",
      "finished experiment 1\n",
      "processing hyper-parameter 1 out of 9\n",
      "doing run 2 out of 5\n",
      "fixed rate, multiple epochs values\n",
      "running experiment 1\n",
      "run number: 2\n",
      "\n",
      "parameters:\n",
      "\tepochs=5,\n",
      "\tnoise=0.1,\n",
      "\toffset=0.3,\n",
      "\trate=0.03\n",
      "\n",
      "script: /mnt/athena/hpsearch/hpsearch/examples/dummy_experiment_manager.py, line number: 170\n",
      "time spent on this experiment: 0.0009579658508300781\n",
      "2 - validation_accuracy: 0.3871798833225532\n",
      "2 - test_accuracy: 0.4861892305131268\n"
     ]
    },
    {
     "name": "stdout",
     "output_type": "stream",
     "text": [
      "current path: /mnt/athena/hpsearch/nbs/visualization\n",
      "fitting model with 5 epochs\n",
      "epoch 0: accuracy: 0.13\n",
      "epoch 1: accuracy: 0.16\n",
      "epoch 2: accuracy: 0.19\n",
      "epoch 3: accuracy: 0.22\n",
      "epoch 4: accuracy: 0.25\n",
      "current path: /mnt/athena/hpsearch/nbs/visualization\n",
      "fitting model with 5 epochs\n",
      "epoch 0: accuracy: 0.32999999999999996\n",
      "epoch 1: accuracy: 0.36\n",
      "epoch 2: accuracy: 0.39\n",
      "epoch 3: accuracy: 0.42000000000000004\n",
      "epoch 4: accuracy: 0.45000000000000007\n",
      "current path: /mnt/athena/hpsearch/nbs/visualization\n",
      "fitting model with 5 epochs\n",
      "epoch 0: accuracy: 0.32999999999999996\n",
      "epoch 1: accuracy: 0.36\n",
      "epoch 2: accuracy: 0.39\n",
      "epoch 3: accuracy: 0.42000000000000004\n",
      "epoch 4: accuracy: 0.45000000000000007\n",
      "current path: /mnt/athena/hpsearch/nbs/visualization\n",
      "fitting model with 5 epochs\n",
      "epoch 0: accuracy: 0.32999999999999996\n",
      "epoch 1: accuracy: 0.36\n",
      "epoch 2: accuracy: 0.39\n",
      "epoch 3: accuracy: 0.42000000000000004\n",
      "epoch 4: accuracy: 0.45000000000000007\n"
     ]
    },
    {
     "name": "stderr",
     "output_type": "stream",
     "text": [
      "finished experiment 1\n",
      "processing hyper-parameter 1 out of 9\n",
      "doing run 3 out of 5\n",
      "fixed rate, multiple epochs values\n",
      "running experiment 1\n",
      "run number: 3\n",
      "\n",
      "parameters:\n",
      "\tepochs=5,\n",
      "\tnoise=0.1,\n",
      "\toffset=0.3,\n",
      "\trate=0.03\n",
      "\n",
      "script: /mnt/athena/hpsearch/hpsearch/examples/dummy_experiment_manager.py, line number: 170\n",
      "time spent on this experiment: 0.0011415481567382812\n",
      "3 - validation_accuracy: 0.46309654166193814\n",
      "3 - test_accuracy: 0.37285016748809985\n",
      "finished experiment 1\n",
      "processing hyper-parameter 1 out of 9\n",
      "doing run 4 out of 5\n",
      "fixed rate, multiple epochs values\n",
      "running experiment 1\n",
      "run number: 4\n",
      "\n",
      "parameters:\n",
      "\tepochs=5,\n",
      "\tnoise=0.1,\n",
      "\toffset=0.3,\n",
      "\trate=0.03\n",
      "\n",
      "script: /mnt/athena/hpsearch/hpsearch/examples/dummy_experiment_manager.py, line number: 170\n",
      "time spent on this experiment: 0.0008649826049804688\n",
      "4 - validation_accuracy: 0.5952470900687068\n",
      "4 - test_accuracy: 0.4524649573376984\n",
      "finished experiment 1\n",
      "processing hyper-parameter 2 out of 9\n",
      "doing run 0 out of 5\n",
      "fixed rate, multiple epochs values\n",
      "running experiment 2\n",
      "run number: 0\n",
      "\n",
      "parameters:\n",
      "\tepochs=5,\n",
      "\tnoise=0.1,\n",
      "\toffset=0.6,\n",
      "\trate=0.03\n",
      "\n",
      "script: /mnt/athena/hpsearch/hpsearch/examples/dummy_experiment_manager.py, line number: 170\n",
      "time spent on this experiment: 0.0009245872497558594\n",
      "0 - validation_accuracy: 0.5908630033350294\n",
      "0 - test_accuracy: 0.9382762506102105\n",
      "finished experiment 2\n",
      "processing hyper-parameter 2 out of 9\n",
      "doing run 1 out of 5\n",
      "fixed rate, multiple epochs values\n",
      "running experiment 2\n",
      "run number: 1\n",
      "\n",
      "parameters:\n",
      "\tepochs=5,\n",
      "\tnoise=0.1,\n",
      "\toffset=0.6,\n",
      "\trate=0.03\n",
      "\n",
      "script: /mnt/athena/hpsearch/hpsearch/examples/dummy_experiment_manager.py, line number: 170\n",
      "time spent on this experiment: 0.001007080078125\n",
      "1 - validation_accuracy: 0.7309380797625914\n",
      "1 - test_accuracy: 0.9784429969540857\n",
      "finished experiment 2\n",
      "processing hyper-parameter 2 out of 9\n",
      "doing run 2 out of 5\n",
      "fixed rate, multiple epochs values\n"
     ]
    },
    {
     "name": "stdout",
     "output_type": "stream",
     "text": [
      "current path: /mnt/athena/hpsearch/nbs/visualization\n",
      "fitting model with 5 epochs\n",
      "epoch 0: accuracy: 0.32999999999999996\n",
      "epoch 1: accuracy: 0.36\n",
      "epoch 2: accuracy: 0.39\n",
      "epoch 3: accuracy: 0.42000000000000004\n",
      "epoch 4: accuracy: 0.45000000000000007\n",
      "current path: /mnt/athena/hpsearch/nbs/visualization\n",
      "fitting model with 5 epochs\n",
      "epoch 0: accuracy: 0.32999999999999996\n",
      "epoch 1: accuracy: 0.36\n",
      "epoch 2: accuracy: 0.39\n",
      "epoch 3: accuracy: 0.42000000000000004\n",
      "epoch 4: accuracy: 0.45000000000000007\n",
      "current path: /mnt/athena/hpsearch/nbs/visualization\n",
      "fitting model with 5 epochs\n",
      "epoch 0: accuracy: 0.63\n",
      "epoch 1: accuracy: 0.66\n",
      "epoch 2: accuracy: 0.6900000000000001\n",
      "epoch 3: accuracy: 0.7200000000000001\n",
      "epoch 4: accuracy: 0.7500000000000001\n",
      "current path: /mnt/athena/hpsearch/nbs/visualization\n",
      "fitting model with 5 epochs\n",
      "epoch 0: accuracy: 0.63\n",
      "epoch 1: accuracy: 0.66\n",
      "epoch 2: accuracy: 0.6900000000000001\n",
      "epoch 3: accuracy: 0.7200000000000001\n",
      "epoch 4: accuracy: 0.7500000000000001\n"
     ]
    },
    {
     "name": "stderr",
     "output_type": "stream",
     "text": [
      "running experiment 2\n",
      "run number: 2\n",
      "\n",
      "parameters:\n",
      "\tepochs=5,\n",
      "\tnoise=0.1,\n",
      "\toffset=0.6,\n",
      "\trate=0.03\n",
      "\n",
      "script: /mnt/athena/hpsearch/hpsearch/examples/dummy_experiment_manager.py, line number: 170\n",
      "time spent on this experiment: 0.001256704330444336\n",
      "2 - validation_accuracy: 0.7829024889352322\n",
      "2 - test_accuracy: 0.8303805721999866\n",
      "finished experiment 2\n",
      "processing hyper-parameter 2 out of 9\n",
      "doing run 3 out of 5\n",
      "fixed rate, multiple epochs values\n",
      "running experiment 2\n",
      "run number: 3\n",
      "\n",
      "parameters:\n",
      "\tepochs=5,\n",
      "\tnoise=0.1,\n",
      "\toffset=0.6,\n",
      "\trate=0.03\n",
      "\n",
      "script: /mnt/athena/hpsearch/hpsearch/examples/dummy_experiment_manager.py, line number: 170\n",
      "time spent on this experiment: 0.0012331008911132812\n",
      "3 - validation_accuracy: 0.6939280819627526\n",
      "3 - test_accuracy: 0.9545875888418626\n",
      "finished experiment 2\n",
      "processing hyper-parameter 2 out of 9\n",
      "doing run 4 out of 5\n",
      "fixed rate, multiple epochs values\n",
      "running experiment 2\n",
      "run number: 4\n",
      "\n",
      "parameters:\n",
      "\tepochs=5,\n",
      "\tnoise=0.1,\n",
      "\toffset=0.6,\n",
      "\trate=0.03\n",
      "\n",
      "script: /mnt/athena/hpsearch/hpsearch/examples/dummy_experiment_manager.py, line number: 170\n",
      "time spent on this experiment: 0.0014426708221435547\n",
      "4 - validation_accuracy: 0.7769514479407205\n",
      "4 - test_accuracy: 0.758288852810324\n",
      "finished experiment 2\n",
      "processing hyper-parameter 3 out of 9\n",
      "doing run 0 out of 5\n",
      "fixed rate, multiple epochs values\n",
      "running experiment 3\n",
      "run number: 0\n",
      "\n",
      "parameters:\n",
      "\tepochs=15,\n",
      "\tnoise=0.1,\n",
      "\toffset=0.1,\n",
      "\trate=0.03\n",
      "\n"
     ]
    },
    {
     "name": "stdout",
     "output_type": "stream",
     "text": [
      "current path: /mnt/athena/hpsearch/nbs/visualization\n",
      "fitting model with 5 epochs\n",
      "epoch 0: accuracy: 0.63\n",
      "epoch 1: accuracy: 0.66\n",
      "epoch 2: accuracy: 0.6900000000000001\n",
      "epoch 3: accuracy: 0.7200000000000001\n",
      "epoch 4: accuracy: 0.7500000000000001\n",
      "current path: /mnt/athena/hpsearch/nbs/visualization\n",
      "fitting model with 5 epochs\n",
      "epoch 0: accuracy: 0.63\n",
      "epoch 1: accuracy: 0.66\n",
      "epoch 2: accuracy: 0.6900000000000001\n",
      "epoch 3: accuracy: 0.7200000000000001\n",
      "epoch 4: accuracy: 0.7500000000000001\n",
      "current path: /mnt/athena/hpsearch/nbs/visualization\n",
      "fitting model with 5 epochs\n",
      "epoch 0: accuracy: 0.63\n",
      "epoch 1: accuracy: 0.66\n",
      "epoch 2: accuracy: 0.6900000000000001\n",
      "epoch 3: accuracy: 0.7200000000000001\n",
      "epoch 4: accuracy: 0.7500000000000001\n",
      "current path: /mnt/athena/hpsearch/nbs/visualization\n"
     ]
    },
    {
     "name": "stderr",
     "output_type": "stream",
     "text": [
      "script: /mnt/athena/hpsearch/hpsearch/examples/dummy_experiment_manager.py, line number: 170\n",
      "time spent on this experiment: 0.0019600391387939453\n",
      "0 - validation_accuracy: 0.45286977284745117\n",
      "0 - test_accuracy: 0.48066476408159103\n",
      "finished experiment 3\n",
      "processing hyper-parameter 3 out of 9\n",
      "doing run 1 out of 5\n",
      "fixed rate, multiple epochs values\n",
      "running experiment 3\n",
      "run number: 1\n",
      "\n",
      "parameters:\n",
      "\tepochs=15,\n",
      "\tnoise=0.1,\n",
      "\toffset=0.1,\n",
      "\trate=0.03\n",
      "\n",
      "script: /mnt/athena/hpsearch/hpsearch/examples/dummy_experiment_manager.py, line number: 170\n",
      "time spent on this experiment: 0.0018999576568603516\n",
      "1 - validation_accuracy: 0.500507517629903\n",
      "1 - test_accuracy: 0.3170219425294045\n",
      "finished experiment 3\n",
      "processing hyper-parameter 3 out of 9\n",
      "doing run 2 out of 5\n",
      "fixed rate, multiple epochs values\n",
      "running experiment 3\n",
      "run number: 2\n",
      "\n",
      "parameters:\n",
      "\tepochs=15,\n",
      "\tnoise=0.1,\n",
      "\toffset=0.1,\n",
      "\trate=0.03\n",
      "\n",
      "script: /mnt/athena/hpsearch/hpsearch/examples/dummy_experiment_manager.py, line number: 170\n",
      "time spent on this experiment: 0.002652406692504883\n",
      "2 - validation_accuracy: 0.6999745606287993\n",
      "2 - test_accuracy: 0.4385607256735673\n",
      "finished experiment 3\n",
      "processing hyper-parameter 3 out of 9\n",
      "doing run 3 out of 5\n",
      "fixed rate, multiple epochs values\n",
      "running experiment 3\n",
      "run number: 3\n",
      "\n",
      "parameters:\n",
      "\tepochs=15,\n",
      "\tnoise=0.1,\n",
      "\toffset=0.1,\n",
      "\trate=0.03\n",
      "\n",
      "script: /mnt/athena/hpsearch/hpsearch/examples/dummy_experiment_manager.py, line number: 170\n",
      "time spent on this experiment: 0.0019099712371826172\n",
      "3 - validation_accuracy: 0.7653333763499254\n",
      "3 - test_accuracy: 0.3113634738469055\n",
      "finished experiment 3\n",
      "processing hyper-parameter 3 out of 9\n",
      "doing run 4 out of 5\n",
      "fixed rate, multiple epochs values\n"
     ]
    },
    {
     "name": "stdout",
     "output_type": "stream",
     "text": [
      "fitting model with 15 epochs\n",
      "epoch 0: accuracy: 0.13\n",
      "epoch 1: accuracy: 0.16\n",
      "epoch 2: accuracy: 0.19\n",
      "epoch 3: accuracy: 0.22\n",
      "epoch 4: accuracy: 0.25\n",
      "epoch 5: accuracy: 0.28\n",
      "epoch 6: accuracy: 0.31000000000000005\n",
      "epoch 7: accuracy: 0.3400000000000001\n",
      "epoch 8: accuracy: 0.3700000000000001\n",
      "epoch 9: accuracy: 0.40000000000000013\n",
      "epoch 10: accuracy: 0.43000000000000016\n",
      "epoch 11: accuracy: 0.4600000000000002\n",
      "epoch 12: accuracy: 0.4900000000000002\n",
      "epoch 13: accuracy: 0.5200000000000002\n",
      "epoch 14: accuracy: 0.5500000000000003\n",
      "current path: /mnt/athena/hpsearch/nbs/visualization\n",
      "fitting model with 15 epochs\n",
      "epoch 0: accuracy: 0.13\n",
      "epoch 1: accuracy: 0.16\n",
      "epoch 2: accuracy: 0.19\n",
      "epoch 3: accuracy: 0.22\n",
      "epoch 4: accuracy: 0.25\n",
      "epoch 5: accuracy: 0.28\n",
      "epoch 6: accuracy: 0.31000000000000005\n",
      "epoch 7: accuracy: 0.3400000000000001\n",
      "epoch 8: accuracy: 0.3700000000000001\n",
      "epoch 9: accuracy: 0.40000000000000013\n",
      "epoch 10: accuracy: 0.43000000000000016\n",
      "epoch 11: accuracy: 0.4600000000000002\n",
      "epoch 12: accuracy: 0.4900000000000002\n",
      "epoch 13: accuracy: 0.5200000000000002\n",
      "epoch 14: accuracy: 0.5500000000000003\n",
      "current path: /mnt/athena/hpsearch/nbs/visualization\n",
      "fitting model with 15 epochs\n",
      "epoch 0: accuracy: 0.13\n",
      "epoch 1: accuracy: 0.16\n",
      "epoch 2: accuracy: 0.19\n",
      "epoch 3: accuracy: 0.22\n",
      "epoch 4: accuracy: 0.25\n",
      "epoch 5: accuracy: 0.28\n",
      "epoch 6: accuracy: 0.31000000000000005\n",
      "epoch 7: accuracy: 0.3400000000000001\n",
      "epoch 8: accuracy: 0.3700000000000001\n",
      "epoch 9: accuracy: 0.40000000000000013\n",
      "epoch 10: accuracy: 0.43000000000000016\n",
      "epoch 11: accuracy: 0.4600000000000002\n",
      "epoch 12: accuracy: 0.4900000000000002\n",
      "epoch 13: accuracy: 0.5200000000000002\n",
      "epoch 14: accuracy: 0.5500000000000003\n",
      "current path: /mnt/athena/hpsearch/nbs/visualization\n",
      "fitting model with 15 epochs\n",
      "epoch 0: accuracy: 0.13\n",
      "epoch 1: accuracy: 0.16\n",
      "epoch 2: accuracy: 0.19\n",
      "epoch 3: accuracy: 0.22\n",
      "epoch 4: accuracy: 0.25\n",
      "epoch 5: accuracy: 0.28\n",
      "epoch 6: accuracy: 0.31000000000000005\n",
      "epoch 7: accuracy: 0.3400000000000001\n",
      "epoch 8: accuracy: 0.3700000000000001\n",
      "epoch 9: accuracy: 0.40000000000000013\n",
      "epoch 10: accuracy: 0.43000000000000016\n",
      "epoch 11: accuracy: 0.4600000000000002\n",
      "epoch 12: accuracy: 0.4900000000000002\n",
      "epoch 13: accuracy: 0.5200000000000002\n",
      "epoch 14: accuracy: 0.5500000000000003\n",
      "current path: /mnt/athena/hpsearch/nbs/visualization\n"
     ]
    },
    {
     "name": "stderr",
     "output_type": "stream",
     "text": [
      "running experiment 3\n",
      "run number: 4\n",
      "\n",
      "parameters:\n",
      "\tepochs=15,\n",
      "\tnoise=0.1,\n",
      "\toffset=0.1,\n",
      "\trate=0.03\n",
      "\n",
      "script: /mnt/athena/hpsearch/hpsearch/examples/dummy_experiment_manager.py, line number: 170\n",
      "time spent on this experiment: 0.002001047134399414\n",
      "4 - validation_accuracy: 0.5416096554062103\n",
      "4 - test_accuracy: 0.35394806290013764\n",
      "finished experiment 3\n",
      "processing hyper-parameter 4 out of 9\n",
      "doing run 0 out of 5\n",
      "fixed rate, multiple epochs values\n",
      "running experiment 4\n",
      "run number: 0\n",
      "\n",
      "parameters:\n",
      "\tepochs=15,\n",
      "\tnoise=0.1,\n",
      "\toffset=0.3,\n",
      "\trate=0.03\n",
      "\n",
      "script: /mnt/athena/hpsearch/hpsearch/examples/dummy_experiment_manager.py, line number: 170\n",
      "time spent on this experiment: 0.002063274383544922\n",
      "0 - validation_accuracy: 0.6601760467306448\n",
      "0 - test_accuracy: 0.6437296838851856\n",
      "finished experiment 4\n",
      "processing hyper-parameter 4 out of 9\n",
      "doing run 1 out of 5\n",
      "fixed rate, multiple epochs values\n",
      "running experiment 4\n",
      "run number: 1\n",
      "\n",
      "parameters:\n",
      "\tepochs=15,\n",
      "\tnoise=0.1,\n",
      "\toffset=0.3,\n",
      "\trate=0.03\n",
      "\n",
      "script: /mnt/athena/hpsearch/hpsearch/examples/dummy_experiment_manager.py, line number: 170\n",
      "time spent on this experiment: 0.001966238021850586\n",
      "1 - validation_accuracy: 0.6607665179566691\n",
      "1 - test_accuracy: 0.6464441403544193\n",
      "finished experiment 4\n",
      "processing hyper-parameter 4 out of 9\n",
      "doing run 2 out of 5\n",
      "fixed rate, multiple epochs values\n",
      "running experiment 4\n",
      "run number: 2\n",
      "\n",
      "parameters:\n",
      "\tepochs=15,\n",
      "\tnoise=0.1,\n",
      "\toffset=0.3,\n",
      "\trate=0.03\n",
      "\n",
      "script: /mnt/athena/hpsearch/hpsearch/examples/dummy_experiment_manager.py, line number: 170\n",
      "time spent on this experiment: 0.0021827220916748047\n",
      "2 - validation_accuracy: 0.6578336004940939\n",
      "2 - test_accuracy: 0.7210669023346997\n"
     ]
    },
    {
     "name": "stdout",
     "output_type": "stream",
     "text": [
      "fitting model with 15 epochs\n",
      "epoch 0: accuracy: 0.13\n",
      "epoch 1: accuracy: 0.16\n",
      "epoch 2: accuracy: 0.19\n",
      "epoch 3: accuracy: 0.22\n",
      "epoch 4: accuracy: 0.25\n",
      "epoch 5: accuracy: 0.28\n",
      "epoch 6: accuracy: 0.31000000000000005\n",
      "epoch 7: accuracy: 0.3400000000000001\n",
      "epoch 8: accuracy: 0.3700000000000001\n",
      "epoch 9: accuracy: 0.40000000000000013\n",
      "epoch 10: accuracy: 0.43000000000000016\n",
      "epoch 11: accuracy: 0.4600000000000002\n",
      "epoch 12: accuracy: 0.4900000000000002\n",
      "epoch 13: accuracy: 0.5200000000000002\n",
      "epoch 14: accuracy: 0.5500000000000003\n",
      "current path: /mnt/athena/hpsearch/nbs/visualization\n",
      "fitting model with 15 epochs\n",
      "epoch 0: accuracy: 0.32999999999999996\n",
      "epoch 1: accuracy: 0.36\n",
      "epoch 2: accuracy: 0.39\n",
      "epoch 3: accuracy: 0.42000000000000004\n",
      "epoch 4: accuracy: 0.45000000000000007\n",
      "epoch 5: accuracy: 0.4800000000000001\n",
      "epoch 6: accuracy: 0.5100000000000001\n",
      "epoch 7: accuracy: 0.5400000000000001\n",
      "epoch 8: accuracy: 0.5700000000000002\n",
      "epoch 9: accuracy: 0.6000000000000002\n",
      "epoch 10: accuracy: 0.6300000000000002\n",
      "epoch 11: accuracy: 0.6600000000000003\n",
      "epoch 12: accuracy: 0.6900000000000003\n",
      "epoch 13: accuracy: 0.7200000000000003\n",
      "epoch 14: accuracy: 0.7500000000000003\n",
      "current path: /mnt/athena/hpsearch/nbs/visualization\n",
      "fitting model with 15 epochs\n",
      "epoch 0: accuracy: 0.32999999999999996\n",
      "epoch 1: accuracy: 0.36\n",
      "epoch 2: accuracy: 0.39\n",
      "epoch 3: accuracy: 0.42000000000000004\n",
      "epoch 4: accuracy: 0.45000000000000007\n",
      "epoch 5: accuracy: 0.4800000000000001\n",
      "epoch 6: accuracy: 0.5100000000000001\n",
      "epoch 7: accuracy: 0.5400000000000001\n",
      "epoch 8: accuracy: 0.5700000000000002\n",
      "epoch 9: accuracy: 0.6000000000000002\n",
      "epoch 10: accuracy: 0.6300000000000002\n",
      "epoch 11: accuracy: 0.6600000000000003\n",
      "epoch 12: accuracy: 0.6900000000000003\n",
      "epoch 13: accuracy: 0.7200000000000003\n",
      "epoch 14: accuracy: 0.7500000000000003\n",
      "current path: /mnt/athena/hpsearch/nbs/visualization\n",
      "fitting model with 15 epochs\n",
      "epoch 0: accuracy: 0.32999999999999996\n",
      "epoch 1: accuracy: 0.36\n",
      "epoch 2: accuracy: 0.39\n",
      "epoch 3: accuracy: 0.42000000000000004\n",
      "epoch 4: accuracy: 0.45000000000000007\n",
      "epoch 5: accuracy: 0.4800000000000001\n",
      "epoch 6: accuracy: 0.5100000000000001\n",
      "epoch 7: accuracy: 0.5400000000000001\n",
      "epoch 8: accuracy: 0.5700000000000002\n",
      "epoch 9: accuracy: 0.6000000000000002\n",
      "epoch 10: accuracy: 0.6300000000000002\n",
      "epoch 11: accuracy: 0.6600000000000003\n",
      "epoch 12: accuracy: 0.6900000000000003\n",
      "epoch 13: accuracy: 0.7200000000000003\n",
      "epoch 14: accuracy: 0.7500000000000003\n"
     ]
    },
    {
     "name": "stderr",
     "output_type": "stream",
     "text": [
      "finished experiment 4\n",
      "processing hyper-parameter 4 out of 9\n",
      "doing run 3 out of 5\n",
      "fixed rate, multiple epochs values\n",
      "running experiment 4\n",
      "run number: 3\n",
      "\n",
      "parameters:\n",
      "\tepochs=15,\n",
      "\tnoise=0.1,\n",
      "\toffset=0.3,\n",
      "\trate=0.03\n",
      "\n",
      "script: /mnt/athena/hpsearch/hpsearch/examples/dummy_experiment_manager.py, line number: 170\n",
      "time spent on this experiment: 0.0018892288208007812\n",
      "3 - validation_accuracy: 0.7858307275840313\n",
      "3 - test_accuracy: 0.7762018425593518\n",
      "finished experiment 4\n",
      "processing hyper-parameter 4 out of 9\n",
      "doing run 4 out of 5\n",
      "fixed rate, multiple epochs values\n",
      "running experiment 4\n",
      "run number: 4\n",
      "\n",
      "parameters:\n",
      "\tepochs=15,\n",
      "\tnoise=0.1,\n",
      "\toffset=0.3,\n",
      "\trate=0.03\n",
      "\n",
      "script: /mnt/athena/hpsearch/hpsearch/examples/dummy_experiment_manager.py, line number: 170\n",
      "time spent on this experiment: 0.0019278526306152344\n",
      "4 - validation_accuracy: 0.5360170298504554\n",
      "4 - test_accuracy: 0.56273105405402\n",
      "finished experiment 4\n",
      "processing hyper-parameter 5 out of 9\n",
      "doing run 0 out of 5\n",
      "fixed rate, multiple epochs values\n",
      "running experiment 5\n",
      "run number: 0\n",
      "\n",
      "parameters:\n",
      "\tepochs=15,\n",
      "\tnoise=0.1,\n",
      "\toffset=0.6,\n",
      "\trate=0.03\n",
      "\n",
      "script: /mnt/athena/hpsearch/hpsearch/examples/dummy_experiment_manager.py, line number: 170\n",
      "time spent on this experiment: 0.0019025802612304688\n",
      "0 - validation_accuracy: 1.0\n",
      "0 - test_accuracy: 0.7766984714121086\n",
      "finished experiment 5\n",
      "processing hyper-parameter 5 out of 9\n",
      "doing run 1 out of 5\n",
      "fixed rate, multiple epochs values\n"
     ]
    },
    {
     "name": "stdout",
     "output_type": "stream",
     "text": [
      "current path: /mnt/athena/hpsearch/nbs/visualization\n",
      "fitting model with 15 epochs\n",
      "epoch 0: accuracy: 0.32999999999999996\n",
      "epoch 1: accuracy: 0.36\n",
      "epoch 2: accuracy: 0.39\n",
      "epoch 3: accuracy: 0.42000000000000004\n",
      "epoch 4: accuracy: 0.45000000000000007\n",
      "epoch 5: accuracy: 0.4800000000000001\n",
      "epoch 6: accuracy: 0.5100000000000001\n",
      "epoch 7: accuracy: 0.5400000000000001\n",
      "epoch 8: accuracy: 0.5700000000000002\n",
      "epoch 9: accuracy: 0.6000000000000002\n",
      "epoch 10: accuracy: 0.6300000000000002\n",
      "epoch 11: accuracy: 0.6600000000000003\n",
      "epoch 12: accuracy: 0.6900000000000003\n",
      "epoch 13: accuracy: 0.7200000000000003\n",
      "epoch 14: accuracy: 0.7500000000000003\n",
      "current path: /mnt/athena/hpsearch/nbs/visualization\n",
      "fitting model with 15 epochs\n",
      "epoch 0: accuracy: 0.32999999999999996\n",
      "epoch 1: accuracy: 0.36\n",
      "epoch 2: accuracy: 0.39\n",
      "epoch 3: accuracy: 0.42000000000000004\n",
      "epoch 4: accuracy: 0.45000000000000007\n",
      "epoch 5: accuracy: 0.4800000000000001\n",
      "epoch 6: accuracy: 0.5100000000000001\n",
      "epoch 7: accuracy: 0.5400000000000001\n",
      "epoch 8: accuracy: 0.5700000000000002\n",
      "epoch 9: accuracy: 0.6000000000000002\n",
      "epoch 10: accuracy: 0.6300000000000002\n",
      "epoch 11: accuracy: 0.6600000000000003\n",
      "epoch 12: accuracy: 0.6900000000000003\n",
      "epoch 13: accuracy: 0.7200000000000003\n",
      "epoch 14: accuracy: 0.7500000000000003\n",
      "current path: /mnt/athena/hpsearch/nbs/visualization\n",
      "fitting model with 15 epochs\n",
      "epoch 0: accuracy: 0.63\n",
      "epoch 1: accuracy: 0.66\n",
      "epoch 2: accuracy: 0.6900000000000001\n",
      "epoch 3: accuracy: 0.7200000000000001\n",
      "epoch 4: accuracy: 0.7500000000000001\n",
      "epoch 5: accuracy: 0.7800000000000001\n",
      "epoch 6: accuracy: 0.8100000000000002\n",
      "epoch 7: accuracy: 0.8400000000000002\n",
      "epoch 8: accuracy: 0.8700000000000002\n",
      "epoch 9: accuracy: 0.9000000000000002\n",
      "epoch 10: accuracy: 0.9300000000000003\n",
      "epoch 11: accuracy: 0.9600000000000003\n",
      "epoch 12: accuracy: 0.9900000000000003\n",
      "epoch 13: accuracy: 1.0200000000000002\n",
      "epoch 14: accuracy: 1.0500000000000003\n",
      "current path: /mnt/athena/hpsearch/nbs/visualization\n"
     ]
    },
    {
     "name": "stderr",
     "output_type": "stream",
     "text": [
      "running experiment 5\n",
      "run number: 1\n",
      "\n",
      "parameters:\n",
      "\tepochs=15,\n",
      "\tnoise=0.1,\n",
      "\toffset=0.6,\n",
      "\trate=0.03\n",
      "\n",
      "script: /mnt/athena/hpsearch/hpsearch/examples/dummy_experiment_manager.py, line number: 170\n",
      "time spent on this experiment: 0.0019989013671875\n",
      "1 - validation_accuracy: 1.0\n",
      "1 - test_accuracy: 0.9339351947330581\n",
      "finished experiment 5\n",
      "processing hyper-parameter 5 out of 9\n",
      "doing run 2 out of 5\n",
      "fixed rate, multiple epochs values\n",
      "running experiment 5\n",
      "run number: 2\n",
      "\n",
      "parameters:\n",
      "\tepochs=15,\n",
      "\tnoise=0.1,\n",
      "\toffset=0.6,\n",
      "\trate=0.03\n",
      "\n",
      "script: /mnt/athena/hpsearch/hpsearch/examples/dummy_experiment_manager.py, line number: 170\n",
      "time spent on this experiment: 0.002192258834838867\n",
      "2 - validation_accuracy: 1.0\n",
      "2 - test_accuracy: 1.0\n",
      "finished experiment 5\n",
      "processing hyper-parameter 5 out of 9\n",
      "doing run 3 out of 5\n",
      "fixed rate, multiple epochs values\n",
      "running experiment 5\n",
      "run number: 3\n",
      "\n",
      "parameters:\n",
      "\tepochs=15,\n",
      "\tnoise=0.1,\n",
      "\toffset=0.6,\n",
      "\trate=0.03\n",
      "\n",
      "script: /mnt/athena/hpsearch/hpsearch/examples/dummy_experiment_manager.py, line number: 170\n",
      "time spent on this experiment: 0.001882791519165039\n",
      "3 - validation_accuracy: 1.0\n",
      "3 - test_accuracy: 1.0\n",
      "finished experiment 5\n",
      "processing hyper-parameter 5 out of 9\n",
      "doing run 4 out of 5\n",
      "fixed rate, multiple epochs values\n",
      "running experiment 5\n",
      "run number: 4\n",
      "\n",
      "parameters:\n",
      "\tepochs=15,\n",
      "\tnoise=0.1,\n",
      "\toffset=0.6,\n",
      "\trate=0.03\n",
      "\n",
      "script: /mnt/athena/hpsearch/hpsearch/examples/dummy_experiment_manager.py, line number: 170\n",
      "time spent on this experiment: 0.0018665790557861328\n",
      "4 - validation_accuracy: 1.0\n",
      "4 - test_accuracy: 1.0\n"
     ]
    },
    {
     "name": "stdout",
     "output_type": "stream",
     "text": [
      "fitting model with 15 epochs\n",
      "epoch 0: accuracy: 0.63\n",
      "epoch 1: accuracy: 0.66\n",
      "epoch 2: accuracy: 0.6900000000000001\n",
      "epoch 3: accuracy: 0.7200000000000001\n",
      "epoch 4: accuracy: 0.7500000000000001\n",
      "epoch 5: accuracy: 0.7800000000000001\n",
      "epoch 6: accuracy: 0.8100000000000002\n",
      "epoch 7: accuracy: 0.8400000000000002\n",
      "epoch 8: accuracy: 0.8700000000000002\n",
      "epoch 9: accuracy: 0.9000000000000002\n",
      "epoch 10: accuracy: 0.9300000000000003\n",
      "epoch 11: accuracy: 0.9600000000000003\n",
      "epoch 12: accuracy: 0.9900000000000003\n",
      "epoch 13: accuracy: 1.0200000000000002\n",
      "epoch 14: accuracy: 1.0500000000000003\n",
      "current path: /mnt/athena/hpsearch/nbs/visualization\n",
      "fitting model with 15 epochs\n",
      "epoch 0: accuracy: 0.63\n",
      "epoch 1: accuracy: 0.66\n",
      "epoch 2: accuracy: 0.6900000000000001\n",
      "epoch 3: accuracy: 0.7200000000000001\n",
      "epoch 4: accuracy: 0.7500000000000001\n",
      "epoch 5: accuracy: 0.7800000000000001\n",
      "epoch 6: accuracy: 0.8100000000000002\n",
      "epoch 7: accuracy: 0.8400000000000002\n",
      "epoch 8: accuracy: 0.8700000000000002\n",
      "epoch 9: accuracy: 0.9000000000000002\n",
      "epoch 10: accuracy: 0.9300000000000003\n",
      "epoch 11: accuracy: 0.9600000000000003\n",
      "epoch 12: accuracy: 0.9900000000000003\n",
      "epoch 13: accuracy: 1.0200000000000002\n",
      "epoch 14: accuracy: 1.0500000000000003\n",
      "current path: /mnt/athena/hpsearch/nbs/visualization\n",
      "fitting model with 15 epochs\n",
      "epoch 0: accuracy: 0.63\n",
      "epoch 1: accuracy: 0.66\n",
      "epoch 2: accuracy: 0.6900000000000001\n",
      "epoch 3: accuracy: 0.7200000000000001\n",
      "epoch 4: accuracy: 0.7500000000000001\n",
      "epoch 5: accuracy: 0.7800000000000001\n",
      "epoch 6: accuracy: 0.8100000000000002\n",
      "epoch 7: accuracy: 0.8400000000000002\n",
      "epoch 8: accuracy: 0.8700000000000002\n",
      "epoch 9: accuracy: 0.9000000000000002\n",
      "epoch 10: accuracy: 0.9300000000000003\n",
      "epoch 11: accuracy: 0.9600000000000003\n",
      "epoch 12: accuracy: 0.9900000000000003\n",
      "epoch 13: accuracy: 1.0200000000000002\n",
      "epoch 14: accuracy: 1.0500000000000003\n",
      "current path: /mnt/athena/hpsearch/nbs/visualization\n",
      "fitting model with 15 epochs\n",
      "epoch 0: accuracy: 0.63\n",
      "epoch 1: accuracy: 0.66\n",
      "epoch 2: accuracy: 0.6900000000000001\n",
      "epoch 3: accuracy: 0.7200000000000001\n",
      "epoch 4: accuracy: 0.7500000000000001\n",
      "epoch 5: accuracy: 0.7800000000000001\n",
      "epoch 6: accuracy: 0.8100000000000002\n",
      "epoch 7: accuracy: 0.8400000000000002\n",
      "epoch 8: accuracy: 0.8700000000000002\n",
      "epoch 9: accuracy: 0.9000000000000002\n",
      "epoch 10: accuracy: 0.9300000000000003\n",
      "epoch 11: accuracy: 0.9600000000000003\n",
      "epoch 12: accuracy: 0.9900000000000003\n",
      "epoch 13: accuracy: 1.0200000000000002\n",
      "epoch 14: accuracy: 1.0500000000000003\n"
     ]
    },
    {
     "name": "stderr",
     "output_type": "stream",
     "text": [
      "finished experiment 5\n",
      "processing hyper-parameter 6 out of 9\n",
      "doing run 0 out of 5\n",
      "fixed rate, multiple epochs values\n",
      "running experiment 6\n",
      "run number: 0\n",
      "\n",
      "parameters:\n",
      "\tepochs=30,\n",
      "\tnoise=0.1,\n",
      "\toffset=0.1,\n",
      "\trate=0.03\n",
      "\n",
      "script: /mnt/athena/hpsearch/hpsearch/examples/dummy_experiment_manager.py, line number: 170\n",
      "time spent on this experiment: 0.003911256790161133\n",
      "0 - validation_accuracy: 0.40753349293378344\n",
      "0 - test_accuracy: 0.4540270586341919\n",
      "finished experiment 6\n",
      "processing hyper-parameter 6 out of 9\n",
      "doing run 1 out of 5\n",
      "fixed rate, multiple epochs values\n",
      "running experiment 6\n",
      "run number: 1\n",
      "\n",
      "parameters:\n",
      "\tepochs=30,\n",
      "\tnoise=0.1,\n",
      "\toffset=0.1,\n",
      "\trate=0.03\n",
      "\n",
      "script: /mnt/athena/hpsearch/hpsearch/examples/dummy_experiment_manager.py, line number: 170\n",
      "time spent on this experiment: 0.003615140914916992\n",
      "1 - validation_accuracy: 0.27914680472603803\n",
      "1 - test_accuracy: 0.25304431718360393\n",
      "finished experiment 6\n",
      "processing hyper-parameter 6 out of 9\n",
      "doing run 2 out of 5\n",
      "fixed rate, multiple epochs values\n",
      "running experiment 6\n",
      "run number: 2\n",
      "\n",
      "parameters:\n",
      "\tepochs=30,\n",
      "\tnoise=0.1,\n",
      "\toffset=0.1,\n",
      "\trate=0.03\n",
      "\n",
      "script: /mnt/athena/hpsearch/hpsearch/examples/dummy_experiment_manager.py, line number: 170\n",
      "time spent on this experiment: 0.003437519073486328\n",
      "2 - validation_accuracy: 0.3525438467061241\n",
      "2 - test_accuracy: 0.31540989899289723\n"
     ]
    },
    {
     "name": "stdout",
     "output_type": "stream",
     "text": [
      "current path: /mnt/athena/hpsearch/nbs/visualization\n",
      "fitting model with 30 epochs\n",
      "epoch 0: accuracy: 0.13\n",
      "epoch 1: accuracy: 0.16\n",
      "epoch 2: accuracy: 0.19\n",
      "epoch 3: accuracy: 0.22\n",
      "epoch 4: accuracy: 0.25\n",
      "epoch 5: accuracy: 0.28\n",
      "epoch 6: accuracy: 0.31000000000000005\n",
      "epoch 7: accuracy: 0.3400000000000001\n",
      "epoch 8: accuracy: 0.3700000000000001\n",
      "epoch 9: accuracy: 0.40000000000000013\n",
      "epoch 10: accuracy: 0.43000000000000016\n",
      "epoch 11: accuracy: 0.4600000000000002\n",
      "epoch 12: accuracy: 0.4900000000000002\n",
      "epoch 13: accuracy: 0.5200000000000002\n",
      "epoch 14: accuracy: 0.5500000000000003\n",
      "epoch 15: accuracy: 0.5800000000000003\n",
      "epoch 16: accuracy: 0.6100000000000003\n",
      "epoch 17: accuracy: 0.6400000000000003\n",
      "epoch 18: accuracy: 0.6700000000000004\n",
      "epoch 19: accuracy: 0.7000000000000004\n",
      "epoch 20: accuracy: 0.6700000000000004\n",
      "epoch 21: accuracy: 0.6400000000000003\n",
      "epoch 22: accuracy: 0.6100000000000003\n",
      "epoch 23: accuracy: 0.5800000000000003\n",
      "epoch 24: accuracy: 0.5500000000000003\n",
      "epoch 25: accuracy: 0.5200000000000002\n",
      "epoch 26: accuracy: 0.4900000000000002\n",
      "epoch 27: accuracy: 0.4600000000000002\n",
      "epoch 28: accuracy: 0.43000000000000016\n",
      "epoch 29: accuracy: 0.40000000000000013\n",
      "current path: /mnt/athena/hpsearch/nbs/visualization\n",
      "fitting model with 30 epochs\n",
      "epoch 0: accuracy: 0.13\n",
      "epoch 1: accuracy: 0.16\n",
      "epoch 2: accuracy: 0.19\n",
      "epoch 3: accuracy: 0.22\n",
      "epoch 4: accuracy: 0.25\n",
      "epoch 5: accuracy: 0.28\n",
      "epoch 6: accuracy: 0.31000000000000005\n",
      "epoch 7: accuracy: 0.3400000000000001\n",
      "epoch 8: accuracy: 0.3700000000000001\n",
      "epoch 9: accuracy: 0.40000000000000013\n",
      "epoch 10: accuracy: 0.43000000000000016\n",
      "epoch 11: accuracy: 0.4600000000000002\n",
      "epoch 12: accuracy: 0.4900000000000002\n",
      "epoch 13: accuracy: 0.5200000000000002\n",
      "epoch 14: accuracy: 0.5500000000000003\n",
      "epoch 15: accuracy: 0.5800000000000003\n",
      "epoch 16: accuracy: 0.6100000000000003\n",
      "epoch 17: accuracy: 0.6400000000000003\n",
      "epoch 18: accuracy: 0.6700000000000004\n",
      "epoch 19: accuracy: 0.7000000000000004\n",
      "epoch 20: accuracy: 0.6700000000000004\n",
      "epoch 21: accuracy: 0.6400000000000003\n",
      "epoch 22: accuracy: 0.6100000000000003\n",
      "epoch 23: accuracy: 0.5800000000000003\n",
      "epoch 24: accuracy: 0.5500000000000003\n",
      "epoch 25: accuracy: 0.5200000000000002\n",
      "epoch 26: accuracy: 0.4900000000000002\n",
      "epoch 27: accuracy: 0.4600000000000002\n",
      "epoch 28: accuracy: 0.43000000000000016\n",
      "epoch 29: accuracy: 0.40000000000000013\n",
      "current path: /mnt/athena/hpsearch/nbs/visualization\n",
      "fitting model with 30 epochs\n",
      "epoch 0: accuracy: 0.13\n",
      "epoch 1: accuracy: 0.16\n",
      "epoch 2: accuracy: 0.19\n",
      "epoch 3: accuracy: 0.22\n",
      "epoch 4: accuracy: 0.25\n",
      "epoch 5: accuracy: 0.28\n",
      "epoch 6: accuracy: 0.31000000000000005\n",
      "epoch 7: accuracy: 0.3400000000000001\n",
      "epoch 8: accuracy: 0.3700000000000001\n",
      "epoch 9: accuracy: 0.40000000000000013\n",
      "epoch 10: accuracy: 0.43000000000000016\n",
      "epoch 11: accuracy: 0.4600000000000002\n",
      "epoch 12: accuracy: 0.4900000000000002\n",
      "epoch 13: accuracy: 0.5200000000000002\n",
      "epoch 14: accuracy: 0.5500000000000003\n",
      "epoch 15: accuracy: 0.5800000000000003\n",
      "epoch 16: accuracy: 0.6100000000000003\n",
      "epoch 17: accuracy: 0.6400000000000003\n",
      "epoch 18: accuracy: 0.6700000000000004\n",
      "epoch 19: accuracy: 0.7000000000000004\n",
      "epoch 20: accuracy: 0.6700000000000004\n",
      "epoch 21: accuracy: 0.6400000000000003\n",
      "epoch 22: accuracy: 0.6100000000000003\n",
      "epoch 23: accuracy: 0.5800000000000003\n",
      "epoch 24: accuracy: 0.5500000000000003\n",
      "epoch 25: accuracy: 0.5200000000000002\n",
      "epoch 26: accuracy: 0.4900000000000002\n",
      "epoch 27: accuracy: 0.4600000000000002\n",
      "epoch 28: accuracy: 0.43000000000000016\n",
      "epoch 29: accuracy: 0.40000000000000013\n"
     ]
    },
    {
     "name": "stderr",
     "output_type": "stream",
     "text": [
      "finished experiment 6\n",
      "processing hyper-parameter 6 out of 9\n",
      "doing run 3 out of 5\n",
      "fixed rate, multiple epochs values\n",
      "running experiment 6\n",
      "run number: 3\n",
      "\n",
      "parameters:\n",
      "\tepochs=30,\n",
      "\tnoise=0.1,\n",
      "\toffset=0.1,\n",
      "\trate=0.03\n",
      "\n",
      "script: /mnt/athena/hpsearch/hpsearch/examples/dummy_experiment_manager.py, line number: 170\n",
      "time spent on this experiment: 0.0038216114044189453\n",
      "3 - validation_accuracy: 0.35684320080393656\n",
      "3 - test_accuracy: 0.30561581270463056\n",
      "finished experiment 6\n",
      "processing hyper-parameter 6 out of 9\n",
      "doing run 4 out of 5\n",
      "fixed rate, multiple epochs values\n",
      "running experiment 6\n",
      "run number: 4\n",
      "\n",
      "parameters:\n",
      "\tepochs=30,\n",
      "\tnoise=0.1,\n",
      "\toffset=0.1,\n",
      "\trate=0.03\n",
      "\n",
      "script: /mnt/athena/hpsearch/hpsearch/examples/dummy_experiment_manager.py, line number: 170\n",
      "time spent on this experiment: 0.004158973693847656\n",
      "4 - validation_accuracy: 0.26821556074236624\n",
      "4 - test_accuracy: 0.34367685171589435\n",
      "finished experiment 6\n",
      "processing hyper-parameter 7 out of 9\n",
      "doing run 0 out of 5\n",
      "fixed rate, multiple epochs values\n",
      "running experiment 7\n",
      "run number: 0\n",
      "\n",
      "parameters:\n",
      "\tepochs=30,\n",
      "\tnoise=0.1,\n",
      "\toffset=0.3,\n",
      "\trate=0.03\n",
      "\n",
      "script: /mnt/athena/hpsearch/hpsearch/examples/dummy_experiment_manager.py, line number: 170\n",
      "time spent on this experiment: 0.003686666488647461\n",
      "0 - validation_accuracy: 0.703711423209574\n",
      "0 - test_accuracy: 0.600001690524809\n",
      "finished experiment 7\n",
      "processing hyper-parameter 7 out of 9\n",
      "doing run 1 out of 5\n",
      "fixed rate, multiple epochs values\n"
     ]
    },
    {
     "name": "stdout",
     "output_type": "stream",
     "text": [
      "current path: /mnt/athena/hpsearch/nbs/visualization\n",
      "fitting model with 30 epochs\n",
      "epoch 0: accuracy: 0.13\n",
      "epoch 1: accuracy: 0.16\n",
      "epoch 2: accuracy: 0.19\n",
      "epoch 3: accuracy: 0.22\n",
      "epoch 4: accuracy: 0.25\n",
      "epoch 5: accuracy: 0.28\n",
      "epoch 6: accuracy: 0.31000000000000005\n",
      "epoch 7: accuracy: 0.3400000000000001\n",
      "epoch 8: accuracy: 0.3700000000000001\n",
      "epoch 9: accuracy: 0.40000000000000013\n",
      "epoch 10: accuracy: 0.43000000000000016\n",
      "epoch 11: accuracy: 0.4600000000000002\n",
      "epoch 12: accuracy: 0.4900000000000002\n",
      "epoch 13: accuracy: 0.5200000000000002\n",
      "epoch 14: accuracy: 0.5500000000000003\n",
      "epoch 15: accuracy: 0.5800000000000003\n",
      "epoch 16: accuracy: 0.6100000000000003\n",
      "epoch 17: accuracy: 0.6400000000000003\n",
      "epoch 18: accuracy: 0.6700000000000004\n",
      "epoch 19: accuracy: 0.7000000000000004\n",
      "epoch 20: accuracy: 0.6700000000000004\n",
      "epoch 21: accuracy: 0.6400000000000003\n",
      "epoch 22: accuracy: 0.6100000000000003\n",
      "epoch 23: accuracy: 0.5800000000000003\n",
      "epoch 24: accuracy: 0.5500000000000003\n",
      "epoch 25: accuracy: 0.5200000000000002\n",
      "epoch 26: accuracy: 0.4900000000000002\n",
      "epoch 27: accuracy: 0.4600000000000002\n",
      "epoch 28: accuracy: 0.43000000000000016\n",
      "epoch 29: accuracy: 0.40000000000000013\n",
      "current path: /mnt/athena/hpsearch/nbs/visualization\n",
      "fitting model with 30 epochs\n",
      "epoch 0: accuracy: 0.13\n",
      "epoch 1: accuracy: 0.16\n",
      "epoch 2: accuracy: 0.19\n",
      "epoch 3: accuracy: 0.22\n",
      "epoch 4: accuracy: 0.25\n",
      "epoch 5: accuracy: 0.28\n",
      "epoch 6: accuracy: 0.31000000000000005\n",
      "epoch 7: accuracy: 0.3400000000000001\n",
      "epoch 8: accuracy: 0.3700000000000001\n",
      "epoch 9: accuracy: 0.40000000000000013\n",
      "epoch 10: accuracy: 0.43000000000000016\n",
      "epoch 11: accuracy: 0.4600000000000002\n",
      "epoch 12: accuracy: 0.4900000000000002\n",
      "epoch 13: accuracy: 0.5200000000000002\n",
      "epoch 14: accuracy: 0.5500000000000003\n",
      "epoch 15: accuracy: 0.5800000000000003\n",
      "epoch 16: accuracy: 0.6100000000000003\n",
      "epoch 17: accuracy: 0.6400000000000003\n",
      "epoch 18: accuracy: 0.6700000000000004\n",
      "epoch 19: accuracy: 0.7000000000000004\n",
      "epoch 20: accuracy: 0.6700000000000004\n",
      "epoch 21: accuracy: 0.6400000000000003\n",
      "epoch 22: accuracy: 0.6100000000000003\n",
      "epoch 23: accuracy: 0.5800000000000003\n",
      "epoch 24: accuracy: 0.5500000000000003\n",
      "epoch 25: accuracy: 0.5200000000000002\n",
      "epoch 26: accuracy: 0.4900000000000002\n",
      "epoch 27: accuracy: 0.4600000000000002\n",
      "epoch 28: accuracy: 0.43000000000000016\n",
      "epoch 29: accuracy: 0.40000000000000013\n",
      "current path: /mnt/athena/hpsearch/nbs/visualization\n",
      "fitting model with 30 epochs\n",
      "epoch 0: accuracy: 0.32999999999999996\n",
      "epoch 1: accuracy: 0.36\n",
      "epoch 2: accuracy: 0.39\n",
      "epoch 3: accuracy: 0.42000000000000004\n",
      "epoch 4: accuracy: 0.45000000000000007\n",
      "epoch 5: accuracy: 0.4800000000000001\n",
      "epoch 6: accuracy: 0.5100000000000001\n",
      "epoch 7: accuracy: 0.5400000000000001\n",
      "epoch 8: accuracy: 0.5700000000000002\n",
      "epoch 9: accuracy: 0.6000000000000002\n",
      "epoch 10: accuracy: 0.6300000000000002\n",
      "epoch 11: accuracy: 0.6600000000000003\n",
      "epoch 12: accuracy: 0.6900000000000003\n",
      "epoch 13: accuracy: 0.7200000000000003\n",
      "epoch 14: accuracy: 0.7500000000000003\n",
      "epoch 15: accuracy: 0.7800000000000004\n",
      "epoch 16: accuracy: 0.8100000000000004\n",
      "epoch 17: accuracy: 0.8400000000000004\n",
      "epoch 18: accuracy: 0.8700000000000004\n",
      "epoch 19: accuracy: 0.9000000000000005\n",
      "epoch 20: accuracy: 0.8700000000000004\n",
      "epoch 21: accuracy: 0.8400000000000004\n",
      "epoch 22: accuracy: 0.8100000000000004\n",
      "epoch 23: accuracy: 0.7800000000000004\n",
      "epoch 24: accuracy: 0.7500000000000003\n",
      "epoch 25: accuracy: 0.7200000000000003\n",
      "epoch 26: accuracy: 0.6900000000000003\n",
      "epoch 27: accuracy: 0.6600000000000003\n",
      "epoch 28: accuracy: 0.6300000000000002\n",
      "epoch 29: accuracy: 0.6000000000000002\n"
     ]
    },
    {
     "name": "stderr",
     "output_type": "stream",
     "text": [
      "running experiment 7\n",
      "run number: 1\n",
      "\n",
      "parameters:\n",
      "\tepochs=30,\n",
      "\tnoise=0.1,\n",
      "\toffset=0.3,\n",
      "\trate=0.03\n",
      "\n",
      "script: /mnt/athena/hpsearch/hpsearch/examples/dummy_experiment_manager.py, line number: 170\n",
      "time spent on this experiment: 0.0034155845642089844\n",
      "1 - validation_accuracy: 0.4802218679872151\n",
      "1 - test_accuracy: 0.4697148344364077\n",
      "finished experiment 7\n",
      "processing hyper-parameter 7 out of 9\n",
      "doing run 2 out of 5\n",
      "fixed rate, multiple epochs values\n",
      "running experiment 7\n",
      "run number: 2\n",
      "\n",
      "parameters:\n",
      "\tepochs=30,\n",
      "\tnoise=0.1,\n",
      "\toffset=0.3,\n",
      "\trate=0.03\n",
      "\n",
      "script: /mnt/athena/hpsearch/hpsearch/examples/dummy_experiment_manager.py, line number: 170\n",
      "time spent on this experiment: 0.003989219665527344\n",
      "2 - validation_accuracy: 0.7297568082638686\n",
      "2 - test_accuracy: 0.6531497119629971\n",
      "finished experiment 7\n",
      "processing hyper-parameter 7 out of 9\n",
      "doing run 3 out of 5\n",
      "fixed rate, multiple epochs values\n",
      "running experiment 7\n",
      "run number: 3\n",
      "\n",
      "parameters:\n",
      "\tepochs=30,\n",
      "\tnoise=0.1,\n",
      "\toffset=0.3,\n",
      "\trate=0.03\n",
      "\n",
      "script: /mnt/athena/hpsearch/hpsearch/examples/dummy_experiment_manager.py, line number: 170\n",
      "time spent on this experiment: 0.003446340560913086\n",
      "3 - validation_accuracy: 0.6682506836351048\n",
      "3 - test_accuracy: 0.34360156364283156\n",
      "finished experiment 7\n",
      "processing hyper-parameter 7 out of 9\n",
      "doing run 4 out of 5\n",
      "fixed rate, multiple epochs values\n"
     ]
    },
    {
     "name": "stdout",
     "output_type": "stream",
     "text": [
      "current path: /mnt/athena/hpsearch/nbs/visualization\n",
      "fitting model with 30 epochs\n",
      "epoch 0: accuracy: 0.32999999999999996\n",
      "epoch 1: accuracy: 0.36\n",
      "epoch 2: accuracy: 0.39\n",
      "epoch 3: accuracy: 0.42000000000000004\n",
      "epoch 4: accuracy: 0.45000000000000007\n",
      "epoch 5: accuracy: 0.4800000000000001\n",
      "epoch 6: accuracy: 0.5100000000000001\n",
      "epoch 7: accuracy: 0.5400000000000001\n",
      "epoch 8: accuracy: 0.5700000000000002\n",
      "epoch 9: accuracy: 0.6000000000000002\n",
      "epoch 10: accuracy: 0.6300000000000002\n",
      "epoch 11: accuracy: 0.6600000000000003\n",
      "epoch 12: accuracy: 0.6900000000000003\n",
      "epoch 13: accuracy: 0.7200000000000003\n",
      "epoch 14: accuracy: 0.7500000000000003\n",
      "epoch 15: accuracy: 0.7800000000000004\n",
      "epoch 16: accuracy: 0.8100000000000004\n",
      "epoch 17: accuracy: 0.8400000000000004\n",
      "epoch 18: accuracy: 0.8700000000000004\n",
      "epoch 19: accuracy: 0.9000000000000005\n",
      "epoch 20: accuracy: 0.8700000000000004\n",
      "epoch 21: accuracy: 0.8400000000000004\n",
      "epoch 22: accuracy: 0.8100000000000004\n",
      "epoch 23: accuracy: 0.7800000000000004\n",
      "epoch 24: accuracy: 0.7500000000000003\n",
      "epoch 25: accuracy: 0.7200000000000003\n",
      "epoch 26: accuracy: 0.6900000000000003\n",
      "epoch 27: accuracy: 0.6600000000000003\n",
      "epoch 28: accuracy: 0.6300000000000002\n",
      "epoch 29: accuracy: 0.6000000000000002\n",
      "current path: /mnt/athena/hpsearch/nbs/visualization\n",
      "fitting model with 30 epochs\n",
      "epoch 0: accuracy: 0.32999999999999996\n",
      "epoch 1: accuracy: 0.36\n",
      "epoch 2: accuracy: 0.39\n",
      "epoch 3: accuracy: 0.42000000000000004\n",
      "epoch 4: accuracy: 0.45000000000000007\n",
      "epoch 5: accuracy: 0.4800000000000001\n",
      "epoch 6: accuracy: 0.5100000000000001\n",
      "epoch 7: accuracy: 0.5400000000000001\n",
      "epoch 8: accuracy: 0.5700000000000002\n",
      "epoch 9: accuracy: 0.6000000000000002\n",
      "epoch 10: accuracy: 0.6300000000000002\n",
      "epoch 11: accuracy: 0.6600000000000003\n",
      "epoch 12: accuracy: 0.6900000000000003\n",
      "epoch 13: accuracy: 0.7200000000000003\n",
      "epoch 14: accuracy: 0.7500000000000003\n",
      "epoch 15: accuracy: 0.7800000000000004\n",
      "epoch 16: accuracy: 0.8100000000000004\n",
      "epoch 17: accuracy: 0.8400000000000004\n",
      "epoch 18: accuracy: 0.8700000000000004\n",
      "epoch 19: accuracy: 0.9000000000000005\n",
      "epoch 20: accuracy: 0.8700000000000004\n",
      "epoch 21: accuracy: 0.8400000000000004\n",
      "epoch 22: accuracy: 0.8100000000000004\n",
      "epoch 23: accuracy: 0.7800000000000004\n",
      "epoch 24: accuracy: 0.7500000000000003\n",
      "epoch 25: accuracy: 0.7200000000000003\n",
      "epoch 26: accuracy: 0.6900000000000003\n",
      "epoch 27: accuracy: 0.6600000000000003\n",
      "epoch 28: accuracy: 0.6300000000000002\n",
      "epoch 29: accuracy: 0.6000000000000002\n",
      "current path: /mnt/athena/hpsearch/nbs/visualization\n",
      "fitting model with 30 epochs\n",
      "epoch 0: accuracy: 0.32999999999999996\n",
      "epoch 1: accuracy: 0.36\n",
      "epoch 2: accuracy: 0.39\n",
      "epoch 3: accuracy: 0.42000000000000004\n",
      "epoch 4: accuracy: 0.45000000000000007\n",
      "epoch 5: accuracy: 0.4800000000000001\n",
      "epoch 6: accuracy: 0.5100000000000001\n",
      "epoch 7: accuracy: 0.5400000000000001\n",
      "epoch 8: accuracy: 0.5700000000000002\n",
      "epoch 9: accuracy: 0.6000000000000002\n",
      "epoch 10: accuracy: 0.6300000000000002\n",
      "epoch 11: accuracy: 0.6600000000000003\n",
      "epoch 12: accuracy: 0.6900000000000003\n",
      "epoch 13: accuracy: 0.7200000000000003\n",
      "epoch 14: accuracy: 0.7500000000000003\n",
      "epoch 15: accuracy: 0.7800000000000004\n",
      "epoch 16: accuracy: 0.8100000000000004\n",
      "epoch 17: accuracy: 0.8400000000000004\n",
      "epoch 18: accuracy: 0.8700000000000004\n",
      "epoch 19: accuracy: 0.9000000000000005\n",
      "epoch 20: accuracy: 0.8700000000000004\n",
      "epoch 21: accuracy: 0.8400000000000004\n",
      "epoch 22: accuracy: 0.8100000000000004\n",
      "epoch 23: accuracy: 0.7800000000000004\n",
      "epoch 24: accuracy: 0.7500000000000003\n",
      "epoch 25: accuracy: 0.7200000000000003\n",
      "epoch 26: accuracy: 0.6900000000000003\n",
      "epoch 27: accuracy: 0.6600000000000003\n",
      "epoch 28: accuracy: 0.6300000000000002\n",
      "epoch 29: accuracy: 0.6000000000000002\n",
      "current path: /mnt/athena/hpsearch/nbs/visualization\n"
     ]
    },
    {
     "name": "stderr",
     "output_type": "stream",
     "text": [
      "running experiment 7\n",
      "run number: 4\n",
      "\n",
      "parameters:\n",
      "\tepochs=30,\n",
      "\tnoise=0.1,\n",
      "\toffset=0.3,\n",
      "\trate=0.03\n",
      "\n",
      "script: /mnt/athena/hpsearch/hpsearch/examples/dummy_experiment_manager.py, line number: 170\n",
      "time spent on this experiment: 0.003730297088623047\n",
      "4 - validation_accuracy: 0.3723493488012269\n",
      "4 - test_accuracy: 0.5614181118456143\n",
      "finished experiment 7\n",
      "processing hyper-parameter 8 out of 9\n",
      "doing run 0 out of 5\n",
      "fixed rate, multiple epochs values\n",
      "running experiment 8\n",
      "run number: 0\n",
      "\n",
      "parameters:\n",
      "\tepochs=30,\n",
      "\tnoise=0.1,\n",
      "\toffset=0.6,\n",
      "\trate=0.03\n",
      "\n",
      "script: /mnt/athena/hpsearch/hpsearch/examples/dummy_experiment_manager.py, line number: 170\n",
      "time spent on this experiment: 0.003468751907348633\n",
      "0 - validation_accuracy: 0.6947290123140064\n",
      "0 - test_accuracy: 0.8101662299230422\n",
      "finished experiment 8\n",
      "processing hyper-parameter 8 out of 9\n",
      "doing run 1 out of 5\n",
      "fixed rate, multiple epochs values\n",
      "running experiment 8\n",
      "run number: 1\n",
      "\n",
      "parameters:\n",
      "\tepochs=30,\n",
      "\tnoise=0.1,\n",
      "\toffset=0.6,\n",
      "\trate=0.03\n",
      "\n",
      "script: /mnt/athena/hpsearch/hpsearch/examples/dummy_experiment_manager.py, line number: 170\n",
      "time spent on this experiment: 0.0034856796264648438\n",
      "1 - validation_accuracy: 0.9055947460260949\n",
      "1 - test_accuracy: 0.9222506819950943\n",
      "finished experiment 8\n",
      "processing hyper-parameter 8 out of 9\n",
      "doing run 2 out of 5\n",
      "fixed rate, multiple epochs values\n",
      "running experiment 8\n",
      "run number: 2\n",
      "\n",
      "parameters:\n",
      "\tepochs=30,\n",
      "\tnoise=0.1,\n",
      "\toffset=0.6,\n",
      "\trate=0.03\n",
      "\n"
     ]
    },
    {
     "name": "stdout",
     "output_type": "stream",
     "text": [
      "fitting model with 30 epochs\n",
      "epoch 0: accuracy: 0.32999999999999996\n",
      "epoch 1: accuracy: 0.36\n",
      "epoch 2: accuracy: 0.39\n",
      "epoch 3: accuracy: 0.42000000000000004\n",
      "epoch 4: accuracy: 0.45000000000000007\n",
      "epoch 5: accuracy: 0.4800000000000001\n",
      "epoch 6: accuracy: 0.5100000000000001\n",
      "epoch 7: accuracy: 0.5400000000000001\n",
      "epoch 8: accuracy: 0.5700000000000002\n",
      "epoch 9: accuracy: 0.6000000000000002\n",
      "epoch 10: accuracy: 0.6300000000000002\n",
      "epoch 11: accuracy: 0.6600000000000003\n",
      "epoch 12: accuracy: 0.6900000000000003\n",
      "epoch 13: accuracy: 0.7200000000000003\n",
      "epoch 14: accuracy: 0.7500000000000003\n",
      "epoch 15: accuracy: 0.7800000000000004\n",
      "epoch 16: accuracy: 0.8100000000000004\n",
      "epoch 17: accuracy: 0.8400000000000004\n",
      "epoch 18: accuracy: 0.8700000000000004\n",
      "epoch 19: accuracy: 0.9000000000000005\n",
      "epoch 20: accuracy: 0.8700000000000004\n",
      "epoch 21: accuracy: 0.8400000000000004\n",
      "epoch 22: accuracy: 0.8100000000000004\n",
      "epoch 23: accuracy: 0.7800000000000004\n",
      "epoch 24: accuracy: 0.7500000000000003\n",
      "epoch 25: accuracy: 0.7200000000000003\n",
      "epoch 26: accuracy: 0.6900000000000003\n",
      "epoch 27: accuracy: 0.6600000000000003\n",
      "epoch 28: accuracy: 0.6300000000000002\n",
      "epoch 29: accuracy: 0.6000000000000002\n",
      "current path: /mnt/athena/hpsearch/nbs/visualization\n",
      "fitting model with 30 epochs\n",
      "epoch 0: accuracy: 0.63\n",
      "epoch 1: accuracy: 0.66\n",
      "epoch 2: accuracy: 0.6900000000000001\n",
      "epoch 3: accuracy: 0.7200000000000001\n",
      "epoch 4: accuracy: 0.7500000000000001\n",
      "epoch 5: accuracy: 0.7800000000000001\n",
      "epoch 6: accuracy: 0.8100000000000002\n",
      "epoch 7: accuracy: 0.8400000000000002\n",
      "epoch 8: accuracy: 0.8700000000000002\n",
      "epoch 9: accuracy: 0.9000000000000002\n",
      "epoch 10: accuracy: 0.9300000000000003\n",
      "epoch 11: accuracy: 0.9600000000000003\n",
      "epoch 12: accuracy: 0.9900000000000003\n",
      "epoch 13: accuracy: 1.0200000000000002\n",
      "epoch 14: accuracy: 1.0500000000000003\n",
      "epoch 15: accuracy: 1.0800000000000003\n",
      "epoch 16: accuracy: 1.1100000000000003\n",
      "epoch 17: accuracy: 1.1400000000000003\n",
      "epoch 18: accuracy: 1.1700000000000004\n",
      "epoch 19: accuracy: 1.2000000000000004\n",
      "epoch 20: accuracy: 1.1700000000000004\n",
      "epoch 21: accuracy: 1.1400000000000003\n",
      "epoch 22: accuracy: 1.1100000000000003\n",
      "epoch 23: accuracy: 1.0800000000000003\n",
      "epoch 24: accuracy: 1.0500000000000003\n",
      "epoch 25: accuracy: 1.0200000000000002\n",
      "epoch 26: accuracy: 0.9900000000000002\n",
      "epoch 27: accuracy: 0.9600000000000002\n",
      "epoch 28: accuracy: 0.9300000000000002\n",
      "epoch 29: accuracy: 0.9000000000000001\n",
      "current path: /mnt/athena/hpsearch/nbs/visualization\n",
      "fitting model with 30 epochs\n",
      "epoch 0: accuracy: 0.63\n",
      "epoch 1: accuracy: 0.66\n",
      "epoch 2: accuracy: 0.6900000000000001\n",
      "epoch 3: accuracy: 0.7200000000000001\n",
      "epoch 4: accuracy: 0.7500000000000001\n",
      "epoch 5: accuracy: 0.7800000000000001\n",
      "epoch 6: accuracy: 0.8100000000000002\n",
      "epoch 7: accuracy: 0.8400000000000002\n",
      "epoch 8: accuracy: 0.8700000000000002\n",
      "epoch 9: accuracy: 0.9000000000000002\n",
      "epoch 10: accuracy: 0.9300000000000003\n",
      "epoch 11: accuracy: 0.9600000000000003\n",
      "epoch 12: accuracy: 0.9900000000000003\n",
      "epoch 13: accuracy: 1.0200000000000002\n",
      "epoch 14: accuracy: 1.0500000000000003\n",
      "epoch 15: accuracy: 1.0800000000000003\n",
      "epoch 16: accuracy: 1.1100000000000003\n",
      "epoch 17: accuracy: 1.1400000000000003\n",
      "epoch 18: accuracy: 1.1700000000000004\n",
      "epoch 19: accuracy: 1.2000000000000004\n",
      "epoch 20: accuracy: 1.1700000000000004\n",
      "epoch 21: accuracy: 1.1400000000000003\n",
      "epoch 22: accuracy: 1.1100000000000003\n",
      "epoch 23: accuracy: 1.0800000000000003\n",
      "epoch 24: accuracy: 1.0500000000000003\n",
      "epoch 25: accuracy: 1.0200000000000002\n",
      "epoch 26: accuracy: 0.9900000000000002\n",
      "epoch 27: accuracy: 0.9600000000000002\n",
      "epoch 28: accuracy: 0.9300000000000002\n",
      "epoch 29: accuracy: 0.9000000000000001\n",
      "current path: /mnt/athena/hpsearch/nbs/visualization\n"
     ]
    },
    {
     "name": "stderr",
     "output_type": "stream",
     "text": [
      "script: /mnt/athena/hpsearch/hpsearch/examples/dummy_experiment_manager.py, line number: 170\n",
      "time spent on this experiment: 0.003511190414428711\n",
      "2 - validation_accuracy: 1.0\n",
      "2 - test_accuracy: 0.7296051348996728\n",
      "finished experiment 8\n",
      "processing hyper-parameter 8 out of 9\n",
      "doing run 3 out of 5\n",
      "fixed rate, multiple epochs values\n",
      "running experiment 8\n",
      "run number: 3\n",
      "\n",
      "parameters:\n",
      "\tepochs=30,\n",
      "\tnoise=0.1,\n",
      "\toffset=0.6,\n",
      "\trate=0.03\n",
      "\n",
      "script: /mnt/athena/hpsearch/hpsearch/examples/dummy_experiment_manager.py, line number: 170\n",
      "time spent on this experiment: 0.003732442855834961\n",
      "3 - validation_accuracy: 0.9306083986740118\n",
      "3 - test_accuracy: 0.669359963200913\n",
      "finished experiment 8\n",
      "processing hyper-parameter 8 out of 9\n",
      "doing run 4 out of 5\n",
      "fixed rate, multiple epochs values\n",
      "running experiment 8\n",
      "run number: 4\n",
      "\n",
      "parameters:\n",
      "\tepochs=30,\n",
      "\tnoise=0.1,\n",
      "\toffset=0.6,\n",
      "\trate=0.03\n",
      "\n",
      "script: /mnt/athena/hpsearch/hpsearch/examples/dummy_experiment_manager.py, line number: 170\n",
      "time spent on this experiment: 0.003424406051635742\n",
      "4 - validation_accuracy: 0.9699598947588522\n",
      "4 - test_accuracy: 0.8163715107134591\n",
      "finished experiment 8\n"
     ]
    },
    {
     "name": "stdout",
     "output_type": "stream",
     "text": [
      "fitting model with 30 epochs\n",
      "epoch 0: accuracy: 0.63\n",
      "epoch 1: accuracy: 0.66\n",
      "epoch 2: accuracy: 0.6900000000000001\n",
      "epoch 3: accuracy: 0.7200000000000001\n",
      "epoch 4: accuracy: 0.7500000000000001\n",
      "epoch 5: accuracy: 0.7800000000000001\n",
      "epoch 6: accuracy: 0.8100000000000002\n",
      "epoch 7: accuracy: 0.8400000000000002\n",
      "epoch 8: accuracy: 0.8700000000000002\n",
      "epoch 9: accuracy: 0.9000000000000002\n",
      "epoch 10: accuracy: 0.9300000000000003\n",
      "epoch 11: accuracy: 0.9600000000000003\n",
      "epoch 12: accuracy: 0.9900000000000003\n",
      "epoch 13: accuracy: 1.0200000000000002\n",
      "epoch 14: accuracy: 1.0500000000000003\n",
      "epoch 15: accuracy: 1.0800000000000003\n",
      "epoch 16: accuracy: 1.1100000000000003\n",
      "epoch 17: accuracy: 1.1400000000000003\n",
      "epoch 18: accuracy: 1.1700000000000004\n",
      "epoch 19: accuracy: 1.2000000000000004\n",
      "epoch 20: accuracy: 1.1700000000000004\n",
      "epoch 21: accuracy: 1.1400000000000003\n",
      "epoch 22: accuracy: 1.1100000000000003\n",
      "epoch 23: accuracy: 1.0800000000000003\n",
      "epoch 24: accuracy: 1.0500000000000003\n",
      "epoch 25: accuracy: 1.0200000000000002\n",
      "epoch 26: accuracy: 0.9900000000000002\n",
      "epoch 27: accuracy: 0.9600000000000002\n",
      "epoch 28: accuracy: 0.9300000000000002\n",
      "epoch 29: accuracy: 0.9000000000000001\n",
      "current path: /mnt/athena/hpsearch/nbs/visualization\n",
      "fitting model with 30 epochs\n",
      "epoch 0: accuracy: 0.63\n",
      "epoch 1: accuracy: 0.66\n",
      "epoch 2: accuracy: 0.6900000000000001\n",
      "epoch 3: accuracy: 0.7200000000000001\n",
      "epoch 4: accuracy: 0.7500000000000001\n",
      "epoch 5: accuracy: 0.7800000000000001\n",
      "epoch 6: accuracy: 0.8100000000000002\n",
      "epoch 7: accuracy: 0.8400000000000002\n",
      "epoch 8: accuracy: 0.8700000000000002\n",
      "epoch 9: accuracy: 0.9000000000000002\n",
      "epoch 10: accuracy: 0.9300000000000003\n",
      "epoch 11: accuracy: 0.9600000000000003\n",
      "epoch 12: accuracy: 0.9900000000000003\n",
      "epoch 13: accuracy: 1.0200000000000002\n",
      "epoch 14: accuracy: 1.0500000000000003\n",
      "epoch 15: accuracy: 1.0800000000000003\n",
      "epoch 16: accuracy: 1.1100000000000003\n",
      "epoch 17: accuracy: 1.1400000000000003\n",
      "epoch 18: accuracy: 1.1700000000000004\n",
      "epoch 19: accuracy: 1.2000000000000004\n",
      "epoch 20: accuracy: 1.1700000000000004\n",
      "epoch 21: accuracy: 1.1400000000000003\n",
      "epoch 22: accuracy: 1.1100000000000003\n",
      "epoch 23: accuracy: 1.0800000000000003\n",
      "epoch 24: accuracy: 1.0500000000000003\n",
      "epoch 25: accuracy: 1.0200000000000002\n",
      "epoch 26: accuracy: 0.9900000000000002\n",
      "epoch 27: accuracy: 0.9600000000000002\n",
      "epoch 28: accuracy: 0.9300000000000002\n",
      "epoch 29: accuracy: 0.9000000000000001\n",
      "current path: /mnt/athena/hpsearch/nbs/visualization\n",
      "fitting model with 30 epochs\n",
      "epoch 0: accuracy: 0.63\n",
      "epoch 1: accuracy: 0.66\n",
      "epoch 2: accuracy: 0.6900000000000001\n",
      "epoch 3: accuracy: 0.7200000000000001\n",
      "epoch 4: accuracy: 0.7500000000000001\n",
      "epoch 5: accuracy: 0.7800000000000001\n",
      "epoch 6: accuracy: 0.8100000000000002\n",
      "epoch 7: accuracy: 0.8400000000000002\n",
      "epoch 8: accuracy: 0.8700000000000002\n",
      "epoch 9: accuracy: 0.9000000000000002\n",
      "epoch 10: accuracy: 0.9300000000000003\n",
      "epoch 11: accuracy: 0.9600000000000003\n",
      "epoch 12: accuracy: 0.9900000000000003\n",
      "epoch 13: accuracy: 1.0200000000000002\n",
      "epoch 14: accuracy: 1.0500000000000003\n",
      "epoch 15: accuracy: 1.0800000000000003\n",
      "epoch 16: accuracy: 1.1100000000000003\n",
      "epoch 17: accuracy: 1.1400000000000003\n",
      "epoch 18: accuracy: 1.1700000000000004\n",
      "epoch 19: accuracy: 1.2000000000000004\n",
      "epoch 20: accuracy: 1.1700000000000004\n",
      "epoch 21: accuracy: 1.1400000000000003\n",
      "epoch 22: accuracy: 1.1100000000000003\n",
      "epoch 23: accuracy: 1.0800000000000003\n",
      "epoch 24: accuracy: 1.0500000000000003\n",
      "epoch 25: accuracy: 1.0200000000000002\n",
      "epoch 26: accuracy: 0.9900000000000002\n",
      "epoch 27: accuracy: 0.9600000000000002\n",
      "epoch 28: accuracy: 0.9300000000000002\n",
      "epoch 29: accuracy: 0.9000000000000001\n"
     ]
    },
    {
     "name": "stderr",
     "output_type": "stream",
     "text": [
      "experiment script: /mnt/athena/hpsearch/hpsearch/examples/dummy_experiment_manager.py, line: 170\n",
      "processing hyper-parameter 0 out of 9\n",
      "doing run 0 out of 5\n",
      "fixed rate, multiple epochs values\n",
      "running experiment 9\n",
      "run number: 0\n",
      "\n",
      "parameters:\n",
      "\tepochs=5,\n",
      "\tnoise=0.1,\n",
      "\toffset=0.1,\n",
      "\trate=0.1\n",
      "\n",
      "script: /mnt/athena/hpsearch/hpsearch/examples/dummy_experiment_manager.py, line number: 170\n",
      "time spent on this experiment: 0.0009095668792724609\n",
      "0 - validation_accuracy: 0.4729764694502593\n",
      "0 - test_accuracy: 0.8558039995376592\n",
      "finished experiment 9\n",
      "processing hyper-parameter 0 out of 9\n",
      "doing run 1 out of 5\n",
      "fixed rate, multiple epochs values\n",
      "running experiment 9\n",
      "run number: 1\n",
      "\n",
      "parameters:\n",
      "\tepochs=5,\n",
      "\tnoise=0.1,\n",
      "\toffset=0.1,\n",
      "\trate=0.1\n",
      "\n",
      "script: /mnt/athena/hpsearch/hpsearch/examples/dummy_experiment_manager.py, line number: 170\n",
      "time spent on this experiment: 0.0008921623229980469\n",
      "1 - validation_accuracy: 0.5143888710959071\n",
      "1 - test_accuracy: 0.6971675203322029\n",
      "finished experiment 9\n",
      "processing hyper-parameter 0 out of 9\n",
      "doing run 2 out of 5\n",
      "fixed rate, multiple epochs values\n",
      "running experiment 9\n",
      "run number: 2\n",
      "\n",
      "parameters:\n",
      "\tepochs=5,\n",
      "\tnoise=0.1,\n",
      "\toffset=0.1,\n",
      "\trate=0.1\n",
      "\n",
      "script: /mnt/athena/hpsearch/hpsearch/examples/dummy_experiment_manager.py, line number: 170\n",
      "time spent on this experiment: 0.0009031295776367188\n",
      "2 - validation_accuracy: 0.4871337645315138\n",
      "2 - test_accuracy: 0.8046435677480491\n"
     ]
    },
    {
     "name": "stdout",
     "output_type": "stream",
     "text": [
      "current path: /mnt/athena/hpsearch/nbs/visualization\n",
      "current path: /mnt/athena/hpsearch/nbs/visualization\n",
      "fitting model with 5 epochs\n",
      "epoch 0: accuracy: 0.2\n",
      "epoch 1: accuracy: 0.30000000000000004\n",
      "epoch 2: accuracy: 0.4\n",
      "epoch 3: accuracy: 0.5\n",
      "epoch 4: accuracy: 0.6\n",
      "current path: /mnt/athena/hpsearch/nbs/visualization\n",
      "fitting model with 5 epochs\n",
      "epoch 0: accuracy: 0.2\n",
      "epoch 1: accuracy: 0.30000000000000004\n",
      "epoch 2: accuracy: 0.4\n",
      "epoch 3: accuracy: 0.5\n",
      "epoch 4: accuracy: 0.6\n",
      "current path: /mnt/athena/hpsearch/nbs/visualization\n",
      "fitting model with 5 epochs\n",
      "epoch 0: accuracy: 0.2\n",
      "epoch 1: accuracy: 0.30000000000000004\n",
      "epoch 2: accuracy: 0.4\n",
      "epoch 3: accuracy: 0.5\n",
      "epoch 4: accuracy: 0.6\n"
     ]
    },
    {
     "name": "stderr",
     "output_type": "stream",
     "text": [
      "finished experiment 9\n",
      "processing hyper-parameter 0 out of 9\n",
      "doing run 3 out of 5\n",
      "fixed rate, multiple epochs values\n",
      "running experiment 9\n",
      "run number: 3\n",
      "\n",
      "parameters:\n",
      "\tepochs=5,\n",
      "\tnoise=0.1,\n",
      "\toffset=0.1,\n",
      "\trate=0.1\n",
      "\n",
      "script: /mnt/athena/hpsearch/hpsearch/examples/dummy_experiment_manager.py, line number: 170\n",
      "time spent on this experiment: 0.0009410381317138672\n",
      "3 - validation_accuracy: 0.5960275729484116\n",
      "3 - test_accuracy: 0.7726460539922709\n",
      "finished experiment 9\n",
      "processing hyper-parameter 0 out of 9\n",
      "doing run 4 out of 5\n",
      "fixed rate, multiple epochs values\n",
      "running experiment 9\n",
      "run number: 4\n",
      "\n",
      "parameters:\n",
      "\tepochs=5,\n",
      "\tnoise=0.1,\n",
      "\toffset=0.1,\n",
      "\trate=0.1\n",
      "\n",
      "script: /mnt/athena/hpsearch/hpsearch/examples/dummy_experiment_manager.py, line number: 170\n",
      "time spent on this experiment: 0.0009109973907470703\n",
      "4 - validation_accuracy: 0.42255630753557644\n",
      "4 - test_accuracy: 0.7280725316243567\n",
      "finished experiment 9\n",
      "processing hyper-parameter 1 out of 9\n",
      "doing run 0 out of 5\n",
      "fixed rate, multiple epochs values\n",
      "running experiment 10\n",
      "run number: 0\n",
      "\n",
      "parameters:\n",
      "\tepochs=5,\n",
      "\tnoise=0.1,\n",
      "\toffset=0.3,\n",
      "\trate=0.1\n",
      "\n",
      "script: /mnt/athena/hpsearch/hpsearch/examples/dummy_experiment_manager.py, line number: 170\n",
      "time spent on this experiment: 0.0009145736694335938\n",
      "0 - validation_accuracy: 0.9669398592555746\n",
      "0 - test_accuracy: 1.0\n"
     ]
    },
    {
     "name": "stdout",
     "output_type": "stream",
     "text": [
      "current path: /mnt/athena/hpsearch/nbs/visualization\n",
      "fitting model with 5 epochs\n",
      "epoch 0: accuracy: 0.2\n",
      "epoch 1: accuracy: 0.30000000000000004\n",
      "epoch 2: accuracy: 0.4\n",
      "epoch 3: accuracy: 0.5\n",
      "epoch 4: accuracy: 0.6\n",
      "current path: /mnt/athena/hpsearch/nbs/visualization\n",
      "fitting model with 5 epochs\n",
      "epoch 0: accuracy: 0.2\n",
      "epoch 1: accuracy: 0.30000000000000004\n",
      "epoch 2: accuracy: 0.4\n",
      "epoch 3: accuracy: 0.5\n",
      "epoch 4: accuracy: 0.6\n",
      "current path: /mnt/athena/hpsearch/nbs/visualization\n",
      "fitting model with 5 epochs\n",
      "epoch 0: accuracy: 0.4\n",
      "epoch 1: accuracy: 0.5\n",
      "epoch 2: accuracy: 0.6\n",
      "epoch 3: accuracy: 0.7\n",
      "epoch 4: accuracy: 0.7999999999999999\n"
     ]
    },
    {
     "name": "stderr",
     "output_type": "stream",
     "text": [
      "finished experiment 10\n",
      "processing hyper-parameter 1 out of 9\n",
      "doing run 1 out of 5\n",
      "fixed rate, multiple epochs values\n",
      "running experiment 10\n",
      "run number: 1\n",
      "\n",
      "parameters:\n",
      "\tepochs=5,\n",
      "\tnoise=0.1,\n",
      "\toffset=0.3,\n",
      "\trate=0.1\n",
      "\n",
      "script: /mnt/athena/hpsearch/hpsearch/examples/dummy_experiment_manager.py, line number: 170\n",
      "time spent on this experiment: 0.0008819103240966797\n",
      "1 - validation_accuracy: 0.8087455740856595\n",
      "1 - test_accuracy: 0.9595807171145965\n",
      "finished experiment 10\n",
      "processing hyper-parameter 1 out of 9\n",
      "doing run 2 out of 5\n",
      "fixed rate, multiple epochs values\n",
      "running experiment 10\n",
      "run number: 2\n",
      "\n",
      "parameters:\n",
      "\tepochs=5,\n",
      "\tnoise=0.1,\n",
      "\toffset=0.3,\n",
      "\trate=0.1\n",
      "\n",
      "script: /mnt/athena/hpsearch/hpsearch/examples/dummy_experiment_manager.py, line number: 170\n",
      "time spent on this experiment: 0.0009200572967529297\n",
      "2 - validation_accuracy: 0.8565821600423733\n",
      "2 - test_accuracy: 0.7767473874212727\n",
      "finished experiment 10\n",
      "processing hyper-parameter 1 out of 9\n",
      "doing run 3 out of 5\n",
      "fixed rate, multiple epochs values\n",
      "running experiment 10\n",
      "run number: 3\n",
      "\n",
      "parameters:\n",
      "\tepochs=5,\n",
      "\tnoise=0.1,\n",
      "\toffset=0.3,\n",
      "\trate=0.1\n",
      "\n",
      "script: /mnt/athena/hpsearch/hpsearch/examples/dummy_experiment_manager.py, line number: 170\n",
      "time spent on this experiment: 0.0009267330169677734\n",
      "3 - validation_accuracy: 0.9424369441872313\n",
      "3 - test_accuracy: 0.880276140571187\n"
     ]
    },
    {
     "name": "stdout",
     "output_type": "stream",
     "text": [
      "current path: /mnt/athena/hpsearch/nbs/visualization\n",
      "fitting model with 5 epochs\n",
      "epoch 0: accuracy: 0.4\n",
      "epoch 1: accuracy: 0.5\n",
      "epoch 2: accuracy: 0.6\n",
      "epoch 3: accuracy: 0.7\n",
      "epoch 4: accuracy: 0.7999999999999999\n",
      "current path: /mnt/athena/hpsearch/nbs/visualization\n",
      "fitting model with 5 epochs\n",
      "epoch 0: accuracy: 0.4\n",
      "epoch 1: accuracy: 0.5\n",
      "epoch 2: accuracy: 0.6\n",
      "epoch 3: accuracy: 0.7\n",
      "epoch 4: accuracy: 0.7999999999999999\n",
      "current path: /mnt/athena/hpsearch/nbs/visualization\n",
      "fitting model with 5 epochs\n",
      "epoch 0: accuracy: 0.4\n",
      "epoch 1: accuracy: 0.5\n",
      "epoch 2: accuracy: 0.6\n",
      "epoch 3: accuracy: 0.7\n",
      "epoch 4: accuracy: 0.7999999999999999\n"
     ]
    },
    {
     "name": "stderr",
     "output_type": "stream",
     "text": [
      "finished experiment 10\n",
      "processing hyper-parameter 1 out of 9\n",
      "doing run 4 out of 5\n",
      "fixed rate, multiple epochs values\n",
      "running experiment 10\n",
      "run number: 4\n",
      "\n",
      "parameters:\n",
      "\tepochs=5,\n",
      "\tnoise=0.1,\n",
      "\toffset=0.3,\n",
      "\trate=0.1\n",
      "\n",
      "script: /mnt/athena/hpsearch/hpsearch/examples/dummy_experiment_manager.py, line number: 170\n",
      "time spent on this experiment: 0.00101470947265625\n",
      "4 - validation_accuracy: 0.7984915074076592\n",
      "4 - test_accuracy: 0.7632499444830612\n",
      "finished experiment 10\n",
      "processing hyper-parameter 2 out of 9\n",
      "doing run 0 out of 5\n",
      "fixed rate, multiple epochs values\n",
      "running experiment 11\n",
      "run number: 0\n",
      "\n",
      "parameters:\n",
      "\tepochs=5,\n",
      "\tnoise=0.1,\n",
      "\toffset=0.6,\n",
      "\trate=0.1\n",
      "\n",
      "script: /mnt/athena/hpsearch/hpsearch/examples/dummy_experiment_manager.py, line number: 170\n",
      "time spent on this experiment: 0.0010426044464111328\n",
      "0 - validation_accuracy: 1.0\n",
      "0 - test_accuracy: 1.0\n",
      "finished experiment 11\n",
      "processing hyper-parameter 2 out of 9\n",
      "doing run 1 out of 5\n",
      "fixed rate, multiple epochs values\n",
      "running experiment 11\n",
      "run number: 1\n",
      "\n",
      "parameters:\n",
      "\tepochs=5,\n",
      "\tnoise=0.1,\n",
      "\toffset=0.6,\n",
      "\trate=0.1\n",
      "\n",
      "script: /mnt/athena/hpsearch/hpsearch/examples/dummy_experiment_manager.py, line number: 170\n",
      "time spent on this experiment: 0.0009379386901855469\n",
      "1 - validation_accuracy: 1.0\n",
      "1 - test_accuracy: 1.0\n"
     ]
    },
    {
     "name": "stdout",
     "output_type": "stream",
     "text": [
      "current path: /mnt/athena/hpsearch/nbs/visualization\n",
      "fitting model with 5 epochs\n",
      "epoch 0: accuracy: 0.4\n",
      "epoch 1: accuracy: 0.5\n",
      "epoch 2: accuracy: 0.6\n",
      "epoch 3: accuracy: 0.7\n",
      "epoch 4: accuracy: 0.7999999999999999\n",
      "current path: /mnt/athena/hpsearch/nbs/visualization\n",
      "fitting model with 5 epochs\n",
      "epoch 0: accuracy: 0.7\n",
      "epoch 1: accuracy: 0.7999999999999999\n",
      "epoch 2: accuracy: 0.8999999999999999\n",
      "epoch 3: accuracy: 0.9999999999999999\n",
      "epoch 4: accuracy: 1.0999999999999999\n",
      "current path: /mnt/athena/hpsearch/nbs/visualization\n",
      "fitting model with 5 epochs\n",
      "epoch 0: accuracy: 0.7\n",
      "epoch 1: accuracy: 0.7999999999999999\n",
      "epoch 2: accuracy: 0.8999999999999999\n",
      "epoch 3: accuracy: 0.9999999999999999\n",
      "epoch 4: accuracy: 1.0999999999999999\n"
     ]
    },
    {
     "name": "stderr",
     "output_type": "stream",
     "text": [
      "finished experiment 11\n",
      "processing hyper-parameter 2 out of 9\n",
      "doing run 2 out of 5\n",
      "fixed rate, multiple epochs values\n",
      "running experiment 11\n",
      "run number: 2\n",
      "\n",
      "parameters:\n",
      "\tepochs=5,\n",
      "\tnoise=0.1,\n",
      "\toffset=0.6,\n",
      "\trate=0.1\n",
      "\n",
      "script: /mnt/athena/hpsearch/hpsearch/examples/dummy_experiment_manager.py, line number: 170\n",
      "time spent on this experiment: 0.0009377002716064453\n",
      "2 - validation_accuracy: 1.0\n",
      "2 - test_accuracy: 1.0\n",
      "finished experiment 11\n",
      "processing hyper-parameter 2 out of 9\n",
      "doing run 3 out of 5\n",
      "fixed rate, multiple epochs values\n",
      "running experiment 11\n",
      "run number: 3\n",
      "\n",
      "parameters:\n",
      "\tepochs=5,\n",
      "\tnoise=0.1,\n",
      "\toffset=0.6,\n",
      "\trate=0.1\n",
      "\n",
      "script: /mnt/athena/hpsearch/hpsearch/examples/dummy_experiment_manager.py, line number: 170\n",
      "time spent on this experiment: 0.0009272098541259766\n",
      "3 - validation_accuracy: 1.0\n",
      "3 - test_accuracy: 1.0\n",
      "finished experiment 11\n",
      "processing hyper-parameter 2 out of 9\n",
      "doing run 4 out of 5\n",
      "fixed rate, multiple epochs values\n",
      "running experiment 11\n",
      "run number: 4\n",
      "\n",
      "parameters:\n",
      "\tepochs=5,\n",
      "\tnoise=0.1,\n",
      "\toffset=0.6,\n",
      "\trate=0.1\n",
      "\n",
      "script: /mnt/athena/hpsearch/hpsearch/examples/dummy_experiment_manager.py, line number: 170\n",
      "time spent on this experiment: 0.0008814334869384766\n",
      "4 - validation_accuracy: 1.0\n",
      "4 - test_accuracy: 1.0\n"
     ]
    },
    {
     "name": "stdout",
     "output_type": "stream",
     "text": [
      "current path: /mnt/athena/hpsearch/nbs/visualization\n",
      "fitting model with 5 epochs\n",
      "epoch 0: accuracy: 0.7\n",
      "epoch 1: accuracy: 0.7999999999999999\n",
      "epoch 2: accuracy: 0.8999999999999999\n",
      "epoch 3: accuracy: 0.9999999999999999\n",
      "epoch 4: accuracy: 1.0999999999999999\n",
      "current path: /mnt/athena/hpsearch/nbs/visualization\n",
      "fitting model with 5 epochs\n",
      "epoch 0: accuracy: 0.7\n",
      "epoch 1: accuracy: 0.7999999999999999\n",
      "epoch 2: accuracy: 0.8999999999999999\n",
      "epoch 3: accuracy: 0.9999999999999999\n",
      "epoch 4: accuracy: 1.0999999999999999\n",
      "current path: /mnt/athena/hpsearch/nbs/visualization\n",
      "fitting model with 5 epochs\n",
      "epoch 0: accuracy: 0.7\n",
      "epoch 1: accuracy: 0.7999999999999999\n",
      "epoch 2: accuracy: 0.8999999999999999\n",
      "epoch 3: accuracy: 0.9999999999999999\n",
      "epoch 4: accuracy: 1.0999999999999999\n"
     ]
    },
    {
     "name": "stderr",
     "output_type": "stream",
     "text": [
      "finished experiment 11\n",
      "processing hyper-parameter 3 out of 9\n",
      "doing run 0 out of 5\n",
      "fixed rate, multiple epochs values\n",
      "running experiment 12\n",
      "run number: 0\n",
      "\n",
      "parameters:\n",
      "\tepochs=15,\n",
      "\tnoise=0.1,\n",
      "\toffset=0.1,\n",
      "\trate=0.1\n",
      "\n",
      "script: /mnt/athena/hpsearch/hpsearch/examples/dummy_experiment_manager.py, line number: 170\n",
      "time spent on this experiment: 0.002508878707885742\n",
      "0 - validation_accuracy: 1.0\n",
      "0 - test_accuracy: 1.0\n",
      "finished experiment 12\n",
      "processing hyper-parameter 3 out of 9\n",
      "doing run 1 out of 5\n",
      "fixed rate, multiple epochs values\n",
      "running experiment 12\n",
      "run number: 1\n",
      "\n",
      "parameters:\n",
      "\tepochs=15,\n",
      "\tnoise=0.1,\n",
      "\toffset=0.1,\n",
      "\trate=0.1\n",
      "\n",
      "script: /mnt/athena/hpsearch/hpsearch/examples/dummy_experiment_manager.py, line number: 170\n",
      "time spent on this experiment: 0.0018928050994873047\n",
      "1 - validation_accuracy: 1.0\n",
      "1 - test_accuracy: 1.0\n",
      "finished experiment 12\n",
      "processing hyper-parameter 3 out of 9\n",
      "doing run 2 out of 5\n",
      "fixed rate, multiple epochs values\n",
      "running experiment 12\n",
      "run number: 2\n",
      "\n",
      "parameters:\n",
      "\tepochs=15,\n",
      "\tnoise=0.1,\n",
      "\toffset=0.1,\n",
      "\trate=0.1\n",
      "\n"
     ]
    },
    {
     "name": "stdout",
     "output_type": "stream",
     "text": [
      "current path: /mnt/athena/hpsearch/nbs/visualization\n",
      "fitting model with 15 epochs\n",
      "epoch 0: accuracy: 0.2\n",
      "epoch 1: accuracy: 0.30000000000000004\n",
      "epoch 2: accuracy: 0.4\n",
      "epoch 3: accuracy: 0.5\n",
      "epoch 4: accuracy: 0.6\n",
      "epoch 5: accuracy: 0.7\n",
      "epoch 6: accuracy: 0.7999999999999999\n",
      "epoch 7: accuracy: 0.8999999999999999\n",
      "epoch 8: accuracy: 0.9999999999999999\n",
      "epoch 9: accuracy: 1.0999999999999999\n",
      "epoch 10: accuracy: 1.2\n",
      "epoch 11: accuracy: 1.3\n",
      "epoch 12: accuracy: 1.4000000000000001\n",
      "epoch 13: accuracy: 1.5000000000000002\n",
      "epoch 14: accuracy: 1.6000000000000003\n",
      "current path: /mnt/athena/hpsearch/nbs/visualization\n",
      "fitting model with 15 epochs\n",
      "epoch 0: accuracy: 0.2\n",
      "epoch 1: accuracy: 0.30000000000000004\n",
      "epoch 2: accuracy: 0.4\n",
      "epoch 3: accuracy: 0.5\n",
      "epoch 4: accuracy: 0.6\n",
      "epoch 5: accuracy: 0.7\n",
      "epoch 6: accuracy: 0.7999999999999999\n",
      "epoch 7: accuracy: 0.8999999999999999\n",
      "epoch 8: accuracy: 0.9999999999999999\n",
      "epoch 9: accuracy: 1.0999999999999999\n",
      "epoch 10: accuracy: 1.2\n",
      "epoch 11: accuracy: 1.3\n",
      "epoch 12: accuracy: 1.4000000000000001\n",
      "epoch 13: accuracy: 1.5000000000000002\n",
      "epoch 14: accuracy: 1.6000000000000003\n",
      "current path: /mnt/athena/hpsearch/nbs/visualization\n"
     ]
    },
    {
     "name": "stderr",
     "output_type": "stream",
     "text": [
      "script: /mnt/athena/hpsearch/hpsearch/examples/dummy_experiment_manager.py, line number: 170\n",
      "time spent on this experiment: 0.002164125442504883\n",
      "2 - validation_accuracy: 1.0\n",
      "2 - test_accuracy: 1.0\n",
      "finished experiment 12\n",
      "processing hyper-parameter 3 out of 9\n",
      "doing run 3 out of 5\n",
      "fixed rate, multiple epochs values\n",
      "running experiment 12\n",
      "run number: 3\n",
      "\n",
      "parameters:\n",
      "\tepochs=15,\n",
      "\tnoise=0.1,\n",
      "\toffset=0.1,\n",
      "\trate=0.1\n",
      "\n",
      "script: /mnt/athena/hpsearch/hpsearch/examples/dummy_experiment_manager.py, line number: 170\n",
      "time spent on this experiment: 0.0019173622131347656\n",
      "3 - validation_accuracy: 1.0\n",
      "3 - test_accuracy: 1.0\n",
      "finished experiment 12\n",
      "processing hyper-parameter 3 out of 9\n",
      "doing run 4 out of 5\n",
      "fixed rate, multiple epochs values\n",
      "running experiment 12\n",
      "run number: 4\n",
      "\n",
      "parameters:\n",
      "\tepochs=15,\n",
      "\tnoise=0.1,\n",
      "\toffset=0.1,\n",
      "\trate=0.1\n",
      "\n",
      "script: /mnt/athena/hpsearch/hpsearch/examples/dummy_experiment_manager.py, line number: 170\n",
      "time spent on this experiment: 0.0019822120666503906\n",
      "4 - validation_accuracy: 1.0\n",
      "4 - test_accuracy: 1.0\n",
      "finished experiment 12\n",
      "processing hyper-parameter 4 out of 9\n",
      "doing run 0 out of 5\n",
      "fixed rate, multiple epochs values\n"
     ]
    },
    {
     "name": "stdout",
     "output_type": "stream",
     "text": [
      "fitting model with 15 epochs\n",
      "epoch 0: accuracy: 0.2\n",
      "epoch 1: accuracy: 0.30000000000000004\n",
      "epoch 2: accuracy: 0.4\n",
      "epoch 3: accuracy: 0.5\n",
      "epoch 4: accuracy: 0.6\n",
      "epoch 5: accuracy: 0.7\n",
      "epoch 6: accuracy: 0.7999999999999999\n",
      "epoch 7: accuracy: 0.8999999999999999\n",
      "epoch 8: accuracy: 0.9999999999999999\n",
      "epoch 9: accuracy: 1.0999999999999999\n",
      "epoch 10: accuracy: 1.2\n",
      "epoch 11: accuracy: 1.3\n",
      "epoch 12: accuracy: 1.4000000000000001\n",
      "epoch 13: accuracy: 1.5000000000000002\n",
      "epoch 14: accuracy: 1.6000000000000003\n",
      "current path: /mnt/athena/hpsearch/nbs/visualization\n",
      "fitting model with 15 epochs\n",
      "epoch 0: accuracy: 0.2\n",
      "epoch 1: accuracy: 0.30000000000000004\n",
      "epoch 2: accuracy: 0.4\n",
      "epoch 3: accuracy: 0.5\n",
      "epoch 4: accuracy: 0.6\n",
      "epoch 5: accuracy: 0.7\n",
      "epoch 6: accuracy: 0.7999999999999999\n",
      "epoch 7: accuracy: 0.8999999999999999\n",
      "epoch 8: accuracy: 0.9999999999999999\n",
      "epoch 9: accuracy: 1.0999999999999999\n",
      "epoch 10: accuracy: 1.2\n",
      "epoch 11: accuracy: 1.3\n",
      "epoch 12: accuracy: 1.4000000000000001\n",
      "epoch 13: accuracy: 1.5000000000000002\n",
      "epoch 14: accuracy: 1.6000000000000003\n",
      "current path: /mnt/athena/hpsearch/nbs/visualization\n",
      "fitting model with 15 epochs\n",
      "epoch 0: accuracy: 0.2\n",
      "epoch 1: accuracy: 0.30000000000000004\n",
      "epoch 2: accuracy: 0.4\n",
      "epoch 3: accuracy: 0.5\n",
      "epoch 4: accuracy: 0.6\n",
      "epoch 5: accuracy: 0.7\n",
      "epoch 6: accuracy: 0.7999999999999999\n",
      "epoch 7: accuracy: 0.8999999999999999\n",
      "epoch 8: accuracy: 0.9999999999999999\n",
      "epoch 9: accuracy: 1.0999999999999999\n",
      "epoch 10: accuracy: 1.2\n",
      "epoch 11: accuracy: 1.3\n",
      "epoch 12: accuracy: 1.4000000000000001\n",
      "epoch 13: accuracy: 1.5000000000000002\n",
      "epoch 14: accuracy: 1.6000000000000003\n",
      "current path: /mnt/athena/hpsearch/nbs/visualization\n"
     ]
    },
    {
     "name": "stderr",
     "output_type": "stream",
     "text": [
      "running experiment 13\n",
      "run number: 0\n",
      "\n",
      "parameters:\n",
      "\tepochs=15,\n",
      "\tnoise=0.1,\n",
      "\toffset=0.3,\n",
      "\trate=0.1\n",
      "\n",
      "script: /mnt/athena/hpsearch/hpsearch/examples/dummy_experiment_manager.py, line number: 170\n",
      "time spent on this experiment: 0.002238035202026367\n",
      "0 - validation_accuracy: 1.0\n",
      "0 - test_accuracy: 1.0\n",
      "finished experiment 13\n",
      "processing hyper-parameter 4 out of 9\n",
      "doing run 1 out of 5\n",
      "fixed rate, multiple epochs values\n",
      "running experiment 13\n",
      "run number: 1\n",
      "\n",
      "parameters:\n",
      "\tepochs=15,\n",
      "\tnoise=0.1,\n",
      "\toffset=0.3,\n",
      "\trate=0.1\n",
      "\n",
      "script: /mnt/athena/hpsearch/hpsearch/examples/dummy_experiment_manager.py, line number: 170\n",
      "time spent on this experiment: 0.0020008087158203125\n",
      "1 - validation_accuracy: 1.0\n",
      "1 - test_accuracy: 1.0\n",
      "finished experiment 13\n",
      "processing hyper-parameter 4 out of 9\n",
      "doing run 2 out of 5\n",
      "fixed rate, multiple epochs values\n",
      "running experiment 13\n",
      "run number: 2\n",
      "\n",
      "parameters:\n",
      "\tepochs=15,\n",
      "\tnoise=0.1,\n",
      "\toffset=0.3,\n",
      "\trate=0.1\n",
      "\n",
      "script: /mnt/athena/hpsearch/hpsearch/examples/dummy_experiment_manager.py, line number: 170\n",
      "time spent on this experiment: 0.0023975372314453125\n",
      "2 - validation_accuracy: 1.0\n",
      "2 - test_accuracy: 1.0\n",
      "finished experiment 13\n",
      "processing hyper-parameter 4 out of 9\n",
      "doing run 3 out of 5\n",
      "fixed rate, multiple epochs values\n"
     ]
    },
    {
     "name": "stdout",
     "output_type": "stream",
     "text": [
      "fitting model with 15 epochs\n",
      "epoch 0: accuracy: 0.4\n",
      "epoch 1: accuracy: 0.5\n",
      "epoch 2: accuracy: 0.6\n",
      "epoch 3: accuracy: 0.7\n",
      "epoch 4: accuracy: 0.7999999999999999\n",
      "epoch 5: accuracy: 0.8999999999999999\n",
      "epoch 6: accuracy: 0.9999999999999999\n",
      "epoch 7: accuracy: 1.0999999999999999\n",
      "epoch 8: accuracy: 1.2\n",
      "epoch 9: accuracy: 1.3\n",
      "epoch 10: accuracy: 1.4000000000000001\n",
      "epoch 11: accuracy: 1.5000000000000002\n",
      "epoch 12: accuracy: 1.6000000000000003\n",
      "epoch 13: accuracy: 1.7000000000000004\n",
      "epoch 14: accuracy: 1.8000000000000005\n",
      "current path: /mnt/athena/hpsearch/nbs/visualization\n",
      "fitting model with 15 epochs\n",
      "epoch 0: accuracy: 0.4\n",
      "epoch 1: accuracy: 0.5\n",
      "epoch 2: accuracy: 0.6\n",
      "epoch 3: accuracy: 0.7\n",
      "epoch 4: accuracy: 0.7999999999999999\n",
      "epoch 5: accuracy: 0.8999999999999999\n",
      "epoch 6: accuracy: 0.9999999999999999\n",
      "epoch 7: accuracy: 1.0999999999999999\n",
      "epoch 8: accuracy: 1.2\n",
      "epoch 9: accuracy: 1.3\n",
      "epoch 10: accuracy: 1.4000000000000001\n",
      "epoch 11: accuracy: 1.5000000000000002\n",
      "epoch 12: accuracy: 1.6000000000000003\n",
      "epoch 13: accuracy: 1.7000000000000004\n",
      "epoch 14: accuracy: 1.8000000000000005\n",
      "current path: /mnt/athena/hpsearch/nbs/visualization\n",
      "fitting model with 15 epochs\n",
      "epoch 0: accuracy: 0.4\n",
      "epoch 1: accuracy: 0.5\n",
      "epoch 2: accuracy: 0.6\n",
      "epoch 3: accuracy: 0.7\n",
      "epoch 4: accuracy: 0.7999999999999999\n",
      "epoch 5: accuracy: 0.8999999999999999\n",
      "epoch 6: accuracy: 0.9999999999999999\n",
      "epoch 7: accuracy: 1.0999999999999999\n",
      "epoch 8: accuracy: 1.2\n",
      "epoch 9: accuracy: 1.3\n",
      "epoch 10: accuracy: 1.4000000000000001\n",
      "epoch 11: accuracy: 1.5000000000000002\n",
      "epoch 12: accuracy: 1.6000000000000003\n",
      "epoch 13: accuracy: 1.7000000000000004\n",
      "epoch 14: accuracy: 1.8000000000000005\n",
      "current path: /mnt/athena/hpsearch/nbs/visualization\n"
     ]
    },
    {
     "name": "stderr",
     "output_type": "stream",
     "text": [
      "running experiment 13\n",
      "run number: 3\n",
      "\n",
      "parameters:\n",
      "\tepochs=15,\n",
      "\tnoise=0.1,\n",
      "\toffset=0.3,\n",
      "\trate=0.1\n",
      "\n",
      "script: /mnt/athena/hpsearch/hpsearch/examples/dummy_experiment_manager.py, line number: 170\n",
      "time spent on this experiment: 0.001890420913696289\n",
      "3 - validation_accuracy: 1.0\n",
      "3 - test_accuracy: 1.0\n",
      "finished experiment 13\n",
      "processing hyper-parameter 4 out of 9\n",
      "doing run 4 out of 5\n",
      "fixed rate, multiple epochs values\n",
      "running experiment 13\n",
      "run number: 4\n",
      "\n",
      "parameters:\n",
      "\tepochs=15,\n",
      "\tnoise=0.1,\n",
      "\toffset=0.3,\n",
      "\trate=0.1\n",
      "\n",
      "script: /mnt/athena/hpsearch/hpsearch/examples/dummy_experiment_manager.py, line number: 170\n",
      "time spent on this experiment: 0.0025942325592041016\n",
      "4 - validation_accuracy: 1.0\n",
      "4 - test_accuracy: 1.0\n",
      "finished experiment 13\n",
      "processing hyper-parameter 5 out of 9\n",
      "doing run 0 out of 5\n",
      "fixed rate, multiple epochs values\n",
      "running experiment 14\n",
      "run number: 0\n",
      "\n",
      "parameters:\n",
      "\tepochs=15,\n",
      "\tnoise=0.1,\n",
      "\toffset=0.6,\n",
      "\trate=0.1\n",
      "\n",
      "script: /mnt/athena/hpsearch/hpsearch/examples/dummy_experiment_manager.py, line number: 170\n",
      "time spent on this experiment: 0.0018415451049804688\n",
      "0 - validation_accuracy: 1.0\n",
      "0 - test_accuracy: 1.0\n",
      "finished experiment 14\n",
      "processing hyper-parameter 5 out of 9\n",
      "doing run 1 out of 5\n",
      "fixed rate, multiple epochs values\n"
     ]
    },
    {
     "name": "stdout",
     "output_type": "stream",
     "text": [
      "fitting model with 15 epochs\n",
      "epoch 0: accuracy: 0.4\n",
      "epoch 1: accuracy: 0.5\n",
      "epoch 2: accuracy: 0.6\n",
      "epoch 3: accuracy: 0.7\n",
      "epoch 4: accuracy: 0.7999999999999999\n",
      "epoch 5: accuracy: 0.8999999999999999\n",
      "epoch 6: accuracy: 0.9999999999999999\n",
      "epoch 7: accuracy: 1.0999999999999999\n",
      "epoch 8: accuracy: 1.2\n",
      "epoch 9: accuracy: 1.3\n",
      "epoch 10: accuracy: 1.4000000000000001\n",
      "epoch 11: accuracy: 1.5000000000000002\n",
      "epoch 12: accuracy: 1.6000000000000003\n",
      "epoch 13: accuracy: 1.7000000000000004\n",
      "epoch 14: accuracy: 1.8000000000000005\n",
      "current path: /mnt/athena/hpsearch/nbs/visualization\n",
      "fitting model with 15 epochs\n",
      "epoch 0: accuracy: 0.4\n",
      "epoch 1: accuracy: 0.5\n",
      "epoch 2: accuracy: 0.6\n",
      "epoch 3: accuracy: 0.7\n",
      "epoch 4: accuracy: 0.7999999999999999\n",
      "epoch 5: accuracy: 0.8999999999999999\n",
      "epoch 6: accuracy: 0.9999999999999999\n",
      "epoch 7: accuracy: 1.0999999999999999\n",
      "epoch 8: accuracy: 1.2\n",
      "epoch 9: accuracy: 1.3\n",
      "epoch 10: accuracy: 1.4000000000000001\n",
      "epoch 11: accuracy: 1.5000000000000002\n",
      "epoch 12: accuracy: 1.6000000000000003\n",
      "epoch 13: accuracy: 1.7000000000000004\n",
      "epoch 14: accuracy: 1.8000000000000005\n",
      "current path: /mnt/athena/hpsearch/nbs/visualization\n",
      "fitting model with 15 epochs\n",
      "epoch 0: accuracy: 0.7\n",
      "epoch 1: accuracy: 0.7999999999999999\n",
      "epoch 2: accuracy: 0.8999999999999999\n",
      "epoch 3: accuracy: 0.9999999999999999\n",
      "epoch 4: accuracy: 1.0999999999999999\n",
      "epoch 5: accuracy: 1.2\n",
      "epoch 6: accuracy: 1.3\n",
      "epoch 7: accuracy: 1.4000000000000001\n",
      "epoch 8: accuracy: 1.5000000000000002\n",
      "epoch 9: accuracy: 1.6000000000000003\n",
      "epoch 10: accuracy: 1.7000000000000004\n",
      "epoch 11: accuracy: 1.8000000000000005\n",
      "epoch 12: accuracy: 1.9000000000000006\n",
      "epoch 13: accuracy: 2.0000000000000004\n",
      "epoch 14: accuracy: 2.1000000000000005\n",
      "current path: /mnt/athena/hpsearch/nbs/visualization\n"
     ]
    },
    {
     "name": "stderr",
     "output_type": "stream",
     "text": [
      "running experiment 14\n",
      "run number: 1\n",
      "\n",
      "parameters:\n",
      "\tepochs=15,\n",
      "\tnoise=0.1,\n",
      "\toffset=0.6,\n",
      "\trate=0.1\n",
      "\n",
      "script: /mnt/athena/hpsearch/hpsearch/examples/dummy_experiment_manager.py, line number: 170\n",
      "time spent on this experiment: 0.0019762516021728516\n",
      "1 - validation_accuracy: 1.0\n",
      "1 - test_accuracy: 1.0\n",
      "finished experiment 14\n",
      "processing hyper-parameter 5 out of 9\n",
      "doing run 2 out of 5\n",
      "fixed rate, multiple epochs values\n",
      "running experiment 14\n",
      "run number: 2\n",
      "\n",
      "parameters:\n",
      "\tepochs=15,\n",
      "\tnoise=0.1,\n",
      "\toffset=0.6,\n",
      "\trate=0.1\n",
      "\n",
      "script: /mnt/athena/hpsearch/hpsearch/examples/dummy_experiment_manager.py, line number: 170\n",
      "time spent on this experiment: 0.001949310302734375\n",
      "2 - validation_accuracy: 1.0\n",
      "2 - test_accuracy: 1.0\n",
      "finished experiment 14\n",
      "processing hyper-parameter 5 out of 9\n",
      "doing run 3 out of 5\n",
      "fixed rate, multiple epochs values\n",
      "running experiment 14\n",
      "run number: 3\n",
      "\n",
      "parameters:\n",
      "\tepochs=15,\n",
      "\tnoise=0.1,\n",
      "\toffset=0.6,\n",
      "\trate=0.1\n",
      "\n",
      "script: /mnt/athena/hpsearch/hpsearch/examples/dummy_experiment_manager.py, line number: 170\n",
      "time spent on this experiment: 0.0021164417266845703\n",
      "3 - validation_accuracy: 1.0\n",
      "3 - test_accuracy: 1.0\n",
      "finished experiment 14\n",
      "processing hyper-parameter 5 out of 9\n",
      "doing run 4 out of 5\n",
      "fixed rate, multiple epochs values\n"
     ]
    },
    {
     "name": "stdout",
     "output_type": "stream",
     "text": [
      "fitting model with 15 epochs\n",
      "epoch 0: accuracy: 0.7\n",
      "epoch 1: accuracy: 0.7999999999999999\n",
      "epoch 2: accuracy: 0.8999999999999999\n",
      "epoch 3: accuracy: 0.9999999999999999\n",
      "epoch 4: accuracy: 1.0999999999999999\n",
      "epoch 5: accuracy: 1.2\n",
      "epoch 6: accuracy: 1.3\n",
      "epoch 7: accuracy: 1.4000000000000001\n",
      "epoch 8: accuracy: 1.5000000000000002\n",
      "epoch 9: accuracy: 1.6000000000000003\n",
      "epoch 10: accuracy: 1.7000000000000004\n",
      "epoch 11: accuracy: 1.8000000000000005\n",
      "epoch 12: accuracy: 1.9000000000000006\n",
      "epoch 13: accuracy: 2.0000000000000004\n",
      "epoch 14: accuracy: 2.1000000000000005\n",
      "current path: /mnt/athena/hpsearch/nbs/visualization\n",
      "fitting model with 15 epochs\n",
      "epoch 0: accuracy: 0.7\n",
      "epoch 1: accuracy: 0.7999999999999999\n",
      "epoch 2: accuracy: 0.8999999999999999\n",
      "epoch 3: accuracy: 0.9999999999999999\n",
      "epoch 4: accuracy: 1.0999999999999999\n",
      "epoch 5: accuracy: 1.2\n",
      "epoch 6: accuracy: 1.3\n",
      "epoch 7: accuracy: 1.4000000000000001\n",
      "epoch 8: accuracy: 1.5000000000000002\n",
      "epoch 9: accuracy: 1.6000000000000003\n",
      "epoch 10: accuracy: 1.7000000000000004\n",
      "epoch 11: accuracy: 1.8000000000000005\n",
      "epoch 12: accuracy: 1.9000000000000006\n",
      "epoch 13: accuracy: 2.0000000000000004\n",
      "epoch 14: accuracy: 2.1000000000000005\n",
      "current path: /mnt/athena/hpsearch/nbs/visualization\n",
      "fitting model with 15 epochs\n",
      "epoch 0: accuracy: 0.7\n",
      "epoch 1: accuracy: 0.7999999999999999\n",
      "epoch 2: accuracy: 0.8999999999999999\n",
      "epoch 3: accuracy: 0.9999999999999999\n",
      "epoch 4: accuracy: 1.0999999999999999\n",
      "epoch 5: accuracy: 1.2\n",
      "epoch 6: accuracy: 1.3\n",
      "epoch 7: accuracy: 1.4000000000000001\n",
      "epoch 8: accuracy: 1.5000000000000002\n",
      "epoch 9: accuracy: 1.6000000000000003\n",
      "epoch 10: accuracy: 1.7000000000000004\n",
      "epoch 11: accuracy: 1.8000000000000005\n",
      "epoch 12: accuracy: 1.9000000000000006\n",
      "epoch 13: accuracy: 2.0000000000000004\n",
      "epoch 14: accuracy: 2.1000000000000005\n",
      "current path: /mnt/athena/hpsearch/nbs/visualization\n"
     ]
    },
    {
     "name": "stderr",
     "output_type": "stream",
     "text": [
      "running experiment 14\n",
      "run number: 4\n",
      "\n",
      "parameters:\n",
      "\tepochs=15,\n",
      "\tnoise=0.1,\n",
      "\toffset=0.6,\n",
      "\trate=0.1\n",
      "\n",
      "script: /mnt/athena/hpsearch/hpsearch/examples/dummy_experiment_manager.py, line number: 170\n",
      "time spent on this experiment: 0.0019178390502929688\n",
      "4 - validation_accuracy: 1.0\n",
      "4 - test_accuracy: 1.0\n",
      "finished experiment 14\n",
      "processing hyper-parameter 6 out of 9\n",
      "doing run 0 out of 5\n",
      "fixed rate, multiple epochs values\n",
      "running experiment 15\n",
      "run number: 0\n",
      "\n",
      "parameters:\n",
      "\tepochs=30,\n",
      "\tnoise=0.1,\n",
      "\toffset=0.1,\n",
      "\trate=0.1\n",
      "\n",
      "script: /mnt/athena/hpsearch/hpsearch/examples/dummy_experiment_manager.py, line number: 170\n",
      "time spent on this experiment: 0.0033636093139648438\n",
      "0 - validation_accuracy: 1.0\n",
      "0 - test_accuracy: 1.0\n",
      "finished experiment 15\n",
      "processing hyper-parameter 6 out of 9\n",
      "doing run 1 out of 5\n",
      "fixed rate, multiple epochs values\n",
      "running experiment 15\n",
      "run number: 1\n",
      "\n",
      "parameters:\n",
      "\tepochs=30,\n",
      "\tnoise=0.1,\n",
      "\toffset=0.1,\n",
      "\trate=0.1\n",
      "\n",
      "script: /mnt/athena/hpsearch/hpsearch/examples/dummy_experiment_manager.py, line number: 170\n",
      "time spent on this experiment: 0.0033707618713378906\n",
      "1 - validation_accuracy: 1.0\n",
      "1 - test_accuracy: 0.943425742636402\n",
      "finished experiment 15\n",
      "processing hyper-parameter 6 out of 9\n",
      "doing run 2 out of 5\n",
      "fixed rate, multiple epochs values\n"
     ]
    },
    {
     "name": "stdout",
     "output_type": "stream",
     "text": [
      "fitting model with 15 epochs\n",
      "epoch 0: accuracy: 0.7\n",
      "epoch 1: accuracy: 0.7999999999999999\n",
      "epoch 2: accuracy: 0.8999999999999999\n",
      "epoch 3: accuracy: 0.9999999999999999\n",
      "epoch 4: accuracy: 1.0999999999999999\n",
      "epoch 5: accuracy: 1.2\n",
      "epoch 6: accuracy: 1.3\n",
      "epoch 7: accuracy: 1.4000000000000001\n",
      "epoch 8: accuracy: 1.5000000000000002\n",
      "epoch 9: accuracy: 1.6000000000000003\n",
      "epoch 10: accuracy: 1.7000000000000004\n",
      "epoch 11: accuracy: 1.8000000000000005\n",
      "epoch 12: accuracy: 1.9000000000000006\n",
      "epoch 13: accuracy: 2.0000000000000004\n",
      "epoch 14: accuracy: 2.1000000000000005\n",
      "current path: /mnt/athena/hpsearch/nbs/visualization\n",
      "fitting model with 30 epochs\n",
      "epoch 0: accuracy: 0.2\n",
      "epoch 1: accuracy: 0.30000000000000004\n",
      "epoch 2: accuracy: 0.4\n",
      "epoch 3: accuracy: 0.5\n",
      "epoch 4: accuracy: 0.6\n",
      "epoch 5: accuracy: 0.7\n",
      "epoch 6: accuracy: 0.7999999999999999\n",
      "epoch 7: accuracy: 0.8999999999999999\n",
      "epoch 8: accuracy: 0.9999999999999999\n",
      "epoch 9: accuracy: 1.0999999999999999\n",
      "epoch 10: accuracy: 1.2\n",
      "epoch 11: accuracy: 1.3\n",
      "epoch 12: accuracy: 1.4000000000000001\n",
      "epoch 13: accuracy: 1.5000000000000002\n",
      "epoch 14: accuracy: 1.6000000000000003\n",
      "epoch 15: accuracy: 1.7000000000000004\n",
      "epoch 16: accuracy: 1.8000000000000005\n",
      "epoch 17: accuracy: 1.9000000000000006\n",
      "epoch 18: accuracy: 2.0000000000000004\n",
      "epoch 19: accuracy: 2.1000000000000005\n",
      "epoch 20: accuracy: 2.0000000000000004\n",
      "epoch 21: accuracy: 1.9000000000000004\n",
      "epoch 22: accuracy: 1.8000000000000003\n",
      "epoch 23: accuracy: 1.7000000000000002\n",
      "epoch 24: accuracy: 1.6\n",
      "epoch 25: accuracy: 1.5\n",
      "epoch 26: accuracy: 1.4\n",
      "epoch 27: accuracy: 1.2999999999999998\n",
      "epoch 28: accuracy: 1.1999999999999997\n",
      "epoch 29: accuracy: 1.0999999999999996\n",
      "current path: /mnt/athena/hpsearch/nbs/visualization\n",
      "fitting model with 30 epochs\n",
      "epoch 0: accuracy: 0.2\n",
      "epoch 1: accuracy: 0.30000000000000004\n",
      "epoch 2: accuracy: 0.4\n",
      "epoch 3: accuracy: 0.5\n",
      "epoch 4: accuracy: 0.6\n",
      "epoch 5: accuracy: 0.7\n",
      "epoch 6: accuracy: 0.7999999999999999\n",
      "epoch 7: accuracy: 0.8999999999999999\n",
      "epoch 8: accuracy: 0.9999999999999999\n",
      "epoch 9: accuracy: 1.0999999999999999\n",
      "epoch 10: accuracy: 1.2\n",
      "epoch 11: accuracy: 1.3\n",
      "epoch 12: accuracy: 1.4000000000000001\n",
      "epoch 13: accuracy: 1.5000000000000002\n",
      "epoch 14: accuracy: 1.6000000000000003\n",
      "epoch 15: accuracy: 1.7000000000000004\n",
      "epoch 16: accuracy: 1.8000000000000005\n",
      "epoch 17: accuracy: 1.9000000000000006\n",
      "epoch 18: accuracy: 2.0000000000000004\n",
      "epoch 19: accuracy: 2.1000000000000005\n",
      "epoch 20: accuracy: 2.0000000000000004\n",
      "epoch 21: accuracy: 1.9000000000000004\n",
      "epoch 22: accuracy: 1.8000000000000003\n",
      "epoch 23: accuracy: 1.7000000000000002\n",
      "epoch 24: accuracy: 1.6\n",
      "epoch 25: accuracy: 1.5\n",
      "epoch 26: accuracy: 1.4\n",
      "epoch 27: accuracy: 1.2999999999999998\n",
      "epoch 28: accuracy: 1.1999999999999997\n",
      "epoch 29: accuracy: 1.0999999999999996\n",
      "current path: /mnt/athena/hpsearch/nbs/visualization\n"
     ]
    },
    {
     "name": "stderr",
     "output_type": "stream",
     "text": [
      "running experiment 15\n",
      "run number: 2\n",
      "\n",
      "parameters:\n",
      "\tepochs=30,\n",
      "\tnoise=0.1,\n",
      "\toffset=0.1,\n",
      "\trate=0.1\n",
      "\n",
      "script: /mnt/athena/hpsearch/hpsearch/examples/dummy_experiment_manager.py, line number: 170\n",
      "time spent on this experiment: 0.003696441650390625\n",
      "2 - validation_accuracy: 0.9915982344641578\n",
      "2 - test_accuracy: 0.9357029914189887\n",
      "finished experiment 15\n",
      "processing hyper-parameter 6 out of 9\n",
      "doing run 3 out of 5\n",
      "fixed rate, multiple epochs values\n",
      "running experiment 15\n",
      "run number: 3\n",
      "\n",
      "parameters:\n",
      "\tepochs=30,\n",
      "\tnoise=0.1,\n",
      "\toffset=0.1,\n",
      "\trate=0.1\n",
      "\n",
      "script: /mnt/athena/hpsearch/hpsearch/examples/dummy_experiment_manager.py, line number: 170\n",
      "time spent on this experiment: 0.003444671630859375\n",
      "3 - validation_accuracy: 1.0\n",
      "3 - test_accuracy: 0.9191055728594711\n",
      "finished experiment 15\n",
      "processing hyper-parameter 6 out of 9\n",
      "doing run 4 out of 5\n",
      "fixed rate, multiple epochs values\n",
      "running experiment 15\n",
      "run number: 4\n",
      "\n",
      "parameters:\n",
      "\tepochs=30,\n",
      "\tnoise=0.1,\n",
      "\toffset=0.1,\n",
      "\trate=0.1\n",
      "\n",
      "script: /mnt/athena/hpsearch/hpsearch/examples/dummy_experiment_manager.py, line number: 170\n",
      "time spent on this experiment: 0.0033826828002929688\n",
      "4 - validation_accuracy: 1.0\n",
      "4 - test_accuracy: 0.7456047883972357\n",
      "finished experiment 15\n",
      "processing hyper-parameter 7 out of 9\n",
      "doing run 0 out of 5\n",
      "fixed rate, multiple epochs values\n"
     ]
    },
    {
     "name": "stdout",
     "output_type": "stream",
     "text": [
      "fitting model with 30 epochs\n",
      "epoch 0: accuracy: 0.2\n",
      "epoch 1: accuracy: 0.30000000000000004\n",
      "epoch 2: accuracy: 0.4\n",
      "epoch 3: accuracy: 0.5\n",
      "epoch 4: accuracy: 0.6\n",
      "epoch 5: accuracy: 0.7\n",
      "epoch 6: accuracy: 0.7999999999999999\n",
      "epoch 7: accuracy: 0.8999999999999999\n",
      "epoch 8: accuracy: 0.9999999999999999\n",
      "epoch 9: accuracy: 1.0999999999999999\n",
      "epoch 10: accuracy: 1.2\n",
      "epoch 11: accuracy: 1.3\n",
      "epoch 12: accuracy: 1.4000000000000001\n",
      "epoch 13: accuracy: 1.5000000000000002\n",
      "epoch 14: accuracy: 1.6000000000000003\n",
      "epoch 15: accuracy: 1.7000000000000004\n",
      "epoch 16: accuracy: 1.8000000000000005\n",
      "epoch 17: accuracy: 1.9000000000000006\n",
      "epoch 18: accuracy: 2.0000000000000004\n",
      "epoch 19: accuracy: 2.1000000000000005\n",
      "epoch 20: accuracy: 2.0000000000000004\n",
      "epoch 21: accuracy: 1.9000000000000004\n",
      "epoch 22: accuracy: 1.8000000000000003\n",
      "epoch 23: accuracy: 1.7000000000000002\n",
      "epoch 24: accuracy: 1.6\n",
      "epoch 25: accuracy: 1.5\n",
      "epoch 26: accuracy: 1.4\n",
      "epoch 27: accuracy: 1.2999999999999998\n",
      "epoch 28: accuracy: 1.1999999999999997\n",
      "epoch 29: accuracy: 1.0999999999999996\n",
      "current path: /mnt/athena/hpsearch/nbs/visualization\n",
      "fitting model with 30 epochs\n",
      "epoch 0: accuracy: 0.2\n",
      "epoch 1: accuracy: 0.30000000000000004\n",
      "epoch 2: accuracy: 0.4\n",
      "epoch 3: accuracy: 0.5\n",
      "epoch 4: accuracy: 0.6\n",
      "epoch 5: accuracy: 0.7\n",
      "epoch 6: accuracy: 0.7999999999999999\n",
      "epoch 7: accuracy: 0.8999999999999999\n",
      "epoch 8: accuracy: 0.9999999999999999\n",
      "epoch 9: accuracy: 1.0999999999999999\n",
      "epoch 10: accuracy: 1.2\n",
      "epoch 11: accuracy: 1.3\n",
      "epoch 12: accuracy: 1.4000000000000001\n",
      "epoch 13: accuracy: 1.5000000000000002\n",
      "epoch 14: accuracy: 1.6000000000000003\n",
      "epoch 15: accuracy: 1.7000000000000004\n",
      "epoch 16: accuracy: 1.8000000000000005\n",
      "epoch 17: accuracy: 1.9000000000000006\n",
      "epoch 18: accuracy: 2.0000000000000004\n",
      "epoch 19: accuracy: 2.1000000000000005\n",
      "epoch 20: accuracy: 2.0000000000000004\n",
      "epoch 21: accuracy: 1.9000000000000004\n",
      "epoch 22: accuracy: 1.8000000000000003\n",
      "epoch 23: accuracy: 1.7000000000000002\n",
      "epoch 24: accuracy: 1.6\n",
      "epoch 25: accuracy: 1.5\n",
      "epoch 26: accuracy: 1.4\n",
      "epoch 27: accuracy: 1.2999999999999998\n",
      "epoch 28: accuracy: 1.1999999999999997\n",
      "epoch 29: accuracy: 1.0999999999999996\n",
      "current path: /mnt/athena/hpsearch/nbs/visualization\n",
      "fitting model with 30 epochs\n",
      "epoch 0: accuracy: 0.2\n",
      "epoch 1: accuracy: 0.30000000000000004\n",
      "epoch 2: accuracy: 0.4\n",
      "epoch 3: accuracy: 0.5\n",
      "epoch 4: accuracy: 0.6\n",
      "epoch 5: accuracy: 0.7\n",
      "epoch 6: accuracy: 0.7999999999999999\n",
      "epoch 7: accuracy: 0.8999999999999999\n",
      "epoch 8: accuracy: 0.9999999999999999\n",
      "epoch 9: accuracy: 1.0999999999999999\n",
      "epoch 10: accuracy: 1.2\n",
      "epoch 11: accuracy: 1.3\n",
      "epoch 12: accuracy: 1.4000000000000001\n",
      "epoch 13: accuracy: 1.5000000000000002\n",
      "epoch 14: accuracy: 1.6000000000000003\n",
      "epoch 15: accuracy: 1.7000000000000004\n",
      "epoch 16: accuracy: 1.8000000000000005\n",
      "epoch 17: accuracy: 1.9000000000000006\n",
      "epoch 18: accuracy: 2.0000000000000004\n",
      "epoch 19: accuracy: 2.1000000000000005\n",
      "epoch 20: accuracy: 2.0000000000000004\n",
      "epoch 21: accuracy: 1.9000000000000004\n",
      "epoch 22: accuracy: 1.8000000000000003\n",
      "epoch 23: accuracy: 1.7000000000000002\n",
      "epoch 24: accuracy: 1.6\n",
      "epoch 25: accuracy: 1.5\n",
      "epoch 26: accuracy: 1.4\n",
      "epoch 27: accuracy: 1.2999999999999998\n",
      "epoch 28: accuracy: 1.1999999999999997\n",
      "epoch 29: accuracy: 1.0999999999999996\n",
      "current path: /mnt/athena/hpsearch/nbs/visualization\n"
     ]
    },
    {
     "name": "stderr",
     "output_type": "stream",
     "text": [
      "running experiment 16\n",
      "run number: 0\n",
      "\n",
      "parameters:\n",
      "\tepochs=30,\n",
      "\tnoise=0.1,\n",
      "\toffset=0.3,\n",
      "\trate=0.1\n",
      "\n",
      "script: /mnt/athena/hpsearch/hpsearch/examples/dummy_experiment_manager.py, line number: 170\n",
      "time spent on this experiment: 0.0034780502319335938\n",
      "0 - validation_accuracy: 1.0\n",
      "0 - test_accuracy: 1.0\n",
      "finished experiment 16\n",
      "processing hyper-parameter 7 out of 9\n",
      "doing run 1 out of 5\n",
      "fixed rate, multiple epochs values\n",
      "running experiment 16\n",
      "run number: 1\n",
      "\n",
      "parameters:\n",
      "\tepochs=30,\n",
      "\tnoise=0.1,\n",
      "\toffset=0.3,\n",
      "\trate=0.1\n",
      "\n",
      "script: /mnt/athena/hpsearch/hpsearch/examples/dummy_experiment_manager.py, line number: 170\n",
      "time spent on this experiment: 0.003801584243774414\n",
      "1 - validation_accuracy: 1.0\n",
      "1 - test_accuracy: 1.0\n",
      "finished experiment 16\n",
      "processing hyper-parameter 7 out of 9\n",
      "doing run 2 out of 5\n",
      "fixed rate, multiple epochs values\n",
      "running experiment 16\n",
      "run number: 2\n",
      "\n",
      "parameters:\n",
      "\tepochs=30,\n",
      "\tnoise=0.1,\n",
      "\toffset=0.3,\n",
      "\trate=0.1\n",
      "\n",
      "script: /mnt/athena/hpsearch/hpsearch/examples/dummy_experiment_manager.py, line number: 170\n",
      "time spent on this experiment: 0.003366231918334961\n",
      "2 - validation_accuracy: 1.0\n",
      "2 - test_accuracy: 1.0\n",
      "finished experiment 16\n",
      "processing hyper-parameter 7 out of 9\n",
      "doing run 3 out of 5\n",
      "fixed rate, multiple epochs values\n"
     ]
    },
    {
     "name": "stdout",
     "output_type": "stream",
     "text": [
      "fitting model with 30 epochs\n",
      "epoch 0: accuracy: 0.4\n",
      "epoch 1: accuracy: 0.5\n",
      "epoch 2: accuracy: 0.6\n",
      "epoch 3: accuracy: 0.7\n",
      "epoch 4: accuracy: 0.7999999999999999\n",
      "epoch 5: accuracy: 0.8999999999999999\n",
      "epoch 6: accuracy: 0.9999999999999999\n",
      "epoch 7: accuracy: 1.0999999999999999\n",
      "epoch 8: accuracy: 1.2\n",
      "epoch 9: accuracy: 1.3\n",
      "epoch 10: accuracy: 1.4000000000000001\n",
      "epoch 11: accuracy: 1.5000000000000002\n",
      "epoch 12: accuracy: 1.6000000000000003\n",
      "epoch 13: accuracy: 1.7000000000000004\n",
      "epoch 14: accuracy: 1.8000000000000005\n",
      "epoch 15: accuracy: 1.9000000000000006\n",
      "epoch 16: accuracy: 2.0000000000000004\n",
      "epoch 17: accuracy: 2.1000000000000005\n",
      "epoch 18: accuracy: 2.2000000000000006\n",
      "epoch 19: accuracy: 2.3000000000000007\n",
      "epoch 20: accuracy: 2.2000000000000006\n",
      "epoch 21: accuracy: 2.1000000000000005\n",
      "epoch 22: accuracy: 2.0000000000000004\n",
      "epoch 23: accuracy: 1.9000000000000004\n",
      "epoch 24: accuracy: 1.8000000000000003\n",
      "epoch 25: accuracy: 1.7000000000000002\n",
      "epoch 26: accuracy: 1.6\n",
      "epoch 27: accuracy: 1.5\n",
      "epoch 28: accuracy: 1.4\n",
      "epoch 29: accuracy: 1.2999999999999998\n",
      "current path: /mnt/athena/hpsearch/nbs/visualization\n",
      "fitting model with 30 epochs\n",
      "epoch 0: accuracy: 0.4\n",
      "epoch 1: accuracy: 0.5\n",
      "epoch 2: accuracy: 0.6\n",
      "epoch 3: accuracy: 0.7\n",
      "epoch 4: accuracy: 0.7999999999999999\n",
      "epoch 5: accuracy: 0.8999999999999999\n",
      "epoch 6: accuracy: 0.9999999999999999\n",
      "epoch 7: accuracy: 1.0999999999999999\n",
      "epoch 8: accuracy: 1.2\n",
      "epoch 9: accuracy: 1.3\n",
      "epoch 10: accuracy: 1.4000000000000001\n",
      "epoch 11: accuracy: 1.5000000000000002\n",
      "epoch 12: accuracy: 1.6000000000000003\n",
      "epoch 13: accuracy: 1.7000000000000004\n",
      "epoch 14: accuracy: 1.8000000000000005\n",
      "epoch 15: accuracy: 1.9000000000000006\n",
      "epoch 16: accuracy: 2.0000000000000004\n",
      "epoch 17: accuracy: 2.1000000000000005\n",
      "epoch 18: accuracy: 2.2000000000000006\n",
      "epoch 19: accuracy: 2.3000000000000007\n",
      "epoch 20: accuracy: 2.2000000000000006\n",
      "epoch 21: accuracy: 2.1000000000000005\n",
      "epoch 22: accuracy: 2.0000000000000004\n",
      "epoch 23: accuracy: 1.9000000000000004\n",
      "epoch 24: accuracy: 1.8000000000000003\n",
      "epoch 25: accuracy: 1.7000000000000002\n",
      "epoch 26: accuracy: 1.6\n",
      "epoch 27: accuracy: 1.5\n",
      "epoch 28: accuracy: 1.4\n",
      "epoch 29: accuracy: 1.2999999999999998\n",
      "current path: /mnt/athena/hpsearch/nbs/visualization\n",
      "fitting model with 30 epochs\n",
      "epoch 0: accuracy: 0.4\n",
      "epoch 1: accuracy: 0.5\n",
      "epoch 2: accuracy: 0.6\n",
      "epoch 3: accuracy: 0.7\n",
      "epoch 4: accuracy: 0.7999999999999999\n",
      "epoch 5: accuracy: 0.8999999999999999\n",
      "epoch 6: accuracy: 0.9999999999999999\n",
      "epoch 7: accuracy: 1.0999999999999999\n",
      "epoch 8: accuracy: 1.2\n",
      "epoch 9: accuracy: 1.3\n",
      "epoch 10: accuracy: 1.4000000000000001\n",
      "epoch 11: accuracy: 1.5000000000000002\n",
      "epoch 12: accuracy: 1.6000000000000003\n",
      "epoch 13: accuracy: 1.7000000000000004\n",
      "epoch 14: accuracy: 1.8000000000000005\n",
      "epoch 15: accuracy: 1.9000000000000006\n",
      "epoch 16: accuracy: 2.0000000000000004\n",
      "epoch 17: accuracy: 2.1000000000000005\n",
      "epoch 18: accuracy: 2.2000000000000006\n",
      "epoch 19: accuracy: 2.3000000000000007\n",
      "epoch 20: accuracy: 2.2000000000000006\n",
      "epoch 21: accuracy: 2.1000000000000005\n",
      "epoch 22: accuracy: 2.0000000000000004\n",
      "epoch 23: accuracy: 1.9000000000000004\n",
      "epoch 24: accuracy: 1.8000000000000003\n",
      "epoch 25: accuracy: 1.7000000000000002\n",
      "epoch 26: accuracy: 1.6\n",
      "epoch 27: accuracy: 1.5\n",
      "epoch 28: accuracy: 1.4\n",
      "epoch 29: accuracy: 1.2999999999999998\n",
      "current path: /mnt/athena/hpsearch/nbs/visualization\n"
     ]
    },
    {
     "name": "stderr",
     "output_type": "stream",
     "text": [
      "running experiment 16\n",
      "run number: 3\n",
      "\n",
      "parameters:\n",
      "\tepochs=30,\n",
      "\tnoise=0.1,\n",
      "\toffset=0.3,\n",
      "\trate=0.1\n",
      "\n",
      "script: /mnt/athena/hpsearch/hpsearch/examples/dummy_experiment_manager.py, line number: 170\n",
      "time spent on this experiment: 0.003237485885620117\n",
      "3 - validation_accuracy: 1.0\n",
      "3 - test_accuracy: 1.0\n",
      "finished experiment 16\n",
      "processing hyper-parameter 7 out of 9\n",
      "doing run 4 out of 5\n",
      "fixed rate, multiple epochs values\n",
      "running experiment 16\n",
      "run number: 4\n",
      "\n",
      "parameters:\n",
      "\tepochs=30,\n",
      "\tnoise=0.1,\n",
      "\toffset=0.3,\n",
      "\trate=0.1\n",
      "\n",
      "script: /mnt/athena/hpsearch/hpsearch/examples/dummy_experiment_manager.py, line number: 170\n",
      "time spent on this experiment: 0.003351449966430664\n",
      "4 - validation_accuracy: 1.0\n",
      "4 - test_accuracy: 1.0\n",
      "finished experiment 16\n",
      "processing hyper-parameter 8 out of 9\n",
      "doing run 0 out of 5\n",
      "fixed rate, multiple epochs values\n",
      "running experiment 17\n",
      "run number: 0\n",
      "\n",
      "parameters:\n",
      "\tepochs=30,\n",
      "\tnoise=0.1,\n",
      "\toffset=0.6,\n",
      "\trate=0.1\n",
      "\n",
      "script: /mnt/athena/hpsearch/hpsearch/examples/dummy_experiment_manager.py, line number: 170\n",
      "time spent on this experiment: 0.0036933422088623047\n",
      "0 - validation_accuracy: 1.0\n",
      "0 - test_accuracy: 1.0\n",
      "finished experiment 17\n",
      "processing hyper-parameter 8 out of 9\n",
      "doing run 1 out of 5\n",
      "fixed rate, multiple epochs values\n"
     ]
    },
    {
     "name": "stdout",
     "output_type": "stream",
     "text": [
      "fitting model with 30 epochs\n",
      "epoch 0: accuracy: 0.4\n",
      "epoch 1: accuracy: 0.5\n",
      "epoch 2: accuracy: 0.6\n",
      "epoch 3: accuracy: 0.7\n",
      "epoch 4: accuracy: 0.7999999999999999\n",
      "epoch 5: accuracy: 0.8999999999999999\n",
      "epoch 6: accuracy: 0.9999999999999999\n",
      "epoch 7: accuracy: 1.0999999999999999\n",
      "epoch 8: accuracy: 1.2\n",
      "epoch 9: accuracy: 1.3\n",
      "epoch 10: accuracy: 1.4000000000000001\n",
      "epoch 11: accuracy: 1.5000000000000002\n",
      "epoch 12: accuracy: 1.6000000000000003\n",
      "epoch 13: accuracy: 1.7000000000000004\n",
      "epoch 14: accuracy: 1.8000000000000005\n",
      "epoch 15: accuracy: 1.9000000000000006\n",
      "epoch 16: accuracy: 2.0000000000000004\n",
      "epoch 17: accuracy: 2.1000000000000005\n",
      "epoch 18: accuracy: 2.2000000000000006\n",
      "epoch 19: accuracy: 2.3000000000000007\n",
      "epoch 20: accuracy: 2.2000000000000006\n",
      "epoch 21: accuracy: 2.1000000000000005\n",
      "epoch 22: accuracy: 2.0000000000000004\n",
      "epoch 23: accuracy: 1.9000000000000004\n",
      "epoch 24: accuracy: 1.8000000000000003\n",
      "epoch 25: accuracy: 1.7000000000000002\n",
      "epoch 26: accuracy: 1.6\n",
      "epoch 27: accuracy: 1.5\n",
      "epoch 28: accuracy: 1.4\n",
      "epoch 29: accuracy: 1.2999999999999998\n",
      "current path: /mnt/athena/hpsearch/nbs/visualization\n",
      "fitting model with 30 epochs\n",
      "epoch 0: accuracy: 0.4\n",
      "epoch 1: accuracy: 0.5\n",
      "epoch 2: accuracy: 0.6\n",
      "epoch 3: accuracy: 0.7\n",
      "epoch 4: accuracy: 0.7999999999999999\n",
      "epoch 5: accuracy: 0.8999999999999999\n",
      "epoch 6: accuracy: 0.9999999999999999\n",
      "epoch 7: accuracy: 1.0999999999999999\n",
      "epoch 8: accuracy: 1.2\n",
      "epoch 9: accuracy: 1.3\n",
      "epoch 10: accuracy: 1.4000000000000001\n",
      "epoch 11: accuracy: 1.5000000000000002\n",
      "epoch 12: accuracy: 1.6000000000000003\n",
      "epoch 13: accuracy: 1.7000000000000004\n",
      "epoch 14: accuracy: 1.8000000000000005\n",
      "epoch 15: accuracy: 1.9000000000000006\n",
      "epoch 16: accuracy: 2.0000000000000004\n",
      "epoch 17: accuracy: 2.1000000000000005\n",
      "epoch 18: accuracy: 2.2000000000000006\n",
      "epoch 19: accuracy: 2.3000000000000007\n",
      "epoch 20: accuracy: 2.2000000000000006\n",
      "epoch 21: accuracy: 2.1000000000000005\n",
      "epoch 22: accuracy: 2.0000000000000004\n",
      "epoch 23: accuracy: 1.9000000000000004\n",
      "epoch 24: accuracy: 1.8000000000000003\n",
      "epoch 25: accuracy: 1.7000000000000002\n",
      "epoch 26: accuracy: 1.6\n",
      "epoch 27: accuracy: 1.5\n",
      "epoch 28: accuracy: 1.4\n",
      "epoch 29: accuracy: 1.2999999999999998\n",
      "current path: /mnt/athena/hpsearch/nbs/visualization\n",
      "fitting model with 30 epochs\n",
      "epoch 0: accuracy: 0.7\n",
      "epoch 1: accuracy: 0.7999999999999999\n",
      "epoch 2: accuracy: 0.8999999999999999\n",
      "epoch 3: accuracy: 0.9999999999999999\n",
      "epoch 4: accuracy: 1.0999999999999999\n",
      "epoch 5: accuracy: 1.2\n",
      "epoch 6: accuracy: 1.3\n",
      "epoch 7: accuracy: 1.4000000000000001\n",
      "epoch 8: accuracy: 1.5000000000000002\n",
      "epoch 9: accuracy: 1.6000000000000003\n",
      "epoch 10: accuracy: 1.7000000000000004\n",
      "epoch 11: accuracy: 1.8000000000000005\n",
      "epoch 12: accuracy: 1.9000000000000006\n",
      "epoch 13: accuracy: 2.0000000000000004\n",
      "epoch 14: accuracy: 2.1000000000000005\n",
      "epoch 15: accuracy: 2.2000000000000006\n",
      "epoch 16: accuracy: 2.3000000000000007\n",
      "epoch 17: accuracy: 2.400000000000001\n",
      "epoch 18: accuracy: 2.500000000000001\n",
      "epoch 19: accuracy: 2.600000000000001\n",
      "epoch 20: accuracy: 2.500000000000001\n",
      "epoch 21: accuracy: 2.400000000000001\n",
      "epoch 22: accuracy: 2.3000000000000007\n",
      "epoch 23: accuracy: 2.2000000000000006\n",
      "epoch 24: accuracy: 2.1000000000000005\n",
      "epoch 25: accuracy: 2.0000000000000004\n",
      "epoch 26: accuracy: 1.9000000000000004\n",
      "epoch 27: accuracy: 1.8000000000000003\n",
      "epoch 28: accuracy: 1.7000000000000002\n",
      "epoch 29: accuracy: 1.6\n",
      "current path: /mnt/athena/hpsearch/nbs/visualization\n"
     ]
    },
    {
     "name": "stderr",
     "output_type": "stream",
     "text": [
      "running experiment 17\n",
      "run number: 1\n",
      "\n",
      "parameters:\n",
      "\tepochs=30,\n",
      "\tnoise=0.1,\n",
      "\toffset=0.6,\n",
      "\trate=0.1\n",
      "\n",
      "script: /mnt/athena/hpsearch/hpsearch/examples/dummy_experiment_manager.py, line number: 170\n",
      "time spent on this experiment: 0.0034911632537841797\n",
      "1 - validation_accuracy: 1.0\n",
      "1 - test_accuracy: 1.0\n",
      "finished experiment 17\n",
      "processing hyper-parameter 8 out of 9\n",
      "doing run 2 out of 5\n",
      "fixed rate, multiple epochs values\n",
      "running experiment 17\n",
      "run number: 2\n",
      "\n",
      "parameters:\n",
      "\tepochs=30,\n",
      "\tnoise=0.1,\n",
      "\toffset=0.6,\n",
      "\trate=0.1\n",
      "\n",
      "script: /mnt/athena/hpsearch/hpsearch/examples/dummy_experiment_manager.py, line number: 170\n",
      "time spent on this experiment: 0.0037336349487304688\n",
      "2 - validation_accuracy: 1.0\n",
      "2 - test_accuracy: 1.0\n",
      "finished experiment 17\n",
      "processing hyper-parameter 8 out of 9\n",
      "doing run 3 out of 5\n",
      "fixed rate, multiple epochs values\n",
      "running experiment 17\n",
      "run number: 3\n",
      "\n",
      "parameters:\n",
      "\tepochs=30,\n",
      "\tnoise=0.1,\n",
      "\toffset=0.6,\n",
      "\trate=0.1\n",
      "\n",
      "script: /mnt/athena/hpsearch/hpsearch/examples/dummy_experiment_manager.py, line number: 170\n",
      "time spent on this experiment: 0.003295421600341797\n",
      "3 - validation_accuracy: 1.0\n",
      "3 - test_accuracy: 1.0\n",
      "finished experiment 17\n",
      "processing hyper-parameter 8 out of 9\n",
      "doing run 4 out of 5\n",
      "fixed rate, multiple epochs values\n"
     ]
    },
    {
     "name": "stdout",
     "output_type": "stream",
     "text": [
      "fitting model with 30 epochs\n",
      "epoch 0: accuracy: 0.7\n",
      "epoch 1: accuracy: 0.7999999999999999\n",
      "epoch 2: accuracy: 0.8999999999999999\n",
      "epoch 3: accuracy: 0.9999999999999999\n",
      "epoch 4: accuracy: 1.0999999999999999\n",
      "epoch 5: accuracy: 1.2\n",
      "epoch 6: accuracy: 1.3\n",
      "epoch 7: accuracy: 1.4000000000000001\n",
      "epoch 8: accuracy: 1.5000000000000002\n",
      "epoch 9: accuracy: 1.6000000000000003\n",
      "epoch 10: accuracy: 1.7000000000000004\n",
      "epoch 11: accuracy: 1.8000000000000005\n",
      "epoch 12: accuracy: 1.9000000000000006\n",
      "epoch 13: accuracy: 2.0000000000000004\n",
      "epoch 14: accuracy: 2.1000000000000005\n",
      "epoch 15: accuracy: 2.2000000000000006\n",
      "epoch 16: accuracy: 2.3000000000000007\n",
      "epoch 17: accuracy: 2.400000000000001\n",
      "epoch 18: accuracy: 2.500000000000001\n",
      "epoch 19: accuracy: 2.600000000000001\n",
      "epoch 20: accuracy: 2.500000000000001\n",
      "epoch 21: accuracy: 2.400000000000001\n",
      "epoch 22: accuracy: 2.3000000000000007\n",
      "epoch 23: accuracy: 2.2000000000000006\n",
      "epoch 24: accuracy: 2.1000000000000005\n",
      "epoch 25: accuracy: 2.0000000000000004\n",
      "epoch 26: accuracy: 1.9000000000000004\n",
      "epoch 27: accuracy: 1.8000000000000003\n",
      "epoch 28: accuracy: 1.7000000000000002\n",
      "epoch 29: accuracy: 1.6\n",
      "current path: /mnt/athena/hpsearch/nbs/visualization\n",
      "fitting model with 30 epochs\n",
      "epoch 0: accuracy: 0.7\n",
      "epoch 1: accuracy: 0.7999999999999999\n",
      "epoch 2: accuracy: 0.8999999999999999\n",
      "epoch 3: accuracy: 0.9999999999999999\n",
      "epoch 4: accuracy: 1.0999999999999999\n",
      "epoch 5: accuracy: 1.2\n",
      "epoch 6: accuracy: 1.3\n",
      "epoch 7: accuracy: 1.4000000000000001\n",
      "epoch 8: accuracy: 1.5000000000000002\n",
      "epoch 9: accuracy: 1.6000000000000003\n",
      "epoch 10: accuracy: 1.7000000000000004\n",
      "epoch 11: accuracy: 1.8000000000000005\n",
      "epoch 12: accuracy: 1.9000000000000006\n",
      "epoch 13: accuracy: 2.0000000000000004\n",
      "epoch 14: accuracy: 2.1000000000000005\n",
      "epoch 15: accuracy: 2.2000000000000006\n",
      "epoch 16: accuracy: 2.3000000000000007\n",
      "epoch 17: accuracy: 2.400000000000001\n",
      "epoch 18: accuracy: 2.500000000000001\n",
      "epoch 19: accuracy: 2.600000000000001\n",
      "epoch 20: accuracy: 2.500000000000001\n",
      "epoch 21: accuracy: 2.400000000000001\n",
      "epoch 22: accuracy: 2.3000000000000007\n",
      "epoch 23: accuracy: 2.2000000000000006\n",
      "epoch 24: accuracy: 2.1000000000000005\n",
      "epoch 25: accuracy: 2.0000000000000004\n",
      "epoch 26: accuracy: 1.9000000000000004\n",
      "epoch 27: accuracy: 1.8000000000000003\n",
      "epoch 28: accuracy: 1.7000000000000002\n",
      "epoch 29: accuracy: 1.6\n",
      "current path: /mnt/athena/hpsearch/nbs/visualization\n",
      "fitting model with 30 epochs\n",
      "epoch 0: accuracy: 0.7\n",
      "epoch 1: accuracy: 0.7999999999999999\n",
      "epoch 2: accuracy: 0.8999999999999999\n",
      "epoch 3: accuracy: 0.9999999999999999\n",
      "epoch 4: accuracy: 1.0999999999999999\n",
      "epoch 5: accuracy: 1.2\n",
      "epoch 6: accuracy: 1.3\n",
      "epoch 7: accuracy: 1.4000000000000001\n",
      "epoch 8: accuracy: 1.5000000000000002\n",
      "epoch 9: accuracy: 1.6000000000000003\n",
      "epoch 10: accuracy: 1.7000000000000004\n",
      "epoch 11: accuracy: 1.8000000000000005\n",
      "epoch 12: accuracy: 1.9000000000000006\n",
      "epoch 13: accuracy: 2.0000000000000004\n",
      "epoch 14: accuracy: 2.1000000000000005\n",
      "epoch 15: accuracy: 2.2000000000000006\n",
      "epoch 16: accuracy: 2.3000000000000007\n",
      "epoch 17: accuracy: 2.400000000000001\n",
      "epoch 18: accuracy: 2.500000000000001\n",
      "epoch 19: accuracy: 2.600000000000001\n",
      "epoch 20: accuracy: 2.500000000000001\n",
      "epoch 21: accuracy: 2.400000000000001\n",
      "epoch 22: accuracy: 2.3000000000000007\n",
      "epoch 23: accuracy: 2.2000000000000006\n",
      "epoch 24: accuracy: 2.1000000000000005\n",
      "epoch 25: accuracy: 2.0000000000000004\n",
      "epoch 26: accuracy: 1.9000000000000004\n",
      "epoch 27: accuracy: 1.8000000000000003\n",
      "epoch 28: accuracy: 1.7000000000000002\n",
      "epoch 29: accuracy: 1.6\n",
      "current path: /mnt/athena/hpsearch/nbs/visualization\n"
     ]
    },
    {
     "name": "stderr",
     "output_type": "stream",
     "text": [
      "running experiment 17\n",
      "run number: 4\n",
      "\n",
      "parameters:\n",
      "\tepochs=30,\n",
      "\tnoise=0.1,\n",
      "\toffset=0.6,\n",
      "\trate=0.1\n",
      "\n",
      "script: /mnt/athena/hpsearch/hpsearch/examples/dummy_experiment_manager.py, line number: 170\n",
      "time spent on this experiment: 0.003448486328125\n",
      "4 - validation_accuracy: 1.0\n",
      "4 - test_accuracy: 1.0\n",
      "finished experiment 17\n"
     ]
    },
    {
     "name": "stdout",
     "output_type": "stream",
     "text": [
      "fitting model with 30 epochs\n",
      "epoch 0: accuracy: 0.7\n",
      "epoch 1: accuracy: 0.7999999999999999\n",
      "epoch 2: accuracy: 0.8999999999999999\n",
      "epoch 3: accuracy: 0.9999999999999999\n",
      "epoch 4: accuracy: 1.0999999999999999\n",
      "epoch 5: accuracy: 1.2\n",
      "epoch 6: accuracy: 1.3\n",
      "epoch 7: accuracy: 1.4000000000000001\n",
      "epoch 8: accuracy: 1.5000000000000002\n",
      "epoch 9: accuracy: 1.6000000000000003\n",
      "epoch 10: accuracy: 1.7000000000000004\n",
      "epoch 11: accuracy: 1.8000000000000005\n",
      "epoch 12: accuracy: 1.9000000000000006\n",
      "epoch 13: accuracy: 2.0000000000000004\n",
      "epoch 14: accuracy: 2.1000000000000005\n",
      "epoch 15: accuracy: 2.2000000000000006\n",
      "epoch 16: accuracy: 2.3000000000000007\n",
      "epoch 17: accuracy: 2.400000000000001\n",
      "epoch 18: accuracy: 2.500000000000001\n",
      "epoch 19: accuracy: 2.600000000000001\n",
      "epoch 20: accuracy: 2.500000000000001\n",
      "epoch 21: accuracy: 2.400000000000001\n",
      "epoch 22: accuracy: 2.3000000000000007\n",
      "epoch 23: accuracy: 2.2000000000000006\n",
      "epoch 24: accuracy: 2.1000000000000005\n",
      "epoch 25: accuracy: 2.0000000000000004\n",
      "epoch 26: accuracy: 1.9000000000000004\n",
      "epoch 27: accuracy: 1.8000000000000003\n",
      "epoch 28: accuracy: 1.7000000000000002\n",
      "epoch 29: accuracy: 1.6\n"
     ]
    }
   ],
   "source": [
    "#collapse_output\n",
    "from hpsearch.examples.dummy_experiment_manager import remove_previous_experiments, run_multiple_experiments\n",
    "\n",
    "remove_previous_experiments()\n",
    "run_multiple_experiments(nruns=5, noise=0.1)\n",
    "run_multiple_experiments(nruns=5, noise=0.1, rate = 0.1)"
   ]
  },
  {
   "cell_type": "markdown",
   "metadata": {},
   "source": [
    "### Usage examples\n",
    "\n",
    "Plot all the metrics that have been stored in model_history"
   ]
  },
  {
   "cell_type": "code",
   "execution_count": null,
   "metadata": {},
   "outputs": [
    {
     "data": {
      "image/png": "[encoded data removed]",
      "text/plain": [
       "<Figure size 1440x720 with 1 Axes>"
      ]
     },
     "metadata": {
      "needs_background": "light"
     },
     "output_type": "display_data"
    },
    {
     "data": {
      "text/html": [
       "<div>\n",
       "<style scoped>\n",
       "    .dataframe tbody tr th:only-of-type {\n",
       "        vertical-align: middle;\n",
       "    }\n",
       "\n",
       "    .dataframe tbody tr th {\n",
       "        vertical-align: top;\n",
       "    }\n",
       "\n",
       "    .dataframe thead th {\n",
       "        text-align: right;\n",
       "    }\n",
       "</style>\n",
       "<table border=\"1\" class=\"dataframe\">\n",
       "  <thead>\n",
       "    <tr style=\"text-align: right;\">\n",
       "      <th></th>\n",
       "      <th>offset</th>\n",
       "      <th>rate</th>\n",
       "      <th>validation_accuracy</th>\n",
       "    </tr>\n",
       "  </thead>\n",
       "  <tbody>\n",
       "    <tr>\n",
       "      <th>8</th>\n",
       "      <td>0.6</td>\n",
       "      <td>0.03</td>\n",
       "      <td>1.0</td>\n",
       "    </tr>\n",
       "    <tr>\n",
       "      <th>16</th>\n",
       "      <td>0.3</td>\n",
       "      <td>0.10</td>\n",
       "      <td>1.0</td>\n",
       "    </tr>\n",
       "  </tbody>\n",
       "</table>\n",
       "</div>"
      ],
      "text/plain": [
       "    offset  rate  validation_accuracy\n",
       "8      0.6  0.03                  1.0\n",
       "16     0.3  0.10                  1.0"
      ]
     },
     "metadata": {},
     "output_type": "display_data"
    },
    {
     "data": {
      "image/png": "[encoded data removed]",
      "text/plain": [
       "<Figure size 1440x720 with 1 Axes>"
      ]
     },
     "metadata": {
      "needs_background": "light"
     },
     "output_type": "display_data"
    },
    {
     "data": {
      "text/html": [
       "<div>\n",
       "<style scoped>\n",
       "    .dataframe tbody tr th:only-of-type {\n",
       "        vertical-align: middle;\n",
       "    }\n",
       "\n",
       "    .dataframe tbody tr th {\n",
       "        vertical-align: top;\n",
       "    }\n",
       "\n",
       "    .dataframe thead th {\n",
       "        text-align: right;\n",
       "    }\n",
       "</style>\n",
       "<table border=\"1\" class=\"dataframe\">\n",
       "  <thead>\n",
       "    <tr style=\"text-align: right;\">\n",
       "      <th></th>\n",
       "      <th>offset</th>\n",
       "      <th>rate</th>\n",
       "      <th>validation_accuracy</th>\n",
       "      <th>test_accuracy</th>\n",
       "    </tr>\n",
       "  </thead>\n",
       "  <tbody>\n",
       "    <tr>\n",
       "      <th>8</th>\n",
       "      <td>0.6</td>\n",
       "      <td>0.03</td>\n",
       "      <td>1.0</td>\n",
       "      <td>1.0</td>\n",
       "    </tr>\n",
       "    <tr>\n",
       "      <th>16</th>\n",
       "      <td>0.3</td>\n",
       "      <td>0.10</td>\n",
       "      <td>1.0</td>\n",
       "      <td>1.0</td>\n",
       "    </tr>\n",
       "  </tbody>\n",
       "</table>\n",
       "</div>"
      ],
      "text/plain": [
       "    offset  rate  validation_accuracy  test_accuracy\n",
       "8      0.6  0.03                  1.0            1.0\n",
       "16     0.3  0.10                  1.0            1.0"
      ]
     },
     "metadata": {},
     "output_type": "display_data"
    },
    {
     "data": {
      "image/png": "[encoded data removed]",
      "text/plain": [
       "<Figure size 1440x720 with 1 Axes>"
      ]
     },
     "metadata": {
      "needs_background": "light"
     },
     "output_type": "display_data"
    },
    {
     "data": {
      "text/html": [
       "<div>\n",
       "<style scoped>\n",
       "    .dataframe tbody tr th:only-of-type {\n",
       "        vertical-align: middle;\n",
       "    }\n",
       "\n",
       "    .dataframe tbody tr th {\n",
       "        vertical-align: top;\n",
       "    }\n",
       "\n",
       "    .dataframe thead th {\n",
       "        text-align: right;\n",
       "    }\n",
       "</style>\n",
       "<table border=\"1\" class=\"dataframe\">\n",
       "  <thead>\n",
       "    <tr style=\"text-align: right;\">\n",
       "      <th></th>\n",
       "      <th>offset</th>\n",
       "      <th>rate</th>\n",
       "      <th>validation_accuracy</th>\n",
       "      <th>test_accuracy</th>\n",
       "      <th>accuracy</th>\n",
       "    </tr>\n",
       "  </thead>\n",
       "  <tbody>\n",
       "    <tr>\n",
       "      <th>8</th>\n",
       "      <td>0.6</td>\n",
       "      <td>0.03</td>\n",
       "      <td>1.0</td>\n",
       "      <td>1.0</td>\n",
       "      <td>1.2</td>\n",
       "    </tr>\n",
       "    <tr>\n",
       "      <th>16</th>\n",
       "      <td>0.3</td>\n",
       "      <td>0.10</td>\n",
       "      <td>1.0</td>\n",
       "      <td>1.0</td>\n",
       "      <td>2.3</td>\n",
       "    </tr>\n",
       "  </tbody>\n",
       "</table>\n",
       "</div>"
      ],
      "text/plain": [
       "    offset  rate  validation_accuracy  test_accuracy  accuracy\n",
       "8      0.6  0.03                  1.0            1.0       1.2\n",
       "16     0.3  0.10                  1.0            1.0       2.3"
      ]
     },
     "metadata": {},
     "output_type": "display_data"
    }
   ],
   "source": [
    "plot_multiple_histories ([8,16], run_number=0, op='max', backend='matplotlib')"
   ]
  },
  {
   "cell_type": "markdown",
   "metadata": {},
   "source": [
    "### Plot only one metric, and three experiments\n",
    "\n",
    "We plot the test_accuracy metric"
   ]
  },
  {
   "cell_type": "code",
   "execution_count": null,
   "metadata": {},
   "outputs": [
    {
     "data": {
      "image/png": "[encoded data removed]",
      "text/plain": [
       "<Figure size 1440x720 with 1 Axes>"
      ]
     },
     "metadata": {
      "needs_background": "light"
     },
     "output_type": "display_data"
    },
    {
     "data": {
      "text/html": [
       "<div>\n",
       "<style scoped>\n",
       "    .dataframe tbody tr th:only-of-type {\n",
       "        vertical-align: middle;\n",
       "    }\n",
       "\n",
       "    .dataframe tbody tr th {\n",
       "        vertical-align: top;\n",
       "    }\n",
       "\n",
       "    .dataframe thead th {\n",
       "        text-align: right;\n",
       "    }\n",
       "</style>\n",
       "<table border=\"1\" class=\"dataframe\">\n",
       "  <thead>\n",
       "    <tr style=\"text-align: right;\">\n",
       "      <th></th>\n",
       "      <th>epochs</th>\n",
       "      <th>offset</th>\n",
       "      <th>rate</th>\n",
       "      <th>test_accuracy</th>\n",
       "    </tr>\n",
       "  </thead>\n",
       "  <tbody>\n",
       "    <tr>\n",
       "      <th>8</th>\n",
       "      <td>30.0</td>\n",
       "      <td>0.6</td>\n",
       "      <td>0.03</td>\n",
       "      <td>1.0</td>\n",
       "    </tr>\n",
       "    <tr>\n",
       "      <th>12</th>\n",
       "      <td>15.0</td>\n",
       "      <td>0.1</td>\n",
       "      <td>0.10</td>\n",
       "      <td>1.0</td>\n",
       "    </tr>\n",
       "    <tr>\n",
       "      <th>16</th>\n",
       "      <td>30.0</td>\n",
       "      <td>0.3</td>\n",
       "      <td>0.10</td>\n",
       "      <td>1.0</td>\n",
       "    </tr>\n",
       "  </tbody>\n",
       "</table>\n",
       "</div>"
      ],
      "text/plain": [
       "    epochs  offset  rate  test_accuracy\n",
       "8     30.0     0.6  0.03            1.0\n",
       "12    15.0     0.1  0.10            1.0\n",
       "16    30.0     0.3  0.10            1.0"
      ]
     },
     "metadata": {},
     "output_type": "display_data"
    }
   ],
   "source": [
    "plot_multiple_histories ([8,12, 16], run_number=0, op='max', metrics = 'test_accuracy', backend='matplotlib')"
   ]
  },
  {
   "cell_type": "markdown",
   "metadata": {},
   "source": [
    "### Use plotly as backend"
   ]
  },
  {
   "cell_type": "code",
   "execution_count": null,
   "metadata": {},
   "outputs": [
    {
     "data": {
      "text/html": [
       "        <script type=\"text/javascript\">\n",
       "        window.PlotlyConfig = {MathJaxConfig: 'local'};\n",
       "        if (window.MathJax) {MathJax.Hub.Config({SVG: {font: \"STIX-Web\"}});}\n",
       "        if (typeof require !== 'undefined') {\n",
       "        require.undef(\"plotly\");\n",
       "        requirejs.config({\n",
       "            paths: {\n",
       "                'plotly': ['https://cdn.plot.ly/plotly-latest.min']\n",
       "            }\n",
       "        });\n",
       "        require(['plotly'], function(Plotly) {\n",
       "            window._Plotly = Plotly;\n",
       "        });\n",
       "        }\n",
       "        </script>\n",
       "        "
      ]
     },
     "metadata": {},
     "output_type": "display_data"
    },
    {
     "data": {
      "application/vnd.plotly.v1+json": {
       "config": {
        "linkText": "Export to plot.ly",
        "plotlyServerURL": "https://plot.ly",
        "showLink": false
       },
       "data": [
        {
         "mode": "markers+lines",
         "name": "8",
         "type": "scatter",
         "x": [
          0,
          1,
          2,
          3,
          4,
          5,
          6,
          7,
          8,
          9,
          10,
          11,
          12,
          13,
          14,
          15,
          16,
          17,
          18,
          19,
          20,
          21,
          22,
          23,
          24,
          25,
          26,
          27,
          28,
          29
         ],
         "y": [
          0.5239975095795223,
          0.5300523180384925,
          0.4623895518698171,
          0.65681631614679,
          0.5705473166705226,
          0.7629636034759391,
          0.7901484018486256,
          0.932170875021205,
          0.8183649666737265,
          0.8103039233221886,
          0.8974325619856395,
          0.8006384297146885,
          0.790916669449148,
          0.902408006957793,
          0.9895176619031599,
          0.9277951349638547,
          1,
          1,
          0.9874652597357161,
          0.8784663720714938,
          0.8650346895639826,
          1,
          0.9234498693725229,
          1,
          0.8244246663841093,
          0.8855716327349623,
          0.9515598915018637,
          0.8243786901660382,
          0.93967625073775,
          0.6786991363274881
         ]
        },
        {
         "marker": {
          "color": "red",
          "size": 10,
          "symbol": 104
         },
         "mode": "markers",
         "name": "",
         "type": "scatter",
         "x": [
          16
         ],
         "y": [
          1
         ]
        },
        {
         "mode": "markers+lines",
         "name": "12",
         "type": "scatter",
         "x": [
          0,
          1,
          2,
          3,
          4,
          5,
          6,
          7,
          8,
          9,
          10,
          11,
          12,
          13,
          14
         ],
         "y": [
          0.1733006877912126,
          0.21371408770491873,
          0.4266382585598585,
          0.5633133536954673,
          0.5417991822089636,
          0.6183379401334682,
          0.7572456812423599,
          0.871813228501652,
          1,
          0.877128524770779,
          1,
          1,
          1,
          1,
          1
         ]
        },
        {
         "marker": {
          "color": "red",
          "size": 10,
          "symbol": 104
         },
         "mode": "markers",
         "name": "",
         "type": "scatter",
         "x": [
          8
         ],
         "y": [
          1
         ]
        },
        {
         "mode": "markers+lines",
         "name": "16",
         "type": "scatter",
         "x": [
          0,
          1,
          2,
          3,
          4,
          5,
          6,
          7,
          8,
          9,
          10,
          11,
          12,
          13,
          14,
          15,
          16,
          17,
          18,
          19,
          20,
          21,
          22,
          23,
          24,
          25,
          26,
          27,
          28,
          29
         ],
         "y": [
          0.4194601444922464,
          0.340404900421267,
          0.59961913536946,
          0.6285946305555311,
          0.5344417919386293,
          0.792230103770671,
          0.9716144210976618,
          1,
          1,
          1,
          1,
          1,
          1,
          1,
          1,
          1,
          1,
          1,
          1,
          1,
          1,
          1,
          1,
          1,
          1,
          1,
          1,
          1,
          1,
          1
         ]
        },
        {
         "marker": {
          "color": "red",
          "size": 10,
          "symbol": 104
         },
         "mode": "markers",
         "name": "",
         "type": "scatter",
         "x": [
          7
         ],
         "y": [
          1
         ]
        }
       ],
       "layout": {
        "template": {
         "data": {
          "bar": [
           {
            "error_x": {
             "color": "#2a3f5f"
            },
            "error_y": {
             "color": "#2a3f5f"
            },
            "marker": {
             "line": {
              "color": "#E5ECF6",
              "width": 0.5
             }
            },
            "type": "bar"
           }
          ],
          "barpolar": [
           {
            "marker": {
             "line": {
              "color": "#E5ECF6",
              "width": 0.5
             }
            },
            "type": "barpolar"
           }
          ],
          "carpet": [
           {
            "aaxis": {
             "endlinecolor": "#2a3f5f",
             "gridcolor": "white",
             "linecolor": "white",
             "minorgridcolor": "white",
             "startlinecolor": "#2a3f5f"
            },
            "baxis": {
             "endlinecolor": "#2a3f5f",
             "gridcolor": "white",
             "linecolor": "white",
             "minorgridcolor": "white",
             "startlinecolor": "#2a3f5f"
            },
            "type": "carpet"
           }
          ],
          "choropleth": [
           {
            "colorbar": {
             "outlinewidth": 0,
             "ticks": ""
            },
            "type": "choropleth"
           }
          ],
          "contour": [
           {
            "colorbar": {
             "outlinewidth": 0,
             "ticks": ""
            },
            "colorscale": [
             [
              0,
              "#0d0887"
             ],
             [
              0.1111111111111111,
              "#46039f"
             ],
             [
              0.2222222222222222,
              "#7201a8"
             ],
             [
              0.3333333333333333,
              "#9c179e"
             ],
             [
              0.4444444444444444,
              "#bd3786"
             ],
             [
              0.5555555555555556,
              "#d8576b"
             ],
             [
              0.6666666666666666,
              "#ed7953"
             ],
             [
              0.7777777777777778,
              "#fb9f3a"
             ],
             [
              0.8888888888888888,
              "#fdca26"
             ],
             [
              1,
              "#f0f921"
             ]
            ],
            "type": "contour"
           }
          ],
          "contourcarpet": [
           {
            "colorbar": {
             "outlinewidth": 0,
             "ticks": ""
            },
            "type": "contourcarpet"
           }
          ],
          "heatmap": [
           {
            "colorbar": {
             "outlinewidth": 0,
             "ticks": ""
            },
            "colorscale": [
             [
              0,
              "#0d0887"
             ],
             [
              0.1111111111111111,
              "#46039f"
             ],
             [
              0.2222222222222222,
              "#7201a8"
             ],
             [
              0.3333333333333333,
              "#9c179e"
             ],
             [
              0.4444444444444444,
              "#bd3786"
             ],
             [
              0.5555555555555556,
              "#d8576b"
             ],
             [
              0.6666666666666666,
              "#ed7953"
             ],
             [
              0.7777777777777778,
              "#fb9f3a"
             ],
             [
              0.8888888888888888,
              "#fdca26"
             ],
             [
              1,
              "#f0f921"
             ]
            ],
            "type": "heatmap"
           }
          ],
          "heatmapgl": [
           {
            "colorbar": {
             "outlinewidth": 0,
             "ticks": ""
            },
            "colorscale": [
             [
              0,
              "#0d0887"
             ],
             [
              0.1111111111111111,
              "#46039f"
             ],
             [
              0.2222222222222222,
              "#7201a8"
             ],
             [
              0.3333333333333333,
              "#9c179e"
             ],
             [
              0.4444444444444444,
              "#bd3786"
             ],
             [
              0.5555555555555556,
              "#d8576b"
             ],
             [
              0.6666666666666666,
              "#ed7953"
             ],
             [
              0.7777777777777778,
              "#fb9f3a"
             ],
             [
              0.8888888888888888,
              "#fdca26"
             ],
             [
              1,
              "#f0f921"
             ]
            ],
            "type": "heatmapgl"
           }
          ],
          "histogram": [
           {
            "marker": {
             "colorbar": {
              "outlinewidth": 0,
              "ticks": ""
             }
            },
            "type": "histogram"
           }
          ],
          "histogram2d": [
           {
            "colorbar": {
             "outlinewidth": 0,
             "ticks": ""
            },
            "colorscale": [
             [
              0,
              "#0d0887"
             ],
             [
              0.1111111111111111,
              "#46039f"
             ],
             [
              0.2222222222222222,
              "#7201a8"
             ],
             [
              0.3333333333333333,
              "#9c179e"
             ],
             [
              0.4444444444444444,
              "#bd3786"
             ],
             [
              0.5555555555555556,
              "#d8576b"
             ],
             [
              0.6666666666666666,
              "#ed7953"
             ],
             [
              0.7777777777777778,
              "#fb9f3a"
             ],
             [
              0.8888888888888888,
              "#fdca26"
             ],
             [
              1,
              "#f0f921"
             ]
            ],
            "type": "histogram2d"
           }
          ],
          "histogram2dcontour": [
           {
            "colorbar": {
             "outlinewidth": 0,
             "ticks": ""
            },
            "colorscale": [
             [
              0,
              "#0d0887"
             ],
             [
              0.1111111111111111,
              "#46039f"
             ],
             [
              0.2222222222222222,
              "#7201a8"
             ],
             [
              0.3333333333333333,
              "#9c179e"
             ],
             [
              0.4444444444444444,
              "#bd3786"
             ],
             [
              0.5555555555555556,
              "#d8576b"
             ],
             [
              0.6666666666666666,
              "#ed7953"
             ],
             [
              0.7777777777777778,
              "#fb9f3a"
             ],
             [
              0.8888888888888888,
              "#fdca26"
             ],
             [
              1,
              "#f0f921"
             ]
            ],
            "type": "histogram2dcontour"
           }
          ],
          "mesh3d": [
           {
            "colorbar": {
             "outlinewidth": 0,
             "ticks": ""
            },
            "type": "mesh3d"
           }
          ],
          "parcoords": [
           {
            "line": {
             "colorbar": {
              "outlinewidth": 0,
              "ticks": ""
             }
            },
            "type": "parcoords"
           }
          ],
          "pie": [
           {
            "automargin": true,
            "type": "pie"
           }
          ],
          "scatter": [
           {
            "marker": {
             "colorbar": {
              "outlinewidth": 0,
              "ticks": ""
             }
            },
            "type": "scatter"
           }
          ],
          "scatter3d": [
           {
            "line": {
             "colorbar": {
              "outlinewidth": 0,
              "ticks": ""
             }
            },
            "marker": {
             "colorbar": {
              "outlinewidth": 0,
              "ticks": ""
             }
            },
            "type": "scatter3d"
           }
          ],
          "scattercarpet": [
           {
            "marker": {
             "colorbar": {
              "outlinewidth": 0,
              "ticks": ""
             }
            },
            "type": "scattercarpet"
           }
          ],
          "scattergeo": [
           {
            "marker": {
             "colorbar": {
              "outlinewidth": 0,
              "ticks": ""
             }
            },
            "type": "scattergeo"
           }
          ],
          "scattergl": [
           {
            "marker": {
             "colorbar": {
              "outlinewidth": 0,
              "ticks": ""
             }
            },
            "type": "scattergl"
           }
          ],
          "scattermapbox": [
           {
            "marker": {
             "colorbar": {
              "outlinewidth": 0,
              "ticks": ""
             }
            },
            "type": "scattermapbox"
           }
          ],
          "scatterpolar": [
           {
            "marker": {
             "colorbar": {
              "outlinewidth": 0,
              "ticks": ""
             }
            },
            "type": "scatterpolar"
           }
          ],
          "scatterpolargl": [
           {
            "marker": {
             "colorbar": {
              "outlinewidth": 0,
              "ticks": ""
             }
            },
            "type": "scatterpolargl"
           }
          ],
          "scatterternary": [
           {
            "marker": {
             "colorbar": {
              "outlinewidth": 0,
              "ticks": ""
             }
            },
            "type": "scatterternary"
           }
          ],
          "surface": [
           {
            "colorbar": {
             "outlinewidth": 0,
             "ticks": ""
            },
            "colorscale": [
             [
              0,
              "#0d0887"
             ],
             [
              0.1111111111111111,
              "#46039f"
             ],
             [
              0.2222222222222222,
              "#7201a8"
             ],
             [
              0.3333333333333333,
              "#9c179e"
             ],
             [
              0.4444444444444444,
              "#bd3786"
             ],
             [
              0.5555555555555556,
              "#d8576b"
             ],
             [
              0.6666666666666666,
              "#ed7953"
             ],
             [
              0.7777777777777778,
              "#fb9f3a"
             ],
             [
              0.8888888888888888,
              "#fdca26"
             ],
             [
              1,
              "#f0f921"
             ]
            ],
            "type": "surface"
           }
          ],
          "table": [
           {
            "cells": {
             "fill": {
              "color": "#EBF0F8"
             },
             "line": {
              "color": "white"
             }
            },
            "header": {
             "fill": {
              "color": "#C8D4E3"
             },
             "line": {
              "color": "white"
             }
            },
            "type": "table"
           }
          ]
         },
         "layout": {
          "annotationdefaults": {
           "arrowcolor": "#2a3f5f",
           "arrowhead": 0,
           "arrowwidth": 1
          },
          "autotypenumbers": "strict",
          "coloraxis": {
           "colorbar": {
            "outlinewidth": 0,
            "ticks": ""
           }
          },
          "colorscale": {
           "diverging": [
            [
             0,
             "#8e0152"
            ],
            [
             0.1,
             "#c51b7d"
            ],
            [
             0.2,
             "#de77ae"
            ],
            [
             0.3,
             "#f1b6da"
            ],
            [
             0.4,
             "#fde0ef"
            ],
            [
             0.5,
             "#f7f7f7"
            ],
            [
             0.6,
             "#e6f5d0"
            ],
            [
             0.7,
             "#b8e186"
            ],
            [
             0.8,
             "#7fbc41"
            ],
            [
             0.9,
             "#4d9221"
            ],
            [
             1,
             "#276419"
            ]
           ],
           "sequential": [
            [
             0,
             "#0d0887"
            ],
            [
             0.1111111111111111,
             "#46039f"
            ],
            [
             0.2222222222222222,
             "#7201a8"
            ],
            [
             0.3333333333333333,
             "#9c179e"
            ],
            [
             0.4444444444444444,
             "#bd3786"
            ],
            [
             0.5555555555555556,
             "#d8576b"
            ],
            [
             0.6666666666666666,
             "#ed7953"
            ],
            [
             0.7777777777777778,
             "#fb9f3a"
            ],
            [
             0.8888888888888888,
             "#fdca26"
            ],
            [
             1,
             "#f0f921"
            ]
           ],
           "sequentialminus": [
            [
             0,
             "#0d0887"
            ],
            [
             0.1111111111111111,
             "#46039f"
            ],
            [
             0.2222222222222222,
             "#7201a8"
            ],
            [
             0.3333333333333333,
             "#9c179e"
            ],
            [
             0.4444444444444444,
             "#bd3786"
            ],
            [
             0.5555555555555556,
             "#d8576b"
            ],
            [
             0.6666666666666666,
             "#ed7953"
            ],
            [
             0.7777777777777778,
             "#fb9f3a"
            ],
            [
             0.8888888888888888,
             "#fdca26"
            ],
            [
             1,
             "#f0f921"
            ]
           ]
          },
          "colorway": [
           "#636efa",
           "#EF553B",
           "#00cc96",
           "#ab63fa",
           "#FFA15A",
           "#19d3f3",
           "#FF6692",
           "#B6E880",
           "#FF97FF",
           "#FECB52"
          ],
          "font": {
           "color": "#2a3f5f"
          },
          "geo": {
           "bgcolor": "white",
           "lakecolor": "white",
           "landcolor": "#E5ECF6",
           "showlakes": true,
           "showland": true,
           "subunitcolor": "white"
          },
          "hoverlabel": {
           "align": "left"
          },
          "hovermode": "closest",
          "mapbox": {
           "style": "light"
          },
          "paper_bgcolor": "white",
          "plot_bgcolor": "#E5ECF6",
          "polar": {
           "angularaxis": {
            "gridcolor": "white",
            "linecolor": "white",
            "ticks": ""
           },
           "bgcolor": "#E5ECF6",
           "radialaxis": {
            "gridcolor": "white",
            "linecolor": "white",
            "ticks": ""
           }
          },
          "scene": {
           "xaxis": {
            "backgroundcolor": "#E5ECF6",
            "gridcolor": "white",
            "gridwidth": 2,
            "linecolor": "white",
            "showbackground": true,
            "ticks": "",
            "zerolinecolor": "white"
           },
           "yaxis": {
            "backgroundcolor": "#E5ECF6",
            "gridcolor": "white",
            "gridwidth": 2,
            "linecolor": "white",
            "showbackground": true,
            "ticks": "",
            "zerolinecolor": "white"
           },
           "zaxis": {
            "backgroundcolor": "#E5ECF6",
            "gridcolor": "white",
            "gridwidth": 2,
            "linecolor": "white",
            "showbackground": true,
            "ticks": "",
            "zerolinecolor": "white"
           }
          },
          "shapedefaults": {
           "line": {
            "color": "#2a3f5f"
           }
          },
          "ternary": {
           "aaxis": {
            "gridcolor": "white",
            "linecolor": "white",
            "ticks": ""
           },
           "baxis": {
            "gridcolor": "white",
            "linecolor": "white",
            "ticks": ""
           },
           "bgcolor": "#E5ECF6",
           "caxis": {
            "gridcolor": "white",
            "linecolor": "white",
            "ticks": ""
           }
          },
          "title": {
           "x": 0.05
          },
          "xaxis": {
           "automargin": true,
           "gridcolor": "white",
           "linecolor": "white",
           "ticks": "",
           "title": {
            "standoff": 15
           },
           "zerolinecolor": "white",
           "zerolinewidth": 2
          },
          "yaxis": {
           "automargin": true,
           "gridcolor": "white",
           "linecolor": "white",
           "ticks": "",
           "title": {
            "standoff": 15
           },
           "zerolinecolor": "white",
           "zerolinewidth": 2
          }
         }
        },
        "title": {
         "text": "test_accuracy [8]: 1.00 [12]: 1.00 [16]: 1.00"
        },
        "xaxis": {
         "title": {
          "text": "epoch"
         }
        },
        "yaxis": {
         "title": {
          "text": "test_accuracy"
         }
        }
       }
      },
      "text/html": [
       "<div>                            <div id=\"a08e06da-d9d7-46db-92d7-6617b348a267\" class=\"plotly-graph-div\" style=\"height:525px; width:100%;\"></div>            <script type=\"text/javascript\">                require([\"plotly\"], function(Plotly) {                    window.PLOTLYENV=window.PLOTLYENV || {};                                    if (document.getElementById(\"a08e06da-d9d7-46db-92d7-6617b348a267\")) {                    Plotly.newPlot(                        \"a08e06da-d9d7-46db-92d7-6617b348a267\",                        [{\"mode\": \"markers+lines\", \"name\": \"8\", \"type\": \"scatter\", \"x\": [0, 1, 2, 3, 4, 5, 6, 7, 8, 9, 10, 11, 12, 13, 14, 15, 16, 17, 18, 19, 20, 21, 22, 23, 24, 25, 26, 27, 28, 29], \"y\": [0.5239975095795223, 0.5300523180384925, 0.4623895518698171, 0.65681631614679, 0.5705473166705226, 0.7629636034759391, 0.7901484018486256, 0.932170875021205, 0.8183649666737265, 0.8103039233221886, 0.8974325619856395, 0.8006384297146885, 0.790916669449148, 0.902408006957793, 0.9895176619031599, 0.9277951349638547, 1.0, 1.0, 0.9874652597357161, 0.8784663720714938, 0.8650346895639826, 1.0, 0.9234498693725229, 1.0, 0.8244246663841093, 0.8855716327349623, 0.9515598915018637, 0.8243786901660382, 0.93967625073775, 0.6786991363274881]}, {\"marker\": {\"color\": \"red\", \"size\": 10, \"symbol\": 104}, \"mode\": \"markers\", \"name\": \"\", \"type\": \"scatter\", \"x\": [16], \"y\": [1.0]}, {\"mode\": \"markers+lines\", \"name\": \"12\", \"type\": \"scatter\", \"x\": [0, 1, 2, 3, 4, 5, 6, 7, 8, 9, 10, 11, 12, 13, 14], \"y\": [0.1733006877912126, 0.21371408770491873, 0.4266382585598585, 0.5633133536954673, 0.5417991822089636, 0.6183379401334682, 0.7572456812423599, 0.871813228501652, 1.0, 0.877128524770779, 1.0, 1.0, 1.0, 1.0, 1.0]}, {\"marker\": {\"color\": \"red\", \"size\": 10, \"symbol\": 104}, \"mode\": \"markers\", \"name\": \"\", \"type\": \"scatter\", \"x\": [8], \"y\": [1.0]}, {\"mode\": \"markers+lines\", \"name\": \"16\", \"type\": \"scatter\", \"x\": [0, 1, 2, 3, 4, 5, 6, 7, 8, 9, 10, 11, 12, 13, 14, 15, 16, 17, 18, 19, 20, 21, 22, 23, 24, 25, 26, 27, 28, 29], \"y\": [0.4194601444922464, 0.340404900421267, 0.59961913536946, 0.6285946305555311, 0.5344417919386293, 0.792230103770671, 0.9716144210976618, 1.0, 1.0, 1.0, 1.0, 1.0, 1.0, 1.0, 1.0, 1.0, 1.0, 1.0, 1.0, 1.0, 1.0, 1.0, 1.0, 1.0, 1.0, 1.0, 1.0, 1.0, 1.0, 1.0]}, {\"marker\": {\"color\": \"red\", \"size\": 10, \"symbol\": 104}, \"mode\": \"markers\", \"name\": \"\", \"type\": \"scatter\", \"x\": [7], \"y\": [1.0]}],                        {\"template\": {\"data\": {\"bar\": [{\"error_x\": {\"color\": \"#2a3f5f\"}, \"error_y\": {\"color\": \"#2a3f5f\"}, \"marker\": {\"line\": {\"color\": \"#E5ECF6\", \"width\": 0.5}}, \"type\": \"bar\"}], \"barpolar\": [{\"marker\": {\"line\": {\"color\": \"#E5ECF6\", \"width\": 0.5}}, \"type\": \"barpolar\"}], \"carpet\": [{\"aaxis\": {\"endlinecolor\": \"#2a3f5f\", \"gridcolor\": \"white\", \"linecolor\": \"white\", \"minorgridcolor\": \"white\", \"startlinecolor\": \"#2a3f5f\"}, \"baxis\": {\"endlinecolor\": \"#2a3f5f\", \"gridcolor\": \"white\", \"linecolor\": \"white\", \"minorgridcolor\": \"white\", \"startlinecolor\": \"#2a3f5f\"}, \"type\": \"carpet\"}], \"choropleth\": [{\"colorbar\": {\"outlinewidth\": 0, \"ticks\": \"\"}, \"type\": \"choropleth\"}], \"contour\": [{\"colorbar\": {\"outlinewidth\": 0, \"ticks\": \"\"}, \"colorscale\": [[0.0, \"#0d0887\"], [0.1111111111111111, \"#46039f\"], [0.2222222222222222, \"#7201a8\"], [0.3333333333333333, \"#9c179e\"], [0.4444444444444444, \"#bd3786\"], [0.5555555555555556, \"#d8576b\"], [0.6666666666666666, \"#ed7953\"], [0.7777777777777778, \"#fb9f3a\"], [0.8888888888888888, \"#fdca26\"], [1.0, \"#f0f921\"]], \"type\": \"contour\"}], \"contourcarpet\": [{\"colorbar\": {\"outlinewidth\": 0, \"ticks\": \"\"}, \"type\": \"contourcarpet\"}], \"heatmap\": [{\"colorbar\": {\"outlinewidth\": 0, \"ticks\": \"\"}, \"colorscale\": [[0.0, \"#0d0887\"], [0.1111111111111111, \"#46039f\"], [0.2222222222222222, \"#7201a8\"], [0.3333333333333333, \"#9c179e\"], [0.4444444444444444, \"#bd3786\"], [0.5555555555555556, \"#d8576b\"], [0.6666666666666666, \"#ed7953\"], [0.7777777777777778, \"#fb9f3a\"], [0.8888888888888888, \"#fdca26\"], [1.0, \"#f0f921\"]], \"type\": \"heatmap\"}], \"heatmapgl\": [{\"colorbar\": {\"outlinewidth\": 0, \"ticks\": \"\"}, \"colorscale\": [[0.0, \"#0d0887\"], [0.1111111111111111, \"#46039f\"], [0.2222222222222222, \"#7201a8\"], [0.3333333333333333, \"#9c179e\"], [0.4444444444444444, \"#bd3786\"], [0.5555555555555556, \"#d8576b\"], [0.6666666666666666, \"#ed7953\"], [0.7777777777777778, \"#fb9f3a\"], [0.8888888888888888, \"#fdca26\"], [1.0, \"#f0f921\"]], \"type\": \"heatmapgl\"}], \"histogram\": [{\"marker\": {\"colorbar\": {\"outlinewidth\": 0, \"ticks\": \"\"}}, \"type\": \"histogram\"}], \"histogram2d\": [{\"colorbar\": {\"outlinewidth\": 0, \"ticks\": \"\"}, \"colorscale\": [[0.0, \"#0d0887\"], [0.1111111111111111, \"#46039f\"], [0.2222222222222222, \"#7201a8\"], [0.3333333333333333, \"#9c179e\"], [0.4444444444444444, \"#bd3786\"], [0.5555555555555556, \"#d8576b\"], [0.6666666666666666, \"#ed7953\"], [0.7777777777777778, \"#fb9f3a\"], [0.8888888888888888, \"#fdca26\"], [1.0, \"#f0f921\"]], \"type\": \"histogram2d\"}], \"histogram2dcontour\": [{\"colorbar\": {\"outlinewidth\": 0, \"ticks\": \"\"}, \"colorscale\": [[0.0, \"#0d0887\"], [0.1111111111111111, \"#46039f\"], [0.2222222222222222, \"#7201a8\"], [0.3333333333333333, \"#9c179e\"], [0.4444444444444444, \"#bd3786\"], [0.5555555555555556, \"#d8576b\"], [0.6666666666666666, \"#ed7953\"], [0.7777777777777778, \"#fb9f3a\"], [0.8888888888888888, \"#fdca26\"], [1.0, \"#f0f921\"]], \"type\": \"histogram2dcontour\"}], \"mesh3d\": [{\"colorbar\": {\"outlinewidth\": 0, \"ticks\": \"\"}, \"type\": \"mesh3d\"}], \"parcoords\": [{\"line\": {\"colorbar\": {\"outlinewidth\": 0, \"ticks\": \"\"}}, \"type\": \"parcoords\"}], \"pie\": [{\"automargin\": true, \"type\": \"pie\"}], \"scatter\": [{\"marker\": {\"colorbar\": {\"outlinewidth\": 0, \"ticks\": \"\"}}, \"type\": \"scatter\"}], \"scatter3d\": [{\"line\": {\"colorbar\": {\"outlinewidth\": 0, \"ticks\": \"\"}}, \"marker\": {\"colorbar\": {\"outlinewidth\": 0, \"ticks\": \"\"}}, \"type\": \"scatter3d\"}], \"scattercarpet\": [{\"marker\": {\"colorbar\": {\"outlinewidth\": 0, \"ticks\": \"\"}}, \"type\": \"scattercarpet\"}], \"scattergeo\": [{\"marker\": {\"colorbar\": {\"outlinewidth\": 0, \"ticks\": \"\"}}, \"type\": \"scattergeo\"}], \"scattergl\": [{\"marker\": {\"colorbar\": {\"outlinewidth\": 0, \"ticks\": \"\"}}, \"type\": \"scattergl\"}], \"scattermapbox\": [{\"marker\": {\"colorbar\": {\"outlinewidth\": 0, \"ticks\": \"\"}}, \"type\": \"scattermapbox\"}], \"scatterpolar\": [{\"marker\": {\"colorbar\": {\"outlinewidth\": 0, \"ticks\": \"\"}}, \"type\": \"scatterpolar\"}], \"scatterpolargl\": [{\"marker\": {\"colorbar\": {\"outlinewidth\": 0, \"ticks\": \"\"}}, \"type\": \"scatterpolargl\"}], \"scatterternary\": [{\"marker\": {\"colorbar\": {\"outlinewidth\": 0, \"ticks\": \"\"}}, \"type\": \"scatterternary\"}], \"surface\": [{\"colorbar\": {\"outlinewidth\": 0, \"ticks\": \"\"}, \"colorscale\": [[0.0, \"#0d0887\"], [0.1111111111111111, \"#46039f\"], [0.2222222222222222, \"#7201a8\"], [0.3333333333333333, \"#9c179e\"], [0.4444444444444444, \"#bd3786\"], [0.5555555555555556, \"#d8576b\"], [0.6666666666666666, \"#ed7953\"], [0.7777777777777778, \"#fb9f3a\"], [0.8888888888888888, \"#fdca26\"], [1.0, \"#f0f921\"]], \"type\": \"surface\"}], \"table\": [{\"cells\": {\"fill\": {\"color\": \"#EBF0F8\"}, \"line\": {\"color\": \"white\"}}, \"header\": {\"fill\": {\"color\": \"#C8D4E3\"}, \"line\": {\"color\": \"white\"}}, \"type\": \"table\"}]}, \"layout\": {\"annotationdefaults\": {\"arrowcolor\": \"#2a3f5f\", \"arrowhead\": 0, \"arrowwidth\": 1}, \"autotypenumbers\": \"strict\", \"coloraxis\": {\"colorbar\": {\"outlinewidth\": 0, \"ticks\": \"\"}}, \"colorscale\": {\"diverging\": [[0, \"#8e0152\"], [0.1, \"#c51b7d\"], [0.2, \"#de77ae\"], [0.3, \"#f1b6da\"], [0.4, \"#fde0ef\"], [0.5, \"#f7f7f7\"], [0.6, \"#e6f5d0\"], [0.7, \"#b8e186\"], [0.8, \"#7fbc41\"], [0.9, \"#4d9221\"], [1, \"#276419\"]], \"sequential\": [[0.0, \"#0d0887\"], [0.1111111111111111, \"#46039f\"], [0.2222222222222222, \"#7201a8\"], [0.3333333333333333, \"#9c179e\"], [0.4444444444444444, \"#bd3786\"], [0.5555555555555556, \"#d8576b\"], [0.6666666666666666, \"#ed7953\"], [0.7777777777777778, \"#fb9f3a\"], [0.8888888888888888, \"#fdca26\"], [1.0, \"#f0f921\"]], \"sequentialminus\": [[0.0, \"#0d0887\"], [0.1111111111111111, \"#46039f\"], [0.2222222222222222, \"#7201a8\"], [0.3333333333333333, \"#9c179e\"], [0.4444444444444444, \"#bd3786\"], [0.5555555555555556, \"#d8576b\"], [0.6666666666666666, \"#ed7953\"], [0.7777777777777778, \"#fb9f3a\"], [0.8888888888888888, \"#fdca26\"], [1.0, \"#f0f921\"]]}, \"colorway\": [\"#636efa\", \"#EF553B\", \"#00cc96\", \"#ab63fa\", \"#FFA15A\", \"#19d3f3\", \"#FF6692\", \"#B6E880\", \"#FF97FF\", \"#FECB52\"], \"font\": {\"color\": \"#2a3f5f\"}, \"geo\": {\"bgcolor\": \"white\", \"lakecolor\": \"white\", \"landcolor\": \"#E5ECF6\", \"showlakes\": true, \"showland\": true, \"subunitcolor\": \"white\"}, \"hoverlabel\": {\"align\": \"left\"}, \"hovermode\": \"closest\", \"mapbox\": {\"style\": \"light\"}, \"paper_bgcolor\": \"white\", \"plot_bgcolor\": \"#E5ECF6\", \"polar\": {\"angularaxis\": {\"gridcolor\": \"white\", \"linecolor\": \"white\", \"ticks\": \"\"}, \"bgcolor\": \"#E5ECF6\", \"radialaxis\": {\"gridcolor\": \"white\", \"linecolor\": \"white\", \"ticks\": \"\"}}, \"scene\": {\"xaxis\": {\"backgroundcolor\": \"#E5ECF6\", \"gridcolor\": \"white\", \"gridwidth\": 2, \"linecolor\": \"white\", \"showbackground\": true, \"ticks\": \"\", \"zerolinecolor\": \"white\"}, \"yaxis\": {\"backgroundcolor\": \"#E5ECF6\", \"gridcolor\": \"white\", \"gridwidth\": 2, \"linecolor\": \"white\", \"showbackground\": true, \"ticks\": \"\", \"zerolinecolor\": \"white\"}, \"zaxis\": {\"backgroundcolor\": \"#E5ECF6\", \"gridcolor\": \"white\", \"gridwidth\": 2, \"linecolor\": \"white\", \"showbackground\": true, \"ticks\": \"\", \"zerolinecolor\": \"white\"}}, \"shapedefaults\": {\"line\": {\"color\": \"#2a3f5f\"}}, \"ternary\": {\"aaxis\": {\"gridcolor\": \"white\", \"linecolor\": \"white\", \"ticks\": \"\"}, \"baxis\": {\"gridcolor\": \"white\", \"linecolor\": \"white\", \"ticks\": \"\"}, \"bgcolor\": \"#E5ECF6\", \"caxis\": {\"gridcolor\": \"white\", \"linecolor\": \"white\", \"ticks\": \"\"}}, \"title\": {\"x\": 0.05}, \"xaxis\": {\"automargin\": true, \"gridcolor\": \"white\", \"linecolor\": \"white\", \"ticks\": \"\", \"title\": {\"standoff\": 15}, \"zerolinecolor\": \"white\", \"zerolinewidth\": 2}, \"yaxis\": {\"automargin\": true, \"gridcolor\": \"white\", \"linecolor\": \"white\", \"ticks\": \"\", \"title\": {\"standoff\": 15}, \"zerolinecolor\": \"white\", \"zerolinewidth\": 2}}}, \"title\": {\"text\": \"test_accuracy [8]: 1.00 [12]: 1.00 [16]: 1.00\"}, \"xaxis\": {\"title\": {\"text\": \"epoch\"}}, \"yaxis\": {\"title\": {\"text\": \"test_accuracy\"}}},                        {\"responsive\": true}                    ).then(function(){\n",
       "                            \n",
       "var gd = document.getElementById('a08e06da-d9d7-46db-92d7-6617b348a267');\n",
       "var x = new MutationObserver(function (mutations, observer) {{\n",
       "        var display = window.getComputedStyle(gd).display;\n",
       "        if (!display || display === 'none') {{\n",
       "            console.log([gd, 'removed!']);\n",
       "            Plotly.purge(gd);\n",
       "            observer.disconnect();\n",
       "        }}\n",
       "}});\n",
       "\n",
       "// Listen for the removal of the full notebook cells\n",
       "var notebookContainer = gd.closest('#notebook-container');\n",
       "if (notebookContainer) {{\n",
       "    x.observe(notebookContainer, {childList: true});\n",
       "}}\n",
       "\n",
       "// Listen for the clearing of the current output cell\n",
       "var outputEl = gd.closest('.output');\n",
       "if (outputEl) {{\n",
       "    x.observe(outputEl, {childList: true});\n",
       "}}\n",
       "\n",
       "                        })                };                });            </script>        </div>"
      ]
     },
     "metadata": {},
     "output_type": "display_data"
    },
    {
     "data": {
      "text/html": [
       "<div>\n",
       "<style scoped>\n",
       "    .dataframe tbody tr th:only-of-type {\n",
       "        vertical-align: middle;\n",
       "    }\n",
       "\n",
       "    .dataframe tbody tr th {\n",
       "        vertical-align: top;\n",
       "    }\n",
       "\n",
       "    .dataframe thead th {\n",
       "        text-align: right;\n",
       "    }\n",
       "</style>\n",
       "<table border=\"1\" class=\"dataframe\">\n",
       "  <thead>\n",
       "    <tr style=\"text-align: right;\">\n",
       "      <th></th>\n",
       "      <th>epochs</th>\n",
       "      <th>offset</th>\n",
       "      <th>rate</th>\n",
       "      <th>test_accuracy</th>\n",
       "    </tr>\n",
       "  </thead>\n",
       "  <tbody>\n",
       "    <tr>\n",
       "      <th>8</th>\n",
       "      <td>30.0</td>\n",
       "      <td>0.6</td>\n",
       "      <td>0.03</td>\n",
       "      <td>1.0</td>\n",
       "    </tr>\n",
       "    <tr>\n",
       "      <th>12</th>\n",
       "      <td>15.0</td>\n",
       "      <td>0.1</td>\n",
       "      <td>0.10</td>\n",
       "      <td>1.0</td>\n",
       "    </tr>\n",
       "    <tr>\n",
       "      <th>16</th>\n",
       "      <td>30.0</td>\n",
       "      <td>0.3</td>\n",
       "      <td>0.10</td>\n",
       "      <td>1.0</td>\n",
       "    </tr>\n",
       "  </tbody>\n",
       "</table>\n",
       "</div>"
      ],
      "text/plain": [
       "    epochs  offset  rate  test_accuracy\n",
       "8     30.0     0.6  0.03            1.0\n",
       "12    15.0     0.1  0.10            1.0\n",
       "16    30.0     0.3  0.10            1.0"
      ]
     },
     "metadata": {},
     "output_type": "display_data"
    }
   ],
   "source": [
    "plot_multiple_histories ([8,12, 16], run_number=0, op='max', metrics = 'test_accuracy', backend='plotly')"
   ]
  },
  {
   "cell_type": "markdown",
   "metadata": {},
   "source": [
    "## Metric correlation\n",
    "\n",
    "Displays the relationship between scores obtained across experiments with two different evaluation metrics indicated as argument. Calculates Pearson R-squared coefficient."
   ]
  },
  {
   "cell_type": "code",
   "execution_count": null,
   "metadata": {},
   "outputs": [],
   "source": [
    "#export\n",
    "from hpsearch.utils import experiment_utils as ut\n",
    "from hpsearch.visualization import plotly\n",
    "import numpy as np\n",
    "\n",
    "def plot_metric_relationship (metric_1, metric_2, folder_experiments=None, run_numbers=None, \n",
    "                              experiments=None, experiment_subset=None,\n",
    "                              backend='visdom'):\n",
    "    df = ut.get_experiment_data (folder_experiments=folder_experiments, experiments=experiments)\n",
    "    df_metric_1 = ut.get_experiment_scores (experiment_data=df, suffix_results=f'_{metric_1}', remove_suffix=True, class_ids=run_numbers)\n",
    "    df_metric_2 = ut.get_experiment_scores (experiment_data=df, suffix_results=f'_{metric_2}', remove_suffix=True, class_ids=run_numbers)\n",
    "    \n",
    "    traces=plotly.add_trace(df_metric_1.values, df_metric_2.values, traces=[], style='A.', label='all experiments', backend=backend);\n",
    "    \n",
    "    if experiment_subset is not None:\n",
    "        df_metric_1_subset = ut.get_experiment_scores (experiment_data=df.loc[experiment_subset], suffix_results=f'_{metric_1}', remove_suffix=True, class_ids=run_numbers)\n",
    "        df_metric_2_subset = ut.get_experiment_scores (experiment_data=df.loc[experiment_subset], suffix_results=f'_{metric_2}', remove_suffix=True, class_ids=run_numbers)\n",
    "        traces=plotly.add_trace(df_metric_1_subset.values, df_metric_2_subset.values, traces=traces, style='A.', label=f'selected subset', backend=backend);\n",
    "    \n",
    "    plotly.plot(np.linspace(df_metric_1.values.min(), df_metric_1.values.max(), 100), \n",
    "                np.linspace(df_metric_2.values.min(), df_metric_2.values.max(), 100), \n",
    "                traces=traces, style='A-', label='linear', title=f'{metric_1} vs {metric_2}', xlabel=metric_1, ylabel=metric_2, backend=backend);"
   ]
  },
  {
   "cell_type": "markdown",
   "metadata": {},
   "source": [
    "## usage examples\n",
    "\n",
    "Illustrate usage based on dummy experiment manager"
   ]
  },
  {
   "cell_type": "markdown",
   "metadata": {},
   "source": [
    "#### plot relationship between validation and accuracy metrics"
   ]
  },
  {
   "cell_type": "code",
   "execution_count": null,
   "metadata": {},
   "outputs": [
    {
     "data": {
      "text/html": [
       "        <script type=\"text/javascript\">\n",
       "        window.PlotlyConfig = {MathJaxConfig: 'local'};\n",
       "        if (window.MathJax) {MathJax.Hub.Config({SVG: {font: \"STIX-Web\"}});}\n",
       "        if (typeof require !== 'undefined') {\n",
       "        require.undef(\"plotly\");\n",
       "        requirejs.config({\n",
       "            paths: {\n",
       "                'plotly': ['https://cdn.plot.ly/plotly-latest.min']\n",
       "            }\n",
       "        });\n",
       "        require(['plotly'], function(Plotly) {\n",
       "            window._Plotly = Plotly;\n",
       "        });\n",
       "        }\n",
       "        </script>\n",
       "        "
      ]
     },
     "metadata": {},
     "output_type": "display_data"
    },
    {
     "data": {
      "application/vnd.plotly.v1+json": {
       "config": {
        "linkText": "Export to plot.ly",
        "plotlyServerURL": "https://plot.ly",
        "showLink": false
       },
       "data": [
        {
         "mode": "markers",
         "name": "all experiments",
         "type": "scatter",
         "x": [
          0.26437898169579377,
          0.1392998029036163,
          0.20901120068218934,
          0.2672739068274302,
          0.16307826288535615,
          0.43530591477787334,
          0.44357759508517774,
          0.3871798833225532,
          0.46309654166193814,
          0.5952470900687068,
          0.5908630033350294,
          0.7309380797625914,
          0.7829024889352322,
          0.6939280819627526,
          0.7769514479407205,
          0.45286977284745117,
          0.500507517629903,
          0.6999745606287993,
          0.7653333763499254,
          0.5416096554062103,
          0.6601760467306448,
          0.6607665179566691,
          0.6578336004940939,
          0.7858307275840313,
          0.5360170298504554,
          1,
          1,
          1,
          1,
          1,
          0.40753349293378344,
          0.27914680472603803,
          0.3525438467061241,
          0.35684320080393656,
          0.26821556074236624,
          0.703711423209574,
          0.4802218679872151,
          0.7297568082638686,
          0.6682506836351048,
          0.3723493488012269,
          0.6947290123140064,
          0.9055947460260949,
          1,
          0.9306083986740118,
          0.9699598947588522,
          0.4729764694502593,
          0.5143888710959071,
          0.4871337645315138,
          0.5960275729484116,
          0.42255630753557644,
          0.9669398592555746,
          0.8087455740856595,
          0.8565821600423733,
          0.9424369441872313,
          0.7984915074076592,
          1,
          1,
          1,
          1,
          1,
          1,
          1,
          1,
          1,
          1,
          1,
          1,
          1,
          1,
          1,
          1,
          1,
          1,
          1,
          1,
          1,
          1,
          0.9915982344641578,
          1,
          1,
          1,
          1,
          1,
          1,
          1,
          1,
          1,
          1,
          1,
          1
         ],
         "y": [
          0.35304522694943397,
          0.3470026800613887,
          0.2726260510125984,
          0.2830582715019198,
          0.40808294024029795,
          0.5629307593930236,
          0.5881674638899256,
          0.4861892305131268,
          0.37285016748809985,
          0.4524649573376984,
          0.9382762506102105,
          0.9784429969540857,
          0.8303805721999866,
          0.9545875888418626,
          0.758288852810324,
          0.48066476408159103,
          0.3170219425294045,
          0.4385607256735673,
          0.3113634738469055,
          0.35394806290013764,
          0.6437296838851856,
          0.6464441403544193,
          0.7210669023346997,
          0.7762018425593518,
          0.56273105405402,
          0.7766984714121086,
          0.9339351947330581,
          1,
          1,
          1,
          0.4540270586341919,
          0.25304431718360393,
          0.31540989899289723,
          0.30561581270463056,
          0.34367685171589435,
          0.600001690524809,
          0.4697148344364077,
          0.6531497119629971,
          0.34360156364283156,
          0.5614181118456143,
          0.8101662299230422,
          0.9222506819950943,
          0.7296051348996728,
          0.669359963200913,
          0.8163715107134591,
          0.8558039995376592,
          0.6971675203322029,
          0.8046435677480491,
          0.7726460539922709,
          0.7280725316243567,
          1,
          0.9595807171145965,
          0.7767473874212727,
          0.880276140571187,
          0.7632499444830612,
          1,
          1,
          1,
          1,
          1,
          1,
          1,
          1,
          1,
          1,
          1,
          1,
          1,
          1,
          1,
          1,
          1,
          1,
          1,
          1,
          1,
          0.943425742636402,
          0.9357029914189887,
          0.9191055728594711,
          0.7456047883972357,
          1,
          1,
          1,
          1,
          1,
          1,
          1,
          1,
          1,
          1
         ]
        },
        {
         "mode": "lines",
         "name": "linear",
         "type": "scatter",
         "x": [
          0.1392998029036163,
          0.14799374428842826,
          0.1566876856732402,
          0.16538162705805215,
          0.17407556844286412,
          0.1827695098276761,
          0.19146345121248803,
          0.20015739259729998,
          0.20885133398211195,
          0.21754527536692392,
          0.22623921675173586,
          0.2349331581365478,
          0.24362709952135977,
          0.25232104090617175,
          0.2610149822909837,
          0.2697089236757957,
          0.27840286506060763,
          0.2870968064454196,
          0.2957907478302315,
          0.30448468921504346,
          0.3131786305998554,
          0.32187257198466734,
          0.33056651336947934,
          0.33926045475429134,
          0.3479543961391033,
          0.3566483375239152,
          0.36534227890872717,
          0.3740362202935391,
          0.38273016167835106,
          0.391424103063163,
          0.40011804444797505,
          0.408811985832787,
          0.41750592721759894,
          0.4261998686024109,
          0.4348938099872228,
          0.44358775137203477,
          0.4522816927568467,
          0.46097563414165865,
          0.4696695755264707,
          0.47836351691128265,
          0.4870574582960946,
          0.49575139968090653,
          0.5044453410657185,
          0.5131392824505304,
          0.5218332238353424,
          0.5305271652201543,
          0.5392211066049664,
          0.5479150479897783,
          0.5566089893745902,
          0.5653029307594022,
          0.5739968721442141,
          0.5826908135290261,
          0.591384754913838,
          0.60007869629865,
          0.608772637683462,
          0.617466579068274,
          0.6261605204530859,
          0.6348544618378978,
          0.6435484032227098,
          0.6522423446075217,
          0.6609362859923338,
          0.6696302273771457,
          0.6783241687619577,
          0.6870181101467696,
          0.6957120515315816,
          0.7044059929163935,
          0.7130999343012054,
          0.7217938756860174,
          0.7304878170708293,
          0.7391817584556414,
          0.7478756998404533,
          0.7565696412252653,
          0.7652635826100772,
          0.7739575239948892,
          0.7826514653797011,
          0.791345406764513,
          0.8000393481493251,
          0.808733289534137,
          0.817427230918949,
          0.8261211723037609,
          0.8348151136885729,
          0.8435090550733848,
          0.8522029964581967,
          0.8608969378430087,
          0.8695908792278206,
          0.8782848206126327,
          0.8869787619974446,
          0.8956727033822566,
          0.9043666447670685,
          0.9130605861518805,
          0.9217545275366924,
          0.9304484689215043,
          0.9391424103063164,
          0.9478363516911283,
          0.9565302930759403,
          0.9652242344607522,
          0.9739181758455642,
          0.9826121172303761,
          0.9913060586151881,
          1
         ],
         "y": [
          0.25304431718360393,
          0.26058932408073926,
          0.26813433097787454,
          0.27567933787500987,
          0.2832243447721452,
          0.29076935166928053,
          0.2983143585664158,
          0.30585936546355114,
          0.31340437236068647,
          0.32094937925782174,
          0.3284943861549571,
          0.3360393930520924,
          0.34358439994922774,
          0.351129406846363,
          0.35867441374349834,
          0.3662194206406336,
          0.37376442753776895,
          0.3813094344349043,
          0.3888544413320396,
          0.39639944822917494,
          0.4039444551263102,
          0.41148946202344555,
          0.4190344689205808,
          0.42657947581771616,
          0.4341244827148515,
          0.4416694896119868,
          0.44921449650912215,
          0.4567595034062574,
          0.4643045103033927,
          0.47184951720052803,
          0.47939452409766337,
          0.4869395309947987,
          0.49448453789193403,
          0.5020295447890692,
          0.5095745516862047,
          0.5171195585833399,
          0.5246645654804752,
          0.5322095723776106,
          0.5397545792747459,
          0.5472995861718812,
          0.5548445930690165,
          0.5623895999661519,
          0.5699346068632871,
          0.5774796137604224,
          0.5850246206575578,
          0.5925696275546931,
          0.6001146344518284,
          0.6076596413489637,
          0.6152046482460991,
          0.6227496551432343,
          0.6302946620403697,
          0.637839668937505,
          0.6453846758346403,
          0.6529296827317757,
          0.6604746896289109,
          0.6680196965260463,
          0.6755647034231815,
          0.6831097103203169,
          0.6906547172174522,
          0.6981997241145874,
          0.7057447310117229,
          0.7132897379088581,
          0.7208347448059935,
          0.7283797517031287,
          0.7359247586002641,
          0.7434697654973994,
          0.7510147723945346,
          0.7585597792916701,
          0.7661047861888053,
          0.7736497930859407,
          0.781194799983076,
          0.7887398068802112,
          0.7962848137773466,
          0.8038298206744818,
          0.8113748275716173,
          0.8189198344687525,
          0.8264648413658879,
          0.8340098482630232,
          0.8415548551601584,
          0.8490998620572938,
          0.856644868954429,
          0.8641898758515645,
          0.8717348827486997,
          0.8792798896458351,
          0.8868248965429704,
          0.8943699034401056,
          0.901914910337241,
          0.9094599172343762,
          0.9170049241315117,
          0.9245499310286469,
          0.9320949379257824,
          0.9396399448229176,
          0.9471849517200528,
          0.9547299586171882,
          0.9622749655143235,
          0.9698199724114589,
          0.9773649793085941,
          0.9849099862057296,
          0.9924549931028648,
          1
         ]
        }
       ],
       "layout": {
        "template": {
         "data": {
          "bar": [
           {
            "error_x": {
             "color": "#2a3f5f"
            },
            "error_y": {
             "color": "#2a3f5f"
            },
            "marker": {
             "line": {
              "color": "#E5ECF6",
              "width": 0.5
             }
            },
            "type": "bar"
           }
          ],
          "barpolar": [
           {
            "marker": {
             "line": {
              "color": "#E5ECF6",
              "width": 0.5
             }
            },
            "type": "barpolar"
           }
          ],
          "carpet": [
           {
            "aaxis": {
             "endlinecolor": "#2a3f5f",
             "gridcolor": "white",
             "linecolor": "white",
             "minorgridcolor": "white",
             "startlinecolor": "#2a3f5f"
            },
            "baxis": {
             "endlinecolor": "#2a3f5f",
             "gridcolor": "white",
             "linecolor": "white",
             "minorgridcolor": "white",
             "startlinecolor": "#2a3f5f"
            },
            "type": "carpet"
           }
          ],
          "choropleth": [
           {
            "colorbar": {
             "outlinewidth": 0,
             "ticks": ""
            },
            "type": "choropleth"
           }
          ],
          "contour": [
           {
            "colorbar": {
             "outlinewidth": 0,
             "ticks": ""
            },
            "colorscale": [
             [
              0,
              "#0d0887"
             ],
             [
              0.1111111111111111,
              "#46039f"
             ],
             [
              0.2222222222222222,
              "#7201a8"
             ],
             [
              0.3333333333333333,
              "#9c179e"
             ],
             [
              0.4444444444444444,
              "#bd3786"
             ],
             [
              0.5555555555555556,
              "#d8576b"
             ],
             [
              0.6666666666666666,
              "#ed7953"
             ],
             [
              0.7777777777777778,
              "#fb9f3a"
             ],
             [
              0.8888888888888888,
              "#fdca26"
             ],
             [
              1,
              "#f0f921"
             ]
            ],
            "type": "contour"
           }
          ],
          "contourcarpet": [
           {
            "colorbar": {
             "outlinewidth": 0,
             "ticks": ""
            },
            "type": "contourcarpet"
           }
          ],
          "heatmap": [
           {
            "colorbar": {
             "outlinewidth": 0,
             "ticks": ""
            },
            "colorscale": [
             [
              0,
              "#0d0887"
             ],
             [
              0.1111111111111111,
              "#46039f"
             ],
             [
              0.2222222222222222,
              "#7201a8"
             ],
             [
              0.3333333333333333,
              "#9c179e"
             ],
             [
              0.4444444444444444,
              "#bd3786"
             ],
             [
              0.5555555555555556,
              "#d8576b"
             ],
             [
              0.6666666666666666,
              "#ed7953"
             ],
             [
              0.7777777777777778,
              "#fb9f3a"
             ],
             [
              0.8888888888888888,
              "#fdca26"
             ],
             [
              1,
              "#f0f921"
             ]
            ],
            "type": "heatmap"
           }
          ],
          "heatmapgl": [
           {
            "colorbar": {
             "outlinewidth": 0,
             "ticks": ""
            },
            "colorscale": [
             [
              0,
              "#0d0887"
             ],
             [
              0.1111111111111111,
              "#46039f"
             ],
             [
              0.2222222222222222,
              "#7201a8"
             ],
             [
              0.3333333333333333,
              "#9c179e"
             ],
             [
              0.4444444444444444,
              "#bd3786"
             ],
             [
              0.5555555555555556,
              "#d8576b"
             ],
             [
              0.6666666666666666,
              "#ed7953"
             ],
             [
              0.7777777777777778,
              "#fb9f3a"
             ],
             [
              0.8888888888888888,
              "#fdca26"
             ],
             [
              1,
              "#f0f921"
             ]
            ],
            "type": "heatmapgl"
           }
          ],
          "histogram": [
           {
            "marker": {
             "colorbar": {
              "outlinewidth": 0,
              "ticks": ""
             }
            },
            "type": "histogram"
           }
          ],
          "histogram2d": [
           {
            "colorbar": {
             "outlinewidth": 0,
             "ticks": ""
            },
            "colorscale": [
             [
              0,
              "#0d0887"
             ],
             [
              0.1111111111111111,
              "#46039f"
             ],
             [
              0.2222222222222222,
              "#7201a8"
             ],
             [
              0.3333333333333333,
              "#9c179e"
             ],
             [
              0.4444444444444444,
              "#bd3786"
             ],
             [
              0.5555555555555556,
              "#d8576b"
             ],
             [
              0.6666666666666666,
              "#ed7953"
             ],
             [
              0.7777777777777778,
              "#fb9f3a"
             ],
             [
              0.8888888888888888,
              "#fdca26"
             ],
             [
              1,
              "#f0f921"
             ]
            ],
            "type": "histogram2d"
           }
          ],
          "histogram2dcontour": [
           {
            "colorbar": {
             "outlinewidth": 0,
             "ticks": ""
            },
            "colorscale": [
             [
              0,
              "#0d0887"
             ],
             [
              0.1111111111111111,
              "#46039f"
             ],
             [
              0.2222222222222222,
              "#7201a8"
             ],
             [
              0.3333333333333333,
              "#9c179e"
             ],
             [
              0.4444444444444444,
              "#bd3786"
             ],
             [
              0.5555555555555556,
              "#d8576b"
             ],
             [
              0.6666666666666666,
              "#ed7953"
             ],
             [
              0.7777777777777778,
              "#fb9f3a"
             ],
             [
              0.8888888888888888,
              "#fdca26"
             ],
             [
              1,
              "#f0f921"
             ]
            ],
            "type": "histogram2dcontour"
           }
          ],
          "mesh3d": [
           {
            "colorbar": {
             "outlinewidth": 0,
             "ticks": ""
            },
            "type": "mesh3d"
           }
          ],
          "parcoords": [
           {
            "line": {
             "colorbar": {
              "outlinewidth": 0,
              "ticks": ""
             }
            },
            "type": "parcoords"
           }
          ],
          "pie": [
           {
            "automargin": true,
            "type": "pie"
           }
          ],
          "scatter": [
           {
            "marker": {
             "colorbar": {
              "outlinewidth": 0,
              "ticks": ""
             }
            },
            "type": "scatter"
           }
          ],
          "scatter3d": [
           {
            "line": {
             "colorbar": {
              "outlinewidth": 0,
              "ticks": ""
             }
            },
            "marker": {
             "colorbar": {
              "outlinewidth": 0,
              "ticks": ""
             }
            },
            "type": "scatter3d"
           }
          ],
          "scattercarpet": [
           {
            "marker": {
             "colorbar": {
              "outlinewidth": 0,
              "ticks": ""
             }
            },
            "type": "scattercarpet"
           }
          ],
          "scattergeo": [
           {
            "marker": {
             "colorbar": {
              "outlinewidth": 0,
              "ticks": ""
             }
            },
            "type": "scattergeo"
           }
          ],
          "scattergl": [
           {
            "marker": {
             "colorbar": {
              "outlinewidth": 0,
              "ticks": ""
             }
            },
            "type": "scattergl"
           }
          ],
          "scattermapbox": [
           {
            "marker": {
             "colorbar": {
              "outlinewidth": 0,
              "ticks": ""
             }
            },
            "type": "scattermapbox"
           }
          ],
          "scatterpolar": [
           {
            "marker": {
             "colorbar": {
              "outlinewidth": 0,
              "ticks": ""
             }
            },
            "type": "scatterpolar"
           }
          ],
          "scatterpolargl": [
           {
            "marker": {
             "colorbar": {
              "outlinewidth": 0,
              "ticks": ""
             }
            },
            "type": "scatterpolargl"
           }
          ],
          "scatterternary": [
           {
            "marker": {
             "colorbar": {
              "outlinewidth": 0,
              "ticks": ""
             }
            },
            "type": "scatterternary"
           }
          ],
          "surface": [
           {
            "colorbar": {
             "outlinewidth": 0,
             "ticks": ""
            },
            "colorscale": [
             [
              0,
              "#0d0887"
             ],
             [
              0.1111111111111111,
              "#46039f"
             ],
             [
              0.2222222222222222,
              "#7201a8"
             ],
             [
              0.3333333333333333,
              "#9c179e"
             ],
             [
              0.4444444444444444,
              "#bd3786"
             ],
             [
              0.5555555555555556,
              "#d8576b"
             ],
             [
              0.6666666666666666,
              "#ed7953"
             ],
             [
              0.7777777777777778,
              "#fb9f3a"
             ],
             [
              0.8888888888888888,
              "#fdca26"
             ],
             [
              1,
              "#f0f921"
             ]
            ],
            "type": "surface"
           }
          ],
          "table": [
           {
            "cells": {
             "fill": {
              "color": "#EBF0F8"
             },
             "line": {
              "color": "white"
             }
            },
            "header": {
             "fill": {
              "color": "#C8D4E3"
             },
             "line": {
              "color": "white"
             }
            },
            "type": "table"
           }
          ]
         },
         "layout": {
          "annotationdefaults": {
           "arrowcolor": "#2a3f5f",
           "arrowhead": 0,
           "arrowwidth": 1
          },
          "autotypenumbers": "strict",
          "coloraxis": {
           "colorbar": {
            "outlinewidth": 0,
            "ticks": ""
           }
          },
          "colorscale": {
           "diverging": [
            [
             0,
             "#8e0152"
            ],
            [
             0.1,
             "#c51b7d"
            ],
            [
             0.2,
             "#de77ae"
            ],
            [
             0.3,
             "#f1b6da"
            ],
            [
             0.4,
             "#fde0ef"
            ],
            [
             0.5,
             "#f7f7f7"
            ],
            [
             0.6,
             "#e6f5d0"
            ],
            [
             0.7,
             "#b8e186"
            ],
            [
             0.8,
             "#7fbc41"
            ],
            [
             0.9,
             "#4d9221"
            ],
            [
             1,
             "#276419"
            ]
           ],
           "sequential": [
            [
             0,
             "#0d0887"
            ],
            [
             0.1111111111111111,
             "#46039f"
            ],
            [
             0.2222222222222222,
             "#7201a8"
            ],
            [
             0.3333333333333333,
             "#9c179e"
            ],
            [
             0.4444444444444444,
             "#bd3786"
            ],
            [
             0.5555555555555556,
             "#d8576b"
            ],
            [
             0.6666666666666666,
             "#ed7953"
            ],
            [
             0.7777777777777778,
             "#fb9f3a"
            ],
            [
             0.8888888888888888,
             "#fdca26"
            ],
            [
             1,
             "#f0f921"
            ]
           ],
           "sequentialminus": [
            [
             0,
             "#0d0887"
            ],
            [
             0.1111111111111111,
             "#46039f"
            ],
            [
             0.2222222222222222,
             "#7201a8"
            ],
            [
             0.3333333333333333,
             "#9c179e"
            ],
            [
             0.4444444444444444,
             "#bd3786"
            ],
            [
             0.5555555555555556,
             "#d8576b"
            ],
            [
             0.6666666666666666,
             "#ed7953"
            ],
            [
             0.7777777777777778,
             "#fb9f3a"
            ],
            [
             0.8888888888888888,
             "#fdca26"
            ],
            [
             1,
             "#f0f921"
            ]
           ]
          },
          "colorway": [
           "#636efa",
           "#EF553B",
           "#00cc96",
           "#ab63fa",
           "#FFA15A",
           "#19d3f3",
           "#FF6692",
           "#B6E880",
           "#FF97FF",
           "#FECB52"
          ],
          "font": {
           "color": "#2a3f5f"
          },
          "geo": {
           "bgcolor": "white",
           "lakecolor": "white",
           "landcolor": "#E5ECF6",
           "showlakes": true,
           "showland": true,
           "subunitcolor": "white"
          },
          "hoverlabel": {
           "align": "left"
          },
          "hovermode": "closest",
          "mapbox": {
           "style": "light"
          },
          "paper_bgcolor": "white",
          "plot_bgcolor": "#E5ECF6",
          "polar": {
           "angularaxis": {
            "gridcolor": "white",
            "linecolor": "white",
            "ticks": ""
           },
           "bgcolor": "#E5ECF6",
           "radialaxis": {
            "gridcolor": "white",
            "linecolor": "white",
            "ticks": ""
           }
          },
          "scene": {
           "xaxis": {
            "backgroundcolor": "#E5ECF6",
            "gridcolor": "white",
            "gridwidth": 2,
            "linecolor": "white",
            "showbackground": true,
            "ticks": "",
            "zerolinecolor": "white"
           },
           "yaxis": {
            "backgroundcolor": "#E5ECF6",
            "gridcolor": "white",
            "gridwidth": 2,
            "linecolor": "white",
            "showbackground": true,
            "ticks": "",
            "zerolinecolor": "white"
           },
           "zaxis": {
            "backgroundcolor": "#E5ECF6",
            "gridcolor": "white",
            "gridwidth": 2,
            "linecolor": "white",
            "showbackground": true,
            "ticks": "",
            "zerolinecolor": "white"
           }
          },
          "shapedefaults": {
           "line": {
            "color": "#2a3f5f"
           }
          },
          "ternary": {
           "aaxis": {
            "gridcolor": "white",
            "linecolor": "white",
            "ticks": ""
           },
           "baxis": {
            "gridcolor": "white",
            "linecolor": "white",
            "ticks": ""
           },
           "bgcolor": "#E5ECF6",
           "caxis": {
            "gridcolor": "white",
            "linecolor": "white",
            "ticks": ""
           }
          },
          "title": {
           "x": 0.05
          },
          "xaxis": {
           "automargin": true,
           "gridcolor": "white",
           "linecolor": "white",
           "ticks": "",
           "title": {
            "standoff": 15
           },
           "zerolinecolor": "white",
           "zerolinewidth": 2
          },
          "yaxis": {
           "automargin": true,
           "gridcolor": "white",
           "linecolor": "white",
           "ticks": "",
           "title": {
            "standoff": 15
           },
           "zerolinecolor": "white",
           "zerolinewidth": 2
          }
         }
        },
        "title": {
         "text": "validation_accuracy vs test_accuracy"
        },
        "xaxis": {
         "title": {
          "text": "validation_accuracy"
         }
        },
        "yaxis": {
         "title": {
          "text": "test_accuracy"
         }
        }
       }
      },
      "text/html": [
       "<div>                            <div id=\"e6e81344-736e-4569-93e6-9a204561bc1c\" class=\"plotly-graph-div\" style=\"height:525px; width:100%;\"></div>            <script type=\"text/javascript\">                require([\"plotly\"], function(Plotly) {                    window.PLOTLYENV=window.PLOTLYENV || {};                                    if (document.getElementById(\"e6e81344-736e-4569-93e6-9a204561bc1c\")) {                    Plotly.newPlot(                        \"e6e81344-736e-4569-93e6-9a204561bc1c\",                        [{\"mode\": \"markers\", \"name\": \"all experiments\", \"type\": \"scatter\", \"x\": [0.26437898169579377, 0.1392998029036163, 0.20901120068218934, 0.2672739068274302, 0.16307826288535615, 0.43530591477787334, 0.44357759508517774, 0.3871798833225532, 0.46309654166193814, 0.5952470900687068, 0.5908630033350294, 0.7309380797625914, 0.7829024889352322, 0.6939280819627526, 0.7769514479407205, 0.45286977284745117, 0.500507517629903, 0.6999745606287993, 0.7653333763499254, 0.5416096554062103, 0.6601760467306448, 0.6607665179566691, 0.6578336004940939, 0.7858307275840313, 0.5360170298504554, 1.0, 1.0, 1.0, 1.0, 1.0, 0.40753349293378344, 0.27914680472603803, 0.3525438467061241, 0.35684320080393656, 0.26821556074236624, 0.703711423209574, 0.4802218679872151, 0.7297568082638686, 0.6682506836351048, 0.3723493488012269, 0.6947290123140064, 0.9055947460260949, 1.0, 0.9306083986740118, 0.9699598947588522, 0.4729764694502593, 0.5143888710959071, 0.4871337645315138, 0.5960275729484116, 0.42255630753557644, 0.9669398592555746, 0.8087455740856595, 0.8565821600423733, 0.9424369441872313, 0.7984915074076592, 1.0, 1.0, 1.0, 1.0, 1.0, 1.0, 1.0, 1.0, 1.0, 1.0, 1.0, 1.0, 1.0, 1.0, 1.0, 1.0, 1.0, 1.0, 1.0, 1.0, 1.0, 1.0, 0.9915982344641578, 1.0, 1.0, 1.0, 1.0, 1.0, 1.0, 1.0, 1.0, 1.0, 1.0, 1.0, 1.0], \"y\": [0.35304522694943397, 0.3470026800613887, 0.2726260510125984, 0.2830582715019198, 0.40808294024029795, 0.5629307593930236, 0.5881674638899256, 0.4861892305131268, 0.37285016748809985, 0.4524649573376984, 0.9382762506102105, 0.9784429969540857, 0.8303805721999866, 0.9545875888418626, 0.758288852810324, 0.48066476408159103, 0.3170219425294045, 0.4385607256735673, 0.3113634738469055, 0.35394806290013764, 0.6437296838851856, 0.6464441403544193, 0.7210669023346997, 0.7762018425593518, 0.56273105405402, 0.7766984714121086, 0.9339351947330581, 1.0, 1.0, 1.0, 0.4540270586341919, 0.25304431718360393, 0.31540989899289723, 0.30561581270463056, 0.34367685171589435, 0.600001690524809, 0.4697148344364077, 0.6531497119629971, 0.34360156364283156, 0.5614181118456143, 0.8101662299230422, 0.9222506819950943, 0.7296051348996728, 0.669359963200913, 0.8163715107134591, 0.8558039995376592, 0.6971675203322029, 0.8046435677480491, 0.7726460539922709, 0.7280725316243567, 1.0, 0.9595807171145965, 0.7767473874212727, 0.880276140571187, 0.7632499444830612, 1.0, 1.0, 1.0, 1.0, 1.0, 1.0, 1.0, 1.0, 1.0, 1.0, 1.0, 1.0, 1.0, 1.0, 1.0, 1.0, 1.0, 1.0, 1.0, 1.0, 1.0, 0.943425742636402, 0.9357029914189887, 0.9191055728594711, 0.7456047883972357, 1.0, 1.0, 1.0, 1.0, 1.0, 1.0, 1.0, 1.0, 1.0, 1.0]}, {\"mode\": \"lines\", \"name\": \"linear\", \"type\": \"scatter\", \"x\": [0.1392998029036163, 0.14799374428842826, 0.1566876856732402, 0.16538162705805215, 0.17407556844286412, 0.1827695098276761, 0.19146345121248803, 0.20015739259729998, 0.20885133398211195, 0.21754527536692392, 0.22623921675173586, 0.2349331581365478, 0.24362709952135977, 0.25232104090617175, 0.2610149822909837, 0.2697089236757957, 0.27840286506060763, 0.2870968064454196, 0.2957907478302315, 0.30448468921504346, 0.3131786305998554, 0.32187257198466734, 0.33056651336947934, 0.33926045475429134, 0.3479543961391033, 0.3566483375239152, 0.36534227890872717, 0.3740362202935391, 0.38273016167835106, 0.391424103063163, 0.40011804444797505, 0.408811985832787, 0.41750592721759894, 0.4261998686024109, 0.4348938099872228, 0.44358775137203477, 0.4522816927568467, 0.46097563414165865, 0.4696695755264707, 0.47836351691128265, 0.4870574582960946, 0.49575139968090653, 0.5044453410657185, 0.5131392824505304, 0.5218332238353424, 0.5305271652201543, 0.5392211066049664, 0.5479150479897783, 0.5566089893745902, 0.5653029307594022, 0.5739968721442141, 0.5826908135290261, 0.591384754913838, 0.60007869629865, 0.608772637683462, 0.617466579068274, 0.6261605204530859, 0.6348544618378978, 0.6435484032227098, 0.6522423446075217, 0.6609362859923338, 0.6696302273771457, 0.6783241687619577, 0.6870181101467696, 0.6957120515315816, 0.7044059929163935, 0.7130999343012054, 0.7217938756860174, 0.7304878170708293, 0.7391817584556414, 0.7478756998404533, 0.7565696412252653, 0.7652635826100772, 0.7739575239948892, 0.7826514653797011, 0.791345406764513, 0.8000393481493251, 0.808733289534137, 0.817427230918949, 0.8261211723037609, 0.8348151136885729, 0.8435090550733848, 0.8522029964581967, 0.8608969378430087, 0.8695908792278206, 0.8782848206126327, 0.8869787619974446, 0.8956727033822566, 0.9043666447670685, 0.9130605861518805, 0.9217545275366924, 0.9304484689215043, 0.9391424103063164, 0.9478363516911283, 0.9565302930759403, 0.9652242344607522, 0.9739181758455642, 0.9826121172303761, 0.9913060586151881, 1.0], \"y\": [0.25304431718360393, 0.26058932408073926, 0.26813433097787454, 0.27567933787500987, 0.2832243447721452, 0.29076935166928053, 0.2983143585664158, 0.30585936546355114, 0.31340437236068647, 0.32094937925782174, 0.3284943861549571, 0.3360393930520924, 0.34358439994922774, 0.351129406846363, 0.35867441374349834, 0.3662194206406336, 0.37376442753776895, 0.3813094344349043, 0.3888544413320396, 0.39639944822917494, 0.4039444551263102, 0.41148946202344555, 0.4190344689205808, 0.42657947581771616, 0.4341244827148515, 0.4416694896119868, 0.44921449650912215, 0.4567595034062574, 0.4643045103033927, 0.47184951720052803, 0.47939452409766337, 0.4869395309947987, 0.49448453789193403, 0.5020295447890692, 0.5095745516862047, 0.5171195585833399, 0.5246645654804752, 0.5322095723776106, 0.5397545792747459, 0.5472995861718812, 0.5548445930690165, 0.5623895999661519, 0.5699346068632871, 0.5774796137604224, 0.5850246206575578, 0.5925696275546931, 0.6001146344518284, 0.6076596413489637, 0.6152046482460991, 0.6227496551432343, 0.6302946620403697, 0.637839668937505, 0.6453846758346403, 0.6529296827317757, 0.6604746896289109, 0.6680196965260463, 0.6755647034231815, 0.6831097103203169, 0.6906547172174522, 0.6981997241145874, 0.7057447310117229, 0.7132897379088581, 0.7208347448059935, 0.7283797517031287, 0.7359247586002641, 0.7434697654973994, 0.7510147723945346, 0.7585597792916701, 0.7661047861888053, 0.7736497930859407, 0.781194799983076, 0.7887398068802112, 0.7962848137773466, 0.8038298206744818, 0.8113748275716173, 0.8189198344687525, 0.8264648413658879, 0.8340098482630232, 0.8415548551601584, 0.8490998620572938, 0.856644868954429, 0.8641898758515645, 0.8717348827486997, 0.8792798896458351, 0.8868248965429704, 0.8943699034401056, 0.901914910337241, 0.9094599172343762, 0.9170049241315117, 0.9245499310286469, 0.9320949379257824, 0.9396399448229176, 0.9471849517200528, 0.9547299586171882, 0.9622749655143235, 0.9698199724114589, 0.9773649793085941, 0.9849099862057296, 0.9924549931028648, 1.0]}],                        {\"template\": {\"data\": {\"bar\": [{\"error_x\": {\"color\": \"#2a3f5f\"}, \"error_y\": {\"color\": \"#2a3f5f\"}, \"marker\": {\"line\": {\"color\": \"#E5ECF6\", \"width\": 0.5}}, \"type\": \"bar\"}], \"barpolar\": [{\"marker\": {\"line\": {\"color\": \"#E5ECF6\", \"width\": 0.5}}, \"type\": \"barpolar\"}], \"carpet\": [{\"aaxis\": {\"endlinecolor\": \"#2a3f5f\", \"gridcolor\": \"white\", \"linecolor\": \"white\", \"minorgridcolor\": \"white\", \"startlinecolor\": \"#2a3f5f\"}, \"baxis\": {\"endlinecolor\": \"#2a3f5f\", \"gridcolor\": \"white\", \"linecolor\": \"white\", \"minorgridcolor\": \"white\", \"startlinecolor\": \"#2a3f5f\"}, \"type\": \"carpet\"}], \"choropleth\": [{\"colorbar\": {\"outlinewidth\": 0, \"ticks\": \"\"}, \"type\": \"choropleth\"}], \"contour\": [{\"colorbar\": {\"outlinewidth\": 0, \"ticks\": \"\"}, \"colorscale\": [[0.0, \"#0d0887\"], [0.1111111111111111, \"#46039f\"], [0.2222222222222222, \"#7201a8\"], [0.3333333333333333, \"#9c179e\"], [0.4444444444444444, \"#bd3786\"], [0.5555555555555556, \"#d8576b\"], [0.6666666666666666, \"#ed7953\"], [0.7777777777777778, \"#fb9f3a\"], [0.8888888888888888, \"#fdca26\"], [1.0, \"#f0f921\"]], \"type\": \"contour\"}], \"contourcarpet\": [{\"colorbar\": {\"outlinewidth\": 0, \"ticks\": \"\"}, \"type\": \"contourcarpet\"}], \"heatmap\": [{\"colorbar\": {\"outlinewidth\": 0, \"ticks\": \"\"}, \"colorscale\": [[0.0, \"#0d0887\"], [0.1111111111111111, \"#46039f\"], [0.2222222222222222, \"#7201a8\"], [0.3333333333333333, \"#9c179e\"], [0.4444444444444444, \"#bd3786\"], [0.5555555555555556, \"#d8576b\"], [0.6666666666666666, \"#ed7953\"], [0.7777777777777778, \"#fb9f3a\"], [0.8888888888888888, \"#fdca26\"], [1.0, \"#f0f921\"]], \"type\": \"heatmap\"}], \"heatmapgl\": [{\"colorbar\": {\"outlinewidth\": 0, \"ticks\": \"\"}, \"colorscale\": [[0.0, \"#0d0887\"], [0.1111111111111111, \"#46039f\"], [0.2222222222222222, \"#7201a8\"], [0.3333333333333333, \"#9c179e\"], [0.4444444444444444, \"#bd3786\"], [0.5555555555555556, \"#d8576b\"], [0.6666666666666666, \"#ed7953\"], [0.7777777777777778, \"#fb9f3a\"], [0.8888888888888888, \"#fdca26\"], [1.0, \"#f0f921\"]], \"type\": \"heatmapgl\"}], \"histogram\": [{\"marker\": {\"colorbar\": {\"outlinewidth\": 0, \"ticks\": \"\"}}, \"type\": \"histogram\"}], \"histogram2d\": [{\"colorbar\": {\"outlinewidth\": 0, \"ticks\": \"\"}, \"colorscale\": [[0.0, \"#0d0887\"], [0.1111111111111111, \"#46039f\"], [0.2222222222222222, \"#7201a8\"], [0.3333333333333333, \"#9c179e\"], [0.4444444444444444, \"#bd3786\"], [0.5555555555555556, \"#d8576b\"], [0.6666666666666666, \"#ed7953\"], [0.7777777777777778, \"#fb9f3a\"], [0.8888888888888888, \"#fdca26\"], [1.0, \"#f0f921\"]], \"type\": \"histogram2d\"}], \"histogram2dcontour\": [{\"colorbar\": {\"outlinewidth\": 0, \"ticks\": \"\"}, \"colorscale\": [[0.0, \"#0d0887\"], [0.1111111111111111, \"#46039f\"], [0.2222222222222222, \"#7201a8\"], [0.3333333333333333, \"#9c179e\"], [0.4444444444444444, \"#bd3786\"], [0.5555555555555556, \"#d8576b\"], [0.6666666666666666, \"#ed7953\"], [0.7777777777777778, \"#fb9f3a\"], [0.8888888888888888, \"#fdca26\"], [1.0, \"#f0f921\"]], \"type\": \"histogram2dcontour\"}], \"mesh3d\": [{\"colorbar\": {\"outlinewidth\": 0, \"ticks\": \"\"}, \"type\": \"mesh3d\"}], \"parcoords\": [{\"line\": {\"colorbar\": {\"outlinewidth\": 0, \"ticks\": \"\"}}, \"type\": \"parcoords\"}], \"pie\": [{\"automargin\": true, \"type\": \"pie\"}], \"scatter\": [{\"marker\": {\"colorbar\": {\"outlinewidth\": 0, \"ticks\": \"\"}}, \"type\": \"scatter\"}], \"scatter3d\": [{\"line\": {\"colorbar\": {\"outlinewidth\": 0, \"ticks\": \"\"}}, \"marker\": {\"colorbar\": {\"outlinewidth\": 0, \"ticks\": \"\"}}, \"type\": \"scatter3d\"}], \"scattercarpet\": [{\"marker\": {\"colorbar\": {\"outlinewidth\": 0, \"ticks\": \"\"}}, \"type\": \"scattercarpet\"}], \"scattergeo\": [{\"marker\": {\"colorbar\": {\"outlinewidth\": 0, \"ticks\": \"\"}}, \"type\": \"scattergeo\"}], \"scattergl\": [{\"marker\": {\"colorbar\": {\"outlinewidth\": 0, \"ticks\": \"\"}}, \"type\": \"scattergl\"}], \"scattermapbox\": [{\"marker\": {\"colorbar\": {\"outlinewidth\": 0, \"ticks\": \"\"}}, \"type\": \"scattermapbox\"}], \"scatterpolar\": [{\"marker\": {\"colorbar\": {\"outlinewidth\": 0, \"ticks\": \"\"}}, \"type\": \"scatterpolar\"}], \"scatterpolargl\": [{\"marker\": {\"colorbar\": {\"outlinewidth\": 0, \"ticks\": \"\"}}, \"type\": \"scatterpolargl\"}], \"scatterternary\": [{\"marker\": {\"colorbar\": {\"outlinewidth\": 0, \"ticks\": \"\"}}, \"type\": \"scatterternary\"}], \"surface\": [{\"colorbar\": {\"outlinewidth\": 0, \"ticks\": \"\"}, \"colorscale\": [[0.0, \"#0d0887\"], [0.1111111111111111, \"#46039f\"], [0.2222222222222222, \"#7201a8\"], [0.3333333333333333, \"#9c179e\"], [0.4444444444444444, \"#bd3786\"], [0.5555555555555556, \"#d8576b\"], [0.6666666666666666, \"#ed7953\"], [0.7777777777777778, \"#fb9f3a\"], [0.8888888888888888, \"#fdca26\"], [1.0, \"#f0f921\"]], \"type\": \"surface\"}], \"table\": [{\"cells\": {\"fill\": {\"color\": \"#EBF0F8\"}, \"line\": {\"color\": \"white\"}}, \"header\": {\"fill\": {\"color\": \"#C8D4E3\"}, \"line\": {\"color\": \"white\"}}, \"type\": \"table\"}]}, \"layout\": {\"annotationdefaults\": {\"arrowcolor\": \"#2a3f5f\", \"arrowhead\": 0, \"arrowwidth\": 1}, \"autotypenumbers\": \"strict\", \"coloraxis\": {\"colorbar\": {\"outlinewidth\": 0, \"ticks\": \"\"}}, \"colorscale\": {\"diverging\": [[0, \"#8e0152\"], [0.1, \"#c51b7d\"], [0.2, \"#de77ae\"], [0.3, \"#f1b6da\"], [0.4, \"#fde0ef\"], [0.5, \"#f7f7f7\"], [0.6, \"#e6f5d0\"], [0.7, \"#b8e186\"], [0.8, \"#7fbc41\"], [0.9, \"#4d9221\"], [1, \"#276419\"]], \"sequential\": [[0.0, \"#0d0887\"], [0.1111111111111111, \"#46039f\"], [0.2222222222222222, \"#7201a8\"], [0.3333333333333333, \"#9c179e\"], [0.4444444444444444, \"#bd3786\"], [0.5555555555555556, \"#d8576b\"], [0.6666666666666666, \"#ed7953\"], [0.7777777777777778, \"#fb9f3a\"], [0.8888888888888888, \"#fdca26\"], [1.0, \"#f0f921\"]], \"sequentialminus\": [[0.0, \"#0d0887\"], [0.1111111111111111, \"#46039f\"], [0.2222222222222222, \"#7201a8\"], [0.3333333333333333, \"#9c179e\"], [0.4444444444444444, \"#bd3786\"], [0.5555555555555556, \"#d8576b\"], [0.6666666666666666, \"#ed7953\"], [0.7777777777777778, \"#fb9f3a\"], [0.8888888888888888, \"#fdca26\"], [1.0, \"#f0f921\"]]}, \"colorway\": [\"#636efa\", \"#EF553B\", \"#00cc96\", \"#ab63fa\", \"#FFA15A\", \"#19d3f3\", \"#FF6692\", \"#B6E880\", \"#FF97FF\", \"#FECB52\"], \"font\": {\"color\": \"#2a3f5f\"}, \"geo\": {\"bgcolor\": \"white\", \"lakecolor\": \"white\", \"landcolor\": \"#E5ECF6\", \"showlakes\": true, \"showland\": true, \"subunitcolor\": \"white\"}, \"hoverlabel\": {\"align\": \"left\"}, \"hovermode\": \"closest\", \"mapbox\": {\"style\": \"light\"}, \"paper_bgcolor\": \"white\", \"plot_bgcolor\": \"#E5ECF6\", \"polar\": {\"angularaxis\": {\"gridcolor\": \"white\", \"linecolor\": \"white\", \"ticks\": \"\"}, \"bgcolor\": \"#E5ECF6\", \"radialaxis\": {\"gridcolor\": \"white\", \"linecolor\": \"white\", \"ticks\": \"\"}}, \"scene\": {\"xaxis\": {\"backgroundcolor\": \"#E5ECF6\", \"gridcolor\": \"white\", \"gridwidth\": 2, \"linecolor\": \"white\", \"showbackground\": true, \"ticks\": \"\", \"zerolinecolor\": \"white\"}, \"yaxis\": {\"backgroundcolor\": \"#E5ECF6\", \"gridcolor\": \"white\", \"gridwidth\": 2, \"linecolor\": \"white\", \"showbackground\": true, \"ticks\": \"\", \"zerolinecolor\": \"white\"}, \"zaxis\": {\"backgroundcolor\": \"#E5ECF6\", \"gridcolor\": \"white\", \"gridwidth\": 2, \"linecolor\": \"white\", \"showbackground\": true, \"ticks\": \"\", \"zerolinecolor\": \"white\"}}, \"shapedefaults\": {\"line\": {\"color\": \"#2a3f5f\"}}, \"ternary\": {\"aaxis\": {\"gridcolor\": \"white\", \"linecolor\": \"white\", \"ticks\": \"\"}, \"baxis\": {\"gridcolor\": \"white\", \"linecolor\": \"white\", \"ticks\": \"\"}, \"bgcolor\": \"#E5ECF6\", \"caxis\": {\"gridcolor\": \"white\", \"linecolor\": \"white\", \"ticks\": \"\"}}, \"title\": {\"x\": 0.05}, \"xaxis\": {\"automargin\": true, \"gridcolor\": \"white\", \"linecolor\": \"white\", \"ticks\": \"\", \"title\": {\"standoff\": 15}, \"zerolinecolor\": \"white\", \"zerolinewidth\": 2}, \"yaxis\": {\"automargin\": true, \"gridcolor\": \"white\", \"linecolor\": \"white\", \"ticks\": \"\", \"title\": {\"standoff\": 15}, \"zerolinecolor\": \"white\", \"zerolinewidth\": 2}}}, \"title\": {\"text\": \"validation_accuracy vs test_accuracy\"}, \"xaxis\": {\"title\": {\"text\": \"validation_accuracy\"}}, \"yaxis\": {\"title\": {\"text\": \"test_accuracy\"}}},                        {\"responsive\": true}                    ).then(function(){\n",
       "                            \n",
       "var gd = document.getElementById('e6e81344-736e-4569-93e6-9a204561bc1c');\n",
       "var x = new MutationObserver(function (mutations, observer) {{\n",
       "        var display = window.getComputedStyle(gd).display;\n",
       "        if (!display || display === 'none') {{\n",
       "            console.log([gd, 'removed!']);\n",
       "            Plotly.purge(gd);\n",
       "            observer.disconnect();\n",
       "        }}\n",
       "}});\n",
       "\n",
       "// Listen for the removal of the full notebook cells\n",
       "var notebookContainer = gd.closest('#notebook-container');\n",
       "if (notebookContainer) {{\n",
       "    x.observe(notebookContainer, {childList: true});\n",
       "}}\n",
       "\n",
       "// Listen for the clearing of the current output cell\n",
       "var outputEl = gd.closest('.output');\n",
       "if (outputEl) {{\n",
       "    x.observe(outputEl, {childList: true});\n",
       "}}\n",
       "\n",
       "                        })                };                });            </script>        </div>"
      ]
     },
     "metadata": {},
     "output_type": "display_data"
    }
   ],
   "source": [
    "plot_metric_relationship (metric_1, metric_2, backend='plotly')"
   ]
  },
  {
   "cell_type": "markdown",
   "metadata": {},
   "source": [
    "#### 3. Highlight selected experiments"
   ]
  },
  {
   "cell_type": "code",
   "execution_count": null,
   "metadata": {},
   "outputs": [
    {
     "data": {
      "text/html": [
       "        <script type=\"text/javascript\">\n",
       "        window.PlotlyConfig = {MathJaxConfig: 'local'};\n",
       "        if (window.MathJax) {MathJax.Hub.Config({SVG: {font: \"STIX-Web\"}});}\n",
       "        if (typeof require !== 'undefined') {\n",
       "        require.undef(\"plotly\");\n",
       "        requirejs.config({\n",
       "            paths: {\n",
       "                'plotly': ['https://cdn.plot.ly/plotly-latest.min']\n",
       "            }\n",
       "        });\n",
       "        require(['plotly'], function(Plotly) {\n",
       "            window._Plotly = Plotly;\n",
       "        });\n",
       "        }\n",
       "        </script>\n",
       "        "
      ]
     },
     "metadata": {},
     "output_type": "display_data"
    },
    {
     "data": {
      "application/vnd.plotly.v1+json": {
       "config": {
        "linkText": "Export to plot.ly",
        "plotlyServerURL": "https://plot.ly",
        "showLink": false
       },
       "data": [
        {
         "mode": "markers",
         "name": "all experiments",
         "type": "scatter",
         "x": [
          0.26437898169579377,
          0.1392998029036163,
          0.20901120068218934,
          0.2672739068274302,
          0.16307826288535615,
          0.43530591477787334,
          0.44357759508517774,
          0.3871798833225532,
          0.46309654166193814,
          0.5952470900687068,
          0.5908630033350294,
          0.7309380797625914,
          0.7829024889352322,
          0.6939280819627526,
          0.7769514479407205,
          0.45286977284745117,
          0.500507517629903,
          0.6999745606287993,
          0.7653333763499254,
          0.5416096554062103,
          0.6601760467306448,
          0.6607665179566691,
          0.6578336004940939,
          0.7858307275840313,
          0.5360170298504554,
          1,
          1,
          1,
          1,
          1,
          0.40753349293378344,
          0.27914680472603803,
          0.3525438467061241,
          0.35684320080393656,
          0.26821556074236624,
          0.703711423209574,
          0.4802218679872151,
          0.7297568082638686,
          0.6682506836351048,
          0.3723493488012269,
          0.6947290123140064,
          0.9055947460260949,
          1,
          0.9306083986740118,
          0.9699598947588522,
          0.4729764694502593,
          0.5143888710959071,
          0.4871337645315138,
          0.5960275729484116,
          0.42255630753557644,
          0.9669398592555746,
          0.8087455740856595,
          0.8565821600423733,
          0.9424369441872313,
          0.7984915074076592,
          1,
          1,
          1,
          1,
          1,
          1,
          1,
          1,
          1,
          1,
          1,
          1,
          1,
          1,
          1,
          1,
          1,
          1,
          1,
          1,
          1,
          1,
          0.9915982344641578,
          1,
          1,
          1,
          1,
          1,
          1,
          1,
          1,
          1,
          1,
          1,
          1
         ],
         "y": [
          0.35304522694943397,
          0.3470026800613887,
          0.2726260510125984,
          0.2830582715019198,
          0.40808294024029795,
          0.5629307593930236,
          0.5881674638899256,
          0.4861892305131268,
          0.37285016748809985,
          0.4524649573376984,
          0.9382762506102105,
          0.9784429969540857,
          0.8303805721999866,
          0.9545875888418626,
          0.758288852810324,
          0.48066476408159103,
          0.3170219425294045,
          0.4385607256735673,
          0.3113634738469055,
          0.35394806290013764,
          0.6437296838851856,
          0.6464441403544193,
          0.7210669023346997,
          0.7762018425593518,
          0.56273105405402,
          0.7766984714121086,
          0.9339351947330581,
          1,
          1,
          1,
          0.4540270586341919,
          0.25304431718360393,
          0.31540989899289723,
          0.30561581270463056,
          0.34367685171589435,
          0.600001690524809,
          0.4697148344364077,
          0.6531497119629971,
          0.34360156364283156,
          0.5614181118456143,
          0.8101662299230422,
          0.9222506819950943,
          0.7296051348996728,
          0.669359963200913,
          0.8163715107134591,
          0.8558039995376592,
          0.6971675203322029,
          0.8046435677480491,
          0.7726460539922709,
          0.7280725316243567,
          1,
          0.9595807171145965,
          0.7767473874212727,
          0.880276140571187,
          0.7632499444830612,
          1,
          1,
          1,
          1,
          1,
          1,
          1,
          1,
          1,
          1,
          1,
          1,
          1,
          1,
          1,
          1,
          1,
          1,
          1,
          1,
          1,
          0.943425742636402,
          0.9357029914189887,
          0.9191055728594711,
          0.7456047883972357,
          1,
          1,
          1,
          1,
          1,
          1,
          1,
          1,
          1,
          1
         ]
        },
        {
         "mode": "markers",
         "name": "selected subset",
         "type": "scatter",
         "x": [
          1,
          1,
          1,
          1,
          1,
          0.5908630033350294,
          0.7309380797625914,
          0.7829024889352322,
          0.6939280819627526,
          0.7769514479407205
         ],
         "y": [
          0.7766984714121086,
          0.9339351947330581,
          1,
          1,
          1,
          0.9382762506102105,
          0.9784429969540857,
          0.8303805721999866,
          0.9545875888418626,
          0.758288852810324
         ]
        },
        {
         "mode": "lines",
         "name": "linear",
         "type": "scatter",
         "x": [
          0.1392998029036163,
          0.14799374428842826,
          0.1566876856732402,
          0.16538162705805215,
          0.17407556844286412,
          0.1827695098276761,
          0.19146345121248803,
          0.20015739259729998,
          0.20885133398211195,
          0.21754527536692392,
          0.22623921675173586,
          0.2349331581365478,
          0.24362709952135977,
          0.25232104090617175,
          0.2610149822909837,
          0.2697089236757957,
          0.27840286506060763,
          0.2870968064454196,
          0.2957907478302315,
          0.30448468921504346,
          0.3131786305998554,
          0.32187257198466734,
          0.33056651336947934,
          0.33926045475429134,
          0.3479543961391033,
          0.3566483375239152,
          0.36534227890872717,
          0.3740362202935391,
          0.38273016167835106,
          0.391424103063163,
          0.40011804444797505,
          0.408811985832787,
          0.41750592721759894,
          0.4261998686024109,
          0.4348938099872228,
          0.44358775137203477,
          0.4522816927568467,
          0.46097563414165865,
          0.4696695755264707,
          0.47836351691128265,
          0.4870574582960946,
          0.49575139968090653,
          0.5044453410657185,
          0.5131392824505304,
          0.5218332238353424,
          0.5305271652201543,
          0.5392211066049664,
          0.5479150479897783,
          0.5566089893745902,
          0.5653029307594022,
          0.5739968721442141,
          0.5826908135290261,
          0.591384754913838,
          0.60007869629865,
          0.608772637683462,
          0.617466579068274,
          0.6261605204530859,
          0.6348544618378978,
          0.6435484032227098,
          0.6522423446075217,
          0.6609362859923338,
          0.6696302273771457,
          0.6783241687619577,
          0.6870181101467696,
          0.6957120515315816,
          0.7044059929163935,
          0.7130999343012054,
          0.7217938756860174,
          0.7304878170708293,
          0.7391817584556414,
          0.7478756998404533,
          0.7565696412252653,
          0.7652635826100772,
          0.7739575239948892,
          0.7826514653797011,
          0.791345406764513,
          0.8000393481493251,
          0.808733289534137,
          0.817427230918949,
          0.8261211723037609,
          0.8348151136885729,
          0.8435090550733848,
          0.8522029964581967,
          0.8608969378430087,
          0.8695908792278206,
          0.8782848206126327,
          0.8869787619974446,
          0.8956727033822566,
          0.9043666447670685,
          0.9130605861518805,
          0.9217545275366924,
          0.9304484689215043,
          0.9391424103063164,
          0.9478363516911283,
          0.9565302930759403,
          0.9652242344607522,
          0.9739181758455642,
          0.9826121172303761,
          0.9913060586151881,
          1
         ],
         "y": [
          0.25304431718360393,
          0.26058932408073926,
          0.26813433097787454,
          0.27567933787500987,
          0.2832243447721452,
          0.29076935166928053,
          0.2983143585664158,
          0.30585936546355114,
          0.31340437236068647,
          0.32094937925782174,
          0.3284943861549571,
          0.3360393930520924,
          0.34358439994922774,
          0.351129406846363,
          0.35867441374349834,
          0.3662194206406336,
          0.37376442753776895,
          0.3813094344349043,
          0.3888544413320396,
          0.39639944822917494,
          0.4039444551263102,
          0.41148946202344555,
          0.4190344689205808,
          0.42657947581771616,
          0.4341244827148515,
          0.4416694896119868,
          0.44921449650912215,
          0.4567595034062574,
          0.4643045103033927,
          0.47184951720052803,
          0.47939452409766337,
          0.4869395309947987,
          0.49448453789193403,
          0.5020295447890692,
          0.5095745516862047,
          0.5171195585833399,
          0.5246645654804752,
          0.5322095723776106,
          0.5397545792747459,
          0.5472995861718812,
          0.5548445930690165,
          0.5623895999661519,
          0.5699346068632871,
          0.5774796137604224,
          0.5850246206575578,
          0.5925696275546931,
          0.6001146344518284,
          0.6076596413489637,
          0.6152046482460991,
          0.6227496551432343,
          0.6302946620403697,
          0.637839668937505,
          0.6453846758346403,
          0.6529296827317757,
          0.6604746896289109,
          0.6680196965260463,
          0.6755647034231815,
          0.6831097103203169,
          0.6906547172174522,
          0.6981997241145874,
          0.7057447310117229,
          0.7132897379088581,
          0.7208347448059935,
          0.7283797517031287,
          0.7359247586002641,
          0.7434697654973994,
          0.7510147723945346,
          0.7585597792916701,
          0.7661047861888053,
          0.7736497930859407,
          0.781194799983076,
          0.7887398068802112,
          0.7962848137773466,
          0.8038298206744818,
          0.8113748275716173,
          0.8189198344687525,
          0.8264648413658879,
          0.8340098482630232,
          0.8415548551601584,
          0.8490998620572938,
          0.856644868954429,
          0.8641898758515645,
          0.8717348827486997,
          0.8792798896458351,
          0.8868248965429704,
          0.8943699034401056,
          0.901914910337241,
          0.9094599172343762,
          0.9170049241315117,
          0.9245499310286469,
          0.9320949379257824,
          0.9396399448229176,
          0.9471849517200528,
          0.9547299586171882,
          0.9622749655143235,
          0.9698199724114589,
          0.9773649793085941,
          0.9849099862057296,
          0.9924549931028648,
          1
         ]
        }
       ],
       "layout": {
        "template": {
         "data": {
          "bar": [
           {
            "error_x": {
             "color": "#2a3f5f"
            },
            "error_y": {
             "color": "#2a3f5f"
            },
            "marker": {
             "line": {
              "color": "#E5ECF6",
              "width": 0.5
             }
            },
            "type": "bar"
           }
          ],
          "barpolar": [
           {
            "marker": {
             "line": {
              "color": "#E5ECF6",
              "width": 0.5
             }
            },
            "type": "barpolar"
           }
          ],
          "carpet": [
           {
            "aaxis": {
             "endlinecolor": "#2a3f5f",
             "gridcolor": "white",
             "linecolor": "white",
             "minorgridcolor": "white",
             "startlinecolor": "#2a3f5f"
            },
            "baxis": {
             "endlinecolor": "#2a3f5f",
             "gridcolor": "white",
             "linecolor": "white",
             "minorgridcolor": "white",
             "startlinecolor": "#2a3f5f"
            },
            "type": "carpet"
           }
          ],
          "choropleth": [
           {
            "colorbar": {
             "outlinewidth": 0,
             "ticks": ""
            },
            "type": "choropleth"
           }
          ],
          "contour": [
           {
            "colorbar": {
             "outlinewidth": 0,
             "ticks": ""
            },
            "colorscale": [
             [
              0,
              "#0d0887"
             ],
             [
              0.1111111111111111,
              "#46039f"
             ],
             [
              0.2222222222222222,
              "#7201a8"
             ],
             [
              0.3333333333333333,
              "#9c179e"
             ],
             [
              0.4444444444444444,
              "#bd3786"
             ],
             [
              0.5555555555555556,
              "#d8576b"
             ],
             [
              0.6666666666666666,
              "#ed7953"
             ],
             [
              0.7777777777777778,
              "#fb9f3a"
             ],
             [
              0.8888888888888888,
              "#fdca26"
             ],
             [
              1,
              "#f0f921"
             ]
            ],
            "type": "contour"
           }
          ],
          "contourcarpet": [
           {
            "colorbar": {
             "outlinewidth": 0,
             "ticks": ""
            },
            "type": "contourcarpet"
           }
          ],
          "heatmap": [
           {
            "colorbar": {
             "outlinewidth": 0,
             "ticks": ""
            },
            "colorscale": [
             [
              0,
              "#0d0887"
             ],
             [
              0.1111111111111111,
              "#46039f"
             ],
             [
              0.2222222222222222,
              "#7201a8"
             ],
             [
              0.3333333333333333,
              "#9c179e"
             ],
             [
              0.4444444444444444,
              "#bd3786"
             ],
             [
              0.5555555555555556,
              "#d8576b"
             ],
             [
              0.6666666666666666,
              "#ed7953"
             ],
             [
              0.7777777777777778,
              "#fb9f3a"
             ],
             [
              0.8888888888888888,
              "#fdca26"
             ],
             [
              1,
              "#f0f921"
             ]
            ],
            "type": "heatmap"
           }
          ],
          "heatmapgl": [
           {
            "colorbar": {
             "outlinewidth": 0,
             "ticks": ""
            },
            "colorscale": [
             [
              0,
              "#0d0887"
             ],
             [
              0.1111111111111111,
              "#46039f"
             ],
             [
              0.2222222222222222,
              "#7201a8"
             ],
             [
              0.3333333333333333,
              "#9c179e"
             ],
             [
              0.4444444444444444,
              "#bd3786"
             ],
             [
              0.5555555555555556,
              "#d8576b"
             ],
             [
              0.6666666666666666,
              "#ed7953"
             ],
             [
              0.7777777777777778,
              "#fb9f3a"
             ],
             [
              0.8888888888888888,
              "#fdca26"
             ],
             [
              1,
              "#f0f921"
             ]
            ],
            "type": "heatmapgl"
           }
          ],
          "histogram": [
           {
            "marker": {
             "colorbar": {
              "outlinewidth": 0,
              "ticks": ""
             }
            },
            "type": "histogram"
           }
          ],
          "histogram2d": [
           {
            "colorbar": {
             "outlinewidth": 0,
             "ticks": ""
            },
            "colorscale": [
             [
              0,
              "#0d0887"
             ],
             [
              0.1111111111111111,
              "#46039f"
             ],
             [
              0.2222222222222222,
              "#7201a8"
             ],
             [
              0.3333333333333333,
              "#9c179e"
             ],
             [
              0.4444444444444444,
              "#bd3786"
             ],
             [
              0.5555555555555556,
              "#d8576b"
             ],
             [
              0.6666666666666666,
              "#ed7953"
             ],
             [
              0.7777777777777778,
              "#fb9f3a"
             ],
             [
              0.8888888888888888,
              "#fdca26"
             ],
             [
              1,
              "#f0f921"
             ]
            ],
            "type": "histogram2d"
           }
          ],
          "histogram2dcontour": [
           {
            "colorbar": {
             "outlinewidth": 0,
             "ticks": ""
            },
            "colorscale": [
             [
              0,
              "#0d0887"
             ],
             [
              0.1111111111111111,
              "#46039f"
             ],
             [
              0.2222222222222222,
              "#7201a8"
             ],
             [
              0.3333333333333333,
              "#9c179e"
             ],
             [
              0.4444444444444444,
              "#bd3786"
             ],
             [
              0.5555555555555556,
              "#d8576b"
             ],
             [
              0.6666666666666666,
              "#ed7953"
             ],
             [
              0.7777777777777778,
              "#fb9f3a"
             ],
             [
              0.8888888888888888,
              "#fdca26"
             ],
             [
              1,
              "#f0f921"
             ]
            ],
            "type": "histogram2dcontour"
           }
          ],
          "mesh3d": [
           {
            "colorbar": {
             "outlinewidth": 0,
             "ticks": ""
            },
            "type": "mesh3d"
           }
          ],
          "parcoords": [
           {
            "line": {
             "colorbar": {
              "outlinewidth": 0,
              "ticks": ""
             }
            },
            "type": "parcoords"
           }
          ],
          "pie": [
           {
            "automargin": true,
            "type": "pie"
           }
          ],
          "scatter": [
           {
            "marker": {
             "colorbar": {
              "outlinewidth": 0,
              "ticks": ""
             }
            },
            "type": "scatter"
           }
          ],
          "scatter3d": [
           {
            "line": {
             "colorbar": {
              "outlinewidth": 0,
              "ticks": ""
             }
            },
            "marker": {
             "colorbar": {
              "outlinewidth": 0,
              "ticks": ""
             }
            },
            "type": "scatter3d"
           }
          ],
          "scattercarpet": [
           {
            "marker": {
             "colorbar": {
              "outlinewidth": 0,
              "ticks": ""
             }
            },
            "type": "scattercarpet"
           }
          ],
          "scattergeo": [
           {
            "marker": {
             "colorbar": {
              "outlinewidth": 0,
              "ticks": ""
             }
            },
            "type": "scattergeo"
           }
          ],
          "scattergl": [
           {
            "marker": {
             "colorbar": {
              "outlinewidth": 0,
              "ticks": ""
             }
            },
            "type": "scattergl"
           }
          ],
          "scattermapbox": [
           {
            "marker": {
             "colorbar": {
              "outlinewidth": 0,
              "ticks": ""
             }
            },
            "type": "scattermapbox"
           }
          ],
          "scatterpolar": [
           {
            "marker": {
             "colorbar": {
              "outlinewidth": 0,
              "ticks": ""
             }
            },
            "type": "scatterpolar"
           }
          ],
          "scatterpolargl": [
           {
            "marker": {
             "colorbar": {
              "outlinewidth": 0,
              "ticks": ""
             }
            },
            "type": "scatterpolargl"
           }
          ],
          "scatterternary": [
           {
            "marker": {
             "colorbar": {
              "outlinewidth": 0,
              "ticks": ""
             }
            },
            "type": "scatterternary"
           }
          ],
          "surface": [
           {
            "colorbar": {
             "outlinewidth": 0,
             "ticks": ""
            },
            "colorscale": [
             [
              0,
              "#0d0887"
             ],
             [
              0.1111111111111111,
              "#46039f"
             ],
             [
              0.2222222222222222,
              "#7201a8"
             ],
             [
              0.3333333333333333,
              "#9c179e"
             ],
             [
              0.4444444444444444,
              "#bd3786"
             ],
             [
              0.5555555555555556,
              "#d8576b"
             ],
             [
              0.6666666666666666,
              "#ed7953"
             ],
             [
              0.7777777777777778,
              "#fb9f3a"
             ],
             [
              0.8888888888888888,
              "#fdca26"
             ],
             [
              1,
              "#f0f921"
             ]
            ],
            "type": "surface"
           }
          ],
          "table": [
           {
            "cells": {
             "fill": {
              "color": "#EBF0F8"
             },
             "line": {
              "color": "white"
             }
            },
            "header": {
             "fill": {
              "color": "#C8D4E3"
             },
             "line": {
              "color": "white"
             }
            },
            "type": "table"
           }
          ]
         },
         "layout": {
          "annotationdefaults": {
           "arrowcolor": "#2a3f5f",
           "arrowhead": 0,
           "arrowwidth": 1
          },
          "autotypenumbers": "strict",
          "coloraxis": {
           "colorbar": {
            "outlinewidth": 0,
            "ticks": ""
           }
          },
          "colorscale": {
           "diverging": [
            [
             0,
             "#8e0152"
            ],
            [
             0.1,
             "#c51b7d"
            ],
            [
             0.2,
             "#de77ae"
            ],
            [
             0.3,
             "#f1b6da"
            ],
            [
             0.4,
             "#fde0ef"
            ],
            [
             0.5,
             "#f7f7f7"
            ],
            [
             0.6,
             "#e6f5d0"
            ],
            [
             0.7,
             "#b8e186"
            ],
            [
             0.8,
             "#7fbc41"
            ],
            [
             0.9,
             "#4d9221"
            ],
            [
             1,
             "#276419"
            ]
           ],
           "sequential": [
            [
             0,
             "#0d0887"
            ],
            [
             0.1111111111111111,
             "#46039f"
            ],
            [
             0.2222222222222222,
             "#7201a8"
            ],
            [
             0.3333333333333333,
             "#9c179e"
            ],
            [
             0.4444444444444444,
             "#bd3786"
            ],
            [
             0.5555555555555556,
             "#d8576b"
            ],
            [
             0.6666666666666666,
             "#ed7953"
            ],
            [
             0.7777777777777778,
             "#fb9f3a"
            ],
            [
             0.8888888888888888,
             "#fdca26"
            ],
            [
             1,
             "#f0f921"
            ]
           ],
           "sequentialminus": [
            [
             0,
             "#0d0887"
            ],
            [
             0.1111111111111111,
             "#46039f"
            ],
            [
             0.2222222222222222,
             "#7201a8"
            ],
            [
             0.3333333333333333,
             "#9c179e"
            ],
            [
             0.4444444444444444,
             "#bd3786"
            ],
            [
             0.5555555555555556,
             "#d8576b"
            ],
            [
             0.6666666666666666,
             "#ed7953"
            ],
            [
             0.7777777777777778,
             "#fb9f3a"
            ],
            [
             0.8888888888888888,
             "#fdca26"
            ],
            [
             1,
             "#f0f921"
            ]
           ]
          },
          "colorway": [
           "#636efa",
           "#EF553B",
           "#00cc96",
           "#ab63fa",
           "#FFA15A",
           "#19d3f3",
           "#FF6692",
           "#B6E880",
           "#FF97FF",
           "#FECB52"
          ],
          "font": {
           "color": "#2a3f5f"
          },
          "geo": {
           "bgcolor": "white",
           "lakecolor": "white",
           "landcolor": "#E5ECF6",
           "showlakes": true,
           "showland": true,
           "subunitcolor": "white"
          },
          "hoverlabel": {
           "align": "left"
          },
          "hovermode": "closest",
          "mapbox": {
           "style": "light"
          },
          "paper_bgcolor": "white",
          "plot_bgcolor": "#E5ECF6",
          "polar": {
           "angularaxis": {
            "gridcolor": "white",
            "linecolor": "white",
            "ticks": ""
           },
           "bgcolor": "#E5ECF6",
           "radialaxis": {
            "gridcolor": "white",
            "linecolor": "white",
            "ticks": ""
           }
          },
          "scene": {
           "xaxis": {
            "backgroundcolor": "#E5ECF6",
            "gridcolor": "white",
            "gridwidth": 2,
            "linecolor": "white",
            "showbackground": true,
            "ticks": "",
            "zerolinecolor": "white"
           },
           "yaxis": {
            "backgroundcolor": "#E5ECF6",
            "gridcolor": "white",
            "gridwidth": 2,
            "linecolor": "white",
            "showbackground": true,
            "ticks": "",
            "zerolinecolor": "white"
           },
           "zaxis": {
            "backgroundcolor": "#E5ECF6",
            "gridcolor": "white",
            "gridwidth": 2,
            "linecolor": "white",
            "showbackground": true,
            "ticks": "",
            "zerolinecolor": "white"
           }
          },
          "shapedefaults": {
           "line": {
            "color": "#2a3f5f"
           }
          },
          "ternary": {
           "aaxis": {
            "gridcolor": "white",
            "linecolor": "white",
            "ticks": ""
           },
           "baxis": {
            "gridcolor": "white",
            "linecolor": "white",
            "ticks": ""
           },
           "bgcolor": "#E5ECF6",
           "caxis": {
            "gridcolor": "white",
            "linecolor": "white",
            "ticks": ""
           }
          },
          "title": {
           "x": 0.05
          },
          "xaxis": {
           "automargin": true,
           "gridcolor": "white",
           "linecolor": "white",
           "ticks": "",
           "title": {
            "standoff": 15
           },
           "zerolinecolor": "white",
           "zerolinewidth": 2
          },
          "yaxis": {
           "automargin": true,
           "gridcolor": "white",
           "linecolor": "white",
           "ticks": "",
           "title": {
            "standoff": 15
           },
           "zerolinecolor": "white",
           "zerolinewidth": 2
          }
         }
        },
        "title": {
         "text": "validation_accuracy vs test_accuracy"
        },
        "xaxis": {
         "title": {
          "text": "validation_accuracy"
         }
        },
        "yaxis": {
         "title": {
          "text": "test_accuracy"
         }
        }
       }
      },
      "text/html": [
       "<div>                            <div id=\"19a895cd-01de-4237-9b94-7f327be29ca6\" class=\"plotly-graph-div\" style=\"height:525px; width:100%;\"></div>            <script type=\"text/javascript\">                require([\"plotly\"], function(Plotly) {                    window.PLOTLYENV=window.PLOTLYENV || {};                                    if (document.getElementById(\"19a895cd-01de-4237-9b94-7f327be29ca6\")) {                    Plotly.newPlot(                        \"19a895cd-01de-4237-9b94-7f327be29ca6\",                        [{\"mode\": \"markers\", \"name\": \"all experiments\", \"type\": \"scatter\", \"x\": [0.26437898169579377, 0.1392998029036163, 0.20901120068218934, 0.2672739068274302, 0.16307826288535615, 0.43530591477787334, 0.44357759508517774, 0.3871798833225532, 0.46309654166193814, 0.5952470900687068, 0.5908630033350294, 0.7309380797625914, 0.7829024889352322, 0.6939280819627526, 0.7769514479407205, 0.45286977284745117, 0.500507517629903, 0.6999745606287993, 0.7653333763499254, 0.5416096554062103, 0.6601760467306448, 0.6607665179566691, 0.6578336004940939, 0.7858307275840313, 0.5360170298504554, 1.0, 1.0, 1.0, 1.0, 1.0, 0.40753349293378344, 0.27914680472603803, 0.3525438467061241, 0.35684320080393656, 0.26821556074236624, 0.703711423209574, 0.4802218679872151, 0.7297568082638686, 0.6682506836351048, 0.3723493488012269, 0.6947290123140064, 0.9055947460260949, 1.0, 0.9306083986740118, 0.9699598947588522, 0.4729764694502593, 0.5143888710959071, 0.4871337645315138, 0.5960275729484116, 0.42255630753557644, 0.9669398592555746, 0.8087455740856595, 0.8565821600423733, 0.9424369441872313, 0.7984915074076592, 1.0, 1.0, 1.0, 1.0, 1.0, 1.0, 1.0, 1.0, 1.0, 1.0, 1.0, 1.0, 1.0, 1.0, 1.0, 1.0, 1.0, 1.0, 1.0, 1.0, 1.0, 1.0, 0.9915982344641578, 1.0, 1.0, 1.0, 1.0, 1.0, 1.0, 1.0, 1.0, 1.0, 1.0, 1.0, 1.0], \"y\": [0.35304522694943397, 0.3470026800613887, 0.2726260510125984, 0.2830582715019198, 0.40808294024029795, 0.5629307593930236, 0.5881674638899256, 0.4861892305131268, 0.37285016748809985, 0.4524649573376984, 0.9382762506102105, 0.9784429969540857, 0.8303805721999866, 0.9545875888418626, 0.758288852810324, 0.48066476408159103, 0.3170219425294045, 0.4385607256735673, 0.3113634738469055, 0.35394806290013764, 0.6437296838851856, 0.6464441403544193, 0.7210669023346997, 0.7762018425593518, 0.56273105405402, 0.7766984714121086, 0.9339351947330581, 1.0, 1.0, 1.0, 0.4540270586341919, 0.25304431718360393, 0.31540989899289723, 0.30561581270463056, 0.34367685171589435, 0.600001690524809, 0.4697148344364077, 0.6531497119629971, 0.34360156364283156, 0.5614181118456143, 0.8101662299230422, 0.9222506819950943, 0.7296051348996728, 0.669359963200913, 0.8163715107134591, 0.8558039995376592, 0.6971675203322029, 0.8046435677480491, 0.7726460539922709, 0.7280725316243567, 1.0, 0.9595807171145965, 0.7767473874212727, 0.880276140571187, 0.7632499444830612, 1.0, 1.0, 1.0, 1.0, 1.0, 1.0, 1.0, 1.0, 1.0, 1.0, 1.0, 1.0, 1.0, 1.0, 1.0, 1.0, 1.0, 1.0, 1.0, 1.0, 1.0, 0.943425742636402, 0.9357029914189887, 0.9191055728594711, 0.7456047883972357, 1.0, 1.0, 1.0, 1.0, 1.0, 1.0, 1.0, 1.0, 1.0, 1.0]}, {\"mode\": \"markers\", \"name\": \"selected subset\", \"type\": \"scatter\", \"x\": [1.0, 1.0, 1.0, 1.0, 1.0, 0.5908630033350294, 0.7309380797625914, 0.7829024889352322, 0.6939280819627526, 0.7769514479407205], \"y\": [0.7766984714121086, 0.9339351947330581, 1.0, 1.0, 1.0, 0.9382762506102105, 0.9784429969540857, 0.8303805721999866, 0.9545875888418626, 0.758288852810324]}, {\"mode\": \"lines\", \"name\": \"linear\", \"type\": \"scatter\", \"x\": [0.1392998029036163, 0.14799374428842826, 0.1566876856732402, 0.16538162705805215, 0.17407556844286412, 0.1827695098276761, 0.19146345121248803, 0.20015739259729998, 0.20885133398211195, 0.21754527536692392, 0.22623921675173586, 0.2349331581365478, 0.24362709952135977, 0.25232104090617175, 0.2610149822909837, 0.2697089236757957, 0.27840286506060763, 0.2870968064454196, 0.2957907478302315, 0.30448468921504346, 0.3131786305998554, 0.32187257198466734, 0.33056651336947934, 0.33926045475429134, 0.3479543961391033, 0.3566483375239152, 0.36534227890872717, 0.3740362202935391, 0.38273016167835106, 0.391424103063163, 0.40011804444797505, 0.408811985832787, 0.41750592721759894, 0.4261998686024109, 0.4348938099872228, 0.44358775137203477, 0.4522816927568467, 0.46097563414165865, 0.4696695755264707, 0.47836351691128265, 0.4870574582960946, 0.49575139968090653, 0.5044453410657185, 0.5131392824505304, 0.5218332238353424, 0.5305271652201543, 0.5392211066049664, 0.5479150479897783, 0.5566089893745902, 0.5653029307594022, 0.5739968721442141, 0.5826908135290261, 0.591384754913838, 0.60007869629865, 0.608772637683462, 0.617466579068274, 0.6261605204530859, 0.6348544618378978, 0.6435484032227098, 0.6522423446075217, 0.6609362859923338, 0.6696302273771457, 0.6783241687619577, 0.6870181101467696, 0.6957120515315816, 0.7044059929163935, 0.7130999343012054, 0.7217938756860174, 0.7304878170708293, 0.7391817584556414, 0.7478756998404533, 0.7565696412252653, 0.7652635826100772, 0.7739575239948892, 0.7826514653797011, 0.791345406764513, 0.8000393481493251, 0.808733289534137, 0.817427230918949, 0.8261211723037609, 0.8348151136885729, 0.8435090550733848, 0.8522029964581967, 0.8608969378430087, 0.8695908792278206, 0.8782848206126327, 0.8869787619974446, 0.8956727033822566, 0.9043666447670685, 0.9130605861518805, 0.9217545275366924, 0.9304484689215043, 0.9391424103063164, 0.9478363516911283, 0.9565302930759403, 0.9652242344607522, 0.9739181758455642, 0.9826121172303761, 0.9913060586151881, 1.0], \"y\": [0.25304431718360393, 0.26058932408073926, 0.26813433097787454, 0.27567933787500987, 0.2832243447721452, 0.29076935166928053, 0.2983143585664158, 0.30585936546355114, 0.31340437236068647, 0.32094937925782174, 0.3284943861549571, 0.3360393930520924, 0.34358439994922774, 0.351129406846363, 0.35867441374349834, 0.3662194206406336, 0.37376442753776895, 0.3813094344349043, 0.3888544413320396, 0.39639944822917494, 0.4039444551263102, 0.41148946202344555, 0.4190344689205808, 0.42657947581771616, 0.4341244827148515, 0.4416694896119868, 0.44921449650912215, 0.4567595034062574, 0.4643045103033927, 0.47184951720052803, 0.47939452409766337, 0.4869395309947987, 0.49448453789193403, 0.5020295447890692, 0.5095745516862047, 0.5171195585833399, 0.5246645654804752, 0.5322095723776106, 0.5397545792747459, 0.5472995861718812, 0.5548445930690165, 0.5623895999661519, 0.5699346068632871, 0.5774796137604224, 0.5850246206575578, 0.5925696275546931, 0.6001146344518284, 0.6076596413489637, 0.6152046482460991, 0.6227496551432343, 0.6302946620403697, 0.637839668937505, 0.6453846758346403, 0.6529296827317757, 0.6604746896289109, 0.6680196965260463, 0.6755647034231815, 0.6831097103203169, 0.6906547172174522, 0.6981997241145874, 0.7057447310117229, 0.7132897379088581, 0.7208347448059935, 0.7283797517031287, 0.7359247586002641, 0.7434697654973994, 0.7510147723945346, 0.7585597792916701, 0.7661047861888053, 0.7736497930859407, 0.781194799983076, 0.7887398068802112, 0.7962848137773466, 0.8038298206744818, 0.8113748275716173, 0.8189198344687525, 0.8264648413658879, 0.8340098482630232, 0.8415548551601584, 0.8490998620572938, 0.856644868954429, 0.8641898758515645, 0.8717348827486997, 0.8792798896458351, 0.8868248965429704, 0.8943699034401056, 0.901914910337241, 0.9094599172343762, 0.9170049241315117, 0.9245499310286469, 0.9320949379257824, 0.9396399448229176, 0.9471849517200528, 0.9547299586171882, 0.9622749655143235, 0.9698199724114589, 0.9773649793085941, 0.9849099862057296, 0.9924549931028648, 1.0]}],                        {\"template\": {\"data\": {\"bar\": [{\"error_x\": {\"color\": \"#2a3f5f\"}, \"error_y\": {\"color\": \"#2a3f5f\"}, \"marker\": {\"line\": {\"color\": \"#E5ECF6\", \"width\": 0.5}}, \"type\": \"bar\"}], \"barpolar\": [{\"marker\": {\"line\": {\"color\": \"#E5ECF6\", \"width\": 0.5}}, \"type\": \"barpolar\"}], \"carpet\": [{\"aaxis\": {\"endlinecolor\": \"#2a3f5f\", \"gridcolor\": \"white\", \"linecolor\": \"white\", \"minorgridcolor\": \"white\", \"startlinecolor\": \"#2a3f5f\"}, \"baxis\": {\"endlinecolor\": \"#2a3f5f\", \"gridcolor\": \"white\", \"linecolor\": \"white\", \"minorgridcolor\": \"white\", \"startlinecolor\": \"#2a3f5f\"}, \"type\": \"carpet\"}], \"choropleth\": [{\"colorbar\": {\"outlinewidth\": 0, \"ticks\": \"\"}, \"type\": \"choropleth\"}], \"contour\": [{\"colorbar\": {\"outlinewidth\": 0, \"ticks\": \"\"}, \"colorscale\": [[0.0, \"#0d0887\"], [0.1111111111111111, \"#46039f\"], [0.2222222222222222, \"#7201a8\"], [0.3333333333333333, \"#9c179e\"], [0.4444444444444444, \"#bd3786\"], [0.5555555555555556, \"#d8576b\"], [0.6666666666666666, \"#ed7953\"], [0.7777777777777778, \"#fb9f3a\"], [0.8888888888888888, \"#fdca26\"], [1.0, \"#f0f921\"]], \"type\": \"contour\"}], \"contourcarpet\": [{\"colorbar\": {\"outlinewidth\": 0, \"ticks\": \"\"}, \"type\": \"contourcarpet\"}], \"heatmap\": [{\"colorbar\": {\"outlinewidth\": 0, \"ticks\": \"\"}, \"colorscale\": [[0.0, \"#0d0887\"], [0.1111111111111111, \"#46039f\"], [0.2222222222222222, \"#7201a8\"], [0.3333333333333333, \"#9c179e\"], [0.4444444444444444, \"#bd3786\"], [0.5555555555555556, \"#d8576b\"], [0.6666666666666666, \"#ed7953\"], [0.7777777777777778, \"#fb9f3a\"], [0.8888888888888888, \"#fdca26\"], [1.0, \"#f0f921\"]], \"type\": \"heatmap\"}], \"heatmapgl\": [{\"colorbar\": {\"outlinewidth\": 0, \"ticks\": \"\"}, \"colorscale\": [[0.0, \"#0d0887\"], [0.1111111111111111, \"#46039f\"], [0.2222222222222222, \"#7201a8\"], [0.3333333333333333, \"#9c179e\"], [0.4444444444444444, \"#bd3786\"], [0.5555555555555556, \"#d8576b\"], [0.6666666666666666, \"#ed7953\"], [0.7777777777777778, \"#fb9f3a\"], [0.8888888888888888, \"#fdca26\"], [1.0, \"#f0f921\"]], \"type\": \"heatmapgl\"}], \"histogram\": [{\"marker\": {\"colorbar\": {\"outlinewidth\": 0, \"ticks\": \"\"}}, \"type\": \"histogram\"}], \"histogram2d\": [{\"colorbar\": {\"outlinewidth\": 0, \"ticks\": \"\"}, \"colorscale\": [[0.0, \"#0d0887\"], [0.1111111111111111, \"#46039f\"], [0.2222222222222222, \"#7201a8\"], [0.3333333333333333, \"#9c179e\"], [0.4444444444444444, \"#bd3786\"], [0.5555555555555556, \"#d8576b\"], [0.6666666666666666, \"#ed7953\"], [0.7777777777777778, \"#fb9f3a\"], [0.8888888888888888, \"#fdca26\"], [1.0, \"#f0f921\"]], \"type\": \"histogram2d\"}], \"histogram2dcontour\": [{\"colorbar\": {\"outlinewidth\": 0, \"ticks\": \"\"}, \"colorscale\": [[0.0, \"#0d0887\"], [0.1111111111111111, \"#46039f\"], [0.2222222222222222, \"#7201a8\"], [0.3333333333333333, \"#9c179e\"], [0.4444444444444444, \"#bd3786\"], [0.5555555555555556, \"#d8576b\"], [0.6666666666666666, \"#ed7953\"], [0.7777777777777778, \"#fb9f3a\"], [0.8888888888888888, \"#fdca26\"], [1.0, \"#f0f921\"]], \"type\": \"histogram2dcontour\"}], \"mesh3d\": [{\"colorbar\": {\"outlinewidth\": 0, \"ticks\": \"\"}, \"type\": \"mesh3d\"}], \"parcoords\": [{\"line\": {\"colorbar\": {\"outlinewidth\": 0, \"ticks\": \"\"}}, \"type\": \"parcoords\"}], \"pie\": [{\"automargin\": true, \"type\": \"pie\"}], \"scatter\": [{\"marker\": {\"colorbar\": {\"outlinewidth\": 0, \"ticks\": \"\"}}, \"type\": \"scatter\"}], \"scatter3d\": [{\"line\": {\"colorbar\": {\"outlinewidth\": 0, \"ticks\": \"\"}}, \"marker\": {\"colorbar\": {\"outlinewidth\": 0, \"ticks\": \"\"}}, \"type\": \"scatter3d\"}], \"scattercarpet\": [{\"marker\": {\"colorbar\": {\"outlinewidth\": 0, \"ticks\": \"\"}}, \"type\": \"scattercarpet\"}], \"scattergeo\": [{\"marker\": {\"colorbar\": {\"outlinewidth\": 0, \"ticks\": \"\"}}, \"type\": \"scattergeo\"}], \"scattergl\": [{\"marker\": {\"colorbar\": {\"outlinewidth\": 0, \"ticks\": \"\"}}, \"type\": \"scattergl\"}], \"scattermapbox\": [{\"marker\": {\"colorbar\": {\"outlinewidth\": 0, \"ticks\": \"\"}}, \"type\": \"scattermapbox\"}], \"scatterpolar\": [{\"marker\": {\"colorbar\": {\"outlinewidth\": 0, \"ticks\": \"\"}}, \"type\": \"scatterpolar\"}], \"scatterpolargl\": [{\"marker\": {\"colorbar\": {\"outlinewidth\": 0, \"ticks\": \"\"}}, \"type\": \"scatterpolargl\"}], \"scatterternary\": [{\"marker\": {\"colorbar\": {\"outlinewidth\": 0, \"ticks\": \"\"}}, \"type\": \"scatterternary\"}], \"surface\": [{\"colorbar\": {\"outlinewidth\": 0, \"ticks\": \"\"}, \"colorscale\": [[0.0, \"#0d0887\"], [0.1111111111111111, \"#46039f\"], [0.2222222222222222, \"#7201a8\"], [0.3333333333333333, \"#9c179e\"], [0.4444444444444444, \"#bd3786\"], [0.5555555555555556, \"#d8576b\"], [0.6666666666666666, \"#ed7953\"], [0.7777777777777778, \"#fb9f3a\"], [0.8888888888888888, \"#fdca26\"], [1.0, \"#f0f921\"]], \"type\": \"surface\"}], \"table\": [{\"cells\": {\"fill\": {\"color\": \"#EBF0F8\"}, \"line\": {\"color\": \"white\"}}, \"header\": {\"fill\": {\"color\": \"#C8D4E3\"}, \"line\": {\"color\": \"white\"}}, \"type\": \"table\"}]}, \"layout\": {\"annotationdefaults\": {\"arrowcolor\": \"#2a3f5f\", \"arrowhead\": 0, \"arrowwidth\": 1}, \"autotypenumbers\": \"strict\", \"coloraxis\": {\"colorbar\": {\"outlinewidth\": 0, \"ticks\": \"\"}}, \"colorscale\": {\"diverging\": [[0, \"#8e0152\"], [0.1, \"#c51b7d\"], [0.2, \"#de77ae\"], [0.3, \"#f1b6da\"], [0.4, \"#fde0ef\"], [0.5, \"#f7f7f7\"], [0.6, \"#e6f5d0\"], [0.7, \"#b8e186\"], [0.8, \"#7fbc41\"], [0.9, \"#4d9221\"], [1, \"#276419\"]], \"sequential\": [[0.0, \"#0d0887\"], [0.1111111111111111, \"#46039f\"], [0.2222222222222222, \"#7201a8\"], [0.3333333333333333, \"#9c179e\"], [0.4444444444444444, \"#bd3786\"], [0.5555555555555556, \"#d8576b\"], [0.6666666666666666, \"#ed7953\"], [0.7777777777777778, \"#fb9f3a\"], [0.8888888888888888, \"#fdca26\"], [1.0, \"#f0f921\"]], \"sequentialminus\": [[0.0, \"#0d0887\"], [0.1111111111111111, \"#46039f\"], [0.2222222222222222, \"#7201a8\"], [0.3333333333333333, \"#9c179e\"], [0.4444444444444444, \"#bd3786\"], [0.5555555555555556, \"#d8576b\"], [0.6666666666666666, \"#ed7953\"], [0.7777777777777778, \"#fb9f3a\"], [0.8888888888888888, \"#fdca26\"], [1.0, \"#f0f921\"]]}, \"colorway\": [\"#636efa\", \"#EF553B\", \"#00cc96\", \"#ab63fa\", \"#FFA15A\", \"#19d3f3\", \"#FF6692\", \"#B6E880\", \"#FF97FF\", \"#FECB52\"], \"font\": {\"color\": \"#2a3f5f\"}, \"geo\": {\"bgcolor\": \"white\", \"lakecolor\": \"white\", \"landcolor\": \"#E5ECF6\", \"showlakes\": true, \"showland\": true, \"subunitcolor\": \"white\"}, \"hoverlabel\": {\"align\": \"left\"}, \"hovermode\": \"closest\", \"mapbox\": {\"style\": \"light\"}, \"paper_bgcolor\": \"white\", \"plot_bgcolor\": \"#E5ECF6\", \"polar\": {\"angularaxis\": {\"gridcolor\": \"white\", \"linecolor\": \"white\", \"ticks\": \"\"}, \"bgcolor\": \"#E5ECF6\", \"radialaxis\": {\"gridcolor\": \"white\", \"linecolor\": \"white\", \"ticks\": \"\"}}, \"scene\": {\"xaxis\": {\"backgroundcolor\": \"#E5ECF6\", \"gridcolor\": \"white\", \"gridwidth\": 2, \"linecolor\": \"white\", \"showbackground\": true, \"ticks\": \"\", \"zerolinecolor\": \"white\"}, \"yaxis\": {\"backgroundcolor\": \"#E5ECF6\", \"gridcolor\": \"white\", \"gridwidth\": 2, \"linecolor\": \"white\", \"showbackground\": true, \"ticks\": \"\", \"zerolinecolor\": \"white\"}, \"zaxis\": {\"backgroundcolor\": \"#E5ECF6\", \"gridcolor\": \"white\", \"gridwidth\": 2, \"linecolor\": \"white\", \"showbackground\": true, \"ticks\": \"\", \"zerolinecolor\": \"white\"}}, \"shapedefaults\": {\"line\": {\"color\": \"#2a3f5f\"}}, \"ternary\": {\"aaxis\": {\"gridcolor\": \"white\", \"linecolor\": \"white\", \"ticks\": \"\"}, \"baxis\": {\"gridcolor\": \"white\", \"linecolor\": \"white\", \"ticks\": \"\"}, \"bgcolor\": \"#E5ECF6\", \"caxis\": {\"gridcolor\": \"white\", \"linecolor\": \"white\", \"ticks\": \"\"}}, \"title\": {\"x\": 0.05}, \"xaxis\": {\"automargin\": true, \"gridcolor\": \"white\", \"linecolor\": \"white\", \"ticks\": \"\", \"title\": {\"standoff\": 15}, \"zerolinecolor\": \"white\", \"zerolinewidth\": 2}, \"yaxis\": {\"automargin\": true, \"gridcolor\": \"white\", \"linecolor\": \"white\", \"ticks\": \"\", \"title\": {\"standoff\": 15}, \"zerolinecolor\": \"white\", \"zerolinewidth\": 2}}}, \"title\": {\"text\": \"validation_accuracy vs test_accuracy\"}, \"xaxis\": {\"title\": {\"text\": \"validation_accuracy\"}}, \"yaxis\": {\"title\": {\"text\": \"test_accuracy\"}}},                        {\"responsive\": true}                    ).then(function(){\n",
       "                            \n",
       "var gd = document.getElementById('19a895cd-01de-4237-9b94-7f327be29ca6');\n",
       "var x = new MutationObserver(function (mutations, observer) {{\n",
       "        var display = window.getComputedStyle(gd).display;\n",
       "        if (!display || display === 'none') {{\n",
       "            console.log([gd, 'removed!']);\n",
       "            Plotly.purge(gd);\n",
       "            observer.disconnect();\n",
       "        }}\n",
       "}});\n",
       "\n",
       "// Listen for the removal of the full notebook cells\n",
       "var notebookContainer = gd.closest('#notebook-container');\n",
       "if (notebookContainer) {{\n",
       "    x.observe(notebookContainer, {childList: true});\n",
       "}}\n",
       "\n",
       "// Listen for the clearing of the current output cell\n",
       "var outputEl = gd.closest('.output');\n",
       "if (outputEl) {{\n",
       "    x.observe(outputEl, {childList: true});\n",
       "}}\n",
       "\n",
       "                        })                };                });            </script>        </div>"
      ]
     },
     "metadata": {},
     "output_type": "display_data"
    }
   ],
   "source": [
    "plot_metric_relationship (metric_1, metric_2, experiment_subset=[5,2], backend='plotly')"
   ]
  },
  {
   "cell_type": "code",
   "execution_count": null,
   "metadata": {},
   "outputs": [
    {
     "name": "stdout",
     "output_type": "stream",
     "text": [
      "Converted hpconfig.ipynb.\n",
      "Converted manager_factory.ipynb.\n",
      "Converted dummy_experiment_manager.ipynb.\n",
      "Converted example_experiment.ipynb.\n",
      "Converted example_experiment_manager.ipynb.\n",
      "Converted experiment_manager.ipynb.\n",
      "Converted index.ipynb.\n",
      "Converted change_manager.ipynb.\n",
      "Converted metric_visualization.ipynb.\n",
      "Converted print_parameters.ipynb.\n",
      "Converted query.ipynb.\n",
      "Converted experiment_utils.ipynb.\n",
      "Converted organize_experiments.ipynb.\n",
      "Converted experiment_visualization.ipynb.\n",
      "Converted plot_utils.ipynb.\n"
     ]
    }
   ],
   "source": [
    "#hide\n",
    "from nbdev.export import *\n",
    "notebook2script(recursive=True)"
   ]
  }
 ],
 "metadata": {
  "kernelspec": {
   "display_name": "Python (athena_gpu)",
   "language": "python",
   "name": "athena_gpu"
  }
 },
 "nbformat": 4,
 "nbformat_minor": 4
}
