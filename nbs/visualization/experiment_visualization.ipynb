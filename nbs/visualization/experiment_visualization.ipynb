{
 "cells": [
  {
   "cell_type": "code",
   "execution_count": null,
   "metadata": {},
   "outputs": [],
   "source": [
    "#hide\n",
    "#default_exp visualization.experiment_visualization\n",
    "from nbdev.showdoc import show_doc\n",
    "import warnings\n",
    "warnings.filterwarnings('ignore')"
   ]
  },
  {
   "cell_type": "markdown",
   "metadata": {},
   "source": [
    "# Visualization utils"
   ]
  },
  {
   "cell_type": "markdown",
   "metadata": {},
   "source": [
    "## Plot history"
   ]
  },
  {
   "cell_type": "code",
   "execution_count": null,
   "metadata": {},
   "outputs": [
    {
     "name": "stdout",
     "output_type": "stream",
     "text": [
      "using import method 1\n"
     ]
    },
    {
     "name": "stderr",
     "output_type": "stream",
     "text": [
      "Using TensorFlow backend.\n"
     ]
    },
    {
     "name": "stdout",
     "output_type": "stream",
     "text": [
      "using import method 1\n"
     ]
    }
   ],
   "source": [
    "#export\n",
    "import numpy as np\n",
    "#import matplotlib.pyplot as plt\n",
    "import os\n",
    "import pickle\n",
    "import pandas as pd\n",
    "from IPython.display import display\n",
    "import visdom\n",
    "from hpsearch.config.hpconfig import get_path_results, get_path_experiments\n",
    "import hpsearch.utils.experiment_utils as ut\n",
    "from hpsearch.visualization import plot_utils \n",
    "import warnings\n",
    "warnings.filterwarnings('ignore')\n",
    "    \n",
    "              \n",
    "def plot_multiple_histories (experiments, run_number=0, root_path=None, root_folder=None, metrics='all', \n",
    "                             metrics_second=[], parameters = None, compare = True, \n",
    "                             ylegend=0.5, name_file='model_history.pk', \n",
    "                             op='max', include_parameters_in_legend=False,\n",
    "                             backend='visdom', **kwargs):\n",
    "    \n",
    "    if root_path is None:\n",
    "        root_path = get_path_experiments(folder=root_folder)\n",
    "    \n",
    "    df = pd.read_csv('%s/experiments_data.csv' %root_path,index_col=0)\n",
    "    df = ut.replace_with_default_values (df)\n",
    "    df2 = ut.get_experiment_parameters (df.loc[experiments], only_not_null=True)\n",
    "    parameters2, df2 = ut.get_parameters_unique(df2)\n",
    "\n",
    "    if compare or parameters is not None:        \n",
    "        if parameters is None:\n",
    "            parameters = parameters2 \n",
    "        df = df.loc[experiments,parameters]\n",
    "    \n",
    "    if type(metrics)==str and (metrics == 'all'):\n",
    "        path_results = get_path_results (experiments[0], run_number=run_number, root_path=root_path)\n",
    "        history = pickle.load(open('%s/%s' %(path_results, name_file),'rb'))\n",
    "        metrics = history.keys()\n",
    "    if type(metrics) == str:\n",
    "        metrics = [metrics]\n",
    "    if type(metrics_second) == str:\n",
    "        metrics_second = [metrics_second]\n",
    "    \n",
    "    df_show = df.copy()\n",
    "    \n",
    "    for (imetric,metric) in enumerate(metrics):\n",
    "        title = metric\n",
    "        traces = []\n",
    "        for experiment_id in experiments:\n",
    "            path_results = get_path_results (experiment_id, run_number=run_number, root_path=root_path)\n",
    "            if os.path.exists('%s/%s' %(path_results, name_file)):\n",
    "                history = pickle.load(open('%s/%s' %(path_results, name_file),'rb'))\n",
    "                #values = [float(x) for x in history[metric]]\n",
    "                if compare and include_parameters_in_legend:\n",
    "                    label = '{}-{}'.format(experiment_id, list(dict(df.loc[experiment_id]).values()))\n",
    "                else:\n",
    "                    label = '{}'.format(experiment_id)\n",
    "                traces = plot_utils.add_trace (history[metric], style='A.-', label=label, backend=backend, traces=traces)\n",
    "                \n",
    "                if True:\n",
    "                    if op == 'min':\n",
    "                        imin = int(np.array(history[metric]).argmin())\n",
    "                    else:\n",
    "                        imin = int(np.array(history[metric]).argmax())\n",
    "                    vmin = float(history[metric][imin])\n",
    "                    traces = plot_utils.add_trace ([imin], [vmin], style='.', label='', backend=backend, \n",
    "                                                   marker={'color': 'red', 'symbol': 104, 'size': 10},\n",
    "                                                   traces=traces)\n",
    "                    \n",
    "                    title += ' [%d]: %.2f' %(experiment_id, vmin)\n",
    "                    df_show.loc[experiment_id, metric] = vmin\n",
    "                    df2.loc[experiment_id, metric] = vmin\n",
    "                if (imetric == 0):\n",
    "                    for metric_second in metrics_second:\n",
    "                        #values = [float(x) for x in history[metric_second]]\n",
    "                        if compare and include_parameters_in_legend:\n",
    "                            label = '{}: {}-{}'.format(metric_second, experiment_id, list(dict(df.loc[experiment_id]).values()))\n",
    "                        else:\n",
    "                            label = '{}: {}'.format(metric_second, experiment_id)\n",
    "                        traces = plot_utils.add_trace (history[metric_second], style='A.-', label=label, backend=backend, traces=traces)\n",
    "                        \n",
    "                        if op == 'min':\n",
    "                            imin = int(np.array(history[metric_second]).argmin())\n",
    "                        else:\n",
    "                            imin = int(np.array(history[metric_second]).argmax())\n",
    "                        vmin = float(history[metric_second][imin])\n",
    "                        traces = plot_utils.add_trace ([imin], [vmin], style='.', label='', backend=backend, \n",
    "                                                   marker={'color': 'red', 'symbol': 104, 'size': 10},\n",
    "                                                   traces=traces)\n",
    "                        title += ' [%d]: %.2f' %(experiment_id, vmin)\n",
    "                        df_show.loc[experiment_id, metric_second] = vmin\n",
    "                        df2.loc[experiment_id, metric_second] = vmin\n",
    "\n",
    "        plot_utils.plot(title=title, xlabel='epoch', ylabel=metric, traces=traces, backend=backend)\n",
    "        if backend=='visdom':\n",
    "            vis = visdom.Visdom()\n",
    "            vis.text (df_show.to_html(justify='left', col_space=100), win= f'{metric}_parameters')\n",
    "        display(df2)\n"
   ]
  },
  {
   "cell_type": "code",
   "execution_count": null,
   "metadata": {},
   "outputs": [
    {
     "name": "stderr",
     "output_type": "stream",
     "text": [
      "experiment script: /mnt/athena/hpsearch/hpsearch/examples/dummy_experiment_manager.py, line: 212\n",
      "processing hyper-parameter 0 out of 9\n",
      "doing run 0 out of 5\n",
      "fixed rate, multiple epochs values\n",
      "running experiment 0\n",
      "run number: 0\n",
      "\n",
      "parameters:\n",
      "\tepochs=5,\n",
      "\tnoise=0.1,\n",
      "\toffset=0.1,\n",
      "\trate=0.03\n",
      "\n",
      "script: /mnt/athena/hpsearch/hpsearch/examples/dummy_experiment_manager.py, line number: 212\n",
      "time spent on this experiment: 0.0010046958923339844\n",
      "0 - validation_accuracy: 0.305631422238463\n",
      "0 - test_accuracy: 0.5033292509850051\n",
      "finished experiment 0\n",
      "processing hyper-parameter 0 out of 9\n",
      "doing run 1 out of 5\n",
      "fixed rate, multiple epochs values\n",
      "running experiment 0\n",
      "run number: 1\n",
      "\n",
      "parameters:\n",
      "\tepochs=5,\n",
      "\tnoise=0.1,\n",
      "\toffset=0.1,\n",
      "\trate=0.03\n",
      "\n",
      "script: /mnt/athena/hpsearch/hpsearch/examples/dummy_experiment_manager.py, line number: 212\n",
      "time spent on this experiment: 0.0008816719055175781\n",
      "1 - validation_accuracy: 0.2646120610831435\n",
      "1 - test_accuracy: 0.39271056491116846\n",
      "finished experiment 0\n",
      "processing hyper-parameter 0 out of 9\n",
      "doing run 2 out of 5\n",
      "fixed rate, multiple epochs values\n",
      "running experiment 0\n",
      "run number: 2\n",
      "\n",
      "parameters:\n",
      "\tepochs=5,\n",
      "\tnoise=0.1,\n",
      "\toffset=0.1,\n",
      "\trate=0.03\n",
      "\n",
      "script: /mnt/athena/hpsearch/hpsearch/examples/dummy_experiment_manager.py, line number: 212\n",
      "time spent on this experiment: 0.0009121894836425781\n",
      "2 - validation_accuracy: 0.16756272364655916\n",
      "2 - test_accuracy: 0.5069274270073986\n",
      "finished experiment 0\n",
      "processing hyper-parameter 0 out of 9\n",
      "doing run 3 out of 5\n",
      "fixed rate, multiple epochs values\n"
     ]
    },
    {
     "name": "stdout",
     "output_type": "stream",
     "text": [
      "using import method 1\n",
      "using import method 1\n",
      "registering\n",
      "fitting model with 5 epochs\n",
      "epoch 0: accuracy: 0.13\n",
      "epoch 1: accuracy: 0.16\n",
      "epoch 2: accuracy: 0.19\n",
      "epoch 3: accuracy: 0.22\n",
      "epoch 4: accuracy: 0.25\n",
      "registering\n",
      "fitting model with 5 epochs\n",
      "epoch 0: accuracy: 0.13\n",
      "epoch 1: accuracy: 0.16\n",
      "epoch 2: accuracy: 0.19\n",
      "epoch 3: accuracy: 0.22\n",
      "epoch 4: accuracy: 0.25\n",
      "registering\n",
      "fitting model with 5 epochs\n",
      "epoch 0: accuracy: 0.13\n",
      "epoch 1: accuracy: 0.16\n",
      "epoch 2: accuracy: 0.19\n",
      "epoch 3: accuracy: 0.22\n",
      "epoch 4: accuracy: 0.25\n",
      "registering\n"
     ]
    },
    {
     "name": "stderr",
     "output_type": "stream",
     "text": [
      "running experiment 0\n",
      "run number: 3\n",
      "\n",
      "parameters:\n",
      "\tepochs=5,\n",
      "\tnoise=0.1,\n",
      "\toffset=0.1,\n",
      "\trate=0.03\n",
      "\n",
      "script: /mnt/athena/hpsearch/hpsearch/examples/dummy_experiment_manager.py, line number: 212\n",
      "time spent on this experiment: 0.0009448528289794922\n",
      "3 - validation_accuracy: 0.12324518908084134\n",
      "3 - test_accuracy: 0.3695921082340699\n",
      "finished experiment 0\n",
      "processing hyper-parameter 0 out of 9\n",
      "doing run 4 out of 5\n",
      "fixed rate, multiple epochs values\n",
      "running experiment 0\n",
      "run number: 4\n",
      "\n",
      "parameters:\n",
      "\tepochs=5,\n",
      "\tnoise=0.1,\n",
      "\toffset=0.1,\n",
      "\trate=0.03\n",
      "\n",
      "script: /mnt/athena/hpsearch/hpsearch/examples/dummy_experiment_manager.py, line number: 212\n",
      "time spent on this experiment: 0.0009005069732666016\n",
      "4 - validation_accuracy: 0.41789660359512437\n",
      "4 - test_accuracy: 0.3848767390278466\n",
      "finished experiment 0\n",
      "processing hyper-parameter 1 out of 9\n",
      "doing run 0 out of 5\n",
      "fixed rate, multiple epochs values\n",
      "running experiment 1\n",
      "run number: 0\n",
      "\n",
      "parameters:\n",
      "\tepochs=5,\n",
      "\tnoise=0.1,\n",
      "\toffset=0.3,\n",
      "\trate=0.03\n",
      "\n",
      "script: /mnt/athena/hpsearch/hpsearch/examples/dummy_experiment_manager.py, line number: 212\n",
      "time spent on this experiment: 0.000888824462890625\n",
      "0 - validation_accuracy: 0.4216372503073592\n",
      "0 - test_accuracy: 0.482800289748714\n",
      "finished experiment 1\n",
      "processing hyper-parameter 1 out of 9\n",
      "doing run 1 out of 5\n",
      "fixed rate, multiple epochs values\n",
      "running experiment 1\n",
      "run number: 1\n",
      "\n",
      "parameters:\n",
      "\tepochs=5,\n",
      "\tnoise=0.1,\n",
      "\toffset=0.3,\n",
      "\trate=0.03\n",
      "\n",
      "script: /mnt/athena/hpsearch/hpsearch/examples/dummy_experiment_manager.py, line number: 212\n",
      "time spent on this experiment: 0.0009012222290039062\n",
      "1 - validation_accuracy: 0.3894598072366486\n",
      "1 - test_accuracy: 0.657063757955613\n",
      "finished experiment 1\n",
      "processing hyper-parameter 1 out of 9\n",
      "doing run 2 out of 5\n",
      "fixed rate, multiple epochs values\n",
      "running experiment 1\n",
      "run number: 2\n",
      "\n",
      "parameters:\n",
      "\tepochs=5,\n",
      "\tnoise=0.1,\n",
      "\toffset=0.3,\n",
      "\trate=0.03\n",
      "\n"
     ]
    },
    {
     "name": "stdout",
     "output_type": "stream",
     "text": [
      "fitting model with 5 epochs\n",
      "epoch 0: accuracy: 0.13\n",
      "epoch 1: accuracy: 0.16\n",
      "epoch 2: accuracy: 0.19\n",
      "epoch 3: accuracy: 0.22\n",
      "epoch 4: accuracy: 0.25\n",
      "registering\n",
      "fitting model with 5 epochs\n",
      "epoch 0: accuracy: 0.13\n",
      "epoch 1: accuracy: 0.16\n",
      "epoch 2: accuracy: 0.19\n",
      "epoch 3: accuracy: 0.22\n",
      "epoch 4: accuracy: 0.25\n",
      "registering\n",
      "fitting model with 5 epochs\n",
      "epoch 0: accuracy: 0.32999999999999996\n",
      "epoch 1: accuracy: 0.36\n",
      "epoch 2: accuracy: 0.39\n",
      "epoch 3: accuracy: 0.42000000000000004\n",
      "epoch 4: accuracy: 0.45000000000000007\n",
      "registering\n",
      "fitting model with 5 epochs\n",
      "epoch 0: accuracy: 0.32999999999999996\n",
      "epoch 1: accuracy: 0.36\n",
      "epoch 2: accuracy: 0.39\n",
      "epoch 3: accuracy: 0.42000000000000004\n",
      "epoch 4: accuracy: 0.45000000000000007\n",
      "registering\n"
     ]
    },
    {
     "name": "stderr",
     "output_type": "stream",
     "text": [
      "script: /mnt/athena/hpsearch/hpsearch/examples/dummy_experiment_manager.py, line number: 212\n",
      "time spent on this experiment: 0.0010809898376464844\n",
      "2 - validation_accuracy: 0.4521507130717074\n",
      "2 - test_accuracy: 0.4353095366482435\n",
      "finished experiment 1\n",
      "processing hyper-parameter 1 out of 9\n",
      "doing run 3 out of 5\n",
      "fixed rate, multiple epochs values\n",
      "running experiment 1\n",
      "run number: 3\n",
      "\n",
      "parameters:\n",
      "\tepochs=5,\n",
      "\tnoise=0.1,\n",
      "\toffset=0.3,\n",
      "\trate=0.03\n",
      "\n",
      "script: /mnt/athena/hpsearch/hpsearch/examples/dummy_experiment_manager.py, line number: 212\n",
      "time spent on this experiment: 0.0008935928344726562\n",
      "3 - validation_accuracy: 0.6295219227132647\n",
      "3 - test_accuracy: 0.4207548634596724\n",
      "finished experiment 1\n",
      "processing hyper-parameter 1 out of 9\n",
      "doing run 4 out of 5\n",
      "fixed rate, multiple epochs values\n",
      "running experiment 1\n",
      "run number: 4\n",
      "\n",
      "parameters:\n",
      "\tepochs=5,\n",
      "\tnoise=0.1,\n",
      "\toffset=0.3,\n",
      "\trate=0.03\n",
      "\n",
      "script: /mnt/athena/hpsearch/hpsearch/examples/dummy_experiment_manager.py, line number: 212\n",
      "time spent on this experiment: 0.0008985996246337891\n",
      "4 - validation_accuracy: 0.4549626146182153\n",
      "4 - test_accuracy: 0.5899291486730474\n",
      "finished experiment 1\n",
      "processing hyper-parameter 2 out of 9\n",
      "doing run 0 out of 5\n",
      "fixed rate, multiple epochs values\n",
      "running experiment 2\n",
      "run number: 0\n",
      "\n",
      "parameters:\n",
      "\tepochs=5,\n",
      "\tnoise=0.1,\n",
      "\toffset=0.6,\n",
      "\trate=0.03\n",
      "\n",
      "script: /mnt/athena/hpsearch/hpsearch/examples/dummy_experiment_manager.py, line number: 212\n",
      "time spent on this experiment: 0.0009515285491943359\n",
      "0 - validation_accuracy: 0.6701665483167591\n",
      "0 - test_accuracy: 0.7850543744047882\n",
      "finished experiment 2\n",
      "processing hyper-parameter 2 out of 9\n",
      "doing run 1 out of 5\n",
      "fixed rate, multiple epochs values\n",
      "running experiment 2\n",
      "run number: 1\n",
      "\n",
      "parameters:\n",
      "\tepochs=5,\n",
      "\tnoise=0.1,\n",
      "\toffset=0.6,\n",
      "\trate=0.03\n",
      "\n"
     ]
    },
    {
     "name": "stdout",
     "output_type": "stream",
     "text": [
      "fitting model with 5 epochs\n",
      "epoch 0: accuracy: 0.32999999999999996\n",
      "epoch 1: accuracy: 0.36\n",
      "epoch 2: accuracy: 0.39\n",
      "epoch 3: accuracy: 0.42000000000000004\n",
      "epoch 4: accuracy: 0.45000000000000007\n",
      "registering\n",
      "fitting model with 5 epochs\n",
      "epoch 0: accuracy: 0.32999999999999996\n",
      "epoch 1: accuracy: 0.36\n",
      "epoch 2: accuracy: 0.39\n",
      "epoch 3: accuracy: 0.42000000000000004\n",
      "epoch 4: accuracy: 0.45000000000000007\n",
      "registering\n",
      "fitting model with 5 epochs\n",
      "epoch 0: accuracy: 0.32999999999999996\n",
      "epoch 1: accuracy: 0.36\n",
      "epoch 2: accuracy: 0.39\n",
      "epoch 3: accuracy: 0.42000000000000004\n",
      "epoch 4: accuracy: 0.45000000000000007\n",
      "registering\n",
      "fitting model with 5 epochs\n",
      "epoch 0: accuracy: 0.63\n",
      "epoch 1: accuracy: 0.66\n",
      "epoch 2: accuracy: 0.6900000000000001\n",
      "epoch 3: accuracy: 0.7200000000000001\n",
      "epoch 4: accuracy: 0.7500000000000001\n",
      "registering\n"
     ]
    },
    {
     "name": "stderr",
     "output_type": "stream",
     "text": [
      "script: /mnt/athena/hpsearch/hpsearch/examples/dummy_experiment_manager.py, line number: 212\n",
      "time spent on this experiment: 0.0009276866912841797\n",
      "1 - validation_accuracy: 0.7175494387561314\n",
      "1 - test_accuracy: 0.8628375966286369\n",
      "finished experiment 2\n",
      "processing hyper-parameter 2 out of 9\n",
      "doing run 2 out of 5\n",
      "fixed rate, multiple epochs values\n",
      "running experiment 2\n",
      "run number: 2\n",
      "\n",
      "parameters:\n",
      "\tepochs=5,\n",
      "\tnoise=0.1,\n",
      "\toffset=0.6,\n",
      "\trate=0.03\n",
      "\n",
      "script: /mnt/athena/hpsearch/hpsearch/examples/dummy_experiment_manager.py, line number: 212\n",
      "time spent on this experiment: 0.0009508132934570312\n",
      "2 - validation_accuracy: 0.7191744723080403\n",
      "2 - test_accuracy: 0.8055234094085176\n",
      "finished experiment 2\n",
      "processing hyper-parameter 2 out of 9\n",
      "doing run 3 out of 5\n",
      "fixed rate, multiple epochs values\n",
      "running experiment 2\n",
      "run number: 3\n",
      "\n",
      "parameters:\n",
      "\tepochs=5,\n",
      "\tnoise=0.1,\n",
      "\toffset=0.6,\n",
      "\trate=0.03\n",
      "\n",
      "script: /mnt/athena/hpsearch/hpsearch/examples/dummy_experiment_manager.py, line number: 212\n",
      "time spent on this experiment: 0.0008978843688964844\n",
      "3 - validation_accuracy: 0.7234883377608524\n",
      "3 - test_accuracy: 0.8981995548148513\n",
      "finished experiment 2\n",
      "processing hyper-parameter 2 out of 9\n",
      "doing run 4 out of 5\n",
      "fixed rate, multiple epochs values\n",
      "running experiment 2\n",
      "run number: 4\n",
      "\n",
      "parameters:\n",
      "\tepochs=5,\n",
      "\tnoise=0.1,\n",
      "\toffset=0.6,\n",
      "\trate=0.03\n",
      "\n",
      "script: /mnt/athena/hpsearch/hpsearch/examples/dummy_experiment_manager.py, line number: 212\n",
      "time spent on this experiment: 0.00087738037109375\n",
      "4 - validation_accuracy: 0.8251436804521654\n",
      "4 - test_accuracy: 0.7484777679608634\n",
      "finished experiment 2\n",
      "processing hyper-parameter 3 out of 9\n",
      "doing run 0 out of 5\n",
      "fixed rate, multiple epochs values\n"
     ]
    },
    {
     "name": "stdout",
     "output_type": "stream",
     "text": [
      "fitting model with 5 epochs\n",
      "epoch 0: accuracy: 0.63\n",
      "epoch 1: accuracy: 0.66\n",
      "epoch 2: accuracy: 0.6900000000000001\n",
      "epoch 3: accuracy: 0.7200000000000001\n",
      "epoch 4: accuracy: 0.7500000000000001\n",
      "registering\n",
      "fitting model with 5 epochs\n",
      "epoch 0: accuracy: 0.63\n",
      "epoch 1: accuracy: 0.66\n",
      "epoch 2: accuracy: 0.6900000000000001\n",
      "epoch 3: accuracy: 0.7200000000000001\n",
      "epoch 4: accuracy: 0.7500000000000001\n",
      "registering\n",
      "fitting model with 5 epochs\n",
      "epoch 0: accuracy: 0.63\n",
      "epoch 1: accuracy: 0.66\n",
      "epoch 2: accuracy: 0.6900000000000001\n",
      "epoch 3: accuracy: 0.7200000000000001\n",
      "epoch 4: accuracy: 0.7500000000000001\n",
      "registering\n",
      "fitting model with 5 epochs\n",
      "epoch 0: accuracy: 0.63\n",
      "epoch 1: accuracy: 0.66\n",
      "epoch 2: accuracy: 0.6900000000000001\n",
      "epoch 3: accuracy: 0.7200000000000001\n",
      "epoch 4: accuracy: 0.7500000000000001\n",
      "registering\n"
     ]
    },
    {
     "name": "stderr",
     "output_type": "stream",
     "text": [
      "running experiment 3\n",
      "run number: 0\n",
      "\n",
      "parameters:\n",
      "\tepochs=15,\n",
      "\tnoise=0.1,\n",
      "\toffset=0.1,\n",
      "\trate=0.03\n",
      "\n",
      "script: /mnt/athena/hpsearch/hpsearch/examples/dummy_experiment_manager.py, line number: 212\n",
      "time spent on this experiment: 0.001893758773803711\n",
      "0 - validation_accuracy: 0.6054410736077539\n",
      "0 - test_accuracy: 0.37903018862015925\n",
      "finished experiment 3\n",
      "processing hyper-parameter 3 out of 9\n",
      "doing run 1 out of 5\n",
      "fixed rate, multiple epochs values\n",
      "running experiment 3\n",
      "run number: 1\n",
      "\n",
      "parameters:\n",
      "\tepochs=15,\n",
      "\tnoise=0.1,\n",
      "\toffset=0.1,\n",
      "\trate=0.03\n",
      "\n",
      "script: /mnt/athena/hpsearch/hpsearch/examples/dummy_experiment_manager.py, line number: 212\n",
      "time spent on this experiment: 0.0018169879913330078\n",
      "1 - validation_accuracy: 0.575299459922657\n",
      "1 - test_accuracy: 0.45007877676527464\n",
      "finished experiment 3\n",
      "processing hyper-parameter 3 out of 9\n",
      "doing run 2 out of 5\n",
      "fixed rate, multiple epochs values\n",
      "running experiment 3\n",
      "run number: 2\n",
      "\n",
      "parameters:\n",
      "\tepochs=15,\n",
      "\tnoise=0.1,\n",
      "\toffset=0.1,\n",
      "\trate=0.03\n",
      "\n",
      "script: /mnt/athena/hpsearch/hpsearch/examples/dummy_experiment_manager.py, line number: 212\n",
      "time spent on this experiment: 0.001813650131225586\n",
      "2 - validation_accuracy: 0.6890604343822585\n",
      "2 - test_accuracy: 0.5808847446580789\n",
      "finished experiment 3\n",
      "processing hyper-parameter 3 out of 9\n",
      "doing run 3 out of 5\n",
      "fixed rate, multiple epochs values\n",
      "running experiment 3\n",
      "run number: 3\n",
      "\n",
      "parameters:\n",
      "\tepochs=15,\n",
      "\tnoise=0.1,\n",
      "\toffset=0.1,\n",
      "\trate=0.03\n",
      "\n",
      "script: /mnt/athena/hpsearch/hpsearch/examples/dummy_experiment_manager.py, line number: 212\n",
      "time spent on this experiment: 0.0011324882507324219\n",
      "3 - validation_accuracy: 0.5490768778143513\n",
      "3 - test_accuracy: 0.3669607254493914\n",
      "finished experiment 3\n",
      "processing hyper-parameter 3 out of 9\n",
      "doing run 4 out of 5\n",
      "fixed rate, multiple epochs values\n",
      "running experiment 3\n",
      "run number: 4\n"
     ]
    },
    {
     "name": "stdout",
     "output_type": "stream",
     "text": [
      "fitting model with 15 epochs\n",
      "epoch 0: accuracy: 0.13\n",
      "epoch 1: accuracy: 0.16\n",
      "epoch 2: accuracy: 0.19\n",
      "epoch 3: accuracy: 0.22\n",
      "epoch 4: accuracy: 0.25\n",
      "epoch 5: accuracy: 0.28\n",
      "epoch 6: accuracy: 0.31000000000000005\n",
      "epoch 7: accuracy: 0.3400000000000001\n",
      "epoch 8: accuracy: 0.3700000000000001\n",
      "epoch 9: accuracy: 0.40000000000000013\n",
      "epoch 10: accuracy: 0.43000000000000016\n",
      "epoch 11: accuracy: 0.4600000000000002\n",
      "epoch 12: accuracy: 0.4900000000000002\n",
      "epoch 13: accuracy: 0.5200000000000002\n",
      "epoch 14: accuracy: 0.5500000000000003\n",
      "registering\n",
      "fitting model with 15 epochs\n",
      "epoch 0: accuracy: 0.13\n",
      "epoch 1: accuracy: 0.16\n",
      "epoch 2: accuracy: 0.19\n",
      "epoch 3: accuracy: 0.22\n",
      "epoch 4: accuracy: 0.25\n",
      "epoch 5: accuracy: 0.28\n",
      "epoch 6: accuracy: 0.31000000000000005\n",
      "epoch 7: accuracy: 0.3400000000000001\n",
      "epoch 8: accuracy: 0.3700000000000001\n",
      "epoch 9: accuracy: 0.40000000000000013\n",
      "epoch 10: accuracy: 0.43000000000000016\n",
      "epoch 11: accuracy: 0.4600000000000002\n",
      "epoch 12: accuracy: 0.4900000000000002\n",
      "epoch 13: accuracy: 0.5200000000000002\n",
      "epoch 14: accuracy: 0.5500000000000003\n",
      "registering\n",
      "fitting model with 15 epochs\n",
      "epoch 0: accuracy: 0.13\n",
      "epoch 1: accuracy: 0.16\n",
      "epoch 2: accuracy: 0.19\n",
      "epoch 3: accuracy: 0.22\n",
      "epoch 4: accuracy: 0.25\n",
      "epoch 5: accuracy: 0.28\n",
      "epoch 6: accuracy: 0.31000000000000005\n",
      "epoch 7: accuracy: 0.3400000000000001\n",
      "epoch 8: accuracy: 0.3700000000000001\n",
      "epoch 9: accuracy: 0.40000000000000013\n",
      "epoch 10: accuracy: 0.43000000000000016\n",
      "epoch 11: accuracy: 0.4600000000000002\n",
      "epoch 12: accuracy: 0.4900000000000002\n",
      "epoch 13: accuracy: 0.5200000000000002\n",
      "epoch 14: accuracy: 0.5500000000000003\n",
      "registering\n",
      "fitting model with 15 epochs\n",
      "epoch 0: accuracy: 0.13\n",
      "epoch 1: accuracy: 0.16\n",
      "epoch 2: accuracy: 0.19\n",
      "epoch 3: accuracy: 0.22\n",
      "epoch 4: accuracy: 0.25\n",
      "epoch 5: accuracy: 0.28\n",
      "epoch 6: accuracy: 0.31000000000000005\n",
      "epoch 7: accuracy: 0.3400000000000001\n",
      "epoch 8: accuracy: 0.3700000000000001\n",
      "epoch 9: accuracy: 0.40000000000000013\n",
      "epoch 10: accuracy: 0.43000000000000016\n",
      "epoch 11: accuracy: 0.4600000000000002\n",
      "epoch 12: accuracy: 0.4900000000000002\n",
      "epoch 13: accuracy: 0.5200000000000002\n",
      "epoch 14: accuracy: 0.5500000000000003\n",
      "registering\n"
     ]
    },
    {
     "name": "stderr",
     "output_type": "stream",
     "text": [
      "\n",
      "parameters:\n",
      "\tepochs=15,\n",
      "\tnoise=0.1,\n",
      "\toffset=0.1,\n",
      "\trate=0.03\n",
      "\n",
      "script: /mnt/athena/hpsearch/hpsearch/examples/dummy_experiment_manager.py, line number: 212\n",
      "time spent on this experiment: 0.0020203590393066406\n",
      "4 - validation_accuracy: 0.5716679654661798\n",
      "4 - test_accuracy: 0.5125785194815164\n",
      "finished experiment 3\n",
      "processing hyper-parameter 4 out of 9\n",
      "doing run 0 out of 5\n",
      "fixed rate, multiple epochs values\n",
      "running experiment 4\n",
      "run number: 0\n",
      "\n",
      "parameters:\n",
      "\tepochs=15,\n",
      "\tnoise=0.1,\n",
      "\toffset=0.3,\n",
      "\trate=0.03\n",
      "\n",
      "script: /mnt/athena/hpsearch/hpsearch/examples/dummy_experiment_manager.py, line number: 212\n",
      "time spent on this experiment: 0.0018548965454101562\n",
      "0 - validation_accuracy: 0.8121013332663769\n",
      "0 - test_accuracy: 0.4509427381012443\n",
      "finished experiment 4\n",
      "processing hyper-parameter 4 out of 9\n",
      "doing run 1 out of 5\n",
      "fixed rate, multiple epochs values\n",
      "running experiment 4\n",
      "run number: 1\n",
      "\n",
      "parameters:\n",
      "\tepochs=15,\n",
      "\tnoise=0.1,\n",
      "\toffset=0.3,\n",
      "\trate=0.03\n",
      "\n",
      "script: /mnt/athena/hpsearch/hpsearch/examples/dummy_experiment_manager.py, line number: 212\n",
      "time spent on this experiment: 0.0019097328186035156\n",
      "1 - validation_accuracy: 0.7379993498589118\n",
      "1 - test_accuracy: 0.6338722286935421\n",
      "finished experiment 4\n",
      "processing hyper-parameter 4 out of 9\n",
      "doing run 2 out of 5\n",
      "fixed rate, multiple epochs values\n",
      "running experiment 4\n",
      "run number: 2\n",
      "\n",
      "parameters:\n",
      "\tepochs=15,\n",
      "\tnoise=0.1,\n",
      "\toffset=0.3,\n",
      "\trate=0.03\n",
      "\n",
      "script: /mnt/athena/hpsearch/hpsearch/examples/dummy_experiment_manager.py, line number: 212\n",
      "time spent on this experiment: 0.0005812644958496094\n",
      "2 - validation_accuracy: 0.814674921726226\n",
      "2 - test_accuracy: 0.5584031102843441\n"
     ]
    },
    {
     "name": "stdout",
     "output_type": "stream",
     "text": [
      "fitting model with 15 epochs\n",
      "epoch 0: accuracy: 0.13\n",
      "epoch 1: accuracy: 0.16\n",
      "epoch 2: accuracy: 0.19\n",
      "epoch 3: accuracy: 0.22\n",
      "epoch 4: accuracy: 0.25\n",
      "epoch 5: accuracy: 0.28\n",
      "epoch 6: accuracy: 0.31000000000000005\n",
      "epoch 7: accuracy: 0.3400000000000001\n",
      "epoch 8: accuracy: 0.3700000000000001\n",
      "epoch 9: accuracy: 0.40000000000000013\n",
      "epoch 10: accuracy: 0.43000000000000016\n",
      "epoch 11: accuracy: 0.4600000000000002\n",
      "epoch 12: accuracy: 0.4900000000000002\n",
      "epoch 13: accuracy: 0.5200000000000002\n",
      "epoch 14: accuracy: 0.5500000000000003\n",
      "registering\n",
      "fitting model with 15 epochs\n",
      "epoch 0: accuracy: 0.32999999999999996\n",
      "epoch 1: accuracy: 0.36\n",
      "epoch 2: accuracy: 0.39\n",
      "epoch 3: accuracy: 0.42000000000000004\n",
      "epoch 4: accuracy: 0.45000000000000007\n",
      "epoch 5: accuracy: 0.4800000000000001\n",
      "epoch 6: accuracy: 0.5100000000000001\n",
      "epoch 7: accuracy: 0.5400000000000001\n",
      "epoch 8: accuracy: 0.5700000000000002\n",
      "epoch 9: accuracy: 0.6000000000000002\n",
      "epoch 10: accuracy: 0.6300000000000002\n",
      "epoch 11: accuracy: 0.6600000000000003\n",
      "epoch 12: accuracy: 0.6900000000000003\n",
      "epoch 13: accuracy: 0.7200000000000003\n",
      "epoch 14: accuracy: 0.7500000000000003\n",
      "registering\n",
      "fitting model with 15 epochs\n",
      "epoch 0: accuracy: 0.32999999999999996\n",
      "epoch 1: accuracy: 0.36\n",
      "epoch 2: accuracy: 0.39\n",
      "epoch 3: accuracy: 0.42000000000000004\n",
      "epoch 4: accuracy: 0.45000000000000007\n",
      "epoch 5: accuracy: 0.4800000000000001\n",
      "epoch 6: accuracy: 0.5100000000000001\n",
      "epoch 7: accuracy: 0.5400000000000001\n",
      "epoch 8: accuracy: 0.5700000000000002\n",
      "epoch 9: accuracy: 0.6000000000000002\n",
      "epoch 10: accuracy: 0.6300000000000002\n",
      "epoch 11: accuracy: 0.6600000000000003\n",
      "epoch 12: accuracy: 0.6900000000000003\n",
      "epoch 13: accuracy: 0.7200000000000003\n",
      "epoch 14: accuracy: 0.7500000000000003\n",
      "registering\n",
      "fitting model with 15 epochs\n",
      "epoch 0: accuracy: 0.32999999999999996\n",
      "epoch 1: accuracy: 0.36\n",
      "epoch 2: accuracy: 0.39\n",
      "epoch 3: accuracy: 0.42000000000000004\n",
      "epoch 4: accuracy: 0.45000000000000007\n",
      "epoch 5: accuracy: 0.4800000000000001\n",
      "epoch 6: accuracy: 0.5100000000000001\n",
      "epoch 7: accuracy: 0.5400000000000001\n",
      "epoch 8: accuracy: 0.5700000000000002\n",
      "epoch 9: accuracy: 0.6000000000000002\n",
      "epoch 10: accuracy: 0.6300000000000002\n",
      "epoch 11: accuracy: 0.6600000000000003\n",
      "epoch 12: accuracy: 0.6900000000000003\n",
      "epoch 13: accuracy: 0.7200000000000003\n",
      "epoch 14: accuracy: 0.7500000000000003\n"
     ]
    },
    {
     "name": "stderr",
     "output_type": "stream",
     "text": [
      "finished experiment 4\n",
      "processing hyper-parameter 4 out of 9\n",
      "doing run 3 out of 5\n",
      "fixed rate, multiple epochs values\n",
      "running experiment 4\n",
      "run number: 3\n",
      "\n",
      "parameters:\n",
      "\tepochs=15,\n",
      "\tnoise=0.1,\n",
      "\toffset=0.3,\n",
      "\trate=0.03\n",
      "\n",
      "script: /mnt/athena/hpsearch/hpsearch/examples/dummy_experiment_manager.py, line number: 212\n",
      "time spent on this experiment: 0.001961231231689453\n",
      "3 - validation_accuracy: 0.5588159912422294\n",
      "3 - test_accuracy: 0.5628520382984434\n",
      "finished experiment 4\n",
      "processing hyper-parameter 4 out of 9\n",
      "doing run 4 out of 5\n",
      "fixed rate, multiple epochs values\n",
      "running experiment 4\n",
      "run number: 4\n",
      "\n",
      "parameters:\n",
      "\tepochs=15,\n",
      "\tnoise=0.1,\n",
      "\toffset=0.3,\n",
      "\trate=0.03\n",
      "\n",
      "script: /mnt/athena/hpsearch/hpsearch/examples/dummy_experiment_manager.py, line number: 212\n",
      "time spent on this experiment: 0.0019445419311523438\n",
      "4 - validation_accuracy: 0.6591867057979535\n",
      "4 - test_accuracy: 0.6547163048390563\n",
      "finished experiment 4\n",
      "processing hyper-parameter 5 out of 9\n",
      "doing run 0 out of 5\n",
      "fixed rate, multiple epochs values\n",
      "running experiment 5\n",
      "run number: 0\n",
      "\n",
      "parameters:\n",
      "\tepochs=15,\n",
      "\tnoise=0.1,\n",
      "\toffset=0.6,\n",
      "\trate=0.03\n",
      "\n",
      "script: /mnt/athena/hpsearch/hpsearch/examples/dummy_experiment_manager.py, line number: 212\n",
      "time spent on this experiment: 0.0020182132720947266\n",
      "0 - validation_accuracy: 1.0\n",
      "0 - test_accuracy: 0.939065253441276\n",
      "finished experiment 5\n",
      "processing hyper-parameter 5 out of 9\n",
      "doing run 1 out of 5\n",
      "fixed rate, multiple epochs values\n",
      "running experiment 5\n",
      "run number: 1\n"
     ]
    },
    {
     "name": "stdout",
     "output_type": "stream",
     "text": [
      "registering\n",
      "fitting model with 15 epochs\n",
      "epoch 0: accuracy: 0.32999999999999996\n",
      "epoch 1: accuracy: 0.36\n",
      "epoch 2: accuracy: 0.39\n",
      "epoch 3: accuracy: 0.42000000000000004\n",
      "epoch 4: accuracy: 0.45000000000000007\n",
      "epoch 5: accuracy: 0.4800000000000001\n",
      "epoch 6: accuracy: 0.5100000000000001\n",
      "epoch 7: accuracy: 0.5400000000000001\n",
      "epoch 8: accuracy: 0.5700000000000002\n",
      "epoch 9: accuracy: 0.6000000000000002\n",
      "epoch 10: accuracy: 0.6300000000000002\n",
      "epoch 11: accuracy: 0.6600000000000003\n",
      "epoch 12: accuracy: 0.6900000000000003\n",
      "epoch 13: accuracy: 0.7200000000000003\n",
      "epoch 14: accuracy: 0.7500000000000003\n",
      "registering\n",
      "fitting model with 15 epochs\n",
      "epoch 0: accuracy: 0.32999999999999996\n",
      "epoch 1: accuracy: 0.36\n",
      "epoch 2: accuracy: 0.39\n",
      "epoch 3: accuracy: 0.42000000000000004\n",
      "epoch 4: accuracy: 0.45000000000000007\n",
      "epoch 5: accuracy: 0.4800000000000001\n",
      "epoch 6: accuracy: 0.5100000000000001\n",
      "epoch 7: accuracy: 0.5400000000000001\n",
      "epoch 8: accuracy: 0.5700000000000002\n",
      "epoch 9: accuracy: 0.6000000000000002\n",
      "epoch 10: accuracy: 0.6300000000000002\n",
      "epoch 11: accuracy: 0.6600000000000003\n",
      "epoch 12: accuracy: 0.6900000000000003\n",
      "epoch 13: accuracy: 0.7200000000000003\n",
      "epoch 14: accuracy: 0.7500000000000003\n",
      "registering\n",
      "fitting model with 15 epochs\n",
      "epoch 0: accuracy: 0.63\n",
      "epoch 1: accuracy: 0.66\n",
      "epoch 2: accuracy: 0.6900000000000001\n",
      "epoch 3: accuracy: 0.7200000000000001\n",
      "epoch 4: accuracy: 0.7500000000000001\n",
      "epoch 5: accuracy: 0.7800000000000001\n",
      "epoch 6: accuracy: 0.8100000000000002\n",
      "epoch 7: accuracy: 0.8400000000000002\n",
      "epoch 8: accuracy: 0.8700000000000002\n",
      "epoch 9: accuracy: 0.9000000000000002\n",
      "epoch 10: accuracy: 0.9300000000000003\n",
      "epoch 11: accuracy: 0.9600000000000003\n",
      "epoch 12: accuracy: 0.9900000000000003\n",
      "epoch 13: accuracy: 1.0200000000000002\n",
      "epoch 14: accuracy: 1.0500000000000003\n",
      "registering\n"
     ]
    },
    {
     "name": "stderr",
     "output_type": "stream",
     "text": [
      "\n",
      "parameters:\n",
      "\tepochs=15,\n",
      "\tnoise=0.1,\n",
      "\toffset=0.6,\n",
      "\trate=0.03\n",
      "\n",
      "script: /mnt/athena/hpsearch/hpsearch/examples/dummy_experiment_manager.py, line number: 212\n",
      "time spent on this experiment: 0.00197601318359375\n",
      "1 - validation_accuracy: 1.0\n",
      "1 - test_accuracy: 0.9763297832852534\n",
      "finished experiment 5\n",
      "processing hyper-parameter 5 out of 9\n",
      "doing run 2 out of 5\n",
      "fixed rate, multiple epochs values\n",
      "running experiment 5\n",
      "run number: 2\n",
      "\n",
      "parameters:\n",
      "\tepochs=15,\n",
      "\tnoise=0.1,\n",
      "\toffset=0.6,\n",
      "\trate=0.03\n",
      "\n",
      "script: /mnt/athena/hpsearch/hpsearch/examples/dummy_experiment_manager.py, line number: 212\n",
      "time spent on this experiment: 0.002277851104736328\n",
      "2 - validation_accuracy: 1.0\n",
      "2 - test_accuracy: 0.9522333319837616\n",
      "finished experiment 5\n",
      "processing hyper-parameter 5 out of 9\n",
      "doing run 3 out of 5\n",
      "fixed rate, multiple epochs values\n",
      "running experiment 5\n",
      "run number: 3\n",
      "\n",
      "parameters:\n",
      "\tepochs=15,\n",
      "\tnoise=0.1,\n",
      "\toffset=0.6,\n",
      "\trate=0.03\n",
      "\n",
      "script: /mnt/athena/hpsearch/hpsearch/examples/dummy_experiment_manager.py, line number: 212\n",
      "time spent on this experiment: 0.0018582344055175781\n",
      "3 - validation_accuracy: 1.0\n",
      "3 - test_accuracy: 1.0\n",
      "finished experiment 5\n",
      "processing hyper-parameter 5 out of 9\n",
      "doing run 4 out of 5\n",
      "fixed rate, multiple epochs values\n",
      "running experiment 5\n",
      "run number: 4\n",
      "\n",
      "parameters:\n",
      "\tepochs=15,\n",
      "\tnoise=0.1,\n",
      "\toffset=0.6,\n",
      "\trate=0.03\n",
      "\n",
      "script: /mnt/athena/hpsearch/hpsearch/examples/dummy_experiment_manager.py, line number: 212\n",
      "time spent on this experiment: 0.0019049644470214844\n",
      "4 - validation_accuracy: 0.9658767031128402\n",
      "4 - test_accuracy: 1.0\n",
      "finished experiment 5\n",
      "processing hyper-parameter 6 out of 9\n",
      "doing run 0 out of 5\n",
      "fixed rate, multiple epochs values\n"
     ]
    },
    {
     "name": "stdout",
     "output_type": "stream",
     "text": [
      "fitting model with 15 epochs\n",
      "epoch 0: accuracy: 0.63\n",
      "epoch 1: accuracy: 0.66\n",
      "epoch 2: accuracy: 0.6900000000000001\n",
      "epoch 3: accuracy: 0.7200000000000001\n",
      "epoch 4: accuracy: 0.7500000000000001\n",
      "epoch 5: accuracy: 0.7800000000000001\n",
      "epoch 6: accuracy: 0.8100000000000002\n",
      "epoch 7: accuracy: 0.8400000000000002\n",
      "epoch 8: accuracy: 0.8700000000000002\n",
      "epoch 9: accuracy: 0.9000000000000002\n",
      "epoch 10: accuracy: 0.9300000000000003\n",
      "epoch 11: accuracy: 0.9600000000000003\n",
      "epoch 12: accuracy: 0.9900000000000003\n",
      "epoch 13: accuracy: 1.0200000000000002\n",
      "epoch 14: accuracy: 1.0500000000000003\n",
      "registering\n",
      "fitting model with 15 epochs\n",
      "epoch 0: accuracy: 0.63\n",
      "epoch 1: accuracy: 0.66\n",
      "epoch 2: accuracy: 0.6900000000000001\n",
      "epoch 3: accuracy: 0.7200000000000001\n",
      "epoch 4: accuracy: 0.7500000000000001\n",
      "epoch 5: accuracy: 0.7800000000000001\n",
      "epoch 6: accuracy: 0.8100000000000002\n",
      "epoch 7: accuracy: 0.8400000000000002\n",
      "epoch 8: accuracy: 0.8700000000000002\n",
      "epoch 9: accuracy: 0.9000000000000002\n",
      "epoch 10: accuracy: 0.9300000000000003\n",
      "epoch 11: accuracy: 0.9600000000000003\n",
      "epoch 12: accuracy: 0.9900000000000003\n",
      "epoch 13: accuracy: 1.0200000000000002\n",
      "epoch 14: accuracy: 1.0500000000000003\n",
      "registering\n",
      "fitting model with 15 epochs\n",
      "epoch 0: accuracy: 0.63\n",
      "epoch 1: accuracy: 0.66\n",
      "epoch 2: accuracy: 0.6900000000000001\n",
      "epoch 3: accuracy: 0.7200000000000001\n",
      "epoch 4: accuracy: 0.7500000000000001\n",
      "epoch 5: accuracy: 0.7800000000000001\n",
      "epoch 6: accuracy: 0.8100000000000002\n",
      "epoch 7: accuracy: 0.8400000000000002\n",
      "epoch 8: accuracy: 0.8700000000000002\n",
      "epoch 9: accuracy: 0.9000000000000002\n",
      "epoch 10: accuracy: 0.9300000000000003\n",
      "epoch 11: accuracy: 0.9600000000000003\n",
      "epoch 12: accuracy: 0.9900000000000003\n",
      "epoch 13: accuracy: 1.0200000000000002\n",
      "epoch 14: accuracy: 1.0500000000000003\n",
      "registering\n",
      "fitting model with 15 epochs\n",
      "epoch 0: accuracy: 0.63\n",
      "epoch 1: accuracy: 0.66\n",
      "epoch 2: accuracy: 0.6900000000000001\n",
      "epoch 3: accuracy: 0.7200000000000001\n",
      "epoch 4: accuracy: 0.7500000000000001\n",
      "epoch 5: accuracy: 0.7800000000000001\n",
      "epoch 6: accuracy: 0.8100000000000002\n",
      "epoch 7: accuracy: 0.8400000000000002\n",
      "epoch 8: accuracy: 0.8700000000000002\n",
      "epoch 9: accuracy: 0.9000000000000002\n",
      "epoch 10: accuracy: 0.9300000000000003\n",
      "epoch 11: accuracy: 0.9600000000000003\n",
      "epoch 12: accuracy: 0.9900000000000003\n",
      "epoch 13: accuracy: 1.0200000000000002\n",
      "epoch 14: accuracy: 1.0500000000000003\n"
     ]
    },
    {
     "name": "stderr",
     "output_type": "stream",
     "text": [
      "running experiment 6\n",
      "run number: 0\n",
      "\n",
      "parameters:\n",
      "\tepochs=30,\n",
      "\tnoise=0.1,\n",
      "\toffset=0.1,\n",
      "\trate=0.03\n",
      "\n",
      "script: /mnt/athena/hpsearch/hpsearch/examples/dummy_experiment_manager.py, line number: 212\n",
      "time spent on this experiment: 0.0034155845642089844\n",
      "0 - validation_accuracy: 0.2927829924944443\n",
      "0 - test_accuracy: 0.22438088111441556\n",
      "finished experiment 6\n",
      "processing hyper-parameter 6 out of 9\n",
      "doing run 1 out of 5\n",
      "fixed rate, multiple epochs values\n",
      "running experiment 6\n",
      "run number: 1\n",
      "\n",
      "parameters:\n",
      "\tepochs=30,\n",
      "\tnoise=0.1,\n",
      "\toffset=0.1,\n",
      "\trate=0.03\n",
      "\n",
      "script: /mnt/athena/hpsearch/hpsearch/examples/dummy_experiment_manager.py, line number: 212\n",
      "time spent on this experiment: 0.0035212039947509766\n",
      "1 - validation_accuracy: 0.34913514267799656\n",
      "1 - test_accuracy: 0.4405446089782935\n",
      "finished experiment 6\n",
      "processing hyper-parameter 6 out of 9\n",
      "doing run 2 out of 5\n",
      "fixed rate, multiple epochs values\n",
      "running experiment 6\n",
      "run number: 2\n",
      "\n",
      "parameters:\n",
      "\tepochs=30,\n",
      "\tnoise=0.1,\n",
      "\toffset=0.1,\n",
      "\trate=0.03\n",
      "\n",
      "script: /mnt/athena/hpsearch/hpsearch/examples/dummy_experiment_manager.py, line number: 212\n",
      "time spent on this experiment: 0.0036177635192871094\n",
      "2 - validation_accuracy: 0.45556160759912556\n",
      "2 - test_accuracy: 0.17006638006543315\n",
      "finished experiment 6\n",
      "processing hyper-parameter 6 out of 9\n",
      "doing run 3 out of 5\n",
      "fixed rate, multiple epochs values\n"
     ]
    },
    {
     "name": "stdout",
     "output_type": "stream",
     "text": [
      "registering\n",
      "fitting model with 30 epochs\n",
      "epoch 0: accuracy: 0.13\n",
      "epoch 1: accuracy: 0.16\n",
      "epoch 2: accuracy: 0.19\n",
      "epoch 3: accuracy: 0.22\n",
      "epoch 4: accuracy: 0.25\n",
      "epoch 5: accuracy: 0.28\n",
      "epoch 6: accuracy: 0.31000000000000005\n",
      "epoch 7: accuracy: 0.3400000000000001\n",
      "epoch 8: accuracy: 0.3700000000000001\n",
      "epoch 9: accuracy: 0.40000000000000013\n",
      "epoch 10: accuracy: 0.43000000000000016\n",
      "epoch 11: accuracy: 0.4600000000000002\n",
      "epoch 12: accuracy: 0.4900000000000002\n",
      "epoch 13: accuracy: 0.5200000000000002\n",
      "epoch 14: accuracy: 0.5500000000000003\n",
      "epoch 15: accuracy: 0.5800000000000003\n",
      "epoch 16: accuracy: 0.6100000000000003\n",
      "epoch 17: accuracy: 0.6400000000000003\n",
      "epoch 18: accuracy: 0.6700000000000004\n",
      "epoch 19: accuracy: 0.7000000000000004\n",
      "epoch 20: accuracy: 0.6700000000000004\n",
      "epoch 21: accuracy: 0.6400000000000003\n",
      "epoch 22: accuracy: 0.6100000000000003\n",
      "epoch 23: accuracy: 0.5800000000000003\n",
      "epoch 24: accuracy: 0.5500000000000003\n",
      "epoch 25: accuracy: 0.5200000000000002\n",
      "epoch 26: accuracy: 0.4900000000000002\n",
      "epoch 27: accuracy: 0.4600000000000002\n",
      "epoch 28: accuracy: 0.43000000000000016\n",
      "epoch 29: accuracy: 0.40000000000000013\n",
      "registering\n",
      "fitting model with 30 epochs\n",
      "epoch 0: accuracy: 0.13\n",
      "epoch 1: accuracy: 0.16\n",
      "epoch 2: accuracy: 0.19\n",
      "epoch 3: accuracy: 0.22\n",
      "epoch 4: accuracy: 0.25\n",
      "epoch 5: accuracy: 0.28\n",
      "epoch 6: accuracy: 0.31000000000000005\n",
      "epoch 7: accuracy: 0.3400000000000001\n",
      "epoch 8: accuracy: 0.3700000000000001\n",
      "epoch 9: accuracy: 0.40000000000000013\n",
      "epoch 10: accuracy: 0.43000000000000016\n",
      "epoch 11: accuracy: 0.4600000000000002\n",
      "epoch 12: accuracy: 0.4900000000000002\n",
      "epoch 13: accuracy: 0.5200000000000002\n",
      "epoch 14: accuracy: 0.5500000000000003\n",
      "epoch 15: accuracy: 0.5800000000000003\n",
      "epoch 16: accuracy: 0.6100000000000003\n",
      "epoch 17: accuracy: 0.6400000000000003\n",
      "epoch 18: accuracy: 0.6700000000000004\n",
      "epoch 19: accuracy: 0.7000000000000004\n",
      "epoch 20: accuracy: 0.6700000000000004\n",
      "epoch 21: accuracy: 0.6400000000000003\n",
      "epoch 22: accuracy: 0.6100000000000003\n",
      "epoch 23: accuracy: 0.5800000000000003\n",
      "epoch 24: accuracy: 0.5500000000000003\n",
      "epoch 25: accuracy: 0.5200000000000002\n",
      "epoch 26: accuracy: 0.4900000000000002\n",
      "epoch 27: accuracy: 0.4600000000000002\n",
      "epoch 28: accuracy: 0.43000000000000016\n",
      "epoch 29: accuracy: 0.40000000000000013\n",
      "registering\n",
      "fitting model with 30 epochs\n",
      "epoch 0: accuracy: 0.13\n",
      "epoch 1: accuracy: 0.16\n",
      "epoch 2: accuracy: 0.19\n",
      "epoch 3: accuracy: 0.22\n",
      "epoch 4: accuracy: 0.25\n",
      "epoch 5: accuracy: 0.28\n",
      "epoch 6: accuracy: 0.31000000000000005\n",
      "epoch 7: accuracy: 0.3400000000000001\n",
      "epoch 8: accuracy: 0.3700000000000001\n",
      "epoch 9: accuracy: 0.40000000000000013\n",
      "epoch 10: accuracy: 0.43000000000000016\n",
      "epoch 11: accuracy: 0.4600000000000002\n",
      "epoch 12: accuracy: 0.4900000000000002\n",
      "epoch 13: accuracy: 0.5200000000000002\n",
      "epoch 14: accuracy: 0.5500000000000003\n",
      "epoch 15: accuracy: 0.5800000000000003\n",
      "epoch 16: accuracy: 0.6100000000000003\n",
      "epoch 17: accuracy: 0.6400000000000003\n",
      "epoch 18: accuracy: 0.6700000000000004\n",
      "epoch 19: accuracy: 0.7000000000000004\n",
      "epoch 20: accuracy: 0.6700000000000004\n",
      "epoch 21: accuracy: 0.6400000000000003\n",
      "epoch 22: accuracy: 0.6100000000000003\n",
      "epoch 23: accuracy: 0.5800000000000003\n",
      "epoch 24: accuracy: 0.5500000000000003\n",
      "epoch 25: accuracy: 0.5200000000000002\n",
      "epoch 26: accuracy: 0.4900000000000002\n",
      "epoch 27: accuracy: 0.4600000000000002\n",
      "epoch 28: accuracy: 0.43000000000000016\n",
      "epoch 29: accuracy: 0.40000000000000013\n",
      "registering\n"
     ]
    },
    {
     "name": "stderr",
     "output_type": "stream",
     "text": [
      "running experiment 6\n",
      "run number: 3\n",
      "\n",
      "parameters:\n",
      "\tepochs=30,\n",
      "\tnoise=0.1,\n",
      "\toffset=0.1,\n",
      "\trate=0.03\n",
      "\n",
      "script: /mnt/athena/hpsearch/hpsearch/examples/dummy_experiment_manager.py, line number: 212\n",
      "time spent on this experiment: 0.0033202171325683594\n",
      "3 - validation_accuracy: 0.5163581812849081\n",
      "3 - test_accuracy: 0.40204752824966417\n",
      "finished experiment 6\n",
      "processing hyper-parameter 6 out of 9\n",
      "doing run 4 out of 5\n",
      "fixed rate, multiple epochs values\n",
      "running experiment 6\n",
      "run number: 4\n",
      "\n",
      "parameters:\n",
      "\tepochs=30,\n",
      "\tnoise=0.1,\n",
      "\toffset=0.1,\n",
      "\trate=0.03\n",
      "\n",
      "script: /mnt/athena/hpsearch/hpsearch/examples/dummy_experiment_manager.py, line number: 212\n",
      "time spent on this experiment: 0.0031888484954833984\n",
      "4 - validation_accuracy: 0.46724938643031977\n",
      "4 - test_accuracy: 0.2839313680388093\n",
      "finished experiment 6\n",
      "processing hyper-parameter 7 out of 9\n",
      "doing run 0 out of 5\n",
      "fixed rate, multiple epochs values\n",
      "running experiment 7\n",
      "run number: 0\n",
      "\n",
      "parameters:\n",
      "\tepochs=30,\n",
      "\tnoise=0.1,\n",
      "\toffset=0.3,\n",
      "\trate=0.03\n",
      "\n",
      "script: /mnt/athena/hpsearch/hpsearch/examples/dummy_experiment_manager.py, line number: 212\n",
      "time spent on this experiment: 0.0036199092864990234\n",
      "0 - validation_accuracy: 0.49849694837200126\n",
      "0 - test_accuracy: 0.3831492385019192\n",
      "finished experiment 7\n",
      "processing hyper-parameter 7 out of 9\n",
      "doing run 1 out of 5\n",
      "fixed rate, multiple epochs values\n",
      "running experiment 7\n",
      "run number: 1\n",
      "\n",
      "parameters:\n",
      "\tepochs=30,\n",
      "\tnoise=0.1,\n",
      "\toffset=0.3,\n",
      "\trate=0.03\n",
      "\n",
      "script: /mnt/athena/hpsearch/hpsearch/examples/dummy_experiment_manager.py, line number: 212\n"
     ]
    },
    {
     "name": "stdout",
     "output_type": "stream",
     "text": [
      "fitting model with 30 epochs\n",
      "epoch 0: accuracy: 0.13\n",
      "epoch 1: accuracy: 0.16\n",
      "epoch 2: accuracy: 0.19\n",
      "epoch 3: accuracy: 0.22\n",
      "epoch 4: accuracy: 0.25\n",
      "epoch 5: accuracy: 0.28\n",
      "epoch 6: accuracy: 0.31000000000000005\n",
      "epoch 7: accuracy: 0.3400000000000001\n",
      "epoch 8: accuracy: 0.3700000000000001\n",
      "epoch 9: accuracy: 0.40000000000000013\n",
      "epoch 10: accuracy: 0.43000000000000016\n",
      "epoch 11: accuracy: 0.4600000000000002\n",
      "epoch 12: accuracy: 0.4900000000000002\n",
      "epoch 13: accuracy: 0.5200000000000002\n",
      "epoch 14: accuracy: 0.5500000000000003\n",
      "epoch 15: accuracy: 0.5800000000000003\n",
      "epoch 16: accuracy: 0.6100000000000003\n",
      "epoch 17: accuracy: 0.6400000000000003\n",
      "epoch 18: accuracy: 0.6700000000000004\n",
      "epoch 19: accuracy: 0.7000000000000004\n",
      "epoch 20: accuracy: 0.6700000000000004\n",
      "epoch 21: accuracy: 0.6400000000000003\n",
      "epoch 22: accuracy: 0.6100000000000003\n",
      "epoch 23: accuracy: 0.5800000000000003\n",
      "epoch 24: accuracy: 0.5500000000000003\n",
      "epoch 25: accuracy: 0.5200000000000002\n",
      "epoch 26: accuracy: 0.4900000000000002\n",
      "epoch 27: accuracy: 0.4600000000000002\n",
      "epoch 28: accuracy: 0.43000000000000016\n",
      "epoch 29: accuracy: 0.40000000000000013\n",
      "registering\n",
      "fitting model with 30 epochs\n",
      "epoch 0: accuracy: 0.13\n",
      "epoch 1: accuracy: 0.16\n",
      "epoch 2: accuracy: 0.19\n",
      "epoch 3: accuracy: 0.22\n",
      "epoch 4: accuracy: 0.25\n",
      "epoch 5: accuracy: 0.28\n",
      "epoch 6: accuracy: 0.31000000000000005\n",
      "epoch 7: accuracy: 0.3400000000000001\n",
      "epoch 8: accuracy: 0.3700000000000001\n",
      "epoch 9: accuracy: 0.40000000000000013\n",
      "epoch 10: accuracy: 0.43000000000000016\n",
      "epoch 11: accuracy: 0.4600000000000002\n",
      "epoch 12: accuracy: 0.4900000000000002\n",
      "epoch 13: accuracy: 0.5200000000000002\n",
      "epoch 14: accuracy: 0.5500000000000003\n",
      "epoch 15: accuracy: 0.5800000000000003\n",
      "epoch 16: accuracy: 0.6100000000000003\n",
      "epoch 17: accuracy: 0.6400000000000003\n",
      "epoch 18: accuracy: 0.6700000000000004\n",
      "epoch 19: accuracy: 0.7000000000000004\n",
      "epoch 20: accuracy: 0.6700000000000004\n",
      "epoch 21: accuracy: 0.6400000000000003\n",
      "epoch 22: accuracy: 0.6100000000000003\n",
      "epoch 23: accuracy: 0.5800000000000003\n",
      "epoch 24: accuracy: 0.5500000000000003\n",
      "epoch 25: accuracy: 0.5200000000000002\n",
      "epoch 26: accuracy: 0.4900000000000002\n",
      "epoch 27: accuracy: 0.4600000000000002\n",
      "epoch 28: accuracy: 0.43000000000000016\n",
      "epoch 29: accuracy: 0.40000000000000013\n",
      "registering\n",
      "fitting model with 30 epochs\n",
      "epoch 0: accuracy: 0.32999999999999996\n",
      "epoch 1: accuracy: 0.36\n",
      "epoch 2: accuracy: 0.39\n",
      "epoch 3: accuracy: 0.42000000000000004\n",
      "epoch 4: accuracy: 0.45000000000000007\n",
      "epoch 5: accuracy: 0.4800000000000001\n",
      "epoch 6: accuracy: 0.5100000000000001\n",
      "epoch 7: accuracy: 0.5400000000000001\n",
      "epoch 8: accuracy: 0.5700000000000002\n",
      "epoch 9: accuracy: 0.6000000000000002\n",
      "epoch 10: accuracy: 0.6300000000000002\n",
      "epoch 11: accuracy: 0.6600000000000003\n",
      "epoch 12: accuracy: 0.6900000000000003\n",
      "epoch 13: accuracy: 0.7200000000000003\n",
      "epoch 14: accuracy: 0.7500000000000003\n",
      "epoch 15: accuracy: 0.7800000000000004\n",
      "epoch 16: accuracy: 0.8100000000000004\n",
      "epoch 17: accuracy: 0.8400000000000004\n",
      "epoch 18: accuracy: 0.8700000000000004\n",
      "epoch 19: accuracy: 0.9000000000000005\n",
      "epoch 20: accuracy: 0.8700000000000004\n",
      "epoch 21: accuracy: 0.8400000000000004\n",
      "epoch 22: accuracy: 0.8100000000000004\n",
      "epoch 23: accuracy: 0.7800000000000004\n",
      "epoch 24: accuracy: 0.7500000000000003\n",
      "epoch 25: accuracy: 0.7200000000000003\n",
      "epoch 26: accuracy: 0.6900000000000003\n",
      "epoch 27: accuracy: 0.6600000000000003\n",
      "epoch 28: accuracy: 0.6300000000000002\n",
      "epoch 29: accuracy: 0.6000000000000002\n",
      "registering\n"
     ]
    },
    {
     "name": "stderr",
     "output_type": "stream",
     "text": [
      "time spent on this experiment: 0.004697322845458984\n",
      "1 - validation_accuracy: 0.5635754688642789\n",
      "1 - test_accuracy: 0.5321846062356068\n",
      "finished experiment 7\n",
      "processing hyper-parameter 7 out of 9\n",
      "doing run 2 out of 5\n",
      "fixed rate, multiple epochs values\n",
      "running experiment 7\n",
      "run number: 2\n",
      "\n",
      "parameters:\n",
      "\tepochs=30,\n",
      "\tnoise=0.1,\n",
      "\toffset=0.3,\n",
      "\trate=0.03\n",
      "\n",
      "script: /mnt/athena/hpsearch/hpsearch/examples/dummy_experiment_manager.py, line number: 212\n",
      "time spent on this experiment: 0.003275156021118164\n",
      "2 - validation_accuracy: 0.5662112305583923\n",
      "2 - test_accuracy: 0.5982782617229508\n",
      "finished experiment 7\n",
      "processing hyper-parameter 7 out of 9\n",
      "doing run 3 out of 5\n",
      "fixed rate, multiple epochs values\n",
      "running experiment 7\n",
      "run number: 3\n",
      "\n",
      "parameters:\n",
      "\tepochs=30,\n",
      "\tnoise=0.1,\n",
      "\toffset=0.3,\n",
      "\trate=0.03\n",
      "\n",
      "script: /mnt/athena/hpsearch/hpsearch/examples/dummy_experiment_manager.py, line number: 212\n",
      "time spent on this experiment: 0.003377676010131836\n",
      "3 - validation_accuracy: 0.5938375720740909\n",
      "3 - test_accuracy: 0.6296580667871248\n",
      "finished experiment 7\n",
      "processing hyper-parameter 7 out of 9\n",
      "doing run 4 out of 5\n",
      "fixed rate, multiple epochs values\n",
      "running experiment 7\n",
      "run number: 4\n",
      "\n",
      "parameters:\n",
      "\tepochs=30,\n",
      "\tnoise=0.1,\n",
      "\toffset=0.3,\n",
      "\trate=0.03\n",
      "\n",
      "script: /mnt/athena/hpsearch/hpsearch/examples/dummy_experiment_manager.py, line number: 212\n"
     ]
    },
    {
     "name": "stdout",
     "output_type": "stream",
     "text": [
      "fitting model with 30 epochs\n",
      "epoch 0: accuracy: 0.32999999999999996\n",
      "epoch 1: accuracy: 0.36\n",
      "epoch 2: accuracy: 0.39\n",
      "epoch 3: accuracy: 0.42000000000000004\n",
      "epoch 4: accuracy: 0.45000000000000007\n",
      "epoch 5: accuracy: 0.4800000000000001\n",
      "epoch 6: accuracy: 0.5100000000000001\n",
      "epoch 7: accuracy: 0.5400000000000001\n",
      "epoch 8: accuracy: 0.5700000000000002\n",
      "epoch 9: accuracy: 0.6000000000000002\n",
      "epoch 10: accuracy: 0.6300000000000002\n",
      "epoch 11: accuracy: 0.6600000000000003\n",
      "epoch 12: accuracy: 0.6900000000000003\n",
      "epoch 13: accuracy: 0.7200000000000003\n",
      "epoch 14: accuracy: 0.7500000000000003\n",
      "epoch 15: accuracy: 0.7800000000000004\n",
      "epoch 16: accuracy: 0.8100000000000004\n",
      "epoch 17: accuracy: 0.8400000000000004\n",
      "epoch 18: accuracy: 0.8700000000000004\n",
      "epoch 19: accuracy: 0.9000000000000005\n",
      "epoch 20: accuracy: 0.8700000000000004\n",
      "epoch 21: accuracy: 0.8400000000000004\n",
      "epoch 22: accuracy: 0.8100000000000004\n",
      "epoch 23: accuracy: 0.7800000000000004\n",
      "epoch 24: accuracy: 0.7500000000000003\n",
      "epoch 25: accuracy: 0.7200000000000003\n",
      "epoch 26: accuracy: 0.6900000000000003\n",
      "epoch 27: accuracy: 0.6600000000000003\n",
      "epoch 28: accuracy: 0.6300000000000002\n",
      "epoch 29: accuracy: 0.6000000000000002\n",
      "registering\n",
      "fitting model with 30 epochs\n",
      "epoch 0: accuracy: 0.32999999999999996\n",
      "epoch 1: accuracy: 0.36\n",
      "epoch 2: accuracy: 0.39\n",
      "epoch 3: accuracy: 0.42000000000000004\n",
      "epoch 4: accuracy: 0.45000000000000007\n",
      "epoch 5: accuracy: 0.4800000000000001\n",
      "epoch 6: accuracy: 0.5100000000000001\n",
      "epoch 7: accuracy: 0.5400000000000001\n",
      "epoch 8: accuracy: 0.5700000000000002\n",
      "epoch 9: accuracy: 0.6000000000000002\n",
      "epoch 10: accuracy: 0.6300000000000002\n",
      "epoch 11: accuracy: 0.6600000000000003\n",
      "epoch 12: accuracy: 0.6900000000000003\n",
      "epoch 13: accuracy: 0.7200000000000003\n",
      "epoch 14: accuracy: 0.7500000000000003\n",
      "epoch 15: accuracy: 0.7800000000000004\n",
      "epoch 16: accuracy: 0.8100000000000004\n",
      "epoch 17: accuracy: 0.8400000000000004\n",
      "epoch 18: accuracy: 0.8700000000000004\n",
      "epoch 19: accuracy: 0.9000000000000005\n",
      "epoch 20: accuracy: 0.8700000000000004\n",
      "epoch 21: accuracy: 0.8400000000000004\n",
      "epoch 22: accuracy: 0.8100000000000004\n",
      "epoch 23: accuracy: 0.7800000000000004\n",
      "epoch 24: accuracy: 0.7500000000000003\n",
      "epoch 25: accuracy: 0.7200000000000003\n",
      "epoch 26: accuracy: 0.6900000000000003\n",
      "epoch 27: accuracy: 0.6600000000000003\n",
      "epoch 28: accuracy: 0.6300000000000002\n",
      "epoch 29: accuracy: 0.6000000000000002\n",
      "registering\n",
      "fitting model with 30 epochs\n",
      "epoch 0: accuracy: 0.32999999999999996\n",
      "epoch 1: accuracy: 0.36\n",
      "epoch 2: accuracy: 0.39\n",
      "epoch 3: accuracy: 0.42000000000000004\n",
      "epoch 4: accuracy: 0.45000000000000007\n",
      "epoch 5: accuracy: 0.4800000000000001\n",
      "epoch 6: accuracy: 0.5100000000000001\n",
      "epoch 7: accuracy: 0.5400000000000001\n",
      "epoch 8: accuracy: 0.5700000000000002\n",
      "epoch 9: accuracy: 0.6000000000000002\n",
      "epoch 10: accuracy: 0.6300000000000002\n",
      "epoch 11: accuracy: 0.6600000000000003\n",
      "epoch 12: accuracy: 0.6900000000000003\n",
      "epoch 13: accuracy: 0.7200000000000003\n",
      "epoch 14: accuracy: 0.7500000000000003\n",
      "epoch 15: accuracy: 0.7800000000000004\n",
      "epoch 16: accuracy: 0.8100000000000004\n",
      "epoch 17: accuracy: 0.8400000000000004\n",
      "epoch 18: accuracy: 0.8700000000000004\n",
      "epoch 19: accuracy: 0.9000000000000005\n",
      "epoch 20: accuracy: 0.8700000000000004\n",
      "epoch 21: accuracy: 0.8400000000000004\n",
      "epoch 22: accuracy: 0.8100000000000004\n",
      "epoch 23: accuracy: 0.7800000000000004\n",
      "epoch 24: accuracy: 0.7500000000000003\n",
      "epoch 25: accuracy: 0.7200000000000003\n",
      "epoch 26: accuracy: 0.6900000000000003\n",
      "epoch 27: accuracy: 0.6600000000000003\n",
      "epoch 28: accuracy: 0.6300000000000002\n",
      "epoch 29: accuracy: 0.6000000000000002\n",
      "registering\n",
      "fitting model with 30 epochs\n",
      "epoch 0: accuracy: 0.32999999999999996\n",
      "epoch 1: accuracy: 0.36\n",
      "epoch 2: accuracy: 0.39\n",
      "epoch 3: accuracy: 0.42000000000000004\n",
      "epoch 4: accuracy: 0.45000000000000007\n",
      "epoch 5: accuracy: 0.4800000000000001\n",
      "epoch 6: accuracy: 0.5100000000000001\n",
      "epoch 7: accuracy: 0.5400000000000001\n",
      "epoch 8: accuracy: 0.5700000000000002\n",
      "epoch 9: accuracy: 0.6000000000000002\n",
      "epoch 10: accuracy: 0.6300000000000002\n",
      "epoch 11: accuracy: 0.6600000000000003\n",
      "epoch 12: accuracy: 0.6900000000000003\n",
      "epoch 13: accuracy: 0.7200000000000003\n",
      "epoch 14: accuracy: 0.7500000000000003\n",
      "epoch 15: accuracy: 0.7800000000000004\n",
      "epoch 16: accuracy: 0.8100000000000004\n",
      "epoch 17: accuracy: 0.8400000000000004\n",
      "epoch 18: accuracy: 0.8700000000000004\n",
      "epoch 19: accuracy: 0.9000000000000005\n",
      "epoch 20: accuracy: 0.8700000000000004\n",
      "epoch 21: accuracy: 0.8400000000000004\n",
      "epoch 22: accuracy: 0.8100000000000004\n",
      "epoch 23: accuracy: 0.7800000000000004\n",
      "epoch 24: accuracy: 0.7500000000000003\n",
      "epoch 25: accuracy: 0.7200000000000003\n",
      "epoch 26: accuracy: 0.6900000000000003\n",
      "epoch 27: accuracy: 0.6600000000000003\n",
      "epoch 28: accuracy: 0.6300000000000002\n",
      "epoch 29: accuracy: 0.6000000000000002\n"
     ]
    },
    {
     "name": "stderr",
     "output_type": "stream",
     "text": [
      "time spent on this experiment: 0.003997325897216797\n",
      "4 - validation_accuracy: 0.4360904178918894\n",
      "4 - test_accuracy: 0.4870391121940211\n",
      "finished experiment 7\n",
      "processing hyper-parameter 8 out of 9\n",
      "doing run 0 out of 5\n",
      "fixed rate, multiple epochs values\n",
      "running experiment 8\n",
      "run number: 0\n",
      "\n",
      "parameters:\n",
      "\tepochs=30,\n",
      "\tnoise=0.1,\n",
      "\toffset=0.6,\n",
      "\trate=0.03\n",
      "\n",
      "script: /mnt/athena/hpsearch/hpsearch/examples/dummy_experiment_manager.py, line number: 212\n",
      "time spent on this experiment: 0.0033817291259765625\n",
      "0 - validation_accuracy: 1.0\n",
      "0 - test_accuracy: 0.7734307464799904\n",
      "finished experiment 8\n",
      "processing hyper-parameter 8 out of 9\n",
      "doing run 1 out of 5\n",
      "fixed rate, multiple epochs values\n",
      "running experiment 8\n",
      "run number: 1\n",
      "\n",
      "parameters:\n",
      "\tepochs=30,\n",
      "\tnoise=0.1,\n",
      "\toffset=0.6,\n",
      "\trate=0.03\n",
      "\n",
      "script: /mnt/athena/hpsearch/hpsearch/examples/dummy_experiment_manager.py, line number: 212\n",
      "time spent on this experiment: 0.003239154815673828\n",
      "1 - validation_accuracy: 1.0\n",
      "1 - test_accuracy: 0.8413861631116624\n",
      "finished experiment 8\n",
      "processing hyper-parameter 8 out of 9\n",
      "doing run 2 out of 5\n",
      "fixed rate, multiple epochs values\n",
      "running experiment 8\n",
      "run number: 2\n",
      "\n",
      "parameters:\n",
      "\tepochs=30,\n",
      "\tnoise=0.1,\n",
      "\toffset=0.6,\n",
      "\trate=0.03\n",
      "\n",
      "script: /mnt/athena/hpsearch/hpsearch/examples/dummy_experiment_manager.py, line number: 212\n",
      "time spent on this experiment: 0.003893613815307617\n",
      "2 - validation_accuracy: 1.0\n",
      "2 - test_accuracy: 0.6358769441855616\n"
     ]
    },
    {
     "name": "stdout",
     "output_type": "stream",
     "text": [
      "registering\n",
      "fitting model with 30 epochs\n",
      "epoch 0: accuracy: 0.63\n",
      "epoch 1: accuracy: 0.66\n",
      "epoch 2: accuracy: 0.6900000000000001\n",
      "epoch 3: accuracy: 0.7200000000000001\n",
      "epoch 4: accuracy: 0.7500000000000001\n",
      "epoch 5: accuracy: 0.7800000000000001\n",
      "epoch 6: accuracy: 0.8100000000000002\n",
      "epoch 7: accuracy: 0.8400000000000002\n",
      "epoch 8: accuracy: 0.8700000000000002\n",
      "epoch 9: accuracy: 0.9000000000000002\n",
      "epoch 10: accuracy: 0.9300000000000003\n",
      "epoch 11: accuracy: 0.9600000000000003\n",
      "epoch 12: accuracy: 0.9900000000000003\n",
      "epoch 13: accuracy: 1.0200000000000002\n",
      "epoch 14: accuracy: 1.0500000000000003\n",
      "epoch 15: accuracy: 1.0800000000000003\n",
      "epoch 16: accuracy: 1.1100000000000003\n",
      "epoch 17: accuracy: 1.1400000000000003\n",
      "epoch 18: accuracy: 1.1700000000000004\n",
      "epoch 19: accuracy: 1.2000000000000004\n",
      "epoch 20: accuracy: 1.1700000000000004\n",
      "epoch 21: accuracy: 1.1400000000000003\n",
      "epoch 22: accuracy: 1.1100000000000003\n",
      "epoch 23: accuracy: 1.0800000000000003\n",
      "epoch 24: accuracy: 1.0500000000000003\n",
      "epoch 25: accuracy: 1.0200000000000002\n",
      "epoch 26: accuracy: 0.9900000000000002\n",
      "epoch 27: accuracy: 0.9600000000000002\n",
      "epoch 28: accuracy: 0.9300000000000002\n",
      "epoch 29: accuracy: 0.9000000000000001\n",
      "registering\n",
      "fitting model with 30 epochs\n",
      "epoch 0: accuracy: 0.63\n",
      "epoch 1: accuracy: 0.66\n",
      "epoch 2: accuracy: 0.6900000000000001\n",
      "epoch 3: accuracy: 0.7200000000000001\n",
      "epoch 4: accuracy: 0.7500000000000001\n",
      "epoch 5: accuracy: 0.7800000000000001\n",
      "epoch 6: accuracy: 0.8100000000000002\n",
      "epoch 7: accuracy: 0.8400000000000002\n",
      "epoch 8: accuracy: 0.8700000000000002\n",
      "epoch 9: accuracy: 0.9000000000000002\n",
      "epoch 10: accuracy: 0.9300000000000003\n",
      "epoch 11: accuracy: 0.9600000000000003\n",
      "epoch 12: accuracy: 0.9900000000000003\n",
      "epoch 13: accuracy: 1.0200000000000002\n",
      "epoch 14: accuracy: 1.0500000000000003\n",
      "epoch 15: accuracy: 1.0800000000000003\n",
      "epoch 16: accuracy: 1.1100000000000003\n",
      "epoch 17: accuracy: 1.1400000000000003\n",
      "epoch 18: accuracy: 1.1700000000000004\n",
      "epoch 19: accuracy: 1.2000000000000004\n",
      "epoch 20: accuracy: 1.1700000000000004\n",
      "epoch 21: accuracy: 1.1400000000000003\n",
      "epoch 22: accuracy: 1.1100000000000003\n",
      "epoch 23: accuracy: 1.0800000000000003\n",
      "epoch 24: accuracy: 1.0500000000000003\n",
      "epoch 25: accuracy: 1.0200000000000002\n",
      "epoch 26: accuracy: 0.9900000000000002\n",
      "epoch 27: accuracy: 0.9600000000000002\n",
      "epoch 28: accuracy: 0.9300000000000002\n",
      "epoch 29: accuracy: 0.9000000000000001\n",
      "registering\n",
      "fitting model with 30 epochs\n",
      "epoch 0: accuracy: 0.63\n",
      "epoch 1: accuracy: 0.66\n",
      "epoch 2: accuracy: 0.6900000000000001\n",
      "epoch 3: accuracy: 0.7200000000000001\n",
      "epoch 4: accuracy: 0.7500000000000001\n",
      "epoch 5: accuracy: 0.7800000000000001\n",
      "epoch 6: accuracy: 0.8100000000000002\n",
      "epoch 7: accuracy: 0.8400000000000002\n",
      "epoch 8: accuracy: 0.8700000000000002\n",
      "epoch 9: accuracy: 0.9000000000000002\n",
      "epoch 10: accuracy: 0.9300000000000003\n",
      "epoch 11: accuracy: 0.9600000000000003\n",
      "epoch 12: accuracy: 0.9900000000000003\n",
      "epoch 13: accuracy: 1.0200000000000002\n",
      "epoch 14: accuracy: 1.0500000000000003\n",
      "epoch 15: accuracy: 1.0800000000000003\n",
      "epoch 16: accuracy: 1.1100000000000003\n",
      "epoch 17: accuracy: 1.1400000000000003\n",
      "epoch 18: accuracy: 1.1700000000000004\n",
      "epoch 19: accuracy: 1.2000000000000004\n",
      "epoch 20: accuracy: 1.1700000000000004\n",
      "epoch 21: accuracy: 1.1400000000000003\n",
      "epoch 22: accuracy: 1.1100000000000003\n",
      "epoch 23: accuracy: 1.0800000000000003\n",
      "epoch 24: accuracy: 1.0500000000000003\n",
      "epoch 25: accuracy: 1.0200000000000002\n",
      "epoch 26: accuracy: 0.9900000000000002\n",
      "epoch 27: accuracy: 0.9600000000000002\n",
      "epoch 28: accuracy: 0.9300000000000002\n",
      "epoch 29: accuracy: 0.9000000000000001\n"
     ]
    },
    {
     "name": "stderr",
     "output_type": "stream",
     "text": [
      "finished experiment 8\n",
      "processing hyper-parameter 8 out of 9\n",
      "doing run 3 out of 5\n",
      "fixed rate, multiple epochs values\n",
      "running experiment 8\n",
      "run number: 3\n",
      "\n",
      "parameters:\n",
      "\tepochs=30,\n",
      "\tnoise=0.1,\n",
      "\toffset=0.6,\n",
      "\trate=0.03\n",
      "\n",
      "script: /mnt/athena/hpsearch/hpsearch/examples/dummy_experiment_manager.py, line number: 212\n",
      "time spent on this experiment: 0.003570079803466797\n",
      "3 - validation_accuracy: 0.9065438301025369\n",
      "3 - test_accuracy: 0.6185103662678293\n",
      "finished experiment 8\n",
      "processing hyper-parameter 8 out of 9\n",
      "doing run 4 out of 5\n",
      "fixed rate, multiple epochs values\n",
      "running experiment 8\n",
      "run number: 4\n",
      "\n",
      "parameters:\n",
      "\tepochs=30,\n",
      "\tnoise=0.1,\n",
      "\toffset=0.6,\n",
      "\trate=0.03\n",
      "\n",
      "script: /mnt/athena/hpsearch/hpsearch/examples/dummy_experiment_manager.py, line number: 212\n",
      "time spent on this experiment: 0.0032148361206054688\n",
      "4 - validation_accuracy: 0.8324330871750214\n",
      "4 - test_accuracy: 0.7120719535193413\n",
      "finished experiment 8\n"
     ]
    },
    {
     "name": "stdout",
     "output_type": "stream",
     "text": [
      "registering\n",
      "fitting model with 30 epochs\n",
      "epoch 0: accuracy: 0.63\n",
      "epoch 1: accuracy: 0.66\n",
      "epoch 2: accuracy: 0.6900000000000001\n",
      "epoch 3: accuracy: 0.7200000000000001\n",
      "epoch 4: accuracy: 0.7500000000000001\n",
      "epoch 5: accuracy: 0.7800000000000001\n",
      "epoch 6: accuracy: 0.8100000000000002\n",
      "epoch 7: accuracy: 0.8400000000000002\n",
      "epoch 8: accuracy: 0.8700000000000002\n",
      "epoch 9: accuracy: 0.9000000000000002\n",
      "epoch 10: accuracy: 0.9300000000000003\n",
      "epoch 11: accuracy: 0.9600000000000003\n",
      "epoch 12: accuracy: 0.9900000000000003\n",
      "epoch 13: accuracy: 1.0200000000000002\n",
      "epoch 14: accuracy: 1.0500000000000003\n",
      "epoch 15: accuracy: 1.0800000000000003\n",
      "epoch 16: accuracy: 1.1100000000000003\n",
      "epoch 17: accuracy: 1.1400000000000003\n",
      "epoch 18: accuracy: 1.1700000000000004\n",
      "epoch 19: accuracy: 1.2000000000000004\n",
      "epoch 20: accuracy: 1.1700000000000004\n",
      "epoch 21: accuracy: 1.1400000000000003\n",
      "epoch 22: accuracy: 1.1100000000000003\n",
      "epoch 23: accuracy: 1.0800000000000003\n",
      "epoch 24: accuracy: 1.0500000000000003\n",
      "epoch 25: accuracy: 1.0200000000000002\n",
      "epoch 26: accuracy: 0.9900000000000002\n",
      "epoch 27: accuracy: 0.9600000000000002\n",
      "epoch 28: accuracy: 0.9300000000000002\n",
      "epoch 29: accuracy: 0.9000000000000001\n",
      "registering\n",
      "fitting model with 30 epochs\n",
      "epoch 0: accuracy: 0.63\n",
      "epoch 1: accuracy: 0.66\n",
      "epoch 2: accuracy: 0.6900000000000001\n",
      "epoch 3: accuracy: 0.7200000000000001\n",
      "epoch 4: accuracy: 0.7500000000000001\n",
      "epoch 5: accuracy: 0.7800000000000001\n",
      "epoch 6: accuracy: 0.8100000000000002\n",
      "epoch 7: accuracy: 0.8400000000000002\n",
      "epoch 8: accuracy: 0.8700000000000002\n",
      "epoch 9: accuracy: 0.9000000000000002\n",
      "epoch 10: accuracy: 0.9300000000000003\n",
      "epoch 11: accuracy: 0.9600000000000003\n",
      "epoch 12: accuracy: 0.9900000000000003\n",
      "epoch 13: accuracy: 1.0200000000000002\n",
      "epoch 14: accuracy: 1.0500000000000003\n",
      "epoch 15: accuracy: 1.0800000000000003\n",
      "epoch 16: accuracy: 1.1100000000000003\n",
      "epoch 17: accuracy: 1.1400000000000003\n",
      "epoch 18: accuracy: 1.1700000000000004\n",
      "epoch 19: accuracy: 1.2000000000000004\n",
      "epoch 20: accuracy: 1.1700000000000004\n",
      "epoch 21: accuracy: 1.1400000000000003\n",
      "epoch 22: accuracy: 1.1100000000000003\n",
      "epoch 23: accuracy: 1.0800000000000003\n",
      "epoch 24: accuracy: 1.0500000000000003\n",
      "epoch 25: accuracy: 1.0200000000000002\n",
      "epoch 26: accuracy: 0.9900000000000002\n",
      "epoch 27: accuracy: 0.9600000000000002\n",
      "epoch 28: accuracy: 0.9300000000000002\n",
      "epoch 29: accuracy: 0.9000000000000001\n",
      "using import method 1"
     ]
    },
    {
     "name": "stderr",
     "output_type": "stream",
     "text": [
      "experiment script: /mnt/athena/hpsearch/hpsearch/examples/dummy_experiment_manager.py, line: 212\n",
      "processing hyper-parameter 0 out of 9\n",
      "doing run 0 out of 5\n",
      "fixed rate, multiple epochs values\n",
      "running experiment 9\n",
      "run number: 0\n",
      "\n",
      "parameters:\n",
      "\tepochs=5,\n",
      "\tnoise=0.1,\n",
      "\toffset=0.1,\n",
      "\trate=0.1\n",
      "\n",
      "script: /mnt/athena/hpsearch/hpsearch/examples/dummy_experiment_manager.py, line number: 212\n",
      "time spent on this experiment: 0.0008871555328369141\n",
      "0 - validation_accuracy: 0.6760419532668581\n",
      "0 - test_accuracy: 0.757044274072341\n",
      "finished experiment 9\n",
      "processing hyper-parameter 0 out of 9\n",
      "doing run 1 out of 5\n",
      "fixed rate, multiple epochs values\n",
      "running experiment 9\n",
      "run number: 1\n",
      "\n",
      "parameters:\n",
      "\tepochs=5,\n",
      "\tnoise=0.1,\n",
      "\toffset=0.1,\n",
      "\trate=0.1\n",
      "\n",
      "script: /mnt/athena/hpsearch/hpsearch/examples/dummy_experiment_manager.py, line number: 212\n",
      "time spent on this experiment: 0.0009765625\n",
      "1 - validation_accuracy: 0.5721439265061625\n",
      "1 - test_accuracy: 0.6683890283470186\n",
      "finished experiment 9\n",
      "processing hyper-parameter 0 out of 9\n",
      "doing run 2 out of 5\n",
      "fixed rate, multiple epochs values\n",
      "running experiment 9\n",
      "run number: 2\n",
      "\n",
      "parameters:\n",
      "\tepochs=5,\n",
      "\tnoise=0.1,\n",
      "\toffset=0.1,\n",
      "\trate=0.1\n",
      "\n",
      "script: /mnt/athena/hpsearch/hpsearch/examples/dummy_experiment_manager.py, line number: 212\n",
      "time spent on this experiment: 0.0008749961853027344\n",
      "2 - validation_accuracy: 0.48291338704168674\n",
      "2 - test_accuracy: 0.59020515776807\n"
     ]
    },
    {
     "name": "stdout",
     "output_type": "stream",
     "text": [
      "\n",
      "registering\n",
      "fitting model with 5 epochs\n",
      "epoch 0: accuracy: 0.2\n",
      "epoch 1: accuracy: 0.30000000000000004\n",
      "epoch 2: accuracy: 0.4\n",
      "epoch 3: accuracy: 0.5\n",
      "epoch 4: accuracy: 0.6\n",
      "registering\n",
      "fitting model with 5 epochs\n",
      "epoch 0: accuracy: 0.2\n",
      "epoch 1: accuracy: 0.30000000000000004\n",
      "epoch 2: accuracy: 0.4\n",
      "epoch 3: accuracy: 0.5\n",
      "epoch 4: accuracy: 0.6\n",
      "registering\n",
      "fitting model with 5 epochs\n",
      "epoch 0: accuracy: 0.2\n",
      "epoch 1: accuracy: 0.30000000000000004\n",
      "epoch 2: accuracy: 0.4\n",
      "epoch 3: accuracy: 0.5\n",
      "epoch 4: accuracy: 0.6\n"
     ]
    },
    {
     "name": "stderr",
     "output_type": "stream",
     "text": [
      "finished experiment 9\n",
      "processing hyper-parameter 0 out of 9\n",
      "doing run 3 out of 5\n",
      "fixed rate, multiple epochs values\n",
      "running experiment 9\n",
      "run number: 3\n",
      "\n",
      "parameters:\n",
      "\tepochs=5,\n",
      "\tnoise=0.1,\n",
      "\toffset=0.1,\n",
      "\trate=0.1\n",
      "\n",
      "script: /mnt/athena/hpsearch/hpsearch/examples/dummy_experiment_manager.py, line number: 212\n",
      "time spent on this experiment: 0.0008840560913085938\n",
      "3 - validation_accuracy: 0.8131553736582049\n",
      "3 - test_accuracy: 0.5378593700275757\n",
      "finished experiment 9\n",
      "processing hyper-parameter 0 out of 9\n",
      "doing run 4 out of 5\n",
      "fixed rate, multiple epochs values\n",
      "running experiment 9\n",
      "run number: 4\n",
      "\n",
      "parameters:\n",
      "\tepochs=5,\n",
      "\tnoise=0.1,\n",
      "\toffset=0.1,\n",
      "\trate=0.1\n",
      "\n",
      "script: /mnt/athena/hpsearch/hpsearch/examples/dummy_experiment_manager.py, line number: 212\n",
      "time spent on this experiment: 0.0009069442749023438\n",
      "4 - validation_accuracy: 0.30403429706490637\n",
      "4 - test_accuracy: 0.6870389855164168\n",
      "finished experiment 9\n",
      "processing hyper-parameter 1 out of 9\n",
      "doing run 0 out of 5\n",
      "fixed rate, multiple epochs values\n",
      "running experiment 10\n",
      "run number: 0\n",
      "\n",
      "parameters:\n",
      "\tepochs=5,\n",
      "\tnoise=0.1,\n",
      "\toffset=0.3,\n",
      "\trate=0.1\n",
      "\n",
      "script: /mnt/athena/hpsearch/hpsearch/examples/dummy_experiment_manager.py, line number: 212\n",
      "time spent on this experiment: 0.0008854866027832031\n",
      "0 - validation_accuracy: 0.8172585468392944\n",
      "0 - test_accuracy: 1.0\n"
     ]
    },
    {
     "name": "stdout",
     "output_type": "stream",
     "text": [
      "registering\n",
      "fitting model with 5 epochs\n",
      "epoch 0: accuracy: 0.2\n",
      "epoch 1: accuracy: 0.30000000000000004\n",
      "epoch 2: accuracy: 0.4\n",
      "epoch 3: accuracy: 0.5\n",
      "epoch 4: accuracy: 0.6\n",
      "registering\n",
      "fitting model with 5 epochs\n",
      "epoch 0: accuracy: 0.2\n",
      "epoch 1: accuracy: 0.30000000000000004\n",
      "epoch 2: accuracy: 0.4\n",
      "epoch 3: accuracy: 0.5\n",
      "epoch 4: accuracy: 0.6\n",
      "registering\n",
      "fitting model with 5 epochs\n",
      "epoch 0: accuracy: 0.4\n",
      "epoch 1: accuracy: 0.5\n",
      "epoch 2: accuracy: 0.6\n",
      "epoch 3: accuracy: 0.7\n",
      "epoch 4: accuracy: 0.7999999999999999\n"
     ]
    },
    {
     "name": "stderr",
     "output_type": "stream",
     "text": [
      "finished experiment 10\n",
      "processing hyper-parameter 1 out of 9\n",
      "doing run 1 out of 5\n",
      "fixed rate, multiple epochs values\n",
      "running experiment 10\n",
      "run number: 1\n",
      "\n",
      "parameters:\n",
      "\tepochs=5,\n",
      "\tnoise=0.1,\n",
      "\toffset=0.3,\n",
      "\trate=0.1\n",
      "\n",
      "script: /mnt/athena/hpsearch/hpsearch/examples/dummy_experiment_manager.py, line number: 212\n",
      "time spent on this experiment: 0.0009083747863769531\n",
      "1 - validation_accuracy: 0.6863050220555496\n",
      "1 - test_accuracy: 0.9696470611441881\n",
      "finished experiment 10\n",
      "processing hyper-parameter 1 out of 9\n",
      "doing run 2 out of 5\n",
      "fixed rate, multiple epochs values\n",
      "running experiment 10\n",
      "run number: 2\n",
      "\n",
      "parameters:\n",
      "\tepochs=5,\n",
      "\tnoise=0.1,\n",
      "\toffset=0.3,\n",
      "\trate=0.1\n",
      "\n",
      "script: /mnt/athena/hpsearch/hpsearch/examples/dummy_experiment_manager.py, line number: 212\n",
      "time spent on this experiment: 0.0009329319000244141\n",
      "2 - validation_accuracy: 0.5384505459676983\n",
      "2 - test_accuracy: 1.0\n",
      "finished experiment 10\n",
      "processing hyper-parameter 1 out of 9\n",
      "doing run 3 out of 5\n",
      "fixed rate, multiple epochs values\n",
      "running experiment 10\n",
      "run number: 3\n",
      "\n",
      "parameters:\n",
      "\tepochs=5,\n",
      "\tnoise=0.1,\n",
      "\toffset=0.3,\n",
      "\trate=0.1\n",
      "\n",
      "script: /mnt/athena/hpsearch/hpsearch/examples/dummy_experiment_manager.py, line number: 212\n",
      "time spent on this experiment: 0.0009219646453857422\n",
      "3 - validation_accuracy: 0.9655212002513134\n",
      "3 - test_accuracy: 1.0\n"
     ]
    },
    {
     "name": "stdout",
     "output_type": "stream",
     "text": [
      "registering\n",
      "fitting model with 5 epochs\n",
      "epoch 0: accuracy: 0.4\n",
      "epoch 1: accuracy: 0.5\n",
      "epoch 2: accuracy: 0.6\n",
      "epoch 3: accuracy: 0.7\n",
      "epoch 4: accuracy: 0.7999999999999999\n",
      "registering\n",
      "fitting model with 5 epochs\n",
      "epoch 0: accuracy: 0.4\n",
      "epoch 1: accuracy: 0.5\n",
      "epoch 2: accuracy: 0.6\n",
      "epoch 3: accuracy: 0.7\n",
      "epoch 4: accuracy: 0.7999999999999999\n",
      "registering\n",
      "fitting model with 5 epochs\n",
      "epoch 0: accuracy: 0.4\n",
      "epoch 1: accuracy: 0.5\n",
      "epoch 2: accuracy: 0.6\n",
      "epoch 3: accuracy: 0.7\n",
      "epoch 4: accuracy: 0.7999999999999999\n"
     ]
    },
    {
     "name": "stderr",
     "output_type": "stream",
     "text": [
      "finished experiment 10\n",
      "processing hyper-parameter 1 out of 9\n",
      "doing run 4 out of 5\n",
      "fixed rate, multiple epochs values\n",
      "running experiment 10\n",
      "run number: 4\n",
      "\n",
      "parameters:\n",
      "\tepochs=5,\n",
      "\tnoise=0.1,\n",
      "\toffset=0.3,\n",
      "\trate=0.1\n",
      "\n",
      "script: /mnt/athena/hpsearch/hpsearch/examples/dummy_experiment_manager.py, line number: 212\n",
      "time spent on this experiment: 0.0008907318115234375\n",
      "4 - validation_accuracy: 0.6853141744384887\n",
      "4 - test_accuracy: 0.9769214366331762\n",
      "finished experiment 10\n",
      "processing hyper-parameter 2 out of 9\n",
      "doing run 0 out of 5\n",
      "fixed rate, multiple epochs values\n",
      "running experiment 11\n",
      "run number: 0\n",
      "\n",
      "parameters:\n",
      "\tepochs=5,\n",
      "\tnoise=0.1,\n",
      "\toffset=0.6,\n",
      "\trate=0.1\n",
      "\n",
      "script: /mnt/athena/hpsearch/hpsearch/examples/dummy_experiment_manager.py, line number: 212\n",
      "time spent on this experiment: 0.0009076595306396484\n",
      "0 - validation_accuracy: 1.0\n",
      "0 - test_accuracy: 1.0\n",
      "finished experiment 11\n",
      "processing hyper-parameter 2 out of 9\n",
      "doing run 1 out of 5\n",
      "fixed rate, multiple epochs values\n",
      "running experiment 11\n",
      "run number: 1\n",
      "\n",
      "parameters:\n",
      "\tepochs=5,\n",
      "\tnoise=0.1,\n",
      "\toffset=0.6,\n",
      "\trate=0.1\n",
      "\n",
      "script: /mnt/athena/hpsearch/hpsearch/examples/dummy_experiment_manager.py, line number: 212\n"
     ]
    },
    {
     "name": "stdout",
     "output_type": "stream",
     "text": [
      "registering\n",
      "fitting model with 5 epochs\n",
      "epoch 0: accuracy: 0.4\n",
      "epoch 1: accuracy: 0.5\n",
      "epoch 2: accuracy: 0.6\n",
      "epoch 3: accuracy: 0.7\n",
      "epoch 4: accuracy: 0.7999999999999999\n",
      "registering\n",
      "fitting model with 5 epochs\n",
      "epoch 0: accuracy: 0.7\n",
      "epoch 1: accuracy: 0.7999999999999999\n",
      "epoch 2: accuracy: 0.8999999999999999\n",
      "epoch 3: accuracy: 0.9999999999999999\n",
      "epoch 4: accuracy: 1.0999999999999999\n",
      "registering\n"
     ]
    },
    {
     "name": "stderr",
     "output_type": "stream",
     "text": [
      "time spent on this experiment: 0.0009899139404296875\n",
      "1 - validation_accuracy: 1.0\n",
      "1 - test_accuracy: 1.0\n",
      "finished experiment 11\n",
      "processing hyper-parameter 2 out of 9\n",
      "doing run 2 out of 5\n",
      "fixed rate, multiple epochs values\n",
      "running experiment 11\n",
      "run number: 2\n",
      "\n",
      "parameters:\n",
      "\tepochs=5,\n",
      "\tnoise=0.1,\n",
      "\toffset=0.6,\n",
      "\trate=0.1\n",
      "\n",
      "script: /mnt/athena/hpsearch/hpsearch/examples/dummy_experiment_manager.py, line number: 212\n",
      "time spent on this experiment: 0.0012326240539550781\n",
      "2 - validation_accuracy: 1.0\n",
      "2 - test_accuracy: 1.0\n",
      "finished experiment 11\n",
      "processing hyper-parameter 2 out of 9\n",
      "doing run 3 out of 5\n",
      "fixed rate, multiple epochs values\n",
      "running experiment 11\n",
      "run number: 3\n",
      "\n",
      "parameters:\n",
      "\tepochs=5,\n",
      "\tnoise=0.1,\n",
      "\toffset=0.6,\n",
      "\trate=0.1\n",
      "\n",
      "script: /mnt/athena/hpsearch/hpsearch/examples/dummy_experiment_manager.py, line number: 212\n",
      "time spent on this experiment: 0.0009386539459228516\n",
      "3 - validation_accuracy: 1.0\n",
      "3 - test_accuracy: 1.0\n",
      "finished experiment 11\n",
      "processing hyper-parameter 2 out of 9\n",
      "doing run 4 out of 5\n",
      "fixed rate, multiple epochs values\n",
      "running experiment 11\n",
      "run number: 4\n",
      "\n",
      "parameters:\n",
      "\tepochs=5,\n",
      "\tnoise=0.1,\n",
      "\toffset=0.6,\n",
      "\trate=0.1\n",
      "\n"
     ]
    },
    {
     "name": "stdout",
     "output_type": "stream",
     "text": [
      "fitting model with 5 epochs\n",
      "epoch 0: accuracy: 0.7\n",
      "epoch 1: accuracy: 0.7999999999999999\n",
      "epoch 2: accuracy: 0.8999999999999999\n",
      "epoch 3: accuracy: 0.9999999999999999\n",
      "epoch 4: accuracy: 1.0999999999999999\n",
      "registering\n",
      "fitting model with 5 epochs\n",
      "epoch 0: accuracy: 0.7\n",
      "epoch 1: accuracy: 0.7999999999999999\n",
      "epoch 2: accuracy: 0.8999999999999999\n",
      "epoch 3: accuracy: 0.9999999999999999\n",
      "epoch 4: accuracy: 1.0999999999999999\n",
      "registering\n",
      "fitting model with 5 epochs\n",
      "epoch 0: accuracy: 0.7\n",
      "epoch 1: accuracy: 0.7999999999999999\n",
      "epoch 2: accuracy: 0.8999999999999999\n",
      "epoch 3: accuracy: 0.9999999999999999\n",
      "epoch 4: accuracy: 1.0999999999999999\n",
      "registering\n"
     ]
    },
    {
     "name": "stderr",
     "output_type": "stream",
     "text": [
      "script: /mnt/athena/hpsearch/hpsearch/examples/dummy_experiment_manager.py, line number: 212\n",
      "time spent on this experiment: 0.0009992122650146484\n",
      "4 - validation_accuracy: 0.9972315711361318\n",
      "4 - test_accuracy: 1.0\n",
      "finished experiment 11\n",
      "processing hyper-parameter 3 out of 9\n",
      "doing run 0 out of 5\n",
      "fixed rate, multiple epochs values\n",
      "running experiment 12\n",
      "run number: 0\n",
      "\n",
      "parameters:\n",
      "\tepochs=15,\n",
      "\tnoise=0.1,\n",
      "\toffset=0.1,\n",
      "\trate=0.1\n",
      "\n",
      "script: /mnt/athena/hpsearch/hpsearch/examples/dummy_experiment_manager.py, line number: 212\n",
      "time spent on this experiment: 0.0019669532775878906\n",
      "0 - validation_accuracy: 1.0\n",
      "0 - test_accuracy: 1.0\n",
      "finished experiment 12\n",
      "processing hyper-parameter 3 out of 9\n",
      "doing run 1 out of 5\n",
      "fixed rate, multiple epochs values\n",
      "running experiment 12\n",
      "run number: 1\n",
      "\n",
      "parameters:\n",
      "\tepochs=15,\n",
      "\tnoise=0.1,\n",
      "\toffset=0.1,\n",
      "\trate=0.1\n",
      "\n",
      "script: /mnt/athena/hpsearch/hpsearch/examples/dummy_experiment_manager.py, line number: 212\n",
      "time spent on this experiment: 0.0018870830535888672\n",
      "1 - validation_accuracy: 1.0\n",
      "1 - test_accuracy: 1.0\n",
      "finished experiment 12\n",
      "processing hyper-parameter 3 out of 9\n",
      "doing run 2 out of 5\n",
      "fixed rate, multiple epochs values\n"
     ]
    },
    {
     "name": "stdout",
     "output_type": "stream",
     "text": [
      "fitting model with 5 epochs\n",
      "epoch 0: accuracy: 0.7\n",
      "epoch 1: accuracy: 0.7999999999999999\n",
      "epoch 2: accuracy: 0.8999999999999999\n",
      "epoch 3: accuracy: 0.9999999999999999\n",
      "epoch 4: accuracy: 1.0999999999999999\n",
      "registering\n",
      "fitting model with 15 epochs\n",
      "epoch 0: accuracy: 0.2\n",
      "epoch 1: accuracy: 0.30000000000000004\n",
      "epoch 2: accuracy: 0.4\n",
      "epoch 3: accuracy: 0.5\n",
      "epoch 4: accuracy: 0.6\n",
      "epoch 5: accuracy: 0.7\n",
      "epoch 6: accuracy: 0.7999999999999999\n",
      "epoch 7: accuracy: 0.8999999999999999\n",
      "epoch 8: accuracy: 0.9999999999999999\n",
      "epoch 9: accuracy: 1.0999999999999999\n",
      "epoch 10: accuracy: 1.2\n",
      "epoch 11: accuracy: 1.3\n",
      "epoch 12: accuracy: 1.4000000000000001\n",
      "epoch 13: accuracy: 1.5000000000000002\n",
      "epoch 14: accuracy: 1.6000000000000003\n",
      "registering\n",
      "fitting model with 15 epochs\n",
      "epoch 0: accuracy: 0.2\n",
      "epoch 1: accuracy: 0.30000000000000004\n",
      "epoch 2: accuracy: 0.4\n",
      "epoch 3: accuracy: 0.5\n",
      "epoch 4: accuracy: 0.6\n",
      "epoch 5: accuracy: 0.7\n",
      "epoch 6: accuracy: 0.7999999999999999\n",
      "epoch 7: accuracy: 0.8999999999999999\n",
      "epoch 8: accuracy: 0.9999999999999999\n",
      "epoch 9: accuracy: 1.0999999999999999\n",
      "epoch 10: accuracy: 1.2\n",
      "epoch 11: accuracy: 1.3\n",
      "epoch 12: accuracy: 1.4000000000000001\n",
      "epoch 13: accuracy: 1.5000000000000002\n",
      "epoch 14: accuracy: 1.6000000000000003\n",
      "registering\n"
     ]
    },
    {
     "name": "stderr",
     "output_type": "stream",
     "text": [
      "running experiment 12\n",
      "run number: 2\n",
      "\n",
      "parameters:\n",
      "\tepochs=15,\n",
      "\tnoise=0.1,\n",
      "\toffset=0.1,\n",
      "\trate=0.1\n",
      "\n",
      "script: /mnt/athena/hpsearch/hpsearch/examples/dummy_experiment_manager.py, line number: 212\n",
      "time spent on this experiment: 0.0021479129791259766\n",
      "2 - validation_accuracy: 1.0\n",
      "2 - test_accuracy: 1.0\n",
      "finished experiment 12\n",
      "processing hyper-parameter 3 out of 9\n",
      "doing run 3 out of 5\n",
      "fixed rate, multiple epochs values\n",
      "running experiment 12\n",
      "run number: 3\n",
      "\n",
      "parameters:\n",
      "\tepochs=15,\n",
      "\tnoise=0.1,\n",
      "\toffset=0.1,\n",
      "\trate=0.1\n",
      "\n",
      "script: /mnt/athena/hpsearch/hpsearch/examples/dummy_experiment_manager.py, line number: 212\n",
      "time spent on this experiment: 0.001878976821899414\n",
      "3 - validation_accuracy: 1.0\n",
      "3 - test_accuracy: 1.0\n",
      "finished experiment 12\n",
      "processing hyper-parameter 3 out of 9\n",
      "doing run 4 out of 5\n",
      "fixed rate, multiple epochs values\n",
      "running experiment 12\n",
      "run number: 4\n",
      "\n",
      "parameters:\n",
      "\tepochs=15,\n",
      "\tnoise=0.1,\n",
      "\toffset=0.1,\n",
      "\trate=0.1\n",
      "\n",
      "script: /mnt/athena/hpsearch/hpsearch/examples/dummy_experiment_manager.py, line number: 212\n",
      "time spent on this experiment: 0.001833200454711914\n",
      "4 - validation_accuracy: 1.0\n",
      "4 - test_accuracy: 1.0\n",
      "finished experiment 12\n",
      "processing hyper-parameter 4 out of 9\n",
      "doing run 0 out of 5\n",
      "fixed rate, multiple epochs values\n"
     ]
    },
    {
     "name": "stdout",
     "output_type": "stream",
     "text": [
      "fitting model with 15 epochs\n",
      "epoch 0: accuracy: 0.2\n",
      "epoch 1: accuracy: 0.30000000000000004\n",
      "epoch 2: accuracy: 0.4\n",
      "epoch 3: accuracy: 0.5\n",
      "epoch 4: accuracy: 0.6\n",
      "epoch 5: accuracy: 0.7\n",
      "epoch 6: accuracy: 0.7999999999999999\n",
      "epoch 7: accuracy: 0.8999999999999999\n",
      "epoch 8: accuracy: 0.9999999999999999\n",
      "epoch 9: accuracy: 1.0999999999999999\n",
      "epoch 10: accuracy: 1.2\n",
      "epoch 11: accuracy: 1.3\n",
      "epoch 12: accuracy: 1.4000000000000001\n",
      "epoch 13: accuracy: 1.5000000000000002\n",
      "epoch 14: accuracy: 1.6000000000000003\n",
      "registering\n",
      "fitting model with 15 epochs\n",
      "epoch 0: accuracy: 0.2\n",
      "epoch 1: accuracy: 0.30000000000000004\n",
      "epoch 2: accuracy: 0.4\n",
      "epoch 3: accuracy: 0.5\n",
      "epoch 4: accuracy: 0.6\n",
      "epoch 5: accuracy: 0.7\n",
      "epoch 6: accuracy: 0.7999999999999999\n",
      "epoch 7: accuracy: 0.8999999999999999\n",
      "epoch 8: accuracy: 0.9999999999999999\n",
      "epoch 9: accuracy: 1.0999999999999999\n",
      "epoch 10: accuracy: 1.2\n",
      "epoch 11: accuracy: 1.3\n",
      "epoch 12: accuracy: 1.4000000000000001\n",
      "epoch 13: accuracy: 1.5000000000000002\n",
      "epoch 14: accuracy: 1.6000000000000003\n",
      "registering\n",
      "fitting model with 15 epochs\n",
      "epoch 0: accuracy: 0.2\n",
      "epoch 1: accuracy: 0.30000000000000004\n",
      "epoch 2: accuracy: 0.4\n",
      "epoch 3: accuracy: 0.5\n",
      "epoch 4: accuracy: 0.6\n",
      "epoch 5: accuracy: 0.7\n",
      "epoch 6: accuracy: 0.7999999999999999\n",
      "epoch 7: accuracy: 0.8999999999999999\n",
      "epoch 8: accuracy: 0.9999999999999999\n",
      "epoch 9: accuracy: 1.0999999999999999\n",
      "epoch 10: accuracy: 1.2\n",
      "epoch 11: accuracy: 1.3\n",
      "epoch 12: accuracy: 1.4000000000000001\n",
      "epoch 13: accuracy: 1.5000000000000002\n",
      "epoch 14: accuracy: 1.6000000000000003\n",
      "registering\n"
     ]
    },
    {
     "name": "stderr",
     "output_type": "stream",
     "text": [
      "running experiment 13\n",
      "run number: 0\n",
      "\n",
      "parameters:\n",
      "\tepochs=15,\n",
      "\tnoise=0.1,\n",
      "\toffset=0.3,\n",
      "\trate=0.1\n",
      "\n",
      "script: /mnt/athena/hpsearch/hpsearch/examples/dummy_experiment_manager.py, line number: 212\n",
      "time spent on this experiment: 0.0021567344665527344\n",
      "0 - validation_accuracy: 1.0\n",
      "0 - test_accuracy: 1.0\n",
      "finished experiment 13\n",
      "processing hyper-parameter 4 out of 9\n",
      "doing run 1 out of 5\n",
      "fixed rate, multiple epochs values\n",
      "running experiment 13\n",
      "run number: 1\n",
      "\n",
      "parameters:\n",
      "\tepochs=15,\n",
      "\tnoise=0.1,\n",
      "\toffset=0.3,\n",
      "\trate=0.1\n",
      "\n",
      "script: /mnt/athena/hpsearch/hpsearch/examples/dummy_experiment_manager.py, line number: 212\n",
      "time spent on this experiment: 0.001909017562866211\n",
      "1 - validation_accuracy: 1.0\n",
      "1 - test_accuracy: 1.0\n",
      "finished experiment 13\n",
      "processing hyper-parameter 4 out of 9\n",
      "doing run 2 out of 5\n",
      "fixed rate, multiple epochs values\n",
      "running experiment 13\n",
      "run number: 2\n",
      "\n",
      "parameters:\n",
      "\tepochs=15,\n",
      "\tnoise=0.1,\n",
      "\toffset=0.3,\n",
      "\trate=0.1\n",
      "\n",
      "script: /mnt/athena/hpsearch/hpsearch/examples/dummy_experiment_manager.py, line number: 212\n",
      "time spent on this experiment: 0.0019252300262451172\n",
      "2 - validation_accuracy: 1.0\n",
      "2 - test_accuracy: 1.0\n",
      "finished experiment 13\n",
      "processing hyper-parameter 4 out of 9\n",
      "doing run 3 out of 5\n",
      "fixed rate, multiple epochs values\n"
     ]
    },
    {
     "name": "stdout",
     "output_type": "stream",
     "text": [
      "fitting model with 15 epochs\n",
      "epoch 0: accuracy: 0.4\n",
      "epoch 1: accuracy: 0.5\n",
      "epoch 2: accuracy: 0.6\n",
      "epoch 3: accuracy: 0.7\n",
      "epoch 4: accuracy: 0.7999999999999999\n",
      "epoch 5: accuracy: 0.8999999999999999\n",
      "epoch 6: accuracy: 0.9999999999999999\n",
      "epoch 7: accuracy: 1.0999999999999999\n",
      "epoch 8: accuracy: 1.2\n",
      "epoch 9: accuracy: 1.3\n",
      "epoch 10: accuracy: 1.4000000000000001\n",
      "epoch 11: accuracy: 1.5000000000000002\n",
      "epoch 12: accuracy: 1.6000000000000003\n",
      "epoch 13: accuracy: 1.7000000000000004\n",
      "epoch 14: accuracy: 1.8000000000000005\n",
      "registering\n",
      "fitting model with 15 epochs\n",
      "epoch 0: accuracy: 0.4\n",
      "epoch 1: accuracy: 0.5\n",
      "epoch 2: accuracy: 0.6\n",
      "epoch 3: accuracy: 0.7\n",
      "epoch 4: accuracy: 0.7999999999999999\n",
      "epoch 5: accuracy: 0.8999999999999999\n",
      "epoch 6: accuracy: 0.9999999999999999\n",
      "epoch 7: accuracy: 1.0999999999999999\n",
      "epoch 8: accuracy: 1.2\n",
      "epoch 9: accuracy: 1.3\n",
      "epoch 10: accuracy: 1.4000000000000001\n",
      "epoch 11: accuracy: 1.5000000000000002\n",
      "epoch 12: accuracy: 1.6000000000000003\n",
      "epoch 13: accuracy: 1.7000000000000004\n",
      "epoch 14: accuracy: 1.8000000000000005\n",
      "registering\n",
      "fitting model with 15 epochs\n",
      "epoch 0: accuracy: 0.4\n",
      "epoch 1: accuracy: 0.5\n",
      "epoch 2: accuracy: 0.6\n",
      "epoch 3: accuracy: 0.7\n",
      "epoch 4: accuracy: 0.7999999999999999\n",
      "epoch 5: accuracy: 0.8999999999999999\n",
      "epoch 6: accuracy: 0.9999999999999999\n",
      "epoch 7: accuracy: 1.0999999999999999\n",
      "epoch 8: accuracy: 1.2\n",
      "epoch 9: accuracy: 1.3\n",
      "epoch 10: accuracy: 1.4000000000000001\n",
      "epoch 11: accuracy: 1.5000000000000002\n",
      "epoch 12: accuracy: 1.6000000000000003\n",
      "epoch 13: accuracy: 1.7000000000000004\n",
      "epoch 14: accuracy: 1.8000000000000005\n",
      "registering\n"
     ]
    },
    {
     "name": "stderr",
     "output_type": "stream",
     "text": [
      "running experiment 13\n",
      "run number: 3\n",
      "\n",
      "parameters:\n",
      "\tepochs=15,\n",
      "\tnoise=0.1,\n",
      "\toffset=0.3,\n",
      "\trate=0.1\n",
      "\n",
      "script: /mnt/athena/hpsearch/hpsearch/examples/dummy_experiment_manager.py, line number: 212\n",
      "time spent on this experiment: 0.0019562244415283203\n",
      "3 - validation_accuracy: 1.0\n",
      "3 - test_accuracy: 1.0\n",
      "finished experiment 13\n",
      "processing hyper-parameter 4 out of 9\n",
      "doing run 4 out of 5\n",
      "fixed rate, multiple epochs values\n",
      "running experiment 13\n",
      "run number: 4\n",
      "\n",
      "parameters:\n",
      "\tepochs=15,\n",
      "\tnoise=0.1,\n",
      "\toffset=0.3,\n",
      "\trate=0.1\n",
      "\n",
      "script: /mnt/athena/hpsearch/hpsearch/examples/dummy_experiment_manager.py, line number: 212\n",
      "time spent on this experiment: 0.0020837783813476562\n",
      "4 - validation_accuracy: 1.0\n",
      "4 - test_accuracy: 1.0\n",
      "finished experiment 13\n",
      "processing hyper-parameter 5 out of 9\n",
      "doing run 0 out of 5\n",
      "fixed rate, multiple epochs values\n",
      "running experiment 14\n",
      "run number: 0\n",
      "\n",
      "parameters:\n",
      "\tepochs=15,\n",
      "\tnoise=0.1,\n",
      "\toffset=0.6,\n",
      "\trate=0.1\n",
      "\n",
      "script: /mnt/athena/hpsearch/hpsearch/examples/dummy_experiment_manager.py, line number: 212\n",
      "time spent on this experiment: 0.0018634796142578125\n",
      "0 - validation_accuracy: 1.0\n",
      "0 - test_accuracy: 1.0\n",
      "finished experiment 14\n",
      "processing hyper-parameter 5 out of 9\n",
      "doing run 1 out of 5\n",
      "fixed rate, multiple epochs values\n"
     ]
    },
    {
     "name": "stdout",
     "output_type": "stream",
     "text": [
      "fitting model with 15 epochs\n",
      "epoch 0: accuracy: 0.4\n",
      "epoch 1: accuracy: 0.5\n",
      "epoch 2: accuracy: 0.6\n",
      "epoch 3: accuracy: 0.7\n",
      "epoch 4: accuracy: 0.7999999999999999\n",
      "epoch 5: accuracy: 0.8999999999999999\n",
      "epoch 6: accuracy: 0.9999999999999999\n",
      "epoch 7: accuracy: 1.0999999999999999\n",
      "epoch 8: accuracy: 1.2\n",
      "epoch 9: accuracy: 1.3\n",
      "epoch 10: accuracy: 1.4000000000000001\n",
      "epoch 11: accuracy: 1.5000000000000002\n",
      "epoch 12: accuracy: 1.6000000000000003\n",
      "epoch 13: accuracy: 1.7000000000000004\n",
      "epoch 14: accuracy: 1.8000000000000005\n",
      "registering\n",
      "fitting model with 15 epochs\n",
      "epoch 0: accuracy: 0.4\n",
      "epoch 1: accuracy: 0.5\n",
      "epoch 2: accuracy: 0.6\n",
      "epoch 3: accuracy: 0.7\n",
      "epoch 4: accuracy: 0.7999999999999999\n",
      "epoch 5: accuracy: 0.8999999999999999\n",
      "epoch 6: accuracy: 0.9999999999999999\n",
      "epoch 7: accuracy: 1.0999999999999999\n",
      "epoch 8: accuracy: 1.2\n",
      "epoch 9: accuracy: 1.3\n",
      "epoch 10: accuracy: 1.4000000000000001\n",
      "epoch 11: accuracy: 1.5000000000000002\n",
      "epoch 12: accuracy: 1.6000000000000003\n",
      "epoch 13: accuracy: 1.7000000000000004\n",
      "epoch 14: accuracy: 1.8000000000000005\n",
      "registering\n",
      "fitting model with 15 epochs\n",
      "epoch 0: accuracy: 0.7\n",
      "epoch 1: accuracy: 0.7999999999999999\n",
      "epoch 2: accuracy: 0.8999999999999999\n",
      "epoch 3: accuracy: 0.9999999999999999\n",
      "epoch 4: accuracy: 1.0999999999999999\n",
      "epoch 5: accuracy: 1.2\n",
      "epoch 6: accuracy: 1.3\n",
      "epoch 7: accuracy: 1.4000000000000001\n",
      "epoch 8: accuracy: 1.5000000000000002\n",
      "epoch 9: accuracy: 1.6000000000000003\n",
      "epoch 10: accuracy: 1.7000000000000004\n",
      "epoch 11: accuracy: 1.8000000000000005\n",
      "epoch 12: accuracy: 1.9000000000000006\n",
      "epoch 13: accuracy: 2.0000000000000004\n",
      "epoch 14: accuracy: 2.1000000000000005\n",
      "registering\n"
     ]
    },
    {
     "name": "stderr",
     "output_type": "stream",
     "text": [
      "running experiment 14\n",
      "run number: 1\n",
      "\n",
      "parameters:\n",
      "\tepochs=15,\n",
      "\tnoise=0.1,\n",
      "\toffset=0.6,\n",
      "\trate=0.1\n",
      "\n",
      "script: /mnt/athena/hpsearch/hpsearch/examples/dummy_experiment_manager.py, line number: 212\n",
      "time spent on this experiment: 0.001926422119140625\n",
      "1 - validation_accuracy: 1.0\n",
      "1 - test_accuracy: 1.0\n",
      "finished experiment 14\n",
      "processing hyper-parameter 5 out of 9\n",
      "doing run 2 out of 5\n",
      "fixed rate, multiple epochs values\n",
      "running experiment 14\n",
      "run number: 2\n",
      "\n",
      "parameters:\n",
      "\tepochs=15,\n",
      "\tnoise=0.1,\n",
      "\toffset=0.6,\n",
      "\trate=0.1\n",
      "\n",
      "script: /mnt/athena/hpsearch/hpsearch/examples/dummy_experiment_manager.py, line number: 212\n",
      "time spent on this experiment: 0.001836538314819336\n",
      "2 - validation_accuracy: 1.0\n",
      "2 - test_accuracy: 1.0\n",
      "finished experiment 14\n",
      "processing hyper-parameter 5 out of 9\n",
      "doing run 3 out of 5\n",
      "fixed rate, multiple epochs values\n",
      "running experiment 14\n",
      "run number: 3\n",
      "\n",
      "parameters:\n",
      "\tepochs=15,\n",
      "\tnoise=0.1,\n",
      "\toffset=0.6,\n",
      "\trate=0.1\n",
      "\n",
      "script: /mnt/athena/hpsearch/hpsearch/examples/dummy_experiment_manager.py, line number: 212\n",
      "time spent on this experiment: 0.002096891403198242\n",
      "3 - validation_accuracy: 1.0\n",
      "3 - test_accuracy: 1.0\n",
      "finished experiment 14\n",
      "processing hyper-parameter 5 out of 9\n",
      "doing run 4 out of 5\n",
      "fixed rate, multiple epochs values\n"
     ]
    },
    {
     "name": "stdout",
     "output_type": "stream",
     "text": [
      "fitting model with 15 epochs\n",
      "epoch 0: accuracy: 0.7\n",
      "epoch 1: accuracy: 0.7999999999999999\n",
      "epoch 2: accuracy: 0.8999999999999999\n",
      "epoch 3: accuracy: 0.9999999999999999\n",
      "epoch 4: accuracy: 1.0999999999999999\n",
      "epoch 5: accuracy: 1.2\n",
      "epoch 6: accuracy: 1.3\n",
      "epoch 7: accuracy: 1.4000000000000001\n",
      "epoch 8: accuracy: 1.5000000000000002\n",
      "epoch 9: accuracy: 1.6000000000000003\n",
      "epoch 10: accuracy: 1.7000000000000004\n",
      "epoch 11: accuracy: 1.8000000000000005\n",
      "epoch 12: accuracy: 1.9000000000000006\n",
      "epoch 13: accuracy: 2.0000000000000004\n",
      "epoch 14: accuracy: 2.1000000000000005\n",
      "registering\n",
      "fitting model with 15 epochs\n",
      "epoch 0: accuracy: 0.7\n",
      "epoch 1: accuracy: 0.7999999999999999\n",
      "epoch 2: accuracy: 0.8999999999999999\n",
      "epoch 3: accuracy: 0.9999999999999999\n",
      "epoch 4: accuracy: 1.0999999999999999\n",
      "epoch 5: accuracy: 1.2\n",
      "epoch 6: accuracy: 1.3\n",
      "epoch 7: accuracy: 1.4000000000000001\n",
      "epoch 8: accuracy: 1.5000000000000002\n",
      "epoch 9: accuracy: 1.6000000000000003\n",
      "epoch 10: accuracy: 1.7000000000000004\n",
      "epoch 11: accuracy: 1.8000000000000005\n",
      "epoch 12: accuracy: 1.9000000000000006\n",
      "epoch 13: accuracy: 2.0000000000000004\n",
      "epoch 14: accuracy: 2.1000000000000005\n",
      "registering\n",
      "fitting model with 15 epochs\n",
      "epoch 0: accuracy: 0.7\n",
      "epoch 1: accuracy: 0.7999999999999999\n",
      "epoch 2: accuracy: 0.8999999999999999\n",
      "epoch 3: accuracy: 0.9999999999999999\n",
      "epoch 4: accuracy: 1.0999999999999999\n",
      "epoch 5: accuracy: 1.2\n",
      "epoch 6: accuracy: 1.3\n",
      "epoch 7: accuracy: 1.4000000000000001\n",
      "epoch 8: accuracy: 1.5000000000000002\n",
      "epoch 9: accuracy: 1.6000000000000003\n",
      "epoch 10: accuracy: 1.7000000000000004\n",
      "epoch 11: accuracy: 1.8000000000000005\n",
      "epoch 12: accuracy: 1.9000000000000006\n",
      "epoch 13: accuracy: 2.0000000000000004\n",
      "epoch 14: accuracy: 2.1000000000000005\n",
      "registering\n"
     ]
    },
    {
     "name": "stderr",
     "output_type": "stream",
     "text": [
      "running experiment 14\n",
      "run number: 4\n",
      "\n",
      "parameters:\n",
      "\tepochs=15,\n",
      "\tnoise=0.1,\n",
      "\toffset=0.6,\n",
      "\trate=0.1\n",
      "\n",
      "script: /mnt/athena/hpsearch/hpsearch/examples/dummy_experiment_manager.py, line number: 212\n",
      "time spent on this experiment: 0.002003908157348633\n",
      "4 - validation_accuracy: 1.0\n",
      "4 - test_accuracy: 1.0\n",
      "finished experiment 14\n",
      "processing hyper-parameter 6 out of 9\n",
      "doing run 0 out of 5\n",
      "fixed rate, multiple epochs values\n",
      "running experiment 15\n",
      "run number: 0\n",
      "\n",
      "parameters:\n",
      "\tepochs=30,\n",
      "\tnoise=0.1,\n",
      "\toffset=0.1,\n",
      "\trate=0.1\n",
      "\n",
      "script: /mnt/athena/hpsearch/hpsearch/examples/dummy_experiment_manager.py, line number: 212\n",
      "time spent on this experiment: 0.0033409595489501953\n",
      "0 - validation_accuracy: 0.9720230723321036\n",
      "0 - test_accuracy: 1.0\n",
      "finished experiment 15\n",
      "processing hyper-parameter 6 out of 9\n",
      "doing run 1 out of 5\n",
      "fixed rate, multiple epochs values\n",
      "running experiment 15\n",
      "run number: 1\n",
      "\n",
      "parameters:\n",
      "\tepochs=30,\n",
      "\tnoise=0.1,\n",
      "\toffset=0.1,\n",
      "\trate=0.1\n",
      "\n",
      "script: /mnt/athena/hpsearch/hpsearch/examples/dummy_experiment_manager.py, line number: 212\n",
      "time spent on this experiment: 0.0033130645751953125\n",
      "1 - validation_accuracy: 1.0\n",
      "1 - test_accuracy: 0.9248976435432034\n",
      "finished experiment 15\n",
      "processing hyper-parameter 6 out of 9\n",
      "doing run 2 out of 5\n",
      "fixed rate, multiple epochs values\n"
     ]
    },
    {
     "name": "stdout",
     "output_type": "stream",
     "text": [
      "fitting model with 15 epochs\n",
      "epoch 0: accuracy: 0.7\n",
      "epoch 1: accuracy: 0.7999999999999999\n",
      "epoch 2: accuracy: 0.8999999999999999\n",
      "epoch 3: accuracy: 0.9999999999999999\n",
      "epoch 4: accuracy: 1.0999999999999999\n",
      "epoch 5: accuracy: 1.2\n",
      "epoch 6: accuracy: 1.3\n",
      "epoch 7: accuracy: 1.4000000000000001\n",
      "epoch 8: accuracy: 1.5000000000000002\n",
      "epoch 9: accuracy: 1.6000000000000003\n",
      "epoch 10: accuracy: 1.7000000000000004\n",
      "epoch 11: accuracy: 1.8000000000000005\n",
      "epoch 12: accuracy: 1.9000000000000006\n",
      "epoch 13: accuracy: 2.0000000000000004\n",
      "epoch 14: accuracy: 2.1000000000000005\n",
      "registering\n",
      "fitting model with 30 epochs\n",
      "epoch 0: accuracy: 0.2\n",
      "epoch 1: accuracy: 0.30000000000000004\n",
      "epoch 2: accuracy: 0.4\n",
      "epoch 3: accuracy: 0.5\n",
      "epoch 4: accuracy: 0.6\n",
      "epoch 5: accuracy: 0.7\n",
      "epoch 6: accuracy: 0.7999999999999999\n",
      "epoch 7: accuracy: 0.8999999999999999\n",
      "epoch 8: accuracy: 0.9999999999999999\n",
      "epoch 9: accuracy: 1.0999999999999999\n",
      "epoch 10: accuracy: 1.2\n",
      "epoch 11: accuracy: 1.3\n",
      "epoch 12: accuracy: 1.4000000000000001\n",
      "epoch 13: accuracy: 1.5000000000000002\n",
      "epoch 14: accuracy: 1.6000000000000003\n",
      "epoch 15: accuracy: 1.7000000000000004\n",
      "epoch 16: accuracy: 1.8000000000000005\n",
      "epoch 17: accuracy: 1.9000000000000006\n",
      "epoch 18: accuracy: 2.0000000000000004\n",
      "epoch 19: accuracy: 2.1000000000000005\n",
      "epoch 20: accuracy: 2.0000000000000004\n",
      "epoch 21: accuracy: 1.9000000000000004\n",
      "epoch 22: accuracy: 1.8000000000000003\n",
      "epoch 23: accuracy: 1.7000000000000002\n",
      "epoch 24: accuracy: 1.6\n",
      "epoch 25: accuracy: 1.5\n",
      "epoch 26: accuracy: 1.4\n",
      "epoch 27: accuracy: 1.2999999999999998\n",
      "epoch 28: accuracy: 1.1999999999999997\n",
      "epoch 29: accuracy: 1.0999999999999996\n",
      "registering\n",
      "fitting model with 30 epochs\n",
      "epoch 0: accuracy: 0.2\n",
      "epoch 1: accuracy: 0.30000000000000004\n",
      "epoch 2: accuracy: 0.4\n",
      "epoch 3: accuracy: 0.5\n",
      "epoch 4: accuracy: 0.6\n",
      "epoch 5: accuracy: 0.7\n",
      "epoch 6: accuracy: 0.7999999999999999\n",
      "epoch 7: accuracy: 0.8999999999999999\n",
      "epoch 8: accuracy: 0.9999999999999999\n",
      "epoch 9: accuracy: 1.0999999999999999\n",
      "epoch 10: accuracy: 1.2\n",
      "epoch 11: accuracy: 1.3\n",
      "epoch 12: accuracy: 1.4000000000000001\n",
      "epoch 13: accuracy: 1.5000000000000002\n",
      "epoch 14: accuracy: 1.6000000000000003\n",
      "epoch 15: accuracy: 1.7000000000000004\n",
      "epoch 16: accuracy: 1.8000000000000005\n",
      "epoch 17: accuracy: 1.9000000000000006\n",
      "epoch 18: accuracy: 2.0000000000000004\n",
      "epoch 19: accuracy: 2.1000000000000005\n",
      "epoch 20: accuracy: 2.0000000000000004\n",
      "epoch 21: accuracy: 1.9000000000000004\n",
      "epoch 22: accuracy: 1.8000000000000003\n",
      "epoch 23: accuracy: 1.7000000000000002\n",
      "epoch 24: accuracy: 1.6\n",
      "epoch 25: accuracy: 1.5\n",
      "epoch 26: accuracy: 1.4\n",
      "epoch 27: accuracy: 1.2999999999999998\n",
      "epoch 28: accuracy: 1.1999999999999997\n",
      "epoch 29: accuracy: 1.0999999999999996\n",
      "registering\n"
     ]
    },
    {
     "name": "stderr",
     "output_type": "stream",
     "text": [
      "running experiment 15\n",
      "run number: 2\n",
      "\n",
      "parameters:\n",
      "\tepochs=30,\n",
      "\tnoise=0.1,\n",
      "\toffset=0.1,\n",
      "\trate=0.1\n",
      "\n",
      "script: /mnt/athena/hpsearch/hpsearch/examples/dummy_experiment_manager.py, line number: 212\n",
      "time spent on this experiment: 0.0037491321563720703\n",
      "2 - validation_accuracy: 0.9467578579653277\n",
      "2 - test_accuracy: 1.0\n",
      "finished experiment 15\n",
      "processing hyper-parameter 6 out of 9\n",
      "doing run 3 out of 5\n",
      "fixed rate, multiple epochs values\n",
      "running experiment 15\n",
      "run number: 3\n",
      "\n",
      "parameters:\n",
      "\tepochs=30,\n",
      "\tnoise=0.1,\n",
      "\toffset=0.1,\n",
      "\trate=0.1\n",
      "\n",
      "script: /mnt/athena/hpsearch/hpsearch/examples/dummy_experiment_manager.py, line number: 212\n",
      "time spent on this experiment: 0.003353595733642578\n",
      "3 - validation_accuracy: 0.9149546848160562\n",
      "3 - test_accuracy: 1.0\n",
      "finished experiment 15\n",
      "processing hyper-parameter 6 out of 9\n",
      "doing run 4 out of 5\n",
      "fixed rate, multiple epochs values\n",
      "running experiment 15\n",
      "run number: 4\n",
      "\n",
      "parameters:\n",
      "\tepochs=30,\n",
      "\tnoise=0.1,\n",
      "\toffset=0.1,\n",
      "\trate=0.1\n",
      "\n",
      "script: /mnt/athena/hpsearch/hpsearch/examples/dummy_experiment_manager.py, line number: 212\n",
      "time spent on this experiment: 0.0037093162536621094\n",
      "4 - validation_accuracy: 1.0\n",
      "4 - test_accuracy: 1.0\n",
      "finished experiment 15\n",
      "processing hyper-parameter 7 out of 9\n",
      "doing run 0 out of 5\n",
      "fixed rate, multiple epochs values\n"
     ]
    },
    {
     "name": "stdout",
     "output_type": "stream",
     "text": [
      "fitting model with 30 epochs\n",
      "epoch 0: accuracy: 0.2\n",
      "epoch 1: accuracy: 0.30000000000000004\n",
      "epoch 2: accuracy: 0.4\n",
      "epoch 3: accuracy: 0.5\n",
      "epoch 4: accuracy: 0.6\n",
      "epoch 5: accuracy: 0.7\n",
      "epoch 6: accuracy: 0.7999999999999999\n",
      "epoch 7: accuracy: 0.8999999999999999\n",
      "epoch 8: accuracy: 0.9999999999999999\n",
      "epoch 9: accuracy: 1.0999999999999999\n",
      "epoch 10: accuracy: 1.2\n",
      "epoch 11: accuracy: 1.3\n",
      "epoch 12: accuracy: 1.4000000000000001\n",
      "epoch 13: accuracy: 1.5000000000000002\n",
      "epoch 14: accuracy: 1.6000000000000003\n",
      "epoch 15: accuracy: 1.7000000000000004\n",
      "epoch 16: accuracy: 1.8000000000000005\n",
      "epoch 17: accuracy: 1.9000000000000006\n",
      "epoch 18: accuracy: 2.0000000000000004\n",
      "epoch 19: accuracy: 2.1000000000000005\n",
      "epoch 20: accuracy: 2.0000000000000004\n",
      "epoch 21: accuracy: 1.9000000000000004\n",
      "epoch 22: accuracy: 1.8000000000000003\n",
      "epoch 23: accuracy: 1.7000000000000002\n",
      "epoch 24: accuracy: 1.6\n",
      "epoch 25: accuracy: 1.5\n",
      "epoch 26: accuracy: 1.4\n",
      "epoch 27: accuracy: 1.2999999999999998\n",
      "epoch 28: accuracy: 1.1999999999999997\n",
      "epoch 29: accuracy: 1.0999999999999996\n",
      "registering\n",
      "fitting model with 30 epochs\n",
      "epoch 0: accuracy: 0.2\n",
      "epoch 1: accuracy: 0.30000000000000004\n",
      "epoch 2: accuracy: 0.4\n",
      "epoch 3: accuracy: 0.5\n",
      "epoch 4: accuracy: 0.6\n",
      "epoch 5: accuracy: 0.7\n",
      "epoch 6: accuracy: 0.7999999999999999\n",
      "epoch 7: accuracy: 0.8999999999999999\n",
      "epoch 8: accuracy: 0.9999999999999999\n",
      "epoch 9: accuracy: 1.0999999999999999\n",
      "epoch 10: accuracy: 1.2\n",
      "epoch 11: accuracy: 1.3\n",
      "epoch 12: accuracy: 1.4000000000000001\n",
      "epoch 13: accuracy: 1.5000000000000002\n",
      "epoch 14: accuracy: 1.6000000000000003\n",
      "epoch 15: accuracy: 1.7000000000000004\n",
      "epoch 16: accuracy: 1.8000000000000005\n",
      "epoch 17: accuracy: 1.9000000000000006\n",
      "epoch 18: accuracy: 2.0000000000000004\n",
      "epoch 19: accuracy: 2.1000000000000005\n",
      "epoch 20: accuracy: 2.0000000000000004\n",
      "epoch 21: accuracy: 1.9000000000000004\n",
      "epoch 22: accuracy: 1.8000000000000003\n",
      "epoch 23: accuracy: 1.7000000000000002\n",
      "epoch 24: accuracy: 1.6\n",
      "epoch 25: accuracy: 1.5\n",
      "epoch 26: accuracy: 1.4\n",
      "epoch 27: accuracy: 1.2999999999999998\n",
      "epoch 28: accuracy: 1.1999999999999997\n",
      "epoch 29: accuracy: 1.0999999999999996\n",
      "registering\n",
      "fitting model with 30 epochs\n",
      "epoch 0: accuracy: 0.2\n",
      "epoch 1: accuracy: 0.30000000000000004\n",
      "epoch 2: accuracy: 0.4\n",
      "epoch 3: accuracy: 0.5\n",
      "epoch 4: accuracy: 0.6\n",
      "epoch 5: accuracy: 0.7\n",
      "epoch 6: accuracy: 0.7999999999999999\n",
      "epoch 7: accuracy: 0.8999999999999999\n",
      "epoch 8: accuracy: 0.9999999999999999\n",
      "epoch 9: accuracy: 1.0999999999999999\n",
      "epoch 10: accuracy: 1.2\n",
      "epoch 11: accuracy: 1.3\n",
      "epoch 12: accuracy: 1.4000000000000001\n",
      "epoch 13: accuracy: 1.5000000000000002\n",
      "epoch 14: accuracy: 1.6000000000000003\n",
      "epoch 15: accuracy: 1.7000000000000004\n",
      "epoch 16: accuracy: 1.8000000000000005\n",
      "epoch 17: accuracy: 1.9000000000000006\n",
      "epoch 18: accuracy: 2.0000000000000004\n",
      "epoch 19: accuracy: 2.1000000000000005\n",
      "epoch 20: accuracy: 2.0000000000000004\n",
      "epoch 21: accuracy: 1.9000000000000004\n",
      "epoch 22: accuracy: 1.8000000000000003\n",
      "epoch 23: accuracy: 1.7000000000000002\n",
      "epoch 24: accuracy: 1.6\n",
      "epoch 25: accuracy: 1.5\n",
      "epoch 26: accuracy: 1.4\n",
      "epoch 27: accuracy: 1.2999999999999998\n",
      "epoch 28: accuracy: 1.1999999999999997\n",
      "epoch 29: accuracy: 1.0999999999999996\n",
      "registering\n"
     ]
    },
    {
     "name": "stderr",
     "output_type": "stream",
     "text": [
      "running experiment 16\n",
      "run number: 0\n",
      "\n",
      "parameters:\n",
      "\tepochs=30,\n",
      "\tnoise=0.1,\n",
      "\toffset=0.3,\n",
      "\trate=0.1\n",
      "\n",
      "script: /mnt/athena/hpsearch/hpsearch/examples/dummy_experiment_manager.py, line number: 212\n",
      "time spent on this experiment: 0.003432035446166992\n",
      "0 - validation_accuracy: 1.0\n",
      "0 - test_accuracy: 1.0\n",
      "finished experiment 16\n",
      "processing hyper-parameter 7 out of 9\n",
      "doing run 1 out of 5\n",
      "fixed rate, multiple epochs values\n",
      "running experiment 16\n",
      "run number: 1\n",
      "\n",
      "parameters:\n",
      "\tepochs=30,\n",
      "\tnoise=0.1,\n",
      "\toffset=0.3,\n",
      "\trate=0.1\n",
      "\n",
      "script: /mnt/athena/hpsearch/hpsearch/examples/dummy_experiment_manager.py, line number: 212\n",
      "time spent on this experiment: 0.0037038326263427734\n",
      "1 - validation_accuracy: 1.0\n",
      "1 - test_accuracy: 1.0\n",
      "finished experiment 16\n",
      "processing hyper-parameter 7 out of 9\n",
      "doing run 2 out of 5\n",
      "fixed rate, multiple epochs values\n",
      "running experiment 16\n",
      "run number: 2\n",
      "\n",
      "parameters:\n",
      "\tepochs=30,\n",
      "\tnoise=0.1,\n",
      "\toffset=0.3,\n",
      "\trate=0.1\n",
      "\n",
      "script: /mnt/athena/hpsearch/hpsearch/examples/dummy_experiment_manager.py, line number: 212\n",
      "time spent on this experiment: 0.0032320022583007812\n",
      "2 - validation_accuracy: 1.0\n",
      "2 - test_accuracy: 0.8809692740102653\n",
      "finished experiment 16\n",
      "processing hyper-parameter 7 out of 9\n",
      "doing run 3 out of 5\n",
      "fixed rate, multiple epochs values\n"
     ]
    },
    {
     "name": "stdout",
     "output_type": "stream",
     "text": [
      "fitting model with 30 epochs\n",
      "epoch 0: accuracy: 0.4\n",
      "epoch 1: accuracy: 0.5\n",
      "epoch 2: accuracy: 0.6\n",
      "epoch 3: accuracy: 0.7\n",
      "epoch 4: accuracy: 0.7999999999999999\n",
      "epoch 5: accuracy: 0.8999999999999999\n",
      "epoch 6: accuracy: 0.9999999999999999\n",
      "epoch 7: accuracy: 1.0999999999999999\n",
      "epoch 8: accuracy: 1.2\n",
      "epoch 9: accuracy: 1.3\n",
      "epoch 10: accuracy: 1.4000000000000001\n",
      "epoch 11: accuracy: 1.5000000000000002\n",
      "epoch 12: accuracy: 1.6000000000000003\n",
      "epoch 13: accuracy: 1.7000000000000004\n",
      "epoch 14: accuracy: 1.8000000000000005\n",
      "epoch 15: accuracy: 1.9000000000000006\n",
      "epoch 16: accuracy: 2.0000000000000004\n",
      "epoch 17: accuracy: 2.1000000000000005\n",
      "epoch 18: accuracy: 2.2000000000000006\n",
      "epoch 19: accuracy: 2.3000000000000007\n",
      "epoch 20: accuracy: 2.2000000000000006\n",
      "epoch 21: accuracy: 2.1000000000000005\n",
      "epoch 22: accuracy: 2.0000000000000004\n",
      "epoch 23: accuracy: 1.9000000000000004\n",
      "epoch 24: accuracy: 1.8000000000000003\n",
      "epoch 25: accuracy: 1.7000000000000002\n",
      "epoch 26: accuracy: 1.6\n",
      "epoch 27: accuracy: 1.5\n",
      "epoch 28: accuracy: 1.4\n",
      "epoch 29: accuracy: 1.2999999999999998\n",
      "registering\n",
      "fitting model with 30 epochs\n",
      "epoch 0: accuracy: 0.4\n",
      "epoch 1: accuracy: 0.5\n",
      "epoch 2: accuracy: 0.6\n",
      "epoch 3: accuracy: 0.7\n",
      "epoch 4: accuracy: 0.7999999999999999\n",
      "epoch 5: accuracy: 0.8999999999999999\n",
      "epoch 6: accuracy: 0.9999999999999999\n",
      "epoch 7: accuracy: 1.0999999999999999\n",
      "epoch 8: accuracy: 1.2\n",
      "epoch 9: accuracy: 1.3\n",
      "epoch 10: accuracy: 1.4000000000000001\n",
      "epoch 11: accuracy: 1.5000000000000002\n",
      "epoch 12: accuracy: 1.6000000000000003\n",
      "epoch 13: accuracy: 1.7000000000000004\n",
      "epoch 14: accuracy: 1.8000000000000005\n",
      "epoch 15: accuracy: 1.9000000000000006\n",
      "epoch 16: accuracy: 2.0000000000000004\n",
      "epoch 17: accuracy: 2.1000000000000005\n",
      "epoch 18: accuracy: 2.2000000000000006\n",
      "epoch 19: accuracy: 2.3000000000000007\n",
      "epoch 20: accuracy: 2.2000000000000006\n",
      "epoch 21: accuracy: 2.1000000000000005\n",
      "epoch 22: accuracy: 2.0000000000000004\n",
      "epoch 23: accuracy: 1.9000000000000004\n",
      "epoch 24: accuracy: 1.8000000000000003\n",
      "epoch 25: accuracy: 1.7000000000000002\n",
      "epoch 26: accuracy: 1.6\n",
      "epoch 27: accuracy: 1.5\n",
      "epoch 28: accuracy: 1.4\n",
      "epoch 29: accuracy: 1.2999999999999998\n",
      "registering\n",
      "fitting model with 30 epochs\n",
      "epoch 0: accuracy: 0.4\n",
      "epoch 1: accuracy: 0.5\n",
      "epoch 2: accuracy: 0.6\n",
      "epoch 3: accuracy: 0.7\n",
      "epoch 4: accuracy: 0.7999999999999999\n",
      "epoch 5: accuracy: 0.8999999999999999\n",
      "epoch 6: accuracy: 0.9999999999999999\n",
      "epoch 7: accuracy: 1.0999999999999999\n",
      "epoch 8: accuracy: 1.2\n",
      "epoch 9: accuracy: 1.3\n",
      "epoch 10: accuracy: 1.4000000000000001\n",
      "epoch 11: accuracy: 1.5000000000000002\n",
      "epoch 12: accuracy: 1.6000000000000003\n",
      "epoch 13: accuracy: 1.7000000000000004\n",
      "epoch 14: accuracy: 1.8000000000000005\n",
      "epoch 15: accuracy: 1.9000000000000006\n",
      "epoch 16: accuracy: 2.0000000000000004\n",
      "epoch 17: accuracy: 2.1000000000000005\n",
      "epoch 18: accuracy: 2.2000000000000006\n",
      "epoch 19: accuracy: 2.3000000000000007\n",
      "epoch 20: accuracy: 2.2000000000000006\n",
      "epoch 21: accuracy: 2.1000000000000005\n",
      "epoch 22: accuracy: 2.0000000000000004\n",
      "epoch 23: accuracy: 1.9000000000000004\n",
      "epoch 24: accuracy: 1.8000000000000003\n",
      "epoch 25: accuracy: 1.7000000000000002\n",
      "epoch 26: accuracy: 1.6\n",
      "epoch 27: accuracy: 1.5\n",
      "epoch 28: accuracy: 1.4\n",
      "epoch 29: accuracy: 1.2999999999999998\n",
      "registering\n"
     ]
    },
    {
     "name": "stderr",
     "output_type": "stream",
     "text": [
      "running experiment 16\n",
      "run number: 3\n",
      "\n",
      "parameters:\n",
      "\tepochs=30,\n",
      "\tnoise=0.1,\n",
      "\toffset=0.3,\n",
      "\trate=0.1\n",
      "\n",
      "script: /mnt/athena/hpsearch/hpsearch/examples/dummy_experiment_manager.py, line number: 212\n",
      "time spent on this experiment: 0.003525257110595703\n",
      "3 - validation_accuracy: 1.0\n",
      "3 - test_accuracy: 1.0\n",
      "finished experiment 16\n",
      "processing hyper-parameter 7 out of 9\n",
      "doing run 4 out of 5\n",
      "fixed rate, multiple epochs values\n",
      "running experiment 16\n",
      "run number: 4\n",
      "\n",
      "parameters:\n",
      "\tepochs=30,\n",
      "\tnoise=0.1,\n",
      "\toffset=0.3,\n",
      "\trate=0.1\n",
      "\n",
      "script: /mnt/athena/hpsearch/hpsearch/examples/dummy_experiment_manager.py, line number: 212\n",
      "time spent on this experiment: 0.003264188766479492\n",
      "4 - validation_accuracy: 1.0\n",
      "4 - test_accuracy: 1.0\n",
      "finished experiment 16\n",
      "processing hyper-parameter 8 out of 9\n",
      "doing run 0 out of 5\n",
      "fixed rate, multiple epochs values\n",
      "running experiment 17\n",
      "run number: 0\n",
      "\n",
      "parameters:\n",
      "\tepochs=30,\n",
      "\tnoise=0.1,\n",
      "\toffset=0.6,\n",
      "\trate=0.1\n",
      "\n",
      "script: /mnt/athena/hpsearch/hpsearch/examples/dummy_experiment_manager.py, line number: 212\n",
      "time spent on this experiment: 0.003893136978149414\n",
      "0 - validation_accuracy: 1.0\n",
      "0 - test_accuracy: 1.0\n",
      "finished experiment 17\n",
      "processing hyper-parameter 8 out of 9\n",
      "doing run 1 out of 5\n",
      "fixed rate, multiple epochs values\n"
     ]
    },
    {
     "name": "stdout",
     "output_type": "stream",
     "text": [
      "fitting model with 30 epochs\n",
      "epoch 0: accuracy: 0.4\n",
      "epoch 1: accuracy: 0.5\n",
      "epoch 2: accuracy: 0.6\n",
      "epoch 3: accuracy: 0.7\n",
      "epoch 4: accuracy: 0.7999999999999999\n",
      "epoch 5: accuracy: 0.8999999999999999\n",
      "epoch 6: accuracy: 0.9999999999999999\n",
      "epoch 7: accuracy: 1.0999999999999999\n",
      "epoch 8: accuracy: 1.2\n",
      "epoch 9: accuracy: 1.3\n",
      "epoch 10: accuracy: 1.4000000000000001\n",
      "epoch 11: accuracy: 1.5000000000000002\n",
      "epoch 12: accuracy: 1.6000000000000003\n",
      "epoch 13: accuracy: 1.7000000000000004\n",
      "epoch 14: accuracy: 1.8000000000000005\n",
      "epoch 15: accuracy: 1.9000000000000006\n",
      "epoch 16: accuracy: 2.0000000000000004\n",
      "epoch 17: accuracy: 2.1000000000000005\n",
      "epoch 18: accuracy: 2.2000000000000006\n",
      "epoch 19: accuracy: 2.3000000000000007\n",
      "epoch 20: accuracy: 2.2000000000000006\n",
      "epoch 21: accuracy: 2.1000000000000005\n",
      "epoch 22: accuracy: 2.0000000000000004\n",
      "epoch 23: accuracy: 1.9000000000000004\n",
      "epoch 24: accuracy: 1.8000000000000003\n",
      "epoch 25: accuracy: 1.7000000000000002\n",
      "epoch 26: accuracy: 1.6\n",
      "epoch 27: accuracy: 1.5\n",
      "epoch 28: accuracy: 1.4\n",
      "epoch 29: accuracy: 1.2999999999999998\n",
      "registering\n",
      "fitting model with 30 epochs\n",
      "epoch 0: accuracy: 0.4\n",
      "epoch 1: accuracy: 0.5\n",
      "epoch 2: accuracy: 0.6\n",
      "epoch 3: accuracy: 0.7\n",
      "epoch 4: accuracy: 0.7999999999999999\n",
      "epoch 5: accuracy: 0.8999999999999999\n",
      "epoch 6: accuracy: 0.9999999999999999\n",
      "epoch 7: accuracy: 1.0999999999999999\n",
      "epoch 8: accuracy: 1.2\n",
      "epoch 9: accuracy: 1.3\n",
      "epoch 10: accuracy: 1.4000000000000001\n",
      "epoch 11: accuracy: 1.5000000000000002\n",
      "epoch 12: accuracy: 1.6000000000000003\n",
      "epoch 13: accuracy: 1.7000000000000004\n",
      "epoch 14: accuracy: 1.8000000000000005\n",
      "epoch 15: accuracy: 1.9000000000000006\n",
      "epoch 16: accuracy: 2.0000000000000004\n",
      "epoch 17: accuracy: 2.1000000000000005\n",
      "epoch 18: accuracy: 2.2000000000000006\n",
      "epoch 19: accuracy: 2.3000000000000007\n",
      "epoch 20: accuracy: 2.2000000000000006\n",
      "epoch 21: accuracy: 2.1000000000000005\n",
      "epoch 22: accuracy: 2.0000000000000004\n",
      "epoch 23: accuracy: 1.9000000000000004\n",
      "epoch 24: accuracy: 1.8000000000000003\n",
      "epoch 25: accuracy: 1.7000000000000002\n",
      "epoch 26: accuracy: 1.6\n",
      "epoch 27: accuracy: 1.5\n",
      "epoch 28: accuracy: 1.4\n",
      "epoch 29: accuracy: 1.2999999999999998\n",
      "registering\n",
      "fitting model with 30 epochs\n",
      "epoch 0: accuracy: 0.7\n",
      "epoch 1: accuracy: 0.7999999999999999\n",
      "epoch 2: accuracy: 0.8999999999999999\n",
      "epoch 3: accuracy: 0.9999999999999999\n",
      "epoch 4: accuracy: 1.0999999999999999\n",
      "epoch 5: accuracy: 1.2\n",
      "epoch 6: accuracy: 1.3\n",
      "epoch 7: accuracy: 1.4000000000000001\n",
      "epoch 8: accuracy: 1.5000000000000002\n",
      "epoch 9: accuracy: 1.6000000000000003\n",
      "epoch 10: accuracy: 1.7000000000000004\n",
      "epoch 11: accuracy: 1.8000000000000005\n",
      "epoch 12: accuracy: 1.9000000000000006\n",
      "epoch 13: accuracy: 2.0000000000000004\n",
      "epoch 14: accuracy: 2.1000000000000005\n",
      "epoch 15: accuracy: 2.2000000000000006\n",
      "epoch 16: accuracy: 2.3000000000000007\n",
      "epoch 17: accuracy: 2.400000000000001\n",
      "epoch 18: accuracy: 2.500000000000001\n",
      "epoch 19: accuracy: 2.600000000000001\n",
      "epoch 20: accuracy: 2.500000000000001\n",
      "epoch 21: accuracy: 2.400000000000001\n",
      "epoch 22: accuracy: 2.3000000000000007\n",
      "epoch 23: accuracy: 2.2000000000000006\n",
      "epoch 24: accuracy: 2.1000000000000005\n",
      "epoch 25: accuracy: 2.0000000000000004\n",
      "epoch 26: accuracy: 1.9000000000000004\n",
      "epoch 27: accuracy: 1.8000000000000003\n",
      "epoch 28: accuracy: 1.7000000000000002\n",
      "epoch 29: accuracy: 1.6\n",
      "registering\n"
     ]
    },
    {
     "name": "stderr",
     "output_type": "stream",
     "text": [
      "running experiment 17\n",
      "run number: 1\n",
      "\n",
      "parameters:\n",
      "\tepochs=30,\n",
      "\tnoise=0.1,\n",
      "\toffset=0.6,\n",
      "\trate=0.1\n",
      "\n",
      "script: /mnt/athena/hpsearch/hpsearch/examples/dummy_experiment_manager.py, line number: 212\n",
      "time spent on this experiment: 0.0033566951751708984\n",
      "1 - validation_accuracy: 1.0\n",
      "1 - test_accuracy: 1.0\n",
      "finished experiment 17\n",
      "processing hyper-parameter 8 out of 9\n",
      "doing run 2 out of 5\n",
      "fixed rate, multiple epochs values\n",
      "running experiment 17\n",
      "run number: 2\n",
      "\n",
      "parameters:\n",
      "\tepochs=30,\n",
      "\tnoise=0.1,\n",
      "\toffset=0.6,\n",
      "\trate=0.1\n",
      "\n",
      "script: /mnt/athena/hpsearch/hpsearch/examples/dummy_experiment_manager.py, line number: 212\n",
      "time spent on this experiment: 0.0034935474395751953\n",
      "2 - validation_accuracy: 1.0\n",
      "2 - test_accuracy: 1.0\n",
      "finished experiment 17\n",
      "processing hyper-parameter 8 out of 9\n",
      "doing run 3 out of 5\n",
      "fixed rate, multiple epochs values\n",
      "running experiment 17\n",
      "run number: 3\n",
      "\n",
      "parameters:\n",
      "\tepochs=30,\n",
      "\tnoise=0.1,\n",
      "\toffset=0.6,\n",
      "\trate=0.1\n",
      "\n",
      "script: /mnt/athena/hpsearch/hpsearch/examples/dummy_experiment_manager.py, line number: 212\n",
      "time spent on this experiment: 0.0034241676330566406\n",
      "3 - validation_accuracy: 1.0\n",
      "3 - test_accuracy: 1.0\n",
      "finished experiment 17\n",
      "processing hyper-parameter 8 out of 9\n",
      "doing run 4 out of 5\n",
      "fixed rate, multiple epochs values\n"
     ]
    },
    {
     "name": "stdout",
     "output_type": "stream",
     "text": [
      "fitting model with 30 epochs\n",
      "epoch 0: accuracy: 0.7\n",
      "epoch 1: accuracy: 0.7999999999999999\n",
      "epoch 2: accuracy: 0.8999999999999999\n",
      "epoch 3: accuracy: 0.9999999999999999\n",
      "epoch 4: accuracy: 1.0999999999999999\n",
      "epoch 5: accuracy: 1.2\n",
      "epoch 6: accuracy: 1.3\n",
      "epoch 7: accuracy: 1.4000000000000001\n",
      "epoch 8: accuracy: 1.5000000000000002\n",
      "epoch 9: accuracy: 1.6000000000000003\n",
      "epoch 10: accuracy: 1.7000000000000004\n",
      "epoch 11: accuracy: 1.8000000000000005\n",
      "epoch 12: accuracy: 1.9000000000000006\n",
      "epoch 13: accuracy: 2.0000000000000004\n",
      "epoch 14: accuracy: 2.1000000000000005\n",
      "epoch 15: accuracy: 2.2000000000000006\n",
      "epoch 16: accuracy: 2.3000000000000007\n",
      "epoch 17: accuracy: 2.400000000000001\n",
      "epoch 18: accuracy: 2.500000000000001\n",
      "epoch 19: accuracy: 2.600000000000001\n",
      "epoch 20: accuracy: 2.500000000000001\n",
      "epoch 21: accuracy: 2.400000000000001\n",
      "epoch 22: accuracy: 2.3000000000000007\n",
      "epoch 23: accuracy: 2.2000000000000006\n",
      "epoch 24: accuracy: 2.1000000000000005\n",
      "epoch 25: accuracy: 2.0000000000000004\n",
      "epoch 26: accuracy: 1.9000000000000004\n",
      "epoch 27: accuracy: 1.8000000000000003\n",
      "epoch 28: accuracy: 1.7000000000000002\n",
      "epoch 29: accuracy: 1.6\n",
      "registering\n",
      "fitting model with 30 epochs\n",
      "epoch 0: accuracy: 0.7\n",
      "epoch 1: accuracy: 0.7999999999999999\n",
      "epoch 2: accuracy: 0.8999999999999999\n",
      "epoch 3: accuracy: 0.9999999999999999\n",
      "epoch 4: accuracy: 1.0999999999999999\n",
      "epoch 5: accuracy: 1.2\n",
      "epoch 6: accuracy: 1.3\n",
      "epoch 7: accuracy: 1.4000000000000001\n",
      "epoch 8: accuracy: 1.5000000000000002\n",
      "epoch 9: accuracy: 1.6000000000000003\n",
      "epoch 10: accuracy: 1.7000000000000004\n",
      "epoch 11: accuracy: 1.8000000000000005\n",
      "epoch 12: accuracy: 1.9000000000000006\n",
      "epoch 13: accuracy: 2.0000000000000004\n",
      "epoch 14: accuracy: 2.1000000000000005\n",
      "epoch 15: accuracy: 2.2000000000000006\n",
      "epoch 16: accuracy: 2.3000000000000007\n",
      "epoch 17: accuracy: 2.400000000000001\n",
      "epoch 18: accuracy: 2.500000000000001\n",
      "epoch 19: accuracy: 2.600000000000001\n",
      "epoch 20: accuracy: 2.500000000000001\n",
      "epoch 21: accuracy: 2.400000000000001\n",
      "epoch 22: accuracy: 2.3000000000000007\n",
      "epoch 23: accuracy: 2.2000000000000006\n",
      "epoch 24: accuracy: 2.1000000000000005\n",
      "epoch 25: accuracy: 2.0000000000000004\n",
      "epoch 26: accuracy: 1.9000000000000004\n",
      "epoch 27: accuracy: 1.8000000000000003\n",
      "epoch 28: accuracy: 1.7000000000000002\n",
      "epoch 29: accuracy: 1.6\n",
      "registering\n",
      "fitting model with 30 epochs\n",
      "epoch 0: accuracy: 0.7\n",
      "epoch 1: accuracy: 0.7999999999999999\n",
      "epoch 2: accuracy: 0.8999999999999999\n",
      "epoch 3: accuracy: 0.9999999999999999\n",
      "epoch 4: accuracy: 1.0999999999999999\n",
      "epoch 5: accuracy: 1.2\n",
      "epoch 6: accuracy: 1.3\n",
      "epoch 7: accuracy: 1.4000000000000001\n",
      "epoch 8: accuracy: 1.5000000000000002\n",
      "epoch 9: accuracy: 1.6000000000000003\n",
      "epoch 10: accuracy: 1.7000000000000004\n",
      "epoch 11: accuracy: 1.8000000000000005\n",
      "epoch 12: accuracy: 1.9000000000000006\n",
      "epoch 13: accuracy: 2.0000000000000004\n",
      "epoch 14: accuracy: 2.1000000000000005\n",
      "epoch 15: accuracy: 2.2000000000000006\n",
      "epoch 16: accuracy: 2.3000000000000007\n",
      "epoch 17: accuracy: 2.400000000000001\n",
      "epoch 18: accuracy: 2.500000000000001\n",
      "epoch 19: accuracy: 2.600000000000001\n",
      "epoch 20: accuracy: 2.500000000000001\n",
      "epoch 21: accuracy: 2.400000000000001\n",
      "epoch 22: accuracy: 2.3000000000000007\n",
      "epoch 23: accuracy: 2.2000000000000006\n",
      "epoch 24: accuracy: 2.1000000000000005\n",
      "epoch 25: accuracy: 2.0000000000000004\n",
      "epoch 26: accuracy: 1.9000000000000004\n",
      "epoch 27: accuracy: 1.8000000000000003\n",
      "epoch 28: accuracy: 1.7000000000000002\n",
      "epoch 29: accuracy: 1.6\n",
      "registering\n"
     ]
    },
    {
     "name": "stderr",
     "output_type": "stream",
     "text": [
      "running experiment 17\n",
      "run number: 4\n",
      "\n",
      "parameters:\n",
      "\tepochs=30,\n",
      "\tnoise=0.1,\n",
      "\toffset=0.6,\n",
      "\trate=0.1\n",
      "\n",
      "script: /mnt/athena/hpsearch/hpsearch/examples/dummy_experiment_manager.py, line number: 212\n",
      "time spent on this experiment: 0.003820180892944336\n",
      "4 - validation_accuracy: 1.0\n",
      "4 - test_accuracy: 1.0\n",
      "finished experiment 17\n"
     ]
    },
    {
     "name": "stdout",
     "output_type": "stream",
     "text": [
      "fitting model with 30 epochs\n",
      "epoch 0: accuracy: 0.7\n",
      "epoch 1: accuracy: 0.7999999999999999\n",
      "epoch 2: accuracy: 0.8999999999999999\n",
      "epoch 3: accuracy: 0.9999999999999999\n",
      "epoch 4: accuracy: 1.0999999999999999\n",
      "epoch 5: accuracy: 1.2\n",
      "epoch 6: accuracy: 1.3\n",
      "epoch 7: accuracy: 1.4000000000000001\n",
      "epoch 8: accuracy: 1.5000000000000002\n",
      "epoch 9: accuracy: 1.6000000000000003\n",
      "epoch 10: accuracy: 1.7000000000000004\n",
      "epoch 11: accuracy: 1.8000000000000005\n",
      "epoch 12: accuracy: 1.9000000000000006\n",
      "epoch 13: accuracy: 2.0000000000000004\n",
      "epoch 14: accuracy: 2.1000000000000005\n",
      "epoch 15: accuracy: 2.2000000000000006\n",
      "epoch 16: accuracy: 2.3000000000000007\n",
      "epoch 17: accuracy: 2.400000000000001\n",
      "epoch 18: accuracy: 2.500000000000001\n",
      "epoch 19: accuracy: 2.600000000000001\n",
      "epoch 20: accuracy: 2.500000000000001\n",
      "epoch 21: accuracy: 2.400000000000001\n",
      "epoch 22: accuracy: 2.3000000000000007\n",
      "epoch 23: accuracy: 2.2000000000000006\n",
      "epoch 24: accuracy: 2.1000000000000005\n",
      "epoch 25: accuracy: 2.0000000000000004\n",
      "epoch 26: accuracy: 1.9000000000000004\n",
      "epoch 27: accuracy: 1.8000000000000003\n",
      "epoch 28: accuracy: 1.7000000000000002\n",
      "epoch 29: accuracy: 1.6\n"
     ]
    }
   ],
   "source": [
    "#collapse_output\n",
    "from hpsearch.examples.dummy_experiment_manager import remove_previous_experiments, run_multiple_experiments\n",
    "\n",
    "remove_previous_experiments()\n",
    "run_multiple_experiments(nruns=5, noise=0.1)\n",
    "run_multiple_experiments(nruns=5, noise=0.1, rate = 0.1)"
   ]
  },
  {
   "cell_type": "markdown",
   "metadata": {},
   "source": [
    "### Usage examples\n",
    "\n",
    "Plot all the metrics that have been stored in model_history"
   ]
  },
  {
   "cell_type": "code",
   "execution_count": null,
   "metadata": {},
   "outputs": [
    {
     "data": {
      "image/png": "[encoded data removed]",
      "text/plain": [
       "<Figure size 1440x720 with 1 Axes>"
      ]
     },
     "metadata": {
      "needs_background": "light"
     },
     "output_type": "display_data"
    },
    {
     "data": {
      "text/html": [
       "<div>\n",
       "<style scoped>\n",
       "    .dataframe tbody tr th:only-of-type {\n",
       "        vertical-align: middle;\n",
       "    }\n",
       "\n",
       "    .dataframe tbody tr th {\n",
       "        vertical-align: top;\n",
       "    }\n",
       "\n",
       "    .dataframe thead th {\n",
       "        text-align: right;\n",
       "    }\n",
       "</style>\n",
       "<table border=\"1\" class=\"dataframe\">\n",
       "  <thead>\n",
       "    <tr style=\"text-align: right;\">\n",
       "      <th></th>\n",
       "      <th>offset</th>\n",
       "      <th>rate</th>\n",
       "      <th>validation_accuracy</th>\n",
       "    </tr>\n",
       "  </thead>\n",
       "  <tbody>\n",
       "    <tr>\n",
       "      <th>8</th>\n",
       "      <td>0.6</td>\n",
       "      <td>0.03</td>\n",
       "      <td>1.0</td>\n",
       "    </tr>\n",
       "    <tr>\n",
       "      <th>16</th>\n",
       "      <td>0.3</td>\n",
       "      <td>0.10</td>\n",
       "      <td>1.0</td>\n",
       "    </tr>\n",
       "  </tbody>\n",
       "</table>\n",
       "</div>"
      ],
      "text/plain": [
       "    offset  rate  validation_accuracy\n",
       "8      0.6  0.03                  1.0\n",
       "16     0.3  0.10                  1.0"
      ]
     },
     "metadata": {},
     "output_type": "display_data"
    },
    {
     "data": {
      "image/png": "[encoded data removed]",
      "text/plain": [
       "<Figure size 1440x720 with 1 Axes>"
      ]
     },
     "metadata": {
      "needs_background": "light"
     },
     "output_type": "display_data"
    },
    {
     "data": {
      "text/html": [
       "<div>\n",
       "<style scoped>\n",
       "    .dataframe tbody tr th:only-of-type {\n",
       "        vertical-align: middle;\n",
       "    }\n",
       "\n",
       "    .dataframe tbody tr th {\n",
       "        vertical-align: top;\n",
       "    }\n",
       "\n",
       "    .dataframe thead th {\n",
       "        text-align: right;\n",
       "    }\n",
       "</style>\n",
       "<table border=\"1\" class=\"dataframe\">\n",
       "  <thead>\n",
       "    <tr style=\"text-align: right;\">\n",
       "      <th></th>\n",
       "      <th>offset</th>\n",
       "      <th>rate</th>\n",
       "      <th>validation_accuracy</th>\n",
       "      <th>test_accuracy</th>\n",
       "    </tr>\n",
       "  </thead>\n",
       "  <tbody>\n",
       "    <tr>\n",
       "      <th>8</th>\n",
       "      <td>0.6</td>\n",
       "      <td>0.03</td>\n",
       "      <td>1.0</td>\n",
       "      <td>1.0</td>\n",
       "    </tr>\n",
       "    <tr>\n",
       "      <th>16</th>\n",
       "      <td>0.3</td>\n",
       "      <td>0.10</td>\n",
       "      <td>1.0</td>\n",
       "      <td>1.0</td>\n",
       "    </tr>\n",
       "  </tbody>\n",
       "</table>\n",
       "</div>"
      ],
      "text/plain": [
       "    offset  rate  validation_accuracy  test_accuracy\n",
       "8      0.6  0.03                  1.0            1.0\n",
       "16     0.3  0.10                  1.0            1.0"
      ]
     },
     "metadata": {},
     "output_type": "display_data"
    },
    {
     "data": {
      "image/png": "[encoded data removed]",
      "text/plain": [
       "<Figure size 1440x720 with 1 Axes>"
      ]
     },
     "metadata": {
      "needs_background": "light"
     },
     "output_type": "display_data"
    },
    {
     "data": {
      "text/html": [
       "<div>\n",
       "<style scoped>\n",
       "    .dataframe tbody tr th:only-of-type {\n",
       "        vertical-align: middle;\n",
       "    }\n",
       "\n",
       "    .dataframe tbody tr th {\n",
       "        vertical-align: top;\n",
       "    }\n",
       "\n",
       "    .dataframe thead th {\n",
       "        text-align: right;\n",
       "    }\n",
       "</style>\n",
       "<table border=\"1\" class=\"dataframe\">\n",
       "  <thead>\n",
       "    <tr style=\"text-align: right;\">\n",
       "      <th></th>\n",
       "      <th>offset</th>\n",
       "      <th>rate</th>\n",
       "      <th>validation_accuracy</th>\n",
       "      <th>test_accuracy</th>\n",
       "      <th>accuracy</th>\n",
       "    </tr>\n",
       "  </thead>\n",
       "  <tbody>\n",
       "    <tr>\n",
       "      <th>8</th>\n",
       "      <td>0.6</td>\n",
       "      <td>0.03</td>\n",
       "      <td>1.0</td>\n",
       "      <td>1.0</td>\n",
       "      <td>1.2</td>\n",
       "    </tr>\n",
       "    <tr>\n",
       "      <th>16</th>\n",
       "      <td>0.3</td>\n",
       "      <td>0.10</td>\n",
       "      <td>1.0</td>\n",
       "      <td>1.0</td>\n",
       "      <td>2.3</td>\n",
       "    </tr>\n",
       "  </tbody>\n",
       "</table>\n",
       "</div>"
      ],
      "text/plain": [
       "    offset  rate  validation_accuracy  test_accuracy  accuracy\n",
       "8      0.6  0.03                  1.0            1.0       1.2\n",
       "16     0.3  0.10                  1.0            1.0       2.3"
      ]
     },
     "metadata": {},
     "output_type": "display_data"
    }
   ],
   "source": [
    "plot_multiple_histories ([8,16], run_number=0, op='max', backend='matplotlib')"
   ]
  },
  {
   "cell_type": "markdown",
   "metadata": {},
   "source": [
    "### Plot only one metric, and three experiments\n",
    "\n",
    "We plot the test_accuracy metric"
   ]
  },
  {
   "cell_type": "code",
   "execution_count": null,
   "metadata": {},
   "outputs": [
    {
     "data": {
      "image/png": "[encoded data removed]",
      "text/plain": [
       "<Figure size 1440x720 with 1 Axes>"
      ]
     },
     "metadata": {
      "needs_background": "light"
     },
     "output_type": "display_data"
    },
    {
     "data": {
      "text/html": [
       "<div>\n",
       "<style scoped>\n",
       "    .dataframe tbody tr th:only-of-type {\n",
       "        vertical-align: middle;\n",
       "    }\n",
       "\n",
       "    .dataframe tbody tr th {\n",
       "        vertical-align: top;\n",
       "    }\n",
       "\n",
       "    .dataframe thead th {\n",
       "        text-align: right;\n",
       "    }\n",
       "</style>\n",
       "<table border=\"1\" class=\"dataframe\">\n",
       "  <thead>\n",
       "    <tr style=\"text-align: right;\">\n",
       "      <th></th>\n",
       "      <th>epochs</th>\n",
       "      <th>offset</th>\n",
       "      <th>rate</th>\n",
       "      <th>test_accuracy</th>\n",
       "    </tr>\n",
       "  </thead>\n",
       "  <tbody>\n",
       "    <tr>\n",
       "      <th>8</th>\n",
       "      <td>30.0</td>\n",
       "      <td>0.6</td>\n",
       "      <td>0.03</td>\n",
       "      <td>1.0</td>\n",
       "    </tr>\n",
       "    <tr>\n",
       "      <th>12</th>\n",
       "      <td>15.0</td>\n",
       "      <td>0.1</td>\n",
       "      <td>0.10</td>\n",
       "      <td>1.0</td>\n",
       "    </tr>\n",
       "    <tr>\n",
       "      <th>16</th>\n",
       "      <td>30.0</td>\n",
       "      <td>0.3</td>\n",
       "      <td>0.10</td>\n",
       "      <td>1.0</td>\n",
       "    </tr>\n",
       "  </tbody>\n",
       "</table>\n",
       "</div>"
      ],
      "text/plain": [
       "    epochs  offset  rate  test_accuracy\n",
       "8     30.0     0.6  0.03            1.0\n",
       "12    15.0     0.1  0.10            1.0\n",
       "16    30.0     0.3  0.10            1.0"
      ]
     },
     "metadata": {},
     "output_type": "display_data"
    }
   ],
   "source": [
    "plot_multiple_histories ([8,12, 16], run_number=0, op='max', metrics = 'test_accuracy', backend='matplotlib')"
   ]
  },
  {
   "cell_type": "markdown",
   "metadata": {},
   "source": [
    "### Use plotly as backend"
   ]
  },
  {
   "cell_type": "code",
   "execution_count": null,
   "metadata": {},
   "outputs": [
    {
     "data": {
      "text/html": [
       "        <script type=\"text/javascript\">\n",
       "        window.PlotlyConfig = {MathJaxConfig: 'local'};\n",
       "        if (window.MathJax) {MathJax.Hub.Config({SVG: {font: \"STIX-Web\"}});}\n",
       "        if (typeof require !== 'undefined') {\n",
       "        require.undef(\"plotly\");\n",
       "        requirejs.config({\n",
       "            paths: {\n",
       "                'plotly': ['https://cdn.plot.ly/plotly-latest.min']\n",
       "            }\n",
       "        });\n",
       "        require(['plotly'], function(Plotly) {\n",
       "            window._Plotly = Plotly;\n",
       "        });\n",
       "        }\n",
       "        </script>\n",
       "        "
      ]
     },
     "metadata": {},
     "output_type": "display_data"
    },
    {
     "data": {
      "application/vnd.plotly.v1+json": {
       "config": {
        "linkText": "Export to plot.ly",
        "plotlyServerURL": "https://plot.ly",
        "showLink": false
       },
       "data": [
        {
         "mode": "markers+lines",
         "name": "8",
         "type": "scatter",
         "x": [
          0,
          1,
          2,
          3,
          4,
          5,
          6,
          7,
          8,
          9,
          10,
          11,
          12,
          13,
          14,
          15,
          16,
          17,
          18,
          19,
          20,
          21,
          22,
          23,
          24,
          25,
          26,
          27,
          28,
          29
         ],
         "y": [
          0.43922812426398444,
          0.6172828103841974,
          0.6364978850364202,
          0.6476248650028675,
          0.654883628956148,
          0.6823942449865484,
          0.8105986678652979,
          0.7616580928106796,
          0.677935146091649,
          0.7625982501170405,
          1,
          0.8777291912792811,
          0.9579073657268621,
          0.7411497266803511,
          1,
          1,
          1,
          1,
          0.9948607298119497,
          1,
          1,
          1,
          1,
          0.9250477226446674,
          0.9315314524570804,
          1,
          0.9942492374281336,
          0.842604176969367,
          0.6208915281260001,
          0.6567836217814222
         ]
        },
        {
         "marker": {
          "color": "red",
          "size": 10,
          "symbol": 104
         },
         "mode": "markers",
         "name": "",
         "type": "scatter",
         "x": [
          10
         ],
         "y": [
          1
         ]
        },
        {
         "mode": "markers+lines",
         "name": "12",
         "type": "scatter",
         "x": [
          0,
          1,
          2,
          3,
          4,
          5,
          6,
          7,
          8,
          9,
          10,
          11,
          12,
          13,
          14
         ],
         "y": [
          0.1815651262215895,
          0.19445276755253077,
          0.22906771481290722,
          0.5820701700631856,
          0.31823408707364,
          0.6636347593750254,
          0.566931200078238,
          0.7364710183050369,
          0.920241784643085,
          1,
          1,
          1,
          1,
          1,
          1
         ]
        },
        {
         "marker": {
          "color": "red",
          "size": 10,
          "symbol": 104
         },
         "mode": "markers",
         "name": "",
         "type": "scatter",
         "x": [
          9
         ],
         "y": [
          1
         ]
        },
        {
         "mode": "markers+lines",
         "name": "16",
         "type": "scatter",
         "x": [
          0,
          1,
          2,
          3,
          4,
          5,
          6,
          7,
          8,
          9,
          10,
          11,
          12,
          13,
          14,
          15,
          16,
          17,
          18,
          19,
          20,
          21,
          22,
          23,
          24,
          25,
          26,
          27,
          28,
          29
         ],
         "y": [
          0.2525778871783653,
          0.4007523781378555,
          0.4447843772048304,
          0.7099845585972064,
          0.7974464241128265,
          0.7019133420596086,
          0.8477686004139062,
          0.9665160106049634,
          1,
          1,
          1,
          1,
          1,
          1,
          1,
          1,
          1,
          1,
          1,
          1,
          1,
          1,
          1,
          1,
          1,
          1,
          1,
          1,
          1,
          1
         ]
        },
        {
         "marker": {
          "color": "red",
          "size": 10,
          "symbol": 104
         },
         "mode": "markers",
         "name": "",
         "type": "scatter",
         "x": [
          8
         ],
         "y": [
          1
         ]
        }
       ],
       "layout": {
        "template": {
         "data": {
          "bar": [
           {
            "error_x": {
             "color": "#2a3f5f"
            },
            "error_y": {
             "color": "#2a3f5f"
            },
            "marker": {
             "line": {
              "color": "#E5ECF6",
              "width": 0.5
             }
            },
            "type": "bar"
           }
          ],
          "barpolar": [
           {
            "marker": {
             "line": {
              "color": "#E5ECF6",
              "width": 0.5
             }
            },
            "type": "barpolar"
           }
          ],
          "carpet": [
           {
            "aaxis": {
             "endlinecolor": "#2a3f5f",
             "gridcolor": "white",
             "linecolor": "white",
             "minorgridcolor": "white",
             "startlinecolor": "#2a3f5f"
            },
            "baxis": {
             "endlinecolor": "#2a3f5f",
             "gridcolor": "white",
             "linecolor": "white",
             "minorgridcolor": "white",
             "startlinecolor": "#2a3f5f"
            },
            "type": "carpet"
           }
          ],
          "choropleth": [
           {
            "colorbar": {
             "outlinewidth": 0,
             "ticks": ""
            },
            "type": "choropleth"
           }
          ],
          "contour": [
           {
            "colorbar": {
             "outlinewidth": 0,
             "ticks": ""
            },
            "colorscale": [
             [
              0,
              "#0d0887"
             ],
             [
              0.1111111111111111,
              "#46039f"
             ],
             [
              0.2222222222222222,
              "#7201a8"
             ],
             [
              0.3333333333333333,
              "#9c179e"
             ],
             [
              0.4444444444444444,
              "#bd3786"
             ],
             [
              0.5555555555555556,
              "#d8576b"
             ],
             [
              0.6666666666666666,
              "#ed7953"
             ],
             [
              0.7777777777777778,
              "#fb9f3a"
             ],
             [
              0.8888888888888888,
              "#fdca26"
             ],
             [
              1,
              "#f0f921"
             ]
            ],
            "type": "contour"
           }
          ],
          "contourcarpet": [
           {
            "colorbar": {
             "outlinewidth": 0,
             "ticks": ""
            },
            "type": "contourcarpet"
           }
          ],
          "heatmap": [
           {
            "colorbar": {
             "outlinewidth": 0,
             "ticks": ""
            },
            "colorscale": [
             [
              0,
              "#0d0887"
             ],
             [
              0.1111111111111111,
              "#46039f"
             ],
             [
              0.2222222222222222,
              "#7201a8"
             ],
             [
              0.3333333333333333,
              "#9c179e"
             ],
             [
              0.4444444444444444,
              "#bd3786"
             ],
             [
              0.5555555555555556,
              "#d8576b"
             ],
             [
              0.6666666666666666,
              "#ed7953"
             ],
             [
              0.7777777777777778,
              "#fb9f3a"
             ],
             [
              0.8888888888888888,
              "#fdca26"
             ],
             [
              1,
              "#f0f921"
             ]
            ],
            "type": "heatmap"
           }
          ],
          "heatmapgl": [
           {
            "colorbar": {
             "outlinewidth": 0,
             "ticks": ""
            },
            "colorscale": [
             [
              0,
              "#0d0887"
             ],
             [
              0.1111111111111111,
              "#46039f"
             ],
             [
              0.2222222222222222,
              "#7201a8"
             ],
             [
              0.3333333333333333,
              "#9c179e"
             ],
             [
              0.4444444444444444,
              "#bd3786"
             ],
             [
              0.5555555555555556,
              "#d8576b"
             ],
             [
              0.6666666666666666,
              "#ed7953"
             ],
             [
              0.7777777777777778,
              "#fb9f3a"
             ],
             [
              0.8888888888888888,
              "#fdca26"
             ],
             [
              1,
              "#f0f921"
             ]
            ],
            "type": "heatmapgl"
           }
          ],
          "histogram": [
           {
            "marker": {
             "colorbar": {
              "outlinewidth": 0,
              "ticks": ""
             }
            },
            "type": "histogram"
           }
          ],
          "histogram2d": [
           {
            "colorbar": {
             "outlinewidth": 0,
             "ticks": ""
            },
            "colorscale": [
             [
              0,
              "#0d0887"
             ],
             [
              0.1111111111111111,
              "#46039f"
             ],
             [
              0.2222222222222222,
              "#7201a8"
             ],
             [
              0.3333333333333333,
              "#9c179e"
             ],
             [
              0.4444444444444444,
              "#bd3786"
             ],
             [
              0.5555555555555556,
              "#d8576b"
             ],
             [
              0.6666666666666666,
              "#ed7953"
             ],
             [
              0.7777777777777778,
              "#fb9f3a"
             ],
             [
              0.8888888888888888,
              "#fdca26"
             ],
             [
              1,
              "#f0f921"
             ]
            ],
            "type": "histogram2d"
           }
          ],
          "histogram2dcontour": [
           {
            "colorbar": {
             "outlinewidth": 0,
             "ticks": ""
            },
            "colorscale": [
             [
              0,
              "#0d0887"
             ],
             [
              0.1111111111111111,
              "#46039f"
             ],
             [
              0.2222222222222222,
              "#7201a8"
             ],
             [
              0.3333333333333333,
              "#9c179e"
             ],
             [
              0.4444444444444444,
              "#bd3786"
             ],
             [
              0.5555555555555556,
              "#d8576b"
             ],
             [
              0.6666666666666666,
              "#ed7953"
             ],
             [
              0.7777777777777778,
              "#fb9f3a"
             ],
             [
              0.8888888888888888,
              "#fdca26"
             ],
             [
              1,
              "#f0f921"
             ]
            ],
            "type": "histogram2dcontour"
           }
          ],
          "mesh3d": [
           {
            "colorbar": {
             "outlinewidth": 0,
             "ticks": ""
            },
            "type": "mesh3d"
           }
          ],
          "parcoords": [
           {
            "line": {
             "colorbar": {
              "outlinewidth": 0,
              "ticks": ""
             }
            },
            "type": "parcoords"
           }
          ],
          "pie": [
           {
            "automargin": true,
            "type": "pie"
           }
          ],
          "scatter": [
           {
            "marker": {
             "colorbar": {
              "outlinewidth": 0,
              "ticks": ""
             }
            },
            "type": "scatter"
           }
          ],
          "scatter3d": [
           {
            "line": {
             "colorbar": {
              "outlinewidth": 0,
              "ticks": ""
             }
            },
            "marker": {
             "colorbar": {
              "outlinewidth": 0,
              "ticks": ""
             }
            },
            "type": "scatter3d"
           }
          ],
          "scattercarpet": [
           {
            "marker": {
             "colorbar": {
              "outlinewidth": 0,
              "ticks": ""
             }
            },
            "type": "scattercarpet"
           }
          ],
          "scattergeo": [
           {
            "marker": {
             "colorbar": {
              "outlinewidth": 0,
              "ticks": ""
             }
            },
            "type": "scattergeo"
           }
          ],
          "scattergl": [
           {
            "marker": {
             "colorbar": {
              "outlinewidth": 0,
              "ticks": ""
             }
            },
            "type": "scattergl"
           }
          ],
          "scattermapbox": [
           {
            "marker": {
             "colorbar": {
              "outlinewidth": 0,
              "ticks": ""
             }
            },
            "type": "scattermapbox"
           }
          ],
          "scatterpolar": [
           {
            "marker": {
             "colorbar": {
              "outlinewidth": 0,
              "ticks": ""
             }
            },
            "type": "scatterpolar"
           }
          ],
          "scatterpolargl": [
           {
            "marker": {
             "colorbar": {
              "outlinewidth": 0,
              "ticks": ""
             }
            },
            "type": "scatterpolargl"
           }
          ],
          "scatterternary": [
           {
            "marker": {
             "colorbar": {
              "outlinewidth": 0,
              "ticks": ""
             }
            },
            "type": "scatterternary"
           }
          ],
          "surface": [
           {
            "colorbar": {
             "outlinewidth": 0,
             "ticks": ""
            },
            "colorscale": [
             [
              0,
              "#0d0887"
             ],
             [
              0.1111111111111111,
              "#46039f"
             ],
             [
              0.2222222222222222,
              "#7201a8"
             ],
             [
              0.3333333333333333,
              "#9c179e"
             ],
             [
              0.4444444444444444,
              "#bd3786"
             ],
             [
              0.5555555555555556,
              "#d8576b"
             ],
             [
              0.6666666666666666,
              "#ed7953"
             ],
             [
              0.7777777777777778,
              "#fb9f3a"
             ],
             [
              0.8888888888888888,
              "#fdca26"
             ],
             [
              1,
              "#f0f921"
             ]
            ],
            "type": "surface"
           }
          ],
          "table": [
           {
            "cells": {
             "fill": {
              "color": "#EBF0F8"
             },
             "line": {
              "color": "white"
             }
            },
            "header": {
             "fill": {
              "color": "#C8D4E3"
             },
             "line": {
              "color": "white"
             }
            },
            "type": "table"
           }
          ]
         },
         "layout": {
          "annotationdefaults": {
           "arrowcolor": "#2a3f5f",
           "arrowhead": 0,
           "arrowwidth": 1
          },
          "autotypenumbers": "strict",
          "coloraxis": {
           "colorbar": {
            "outlinewidth": 0,
            "ticks": ""
           }
          },
          "colorscale": {
           "diverging": [
            [
             0,
             "#8e0152"
            ],
            [
             0.1,
             "#c51b7d"
            ],
            [
             0.2,
             "#de77ae"
            ],
            [
             0.3,
             "#f1b6da"
            ],
            [
             0.4,
             "#fde0ef"
            ],
            [
             0.5,
             "#f7f7f7"
            ],
            [
             0.6,
             "#e6f5d0"
            ],
            [
             0.7,
             "#b8e186"
            ],
            [
             0.8,
             "#7fbc41"
            ],
            [
             0.9,
             "#4d9221"
            ],
            [
             1,
             "#276419"
            ]
           ],
           "sequential": [
            [
             0,
             "#0d0887"
            ],
            [
             0.1111111111111111,
             "#46039f"
            ],
            [
             0.2222222222222222,
             "#7201a8"
            ],
            [
             0.3333333333333333,
             "#9c179e"
            ],
            [
             0.4444444444444444,
             "#bd3786"
            ],
            [
             0.5555555555555556,
             "#d8576b"
            ],
            [
             0.6666666666666666,
             "#ed7953"
            ],
            [
             0.7777777777777778,
             "#fb9f3a"
            ],
            [
             0.8888888888888888,
             "#fdca26"
            ],
            [
             1,
             "#f0f921"
            ]
           ],
           "sequentialminus": [
            [
             0,
             "#0d0887"
            ],
            [
             0.1111111111111111,
             "#46039f"
            ],
            [
             0.2222222222222222,
             "#7201a8"
            ],
            [
             0.3333333333333333,
             "#9c179e"
            ],
            [
             0.4444444444444444,
             "#bd3786"
            ],
            [
             0.5555555555555556,
             "#d8576b"
            ],
            [
             0.6666666666666666,
             "#ed7953"
            ],
            [
             0.7777777777777778,
             "#fb9f3a"
            ],
            [
             0.8888888888888888,
             "#fdca26"
            ],
            [
             1,
             "#f0f921"
            ]
           ]
          },
          "colorway": [
           "#636efa",
           "#EF553B",
           "#00cc96",
           "#ab63fa",
           "#FFA15A",
           "#19d3f3",
           "#FF6692",
           "#B6E880",
           "#FF97FF",
           "#FECB52"
          ],
          "font": {
           "color": "#2a3f5f"
          },
          "geo": {
           "bgcolor": "white",
           "lakecolor": "white",
           "landcolor": "#E5ECF6",
           "showlakes": true,
           "showland": true,
           "subunitcolor": "white"
          },
          "hoverlabel": {
           "align": "left"
          },
          "hovermode": "closest",
          "mapbox": {
           "style": "light"
          },
          "paper_bgcolor": "white",
          "plot_bgcolor": "#E5ECF6",
          "polar": {
           "angularaxis": {
            "gridcolor": "white",
            "linecolor": "white",
            "ticks": ""
           },
           "bgcolor": "#E5ECF6",
           "radialaxis": {
            "gridcolor": "white",
            "linecolor": "white",
            "ticks": ""
           }
          },
          "scene": {
           "xaxis": {
            "backgroundcolor": "#E5ECF6",
            "gridcolor": "white",
            "gridwidth": 2,
            "linecolor": "white",
            "showbackground": true,
            "ticks": "",
            "zerolinecolor": "white"
           },
           "yaxis": {
            "backgroundcolor": "#E5ECF6",
            "gridcolor": "white",
            "gridwidth": 2,
            "linecolor": "white",
            "showbackground": true,
            "ticks": "",
            "zerolinecolor": "white"
           },
           "zaxis": {
            "backgroundcolor": "#E5ECF6",
            "gridcolor": "white",
            "gridwidth": 2,
            "linecolor": "white",
            "showbackground": true,
            "ticks": "",
            "zerolinecolor": "white"
           }
          },
          "shapedefaults": {
           "line": {
            "color": "#2a3f5f"
           }
          },
          "ternary": {
           "aaxis": {
            "gridcolor": "white",
            "linecolor": "white",
            "ticks": ""
           },
           "baxis": {
            "gridcolor": "white",
            "linecolor": "white",
            "ticks": ""
           },
           "bgcolor": "#E5ECF6",
           "caxis": {
            "gridcolor": "white",
            "linecolor": "white",
            "ticks": ""
           }
          },
          "title": {
           "x": 0.05
          },
          "xaxis": {
           "automargin": true,
           "gridcolor": "white",
           "linecolor": "white",
           "ticks": "",
           "title": {
            "standoff": 15
           },
           "zerolinecolor": "white",
           "zerolinewidth": 2
          },
          "yaxis": {
           "automargin": true,
           "gridcolor": "white",
           "linecolor": "white",
           "ticks": "",
           "title": {
            "standoff": 15
           },
           "zerolinecolor": "white",
           "zerolinewidth": 2
          }
         }
        },
        "title": {
         "text": "test_accuracy [8]: 1.00 [12]: 1.00 [16]: 1.00"
        },
        "xaxis": {
         "title": {
          "text": "epoch"
         }
        },
        "yaxis": {
         "title": {
          "text": "test_accuracy"
         }
        }
       }
      },
      "text/html": [
       "<div>                            <div id=\"03fef478-e11f-4253-b213-f7c9194d330d\" class=\"plotly-graph-div\" style=\"height:525px; width:100%;\"></div>            <script type=\"text/javascript\">                require([\"plotly\"], function(Plotly) {                    window.PLOTLYENV=window.PLOTLYENV || {};                                    if (document.getElementById(\"03fef478-e11f-4253-b213-f7c9194d330d\")) {                    Plotly.newPlot(                        \"03fef478-e11f-4253-b213-f7c9194d330d\",                        [{\"mode\": \"markers+lines\", \"name\": \"8\", \"type\": \"scatter\", \"x\": [0, 1, 2, 3, 4, 5, 6, 7, 8, 9, 10, 11, 12, 13, 14, 15, 16, 17, 18, 19, 20, 21, 22, 23, 24, 25, 26, 27, 28, 29], \"y\": [0.43922812426398444, 0.6172828103841974, 0.6364978850364202, 0.6476248650028675, 0.654883628956148, 0.6823942449865484, 0.8105986678652979, 0.7616580928106796, 0.677935146091649, 0.7625982501170405, 1.0, 0.8777291912792811, 0.9579073657268621, 0.7411497266803511, 1.0, 1.0, 1.0, 1.0, 0.9948607298119497, 1.0, 1.0, 1.0, 1.0, 0.9250477226446674, 0.9315314524570804, 1.0, 0.9942492374281336, 0.842604176969367, 0.6208915281260001, 0.6567836217814222]}, {\"marker\": {\"color\": \"red\", \"size\": 10, \"symbol\": 104}, \"mode\": \"markers\", \"name\": \"\", \"type\": \"scatter\", \"x\": [10], \"y\": [1.0]}, {\"mode\": \"markers+lines\", \"name\": \"12\", \"type\": \"scatter\", \"x\": [0, 1, 2, 3, 4, 5, 6, 7, 8, 9, 10, 11, 12, 13, 14], \"y\": [0.1815651262215895, 0.19445276755253077, 0.22906771481290722, 0.5820701700631856, 0.31823408707364, 0.6636347593750254, 0.566931200078238, 0.7364710183050369, 0.920241784643085, 1.0, 1.0, 1.0, 1.0, 1.0, 1.0]}, {\"marker\": {\"color\": \"red\", \"size\": 10, \"symbol\": 104}, \"mode\": \"markers\", \"name\": \"\", \"type\": \"scatter\", \"x\": [9], \"y\": [1.0]}, {\"mode\": \"markers+lines\", \"name\": \"16\", \"type\": \"scatter\", \"x\": [0, 1, 2, 3, 4, 5, 6, 7, 8, 9, 10, 11, 12, 13, 14, 15, 16, 17, 18, 19, 20, 21, 22, 23, 24, 25, 26, 27, 28, 29], \"y\": [0.2525778871783653, 0.4007523781378555, 0.4447843772048304, 0.7099845585972064, 0.7974464241128265, 0.7019133420596086, 0.8477686004139062, 0.9665160106049634, 1.0, 1.0, 1.0, 1.0, 1.0, 1.0, 1.0, 1.0, 1.0, 1.0, 1.0, 1.0, 1.0, 1.0, 1.0, 1.0, 1.0, 1.0, 1.0, 1.0, 1.0, 1.0]}, {\"marker\": {\"color\": \"red\", \"size\": 10, \"symbol\": 104}, \"mode\": \"markers\", \"name\": \"\", \"type\": \"scatter\", \"x\": [8], \"y\": [1.0]}],                        {\"template\": {\"data\": {\"bar\": [{\"error_x\": {\"color\": \"#2a3f5f\"}, \"error_y\": {\"color\": \"#2a3f5f\"}, \"marker\": {\"line\": {\"color\": \"#E5ECF6\", \"width\": 0.5}}, \"type\": \"bar\"}], \"barpolar\": [{\"marker\": {\"line\": {\"color\": \"#E5ECF6\", \"width\": 0.5}}, \"type\": \"barpolar\"}], \"carpet\": [{\"aaxis\": {\"endlinecolor\": \"#2a3f5f\", \"gridcolor\": \"white\", \"linecolor\": \"white\", \"minorgridcolor\": \"white\", \"startlinecolor\": \"#2a3f5f\"}, \"baxis\": {\"endlinecolor\": \"#2a3f5f\", \"gridcolor\": \"white\", \"linecolor\": \"white\", \"minorgridcolor\": \"white\", \"startlinecolor\": \"#2a3f5f\"}, \"type\": \"carpet\"}], \"choropleth\": [{\"colorbar\": {\"outlinewidth\": 0, \"ticks\": \"\"}, \"type\": \"choropleth\"}], \"contour\": [{\"colorbar\": {\"outlinewidth\": 0, \"ticks\": \"\"}, \"colorscale\": [[0.0, \"#0d0887\"], [0.1111111111111111, \"#46039f\"], [0.2222222222222222, \"#7201a8\"], [0.3333333333333333, \"#9c179e\"], [0.4444444444444444, \"#bd3786\"], [0.5555555555555556, \"#d8576b\"], [0.6666666666666666, \"#ed7953\"], [0.7777777777777778, \"#fb9f3a\"], [0.8888888888888888, \"#fdca26\"], [1.0, \"#f0f921\"]], \"type\": \"contour\"}], \"contourcarpet\": [{\"colorbar\": {\"outlinewidth\": 0, \"ticks\": \"\"}, \"type\": \"contourcarpet\"}], \"heatmap\": [{\"colorbar\": {\"outlinewidth\": 0, \"ticks\": \"\"}, \"colorscale\": [[0.0, \"#0d0887\"], [0.1111111111111111, \"#46039f\"], [0.2222222222222222, \"#7201a8\"], [0.3333333333333333, \"#9c179e\"], [0.4444444444444444, \"#bd3786\"], [0.5555555555555556, \"#d8576b\"], [0.6666666666666666, \"#ed7953\"], [0.7777777777777778, \"#fb9f3a\"], [0.8888888888888888, \"#fdca26\"], [1.0, \"#f0f921\"]], \"type\": \"heatmap\"}], \"heatmapgl\": [{\"colorbar\": {\"outlinewidth\": 0, \"ticks\": \"\"}, \"colorscale\": [[0.0, \"#0d0887\"], [0.1111111111111111, \"#46039f\"], [0.2222222222222222, \"#7201a8\"], [0.3333333333333333, \"#9c179e\"], [0.4444444444444444, \"#bd3786\"], [0.5555555555555556, \"#d8576b\"], [0.6666666666666666, \"#ed7953\"], [0.7777777777777778, \"#fb9f3a\"], [0.8888888888888888, \"#fdca26\"], [1.0, \"#f0f921\"]], \"type\": \"heatmapgl\"}], \"histogram\": [{\"marker\": {\"colorbar\": {\"outlinewidth\": 0, \"ticks\": \"\"}}, \"type\": \"histogram\"}], \"histogram2d\": [{\"colorbar\": {\"outlinewidth\": 0, \"ticks\": \"\"}, \"colorscale\": [[0.0, \"#0d0887\"], [0.1111111111111111, \"#46039f\"], [0.2222222222222222, \"#7201a8\"], [0.3333333333333333, \"#9c179e\"], [0.4444444444444444, \"#bd3786\"], [0.5555555555555556, \"#d8576b\"], [0.6666666666666666, \"#ed7953\"], [0.7777777777777778, \"#fb9f3a\"], [0.8888888888888888, \"#fdca26\"], [1.0, \"#f0f921\"]], \"type\": \"histogram2d\"}], \"histogram2dcontour\": [{\"colorbar\": {\"outlinewidth\": 0, \"ticks\": \"\"}, \"colorscale\": [[0.0, \"#0d0887\"], [0.1111111111111111, \"#46039f\"], [0.2222222222222222, \"#7201a8\"], [0.3333333333333333, \"#9c179e\"], [0.4444444444444444, \"#bd3786\"], [0.5555555555555556, \"#d8576b\"], [0.6666666666666666, \"#ed7953\"], [0.7777777777777778, \"#fb9f3a\"], [0.8888888888888888, \"#fdca26\"], [1.0, \"#f0f921\"]], \"type\": \"histogram2dcontour\"}], \"mesh3d\": [{\"colorbar\": {\"outlinewidth\": 0, \"ticks\": \"\"}, \"type\": \"mesh3d\"}], \"parcoords\": [{\"line\": {\"colorbar\": {\"outlinewidth\": 0, \"ticks\": \"\"}}, \"type\": \"parcoords\"}], \"pie\": [{\"automargin\": true, \"type\": \"pie\"}], \"scatter\": [{\"marker\": {\"colorbar\": {\"outlinewidth\": 0, \"ticks\": \"\"}}, \"type\": \"scatter\"}], \"scatter3d\": [{\"line\": {\"colorbar\": {\"outlinewidth\": 0, \"ticks\": \"\"}}, \"marker\": {\"colorbar\": {\"outlinewidth\": 0, \"ticks\": \"\"}}, \"type\": \"scatter3d\"}], \"scattercarpet\": [{\"marker\": {\"colorbar\": {\"outlinewidth\": 0, \"ticks\": \"\"}}, \"type\": \"scattercarpet\"}], \"scattergeo\": [{\"marker\": {\"colorbar\": {\"outlinewidth\": 0, \"ticks\": \"\"}}, \"type\": \"scattergeo\"}], \"scattergl\": [{\"marker\": {\"colorbar\": {\"outlinewidth\": 0, \"ticks\": \"\"}}, \"type\": \"scattergl\"}], \"scattermapbox\": [{\"marker\": {\"colorbar\": {\"outlinewidth\": 0, \"ticks\": \"\"}}, \"type\": \"scattermapbox\"}], \"scatterpolar\": [{\"marker\": {\"colorbar\": {\"outlinewidth\": 0, \"ticks\": \"\"}}, \"type\": \"scatterpolar\"}], \"scatterpolargl\": [{\"marker\": {\"colorbar\": {\"outlinewidth\": 0, \"ticks\": \"\"}}, \"type\": \"scatterpolargl\"}], \"scatterternary\": [{\"marker\": {\"colorbar\": {\"outlinewidth\": 0, \"ticks\": \"\"}}, \"type\": \"scatterternary\"}], \"surface\": [{\"colorbar\": {\"outlinewidth\": 0, \"ticks\": \"\"}, \"colorscale\": [[0.0, \"#0d0887\"], [0.1111111111111111, \"#46039f\"], [0.2222222222222222, \"#7201a8\"], [0.3333333333333333, \"#9c179e\"], [0.4444444444444444, \"#bd3786\"], [0.5555555555555556, \"#d8576b\"], [0.6666666666666666, \"#ed7953\"], [0.7777777777777778, \"#fb9f3a\"], [0.8888888888888888, \"#fdca26\"], [1.0, \"#f0f921\"]], \"type\": \"surface\"}], \"table\": [{\"cells\": {\"fill\": {\"color\": \"#EBF0F8\"}, \"line\": {\"color\": \"white\"}}, \"header\": {\"fill\": {\"color\": \"#C8D4E3\"}, \"line\": {\"color\": \"white\"}}, \"type\": \"table\"}]}, \"layout\": {\"annotationdefaults\": {\"arrowcolor\": \"#2a3f5f\", \"arrowhead\": 0, \"arrowwidth\": 1}, \"autotypenumbers\": \"strict\", \"coloraxis\": {\"colorbar\": {\"outlinewidth\": 0, \"ticks\": \"\"}}, \"colorscale\": {\"diverging\": [[0, \"#8e0152\"], [0.1, \"#c51b7d\"], [0.2, \"#de77ae\"], [0.3, \"#f1b6da\"], [0.4, \"#fde0ef\"], [0.5, \"#f7f7f7\"], [0.6, \"#e6f5d0\"], [0.7, \"#b8e186\"], [0.8, \"#7fbc41\"], [0.9, \"#4d9221\"], [1, \"#276419\"]], \"sequential\": [[0.0, \"#0d0887\"], [0.1111111111111111, \"#46039f\"], [0.2222222222222222, \"#7201a8\"], [0.3333333333333333, \"#9c179e\"], [0.4444444444444444, \"#bd3786\"], [0.5555555555555556, \"#d8576b\"], [0.6666666666666666, \"#ed7953\"], [0.7777777777777778, \"#fb9f3a\"], [0.8888888888888888, \"#fdca26\"], [1.0, \"#f0f921\"]], \"sequentialminus\": [[0.0, \"#0d0887\"], [0.1111111111111111, \"#46039f\"], [0.2222222222222222, \"#7201a8\"], [0.3333333333333333, \"#9c179e\"], [0.4444444444444444, \"#bd3786\"], [0.5555555555555556, \"#d8576b\"], [0.6666666666666666, \"#ed7953\"], [0.7777777777777778, \"#fb9f3a\"], [0.8888888888888888, \"#fdca26\"], [1.0, \"#f0f921\"]]}, \"colorway\": [\"#636efa\", \"#EF553B\", \"#00cc96\", \"#ab63fa\", \"#FFA15A\", \"#19d3f3\", \"#FF6692\", \"#B6E880\", \"#FF97FF\", \"#FECB52\"], \"font\": {\"color\": \"#2a3f5f\"}, \"geo\": {\"bgcolor\": \"white\", \"lakecolor\": \"white\", \"landcolor\": \"#E5ECF6\", \"showlakes\": true, \"showland\": true, \"subunitcolor\": \"white\"}, \"hoverlabel\": {\"align\": \"left\"}, \"hovermode\": \"closest\", \"mapbox\": {\"style\": \"light\"}, \"paper_bgcolor\": \"white\", \"plot_bgcolor\": \"#E5ECF6\", \"polar\": {\"angularaxis\": {\"gridcolor\": \"white\", \"linecolor\": \"white\", \"ticks\": \"\"}, \"bgcolor\": \"#E5ECF6\", \"radialaxis\": {\"gridcolor\": \"white\", \"linecolor\": \"white\", \"ticks\": \"\"}}, \"scene\": {\"xaxis\": {\"backgroundcolor\": \"#E5ECF6\", \"gridcolor\": \"white\", \"gridwidth\": 2, \"linecolor\": \"white\", \"showbackground\": true, \"ticks\": \"\", \"zerolinecolor\": \"white\"}, \"yaxis\": {\"backgroundcolor\": \"#E5ECF6\", \"gridcolor\": \"white\", \"gridwidth\": 2, \"linecolor\": \"white\", \"showbackground\": true, \"ticks\": \"\", \"zerolinecolor\": \"white\"}, \"zaxis\": {\"backgroundcolor\": \"#E5ECF6\", \"gridcolor\": \"white\", \"gridwidth\": 2, \"linecolor\": \"white\", \"showbackground\": true, \"ticks\": \"\", \"zerolinecolor\": \"white\"}}, \"shapedefaults\": {\"line\": {\"color\": \"#2a3f5f\"}}, \"ternary\": {\"aaxis\": {\"gridcolor\": \"white\", \"linecolor\": \"white\", \"ticks\": \"\"}, \"baxis\": {\"gridcolor\": \"white\", \"linecolor\": \"white\", \"ticks\": \"\"}, \"bgcolor\": \"#E5ECF6\", \"caxis\": {\"gridcolor\": \"white\", \"linecolor\": \"white\", \"ticks\": \"\"}}, \"title\": {\"x\": 0.05}, \"xaxis\": {\"automargin\": true, \"gridcolor\": \"white\", \"linecolor\": \"white\", \"ticks\": \"\", \"title\": {\"standoff\": 15}, \"zerolinecolor\": \"white\", \"zerolinewidth\": 2}, \"yaxis\": {\"automargin\": true, \"gridcolor\": \"white\", \"linecolor\": \"white\", \"ticks\": \"\", \"title\": {\"standoff\": 15}, \"zerolinecolor\": \"white\", \"zerolinewidth\": 2}}}, \"title\": {\"text\": \"test_accuracy [8]: 1.00 [12]: 1.00 [16]: 1.00\"}, \"xaxis\": {\"title\": {\"text\": \"epoch\"}}, \"yaxis\": {\"title\": {\"text\": \"test_accuracy\"}}},                        {\"responsive\": true}                    ).then(function(){\n",
       "                            \n",
       "var gd = document.getElementById('03fef478-e11f-4253-b213-f7c9194d330d');\n",
       "var x = new MutationObserver(function (mutations, observer) {{\n",
       "        var display = window.getComputedStyle(gd).display;\n",
       "        if (!display || display === 'none') {{\n",
       "            console.log([gd, 'removed!']);\n",
       "            Plotly.purge(gd);\n",
       "            observer.disconnect();\n",
       "        }}\n",
       "}});\n",
       "\n",
       "// Listen for the removal of the full notebook cells\n",
       "var notebookContainer = gd.closest('#notebook-container');\n",
       "if (notebookContainer) {{\n",
       "    x.observe(notebookContainer, {childList: true});\n",
       "}}\n",
       "\n",
       "// Listen for the clearing of the current output cell\n",
       "var outputEl = gd.closest('.output');\n",
       "if (outputEl) {{\n",
       "    x.observe(outputEl, {childList: true});\n",
       "}}\n",
       "\n",
       "                        })                };                });            </script>        </div>"
      ]
     },
     "metadata": {},
     "output_type": "display_data"
    },
    {
     "data": {
      "text/html": [
       "<div>\n",
       "<style scoped>\n",
       "    .dataframe tbody tr th:only-of-type {\n",
       "        vertical-align: middle;\n",
       "    }\n",
       "\n",
       "    .dataframe tbody tr th {\n",
       "        vertical-align: top;\n",
       "    }\n",
       "\n",
       "    .dataframe thead th {\n",
       "        text-align: right;\n",
       "    }\n",
       "</style>\n",
       "<table border=\"1\" class=\"dataframe\">\n",
       "  <thead>\n",
       "    <tr style=\"text-align: right;\">\n",
       "      <th></th>\n",
       "      <th>epochs</th>\n",
       "      <th>offset</th>\n",
       "      <th>rate</th>\n",
       "      <th>test_accuracy</th>\n",
       "    </tr>\n",
       "  </thead>\n",
       "  <tbody>\n",
       "    <tr>\n",
       "      <th>8</th>\n",
       "      <td>30.0</td>\n",
       "      <td>0.6</td>\n",
       "      <td>0.03</td>\n",
       "      <td>1.0</td>\n",
       "    </tr>\n",
       "    <tr>\n",
       "      <th>12</th>\n",
       "      <td>15.0</td>\n",
       "      <td>0.1</td>\n",
       "      <td>0.10</td>\n",
       "      <td>1.0</td>\n",
       "    </tr>\n",
       "    <tr>\n",
       "      <th>16</th>\n",
       "      <td>30.0</td>\n",
       "      <td>0.3</td>\n",
       "      <td>0.10</td>\n",
       "      <td>1.0</td>\n",
       "    </tr>\n",
       "  </tbody>\n",
       "</table>\n",
       "</div>"
      ],
      "text/plain": [
       "    epochs  offset  rate  test_accuracy\n",
       "8     30.0     0.6  0.03            1.0\n",
       "12    15.0     0.1  0.10            1.0\n",
       "16    30.0     0.3  0.10            1.0"
      ]
     },
     "metadata": {},
     "output_type": "display_data"
    }
   ],
   "source": [
    "plot_multiple_histories ([8,12, 16], run_number=0, op='max', metrics = 'test_accuracy', backend='plotly')"
   ]
  },
  {
   "cell_type": "markdown",
   "metadata": {},
   "source": [
    "## Metric correlation\n",
    "\n",
    "Displays the relationship between scores obtained across experiments with two different evaluation metrics indicated as argument. Calculates Pearson R-squared coefficient."
   ]
  },
  {
   "cell_type": "code",
   "execution_count": null,
   "metadata": {},
   "outputs": [],
   "source": [
    "#export\n",
    "\n",
    "def plot_metric_relationship (metric_1, metric_2, folder_experiments=None, run_numbers=None, \n",
    "                              experiments=None, experiment_subset=None,\n",
    "                              backend='visdom', **kwargs):\n",
    "    df = ut.get_experiment_data (folder_experiments=folder_experiments, experiments=experiments)\n",
    "    df_metric_1 = ut.get_experiment_scores (experiment_data=df, suffix_results=f'_{metric_1}', remove_suffix=True, class_ids=run_numbers)\n",
    "    df_metric_2 = ut.get_experiment_scores (experiment_data=df, suffix_results=f'_{metric_2}', remove_suffix=True, class_ids=run_numbers)\n",
    "    \n",
    "    traces=plot_utils.add_trace(df_metric_1.values, df_metric_2.values, traces=[], style='A.', label='all experiments', backend=backend);\n",
    "    \n",
    "    if experiment_subset is not None:\n",
    "        df_metric_1_subset = ut.get_experiment_scores (experiment_data=df.loc[experiment_subset], suffix_results=f'_{metric_1}', remove_suffix=True, class_ids=run_numbers)\n",
    "        df_metric_2_subset = ut.get_experiment_scores (experiment_data=df.loc[experiment_subset], suffix_results=f'_{metric_2}', remove_suffix=True, class_ids=run_numbers)\n",
    "        traces=plot_utils.add_trace(df_metric_1_subset.values, df_metric_2_subset.values, traces=traces, style='A.', label=f'selected subset', backend=backend);\n",
    "    \n",
    "    plot_utils.plot(np.linspace(df_metric_1.values.min(), df_metric_1.values.max(), 100), \n",
    "                np.linspace(df_metric_2.values.min(), df_metric_2.values.max(), 100), \n",
    "                traces=traces, style='A-', label='linear', title=f'{metric_1} vs {metric_2}', xlabel=metric_1, ylabel=metric_2, backend=backend);"
   ]
  },
  {
   "cell_type": "markdown",
   "metadata": {},
   "source": [
    "## usage examples\n",
    "\n",
    "Illustrate usage based on dummy experiment manager"
   ]
  },
  {
   "cell_type": "markdown",
   "metadata": {},
   "source": [
    "#### plot relationship between validation and accuracy metrics"
   ]
  },
  {
   "cell_type": "code",
   "execution_count": null,
   "metadata": {},
   "outputs": [
    {
     "data": {
      "text/html": [
       "        <script type=\"text/javascript\">\n",
       "        window.PlotlyConfig = {MathJaxConfig: 'local'};\n",
       "        if (window.MathJax) {MathJax.Hub.Config({SVG: {font: \"STIX-Web\"}});}\n",
       "        if (typeof require !== 'undefined') {\n",
       "        require.undef(\"plotly\");\n",
       "        requirejs.config({\n",
       "            paths: {\n",
       "                'plotly': ['https://cdn.plot.ly/plotly-latest.min']\n",
       "            }\n",
       "        });\n",
       "        require(['plotly'], function(Plotly) {\n",
       "            window._Plotly = Plotly;\n",
       "        });\n",
       "        }\n",
       "        </script>\n",
       "        "
      ]
     },
     "metadata": {},
     "output_type": "display_data"
    },
    {
     "data": {
      "application/vnd.plotly.v1+json": {
       "config": {
        "linkText": "Export to plot.ly",
        "plotlyServerURL": "https://plot.ly",
        "showLink": false
       },
       "data": [
        {
         "mode": "markers",
         "name": "all experiments",
         "type": "scatter",
         "x": [
          0.305631422238463,
          0.2646120610831435,
          0.16756272364655916,
          0.12324518908084134,
          0.41789660359512437,
          0.4216372503073592,
          0.3894598072366486,
          0.4521507130717074,
          0.6295219227132647,
          0.4549626146182153,
          0.6701665483167591,
          0.7175494387561314,
          0.7191744723080403,
          0.7234883377608524,
          0.8251436804521654,
          0.6054410736077539,
          0.575299459922657,
          0.6890604343822585,
          0.5490768778143513,
          0.5716679654661798,
          0.8121013332663769,
          0.7379993498589118,
          0.814674921726226,
          0.5588159912422294,
          0.6591867057979535,
          1,
          1,
          1,
          1,
          0.9658767031128402,
          0.2927829924944443,
          0.34913514267799656,
          0.45556160759912556,
          0.5163581812849081,
          0.46724938643031977,
          0.49849694837200126,
          0.5635754688642789,
          0.5662112305583923,
          0.5938375720740909,
          0.4360904178918894,
          1,
          1,
          1,
          0.9065438301025369,
          0.8324330871750214,
          0.6760419532668581,
          0.5721439265061625,
          0.48291338704168674,
          0.8131553736582049,
          0.30403429706490637,
          0.8172585468392944,
          0.6863050220555496,
          0.5384505459676983,
          0.9655212002513134,
          0.6853141744384887,
          1,
          1,
          1,
          1,
          0.9972315711361318,
          1,
          1,
          1,
          1,
          1,
          1,
          1,
          1,
          1,
          1,
          1,
          1,
          1,
          1,
          1,
          0.9720230723321036,
          1,
          0.9467578579653277,
          0.9149546848160562,
          1,
          1,
          1,
          1,
          1,
          1,
          1,
          1,
          1,
          1,
          1
         ],
         "y": [
          0.5033292509850051,
          0.39271056491116846,
          0.5069274270073986,
          0.3695921082340699,
          0.3848767390278466,
          0.482800289748714,
          0.657063757955613,
          0.4353095366482435,
          0.4207548634596724,
          0.5899291486730474,
          0.7850543744047882,
          0.8628375966286369,
          0.8055234094085176,
          0.8981995548148513,
          0.7484777679608634,
          0.37903018862015925,
          0.45007877676527464,
          0.5808847446580789,
          0.3669607254493914,
          0.5125785194815164,
          0.4509427381012443,
          0.6338722286935421,
          0.5584031102843441,
          0.5628520382984434,
          0.6547163048390563,
          0.939065253441276,
          0.9763297832852534,
          0.9522333319837616,
          1,
          1,
          0.22438088111441556,
          0.4405446089782935,
          0.17006638006543315,
          0.40204752824966417,
          0.2839313680388093,
          0.3831492385019192,
          0.5321846062356068,
          0.5982782617229508,
          0.6296580667871248,
          0.4870391121940211,
          0.7734307464799904,
          0.8413861631116624,
          0.6358769441855616,
          0.6185103662678293,
          0.7120719535193413,
          0.757044274072341,
          0.6683890283470186,
          0.59020515776807,
          0.5378593700275757,
          0.6870389855164168,
          1,
          0.9696470611441881,
          1,
          1,
          0.9769214366331762,
          1,
          1,
          1,
          1,
          1,
          1,
          1,
          1,
          1,
          1,
          1,
          1,
          1,
          1,
          1,
          1,
          1,
          1,
          1,
          1,
          1,
          0.9248976435432034,
          1,
          1,
          1,
          1,
          1,
          0.8809692740102653,
          1,
          1,
          1,
          1,
          1,
          1,
          1
         ]
        },
        {
         "mode": "lines",
         "name": "linear",
         "type": "scatter",
         "x": [
          0.12324518908084134,
          0.13210129828204495,
          0.1409574074832486,
          0.1498135166844522,
          0.15866962588565584,
          0.16752573508685945,
          0.17638184428806308,
          0.1852379534892667,
          0.1940940626904703,
          0.20295017189167394,
          0.21180628109287758,
          0.2206623902940812,
          0.2295184994952848,
          0.2383746086964884,
          0.24723071789769205,
          0.2560868270988957,
          0.2649429363000993,
          0.2737990455013029,
          0.2826551547025066,
          0.2915112639037102,
          0.3003673731049138,
          0.3092234823061174,
          0.318079591507321,
          0.3269357007085246,
          0.33579180990972823,
          0.3446479191109319,
          0.3535040283121355,
          0.3623601375133392,
          0.3712162467145428,
          0.3800723559157464,
          0.38892846511695,
          0.3977845743181536,
          0.4066406835193572,
          0.41549679272056084,
          0.42435290192176445,
          0.43320901112296817,
          0.4420651203241718,
          0.4509212295253754,
          0.459777338726579,
          0.4686334479277826,
          0.4774895571289862,
          0.48634566633018983,
          0.49520177553139344,
          0.504057884732597,
          0.5129139939338008,
          0.5217701031350044,
          0.530626212336208,
          0.5394823215374116,
          0.5483384307386152,
          0.5571945399398188,
          0.5660506491410224,
          0.574906758342226,
          0.5837628675434297,
          0.5926189767446334,
          0.601475085945837,
          0.6103311951470406,
          0.6191873043482442,
          0.6280434135494478,
          0.6368995227506514,
          0.645755631951855,
          0.6546117411530588,
          0.6634678503542624,
          0.672323959555466,
          0.6811800687566696,
          0.6900361779578732,
          0.6988922871590768,
          0.7077483963602804,
          0.716604505561484,
          0.7254606147626876,
          0.7343167239638914,
          0.743172833165095,
          0.7520289423662986,
          0.7608850515675022,
          0.7697411607687058,
          0.7785972699699094,
          0.787453379171113,
          0.7963094883723166,
          0.8051655975735202,
          0.814021706774724,
          0.8228778159759276,
          0.8317339251771312,
          0.8405900343783348,
          0.8494461435795384,
          0.858302252780742,
          0.8671583619819456,
          0.8760144711831492,
          0.8848705803843528,
          0.8937266895855566,
          0.9025827987867602,
          0.9114389079879638,
          0.9202950171891674,
          0.929151126390371,
          0.9380072355915746,
          0.9468633447927782,
          0.9557194539939818,
          0.9645755631951854,
          0.9734316723963891,
          0.9822877815975928,
          0.9911438907987964,
          1
         ],
         "y": [
          0.17006638006543315,
          0.17844954794356008,
          0.18683271582168703,
          0.19521588369981396,
          0.2035990515779409,
          0.21198221945606782,
          0.22036538733419478,
          0.2287485552123217,
          0.23713172309044867,
          0.2455148909685756,
          0.2538980588467025,
          0.26228122672482945,
          0.27066439460295644,
          0.2790475624810833,
          0.2874307303592103,
          0.2958138982373372,
          0.30419706611546415,
          0.3125802339935911,
          0.320963401871718,
          0.329346569749845,
          0.33772973762797187,
          0.34611290550609886,
          0.3544960733842258,
          0.3628792412623527,
          0.3712624091404797,
          0.3796455770186066,
          0.38802874489673356,
          0.39641191277486043,
          0.4047950806529874,
          0.41317824853111434,
          0.4215614164092413,
          0.42994458428736826,
          0.43832775216549513,
          0.4467109200436221,
          0.455094087921749,
          0.463477255799876,
          0.47186042367800296,
          0.48024359155612983,
          0.4886267594342568,
          0.4970099273123837,
          0.5053930951905107,
          0.5137762630686376,
          0.5221594309467645,
          0.5305425988248915,
          0.5389257667030184,
          0.5473089345811454,
          0.5556921024592723,
          0.5640752703373992,
          0.5724584382155262,
          0.5808416060936531,
          0.5892247739717801,
          0.597607941849907,
          0.6059911097280339,
          0.6143742776061608,
          0.6227574454842878,
          0.6311406133624148,
          0.6395237812405417,
          0.6479069491186686,
          0.6562901169967955,
          0.6646732848749225,
          0.6730564527530495,
          0.6814396206311764,
          0.6898227885093033,
          0.6982059563874302,
          0.7065891242655572,
          0.7149722921436842,
          0.7233554600218111,
          0.731738627899938,
          0.7401217957780649,
          0.7485049636561919,
          0.7568881315343188,
          0.7652712994124458,
          0.7736544672905727,
          0.7820376351686996,
          0.7904208030468266,
          0.7988039709249535,
          0.8071871388030805,
          0.8155703066812074,
          0.8239534745593343,
          0.8323366424374613,
          0.8407198103155882,
          0.8491029781937152,
          0.857486146071842,
          0.865869313949969,
          0.874252481828096,
          0.8826356497062229,
          0.8910188175843499,
          0.8994019854624767,
          0.9077851533406037,
          0.9161683212187306,
          0.9245514890968576,
          0.9329346569749846,
          0.9413178248531114,
          0.9497009927312384,
          0.9580841606093653,
          0.9664673284874923,
          0.9748504963656193,
          0.9832336642437461,
          0.9916168321218731,
          1
         ]
        }
       ],
       "layout": {
        "template": {
         "data": {
          "bar": [
           {
            "error_x": {
             "color": "#2a3f5f"
            },
            "error_y": {
             "color": "#2a3f5f"
            },
            "marker": {
             "line": {
              "color": "#E5ECF6",
              "width": 0.5
             }
            },
            "type": "bar"
           }
          ],
          "barpolar": [
           {
            "marker": {
             "line": {
              "color": "#E5ECF6",
              "width": 0.5
             }
            },
            "type": "barpolar"
           }
          ],
          "carpet": [
           {
            "aaxis": {
             "endlinecolor": "#2a3f5f",
             "gridcolor": "white",
             "linecolor": "white",
             "minorgridcolor": "white",
             "startlinecolor": "#2a3f5f"
            },
            "baxis": {
             "endlinecolor": "#2a3f5f",
             "gridcolor": "white",
             "linecolor": "white",
             "minorgridcolor": "white",
             "startlinecolor": "#2a3f5f"
            },
            "type": "carpet"
           }
          ],
          "choropleth": [
           {
            "colorbar": {
             "outlinewidth": 0,
             "ticks": ""
            },
            "type": "choropleth"
           }
          ],
          "contour": [
           {
            "colorbar": {
             "outlinewidth": 0,
             "ticks": ""
            },
            "colorscale": [
             [
              0,
              "#0d0887"
             ],
             [
              0.1111111111111111,
              "#46039f"
             ],
             [
              0.2222222222222222,
              "#7201a8"
             ],
             [
              0.3333333333333333,
              "#9c179e"
             ],
             [
              0.4444444444444444,
              "#bd3786"
             ],
             [
              0.5555555555555556,
              "#d8576b"
             ],
             [
              0.6666666666666666,
              "#ed7953"
             ],
             [
              0.7777777777777778,
              "#fb9f3a"
             ],
             [
              0.8888888888888888,
              "#fdca26"
             ],
             [
              1,
              "#f0f921"
             ]
            ],
            "type": "contour"
           }
          ],
          "contourcarpet": [
           {
            "colorbar": {
             "outlinewidth": 0,
             "ticks": ""
            },
            "type": "contourcarpet"
           }
          ],
          "heatmap": [
           {
            "colorbar": {
             "outlinewidth": 0,
             "ticks": ""
            },
            "colorscale": [
             [
              0,
              "#0d0887"
             ],
             [
              0.1111111111111111,
              "#46039f"
             ],
             [
              0.2222222222222222,
              "#7201a8"
             ],
             [
              0.3333333333333333,
              "#9c179e"
             ],
             [
              0.4444444444444444,
              "#bd3786"
             ],
             [
              0.5555555555555556,
              "#d8576b"
             ],
             [
              0.6666666666666666,
              "#ed7953"
             ],
             [
              0.7777777777777778,
              "#fb9f3a"
             ],
             [
              0.8888888888888888,
              "#fdca26"
             ],
             [
              1,
              "#f0f921"
             ]
            ],
            "type": "heatmap"
           }
          ],
          "heatmapgl": [
           {
            "colorbar": {
             "outlinewidth": 0,
             "ticks": ""
            },
            "colorscale": [
             [
              0,
              "#0d0887"
             ],
             [
              0.1111111111111111,
              "#46039f"
             ],
             [
              0.2222222222222222,
              "#7201a8"
             ],
             [
              0.3333333333333333,
              "#9c179e"
             ],
             [
              0.4444444444444444,
              "#bd3786"
             ],
             [
              0.5555555555555556,
              "#d8576b"
             ],
             [
              0.6666666666666666,
              "#ed7953"
             ],
             [
              0.7777777777777778,
              "#fb9f3a"
             ],
             [
              0.8888888888888888,
              "#fdca26"
             ],
             [
              1,
              "#f0f921"
             ]
            ],
            "type": "heatmapgl"
           }
          ],
          "histogram": [
           {
            "marker": {
             "colorbar": {
              "outlinewidth": 0,
              "ticks": ""
             }
            },
            "type": "histogram"
           }
          ],
          "histogram2d": [
           {
            "colorbar": {
             "outlinewidth": 0,
             "ticks": ""
            },
            "colorscale": [
             [
              0,
              "#0d0887"
             ],
             [
              0.1111111111111111,
              "#46039f"
             ],
             [
              0.2222222222222222,
              "#7201a8"
             ],
             [
              0.3333333333333333,
              "#9c179e"
             ],
             [
              0.4444444444444444,
              "#bd3786"
             ],
             [
              0.5555555555555556,
              "#d8576b"
             ],
             [
              0.6666666666666666,
              "#ed7953"
             ],
             [
              0.7777777777777778,
              "#fb9f3a"
             ],
             [
              0.8888888888888888,
              "#fdca26"
             ],
             [
              1,
              "#f0f921"
             ]
            ],
            "type": "histogram2d"
           }
          ],
          "histogram2dcontour": [
           {
            "colorbar": {
             "outlinewidth": 0,
             "ticks": ""
            },
            "colorscale": [
             [
              0,
              "#0d0887"
             ],
             [
              0.1111111111111111,
              "#46039f"
             ],
             [
              0.2222222222222222,
              "#7201a8"
             ],
             [
              0.3333333333333333,
              "#9c179e"
             ],
             [
              0.4444444444444444,
              "#bd3786"
             ],
             [
              0.5555555555555556,
              "#d8576b"
             ],
             [
              0.6666666666666666,
              "#ed7953"
             ],
             [
              0.7777777777777778,
              "#fb9f3a"
             ],
             [
              0.8888888888888888,
              "#fdca26"
             ],
             [
              1,
              "#f0f921"
             ]
            ],
            "type": "histogram2dcontour"
           }
          ],
          "mesh3d": [
           {
            "colorbar": {
             "outlinewidth": 0,
             "ticks": ""
            },
            "type": "mesh3d"
           }
          ],
          "parcoords": [
           {
            "line": {
             "colorbar": {
              "outlinewidth": 0,
              "ticks": ""
             }
            },
            "type": "parcoords"
           }
          ],
          "pie": [
           {
            "automargin": true,
            "type": "pie"
           }
          ],
          "scatter": [
           {
            "marker": {
             "colorbar": {
              "outlinewidth": 0,
              "ticks": ""
             }
            },
            "type": "scatter"
           }
          ],
          "scatter3d": [
           {
            "line": {
             "colorbar": {
              "outlinewidth": 0,
              "ticks": ""
             }
            },
            "marker": {
             "colorbar": {
              "outlinewidth": 0,
              "ticks": ""
             }
            },
            "type": "scatter3d"
           }
          ],
          "scattercarpet": [
           {
            "marker": {
             "colorbar": {
              "outlinewidth": 0,
              "ticks": ""
             }
            },
            "type": "scattercarpet"
           }
          ],
          "scattergeo": [
           {
            "marker": {
             "colorbar": {
              "outlinewidth": 0,
              "ticks": ""
             }
            },
            "type": "scattergeo"
           }
          ],
          "scattergl": [
           {
            "marker": {
             "colorbar": {
              "outlinewidth": 0,
              "ticks": ""
             }
            },
            "type": "scattergl"
           }
          ],
          "scattermapbox": [
           {
            "marker": {
             "colorbar": {
              "outlinewidth": 0,
              "ticks": ""
             }
            },
            "type": "scattermapbox"
           }
          ],
          "scatterpolar": [
           {
            "marker": {
             "colorbar": {
              "outlinewidth": 0,
              "ticks": ""
             }
            },
            "type": "scatterpolar"
           }
          ],
          "scatterpolargl": [
           {
            "marker": {
             "colorbar": {
              "outlinewidth": 0,
              "ticks": ""
             }
            },
            "type": "scatterpolargl"
           }
          ],
          "scatterternary": [
           {
            "marker": {
             "colorbar": {
              "outlinewidth": 0,
              "ticks": ""
             }
            },
            "type": "scatterternary"
           }
          ],
          "surface": [
           {
            "colorbar": {
             "outlinewidth": 0,
             "ticks": ""
            },
            "colorscale": [
             [
              0,
              "#0d0887"
             ],
             [
              0.1111111111111111,
              "#46039f"
             ],
             [
              0.2222222222222222,
              "#7201a8"
             ],
             [
              0.3333333333333333,
              "#9c179e"
             ],
             [
              0.4444444444444444,
              "#bd3786"
             ],
             [
              0.5555555555555556,
              "#d8576b"
             ],
             [
              0.6666666666666666,
              "#ed7953"
             ],
             [
              0.7777777777777778,
              "#fb9f3a"
             ],
             [
              0.8888888888888888,
              "#fdca26"
             ],
             [
              1,
              "#f0f921"
             ]
            ],
            "type": "surface"
           }
          ],
          "table": [
           {
            "cells": {
             "fill": {
              "color": "#EBF0F8"
             },
             "line": {
              "color": "white"
             }
            },
            "header": {
             "fill": {
              "color": "#C8D4E3"
             },
             "line": {
              "color": "white"
             }
            },
            "type": "table"
           }
          ]
         },
         "layout": {
          "annotationdefaults": {
           "arrowcolor": "#2a3f5f",
           "arrowhead": 0,
           "arrowwidth": 1
          },
          "autotypenumbers": "strict",
          "coloraxis": {
           "colorbar": {
            "outlinewidth": 0,
            "ticks": ""
           }
          },
          "colorscale": {
           "diverging": [
            [
             0,
             "#8e0152"
            ],
            [
             0.1,
             "#c51b7d"
            ],
            [
             0.2,
             "#de77ae"
            ],
            [
             0.3,
             "#f1b6da"
            ],
            [
             0.4,
             "#fde0ef"
            ],
            [
             0.5,
             "#f7f7f7"
            ],
            [
             0.6,
             "#e6f5d0"
            ],
            [
             0.7,
             "#b8e186"
            ],
            [
             0.8,
             "#7fbc41"
            ],
            [
             0.9,
             "#4d9221"
            ],
            [
             1,
             "#276419"
            ]
           ],
           "sequential": [
            [
             0,
             "#0d0887"
            ],
            [
             0.1111111111111111,
             "#46039f"
            ],
            [
             0.2222222222222222,
             "#7201a8"
            ],
            [
             0.3333333333333333,
             "#9c179e"
            ],
            [
             0.4444444444444444,
             "#bd3786"
            ],
            [
             0.5555555555555556,
             "#d8576b"
            ],
            [
             0.6666666666666666,
             "#ed7953"
            ],
            [
             0.7777777777777778,
             "#fb9f3a"
            ],
            [
             0.8888888888888888,
             "#fdca26"
            ],
            [
             1,
             "#f0f921"
            ]
           ],
           "sequentialminus": [
            [
             0,
             "#0d0887"
            ],
            [
             0.1111111111111111,
             "#46039f"
            ],
            [
             0.2222222222222222,
             "#7201a8"
            ],
            [
             0.3333333333333333,
             "#9c179e"
            ],
            [
             0.4444444444444444,
             "#bd3786"
            ],
            [
             0.5555555555555556,
             "#d8576b"
            ],
            [
             0.6666666666666666,
             "#ed7953"
            ],
            [
             0.7777777777777778,
             "#fb9f3a"
            ],
            [
             0.8888888888888888,
             "#fdca26"
            ],
            [
             1,
             "#f0f921"
            ]
           ]
          },
          "colorway": [
           "#636efa",
           "#EF553B",
           "#00cc96",
           "#ab63fa",
           "#FFA15A",
           "#19d3f3",
           "#FF6692",
           "#B6E880",
           "#FF97FF",
           "#FECB52"
          ],
          "font": {
           "color": "#2a3f5f"
          },
          "geo": {
           "bgcolor": "white",
           "lakecolor": "white",
           "landcolor": "#E5ECF6",
           "showlakes": true,
           "showland": true,
           "subunitcolor": "white"
          },
          "hoverlabel": {
           "align": "left"
          },
          "hovermode": "closest",
          "mapbox": {
           "style": "light"
          },
          "paper_bgcolor": "white",
          "plot_bgcolor": "#E5ECF6",
          "polar": {
           "angularaxis": {
            "gridcolor": "white",
            "linecolor": "white",
            "ticks": ""
           },
           "bgcolor": "#E5ECF6",
           "radialaxis": {
            "gridcolor": "white",
            "linecolor": "white",
            "ticks": ""
           }
          },
          "scene": {
           "xaxis": {
            "backgroundcolor": "#E5ECF6",
            "gridcolor": "white",
            "gridwidth": 2,
            "linecolor": "white",
            "showbackground": true,
            "ticks": "",
            "zerolinecolor": "white"
           },
           "yaxis": {
            "backgroundcolor": "#E5ECF6",
            "gridcolor": "white",
            "gridwidth": 2,
            "linecolor": "white",
            "showbackground": true,
            "ticks": "",
            "zerolinecolor": "white"
           },
           "zaxis": {
            "backgroundcolor": "#E5ECF6",
            "gridcolor": "white",
            "gridwidth": 2,
            "linecolor": "white",
            "showbackground": true,
            "ticks": "",
            "zerolinecolor": "white"
           }
          },
          "shapedefaults": {
           "line": {
            "color": "#2a3f5f"
           }
          },
          "ternary": {
           "aaxis": {
            "gridcolor": "white",
            "linecolor": "white",
            "ticks": ""
           },
           "baxis": {
            "gridcolor": "white",
            "linecolor": "white",
            "ticks": ""
           },
           "bgcolor": "#E5ECF6",
           "caxis": {
            "gridcolor": "white",
            "linecolor": "white",
            "ticks": ""
           }
          },
          "title": {
           "x": 0.05
          },
          "xaxis": {
           "automargin": true,
           "gridcolor": "white",
           "linecolor": "white",
           "ticks": "",
           "title": {
            "standoff": 15
           },
           "zerolinecolor": "white",
           "zerolinewidth": 2
          },
          "yaxis": {
           "automargin": true,
           "gridcolor": "white",
           "linecolor": "white",
           "ticks": "",
           "title": {
            "standoff": 15
           },
           "zerolinecolor": "white",
           "zerolinewidth": 2
          }
         }
        },
        "title": {
         "text": "validation_accuracy vs test_accuracy"
        },
        "xaxis": {
         "title": {
          "text": "validation_accuracy"
         }
        },
        "yaxis": {
         "title": {
          "text": "test_accuracy"
         }
        }
       }
      },
      "text/html": [
       "<div>                            <div id=\"93dfb38a-26b9-40a6-9549-9719b245a45b\" class=\"plotly-graph-div\" style=\"height:525px; width:100%;\"></div>            <script type=\"text/javascript\">                require([\"plotly\"], function(Plotly) {                    window.PLOTLYENV=window.PLOTLYENV || {};                                    if (document.getElementById(\"93dfb38a-26b9-40a6-9549-9719b245a45b\")) {                    Plotly.newPlot(                        \"93dfb38a-26b9-40a6-9549-9719b245a45b\",                        [{\"mode\": \"markers\", \"name\": \"all experiments\", \"type\": \"scatter\", \"x\": [0.305631422238463, 0.2646120610831435, 0.16756272364655916, 0.12324518908084134, 0.41789660359512437, 0.4216372503073592, 0.3894598072366486, 0.4521507130717074, 0.6295219227132647, 0.4549626146182153, 0.6701665483167591, 0.7175494387561314, 0.7191744723080403, 0.7234883377608524, 0.8251436804521654, 0.6054410736077539, 0.575299459922657, 0.6890604343822585, 0.5490768778143513, 0.5716679654661798, 0.8121013332663769, 0.7379993498589118, 0.814674921726226, 0.5588159912422294, 0.6591867057979535, 1.0, 1.0, 1.0, 1.0, 0.9658767031128402, 0.2927829924944443, 0.34913514267799656, 0.45556160759912556, 0.5163581812849081, 0.46724938643031977, 0.49849694837200126, 0.5635754688642789, 0.5662112305583923, 0.5938375720740909, 0.4360904178918894, 1.0, 1.0, 1.0, 0.9065438301025369, 0.8324330871750214, 0.6760419532668581, 0.5721439265061625, 0.48291338704168674, 0.8131553736582049, 0.30403429706490637, 0.8172585468392944, 0.6863050220555496, 0.5384505459676983, 0.9655212002513134, 0.6853141744384887, 1.0, 1.0, 1.0, 1.0, 0.9972315711361318, 1.0, 1.0, 1.0, 1.0, 1.0, 1.0, 1.0, 1.0, 1.0, 1.0, 1.0, 1.0, 1.0, 1.0, 1.0, 0.9720230723321036, 1.0, 0.9467578579653277, 0.9149546848160562, 1.0, 1.0, 1.0, 1.0, 1.0, 1.0, 1.0, 1.0, 1.0, 1.0, 1.0], \"y\": [0.5033292509850051, 0.39271056491116846, 0.5069274270073986, 0.3695921082340699, 0.3848767390278466, 0.482800289748714, 0.657063757955613, 0.4353095366482435, 0.4207548634596724, 0.5899291486730474, 0.7850543744047882, 0.8628375966286369, 0.8055234094085176, 0.8981995548148513, 0.7484777679608634, 0.37903018862015925, 0.45007877676527464, 0.5808847446580789, 0.3669607254493914, 0.5125785194815164, 0.4509427381012443, 0.6338722286935421, 0.5584031102843441, 0.5628520382984434, 0.6547163048390563, 0.939065253441276, 0.9763297832852534, 0.9522333319837616, 1.0, 1.0, 0.22438088111441556, 0.4405446089782935, 0.17006638006543315, 0.40204752824966417, 0.2839313680388093, 0.3831492385019192, 0.5321846062356068, 0.5982782617229508, 0.6296580667871248, 0.4870391121940211, 0.7734307464799904, 0.8413861631116624, 0.6358769441855616, 0.6185103662678293, 0.7120719535193413, 0.757044274072341, 0.6683890283470186, 0.59020515776807, 0.5378593700275757, 0.6870389855164168, 1.0, 0.9696470611441881, 1.0, 1.0, 0.9769214366331762, 1.0, 1.0, 1.0, 1.0, 1.0, 1.0, 1.0, 1.0, 1.0, 1.0, 1.0, 1.0, 1.0, 1.0, 1.0, 1.0, 1.0, 1.0, 1.0, 1.0, 1.0, 0.9248976435432034, 1.0, 1.0, 1.0, 1.0, 1.0, 0.8809692740102653, 1.0, 1.0, 1.0, 1.0, 1.0, 1.0, 1.0]}, {\"mode\": \"lines\", \"name\": \"linear\", \"type\": \"scatter\", \"x\": [0.12324518908084134, 0.13210129828204495, 0.1409574074832486, 0.1498135166844522, 0.15866962588565584, 0.16752573508685945, 0.17638184428806308, 0.1852379534892667, 0.1940940626904703, 0.20295017189167394, 0.21180628109287758, 0.2206623902940812, 0.2295184994952848, 0.2383746086964884, 0.24723071789769205, 0.2560868270988957, 0.2649429363000993, 0.2737990455013029, 0.2826551547025066, 0.2915112639037102, 0.3003673731049138, 0.3092234823061174, 0.318079591507321, 0.3269357007085246, 0.33579180990972823, 0.3446479191109319, 0.3535040283121355, 0.3623601375133392, 0.3712162467145428, 0.3800723559157464, 0.38892846511695, 0.3977845743181536, 0.4066406835193572, 0.41549679272056084, 0.42435290192176445, 0.43320901112296817, 0.4420651203241718, 0.4509212295253754, 0.459777338726579, 0.4686334479277826, 0.4774895571289862, 0.48634566633018983, 0.49520177553139344, 0.504057884732597, 0.5129139939338008, 0.5217701031350044, 0.530626212336208, 0.5394823215374116, 0.5483384307386152, 0.5571945399398188, 0.5660506491410224, 0.574906758342226, 0.5837628675434297, 0.5926189767446334, 0.601475085945837, 0.6103311951470406, 0.6191873043482442, 0.6280434135494478, 0.6368995227506514, 0.645755631951855, 0.6546117411530588, 0.6634678503542624, 0.672323959555466, 0.6811800687566696, 0.6900361779578732, 0.6988922871590768, 0.7077483963602804, 0.716604505561484, 0.7254606147626876, 0.7343167239638914, 0.743172833165095, 0.7520289423662986, 0.7608850515675022, 0.7697411607687058, 0.7785972699699094, 0.787453379171113, 0.7963094883723166, 0.8051655975735202, 0.814021706774724, 0.8228778159759276, 0.8317339251771312, 0.8405900343783348, 0.8494461435795384, 0.858302252780742, 0.8671583619819456, 0.8760144711831492, 0.8848705803843528, 0.8937266895855566, 0.9025827987867602, 0.9114389079879638, 0.9202950171891674, 0.929151126390371, 0.9380072355915746, 0.9468633447927782, 0.9557194539939818, 0.9645755631951854, 0.9734316723963891, 0.9822877815975928, 0.9911438907987964, 1.0], \"y\": [0.17006638006543315, 0.17844954794356008, 0.18683271582168703, 0.19521588369981396, 0.2035990515779409, 0.21198221945606782, 0.22036538733419478, 0.2287485552123217, 0.23713172309044867, 0.2455148909685756, 0.2538980588467025, 0.26228122672482945, 0.27066439460295644, 0.2790475624810833, 0.2874307303592103, 0.2958138982373372, 0.30419706611546415, 0.3125802339935911, 0.320963401871718, 0.329346569749845, 0.33772973762797187, 0.34611290550609886, 0.3544960733842258, 0.3628792412623527, 0.3712624091404797, 0.3796455770186066, 0.38802874489673356, 0.39641191277486043, 0.4047950806529874, 0.41317824853111434, 0.4215614164092413, 0.42994458428736826, 0.43832775216549513, 0.4467109200436221, 0.455094087921749, 0.463477255799876, 0.47186042367800296, 0.48024359155612983, 0.4886267594342568, 0.4970099273123837, 0.5053930951905107, 0.5137762630686376, 0.5221594309467645, 0.5305425988248915, 0.5389257667030184, 0.5473089345811454, 0.5556921024592723, 0.5640752703373992, 0.5724584382155262, 0.5808416060936531, 0.5892247739717801, 0.597607941849907, 0.6059911097280339, 0.6143742776061608, 0.6227574454842878, 0.6311406133624148, 0.6395237812405417, 0.6479069491186686, 0.6562901169967955, 0.6646732848749225, 0.6730564527530495, 0.6814396206311764, 0.6898227885093033, 0.6982059563874302, 0.7065891242655572, 0.7149722921436842, 0.7233554600218111, 0.731738627899938, 0.7401217957780649, 0.7485049636561919, 0.7568881315343188, 0.7652712994124458, 0.7736544672905727, 0.7820376351686996, 0.7904208030468266, 0.7988039709249535, 0.8071871388030805, 0.8155703066812074, 0.8239534745593343, 0.8323366424374613, 0.8407198103155882, 0.8491029781937152, 0.857486146071842, 0.865869313949969, 0.874252481828096, 0.8826356497062229, 0.8910188175843499, 0.8994019854624767, 0.9077851533406037, 0.9161683212187306, 0.9245514890968576, 0.9329346569749846, 0.9413178248531114, 0.9497009927312384, 0.9580841606093653, 0.9664673284874923, 0.9748504963656193, 0.9832336642437461, 0.9916168321218731, 1.0]}],                        {\"template\": {\"data\": {\"bar\": [{\"error_x\": {\"color\": \"#2a3f5f\"}, \"error_y\": {\"color\": \"#2a3f5f\"}, \"marker\": {\"line\": {\"color\": \"#E5ECF6\", \"width\": 0.5}}, \"type\": \"bar\"}], \"barpolar\": [{\"marker\": {\"line\": {\"color\": \"#E5ECF6\", \"width\": 0.5}}, \"type\": \"barpolar\"}], \"carpet\": [{\"aaxis\": {\"endlinecolor\": \"#2a3f5f\", \"gridcolor\": \"white\", \"linecolor\": \"white\", \"minorgridcolor\": \"white\", \"startlinecolor\": \"#2a3f5f\"}, \"baxis\": {\"endlinecolor\": \"#2a3f5f\", \"gridcolor\": \"white\", \"linecolor\": \"white\", \"minorgridcolor\": \"white\", \"startlinecolor\": \"#2a3f5f\"}, \"type\": \"carpet\"}], \"choropleth\": [{\"colorbar\": {\"outlinewidth\": 0, \"ticks\": \"\"}, \"type\": \"choropleth\"}], \"contour\": [{\"colorbar\": {\"outlinewidth\": 0, \"ticks\": \"\"}, \"colorscale\": [[0.0, \"#0d0887\"], [0.1111111111111111, \"#46039f\"], [0.2222222222222222, \"#7201a8\"], [0.3333333333333333, \"#9c179e\"], [0.4444444444444444, \"#bd3786\"], [0.5555555555555556, \"#d8576b\"], [0.6666666666666666, \"#ed7953\"], [0.7777777777777778, \"#fb9f3a\"], [0.8888888888888888, \"#fdca26\"], [1.0, \"#f0f921\"]], \"type\": \"contour\"}], \"contourcarpet\": [{\"colorbar\": {\"outlinewidth\": 0, \"ticks\": \"\"}, \"type\": \"contourcarpet\"}], \"heatmap\": [{\"colorbar\": {\"outlinewidth\": 0, \"ticks\": \"\"}, \"colorscale\": [[0.0, \"#0d0887\"], [0.1111111111111111, \"#46039f\"], [0.2222222222222222, \"#7201a8\"], [0.3333333333333333, \"#9c179e\"], [0.4444444444444444, \"#bd3786\"], [0.5555555555555556, \"#d8576b\"], [0.6666666666666666, \"#ed7953\"], [0.7777777777777778, \"#fb9f3a\"], [0.8888888888888888, \"#fdca26\"], [1.0, \"#f0f921\"]], \"type\": \"heatmap\"}], \"heatmapgl\": [{\"colorbar\": {\"outlinewidth\": 0, \"ticks\": \"\"}, \"colorscale\": [[0.0, \"#0d0887\"], [0.1111111111111111, \"#46039f\"], [0.2222222222222222, \"#7201a8\"], [0.3333333333333333, \"#9c179e\"], [0.4444444444444444, \"#bd3786\"], [0.5555555555555556, \"#d8576b\"], [0.6666666666666666, \"#ed7953\"], [0.7777777777777778, \"#fb9f3a\"], [0.8888888888888888, \"#fdca26\"], [1.0, \"#f0f921\"]], \"type\": \"heatmapgl\"}], \"histogram\": [{\"marker\": {\"colorbar\": {\"outlinewidth\": 0, \"ticks\": \"\"}}, \"type\": \"histogram\"}], \"histogram2d\": [{\"colorbar\": {\"outlinewidth\": 0, \"ticks\": \"\"}, \"colorscale\": [[0.0, \"#0d0887\"], [0.1111111111111111, \"#46039f\"], [0.2222222222222222, \"#7201a8\"], [0.3333333333333333, \"#9c179e\"], [0.4444444444444444, \"#bd3786\"], [0.5555555555555556, \"#d8576b\"], [0.6666666666666666, \"#ed7953\"], [0.7777777777777778, \"#fb9f3a\"], [0.8888888888888888, \"#fdca26\"], [1.0, \"#f0f921\"]], \"type\": \"histogram2d\"}], \"histogram2dcontour\": [{\"colorbar\": {\"outlinewidth\": 0, \"ticks\": \"\"}, \"colorscale\": [[0.0, \"#0d0887\"], [0.1111111111111111, \"#46039f\"], [0.2222222222222222, \"#7201a8\"], [0.3333333333333333, \"#9c179e\"], [0.4444444444444444, \"#bd3786\"], [0.5555555555555556, \"#d8576b\"], [0.6666666666666666, \"#ed7953\"], [0.7777777777777778, \"#fb9f3a\"], [0.8888888888888888, \"#fdca26\"], [1.0, \"#f0f921\"]], \"type\": \"histogram2dcontour\"}], \"mesh3d\": [{\"colorbar\": {\"outlinewidth\": 0, \"ticks\": \"\"}, \"type\": \"mesh3d\"}], \"parcoords\": [{\"line\": {\"colorbar\": {\"outlinewidth\": 0, \"ticks\": \"\"}}, \"type\": \"parcoords\"}], \"pie\": [{\"automargin\": true, \"type\": \"pie\"}], \"scatter\": [{\"marker\": {\"colorbar\": {\"outlinewidth\": 0, \"ticks\": \"\"}}, \"type\": \"scatter\"}], \"scatter3d\": [{\"line\": {\"colorbar\": {\"outlinewidth\": 0, \"ticks\": \"\"}}, \"marker\": {\"colorbar\": {\"outlinewidth\": 0, \"ticks\": \"\"}}, \"type\": \"scatter3d\"}], \"scattercarpet\": [{\"marker\": {\"colorbar\": {\"outlinewidth\": 0, \"ticks\": \"\"}}, \"type\": \"scattercarpet\"}], \"scattergeo\": [{\"marker\": {\"colorbar\": {\"outlinewidth\": 0, \"ticks\": \"\"}}, \"type\": \"scattergeo\"}], \"scattergl\": [{\"marker\": {\"colorbar\": {\"outlinewidth\": 0, \"ticks\": \"\"}}, \"type\": \"scattergl\"}], \"scattermapbox\": [{\"marker\": {\"colorbar\": {\"outlinewidth\": 0, \"ticks\": \"\"}}, \"type\": \"scattermapbox\"}], \"scatterpolar\": [{\"marker\": {\"colorbar\": {\"outlinewidth\": 0, \"ticks\": \"\"}}, \"type\": \"scatterpolar\"}], \"scatterpolargl\": [{\"marker\": {\"colorbar\": {\"outlinewidth\": 0, \"ticks\": \"\"}}, \"type\": \"scatterpolargl\"}], \"scatterternary\": [{\"marker\": {\"colorbar\": {\"outlinewidth\": 0, \"ticks\": \"\"}}, \"type\": \"scatterternary\"}], \"surface\": [{\"colorbar\": {\"outlinewidth\": 0, \"ticks\": \"\"}, \"colorscale\": [[0.0, \"#0d0887\"], [0.1111111111111111, \"#46039f\"], [0.2222222222222222, \"#7201a8\"], [0.3333333333333333, \"#9c179e\"], [0.4444444444444444, \"#bd3786\"], [0.5555555555555556, \"#d8576b\"], [0.6666666666666666, \"#ed7953\"], [0.7777777777777778, \"#fb9f3a\"], [0.8888888888888888, \"#fdca26\"], [1.0, \"#f0f921\"]], \"type\": \"surface\"}], \"table\": [{\"cells\": {\"fill\": {\"color\": \"#EBF0F8\"}, \"line\": {\"color\": \"white\"}}, \"header\": {\"fill\": {\"color\": \"#C8D4E3\"}, \"line\": {\"color\": \"white\"}}, \"type\": \"table\"}]}, \"layout\": {\"annotationdefaults\": {\"arrowcolor\": \"#2a3f5f\", \"arrowhead\": 0, \"arrowwidth\": 1}, \"autotypenumbers\": \"strict\", \"coloraxis\": {\"colorbar\": {\"outlinewidth\": 0, \"ticks\": \"\"}}, \"colorscale\": {\"diverging\": [[0, \"#8e0152\"], [0.1, \"#c51b7d\"], [0.2, \"#de77ae\"], [0.3, \"#f1b6da\"], [0.4, \"#fde0ef\"], [0.5, \"#f7f7f7\"], [0.6, \"#e6f5d0\"], [0.7, \"#b8e186\"], [0.8, \"#7fbc41\"], [0.9, \"#4d9221\"], [1, \"#276419\"]], \"sequential\": [[0.0, \"#0d0887\"], [0.1111111111111111, \"#46039f\"], [0.2222222222222222, \"#7201a8\"], [0.3333333333333333, \"#9c179e\"], [0.4444444444444444, \"#bd3786\"], [0.5555555555555556, \"#d8576b\"], [0.6666666666666666, \"#ed7953\"], [0.7777777777777778, \"#fb9f3a\"], [0.8888888888888888, \"#fdca26\"], [1.0, \"#f0f921\"]], \"sequentialminus\": [[0.0, \"#0d0887\"], [0.1111111111111111, \"#46039f\"], [0.2222222222222222, \"#7201a8\"], [0.3333333333333333, \"#9c179e\"], [0.4444444444444444, \"#bd3786\"], [0.5555555555555556, \"#d8576b\"], [0.6666666666666666, \"#ed7953\"], [0.7777777777777778, \"#fb9f3a\"], [0.8888888888888888, \"#fdca26\"], [1.0, \"#f0f921\"]]}, \"colorway\": [\"#636efa\", \"#EF553B\", \"#00cc96\", \"#ab63fa\", \"#FFA15A\", \"#19d3f3\", \"#FF6692\", \"#B6E880\", \"#FF97FF\", \"#FECB52\"], \"font\": {\"color\": \"#2a3f5f\"}, \"geo\": {\"bgcolor\": \"white\", \"lakecolor\": \"white\", \"landcolor\": \"#E5ECF6\", \"showlakes\": true, \"showland\": true, \"subunitcolor\": \"white\"}, \"hoverlabel\": {\"align\": \"left\"}, \"hovermode\": \"closest\", \"mapbox\": {\"style\": \"light\"}, \"paper_bgcolor\": \"white\", \"plot_bgcolor\": \"#E5ECF6\", \"polar\": {\"angularaxis\": {\"gridcolor\": \"white\", \"linecolor\": \"white\", \"ticks\": \"\"}, \"bgcolor\": \"#E5ECF6\", \"radialaxis\": {\"gridcolor\": \"white\", \"linecolor\": \"white\", \"ticks\": \"\"}}, \"scene\": {\"xaxis\": {\"backgroundcolor\": \"#E5ECF6\", \"gridcolor\": \"white\", \"gridwidth\": 2, \"linecolor\": \"white\", \"showbackground\": true, \"ticks\": \"\", \"zerolinecolor\": \"white\"}, \"yaxis\": {\"backgroundcolor\": \"#E5ECF6\", \"gridcolor\": \"white\", \"gridwidth\": 2, \"linecolor\": \"white\", \"showbackground\": true, \"ticks\": \"\", \"zerolinecolor\": \"white\"}, \"zaxis\": {\"backgroundcolor\": \"#E5ECF6\", \"gridcolor\": \"white\", \"gridwidth\": 2, \"linecolor\": \"white\", \"showbackground\": true, \"ticks\": \"\", \"zerolinecolor\": \"white\"}}, \"shapedefaults\": {\"line\": {\"color\": \"#2a3f5f\"}}, \"ternary\": {\"aaxis\": {\"gridcolor\": \"white\", \"linecolor\": \"white\", \"ticks\": \"\"}, \"baxis\": {\"gridcolor\": \"white\", \"linecolor\": \"white\", \"ticks\": \"\"}, \"bgcolor\": \"#E5ECF6\", \"caxis\": {\"gridcolor\": \"white\", \"linecolor\": \"white\", \"ticks\": \"\"}}, \"title\": {\"x\": 0.05}, \"xaxis\": {\"automargin\": true, \"gridcolor\": \"white\", \"linecolor\": \"white\", \"ticks\": \"\", \"title\": {\"standoff\": 15}, \"zerolinecolor\": \"white\", \"zerolinewidth\": 2}, \"yaxis\": {\"automargin\": true, \"gridcolor\": \"white\", \"linecolor\": \"white\", \"ticks\": \"\", \"title\": {\"standoff\": 15}, \"zerolinecolor\": \"white\", \"zerolinewidth\": 2}}}, \"title\": {\"text\": \"validation_accuracy vs test_accuracy\"}, \"xaxis\": {\"title\": {\"text\": \"validation_accuracy\"}}, \"yaxis\": {\"title\": {\"text\": \"test_accuracy\"}}},                        {\"responsive\": true}                    ).then(function(){\n",
       "                            \n",
       "var gd = document.getElementById('93dfb38a-26b9-40a6-9549-9719b245a45b');\n",
       "var x = new MutationObserver(function (mutations, observer) {{\n",
       "        var display = window.getComputedStyle(gd).display;\n",
       "        if (!display || display === 'none') {{\n",
       "            console.log([gd, 'removed!']);\n",
       "            Plotly.purge(gd);\n",
       "            observer.disconnect();\n",
       "        }}\n",
       "}});\n",
       "\n",
       "// Listen for the removal of the full notebook cells\n",
       "var notebookContainer = gd.closest('#notebook-container');\n",
       "if (notebookContainer) {{\n",
       "    x.observe(notebookContainer, {childList: true});\n",
       "}}\n",
       "\n",
       "// Listen for the clearing of the current output cell\n",
       "var outputEl = gd.closest('.output');\n",
       "if (outputEl) {{\n",
       "    x.observe(outputEl, {childList: true});\n",
       "}}\n",
       "\n",
       "                        })                };                });            </script>        </div>"
      ]
     },
     "metadata": {},
     "output_type": "display_data"
    }
   ],
   "source": [
    "plot_metric_relationship ('validation_accuracy', 'test_accuracy', backend='plotly')"
   ]
  },
  {
   "cell_type": "markdown",
   "metadata": {},
   "source": [
    "#### 3. Highlight selected experiments"
   ]
  },
  {
   "cell_type": "code",
   "execution_count": null,
   "metadata": {},
   "outputs": [
    {
     "data": {
      "text/html": [
       "        <script type=\"text/javascript\">\n",
       "        window.PlotlyConfig = {MathJaxConfig: 'local'};\n",
       "        if (window.MathJax) {MathJax.Hub.Config({SVG: {font: \"STIX-Web\"}});}\n",
       "        if (typeof require !== 'undefined') {\n",
       "        require.undef(\"plotly\");\n",
       "        requirejs.config({\n",
       "            paths: {\n",
       "                'plotly': ['https://cdn.plot.ly/plotly-latest.min']\n",
       "            }\n",
       "        });\n",
       "        require(['plotly'], function(Plotly) {\n",
       "            window._Plotly = Plotly;\n",
       "        });\n",
       "        }\n",
       "        </script>\n",
       "        "
      ]
     },
     "metadata": {},
     "output_type": "display_data"
    },
    {
     "data": {
      "application/vnd.plotly.v1+json": {
       "config": {
        "linkText": "Export to plot.ly",
        "plotlyServerURL": "https://plot.ly",
        "showLink": false
       },
       "data": [
        {
         "mode": "markers",
         "name": "all experiments",
         "type": "scatter",
         "x": [
          0.305631422238463,
          0.2646120610831435,
          0.16756272364655916,
          0.12324518908084134,
          0.41789660359512437,
          0.4216372503073592,
          0.3894598072366486,
          0.4521507130717074,
          0.6295219227132647,
          0.4549626146182153,
          0.6701665483167591,
          0.7175494387561314,
          0.7191744723080403,
          0.7234883377608524,
          0.8251436804521654,
          0.6054410736077539,
          0.575299459922657,
          0.6890604343822585,
          0.5490768778143513,
          0.5716679654661798,
          0.8121013332663769,
          0.7379993498589118,
          0.814674921726226,
          0.5588159912422294,
          0.6591867057979535,
          1,
          1,
          1,
          1,
          0.9658767031128402,
          0.2927829924944443,
          0.34913514267799656,
          0.45556160759912556,
          0.5163581812849081,
          0.46724938643031977,
          0.49849694837200126,
          0.5635754688642789,
          0.5662112305583923,
          0.5938375720740909,
          0.4360904178918894,
          1,
          1,
          1,
          0.9065438301025369,
          0.8324330871750214,
          0.6760419532668581,
          0.5721439265061625,
          0.48291338704168674,
          0.8131553736582049,
          0.30403429706490637,
          0.8172585468392944,
          0.6863050220555496,
          0.5384505459676983,
          0.9655212002513134,
          0.6853141744384887,
          1,
          1,
          1,
          1,
          0.9972315711361318,
          1,
          1,
          1,
          1,
          1,
          1,
          1,
          1,
          1,
          1,
          1,
          1,
          1,
          1,
          1,
          0.9720230723321036,
          1,
          0.9467578579653277,
          0.9149546848160562,
          1,
          1,
          1,
          1,
          1,
          1,
          1,
          1,
          1,
          1,
          1
         ],
         "y": [
          0.5033292509850051,
          0.39271056491116846,
          0.5069274270073986,
          0.3695921082340699,
          0.3848767390278466,
          0.482800289748714,
          0.657063757955613,
          0.4353095366482435,
          0.4207548634596724,
          0.5899291486730474,
          0.7850543744047882,
          0.8628375966286369,
          0.8055234094085176,
          0.8981995548148513,
          0.7484777679608634,
          0.37903018862015925,
          0.45007877676527464,
          0.5808847446580789,
          0.3669607254493914,
          0.5125785194815164,
          0.4509427381012443,
          0.6338722286935421,
          0.5584031102843441,
          0.5628520382984434,
          0.6547163048390563,
          0.939065253441276,
          0.9763297832852534,
          0.9522333319837616,
          1,
          1,
          0.22438088111441556,
          0.4405446089782935,
          0.17006638006543315,
          0.40204752824966417,
          0.2839313680388093,
          0.3831492385019192,
          0.5321846062356068,
          0.5982782617229508,
          0.6296580667871248,
          0.4870391121940211,
          0.7734307464799904,
          0.8413861631116624,
          0.6358769441855616,
          0.6185103662678293,
          0.7120719535193413,
          0.757044274072341,
          0.6683890283470186,
          0.59020515776807,
          0.5378593700275757,
          0.6870389855164168,
          1,
          0.9696470611441881,
          1,
          1,
          0.9769214366331762,
          1,
          1,
          1,
          1,
          1,
          1,
          1,
          1,
          1,
          1,
          1,
          1,
          1,
          1,
          1,
          1,
          1,
          1,
          1,
          1,
          1,
          0.9248976435432034,
          1,
          1,
          1,
          1,
          1,
          0.8809692740102653,
          1,
          1,
          1,
          1,
          1,
          1,
          1
         ]
        },
        {
         "mode": "markers",
         "name": "selected subset",
         "type": "scatter",
         "x": [
          1,
          1,
          1,
          1,
          0.9658767031128402,
          0.6701665483167591,
          0.7175494387561314,
          0.7191744723080403,
          0.7234883377608524,
          0.8251436804521654
         ],
         "y": [
          0.939065253441276,
          0.9763297832852534,
          0.9522333319837616,
          1,
          1,
          0.7850543744047882,
          0.8628375966286369,
          0.8055234094085176,
          0.8981995548148513,
          0.7484777679608634
         ]
        },
        {
         "mode": "lines",
         "name": "linear",
         "type": "scatter",
         "x": [
          0.12324518908084134,
          0.13210129828204495,
          0.1409574074832486,
          0.1498135166844522,
          0.15866962588565584,
          0.16752573508685945,
          0.17638184428806308,
          0.1852379534892667,
          0.1940940626904703,
          0.20295017189167394,
          0.21180628109287758,
          0.2206623902940812,
          0.2295184994952848,
          0.2383746086964884,
          0.24723071789769205,
          0.2560868270988957,
          0.2649429363000993,
          0.2737990455013029,
          0.2826551547025066,
          0.2915112639037102,
          0.3003673731049138,
          0.3092234823061174,
          0.318079591507321,
          0.3269357007085246,
          0.33579180990972823,
          0.3446479191109319,
          0.3535040283121355,
          0.3623601375133392,
          0.3712162467145428,
          0.3800723559157464,
          0.38892846511695,
          0.3977845743181536,
          0.4066406835193572,
          0.41549679272056084,
          0.42435290192176445,
          0.43320901112296817,
          0.4420651203241718,
          0.4509212295253754,
          0.459777338726579,
          0.4686334479277826,
          0.4774895571289862,
          0.48634566633018983,
          0.49520177553139344,
          0.504057884732597,
          0.5129139939338008,
          0.5217701031350044,
          0.530626212336208,
          0.5394823215374116,
          0.5483384307386152,
          0.5571945399398188,
          0.5660506491410224,
          0.574906758342226,
          0.5837628675434297,
          0.5926189767446334,
          0.601475085945837,
          0.6103311951470406,
          0.6191873043482442,
          0.6280434135494478,
          0.6368995227506514,
          0.645755631951855,
          0.6546117411530588,
          0.6634678503542624,
          0.672323959555466,
          0.6811800687566696,
          0.6900361779578732,
          0.6988922871590768,
          0.7077483963602804,
          0.716604505561484,
          0.7254606147626876,
          0.7343167239638914,
          0.743172833165095,
          0.7520289423662986,
          0.7608850515675022,
          0.7697411607687058,
          0.7785972699699094,
          0.787453379171113,
          0.7963094883723166,
          0.8051655975735202,
          0.814021706774724,
          0.8228778159759276,
          0.8317339251771312,
          0.8405900343783348,
          0.8494461435795384,
          0.858302252780742,
          0.8671583619819456,
          0.8760144711831492,
          0.8848705803843528,
          0.8937266895855566,
          0.9025827987867602,
          0.9114389079879638,
          0.9202950171891674,
          0.929151126390371,
          0.9380072355915746,
          0.9468633447927782,
          0.9557194539939818,
          0.9645755631951854,
          0.9734316723963891,
          0.9822877815975928,
          0.9911438907987964,
          1
         ],
         "y": [
          0.17006638006543315,
          0.17844954794356008,
          0.18683271582168703,
          0.19521588369981396,
          0.2035990515779409,
          0.21198221945606782,
          0.22036538733419478,
          0.2287485552123217,
          0.23713172309044867,
          0.2455148909685756,
          0.2538980588467025,
          0.26228122672482945,
          0.27066439460295644,
          0.2790475624810833,
          0.2874307303592103,
          0.2958138982373372,
          0.30419706611546415,
          0.3125802339935911,
          0.320963401871718,
          0.329346569749845,
          0.33772973762797187,
          0.34611290550609886,
          0.3544960733842258,
          0.3628792412623527,
          0.3712624091404797,
          0.3796455770186066,
          0.38802874489673356,
          0.39641191277486043,
          0.4047950806529874,
          0.41317824853111434,
          0.4215614164092413,
          0.42994458428736826,
          0.43832775216549513,
          0.4467109200436221,
          0.455094087921749,
          0.463477255799876,
          0.47186042367800296,
          0.48024359155612983,
          0.4886267594342568,
          0.4970099273123837,
          0.5053930951905107,
          0.5137762630686376,
          0.5221594309467645,
          0.5305425988248915,
          0.5389257667030184,
          0.5473089345811454,
          0.5556921024592723,
          0.5640752703373992,
          0.5724584382155262,
          0.5808416060936531,
          0.5892247739717801,
          0.597607941849907,
          0.6059911097280339,
          0.6143742776061608,
          0.6227574454842878,
          0.6311406133624148,
          0.6395237812405417,
          0.6479069491186686,
          0.6562901169967955,
          0.6646732848749225,
          0.6730564527530495,
          0.6814396206311764,
          0.6898227885093033,
          0.6982059563874302,
          0.7065891242655572,
          0.7149722921436842,
          0.7233554600218111,
          0.731738627899938,
          0.7401217957780649,
          0.7485049636561919,
          0.7568881315343188,
          0.7652712994124458,
          0.7736544672905727,
          0.7820376351686996,
          0.7904208030468266,
          0.7988039709249535,
          0.8071871388030805,
          0.8155703066812074,
          0.8239534745593343,
          0.8323366424374613,
          0.8407198103155882,
          0.8491029781937152,
          0.857486146071842,
          0.865869313949969,
          0.874252481828096,
          0.8826356497062229,
          0.8910188175843499,
          0.8994019854624767,
          0.9077851533406037,
          0.9161683212187306,
          0.9245514890968576,
          0.9329346569749846,
          0.9413178248531114,
          0.9497009927312384,
          0.9580841606093653,
          0.9664673284874923,
          0.9748504963656193,
          0.9832336642437461,
          0.9916168321218731,
          1
         ]
        }
       ],
       "layout": {
        "template": {
         "data": {
          "bar": [
           {
            "error_x": {
             "color": "#2a3f5f"
            },
            "error_y": {
             "color": "#2a3f5f"
            },
            "marker": {
             "line": {
              "color": "#E5ECF6",
              "width": 0.5
             }
            },
            "type": "bar"
           }
          ],
          "barpolar": [
           {
            "marker": {
             "line": {
              "color": "#E5ECF6",
              "width": 0.5
             }
            },
            "type": "barpolar"
           }
          ],
          "carpet": [
           {
            "aaxis": {
             "endlinecolor": "#2a3f5f",
             "gridcolor": "white",
             "linecolor": "white",
             "minorgridcolor": "white",
             "startlinecolor": "#2a3f5f"
            },
            "baxis": {
             "endlinecolor": "#2a3f5f",
             "gridcolor": "white",
             "linecolor": "white",
             "minorgridcolor": "white",
             "startlinecolor": "#2a3f5f"
            },
            "type": "carpet"
           }
          ],
          "choropleth": [
           {
            "colorbar": {
             "outlinewidth": 0,
             "ticks": ""
            },
            "type": "choropleth"
           }
          ],
          "contour": [
           {
            "colorbar": {
             "outlinewidth": 0,
             "ticks": ""
            },
            "colorscale": [
             [
              0,
              "#0d0887"
             ],
             [
              0.1111111111111111,
              "#46039f"
             ],
             [
              0.2222222222222222,
              "#7201a8"
             ],
             [
              0.3333333333333333,
              "#9c179e"
             ],
             [
              0.4444444444444444,
              "#bd3786"
             ],
             [
              0.5555555555555556,
              "#d8576b"
             ],
             [
              0.6666666666666666,
              "#ed7953"
             ],
             [
              0.7777777777777778,
              "#fb9f3a"
             ],
             [
              0.8888888888888888,
              "#fdca26"
             ],
             [
              1,
              "#f0f921"
             ]
            ],
            "type": "contour"
           }
          ],
          "contourcarpet": [
           {
            "colorbar": {
             "outlinewidth": 0,
             "ticks": ""
            },
            "type": "contourcarpet"
           }
          ],
          "heatmap": [
           {
            "colorbar": {
             "outlinewidth": 0,
             "ticks": ""
            },
            "colorscale": [
             [
              0,
              "#0d0887"
             ],
             [
              0.1111111111111111,
              "#46039f"
             ],
             [
              0.2222222222222222,
              "#7201a8"
             ],
             [
              0.3333333333333333,
              "#9c179e"
             ],
             [
              0.4444444444444444,
              "#bd3786"
             ],
             [
              0.5555555555555556,
              "#d8576b"
             ],
             [
              0.6666666666666666,
              "#ed7953"
             ],
             [
              0.7777777777777778,
              "#fb9f3a"
             ],
             [
              0.8888888888888888,
              "#fdca26"
             ],
             [
              1,
              "#f0f921"
             ]
            ],
            "type": "heatmap"
           }
          ],
          "heatmapgl": [
           {
            "colorbar": {
             "outlinewidth": 0,
             "ticks": ""
            },
            "colorscale": [
             [
              0,
              "#0d0887"
             ],
             [
              0.1111111111111111,
              "#46039f"
             ],
             [
              0.2222222222222222,
              "#7201a8"
             ],
             [
              0.3333333333333333,
              "#9c179e"
             ],
             [
              0.4444444444444444,
              "#bd3786"
             ],
             [
              0.5555555555555556,
              "#d8576b"
             ],
             [
              0.6666666666666666,
              "#ed7953"
             ],
             [
              0.7777777777777778,
              "#fb9f3a"
             ],
             [
              0.8888888888888888,
              "#fdca26"
             ],
             [
              1,
              "#f0f921"
             ]
            ],
            "type": "heatmapgl"
           }
          ],
          "histogram": [
           {
            "marker": {
             "colorbar": {
              "outlinewidth": 0,
              "ticks": ""
             }
            },
            "type": "histogram"
           }
          ],
          "histogram2d": [
           {
            "colorbar": {
             "outlinewidth": 0,
             "ticks": ""
            },
            "colorscale": [
             [
              0,
              "#0d0887"
             ],
             [
              0.1111111111111111,
              "#46039f"
             ],
             [
              0.2222222222222222,
              "#7201a8"
             ],
             [
              0.3333333333333333,
              "#9c179e"
             ],
             [
              0.4444444444444444,
              "#bd3786"
             ],
             [
              0.5555555555555556,
              "#d8576b"
             ],
             [
              0.6666666666666666,
              "#ed7953"
             ],
             [
              0.7777777777777778,
              "#fb9f3a"
             ],
             [
              0.8888888888888888,
              "#fdca26"
             ],
             [
              1,
              "#f0f921"
             ]
            ],
            "type": "histogram2d"
           }
          ],
          "histogram2dcontour": [
           {
            "colorbar": {
             "outlinewidth": 0,
             "ticks": ""
            },
            "colorscale": [
             [
              0,
              "#0d0887"
             ],
             [
              0.1111111111111111,
              "#46039f"
             ],
             [
              0.2222222222222222,
              "#7201a8"
             ],
             [
              0.3333333333333333,
              "#9c179e"
             ],
             [
              0.4444444444444444,
              "#bd3786"
             ],
             [
              0.5555555555555556,
              "#d8576b"
             ],
             [
              0.6666666666666666,
              "#ed7953"
             ],
             [
              0.7777777777777778,
              "#fb9f3a"
             ],
             [
              0.8888888888888888,
              "#fdca26"
             ],
             [
              1,
              "#f0f921"
             ]
            ],
            "type": "histogram2dcontour"
           }
          ],
          "mesh3d": [
           {
            "colorbar": {
             "outlinewidth": 0,
             "ticks": ""
            },
            "type": "mesh3d"
           }
          ],
          "parcoords": [
           {
            "line": {
             "colorbar": {
              "outlinewidth": 0,
              "ticks": ""
             }
            },
            "type": "parcoords"
           }
          ],
          "pie": [
           {
            "automargin": true,
            "type": "pie"
           }
          ],
          "scatter": [
           {
            "marker": {
             "colorbar": {
              "outlinewidth": 0,
              "ticks": ""
             }
            },
            "type": "scatter"
           }
          ],
          "scatter3d": [
           {
            "line": {
             "colorbar": {
              "outlinewidth": 0,
              "ticks": ""
             }
            },
            "marker": {
             "colorbar": {
              "outlinewidth": 0,
              "ticks": ""
             }
            },
            "type": "scatter3d"
           }
          ],
          "scattercarpet": [
           {
            "marker": {
             "colorbar": {
              "outlinewidth": 0,
              "ticks": ""
             }
            },
            "type": "scattercarpet"
           }
          ],
          "scattergeo": [
           {
            "marker": {
             "colorbar": {
              "outlinewidth": 0,
              "ticks": ""
             }
            },
            "type": "scattergeo"
           }
          ],
          "scattergl": [
           {
            "marker": {
             "colorbar": {
              "outlinewidth": 0,
              "ticks": ""
             }
            },
            "type": "scattergl"
           }
          ],
          "scattermapbox": [
           {
            "marker": {
             "colorbar": {
              "outlinewidth": 0,
              "ticks": ""
             }
            },
            "type": "scattermapbox"
           }
          ],
          "scatterpolar": [
           {
            "marker": {
             "colorbar": {
              "outlinewidth": 0,
              "ticks": ""
             }
            },
            "type": "scatterpolar"
           }
          ],
          "scatterpolargl": [
           {
            "marker": {
             "colorbar": {
              "outlinewidth": 0,
              "ticks": ""
             }
            },
            "type": "scatterpolargl"
           }
          ],
          "scatterternary": [
           {
            "marker": {
             "colorbar": {
              "outlinewidth": 0,
              "ticks": ""
             }
            },
            "type": "scatterternary"
           }
          ],
          "surface": [
           {
            "colorbar": {
             "outlinewidth": 0,
             "ticks": ""
            },
            "colorscale": [
             [
              0,
              "#0d0887"
             ],
             [
              0.1111111111111111,
              "#46039f"
             ],
             [
              0.2222222222222222,
              "#7201a8"
             ],
             [
              0.3333333333333333,
              "#9c179e"
             ],
             [
              0.4444444444444444,
              "#bd3786"
             ],
             [
              0.5555555555555556,
              "#d8576b"
             ],
             [
              0.6666666666666666,
              "#ed7953"
             ],
             [
              0.7777777777777778,
              "#fb9f3a"
             ],
             [
              0.8888888888888888,
              "#fdca26"
             ],
             [
              1,
              "#f0f921"
             ]
            ],
            "type": "surface"
           }
          ],
          "table": [
           {
            "cells": {
             "fill": {
              "color": "#EBF0F8"
             },
             "line": {
              "color": "white"
             }
            },
            "header": {
             "fill": {
              "color": "#C8D4E3"
             },
             "line": {
              "color": "white"
             }
            },
            "type": "table"
           }
          ]
         },
         "layout": {
          "annotationdefaults": {
           "arrowcolor": "#2a3f5f",
           "arrowhead": 0,
           "arrowwidth": 1
          },
          "autotypenumbers": "strict",
          "coloraxis": {
           "colorbar": {
            "outlinewidth": 0,
            "ticks": ""
           }
          },
          "colorscale": {
           "diverging": [
            [
             0,
             "#8e0152"
            ],
            [
             0.1,
             "#c51b7d"
            ],
            [
             0.2,
             "#de77ae"
            ],
            [
             0.3,
             "#f1b6da"
            ],
            [
             0.4,
             "#fde0ef"
            ],
            [
             0.5,
             "#f7f7f7"
            ],
            [
             0.6,
             "#e6f5d0"
            ],
            [
             0.7,
             "#b8e186"
            ],
            [
             0.8,
             "#7fbc41"
            ],
            [
             0.9,
             "#4d9221"
            ],
            [
             1,
             "#276419"
            ]
           ],
           "sequential": [
            [
             0,
             "#0d0887"
            ],
            [
             0.1111111111111111,
             "#46039f"
            ],
            [
             0.2222222222222222,
             "#7201a8"
            ],
            [
             0.3333333333333333,
             "#9c179e"
            ],
            [
             0.4444444444444444,
             "#bd3786"
            ],
            [
             0.5555555555555556,
             "#d8576b"
            ],
            [
             0.6666666666666666,
             "#ed7953"
            ],
            [
             0.7777777777777778,
             "#fb9f3a"
            ],
            [
             0.8888888888888888,
             "#fdca26"
            ],
            [
             1,
             "#f0f921"
            ]
           ],
           "sequentialminus": [
            [
             0,
             "#0d0887"
            ],
            [
             0.1111111111111111,
             "#46039f"
            ],
            [
             0.2222222222222222,
             "#7201a8"
            ],
            [
             0.3333333333333333,
             "#9c179e"
            ],
            [
             0.4444444444444444,
             "#bd3786"
            ],
            [
             0.5555555555555556,
             "#d8576b"
            ],
            [
             0.6666666666666666,
             "#ed7953"
            ],
            [
             0.7777777777777778,
             "#fb9f3a"
            ],
            [
             0.8888888888888888,
             "#fdca26"
            ],
            [
             1,
             "#f0f921"
            ]
           ]
          },
          "colorway": [
           "#636efa",
           "#EF553B",
           "#00cc96",
           "#ab63fa",
           "#FFA15A",
           "#19d3f3",
           "#FF6692",
           "#B6E880",
           "#FF97FF",
           "#FECB52"
          ],
          "font": {
           "color": "#2a3f5f"
          },
          "geo": {
           "bgcolor": "white",
           "lakecolor": "white",
           "landcolor": "#E5ECF6",
           "showlakes": true,
           "showland": true,
           "subunitcolor": "white"
          },
          "hoverlabel": {
           "align": "left"
          },
          "hovermode": "closest",
          "mapbox": {
           "style": "light"
          },
          "paper_bgcolor": "white",
          "plot_bgcolor": "#E5ECF6",
          "polar": {
           "angularaxis": {
            "gridcolor": "white",
            "linecolor": "white",
            "ticks": ""
           },
           "bgcolor": "#E5ECF6",
           "radialaxis": {
            "gridcolor": "white",
            "linecolor": "white",
            "ticks": ""
           }
          },
          "scene": {
           "xaxis": {
            "backgroundcolor": "#E5ECF6",
            "gridcolor": "white",
            "gridwidth": 2,
            "linecolor": "white",
            "showbackground": true,
            "ticks": "",
            "zerolinecolor": "white"
           },
           "yaxis": {
            "backgroundcolor": "#E5ECF6",
            "gridcolor": "white",
            "gridwidth": 2,
            "linecolor": "white",
            "showbackground": true,
            "ticks": "",
            "zerolinecolor": "white"
           },
           "zaxis": {
            "backgroundcolor": "#E5ECF6",
            "gridcolor": "white",
            "gridwidth": 2,
            "linecolor": "white",
            "showbackground": true,
            "ticks": "",
            "zerolinecolor": "white"
           }
          },
          "shapedefaults": {
           "line": {
            "color": "#2a3f5f"
           }
          },
          "ternary": {
           "aaxis": {
            "gridcolor": "white",
            "linecolor": "white",
            "ticks": ""
           },
           "baxis": {
            "gridcolor": "white",
            "linecolor": "white",
            "ticks": ""
           },
           "bgcolor": "#E5ECF6",
           "caxis": {
            "gridcolor": "white",
            "linecolor": "white",
            "ticks": ""
           }
          },
          "title": {
           "x": 0.05
          },
          "xaxis": {
           "automargin": true,
           "gridcolor": "white",
           "linecolor": "white",
           "ticks": "",
           "title": {
            "standoff": 15
           },
           "zerolinecolor": "white",
           "zerolinewidth": 2
          },
          "yaxis": {
           "automargin": true,
           "gridcolor": "white",
           "linecolor": "white",
           "ticks": "",
           "title": {
            "standoff": 15
           },
           "zerolinecolor": "white",
           "zerolinewidth": 2
          }
         }
        },
        "title": {
         "text": "validation_accuracy vs test_accuracy"
        },
        "xaxis": {
         "title": {
          "text": "validation_accuracy"
         }
        },
        "yaxis": {
         "title": {
          "text": "test_accuracy"
         }
        }
       }
      },
      "text/html": [
       "<div>                            <div id=\"6d66ceef-07df-4488-a030-9f4d1680325e\" class=\"plotly-graph-div\" style=\"height:525px; width:100%;\"></div>            <script type=\"text/javascript\">                require([\"plotly\"], function(Plotly) {                    window.PLOTLYENV=window.PLOTLYENV || {};                                    if (document.getElementById(\"6d66ceef-07df-4488-a030-9f4d1680325e\")) {                    Plotly.newPlot(                        \"6d66ceef-07df-4488-a030-9f4d1680325e\",                        [{\"mode\": \"markers\", \"name\": \"all experiments\", \"type\": \"scatter\", \"x\": [0.305631422238463, 0.2646120610831435, 0.16756272364655916, 0.12324518908084134, 0.41789660359512437, 0.4216372503073592, 0.3894598072366486, 0.4521507130717074, 0.6295219227132647, 0.4549626146182153, 0.6701665483167591, 0.7175494387561314, 0.7191744723080403, 0.7234883377608524, 0.8251436804521654, 0.6054410736077539, 0.575299459922657, 0.6890604343822585, 0.5490768778143513, 0.5716679654661798, 0.8121013332663769, 0.7379993498589118, 0.814674921726226, 0.5588159912422294, 0.6591867057979535, 1.0, 1.0, 1.0, 1.0, 0.9658767031128402, 0.2927829924944443, 0.34913514267799656, 0.45556160759912556, 0.5163581812849081, 0.46724938643031977, 0.49849694837200126, 0.5635754688642789, 0.5662112305583923, 0.5938375720740909, 0.4360904178918894, 1.0, 1.0, 1.0, 0.9065438301025369, 0.8324330871750214, 0.6760419532668581, 0.5721439265061625, 0.48291338704168674, 0.8131553736582049, 0.30403429706490637, 0.8172585468392944, 0.6863050220555496, 0.5384505459676983, 0.9655212002513134, 0.6853141744384887, 1.0, 1.0, 1.0, 1.0, 0.9972315711361318, 1.0, 1.0, 1.0, 1.0, 1.0, 1.0, 1.0, 1.0, 1.0, 1.0, 1.0, 1.0, 1.0, 1.0, 1.0, 0.9720230723321036, 1.0, 0.9467578579653277, 0.9149546848160562, 1.0, 1.0, 1.0, 1.0, 1.0, 1.0, 1.0, 1.0, 1.0, 1.0, 1.0], \"y\": [0.5033292509850051, 0.39271056491116846, 0.5069274270073986, 0.3695921082340699, 0.3848767390278466, 0.482800289748714, 0.657063757955613, 0.4353095366482435, 0.4207548634596724, 0.5899291486730474, 0.7850543744047882, 0.8628375966286369, 0.8055234094085176, 0.8981995548148513, 0.7484777679608634, 0.37903018862015925, 0.45007877676527464, 0.5808847446580789, 0.3669607254493914, 0.5125785194815164, 0.4509427381012443, 0.6338722286935421, 0.5584031102843441, 0.5628520382984434, 0.6547163048390563, 0.939065253441276, 0.9763297832852534, 0.9522333319837616, 1.0, 1.0, 0.22438088111441556, 0.4405446089782935, 0.17006638006543315, 0.40204752824966417, 0.2839313680388093, 0.3831492385019192, 0.5321846062356068, 0.5982782617229508, 0.6296580667871248, 0.4870391121940211, 0.7734307464799904, 0.8413861631116624, 0.6358769441855616, 0.6185103662678293, 0.7120719535193413, 0.757044274072341, 0.6683890283470186, 0.59020515776807, 0.5378593700275757, 0.6870389855164168, 1.0, 0.9696470611441881, 1.0, 1.0, 0.9769214366331762, 1.0, 1.0, 1.0, 1.0, 1.0, 1.0, 1.0, 1.0, 1.0, 1.0, 1.0, 1.0, 1.0, 1.0, 1.0, 1.0, 1.0, 1.0, 1.0, 1.0, 1.0, 0.9248976435432034, 1.0, 1.0, 1.0, 1.0, 1.0, 0.8809692740102653, 1.0, 1.0, 1.0, 1.0, 1.0, 1.0, 1.0]}, {\"mode\": \"markers\", \"name\": \"selected subset\", \"type\": \"scatter\", \"x\": [1.0, 1.0, 1.0, 1.0, 0.9658767031128402, 0.6701665483167591, 0.7175494387561314, 0.7191744723080403, 0.7234883377608524, 0.8251436804521654], \"y\": [0.939065253441276, 0.9763297832852534, 0.9522333319837616, 1.0, 1.0, 0.7850543744047882, 0.8628375966286369, 0.8055234094085176, 0.8981995548148513, 0.7484777679608634]}, {\"mode\": \"lines\", \"name\": \"linear\", \"type\": \"scatter\", \"x\": [0.12324518908084134, 0.13210129828204495, 0.1409574074832486, 0.1498135166844522, 0.15866962588565584, 0.16752573508685945, 0.17638184428806308, 0.1852379534892667, 0.1940940626904703, 0.20295017189167394, 0.21180628109287758, 0.2206623902940812, 0.2295184994952848, 0.2383746086964884, 0.24723071789769205, 0.2560868270988957, 0.2649429363000993, 0.2737990455013029, 0.2826551547025066, 0.2915112639037102, 0.3003673731049138, 0.3092234823061174, 0.318079591507321, 0.3269357007085246, 0.33579180990972823, 0.3446479191109319, 0.3535040283121355, 0.3623601375133392, 0.3712162467145428, 0.3800723559157464, 0.38892846511695, 0.3977845743181536, 0.4066406835193572, 0.41549679272056084, 0.42435290192176445, 0.43320901112296817, 0.4420651203241718, 0.4509212295253754, 0.459777338726579, 0.4686334479277826, 0.4774895571289862, 0.48634566633018983, 0.49520177553139344, 0.504057884732597, 0.5129139939338008, 0.5217701031350044, 0.530626212336208, 0.5394823215374116, 0.5483384307386152, 0.5571945399398188, 0.5660506491410224, 0.574906758342226, 0.5837628675434297, 0.5926189767446334, 0.601475085945837, 0.6103311951470406, 0.6191873043482442, 0.6280434135494478, 0.6368995227506514, 0.645755631951855, 0.6546117411530588, 0.6634678503542624, 0.672323959555466, 0.6811800687566696, 0.6900361779578732, 0.6988922871590768, 0.7077483963602804, 0.716604505561484, 0.7254606147626876, 0.7343167239638914, 0.743172833165095, 0.7520289423662986, 0.7608850515675022, 0.7697411607687058, 0.7785972699699094, 0.787453379171113, 0.7963094883723166, 0.8051655975735202, 0.814021706774724, 0.8228778159759276, 0.8317339251771312, 0.8405900343783348, 0.8494461435795384, 0.858302252780742, 0.8671583619819456, 0.8760144711831492, 0.8848705803843528, 0.8937266895855566, 0.9025827987867602, 0.9114389079879638, 0.9202950171891674, 0.929151126390371, 0.9380072355915746, 0.9468633447927782, 0.9557194539939818, 0.9645755631951854, 0.9734316723963891, 0.9822877815975928, 0.9911438907987964, 1.0], \"y\": [0.17006638006543315, 0.17844954794356008, 0.18683271582168703, 0.19521588369981396, 0.2035990515779409, 0.21198221945606782, 0.22036538733419478, 0.2287485552123217, 0.23713172309044867, 0.2455148909685756, 0.2538980588467025, 0.26228122672482945, 0.27066439460295644, 0.2790475624810833, 0.2874307303592103, 0.2958138982373372, 0.30419706611546415, 0.3125802339935911, 0.320963401871718, 0.329346569749845, 0.33772973762797187, 0.34611290550609886, 0.3544960733842258, 0.3628792412623527, 0.3712624091404797, 0.3796455770186066, 0.38802874489673356, 0.39641191277486043, 0.4047950806529874, 0.41317824853111434, 0.4215614164092413, 0.42994458428736826, 0.43832775216549513, 0.4467109200436221, 0.455094087921749, 0.463477255799876, 0.47186042367800296, 0.48024359155612983, 0.4886267594342568, 0.4970099273123837, 0.5053930951905107, 0.5137762630686376, 0.5221594309467645, 0.5305425988248915, 0.5389257667030184, 0.5473089345811454, 0.5556921024592723, 0.5640752703373992, 0.5724584382155262, 0.5808416060936531, 0.5892247739717801, 0.597607941849907, 0.6059911097280339, 0.6143742776061608, 0.6227574454842878, 0.6311406133624148, 0.6395237812405417, 0.6479069491186686, 0.6562901169967955, 0.6646732848749225, 0.6730564527530495, 0.6814396206311764, 0.6898227885093033, 0.6982059563874302, 0.7065891242655572, 0.7149722921436842, 0.7233554600218111, 0.731738627899938, 0.7401217957780649, 0.7485049636561919, 0.7568881315343188, 0.7652712994124458, 0.7736544672905727, 0.7820376351686996, 0.7904208030468266, 0.7988039709249535, 0.8071871388030805, 0.8155703066812074, 0.8239534745593343, 0.8323366424374613, 0.8407198103155882, 0.8491029781937152, 0.857486146071842, 0.865869313949969, 0.874252481828096, 0.8826356497062229, 0.8910188175843499, 0.8994019854624767, 0.9077851533406037, 0.9161683212187306, 0.9245514890968576, 0.9329346569749846, 0.9413178248531114, 0.9497009927312384, 0.9580841606093653, 0.9664673284874923, 0.9748504963656193, 0.9832336642437461, 0.9916168321218731, 1.0]}],                        {\"template\": {\"data\": {\"bar\": [{\"error_x\": {\"color\": \"#2a3f5f\"}, \"error_y\": {\"color\": \"#2a3f5f\"}, \"marker\": {\"line\": {\"color\": \"#E5ECF6\", \"width\": 0.5}}, \"type\": \"bar\"}], \"barpolar\": [{\"marker\": {\"line\": {\"color\": \"#E5ECF6\", \"width\": 0.5}}, \"type\": \"barpolar\"}], \"carpet\": [{\"aaxis\": {\"endlinecolor\": \"#2a3f5f\", \"gridcolor\": \"white\", \"linecolor\": \"white\", \"minorgridcolor\": \"white\", \"startlinecolor\": \"#2a3f5f\"}, \"baxis\": {\"endlinecolor\": \"#2a3f5f\", \"gridcolor\": \"white\", \"linecolor\": \"white\", \"minorgridcolor\": \"white\", \"startlinecolor\": \"#2a3f5f\"}, \"type\": \"carpet\"}], \"choropleth\": [{\"colorbar\": {\"outlinewidth\": 0, \"ticks\": \"\"}, \"type\": \"choropleth\"}], \"contour\": [{\"colorbar\": {\"outlinewidth\": 0, \"ticks\": \"\"}, \"colorscale\": [[0.0, \"#0d0887\"], [0.1111111111111111, \"#46039f\"], [0.2222222222222222, \"#7201a8\"], [0.3333333333333333, \"#9c179e\"], [0.4444444444444444, \"#bd3786\"], [0.5555555555555556, \"#d8576b\"], [0.6666666666666666, \"#ed7953\"], [0.7777777777777778, \"#fb9f3a\"], [0.8888888888888888, \"#fdca26\"], [1.0, \"#f0f921\"]], \"type\": \"contour\"}], \"contourcarpet\": [{\"colorbar\": {\"outlinewidth\": 0, \"ticks\": \"\"}, \"type\": \"contourcarpet\"}], \"heatmap\": [{\"colorbar\": {\"outlinewidth\": 0, \"ticks\": \"\"}, \"colorscale\": [[0.0, \"#0d0887\"], [0.1111111111111111, \"#46039f\"], [0.2222222222222222, \"#7201a8\"], [0.3333333333333333, \"#9c179e\"], [0.4444444444444444, \"#bd3786\"], [0.5555555555555556, \"#d8576b\"], [0.6666666666666666, \"#ed7953\"], [0.7777777777777778, \"#fb9f3a\"], [0.8888888888888888, \"#fdca26\"], [1.0, \"#f0f921\"]], \"type\": \"heatmap\"}], \"heatmapgl\": [{\"colorbar\": {\"outlinewidth\": 0, \"ticks\": \"\"}, \"colorscale\": [[0.0, \"#0d0887\"], [0.1111111111111111, \"#46039f\"], [0.2222222222222222, \"#7201a8\"], [0.3333333333333333, \"#9c179e\"], [0.4444444444444444, \"#bd3786\"], [0.5555555555555556, \"#d8576b\"], [0.6666666666666666, \"#ed7953\"], [0.7777777777777778, \"#fb9f3a\"], [0.8888888888888888, \"#fdca26\"], [1.0, \"#f0f921\"]], \"type\": \"heatmapgl\"}], \"histogram\": [{\"marker\": {\"colorbar\": {\"outlinewidth\": 0, \"ticks\": \"\"}}, \"type\": \"histogram\"}], \"histogram2d\": [{\"colorbar\": {\"outlinewidth\": 0, \"ticks\": \"\"}, \"colorscale\": [[0.0, \"#0d0887\"], [0.1111111111111111, \"#46039f\"], [0.2222222222222222, \"#7201a8\"], [0.3333333333333333, \"#9c179e\"], [0.4444444444444444, \"#bd3786\"], [0.5555555555555556, \"#d8576b\"], [0.6666666666666666, \"#ed7953\"], [0.7777777777777778, \"#fb9f3a\"], [0.8888888888888888, \"#fdca26\"], [1.0, \"#f0f921\"]], \"type\": \"histogram2d\"}], \"histogram2dcontour\": [{\"colorbar\": {\"outlinewidth\": 0, \"ticks\": \"\"}, \"colorscale\": [[0.0, \"#0d0887\"], [0.1111111111111111, \"#46039f\"], [0.2222222222222222, \"#7201a8\"], [0.3333333333333333, \"#9c179e\"], [0.4444444444444444, \"#bd3786\"], [0.5555555555555556, \"#d8576b\"], [0.6666666666666666, \"#ed7953\"], [0.7777777777777778, \"#fb9f3a\"], [0.8888888888888888, \"#fdca26\"], [1.0, \"#f0f921\"]], \"type\": \"histogram2dcontour\"}], \"mesh3d\": [{\"colorbar\": {\"outlinewidth\": 0, \"ticks\": \"\"}, \"type\": \"mesh3d\"}], \"parcoords\": [{\"line\": {\"colorbar\": {\"outlinewidth\": 0, \"ticks\": \"\"}}, \"type\": \"parcoords\"}], \"pie\": [{\"automargin\": true, \"type\": \"pie\"}], \"scatter\": [{\"marker\": {\"colorbar\": {\"outlinewidth\": 0, \"ticks\": \"\"}}, \"type\": \"scatter\"}], \"scatter3d\": [{\"line\": {\"colorbar\": {\"outlinewidth\": 0, \"ticks\": \"\"}}, \"marker\": {\"colorbar\": {\"outlinewidth\": 0, \"ticks\": \"\"}}, \"type\": \"scatter3d\"}], \"scattercarpet\": [{\"marker\": {\"colorbar\": {\"outlinewidth\": 0, \"ticks\": \"\"}}, \"type\": \"scattercarpet\"}], \"scattergeo\": [{\"marker\": {\"colorbar\": {\"outlinewidth\": 0, \"ticks\": \"\"}}, \"type\": \"scattergeo\"}], \"scattergl\": [{\"marker\": {\"colorbar\": {\"outlinewidth\": 0, \"ticks\": \"\"}}, \"type\": \"scattergl\"}], \"scattermapbox\": [{\"marker\": {\"colorbar\": {\"outlinewidth\": 0, \"ticks\": \"\"}}, \"type\": \"scattermapbox\"}], \"scatterpolar\": [{\"marker\": {\"colorbar\": {\"outlinewidth\": 0, \"ticks\": \"\"}}, \"type\": \"scatterpolar\"}], \"scatterpolargl\": [{\"marker\": {\"colorbar\": {\"outlinewidth\": 0, \"ticks\": \"\"}}, \"type\": \"scatterpolargl\"}], \"scatterternary\": [{\"marker\": {\"colorbar\": {\"outlinewidth\": 0, \"ticks\": \"\"}}, \"type\": \"scatterternary\"}], \"surface\": [{\"colorbar\": {\"outlinewidth\": 0, \"ticks\": \"\"}, \"colorscale\": [[0.0, \"#0d0887\"], [0.1111111111111111, \"#46039f\"], [0.2222222222222222, \"#7201a8\"], [0.3333333333333333, \"#9c179e\"], [0.4444444444444444, \"#bd3786\"], [0.5555555555555556, \"#d8576b\"], [0.6666666666666666, \"#ed7953\"], [0.7777777777777778, \"#fb9f3a\"], [0.8888888888888888, \"#fdca26\"], [1.0, \"#f0f921\"]], \"type\": \"surface\"}], \"table\": [{\"cells\": {\"fill\": {\"color\": \"#EBF0F8\"}, \"line\": {\"color\": \"white\"}}, \"header\": {\"fill\": {\"color\": \"#C8D4E3\"}, \"line\": {\"color\": \"white\"}}, \"type\": \"table\"}]}, \"layout\": {\"annotationdefaults\": {\"arrowcolor\": \"#2a3f5f\", \"arrowhead\": 0, \"arrowwidth\": 1}, \"autotypenumbers\": \"strict\", \"coloraxis\": {\"colorbar\": {\"outlinewidth\": 0, \"ticks\": \"\"}}, \"colorscale\": {\"diverging\": [[0, \"#8e0152\"], [0.1, \"#c51b7d\"], [0.2, \"#de77ae\"], [0.3, \"#f1b6da\"], [0.4, \"#fde0ef\"], [0.5, \"#f7f7f7\"], [0.6, \"#e6f5d0\"], [0.7, \"#b8e186\"], [0.8, \"#7fbc41\"], [0.9, \"#4d9221\"], [1, \"#276419\"]], \"sequential\": [[0.0, \"#0d0887\"], [0.1111111111111111, \"#46039f\"], [0.2222222222222222, \"#7201a8\"], [0.3333333333333333, \"#9c179e\"], [0.4444444444444444, \"#bd3786\"], [0.5555555555555556, \"#d8576b\"], [0.6666666666666666, \"#ed7953\"], [0.7777777777777778, \"#fb9f3a\"], [0.8888888888888888, \"#fdca26\"], [1.0, \"#f0f921\"]], \"sequentialminus\": [[0.0, \"#0d0887\"], [0.1111111111111111, \"#46039f\"], [0.2222222222222222, \"#7201a8\"], [0.3333333333333333, \"#9c179e\"], [0.4444444444444444, \"#bd3786\"], [0.5555555555555556, \"#d8576b\"], [0.6666666666666666, \"#ed7953\"], [0.7777777777777778, \"#fb9f3a\"], [0.8888888888888888, \"#fdca26\"], [1.0, \"#f0f921\"]]}, \"colorway\": [\"#636efa\", \"#EF553B\", \"#00cc96\", \"#ab63fa\", \"#FFA15A\", \"#19d3f3\", \"#FF6692\", \"#B6E880\", \"#FF97FF\", \"#FECB52\"], \"font\": {\"color\": \"#2a3f5f\"}, \"geo\": {\"bgcolor\": \"white\", \"lakecolor\": \"white\", \"landcolor\": \"#E5ECF6\", \"showlakes\": true, \"showland\": true, \"subunitcolor\": \"white\"}, \"hoverlabel\": {\"align\": \"left\"}, \"hovermode\": \"closest\", \"mapbox\": {\"style\": \"light\"}, \"paper_bgcolor\": \"white\", \"plot_bgcolor\": \"#E5ECF6\", \"polar\": {\"angularaxis\": {\"gridcolor\": \"white\", \"linecolor\": \"white\", \"ticks\": \"\"}, \"bgcolor\": \"#E5ECF6\", \"radialaxis\": {\"gridcolor\": \"white\", \"linecolor\": \"white\", \"ticks\": \"\"}}, \"scene\": {\"xaxis\": {\"backgroundcolor\": \"#E5ECF6\", \"gridcolor\": \"white\", \"gridwidth\": 2, \"linecolor\": \"white\", \"showbackground\": true, \"ticks\": \"\", \"zerolinecolor\": \"white\"}, \"yaxis\": {\"backgroundcolor\": \"#E5ECF6\", \"gridcolor\": \"white\", \"gridwidth\": 2, \"linecolor\": \"white\", \"showbackground\": true, \"ticks\": \"\", \"zerolinecolor\": \"white\"}, \"zaxis\": {\"backgroundcolor\": \"#E5ECF6\", \"gridcolor\": \"white\", \"gridwidth\": 2, \"linecolor\": \"white\", \"showbackground\": true, \"ticks\": \"\", \"zerolinecolor\": \"white\"}}, \"shapedefaults\": {\"line\": {\"color\": \"#2a3f5f\"}}, \"ternary\": {\"aaxis\": {\"gridcolor\": \"white\", \"linecolor\": \"white\", \"ticks\": \"\"}, \"baxis\": {\"gridcolor\": \"white\", \"linecolor\": \"white\", \"ticks\": \"\"}, \"bgcolor\": \"#E5ECF6\", \"caxis\": {\"gridcolor\": \"white\", \"linecolor\": \"white\", \"ticks\": \"\"}}, \"title\": {\"x\": 0.05}, \"xaxis\": {\"automargin\": true, \"gridcolor\": \"white\", \"linecolor\": \"white\", \"ticks\": \"\", \"title\": {\"standoff\": 15}, \"zerolinecolor\": \"white\", \"zerolinewidth\": 2}, \"yaxis\": {\"automargin\": true, \"gridcolor\": \"white\", \"linecolor\": \"white\", \"ticks\": \"\", \"title\": {\"standoff\": 15}, \"zerolinecolor\": \"white\", \"zerolinewidth\": 2}}}, \"title\": {\"text\": \"validation_accuracy vs test_accuracy\"}, \"xaxis\": {\"title\": {\"text\": \"validation_accuracy\"}}, \"yaxis\": {\"title\": {\"text\": \"test_accuracy\"}}},                        {\"responsive\": true}                    ).then(function(){\n",
       "                            \n",
       "var gd = document.getElementById('6d66ceef-07df-4488-a030-9f4d1680325e');\n",
       "var x = new MutationObserver(function (mutations, observer) {{\n",
       "        var display = window.getComputedStyle(gd).display;\n",
       "        if (!display || display === 'none') {{\n",
       "            console.log([gd, 'removed!']);\n",
       "            Plotly.purge(gd);\n",
       "            observer.disconnect();\n",
       "        }}\n",
       "}});\n",
       "\n",
       "// Listen for the removal of the full notebook cells\n",
       "var notebookContainer = gd.closest('#notebook-container');\n",
       "if (notebookContainer) {{\n",
       "    x.observe(notebookContainer, {childList: true});\n",
       "}}\n",
       "\n",
       "// Listen for the clearing of the current output cell\n",
       "var outputEl = gd.closest('.output');\n",
       "if (outputEl) {{\n",
       "    x.observe(outputEl, {childList: true});\n",
       "}}\n",
       "\n",
       "                        })                };                });            </script>        </div>"
      ]
     },
     "metadata": {},
     "output_type": "display_data"
    }
   ],
   "source": [
    "plot_metric_relationship ('validation_accuracy', 'test_accuracy', experiment_subset=[5,2], backend='plotly')"
   ]
  },
  {
   "cell_type": "markdown",
   "metadata": {},
   "source": [
    "## visualize_experiments\n",
    "\n",
    "Main experiment visualization entry function"
   ]
  },
  {
   "cell_type": "code",
   "execution_count": null,
   "metadata": {},
   "outputs": [],
   "source": [
    "#export\n",
    "## Generic Visualization\n",
    "def visualize_experiments (visualization='history', **kwargs):\n",
    "    if type(visualization) is str:\n",
    "        visualization_list = [visualization]\n",
    "    else:\n",
    "        visualization_list = visualization\n",
    "    for visualization in visualization_list:\n",
    "        parameters = kwargs.copy()\n",
    "        if visualization == 'history':\n",
    "            assert 'experiments' in kwargs.keys(), 'experiments parameter expected when visualization is \"history\"'\n",
    "            experiments = parameters.pop('experiments')\n",
    "            plot_multiple_histories (experiments, **parameters)\n",
    "        elif visualization == 'metric_correlation':\n",
    "            assert 'metric_1' in kwargs.keys(), 'metric_1 parameter expected when visualization is \"metric_correlation\"'\n",
    "            assert 'metric_2' in kwargs.keys(), 'metric_2 parameter expected when visualization is \"metric_correlation\"'\n",
    "            metric_1 = parameters.pop('metric_1')\n",
    "            metric_2 = parameters.pop('metric_2')\n",
    "            plot_metric_relationship (metric_1, metric_2, **parameters)\n",
    "        else:\n",
    "            from hpsearch.config.hpconfig import experiment_visualization\n",
    "\n",
    "            experiment_visualization (visualization=visualization, **kwargs)"
   ]
  },
  {
   "cell_type": "code",
   "execution_count": null,
   "metadata": {},
   "outputs": [
    {
     "data": {
      "text/html": [
       "        <script type=\"text/javascript\">\n",
       "        window.PlotlyConfig = {MathJaxConfig: 'local'};\n",
       "        if (window.MathJax) {MathJax.Hub.Config({SVG: {font: \"STIX-Web\"}});}\n",
       "        if (typeof require !== 'undefined') {\n",
       "        require.undef(\"plotly\");\n",
       "        requirejs.config({\n",
       "            paths: {\n",
       "                'plotly': ['https://cdn.plot.ly/plotly-latest.min']\n",
       "            }\n",
       "        });\n",
       "        require(['plotly'], function(Plotly) {\n",
       "            window._Plotly = Plotly;\n",
       "        });\n",
       "        }\n",
       "        </script>\n",
       "        "
      ]
     },
     "metadata": {},
     "output_type": "display_data"
    },
    {
     "data": {
      "application/vnd.plotly.v1+json": {
       "config": {
        "linkText": "Export to plot.ly",
        "plotlyServerURL": "https://plot.ly",
        "showLink": false
       },
       "data": [
        {
         "mode": "markers+lines",
         "name": "8",
         "type": "scatter",
         "x": [
          0,
          1,
          2,
          3,
          4,
          5,
          6,
          7,
          8,
          9,
          10,
          11,
          12,
          13,
          14,
          15,
          16,
          17,
          18,
          19,
          20,
          21,
          22,
          23,
          24,
          25,
          26,
          27,
          28,
          29
         ],
         "y": [
          0.43922812426398444,
          0.6172828103841974,
          0.6364978850364202,
          0.6476248650028675,
          0.654883628956148,
          0.6823942449865484,
          0.8105986678652979,
          0.7616580928106796,
          0.677935146091649,
          0.7625982501170405,
          1,
          0.8777291912792811,
          0.9579073657268621,
          0.7411497266803511,
          1,
          1,
          1,
          1,
          0.9948607298119497,
          1,
          1,
          1,
          1,
          0.9250477226446674,
          0.9315314524570804,
          1,
          0.9942492374281336,
          0.842604176969367,
          0.6208915281260001,
          0.6567836217814222
         ]
        },
        {
         "marker": {
          "color": "red",
          "size": 10,
          "symbol": 104
         },
         "mode": "markers",
         "name": "",
         "type": "scatter",
         "x": [
          10
         ],
         "y": [
          1
         ]
        },
        {
         "mode": "markers+lines",
         "name": "12",
         "type": "scatter",
         "x": [
          0,
          1,
          2,
          3,
          4,
          5,
          6,
          7,
          8,
          9,
          10,
          11,
          12,
          13,
          14
         ],
         "y": [
          0.1815651262215895,
          0.19445276755253077,
          0.22906771481290722,
          0.5820701700631856,
          0.31823408707364,
          0.6636347593750254,
          0.566931200078238,
          0.7364710183050369,
          0.920241784643085,
          1,
          1,
          1,
          1,
          1,
          1
         ]
        },
        {
         "marker": {
          "color": "red",
          "size": 10,
          "symbol": 104
         },
         "mode": "markers",
         "name": "",
         "type": "scatter",
         "x": [
          9
         ],
         "y": [
          1
         ]
        },
        {
         "mode": "markers+lines",
         "name": "16",
         "type": "scatter",
         "x": [
          0,
          1,
          2,
          3,
          4,
          5,
          6,
          7,
          8,
          9,
          10,
          11,
          12,
          13,
          14,
          15,
          16,
          17,
          18,
          19,
          20,
          21,
          22,
          23,
          24,
          25,
          26,
          27,
          28,
          29
         ],
         "y": [
          0.2525778871783653,
          0.4007523781378555,
          0.4447843772048304,
          0.7099845585972064,
          0.7974464241128265,
          0.7019133420596086,
          0.8477686004139062,
          0.9665160106049634,
          1,
          1,
          1,
          1,
          1,
          1,
          1,
          1,
          1,
          1,
          1,
          1,
          1,
          1,
          1,
          1,
          1,
          1,
          1,
          1,
          1,
          1
         ]
        },
        {
         "marker": {
          "color": "red",
          "size": 10,
          "symbol": 104
         },
         "mode": "markers",
         "name": "",
         "type": "scatter",
         "x": [
          8
         ],
         "y": [
          1
         ]
        }
       ],
       "layout": {
        "template": {
         "data": {
          "bar": [
           {
            "error_x": {
             "color": "#2a3f5f"
            },
            "error_y": {
             "color": "#2a3f5f"
            },
            "marker": {
             "line": {
              "color": "#E5ECF6",
              "width": 0.5
             }
            },
            "type": "bar"
           }
          ],
          "barpolar": [
           {
            "marker": {
             "line": {
              "color": "#E5ECF6",
              "width": 0.5
             }
            },
            "type": "barpolar"
           }
          ],
          "carpet": [
           {
            "aaxis": {
             "endlinecolor": "#2a3f5f",
             "gridcolor": "white",
             "linecolor": "white",
             "minorgridcolor": "white",
             "startlinecolor": "#2a3f5f"
            },
            "baxis": {
             "endlinecolor": "#2a3f5f",
             "gridcolor": "white",
             "linecolor": "white",
             "minorgridcolor": "white",
             "startlinecolor": "#2a3f5f"
            },
            "type": "carpet"
           }
          ],
          "choropleth": [
           {
            "colorbar": {
             "outlinewidth": 0,
             "ticks": ""
            },
            "type": "choropleth"
           }
          ],
          "contour": [
           {
            "colorbar": {
             "outlinewidth": 0,
             "ticks": ""
            },
            "colorscale": [
             [
              0,
              "#0d0887"
             ],
             [
              0.1111111111111111,
              "#46039f"
             ],
             [
              0.2222222222222222,
              "#7201a8"
             ],
             [
              0.3333333333333333,
              "#9c179e"
             ],
             [
              0.4444444444444444,
              "#bd3786"
             ],
             [
              0.5555555555555556,
              "#d8576b"
             ],
             [
              0.6666666666666666,
              "#ed7953"
             ],
             [
              0.7777777777777778,
              "#fb9f3a"
             ],
             [
              0.8888888888888888,
              "#fdca26"
             ],
             [
              1,
              "#f0f921"
             ]
            ],
            "type": "contour"
           }
          ],
          "contourcarpet": [
           {
            "colorbar": {
             "outlinewidth": 0,
             "ticks": ""
            },
            "type": "contourcarpet"
           }
          ],
          "heatmap": [
           {
            "colorbar": {
             "outlinewidth": 0,
             "ticks": ""
            },
            "colorscale": [
             [
              0,
              "#0d0887"
             ],
             [
              0.1111111111111111,
              "#46039f"
             ],
             [
              0.2222222222222222,
              "#7201a8"
             ],
             [
              0.3333333333333333,
              "#9c179e"
             ],
             [
              0.4444444444444444,
              "#bd3786"
             ],
             [
              0.5555555555555556,
              "#d8576b"
             ],
             [
              0.6666666666666666,
              "#ed7953"
             ],
             [
              0.7777777777777778,
              "#fb9f3a"
             ],
             [
              0.8888888888888888,
              "#fdca26"
             ],
             [
              1,
              "#f0f921"
             ]
            ],
            "type": "heatmap"
           }
          ],
          "heatmapgl": [
           {
            "colorbar": {
             "outlinewidth": 0,
             "ticks": ""
            },
            "colorscale": [
             [
              0,
              "#0d0887"
             ],
             [
              0.1111111111111111,
              "#46039f"
             ],
             [
              0.2222222222222222,
              "#7201a8"
             ],
             [
              0.3333333333333333,
              "#9c179e"
             ],
             [
              0.4444444444444444,
              "#bd3786"
             ],
             [
              0.5555555555555556,
              "#d8576b"
             ],
             [
              0.6666666666666666,
              "#ed7953"
             ],
             [
              0.7777777777777778,
              "#fb9f3a"
             ],
             [
              0.8888888888888888,
              "#fdca26"
             ],
             [
              1,
              "#f0f921"
             ]
            ],
            "type": "heatmapgl"
           }
          ],
          "histogram": [
           {
            "marker": {
             "colorbar": {
              "outlinewidth": 0,
              "ticks": ""
             }
            },
            "type": "histogram"
           }
          ],
          "histogram2d": [
           {
            "colorbar": {
             "outlinewidth": 0,
             "ticks": ""
            },
            "colorscale": [
             [
              0,
              "#0d0887"
             ],
             [
              0.1111111111111111,
              "#46039f"
             ],
             [
              0.2222222222222222,
              "#7201a8"
             ],
             [
              0.3333333333333333,
              "#9c179e"
             ],
             [
              0.4444444444444444,
              "#bd3786"
             ],
             [
              0.5555555555555556,
              "#d8576b"
             ],
             [
              0.6666666666666666,
              "#ed7953"
             ],
             [
              0.7777777777777778,
              "#fb9f3a"
             ],
             [
              0.8888888888888888,
              "#fdca26"
             ],
             [
              1,
              "#f0f921"
             ]
            ],
            "type": "histogram2d"
           }
          ],
          "histogram2dcontour": [
           {
            "colorbar": {
             "outlinewidth": 0,
             "ticks": ""
            },
            "colorscale": [
             [
              0,
              "#0d0887"
             ],
             [
              0.1111111111111111,
              "#46039f"
             ],
             [
              0.2222222222222222,
              "#7201a8"
             ],
             [
              0.3333333333333333,
              "#9c179e"
             ],
             [
              0.4444444444444444,
              "#bd3786"
             ],
             [
              0.5555555555555556,
              "#d8576b"
             ],
             [
              0.6666666666666666,
              "#ed7953"
             ],
             [
              0.7777777777777778,
              "#fb9f3a"
             ],
             [
              0.8888888888888888,
              "#fdca26"
             ],
             [
              1,
              "#f0f921"
             ]
            ],
            "type": "histogram2dcontour"
           }
          ],
          "mesh3d": [
           {
            "colorbar": {
             "outlinewidth": 0,
             "ticks": ""
            },
            "type": "mesh3d"
           }
          ],
          "parcoords": [
           {
            "line": {
             "colorbar": {
              "outlinewidth": 0,
              "ticks": ""
             }
            },
            "type": "parcoords"
           }
          ],
          "pie": [
           {
            "automargin": true,
            "type": "pie"
           }
          ],
          "scatter": [
           {
            "marker": {
             "colorbar": {
              "outlinewidth": 0,
              "ticks": ""
             }
            },
            "type": "scatter"
           }
          ],
          "scatter3d": [
           {
            "line": {
             "colorbar": {
              "outlinewidth": 0,
              "ticks": ""
             }
            },
            "marker": {
             "colorbar": {
              "outlinewidth": 0,
              "ticks": ""
             }
            },
            "type": "scatter3d"
           }
          ],
          "scattercarpet": [
           {
            "marker": {
             "colorbar": {
              "outlinewidth": 0,
              "ticks": ""
             }
            },
            "type": "scattercarpet"
           }
          ],
          "scattergeo": [
           {
            "marker": {
             "colorbar": {
              "outlinewidth": 0,
              "ticks": ""
             }
            },
            "type": "scattergeo"
           }
          ],
          "scattergl": [
           {
            "marker": {
             "colorbar": {
              "outlinewidth": 0,
              "ticks": ""
             }
            },
            "type": "scattergl"
           }
          ],
          "scattermapbox": [
           {
            "marker": {
             "colorbar": {
              "outlinewidth": 0,
              "ticks": ""
             }
            },
            "type": "scattermapbox"
           }
          ],
          "scatterpolar": [
           {
            "marker": {
             "colorbar": {
              "outlinewidth": 0,
              "ticks": ""
             }
            },
            "type": "scatterpolar"
           }
          ],
          "scatterpolargl": [
           {
            "marker": {
             "colorbar": {
              "outlinewidth": 0,
              "ticks": ""
             }
            },
            "type": "scatterpolargl"
           }
          ],
          "scatterternary": [
           {
            "marker": {
             "colorbar": {
              "outlinewidth": 0,
              "ticks": ""
             }
            },
            "type": "scatterternary"
           }
          ],
          "surface": [
           {
            "colorbar": {
             "outlinewidth": 0,
             "ticks": ""
            },
            "colorscale": [
             [
              0,
              "#0d0887"
             ],
             [
              0.1111111111111111,
              "#46039f"
             ],
             [
              0.2222222222222222,
              "#7201a8"
             ],
             [
              0.3333333333333333,
              "#9c179e"
             ],
             [
              0.4444444444444444,
              "#bd3786"
             ],
             [
              0.5555555555555556,
              "#d8576b"
             ],
             [
              0.6666666666666666,
              "#ed7953"
             ],
             [
              0.7777777777777778,
              "#fb9f3a"
             ],
             [
              0.8888888888888888,
              "#fdca26"
             ],
             [
              1,
              "#f0f921"
             ]
            ],
            "type": "surface"
           }
          ],
          "table": [
           {
            "cells": {
             "fill": {
              "color": "#EBF0F8"
             },
             "line": {
              "color": "white"
             }
            },
            "header": {
             "fill": {
              "color": "#C8D4E3"
             },
             "line": {
              "color": "white"
             }
            },
            "type": "table"
           }
          ]
         },
         "layout": {
          "annotationdefaults": {
           "arrowcolor": "#2a3f5f",
           "arrowhead": 0,
           "arrowwidth": 1
          },
          "autotypenumbers": "strict",
          "coloraxis": {
           "colorbar": {
            "outlinewidth": 0,
            "ticks": ""
           }
          },
          "colorscale": {
           "diverging": [
            [
             0,
             "#8e0152"
            ],
            [
             0.1,
             "#c51b7d"
            ],
            [
             0.2,
             "#de77ae"
            ],
            [
             0.3,
             "#f1b6da"
            ],
            [
             0.4,
             "#fde0ef"
            ],
            [
             0.5,
             "#f7f7f7"
            ],
            [
             0.6,
             "#e6f5d0"
            ],
            [
             0.7,
             "#b8e186"
            ],
            [
             0.8,
             "#7fbc41"
            ],
            [
             0.9,
             "#4d9221"
            ],
            [
             1,
             "#276419"
            ]
           ],
           "sequential": [
            [
             0,
             "#0d0887"
            ],
            [
             0.1111111111111111,
             "#46039f"
            ],
            [
             0.2222222222222222,
             "#7201a8"
            ],
            [
             0.3333333333333333,
             "#9c179e"
            ],
            [
             0.4444444444444444,
             "#bd3786"
            ],
            [
             0.5555555555555556,
             "#d8576b"
            ],
            [
             0.6666666666666666,
             "#ed7953"
            ],
            [
             0.7777777777777778,
             "#fb9f3a"
            ],
            [
             0.8888888888888888,
             "#fdca26"
            ],
            [
             1,
             "#f0f921"
            ]
           ],
           "sequentialminus": [
            [
             0,
             "#0d0887"
            ],
            [
             0.1111111111111111,
             "#46039f"
            ],
            [
             0.2222222222222222,
             "#7201a8"
            ],
            [
             0.3333333333333333,
             "#9c179e"
            ],
            [
             0.4444444444444444,
             "#bd3786"
            ],
            [
             0.5555555555555556,
             "#d8576b"
            ],
            [
             0.6666666666666666,
             "#ed7953"
            ],
            [
             0.7777777777777778,
             "#fb9f3a"
            ],
            [
             0.8888888888888888,
             "#fdca26"
            ],
            [
             1,
             "#f0f921"
            ]
           ]
          },
          "colorway": [
           "#636efa",
           "#EF553B",
           "#00cc96",
           "#ab63fa",
           "#FFA15A",
           "#19d3f3",
           "#FF6692",
           "#B6E880",
           "#FF97FF",
           "#FECB52"
          ],
          "font": {
           "color": "#2a3f5f"
          },
          "geo": {
           "bgcolor": "white",
           "lakecolor": "white",
           "landcolor": "#E5ECF6",
           "showlakes": true,
           "showland": true,
           "subunitcolor": "white"
          },
          "hoverlabel": {
           "align": "left"
          },
          "hovermode": "closest",
          "mapbox": {
           "style": "light"
          },
          "paper_bgcolor": "white",
          "plot_bgcolor": "#E5ECF6",
          "polar": {
           "angularaxis": {
            "gridcolor": "white",
            "linecolor": "white",
            "ticks": ""
           },
           "bgcolor": "#E5ECF6",
           "radialaxis": {
            "gridcolor": "white",
            "linecolor": "white",
            "ticks": ""
           }
          },
          "scene": {
           "xaxis": {
            "backgroundcolor": "#E5ECF6",
            "gridcolor": "white",
            "gridwidth": 2,
            "linecolor": "white",
            "showbackground": true,
            "ticks": "",
            "zerolinecolor": "white"
           },
           "yaxis": {
            "backgroundcolor": "#E5ECF6",
            "gridcolor": "white",
            "gridwidth": 2,
            "linecolor": "white",
            "showbackground": true,
            "ticks": "",
            "zerolinecolor": "white"
           },
           "zaxis": {
            "backgroundcolor": "#E5ECF6",
            "gridcolor": "white",
            "gridwidth": 2,
            "linecolor": "white",
            "showbackground": true,
            "ticks": "",
            "zerolinecolor": "white"
           }
          },
          "shapedefaults": {
           "line": {
            "color": "#2a3f5f"
           }
          },
          "ternary": {
           "aaxis": {
            "gridcolor": "white",
            "linecolor": "white",
            "ticks": ""
           },
           "baxis": {
            "gridcolor": "white",
            "linecolor": "white",
            "ticks": ""
           },
           "bgcolor": "#E5ECF6",
           "caxis": {
            "gridcolor": "white",
            "linecolor": "white",
            "ticks": ""
           }
          },
          "title": {
           "x": 0.05
          },
          "xaxis": {
           "automargin": true,
           "gridcolor": "white",
           "linecolor": "white",
           "ticks": "",
           "title": {
            "standoff": 15
           },
           "zerolinecolor": "white",
           "zerolinewidth": 2
          },
          "yaxis": {
           "automargin": true,
           "gridcolor": "white",
           "linecolor": "white",
           "ticks": "",
           "title": {
            "standoff": 15
           },
           "zerolinecolor": "white",
           "zerolinewidth": 2
          }
         }
        },
        "title": {
         "text": "test_accuracy [8]: 1.00 [12]: 1.00 [16]: 1.00"
        },
        "xaxis": {
         "title": {
          "text": "epoch"
         }
        },
        "yaxis": {
         "title": {
          "text": "test_accuracy"
         }
        }
       }
      },
      "text/html": [
       "<div>                            <div id=\"0cf80393-6e16-478c-a05a-12638f0a6ca2\" class=\"plotly-graph-div\" style=\"height:525px; width:100%;\"></div>            <script type=\"text/javascript\">                require([\"plotly\"], function(Plotly) {                    window.PLOTLYENV=window.PLOTLYENV || {};                                    if (document.getElementById(\"0cf80393-6e16-478c-a05a-12638f0a6ca2\")) {                    Plotly.newPlot(                        \"0cf80393-6e16-478c-a05a-12638f0a6ca2\",                        [{\"mode\": \"markers+lines\", \"name\": \"8\", \"type\": \"scatter\", \"x\": [0, 1, 2, 3, 4, 5, 6, 7, 8, 9, 10, 11, 12, 13, 14, 15, 16, 17, 18, 19, 20, 21, 22, 23, 24, 25, 26, 27, 28, 29], \"y\": [0.43922812426398444, 0.6172828103841974, 0.6364978850364202, 0.6476248650028675, 0.654883628956148, 0.6823942449865484, 0.8105986678652979, 0.7616580928106796, 0.677935146091649, 0.7625982501170405, 1.0, 0.8777291912792811, 0.9579073657268621, 0.7411497266803511, 1.0, 1.0, 1.0, 1.0, 0.9948607298119497, 1.0, 1.0, 1.0, 1.0, 0.9250477226446674, 0.9315314524570804, 1.0, 0.9942492374281336, 0.842604176969367, 0.6208915281260001, 0.6567836217814222]}, {\"marker\": {\"color\": \"red\", \"size\": 10, \"symbol\": 104}, \"mode\": \"markers\", \"name\": \"\", \"type\": \"scatter\", \"x\": [10], \"y\": [1.0]}, {\"mode\": \"markers+lines\", \"name\": \"12\", \"type\": \"scatter\", \"x\": [0, 1, 2, 3, 4, 5, 6, 7, 8, 9, 10, 11, 12, 13, 14], \"y\": [0.1815651262215895, 0.19445276755253077, 0.22906771481290722, 0.5820701700631856, 0.31823408707364, 0.6636347593750254, 0.566931200078238, 0.7364710183050369, 0.920241784643085, 1.0, 1.0, 1.0, 1.0, 1.0, 1.0]}, {\"marker\": {\"color\": \"red\", \"size\": 10, \"symbol\": 104}, \"mode\": \"markers\", \"name\": \"\", \"type\": \"scatter\", \"x\": [9], \"y\": [1.0]}, {\"mode\": \"markers+lines\", \"name\": \"16\", \"type\": \"scatter\", \"x\": [0, 1, 2, 3, 4, 5, 6, 7, 8, 9, 10, 11, 12, 13, 14, 15, 16, 17, 18, 19, 20, 21, 22, 23, 24, 25, 26, 27, 28, 29], \"y\": [0.2525778871783653, 0.4007523781378555, 0.4447843772048304, 0.7099845585972064, 0.7974464241128265, 0.7019133420596086, 0.8477686004139062, 0.9665160106049634, 1.0, 1.0, 1.0, 1.0, 1.0, 1.0, 1.0, 1.0, 1.0, 1.0, 1.0, 1.0, 1.0, 1.0, 1.0, 1.0, 1.0, 1.0, 1.0, 1.0, 1.0, 1.0]}, {\"marker\": {\"color\": \"red\", \"size\": 10, \"symbol\": 104}, \"mode\": \"markers\", \"name\": \"\", \"type\": \"scatter\", \"x\": [8], \"y\": [1.0]}],                        {\"template\": {\"data\": {\"bar\": [{\"error_x\": {\"color\": \"#2a3f5f\"}, \"error_y\": {\"color\": \"#2a3f5f\"}, \"marker\": {\"line\": {\"color\": \"#E5ECF6\", \"width\": 0.5}}, \"type\": \"bar\"}], \"barpolar\": [{\"marker\": {\"line\": {\"color\": \"#E5ECF6\", \"width\": 0.5}}, \"type\": \"barpolar\"}], \"carpet\": [{\"aaxis\": {\"endlinecolor\": \"#2a3f5f\", \"gridcolor\": \"white\", \"linecolor\": \"white\", \"minorgridcolor\": \"white\", \"startlinecolor\": \"#2a3f5f\"}, \"baxis\": {\"endlinecolor\": \"#2a3f5f\", \"gridcolor\": \"white\", \"linecolor\": \"white\", \"minorgridcolor\": \"white\", \"startlinecolor\": \"#2a3f5f\"}, \"type\": \"carpet\"}], \"choropleth\": [{\"colorbar\": {\"outlinewidth\": 0, \"ticks\": \"\"}, \"type\": \"choropleth\"}], \"contour\": [{\"colorbar\": {\"outlinewidth\": 0, \"ticks\": \"\"}, \"colorscale\": [[0.0, \"#0d0887\"], [0.1111111111111111, \"#46039f\"], [0.2222222222222222, \"#7201a8\"], [0.3333333333333333, \"#9c179e\"], [0.4444444444444444, \"#bd3786\"], [0.5555555555555556, \"#d8576b\"], [0.6666666666666666, \"#ed7953\"], [0.7777777777777778, \"#fb9f3a\"], [0.8888888888888888, \"#fdca26\"], [1.0, \"#f0f921\"]], \"type\": \"contour\"}], \"contourcarpet\": [{\"colorbar\": {\"outlinewidth\": 0, \"ticks\": \"\"}, \"type\": \"contourcarpet\"}], \"heatmap\": [{\"colorbar\": {\"outlinewidth\": 0, \"ticks\": \"\"}, \"colorscale\": [[0.0, \"#0d0887\"], [0.1111111111111111, \"#46039f\"], [0.2222222222222222, \"#7201a8\"], [0.3333333333333333, \"#9c179e\"], [0.4444444444444444, \"#bd3786\"], [0.5555555555555556, \"#d8576b\"], [0.6666666666666666, \"#ed7953\"], [0.7777777777777778, \"#fb9f3a\"], [0.8888888888888888, \"#fdca26\"], [1.0, \"#f0f921\"]], \"type\": \"heatmap\"}], \"heatmapgl\": [{\"colorbar\": {\"outlinewidth\": 0, \"ticks\": \"\"}, \"colorscale\": [[0.0, \"#0d0887\"], [0.1111111111111111, \"#46039f\"], [0.2222222222222222, \"#7201a8\"], [0.3333333333333333, \"#9c179e\"], [0.4444444444444444, \"#bd3786\"], [0.5555555555555556, \"#d8576b\"], [0.6666666666666666, \"#ed7953\"], [0.7777777777777778, \"#fb9f3a\"], [0.8888888888888888, \"#fdca26\"], [1.0, \"#f0f921\"]], \"type\": \"heatmapgl\"}], \"histogram\": [{\"marker\": {\"colorbar\": {\"outlinewidth\": 0, \"ticks\": \"\"}}, \"type\": \"histogram\"}], \"histogram2d\": [{\"colorbar\": {\"outlinewidth\": 0, \"ticks\": \"\"}, \"colorscale\": [[0.0, \"#0d0887\"], [0.1111111111111111, \"#46039f\"], [0.2222222222222222, \"#7201a8\"], [0.3333333333333333, \"#9c179e\"], [0.4444444444444444, \"#bd3786\"], [0.5555555555555556, \"#d8576b\"], [0.6666666666666666, \"#ed7953\"], [0.7777777777777778, \"#fb9f3a\"], [0.8888888888888888, \"#fdca26\"], [1.0, \"#f0f921\"]], \"type\": \"histogram2d\"}], \"histogram2dcontour\": [{\"colorbar\": {\"outlinewidth\": 0, \"ticks\": \"\"}, \"colorscale\": [[0.0, \"#0d0887\"], [0.1111111111111111, \"#46039f\"], [0.2222222222222222, \"#7201a8\"], [0.3333333333333333, \"#9c179e\"], [0.4444444444444444, \"#bd3786\"], [0.5555555555555556, \"#d8576b\"], [0.6666666666666666, \"#ed7953\"], [0.7777777777777778, \"#fb9f3a\"], [0.8888888888888888, \"#fdca26\"], [1.0, \"#f0f921\"]], \"type\": \"histogram2dcontour\"}], \"mesh3d\": [{\"colorbar\": {\"outlinewidth\": 0, \"ticks\": \"\"}, \"type\": \"mesh3d\"}], \"parcoords\": [{\"line\": {\"colorbar\": {\"outlinewidth\": 0, \"ticks\": \"\"}}, \"type\": \"parcoords\"}], \"pie\": [{\"automargin\": true, \"type\": \"pie\"}], \"scatter\": [{\"marker\": {\"colorbar\": {\"outlinewidth\": 0, \"ticks\": \"\"}}, \"type\": \"scatter\"}], \"scatter3d\": [{\"line\": {\"colorbar\": {\"outlinewidth\": 0, \"ticks\": \"\"}}, \"marker\": {\"colorbar\": {\"outlinewidth\": 0, \"ticks\": \"\"}}, \"type\": \"scatter3d\"}], \"scattercarpet\": [{\"marker\": {\"colorbar\": {\"outlinewidth\": 0, \"ticks\": \"\"}}, \"type\": \"scattercarpet\"}], \"scattergeo\": [{\"marker\": {\"colorbar\": {\"outlinewidth\": 0, \"ticks\": \"\"}}, \"type\": \"scattergeo\"}], \"scattergl\": [{\"marker\": {\"colorbar\": {\"outlinewidth\": 0, \"ticks\": \"\"}}, \"type\": \"scattergl\"}], \"scattermapbox\": [{\"marker\": {\"colorbar\": {\"outlinewidth\": 0, \"ticks\": \"\"}}, \"type\": \"scattermapbox\"}], \"scatterpolar\": [{\"marker\": {\"colorbar\": {\"outlinewidth\": 0, \"ticks\": \"\"}}, \"type\": \"scatterpolar\"}], \"scatterpolargl\": [{\"marker\": {\"colorbar\": {\"outlinewidth\": 0, \"ticks\": \"\"}}, \"type\": \"scatterpolargl\"}], \"scatterternary\": [{\"marker\": {\"colorbar\": {\"outlinewidth\": 0, \"ticks\": \"\"}}, \"type\": \"scatterternary\"}], \"surface\": [{\"colorbar\": {\"outlinewidth\": 0, \"ticks\": \"\"}, \"colorscale\": [[0.0, \"#0d0887\"], [0.1111111111111111, \"#46039f\"], [0.2222222222222222, \"#7201a8\"], [0.3333333333333333, \"#9c179e\"], [0.4444444444444444, \"#bd3786\"], [0.5555555555555556, \"#d8576b\"], [0.6666666666666666, \"#ed7953\"], [0.7777777777777778, \"#fb9f3a\"], [0.8888888888888888, \"#fdca26\"], [1.0, \"#f0f921\"]], \"type\": \"surface\"}], \"table\": [{\"cells\": {\"fill\": {\"color\": \"#EBF0F8\"}, \"line\": {\"color\": \"white\"}}, \"header\": {\"fill\": {\"color\": \"#C8D4E3\"}, \"line\": {\"color\": \"white\"}}, \"type\": \"table\"}]}, \"layout\": {\"annotationdefaults\": {\"arrowcolor\": \"#2a3f5f\", \"arrowhead\": 0, \"arrowwidth\": 1}, \"autotypenumbers\": \"strict\", \"coloraxis\": {\"colorbar\": {\"outlinewidth\": 0, \"ticks\": \"\"}}, \"colorscale\": {\"diverging\": [[0, \"#8e0152\"], [0.1, \"#c51b7d\"], [0.2, \"#de77ae\"], [0.3, \"#f1b6da\"], [0.4, \"#fde0ef\"], [0.5, \"#f7f7f7\"], [0.6, \"#e6f5d0\"], [0.7, \"#b8e186\"], [0.8, \"#7fbc41\"], [0.9, \"#4d9221\"], [1, \"#276419\"]], \"sequential\": [[0.0, \"#0d0887\"], [0.1111111111111111, \"#46039f\"], [0.2222222222222222, \"#7201a8\"], [0.3333333333333333, \"#9c179e\"], [0.4444444444444444, \"#bd3786\"], [0.5555555555555556, \"#d8576b\"], [0.6666666666666666, \"#ed7953\"], [0.7777777777777778, \"#fb9f3a\"], [0.8888888888888888, \"#fdca26\"], [1.0, \"#f0f921\"]], \"sequentialminus\": [[0.0, \"#0d0887\"], [0.1111111111111111, \"#46039f\"], [0.2222222222222222, \"#7201a8\"], [0.3333333333333333, \"#9c179e\"], [0.4444444444444444, \"#bd3786\"], [0.5555555555555556, \"#d8576b\"], [0.6666666666666666, \"#ed7953\"], [0.7777777777777778, \"#fb9f3a\"], [0.8888888888888888, \"#fdca26\"], [1.0, \"#f0f921\"]]}, \"colorway\": [\"#636efa\", \"#EF553B\", \"#00cc96\", \"#ab63fa\", \"#FFA15A\", \"#19d3f3\", \"#FF6692\", \"#B6E880\", \"#FF97FF\", \"#FECB52\"], \"font\": {\"color\": \"#2a3f5f\"}, \"geo\": {\"bgcolor\": \"white\", \"lakecolor\": \"white\", \"landcolor\": \"#E5ECF6\", \"showlakes\": true, \"showland\": true, \"subunitcolor\": \"white\"}, \"hoverlabel\": {\"align\": \"left\"}, \"hovermode\": \"closest\", \"mapbox\": {\"style\": \"light\"}, \"paper_bgcolor\": \"white\", \"plot_bgcolor\": \"#E5ECF6\", \"polar\": {\"angularaxis\": {\"gridcolor\": \"white\", \"linecolor\": \"white\", \"ticks\": \"\"}, \"bgcolor\": \"#E5ECF6\", \"radialaxis\": {\"gridcolor\": \"white\", \"linecolor\": \"white\", \"ticks\": \"\"}}, \"scene\": {\"xaxis\": {\"backgroundcolor\": \"#E5ECF6\", \"gridcolor\": \"white\", \"gridwidth\": 2, \"linecolor\": \"white\", \"showbackground\": true, \"ticks\": \"\", \"zerolinecolor\": \"white\"}, \"yaxis\": {\"backgroundcolor\": \"#E5ECF6\", \"gridcolor\": \"white\", \"gridwidth\": 2, \"linecolor\": \"white\", \"showbackground\": true, \"ticks\": \"\", \"zerolinecolor\": \"white\"}, \"zaxis\": {\"backgroundcolor\": \"#E5ECF6\", \"gridcolor\": \"white\", \"gridwidth\": 2, \"linecolor\": \"white\", \"showbackground\": true, \"ticks\": \"\", \"zerolinecolor\": \"white\"}}, \"shapedefaults\": {\"line\": {\"color\": \"#2a3f5f\"}}, \"ternary\": {\"aaxis\": {\"gridcolor\": \"white\", \"linecolor\": \"white\", \"ticks\": \"\"}, \"baxis\": {\"gridcolor\": \"white\", \"linecolor\": \"white\", \"ticks\": \"\"}, \"bgcolor\": \"#E5ECF6\", \"caxis\": {\"gridcolor\": \"white\", \"linecolor\": \"white\", \"ticks\": \"\"}}, \"title\": {\"x\": 0.05}, \"xaxis\": {\"automargin\": true, \"gridcolor\": \"white\", \"linecolor\": \"white\", \"ticks\": \"\", \"title\": {\"standoff\": 15}, \"zerolinecolor\": \"white\", \"zerolinewidth\": 2}, \"yaxis\": {\"automargin\": true, \"gridcolor\": \"white\", \"linecolor\": \"white\", \"ticks\": \"\", \"title\": {\"standoff\": 15}, \"zerolinecolor\": \"white\", \"zerolinewidth\": 2}}}, \"title\": {\"text\": \"test_accuracy [8]: 1.00 [12]: 1.00 [16]: 1.00\"}, \"xaxis\": {\"title\": {\"text\": \"epoch\"}}, \"yaxis\": {\"title\": {\"text\": \"test_accuracy\"}}},                        {\"responsive\": true}                    ).then(function(){\n",
       "                            \n",
       "var gd = document.getElementById('0cf80393-6e16-478c-a05a-12638f0a6ca2');\n",
       "var x = new MutationObserver(function (mutations, observer) {{\n",
       "        var display = window.getComputedStyle(gd).display;\n",
       "        if (!display || display === 'none') {{\n",
       "            console.log([gd, 'removed!']);\n",
       "            Plotly.purge(gd);\n",
       "            observer.disconnect();\n",
       "        }}\n",
       "}});\n",
       "\n",
       "// Listen for the removal of the full notebook cells\n",
       "var notebookContainer = gd.closest('#notebook-container');\n",
       "if (notebookContainer) {{\n",
       "    x.observe(notebookContainer, {childList: true});\n",
       "}}\n",
       "\n",
       "// Listen for the clearing of the current output cell\n",
       "var outputEl = gd.closest('.output');\n",
       "if (outputEl) {{\n",
       "    x.observe(outputEl, {childList: true});\n",
       "}}\n",
       "\n",
       "                        })                };                });            </script>        </div>"
      ]
     },
     "metadata": {},
     "output_type": "display_data"
    },
    {
     "data": {
      "text/html": [
       "<div>\n",
       "<style scoped>\n",
       "    .dataframe tbody tr th:only-of-type {\n",
       "        vertical-align: middle;\n",
       "    }\n",
       "\n",
       "    .dataframe tbody tr th {\n",
       "        vertical-align: top;\n",
       "    }\n",
       "\n",
       "    .dataframe thead th {\n",
       "        text-align: right;\n",
       "    }\n",
       "</style>\n",
       "<table border=\"1\" class=\"dataframe\">\n",
       "  <thead>\n",
       "    <tr style=\"text-align: right;\">\n",
       "      <th></th>\n",
       "      <th>epochs</th>\n",
       "      <th>offset</th>\n",
       "      <th>rate</th>\n",
       "      <th>test_accuracy</th>\n",
       "    </tr>\n",
       "  </thead>\n",
       "  <tbody>\n",
       "    <tr>\n",
       "      <th>8</th>\n",
       "      <td>30.0</td>\n",
       "      <td>0.6</td>\n",
       "      <td>0.03</td>\n",
       "      <td>1.0</td>\n",
       "    </tr>\n",
       "    <tr>\n",
       "      <th>12</th>\n",
       "      <td>15.0</td>\n",
       "      <td>0.1</td>\n",
       "      <td>0.10</td>\n",
       "      <td>1.0</td>\n",
       "    </tr>\n",
       "    <tr>\n",
       "      <th>16</th>\n",
       "      <td>30.0</td>\n",
       "      <td>0.3</td>\n",
       "      <td>0.10</td>\n",
       "      <td>1.0</td>\n",
       "    </tr>\n",
       "  </tbody>\n",
       "</table>\n",
       "</div>"
      ],
      "text/plain": [
       "    epochs  offset  rate  test_accuracy\n",
       "8     30.0     0.6  0.03            1.0\n",
       "12    15.0     0.1  0.10            1.0\n",
       "16    30.0     0.3  0.10            1.0"
      ]
     },
     "metadata": {},
     "output_type": "display_data"
    },
    {
     "data": {
      "text/html": [
       "        <script type=\"text/javascript\">\n",
       "        window.PlotlyConfig = {MathJaxConfig: 'local'};\n",
       "        if (window.MathJax) {MathJax.Hub.Config({SVG: {font: \"STIX-Web\"}});}\n",
       "        if (typeof require !== 'undefined') {\n",
       "        require.undef(\"plotly\");\n",
       "        requirejs.config({\n",
       "            paths: {\n",
       "                'plotly': ['https://cdn.plot.ly/plotly-latest.min']\n",
       "            }\n",
       "        });\n",
       "        require(['plotly'], function(Plotly) {\n",
       "            window._Plotly = Plotly;\n",
       "        });\n",
       "        }\n",
       "        </script>\n",
       "        "
      ]
     },
     "metadata": {},
     "output_type": "display_data"
    },
    {
     "data": {
      "application/vnd.plotly.v1+json": {
       "config": {
        "linkText": "Export to plot.ly",
        "plotlyServerURL": "https://plot.ly",
        "showLink": false
       },
       "data": [
        {
         "mode": "markers",
         "name": "all experiments",
         "type": "scatter",
         "x": [
          0.7734307464799904,
          0.8413861631116624,
          0.6358769441855616,
          0.6185103662678293,
          0.7120719535193413,
          1,
          1,
          1,
          1,
          1,
          1,
          1,
          0.8809692740102653,
          1,
          1
         ],
         "y": [
          1,
          1,
          1,
          0.9065438301025369,
          0.8324330871750214,
          1,
          1,
          1,
          1,
          1,
          1,
          1,
          1,
          1,
          1
         ]
        },
        {
         "mode": "lines",
         "name": "linear",
         "type": "scatter",
         "x": [
          0.6185103662678293,
          0.6223637969115886,
          0.6262172275553479,
          0.6300706581991072,
          0.6339240888428664,
          0.6377775194866258,
          0.6416309501303851,
          0.6454843807741444,
          0.6493378114179037,
          0.653191242061663,
          0.6570446727054223,
          0.6608981033491816,
          0.6647515339929408,
          0.6686049646367002,
          0.6724583952804595,
          0.6763118259242188,
          0.6801652565679781,
          0.6840186872117374,
          0.6878721178554967,
          0.6917255484992559,
          0.6955789791430153,
          0.6994324097867746,
          0.7032858404305339,
          0.7071392710742932,
          0.7109927017180525,
          0.7148461323618118,
          0.718699563005571,
          0.7225529936493303,
          0.7264064242930897,
          0.730259854936849,
          0.7341132855806083,
          0.7379667162243676,
          0.7418201468681269,
          0.7456735775118861,
          0.7495270081556455,
          0.7533804387994048,
          0.7572338694431641,
          0.7610873000869234,
          0.7649407307306827,
          0.768794161374442,
          0.7726475920182013,
          0.7765010226619606,
          0.7803544533057198,
          0.7842078839494792,
          0.7880613145932385,
          0.7919147452369978,
          0.7957681758807571,
          0.7996216065245164,
          0.8034750371682757,
          0.8073284678120349,
          0.8111818984557942,
          0.8150353290995536,
          0.8188887597433129,
          0.8227421903870722,
          0.8265956210308315,
          0.8304490516745908,
          0.83430248231835,
          0.8381559129621095,
          0.8420093436058687,
          0.845862774249628,
          0.8497162048933873,
          0.8535696355371466,
          0.8574230661809059,
          0.8612764968246652,
          0.8651299274684245,
          0.8689833581121837,
          0.8728367887559431,
          0.8766902193997024,
          0.8805436500434617,
          0.884397080687221,
          0.8882505113309802,
          0.8921039419747396,
          0.8959573726184988,
          0.8998108032622583,
          0.9036642339060175,
          0.9075176645497768,
          0.9113710951935361,
          0.9152245258372954,
          0.9190779564810547,
          0.9229313871248139,
          0.9267848177685734,
          0.9306382484123326,
          0.9344916790560919,
          0.9383451096998512,
          0.9421985403436105,
          0.9460519709873698,
          0.949905401631129,
          0.9537588322748884,
          0.9576122629186476,
          0.961465693562407,
          0.9653191242061663,
          0.9691725548499256,
          0.9730259854936849,
          0.9768794161374441,
          0.9807328467812035,
          0.9845862774249627,
          0.9884397080687221,
          0.9922931387124814,
          0.9961465693562407,
          1
         ],
         "y": [
          0.8324330871750214,
          0.8341256822540616,
          0.8358182773331018,
          0.837510872412142,
          0.8392034674911821,
          0.8408960625702223,
          0.8425886576492625,
          0.8442812527283027,
          0.8459738478073429,
          0.847666442886383,
          0.8493590379654232,
          0.8510516330444635,
          0.8527442281235037,
          0.8544368232025439,
          0.8561294182815841,
          0.8578220133606242,
          0.8595146084396644,
          0.8612072035187046,
          0.8628997985977448,
          0.864592393676785,
          0.8662849887558252,
          0.8679775838348653,
          0.8696701789139055,
          0.8713627739929457,
          0.8730553690719859,
          0.8747479641510261,
          0.8764405592300663,
          0.8781331543091064,
          0.8798257493881466,
          0.8815183444671868,
          0.8832109395462271,
          0.8849035346252673,
          0.8865961297043075,
          0.8882887247833476,
          0.8899813198623878,
          0.891673914941428,
          0.8933665100204682,
          0.8950591050995084,
          0.8967517001785485,
          0.8984442952575887,
          0.9001368903366289,
          0.9018294854156691,
          0.9035220804947093,
          0.9052146755737495,
          0.9069072706527896,
          0.9085998657318298,
          0.91029246081087,
          0.9119850558899102,
          0.9136776509689504,
          0.9153702460479907,
          0.9170628411270307,
          0.918755436206071,
          0.9204480312851112,
          0.9221406263641514,
          0.9238332214431916,
          0.9255258165222318,
          0.9272184116012719,
          0.9289110066803121,
          0.9306036017593523,
          0.9322961968383925,
          0.9339887919174327,
          0.9356813869964729,
          0.937373982075513,
          0.9390665771545532,
          0.9407591722335934,
          0.9424517673126336,
          0.9441443623916738,
          0.945836957470714,
          0.9475295525497542,
          0.9492221476287943,
          0.9509147427078346,
          0.9526073377868748,
          0.954299932865915,
          0.9559925279449552,
          0.9576851230239953,
          0.9593777181030355,
          0.9610703131820757,
          0.9627629082611159,
          0.9644555033401561,
          0.9661480984191962,
          0.9678406934982364,
          0.9695332885772766,
          0.9712258836563168,
          0.972918478735357,
          0.9746110738143972,
          0.9763036688934373,
          0.9779962639724775,
          0.9796888590515178,
          0.9813814541305579,
          0.9830740492095982,
          0.9847666442886382,
          0.9864592393676785,
          0.9881518344467187,
          0.9898444295257589,
          0.9915370246047991,
          0.9932296196838393,
          0.9949222147628795,
          0.9966148098419196,
          0.9983074049209598,
          1
         ]
        }
       ],
       "layout": {
        "template": {
         "data": {
          "bar": [
           {
            "error_x": {
             "color": "#2a3f5f"
            },
            "error_y": {
             "color": "#2a3f5f"
            },
            "marker": {
             "line": {
              "color": "#E5ECF6",
              "width": 0.5
             }
            },
            "type": "bar"
           }
          ],
          "barpolar": [
           {
            "marker": {
             "line": {
              "color": "#E5ECF6",
              "width": 0.5
             }
            },
            "type": "barpolar"
           }
          ],
          "carpet": [
           {
            "aaxis": {
             "endlinecolor": "#2a3f5f",
             "gridcolor": "white",
             "linecolor": "white",
             "minorgridcolor": "white",
             "startlinecolor": "#2a3f5f"
            },
            "baxis": {
             "endlinecolor": "#2a3f5f",
             "gridcolor": "white",
             "linecolor": "white",
             "minorgridcolor": "white",
             "startlinecolor": "#2a3f5f"
            },
            "type": "carpet"
           }
          ],
          "choropleth": [
           {
            "colorbar": {
             "outlinewidth": 0,
             "ticks": ""
            },
            "type": "choropleth"
           }
          ],
          "contour": [
           {
            "colorbar": {
             "outlinewidth": 0,
             "ticks": ""
            },
            "colorscale": [
             [
              0,
              "#0d0887"
             ],
             [
              0.1111111111111111,
              "#46039f"
             ],
             [
              0.2222222222222222,
              "#7201a8"
             ],
             [
              0.3333333333333333,
              "#9c179e"
             ],
             [
              0.4444444444444444,
              "#bd3786"
             ],
             [
              0.5555555555555556,
              "#d8576b"
             ],
             [
              0.6666666666666666,
              "#ed7953"
             ],
             [
              0.7777777777777778,
              "#fb9f3a"
             ],
             [
              0.8888888888888888,
              "#fdca26"
             ],
             [
              1,
              "#f0f921"
             ]
            ],
            "type": "contour"
           }
          ],
          "contourcarpet": [
           {
            "colorbar": {
             "outlinewidth": 0,
             "ticks": ""
            },
            "type": "contourcarpet"
           }
          ],
          "heatmap": [
           {
            "colorbar": {
             "outlinewidth": 0,
             "ticks": ""
            },
            "colorscale": [
             [
              0,
              "#0d0887"
             ],
             [
              0.1111111111111111,
              "#46039f"
             ],
             [
              0.2222222222222222,
              "#7201a8"
             ],
             [
              0.3333333333333333,
              "#9c179e"
             ],
             [
              0.4444444444444444,
              "#bd3786"
             ],
             [
              0.5555555555555556,
              "#d8576b"
             ],
             [
              0.6666666666666666,
              "#ed7953"
             ],
             [
              0.7777777777777778,
              "#fb9f3a"
             ],
             [
              0.8888888888888888,
              "#fdca26"
             ],
             [
              1,
              "#f0f921"
             ]
            ],
            "type": "heatmap"
           }
          ],
          "heatmapgl": [
           {
            "colorbar": {
             "outlinewidth": 0,
             "ticks": ""
            },
            "colorscale": [
             [
              0,
              "#0d0887"
             ],
             [
              0.1111111111111111,
              "#46039f"
             ],
             [
              0.2222222222222222,
              "#7201a8"
             ],
             [
              0.3333333333333333,
              "#9c179e"
             ],
             [
              0.4444444444444444,
              "#bd3786"
             ],
             [
              0.5555555555555556,
              "#d8576b"
             ],
             [
              0.6666666666666666,
              "#ed7953"
             ],
             [
              0.7777777777777778,
              "#fb9f3a"
             ],
             [
              0.8888888888888888,
              "#fdca26"
             ],
             [
              1,
              "#f0f921"
             ]
            ],
            "type": "heatmapgl"
           }
          ],
          "histogram": [
           {
            "marker": {
             "colorbar": {
              "outlinewidth": 0,
              "ticks": ""
             }
            },
            "type": "histogram"
           }
          ],
          "histogram2d": [
           {
            "colorbar": {
             "outlinewidth": 0,
             "ticks": ""
            },
            "colorscale": [
             [
              0,
              "#0d0887"
             ],
             [
              0.1111111111111111,
              "#46039f"
             ],
             [
              0.2222222222222222,
              "#7201a8"
             ],
             [
              0.3333333333333333,
              "#9c179e"
             ],
             [
              0.4444444444444444,
              "#bd3786"
             ],
             [
              0.5555555555555556,
              "#d8576b"
             ],
             [
              0.6666666666666666,
              "#ed7953"
             ],
             [
              0.7777777777777778,
              "#fb9f3a"
             ],
             [
              0.8888888888888888,
              "#fdca26"
             ],
             [
              1,
              "#f0f921"
             ]
            ],
            "type": "histogram2d"
           }
          ],
          "histogram2dcontour": [
           {
            "colorbar": {
             "outlinewidth": 0,
             "ticks": ""
            },
            "colorscale": [
             [
              0,
              "#0d0887"
             ],
             [
              0.1111111111111111,
              "#46039f"
             ],
             [
              0.2222222222222222,
              "#7201a8"
             ],
             [
              0.3333333333333333,
              "#9c179e"
             ],
             [
              0.4444444444444444,
              "#bd3786"
             ],
             [
              0.5555555555555556,
              "#d8576b"
             ],
             [
              0.6666666666666666,
              "#ed7953"
             ],
             [
              0.7777777777777778,
              "#fb9f3a"
             ],
             [
              0.8888888888888888,
              "#fdca26"
             ],
             [
              1,
              "#f0f921"
             ]
            ],
            "type": "histogram2dcontour"
           }
          ],
          "mesh3d": [
           {
            "colorbar": {
             "outlinewidth": 0,
             "ticks": ""
            },
            "type": "mesh3d"
           }
          ],
          "parcoords": [
           {
            "line": {
             "colorbar": {
              "outlinewidth": 0,
              "ticks": ""
             }
            },
            "type": "parcoords"
           }
          ],
          "pie": [
           {
            "automargin": true,
            "type": "pie"
           }
          ],
          "scatter": [
           {
            "marker": {
             "colorbar": {
              "outlinewidth": 0,
              "ticks": ""
             }
            },
            "type": "scatter"
           }
          ],
          "scatter3d": [
           {
            "line": {
             "colorbar": {
              "outlinewidth": 0,
              "ticks": ""
             }
            },
            "marker": {
             "colorbar": {
              "outlinewidth": 0,
              "ticks": ""
             }
            },
            "type": "scatter3d"
           }
          ],
          "scattercarpet": [
           {
            "marker": {
             "colorbar": {
              "outlinewidth": 0,
              "ticks": ""
             }
            },
            "type": "scattercarpet"
           }
          ],
          "scattergeo": [
           {
            "marker": {
             "colorbar": {
              "outlinewidth": 0,
              "ticks": ""
             }
            },
            "type": "scattergeo"
           }
          ],
          "scattergl": [
           {
            "marker": {
             "colorbar": {
              "outlinewidth": 0,
              "ticks": ""
             }
            },
            "type": "scattergl"
           }
          ],
          "scattermapbox": [
           {
            "marker": {
             "colorbar": {
              "outlinewidth": 0,
              "ticks": ""
             }
            },
            "type": "scattermapbox"
           }
          ],
          "scatterpolar": [
           {
            "marker": {
             "colorbar": {
              "outlinewidth": 0,
              "ticks": ""
             }
            },
            "type": "scatterpolar"
           }
          ],
          "scatterpolargl": [
           {
            "marker": {
             "colorbar": {
              "outlinewidth": 0,
              "ticks": ""
             }
            },
            "type": "scatterpolargl"
           }
          ],
          "scatterternary": [
           {
            "marker": {
             "colorbar": {
              "outlinewidth": 0,
              "ticks": ""
             }
            },
            "type": "scatterternary"
           }
          ],
          "surface": [
           {
            "colorbar": {
             "outlinewidth": 0,
             "ticks": ""
            },
            "colorscale": [
             [
              0,
              "#0d0887"
             ],
             [
              0.1111111111111111,
              "#46039f"
             ],
             [
              0.2222222222222222,
              "#7201a8"
             ],
             [
              0.3333333333333333,
              "#9c179e"
             ],
             [
              0.4444444444444444,
              "#bd3786"
             ],
             [
              0.5555555555555556,
              "#d8576b"
             ],
             [
              0.6666666666666666,
              "#ed7953"
             ],
             [
              0.7777777777777778,
              "#fb9f3a"
             ],
             [
              0.8888888888888888,
              "#fdca26"
             ],
             [
              1,
              "#f0f921"
             ]
            ],
            "type": "surface"
           }
          ],
          "table": [
           {
            "cells": {
             "fill": {
              "color": "#EBF0F8"
             },
             "line": {
              "color": "white"
             }
            },
            "header": {
             "fill": {
              "color": "#C8D4E3"
             },
             "line": {
              "color": "white"
             }
            },
            "type": "table"
           }
          ]
         },
         "layout": {
          "annotationdefaults": {
           "arrowcolor": "#2a3f5f",
           "arrowhead": 0,
           "arrowwidth": 1
          },
          "autotypenumbers": "strict",
          "coloraxis": {
           "colorbar": {
            "outlinewidth": 0,
            "ticks": ""
           }
          },
          "colorscale": {
           "diverging": [
            [
             0,
             "#8e0152"
            ],
            [
             0.1,
             "#c51b7d"
            ],
            [
             0.2,
             "#de77ae"
            ],
            [
             0.3,
             "#f1b6da"
            ],
            [
             0.4,
             "#fde0ef"
            ],
            [
             0.5,
             "#f7f7f7"
            ],
            [
             0.6,
             "#e6f5d0"
            ],
            [
             0.7,
             "#b8e186"
            ],
            [
             0.8,
             "#7fbc41"
            ],
            [
             0.9,
             "#4d9221"
            ],
            [
             1,
             "#276419"
            ]
           ],
           "sequential": [
            [
             0,
             "#0d0887"
            ],
            [
             0.1111111111111111,
             "#46039f"
            ],
            [
             0.2222222222222222,
             "#7201a8"
            ],
            [
             0.3333333333333333,
             "#9c179e"
            ],
            [
             0.4444444444444444,
             "#bd3786"
            ],
            [
             0.5555555555555556,
             "#d8576b"
            ],
            [
             0.6666666666666666,
             "#ed7953"
            ],
            [
             0.7777777777777778,
             "#fb9f3a"
            ],
            [
             0.8888888888888888,
             "#fdca26"
            ],
            [
             1,
             "#f0f921"
            ]
           ],
           "sequentialminus": [
            [
             0,
             "#0d0887"
            ],
            [
             0.1111111111111111,
             "#46039f"
            ],
            [
             0.2222222222222222,
             "#7201a8"
            ],
            [
             0.3333333333333333,
             "#9c179e"
            ],
            [
             0.4444444444444444,
             "#bd3786"
            ],
            [
             0.5555555555555556,
             "#d8576b"
            ],
            [
             0.6666666666666666,
             "#ed7953"
            ],
            [
             0.7777777777777778,
             "#fb9f3a"
            ],
            [
             0.8888888888888888,
             "#fdca26"
            ],
            [
             1,
             "#f0f921"
            ]
           ]
          },
          "colorway": [
           "#636efa",
           "#EF553B",
           "#00cc96",
           "#ab63fa",
           "#FFA15A",
           "#19d3f3",
           "#FF6692",
           "#B6E880",
           "#FF97FF",
           "#FECB52"
          ],
          "font": {
           "color": "#2a3f5f"
          },
          "geo": {
           "bgcolor": "white",
           "lakecolor": "white",
           "landcolor": "#E5ECF6",
           "showlakes": true,
           "showland": true,
           "subunitcolor": "white"
          },
          "hoverlabel": {
           "align": "left"
          },
          "hovermode": "closest",
          "mapbox": {
           "style": "light"
          },
          "paper_bgcolor": "white",
          "plot_bgcolor": "#E5ECF6",
          "polar": {
           "angularaxis": {
            "gridcolor": "white",
            "linecolor": "white",
            "ticks": ""
           },
           "bgcolor": "#E5ECF6",
           "radialaxis": {
            "gridcolor": "white",
            "linecolor": "white",
            "ticks": ""
           }
          },
          "scene": {
           "xaxis": {
            "backgroundcolor": "#E5ECF6",
            "gridcolor": "white",
            "gridwidth": 2,
            "linecolor": "white",
            "showbackground": true,
            "ticks": "",
            "zerolinecolor": "white"
           },
           "yaxis": {
            "backgroundcolor": "#E5ECF6",
            "gridcolor": "white",
            "gridwidth": 2,
            "linecolor": "white",
            "showbackground": true,
            "ticks": "",
            "zerolinecolor": "white"
           },
           "zaxis": {
            "backgroundcolor": "#E5ECF6",
            "gridcolor": "white",
            "gridwidth": 2,
            "linecolor": "white",
            "showbackground": true,
            "ticks": "",
            "zerolinecolor": "white"
           }
          },
          "shapedefaults": {
           "line": {
            "color": "#2a3f5f"
           }
          },
          "ternary": {
           "aaxis": {
            "gridcolor": "white",
            "linecolor": "white",
            "ticks": ""
           },
           "baxis": {
            "gridcolor": "white",
            "linecolor": "white",
            "ticks": ""
           },
           "bgcolor": "#E5ECF6",
           "caxis": {
            "gridcolor": "white",
            "linecolor": "white",
            "ticks": ""
           }
          },
          "title": {
           "x": 0.05
          },
          "xaxis": {
           "automargin": true,
           "gridcolor": "white",
           "linecolor": "white",
           "ticks": "",
           "title": {
            "standoff": 15
           },
           "zerolinecolor": "white",
           "zerolinewidth": 2
          },
          "yaxis": {
           "automargin": true,
           "gridcolor": "white",
           "linecolor": "white",
           "ticks": "",
           "title": {
            "standoff": 15
           },
           "zerolinecolor": "white",
           "zerolinewidth": 2
          }
         }
        },
        "title": {
         "text": "test_accuracy vs validation_accuracy"
        },
        "xaxis": {
         "title": {
          "text": "test_accuracy"
         }
        },
        "yaxis": {
         "title": {
          "text": "validation_accuracy"
         }
        }
       }
      },
      "text/html": [
       "<div>                            <div id=\"dfb12b0a-d095-4f0f-8b5b-1e4c456161de\" class=\"plotly-graph-div\" style=\"height:525px; width:100%;\"></div>            <script type=\"text/javascript\">                require([\"plotly\"], function(Plotly) {                    window.PLOTLYENV=window.PLOTLYENV || {};                                    if (document.getElementById(\"dfb12b0a-d095-4f0f-8b5b-1e4c456161de\")) {                    Plotly.newPlot(                        \"dfb12b0a-d095-4f0f-8b5b-1e4c456161de\",                        [{\"mode\": \"markers\", \"name\": \"all experiments\", \"type\": \"scatter\", \"x\": [0.7734307464799904, 0.8413861631116624, 0.6358769441855616, 0.6185103662678293, 0.7120719535193413, 1.0, 1.0, 1.0, 1.0, 1.0, 1.0, 1.0, 0.8809692740102653, 1.0, 1.0], \"y\": [1.0, 1.0, 1.0, 0.9065438301025369, 0.8324330871750214, 1.0, 1.0, 1.0, 1.0, 1.0, 1.0, 1.0, 1.0, 1.0, 1.0]}, {\"mode\": \"lines\", \"name\": \"linear\", \"type\": \"scatter\", \"x\": [0.6185103662678293, 0.6223637969115886, 0.6262172275553479, 0.6300706581991072, 0.6339240888428664, 0.6377775194866258, 0.6416309501303851, 0.6454843807741444, 0.6493378114179037, 0.653191242061663, 0.6570446727054223, 0.6608981033491816, 0.6647515339929408, 0.6686049646367002, 0.6724583952804595, 0.6763118259242188, 0.6801652565679781, 0.6840186872117374, 0.6878721178554967, 0.6917255484992559, 0.6955789791430153, 0.6994324097867746, 0.7032858404305339, 0.7071392710742932, 0.7109927017180525, 0.7148461323618118, 0.718699563005571, 0.7225529936493303, 0.7264064242930897, 0.730259854936849, 0.7341132855806083, 0.7379667162243676, 0.7418201468681269, 0.7456735775118861, 0.7495270081556455, 0.7533804387994048, 0.7572338694431641, 0.7610873000869234, 0.7649407307306827, 0.768794161374442, 0.7726475920182013, 0.7765010226619606, 0.7803544533057198, 0.7842078839494792, 0.7880613145932385, 0.7919147452369978, 0.7957681758807571, 0.7996216065245164, 0.8034750371682757, 0.8073284678120349, 0.8111818984557942, 0.8150353290995536, 0.8188887597433129, 0.8227421903870722, 0.8265956210308315, 0.8304490516745908, 0.83430248231835, 0.8381559129621095, 0.8420093436058687, 0.845862774249628, 0.8497162048933873, 0.8535696355371466, 0.8574230661809059, 0.8612764968246652, 0.8651299274684245, 0.8689833581121837, 0.8728367887559431, 0.8766902193997024, 0.8805436500434617, 0.884397080687221, 0.8882505113309802, 0.8921039419747396, 0.8959573726184988, 0.8998108032622583, 0.9036642339060175, 0.9075176645497768, 0.9113710951935361, 0.9152245258372954, 0.9190779564810547, 0.9229313871248139, 0.9267848177685734, 0.9306382484123326, 0.9344916790560919, 0.9383451096998512, 0.9421985403436105, 0.9460519709873698, 0.949905401631129, 0.9537588322748884, 0.9576122629186476, 0.961465693562407, 0.9653191242061663, 0.9691725548499256, 0.9730259854936849, 0.9768794161374441, 0.9807328467812035, 0.9845862774249627, 0.9884397080687221, 0.9922931387124814, 0.9961465693562407, 1.0], \"y\": [0.8324330871750214, 0.8341256822540616, 0.8358182773331018, 0.837510872412142, 0.8392034674911821, 0.8408960625702223, 0.8425886576492625, 0.8442812527283027, 0.8459738478073429, 0.847666442886383, 0.8493590379654232, 0.8510516330444635, 0.8527442281235037, 0.8544368232025439, 0.8561294182815841, 0.8578220133606242, 0.8595146084396644, 0.8612072035187046, 0.8628997985977448, 0.864592393676785, 0.8662849887558252, 0.8679775838348653, 0.8696701789139055, 0.8713627739929457, 0.8730553690719859, 0.8747479641510261, 0.8764405592300663, 0.8781331543091064, 0.8798257493881466, 0.8815183444671868, 0.8832109395462271, 0.8849035346252673, 0.8865961297043075, 0.8882887247833476, 0.8899813198623878, 0.891673914941428, 0.8933665100204682, 0.8950591050995084, 0.8967517001785485, 0.8984442952575887, 0.9001368903366289, 0.9018294854156691, 0.9035220804947093, 0.9052146755737495, 0.9069072706527896, 0.9085998657318298, 0.91029246081087, 0.9119850558899102, 0.9136776509689504, 0.9153702460479907, 0.9170628411270307, 0.918755436206071, 0.9204480312851112, 0.9221406263641514, 0.9238332214431916, 0.9255258165222318, 0.9272184116012719, 0.9289110066803121, 0.9306036017593523, 0.9322961968383925, 0.9339887919174327, 0.9356813869964729, 0.937373982075513, 0.9390665771545532, 0.9407591722335934, 0.9424517673126336, 0.9441443623916738, 0.945836957470714, 0.9475295525497542, 0.9492221476287943, 0.9509147427078346, 0.9526073377868748, 0.954299932865915, 0.9559925279449552, 0.9576851230239953, 0.9593777181030355, 0.9610703131820757, 0.9627629082611159, 0.9644555033401561, 0.9661480984191962, 0.9678406934982364, 0.9695332885772766, 0.9712258836563168, 0.972918478735357, 0.9746110738143972, 0.9763036688934373, 0.9779962639724775, 0.9796888590515178, 0.9813814541305579, 0.9830740492095982, 0.9847666442886382, 0.9864592393676785, 0.9881518344467187, 0.9898444295257589, 0.9915370246047991, 0.9932296196838393, 0.9949222147628795, 0.9966148098419196, 0.9983074049209598, 1.0]}],                        {\"template\": {\"data\": {\"bar\": [{\"error_x\": {\"color\": \"#2a3f5f\"}, \"error_y\": {\"color\": \"#2a3f5f\"}, \"marker\": {\"line\": {\"color\": \"#E5ECF6\", \"width\": 0.5}}, \"type\": \"bar\"}], \"barpolar\": [{\"marker\": {\"line\": {\"color\": \"#E5ECF6\", \"width\": 0.5}}, \"type\": \"barpolar\"}], \"carpet\": [{\"aaxis\": {\"endlinecolor\": \"#2a3f5f\", \"gridcolor\": \"white\", \"linecolor\": \"white\", \"minorgridcolor\": \"white\", \"startlinecolor\": \"#2a3f5f\"}, \"baxis\": {\"endlinecolor\": \"#2a3f5f\", \"gridcolor\": \"white\", \"linecolor\": \"white\", \"minorgridcolor\": \"white\", \"startlinecolor\": \"#2a3f5f\"}, \"type\": \"carpet\"}], \"choropleth\": [{\"colorbar\": {\"outlinewidth\": 0, \"ticks\": \"\"}, \"type\": \"choropleth\"}], \"contour\": [{\"colorbar\": {\"outlinewidth\": 0, \"ticks\": \"\"}, \"colorscale\": [[0.0, \"#0d0887\"], [0.1111111111111111, \"#46039f\"], [0.2222222222222222, \"#7201a8\"], [0.3333333333333333, \"#9c179e\"], [0.4444444444444444, \"#bd3786\"], [0.5555555555555556, \"#d8576b\"], [0.6666666666666666, \"#ed7953\"], [0.7777777777777778, \"#fb9f3a\"], [0.8888888888888888, \"#fdca26\"], [1.0, \"#f0f921\"]], \"type\": \"contour\"}], \"contourcarpet\": [{\"colorbar\": {\"outlinewidth\": 0, \"ticks\": \"\"}, \"type\": \"contourcarpet\"}], \"heatmap\": [{\"colorbar\": {\"outlinewidth\": 0, \"ticks\": \"\"}, \"colorscale\": [[0.0, \"#0d0887\"], [0.1111111111111111, \"#46039f\"], [0.2222222222222222, \"#7201a8\"], [0.3333333333333333, \"#9c179e\"], [0.4444444444444444, \"#bd3786\"], [0.5555555555555556, \"#d8576b\"], [0.6666666666666666, \"#ed7953\"], [0.7777777777777778, \"#fb9f3a\"], [0.8888888888888888, \"#fdca26\"], [1.0, \"#f0f921\"]], \"type\": \"heatmap\"}], \"heatmapgl\": [{\"colorbar\": {\"outlinewidth\": 0, \"ticks\": \"\"}, \"colorscale\": [[0.0, \"#0d0887\"], [0.1111111111111111, \"#46039f\"], [0.2222222222222222, \"#7201a8\"], [0.3333333333333333, \"#9c179e\"], [0.4444444444444444, \"#bd3786\"], [0.5555555555555556, \"#d8576b\"], [0.6666666666666666, \"#ed7953\"], [0.7777777777777778, \"#fb9f3a\"], [0.8888888888888888, \"#fdca26\"], [1.0, \"#f0f921\"]], \"type\": \"heatmapgl\"}], \"histogram\": [{\"marker\": {\"colorbar\": {\"outlinewidth\": 0, \"ticks\": \"\"}}, \"type\": \"histogram\"}], \"histogram2d\": [{\"colorbar\": {\"outlinewidth\": 0, \"ticks\": \"\"}, \"colorscale\": [[0.0, \"#0d0887\"], [0.1111111111111111, \"#46039f\"], [0.2222222222222222, \"#7201a8\"], [0.3333333333333333, \"#9c179e\"], [0.4444444444444444, \"#bd3786\"], [0.5555555555555556, \"#d8576b\"], [0.6666666666666666, \"#ed7953\"], [0.7777777777777778, \"#fb9f3a\"], [0.8888888888888888, \"#fdca26\"], [1.0, \"#f0f921\"]], \"type\": \"histogram2d\"}], \"histogram2dcontour\": [{\"colorbar\": {\"outlinewidth\": 0, \"ticks\": \"\"}, \"colorscale\": [[0.0, \"#0d0887\"], [0.1111111111111111, \"#46039f\"], [0.2222222222222222, \"#7201a8\"], [0.3333333333333333, \"#9c179e\"], [0.4444444444444444, \"#bd3786\"], [0.5555555555555556, \"#d8576b\"], [0.6666666666666666, \"#ed7953\"], [0.7777777777777778, \"#fb9f3a\"], [0.8888888888888888, \"#fdca26\"], [1.0, \"#f0f921\"]], \"type\": \"histogram2dcontour\"}], \"mesh3d\": [{\"colorbar\": {\"outlinewidth\": 0, \"ticks\": \"\"}, \"type\": \"mesh3d\"}], \"parcoords\": [{\"line\": {\"colorbar\": {\"outlinewidth\": 0, \"ticks\": \"\"}}, \"type\": \"parcoords\"}], \"pie\": [{\"automargin\": true, \"type\": \"pie\"}], \"scatter\": [{\"marker\": {\"colorbar\": {\"outlinewidth\": 0, \"ticks\": \"\"}}, \"type\": \"scatter\"}], \"scatter3d\": [{\"line\": {\"colorbar\": {\"outlinewidth\": 0, \"ticks\": \"\"}}, \"marker\": {\"colorbar\": {\"outlinewidth\": 0, \"ticks\": \"\"}}, \"type\": \"scatter3d\"}], \"scattercarpet\": [{\"marker\": {\"colorbar\": {\"outlinewidth\": 0, \"ticks\": \"\"}}, \"type\": \"scattercarpet\"}], \"scattergeo\": [{\"marker\": {\"colorbar\": {\"outlinewidth\": 0, \"ticks\": \"\"}}, \"type\": \"scattergeo\"}], \"scattergl\": [{\"marker\": {\"colorbar\": {\"outlinewidth\": 0, \"ticks\": \"\"}}, \"type\": \"scattergl\"}], \"scattermapbox\": [{\"marker\": {\"colorbar\": {\"outlinewidth\": 0, \"ticks\": \"\"}}, \"type\": \"scattermapbox\"}], \"scatterpolar\": [{\"marker\": {\"colorbar\": {\"outlinewidth\": 0, \"ticks\": \"\"}}, \"type\": \"scatterpolar\"}], \"scatterpolargl\": [{\"marker\": {\"colorbar\": {\"outlinewidth\": 0, \"ticks\": \"\"}}, \"type\": \"scatterpolargl\"}], \"scatterternary\": [{\"marker\": {\"colorbar\": {\"outlinewidth\": 0, \"ticks\": \"\"}}, \"type\": \"scatterternary\"}], \"surface\": [{\"colorbar\": {\"outlinewidth\": 0, \"ticks\": \"\"}, \"colorscale\": [[0.0, \"#0d0887\"], [0.1111111111111111, \"#46039f\"], [0.2222222222222222, \"#7201a8\"], [0.3333333333333333, \"#9c179e\"], [0.4444444444444444, \"#bd3786\"], [0.5555555555555556, \"#d8576b\"], [0.6666666666666666, \"#ed7953\"], [0.7777777777777778, \"#fb9f3a\"], [0.8888888888888888, \"#fdca26\"], [1.0, \"#f0f921\"]], \"type\": \"surface\"}], \"table\": [{\"cells\": {\"fill\": {\"color\": \"#EBF0F8\"}, \"line\": {\"color\": \"white\"}}, \"header\": {\"fill\": {\"color\": \"#C8D4E3\"}, \"line\": {\"color\": \"white\"}}, \"type\": \"table\"}]}, \"layout\": {\"annotationdefaults\": {\"arrowcolor\": \"#2a3f5f\", \"arrowhead\": 0, \"arrowwidth\": 1}, \"autotypenumbers\": \"strict\", \"coloraxis\": {\"colorbar\": {\"outlinewidth\": 0, \"ticks\": \"\"}}, \"colorscale\": {\"diverging\": [[0, \"#8e0152\"], [0.1, \"#c51b7d\"], [0.2, \"#de77ae\"], [0.3, \"#f1b6da\"], [0.4, \"#fde0ef\"], [0.5, \"#f7f7f7\"], [0.6, \"#e6f5d0\"], [0.7, \"#b8e186\"], [0.8, \"#7fbc41\"], [0.9, \"#4d9221\"], [1, \"#276419\"]], \"sequential\": [[0.0, \"#0d0887\"], [0.1111111111111111, \"#46039f\"], [0.2222222222222222, \"#7201a8\"], [0.3333333333333333, \"#9c179e\"], [0.4444444444444444, \"#bd3786\"], [0.5555555555555556, \"#d8576b\"], [0.6666666666666666, \"#ed7953\"], [0.7777777777777778, \"#fb9f3a\"], [0.8888888888888888, \"#fdca26\"], [1.0, \"#f0f921\"]], \"sequentialminus\": [[0.0, \"#0d0887\"], [0.1111111111111111, \"#46039f\"], [0.2222222222222222, \"#7201a8\"], [0.3333333333333333, \"#9c179e\"], [0.4444444444444444, \"#bd3786\"], [0.5555555555555556, \"#d8576b\"], [0.6666666666666666, \"#ed7953\"], [0.7777777777777778, \"#fb9f3a\"], [0.8888888888888888, \"#fdca26\"], [1.0, \"#f0f921\"]]}, \"colorway\": [\"#636efa\", \"#EF553B\", \"#00cc96\", \"#ab63fa\", \"#FFA15A\", \"#19d3f3\", \"#FF6692\", \"#B6E880\", \"#FF97FF\", \"#FECB52\"], \"font\": {\"color\": \"#2a3f5f\"}, \"geo\": {\"bgcolor\": \"white\", \"lakecolor\": \"white\", \"landcolor\": \"#E5ECF6\", \"showlakes\": true, \"showland\": true, \"subunitcolor\": \"white\"}, \"hoverlabel\": {\"align\": \"left\"}, \"hovermode\": \"closest\", \"mapbox\": {\"style\": \"light\"}, \"paper_bgcolor\": \"white\", \"plot_bgcolor\": \"#E5ECF6\", \"polar\": {\"angularaxis\": {\"gridcolor\": \"white\", \"linecolor\": \"white\", \"ticks\": \"\"}, \"bgcolor\": \"#E5ECF6\", \"radialaxis\": {\"gridcolor\": \"white\", \"linecolor\": \"white\", \"ticks\": \"\"}}, \"scene\": {\"xaxis\": {\"backgroundcolor\": \"#E5ECF6\", \"gridcolor\": \"white\", \"gridwidth\": 2, \"linecolor\": \"white\", \"showbackground\": true, \"ticks\": \"\", \"zerolinecolor\": \"white\"}, \"yaxis\": {\"backgroundcolor\": \"#E5ECF6\", \"gridcolor\": \"white\", \"gridwidth\": 2, \"linecolor\": \"white\", \"showbackground\": true, \"ticks\": \"\", \"zerolinecolor\": \"white\"}, \"zaxis\": {\"backgroundcolor\": \"#E5ECF6\", \"gridcolor\": \"white\", \"gridwidth\": 2, \"linecolor\": \"white\", \"showbackground\": true, \"ticks\": \"\", \"zerolinecolor\": \"white\"}}, \"shapedefaults\": {\"line\": {\"color\": \"#2a3f5f\"}}, \"ternary\": {\"aaxis\": {\"gridcolor\": \"white\", \"linecolor\": \"white\", \"ticks\": \"\"}, \"baxis\": {\"gridcolor\": \"white\", \"linecolor\": \"white\", \"ticks\": \"\"}, \"bgcolor\": \"#E5ECF6\", \"caxis\": {\"gridcolor\": \"white\", \"linecolor\": \"white\", \"ticks\": \"\"}}, \"title\": {\"x\": 0.05}, \"xaxis\": {\"automargin\": true, \"gridcolor\": \"white\", \"linecolor\": \"white\", \"ticks\": \"\", \"title\": {\"standoff\": 15}, \"zerolinecolor\": \"white\", \"zerolinewidth\": 2}, \"yaxis\": {\"automargin\": true, \"gridcolor\": \"white\", \"linecolor\": \"white\", \"ticks\": \"\", \"title\": {\"standoff\": 15}, \"zerolinecolor\": \"white\", \"zerolinewidth\": 2}}}, \"title\": {\"text\": \"test_accuracy vs validation_accuracy\"}, \"xaxis\": {\"title\": {\"text\": \"test_accuracy\"}}, \"yaxis\": {\"title\": {\"text\": \"validation_accuracy\"}}},                        {\"responsive\": true}                    ).then(function(){\n",
       "                            \n",
       "var gd = document.getElementById('dfb12b0a-d095-4f0f-8b5b-1e4c456161de');\n",
       "var x = new MutationObserver(function (mutations, observer) {{\n",
       "        var display = window.getComputedStyle(gd).display;\n",
       "        if (!display || display === 'none') {{\n",
       "            console.log([gd, 'removed!']);\n",
       "            Plotly.purge(gd);\n",
       "            observer.disconnect();\n",
       "        }}\n",
       "}});\n",
       "\n",
       "// Listen for the removal of the full notebook cells\n",
       "var notebookContainer = gd.closest('#notebook-container');\n",
       "if (notebookContainer) {{\n",
       "    x.observe(notebookContainer, {childList: true});\n",
       "}}\n",
       "\n",
       "// Listen for the clearing of the current output cell\n",
       "var outputEl = gd.closest('.output');\n",
       "if (outputEl) {{\n",
       "    x.observe(outputEl, {childList: true});\n",
       "}}\n",
       "\n",
       "                        })                };                });            </script>        </div>"
      ]
     },
     "metadata": {},
     "output_type": "display_data"
    },
    {
     "data": {
      "text/html": [
       "        <script type=\"text/javascript\">\n",
       "        window.PlotlyConfig = {MathJaxConfig: 'local'};\n",
       "        if (window.MathJax) {MathJax.Hub.Config({SVG: {font: \"STIX-Web\"}});}\n",
       "        if (typeof require !== 'undefined') {\n",
       "        require.undef(\"plotly\");\n",
       "        requirejs.config({\n",
       "            paths: {\n",
       "                'plotly': ['https://cdn.plot.ly/plotly-latest.min']\n",
       "            }\n",
       "        });\n",
       "        require(['plotly'], function(Plotly) {\n",
       "            window._Plotly = Plotly;\n",
       "        });\n",
       "        }\n",
       "        </script>\n",
       "        "
      ]
     },
     "metadata": {},
     "output_type": "display_data"
    },
    {
     "data": {
      "application/vnd.plotly.v1+json": {
       "config": {
        "linkText": "Export to plot.ly",
        "plotlyServerURL": "https://plot.ly",
        "showLink": false
       },
       "data": [
        {
         "mode": "markers+lines",
         "name": "8",
         "type": "scatter",
         "x": [
          0,
          1,
          2,
          3,
          4,
          5,
          6,
          7,
          8,
          9,
          10,
          11,
          12,
          13,
          14,
          15,
          16,
          17,
          18,
          19,
          20,
          21,
          22,
          23,
          24,
          25,
          26,
          27,
          28,
          29
         ],
         "y": [
          11.215437514720312,
          7.654343792316052,
          7.270042299271595,
          7.047502699942649,
          6.9023274208770395,
          6.352115100269032,
          3.7880266426940423,
          4.766838143786407,
          6.441297078167021,
          4.74803499765919,
          0,
          2.4454161744143788,
          0.8418526854627584,
          5.177005466392979,
          0,
          0,
          0,
          0,
          0.10278540376100542,
          0,
          0,
          0,
          0,
          1.4990455471066522,
          1.3693709508583929,
          0,
          0.11501525143732705,
          3.147916460612661,
          7.5821694374799975,
          6.864327564371555
         ]
        },
        {
         "mode": "markers+lines",
         "name": "12",
         "type": "scatter",
         "x": [
          0,
          1,
          2,
          3,
          4,
          5,
          6,
          7,
          8,
          9,
          10,
          11,
          12,
          13,
          14
         ],
         "y": [
          16.36869747556821,
          16.110944648949385,
          15.418645703741856,
          8.358596598736288,
          13.6353182585272,
          6.727304812499493,
          8.66137599843524,
          5.270579633899262,
          1.5951643071382993,
          0,
          0,
          0,
          0,
          0,
          0
         ]
        },
        {
         "mode": "markers+lines",
         "name": "16",
         "type": "scatter",
         "x": [
          0,
          1,
          2,
          3,
          4,
          5,
          6,
          7,
          8,
          9,
          10,
          11,
          12,
          13,
          14,
          15,
          16,
          17,
          18,
          19,
          20,
          21,
          22,
          23,
          24,
          25,
          26,
          27,
          28,
          29
         ],
         "y": [
          14.948442256432696,
          11.98495243724289,
          11.104312455903393,
          5.800308828055871,
          4.05107151774347,
          5.961733158807827,
          3.0446279917218755,
          0.6696797879007321,
          0,
          0,
          0,
          0,
          0,
          0,
          0,
          0,
          0,
          0,
          0,
          0,
          0,
          0,
          0,
          0,
          0,
          0,
          0,
          0,
          0,
          0
         ]
        }
       ],
       "layout": {
        "template": {
         "data": {
          "bar": [
           {
            "error_x": {
             "color": "#2a3f5f"
            },
            "error_y": {
             "color": "#2a3f5f"
            },
            "marker": {
             "line": {
              "color": "#E5ECF6",
              "width": 0.5
             }
            },
            "type": "bar"
           }
          ],
          "barpolar": [
           {
            "marker": {
             "line": {
              "color": "#E5ECF6",
              "width": 0.5
             }
            },
            "type": "barpolar"
           }
          ],
          "carpet": [
           {
            "aaxis": {
             "endlinecolor": "#2a3f5f",
             "gridcolor": "white",
             "linecolor": "white",
             "minorgridcolor": "white",
             "startlinecolor": "#2a3f5f"
            },
            "baxis": {
             "endlinecolor": "#2a3f5f",
             "gridcolor": "white",
             "linecolor": "white",
             "minorgridcolor": "white",
             "startlinecolor": "#2a3f5f"
            },
            "type": "carpet"
           }
          ],
          "choropleth": [
           {
            "colorbar": {
             "outlinewidth": 0,
             "ticks": ""
            },
            "type": "choropleth"
           }
          ],
          "contour": [
           {
            "colorbar": {
             "outlinewidth": 0,
             "ticks": ""
            },
            "colorscale": [
             [
              0,
              "#0d0887"
             ],
             [
              0.1111111111111111,
              "#46039f"
             ],
             [
              0.2222222222222222,
              "#7201a8"
             ],
             [
              0.3333333333333333,
              "#9c179e"
             ],
             [
              0.4444444444444444,
              "#bd3786"
             ],
             [
              0.5555555555555556,
              "#d8576b"
             ],
             [
              0.6666666666666666,
              "#ed7953"
             ],
             [
              0.7777777777777778,
              "#fb9f3a"
             ],
             [
              0.8888888888888888,
              "#fdca26"
             ],
             [
              1,
              "#f0f921"
             ]
            ],
            "type": "contour"
           }
          ],
          "contourcarpet": [
           {
            "colorbar": {
             "outlinewidth": 0,
             "ticks": ""
            },
            "type": "contourcarpet"
           }
          ],
          "heatmap": [
           {
            "colorbar": {
             "outlinewidth": 0,
             "ticks": ""
            },
            "colorscale": [
             [
              0,
              "#0d0887"
             ],
             [
              0.1111111111111111,
              "#46039f"
             ],
             [
              0.2222222222222222,
              "#7201a8"
             ],
             [
              0.3333333333333333,
              "#9c179e"
             ],
             [
              0.4444444444444444,
              "#bd3786"
             ],
             [
              0.5555555555555556,
              "#d8576b"
             ],
             [
              0.6666666666666666,
              "#ed7953"
             ],
             [
              0.7777777777777778,
              "#fb9f3a"
             ],
             [
              0.8888888888888888,
              "#fdca26"
             ],
             [
              1,
              "#f0f921"
             ]
            ],
            "type": "heatmap"
           }
          ],
          "heatmapgl": [
           {
            "colorbar": {
             "outlinewidth": 0,
             "ticks": ""
            },
            "colorscale": [
             [
              0,
              "#0d0887"
             ],
             [
              0.1111111111111111,
              "#46039f"
             ],
             [
              0.2222222222222222,
              "#7201a8"
             ],
             [
              0.3333333333333333,
              "#9c179e"
             ],
             [
              0.4444444444444444,
              "#bd3786"
             ],
             [
              0.5555555555555556,
              "#d8576b"
             ],
             [
              0.6666666666666666,
              "#ed7953"
             ],
             [
              0.7777777777777778,
              "#fb9f3a"
             ],
             [
              0.8888888888888888,
              "#fdca26"
             ],
             [
              1,
              "#f0f921"
             ]
            ],
            "type": "heatmapgl"
           }
          ],
          "histogram": [
           {
            "marker": {
             "colorbar": {
              "outlinewidth": 0,
              "ticks": ""
             }
            },
            "type": "histogram"
           }
          ],
          "histogram2d": [
           {
            "colorbar": {
             "outlinewidth": 0,
             "ticks": ""
            },
            "colorscale": [
             [
              0,
              "#0d0887"
             ],
             [
              0.1111111111111111,
              "#46039f"
             ],
             [
              0.2222222222222222,
              "#7201a8"
             ],
             [
              0.3333333333333333,
              "#9c179e"
             ],
             [
              0.4444444444444444,
              "#bd3786"
             ],
             [
              0.5555555555555556,
              "#d8576b"
             ],
             [
              0.6666666666666666,
              "#ed7953"
             ],
             [
              0.7777777777777778,
              "#fb9f3a"
             ],
             [
              0.8888888888888888,
              "#fdca26"
             ],
             [
              1,
              "#f0f921"
             ]
            ],
            "type": "histogram2d"
           }
          ],
          "histogram2dcontour": [
           {
            "colorbar": {
             "outlinewidth": 0,
             "ticks": ""
            },
            "colorscale": [
             [
              0,
              "#0d0887"
             ],
             [
              0.1111111111111111,
              "#46039f"
             ],
             [
              0.2222222222222222,
              "#7201a8"
             ],
             [
              0.3333333333333333,
              "#9c179e"
             ],
             [
              0.4444444444444444,
              "#bd3786"
             ],
             [
              0.5555555555555556,
              "#d8576b"
             ],
             [
              0.6666666666666666,
              "#ed7953"
             ],
             [
              0.7777777777777778,
              "#fb9f3a"
             ],
             [
              0.8888888888888888,
              "#fdca26"
             ],
             [
              1,
              "#f0f921"
             ]
            ],
            "type": "histogram2dcontour"
           }
          ],
          "mesh3d": [
           {
            "colorbar": {
             "outlinewidth": 0,
             "ticks": ""
            },
            "type": "mesh3d"
           }
          ],
          "parcoords": [
           {
            "line": {
             "colorbar": {
              "outlinewidth": 0,
              "ticks": ""
             }
            },
            "type": "parcoords"
           }
          ],
          "pie": [
           {
            "automargin": true,
            "type": "pie"
           }
          ],
          "scatter": [
           {
            "marker": {
             "colorbar": {
              "outlinewidth": 0,
              "ticks": ""
             }
            },
            "type": "scatter"
           }
          ],
          "scatter3d": [
           {
            "line": {
             "colorbar": {
              "outlinewidth": 0,
              "ticks": ""
             }
            },
            "marker": {
             "colorbar": {
              "outlinewidth": 0,
              "ticks": ""
             }
            },
            "type": "scatter3d"
           }
          ],
          "scattercarpet": [
           {
            "marker": {
             "colorbar": {
              "outlinewidth": 0,
              "ticks": ""
             }
            },
            "type": "scattercarpet"
           }
          ],
          "scattergeo": [
           {
            "marker": {
             "colorbar": {
              "outlinewidth": 0,
              "ticks": ""
             }
            },
            "type": "scattergeo"
           }
          ],
          "scattergl": [
           {
            "marker": {
             "colorbar": {
              "outlinewidth": 0,
              "ticks": ""
             }
            },
            "type": "scattergl"
           }
          ],
          "scattermapbox": [
           {
            "marker": {
             "colorbar": {
              "outlinewidth": 0,
              "ticks": ""
             }
            },
            "type": "scattermapbox"
           }
          ],
          "scatterpolar": [
           {
            "marker": {
             "colorbar": {
              "outlinewidth": 0,
              "ticks": ""
             }
            },
            "type": "scatterpolar"
           }
          ],
          "scatterpolargl": [
           {
            "marker": {
             "colorbar": {
              "outlinewidth": 0,
              "ticks": ""
             }
            },
            "type": "scatterpolargl"
           }
          ],
          "scatterternary": [
           {
            "marker": {
             "colorbar": {
              "outlinewidth": 0,
              "ticks": ""
             }
            },
            "type": "scatterternary"
           }
          ],
          "surface": [
           {
            "colorbar": {
             "outlinewidth": 0,
             "ticks": ""
            },
            "colorscale": [
             [
              0,
              "#0d0887"
             ],
             [
              0.1111111111111111,
              "#46039f"
             ],
             [
              0.2222222222222222,
              "#7201a8"
             ],
             [
              0.3333333333333333,
              "#9c179e"
             ],
             [
              0.4444444444444444,
              "#bd3786"
             ],
             [
              0.5555555555555556,
              "#d8576b"
             ],
             [
              0.6666666666666666,
              "#ed7953"
             ],
             [
              0.7777777777777778,
              "#fb9f3a"
             ],
             [
              0.8888888888888888,
              "#fdca26"
             ],
             [
              1,
              "#f0f921"
             ]
            ],
            "type": "surface"
           }
          ],
          "table": [
           {
            "cells": {
             "fill": {
              "color": "#EBF0F8"
             },
             "line": {
              "color": "white"
             }
            },
            "header": {
             "fill": {
              "color": "#C8D4E3"
             },
             "line": {
              "color": "white"
             }
            },
            "type": "table"
           }
          ]
         },
         "layout": {
          "annotationdefaults": {
           "arrowcolor": "#2a3f5f",
           "arrowhead": 0,
           "arrowwidth": 1
          },
          "autotypenumbers": "strict",
          "coloraxis": {
           "colorbar": {
            "outlinewidth": 0,
            "ticks": ""
           }
          },
          "colorscale": {
           "diverging": [
            [
             0,
             "#8e0152"
            ],
            [
             0.1,
             "#c51b7d"
            ],
            [
             0.2,
             "#de77ae"
            ],
            [
             0.3,
             "#f1b6da"
            ],
            [
             0.4,
             "#fde0ef"
            ],
            [
             0.5,
             "#f7f7f7"
            ],
            [
             0.6,
             "#e6f5d0"
            ],
            [
             0.7,
             "#b8e186"
            ],
            [
             0.8,
             "#7fbc41"
            ],
            [
             0.9,
             "#4d9221"
            ],
            [
             1,
             "#276419"
            ]
           ],
           "sequential": [
            [
             0,
             "#0d0887"
            ],
            [
             0.1111111111111111,
             "#46039f"
            ],
            [
             0.2222222222222222,
             "#7201a8"
            ],
            [
             0.3333333333333333,
             "#9c179e"
            ],
            [
             0.4444444444444444,
             "#bd3786"
            ],
            [
             0.5555555555555556,
             "#d8576b"
            ],
            [
             0.6666666666666666,
             "#ed7953"
            ],
            [
             0.7777777777777778,
             "#fb9f3a"
            ],
            [
             0.8888888888888888,
             "#fdca26"
            ],
            [
             1,
             "#f0f921"
            ]
           ],
           "sequentialminus": [
            [
             0,
             "#0d0887"
            ],
            [
             0.1111111111111111,
             "#46039f"
            ],
            [
             0.2222222222222222,
             "#7201a8"
            ],
            [
             0.3333333333333333,
             "#9c179e"
            ],
            [
             0.4444444444444444,
             "#bd3786"
            ],
            [
             0.5555555555555556,
             "#d8576b"
            ],
            [
             0.6666666666666666,
             "#ed7953"
            ],
            [
             0.7777777777777778,
             "#fb9f3a"
            ],
            [
             0.8888888888888888,
             "#fdca26"
            ],
            [
             1,
             "#f0f921"
            ]
           ]
          },
          "colorway": [
           "#636efa",
           "#EF553B",
           "#00cc96",
           "#ab63fa",
           "#FFA15A",
           "#19d3f3",
           "#FF6692",
           "#B6E880",
           "#FF97FF",
           "#FECB52"
          ],
          "font": {
           "color": "#2a3f5f"
          },
          "geo": {
           "bgcolor": "white",
           "lakecolor": "white",
           "landcolor": "#E5ECF6",
           "showlakes": true,
           "showland": true,
           "subunitcolor": "white"
          },
          "hoverlabel": {
           "align": "left"
          },
          "hovermode": "closest",
          "mapbox": {
           "style": "light"
          },
          "paper_bgcolor": "white",
          "plot_bgcolor": "#E5ECF6",
          "polar": {
           "angularaxis": {
            "gridcolor": "white",
            "linecolor": "white",
            "ticks": ""
           },
           "bgcolor": "#E5ECF6",
           "radialaxis": {
            "gridcolor": "white",
            "linecolor": "white",
            "ticks": ""
           }
          },
          "scene": {
           "xaxis": {
            "backgroundcolor": "#E5ECF6",
            "gridcolor": "white",
            "gridwidth": 2,
            "linecolor": "white",
            "showbackground": true,
            "ticks": "",
            "zerolinecolor": "white"
           },
           "yaxis": {
            "backgroundcolor": "#E5ECF6",
            "gridcolor": "white",
            "gridwidth": 2,
            "linecolor": "white",
            "showbackground": true,
            "ticks": "",
            "zerolinecolor": "white"
           },
           "zaxis": {
            "backgroundcolor": "#E5ECF6",
            "gridcolor": "white",
            "gridwidth": 2,
            "linecolor": "white",
            "showbackground": true,
            "ticks": "",
            "zerolinecolor": "white"
           }
          },
          "shapedefaults": {
           "line": {
            "color": "#2a3f5f"
           }
          },
          "ternary": {
           "aaxis": {
            "gridcolor": "white",
            "linecolor": "white",
            "ticks": ""
           },
           "baxis": {
            "gridcolor": "white",
            "linecolor": "white",
            "ticks": ""
           },
           "bgcolor": "#E5ECF6",
           "caxis": {
            "gridcolor": "white",
            "linecolor": "white",
            "ticks": ""
           }
          },
          "title": {
           "x": 0.05
          },
          "xaxis": {
           "automargin": true,
           "gridcolor": "white",
           "linecolor": "white",
           "ticks": "",
           "title": {
            "standoff": 15
           },
           "zerolinecolor": "white",
           "zerolinewidth": 2
          },
          "yaxis": {
           "automargin": true,
           "gridcolor": "white",
           "linecolor": "white",
           "ticks": "",
           "title": {
            "standoff": 15
           },
           "zerolinecolor": "white",
           "zerolinewidth": 2
          }
         }
        },
        "title": {
         "text": "test_accuracy"
        },
        "xaxis": {
         "title": {
          "text": "epoch"
         }
        },
        "yaxis": {
         "title": {
          "text": "test_accuracy"
         }
        }
       }
      },
      "text/html": [
       "<div>                            <div id=\"0ce9e529-90a3-4278-8f1d-146b3a17d961\" class=\"plotly-graph-div\" style=\"height:525px; width:100%;\"></div>            <script type=\"text/javascript\">                require([\"plotly\"], function(Plotly) {                    window.PLOTLYENV=window.PLOTLYENV || {};                                    if (document.getElementById(\"0ce9e529-90a3-4278-8f1d-146b3a17d961\")) {                    Plotly.newPlot(                        \"0ce9e529-90a3-4278-8f1d-146b3a17d961\",                        [{\"mode\": \"markers+lines\", \"name\": \"8\", \"type\": \"scatter\", \"x\": [0, 1, 2, 3, 4, 5, 6, 7, 8, 9, 10, 11, 12, 13, 14, 15, 16, 17, 18, 19, 20, 21, 22, 23, 24, 25, 26, 27, 28, 29], \"y\": [11.215437514720312, 7.654343792316052, 7.270042299271595, 7.047502699942649, 6.9023274208770395, 6.352115100269032, 3.7880266426940423, 4.766838143786407, 6.441297078167021, 4.74803499765919, 0.0, 2.4454161744143788, 0.8418526854627584, 5.177005466392979, 0.0, 0.0, 0.0, 0.0, 0.10278540376100542, 0.0, 0.0, 0.0, 0.0, 1.4990455471066522, 1.3693709508583929, 0.0, 0.11501525143732705, 3.147916460612661, 7.5821694374799975, 6.864327564371555]}, {\"mode\": \"markers+lines\", \"name\": \"12\", \"type\": \"scatter\", \"x\": [0, 1, 2, 3, 4, 5, 6, 7, 8, 9, 10, 11, 12, 13, 14], \"y\": [16.36869747556821, 16.110944648949385, 15.418645703741856, 8.358596598736288, 13.6353182585272, 6.727304812499493, 8.66137599843524, 5.270579633899262, 1.5951643071382993, 0.0, 0.0, 0.0, 0.0, 0.0, 0.0]}, {\"mode\": \"markers+lines\", \"name\": \"16\", \"type\": \"scatter\", \"x\": [0, 1, 2, 3, 4, 5, 6, 7, 8, 9, 10, 11, 12, 13, 14, 15, 16, 17, 18, 19, 20, 21, 22, 23, 24, 25, 26, 27, 28, 29], \"y\": [14.948442256432696, 11.98495243724289, 11.104312455903393, 5.800308828055871, 4.05107151774347, 5.961733158807827, 3.0446279917218755, 0.6696797879007321, 0.0, 0.0, 0.0, 0.0, 0.0, 0.0, 0.0, 0.0, 0.0, 0.0, 0.0, 0.0, 0.0, 0.0, 0.0, 0.0, 0.0, 0.0, 0.0, 0.0, 0.0, 0.0]}],                        {\"template\": {\"data\": {\"bar\": [{\"error_x\": {\"color\": \"#2a3f5f\"}, \"error_y\": {\"color\": \"#2a3f5f\"}, \"marker\": {\"line\": {\"color\": \"#E5ECF6\", \"width\": 0.5}}, \"type\": \"bar\"}], \"barpolar\": [{\"marker\": {\"line\": {\"color\": \"#E5ECF6\", \"width\": 0.5}}, \"type\": \"barpolar\"}], \"carpet\": [{\"aaxis\": {\"endlinecolor\": \"#2a3f5f\", \"gridcolor\": \"white\", \"linecolor\": \"white\", \"minorgridcolor\": \"white\", \"startlinecolor\": \"#2a3f5f\"}, \"baxis\": {\"endlinecolor\": \"#2a3f5f\", \"gridcolor\": \"white\", \"linecolor\": \"white\", \"minorgridcolor\": \"white\", \"startlinecolor\": \"#2a3f5f\"}, \"type\": \"carpet\"}], \"choropleth\": [{\"colorbar\": {\"outlinewidth\": 0, \"ticks\": \"\"}, \"type\": \"choropleth\"}], \"contour\": [{\"colorbar\": {\"outlinewidth\": 0, \"ticks\": \"\"}, \"colorscale\": [[0.0, \"#0d0887\"], [0.1111111111111111, \"#46039f\"], [0.2222222222222222, \"#7201a8\"], [0.3333333333333333, \"#9c179e\"], [0.4444444444444444, \"#bd3786\"], [0.5555555555555556, \"#d8576b\"], [0.6666666666666666, \"#ed7953\"], [0.7777777777777778, \"#fb9f3a\"], [0.8888888888888888, \"#fdca26\"], [1.0, \"#f0f921\"]], \"type\": \"contour\"}], \"contourcarpet\": [{\"colorbar\": {\"outlinewidth\": 0, \"ticks\": \"\"}, \"type\": \"contourcarpet\"}], \"heatmap\": [{\"colorbar\": {\"outlinewidth\": 0, \"ticks\": \"\"}, \"colorscale\": [[0.0, \"#0d0887\"], [0.1111111111111111, \"#46039f\"], [0.2222222222222222, \"#7201a8\"], [0.3333333333333333, \"#9c179e\"], [0.4444444444444444, \"#bd3786\"], [0.5555555555555556, \"#d8576b\"], [0.6666666666666666, \"#ed7953\"], [0.7777777777777778, \"#fb9f3a\"], [0.8888888888888888, \"#fdca26\"], [1.0, \"#f0f921\"]], \"type\": \"heatmap\"}], \"heatmapgl\": [{\"colorbar\": {\"outlinewidth\": 0, \"ticks\": \"\"}, \"colorscale\": [[0.0, \"#0d0887\"], [0.1111111111111111, \"#46039f\"], [0.2222222222222222, \"#7201a8\"], [0.3333333333333333, \"#9c179e\"], [0.4444444444444444, \"#bd3786\"], [0.5555555555555556, \"#d8576b\"], [0.6666666666666666, \"#ed7953\"], [0.7777777777777778, \"#fb9f3a\"], [0.8888888888888888, \"#fdca26\"], [1.0, \"#f0f921\"]], \"type\": \"heatmapgl\"}], \"histogram\": [{\"marker\": {\"colorbar\": {\"outlinewidth\": 0, \"ticks\": \"\"}}, \"type\": \"histogram\"}], \"histogram2d\": [{\"colorbar\": {\"outlinewidth\": 0, \"ticks\": \"\"}, \"colorscale\": [[0.0, \"#0d0887\"], [0.1111111111111111, \"#46039f\"], [0.2222222222222222, \"#7201a8\"], [0.3333333333333333, \"#9c179e\"], [0.4444444444444444, \"#bd3786\"], [0.5555555555555556, \"#d8576b\"], [0.6666666666666666, \"#ed7953\"], [0.7777777777777778, \"#fb9f3a\"], [0.8888888888888888, \"#fdca26\"], [1.0, \"#f0f921\"]], \"type\": \"histogram2d\"}], \"histogram2dcontour\": [{\"colorbar\": {\"outlinewidth\": 0, \"ticks\": \"\"}, \"colorscale\": [[0.0, \"#0d0887\"], [0.1111111111111111, \"#46039f\"], [0.2222222222222222, \"#7201a8\"], [0.3333333333333333, \"#9c179e\"], [0.4444444444444444, \"#bd3786\"], [0.5555555555555556, \"#d8576b\"], [0.6666666666666666, \"#ed7953\"], [0.7777777777777778, \"#fb9f3a\"], [0.8888888888888888, \"#fdca26\"], [1.0, \"#f0f921\"]], \"type\": \"histogram2dcontour\"}], \"mesh3d\": [{\"colorbar\": {\"outlinewidth\": 0, \"ticks\": \"\"}, \"type\": \"mesh3d\"}], \"parcoords\": [{\"line\": {\"colorbar\": {\"outlinewidth\": 0, \"ticks\": \"\"}}, \"type\": \"parcoords\"}], \"pie\": [{\"automargin\": true, \"type\": \"pie\"}], \"scatter\": [{\"marker\": {\"colorbar\": {\"outlinewidth\": 0, \"ticks\": \"\"}}, \"type\": \"scatter\"}], \"scatter3d\": [{\"line\": {\"colorbar\": {\"outlinewidth\": 0, \"ticks\": \"\"}}, \"marker\": {\"colorbar\": {\"outlinewidth\": 0, \"ticks\": \"\"}}, \"type\": \"scatter3d\"}], \"scattercarpet\": [{\"marker\": {\"colorbar\": {\"outlinewidth\": 0, \"ticks\": \"\"}}, \"type\": \"scattercarpet\"}], \"scattergeo\": [{\"marker\": {\"colorbar\": {\"outlinewidth\": 0, \"ticks\": \"\"}}, \"type\": \"scattergeo\"}], \"scattergl\": [{\"marker\": {\"colorbar\": {\"outlinewidth\": 0, \"ticks\": \"\"}}, \"type\": \"scattergl\"}], \"scattermapbox\": [{\"marker\": {\"colorbar\": {\"outlinewidth\": 0, \"ticks\": \"\"}}, \"type\": \"scattermapbox\"}], \"scatterpolar\": [{\"marker\": {\"colorbar\": {\"outlinewidth\": 0, \"ticks\": \"\"}}, \"type\": \"scatterpolar\"}], \"scatterpolargl\": [{\"marker\": {\"colorbar\": {\"outlinewidth\": 0, \"ticks\": \"\"}}, \"type\": \"scatterpolargl\"}], \"scatterternary\": [{\"marker\": {\"colorbar\": {\"outlinewidth\": 0, \"ticks\": \"\"}}, \"type\": \"scatterternary\"}], \"surface\": [{\"colorbar\": {\"outlinewidth\": 0, \"ticks\": \"\"}, \"colorscale\": [[0.0, \"#0d0887\"], [0.1111111111111111, \"#46039f\"], [0.2222222222222222, \"#7201a8\"], [0.3333333333333333, \"#9c179e\"], [0.4444444444444444, \"#bd3786\"], [0.5555555555555556, \"#d8576b\"], [0.6666666666666666, \"#ed7953\"], [0.7777777777777778, \"#fb9f3a\"], [0.8888888888888888, \"#fdca26\"], [1.0, \"#f0f921\"]], \"type\": \"surface\"}], \"table\": [{\"cells\": {\"fill\": {\"color\": \"#EBF0F8\"}, \"line\": {\"color\": \"white\"}}, \"header\": {\"fill\": {\"color\": \"#C8D4E3\"}, \"line\": {\"color\": \"white\"}}, \"type\": \"table\"}]}, \"layout\": {\"annotationdefaults\": {\"arrowcolor\": \"#2a3f5f\", \"arrowhead\": 0, \"arrowwidth\": 1}, \"autotypenumbers\": \"strict\", \"coloraxis\": {\"colorbar\": {\"outlinewidth\": 0, \"ticks\": \"\"}}, \"colorscale\": {\"diverging\": [[0, \"#8e0152\"], [0.1, \"#c51b7d\"], [0.2, \"#de77ae\"], [0.3, \"#f1b6da\"], [0.4, \"#fde0ef\"], [0.5, \"#f7f7f7\"], [0.6, \"#e6f5d0\"], [0.7, \"#b8e186\"], [0.8, \"#7fbc41\"], [0.9, \"#4d9221\"], [1, \"#276419\"]], \"sequential\": [[0.0, \"#0d0887\"], [0.1111111111111111, \"#46039f\"], [0.2222222222222222, \"#7201a8\"], [0.3333333333333333, \"#9c179e\"], [0.4444444444444444, \"#bd3786\"], [0.5555555555555556, \"#d8576b\"], [0.6666666666666666, \"#ed7953\"], [0.7777777777777778, \"#fb9f3a\"], [0.8888888888888888, \"#fdca26\"], [1.0, \"#f0f921\"]], \"sequentialminus\": [[0.0, \"#0d0887\"], [0.1111111111111111, \"#46039f\"], [0.2222222222222222, \"#7201a8\"], [0.3333333333333333, \"#9c179e\"], [0.4444444444444444, \"#bd3786\"], [0.5555555555555556, \"#d8576b\"], [0.6666666666666666, \"#ed7953\"], [0.7777777777777778, \"#fb9f3a\"], [0.8888888888888888, \"#fdca26\"], [1.0, \"#f0f921\"]]}, \"colorway\": [\"#636efa\", \"#EF553B\", \"#00cc96\", \"#ab63fa\", \"#FFA15A\", \"#19d3f3\", \"#FF6692\", \"#B6E880\", \"#FF97FF\", \"#FECB52\"], \"font\": {\"color\": \"#2a3f5f\"}, \"geo\": {\"bgcolor\": \"white\", \"lakecolor\": \"white\", \"landcolor\": \"#E5ECF6\", \"showlakes\": true, \"showland\": true, \"subunitcolor\": \"white\"}, \"hoverlabel\": {\"align\": \"left\"}, \"hovermode\": \"closest\", \"mapbox\": {\"style\": \"light\"}, \"paper_bgcolor\": \"white\", \"plot_bgcolor\": \"#E5ECF6\", \"polar\": {\"angularaxis\": {\"gridcolor\": \"white\", \"linecolor\": \"white\", \"ticks\": \"\"}, \"bgcolor\": \"#E5ECF6\", \"radialaxis\": {\"gridcolor\": \"white\", \"linecolor\": \"white\", \"ticks\": \"\"}}, \"scene\": {\"xaxis\": {\"backgroundcolor\": \"#E5ECF6\", \"gridcolor\": \"white\", \"gridwidth\": 2, \"linecolor\": \"white\", \"showbackground\": true, \"ticks\": \"\", \"zerolinecolor\": \"white\"}, \"yaxis\": {\"backgroundcolor\": \"#E5ECF6\", \"gridcolor\": \"white\", \"gridwidth\": 2, \"linecolor\": \"white\", \"showbackground\": true, \"ticks\": \"\", \"zerolinecolor\": \"white\"}, \"zaxis\": {\"backgroundcolor\": \"#E5ECF6\", \"gridcolor\": \"white\", \"gridwidth\": 2, \"linecolor\": \"white\", \"showbackground\": true, \"ticks\": \"\", \"zerolinecolor\": \"white\"}}, \"shapedefaults\": {\"line\": {\"color\": \"#2a3f5f\"}}, \"ternary\": {\"aaxis\": {\"gridcolor\": \"white\", \"linecolor\": \"white\", \"ticks\": \"\"}, \"baxis\": {\"gridcolor\": \"white\", \"linecolor\": \"white\", \"ticks\": \"\"}, \"bgcolor\": \"#E5ECF6\", \"caxis\": {\"gridcolor\": \"white\", \"linecolor\": \"white\", \"ticks\": \"\"}}, \"title\": {\"x\": 0.05}, \"xaxis\": {\"automargin\": true, \"gridcolor\": \"white\", \"linecolor\": \"white\", \"ticks\": \"\", \"title\": {\"standoff\": 15}, \"zerolinecolor\": \"white\", \"zerolinewidth\": 2}, \"yaxis\": {\"automargin\": true, \"gridcolor\": \"white\", \"linecolor\": \"white\", \"ticks\": \"\", \"title\": {\"standoff\": 15}, \"zerolinecolor\": \"white\", \"zerolinewidth\": 2}}}, \"title\": {\"text\": \"test_accuracy\"}, \"xaxis\": {\"title\": {\"text\": \"epoch\"}}, \"yaxis\": {\"title\": {\"text\": \"test_accuracy\"}}},                        {\"responsive\": true}                    ).then(function(){\n",
       "                            \n",
       "var gd = document.getElementById('0ce9e529-90a3-4278-8f1d-146b3a17d961');\n",
       "var x = new MutationObserver(function (mutations, observer) {{\n",
       "        var display = window.getComputedStyle(gd).display;\n",
       "        if (!display || display === 'none') {{\n",
       "            console.log([gd, 'removed!']);\n",
       "            Plotly.purge(gd);\n",
       "            observer.disconnect();\n",
       "        }}\n",
       "}});\n",
       "\n",
       "// Listen for the removal of the full notebook cells\n",
       "var notebookContainer = gd.closest('#notebook-container');\n",
       "if (notebookContainer) {{\n",
       "    x.observe(notebookContainer, {childList: true});\n",
       "}}\n",
       "\n",
       "// Listen for the clearing of the current output cell\n",
       "var outputEl = gd.closest('.output');\n",
       "if (outputEl) {{\n",
       "    x.observe(outputEl, {childList: true});\n",
       "}}\n",
       "\n",
       "                        })                };                });            </script>        </div>"
      ]
     },
     "metadata": {},
     "output_type": "display_data"
    }
   ],
   "source": [
    "visualize_experiments (visualization=['history', 'metric_correlation', 'custom'], experiments=[8,12, 16], \n",
    "                       run_number=0, op='max', metrics = 'test_accuracy', backend='plotly',\n",
    "                       metric_1='test_accuracy', metric_2='validation_accuracy')"
   ]
  },
  {
   "cell_type": "code",
   "execution_count": null,
   "metadata": {},
   "outputs": [
    {
     "name": "stdout",
     "output_type": "stream",
     "text": [
      "Converted hpconfig.ipynb.\n",
      "Converted manager_factory.ipynb.\n",
      "Converted complex_dummy_experiment_manager.ipynb.\n",
      "Converted dummy_experiment_manager.ipynb.\n",
      "Converted example_experiment.ipynb.\n",
      "Converted example_experiment_manager.ipynb.\n",
      "Converted experiment_manager.ipynb.\n",
      "Converted index.ipynb.\n",
      "Converted change_manager.ipynb.\n",
      "Converted metric_visualization.ipynb.\n",
      "Converted print_parameters.ipynb.\n",
      "Converted print_table.ipynb.\n",
      "Converted query.ipynb.\n",
      "Converted remove_experiments.ipynb.\n",
      "Converted experiment_utils.ipynb.\n",
      "Converted organize_experiments.ipynb.\n",
      "Converted resume_from_checkpoint.ipynb.\n",
      "Converted experiment_visualization.ipynb.\n",
      "Converted plot_utils.ipynb.\n"
     ]
    }
   ],
   "source": [
    "#hide\n",
    "from nbdev.export import *\n",
    "notebook2script(recursive=True)"
   ]
  }
 ],
 "metadata": {
  "kernelspec": {
   "display_name": "Python (athena_gpu)",
   "language": "python",
   "name": "athena_gpu"
  }
 },
 "nbformat": 4,
 "nbformat_minor": 4
}
