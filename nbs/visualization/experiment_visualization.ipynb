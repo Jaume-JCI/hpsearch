{
 "cells": [
  {
   "cell_type": "code",
   "execution_count": null,
   "metadata": {},
   "outputs": [],
   "source": [
    "#hide\n",
    "#default_exp visualization.experiment_visualization\n",
    "from nbdev.showdoc import show_doc\n",
    "import warnings\n",
    "warnings.filterwarnings('ignore')"
   ]
  },
  {
   "cell_type": "markdown",
   "metadata": {},
   "source": [
    "# Visualization utils"
   ]
  },
  {
   "cell_type": "markdown",
   "metadata": {},
   "source": [
    "## Plot history"
   ]
  },
  {
   "cell_type": "code",
   "execution_count": null,
   "metadata": {},
   "outputs": [],
   "source": [
    "#export\n",
    "import numpy as np\n",
    "#import matplotlib.pyplot as plt\n",
    "import os\n",
    "import pickle\n",
    "import pandas as pd\n",
    "from IPython.display import display\n",
    "import visdom\n",
    "from hpsearch.config.hpconfig import get_path_results, get_path_experiments\n",
    "import hpsearch.utils.experiment_utils as ut\n",
    "from hpsearch.visualization import plot_utils \n",
    "import warnings\n",
    "warnings.filterwarnings('ignore')\n",
    "    \n",
    "              \n",
    "def plot_multiple_histories (experiments, run_number=0, root_path=None, root_folder=None, metrics='all', \n",
    "                             metrics_second=[], parameters = None, compare = True, \n",
    "                             ylegend=0.5, name_file='model_history.pk', \n",
    "                             op='max', include_parameters_in_legend=False,\n",
    "                             backend='visdom', **kwargs):\n",
    "    \n",
    "    if root_path is None:\n",
    "        root_path = get_path_experiments(folder=root_folder)\n",
    "    \n",
    "    df = pd.read_csv('%s/experiments_data.csv' %root_path,index_col=0)\n",
    "    df2 = ut.get_experiment_parameters (df.loc[experiments], only_not_null=True)\n",
    "    parameters2, df2 = ut.get_parameters_unique(df2)\n",
    "\n",
    "    if compare or parameters is not None:        \n",
    "        if parameters is None:\n",
    "            parameters = parameters2 \n",
    "        df = df.loc[experiments,parameters]\n",
    "    \n",
    "    if type(metrics)==str and (metrics == 'all'):\n",
    "        path_results = get_path_results (experiments[0], run_number=run_number, root_path=root_path)\n",
    "        history = pickle.load(open('%s/%s' %(path_results, name_file),'rb'))\n",
    "        metrics = history.keys()\n",
    "    if type(metrics) == str:\n",
    "        metrics = [metrics]\n",
    "    if type(metrics_second) == str:\n",
    "        metrics_second = [metrics_second]\n",
    "    df = ut.replace_with_default_values (df)\n",
    "    df2 = ut.replace_with_default_values (df2)\n",
    "    df_show = df.copy()\n",
    "    \n",
    "    for (imetric,metric) in enumerate(metrics):\n",
    "        title = metric\n",
    "        traces = []\n",
    "        for experiment_id in experiments:\n",
    "            path_results = get_path_results (experiment_id, run_number=run_number, root_path=root_path)\n",
    "            if os.path.exists('%s/%s' %(path_results, name_file)):\n",
    "                history = pickle.load(open('%s/%s' %(path_results, name_file),'rb'))\n",
    "                #values = [float(x) for x in history[metric]]\n",
    "                if compare and include_parameters_in_legend:\n",
    "                    label = '{}-{}'.format(experiment_id, list(dict(df.loc[experiment_id]).values()))\n",
    "                else:\n",
    "                    label = '{}'.format(experiment_id)\n",
    "                traces = plot_utils.add_trace (history[metric], style='A.-', label=label, backend=backend, traces=traces)\n",
    "                \n",
    "                if True:\n",
    "                    if op == 'min':\n",
    "                        imin = int(np.array(history[metric]).argmin())\n",
    "                    else:\n",
    "                        imin = int(np.array(history[metric]).argmax())\n",
    "                    vmin = float(history[metric][imin])\n",
    "                    traces = plot_utils.add_trace ([imin], [vmin], style='.', label='', backend=backend, \n",
    "                                                   marker={'color': 'red', 'symbol': 104, 'size': 10},\n",
    "                                                   traces=traces)\n",
    "                    \n",
    "                    title += ' [%d]: %.2f' %(experiment_id, vmin)\n",
    "                    df_show.loc[experiment_id, metric] = vmin\n",
    "                    df2.loc[experiment_id, metric] = vmin\n",
    "                if (imetric == 0):\n",
    "                    for metric_second in metrics_second:\n",
    "                        #values = [float(x) for x in history[metric_second]]\n",
    "                        if compare and include_parameters_in_legend:\n",
    "                            label = '{}: {}-{}'.format(metric_second, experiment_id, list(dict(df.loc[experiment_id]).values()))\n",
    "                        else:\n",
    "                            label = '{}: {}'.format(metric_second, experiment_id)\n",
    "                        traces = plot_utils.add_trace (history[metric_second], style='A.-', label=label, backend=backend, traces=traces)\n",
    "                        \n",
    "                        if op == 'min':\n",
    "                            imin = int(np.array(history[metric_second]).argmin())\n",
    "                        else:\n",
    "                            imin = int(np.array(history[metric_second]).argmax())\n",
    "                        vmin = float(history[metric_second][imin])\n",
    "                        traces = plot_utils.add_trace ([imin], [vmin], style='.', label='', backend=backend, \n",
    "                                                   marker={'color': 'red', 'symbol': 104, 'size': 10},\n",
    "                                                   traces=traces)\n",
    "                        title += ' [%d]: %.2f' %(experiment_id, vmin)\n",
    "                        df_show.loc[experiment_id, metric_second] = vmin\n",
    "                        df2.loc[experiment_id, metric_second] = vmin\n",
    "\n",
    "        plot_utils.plot(title=title, xlabel='epoch', ylabel=metric, traces=traces, backend=backend)\n",
    "        if backend=='visdom':\n",
    "            vis = visdom.Visdom()\n",
    "            vis.text (df_show.to_html(justify='left', col_space=100), win= f'{metric}_parameters')\n",
    "        display(df2)\n"
   ]
  },
  {
   "cell_type": "code",
   "execution_count": null,
   "metadata": {},
   "outputs": [
    {
     "name": "stderr",
     "output_type": "stream",
     "text": [
      "experiment script: /mnt/athena/hpsearch/hpsearch/examples/dummy_experiment_manager.py, line: 180\n",
      "processing hyper-parameter 0 out of 9\n",
      "doing run 0 out of 5\n",
      "fixed rate, multiple epochs values\n",
      "running experiment 0\n",
      "run number: 0\n",
      "\n",
      "parameters:\n",
      "\tepochs=5,\n",
      "\tnoise=0.1,\n",
      "\toffset=0.1,\n",
      "\trate=0.03\n",
      "\n",
      "script: /mnt/athena/hpsearch/hpsearch/examples/dummy_experiment_manager.py, line number: 180\n",
      "time spent on this experiment: 0.0009942054748535156\n",
      "0 - validation_accuracy: 0.27926598888204995\n",
      "0 - test_accuracy: 0.37116853691162743\n",
      "finished experiment 0\n",
      "processing hyper-parameter 0 out of 9\n",
      "doing run 1 out of 5\n",
      "fixed rate, multiple epochs values\n",
      "running experiment 0\n",
      "run number: 1\n",
      "\n",
      "parameters:\n",
      "\tepochs=5,\n",
      "\tnoise=0.1,\n",
      "\toffset=0.1,\n",
      "\trate=0.03\n",
      "\n",
      "script: /mnt/athena/hpsearch/hpsearch/examples/dummy_experiment_manager.py, line number: 180\n",
      "time spent on this experiment: 0.000997304916381836\n",
      "1 - validation_accuracy: 0.3137059084744178\n",
      "1 - test_accuracy: 0.2756037415342204\n",
      "finished experiment 0\n",
      "processing hyper-parameter 0 out of 9\n",
      "doing run 2 out of 5\n",
      "fixed rate, multiple epochs values\n",
      "running experiment 0\n",
      "run number: 2\n",
      "\n",
      "parameters:\n",
      "\tepochs=5,\n",
      "\tnoise=0.1,\n",
      "\toffset=0.1,\n",
      "\trate=0.03\n",
      "\n",
      "script: /mnt/athena/hpsearch/hpsearch/examples/dummy_experiment_manager.py, line number: 180\n",
      "time spent on this experiment: 0.0009715557098388672\n",
      "2 - validation_accuracy: 0.2218753580495028\n",
      "2 - test_accuracy: 0.2568434543076298\n"
     ]
    },
    {
     "name": "stdout",
     "output_type": "stream",
     "text": [
      "current path: /mnt/athena/hpsearch/nbs/visualization\n",
      "current path: /mnt/athena/hpsearch/nbs/visualization\n",
      "current path: /mnt/athena/hpsearch/nbs/visualization\n",
      "fitting model with 5 epochs\n",
      "epoch 0: accuracy: 0.13\n",
      "epoch 1: accuracy: 0.16\n",
      "epoch 2: accuracy: 0.19\n",
      "epoch 3: accuracy: 0.22\n",
      "epoch 4: accuracy: 0.25\n",
      "current path: /mnt/athena/hpsearch/nbs/visualization\n",
      "fitting model with 5 epochs\n",
      "epoch 0: accuracy: 0.13\n",
      "epoch 1: accuracy: 0.16\n",
      "epoch 2: accuracy: 0.19\n",
      "epoch 3: accuracy: 0.22\n",
      "epoch 4: accuracy: 0.25\n",
      "current path: /mnt/athena/hpsearch/nbs/visualization\n",
      "fitting model with 5 epochs\n",
      "epoch 0: accuracy: 0.13\n",
      "epoch 1: accuracy: 0.16\n",
      "epoch 2: accuracy: 0.19\n",
      "epoch 3: accuracy: 0.22\n",
      "epoch 4: accuracy: 0.25\n"
     ]
    },
    {
     "name": "stderr",
     "output_type": "stream",
     "text": [
      "finished experiment 0\n",
      "processing hyper-parameter 0 out of 9\n",
      "doing run 3 out of 5\n",
      "fixed rate, multiple epochs values\n",
      "running experiment 0\n",
      "run number: 3\n",
      "\n",
      "parameters:\n",
      "\tepochs=5,\n",
      "\tnoise=0.1,\n",
      "\toffset=0.1,\n",
      "\trate=0.03\n",
      "\n",
      "script: /mnt/athena/hpsearch/hpsearch/examples/dummy_experiment_manager.py, line number: 180\n",
      "time spent on this experiment: 0.0009582042694091797\n",
      "3 - validation_accuracy: 0.4273100328604531\n",
      "3 - test_accuracy: 0.2991516198816612\n",
      "finished experiment 0\n",
      "processing hyper-parameter 0 out of 9\n",
      "doing run 4 out of 5\n",
      "fixed rate, multiple epochs values\n",
      "running experiment 0\n",
      "run number: 4\n",
      "\n",
      "parameters:\n",
      "\tepochs=5,\n",
      "\tnoise=0.1,\n",
      "\toffset=0.1,\n",
      "\trate=0.03\n",
      "\n",
      "script: /mnt/athena/hpsearch/hpsearch/examples/dummy_experiment_manager.py, line number: 180\n",
      "time spent on this experiment: 0.0010068416595458984\n",
      "4 - validation_accuracy: 0.10037652871806682\n",
      "4 - test_accuracy: 0.3750686499164436\n",
      "finished experiment 0\n",
      "processing hyper-parameter 1 out of 9\n",
      "doing run 0 out of 5\n",
      "fixed rate, multiple epochs values\n",
      "running experiment 1\n",
      "run number: 0\n",
      "\n",
      "parameters:\n",
      "\tepochs=5,\n",
      "\tnoise=0.1,\n",
      "\toffset=0.3,\n",
      "\trate=0.03\n",
      "\n",
      "script: /mnt/athena/hpsearch/hpsearch/examples/dummy_experiment_manager.py, line number: 180\n",
      "time spent on this experiment: 0.0009932518005371094\n",
      "0 - validation_accuracy: 0.2917104188830788\n",
      "0 - test_accuracy: 0.5984130617146644\n"
     ]
    },
    {
     "name": "stdout",
     "output_type": "stream",
     "text": [
      "current path: /mnt/athena/hpsearch/nbs/visualization\n",
      "fitting model with 5 epochs\n",
      "epoch 0: accuracy: 0.13\n",
      "epoch 1: accuracy: 0.16\n",
      "epoch 2: accuracy: 0.19\n",
      "epoch 3: accuracy: 0.22\n",
      "epoch 4: accuracy: 0.25\n",
      "current path: /mnt/athena/hpsearch/nbs/visualization\n",
      "fitting model with 5 epochs\n",
      "epoch 0: accuracy: 0.13\n",
      "epoch 1: accuracy: 0.16\n",
      "epoch 2: accuracy: 0.19\n",
      "epoch 3: accuracy: 0.22\n",
      "epoch 4: accuracy: 0.25\n",
      "current path: /mnt/athena/hpsearch/nbs/visualization\n",
      "fitting model with 5 epochs\n",
      "epoch 0: accuracy: 0.32999999999999996\n",
      "epoch 1: accuracy: 0.36\n",
      "epoch 2: accuracy: 0.39\n",
      "epoch 3: accuracy: 0.42000000000000004\n",
      "epoch 4: accuracy: 0.45000000000000007\n"
     ]
    },
    {
     "name": "stderr",
     "output_type": "stream",
     "text": [
      "finished experiment 1\n",
      "processing hyper-parameter 1 out of 9\n",
      "doing run 1 out of 5\n",
      "fixed rate, multiple epochs values\n",
      "running experiment 1\n",
      "run number: 1\n",
      "\n",
      "parameters:\n",
      "\tepochs=5,\n",
      "\tnoise=0.1,\n",
      "\toffset=0.3,\n",
      "\trate=0.03\n",
      "\n",
      "script: /mnt/athena/hpsearch/hpsearch/examples/dummy_experiment_manager.py, line number: 180\n",
      "time spent on this experiment: 0.0010919570922851562\n",
      "1 - validation_accuracy: 0.40595123363337116\n",
      "1 - test_accuracy: 0.47926865120271667\n",
      "finished experiment 1\n",
      "processing hyper-parameter 1 out of 9\n",
      "doing run 2 out of 5\n",
      "fixed rate, multiple epochs values\n",
      "running experiment 1\n",
      "run number: 2\n",
      "\n",
      "parameters:\n",
      "\tepochs=5,\n",
      "\tnoise=0.1,\n",
      "\toffset=0.3,\n",
      "\trate=0.03\n",
      "\n",
      "script: /mnt/athena/hpsearch/hpsearch/examples/dummy_experiment_manager.py, line number: 180\n",
      "time spent on this experiment: 0.0012929439544677734\n",
      "2 - validation_accuracy: 0.5284557348723119\n",
      "2 - test_accuracy: 0.503334983552942\n",
      "finished experiment 1\n",
      "processing hyper-parameter 1 out of 9\n",
      "doing run 3 out of 5\n",
      "fixed rate, multiple epochs values\n",
      "running experiment 1\n",
      "run number: 3\n",
      "\n",
      "parameters:\n",
      "\tepochs=5,\n",
      "\tnoise=0.1,\n",
      "\toffset=0.3,\n",
      "\trate=0.03\n",
      "\n",
      "script: /mnt/athena/hpsearch/hpsearch/examples/dummy_experiment_manager.py, line number: 180\n",
      "time spent on this experiment: 0.0009851455688476562\n",
      "3 - validation_accuracy: 0.42169553430730367\n",
      "3 - test_accuracy: 0.5930502108732516\n",
      "finished experiment 1\n",
      "processing hyper-parameter 1 out of 9\n",
      "doing run 4 out of 5\n",
      "fixed rate, multiple epochs values\n"
     ]
    },
    {
     "name": "stdout",
     "output_type": "stream",
     "text": [
      "current path: /mnt/athena/hpsearch/nbs/visualization\n",
      "fitting model with 5 epochs\n",
      "epoch 0: accuracy: 0.32999999999999996\n",
      "epoch 1: accuracy: 0.36\n",
      "epoch 2: accuracy: 0.39\n",
      "epoch 3: accuracy: 0.42000000000000004\n",
      "epoch 4: accuracy: 0.45000000000000007\n",
      "current path: /mnt/athena/hpsearch/nbs/visualization\n",
      "fitting model with 5 epochs\n",
      "epoch 0: accuracy: 0.32999999999999996\n",
      "epoch 1: accuracy: 0.36\n",
      "epoch 2: accuracy: 0.39\n",
      "epoch 3: accuracy: 0.42000000000000004\n",
      "epoch 4: accuracy: 0.45000000000000007\n",
      "current path: /mnt/athena/hpsearch/nbs/visualization\n",
      "fitting model with 5 epochs\n",
      "epoch 0: accuracy: 0.32999999999999996\n",
      "epoch 1: accuracy: 0.36\n",
      "epoch 2: accuracy: 0.39\n",
      "epoch 3: accuracy: 0.42000000000000004\n",
      "epoch 4: accuracy: 0.45000000000000007\n",
      "current path: /mnt/athena/hpsearch/nbs/visualization\n"
     ]
    },
    {
     "name": "stderr",
     "output_type": "stream",
     "text": [
      "running experiment 1\n",
      "run number: 4\n",
      "\n",
      "parameters:\n",
      "\tepochs=5,\n",
      "\tnoise=0.1,\n",
      "\toffset=0.3,\n",
      "\trate=0.03\n",
      "\n",
      "script: /mnt/athena/hpsearch/hpsearch/examples/dummy_experiment_manager.py, line number: 180\n",
      "time spent on this experiment: 0.0011012554168701172\n",
      "4 - validation_accuracy: 0.5756390427991992\n",
      "4 - test_accuracy: 0.5669994095092334\n",
      "finished experiment 1\n",
      "processing hyper-parameter 2 out of 9\n",
      "doing run 0 out of 5\n",
      "fixed rate, multiple epochs values\n",
      "running experiment 2\n",
      "run number: 0\n",
      "\n",
      "parameters:\n",
      "\tepochs=5,\n",
      "\tnoise=0.1,\n",
      "\toffset=0.6,\n",
      "\trate=0.03\n",
      "\n",
      "script: /mnt/athena/hpsearch/hpsearch/examples/dummy_experiment_manager.py, line number: 180\n",
      "time spent on this experiment: 0.0009534358978271484\n",
      "0 - validation_accuracy: 0.6207498332609989\n",
      "0 - test_accuracy: 0.9465589728725352\n",
      "finished experiment 2\n",
      "processing hyper-parameter 2 out of 9\n",
      "doing run 1 out of 5\n",
      "fixed rate, multiple epochs values\n",
      "running experiment 2\n",
      "run number: 1\n",
      "\n",
      "parameters:\n",
      "\tepochs=5,\n",
      "\tnoise=0.1,\n",
      "\toffset=0.6,\n",
      "\trate=0.03\n",
      "\n",
      "script: /mnt/athena/hpsearch/hpsearch/examples/dummy_experiment_manager.py, line number: 180\n",
      "time spent on this experiment: 0.0010371208190917969\n",
      "1 - validation_accuracy: 0.8331586847574228\n",
      "1 - test_accuracy: 0.938676264609408\n",
      "finished experiment 2\n",
      "processing hyper-parameter 2 out of 9\n",
      "doing run 2 out of 5\n",
      "fixed rate, multiple epochs values\n",
      "running experiment 2\n",
      "run number: 2\n",
      "\n",
      "parameters:\n",
      "\tepochs=5,\n",
      "\tnoise=0.1,\n",
      "\toffset=0.6,\n",
      "\trate=0.03\n",
      "\n"
     ]
    },
    {
     "name": "stdout",
     "output_type": "stream",
     "text": [
      "fitting model with 5 epochs\n",
      "epoch 0: accuracy: 0.32999999999999996\n",
      "epoch 1: accuracy: 0.36\n",
      "epoch 2: accuracy: 0.39\n",
      "epoch 3: accuracy: 0.42000000000000004\n",
      "epoch 4: accuracy: 0.45000000000000007\n",
      "current path: /mnt/athena/hpsearch/nbs/visualization\n",
      "fitting model with 5 epochs\n",
      "epoch 0: accuracy: 0.63\n",
      "epoch 1: accuracy: 0.66\n",
      "epoch 2: accuracy: 0.6900000000000001\n",
      "epoch 3: accuracy: 0.7200000000000001\n",
      "epoch 4: accuracy: 0.7500000000000001\n",
      "current path: /mnt/athena/hpsearch/nbs/visualization\n",
      "fitting model with 5 epochs\n",
      "epoch 0: accuracy: 0.63\n",
      "epoch 1: accuracy: 0.66\n",
      "epoch 2: accuracy: 0.6900000000000001\n",
      "epoch 3: accuracy: 0.7200000000000001\n",
      "epoch 4: accuracy: 0.7500000000000001\n",
      "current path: /mnt/athena/hpsearch/nbs/visualization\n"
     ]
    },
    {
     "name": "stderr",
     "output_type": "stream",
     "text": [
      "script: /mnt/athena/hpsearch/hpsearch/examples/dummy_experiment_manager.py, line number: 180\n",
      "time spent on this experiment: 0.0010313987731933594\n",
      "2 - validation_accuracy: 0.6767798592387262\n",
      "2 - test_accuracy: 0.8709883251192441\n",
      "finished experiment 2\n",
      "processing hyper-parameter 2 out of 9\n",
      "doing run 3 out of 5\n",
      "fixed rate, multiple epochs values\n",
      "running experiment 2\n",
      "run number: 3\n",
      "\n",
      "parameters:\n",
      "\tepochs=5,\n",
      "\tnoise=0.1,\n",
      "\toffset=0.6,\n",
      "\trate=0.03\n",
      "\n",
      "script: /mnt/athena/hpsearch/hpsearch/examples/dummy_experiment_manager.py, line number: 180\n",
      "time spent on this experiment: 0.0009090900421142578\n",
      "3 - validation_accuracy: 0.7663820037837367\n",
      "3 - test_accuracy: 0.9732108690991055\n",
      "finished experiment 2\n",
      "processing hyper-parameter 2 out of 9\n",
      "doing run 4 out of 5\n",
      "fixed rate, multiple epochs values\n",
      "running experiment 2\n",
      "run number: 4\n",
      "\n",
      "parameters:\n",
      "\tepochs=5,\n",
      "\tnoise=0.1,\n",
      "\toffset=0.6,\n",
      "\trate=0.03\n",
      "\n",
      "script: /mnt/athena/hpsearch/hpsearch/examples/dummy_experiment_manager.py, line number: 180\n",
      "time spent on this experiment: 0.0009751319885253906\n",
      "4 - validation_accuracy: 0.7139352349626373\n",
      "4 - test_accuracy: 0.8440847745572306\n",
      "finished experiment 2\n",
      "processing hyper-parameter 3 out of 9\n",
      "doing run 0 out of 5\n",
      "fixed rate, multiple epochs values\n",
      "running experiment 3\n",
      "run number: 0\n",
      "\n",
      "parameters:\n",
      "\tepochs=15,\n",
      "\tnoise=0.1,\n",
      "\toffset=0.1,\n",
      "\trate=0.03\n",
      "\n"
     ]
    },
    {
     "name": "stdout",
     "output_type": "stream",
     "text": [
      "fitting model with 5 epochs\n",
      "epoch 0: accuracy: 0.63\n",
      "epoch 1: accuracy: 0.66\n",
      "epoch 2: accuracy: 0.6900000000000001\n",
      "epoch 3: accuracy: 0.7200000000000001\n",
      "epoch 4: accuracy: 0.7500000000000001\n",
      "current path: /mnt/athena/hpsearch/nbs/visualization\n",
      "fitting model with 5 epochs\n",
      "epoch 0: accuracy: 0.63\n",
      "epoch 1: accuracy: 0.66\n",
      "epoch 2: accuracy: 0.6900000000000001\n",
      "epoch 3: accuracy: 0.7200000000000001\n",
      "epoch 4: accuracy: 0.7500000000000001\n",
      "current path: /mnt/athena/hpsearch/nbs/visualization\n",
      "fitting model with 5 epochs\n",
      "epoch 0: accuracy: 0.63\n",
      "epoch 1: accuracy: 0.66\n",
      "epoch 2: accuracy: 0.6900000000000001\n",
      "epoch 3: accuracy: 0.7200000000000001\n",
      "epoch 4: accuracy: 0.7500000000000001\n",
      "current path: /mnt/athena/hpsearch/nbs/visualization\n"
     ]
    },
    {
     "name": "stderr",
     "output_type": "stream",
     "text": [
      "script: /mnt/athena/hpsearch/hpsearch/examples/dummy_experiment_manager.py, line number: 180\n",
      "time spent on this experiment: 0.002054452896118164\n",
      "0 - validation_accuracy: 0.5553807138764123\n",
      "0 - test_accuracy: 0.5834310136313992\n",
      "finished experiment 3\n",
      "processing hyper-parameter 3 out of 9\n",
      "doing run 1 out of 5\n",
      "fixed rate, multiple epochs values\n",
      "running experiment 3\n",
      "run number: 1\n",
      "\n",
      "parameters:\n",
      "\tepochs=15,\n",
      "\tnoise=0.1,\n",
      "\toffset=0.1,\n",
      "\trate=0.03\n",
      "\n",
      "script: /mnt/athena/hpsearch/hpsearch/examples/dummy_experiment_manager.py, line number: 180\n",
      "time spent on this experiment: 0.0019190311431884766\n",
      "1 - validation_accuracy: 0.4329241288245753\n",
      "1 - test_accuracy: 0.5233026801585711\n",
      "finished experiment 3\n",
      "processing hyper-parameter 3 out of 9\n",
      "doing run 2 out of 5\n",
      "fixed rate, multiple epochs values\n",
      "running experiment 3\n",
      "run number: 2\n",
      "\n",
      "parameters:\n",
      "\tepochs=15,\n",
      "\tnoise=0.1,\n",
      "\toffset=0.1,\n",
      "\trate=0.03\n",
      "\n",
      "script: /mnt/athena/hpsearch/hpsearch/examples/dummy_experiment_manager.py, line number: 180\n",
      "time spent on this experiment: 0.0022253990173339844\n",
      "2 - validation_accuracy: 0.5637900027602879\n",
      "2 - test_accuracy: 0.5182624056965026\n",
      "finished experiment 3\n",
      "processing hyper-parameter 3 out of 9\n",
      "doing run 3 out of 5\n",
      "fixed rate, multiple epochs values\n",
      "running experiment 3\n",
      "run number: 3\n",
      "\n",
      "parameters:\n",
      "\tepochs=15,\n",
      "\tnoise=0.1,\n",
      "\toffset=0.1,\n",
      "\trate=0.03\n",
      "\n"
     ]
    },
    {
     "name": "stdout",
     "output_type": "stream",
     "text": [
      "fitting model with 15 epochs\n",
      "epoch 0: accuracy: 0.13\n",
      "epoch 1: accuracy: 0.16\n",
      "epoch 2: accuracy: 0.19\n",
      "epoch 3: accuracy: 0.22\n",
      "epoch 4: accuracy: 0.25\n",
      "epoch 5: accuracy: 0.28\n",
      "epoch 6: accuracy: 0.31000000000000005\n",
      "epoch 7: accuracy: 0.3400000000000001\n",
      "epoch 8: accuracy: 0.3700000000000001\n",
      "epoch 9: accuracy: 0.40000000000000013\n",
      "epoch 10: accuracy: 0.43000000000000016\n",
      "epoch 11: accuracy: 0.4600000000000002\n",
      "epoch 12: accuracy: 0.4900000000000002\n",
      "epoch 13: accuracy: 0.5200000000000002\n",
      "epoch 14: accuracy: 0.5500000000000003\n",
      "current path: /mnt/athena/hpsearch/nbs/visualization\n",
      "fitting model with 15 epochs\n",
      "epoch 0: accuracy: 0.13\n",
      "epoch 1: accuracy: 0.16\n",
      "epoch 2: accuracy: 0.19\n",
      "epoch 3: accuracy: 0.22\n",
      "epoch 4: accuracy: 0.25\n",
      "epoch 5: accuracy: 0.28\n",
      "epoch 6: accuracy: 0.31000000000000005\n",
      "epoch 7: accuracy: 0.3400000000000001\n",
      "epoch 8: accuracy: 0.3700000000000001\n",
      "epoch 9: accuracy: 0.40000000000000013\n",
      "epoch 10: accuracy: 0.43000000000000016\n",
      "epoch 11: accuracy: 0.4600000000000002\n",
      "epoch 12: accuracy: 0.4900000000000002\n",
      "epoch 13: accuracy: 0.5200000000000002\n",
      "epoch 14: accuracy: 0.5500000000000003\n",
      "current path: /mnt/athena/hpsearch/nbs/visualization\n",
      "fitting model with 15 epochs\n",
      "epoch 0: accuracy: 0.13\n",
      "epoch 1: accuracy: 0.16\n",
      "epoch 2: accuracy: 0.19\n",
      "epoch 3: accuracy: 0.22\n",
      "epoch 4: accuracy: 0.25\n",
      "epoch 5: accuracy: 0.28\n",
      "epoch 6: accuracy: 0.31000000000000005\n",
      "epoch 7: accuracy: 0.3400000000000001\n",
      "epoch 8: accuracy: 0.3700000000000001\n",
      "epoch 9: accuracy: 0.40000000000000013\n",
      "epoch 10: accuracy: 0.43000000000000016\n",
      "epoch 11: accuracy: 0.4600000000000002\n",
      "epoch 12: accuracy: 0.4900000000000002\n",
      "epoch 13: accuracy: 0.5200000000000002\n",
      "epoch 14: accuracy: 0.5500000000000003\n",
      "current path: /mnt/athena/hpsearch/nbs/visualization\n"
     ]
    },
    {
     "name": "stderr",
     "output_type": "stream",
     "text": [
      "script: /mnt/athena/hpsearch/hpsearch/examples/dummy_experiment_manager.py, line number: 180\n",
      "time spent on this experiment: 0.0023953914642333984\n",
      "3 - validation_accuracy: 0.595532628836696\n",
      "3 - test_accuracy: 0.3975501541932186\n",
      "finished experiment 3\n",
      "processing hyper-parameter 3 out of 9\n",
      "doing run 4 out of 5\n",
      "fixed rate, multiple epochs values\n",
      "running experiment 3\n",
      "run number: 4\n",
      "\n",
      "parameters:\n",
      "\tepochs=15,\n",
      "\tnoise=0.1,\n",
      "\toffset=0.1,\n",
      "\trate=0.03\n",
      "\n",
      "script: /mnt/athena/hpsearch/hpsearch/examples/dummy_experiment_manager.py, line number: 180\n",
      "time spent on this experiment: 0.0019779205322265625\n",
      "4 - validation_accuracy: 0.7047990383831553\n",
      "4 - test_accuracy: 0.4533623194438294\n",
      "finished experiment 3\n",
      "processing hyper-parameter 4 out of 9\n",
      "doing run 0 out of 5\n",
      "fixed rate, multiple epochs values\n",
      "running experiment 4\n",
      "run number: 0\n",
      "\n",
      "parameters:\n",
      "\tepochs=15,\n",
      "\tnoise=0.1,\n",
      "\toffset=0.3,\n",
      "\trate=0.03\n",
      "\n",
      "script: /mnt/athena/hpsearch/hpsearch/examples/dummy_experiment_manager.py, line number: 180\n",
      "time spent on this experiment: 0.0021147727966308594\n",
      "0 - validation_accuracy: 0.7999951594528081\n",
      "0 - test_accuracy: 0.7796775300098298\n",
      "finished experiment 4\n",
      "processing hyper-parameter 4 out of 9\n",
      "doing run 1 out of 5\n",
      "fixed rate, multiple epochs values\n",
      "running experiment 4\n",
      "run number: 1\n",
      "\n",
      "parameters:\n",
      "\tepochs=15,\n",
      "\tnoise=0.1,\n",
      "\toffset=0.3,\n",
      "\trate=0.03\n",
      "\n"
     ]
    },
    {
     "name": "stdout",
     "output_type": "stream",
     "text": [
      "fitting model with 15 epochs\n",
      "epoch 0: accuracy: 0.13\n",
      "epoch 1: accuracy: 0.16\n",
      "epoch 2: accuracy: 0.19\n",
      "epoch 3: accuracy: 0.22\n",
      "epoch 4: accuracy: 0.25\n",
      "epoch 5: accuracy: 0.28\n",
      "epoch 6: accuracy: 0.31000000000000005\n",
      "epoch 7: accuracy: 0.3400000000000001\n",
      "epoch 8: accuracy: 0.3700000000000001\n",
      "epoch 9: accuracy: 0.40000000000000013\n",
      "epoch 10: accuracy: 0.43000000000000016\n",
      "epoch 11: accuracy: 0.4600000000000002\n",
      "epoch 12: accuracy: 0.4900000000000002\n",
      "epoch 13: accuracy: 0.5200000000000002\n",
      "epoch 14: accuracy: 0.5500000000000003\n",
      "current path: /mnt/athena/hpsearch/nbs/visualization\n",
      "fitting model with 15 epochs\n",
      "epoch 0: accuracy: 0.13\n",
      "epoch 1: accuracy: 0.16\n",
      "epoch 2: accuracy: 0.19\n",
      "epoch 3: accuracy: 0.22\n",
      "epoch 4: accuracy: 0.25\n",
      "epoch 5: accuracy: 0.28\n",
      "epoch 6: accuracy: 0.31000000000000005\n",
      "epoch 7: accuracy: 0.3400000000000001\n",
      "epoch 8: accuracy: 0.3700000000000001\n",
      "epoch 9: accuracy: 0.40000000000000013\n",
      "epoch 10: accuracy: 0.43000000000000016\n",
      "epoch 11: accuracy: 0.4600000000000002\n",
      "epoch 12: accuracy: 0.4900000000000002\n",
      "epoch 13: accuracy: 0.5200000000000002\n",
      "epoch 14: accuracy: 0.5500000000000003\n",
      "current path: /mnt/athena/hpsearch/nbs/visualization\n",
      "fitting model with 15 epochs\n",
      "epoch 0: accuracy: 0.32999999999999996\n",
      "epoch 1: accuracy: 0.36\n",
      "epoch 2: accuracy: 0.39\n",
      "epoch 3: accuracy: 0.42000000000000004\n",
      "epoch 4: accuracy: 0.45000000000000007\n",
      "epoch 5: accuracy: 0.4800000000000001\n",
      "epoch 6: accuracy: 0.5100000000000001\n",
      "epoch 7: accuracy: 0.5400000000000001\n",
      "epoch 8: accuracy: 0.5700000000000002\n",
      "epoch 9: accuracy: 0.6000000000000002\n",
      "epoch 10: accuracy: 0.6300000000000002\n",
      "epoch 11: accuracy: 0.6600000000000003\n",
      "epoch 12: accuracy: 0.6900000000000003\n",
      "epoch 13: accuracy: 0.7200000000000003\n",
      "epoch 14: accuracy: 0.7500000000000003\n",
      "current path: /mnt/athena/hpsearch/nbs/visualization\n"
     ]
    },
    {
     "name": "stderr",
     "output_type": "stream",
     "text": [
      "script: /mnt/athena/hpsearch/hpsearch/examples/dummy_experiment_manager.py, line number: 180\n",
      "time spent on this experiment: 0.0021567344665527344\n",
      "1 - validation_accuracy: 0.6254506206258286\n",
      "1 - test_accuracy: 0.8064366426825922\n",
      "finished experiment 4\n",
      "processing hyper-parameter 4 out of 9\n",
      "doing run 2 out of 5\n",
      "fixed rate, multiple epochs values\n",
      "running experiment 4\n",
      "run number: 2\n",
      "\n",
      "parameters:\n",
      "\tepochs=15,\n",
      "\tnoise=0.1,\n",
      "\toffset=0.3,\n",
      "\trate=0.03\n",
      "\n",
      "script: /mnt/athena/hpsearch/hpsearch/examples/dummy_experiment_manager.py, line number: 180\n",
      "time spent on this experiment: 0.0022149085998535156\n",
      "2 - validation_accuracy: 0.7953583890696541\n",
      "2 - test_accuracy: 0.5769698582387975\n",
      "finished experiment 4\n",
      "processing hyper-parameter 4 out of 9\n",
      "doing run 3 out of 5\n",
      "fixed rate, multiple epochs values\n",
      "running experiment 4\n",
      "run number: 3\n",
      "\n",
      "parameters:\n",
      "\tepochs=15,\n",
      "\tnoise=0.1,\n",
      "\toffset=0.3,\n",
      "\trate=0.03\n",
      "\n",
      "script: /mnt/athena/hpsearch/hpsearch/examples/dummy_experiment_manager.py, line number: 180\n",
      "time spent on this experiment: 0.0019407272338867188\n",
      "3 - validation_accuracy: 0.66913619025467\n",
      "3 - test_accuracy: 0.6991856712910721\n",
      "finished experiment 4\n",
      "processing hyper-parameter 4 out of 9\n",
      "doing run 4 out of 5\n",
      "fixed rate, multiple epochs values\n",
      "running experiment 4\n",
      "run number: 4\n",
      "\n",
      "parameters:\n",
      "\tepochs=15,\n",
      "\tnoise=0.1,\n",
      "\toffset=0.3,\n",
      "\trate=0.03\n",
      "\n"
     ]
    },
    {
     "name": "stdout",
     "output_type": "stream",
     "text": [
      "fitting model with 15 epochs\n",
      "epoch 0: accuracy: 0.32999999999999996\n",
      "epoch 1: accuracy: 0.36\n",
      "epoch 2: accuracy: 0.39\n",
      "epoch 3: accuracy: 0.42000000000000004\n",
      "epoch 4: accuracy: 0.45000000000000007\n",
      "epoch 5: accuracy: 0.4800000000000001\n",
      "epoch 6: accuracy: 0.5100000000000001\n",
      "epoch 7: accuracy: 0.5400000000000001\n",
      "epoch 8: accuracy: 0.5700000000000002\n",
      "epoch 9: accuracy: 0.6000000000000002\n",
      "epoch 10: accuracy: 0.6300000000000002\n",
      "epoch 11: accuracy: 0.6600000000000003\n",
      "epoch 12: accuracy: 0.6900000000000003\n",
      "epoch 13: accuracy: 0.7200000000000003\n",
      "epoch 14: accuracy: 0.7500000000000003\n",
      "current path: /mnt/athena/hpsearch/nbs/visualization\n",
      "fitting model with 15 epochs\n",
      "epoch 0: accuracy: 0.32999999999999996\n",
      "epoch 1: accuracy: 0.36\n",
      "epoch 2: accuracy: 0.39\n",
      "epoch 3: accuracy: 0.42000000000000004\n",
      "epoch 4: accuracy: 0.45000000000000007\n",
      "epoch 5: accuracy: 0.4800000000000001\n",
      "epoch 6: accuracy: 0.5100000000000001\n",
      "epoch 7: accuracy: 0.5400000000000001\n",
      "epoch 8: accuracy: 0.5700000000000002\n",
      "epoch 9: accuracy: 0.6000000000000002\n",
      "epoch 10: accuracy: 0.6300000000000002\n",
      "epoch 11: accuracy: 0.6600000000000003\n",
      "epoch 12: accuracy: 0.6900000000000003\n",
      "epoch 13: accuracy: 0.7200000000000003\n",
      "epoch 14: accuracy: 0.7500000000000003\n",
      "current path: /mnt/athena/hpsearch/nbs/visualization\n",
      "fitting model with 15 epochs\n",
      "epoch 0: accuracy: 0.32999999999999996\n",
      "epoch 1: accuracy: 0.36\n",
      "epoch 2: accuracy: 0.39\n",
      "epoch 3: accuracy: 0.42000000000000004\n",
      "epoch 4: accuracy: 0.45000000000000007\n",
      "epoch 5: accuracy: 0.4800000000000001\n",
      "epoch 6: accuracy: 0.5100000000000001\n",
      "epoch 7: accuracy: 0.5400000000000001\n",
      "epoch 8: accuracy: 0.5700000000000002\n",
      "epoch 9: accuracy: 0.6000000000000002\n",
      "epoch 10: accuracy: 0.6300000000000002\n",
      "epoch 11: accuracy: 0.6600000000000003\n",
      "epoch 12: accuracy: 0.6900000000000003\n",
      "epoch 13: accuracy: 0.7200000000000003\n",
      "epoch 14: accuracy: 0.7500000000000003\n",
      "current path: /mnt/athena/hpsearch/nbs/visualization\n"
     ]
    },
    {
     "name": "stderr",
     "output_type": "stream",
     "text": [
      "script: /mnt/athena/hpsearch/hpsearch/examples/dummy_experiment_manager.py, line number: 180\n",
      "time spent on this experiment: 0.0020933151245117188\n",
      "4 - validation_accuracy: 0.7298685305117447\n",
      "4 - test_accuracy: 0.6443386614889013\n",
      "finished experiment 4\n",
      "processing hyper-parameter 5 out of 9\n",
      "doing run 0 out of 5\n",
      "fixed rate, multiple epochs values\n",
      "running experiment 5\n",
      "run number: 0\n",
      "\n",
      "parameters:\n",
      "\tepochs=15,\n",
      "\tnoise=0.1,\n",
      "\toffset=0.6,\n",
      "\trate=0.03\n",
      "\n",
      "script: /mnt/athena/hpsearch/hpsearch/examples/dummy_experiment_manager.py, line number: 180\n",
      "time spent on this experiment: 0.0019648075103759766\n",
      "0 - validation_accuracy: 1.0\n",
      "0 - test_accuracy: 0.7886470874478337\n",
      "finished experiment 5\n",
      "processing hyper-parameter 5 out of 9\n",
      "doing run 1 out of 5\n",
      "fixed rate, multiple epochs values\n",
      "running experiment 5\n",
      "run number: 1\n",
      "\n",
      "parameters:\n",
      "\tepochs=15,\n",
      "\tnoise=0.1,\n",
      "\toffset=0.6,\n",
      "\trate=0.03\n",
      "\n",
      "script: /mnt/athena/hpsearch/hpsearch/examples/dummy_experiment_manager.py, line number: 180\n",
      "time spent on this experiment: 0.002071380615234375\n",
      "1 - validation_accuracy: 1.0\n",
      "1 - test_accuracy: 0.9201807585811064\n",
      "finished experiment 5\n",
      "processing hyper-parameter 5 out of 9\n",
      "doing run 2 out of 5\n",
      "fixed rate, multiple epochs values\n",
      "running experiment 5\n",
      "run number: 2\n",
      "\n",
      "parameters:\n",
      "\tepochs=15,\n",
      "\tnoise=0.1,\n",
      "\toffset=0.6,\n",
      "\trate=0.03\n",
      "\n"
     ]
    },
    {
     "name": "stdout",
     "output_type": "stream",
     "text": [
      "fitting model with 15 epochs\n",
      "epoch 0: accuracy: 0.32999999999999996\n",
      "epoch 1: accuracy: 0.36\n",
      "epoch 2: accuracy: 0.39\n",
      "epoch 3: accuracy: 0.42000000000000004\n",
      "epoch 4: accuracy: 0.45000000000000007\n",
      "epoch 5: accuracy: 0.4800000000000001\n",
      "epoch 6: accuracy: 0.5100000000000001\n",
      "epoch 7: accuracy: 0.5400000000000001\n",
      "epoch 8: accuracy: 0.5700000000000002\n",
      "epoch 9: accuracy: 0.6000000000000002\n",
      "epoch 10: accuracy: 0.6300000000000002\n",
      "epoch 11: accuracy: 0.6600000000000003\n",
      "epoch 12: accuracy: 0.6900000000000003\n",
      "epoch 13: accuracy: 0.7200000000000003\n",
      "epoch 14: accuracy: 0.7500000000000003\n",
      "current path: /mnt/athena/hpsearch/nbs/visualization\n",
      "fitting model with 15 epochs\n",
      "epoch 0: accuracy: 0.63\n",
      "epoch 1: accuracy: 0.66\n",
      "epoch 2: accuracy: 0.6900000000000001\n",
      "epoch 3: accuracy: 0.7200000000000001\n",
      "epoch 4: accuracy: 0.7500000000000001\n",
      "epoch 5: accuracy: 0.7800000000000001\n",
      "epoch 6: accuracy: 0.8100000000000002\n",
      "epoch 7: accuracy: 0.8400000000000002\n",
      "epoch 8: accuracy: 0.8700000000000002\n",
      "epoch 9: accuracy: 0.9000000000000002\n",
      "epoch 10: accuracy: 0.9300000000000003\n",
      "epoch 11: accuracy: 0.9600000000000003\n",
      "epoch 12: accuracy: 0.9900000000000003\n",
      "epoch 13: accuracy: 1.0200000000000002\n",
      "epoch 14: accuracy: 1.0500000000000003\n",
      "current path: /mnt/athena/hpsearch/nbs/visualization\n",
      "fitting model with 15 epochs\n",
      "epoch 0: accuracy: 0.63\n",
      "epoch 1: accuracy: 0.66\n",
      "epoch 2: accuracy: 0.6900000000000001\n",
      "epoch 3: accuracy: 0.7200000000000001\n",
      "epoch 4: accuracy: 0.7500000000000001\n",
      "epoch 5: accuracy: 0.7800000000000001\n",
      "epoch 6: accuracy: 0.8100000000000002\n",
      "epoch 7: accuracy: 0.8400000000000002\n",
      "epoch 8: accuracy: 0.8700000000000002\n",
      "epoch 9: accuracy: 0.9000000000000002\n",
      "epoch 10: accuracy: 0.9300000000000003\n",
      "epoch 11: accuracy: 0.9600000000000003\n",
      "epoch 12: accuracy: 0.9900000000000003\n",
      "epoch 13: accuracy: 1.0200000000000002\n",
      "epoch 14: accuracy: 1.0500000000000003\n",
      "current path: /mnt/athena/hpsearch/nbs/visualization\n"
     ]
    },
    {
     "name": "stderr",
     "output_type": "stream",
     "text": [
      "script: /mnt/athena/hpsearch/hpsearch/examples/dummy_experiment_manager.py, line number: 180\n",
      "time spent on this experiment: 0.002358675003051758\n",
      "2 - validation_accuracy: 1.0\n",
      "2 - test_accuracy: 1.0\n",
      "finished experiment 5\n",
      "processing hyper-parameter 5 out of 9\n",
      "doing run 3 out of 5\n",
      "fixed rate, multiple epochs values\n",
      "running experiment 5\n",
      "run number: 3\n",
      "\n",
      "parameters:\n",
      "\tepochs=15,\n",
      "\tnoise=0.1,\n",
      "\toffset=0.6,\n",
      "\trate=0.03\n",
      "\n",
      "script: /mnt/athena/hpsearch/hpsearch/examples/dummy_experiment_manager.py, line number: 180\n",
      "time spent on this experiment: 0.0020542144775390625\n",
      "3 - validation_accuracy: 0.8244342851035541\n",
      "3 - test_accuracy: 0.9860824540650245\n",
      "finished experiment 5\n",
      "processing hyper-parameter 5 out of 9\n",
      "doing run 4 out of 5\n",
      "fixed rate, multiple epochs values\n",
      "running experiment 5\n",
      "run number: 4\n",
      "\n",
      "parameters:\n",
      "\tepochs=15,\n",
      "\tnoise=0.1,\n",
      "\toffset=0.6,\n",
      "\trate=0.03\n",
      "\n",
      "script: /mnt/athena/hpsearch/hpsearch/examples/dummy_experiment_manager.py, line number: 180\n",
      "time spent on this experiment: 0.002051115036010742\n",
      "4 - validation_accuracy: 0.9977349399753055\n",
      "4 - test_accuracy: 1.0\n",
      "finished experiment 5\n",
      "processing hyper-parameter 6 out of 9\n",
      "doing run 0 out of 5\n",
      "fixed rate, multiple epochs values\n",
      "running experiment 6\n",
      "run number: 0\n",
      "\n",
      "parameters:\n",
      "\tepochs=30,\n",
      "\tnoise=0.1,\n",
      "\toffset=0.1,\n",
      "\trate=0.03\n",
      "\n"
     ]
    },
    {
     "name": "stdout",
     "output_type": "stream",
     "text": [
      "fitting model with 15 epochs\n",
      "epoch 0: accuracy: 0.63\n",
      "epoch 1: accuracy: 0.66\n",
      "epoch 2: accuracy: 0.6900000000000001\n",
      "epoch 3: accuracy: 0.7200000000000001\n",
      "epoch 4: accuracy: 0.7500000000000001\n",
      "epoch 5: accuracy: 0.7800000000000001\n",
      "epoch 6: accuracy: 0.8100000000000002\n",
      "epoch 7: accuracy: 0.8400000000000002\n",
      "epoch 8: accuracy: 0.8700000000000002\n",
      "epoch 9: accuracy: 0.9000000000000002\n",
      "epoch 10: accuracy: 0.9300000000000003\n",
      "epoch 11: accuracy: 0.9600000000000003\n",
      "epoch 12: accuracy: 0.9900000000000003\n",
      "epoch 13: accuracy: 1.0200000000000002\n",
      "epoch 14: accuracy: 1.0500000000000003\n",
      "current path: /mnt/athena/hpsearch/nbs/visualization\n",
      "fitting model with 15 epochs\n",
      "epoch 0: accuracy: 0.63\n",
      "epoch 1: accuracy: 0.66\n",
      "epoch 2: accuracy: 0.6900000000000001\n",
      "epoch 3: accuracy: 0.7200000000000001\n",
      "epoch 4: accuracy: 0.7500000000000001\n",
      "epoch 5: accuracy: 0.7800000000000001\n",
      "epoch 6: accuracy: 0.8100000000000002\n",
      "epoch 7: accuracy: 0.8400000000000002\n",
      "epoch 8: accuracy: 0.8700000000000002\n",
      "epoch 9: accuracy: 0.9000000000000002\n",
      "epoch 10: accuracy: 0.9300000000000003\n",
      "epoch 11: accuracy: 0.9600000000000003\n",
      "epoch 12: accuracy: 0.9900000000000003\n",
      "epoch 13: accuracy: 1.0200000000000002\n",
      "epoch 14: accuracy: 1.0500000000000003\n",
      "current path: /mnt/athena/hpsearch/nbs/visualization\n",
      "fitting model with 15 epochs\n",
      "epoch 0: accuracy: 0.63\n",
      "epoch 1: accuracy: 0.66\n",
      "epoch 2: accuracy: 0.6900000000000001\n",
      "epoch 3: accuracy: 0.7200000000000001\n",
      "epoch 4: accuracy: 0.7500000000000001\n",
      "epoch 5: accuracy: 0.7800000000000001\n",
      "epoch 6: accuracy: 0.8100000000000002\n",
      "epoch 7: accuracy: 0.8400000000000002\n",
      "epoch 8: accuracy: 0.8700000000000002\n",
      "epoch 9: accuracy: 0.9000000000000002\n",
      "epoch 10: accuracy: 0.9300000000000003\n",
      "epoch 11: accuracy: 0.9600000000000003\n",
      "epoch 12: accuracy: 0.9900000000000003\n",
      "epoch 13: accuracy: 1.0200000000000002\n",
      "epoch 14: accuracy: 1.0500000000000003\n",
      "current path: /mnt/athena/hpsearch/nbs/visualization\n"
     ]
    },
    {
     "name": "stderr",
     "output_type": "stream",
     "text": [
      "script: /mnt/athena/hpsearch/hpsearch/examples/dummy_experiment_manager.py, line number: 180\n",
      "time spent on this experiment: 0.0036640167236328125\n",
      "0 - validation_accuracy: 0.3387769460381838\n",
      "0 - test_accuracy: 0.14383191030781514\n",
      "finished experiment 6\n",
      "processing hyper-parameter 6 out of 9\n",
      "doing run 1 out of 5\n",
      "fixed rate, multiple epochs values\n",
      "running experiment 6\n",
      "run number: 1\n",
      "\n",
      "parameters:\n",
      "\tepochs=30,\n",
      "\tnoise=0.1,\n",
      "\toffset=0.1,\n",
      "\trate=0.03\n",
      "\n",
      "script: /mnt/athena/hpsearch/hpsearch/examples/dummy_experiment_manager.py, line number: 180\n",
      "time spent on this experiment: 0.0036308765411376953\n",
      "1 - validation_accuracy: 0.48934917507672415\n",
      "1 - test_accuracy: 0.20918885421021916\n",
      "finished experiment 6\n",
      "processing hyper-parameter 6 out of 9\n",
      "doing run 2 out of 5\n",
      "fixed rate, multiple epochs values\n",
      "running experiment 6\n",
      "run number: 2\n",
      "\n",
      "parameters:\n",
      "\tepochs=30,\n",
      "\tnoise=0.1,\n",
      "\toffset=0.1,\n",
      "\trate=0.03\n",
      "\n",
      "script: /mnt/athena/hpsearch/hpsearch/examples/dummy_experiment_manager.py, line number: 180\n",
      "time spent on this experiment: 0.003509998321533203\n",
      "2 - validation_accuracy: 0.5564967504409262\n",
      "2 - test_accuracy: 0.096959750477558\n",
      "finished experiment 6\n",
      "processing hyper-parameter 6 out of 9\n",
      "doing run 3 out of 5\n",
      "fixed rate, multiple epochs values\n",
      "running experiment 6\n",
      "run number: 3\n",
      "\n",
      "parameters:\n",
      "\tepochs=30,\n",
      "\tnoise=0.1,\n",
      "\toffset=0.1,\n",
      "\trate=0.03\n",
      "\n"
     ]
    },
    {
     "name": "stdout",
     "output_type": "stream",
     "text": [
      "fitting model with 30 epochs\n",
      "epoch 0: accuracy: 0.13\n",
      "epoch 1: accuracy: 0.16\n",
      "epoch 2: accuracy: 0.19\n",
      "epoch 3: accuracy: 0.22\n",
      "epoch 4: accuracy: 0.25\n",
      "epoch 5: accuracy: 0.28\n",
      "epoch 6: accuracy: 0.31000000000000005\n",
      "epoch 7: accuracy: 0.3400000000000001\n",
      "epoch 8: accuracy: 0.3700000000000001\n",
      "epoch 9: accuracy: 0.40000000000000013\n",
      "epoch 10: accuracy: 0.43000000000000016\n",
      "epoch 11: accuracy: 0.4600000000000002\n",
      "epoch 12: accuracy: 0.4900000000000002\n",
      "epoch 13: accuracy: 0.5200000000000002\n",
      "epoch 14: accuracy: 0.5500000000000003\n",
      "epoch 15: accuracy: 0.5800000000000003\n",
      "epoch 16: accuracy: 0.6100000000000003\n",
      "epoch 17: accuracy: 0.6400000000000003\n",
      "epoch 18: accuracy: 0.6700000000000004\n",
      "epoch 19: accuracy: 0.7000000000000004\n",
      "epoch 20: accuracy: 0.6700000000000004\n",
      "epoch 21: accuracy: 0.6400000000000003\n",
      "epoch 22: accuracy: 0.6100000000000003\n",
      "epoch 23: accuracy: 0.5800000000000003\n",
      "epoch 24: accuracy: 0.5500000000000003\n",
      "epoch 25: accuracy: 0.5200000000000002\n",
      "epoch 26: accuracy: 0.4900000000000002\n",
      "epoch 27: accuracy: 0.4600000000000002\n",
      "epoch 28: accuracy: 0.43000000000000016\n",
      "epoch 29: accuracy: 0.40000000000000013\n",
      "current path: /mnt/athena/hpsearch/nbs/visualization\n",
      "fitting model with 30 epochs\n",
      "epoch 0: accuracy: 0.13\n",
      "epoch 1: accuracy: 0.16\n",
      "epoch 2: accuracy: 0.19\n",
      "epoch 3: accuracy: 0.22\n",
      "epoch 4: accuracy: 0.25\n",
      "epoch 5: accuracy: 0.28\n",
      "epoch 6: accuracy: 0.31000000000000005\n",
      "epoch 7: accuracy: 0.3400000000000001\n",
      "epoch 8: accuracy: 0.3700000000000001\n",
      "epoch 9: accuracy: 0.40000000000000013\n",
      "epoch 10: accuracy: 0.43000000000000016\n",
      "epoch 11: accuracy: 0.4600000000000002\n",
      "epoch 12: accuracy: 0.4900000000000002\n",
      "epoch 13: accuracy: 0.5200000000000002\n",
      "epoch 14: accuracy: 0.5500000000000003\n",
      "epoch 15: accuracy: 0.5800000000000003\n",
      "epoch 16: accuracy: 0.6100000000000003\n",
      "epoch 17: accuracy: 0.6400000000000003\n",
      "epoch 18: accuracy: 0.6700000000000004\n",
      "epoch 19: accuracy: 0.7000000000000004\n",
      "epoch 20: accuracy: 0.6700000000000004\n",
      "epoch 21: accuracy: 0.6400000000000003\n",
      "epoch 22: accuracy: 0.6100000000000003\n",
      "epoch 23: accuracy: 0.5800000000000003\n",
      "epoch 24: accuracy: 0.5500000000000003\n",
      "epoch 25: accuracy: 0.5200000000000002\n",
      "epoch 26: accuracy: 0.4900000000000002\n",
      "epoch 27: accuracy: 0.4600000000000002\n",
      "epoch 28: accuracy: 0.43000000000000016\n",
      "epoch 29: accuracy: 0.40000000000000013\n",
      "current path: /mnt/athena/hpsearch/nbs/visualization\n",
      "fitting model with 30 epochs\n",
      "epoch 0: accuracy: 0.13\n",
      "epoch 1: accuracy: 0.16\n",
      "epoch 2: accuracy: 0.19\n",
      "epoch 3: accuracy: 0.22\n",
      "epoch 4: accuracy: 0.25\n",
      "epoch 5: accuracy: 0.28\n",
      "epoch 6: accuracy: 0.31000000000000005\n",
      "epoch 7: accuracy: 0.3400000000000001\n",
      "epoch 8: accuracy: 0.3700000000000001\n",
      "epoch 9: accuracy: 0.40000000000000013\n",
      "epoch 10: accuracy: 0.43000000000000016\n",
      "epoch 11: accuracy: 0.4600000000000002\n",
      "epoch 12: accuracy: 0.4900000000000002\n",
      "epoch 13: accuracy: 0.5200000000000002\n",
      "epoch 14: accuracy: 0.5500000000000003\n",
      "epoch 15: accuracy: 0.5800000000000003\n",
      "epoch 16: accuracy: 0.6100000000000003\n",
      "epoch 17: accuracy: 0.6400000000000003\n",
      "epoch 18: accuracy: 0.6700000000000004\n",
      "epoch 19: accuracy: 0.7000000000000004\n",
      "epoch 20: accuracy: 0.6700000000000004\n",
      "epoch 21: accuracy: 0.6400000000000003\n",
      "epoch 22: accuracy: 0.6100000000000003\n",
      "epoch 23: accuracy: 0.5800000000000003\n",
      "epoch 24: accuracy: 0.5500000000000003\n",
      "epoch 25: accuracy: 0.5200000000000002\n",
      "epoch 26: accuracy: 0.4900000000000002\n",
      "epoch 27: accuracy: 0.4600000000000002\n",
      "epoch 28: accuracy: 0.43000000000000016\n",
      "epoch 29: accuracy: 0.40000000000000013\n",
      "current path: /mnt/athena/hpsearch/nbs/visualization\n"
     ]
    },
    {
     "name": "stderr",
     "output_type": "stream",
     "text": [
      "script: /mnt/athena/hpsearch/hpsearch/examples/dummy_experiment_manager.py, line number: 180\n",
      "time spent on this experiment: 0.003520488739013672\n",
      "3 - validation_accuracy: 0.4698884151478717\n",
      "3 - test_accuracy: 0.154574056329619\n",
      "finished experiment 6\n",
      "processing hyper-parameter 6 out of 9\n",
      "doing run 4 out of 5\n",
      "fixed rate, multiple epochs values\n",
      "running experiment 6\n",
      "run number: 4\n",
      "\n",
      "parameters:\n",
      "\tepochs=30,\n",
      "\tnoise=0.1,\n",
      "\toffset=0.1,\n",
      "\trate=0.03\n",
      "\n",
      "script: /mnt/athena/hpsearch/hpsearch/examples/dummy_experiment_manager.py, line number: 180\n",
      "time spent on this experiment: 0.0034296512603759766\n",
      "4 - validation_accuracy: 0.2839417504678744\n",
      "4 - test_accuracy: 0.18363908835696285\n",
      "finished experiment 6\n",
      "processing hyper-parameter 7 out of 9\n",
      "doing run 0 out of 5\n",
      "fixed rate, multiple epochs values\n",
      "running experiment 7\n",
      "run number: 0\n",
      "\n",
      "parameters:\n",
      "\tepochs=30,\n",
      "\tnoise=0.1,\n",
      "\toffset=0.3,\n",
      "\trate=0.03\n",
      "\n",
      "script: /mnt/athena/hpsearch/hpsearch/examples/dummy_experiment_manager.py, line number: 180\n",
      "time spent on this experiment: 0.0035903453826904297\n",
      "0 - validation_accuracy: 0.5503117186107063\n",
      "0 - test_accuracy: 0.7241428107042368\n",
      "finished experiment 7\n",
      "processing hyper-parameter 7 out of 9\n",
      "doing run 1 out of 5\n",
      "fixed rate, multiple epochs values\n"
     ]
    },
    {
     "name": "stdout",
     "output_type": "stream",
     "text": [
      "fitting model with 30 epochs\n",
      "epoch 0: accuracy: 0.13\n",
      "epoch 1: accuracy: 0.16\n",
      "epoch 2: accuracy: 0.19\n",
      "epoch 3: accuracy: 0.22\n",
      "epoch 4: accuracy: 0.25\n",
      "epoch 5: accuracy: 0.28\n",
      "epoch 6: accuracy: 0.31000000000000005\n",
      "epoch 7: accuracy: 0.3400000000000001\n",
      "epoch 8: accuracy: 0.3700000000000001\n",
      "epoch 9: accuracy: 0.40000000000000013\n",
      "epoch 10: accuracy: 0.43000000000000016\n",
      "epoch 11: accuracy: 0.4600000000000002\n",
      "epoch 12: accuracy: 0.4900000000000002\n",
      "epoch 13: accuracy: 0.5200000000000002\n",
      "epoch 14: accuracy: 0.5500000000000003\n",
      "epoch 15: accuracy: 0.5800000000000003\n",
      "epoch 16: accuracy: 0.6100000000000003\n",
      "epoch 17: accuracy: 0.6400000000000003\n",
      "epoch 18: accuracy: 0.6700000000000004\n",
      "epoch 19: accuracy: 0.7000000000000004\n",
      "epoch 20: accuracy: 0.6700000000000004\n",
      "epoch 21: accuracy: 0.6400000000000003\n",
      "epoch 22: accuracy: 0.6100000000000003\n",
      "epoch 23: accuracy: 0.5800000000000003\n",
      "epoch 24: accuracy: 0.5500000000000003\n",
      "epoch 25: accuracy: 0.5200000000000002\n",
      "epoch 26: accuracy: 0.4900000000000002\n",
      "epoch 27: accuracy: 0.4600000000000002\n",
      "epoch 28: accuracy: 0.43000000000000016\n",
      "epoch 29: accuracy: 0.40000000000000013\n",
      "current path: /mnt/athena/hpsearch/nbs/visualization\n",
      "fitting model with 30 epochs\n",
      "epoch 0: accuracy: 0.13\n",
      "epoch 1: accuracy: 0.16\n",
      "epoch 2: accuracy: 0.19\n",
      "epoch 3: accuracy: 0.22\n",
      "epoch 4: accuracy: 0.25\n",
      "epoch 5: accuracy: 0.28\n",
      "epoch 6: accuracy: 0.31000000000000005\n",
      "epoch 7: accuracy: 0.3400000000000001\n",
      "epoch 8: accuracy: 0.3700000000000001\n",
      "epoch 9: accuracy: 0.40000000000000013\n",
      "epoch 10: accuracy: 0.43000000000000016\n",
      "epoch 11: accuracy: 0.4600000000000002\n",
      "epoch 12: accuracy: 0.4900000000000002\n",
      "epoch 13: accuracy: 0.5200000000000002\n",
      "epoch 14: accuracy: 0.5500000000000003\n",
      "epoch 15: accuracy: 0.5800000000000003\n",
      "epoch 16: accuracy: 0.6100000000000003\n",
      "epoch 17: accuracy: 0.6400000000000003\n",
      "epoch 18: accuracy: 0.6700000000000004\n",
      "epoch 19: accuracy: 0.7000000000000004\n",
      "epoch 20: accuracy: 0.6700000000000004\n",
      "epoch 21: accuracy: 0.6400000000000003\n",
      "epoch 22: accuracy: 0.6100000000000003\n",
      "epoch 23: accuracy: 0.5800000000000003\n",
      "epoch 24: accuracy: 0.5500000000000003\n",
      "epoch 25: accuracy: 0.5200000000000002\n",
      "epoch 26: accuracy: 0.4900000000000002\n",
      "epoch 27: accuracy: 0.4600000000000002\n",
      "epoch 28: accuracy: 0.43000000000000016\n",
      "epoch 29: accuracy: 0.40000000000000013\n",
      "current path: /mnt/athena/hpsearch/nbs/visualization\n",
      "fitting model with 30 epochs\n",
      "epoch 0: accuracy: 0.32999999999999996\n",
      "epoch 1: accuracy: 0.36\n",
      "epoch 2: accuracy: 0.39\n",
      "epoch 3: accuracy: 0.42000000000000004\n",
      "epoch 4: accuracy: 0.45000000000000007\n",
      "epoch 5: accuracy: 0.4800000000000001\n",
      "epoch 6: accuracy: 0.5100000000000001\n",
      "epoch 7: accuracy: 0.5400000000000001\n",
      "epoch 8: accuracy: 0.5700000000000002\n",
      "epoch 9: accuracy: 0.6000000000000002\n",
      "epoch 10: accuracy: 0.6300000000000002\n",
      "epoch 11: accuracy: 0.6600000000000003\n",
      "epoch 12: accuracy: 0.6900000000000003\n",
      "epoch 13: accuracy: 0.7200000000000003\n",
      "epoch 14: accuracy: 0.7500000000000003\n",
      "epoch 15: accuracy: 0.7800000000000004\n",
      "epoch 16: accuracy: 0.8100000000000004\n",
      "epoch 17: accuracy: 0.8400000000000004\n",
      "epoch 18: accuracy: 0.8700000000000004\n",
      "epoch 19: accuracy: 0.9000000000000005\n",
      "epoch 20: accuracy: 0.8700000000000004\n",
      "epoch 21: accuracy: 0.8400000000000004\n",
      "epoch 22: accuracy: 0.8100000000000004\n",
      "epoch 23: accuracy: 0.7800000000000004\n",
      "epoch 24: accuracy: 0.7500000000000003\n",
      "epoch 25: accuracy: 0.7200000000000003\n",
      "epoch 26: accuracy: 0.6900000000000003\n",
      "epoch 27: accuracy: 0.6600000000000003\n",
      "epoch 28: accuracy: 0.6300000000000002\n",
      "epoch 29: accuracy: 0.6000000000000002\n",
      "current path: /mnt/athena/hpsearch/nbs/visualization\n"
     ]
    },
    {
     "name": "stderr",
     "output_type": "stream",
     "text": [
      "running experiment 7\n",
      "run number: 1\n",
      "\n",
      "parameters:\n",
      "\tepochs=30,\n",
      "\tnoise=0.1,\n",
      "\toffset=0.3,\n",
      "\trate=0.03\n",
      "\n",
      "script: /mnt/athena/hpsearch/hpsearch/examples/dummy_experiment_manager.py, line number: 180\n",
      "time spent on this experiment: 0.0041351318359375\n",
      "1 - validation_accuracy: 0.6393940368753838\n",
      "1 - test_accuracy: 0.4275716725618324\n",
      "finished experiment 7\n",
      "processing hyper-parameter 7 out of 9\n",
      "doing run 2 out of 5\n",
      "fixed rate, multiple epochs values\n",
      "running experiment 7\n",
      "run number: 2\n",
      "\n",
      "parameters:\n",
      "\tepochs=30,\n",
      "\tnoise=0.1,\n",
      "\toffset=0.3,\n",
      "\trate=0.03\n",
      "\n",
      "script: /mnt/athena/hpsearch/hpsearch/examples/dummy_experiment_manager.py, line number: 180\n",
      "time spent on this experiment: 0.0035583972930908203\n",
      "2 - validation_accuracy: 0.5096522809914014\n",
      "2 - test_accuracy: 0.44376062880642747\n",
      "finished experiment 7\n",
      "processing hyper-parameter 7 out of 9\n",
      "doing run 3 out of 5\n",
      "fixed rate, multiple epochs values\n",
      "running experiment 7\n",
      "run number: 3\n",
      "\n",
      "parameters:\n",
      "\tepochs=30,\n",
      "\tnoise=0.1,\n",
      "\toffset=0.3,\n",
      "\trate=0.03\n",
      "\n",
      "script: /mnt/athena/hpsearch/hpsearch/examples/dummy_experiment_manager.py, line number: 180\n",
      "time spent on this experiment: 0.0037963390350341797\n",
      "3 - validation_accuracy: 0.4947972295452413\n",
      "3 - test_accuracy: 0.539888670247428\n",
      "finished experiment 7\n",
      "processing hyper-parameter 7 out of 9\n",
      "doing run 4 out of 5\n",
      "fixed rate, multiple epochs values\n"
     ]
    },
    {
     "name": "stdout",
     "output_type": "stream",
     "text": [
      "fitting model with 30 epochs\n",
      "epoch 0: accuracy: 0.32999999999999996\n",
      "epoch 1: accuracy: 0.36\n",
      "epoch 2: accuracy: 0.39\n",
      "epoch 3: accuracy: 0.42000000000000004\n",
      "epoch 4: accuracy: 0.45000000000000007\n",
      "epoch 5: accuracy: 0.4800000000000001\n",
      "epoch 6: accuracy: 0.5100000000000001\n",
      "epoch 7: accuracy: 0.5400000000000001\n",
      "epoch 8: accuracy: 0.5700000000000002\n",
      "epoch 9: accuracy: 0.6000000000000002\n",
      "epoch 10: accuracy: 0.6300000000000002\n",
      "epoch 11: accuracy: 0.6600000000000003\n",
      "epoch 12: accuracy: 0.6900000000000003\n",
      "epoch 13: accuracy: 0.7200000000000003\n",
      "epoch 14: accuracy: 0.7500000000000003\n",
      "epoch 15: accuracy: 0.7800000000000004\n",
      "epoch 16: accuracy: 0.8100000000000004\n",
      "epoch 17: accuracy: 0.8400000000000004\n",
      "epoch 18: accuracy: 0.8700000000000004\n",
      "epoch 19: accuracy: 0.9000000000000005\n",
      "epoch 20: accuracy: 0.8700000000000004\n",
      "epoch 21: accuracy: 0.8400000000000004\n",
      "epoch 22: accuracy: 0.8100000000000004\n",
      "epoch 23: accuracy: 0.7800000000000004\n",
      "epoch 24: accuracy: 0.7500000000000003\n",
      "epoch 25: accuracy: 0.7200000000000003\n",
      "epoch 26: accuracy: 0.6900000000000003\n",
      "epoch 27: accuracy: 0.6600000000000003\n",
      "epoch 28: accuracy: 0.6300000000000002\n",
      "epoch 29: accuracy: 0.6000000000000002\n",
      "current path: /mnt/athena/hpsearch/nbs/visualization\n",
      "fitting model with 30 epochs\n",
      "epoch 0: accuracy: 0.32999999999999996\n",
      "epoch 1: accuracy: 0.36\n",
      "epoch 2: accuracy: 0.39\n",
      "epoch 3: accuracy: 0.42000000000000004\n",
      "epoch 4: accuracy: 0.45000000000000007\n",
      "epoch 5: accuracy: 0.4800000000000001\n",
      "epoch 6: accuracy: 0.5100000000000001\n",
      "epoch 7: accuracy: 0.5400000000000001\n",
      "epoch 8: accuracy: 0.5700000000000002\n",
      "epoch 9: accuracy: 0.6000000000000002\n",
      "epoch 10: accuracy: 0.6300000000000002\n",
      "epoch 11: accuracy: 0.6600000000000003\n",
      "epoch 12: accuracy: 0.6900000000000003\n",
      "epoch 13: accuracy: 0.7200000000000003\n",
      "epoch 14: accuracy: 0.7500000000000003\n",
      "epoch 15: accuracy: 0.7800000000000004\n",
      "epoch 16: accuracy: 0.8100000000000004\n",
      "epoch 17: accuracy: 0.8400000000000004\n",
      "epoch 18: accuracy: 0.8700000000000004\n",
      "epoch 19: accuracy: 0.9000000000000005\n",
      "epoch 20: accuracy: 0.8700000000000004\n",
      "epoch 21: accuracy: 0.8400000000000004\n",
      "epoch 22: accuracy: 0.8100000000000004\n",
      "epoch 23: accuracy: 0.7800000000000004\n",
      "epoch 24: accuracy: 0.7500000000000003\n",
      "epoch 25: accuracy: 0.7200000000000003\n",
      "epoch 26: accuracy: 0.6900000000000003\n",
      "epoch 27: accuracy: 0.6600000000000003\n",
      "epoch 28: accuracy: 0.6300000000000002\n",
      "epoch 29: accuracy: 0.6000000000000002\n",
      "current path: /mnt/athena/hpsearch/nbs/visualization\n",
      "fitting model with 30 epochs\n",
      "epoch 0: accuracy: 0.32999999999999996\n",
      "epoch 1: accuracy: 0.36\n",
      "epoch 2: accuracy: 0.39\n",
      "epoch 3: accuracy: 0.42000000000000004\n",
      "epoch 4: accuracy: 0.45000000000000007\n",
      "epoch 5: accuracy: 0.4800000000000001\n",
      "epoch 6: accuracy: 0.5100000000000001\n",
      "epoch 7: accuracy: 0.5400000000000001\n",
      "epoch 8: accuracy: 0.5700000000000002\n",
      "epoch 9: accuracy: 0.6000000000000002\n",
      "epoch 10: accuracy: 0.6300000000000002\n",
      "epoch 11: accuracy: 0.6600000000000003\n",
      "epoch 12: accuracy: 0.6900000000000003\n",
      "epoch 13: accuracy: 0.7200000000000003\n",
      "epoch 14: accuracy: 0.7500000000000003\n",
      "epoch 15: accuracy: 0.7800000000000004\n",
      "epoch 16: accuracy: 0.8100000000000004\n",
      "epoch 17: accuracy: 0.8400000000000004\n",
      "epoch 18: accuracy: 0.8700000000000004\n",
      "epoch 19: accuracy: 0.9000000000000005\n",
      "epoch 20: accuracy: 0.8700000000000004\n",
      "epoch 21: accuracy: 0.8400000000000004\n",
      "epoch 22: accuracy: 0.8100000000000004\n",
      "epoch 23: accuracy: 0.7800000000000004\n",
      "epoch 24: accuracy: 0.7500000000000003\n",
      "epoch 25: accuracy: 0.7200000000000003\n",
      "epoch 26: accuracy: 0.6900000000000003\n",
      "epoch 27: accuracy: 0.6600000000000003\n",
      "epoch 28: accuracy: 0.6300000000000002\n",
      "epoch 29: accuracy: 0.6000000000000002\n",
      "current path: /mnt/athena/hpsearch/nbs/visualization\n"
     ]
    },
    {
     "name": "stderr",
     "output_type": "stream",
     "text": [
      "running experiment 7\n",
      "run number: 4\n",
      "\n",
      "parameters:\n",
      "\tepochs=30,\n",
      "\tnoise=0.1,\n",
      "\toffset=0.3,\n",
      "\trate=0.03\n",
      "\n",
      "script: /mnt/athena/hpsearch/hpsearch/examples/dummy_experiment_manager.py, line number: 180\n",
      "time spent on this experiment: 0.004287242889404297\n",
      "4 - validation_accuracy: 0.4114817454372518\n",
      "4 - test_accuracy: 0.3761258934816317\n",
      "finished experiment 7\n",
      "processing hyper-parameter 8 out of 9\n",
      "doing run 0 out of 5\n",
      "fixed rate, multiple epochs values\n",
      "running experiment 8\n",
      "run number: 0\n",
      "\n",
      "parameters:\n",
      "\tepochs=30,\n",
      "\tnoise=0.1,\n",
      "\toffset=0.6,\n",
      "\trate=0.03\n",
      "\n",
      "script: /mnt/athena/hpsearch/hpsearch/examples/dummy_experiment_manager.py, line number: 180\n",
      "time spent on this experiment: 0.0036923885345458984\n",
      "0 - validation_accuracy: 0.7319007035082885\n",
      "0 - test_accuracy: 0.8028149534318972\n",
      "finished experiment 8\n",
      "processing hyper-parameter 8 out of 9\n",
      "doing run 1 out of 5\n",
      "fixed rate, multiple epochs values\n",
      "running experiment 8\n",
      "run number: 1\n",
      "\n",
      "parameters:\n",
      "\tepochs=30,\n",
      "\tnoise=0.1,\n",
      "\toffset=0.6,\n",
      "\trate=0.03\n",
      "\n",
      "script: /mnt/athena/hpsearch/hpsearch/examples/dummy_experiment_manager.py, line number: 180\n",
      "time spent on this experiment: 0.003641366958618164\n",
      "1 - validation_accuracy: 0.8446965979463413\n",
      "1 - test_accuracy: 0.9044021849405182\n",
      "finished experiment 8\n",
      "processing hyper-parameter 8 out of 9\n",
      "doing run 2 out of 5\n",
      "fixed rate, multiple epochs values\n"
     ]
    },
    {
     "name": "stdout",
     "output_type": "stream",
     "text": [
      "fitting model with 30 epochs\n",
      "epoch 0: accuracy: 0.32999999999999996\n",
      "epoch 1: accuracy: 0.36\n",
      "epoch 2: accuracy: 0.39\n",
      "epoch 3: accuracy: 0.42000000000000004\n",
      "epoch 4: accuracy: 0.45000000000000007\n",
      "epoch 5: accuracy: 0.4800000000000001\n",
      "epoch 6: accuracy: 0.5100000000000001\n",
      "epoch 7: accuracy: 0.5400000000000001\n",
      "epoch 8: accuracy: 0.5700000000000002\n",
      "epoch 9: accuracy: 0.6000000000000002\n",
      "epoch 10: accuracy: 0.6300000000000002\n",
      "epoch 11: accuracy: 0.6600000000000003\n",
      "epoch 12: accuracy: 0.6900000000000003\n",
      "epoch 13: accuracy: 0.7200000000000003\n",
      "epoch 14: accuracy: 0.7500000000000003\n",
      "epoch 15: accuracy: 0.7800000000000004\n",
      "epoch 16: accuracy: 0.8100000000000004\n",
      "epoch 17: accuracy: 0.8400000000000004\n",
      "epoch 18: accuracy: 0.8700000000000004\n",
      "epoch 19: accuracy: 0.9000000000000005\n",
      "epoch 20: accuracy: 0.8700000000000004\n",
      "epoch 21: accuracy: 0.8400000000000004\n",
      "epoch 22: accuracy: 0.8100000000000004\n",
      "epoch 23: accuracy: 0.7800000000000004\n",
      "epoch 24: accuracy: 0.7500000000000003\n",
      "epoch 25: accuracy: 0.7200000000000003\n",
      "epoch 26: accuracy: 0.6900000000000003\n",
      "epoch 27: accuracy: 0.6600000000000003\n",
      "epoch 28: accuracy: 0.6300000000000002\n",
      "epoch 29: accuracy: 0.6000000000000002\n",
      "current path: /mnt/athena/hpsearch/nbs/visualization\n",
      "fitting model with 30 epochs\n",
      "epoch 0: accuracy: 0.63\n",
      "epoch 1: accuracy: 0.66\n",
      "epoch 2: accuracy: 0.6900000000000001\n",
      "epoch 3: accuracy: 0.7200000000000001\n",
      "epoch 4: accuracy: 0.7500000000000001\n",
      "epoch 5: accuracy: 0.7800000000000001\n",
      "epoch 6: accuracy: 0.8100000000000002\n",
      "epoch 7: accuracy: 0.8400000000000002\n",
      "epoch 8: accuracy: 0.8700000000000002\n",
      "epoch 9: accuracy: 0.9000000000000002\n",
      "epoch 10: accuracy: 0.9300000000000003\n",
      "epoch 11: accuracy: 0.9600000000000003\n",
      "epoch 12: accuracy: 0.9900000000000003\n",
      "epoch 13: accuracy: 1.0200000000000002\n",
      "epoch 14: accuracy: 1.0500000000000003\n",
      "epoch 15: accuracy: 1.0800000000000003\n",
      "epoch 16: accuracy: 1.1100000000000003\n",
      "epoch 17: accuracy: 1.1400000000000003\n",
      "epoch 18: accuracy: 1.1700000000000004\n",
      "epoch 19: accuracy: 1.2000000000000004\n",
      "epoch 20: accuracy: 1.1700000000000004\n",
      "epoch 21: accuracy: 1.1400000000000003\n",
      "epoch 22: accuracy: 1.1100000000000003\n",
      "epoch 23: accuracy: 1.0800000000000003\n",
      "epoch 24: accuracy: 1.0500000000000003\n",
      "epoch 25: accuracy: 1.0200000000000002\n",
      "epoch 26: accuracy: 0.9900000000000002\n",
      "epoch 27: accuracy: 0.9600000000000002\n",
      "epoch 28: accuracy: 0.9300000000000002\n",
      "epoch 29: accuracy: 0.9000000000000001\n",
      "current path: /mnt/athena/hpsearch/nbs/visualization\n",
      "fitting model with 30 epochs\n",
      "epoch 0: accuracy: 0.63\n",
      "epoch 1: accuracy: 0.66\n",
      "epoch 2: accuracy: 0.6900000000000001\n",
      "epoch 3: accuracy: 0.7200000000000001\n",
      "epoch 4: accuracy: 0.7500000000000001\n",
      "epoch 5: accuracy: 0.7800000000000001\n",
      "epoch 6: accuracy: 0.8100000000000002\n",
      "epoch 7: accuracy: 0.8400000000000002\n",
      "epoch 8: accuracy: 0.8700000000000002\n",
      "epoch 9: accuracy: 0.9000000000000002\n",
      "epoch 10: accuracy: 0.9300000000000003\n",
      "epoch 11: accuracy: 0.9600000000000003\n",
      "epoch 12: accuracy: 0.9900000000000003\n",
      "epoch 13: accuracy: 1.0200000000000002\n",
      "epoch 14: accuracy: 1.0500000000000003\n",
      "epoch 15: accuracy: 1.0800000000000003\n",
      "epoch 16: accuracy: 1.1100000000000003\n",
      "epoch 17: accuracy: 1.1400000000000003\n",
      "epoch 18: accuracy: 1.1700000000000004\n",
      "epoch 19: accuracy: 1.2000000000000004\n",
      "epoch 20: accuracy: 1.1700000000000004\n",
      "epoch 21: accuracy: 1.1400000000000003\n",
      "epoch 22: accuracy: 1.1100000000000003\n",
      "epoch 23: accuracy: 1.0800000000000003\n",
      "epoch 24: accuracy: 1.0500000000000003\n",
      "epoch 25: accuracy: 1.0200000000000002\n",
      "epoch 26: accuracy: 0.9900000000000002\n",
      "epoch 27: accuracy: 0.9600000000000002\n",
      "epoch 28: accuracy: 0.9300000000000002\n",
      "epoch 29: accuracy: 0.9000000000000001\n",
      "current path: /mnt/athena/hpsearch/nbs/visualization\n"
     ]
    },
    {
     "name": "stderr",
     "output_type": "stream",
     "text": [
      "running experiment 8\n",
      "run number: 2\n",
      "\n",
      "parameters:\n",
      "\tepochs=30,\n",
      "\tnoise=0.1,\n",
      "\toffset=0.6,\n",
      "\trate=0.03\n",
      "\n",
      "script: /mnt/athena/hpsearch/hpsearch/examples/dummy_experiment_manager.py, line number: 180\n",
      "time spent on this experiment: 0.0036764144897460938\n",
      "2 - validation_accuracy: 0.8395144655922936\n",
      "2 - test_accuracy: 0.8570047544578\n",
      "finished experiment 8\n",
      "processing hyper-parameter 8 out of 9\n",
      "doing run 3 out of 5\n",
      "fixed rate, multiple epochs values\n",
      "running experiment 8\n",
      "run number: 3\n",
      "\n",
      "parameters:\n",
      "\tepochs=30,\n",
      "\tnoise=0.1,\n",
      "\toffset=0.6,\n",
      "\trate=0.03\n",
      "\n",
      "script: /mnt/athena/hpsearch/hpsearch/examples/dummy_experiment_manager.py, line number: 180\n",
      "time spent on this experiment: 0.003947734832763672\n",
      "3 - validation_accuracy: 0.9742442141247202\n",
      "3 - test_accuracy: 0.8273460854237368\n",
      "finished experiment 8\n",
      "processing hyper-parameter 8 out of 9\n",
      "doing run 4 out of 5\n",
      "fixed rate, multiple epochs values\n",
      "running experiment 8\n",
      "run number: 4\n",
      "\n",
      "parameters:\n",
      "\tepochs=30,\n",
      "\tnoise=0.1,\n",
      "\toffset=0.6,\n",
      "\trate=0.03\n",
      "\n",
      "script: /mnt/athena/hpsearch/hpsearch/examples/dummy_experiment_manager.py, line number: 180\n",
      "time spent on this experiment: 0.004320383071899414\n",
      "4 - validation_accuracy: 0.9633114159358351\n",
      "4 - test_accuracy: 0.7701504726681038\n",
      "finished experiment 8\n"
     ]
    },
    {
     "name": "stdout",
     "output_type": "stream",
     "text": [
      "fitting model with 30 epochs\n",
      "epoch 0: accuracy: 0.63\n",
      "epoch 1: accuracy: 0.66\n",
      "epoch 2: accuracy: 0.6900000000000001\n",
      "epoch 3: accuracy: 0.7200000000000001\n",
      "epoch 4: accuracy: 0.7500000000000001\n",
      "epoch 5: accuracy: 0.7800000000000001\n",
      "epoch 6: accuracy: 0.8100000000000002\n",
      "epoch 7: accuracy: 0.8400000000000002\n",
      "epoch 8: accuracy: 0.8700000000000002\n",
      "epoch 9: accuracy: 0.9000000000000002\n",
      "epoch 10: accuracy: 0.9300000000000003\n",
      "epoch 11: accuracy: 0.9600000000000003\n",
      "epoch 12: accuracy: 0.9900000000000003\n",
      "epoch 13: accuracy: 1.0200000000000002\n",
      "epoch 14: accuracy: 1.0500000000000003\n",
      "epoch 15: accuracy: 1.0800000000000003\n",
      "epoch 16: accuracy: 1.1100000000000003\n",
      "epoch 17: accuracy: 1.1400000000000003\n",
      "epoch 18: accuracy: 1.1700000000000004\n",
      "epoch 19: accuracy: 1.2000000000000004\n",
      "epoch 20: accuracy: 1.1700000000000004\n",
      "epoch 21: accuracy: 1.1400000000000003\n",
      "epoch 22: accuracy: 1.1100000000000003\n",
      "epoch 23: accuracy: 1.0800000000000003\n",
      "epoch 24: accuracy: 1.0500000000000003\n",
      "epoch 25: accuracy: 1.0200000000000002\n",
      "epoch 26: accuracy: 0.9900000000000002\n",
      "epoch 27: accuracy: 0.9600000000000002\n",
      "epoch 28: accuracy: 0.9300000000000002\n",
      "epoch 29: accuracy: 0.9000000000000001\n",
      "current path: /mnt/athena/hpsearch/nbs/visualization\n",
      "fitting model with 30 epochs\n",
      "epoch 0: accuracy: 0.63\n",
      "epoch 1: accuracy: 0.66\n",
      "epoch 2: accuracy: 0.6900000000000001\n",
      "epoch 3: accuracy: 0.7200000000000001\n",
      "epoch 4: accuracy: 0.7500000000000001\n",
      "epoch 5: accuracy: 0.7800000000000001\n",
      "epoch 6: accuracy: 0.8100000000000002\n",
      "epoch 7: accuracy: 0.8400000000000002\n",
      "epoch 8: accuracy: 0.8700000000000002\n",
      "epoch 9: accuracy: 0.9000000000000002\n",
      "epoch 10: accuracy: 0.9300000000000003\n",
      "epoch 11: accuracy: 0.9600000000000003\n",
      "epoch 12: accuracy: 0.9900000000000003\n",
      "epoch 13: accuracy: 1.0200000000000002\n",
      "epoch 14: accuracy: 1.0500000000000003\n",
      "epoch 15: accuracy: 1.0800000000000003\n",
      "epoch 16: accuracy: 1.1100000000000003\n",
      "epoch 17: accuracy: 1.1400000000000003\n",
      "epoch 18: accuracy: 1.1700000000000004\n",
      "epoch 19: accuracy: 1.2000000000000004\n",
      "epoch 20: accuracy: 1.1700000000000004\n",
      "epoch 21: accuracy: 1.1400000000000003\n",
      "epoch 22: accuracy: 1.1100000000000003\n",
      "epoch 23: accuracy: 1.0800000000000003\n",
      "epoch 24: accuracy: 1.0500000000000003\n",
      "epoch 25: accuracy: 1.0200000000000002\n",
      "epoch 26: accuracy: 0.9900000000000002\n",
      "epoch 27: accuracy: 0.9600000000000002\n",
      "epoch 28: accuracy: 0.9300000000000002\n",
      "epoch 29: accuracy: 0.9000000000000001\n",
      "current path: /mnt/athena/hpsearch/nbs/visualization\n",
      "fitting model with 30 epochs\n",
      "epoch 0: accuracy: 0.63\n",
      "epoch 1: accuracy: 0.66\n",
      "epoch 2: accuracy: 0.6900000000000001\n",
      "epoch 3: accuracy: 0.7200000000000001\n",
      "epoch 4: accuracy: 0.7500000000000001\n",
      "epoch 5: accuracy: 0.7800000000000001\n",
      "epoch 6: accuracy: 0.8100000000000002\n",
      "epoch 7: accuracy: 0.8400000000000002\n",
      "epoch 8: accuracy: 0.8700000000000002\n",
      "epoch 9: accuracy: 0.9000000000000002\n",
      "epoch 10: accuracy: 0.9300000000000003\n",
      "epoch 11: accuracy: 0.9600000000000003\n",
      "epoch 12: accuracy: 0.9900000000000003\n",
      "epoch 13: accuracy: 1.0200000000000002\n",
      "epoch 14: accuracy: 1.0500000000000003\n",
      "epoch 15: accuracy: 1.0800000000000003\n",
      "epoch 16: accuracy: 1.1100000000000003\n",
      "epoch 17: accuracy: 1.1400000000000003\n",
      "epoch 18: accuracy: 1.1700000000000004\n",
      "epoch 19: accuracy: 1.2000000000000004\n",
      "epoch 20: accuracy: 1.1700000000000004\n",
      "epoch 21: accuracy: 1.1400000000000003\n",
      "epoch 22: accuracy: 1.1100000000000003\n",
      "epoch 23: accuracy: 1.0800000000000003\n",
      "epoch 24: accuracy: 1.0500000000000003\n",
      "epoch 25: accuracy: 1.0200000000000002\n",
      "epoch 26: accuracy: 0.9900000000000002\n",
      "epoch 27: accuracy: 0.9600000000000002\n",
      "epoch 28: accuracy: 0.9300000000000002\n",
      "epoch 29: accuracy: 0.9000000000000001\n",
      "current path: /mnt/athena/hpsearch/nbs/visualization"
     ]
    },
    {
     "name": "stderr",
     "output_type": "stream",
     "text": [
      "experiment script: /mnt/athena/hpsearch/hpsearch/examples/dummy_experiment_manager.py, line: 180\n",
      "processing hyper-parameter 0 out of 9\n",
      "doing run 0 out of 5\n",
      "fixed rate, multiple epochs values\n",
      "running experiment 9\n",
      "run number: 0\n",
      "\n",
      "parameters:\n",
      "\tepochs=5,\n",
      "\tnoise=0.1,\n",
      "\toffset=0.1,\n",
      "\trate=0.1\n",
      "\n",
      "script: /mnt/athena/hpsearch/hpsearch/examples/dummy_experiment_manager.py, line number: 180\n",
      "time spent on this experiment: 0.00099945068359375\n",
      "0 - validation_accuracy: 0.5881055924921881\n",
      "0 - test_accuracy: 0.566229870520842\n",
      "finished experiment 9\n",
      "processing hyper-parameter 0 out of 9\n",
      "doing run 1 out of 5\n",
      "fixed rate, multiple epochs values\n",
      "running experiment 9\n",
      "run number: 1\n",
      "\n",
      "parameters:\n",
      "\tepochs=5,\n",
      "\tnoise=0.1,\n",
      "\toffset=0.1,\n",
      "\trate=0.1\n",
      "\n",
      "script: /mnt/athena/hpsearch/hpsearch/examples/dummy_experiment_manager.py, line number: 180\n",
      "time spent on this experiment: 0.0009539127349853516\n",
      "1 - validation_accuracy: 0.420471888780363\n",
      "1 - test_accuracy: 0.7306124893807233\n",
      "finished experiment 9\n",
      "processing hyper-parameter 0 out of 9\n",
      "doing run 2 out of 5\n",
      "fixed rate, multiple epochs values\n",
      "running experiment 9\n",
      "run number: 2\n",
      "\n",
      "parameters:\n",
      "\tepochs=5,\n",
      "\tnoise=0.1,\n",
      "\toffset=0.1,\n",
      "\trate=0.1\n",
      "\n"
     ]
    },
    {
     "name": "stdout",
     "output_type": "stream",
     "text": [
      "\n",
      "current path: /mnt/athena/hpsearch/nbs/visualization\n",
      "fitting model with 5 epochs\n",
      "epoch 0: accuracy: 0.2\n",
      "epoch 1: accuracy: 0.30000000000000004\n",
      "epoch 2: accuracy: 0.4\n",
      "epoch 3: accuracy: 0.5\n",
      "epoch 4: accuracy: 0.6\n",
      "current path: /mnt/athena/hpsearch/nbs/visualization\n",
      "fitting model with 5 epochs\n",
      "epoch 0: accuracy: 0.2\n",
      "epoch 1: accuracy: 0.30000000000000004\n",
      "epoch 2: accuracy: 0.4\n",
      "epoch 3: accuracy: 0.5\n",
      "epoch 4: accuracy: 0.6\n",
      "current path: /mnt/athena/hpsearch/nbs/visualization\n"
     ]
    },
    {
     "name": "stderr",
     "output_type": "stream",
     "text": [
      "script: /mnt/athena/hpsearch/hpsearch/examples/dummy_experiment_manager.py, line number: 180\n",
      "time spent on this experiment: 0.0010454654693603516\n",
      "2 - validation_accuracy: 0.5697820666594738\n",
      "2 - test_accuracy: 0.7125051791835613\n",
      "finished experiment 9\n",
      "processing hyper-parameter 0 out of 9\n",
      "doing run 3 out of 5\n",
      "fixed rate, multiple epochs values\n",
      "running experiment 9\n",
      "run number: 3\n",
      "\n",
      "parameters:\n",
      "\tepochs=5,\n",
      "\tnoise=0.1,\n",
      "\toffset=0.1,\n",
      "\trate=0.1\n",
      "\n",
      "script: /mnt/athena/hpsearch/hpsearch/examples/dummy_experiment_manager.py, line number: 180\n",
      "time spent on this experiment: 0.0009591579437255859\n",
      "3 - validation_accuracy: 0.6610967375402188\n",
      "3 - test_accuracy: 0.7024544166347816\n",
      "finished experiment 9\n",
      "processing hyper-parameter 0 out of 9\n",
      "doing run 4 out of 5\n",
      "fixed rate, multiple epochs values\n",
      "running experiment 9\n",
      "run number: 4\n",
      "\n",
      "parameters:\n",
      "\tepochs=5,\n",
      "\tnoise=0.1,\n",
      "\toffset=0.1,\n",
      "\trate=0.1\n",
      "\n",
      "script: /mnt/athena/hpsearch/hpsearch/examples/dummy_experiment_manager.py, line number: 180\n",
      "time spent on this experiment: 0.0009989738464355469\n",
      "4 - validation_accuracy: 0.6730031374656285\n",
      "4 - test_accuracy: 0.8558216263458401\n",
      "finished experiment 9\n",
      "processing hyper-parameter 1 out of 9\n",
      "doing run 0 out of 5\n",
      "fixed rate, multiple epochs values\n"
     ]
    },
    {
     "name": "stdout",
     "output_type": "stream",
     "text": [
      "fitting model with 5 epochs\n",
      "epoch 0: accuracy: 0.2\n",
      "epoch 1: accuracy: 0.30000000000000004\n",
      "epoch 2: accuracy: 0.4\n",
      "epoch 3: accuracy: 0.5\n",
      "epoch 4: accuracy: 0.6\n",
      "current path: /mnt/athena/hpsearch/nbs/visualization\n",
      "fitting model with 5 epochs\n",
      "epoch 0: accuracy: 0.2\n",
      "epoch 1: accuracy: 0.30000000000000004\n",
      "epoch 2: accuracy: 0.4\n",
      "epoch 3: accuracy: 0.5\n",
      "epoch 4: accuracy: 0.6\n",
      "current path: /mnt/athena/hpsearch/nbs/visualization\n",
      "fitting model with 5 epochs\n",
      "epoch 0: accuracy: 0.2\n",
      "epoch 1: accuracy: 0.30000000000000004\n",
      "epoch 2: accuracy: 0.4\n",
      "epoch 3: accuracy: 0.5\n",
      "epoch 4: accuracy: 0.6\n",
      "current path: /mnt/athena/hpsearch/nbs/visualization\n"
     ]
    },
    {
     "name": "stderr",
     "output_type": "stream",
     "text": [
      "running experiment 10\n",
      "run number: 0\n",
      "\n",
      "parameters:\n",
      "\tepochs=5,\n",
      "\tnoise=0.1,\n",
      "\toffset=0.3,\n",
      "\trate=0.1\n",
      "\n",
      "script: /mnt/athena/hpsearch/hpsearch/examples/dummy_experiment_manager.py, line number: 180\n",
      "time spent on this experiment: 0.0010275840759277344\n",
      "0 - validation_accuracy: 0.8400796317512461\n",
      "0 - test_accuracy: 0.8829323437222805\n",
      "finished experiment 10\n",
      "processing hyper-parameter 1 out of 9\n",
      "doing run 1 out of 5\n",
      "fixed rate, multiple epochs values\n",
      "running experiment 10\n",
      "run number: 1\n",
      "\n",
      "parameters:\n",
      "\tepochs=5,\n",
      "\tnoise=0.1,\n",
      "\toffset=0.3,\n",
      "\trate=0.1\n",
      "\n",
      "script: /mnt/athena/hpsearch/hpsearch/examples/dummy_experiment_manager.py, line number: 180\n",
      "time spent on this experiment: 0.001039743423461914\n",
      "1 - validation_accuracy: 0.7876164149828687\n",
      "1 - test_accuracy: 1.0\n",
      "finished experiment 10\n",
      "processing hyper-parameter 1 out of 9\n",
      "doing run 2 out of 5\n",
      "fixed rate, multiple epochs values\n",
      "running experiment 10\n",
      "run number: 2\n",
      "\n",
      "parameters:\n",
      "\tepochs=5,\n",
      "\tnoise=0.1,\n",
      "\toffset=0.3,\n",
      "\trate=0.1\n",
      "\n",
      "script: /mnt/athena/hpsearch/hpsearch/examples/dummy_experiment_manager.py, line number: 180\n",
      "time spent on this experiment: 0.0010619163513183594\n",
      "2 - validation_accuracy: 0.886118182323862\n",
      "2 - test_accuracy: 0.8888110561660534\n",
      "finished experiment 10\n",
      "processing hyper-parameter 1 out of 9\n",
      "doing run 3 out of 5\n",
      "fixed rate, multiple epochs values\n"
     ]
    },
    {
     "name": "stdout",
     "output_type": "stream",
     "text": [
      "fitting model with 5 epochs\n",
      "epoch 0: accuracy: 0.4\n",
      "epoch 1: accuracy: 0.5\n",
      "epoch 2: accuracy: 0.6\n",
      "epoch 3: accuracy: 0.7\n",
      "epoch 4: accuracy: 0.7999999999999999\n",
      "current path: /mnt/athena/hpsearch/nbs/visualization\n",
      "fitting model with 5 epochs\n",
      "epoch 0: accuracy: 0.4\n",
      "epoch 1: accuracy: 0.5\n",
      "epoch 2: accuracy: 0.6\n",
      "epoch 3: accuracy: 0.7\n",
      "epoch 4: accuracy: 0.7999999999999999\n",
      "current path: /mnt/athena/hpsearch/nbs/visualization\n",
      "fitting model with 5 epochs\n",
      "epoch 0: accuracy: 0.4\n",
      "epoch 1: accuracy: 0.5\n",
      "epoch 2: accuracy: 0.6\n",
      "epoch 3: accuracy: 0.7\n",
      "epoch 4: accuracy: 0.7999999999999999\n",
      "current path: /mnt/athena/hpsearch/nbs/visualization\n"
     ]
    },
    {
     "name": "stderr",
     "output_type": "stream",
     "text": [
      "running experiment 10\n",
      "run number: 3\n",
      "\n",
      "parameters:\n",
      "\tepochs=5,\n",
      "\tnoise=0.1,\n",
      "\toffset=0.3,\n",
      "\trate=0.1\n",
      "\n",
      "script: /mnt/athena/hpsearch/hpsearch/examples/dummy_experiment_manager.py, line number: 180\n",
      "time spent on this experiment: 0.001146078109741211\n",
      "3 - validation_accuracy: 0.9222606503647068\n",
      "3 - test_accuracy: 0.7777313821266092\n",
      "finished experiment 10\n",
      "processing hyper-parameter 1 out of 9\n",
      "doing run 4 out of 5\n",
      "fixed rate, multiple epochs values\n",
      "running experiment 10\n",
      "run number: 4\n",
      "\n",
      "parameters:\n",
      "\tepochs=5,\n",
      "\tnoise=0.1,\n",
      "\toffset=0.3,\n",
      "\trate=0.1\n",
      "\n",
      "script: /mnt/athena/hpsearch/hpsearch/examples/dummy_experiment_manager.py, line number: 180\n",
      "time spent on this experiment: 0.0009522438049316406\n",
      "4 - validation_accuracy: 0.836106916103745\n",
      "4 - test_accuracy: 0.9952072707170627\n",
      "finished experiment 10\n",
      "processing hyper-parameter 2 out of 9\n",
      "doing run 0 out of 5\n",
      "fixed rate, multiple epochs values\n",
      "running experiment 11\n",
      "run number: 0\n",
      "\n",
      "parameters:\n",
      "\tepochs=5,\n",
      "\tnoise=0.1,\n",
      "\toffset=0.6,\n",
      "\trate=0.1\n",
      "\n",
      "script: /mnt/athena/hpsearch/hpsearch/examples/dummy_experiment_manager.py, line number: 180\n",
      "time spent on this experiment: 0.0011317729949951172\n",
      "0 - validation_accuracy: 0.9951568466361361\n",
      "0 - test_accuracy: 1.0\n",
      "finished experiment 11\n",
      "processing hyper-parameter 2 out of 9\n",
      "doing run 1 out of 5\n",
      "fixed rate, multiple epochs values\n"
     ]
    },
    {
     "name": "stdout",
     "output_type": "stream",
     "text": [
      "fitting model with 5 epochs\n",
      "epoch 0: accuracy: 0.4\n",
      "epoch 1: accuracy: 0.5\n",
      "epoch 2: accuracy: 0.6\n",
      "epoch 3: accuracy: 0.7\n",
      "epoch 4: accuracy: 0.7999999999999999\n",
      "current path: /mnt/athena/hpsearch/nbs/visualization\n",
      "fitting model with 5 epochs\n",
      "epoch 0: accuracy: 0.4\n",
      "epoch 1: accuracy: 0.5\n",
      "epoch 2: accuracy: 0.6\n",
      "epoch 3: accuracy: 0.7\n",
      "epoch 4: accuracy: 0.7999999999999999\n",
      "current path: /mnt/athena/hpsearch/nbs/visualization\n",
      "fitting model with 5 epochs\n",
      "epoch 0: accuracy: 0.7\n",
      "epoch 1: accuracy: 0.7999999999999999\n",
      "epoch 2: accuracy: 0.8999999999999999\n",
      "epoch 3: accuracy: 0.9999999999999999\n",
      "epoch 4: accuracy: 1.0999999999999999\n",
      "current path: /mnt/athena/hpsearch/nbs/visualization\n"
     ]
    },
    {
     "name": "stderr",
     "output_type": "stream",
     "text": [
      "running experiment 11\n",
      "run number: 1\n",
      "\n",
      "parameters:\n",
      "\tepochs=5,\n",
      "\tnoise=0.1,\n",
      "\toffset=0.6,\n",
      "\trate=0.1\n",
      "\n",
      "script: /mnt/athena/hpsearch/hpsearch/examples/dummy_experiment_manager.py, line number: 180\n",
      "time spent on this experiment: 0.0011098384857177734\n",
      "1 - validation_accuracy: 1.0\n",
      "1 - test_accuracy: 1.0\n",
      "finished experiment 11\n",
      "processing hyper-parameter 2 out of 9\n",
      "doing run 2 out of 5\n",
      "fixed rate, multiple epochs values\n",
      "running experiment 11\n",
      "run number: 2\n",
      "\n",
      "parameters:\n",
      "\tepochs=5,\n",
      "\tnoise=0.1,\n",
      "\toffset=0.6,\n",
      "\trate=0.1\n",
      "\n",
      "script: /mnt/athena/hpsearch/hpsearch/examples/dummy_experiment_manager.py, line number: 180\n",
      "time spent on this experiment: 0.0009329319000244141\n",
      "2 - validation_accuracy: 1.0\n",
      "2 - test_accuracy: 1.0\n",
      "finished experiment 11\n",
      "processing hyper-parameter 2 out of 9\n",
      "doing run 3 out of 5\n",
      "fixed rate, multiple epochs values\n",
      "running experiment 11\n",
      "run number: 3\n",
      "\n",
      "parameters:\n",
      "\tepochs=5,\n",
      "\tnoise=0.1,\n",
      "\toffset=0.6,\n",
      "\trate=0.1\n",
      "\n",
      "script: /mnt/athena/hpsearch/hpsearch/examples/dummy_experiment_manager.py, line number: 180\n",
      "time spent on this experiment: 0.0009951591491699219\n",
      "3 - validation_accuracy: 1.0\n",
      "3 - test_accuracy: 1.0\n",
      "finished experiment 11\n",
      "processing hyper-parameter 2 out of 9\n",
      "doing run 4 out of 5\n",
      "fixed rate, multiple epochs values\n"
     ]
    },
    {
     "name": "stdout",
     "output_type": "stream",
     "text": [
      "fitting model with 5 epochs\n",
      "epoch 0: accuracy: 0.7\n",
      "epoch 1: accuracy: 0.7999999999999999\n",
      "epoch 2: accuracy: 0.8999999999999999\n",
      "epoch 3: accuracy: 0.9999999999999999\n",
      "epoch 4: accuracy: 1.0999999999999999\n",
      "current path: /mnt/athena/hpsearch/nbs/visualization\n",
      "fitting model with 5 epochs\n",
      "epoch 0: accuracy: 0.7\n",
      "epoch 1: accuracy: 0.7999999999999999\n",
      "epoch 2: accuracy: 0.8999999999999999\n",
      "epoch 3: accuracy: 0.9999999999999999\n",
      "epoch 4: accuracy: 1.0999999999999999\n",
      "current path: /mnt/athena/hpsearch/nbs/visualization\n",
      "fitting model with 5 epochs\n",
      "epoch 0: accuracy: 0.7\n",
      "epoch 1: accuracy: 0.7999999999999999\n",
      "epoch 2: accuracy: 0.8999999999999999\n",
      "epoch 3: accuracy: 0.9999999999999999\n",
      "epoch 4: accuracy: 1.0999999999999999\n",
      "current path: /mnt/athena/hpsearch/nbs/visualization\n"
     ]
    },
    {
     "name": "stderr",
     "output_type": "stream",
     "text": [
      "running experiment 11\n",
      "run number: 4\n",
      "\n",
      "parameters:\n",
      "\tepochs=5,\n",
      "\tnoise=0.1,\n",
      "\toffset=0.6,\n",
      "\trate=0.1\n",
      "\n",
      "script: /mnt/athena/hpsearch/hpsearch/examples/dummy_experiment_manager.py, line number: 180\n",
      "time spent on this experiment: 0.0010154247283935547\n",
      "4 - validation_accuracy: 1.0\n",
      "4 - test_accuracy: 1.0\n",
      "finished experiment 11\n",
      "processing hyper-parameter 3 out of 9\n",
      "doing run 0 out of 5\n",
      "fixed rate, multiple epochs values\n",
      "running experiment 12\n",
      "run number: 0\n",
      "\n",
      "parameters:\n",
      "\tepochs=15,\n",
      "\tnoise=0.1,\n",
      "\toffset=0.1,\n",
      "\trate=0.1\n",
      "\n",
      "script: /mnt/athena/hpsearch/hpsearch/examples/dummy_experiment_manager.py, line number: 180\n",
      "time spent on this experiment: 0.0020189285278320312\n",
      "0 - validation_accuracy: 1.0\n",
      "0 - test_accuracy: 1.0\n",
      "finished experiment 12\n",
      "processing hyper-parameter 3 out of 9\n",
      "doing run 1 out of 5\n",
      "fixed rate, multiple epochs values\n",
      "running experiment 12\n",
      "run number: 1\n",
      "\n",
      "parameters:\n",
      "\tepochs=15,\n",
      "\tnoise=0.1,\n",
      "\toffset=0.1,\n",
      "\trate=0.1\n",
      "\n",
      "script: /mnt/athena/hpsearch/hpsearch/examples/dummy_experiment_manager.py, line number: 180\n",
      "time spent on this experiment: 0.0020601749420166016\n",
      "1 - validation_accuracy: 1.0\n",
      "1 - test_accuracy: 1.0\n",
      "finished experiment 12\n"
     ]
    },
    {
     "name": "stdout",
     "output_type": "stream",
     "text": [
      "fitting model with 5 epochs\n",
      "epoch 0: accuracy: 0.7\n",
      "epoch 1: accuracy: 0.7999999999999999\n",
      "epoch 2: accuracy: 0.8999999999999999\n",
      "epoch 3: accuracy: 0.9999999999999999\n",
      "epoch 4: accuracy: 1.0999999999999999\n",
      "current path: /mnt/athena/hpsearch/nbs/visualization\n",
      "fitting model with 15 epochs\n",
      "epoch 0: accuracy: 0.2\n",
      "epoch 1: accuracy: 0.30000000000000004\n",
      "epoch 2: accuracy: 0.4\n",
      "epoch 3: accuracy: 0.5\n",
      "epoch 4: accuracy: 0.6\n",
      "epoch 5: accuracy: 0.7\n",
      "epoch 6: accuracy: 0.7999999999999999\n",
      "epoch 7: accuracy: 0.8999999999999999\n",
      "epoch 8: accuracy: 0.9999999999999999\n",
      "epoch 9: accuracy: 1.0999999999999999\n",
      "epoch 10: accuracy: 1.2\n",
      "epoch 11: accuracy: 1.3\n",
      "epoch 12: accuracy: 1.4000000000000001\n",
      "epoch 13: accuracy: 1.5000000000000002\n",
      "epoch 14: accuracy: 1.6000000000000003\n",
      "current path: /mnt/athena/hpsearch/nbs/visualization\n",
      "fitting model with 15 epochs\n",
      "epoch 0: accuracy: 0.2\n",
      "epoch 1: accuracy: 0.30000000000000004\n",
      "epoch 2: accuracy: 0.4\n",
      "epoch 3: accuracy: 0.5\n",
      "epoch 4: accuracy: 0.6\n",
      "epoch 5: accuracy: 0.7\n",
      "epoch 6: accuracy: 0.7999999999999999\n",
      "epoch 7: accuracy: 0.8999999999999999\n",
      "epoch 8: accuracy: 0.9999999999999999\n",
      "epoch 9: accuracy: 1.0999999999999999\n",
      "epoch 10: accuracy: 1.2\n",
      "epoch 11: accuracy: 1.3\n",
      "epoch 12: accuracy: 1.4000000000000001\n",
      "epoch 13: accuracy: 1.5000000000000002\n",
      "epoch 14: accuracy: 1.6000000000000003\n"
     ]
    },
    {
     "name": "stderr",
     "output_type": "stream",
     "text": [
      "processing hyper-parameter 3 out of 9\n",
      "doing run 2 out of 5\n",
      "fixed rate, multiple epochs values\n",
      "running experiment 12\n",
      "run number: 2\n",
      "\n",
      "parameters:\n",
      "\tepochs=15,\n",
      "\tnoise=0.1,\n",
      "\toffset=0.1,\n",
      "\trate=0.1\n",
      "\n",
      "script: /mnt/athena/hpsearch/hpsearch/examples/dummy_experiment_manager.py, line number: 180\n",
      "time spent on this experiment: 0.0009264945983886719\n",
      "2 - validation_accuracy: 1.0\n",
      "2 - test_accuracy: 1.0\n",
      "finished experiment 12\n",
      "processing hyper-parameter 3 out of 9\n",
      "doing run 3 out of 5\n",
      "fixed rate, multiple epochs values\n",
      "running experiment 12\n",
      "run number: 3\n",
      "\n",
      "parameters:\n",
      "\tepochs=15,\n",
      "\tnoise=0.1,\n",
      "\toffset=0.1,\n",
      "\trate=0.1\n",
      "\n",
      "script: /mnt/athena/hpsearch/hpsearch/examples/dummy_experiment_manager.py, line number: 180\n",
      "time spent on this experiment: 0.002151012420654297\n",
      "3 - validation_accuracy: 1.0\n",
      "3 - test_accuracy: 1.0\n",
      "finished experiment 12\n",
      "processing hyper-parameter 3 out of 9\n",
      "doing run 4 out of 5\n",
      "fixed rate, multiple epochs values\n"
     ]
    },
    {
     "name": "stdout",
     "output_type": "stream",
     "text": [
      "current path: /mnt/athena/hpsearch/nbs/visualization\n",
      "fitting model with 15 epochs\n",
      "epoch 0: accuracy: 0.2\n",
      "epoch 1: accuracy: 0.30000000000000004\n",
      "epoch 2: accuracy: 0.4\n",
      "epoch 3: accuracy: 0.5\n",
      "epoch 4: accuracy: 0.6\n",
      "epoch 5: accuracy: 0.7\n",
      "epoch 6: accuracy: 0.7999999999999999\n",
      "epoch 7: accuracy: 0.8999999999999999\n",
      "epoch 8: accuracy: 0.9999999999999999\n",
      "epoch 9: accuracy: 1.0999999999999999\n",
      "epoch 10: accuracy: 1.2\n",
      "epoch 11: accuracy: 1.3\n",
      "epoch 12: accuracy: 1.4000000000000001\n",
      "epoch 13: accuracy: 1.5000000000000002\n",
      "epoch 14: accuracy: 1.6000000000000003\n",
      "current path: /mnt/athena/hpsearch/nbs/visualization\n",
      "fitting model with 15 epochs\n",
      "epoch 0: accuracy: 0.2\n",
      "epoch 1: accuracy: 0.30000000000000004\n",
      "epoch 2: accuracy: 0.4\n",
      "epoch 3: accuracy: 0.5\n",
      "epoch 4: accuracy: 0.6\n",
      "epoch 5: accuracy: 0.7\n",
      "epoch 6: accuracy: 0.7999999999999999\n",
      "epoch 7: accuracy: 0.8999999999999999\n",
      "epoch 8: accuracy: 0.9999999999999999\n",
      "epoch 9: accuracy: 1.0999999999999999\n",
      "epoch 10: accuracy: 1.2\n",
      "epoch 11: accuracy: 1.3\n",
      "epoch 12: accuracy: 1.4000000000000001\n",
      "epoch 13: accuracy: 1.5000000000000002\n",
      "epoch 14: accuracy: 1.6000000000000003\n",
      "current path: /mnt/athena/hpsearch/nbs/visualization\n"
     ]
    },
    {
     "name": "stderr",
     "output_type": "stream",
     "text": [
      "running experiment 12\n",
      "run number: 4\n",
      "\n",
      "parameters:\n",
      "\tepochs=15,\n",
      "\tnoise=0.1,\n",
      "\toffset=0.1,\n",
      "\trate=0.1\n",
      "\n",
      "script: /mnt/athena/hpsearch/hpsearch/examples/dummy_experiment_manager.py, line number: 180\n",
      "time spent on this experiment: 0.002122640609741211\n",
      "4 - validation_accuracy: 1.0\n",
      "4 - test_accuracy: 1.0\n",
      "finished experiment 12\n",
      "processing hyper-parameter 4 out of 9\n",
      "doing run 0 out of 5\n",
      "fixed rate, multiple epochs values\n",
      "running experiment 13\n",
      "run number: 0\n",
      "\n",
      "parameters:\n",
      "\tepochs=15,\n",
      "\tnoise=0.1,\n",
      "\toffset=0.3,\n",
      "\trate=0.1\n",
      "\n",
      "script: /mnt/athena/hpsearch/hpsearch/examples/dummy_experiment_manager.py, line number: 180\n",
      "time spent on this experiment: 0.0021686553955078125\n",
      "0 - validation_accuracy: 1.0\n",
      "0 - test_accuracy: 1.0\n",
      "finished experiment 13\n",
      "processing hyper-parameter 4 out of 9\n",
      "doing run 1 out of 5\n",
      "fixed rate, multiple epochs values\n",
      "running experiment 13\n",
      "run number: 1\n",
      "\n",
      "parameters:\n",
      "\tepochs=15,\n",
      "\tnoise=0.1,\n",
      "\toffset=0.3,\n",
      "\trate=0.1\n",
      "\n",
      "script: /mnt/athena/hpsearch/hpsearch/examples/dummy_experiment_manager.py, line number: 180\n",
      "time spent on this experiment: 0.0023097991943359375\n",
      "1 - validation_accuracy: 1.0\n",
      "1 - test_accuracy: 1.0\n"
     ]
    },
    {
     "name": "stdout",
     "output_type": "stream",
     "text": [
      "fitting model with 15 epochs\n",
      "epoch 0: accuracy: 0.2\n",
      "epoch 1: accuracy: 0.30000000000000004\n",
      "epoch 2: accuracy: 0.4\n",
      "epoch 3: accuracy: 0.5\n",
      "epoch 4: accuracy: 0.6\n",
      "epoch 5: accuracy: 0.7\n",
      "epoch 6: accuracy: 0.7999999999999999\n",
      "epoch 7: accuracy: 0.8999999999999999\n",
      "epoch 8: accuracy: 0.9999999999999999\n",
      "epoch 9: accuracy: 1.0999999999999999\n",
      "epoch 10: accuracy: 1.2\n",
      "epoch 11: accuracy: 1.3\n",
      "epoch 12: accuracy: 1.4000000000000001\n",
      "epoch 13: accuracy: 1.5000000000000002\n",
      "epoch 14: accuracy: 1.6000000000000003\n",
      "current path: /mnt/athena/hpsearch/nbs/visualization\n",
      "fitting model with 15 epochs\n",
      "epoch 0: accuracy: 0.4\n",
      "epoch 1: accuracy: 0.5\n",
      "epoch 2: accuracy: 0.6\n",
      "epoch 3: accuracy: 0.7\n",
      "epoch 4: accuracy: 0.7999999999999999\n",
      "epoch 5: accuracy: 0.8999999999999999\n",
      "epoch 6: accuracy: 0.9999999999999999\n",
      "epoch 7: accuracy: 1.0999999999999999\n",
      "epoch 8: accuracy: 1.2\n",
      "epoch 9: accuracy: 1.3\n",
      "epoch 10: accuracy: 1.4000000000000001\n",
      "epoch 11: accuracy: 1.5000000000000002\n",
      "epoch 12: accuracy: 1.6000000000000003\n",
      "epoch 13: accuracy: 1.7000000000000004\n",
      "epoch 14: accuracy: 1.8000000000000005\n",
      "current path: /mnt/athena/hpsearch/nbs/visualization\n",
      "fitting model with 15 epochs\n",
      "epoch 0: accuracy: 0.4\n",
      "epoch 1: accuracy: 0.5\n",
      "epoch 2: accuracy: 0.6\n",
      "epoch 3: accuracy: 0.7\n",
      "epoch 4: accuracy: 0.7999999999999999\n",
      "epoch 5: accuracy: 0.8999999999999999\n",
      "epoch 6: accuracy: 0.9999999999999999\n",
      "epoch 7: accuracy: 1.0999999999999999\n",
      "epoch 8: accuracy: 1.2\n",
      "epoch 9: accuracy: 1.3\n",
      "epoch 10: accuracy: 1.4000000000000001\n",
      "epoch 11: accuracy: 1.5000000000000002\n",
      "epoch 12: accuracy: 1.6000000000000003\n",
      "epoch 13: accuracy: 1.7000000000000004\n",
      "epoch 14: accuracy: 1.8000000000000005\n"
     ]
    },
    {
     "name": "stderr",
     "output_type": "stream",
     "text": [
      "finished experiment 13\n",
      "processing hyper-parameter 4 out of 9\n",
      "doing run 2 out of 5\n",
      "fixed rate, multiple epochs values\n",
      "running experiment 13\n",
      "run number: 2\n",
      "\n",
      "parameters:\n",
      "\tepochs=15,\n",
      "\tnoise=0.1,\n",
      "\toffset=0.3,\n",
      "\trate=0.1\n",
      "\n",
      "script: /mnt/athena/hpsearch/hpsearch/examples/dummy_experiment_manager.py, line number: 180\n",
      "time spent on this experiment: 0.0019600391387939453\n",
      "2 - validation_accuracy: 1.0\n",
      "2 - test_accuracy: 1.0\n",
      "finished experiment 13\n",
      "processing hyper-parameter 4 out of 9\n",
      "doing run 3 out of 5\n",
      "fixed rate, multiple epochs values\n",
      "running experiment 13\n",
      "run number: 3\n",
      "\n",
      "parameters:\n",
      "\tepochs=15,\n",
      "\tnoise=0.1,\n",
      "\toffset=0.3,\n",
      "\trate=0.1\n",
      "\n",
      "script: /mnt/athena/hpsearch/hpsearch/examples/dummy_experiment_manager.py, line number: 180\n",
      "time spent on this experiment: 0.0017104148864746094\n",
      "3 - validation_accuracy: 1.0\n",
      "3 - test_accuracy: 1.0\n",
      "finished experiment 13\n",
      "processing hyper-parameter 4 out of 9\n",
      "doing run 4 out of 5\n",
      "fixed rate, multiple epochs values\n"
     ]
    },
    {
     "name": "stdout",
     "output_type": "stream",
     "text": [
      "current path: /mnt/athena/hpsearch/nbs/visualization\n",
      "fitting model with 15 epochs\n",
      "epoch 0: accuracy: 0.4\n",
      "epoch 1: accuracy: 0.5\n",
      "epoch 2: accuracy: 0.6\n",
      "epoch 3: accuracy: 0.7\n",
      "epoch 4: accuracy: 0.7999999999999999\n",
      "epoch 5: accuracy: 0.8999999999999999\n",
      "epoch 6: accuracy: 0.9999999999999999\n",
      "epoch 7: accuracy: 1.0999999999999999\n",
      "epoch 8: accuracy: 1.2\n",
      "epoch 9: accuracy: 1.3\n",
      "epoch 10: accuracy: 1.4000000000000001\n",
      "epoch 11: accuracy: 1.5000000000000002\n",
      "epoch 12: accuracy: 1.6000000000000003\n",
      "epoch 13: accuracy: 1.7000000000000004\n",
      "epoch 14: accuracy: 1.8000000000000005\n",
      "current path: /mnt/athena/hpsearch/nbs/visualization\n",
      "fitting model with 15 epochs\n",
      "epoch 0: accuracy: 0.4\n",
      "epoch 1: accuracy: 0.5\n",
      "epoch 2: accuracy: 0.6\n",
      "epoch 3: accuracy: 0.7\n",
      "epoch 4: accuracy: 0.7999999999999999\n",
      "epoch 5: accuracy: 0.8999999999999999\n",
      "epoch 6: accuracy: 0.9999999999999999\n",
      "epoch 7: accuracy: 1.0999999999999999\n",
      "epoch 8: accuracy: 1.2\n",
      "epoch 9: accuracy: 1.3\n",
      "epoch 10: accuracy: 1.4000000000000001\n",
      "epoch 11: accuracy: 1.5000000000000002\n",
      "epoch 12: accuracy: 1.6000000000000003\n",
      "epoch 13: accuracy: 1.7000000000000004\n",
      "epoch 14: accuracy: 1.8000000000000005\n",
      "current path: /mnt/athena/hpsearch/nbs/visualization\n"
     ]
    },
    {
     "name": "stderr",
     "output_type": "stream",
     "text": [
      "running experiment 13\n",
      "run number: 4\n",
      "\n",
      "parameters:\n",
      "\tepochs=15,\n",
      "\tnoise=0.1,\n",
      "\toffset=0.3,\n",
      "\trate=0.1\n",
      "\n",
      "script: /mnt/athena/hpsearch/hpsearch/examples/dummy_experiment_manager.py, line number: 180\n",
      "time spent on this experiment: 0.002565622329711914\n",
      "4 - validation_accuracy: 1.0\n",
      "4 - test_accuracy: 1.0\n",
      "finished experiment 13\n",
      "processing hyper-parameter 5 out of 9\n",
      "doing run 0 out of 5\n",
      "fixed rate, multiple epochs values\n",
      "running experiment 14\n",
      "run number: 0\n",
      "\n",
      "parameters:\n",
      "\tepochs=15,\n",
      "\tnoise=0.1,\n",
      "\toffset=0.6,\n",
      "\trate=0.1\n",
      "\n",
      "script: /mnt/athena/hpsearch/hpsearch/examples/dummy_experiment_manager.py, line number: 180\n",
      "time spent on this experiment: 0.002004861831665039\n",
      "0 - validation_accuracy: 1.0\n",
      "0 - test_accuracy: 1.0\n",
      "finished experiment 14\n",
      "processing hyper-parameter 5 out of 9\n",
      "doing run 1 out of 5\n",
      "fixed rate, multiple epochs values\n",
      "running experiment 14\n",
      "run number: 1\n",
      "\n",
      "parameters:\n",
      "\tepochs=15,\n",
      "\tnoise=0.1,\n",
      "\toffset=0.6,\n",
      "\trate=0.1\n",
      "\n",
      "script: /mnt/athena/hpsearch/hpsearch/examples/dummy_experiment_manager.py, line number: 180\n",
      "time spent on this experiment: 0.002081632614135742\n",
      "1 - validation_accuracy: 1.0\n",
      "1 - test_accuracy: 1.0\n"
     ]
    },
    {
     "name": "stdout",
     "output_type": "stream",
     "text": [
      "fitting model with 15 epochs\n",
      "epoch 0: accuracy: 0.4\n",
      "epoch 1: accuracy: 0.5\n",
      "epoch 2: accuracy: 0.6\n",
      "epoch 3: accuracy: 0.7\n",
      "epoch 4: accuracy: 0.7999999999999999\n",
      "epoch 5: accuracy: 0.8999999999999999\n",
      "epoch 6: accuracy: 0.9999999999999999\n",
      "epoch 7: accuracy: 1.0999999999999999\n",
      "epoch 8: accuracy: 1.2\n",
      "epoch 9: accuracy: 1.3\n",
      "epoch 10: accuracy: 1.4000000000000001\n",
      "epoch 11: accuracy: 1.5000000000000002\n",
      "epoch 12: accuracy: 1.6000000000000003\n",
      "epoch 13: accuracy: 1.7000000000000004\n",
      "epoch 14: accuracy: 1.8000000000000005\n",
      "current path: /mnt/athena/hpsearch/nbs/visualization\n",
      "fitting model with 15 epochs\n",
      "epoch 0: accuracy: 0.7\n",
      "epoch 1: accuracy: 0.7999999999999999\n",
      "epoch 2: accuracy: 0.8999999999999999\n",
      "epoch 3: accuracy: 0.9999999999999999\n",
      "epoch 4: accuracy: 1.0999999999999999\n",
      "epoch 5: accuracy: 1.2\n",
      "epoch 6: accuracy: 1.3\n",
      "epoch 7: accuracy: 1.4000000000000001\n",
      "epoch 8: accuracy: 1.5000000000000002\n",
      "epoch 9: accuracy: 1.6000000000000003\n",
      "epoch 10: accuracy: 1.7000000000000004\n",
      "epoch 11: accuracy: 1.8000000000000005\n",
      "epoch 12: accuracy: 1.9000000000000006\n",
      "epoch 13: accuracy: 2.0000000000000004\n",
      "epoch 14: accuracy: 2.1000000000000005\n",
      "current path: /mnt/athena/hpsearch/nbs/visualization\n",
      "fitting model with 15 epochs\n",
      "epoch 0: accuracy: 0.7\n",
      "epoch 1: accuracy: 0.7999999999999999\n",
      "epoch 2: accuracy: 0.8999999999999999\n",
      "epoch 3: accuracy: 0.9999999999999999\n",
      "epoch 4: accuracy: 1.0999999999999999\n",
      "epoch 5: accuracy: 1.2\n",
      "epoch 6: accuracy: 1.3\n",
      "epoch 7: accuracy: 1.4000000000000001\n",
      "epoch 8: accuracy: 1.5000000000000002\n",
      "epoch 9: accuracy: 1.6000000000000003\n",
      "epoch 10: accuracy: 1.7000000000000004\n",
      "epoch 11: accuracy: 1.8000000000000005\n",
      "epoch 12: accuracy: 1.9000000000000006\n",
      "epoch 13: accuracy: 2.0000000000000004\n",
      "epoch 14: accuracy: 2.1000000000000005\n"
     ]
    },
    {
     "name": "stderr",
     "output_type": "stream",
     "text": [
      "finished experiment 14\n",
      "processing hyper-parameter 5 out of 9\n",
      "doing run 2 out of 5\n",
      "fixed rate, multiple epochs values\n",
      "running experiment 14\n",
      "run number: 2\n",
      "\n",
      "parameters:\n",
      "\tepochs=15,\n",
      "\tnoise=0.1,\n",
      "\toffset=0.6,\n",
      "\trate=0.1\n",
      "\n",
      "script: /mnt/athena/hpsearch/hpsearch/examples/dummy_experiment_manager.py, line number: 180\n",
      "time spent on this experiment: 0.00202178955078125\n",
      "2 - validation_accuracy: 1.0\n",
      "2 - test_accuracy: 1.0\n",
      "finished experiment 14\n",
      "processing hyper-parameter 5 out of 9\n",
      "doing run 3 out of 5\n",
      "fixed rate, multiple epochs values\n",
      "running experiment 14\n",
      "run number: 3\n",
      "\n",
      "parameters:\n",
      "\tepochs=15,\n",
      "\tnoise=0.1,\n",
      "\toffset=0.6,\n",
      "\trate=0.1\n",
      "\n",
      "script: /mnt/athena/hpsearch/hpsearch/examples/dummy_experiment_manager.py, line number: 180\n",
      "time spent on this experiment: 0.0023355484008789062\n",
      "3 - validation_accuracy: 1.0\n",
      "3 - test_accuracy: 1.0\n",
      "finished experiment 14\n",
      "processing hyper-parameter 5 out of 9\n",
      "doing run 4 out of 5\n",
      "fixed rate, multiple epochs values\n"
     ]
    },
    {
     "name": "stdout",
     "output_type": "stream",
     "text": [
      "current path: /mnt/athena/hpsearch/nbs/visualization\n",
      "fitting model with 15 epochs\n",
      "epoch 0: accuracy: 0.7\n",
      "epoch 1: accuracy: 0.7999999999999999\n",
      "epoch 2: accuracy: 0.8999999999999999\n",
      "epoch 3: accuracy: 0.9999999999999999\n",
      "epoch 4: accuracy: 1.0999999999999999\n",
      "epoch 5: accuracy: 1.2\n",
      "epoch 6: accuracy: 1.3\n",
      "epoch 7: accuracy: 1.4000000000000001\n",
      "epoch 8: accuracy: 1.5000000000000002\n",
      "epoch 9: accuracy: 1.6000000000000003\n",
      "epoch 10: accuracy: 1.7000000000000004\n",
      "epoch 11: accuracy: 1.8000000000000005\n",
      "epoch 12: accuracy: 1.9000000000000006\n",
      "epoch 13: accuracy: 2.0000000000000004\n",
      "epoch 14: accuracy: 2.1000000000000005\n",
      "current path: /mnt/athena/hpsearch/nbs/visualization\n",
      "fitting model with 15 epochs\n",
      "epoch 0: accuracy: 0.7\n",
      "epoch 1: accuracy: 0.7999999999999999\n",
      "epoch 2: accuracy: 0.8999999999999999\n",
      "epoch 3: accuracy: 0.9999999999999999\n",
      "epoch 4: accuracy: 1.0999999999999999\n",
      "epoch 5: accuracy: 1.2\n",
      "epoch 6: accuracy: 1.3\n",
      "epoch 7: accuracy: 1.4000000000000001\n",
      "epoch 8: accuracy: 1.5000000000000002\n",
      "epoch 9: accuracy: 1.6000000000000003\n",
      "epoch 10: accuracy: 1.7000000000000004\n",
      "epoch 11: accuracy: 1.8000000000000005\n",
      "epoch 12: accuracy: 1.9000000000000006\n",
      "epoch 13: accuracy: 2.0000000000000004\n",
      "epoch 14: accuracy: 2.1000000000000005\n",
      "current path: /mnt/athena/hpsearch/nbs/visualization\n"
     ]
    },
    {
     "name": "stderr",
     "output_type": "stream",
     "text": [
      "running experiment 14\n",
      "run number: 4\n",
      "\n",
      "parameters:\n",
      "\tepochs=15,\n",
      "\tnoise=0.1,\n",
      "\toffset=0.6,\n",
      "\trate=0.1\n",
      "\n",
      "script: /mnt/athena/hpsearch/hpsearch/examples/dummy_experiment_manager.py, line number: 180\n",
      "time spent on this experiment: 0.0020673274993896484\n",
      "4 - validation_accuracy: 1.0\n",
      "4 - test_accuracy: 1.0\n",
      "finished experiment 14\n",
      "processing hyper-parameter 6 out of 9\n",
      "doing run 0 out of 5\n",
      "fixed rate, multiple epochs values\n",
      "running experiment 15\n",
      "run number: 0\n",
      "\n",
      "parameters:\n",
      "\tepochs=30,\n",
      "\tnoise=0.1,\n",
      "\toffset=0.1,\n",
      "\trate=0.1\n",
      "\n",
      "script: /mnt/athena/hpsearch/hpsearch/examples/dummy_experiment_manager.py, line number: 180\n",
      "time spent on this experiment: 0.0029726028442382812\n",
      "0 - validation_accuracy: 1.0\n",
      "0 - test_accuracy: 0.8879746612500439\n",
      "finished experiment 15\n",
      "processing hyper-parameter 6 out of 9\n",
      "doing run 1 out of 5\n",
      "fixed rate, multiple epochs values\n",
      "running experiment 15\n",
      "run number: 1\n",
      "\n",
      "parameters:\n",
      "\tepochs=30,\n",
      "\tnoise=0.1,\n",
      "\toffset=0.1,\n",
      "\trate=0.1\n",
      "\n",
      "script: /mnt/athena/hpsearch/hpsearch/examples/dummy_experiment_manager.py, line number: 180\n",
      "time spent on this experiment: 0.0038077831268310547\n",
      "1 - validation_accuracy: 1.0\n"
     ]
    },
    {
     "name": "stdout",
     "output_type": "stream",
     "text": [
      "fitting model with 15 epochs\n",
      "epoch 0: accuracy: 0.7\n",
      "epoch 1: accuracy: 0.7999999999999999\n",
      "epoch 2: accuracy: 0.8999999999999999\n",
      "epoch 3: accuracy: 0.9999999999999999\n",
      "epoch 4: accuracy: 1.0999999999999999\n",
      "epoch 5: accuracy: 1.2\n",
      "epoch 6: accuracy: 1.3\n",
      "epoch 7: accuracy: 1.4000000000000001\n",
      "epoch 8: accuracy: 1.5000000000000002\n",
      "epoch 9: accuracy: 1.6000000000000003\n",
      "epoch 10: accuracy: 1.7000000000000004\n",
      "epoch 11: accuracy: 1.8000000000000005\n",
      "epoch 12: accuracy: 1.9000000000000006\n",
      "epoch 13: accuracy: 2.0000000000000004\n",
      "epoch 14: accuracy: 2.1000000000000005\n",
      "current path: /mnt/athena/hpsearch/nbs/visualization\n",
      "fitting model with 30 epochs\n",
      "epoch 0: accuracy: 0.2\n",
      "epoch 1: accuracy: 0.30000000000000004\n",
      "epoch 2: accuracy: 0.4\n",
      "epoch 3: accuracy: 0.5\n",
      "epoch 4: accuracy: 0.6\n",
      "epoch 5: accuracy: 0.7\n",
      "epoch 6: accuracy: 0.7999999999999999\n",
      "epoch 7: accuracy: 0.8999999999999999\n",
      "epoch 8: accuracy: 0.9999999999999999\n",
      "epoch 9: accuracy: 1.0999999999999999\n",
      "epoch 10: accuracy: 1.2\n",
      "epoch 11: accuracy: 1.3\n",
      "epoch 12: accuracy: 1.4000000000000001\n",
      "epoch 13: accuracy: 1.5000000000000002\n",
      "epoch 14: accuracy: 1.6000000000000003\n",
      "epoch 15: accuracy: 1.7000000000000004\n",
      "epoch 16: accuracy: 1.8000000000000005\n",
      "epoch 17: accuracy: 1.9000000000000006\n",
      "epoch 18: accuracy: 2.0000000000000004\n",
      "epoch 19: accuracy: 2.1000000000000005\n",
      "epoch 20: accuracy: 2.0000000000000004\n",
      "epoch 21: accuracy: 1.9000000000000004\n",
      "epoch 22: accuracy: 1.8000000000000003\n",
      "epoch 23: accuracy: 1.7000000000000002\n",
      "epoch 24: accuracy: 1.6\n",
      "epoch 25: accuracy: 1.5\n",
      "epoch 26: accuracy: 1.4\n",
      "epoch 27: accuracy: 1.2999999999999998\n",
      "epoch 28: accuracy: 1.1999999999999997\n",
      "epoch 29: accuracy: 1.0999999999999996\n",
      "current path: /mnt/athena/hpsearch/nbs/visualization\n",
      "fitting model with 30 epochs\n",
      "epoch 0: accuracy: 0.2\n",
      "epoch 1: accuracy: 0.30000000000000004\n",
      "epoch 2: accuracy: 0.4\n",
      "epoch 3: accuracy: 0.5\n",
      "epoch 4: accuracy: 0.6\n",
      "epoch 5: accuracy: 0.7\n",
      "epoch 6: accuracy: 0.7999999999999999\n",
      "epoch 7: accuracy: 0.8999999999999999\n",
      "epoch 8: accuracy: 0.9999999999999999\n",
      "epoch 9: accuracy: 1.0999999999999999\n",
      "epoch 10: accuracy: 1.2\n",
      "epoch 11: accuracy: 1.3\n",
      "epoch 12: accuracy: 1.4000000000000001\n",
      "epoch 13: accuracy: 1.5000000000000002\n",
      "epoch 14: accuracy: 1.6000000000000003\n",
      "epoch 15: accuracy: 1.7000000000000004\n",
      "epoch 16: accuracy: 1.8000000000000005\n",
      "epoch 17: accuracy: 1.9000000000000006\n",
      "epoch 18: accuracy: 2.0000000000000004\n",
      "epoch 19: accuracy: 2.1000000000000005\n",
      "epoch 20: accuracy: 2.0000000000000004\n",
      "epoch 21: accuracy: 1.9000000000000004\n",
      "epoch 22: accuracy: 1.8000000000000003\n",
      "epoch 23: accuracy: 1.7000000000000002\n",
      "epoch 24: accuracy: 1.6\n",
      "epoch 25: accuracy: 1.5\n",
      "epoch 26: accuracy: 1.4\n",
      "epoch 27: accuracy: 1.2999999999999998\n",
      "epoch 28: accuracy: 1.1999999999999997\n",
      "epoch 29: accuracy: 1.0999999999999996\n"
     ]
    },
    {
     "name": "stderr",
     "output_type": "stream",
     "text": [
      "1 - test_accuracy: 0.9674160974511479\n",
      "finished experiment 15\n",
      "processing hyper-parameter 6 out of 9\n",
      "doing run 2 out of 5\n",
      "fixed rate, multiple epochs values\n",
      "running experiment 15\n",
      "run number: 2\n",
      "\n",
      "parameters:\n",
      "\tepochs=30,\n",
      "\tnoise=0.1,\n",
      "\toffset=0.1,\n",
      "\trate=0.1\n",
      "\n",
      "script: /mnt/athena/hpsearch/hpsearch/examples/dummy_experiment_manager.py, line number: 180\n",
      "time spent on this experiment: 0.0039997100830078125\n",
      "2 - validation_accuracy: 1.0\n",
      "2 - test_accuracy: 1.0\n",
      "finished experiment 15\n",
      "processing hyper-parameter 6 out of 9\n",
      "doing run 3 out of 5\n",
      "fixed rate, multiple epochs values\n",
      "running experiment 15\n",
      "run number: 3\n",
      "\n",
      "parameters:\n",
      "\tepochs=30,\n",
      "\tnoise=0.1,\n",
      "\toffset=0.1,\n",
      "\trate=0.1\n",
      "\n",
      "script: /mnt/athena/hpsearch/hpsearch/examples/dummy_experiment_manager.py, line number: 180\n",
      "time spent on this experiment: 0.0034775733947753906\n",
      "3 - validation_accuracy: 1.0\n",
      "3 - test_accuracy: 0.892248582032179\n",
      "finished experiment 15\n",
      "processing hyper-parameter 6 out of 9\n",
      "doing run 4 out of 5\n",
      "fixed rate, multiple epochs values\n"
     ]
    },
    {
     "name": "stdout",
     "output_type": "stream",
     "text": [
      "current path: /mnt/athena/hpsearch/nbs/visualization\n",
      "fitting model with 30 epochs\n",
      "epoch 0: accuracy: 0.2\n",
      "epoch 1: accuracy: 0.30000000000000004\n",
      "epoch 2: accuracy: 0.4\n",
      "epoch 3: accuracy: 0.5\n",
      "epoch 4: accuracy: 0.6\n",
      "epoch 5: accuracy: 0.7\n",
      "epoch 6: accuracy: 0.7999999999999999\n",
      "epoch 7: accuracy: 0.8999999999999999\n",
      "epoch 8: accuracy: 0.9999999999999999\n",
      "epoch 9: accuracy: 1.0999999999999999\n",
      "epoch 10: accuracy: 1.2\n",
      "epoch 11: accuracy: 1.3\n",
      "epoch 12: accuracy: 1.4000000000000001\n",
      "epoch 13: accuracy: 1.5000000000000002\n",
      "epoch 14: accuracy: 1.6000000000000003\n",
      "epoch 15: accuracy: 1.7000000000000004\n",
      "epoch 16: accuracy: 1.8000000000000005\n",
      "epoch 17: accuracy: 1.9000000000000006\n",
      "epoch 18: accuracy: 2.0000000000000004\n",
      "epoch 19: accuracy: 2.1000000000000005\n",
      "epoch 20: accuracy: 2.0000000000000004\n",
      "epoch 21: accuracy: 1.9000000000000004\n",
      "epoch 22: accuracy: 1.8000000000000003\n",
      "epoch 23: accuracy: 1.7000000000000002\n",
      "epoch 24: accuracy: 1.6\n",
      "epoch 25: accuracy: 1.5\n",
      "epoch 26: accuracy: 1.4\n",
      "epoch 27: accuracy: 1.2999999999999998\n",
      "epoch 28: accuracy: 1.1999999999999997\n",
      "epoch 29: accuracy: 1.0999999999999996\n",
      "current path: /mnt/athena/hpsearch/nbs/visualization\n",
      "fitting model with 30 epochs\n",
      "epoch 0: accuracy: 0.2\n",
      "epoch 1: accuracy: 0.30000000000000004\n",
      "epoch 2: accuracy: 0.4\n",
      "epoch 3: accuracy: 0.5\n",
      "epoch 4: accuracy: 0.6\n",
      "epoch 5: accuracy: 0.7\n",
      "epoch 6: accuracy: 0.7999999999999999\n",
      "epoch 7: accuracy: 0.8999999999999999\n",
      "epoch 8: accuracy: 0.9999999999999999\n",
      "epoch 9: accuracy: 1.0999999999999999\n",
      "epoch 10: accuracy: 1.2\n",
      "epoch 11: accuracy: 1.3\n",
      "epoch 12: accuracy: 1.4000000000000001\n",
      "epoch 13: accuracy: 1.5000000000000002\n",
      "epoch 14: accuracy: 1.6000000000000003\n",
      "epoch 15: accuracy: 1.7000000000000004\n",
      "epoch 16: accuracy: 1.8000000000000005\n",
      "epoch 17: accuracy: 1.9000000000000006\n",
      "epoch 18: accuracy: 2.0000000000000004\n",
      "epoch 19: accuracy: 2.1000000000000005\n",
      "epoch 20: accuracy: 2.0000000000000004\n",
      "epoch 21: accuracy: 1.9000000000000004\n",
      "epoch 22: accuracy: 1.8000000000000003\n",
      "epoch 23: accuracy: 1.7000000000000002\n",
      "epoch 24: accuracy: 1.6\n",
      "epoch 25: accuracy: 1.5\n",
      "epoch 26: accuracy: 1.4\n",
      "epoch 27: accuracy: 1.2999999999999998\n",
      "epoch 28: accuracy: 1.1999999999999997\n",
      "epoch 29: accuracy: 1.0999999999999996\n",
      "current path: /mnt/athena/hpsearch/nbs/visualization\n"
     ]
    },
    {
     "name": "stderr",
     "output_type": "stream",
     "text": [
      "running experiment 15\n",
      "run number: 4\n",
      "\n",
      "parameters:\n",
      "\tepochs=30,\n",
      "\tnoise=0.1,\n",
      "\toffset=0.1,\n",
      "\trate=0.1\n",
      "\n",
      "script: /mnt/athena/hpsearch/hpsearch/examples/dummy_experiment_manager.py, line number: 180\n",
      "time spent on this experiment: 0.0036695003509521484\n",
      "4 - validation_accuracy: 1.0\n",
      "4 - test_accuracy: 0.9426325611045316\n",
      "finished experiment 15\n",
      "processing hyper-parameter 7 out of 9\n",
      "doing run 0 out of 5\n",
      "fixed rate, multiple epochs values\n",
      "running experiment 16\n",
      "run number: 0\n",
      "\n",
      "parameters:\n",
      "\tepochs=30,\n",
      "\tnoise=0.1,\n",
      "\toffset=0.3,\n",
      "\trate=0.1\n",
      "\n",
      "script: /mnt/athena/hpsearch/hpsearch/examples/dummy_experiment_manager.py, line number: 180\n",
      "time spent on this experiment: 0.0037026405334472656\n",
      "0 - validation_accuracy: 1.0\n",
      "0 - test_accuracy: 1.0\n",
      "finished experiment 16\n",
      "processing hyper-parameter 7 out of 9\n",
      "doing run 1 out of 5\n",
      "fixed rate, multiple epochs values\n",
      "running experiment 16\n",
      "run number: 1\n",
      "\n",
      "parameters:\n",
      "\tepochs=30,\n",
      "\tnoise=0.1,\n",
      "\toffset=0.3,\n",
      "\trate=0.1\n",
      "\n",
      "script: /mnt/athena/hpsearch/hpsearch/examples/dummy_experiment_manager.py, line number: 180\n"
     ]
    },
    {
     "name": "stdout",
     "output_type": "stream",
     "text": [
      "fitting model with 30 epochs\n",
      "epoch 0: accuracy: 0.2\n",
      "epoch 1: accuracy: 0.30000000000000004\n",
      "epoch 2: accuracy: 0.4\n",
      "epoch 3: accuracy: 0.5\n",
      "epoch 4: accuracy: 0.6\n",
      "epoch 5: accuracy: 0.7\n",
      "epoch 6: accuracy: 0.7999999999999999\n",
      "epoch 7: accuracy: 0.8999999999999999\n",
      "epoch 8: accuracy: 0.9999999999999999\n",
      "epoch 9: accuracy: 1.0999999999999999\n",
      "epoch 10: accuracy: 1.2\n",
      "epoch 11: accuracy: 1.3\n",
      "epoch 12: accuracy: 1.4000000000000001\n",
      "epoch 13: accuracy: 1.5000000000000002\n",
      "epoch 14: accuracy: 1.6000000000000003\n",
      "epoch 15: accuracy: 1.7000000000000004\n",
      "epoch 16: accuracy: 1.8000000000000005\n",
      "epoch 17: accuracy: 1.9000000000000006\n",
      "epoch 18: accuracy: 2.0000000000000004\n",
      "epoch 19: accuracy: 2.1000000000000005\n",
      "epoch 20: accuracy: 2.0000000000000004\n",
      "epoch 21: accuracy: 1.9000000000000004\n",
      "epoch 22: accuracy: 1.8000000000000003\n",
      "epoch 23: accuracy: 1.7000000000000002\n",
      "epoch 24: accuracy: 1.6\n",
      "epoch 25: accuracy: 1.5\n",
      "epoch 26: accuracy: 1.4\n",
      "epoch 27: accuracy: 1.2999999999999998\n",
      "epoch 28: accuracy: 1.1999999999999997\n",
      "epoch 29: accuracy: 1.0999999999999996\n",
      "current path: /mnt/athena/hpsearch/nbs/visualization\n",
      "fitting model with 30 epochs\n",
      "epoch 0: accuracy: 0.4\n",
      "epoch 1: accuracy: 0.5\n",
      "epoch 2: accuracy: 0.6\n",
      "epoch 3: accuracy: 0.7\n",
      "epoch 4: accuracy: 0.7999999999999999\n",
      "epoch 5: accuracy: 0.8999999999999999\n",
      "epoch 6: accuracy: 0.9999999999999999\n",
      "epoch 7: accuracy: 1.0999999999999999\n",
      "epoch 8: accuracy: 1.2\n",
      "epoch 9: accuracy: 1.3\n",
      "epoch 10: accuracy: 1.4000000000000001\n",
      "epoch 11: accuracy: 1.5000000000000002\n",
      "epoch 12: accuracy: 1.6000000000000003\n",
      "epoch 13: accuracy: 1.7000000000000004\n",
      "epoch 14: accuracy: 1.8000000000000005\n",
      "epoch 15: accuracy: 1.9000000000000006\n",
      "epoch 16: accuracy: 2.0000000000000004\n",
      "epoch 17: accuracy: 2.1000000000000005\n",
      "epoch 18: accuracy: 2.2000000000000006\n",
      "epoch 19: accuracy: 2.3000000000000007\n",
      "epoch 20: accuracy: 2.2000000000000006\n",
      "epoch 21: accuracy: 2.1000000000000005\n",
      "epoch 22: accuracy: 2.0000000000000004\n",
      "epoch 23: accuracy: 1.9000000000000004\n",
      "epoch 24: accuracy: 1.8000000000000003\n",
      "epoch 25: accuracy: 1.7000000000000002\n",
      "epoch 26: accuracy: 1.6\n",
      "epoch 27: accuracy: 1.5\n",
      "epoch 28: accuracy: 1.4\n",
      "epoch 29: accuracy: 1.2999999999999998\n",
      "current path: /mnt/athena/hpsearch/nbs/visualization\n",
      "fitting model with 30 epochs\n",
      "epoch 0: accuracy: 0.4\n",
      "epoch 1: accuracy: 0.5\n",
      "epoch 2: accuracy: 0.6\n",
      "epoch 3: accuracy: 0.7\n",
      "epoch 4: accuracy: 0.7999999999999999\n",
      "epoch 5: accuracy: 0.8999999999999999\n",
      "epoch 6: accuracy: 0.9999999999999999\n",
      "epoch 7: accuracy: 1.0999999999999999\n",
      "epoch 8: accuracy: 1.2\n",
      "epoch 9: accuracy: 1.3\n",
      "epoch 10: accuracy: 1.4000000000000001\n",
      "epoch 11: accuracy: 1.5000000000000002\n",
      "epoch 12: accuracy: 1.6000000000000003\n",
      "epoch 13: accuracy: 1.7000000000000004\n",
      "epoch 14: accuracy: 1.8000000000000005\n",
      "epoch 15: accuracy: 1.9000000000000006\n",
      "epoch 16: accuracy: 2.0000000000000004\n",
      "epoch 17: accuracy: 2.1000000000000005\n",
      "epoch 18: accuracy: 2.2000000000000006\n",
      "epoch 19: accuracy: 2.3000000000000007\n",
      "epoch 20: accuracy: 2.2000000000000006"
     ]
    },
    {
     "name": "stderr",
     "output_type": "stream",
     "text": [
      "time spent on this experiment: 0.0035419464111328125\n",
      "1 - validation_accuracy: 1.0\n",
      "1 - test_accuracy: 1.0\n",
      "finished experiment 16\n",
      "processing hyper-parameter 7 out of 9\n",
      "doing run 2 out of 5\n",
      "fixed rate, multiple epochs values\n",
      "running experiment 16\n",
      "run number: 2\n",
      "\n",
      "parameters:\n",
      "\tepochs=30,\n",
      "\tnoise=0.1,\n",
      "\toffset=0.3,\n",
      "\trate=0.1\n",
      "\n",
      "script: /mnt/athena/hpsearch/hpsearch/examples/dummy_experiment_manager.py, line number: 180\n",
      "time spent on this experiment: 0.0034606456756591797\n",
      "2 - validation_accuracy: 1.0\n",
      "2 - test_accuracy: 1.0\n",
      "finished experiment 16\n",
      "processing hyper-parameter 7 out of 9\n",
      "doing run 3 out of 5\n",
      "fixed rate, multiple epochs values\n",
      "running experiment 16\n",
      "run number: 3\n",
      "\n",
      "parameters:\n",
      "\tepochs=30,\n",
      "\tnoise=0.1,\n",
      "\toffset=0.3,\n",
      "\trate=0.1\n",
      "\n",
      "script: /mnt/athena/hpsearch/hpsearch/examples/dummy_experiment_manager.py, line number: 180\n",
      "time spent on this experiment: 0.003596782684326172\n",
      "3 - validation_accuracy: 1.0\n",
      "3 - test_accuracy: 1.0\n",
      "finished experiment 16\n"
     ]
    },
    {
     "name": "stdout",
     "output_type": "stream",
     "text": [
      "\n",
      "epoch 21: accuracy: 2.1000000000000005\n",
      "epoch 22: accuracy: 2.0000000000000004\n",
      "epoch 23: accuracy: 1.9000000000000004\n",
      "epoch 24: accuracy: 1.8000000000000003\n",
      "epoch 25: accuracy: 1.7000000000000002\n",
      "epoch 26: accuracy: 1.6\n",
      "epoch 27: accuracy: 1.5\n",
      "epoch 28: accuracy: 1.4\n",
      "epoch 29: accuracy: 1.2999999999999998\n",
      "current path: /mnt/athena/hpsearch/nbs/visualization\n",
      "fitting model with 30 epochs\n",
      "epoch 0: accuracy: 0.4\n",
      "epoch 1: accuracy: 0.5\n",
      "epoch 2: accuracy: 0.6\n",
      "epoch 3: accuracy: 0.7\n",
      "epoch 4: accuracy: 0.7999999999999999\n",
      "epoch 5: accuracy: 0.8999999999999999\n",
      "epoch 6: accuracy: 0.9999999999999999\n",
      "epoch 7: accuracy: 1.0999999999999999\n",
      "epoch 8: accuracy: 1.2\n",
      "epoch 9: accuracy: 1.3\n",
      "epoch 10: accuracy: 1.4000000000000001\n",
      "epoch 11: accuracy: 1.5000000000000002\n",
      "epoch 12: accuracy: 1.6000000000000003\n",
      "epoch 13: accuracy: 1.7000000000000004\n",
      "epoch 14: accuracy: 1.8000000000000005\n",
      "epoch 15: accuracy: 1.9000000000000006\n",
      "epoch 16: accuracy: 2.0000000000000004\n",
      "epoch 17: accuracy: 2.1000000000000005\n",
      "epoch 18: accuracy: 2.2000000000000006\n",
      "epoch 19: accuracy: 2.3000000000000007\n",
      "epoch 20: accuracy: 2.2000000000000006\n",
      "epoch 21: accuracy: 2.1000000000000005\n",
      "epoch 22: accuracy: 2.0000000000000004\n",
      "epoch 23: accuracy: 1.9000000000000004\n",
      "epoch 24: accuracy: 1.8000000000000003\n",
      "epoch 25: accuracy: 1.7000000000000002\n",
      "epoch 26: accuracy: 1.6\n",
      "epoch 27: accuracy: 1.5\n",
      "epoch 28: accuracy: 1.4\n",
      "epoch 29: accuracy: 1.2999999999999998\n",
      "current path: /mnt/athena/hpsearch/nbs/visualization\n",
      "fitting model with 30 epochs\n",
      "epoch 0: accuracy: 0.4\n",
      "epoch 1: accuracy: 0.5\n",
      "epoch 2: accuracy: 0.6\n",
      "epoch 3: accuracy: 0.7\n",
      "epoch 4: accuracy: 0.7999999999999999\n",
      "epoch 5: accuracy: 0.8999999999999999\n",
      "epoch 6: accuracy: 0.9999999999999999\n",
      "epoch 7: accuracy: 1.0999999999999999\n",
      "epoch 8: accuracy: 1.2\n",
      "epoch 9: accuracy: 1.3\n",
      "epoch 10: accuracy: 1.4000000000000001\n",
      "epoch 11: accuracy: 1.5000000000000002\n",
      "epoch 12: accuracy: 1.6000000000000003\n",
      "epoch 13: accuracy: 1.7000000000000004\n",
      "epoch 14: accuracy: 1.8000000000000005\n",
      "epoch 15: accuracy: 1.9000000000000006\n",
      "epoch 16: accuracy: 2.0000000000000004\n",
      "epoch 17: accuracy: 2.1000000000000005\n",
      "epoch 18: accuracy: 2.2000000000000006\n",
      "epoch 19: accuracy: 2.3000000000000007\n",
      "epoch 20: accuracy: 2.2000000000000006\n",
      "epoch 21: accuracy: 2.1000000000000005\n",
      "epoch 22: accuracy: 2.0000000000000004\n",
      "epoch 23: accuracy: 1.9000000000000004\n",
      "epoch 24: accuracy: 1.8000000000000003\n",
      "epoch 25: accuracy: 1.7000000000000002\n",
      "epoch 26: accuracy: 1.6\n",
      "epoch 27: accuracy: 1.5\n",
      "epoch 28: accuracy: 1.4\n",
      "epoch 29: accuracy: 1.2999999999999998\n"
     ]
    },
    {
     "name": "stderr",
     "output_type": "stream",
     "text": [
      "processing hyper-parameter 7 out of 9\n",
      "doing run 4 out of 5\n",
      "fixed rate, multiple epochs values\n",
      "running experiment 16\n",
      "run number: 4\n",
      "\n",
      "parameters:\n",
      "\tepochs=30,\n",
      "\tnoise=0.1,\n",
      "\toffset=0.3,\n",
      "\trate=0.1\n",
      "\n",
      "script: /mnt/athena/hpsearch/hpsearch/examples/dummy_experiment_manager.py, line number: 180\n",
      "time spent on this experiment: 0.003403902053833008\n",
      "4 - validation_accuracy: 1.0\n",
      "4 - test_accuracy: 1.0\n",
      "finished experiment 16\n",
      "processing hyper-parameter 8 out of 9\n",
      "doing run 0 out of 5\n",
      "fixed rate, multiple epochs values\n",
      "running experiment 17\n",
      "run number: 0\n",
      "\n",
      "parameters:\n",
      "\tepochs=30,\n",
      "\tnoise=0.1,\n",
      "\toffset=0.6,\n",
      "\trate=0.1\n",
      "\n",
      "script: /mnt/athena/hpsearch/hpsearch/examples/dummy_experiment_manager.py, line number: 180\n",
      "time spent on this experiment: 0.004008769989013672\n",
      "0 - validation_accuracy: 1.0\n",
      "0 - test_accuracy: 1.0\n",
      "finished experiment 17\n",
      "processing hyper-parameter 8 out of 9\n",
      "doing run 1 out of 5\n",
      "fixed rate, multiple epochs values\n"
     ]
    },
    {
     "name": "stdout",
     "output_type": "stream",
     "text": [
      "current path: /mnt/athena/hpsearch/nbs/visualization\n",
      "fitting model with 30 epochs\n",
      "epoch 0: accuracy: 0.4\n",
      "epoch 1: accuracy: 0.5\n",
      "epoch 2: accuracy: 0.6\n",
      "epoch 3: accuracy: 0.7\n",
      "epoch 4: accuracy: 0.7999999999999999\n",
      "epoch 5: accuracy: 0.8999999999999999\n",
      "epoch 6: accuracy: 0.9999999999999999\n",
      "epoch 7: accuracy: 1.0999999999999999\n",
      "epoch 8: accuracy: 1.2\n",
      "epoch 9: accuracy: 1.3\n",
      "epoch 10: accuracy: 1.4000000000000001\n",
      "epoch 11: accuracy: 1.5000000000000002\n",
      "epoch 12: accuracy: 1.6000000000000003\n",
      "epoch 13: accuracy: 1.7000000000000004\n",
      "epoch 14: accuracy: 1.8000000000000005\n",
      "epoch 15: accuracy: 1.9000000000000006\n",
      "epoch 16: accuracy: 2.0000000000000004\n",
      "epoch 17: accuracy: 2.1000000000000005\n",
      "epoch 18: accuracy: 2.2000000000000006\n",
      "epoch 19: accuracy: 2.3000000000000007\n",
      "epoch 20: accuracy: 2.2000000000000006\n",
      "epoch 21: accuracy: 2.1000000000000005\n",
      "epoch 22: accuracy: 2.0000000000000004\n",
      "epoch 23: accuracy: 1.9000000000000004\n",
      "epoch 24: accuracy: 1.8000000000000003\n",
      "epoch 25: accuracy: 1.7000000000000002\n",
      "epoch 26: accuracy: 1.6\n",
      "epoch 27: accuracy: 1.5\n",
      "epoch 28: accuracy: 1.4\n",
      "epoch 29: accuracy: 1.2999999999999998\n",
      "current path: /mnt/athena/hpsearch/nbs/visualization\n",
      "fitting model with 30 epochs\n",
      "epoch 0: accuracy: 0.7\n",
      "epoch 1: accuracy: 0.7999999999999999\n",
      "epoch 2: accuracy: 0.8999999999999999\n",
      "epoch 3: accuracy: 0.9999999999999999\n",
      "epoch 4: accuracy: 1.0999999999999999\n",
      "epoch 5: accuracy: 1.2\n",
      "epoch 6: accuracy: 1.3\n",
      "epoch 7: accuracy: 1.4000000000000001\n",
      "epoch 8: accuracy: 1.5000000000000002\n",
      "epoch 9: accuracy: 1.6000000000000003\n",
      "epoch 10: accuracy: 1.7000000000000004\n",
      "epoch 11: accuracy: 1.8000000000000005\n",
      "epoch 12: accuracy: 1.9000000000000006\n",
      "epoch 13: accuracy: 2.0000000000000004\n",
      "epoch 14: accuracy: 2.1000000000000005\n",
      "epoch 15: accuracy: 2.2000000000000006\n",
      "epoch 16: accuracy: 2.3000000000000007\n",
      "epoch 17: accuracy: 2.400000000000001\n",
      "epoch 18: accuracy: 2.500000000000001\n",
      "epoch 19: accuracy: 2.600000000000001\n",
      "epoch 20: accuracy: 2.500000000000001\n",
      "epoch 21: accuracy: 2.400000000000001\n",
      "epoch 22: accuracy: 2.3000000000000007\n",
      "epoch 23: accuracy: 2.2000000000000006\n",
      "epoch 24: accuracy: 2.1000000000000005\n",
      "epoch 25: accuracy: 2.0000000000000004\n",
      "epoch 26: accuracy: 1.9000000000000004\n",
      "epoch 27: accuracy: 1.8000000000000003\n",
      "epoch 28: accuracy: 1.7000000000000002\n",
      "epoch 29: accuracy: 1.6\n",
      "current path: /mnt/athena/hpsearch/nbs/visualization\n"
     ]
    },
    {
     "name": "stderr",
     "output_type": "stream",
     "text": [
      "running experiment 17\n",
      "run number: 1\n",
      "\n",
      "parameters:\n",
      "\tepochs=30,\n",
      "\tnoise=0.1,\n",
      "\toffset=0.6,\n",
      "\trate=0.1\n",
      "\n",
      "script: /mnt/athena/hpsearch/hpsearch/examples/dummy_experiment_manager.py, line number: 180\n",
      "time spent on this experiment: 0.0037534236907958984\n",
      "1 - validation_accuracy: 1.0\n",
      "1 - test_accuracy: 1.0\n",
      "finished experiment 17\n",
      "processing hyper-parameter 8 out of 9\n",
      "doing run 2 out of 5\n",
      "fixed rate, multiple epochs values\n",
      "running experiment 17\n",
      "run number: 2\n",
      "\n",
      "parameters:\n",
      "\tepochs=30,\n",
      "\tnoise=0.1,\n",
      "\toffset=0.6,\n",
      "\trate=0.1\n",
      "\n",
      "script: /mnt/athena/hpsearch/hpsearch/examples/dummy_experiment_manager.py, line number: 180\n",
      "time spent on this experiment: 0.0008330345153808594\n",
      "2 - validation_accuracy: 1.0\n",
      "2 - test_accuracy: 1.0\n",
      "finished experiment 17\n",
      "processing hyper-parameter 8 out of 9\n",
      "doing run 3 out of 5\n",
      "fixed rate, multiple epochs values\n",
      "running experiment 17\n",
      "run number: 3\n",
      "\n",
      "parameters:\n",
      "\tepochs=30,\n",
      "\tnoise=0.1,\n",
      "\toffset=0.6,\n",
      "\trate=0.1\n",
      "\n",
      "script: /mnt/athena/hpsearch/hpsearch/examples/dummy_experiment_manager.py, line number: 180\n",
      "time spent on this experiment: 0.0035812854766845703\n",
      "3 - validation_accuracy: 1.0\n",
      "3 - test_accuracy: 1.0\n"
     ]
    },
    {
     "name": "stdout",
     "output_type": "stream",
     "text": [
      "fitting model with 30 epochs\n",
      "epoch 0: accuracy: 0.7\n",
      "epoch 1: accuracy: 0.7999999999999999\n",
      "epoch 2: accuracy: 0.8999999999999999\n",
      "epoch 3: accuracy: 0.9999999999999999\n",
      "epoch 4: accuracy: 1.0999999999999999\n",
      "epoch 5: accuracy: 1.2\n",
      "epoch 6: accuracy: 1.3\n",
      "epoch 7: accuracy: 1.4000000000000001\n",
      "epoch 8: accuracy: 1.5000000000000002\n",
      "epoch 9: accuracy: 1.6000000000000003\n",
      "epoch 10: accuracy: 1.7000000000000004\n",
      "epoch 11: accuracy: 1.8000000000000005\n",
      "epoch 12: accuracy: 1.9000000000000006\n",
      "epoch 13: accuracy: 2.0000000000000004\n",
      "epoch 14: accuracy: 2.1000000000000005\n",
      "epoch 15: accuracy: 2.2000000000000006\n",
      "epoch 16: accuracy: 2.3000000000000007\n",
      "epoch 17: accuracy: 2.400000000000001\n",
      "epoch 18: accuracy: 2.500000000000001\n",
      "epoch 19: accuracy: 2.600000000000001\n",
      "epoch 20: accuracy: 2.500000000000001\n",
      "epoch 21: accuracy: 2.400000000000001\n",
      "epoch 22: accuracy: 2.3000000000000007\n",
      "epoch 23: accuracy: 2.2000000000000006\n",
      "epoch 24: accuracy: 2.1000000000000005\n",
      "epoch 25: accuracy: 2.0000000000000004\n",
      "epoch 26: accuracy: 1.9000000000000004\n",
      "epoch 27: accuracy: 1.8000000000000003\n",
      "epoch 28: accuracy: 1.7000000000000002\n",
      "epoch 29: accuracy: 1.6\n",
      "current path: /mnt/athena/hpsearch/nbs/visualization\n",
      "fitting model with 30 epochs\n",
      "epoch 0: accuracy: 0.7\n",
      "epoch 1: accuracy: 0.7999999999999999\n",
      "epoch 2: accuracy: 0.8999999999999999\n",
      "epoch 3: accuracy: 0.9999999999999999\n",
      "epoch 4: accuracy: 1.0999999999999999\n",
      "epoch 5: accuracy: 1.2\n",
      "epoch 6: accuracy: 1.3\n",
      "epoch 7: accuracy: 1.4000000000000001\n",
      "epoch 8: accuracy: 1.5000000000000002\n",
      "epoch 9: accuracy: 1.6000000000000003\n",
      "epoch 10: accuracy: 1.7000000000000004\n",
      "epoch 11: accuracy: 1.8000000000000005\n",
      "epoch 12: accuracy: 1.9000000000000006\n",
      "epoch 13: accuracy: 2.0000000000000004\n",
      "epoch 14: accuracy: 2.1000000000000005\n",
      "epoch 15: accuracy: 2.2000000000000006\n",
      "epoch 16: accuracy: 2.3000000000000007\n",
      "epoch 17: accuracy: 2.400000000000001\n",
      "epoch 18: accuracy: 2.500000000000001\n",
      "epoch 19: accuracy: 2.600000000000001\n",
      "epoch 20: accuracy: 2.500000000000001\n",
      "epoch 21: accuracy: 2.400000000000001\n",
      "epoch 22: accuracy: 2.3000000000000007\n",
      "epoch 23: accuracy: 2.2000000000000006\n",
      "epoch 24: accuracy: 2.1000000000000005\n",
      "epoch 25: accuracy: 2.0000000000000004\n",
      "epoch 26: accuracy: 1.9000000000000004\n",
      "epoch 27: accuracy: 1.8000000000000003\n",
      "epoch 28: accuracy: 1.7000000000000002\n",
      "epoch 29: accuracy: 1.6\n",
      "current path: /mnt/athena/hpsearch/nbs/visualization\n",
      "fitting model with 30 epochs\n",
      "epoch 0: accuracy: 0.7\n",
      "epoch 1: accuracy: 0.7999999999999999\n",
      "epoch 2: accuracy: 0.8999999999999999\n",
      "epoch 3: accuracy: 0.9999999999999999\n",
      "epoch 4: accuracy: 1.0999999999999999\n",
      "epoch 5: accuracy: 1.2\n",
      "epoch 6: accuracy: 1.3\n",
      "epoch 7: accuracy: 1.4000000000000001\n",
      "epoch 8: accuracy: 1.5000000000000002\n",
      "epoch 9: accuracy: 1.6000000000000003\n",
      "epoch 10: accuracy: 1.7000000000000004\n",
      "epoch 11: accuracy: 1.8000000000000005\n",
      "epoch 12: accuracy: 1.9000000000000006\n",
      "epoch 13: accuracy: 2.0000000000000004\n",
      "epoch 14: accuracy: 2.1000000000000005\n",
      "epoch 15: accuracy: 2.2000000000000006\n",
      "epoch 16: accuracy: 2.3000000000000007\n",
      "epoch 17: accuracy: 2.400000000000001\n",
      "epoch 18: accuracy: 2.500000000000001\n",
      "epoch 19: accuracy: 2.600000000000001\n",
      "epoch 20: accuracy: 2.500000000000001\n",
      "epoch 21: accuracy: 2.400000000000001\n",
      "epoch 22: accuracy: 2.3000000000000007\n",
      "epoch 23: accuracy: 2.2000000000000006\n",
      "epoch 24: accuracy: 2.1000000000000005\n",
      "epoch 25: accuracy: 2.0000000000000004\n",
      "epoch 26: accuracy: 1.9000000000000004\n",
      "epoch 27: accuracy: 1.8000000000000003\n",
      "epoch 28: accuracy: 1.7000000000000002\n",
      "epoch 29: accuracy: 1.6\n"
     ]
    },
    {
     "name": "stderr",
     "output_type": "stream",
     "text": [
      "finished experiment 17\n",
      "processing hyper-parameter 8 out of 9\n",
      "doing run 4 out of 5\n",
      "fixed rate, multiple epochs values\n",
      "running experiment 17\n",
      "run number: 4\n",
      "\n",
      "parameters:\n",
      "\tepochs=30,\n",
      "\tnoise=0.1,\n",
      "\toffset=0.6,\n",
      "\trate=0.1\n",
      "\n",
      "script: /mnt/athena/hpsearch/hpsearch/examples/dummy_experiment_manager.py, line number: 180\n",
      "time spent on this experiment: 0.0040247440338134766\n",
      "4 - validation_accuracy: 1.0\n",
      "4 - test_accuracy: 1.0\n",
      "finished experiment 17\n"
     ]
    },
    {
     "name": "stdout",
     "output_type": "stream",
     "text": [
      "current path: /mnt/athena/hpsearch/nbs/visualization\n",
      "fitting model with 30 epochs\n",
      "epoch 0: accuracy: 0.7\n",
      "epoch 1: accuracy: 0.7999999999999999\n",
      "epoch 2: accuracy: 0.8999999999999999\n",
      "epoch 3: accuracy: 0.9999999999999999\n",
      "epoch 4: accuracy: 1.0999999999999999\n",
      "epoch 5: accuracy: 1.2\n",
      "epoch 6: accuracy: 1.3\n",
      "epoch 7: accuracy: 1.4000000000000001\n",
      "epoch 8: accuracy: 1.5000000000000002\n",
      "epoch 9: accuracy: 1.6000000000000003\n",
      "epoch 10: accuracy: 1.7000000000000004\n",
      "epoch 11: accuracy: 1.8000000000000005\n",
      "epoch 12: accuracy: 1.9000000000000006\n",
      "epoch 13: accuracy: 2.0000000000000004\n",
      "epoch 14: accuracy: 2.1000000000000005\n",
      "epoch 15: accuracy: 2.2000000000000006\n",
      "epoch 16: accuracy: 2.3000000000000007\n",
      "epoch 17: accuracy: 2.400000000000001\n",
      "epoch 18: accuracy: 2.500000000000001\n",
      "epoch 19: accuracy: 2.600000000000001\n",
      "epoch 20: accuracy: 2.500000000000001\n",
      "epoch 21: accuracy: 2.400000000000001\n",
      "epoch 22: accuracy: 2.3000000000000007\n",
      "epoch 23: accuracy: 2.2000000000000006\n",
      "epoch 24: accuracy: 2.1000000000000005\n",
      "epoch 25: accuracy: 2.0000000000000004\n",
      "epoch 26: accuracy: 1.9000000000000004\n",
      "epoch 27: accuracy: 1.8000000000000003\n",
      "epoch 28: accuracy: 1.7000000000000002\n",
      "epoch 29: accuracy: 1.6\n"
     ]
    }
   ],
   "source": [
    "#collapse_output\n",
    "from hpsearch.examples.dummy_experiment_manager import remove_previous_experiments, run_multiple_experiments\n",
    "\n",
    "remove_previous_experiments()\n",
    "run_multiple_experiments(nruns=5, noise=0.1)\n",
    "run_multiple_experiments(nruns=5, noise=0.1, rate = 0.1)"
   ]
  },
  {
   "cell_type": "markdown",
   "metadata": {},
   "source": [
    "### Usage examples\n",
    "\n",
    "Plot all the metrics that have been stored in model_history"
   ]
  },
  {
   "cell_type": "code",
   "execution_count": null,
   "metadata": {},
   "outputs": [
    {
     "data": {
      "image/png": "[encoded data removed]",
      "text/plain": [
       "<Figure size 1440x720 with 1 Axes>"
      ]
     },
     "metadata": {
      "needs_background": "light"
     },
     "output_type": "display_data"
    },
    {
     "data": {
      "text/html": [
       "<div>\n",
       "<style scoped>\n",
       "    .dataframe tbody tr th:only-of-type {\n",
       "        vertical-align: middle;\n",
       "    }\n",
       "\n",
       "    .dataframe tbody tr th {\n",
       "        vertical-align: top;\n",
       "    }\n",
       "\n",
       "    .dataframe thead th {\n",
       "        text-align: right;\n",
       "    }\n",
       "</style>\n",
       "<table border=\"1\" class=\"dataframe\">\n",
       "  <thead>\n",
       "    <tr style=\"text-align: right;\">\n",
       "      <th></th>\n",
       "      <th>offset</th>\n",
       "      <th>rate</th>\n",
       "      <th>validation_accuracy</th>\n",
       "    </tr>\n",
       "  </thead>\n",
       "  <tbody>\n",
       "    <tr>\n",
       "      <th>8</th>\n",
       "      <td>0.6</td>\n",
       "      <td>0.03</td>\n",
       "      <td>1.0</td>\n",
       "    </tr>\n",
       "    <tr>\n",
       "      <th>16</th>\n",
       "      <td>0.3</td>\n",
       "      <td>0.10</td>\n",
       "      <td>1.0</td>\n",
       "    </tr>\n",
       "  </tbody>\n",
       "</table>\n",
       "</div>"
      ],
      "text/plain": [
       "    offset  rate  validation_accuracy\n",
       "8      0.6  0.03                  1.0\n",
       "16     0.3  0.10                  1.0"
      ]
     },
     "metadata": {},
     "output_type": "display_data"
    },
    {
     "data": {
      "image/png": "[encoded data removed]",
      "text/plain": [
       "<Figure size 1440x720 with 1 Axes>"
      ]
     },
     "metadata": {
      "needs_background": "light"
     },
     "output_type": "display_data"
    },
    {
     "data": {
      "text/html": [
       "<div>\n",
       "<style scoped>\n",
       "    .dataframe tbody tr th:only-of-type {\n",
       "        vertical-align: middle;\n",
       "    }\n",
       "\n",
       "    .dataframe tbody tr th {\n",
       "        vertical-align: top;\n",
       "    }\n",
       "\n",
       "    .dataframe thead th {\n",
       "        text-align: right;\n",
       "    }\n",
       "</style>\n",
       "<table border=\"1\" class=\"dataframe\">\n",
       "  <thead>\n",
       "    <tr style=\"text-align: right;\">\n",
       "      <th></th>\n",
       "      <th>offset</th>\n",
       "      <th>rate</th>\n",
       "      <th>validation_accuracy</th>\n",
       "      <th>test_accuracy</th>\n",
       "    </tr>\n",
       "  </thead>\n",
       "  <tbody>\n",
       "    <tr>\n",
       "      <th>8</th>\n",
       "      <td>0.6</td>\n",
       "      <td>0.03</td>\n",
       "      <td>1.0</td>\n",
       "      <td>1.0</td>\n",
       "    </tr>\n",
       "    <tr>\n",
       "      <th>16</th>\n",
       "      <td>0.3</td>\n",
       "      <td>0.10</td>\n",
       "      <td>1.0</td>\n",
       "      <td>1.0</td>\n",
       "    </tr>\n",
       "  </tbody>\n",
       "</table>\n",
       "</div>"
      ],
      "text/plain": [
       "    offset  rate  validation_accuracy  test_accuracy\n",
       "8      0.6  0.03                  1.0            1.0\n",
       "16     0.3  0.10                  1.0            1.0"
      ]
     },
     "metadata": {},
     "output_type": "display_data"
    },
    {
     "data": {
      "image/png": "[encoded data removed]",
      "text/plain": [
       "<Figure size 1440x720 with 1 Axes>"
      ]
     },
     "metadata": {
      "needs_background": "light"
     },
     "output_type": "display_data"
    },
    {
     "data": {
      "text/html": [
       "<div>\n",
       "<style scoped>\n",
       "    .dataframe tbody tr th:only-of-type {\n",
       "        vertical-align: middle;\n",
       "    }\n",
       "\n",
       "    .dataframe tbody tr th {\n",
       "        vertical-align: top;\n",
       "    }\n",
       "\n",
       "    .dataframe thead th {\n",
       "        text-align: right;\n",
       "    }\n",
       "</style>\n",
       "<table border=\"1\" class=\"dataframe\">\n",
       "  <thead>\n",
       "    <tr style=\"text-align: right;\">\n",
       "      <th></th>\n",
       "      <th>offset</th>\n",
       "      <th>rate</th>\n",
       "      <th>validation_accuracy</th>\n",
       "      <th>test_accuracy</th>\n",
       "      <th>accuracy</th>\n",
       "    </tr>\n",
       "  </thead>\n",
       "  <tbody>\n",
       "    <tr>\n",
       "      <th>8</th>\n",
       "      <td>0.6</td>\n",
       "      <td>0.03</td>\n",
       "      <td>1.0</td>\n",
       "      <td>1.0</td>\n",
       "      <td>1.2</td>\n",
       "    </tr>\n",
       "    <tr>\n",
       "      <th>16</th>\n",
       "      <td>0.3</td>\n",
       "      <td>0.10</td>\n",
       "      <td>1.0</td>\n",
       "      <td>1.0</td>\n",
       "      <td>2.3</td>\n",
       "    </tr>\n",
       "  </tbody>\n",
       "</table>\n",
       "</div>"
      ],
      "text/plain": [
       "    offset  rate  validation_accuracy  test_accuracy  accuracy\n",
       "8      0.6  0.03                  1.0            1.0       1.2\n",
       "16     0.3  0.10                  1.0            1.0       2.3"
      ]
     },
     "metadata": {},
     "output_type": "display_data"
    }
   ],
   "source": [
    "plot_multiple_histories ([8,16], run_number=0, op='max', backend='matplotlib')"
   ]
  },
  {
   "cell_type": "markdown",
   "metadata": {},
   "source": [
    "### Plot only one metric, and three experiments\n",
    "\n",
    "We plot the test_accuracy metric"
   ]
  },
  {
   "cell_type": "code",
   "execution_count": null,
   "metadata": {},
   "outputs": [
    {
     "data": {
      "image/png": "[encoded data removed]",
      "text/plain": [
       "<Figure size 1440x720 with 1 Axes>"
      ]
     },
     "metadata": {
      "needs_background": "light"
     },
     "output_type": "display_data"
    },
    {
     "data": {
      "text/html": [
       "<div>\n",
       "<style scoped>\n",
       "    .dataframe tbody tr th:only-of-type {\n",
       "        vertical-align: middle;\n",
       "    }\n",
       "\n",
       "    .dataframe tbody tr th {\n",
       "        vertical-align: top;\n",
       "    }\n",
       "\n",
       "    .dataframe thead th {\n",
       "        text-align: right;\n",
       "    }\n",
       "</style>\n",
       "<table border=\"1\" class=\"dataframe\">\n",
       "  <thead>\n",
       "    <tr style=\"text-align: right;\">\n",
       "      <th></th>\n",
       "      <th>epochs</th>\n",
       "      <th>offset</th>\n",
       "      <th>rate</th>\n",
       "      <th>test_accuracy</th>\n",
       "    </tr>\n",
       "  </thead>\n",
       "  <tbody>\n",
       "    <tr>\n",
       "      <th>8</th>\n",
       "      <td>30.0</td>\n",
       "      <td>0.6</td>\n",
       "      <td>0.03</td>\n",
       "      <td>1.0</td>\n",
       "    </tr>\n",
       "    <tr>\n",
       "      <th>12</th>\n",
       "      <td>15.0</td>\n",
       "      <td>0.1</td>\n",
       "      <td>0.10</td>\n",
       "      <td>1.0</td>\n",
       "    </tr>\n",
       "    <tr>\n",
       "      <th>16</th>\n",
       "      <td>30.0</td>\n",
       "      <td>0.3</td>\n",
       "      <td>0.10</td>\n",
       "      <td>1.0</td>\n",
       "    </tr>\n",
       "  </tbody>\n",
       "</table>\n",
       "</div>"
      ],
      "text/plain": [
       "    epochs  offset  rate  test_accuracy\n",
       "8     30.0     0.6  0.03            1.0\n",
       "12    15.0     0.1  0.10            1.0\n",
       "16    30.0     0.3  0.10            1.0"
      ]
     },
     "metadata": {},
     "output_type": "display_data"
    }
   ],
   "source": [
    "plot_multiple_histories ([8,12, 16], run_number=0, op='max', metrics = 'test_accuracy', backend='matplotlib')"
   ]
  },
  {
   "cell_type": "markdown",
   "metadata": {},
   "source": [
    "### Use plotly as backend"
   ]
  },
  {
   "cell_type": "code",
   "execution_count": null,
   "metadata": {},
   "outputs": [
    {
     "data": {
      "text/html": [
       "        <script type=\"text/javascript\">\n",
       "        window.PlotlyConfig = {MathJaxConfig: 'local'};\n",
       "        if (window.MathJax) {MathJax.Hub.Config({SVG: {font: \"STIX-Web\"}});}\n",
       "        if (typeof require !== 'undefined') {\n",
       "        require.undef(\"plotly\");\n",
       "        requirejs.config({\n",
       "            paths: {\n",
       "                'plotly': ['https://cdn.plot.ly/plotly-latest.min']\n",
       "            }\n",
       "        });\n",
       "        require(['plotly'], function(Plotly) {\n",
       "            window._Plotly = Plotly;\n",
       "        });\n",
       "        }\n",
       "        </script>\n",
       "        "
      ]
     },
     "metadata": {},
     "output_type": "display_data"
    },
    {
     "data": {
      "application/vnd.plotly.v1+json": {
       "config": {
        "linkText": "Export to plot.ly",
        "plotlyServerURL": "https://plot.ly",
        "showLink": false
       },
       "data": [
        {
         "mode": "markers+lines",
         "name": "8",
         "type": "scatter",
         "x": [
          0,
          1,
          2,
          3,
          4,
          5,
          6,
          7,
          8,
          9,
          10,
          11,
          12,
          13,
          14,
          15,
          16,
          17,
          18,
          19,
          20,
          21,
          22,
          23,
          24,
          25,
          26,
          27,
          28,
          29
         ],
         "y": [
          0.5115278283625577,
          0.5020197292739911,
          0.7038085568425824,
          0.7308506403924695,
          0.6904385377226562,
          0.7805915370387868,
          0.7653438462950702,
          0.9612897326870006,
          0.8162749968842367,
          0.7716295298337166,
          0.7648660058058778,
          0.8098906881265941,
          0.8487861789233403,
          0.9189009085721058,
          0.9367922587218505,
          0.9759961430058386,
          0.9090008001807593,
          1,
          0.9524956940131302,
          1,
          1,
          0.8705004030530585,
          1,
          0.9210107112258218,
          0.9202830680579496,
          0.9098077025877135,
          1,
          0.9101488998182647,
          0.8829196644920766,
          0.9808213923872307
         ]
        },
        {
         "marker": {
          "color": "red",
          "size": 10,
          "symbol": 104
         },
         "mode": "markers",
         "name": "",
         "type": "scatter",
         "x": [
          17
         ],
         "y": [
          1
         ]
        },
        {
         "mode": "markers+lines",
         "name": "12",
         "type": "scatter",
         "x": [
          0,
          1,
          2,
          3,
          4,
          5,
          6,
          7,
          8,
          9,
          10,
          11,
          12,
          13,
          14
         ],
         "y": [
          0.183086928350644,
          0.13876187497787762,
          0.22146857220720467,
          0.3968273121037709,
          0.5568416100983291,
          0.5960122693205003,
          0.7186594778500464,
          0.9006838778423569,
          0.8270516500298508,
          0.9220487571868812,
          1,
          1,
          1,
          1,
          1
         ]
        },
        {
         "marker": {
          "color": "red",
          "size": 10,
          "symbol": 104
         },
         "mode": "markers",
         "name": "",
         "type": "scatter",
         "x": [
          10
         ],
         "y": [
          1
         ]
        },
        {
         "mode": "markers+lines",
         "name": "16",
         "type": "scatter",
         "x": [
          0,
          1,
          2,
          3,
          4,
          5,
          6,
          7,
          8,
          9,
          10,
          11,
          12,
          13,
          14,
          15,
          16,
          17,
          18,
          19,
          20,
          21,
          22,
          23,
          24,
          25,
          26,
          27,
          28,
          29
         ],
         "y": [
          0.27181146598768713,
          0.29317818325740735,
          0.3879064762575079,
          0.4891146734213544,
          0.566884397529304,
          0.8980048004997152,
          0.7658848253967914,
          0.8630009992573565,
          1,
          1,
          1,
          1,
          1,
          1,
          1,
          1,
          1,
          1,
          1,
          1,
          1,
          1,
          1,
          1,
          1,
          1,
          1,
          1,
          1,
          1
         ]
        },
        {
         "marker": {
          "color": "red",
          "size": 10,
          "symbol": 104
         },
         "mode": "markers",
         "name": "",
         "type": "scatter",
         "x": [
          8
         ],
         "y": [
          1
         ]
        }
       ],
       "layout": {
        "template": {
         "data": {
          "bar": [
           {
            "error_x": {
             "color": "#2a3f5f"
            },
            "error_y": {
             "color": "#2a3f5f"
            },
            "marker": {
             "line": {
              "color": "#E5ECF6",
              "width": 0.5
             }
            },
            "type": "bar"
           }
          ],
          "barpolar": [
           {
            "marker": {
             "line": {
              "color": "#E5ECF6",
              "width": 0.5
             }
            },
            "type": "barpolar"
           }
          ],
          "carpet": [
           {
            "aaxis": {
             "endlinecolor": "#2a3f5f",
             "gridcolor": "white",
             "linecolor": "white",
             "minorgridcolor": "white",
             "startlinecolor": "#2a3f5f"
            },
            "baxis": {
             "endlinecolor": "#2a3f5f",
             "gridcolor": "white",
             "linecolor": "white",
             "minorgridcolor": "white",
             "startlinecolor": "#2a3f5f"
            },
            "type": "carpet"
           }
          ],
          "choropleth": [
           {
            "colorbar": {
             "outlinewidth": 0,
             "ticks": ""
            },
            "type": "choropleth"
           }
          ],
          "contour": [
           {
            "colorbar": {
             "outlinewidth": 0,
             "ticks": ""
            },
            "colorscale": [
             [
              0,
              "#0d0887"
             ],
             [
              0.1111111111111111,
              "#46039f"
             ],
             [
              0.2222222222222222,
              "#7201a8"
             ],
             [
              0.3333333333333333,
              "#9c179e"
             ],
             [
              0.4444444444444444,
              "#bd3786"
             ],
             [
              0.5555555555555556,
              "#d8576b"
             ],
             [
              0.6666666666666666,
              "#ed7953"
             ],
             [
              0.7777777777777778,
              "#fb9f3a"
             ],
             [
              0.8888888888888888,
              "#fdca26"
             ],
             [
              1,
              "#f0f921"
             ]
            ],
            "type": "contour"
           }
          ],
          "contourcarpet": [
           {
            "colorbar": {
             "outlinewidth": 0,
             "ticks": ""
            },
            "type": "contourcarpet"
           }
          ],
          "heatmap": [
           {
            "colorbar": {
             "outlinewidth": 0,
             "ticks": ""
            },
            "colorscale": [
             [
              0,
              "#0d0887"
             ],
             [
              0.1111111111111111,
              "#46039f"
             ],
             [
              0.2222222222222222,
              "#7201a8"
             ],
             [
              0.3333333333333333,
              "#9c179e"
             ],
             [
              0.4444444444444444,
              "#bd3786"
             ],
             [
              0.5555555555555556,
              "#d8576b"
             ],
             [
              0.6666666666666666,
              "#ed7953"
             ],
             [
              0.7777777777777778,
              "#fb9f3a"
             ],
             [
              0.8888888888888888,
              "#fdca26"
             ],
             [
              1,
              "#f0f921"
             ]
            ],
            "type": "heatmap"
           }
          ],
          "heatmapgl": [
           {
            "colorbar": {
             "outlinewidth": 0,
             "ticks": ""
            },
            "colorscale": [
             [
              0,
              "#0d0887"
             ],
             [
              0.1111111111111111,
              "#46039f"
             ],
             [
              0.2222222222222222,
              "#7201a8"
             ],
             [
              0.3333333333333333,
              "#9c179e"
             ],
             [
              0.4444444444444444,
              "#bd3786"
             ],
             [
              0.5555555555555556,
              "#d8576b"
             ],
             [
              0.6666666666666666,
              "#ed7953"
             ],
             [
              0.7777777777777778,
              "#fb9f3a"
             ],
             [
              0.8888888888888888,
              "#fdca26"
             ],
             [
              1,
              "#f0f921"
             ]
            ],
            "type": "heatmapgl"
           }
          ],
          "histogram": [
           {
            "marker": {
             "colorbar": {
              "outlinewidth": 0,
              "ticks": ""
             }
            },
            "type": "histogram"
           }
          ],
          "histogram2d": [
           {
            "colorbar": {
             "outlinewidth": 0,
             "ticks": ""
            },
            "colorscale": [
             [
              0,
              "#0d0887"
             ],
             [
              0.1111111111111111,
              "#46039f"
             ],
             [
              0.2222222222222222,
              "#7201a8"
             ],
             [
              0.3333333333333333,
              "#9c179e"
             ],
             [
              0.4444444444444444,
              "#bd3786"
             ],
             [
              0.5555555555555556,
              "#d8576b"
             ],
             [
              0.6666666666666666,
              "#ed7953"
             ],
             [
              0.7777777777777778,
              "#fb9f3a"
             ],
             [
              0.8888888888888888,
              "#fdca26"
             ],
             [
              1,
              "#f0f921"
             ]
            ],
            "type": "histogram2d"
           }
          ],
          "histogram2dcontour": [
           {
            "colorbar": {
             "outlinewidth": 0,
             "ticks": ""
            },
            "colorscale": [
             [
              0,
              "#0d0887"
             ],
             [
              0.1111111111111111,
              "#46039f"
             ],
             [
              0.2222222222222222,
              "#7201a8"
             ],
             [
              0.3333333333333333,
              "#9c179e"
             ],
             [
              0.4444444444444444,
              "#bd3786"
             ],
             [
              0.5555555555555556,
              "#d8576b"
             ],
             [
              0.6666666666666666,
              "#ed7953"
             ],
             [
              0.7777777777777778,
              "#fb9f3a"
             ],
             [
              0.8888888888888888,
              "#fdca26"
             ],
             [
              1,
              "#f0f921"
             ]
            ],
            "type": "histogram2dcontour"
           }
          ],
          "mesh3d": [
           {
            "colorbar": {
             "outlinewidth": 0,
             "ticks": ""
            },
            "type": "mesh3d"
           }
          ],
          "parcoords": [
           {
            "line": {
             "colorbar": {
              "outlinewidth": 0,
              "ticks": ""
             }
            },
            "type": "parcoords"
           }
          ],
          "pie": [
           {
            "automargin": true,
            "type": "pie"
           }
          ],
          "scatter": [
           {
            "marker": {
             "colorbar": {
              "outlinewidth": 0,
              "ticks": ""
             }
            },
            "type": "scatter"
           }
          ],
          "scatter3d": [
           {
            "line": {
             "colorbar": {
              "outlinewidth": 0,
              "ticks": ""
             }
            },
            "marker": {
             "colorbar": {
              "outlinewidth": 0,
              "ticks": ""
             }
            },
            "type": "scatter3d"
           }
          ],
          "scattercarpet": [
           {
            "marker": {
             "colorbar": {
              "outlinewidth": 0,
              "ticks": ""
             }
            },
            "type": "scattercarpet"
           }
          ],
          "scattergeo": [
           {
            "marker": {
             "colorbar": {
              "outlinewidth": 0,
              "ticks": ""
             }
            },
            "type": "scattergeo"
           }
          ],
          "scattergl": [
           {
            "marker": {
             "colorbar": {
              "outlinewidth": 0,
              "ticks": ""
             }
            },
            "type": "scattergl"
           }
          ],
          "scattermapbox": [
           {
            "marker": {
             "colorbar": {
              "outlinewidth": 0,
              "ticks": ""
             }
            },
            "type": "scattermapbox"
           }
          ],
          "scatterpolar": [
           {
            "marker": {
             "colorbar": {
              "outlinewidth": 0,
              "ticks": ""
             }
            },
            "type": "scatterpolar"
           }
          ],
          "scatterpolargl": [
           {
            "marker": {
             "colorbar": {
              "outlinewidth": 0,
              "ticks": ""
             }
            },
            "type": "scatterpolargl"
           }
          ],
          "scatterternary": [
           {
            "marker": {
             "colorbar": {
              "outlinewidth": 0,
              "ticks": ""
             }
            },
            "type": "scatterternary"
           }
          ],
          "surface": [
           {
            "colorbar": {
             "outlinewidth": 0,
             "ticks": ""
            },
            "colorscale": [
             [
              0,
              "#0d0887"
             ],
             [
              0.1111111111111111,
              "#46039f"
             ],
             [
              0.2222222222222222,
              "#7201a8"
             ],
             [
              0.3333333333333333,
              "#9c179e"
             ],
             [
              0.4444444444444444,
              "#bd3786"
             ],
             [
              0.5555555555555556,
              "#d8576b"
             ],
             [
              0.6666666666666666,
              "#ed7953"
             ],
             [
              0.7777777777777778,
              "#fb9f3a"
             ],
             [
              0.8888888888888888,
              "#fdca26"
             ],
             [
              1,
              "#f0f921"
             ]
            ],
            "type": "surface"
           }
          ],
          "table": [
           {
            "cells": {
             "fill": {
              "color": "#EBF0F8"
             },
             "line": {
              "color": "white"
             }
            },
            "header": {
             "fill": {
              "color": "#C8D4E3"
             },
             "line": {
              "color": "white"
             }
            },
            "type": "table"
           }
          ]
         },
         "layout": {
          "annotationdefaults": {
           "arrowcolor": "#2a3f5f",
           "arrowhead": 0,
           "arrowwidth": 1
          },
          "autotypenumbers": "strict",
          "coloraxis": {
           "colorbar": {
            "outlinewidth": 0,
            "ticks": ""
           }
          },
          "colorscale": {
           "diverging": [
            [
             0,
             "#8e0152"
            ],
            [
             0.1,
             "#c51b7d"
            ],
            [
             0.2,
             "#de77ae"
            ],
            [
             0.3,
             "#f1b6da"
            ],
            [
             0.4,
             "#fde0ef"
            ],
            [
             0.5,
             "#f7f7f7"
            ],
            [
             0.6,
             "#e6f5d0"
            ],
            [
             0.7,
             "#b8e186"
            ],
            [
             0.8,
             "#7fbc41"
            ],
            [
             0.9,
             "#4d9221"
            ],
            [
             1,
             "#276419"
            ]
           ],
           "sequential": [
            [
             0,
             "#0d0887"
            ],
            [
             0.1111111111111111,
             "#46039f"
            ],
            [
             0.2222222222222222,
             "#7201a8"
            ],
            [
             0.3333333333333333,
             "#9c179e"
            ],
            [
             0.4444444444444444,
             "#bd3786"
            ],
            [
             0.5555555555555556,
             "#d8576b"
            ],
            [
             0.6666666666666666,
             "#ed7953"
            ],
            [
             0.7777777777777778,
             "#fb9f3a"
            ],
            [
             0.8888888888888888,
             "#fdca26"
            ],
            [
             1,
             "#f0f921"
            ]
           ],
           "sequentialminus": [
            [
             0,
             "#0d0887"
            ],
            [
             0.1111111111111111,
             "#46039f"
            ],
            [
             0.2222222222222222,
             "#7201a8"
            ],
            [
             0.3333333333333333,
             "#9c179e"
            ],
            [
             0.4444444444444444,
             "#bd3786"
            ],
            [
             0.5555555555555556,
             "#d8576b"
            ],
            [
             0.6666666666666666,
             "#ed7953"
            ],
            [
             0.7777777777777778,
             "#fb9f3a"
            ],
            [
             0.8888888888888888,
             "#fdca26"
            ],
            [
             1,
             "#f0f921"
            ]
           ]
          },
          "colorway": [
           "#636efa",
           "#EF553B",
           "#00cc96",
           "#ab63fa",
           "#FFA15A",
           "#19d3f3",
           "#FF6692",
           "#B6E880",
           "#FF97FF",
           "#FECB52"
          ],
          "font": {
           "color": "#2a3f5f"
          },
          "geo": {
           "bgcolor": "white",
           "lakecolor": "white",
           "landcolor": "#E5ECF6",
           "showlakes": true,
           "showland": true,
           "subunitcolor": "white"
          },
          "hoverlabel": {
           "align": "left"
          },
          "hovermode": "closest",
          "mapbox": {
           "style": "light"
          },
          "paper_bgcolor": "white",
          "plot_bgcolor": "#E5ECF6",
          "polar": {
           "angularaxis": {
            "gridcolor": "white",
            "linecolor": "white",
            "ticks": ""
           },
           "bgcolor": "#E5ECF6",
           "radialaxis": {
            "gridcolor": "white",
            "linecolor": "white",
            "ticks": ""
           }
          },
          "scene": {
           "xaxis": {
            "backgroundcolor": "#E5ECF6",
            "gridcolor": "white",
            "gridwidth": 2,
            "linecolor": "white",
            "showbackground": true,
            "ticks": "",
            "zerolinecolor": "white"
           },
           "yaxis": {
            "backgroundcolor": "#E5ECF6",
            "gridcolor": "white",
            "gridwidth": 2,
            "linecolor": "white",
            "showbackground": true,
            "ticks": "",
            "zerolinecolor": "white"
           },
           "zaxis": {
            "backgroundcolor": "#E5ECF6",
            "gridcolor": "white",
            "gridwidth": 2,
            "linecolor": "white",
            "showbackground": true,
            "ticks": "",
            "zerolinecolor": "white"
           }
          },
          "shapedefaults": {
           "line": {
            "color": "#2a3f5f"
           }
          },
          "ternary": {
           "aaxis": {
            "gridcolor": "white",
            "linecolor": "white",
            "ticks": ""
           },
           "baxis": {
            "gridcolor": "white",
            "linecolor": "white",
            "ticks": ""
           },
           "bgcolor": "#E5ECF6",
           "caxis": {
            "gridcolor": "white",
            "linecolor": "white",
            "ticks": ""
           }
          },
          "title": {
           "x": 0.05
          },
          "xaxis": {
           "automargin": true,
           "gridcolor": "white",
           "linecolor": "white",
           "ticks": "",
           "title": {
            "standoff": 15
           },
           "zerolinecolor": "white",
           "zerolinewidth": 2
          },
          "yaxis": {
           "automargin": true,
           "gridcolor": "white",
           "linecolor": "white",
           "ticks": "",
           "title": {
            "standoff": 15
           },
           "zerolinecolor": "white",
           "zerolinewidth": 2
          }
         }
        },
        "title": {
         "text": "test_accuracy [8]: 1.00 [12]: 1.00 [16]: 1.00"
        },
        "xaxis": {
         "title": {
          "text": "epoch"
         }
        },
        "yaxis": {
         "title": {
          "text": "test_accuracy"
         }
        }
       }
      },
      "text/html": [
       "<div>                            <div id=\"4ae81ebf-8d0c-4654-859a-8fa003af79da\" class=\"plotly-graph-div\" style=\"height:525px; width:100%;\"></div>            <script type=\"text/javascript\">                require([\"plotly\"], function(Plotly) {                    window.PLOTLYENV=window.PLOTLYENV || {};                                    if (document.getElementById(\"4ae81ebf-8d0c-4654-859a-8fa003af79da\")) {                    Plotly.newPlot(                        \"4ae81ebf-8d0c-4654-859a-8fa003af79da\",                        [{\"mode\": \"markers+lines\", \"name\": \"8\", \"type\": \"scatter\", \"x\": [0, 1, 2, 3, 4, 5, 6, 7, 8, 9, 10, 11, 12, 13, 14, 15, 16, 17, 18, 19, 20, 21, 22, 23, 24, 25, 26, 27, 28, 29], \"y\": [0.5115278283625577, 0.5020197292739911, 0.7038085568425824, 0.7308506403924695, 0.6904385377226562, 0.7805915370387868, 0.7653438462950702, 0.9612897326870006, 0.8162749968842367, 0.7716295298337166, 0.7648660058058778, 0.8098906881265941, 0.8487861789233403, 0.9189009085721058, 0.9367922587218505, 0.9759961430058386, 0.9090008001807593, 1.0, 0.9524956940131302, 1.0, 1.0, 0.8705004030530585, 1.0, 0.9210107112258218, 0.9202830680579496, 0.9098077025877135, 1.0, 0.9101488998182647, 0.8829196644920766, 0.9808213923872307]}, {\"marker\": {\"color\": \"red\", \"size\": 10, \"symbol\": 104}, \"mode\": \"markers\", \"name\": \"\", \"type\": \"scatter\", \"x\": [17], \"y\": [1.0]}, {\"mode\": \"markers+lines\", \"name\": \"12\", \"type\": \"scatter\", \"x\": [0, 1, 2, 3, 4, 5, 6, 7, 8, 9, 10, 11, 12, 13, 14], \"y\": [0.183086928350644, 0.13876187497787762, 0.22146857220720467, 0.3968273121037709, 0.5568416100983291, 0.5960122693205003, 0.7186594778500464, 0.9006838778423569, 0.8270516500298508, 0.9220487571868812, 1.0, 1.0, 1.0, 1.0, 1.0]}, {\"marker\": {\"color\": \"red\", \"size\": 10, \"symbol\": 104}, \"mode\": \"markers\", \"name\": \"\", \"type\": \"scatter\", \"x\": [10], \"y\": [1.0]}, {\"mode\": \"markers+lines\", \"name\": \"16\", \"type\": \"scatter\", \"x\": [0, 1, 2, 3, 4, 5, 6, 7, 8, 9, 10, 11, 12, 13, 14, 15, 16, 17, 18, 19, 20, 21, 22, 23, 24, 25, 26, 27, 28, 29], \"y\": [0.27181146598768713, 0.29317818325740735, 0.3879064762575079, 0.4891146734213544, 0.566884397529304, 0.8980048004997152, 0.7658848253967914, 0.8630009992573565, 1.0, 1.0, 1.0, 1.0, 1.0, 1.0, 1.0, 1.0, 1.0, 1.0, 1.0, 1.0, 1.0, 1.0, 1.0, 1.0, 1.0, 1.0, 1.0, 1.0, 1.0, 1.0]}, {\"marker\": {\"color\": \"red\", \"size\": 10, \"symbol\": 104}, \"mode\": \"markers\", \"name\": \"\", \"type\": \"scatter\", \"x\": [8], \"y\": [1.0]}],                        {\"template\": {\"data\": {\"bar\": [{\"error_x\": {\"color\": \"#2a3f5f\"}, \"error_y\": {\"color\": \"#2a3f5f\"}, \"marker\": {\"line\": {\"color\": \"#E5ECF6\", \"width\": 0.5}}, \"type\": \"bar\"}], \"barpolar\": [{\"marker\": {\"line\": {\"color\": \"#E5ECF6\", \"width\": 0.5}}, \"type\": \"barpolar\"}], \"carpet\": [{\"aaxis\": {\"endlinecolor\": \"#2a3f5f\", \"gridcolor\": \"white\", \"linecolor\": \"white\", \"minorgridcolor\": \"white\", \"startlinecolor\": \"#2a3f5f\"}, \"baxis\": {\"endlinecolor\": \"#2a3f5f\", \"gridcolor\": \"white\", \"linecolor\": \"white\", \"minorgridcolor\": \"white\", \"startlinecolor\": \"#2a3f5f\"}, \"type\": \"carpet\"}], \"choropleth\": [{\"colorbar\": {\"outlinewidth\": 0, \"ticks\": \"\"}, \"type\": \"choropleth\"}], \"contour\": [{\"colorbar\": {\"outlinewidth\": 0, \"ticks\": \"\"}, \"colorscale\": [[0.0, \"#0d0887\"], [0.1111111111111111, \"#46039f\"], [0.2222222222222222, \"#7201a8\"], [0.3333333333333333, \"#9c179e\"], [0.4444444444444444, \"#bd3786\"], [0.5555555555555556, \"#d8576b\"], [0.6666666666666666, \"#ed7953\"], [0.7777777777777778, \"#fb9f3a\"], [0.8888888888888888, \"#fdca26\"], [1.0, \"#f0f921\"]], \"type\": \"contour\"}], \"contourcarpet\": [{\"colorbar\": {\"outlinewidth\": 0, \"ticks\": \"\"}, \"type\": \"contourcarpet\"}], \"heatmap\": [{\"colorbar\": {\"outlinewidth\": 0, \"ticks\": \"\"}, \"colorscale\": [[0.0, \"#0d0887\"], [0.1111111111111111, \"#46039f\"], [0.2222222222222222, \"#7201a8\"], [0.3333333333333333, \"#9c179e\"], [0.4444444444444444, \"#bd3786\"], [0.5555555555555556, \"#d8576b\"], [0.6666666666666666, \"#ed7953\"], [0.7777777777777778, \"#fb9f3a\"], [0.8888888888888888, \"#fdca26\"], [1.0, \"#f0f921\"]], \"type\": \"heatmap\"}], \"heatmapgl\": [{\"colorbar\": {\"outlinewidth\": 0, \"ticks\": \"\"}, \"colorscale\": [[0.0, \"#0d0887\"], [0.1111111111111111, \"#46039f\"], [0.2222222222222222, \"#7201a8\"], [0.3333333333333333, \"#9c179e\"], [0.4444444444444444, \"#bd3786\"], [0.5555555555555556, \"#d8576b\"], [0.6666666666666666, \"#ed7953\"], [0.7777777777777778, \"#fb9f3a\"], [0.8888888888888888, \"#fdca26\"], [1.0, \"#f0f921\"]], \"type\": \"heatmapgl\"}], \"histogram\": [{\"marker\": {\"colorbar\": {\"outlinewidth\": 0, \"ticks\": \"\"}}, \"type\": \"histogram\"}], \"histogram2d\": [{\"colorbar\": {\"outlinewidth\": 0, \"ticks\": \"\"}, \"colorscale\": [[0.0, \"#0d0887\"], [0.1111111111111111, \"#46039f\"], [0.2222222222222222, \"#7201a8\"], [0.3333333333333333, \"#9c179e\"], [0.4444444444444444, \"#bd3786\"], [0.5555555555555556, \"#d8576b\"], [0.6666666666666666, \"#ed7953\"], [0.7777777777777778, \"#fb9f3a\"], [0.8888888888888888, \"#fdca26\"], [1.0, \"#f0f921\"]], \"type\": \"histogram2d\"}], \"histogram2dcontour\": [{\"colorbar\": {\"outlinewidth\": 0, \"ticks\": \"\"}, \"colorscale\": [[0.0, \"#0d0887\"], [0.1111111111111111, \"#46039f\"], [0.2222222222222222, \"#7201a8\"], [0.3333333333333333, \"#9c179e\"], [0.4444444444444444, \"#bd3786\"], [0.5555555555555556, \"#d8576b\"], [0.6666666666666666, \"#ed7953\"], [0.7777777777777778, \"#fb9f3a\"], [0.8888888888888888, \"#fdca26\"], [1.0, \"#f0f921\"]], \"type\": \"histogram2dcontour\"}], \"mesh3d\": [{\"colorbar\": {\"outlinewidth\": 0, \"ticks\": \"\"}, \"type\": \"mesh3d\"}], \"parcoords\": [{\"line\": {\"colorbar\": {\"outlinewidth\": 0, \"ticks\": \"\"}}, \"type\": \"parcoords\"}], \"pie\": [{\"automargin\": true, \"type\": \"pie\"}], \"scatter\": [{\"marker\": {\"colorbar\": {\"outlinewidth\": 0, \"ticks\": \"\"}}, \"type\": \"scatter\"}], \"scatter3d\": [{\"line\": {\"colorbar\": {\"outlinewidth\": 0, \"ticks\": \"\"}}, \"marker\": {\"colorbar\": {\"outlinewidth\": 0, \"ticks\": \"\"}}, \"type\": \"scatter3d\"}], \"scattercarpet\": [{\"marker\": {\"colorbar\": {\"outlinewidth\": 0, \"ticks\": \"\"}}, \"type\": \"scattercarpet\"}], \"scattergeo\": [{\"marker\": {\"colorbar\": {\"outlinewidth\": 0, \"ticks\": \"\"}}, \"type\": \"scattergeo\"}], \"scattergl\": [{\"marker\": {\"colorbar\": {\"outlinewidth\": 0, \"ticks\": \"\"}}, \"type\": \"scattergl\"}], \"scattermapbox\": [{\"marker\": {\"colorbar\": {\"outlinewidth\": 0, \"ticks\": \"\"}}, \"type\": \"scattermapbox\"}], \"scatterpolar\": [{\"marker\": {\"colorbar\": {\"outlinewidth\": 0, \"ticks\": \"\"}}, \"type\": \"scatterpolar\"}], \"scatterpolargl\": [{\"marker\": {\"colorbar\": {\"outlinewidth\": 0, \"ticks\": \"\"}}, \"type\": \"scatterpolargl\"}], \"scatterternary\": [{\"marker\": {\"colorbar\": {\"outlinewidth\": 0, \"ticks\": \"\"}}, \"type\": \"scatterternary\"}], \"surface\": [{\"colorbar\": {\"outlinewidth\": 0, \"ticks\": \"\"}, \"colorscale\": [[0.0, \"#0d0887\"], [0.1111111111111111, \"#46039f\"], [0.2222222222222222, \"#7201a8\"], [0.3333333333333333, \"#9c179e\"], [0.4444444444444444, \"#bd3786\"], [0.5555555555555556, \"#d8576b\"], [0.6666666666666666, \"#ed7953\"], [0.7777777777777778, \"#fb9f3a\"], [0.8888888888888888, \"#fdca26\"], [1.0, \"#f0f921\"]], \"type\": \"surface\"}], \"table\": [{\"cells\": {\"fill\": {\"color\": \"#EBF0F8\"}, \"line\": {\"color\": \"white\"}}, \"header\": {\"fill\": {\"color\": \"#C8D4E3\"}, \"line\": {\"color\": \"white\"}}, \"type\": \"table\"}]}, \"layout\": {\"annotationdefaults\": {\"arrowcolor\": \"#2a3f5f\", \"arrowhead\": 0, \"arrowwidth\": 1}, \"autotypenumbers\": \"strict\", \"coloraxis\": {\"colorbar\": {\"outlinewidth\": 0, \"ticks\": \"\"}}, \"colorscale\": {\"diverging\": [[0, \"#8e0152\"], [0.1, \"#c51b7d\"], [0.2, \"#de77ae\"], [0.3, \"#f1b6da\"], [0.4, \"#fde0ef\"], [0.5, \"#f7f7f7\"], [0.6, \"#e6f5d0\"], [0.7, \"#b8e186\"], [0.8, \"#7fbc41\"], [0.9, \"#4d9221\"], [1, \"#276419\"]], \"sequential\": [[0.0, \"#0d0887\"], [0.1111111111111111, \"#46039f\"], [0.2222222222222222, \"#7201a8\"], [0.3333333333333333, \"#9c179e\"], [0.4444444444444444, \"#bd3786\"], [0.5555555555555556, \"#d8576b\"], [0.6666666666666666, \"#ed7953\"], [0.7777777777777778, \"#fb9f3a\"], [0.8888888888888888, \"#fdca26\"], [1.0, \"#f0f921\"]], \"sequentialminus\": [[0.0, \"#0d0887\"], [0.1111111111111111, \"#46039f\"], [0.2222222222222222, \"#7201a8\"], [0.3333333333333333, \"#9c179e\"], [0.4444444444444444, \"#bd3786\"], [0.5555555555555556, \"#d8576b\"], [0.6666666666666666, \"#ed7953\"], [0.7777777777777778, \"#fb9f3a\"], [0.8888888888888888, \"#fdca26\"], [1.0, \"#f0f921\"]]}, \"colorway\": [\"#636efa\", \"#EF553B\", \"#00cc96\", \"#ab63fa\", \"#FFA15A\", \"#19d3f3\", \"#FF6692\", \"#B6E880\", \"#FF97FF\", \"#FECB52\"], \"font\": {\"color\": \"#2a3f5f\"}, \"geo\": {\"bgcolor\": \"white\", \"lakecolor\": \"white\", \"landcolor\": \"#E5ECF6\", \"showlakes\": true, \"showland\": true, \"subunitcolor\": \"white\"}, \"hoverlabel\": {\"align\": \"left\"}, \"hovermode\": \"closest\", \"mapbox\": {\"style\": \"light\"}, \"paper_bgcolor\": \"white\", \"plot_bgcolor\": \"#E5ECF6\", \"polar\": {\"angularaxis\": {\"gridcolor\": \"white\", \"linecolor\": \"white\", \"ticks\": \"\"}, \"bgcolor\": \"#E5ECF6\", \"radialaxis\": {\"gridcolor\": \"white\", \"linecolor\": \"white\", \"ticks\": \"\"}}, \"scene\": {\"xaxis\": {\"backgroundcolor\": \"#E5ECF6\", \"gridcolor\": \"white\", \"gridwidth\": 2, \"linecolor\": \"white\", \"showbackground\": true, \"ticks\": \"\", \"zerolinecolor\": \"white\"}, \"yaxis\": {\"backgroundcolor\": \"#E5ECF6\", \"gridcolor\": \"white\", \"gridwidth\": 2, \"linecolor\": \"white\", \"showbackground\": true, \"ticks\": \"\", \"zerolinecolor\": \"white\"}, \"zaxis\": {\"backgroundcolor\": \"#E5ECF6\", \"gridcolor\": \"white\", \"gridwidth\": 2, \"linecolor\": \"white\", \"showbackground\": true, \"ticks\": \"\", \"zerolinecolor\": \"white\"}}, \"shapedefaults\": {\"line\": {\"color\": \"#2a3f5f\"}}, \"ternary\": {\"aaxis\": {\"gridcolor\": \"white\", \"linecolor\": \"white\", \"ticks\": \"\"}, \"baxis\": {\"gridcolor\": \"white\", \"linecolor\": \"white\", \"ticks\": \"\"}, \"bgcolor\": \"#E5ECF6\", \"caxis\": {\"gridcolor\": \"white\", \"linecolor\": \"white\", \"ticks\": \"\"}}, \"title\": {\"x\": 0.05}, \"xaxis\": {\"automargin\": true, \"gridcolor\": \"white\", \"linecolor\": \"white\", \"ticks\": \"\", \"title\": {\"standoff\": 15}, \"zerolinecolor\": \"white\", \"zerolinewidth\": 2}, \"yaxis\": {\"automargin\": true, \"gridcolor\": \"white\", \"linecolor\": \"white\", \"ticks\": \"\", \"title\": {\"standoff\": 15}, \"zerolinecolor\": \"white\", \"zerolinewidth\": 2}}}, \"title\": {\"text\": \"test_accuracy [8]: 1.00 [12]: 1.00 [16]: 1.00\"}, \"xaxis\": {\"title\": {\"text\": \"epoch\"}}, \"yaxis\": {\"title\": {\"text\": \"test_accuracy\"}}},                        {\"responsive\": true}                    ).then(function(){\n",
       "                            \n",
       "var gd = document.getElementById('4ae81ebf-8d0c-4654-859a-8fa003af79da');\n",
       "var x = new MutationObserver(function (mutations, observer) {{\n",
       "        var display = window.getComputedStyle(gd).display;\n",
       "        if (!display || display === 'none') {{\n",
       "            console.log([gd, 'removed!']);\n",
       "            Plotly.purge(gd);\n",
       "            observer.disconnect();\n",
       "        }}\n",
       "}});\n",
       "\n",
       "// Listen for the removal of the full notebook cells\n",
       "var notebookContainer = gd.closest('#notebook-container');\n",
       "if (notebookContainer) {{\n",
       "    x.observe(notebookContainer, {childList: true});\n",
       "}}\n",
       "\n",
       "// Listen for the clearing of the current output cell\n",
       "var outputEl = gd.closest('.output');\n",
       "if (outputEl) {{\n",
       "    x.observe(outputEl, {childList: true});\n",
       "}}\n",
       "\n",
       "                        })                };                });            </script>        </div>"
      ]
     },
     "metadata": {},
     "output_type": "display_data"
    },
    {
     "data": {
      "text/html": [
       "<div>\n",
       "<style scoped>\n",
       "    .dataframe tbody tr th:only-of-type {\n",
       "        vertical-align: middle;\n",
       "    }\n",
       "\n",
       "    .dataframe tbody tr th {\n",
       "        vertical-align: top;\n",
       "    }\n",
       "\n",
       "    .dataframe thead th {\n",
       "        text-align: right;\n",
       "    }\n",
       "</style>\n",
       "<table border=\"1\" class=\"dataframe\">\n",
       "  <thead>\n",
       "    <tr style=\"text-align: right;\">\n",
       "      <th></th>\n",
       "      <th>epochs</th>\n",
       "      <th>offset</th>\n",
       "      <th>rate</th>\n",
       "      <th>test_accuracy</th>\n",
       "    </tr>\n",
       "  </thead>\n",
       "  <tbody>\n",
       "    <tr>\n",
       "      <th>8</th>\n",
       "      <td>30.0</td>\n",
       "      <td>0.6</td>\n",
       "      <td>0.03</td>\n",
       "      <td>1.0</td>\n",
       "    </tr>\n",
       "    <tr>\n",
       "      <th>12</th>\n",
       "      <td>15.0</td>\n",
       "      <td>0.1</td>\n",
       "      <td>0.10</td>\n",
       "      <td>1.0</td>\n",
       "    </tr>\n",
       "    <tr>\n",
       "      <th>16</th>\n",
       "      <td>30.0</td>\n",
       "      <td>0.3</td>\n",
       "      <td>0.10</td>\n",
       "      <td>1.0</td>\n",
       "    </tr>\n",
       "  </tbody>\n",
       "</table>\n",
       "</div>"
      ],
      "text/plain": [
       "    epochs  offset  rate  test_accuracy\n",
       "8     30.0     0.6  0.03            1.0\n",
       "12    15.0     0.1  0.10            1.0\n",
       "16    30.0     0.3  0.10            1.0"
      ]
     },
     "metadata": {},
     "output_type": "display_data"
    }
   ],
   "source": [
    "plot_multiple_histories ([8,12, 16], run_number=0, op='max', metrics = 'test_accuracy', backend='plotly')"
   ]
  },
  {
   "cell_type": "markdown",
   "metadata": {},
   "source": [
    "## Metric correlation\n",
    "\n",
    "Displays the relationship between scores obtained across experiments with two different evaluation metrics indicated as argument. Calculates Pearson R-squared coefficient."
   ]
  },
  {
   "cell_type": "code",
   "execution_count": null,
   "metadata": {},
   "outputs": [],
   "source": [
    "#export\n",
    "\n",
    "def plot_metric_relationship (metric_1, metric_2, folder_experiments=None, run_numbers=None, \n",
    "                              experiments=None, experiment_subset=None,\n",
    "                              backend='visdom', **kwargs):\n",
    "    df = ut.get_experiment_data (folder_experiments=folder_experiments, experiments=experiments)\n",
    "    df_metric_1 = ut.get_experiment_scores (experiment_data=df, suffix_results=f'_{metric_1}', remove_suffix=True, class_ids=run_numbers)\n",
    "    df_metric_2 = ut.get_experiment_scores (experiment_data=df, suffix_results=f'_{metric_2}', remove_suffix=True, class_ids=run_numbers)\n",
    "    \n",
    "    traces=plot_utils.add_trace(df_metric_1.values, df_metric_2.values, traces=[], style='A.', label='all experiments', backend=backend);\n",
    "    \n",
    "    if experiment_subset is not None:\n",
    "        df_metric_1_subset = ut.get_experiment_scores (experiment_data=df.loc[experiment_subset], suffix_results=f'_{metric_1}', remove_suffix=True, class_ids=run_numbers)\n",
    "        df_metric_2_subset = ut.get_experiment_scores (experiment_data=df.loc[experiment_subset], suffix_results=f'_{metric_2}', remove_suffix=True, class_ids=run_numbers)\n",
    "        traces=plot_utils.add_trace(df_metric_1_subset.values, df_metric_2_subset.values, traces=traces, style='A.', label=f'selected subset', backend=backend);\n",
    "    \n",
    "    plot_utils.plot(np.linspace(df_metric_1.values.min(), df_metric_1.values.max(), 100), \n",
    "                np.linspace(df_metric_2.values.min(), df_metric_2.values.max(), 100), \n",
    "                traces=traces, style='A-', label='linear', title=f'{metric_1} vs {metric_2}', xlabel=metric_1, ylabel=metric_2, backend=backend);"
   ]
  },
  {
   "cell_type": "markdown",
   "metadata": {},
   "source": [
    "## usage examples\n",
    "\n",
    "Illustrate usage based on dummy experiment manager"
   ]
  },
  {
   "cell_type": "markdown",
   "metadata": {},
   "source": [
    "#### plot relationship between validation and accuracy metrics"
   ]
  },
  {
   "cell_type": "code",
   "execution_count": null,
   "metadata": {},
   "outputs": [
    {
     "data": {
      "text/html": [
       "        <script type=\"text/javascript\">\n",
       "        window.PlotlyConfig = {MathJaxConfig: 'local'};\n",
       "        if (window.MathJax) {MathJax.Hub.Config({SVG: {font: \"STIX-Web\"}});}\n",
       "        if (typeof require !== 'undefined') {\n",
       "        require.undef(\"plotly\");\n",
       "        requirejs.config({\n",
       "            paths: {\n",
       "                'plotly': ['https://cdn.plot.ly/plotly-latest.min']\n",
       "            }\n",
       "        });\n",
       "        require(['plotly'], function(Plotly) {\n",
       "            window._Plotly = Plotly;\n",
       "        });\n",
       "        }\n",
       "        </script>\n",
       "        "
      ]
     },
     "metadata": {},
     "output_type": "display_data"
    },
    {
     "data": {
      "application/vnd.plotly.v1+json": {
       "config": {
        "linkText": "Export to plot.ly",
        "plotlyServerURL": "https://plot.ly",
        "showLink": false
       },
       "data": [
        {
         "mode": "markers",
         "name": "all experiments",
         "type": "scatter",
         "x": [
          0.27926598888204995,
          0.3137059084744178,
          0.2218753580495028,
          0.4273100328604531,
          0.10037652871806682,
          0.2917104188830788,
          0.40595123363337116,
          0.5284557348723119,
          0.42169553430730367,
          0.5756390427991992,
          0.6207498332609989,
          0.8331586847574228,
          0.6767798592387262,
          0.7663820037837367,
          0.7139352349626373,
          0.5553807138764123,
          0.4329241288245753,
          0.5637900027602879,
          0.595532628836696,
          0.7047990383831553,
          0.7999951594528081,
          0.6254506206258286,
          0.7953583890696541,
          0.66913619025467,
          0.7298685305117447,
          1,
          1,
          1,
          0.8244342851035541,
          0.9977349399753055,
          0.3387769460381838,
          0.48934917507672415,
          0.5564967504409262,
          0.4698884151478717,
          0.2839417504678744,
          0.5503117186107063,
          0.6393940368753838,
          0.5096522809914014,
          0.4947972295452413,
          0.4114817454372518,
          0.7319007035082885,
          0.8446965979463413,
          0.8395144655922936,
          0.9742442141247202,
          0.9633114159358351,
          0.5881055924921881,
          0.420471888780363,
          0.5697820666594738,
          0.6610967375402188,
          0.6730031374656285,
          0.8400796317512461,
          0.7876164149828687,
          0.886118182323862,
          0.9222606503647068,
          0.836106916103745,
          0.9951568466361361,
          1,
          1,
          1,
          1,
          1,
          1,
          1,
          1,
          1,
          1,
          1,
          1,
          1,
          1,
          1,
          1,
          1,
          1,
          1,
          1,
          1,
          1,
          1,
          1,
          1,
          1,
          1,
          1,
          1,
          1,
          1,
          1,
          1,
          1
         ],
         "y": [
          0.37116853691162743,
          0.2756037415342204,
          0.2568434543076298,
          0.2991516198816612,
          0.3750686499164436,
          0.5984130617146644,
          0.47926865120271667,
          0.503334983552942,
          0.5930502108732516,
          0.5669994095092334,
          0.9465589728725352,
          0.938676264609408,
          0.8709883251192441,
          0.9732108690991055,
          0.8440847745572306,
          0.5834310136313992,
          0.5233026801585711,
          0.5182624056965026,
          0.3975501541932186,
          0.4533623194438294,
          0.7796775300098298,
          0.8064366426825922,
          0.5769698582387975,
          0.6991856712910721,
          0.6443386614889013,
          0.7886470874478337,
          0.9201807585811064,
          1,
          0.9860824540650245,
          1,
          0.14383191030781514,
          0.20918885421021916,
          0.096959750477558,
          0.154574056329619,
          0.18363908835696285,
          0.7241428107042368,
          0.4275716725618324,
          0.44376062880642747,
          0.539888670247428,
          0.3761258934816317,
          0.8028149534318972,
          0.9044021849405182,
          0.8570047544578,
          0.8273460854237368,
          0.7701504726681038,
          0.566229870520842,
          0.7306124893807233,
          0.7125051791835613,
          0.7024544166347816,
          0.8558216263458401,
          0.8829323437222805,
          1,
          0.8888110561660534,
          0.7777313821266092,
          0.9952072707170627,
          1,
          1,
          1,
          1,
          1,
          1,
          1,
          1,
          1,
          1,
          1,
          1,
          1,
          1,
          1,
          1,
          1,
          1,
          1,
          1,
          0.8879746612500439,
          0.9674160974511479,
          1,
          0.892248582032179,
          0.9426325611045316,
          1,
          1,
          1,
          1,
          1,
          1,
          1,
          1,
          1,
          1
         ]
        },
        {
         "mode": "lines",
         "name": "linear",
         "type": "scatter",
         "x": [
          0.10037652871806682,
          0.1094636344885914,
          0.11855074025911598,
          0.12763784602964057,
          0.13672495180016514,
          0.1458120575706897,
          0.15489916334121429,
          0.16398626911173886,
          0.17307337488226343,
          0.182160480652788,
          0.1912475864233126,
          0.20033469219383718,
          0.20942179796436175,
          0.21850890373488635,
          0.22759600950541092,
          0.2366831152759355,
          0.24577022104646007,
          0.25485732681698464,
          0.2639444325875092,
          0.27303153835803384,
          0.28211864412855836,
          0.291205749899083,
          0.3002928556696075,
          0.30937996144013213,
          0.31846706721065665,
          0.3275541729811813,
          0.33664127875170585,
          0.3457283845222304,
          0.35481549029275505,
          0.36390259606327957,
          0.3729897018338042,
          0.3820768076043287,
          0.39116391337485334,
          0.40025101914537786,
          0.4093381249159025,
          0.418425230686427,
          0.42751233645695164,
          0.43659944222747615,
          0.4456865479980008,
          0.4547736537685254,
          0.4638607595390499,
          0.47294786530957456,
          0.4820349710800991,
          0.4911220768506237,
          0.5002091826211482,
          0.5092962883916728,
          0.5183833941621974,
          0.527470499932722,
          0.5365576057032465,
          0.5456447114737711,
          0.5547318172442958,
          0.5638189230148203,
          0.5729060287853449,
          0.5819931345558694,
          0.5910802403263941,
          0.6001673460969186,
          0.6092544518674432,
          0.6183415576379677,
          0.6274286634084923,
          0.6365157691790169,
          0.6456028749495415,
          0.654689980720066,
          0.6637770864905906,
          0.6728641922611152,
          0.6819512980316398,
          0.6910384038021644,
          0.7001255095726889,
          0.7092126153432136,
          0.7182997211137381,
          0.7273868268842627,
          0.7364739326547872,
          0.7455610384253119,
          0.7546481441958364,
          0.763735249966361,
          0.7728223557368855,
          0.7819094615074101,
          0.7909965672779348,
          0.8000836730484593,
          0.8091707788189839,
          0.8182578845895084,
          0.8273449903600331,
          0.8364320961305576,
          0.8455192019010822,
          0.8546063076716067,
          0.8636934134421314,
          0.8727805192126559,
          0.8818676249831805,
          0.8909547307537051,
          0.9000418365242296,
          0.9091289422947543,
          0.9182160480652788,
          0.9273031538358034,
          0.9363902596063279,
          0.9454773653768526,
          0.9545644711473771,
          0.9636515769179017,
          0.9727386826884262,
          0.9818257884589509,
          0.9909128942294755,
          1
         ],
         "y": [
          0.096959750477558,
          0.10608136915960287,
          0.11520298784164774,
          0.12432460652369261,
          0.13344622520573748,
          0.14256784388778235,
          0.1516894625698272,
          0.1608110812518721,
          0.16993269993391696,
          0.17905431861596183,
          0.1881759372980067,
          0.19729755598005155,
          0.20641917466209642,
          0.21554079334414128,
          0.22466241202618617,
          0.23378403070823103,
          0.2429056493902759,
          0.2520272680723208,
          0.26114888675436565,
          0.2702705054364105,
          0.2793921241184554,
          0.28851374280050024,
          0.2976353614825451,
          0.30675698016458997,
          0.31587859884663483,
          0.3250002175286797,
          0.33412183621072455,
          0.3432434548927694,
          0.35236507357481434,
          0.3614866922568592,
          0.37060831093890406,
          0.3797299296209489,
          0.3888515483029938,
          0.39797316698503865,
          0.4070947856670835,
          0.4162164043491284,
          0.42533802303117324,
          0.4344596417132181,
          0.443581260395263,
          0.4527028790773079,
          0.46182449775935275,
          0.4709461164413976,
          0.4800677351234425,
          0.48918935380548734,
          0.4983109724875322,
          0.5074325911695771,
          0.5165542098516219,
          0.5256758285336668,
          0.5347974472157117,
          0.5439190658977566,
          0.5530406845798015,
          0.5621623032618464,
          0.5712839219438912,
          0.5804055406259361,
          0.5895271593079809,
          0.5986487779900258,
          0.6077703966720707,
          0.6168920153541155,
          0.6260136340361604,
          0.6351352527182053,
          0.6442568714002501,
          0.653378490082295,
          0.6625001087643398,
          0.6716217274463847,
          0.6807433461284296,
          0.6898649648104744,
          0.6989865834925193,
          0.7081082021745642,
          0.717229820856609,
          0.7263514395386539,
          0.7354730582206987,
          0.7445946769027436,
          0.7537162955847885,
          0.7628379142668333,
          0.7719595329488782,
          0.7810811516309232,
          0.790202770312968,
          0.7993243889950129,
          0.8084460076770578,
          0.8175676263591026,
          0.8266892450411475,
          0.8358108637231924,
          0.8449324824052372,
          0.8540541010872821,
          0.8631757197693269,
          0.8722973384513718,
          0.8814189571334167,
          0.8905405758154615,
          0.8996621944975064,
          0.9087838131795513,
          0.9179054318615961,
          0.927027050543641,
          0.9361486692256858,
          0.9452702879077307,
          0.9543919065897756,
          0.9635135252718204,
          0.9726351439538653,
          0.9817567626359103,
          0.9908783813179551,
          1
         ]
        }
       ],
       "layout": {
        "template": {
         "data": {
          "bar": [
           {
            "error_x": {
             "color": "#2a3f5f"
            },
            "error_y": {
             "color": "#2a3f5f"
            },
            "marker": {
             "line": {
              "color": "#E5ECF6",
              "width": 0.5
             }
            },
            "type": "bar"
           }
          ],
          "barpolar": [
           {
            "marker": {
             "line": {
              "color": "#E5ECF6",
              "width": 0.5
             }
            },
            "type": "barpolar"
           }
          ],
          "carpet": [
           {
            "aaxis": {
             "endlinecolor": "#2a3f5f",
             "gridcolor": "white",
             "linecolor": "white",
             "minorgridcolor": "white",
             "startlinecolor": "#2a3f5f"
            },
            "baxis": {
             "endlinecolor": "#2a3f5f",
             "gridcolor": "white",
             "linecolor": "white",
             "minorgridcolor": "white",
             "startlinecolor": "#2a3f5f"
            },
            "type": "carpet"
           }
          ],
          "choropleth": [
           {
            "colorbar": {
             "outlinewidth": 0,
             "ticks": ""
            },
            "type": "choropleth"
           }
          ],
          "contour": [
           {
            "colorbar": {
             "outlinewidth": 0,
             "ticks": ""
            },
            "colorscale": [
             [
              0,
              "#0d0887"
             ],
             [
              0.1111111111111111,
              "#46039f"
             ],
             [
              0.2222222222222222,
              "#7201a8"
             ],
             [
              0.3333333333333333,
              "#9c179e"
             ],
             [
              0.4444444444444444,
              "#bd3786"
             ],
             [
              0.5555555555555556,
              "#d8576b"
             ],
             [
              0.6666666666666666,
              "#ed7953"
             ],
             [
              0.7777777777777778,
              "#fb9f3a"
             ],
             [
              0.8888888888888888,
              "#fdca26"
             ],
             [
              1,
              "#f0f921"
             ]
            ],
            "type": "contour"
           }
          ],
          "contourcarpet": [
           {
            "colorbar": {
             "outlinewidth": 0,
             "ticks": ""
            },
            "type": "contourcarpet"
           }
          ],
          "heatmap": [
           {
            "colorbar": {
             "outlinewidth": 0,
             "ticks": ""
            },
            "colorscale": [
             [
              0,
              "#0d0887"
             ],
             [
              0.1111111111111111,
              "#46039f"
             ],
             [
              0.2222222222222222,
              "#7201a8"
             ],
             [
              0.3333333333333333,
              "#9c179e"
             ],
             [
              0.4444444444444444,
              "#bd3786"
             ],
             [
              0.5555555555555556,
              "#d8576b"
             ],
             [
              0.6666666666666666,
              "#ed7953"
             ],
             [
              0.7777777777777778,
              "#fb9f3a"
             ],
             [
              0.8888888888888888,
              "#fdca26"
             ],
             [
              1,
              "#f0f921"
             ]
            ],
            "type": "heatmap"
           }
          ],
          "heatmapgl": [
           {
            "colorbar": {
             "outlinewidth": 0,
             "ticks": ""
            },
            "colorscale": [
             [
              0,
              "#0d0887"
             ],
             [
              0.1111111111111111,
              "#46039f"
             ],
             [
              0.2222222222222222,
              "#7201a8"
             ],
             [
              0.3333333333333333,
              "#9c179e"
             ],
             [
              0.4444444444444444,
              "#bd3786"
             ],
             [
              0.5555555555555556,
              "#d8576b"
             ],
             [
              0.6666666666666666,
              "#ed7953"
             ],
             [
              0.7777777777777778,
              "#fb9f3a"
             ],
             [
              0.8888888888888888,
              "#fdca26"
             ],
             [
              1,
              "#f0f921"
             ]
            ],
            "type": "heatmapgl"
           }
          ],
          "histogram": [
           {
            "marker": {
             "colorbar": {
              "outlinewidth": 0,
              "ticks": ""
             }
            },
            "type": "histogram"
           }
          ],
          "histogram2d": [
           {
            "colorbar": {
             "outlinewidth": 0,
             "ticks": ""
            },
            "colorscale": [
             [
              0,
              "#0d0887"
             ],
             [
              0.1111111111111111,
              "#46039f"
             ],
             [
              0.2222222222222222,
              "#7201a8"
             ],
             [
              0.3333333333333333,
              "#9c179e"
             ],
             [
              0.4444444444444444,
              "#bd3786"
             ],
             [
              0.5555555555555556,
              "#d8576b"
             ],
             [
              0.6666666666666666,
              "#ed7953"
             ],
             [
              0.7777777777777778,
              "#fb9f3a"
             ],
             [
              0.8888888888888888,
              "#fdca26"
             ],
             [
              1,
              "#f0f921"
             ]
            ],
            "type": "histogram2d"
           }
          ],
          "histogram2dcontour": [
           {
            "colorbar": {
             "outlinewidth": 0,
             "ticks": ""
            },
            "colorscale": [
             [
              0,
              "#0d0887"
             ],
             [
              0.1111111111111111,
              "#46039f"
             ],
             [
              0.2222222222222222,
              "#7201a8"
             ],
             [
              0.3333333333333333,
              "#9c179e"
             ],
             [
              0.4444444444444444,
              "#bd3786"
             ],
             [
              0.5555555555555556,
              "#d8576b"
             ],
             [
              0.6666666666666666,
              "#ed7953"
             ],
             [
              0.7777777777777778,
              "#fb9f3a"
             ],
             [
              0.8888888888888888,
              "#fdca26"
             ],
             [
              1,
              "#f0f921"
             ]
            ],
            "type": "histogram2dcontour"
           }
          ],
          "mesh3d": [
           {
            "colorbar": {
             "outlinewidth": 0,
             "ticks": ""
            },
            "type": "mesh3d"
           }
          ],
          "parcoords": [
           {
            "line": {
             "colorbar": {
              "outlinewidth": 0,
              "ticks": ""
             }
            },
            "type": "parcoords"
           }
          ],
          "pie": [
           {
            "automargin": true,
            "type": "pie"
           }
          ],
          "scatter": [
           {
            "marker": {
             "colorbar": {
              "outlinewidth": 0,
              "ticks": ""
             }
            },
            "type": "scatter"
           }
          ],
          "scatter3d": [
           {
            "line": {
             "colorbar": {
              "outlinewidth": 0,
              "ticks": ""
             }
            },
            "marker": {
             "colorbar": {
              "outlinewidth": 0,
              "ticks": ""
             }
            },
            "type": "scatter3d"
           }
          ],
          "scattercarpet": [
           {
            "marker": {
             "colorbar": {
              "outlinewidth": 0,
              "ticks": ""
             }
            },
            "type": "scattercarpet"
           }
          ],
          "scattergeo": [
           {
            "marker": {
             "colorbar": {
              "outlinewidth": 0,
              "ticks": ""
             }
            },
            "type": "scattergeo"
           }
          ],
          "scattergl": [
           {
            "marker": {
             "colorbar": {
              "outlinewidth": 0,
              "ticks": ""
             }
            },
            "type": "scattergl"
           }
          ],
          "scattermapbox": [
           {
            "marker": {
             "colorbar": {
              "outlinewidth": 0,
              "ticks": ""
             }
            },
            "type": "scattermapbox"
           }
          ],
          "scatterpolar": [
           {
            "marker": {
             "colorbar": {
              "outlinewidth": 0,
              "ticks": ""
             }
            },
            "type": "scatterpolar"
           }
          ],
          "scatterpolargl": [
           {
            "marker": {
             "colorbar": {
              "outlinewidth": 0,
              "ticks": ""
             }
            },
            "type": "scatterpolargl"
           }
          ],
          "scatterternary": [
           {
            "marker": {
             "colorbar": {
              "outlinewidth": 0,
              "ticks": ""
             }
            },
            "type": "scatterternary"
           }
          ],
          "surface": [
           {
            "colorbar": {
             "outlinewidth": 0,
             "ticks": ""
            },
            "colorscale": [
             [
              0,
              "#0d0887"
             ],
             [
              0.1111111111111111,
              "#46039f"
             ],
             [
              0.2222222222222222,
              "#7201a8"
             ],
             [
              0.3333333333333333,
              "#9c179e"
             ],
             [
              0.4444444444444444,
              "#bd3786"
             ],
             [
              0.5555555555555556,
              "#d8576b"
             ],
             [
              0.6666666666666666,
              "#ed7953"
             ],
             [
              0.7777777777777778,
              "#fb9f3a"
             ],
             [
              0.8888888888888888,
              "#fdca26"
             ],
             [
              1,
              "#f0f921"
             ]
            ],
            "type": "surface"
           }
          ],
          "table": [
           {
            "cells": {
             "fill": {
              "color": "#EBF0F8"
             },
             "line": {
              "color": "white"
             }
            },
            "header": {
             "fill": {
              "color": "#C8D4E3"
             },
             "line": {
              "color": "white"
             }
            },
            "type": "table"
           }
          ]
         },
         "layout": {
          "annotationdefaults": {
           "arrowcolor": "#2a3f5f",
           "arrowhead": 0,
           "arrowwidth": 1
          },
          "autotypenumbers": "strict",
          "coloraxis": {
           "colorbar": {
            "outlinewidth": 0,
            "ticks": ""
           }
          },
          "colorscale": {
           "diverging": [
            [
             0,
             "#8e0152"
            ],
            [
             0.1,
             "#c51b7d"
            ],
            [
             0.2,
             "#de77ae"
            ],
            [
             0.3,
             "#f1b6da"
            ],
            [
             0.4,
             "#fde0ef"
            ],
            [
             0.5,
             "#f7f7f7"
            ],
            [
             0.6,
             "#e6f5d0"
            ],
            [
             0.7,
             "#b8e186"
            ],
            [
             0.8,
             "#7fbc41"
            ],
            [
             0.9,
             "#4d9221"
            ],
            [
             1,
             "#276419"
            ]
           ],
           "sequential": [
            [
             0,
             "#0d0887"
            ],
            [
             0.1111111111111111,
             "#46039f"
            ],
            [
             0.2222222222222222,
             "#7201a8"
            ],
            [
             0.3333333333333333,
             "#9c179e"
            ],
            [
             0.4444444444444444,
             "#bd3786"
            ],
            [
             0.5555555555555556,
             "#d8576b"
            ],
            [
             0.6666666666666666,
             "#ed7953"
            ],
            [
             0.7777777777777778,
             "#fb9f3a"
            ],
            [
             0.8888888888888888,
             "#fdca26"
            ],
            [
             1,
             "#f0f921"
            ]
           ],
           "sequentialminus": [
            [
             0,
             "#0d0887"
            ],
            [
             0.1111111111111111,
             "#46039f"
            ],
            [
             0.2222222222222222,
             "#7201a8"
            ],
            [
             0.3333333333333333,
             "#9c179e"
            ],
            [
             0.4444444444444444,
             "#bd3786"
            ],
            [
             0.5555555555555556,
             "#d8576b"
            ],
            [
             0.6666666666666666,
             "#ed7953"
            ],
            [
             0.7777777777777778,
             "#fb9f3a"
            ],
            [
             0.8888888888888888,
             "#fdca26"
            ],
            [
             1,
             "#f0f921"
            ]
           ]
          },
          "colorway": [
           "#636efa",
           "#EF553B",
           "#00cc96",
           "#ab63fa",
           "#FFA15A",
           "#19d3f3",
           "#FF6692",
           "#B6E880",
           "#FF97FF",
           "#FECB52"
          ],
          "font": {
           "color": "#2a3f5f"
          },
          "geo": {
           "bgcolor": "white",
           "lakecolor": "white",
           "landcolor": "#E5ECF6",
           "showlakes": true,
           "showland": true,
           "subunitcolor": "white"
          },
          "hoverlabel": {
           "align": "left"
          },
          "hovermode": "closest",
          "mapbox": {
           "style": "light"
          },
          "paper_bgcolor": "white",
          "plot_bgcolor": "#E5ECF6",
          "polar": {
           "angularaxis": {
            "gridcolor": "white",
            "linecolor": "white",
            "ticks": ""
           },
           "bgcolor": "#E5ECF6",
           "radialaxis": {
            "gridcolor": "white",
            "linecolor": "white",
            "ticks": ""
           }
          },
          "scene": {
           "xaxis": {
            "backgroundcolor": "#E5ECF6",
            "gridcolor": "white",
            "gridwidth": 2,
            "linecolor": "white",
            "showbackground": true,
            "ticks": "",
            "zerolinecolor": "white"
           },
           "yaxis": {
            "backgroundcolor": "#E5ECF6",
            "gridcolor": "white",
            "gridwidth": 2,
            "linecolor": "white",
            "showbackground": true,
            "ticks": "",
            "zerolinecolor": "white"
           },
           "zaxis": {
            "backgroundcolor": "#E5ECF6",
            "gridcolor": "white",
            "gridwidth": 2,
            "linecolor": "white",
            "showbackground": true,
            "ticks": "",
            "zerolinecolor": "white"
           }
          },
          "shapedefaults": {
           "line": {
            "color": "#2a3f5f"
           }
          },
          "ternary": {
           "aaxis": {
            "gridcolor": "white",
            "linecolor": "white",
            "ticks": ""
           },
           "baxis": {
            "gridcolor": "white",
            "linecolor": "white",
            "ticks": ""
           },
           "bgcolor": "#E5ECF6",
           "caxis": {
            "gridcolor": "white",
            "linecolor": "white",
            "ticks": ""
           }
          },
          "title": {
           "x": 0.05
          },
          "xaxis": {
           "automargin": true,
           "gridcolor": "white",
           "linecolor": "white",
           "ticks": "",
           "title": {
            "standoff": 15
           },
           "zerolinecolor": "white",
           "zerolinewidth": 2
          },
          "yaxis": {
           "automargin": true,
           "gridcolor": "white",
           "linecolor": "white",
           "ticks": "",
           "title": {
            "standoff": 15
           },
           "zerolinecolor": "white",
           "zerolinewidth": 2
          }
         }
        },
        "title": {
         "text": "validation_accuracy vs test_accuracy"
        },
        "xaxis": {
         "title": {
          "text": "validation_accuracy"
         }
        },
        "yaxis": {
         "title": {
          "text": "test_accuracy"
         }
        }
       }
      },
      "text/html": [
       "<div>                            <div id=\"530726ac-c7a3-4932-ac1e-a984993e5d12\" class=\"plotly-graph-div\" style=\"height:525px; width:100%;\"></div>            <script type=\"text/javascript\">                require([\"plotly\"], function(Plotly) {                    window.PLOTLYENV=window.PLOTLYENV || {};                                    if (document.getElementById(\"530726ac-c7a3-4932-ac1e-a984993e5d12\")) {                    Plotly.newPlot(                        \"530726ac-c7a3-4932-ac1e-a984993e5d12\",                        [{\"mode\": \"markers\", \"name\": \"all experiments\", \"type\": \"scatter\", \"x\": [0.27926598888204995, 0.3137059084744178, 0.2218753580495028, 0.4273100328604531, 0.10037652871806682, 0.2917104188830788, 0.40595123363337116, 0.5284557348723119, 0.42169553430730367, 0.5756390427991992, 0.6207498332609989, 0.8331586847574228, 0.6767798592387262, 0.7663820037837367, 0.7139352349626373, 0.5553807138764123, 0.4329241288245753, 0.5637900027602879, 0.595532628836696, 0.7047990383831553, 0.7999951594528081, 0.6254506206258286, 0.7953583890696541, 0.66913619025467, 0.7298685305117447, 1.0, 1.0, 1.0, 0.8244342851035541, 0.9977349399753055, 0.3387769460381838, 0.48934917507672415, 0.5564967504409262, 0.4698884151478717, 0.2839417504678744, 0.5503117186107063, 0.6393940368753838, 0.5096522809914014, 0.4947972295452413, 0.4114817454372518, 0.7319007035082885, 0.8446965979463413, 0.8395144655922936, 0.9742442141247202, 0.9633114159358351, 0.5881055924921881, 0.420471888780363, 0.5697820666594738, 0.6610967375402188, 0.6730031374656285, 0.8400796317512461, 0.7876164149828687, 0.886118182323862, 0.9222606503647068, 0.836106916103745, 0.9951568466361361, 1.0, 1.0, 1.0, 1.0, 1.0, 1.0, 1.0, 1.0, 1.0, 1.0, 1.0, 1.0, 1.0, 1.0, 1.0, 1.0, 1.0, 1.0, 1.0, 1.0, 1.0, 1.0, 1.0, 1.0, 1.0, 1.0, 1.0, 1.0, 1.0, 1.0, 1.0, 1.0, 1.0, 1.0], \"y\": [0.37116853691162743, 0.2756037415342204, 0.2568434543076298, 0.2991516198816612, 0.3750686499164436, 0.5984130617146644, 0.47926865120271667, 0.503334983552942, 0.5930502108732516, 0.5669994095092334, 0.9465589728725352, 0.938676264609408, 0.8709883251192441, 0.9732108690991055, 0.8440847745572306, 0.5834310136313992, 0.5233026801585711, 0.5182624056965026, 0.3975501541932186, 0.4533623194438294, 0.7796775300098298, 0.8064366426825922, 0.5769698582387975, 0.6991856712910721, 0.6443386614889013, 0.7886470874478337, 0.9201807585811064, 1.0, 0.9860824540650245, 1.0, 0.14383191030781514, 0.20918885421021916, 0.096959750477558, 0.154574056329619, 0.18363908835696285, 0.7241428107042368, 0.4275716725618324, 0.44376062880642747, 0.539888670247428, 0.3761258934816317, 0.8028149534318972, 0.9044021849405182, 0.8570047544578, 0.8273460854237368, 0.7701504726681038, 0.566229870520842, 0.7306124893807233, 0.7125051791835613, 0.7024544166347816, 0.8558216263458401, 0.8829323437222805, 1.0, 0.8888110561660534, 0.7777313821266092, 0.9952072707170627, 1.0, 1.0, 1.0, 1.0, 1.0, 1.0, 1.0, 1.0, 1.0, 1.0, 1.0, 1.0, 1.0, 1.0, 1.0, 1.0, 1.0, 1.0, 1.0, 1.0, 0.8879746612500439, 0.9674160974511479, 1.0, 0.892248582032179, 0.9426325611045316, 1.0, 1.0, 1.0, 1.0, 1.0, 1.0, 1.0, 1.0, 1.0, 1.0]}, {\"mode\": \"lines\", \"name\": \"linear\", \"type\": \"scatter\", \"x\": [0.10037652871806682, 0.1094636344885914, 0.11855074025911598, 0.12763784602964057, 0.13672495180016514, 0.1458120575706897, 0.15489916334121429, 0.16398626911173886, 0.17307337488226343, 0.182160480652788, 0.1912475864233126, 0.20033469219383718, 0.20942179796436175, 0.21850890373488635, 0.22759600950541092, 0.2366831152759355, 0.24577022104646007, 0.25485732681698464, 0.2639444325875092, 0.27303153835803384, 0.28211864412855836, 0.291205749899083, 0.3002928556696075, 0.30937996144013213, 0.31846706721065665, 0.3275541729811813, 0.33664127875170585, 0.3457283845222304, 0.35481549029275505, 0.36390259606327957, 0.3729897018338042, 0.3820768076043287, 0.39116391337485334, 0.40025101914537786, 0.4093381249159025, 0.418425230686427, 0.42751233645695164, 0.43659944222747615, 0.4456865479980008, 0.4547736537685254, 0.4638607595390499, 0.47294786530957456, 0.4820349710800991, 0.4911220768506237, 0.5002091826211482, 0.5092962883916728, 0.5183833941621974, 0.527470499932722, 0.5365576057032465, 0.5456447114737711, 0.5547318172442958, 0.5638189230148203, 0.5729060287853449, 0.5819931345558694, 0.5910802403263941, 0.6001673460969186, 0.6092544518674432, 0.6183415576379677, 0.6274286634084923, 0.6365157691790169, 0.6456028749495415, 0.654689980720066, 0.6637770864905906, 0.6728641922611152, 0.6819512980316398, 0.6910384038021644, 0.7001255095726889, 0.7092126153432136, 0.7182997211137381, 0.7273868268842627, 0.7364739326547872, 0.7455610384253119, 0.7546481441958364, 0.763735249966361, 0.7728223557368855, 0.7819094615074101, 0.7909965672779348, 0.8000836730484593, 0.8091707788189839, 0.8182578845895084, 0.8273449903600331, 0.8364320961305576, 0.8455192019010822, 0.8546063076716067, 0.8636934134421314, 0.8727805192126559, 0.8818676249831805, 0.8909547307537051, 0.9000418365242296, 0.9091289422947543, 0.9182160480652788, 0.9273031538358034, 0.9363902596063279, 0.9454773653768526, 0.9545644711473771, 0.9636515769179017, 0.9727386826884262, 0.9818257884589509, 0.9909128942294755, 1.0], \"y\": [0.096959750477558, 0.10608136915960287, 0.11520298784164774, 0.12432460652369261, 0.13344622520573748, 0.14256784388778235, 0.1516894625698272, 0.1608110812518721, 0.16993269993391696, 0.17905431861596183, 0.1881759372980067, 0.19729755598005155, 0.20641917466209642, 0.21554079334414128, 0.22466241202618617, 0.23378403070823103, 0.2429056493902759, 0.2520272680723208, 0.26114888675436565, 0.2702705054364105, 0.2793921241184554, 0.28851374280050024, 0.2976353614825451, 0.30675698016458997, 0.31587859884663483, 0.3250002175286797, 0.33412183621072455, 0.3432434548927694, 0.35236507357481434, 0.3614866922568592, 0.37060831093890406, 0.3797299296209489, 0.3888515483029938, 0.39797316698503865, 0.4070947856670835, 0.4162164043491284, 0.42533802303117324, 0.4344596417132181, 0.443581260395263, 0.4527028790773079, 0.46182449775935275, 0.4709461164413976, 0.4800677351234425, 0.48918935380548734, 0.4983109724875322, 0.5074325911695771, 0.5165542098516219, 0.5256758285336668, 0.5347974472157117, 0.5439190658977566, 0.5530406845798015, 0.5621623032618464, 0.5712839219438912, 0.5804055406259361, 0.5895271593079809, 0.5986487779900258, 0.6077703966720707, 0.6168920153541155, 0.6260136340361604, 0.6351352527182053, 0.6442568714002501, 0.653378490082295, 0.6625001087643398, 0.6716217274463847, 0.6807433461284296, 0.6898649648104744, 0.6989865834925193, 0.7081082021745642, 0.717229820856609, 0.7263514395386539, 0.7354730582206987, 0.7445946769027436, 0.7537162955847885, 0.7628379142668333, 0.7719595329488782, 0.7810811516309232, 0.790202770312968, 0.7993243889950129, 0.8084460076770578, 0.8175676263591026, 0.8266892450411475, 0.8358108637231924, 0.8449324824052372, 0.8540541010872821, 0.8631757197693269, 0.8722973384513718, 0.8814189571334167, 0.8905405758154615, 0.8996621944975064, 0.9087838131795513, 0.9179054318615961, 0.927027050543641, 0.9361486692256858, 0.9452702879077307, 0.9543919065897756, 0.9635135252718204, 0.9726351439538653, 0.9817567626359103, 0.9908783813179551, 1.0]}],                        {\"template\": {\"data\": {\"bar\": [{\"error_x\": {\"color\": \"#2a3f5f\"}, \"error_y\": {\"color\": \"#2a3f5f\"}, \"marker\": {\"line\": {\"color\": \"#E5ECF6\", \"width\": 0.5}}, \"type\": \"bar\"}], \"barpolar\": [{\"marker\": {\"line\": {\"color\": \"#E5ECF6\", \"width\": 0.5}}, \"type\": \"barpolar\"}], \"carpet\": [{\"aaxis\": {\"endlinecolor\": \"#2a3f5f\", \"gridcolor\": \"white\", \"linecolor\": \"white\", \"minorgridcolor\": \"white\", \"startlinecolor\": \"#2a3f5f\"}, \"baxis\": {\"endlinecolor\": \"#2a3f5f\", \"gridcolor\": \"white\", \"linecolor\": \"white\", \"minorgridcolor\": \"white\", \"startlinecolor\": \"#2a3f5f\"}, \"type\": \"carpet\"}], \"choropleth\": [{\"colorbar\": {\"outlinewidth\": 0, \"ticks\": \"\"}, \"type\": \"choropleth\"}], \"contour\": [{\"colorbar\": {\"outlinewidth\": 0, \"ticks\": \"\"}, \"colorscale\": [[0.0, \"#0d0887\"], [0.1111111111111111, \"#46039f\"], [0.2222222222222222, \"#7201a8\"], [0.3333333333333333, \"#9c179e\"], [0.4444444444444444, \"#bd3786\"], [0.5555555555555556, \"#d8576b\"], [0.6666666666666666, \"#ed7953\"], [0.7777777777777778, \"#fb9f3a\"], [0.8888888888888888, \"#fdca26\"], [1.0, \"#f0f921\"]], \"type\": \"contour\"}], \"contourcarpet\": [{\"colorbar\": {\"outlinewidth\": 0, \"ticks\": \"\"}, \"type\": \"contourcarpet\"}], \"heatmap\": [{\"colorbar\": {\"outlinewidth\": 0, \"ticks\": \"\"}, \"colorscale\": [[0.0, \"#0d0887\"], [0.1111111111111111, \"#46039f\"], [0.2222222222222222, \"#7201a8\"], [0.3333333333333333, \"#9c179e\"], [0.4444444444444444, \"#bd3786\"], [0.5555555555555556, \"#d8576b\"], [0.6666666666666666, \"#ed7953\"], [0.7777777777777778, \"#fb9f3a\"], [0.8888888888888888, \"#fdca26\"], [1.0, \"#f0f921\"]], \"type\": \"heatmap\"}], \"heatmapgl\": [{\"colorbar\": {\"outlinewidth\": 0, \"ticks\": \"\"}, \"colorscale\": [[0.0, \"#0d0887\"], [0.1111111111111111, \"#46039f\"], [0.2222222222222222, \"#7201a8\"], [0.3333333333333333, \"#9c179e\"], [0.4444444444444444, \"#bd3786\"], [0.5555555555555556, \"#d8576b\"], [0.6666666666666666, \"#ed7953\"], [0.7777777777777778, \"#fb9f3a\"], [0.8888888888888888, \"#fdca26\"], [1.0, \"#f0f921\"]], \"type\": \"heatmapgl\"}], \"histogram\": [{\"marker\": {\"colorbar\": {\"outlinewidth\": 0, \"ticks\": \"\"}}, \"type\": \"histogram\"}], \"histogram2d\": [{\"colorbar\": {\"outlinewidth\": 0, \"ticks\": \"\"}, \"colorscale\": [[0.0, \"#0d0887\"], [0.1111111111111111, \"#46039f\"], [0.2222222222222222, \"#7201a8\"], [0.3333333333333333, \"#9c179e\"], [0.4444444444444444, \"#bd3786\"], [0.5555555555555556, \"#d8576b\"], [0.6666666666666666, \"#ed7953\"], [0.7777777777777778, \"#fb9f3a\"], [0.8888888888888888, \"#fdca26\"], [1.0, \"#f0f921\"]], \"type\": \"histogram2d\"}], \"histogram2dcontour\": [{\"colorbar\": {\"outlinewidth\": 0, \"ticks\": \"\"}, \"colorscale\": [[0.0, \"#0d0887\"], [0.1111111111111111, \"#46039f\"], [0.2222222222222222, \"#7201a8\"], [0.3333333333333333, \"#9c179e\"], [0.4444444444444444, \"#bd3786\"], [0.5555555555555556, \"#d8576b\"], [0.6666666666666666, \"#ed7953\"], [0.7777777777777778, \"#fb9f3a\"], [0.8888888888888888, \"#fdca26\"], [1.0, \"#f0f921\"]], \"type\": \"histogram2dcontour\"}], \"mesh3d\": [{\"colorbar\": {\"outlinewidth\": 0, \"ticks\": \"\"}, \"type\": \"mesh3d\"}], \"parcoords\": [{\"line\": {\"colorbar\": {\"outlinewidth\": 0, \"ticks\": \"\"}}, \"type\": \"parcoords\"}], \"pie\": [{\"automargin\": true, \"type\": \"pie\"}], \"scatter\": [{\"marker\": {\"colorbar\": {\"outlinewidth\": 0, \"ticks\": \"\"}}, \"type\": \"scatter\"}], \"scatter3d\": [{\"line\": {\"colorbar\": {\"outlinewidth\": 0, \"ticks\": \"\"}}, \"marker\": {\"colorbar\": {\"outlinewidth\": 0, \"ticks\": \"\"}}, \"type\": \"scatter3d\"}], \"scattercarpet\": [{\"marker\": {\"colorbar\": {\"outlinewidth\": 0, \"ticks\": \"\"}}, \"type\": \"scattercarpet\"}], \"scattergeo\": [{\"marker\": {\"colorbar\": {\"outlinewidth\": 0, \"ticks\": \"\"}}, \"type\": \"scattergeo\"}], \"scattergl\": [{\"marker\": {\"colorbar\": {\"outlinewidth\": 0, \"ticks\": \"\"}}, \"type\": \"scattergl\"}], \"scattermapbox\": [{\"marker\": {\"colorbar\": {\"outlinewidth\": 0, \"ticks\": \"\"}}, \"type\": \"scattermapbox\"}], \"scatterpolar\": [{\"marker\": {\"colorbar\": {\"outlinewidth\": 0, \"ticks\": \"\"}}, \"type\": \"scatterpolar\"}], \"scatterpolargl\": [{\"marker\": {\"colorbar\": {\"outlinewidth\": 0, \"ticks\": \"\"}}, \"type\": \"scatterpolargl\"}], \"scatterternary\": [{\"marker\": {\"colorbar\": {\"outlinewidth\": 0, \"ticks\": \"\"}}, \"type\": \"scatterternary\"}], \"surface\": [{\"colorbar\": {\"outlinewidth\": 0, \"ticks\": \"\"}, \"colorscale\": [[0.0, \"#0d0887\"], [0.1111111111111111, \"#46039f\"], [0.2222222222222222, \"#7201a8\"], [0.3333333333333333, \"#9c179e\"], [0.4444444444444444, \"#bd3786\"], [0.5555555555555556, \"#d8576b\"], [0.6666666666666666, \"#ed7953\"], [0.7777777777777778, \"#fb9f3a\"], [0.8888888888888888, \"#fdca26\"], [1.0, \"#f0f921\"]], \"type\": \"surface\"}], \"table\": [{\"cells\": {\"fill\": {\"color\": \"#EBF0F8\"}, \"line\": {\"color\": \"white\"}}, \"header\": {\"fill\": {\"color\": \"#C8D4E3\"}, \"line\": {\"color\": \"white\"}}, \"type\": \"table\"}]}, \"layout\": {\"annotationdefaults\": {\"arrowcolor\": \"#2a3f5f\", \"arrowhead\": 0, \"arrowwidth\": 1}, \"autotypenumbers\": \"strict\", \"coloraxis\": {\"colorbar\": {\"outlinewidth\": 0, \"ticks\": \"\"}}, \"colorscale\": {\"diverging\": [[0, \"#8e0152\"], [0.1, \"#c51b7d\"], [0.2, \"#de77ae\"], [0.3, \"#f1b6da\"], [0.4, \"#fde0ef\"], [0.5, \"#f7f7f7\"], [0.6, \"#e6f5d0\"], [0.7, \"#b8e186\"], [0.8, \"#7fbc41\"], [0.9, \"#4d9221\"], [1, \"#276419\"]], \"sequential\": [[0.0, \"#0d0887\"], [0.1111111111111111, \"#46039f\"], [0.2222222222222222, \"#7201a8\"], [0.3333333333333333, \"#9c179e\"], [0.4444444444444444, \"#bd3786\"], [0.5555555555555556, \"#d8576b\"], [0.6666666666666666, \"#ed7953\"], [0.7777777777777778, \"#fb9f3a\"], [0.8888888888888888, \"#fdca26\"], [1.0, \"#f0f921\"]], \"sequentialminus\": [[0.0, \"#0d0887\"], [0.1111111111111111, \"#46039f\"], [0.2222222222222222, \"#7201a8\"], [0.3333333333333333, \"#9c179e\"], [0.4444444444444444, \"#bd3786\"], [0.5555555555555556, \"#d8576b\"], [0.6666666666666666, \"#ed7953\"], [0.7777777777777778, \"#fb9f3a\"], [0.8888888888888888, \"#fdca26\"], [1.0, \"#f0f921\"]]}, \"colorway\": [\"#636efa\", \"#EF553B\", \"#00cc96\", \"#ab63fa\", \"#FFA15A\", \"#19d3f3\", \"#FF6692\", \"#B6E880\", \"#FF97FF\", \"#FECB52\"], \"font\": {\"color\": \"#2a3f5f\"}, \"geo\": {\"bgcolor\": \"white\", \"lakecolor\": \"white\", \"landcolor\": \"#E5ECF6\", \"showlakes\": true, \"showland\": true, \"subunitcolor\": \"white\"}, \"hoverlabel\": {\"align\": \"left\"}, \"hovermode\": \"closest\", \"mapbox\": {\"style\": \"light\"}, \"paper_bgcolor\": \"white\", \"plot_bgcolor\": \"#E5ECF6\", \"polar\": {\"angularaxis\": {\"gridcolor\": \"white\", \"linecolor\": \"white\", \"ticks\": \"\"}, \"bgcolor\": \"#E5ECF6\", \"radialaxis\": {\"gridcolor\": \"white\", \"linecolor\": \"white\", \"ticks\": \"\"}}, \"scene\": {\"xaxis\": {\"backgroundcolor\": \"#E5ECF6\", \"gridcolor\": \"white\", \"gridwidth\": 2, \"linecolor\": \"white\", \"showbackground\": true, \"ticks\": \"\", \"zerolinecolor\": \"white\"}, \"yaxis\": {\"backgroundcolor\": \"#E5ECF6\", \"gridcolor\": \"white\", \"gridwidth\": 2, \"linecolor\": \"white\", \"showbackground\": true, \"ticks\": \"\", \"zerolinecolor\": \"white\"}, \"zaxis\": {\"backgroundcolor\": \"#E5ECF6\", \"gridcolor\": \"white\", \"gridwidth\": 2, \"linecolor\": \"white\", \"showbackground\": true, \"ticks\": \"\", \"zerolinecolor\": \"white\"}}, \"shapedefaults\": {\"line\": {\"color\": \"#2a3f5f\"}}, \"ternary\": {\"aaxis\": {\"gridcolor\": \"white\", \"linecolor\": \"white\", \"ticks\": \"\"}, \"baxis\": {\"gridcolor\": \"white\", \"linecolor\": \"white\", \"ticks\": \"\"}, \"bgcolor\": \"#E5ECF6\", \"caxis\": {\"gridcolor\": \"white\", \"linecolor\": \"white\", \"ticks\": \"\"}}, \"title\": {\"x\": 0.05}, \"xaxis\": {\"automargin\": true, \"gridcolor\": \"white\", \"linecolor\": \"white\", \"ticks\": \"\", \"title\": {\"standoff\": 15}, \"zerolinecolor\": \"white\", \"zerolinewidth\": 2}, \"yaxis\": {\"automargin\": true, \"gridcolor\": \"white\", \"linecolor\": \"white\", \"ticks\": \"\", \"title\": {\"standoff\": 15}, \"zerolinecolor\": \"white\", \"zerolinewidth\": 2}}}, \"title\": {\"text\": \"validation_accuracy vs test_accuracy\"}, \"xaxis\": {\"title\": {\"text\": \"validation_accuracy\"}}, \"yaxis\": {\"title\": {\"text\": \"test_accuracy\"}}},                        {\"responsive\": true}                    ).then(function(){\n",
       "                            \n",
       "var gd = document.getElementById('530726ac-c7a3-4932-ac1e-a984993e5d12');\n",
       "var x = new MutationObserver(function (mutations, observer) {{\n",
       "        var display = window.getComputedStyle(gd).display;\n",
       "        if (!display || display === 'none') {{\n",
       "            console.log([gd, 'removed!']);\n",
       "            Plotly.purge(gd);\n",
       "            observer.disconnect();\n",
       "        }}\n",
       "}});\n",
       "\n",
       "// Listen for the removal of the full notebook cells\n",
       "var notebookContainer = gd.closest('#notebook-container');\n",
       "if (notebookContainer) {{\n",
       "    x.observe(notebookContainer, {childList: true});\n",
       "}}\n",
       "\n",
       "// Listen for the clearing of the current output cell\n",
       "var outputEl = gd.closest('.output');\n",
       "if (outputEl) {{\n",
       "    x.observe(outputEl, {childList: true});\n",
       "}}\n",
       "\n",
       "                        })                };                });            </script>        </div>"
      ]
     },
     "metadata": {},
     "output_type": "display_data"
    }
   ],
   "source": [
    "plot_metric_relationship ('validation_accuracy', 'test_accuracy', backend='plotly')"
   ]
  },
  {
   "cell_type": "markdown",
   "metadata": {},
   "source": [
    "#### 3. Highlight selected experiments"
   ]
  },
  {
   "cell_type": "code",
   "execution_count": null,
   "metadata": {},
   "outputs": [
    {
     "data": {
      "text/html": [
       "        <script type=\"text/javascript\">\n",
       "        window.PlotlyConfig = {MathJaxConfig: 'local'};\n",
       "        if (window.MathJax) {MathJax.Hub.Config({SVG: {font: \"STIX-Web\"}});}\n",
       "        if (typeof require !== 'undefined') {\n",
       "        require.undef(\"plotly\");\n",
       "        requirejs.config({\n",
       "            paths: {\n",
       "                'plotly': ['https://cdn.plot.ly/plotly-latest.min']\n",
       "            }\n",
       "        });\n",
       "        require(['plotly'], function(Plotly) {\n",
       "            window._Plotly = Plotly;\n",
       "        });\n",
       "        }\n",
       "        </script>\n",
       "        "
      ]
     },
     "metadata": {},
     "output_type": "display_data"
    },
    {
     "data": {
      "application/vnd.plotly.v1+json": {
       "config": {
        "linkText": "Export to plot.ly",
        "plotlyServerURL": "https://plot.ly",
        "showLink": false
       },
       "data": [
        {
         "mode": "markers",
         "name": "all experiments",
         "type": "scatter",
         "x": [
          0.27926598888204995,
          0.3137059084744178,
          0.2218753580495028,
          0.4273100328604531,
          0.10037652871806682,
          0.2917104188830788,
          0.40595123363337116,
          0.5284557348723119,
          0.42169553430730367,
          0.5756390427991992,
          0.6207498332609989,
          0.8331586847574228,
          0.6767798592387262,
          0.7663820037837367,
          0.7139352349626373,
          0.5553807138764123,
          0.4329241288245753,
          0.5637900027602879,
          0.595532628836696,
          0.7047990383831553,
          0.7999951594528081,
          0.6254506206258286,
          0.7953583890696541,
          0.66913619025467,
          0.7298685305117447,
          1,
          1,
          1,
          0.8244342851035541,
          0.9977349399753055,
          0.3387769460381838,
          0.48934917507672415,
          0.5564967504409262,
          0.4698884151478717,
          0.2839417504678744,
          0.5503117186107063,
          0.6393940368753838,
          0.5096522809914014,
          0.4947972295452413,
          0.4114817454372518,
          0.7319007035082885,
          0.8446965979463413,
          0.8395144655922936,
          0.9742442141247202,
          0.9633114159358351,
          0.5881055924921881,
          0.420471888780363,
          0.5697820666594738,
          0.6610967375402188,
          0.6730031374656285,
          0.8400796317512461,
          0.7876164149828687,
          0.886118182323862,
          0.9222606503647068,
          0.836106916103745,
          0.9951568466361361,
          1,
          1,
          1,
          1,
          1,
          1,
          1,
          1,
          1,
          1,
          1,
          1,
          1,
          1,
          1,
          1,
          1,
          1,
          1,
          1,
          1,
          1,
          1,
          1,
          1,
          1,
          1,
          1,
          1,
          1,
          1,
          1,
          1,
          1
         ],
         "y": [
          0.37116853691162743,
          0.2756037415342204,
          0.2568434543076298,
          0.2991516198816612,
          0.3750686499164436,
          0.5984130617146644,
          0.47926865120271667,
          0.503334983552942,
          0.5930502108732516,
          0.5669994095092334,
          0.9465589728725352,
          0.938676264609408,
          0.8709883251192441,
          0.9732108690991055,
          0.8440847745572306,
          0.5834310136313992,
          0.5233026801585711,
          0.5182624056965026,
          0.3975501541932186,
          0.4533623194438294,
          0.7796775300098298,
          0.8064366426825922,
          0.5769698582387975,
          0.6991856712910721,
          0.6443386614889013,
          0.7886470874478337,
          0.9201807585811064,
          1,
          0.9860824540650245,
          1,
          0.14383191030781514,
          0.20918885421021916,
          0.096959750477558,
          0.154574056329619,
          0.18363908835696285,
          0.7241428107042368,
          0.4275716725618324,
          0.44376062880642747,
          0.539888670247428,
          0.3761258934816317,
          0.8028149534318972,
          0.9044021849405182,
          0.8570047544578,
          0.8273460854237368,
          0.7701504726681038,
          0.566229870520842,
          0.7306124893807233,
          0.7125051791835613,
          0.7024544166347816,
          0.8558216263458401,
          0.8829323437222805,
          1,
          0.8888110561660534,
          0.7777313821266092,
          0.9952072707170627,
          1,
          1,
          1,
          1,
          1,
          1,
          1,
          1,
          1,
          1,
          1,
          1,
          1,
          1,
          1,
          1,
          1,
          1,
          1,
          1,
          0.8879746612500439,
          0.9674160974511479,
          1,
          0.892248582032179,
          0.9426325611045316,
          1,
          1,
          1,
          1,
          1,
          1,
          1,
          1,
          1,
          1
         ]
        },
        {
         "mode": "markers",
         "name": "selected subset",
         "type": "scatter",
         "x": [
          1,
          1,
          1,
          0.8244342851035541,
          0.9977349399753055,
          0.6207498332609989,
          0.8331586847574228,
          0.6767798592387262,
          0.7663820037837367,
          0.7139352349626373
         ],
         "y": [
          0.7886470874478337,
          0.9201807585811064,
          1,
          0.9860824540650245,
          1,
          0.9465589728725352,
          0.938676264609408,
          0.8709883251192441,
          0.9732108690991055,
          0.8440847745572306
         ]
        },
        {
         "mode": "lines",
         "name": "linear",
         "type": "scatter",
         "x": [
          0.10037652871806682,
          0.1094636344885914,
          0.11855074025911598,
          0.12763784602964057,
          0.13672495180016514,
          0.1458120575706897,
          0.15489916334121429,
          0.16398626911173886,
          0.17307337488226343,
          0.182160480652788,
          0.1912475864233126,
          0.20033469219383718,
          0.20942179796436175,
          0.21850890373488635,
          0.22759600950541092,
          0.2366831152759355,
          0.24577022104646007,
          0.25485732681698464,
          0.2639444325875092,
          0.27303153835803384,
          0.28211864412855836,
          0.291205749899083,
          0.3002928556696075,
          0.30937996144013213,
          0.31846706721065665,
          0.3275541729811813,
          0.33664127875170585,
          0.3457283845222304,
          0.35481549029275505,
          0.36390259606327957,
          0.3729897018338042,
          0.3820768076043287,
          0.39116391337485334,
          0.40025101914537786,
          0.4093381249159025,
          0.418425230686427,
          0.42751233645695164,
          0.43659944222747615,
          0.4456865479980008,
          0.4547736537685254,
          0.4638607595390499,
          0.47294786530957456,
          0.4820349710800991,
          0.4911220768506237,
          0.5002091826211482,
          0.5092962883916728,
          0.5183833941621974,
          0.527470499932722,
          0.5365576057032465,
          0.5456447114737711,
          0.5547318172442958,
          0.5638189230148203,
          0.5729060287853449,
          0.5819931345558694,
          0.5910802403263941,
          0.6001673460969186,
          0.6092544518674432,
          0.6183415576379677,
          0.6274286634084923,
          0.6365157691790169,
          0.6456028749495415,
          0.654689980720066,
          0.6637770864905906,
          0.6728641922611152,
          0.6819512980316398,
          0.6910384038021644,
          0.7001255095726889,
          0.7092126153432136,
          0.7182997211137381,
          0.7273868268842627,
          0.7364739326547872,
          0.7455610384253119,
          0.7546481441958364,
          0.763735249966361,
          0.7728223557368855,
          0.7819094615074101,
          0.7909965672779348,
          0.8000836730484593,
          0.8091707788189839,
          0.8182578845895084,
          0.8273449903600331,
          0.8364320961305576,
          0.8455192019010822,
          0.8546063076716067,
          0.8636934134421314,
          0.8727805192126559,
          0.8818676249831805,
          0.8909547307537051,
          0.9000418365242296,
          0.9091289422947543,
          0.9182160480652788,
          0.9273031538358034,
          0.9363902596063279,
          0.9454773653768526,
          0.9545644711473771,
          0.9636515769179017,
          0.9727386826884262,
          0.9818257884589509,
          0.9909128942294755,
          1
         ],
         "y": [
          0.096959750477558,
          0.10608136915960287,
          0.11520298784164774,
          0.12432460652369261,
          0.13344622520573748,
          0.14256784388778235,
          0.1516894625698272,
          0.1608110812518721,
          0.16993269993391696,
          0.17905431861596183,
          0.1881759372980067,
          0.19729755598005155,
          0.20641917466209642,
          0.21554079334414128,
          0.22466241202618617,
          0.23378403070823103,
          0.2429056493902759,
          0.2520272680723208,
          0.26114888675436565,
          0.2702705054364105,
          0.2793921241184554,
          0.28851374280050024,
          0.2976353614825451,
          0.30675698016458997,
          0.31587859884663483,
          0.3250002175286797,
          0.33412183621072455,
          0.3432434548927694,
          0.35236507357481434,
          0.3614866922568592,
          0.37060831093890406,
          0.3797299296209489,
          0.3888515483029938,
          0.39797316698503865,
          0.4070947856670835,
          0.4162164043491284,
          0.42533802303117324,
          0.4344596417132181,
          0.443581260395263,
          0.4527028790773079,
          0.46182449775935275,
          0.4709461164413976,
          0.4800677351234425,
          0.48918935380548734,
          0.4983109724875322,
          0.5074325911695771,
          0.5165542098516219,
          0.5256758285336668,
          0.5347974472157117,
          0.5439190658977566,
          0.5530406845798015,
          0.5621623032618464,
          0.5712839219438912,
          0.5804055406259361,
          0.5895271593079809,
          0.5986487779900258,
          0.6077703966720707,
          0.6168920153541155,
          0.6260136340361604,
          0.6351352527182053,
          0.6442568714002501,
          0.653378490082295,
          0.6625001087643398,
          0.6716217274463847,
          0.6807433461284296,
          0.6898649648104744,
          0.6989865834925193,
          0.7081082021745642,
          0.717229820856609,
          0.7263514395386539,
          0.7354730582206987,
          0.7445946769027436,
          0.7537162955847885,
          0.7628379142668333,
          0.7719595329488782,
          0.7810811516309232,
          0.790202770312968,
          0.7993243889950129,
          0.8084460076770578,
          0.8175676263591026,
          0.8266892450411475,
          0.8358108637231924,
          0.8449324824052372,
          0.8540541010872821,
          0.8631757197693269,
          0.8722973384513718,
          0.8814189571334167,
          0.8905405758154615,
          0.8996621944975064,
          0.9087838131795513,
          0.9179054318615961,
          0.927027050543641,
          0.9361486692256858,
          0.9452702879077307,
          0.9543919065897756,
          0.9635135252718204,
          0.9726351439538653,
          0.9817567626359103,
          0.9908783813179551,
          1
         ]
        }
       ],
       "layout": {
        "template": {
         "data": {
          "bar": [
           {
            "error_x": {
             "color": "#2a3f5f"
            },
            "error_y": {
             "color": "#2a3f5f"
            },
            "marker": {
             "line": {
              "color": "#E5ECF6",
              "width": 0.5
             }
            },
            "type": "bar"
           }
          ],
          "barpolar": [
           {
            "marker": {
             "line": {
              "color": "#E5ECF6",
              "width": 0.5
             }
            },
            "type": "barpolar"
           }
          ],
          "carpet": [
           {
            "aaxis": {
             "endlinecolor": "#2a3f5f",
             "gridcolor": "white",
             "linecolor": "white",
             "minorgridcolor": "white",
             "startlinecolor": "#2a3f5f"
            },
            "baxis": {
             "endlinecolor": "#2a3f5f",
             "gridcolor": "white",
             "linecolor": "white",
             "minorgridcolor": "white",
             "startlinecolor": "#2a3f5f"
            },
            "type": "carpet"
           }
          ],
          "choropleth": [
           {
            "colorbar": {
             "outlinewidth": 0,
             "ticks": ""
            },
            "type": "choropleth"
           }
          ],
          "contour": [
           {
            "colorbar": {
             "outlinewidth": 0,
             "ticks": ""
            },
            "colorscale": [
             [
              0,
              "#0d0887"
             ],
             [
              0.1111111111111111,
              "#46039f"
             ],
             [
              0.2222222222222222,
              "#7201a8"
             ],
             [
              0.3333333333333333,
              "#9c179e"
             ],
             [
              0.4444444444444444,
              "#bd3786"
             ],
             [
              0.5555555555555556,
              "#d8576b"
             ],
             [
              0.6666666666666666,
              "#ed7953"
             ],
             [
              0.7777777777777778,
              "#fb9f3a"
             ],
             [
              0.8888888888888888,
              "#fdca26"
             ],
             [
              1,
              "#f0f921"
             ]
            ],
            "type": "contour"
           }
          ],
          "contourcarpet": [
           {
            "colorbar": {
             "outlinewidth": 0,
             "ticks": ""
            },
            "type": "contourcarpet"
           }
          ],
          "heatmap": [
           {
            "colorbar": {
             "outlinewidth": 0,
             "ticks": ""
            },
            "colorscale": [
             [
              0,
              "#0d0887"
             ],
             [
              0.1111111111111111,
              "#46039f"
             ],
             [
              0.2222222222222222,
              "#7201a8"
             ],
             [
              0.3333333333333333,
              "#9c179e"
             ],
             [
              0.4444444444444444,
              "#bd3786"
             ],
             [
              0.5555555555555556,
              "#d8576b"
             ],
             [
              0.6666666666666666,
              "#ed7953"
             ],
             [
              0.7777777777777778,
              "#fb9f3a"
             ],
             [
              0.8888888888888888,
              "#fdca26"
             ],
             [
              1,
              "#f0f921"
             ]
            ],
            "type": "heatmap"
           }
          ],
          "heatmapgl": [
           {
            "colorbar": {
             "outlinewidth": 0,
             "ticks": ""
            },
            "colorscale": [
             [
              0,
              "#0d0887"
             ],
             [
              0.1111111111111111,
              "#46039f"
             ],
             [
              0.2222222222222222,
              "#7201a8"
             ],
             [
              0.3333333333333333,
              "#9c179e"
             ],
             [
              0.4444444444444444,
              "#bd3786"
             ],
             [
              0.5555555555555556,
              "#d8576b"
             ],
             [
              0.6666666666666666,
              "#ed7953"
             ],
             [
              0.7777777777777778,
              "#fb9f3a"
             ],
             [
              0.8888888888888888,
              "#fdca26"
             ],
             [
              1,
              "#f0f921"
             ]
            ],
            "type": "heatmapgl"
           }
          ],
          "histogram": [
           {
            "marker": {
             "colorbar": {
              "outlinewidth": 0,
              "ticks": ""
             }
            },
            "type": "histogram"
           }
          ],
          "histogram2d": [
           {
            "colorbar": {
             "outlinewidth": 0,
             "ticks": ""
            },
            "colorscale": [
             [
              0,
              "#0d0887"
             ],
             [
              0.1111111111111111,
              "#46039f"
             ],
             [
              0.2222222222222222,
              "#7201a8"
             ],
             [
              0.3333333333333333,
              "#9c179e"
             ],
             [
              0.4444444444444444,
              "#bd3786"
             ],
             [
              0.5555555555555556,
              "#d8576b"
             ],
             [
              0.6666666666666666,
              "#ed7953"
             ],
             [
              0.7777777777777778,
              "#fb9f3a"
             ],
             [
              0.8888888888888888,
              "#fdca26"
             ],
             [
              1,
              "#f0f921"
             ]
            ],
            "type": "histogram2d"
           }
          ],
          "histogram2dcontour": [
           {
            "colorbar": {
             "outlinewidth": 0,
             "ticks": ""
            },
            "colorscale": [
             [
              0,
              "#0d0887"
             ],
             [
              0.1111111111111111,
              "#46039f"
             ],
             [
              0.2222222222222222,
              "#7201a8"
             ],
             [
              0.3333333333333333,
              "#9c179e"
             ],
             [
              0.4444444444444444,
              "#bd3786"
             ],
             [
              0.5555555555555556,
              "#d8576b"
             ],
             [
              0.6666666666666666,
              "#ed7953"
             ],
             [
              0.7777777777777778,
              "#fb9f3a"
             ],
             [
              0.8888888888888888,
              "#fdca26"
             ],
             [
              1,
              "#f0f921"
             ]
            ],
            "type": "histogram2dcontour"
           }
          ],
          "mesh3d": [
           {
            "colorbar": {
             "outlinewidth": 0,
             "ticks": ""
            },
            "type": "mesh3d"
           }
          ],
          "parcoords": [
           {
            "line": {
             "colorbar": {
              "outlinewidth": 0,
              "ticks": ""
             }
            },
            "type": "parcoords"
           }
          ],
          "pie": [
           {
            "automargin": true,
            "type": "pie"
           }
          ],
          "scatter": [
           {
            "marker": {
             "colorbar": {
              "outlinewidth": 0,
              "ticks": ""
             }
            },
            "type": "scatter"
           }
          ],
          "scatter3d": [
           {
            "line": {
             "colorbar": {
              "outlinewidth": 0,
              "ticks": ""
             }
            },
            "marker": {
             "colorbar": {
              "outlinewidth": 0,
              "ticks": ""
             }
            },
            "type": "scatter3d"
           }
          ],
          "scattercarpet": [
           {
            "marker": {
             "colorbar": {
              "outlinewidth": 0,
              "ticks": ""
             }
            },
            "type": "scattercarpet"
           }
          ],
          "scattergeo": [
           {
            "marker": {
             "colorbar": {
              "outlinewidth": 0,
              "ticks": ""
             }
            },
            "type": "scattergeo"
           }
          ],
          "scattergl": [
           {
            "marker": {
             "colorbar": {
              "outlinewidth": 0,
              "ticks": ""
             }
            },
            "type": "scattergl"
           }
          ],
          "scattermapbox": [
           {
            "marker": {
             "colorbar": {
              "outlinewidth": 0,
              "ticks": ""
             }
            },
            "type": "scattermapbox"
           }
          ],
          "scatterpolar": [
           {
            "marker": {
             "colorbar": {
              "outlinewidth": 0,
              "ticks": ""
             }
            },
            "type": "scatterpolar"
           }
          ],
          "scatterpolargl": [
           {
            "marker": {
             "colorbar": {
              "outlinewidth": 0,
              "ticks": ""
             }
            },
            "type": "scatterpolargl"
           }
          ],
          "scatterternary": [
           {
            "marker": {
             "colorbar": {
              "outlinewidth": 0,
              "ticks": ""
             }
            },
            "type": "scatterternary"
           }
          ],
          "surface": [
           {
            "colorbar": {
             "outlinewidth": 0,
             "ticks": ""
            },
            "colorscale": [
             [
              0,
              "#0d0887"
             ],
             [
              0.1111111111111111,
              "#46039f"
             ],
             [
              0.2222222222222222,
              "#7201a8"
             ],
             [
              0.3333333333333333,
              "#9c179e"
             ],
             [
              0.4444444444444444,
              "#bd3786"
             ],
             [
              0.5555555555555556,
              "#d8576b"
             ],
             [
              0.6666666666666666,
              "#ed7953"
             ],
             [
              0.7777777777777778,
              "#fb9f3a"
             ],
             [
              0.8888888888888888,
              "#fdca26"
             ],
             [
              1,
              "#f0f921"
             ]
            ],
            "type": "surface"
           }
          ],
          "table": [
           {
            "cells": {
             "fill": {
              "color": "#EBF0F8"
             },
             "line": {
              "color": "white"
             }
            },
            "header": {
             "fill": {
              "color": "#C8D4E3"
             },
             "line": {
              "color": "white"
             }
            },
            "type": "table"
           }
          ]
         },
         "layout": {
          "annotationdefaults": {
           "arrowcolor": "#2a3f5f",
           "arrowhead": 0,
           "arrowwidth": 1
          },
          "autotypenumbers": "strict",
          "coloraxis": {
           "colorbar": {
            "outlinewidth": 0,
            "ticks": ""
           }
          },
          "colorscale": {
           "diverging": [
            [
             0,
             "#8e0152"
            ],
            [
             0.1,
             "#c51b7d"
            ],
            [
             0.2,
             "#de77ae"
            ],
            [
             0.3,
             "#f1b6da"
            ],
            [
             0.4,
             "#fde0ef"
            ],
            [
             0.5,
             "#f7f7f7"
            ],
            [
             0.6,
             "#e6f5d0"
            ],
            [
             0.7,
             "#b8e186"
            ],
            [
             0.8,
             "#7fbc41"
            ],
            [
             0.9,
             "#4d9221"
            ],
            [
             1,
             "#276419"
            ]
           ],
           "sequential": [
            [
             0,
             "#0d0887"
            ],
            [
             0.1111111111111111,
             "#46039f"
            ],
            [
             0.2222222222222222,
             "#7201a8"
            ],
            [
             0.3333333333333333,
             "#9c179e"
            ],
            [
             0.4444444444444444,
             "#bd3786"
            ],
            [
             0.5555555555555556,
             "#d8576b"
            ],
            [
             0.6666666666666666,
             "#ed7953"
            ],
            [
             0.7777777777777778,
             "#fb9f3a"
            ],
            [
             0.8888888888888888,
             "#fdca26"
            ],
            [
             1,
             "#f0f921"
            ]
           ],
           "sequentialminus": [
            [
             0,
             "#0d0887"
            ],
            [
             0.1111111111111111,
             "#46039f"
            ],
            [
             0.2222222222222222,
             "#7201a8"
            ],
            [
             0.3333333333333333,
             "#9c179e"
            ],
            [
             0.4444444444444444,
             "#bd3786"
            ],
            [
             0.5555555555555556,
             "#d8576b"
            ],
            [
             0.6666666666666666,
             "#ed7953"
            ],
            [
             0.7777777777777778,
             "#fb9f3a"
            ],
            [
             0.8888888888888888,
             "#fdca26"
            ],
            [
             1,
             "#f0f921"
            ]
           ]
          },
          "colorway": [
           "#636efa",
           "#EF553B",
           "#00cc96",
           "#ab63fa",
           "#FFA15A",
           "#19d3f3",
           "#FF6692",
           "#B6E880",
           "#FF97FF",
           "#FECB52"
          ],
          "font": {
           "color": "#2a3f5f"
          },
          "geo": {
           "bgcolor": "white",
           "lakecolor": "white",
           "landcolor": "#E5ECF6",
           "showlakes": true,
           "showland": true,
           "subunitcolor": "white"
          },
          "hoverlabel": {
           "align": "left"
          },
          "hovermode": "closest",
          "mapbox": {
           "style": "light"
          },
          "paper_bgcolor": "white",
          "plot_bgcolor": "#E5ECF6",
          "polar": {
           "angularaxis": {
            "gridcolor": "white",
            "linecolor": "white",
            "ticks": ""
           },
           "bgcolor": "#E5ECF6",
           "radialaxis": {
            "gridcolor": "white",
            "linecolor": "white",
            "ticks": ""
           }
          },
          "scene": {
           "xaxis": {
            "backgroundcolor": "#E5ECF6",
            "gridcolor": "white",
            "gridwidth": 2,
            "linecolor": "white",
            "showbackground": true,
            "ticks": "",
            "zerolinecolor": "white"
           },
           "yaxis": {
            "backgroundcolor": "#E5ECF6",
            "gridcolor": "white",
            "gridwidth": 2,
            "linecolor": "white",
            "showbackground": true,
            "ticks": "",
            "zerolinecolor": "white"
           },
           "zaxis": {
            "backgroundcolor": "#E5ECF6",
            "gridcolor": "white",
            "gridwidth": 2,
            "linecolor": "white",
            "showbackground": true,
            "ticks": "",
            "zerolinecolor": "white"
           }
          },
          "shapedefaults": {
           "line": {
            "color": "#2a3f5f"
           }
          },
          "ternary": {
           "aaxis": {
            "gridcolor": "white",
            "linecolor": "white",
            "ticks": ""
           },
           "baxis": {
            "gridcolor": "white",
            "linecolor": "white",
            "ticks": ""
           },
           "bgcolor": "#E5ECF6",
           "caxis": {
            "gridcolor": "white",
            "linecolor": "white",
            "ticks": ""
           }
          },
          "title": {
           "x": 0.05
          },
          "xaxis": {
           "automargin": true,
           "gridcolor": "white",
           "linecolor": "white",
           "ticks": "",
           "title": {
            "standoff": 15
           },
           "zerolinecolor": "white",
           "zerolinewidth": 2
          },
          "yaxis": {
           "automargin": true,
           "gridcolor": "white",
           "linecolor": "white",
           "ticks": "",
           "title": {
            "standoff": 15
           },
           "zerolinecolor": "white",
           "zerolinewidth": 2
          }
         }
        },
        "title": {
         "text": "validation_accuracy vs test_accuracy"
        },
        "xaxis": {
         "title": {
          "text": "validation_accuracy"
         }
        },
        "yaxis": {
         "title": {
          "text": "test_accuracy"
         }
        }
       }
      },
      "text/html": [
       "<div>                            <div id=\"cddd478d-f72e-4ece-b5c1-11678303c95b\" class=\"plotly-graph-div\" style=\"height:525px; width:100%;\"></div>            <script type=\"text/javascript\">                require([\"plotly\"], function(Plotly) {                    window.PLOTLYENV=window.PLOTLYENV || {};                                    if (document.getElementById(\"cddd478d-f72e-4ece-b5c1-11678303c95b\")) {                    Plotly.newPlot(                        \"cddd478d-f72e-4ece-b5c1-11678303c95b\",                        [{\"mode\": \"markers\", \"name\": \"all experiments\", \"type\": \"scatter\", \"x\": [0.27926598888204995, 0.3137059084744178, 0.2218753580495028, 0.4273100328604531, 0.10037652871806682, 0.2917104188830788, 0.40595123363337116, 0.5284557348723119, 0.42169553430730367, 0.5756390427991992, 0.6207498332609989, 0.8331586847574228, 0.6767798592387262, 0.7663820037837367, 0.7139352349626373, 0.5553807138764123, 0.4329241288245753, 0.5637900027602879, 0.595532628836696, 0.7047990383831553, 0.7999951594528081, 0.6254506206258286, 0.7953583890696541, 0.66913619025467, 0.7298685305117447, 1.0, 1.0, 1.0, 0.8244342851035541, 0.9977349399753055, 0.3387769460381838, 0.48934917507672415, 0.5564967504409262, 0.4698884151478717, 0.2839417504678744, 0.5503117186107063, 0.6393940368753838, 0.5096522809914014, 0.4947972295452413, 0.4114817454372518, 0.7319007035082885, 0.8446965979463413, 0.8395144655922936, 0.9742442141247202, 0.9633114159358351, 0.5881055924921881, 0.420471888780363, 0.5697820666594738, 0.6610967375402188, 0.6730031374656285, 0.8400796317512461, 0.7876164149828687, 0.886118182323862, 0.9222606503647068, 0.836106916103745, 0.9951568466361361, 1.0, 1.0, 1.0, 1.0, 1.0, 1.0, 1.0, 1.0, 1.0, 1.0, 1.0, 1.0, 1.0, 1.0, 1.0, 1.0, 1.0, 1.0, 1.0, 1.0, 1.0, 1.0, 1.0, 1.0, 1.0, 1.0, 1.0, 1.0, 1.0, 1.0, 1.0, 1.0, 1.0, 1.0], \"y\": [0.37116853691162743, 0.2756037415342204, 0.2568434543076298, 0.2991516198816612, 0.3750686499164436, 0.5984130617146644, 0.47926865120271667, 0.503334983552942, 0.5930502108732516, 0.5669994095092334, 0.9465589728725352, 0.938676264609408, 0.8709883251192441, 0.9732108690991055, 0.8440847745572306, 0.5834310136313992, 0.5233026801585711, 0.5182624056965026, 0.3975501541932186, 0.4533623194438294, 0.7796775300098298, 0.8064366426825922, 0.5769698582387975, 0.6991856712910721, 0.6443386614889013, 0.7886470874478337, 0.9201807585811064, 1.0, 0.9860824540650245, 1.0, 0.14383191030781514, 0.20918885421021916, 0.096959750477558, 0.154574056329619, 0.18363908835696285, 0.7241428107042368, 0.4275716725618324, 0.44376062880642747, 0.539888670247428, 0.3761258934816317, 0.8028149534318972, 0.9044021849405182, 0.8570047544578, 0.8273460854237368, 0.7701504726681038, 0.566229870520842, 0.7306124893807233, 0.7125051791835613, 0.7024544166347816, 0.8558216263458401, 0.8829323437222805, 1.0, 0.8888110561660534, 0.7777313821266092, 0.9952072707170627, 1.0, 1.0, 1.0, 1.0, 1.0, 1.0, 1.0, 1.0, 1.0, 1.0, 1.0, 1.0, 1.0, 1.0, 1.0, 1.0, 1.0, 1.0, 1.0, 1.0, 0.8879746612500439, 0.9674160974511479, 1.0, 0.892248582032179, 0.9426325611045316, 1.0, 1.0, 1.0, 1.0, 1.0, 1.0, 1.0, 1.0, 1.0, 1.0]}, {\"mode\": \"markers\", \"name\": \"selected subset\", \"type\": \"scatter\", \"x\": [1.0, 1.0, 1.0, 0.8244342851035541, 0.9977349399753055, 0.6207498332609989, 0.8331586847574228, 0.6767798592387262, 0.7663820037837367, 0.7139352349626373], \"y\": [0.7886470874478337, 0.9201807585811064, 1.0, 0.9860824540650245, 1.0, 0.9465589728725352, 0.938676264609408, 0.8709883251192441, 0.9732108690991055, 0.8440847745572306]}, {\"mode\": \"lines\", \"name\": \"linear\", \"type\": \"scatter\", \"x\": [0.10037652871806682, 0.1094636344885914, 0.11855074025911598, 0.12763784602964057, 0.13672495180016514, 0.1458120575706897, 0.15489916334121429, 0.16398626911173886, 0.17307337488226343, 0.182160480652788, 0.1912475864233126, 0.20033469219383718, 0.20942179796436175, 0.21850890373488635, 0.22759600950541092, 0.2366831152759355, 0.24577022104646007, 0.25485732681698464, 0.2639444325875092, 0.27303153835803384, 0.28211864412855836, 0.291205749899083, 0.3002928556696075, 0.30937996144013213, 0.31846706721065665, 0.3275541729811813, 0.33664127875170585, 0.3457283845222304, 0.35481549029275505, 0.36390259606327957, 0.3729897018338042, 0.3820768076043287, 0.39116391337485334, 0.40025101914537786, 0.4093381249159025, 0.418425230686427, 0.42751233645695164, 0.43659944222747615, 0.4456865479980008, 0.4547736537685254, 0.4638607595390499, 0.47294786530957456, 0.4820349710800991, 0.4911220768506237, 0.5002091826211482, 0.5092962883916728, 0.5183833941621974, 0.527470499932722, 0.5365576057032465, 0.5456447114737711, 0.5547318172442958, 0.5638189230148203, 0.5729060287853449, 0.5819931345558694, 0.5910802403263941, 0.6001673460969186, 0.6092544518674432, 0.6183415576379677, 0.6274286634084923, 0.6365157691790169, 0.6456028749495415, 0.654689980720066, 0.6637770864905906, 0.6728641922611152, 0.6819512980316398, 0.6910384038021644, 0.7001255095726889, 0.7092126153432136, 0.7182997211137381, 0.7273868268842627, 0.7364739326547872, 0.7455610384253119, 0.7546481441958364, 0.763735249966361, 0.7728223557368855, 0.7819094615074101, 0.7909965672779348, 0.8000836730484593, 0.8091707788189839, 0.8182578845895084, 0.8273449903600331, 0.8364320961305576, 0.8455192019010822, 0.8546063076716067, 0.8636934134421314, 0.8727805192126559, 0.8818676249831805, 0.8909547307537051, 0.9000418365242296, 0.9091289422947543, 0.9182160480652788, 0.9273031538358034, 0.9363902596063279, 0.9454773653768526, 0.9545644711473771, 0.9636515769179017, 0.9727386826884262, 0.9818257884589509, 0.9909128942294755, 1.0], \"y\": [0.096959750477558, 0.10608136915960287, 0.11520298784164774, 0.12432460652369261, 0.13344622520573748, 0.14256784388778235, 0.1516894625698272, 0.1608110812518721, 0.16993269993391696, 0.17905431861596183, 0.1881759372980067, 0.19729755598005155, 0.20641917466209642, 0.21554079334414128, 0.22466241202618617, 0.23378403070823103, 0.2429056493902759, 0.2520272680723208, 0.26114888675436565, 0.2702705054364105, 0.2793921241184554, 0.28851374280050024, 0.2976353614825451, 0.30675698016458997, 0.31587859884663483, 0.3250002175286797, 0.33412183621072455, 0.3432434548927694, 0.35236507357481434, 0.3614866922568592, 0.37060831093890406, 0.3797299296209489, 0.3888515483029938, 0.39797316698503865, 0.4070947856670835, 0.4162164043491284, 0.42533802303117324, 0.4344596417132181, 0.443581260395263, 0.4527028790773079, 0.46182449775935275, 0.4709461164413976, 0.4800677351234425, 0.48918935380548734, 0.4983109724875322, 0.5074325911695771, 0.5165542098516219, 0.5256758285336668, 0.5347974472157117, 0.5439190658977566, 0.5530406845798015, 0.5621623032618464, 0.5712839219438912, 0.5804055406259361, 0.5895271593079809, 0.5986487779900258, 0.6077703966720707, 0.6168920153541155, 0.6260136340361604, 0.6351352527182053, 0.6442568714002501, 0.653378490082295, 0.6625001087643398, 0.6716217274463847, 0.6807433461284296, 0.6898649648104744, 0.6989865834925193, 0.7081082021745642, 0.717229820856609, 0.7263514395386539, 0.7354730582206987, 0.7445946769027436, 0.7537162955847885, 0.7628379142668333, 0.7719595329488782, 0.7810811516309232, 0.790202770312968, 0.7993243889950129, 0.8084460076770578, 0.8175676263591026, 0.8266892450411475, 0.8358108637231924, 0.8449324824052372, 0.8540541010872821, 0.8631757197693269, 0.8722973384513718, 0.8814189571334167, 0.8905405758154615, 0.8996621944975064, 0.9087838131795513, 0.9179054318615961, 0.927027050543641, 0.9361486692256858, 0.9452702879077307, 0.9543919065897756, 0.9635135252718204, 0.9726351439538653, 0.9817567626359103, 0.9908783813179551, 1.0]}],                        {\"template\": {\"data\": {\"bar\": [{\"error_x\": {\"color\": \"#2a3f5f\"}, \"error_y\": {\"color\": \"#2a3f5f\"}, \"marker\": {\"line\": {\"color\": \"#E5ECF6\", \"width\": 0.5}}, \"type\": \"bar\"}], \"barpolar\": [{\"marker\": {\"line\": {\"color\": \"#E5ECF6\", \"width\": 0.5}}, \"type\": \"barpolar\"}], \"carpet\": [{\"aaxis\": {\"endlinecolor\": \"#2a3f5f\", \"gridcolor\": \"white\", \"linecolor\": \"white\", \"minorgridcolor\": \"white\", \"startlinecolor\": \"#2a3f5f\"}, \"baxis\": {\"endlinecolor\": \"#2a3f5f\", \"gridcolor\": \"white\", \"linecolor\": \"white\", \"minorgridcolor\": \"white\", \"startlinecolor\": \"#2a3f5f\"}, \"type\": \"carpet\"}], \"choropleth\": [{\"colorbar\": {\"outlinewidth\": 0, \"ticks\": \"\"}, \"type\": \"choropleth\"}], \"contour\": [{\"colorbar\": {\"outlinewidth\": 0, \"ticks\": \"\"}, \"colorscale\": [[0.0, \"#0d0887\"], [0.1111111111111111, \"#46039f\"], [0.2222222222222222, \"#7201a8\"], [0.3333333333333333, \"#9c179e\"], [0.4444444444444444, \"#bd3786\"], [0.5555555555555556, \"#d8576b\"], [0.6666666666666666, \"#ed7953\"], [0.7777777777777778, \"#fb9f3a\"], [0.8888888888888888, \"#fdca26\"], [1.0, \"#f0f921\"]], \"type\": \"contour\"}], \"contourcarpet\": [{\"colorbar\": {\"outlinewidth\": 0, \"ticks\": \"\"}, \"type\": \"contourcarpet\"}], \"heatmap\": [{\"colorbar\": {\"outlinewidth\": 0, \"ticks\": \"\"}, \"colorscale\": [[0.0, \"#0d0887\"], [0.1111111111111111, \"#46039f\"], [0.2222222222222222, \"#7201a8\"], [0.3333333333333333, \"#9c179e\"], [0.4444444444444444, \"#bd3786\"], [0.5555555555555556, \"#d8576b\"], [0.6666666666666666, \"#ed7953\"], [0.7777777777777778, \"#fb9f3a\"], [0.8888888888888888, \"#fdca26\"], [1.0, \"#f0f921\"]], \"type\": \"heatmap\"}], \"heatmapgl\": [{\"colorbar\": {\"outlinewidth\": 0, \"ticks\": \"\"}, \"colorscale\": [[0.0, \"#0d0887\"], [0.1111111111111111, \"#46039f\"], [0.2222222222222222, \"#7201a8\"], [0.3333333333333333, \"#9c179e\"], [0.4444444444444444, \"#bd3786\"], [0.5555555555555556, \"#d8576b\"], [0.6666666666666666, \"#ed7953\"], [0.7777777777777778, \"#fb9f3a\"], [0.8888888888888888, \"#fdca26\"], [1.0, \"#f0f921\"]], \"type\": \"heatmapgl\"}], \"histogram\": [{\"marker\": {\"colorbar\": {\"outlinewidth\": 0, \"ticks\": \"\"}}, \"type\": \"histogram\"}], \"histogram2d\": [{\"colorbar\": {\"outlinewidth\": 0, \"ticks\": \"\"}, \"colorscale\": [[0.0, \"#0d0887\"], [0.1111111111111111, \"#46039f\"], [0.2222222222222222, \"#7201a8\"], [0.3333333333333333, \"#9c179e\"], [0.4444444444444444, \"#bd3786\"], [0.5555555555555556, \"#d8576b\"], [0.6666666666666666, \"#ed7953\"], [0.7777777777777778, \"#fb9f3a\"], [0.8888888888888888, \"#fdca26\"], [1.0, \"#f0f921\"]], \"type\": \"histogram2d\"}], \"histogram2dcontour\": [{\"colorbar\": {\"outlinewidth\": 0, \"ticks\": \"\"}, \"colorscale\": [[0.0, \"#0d0887\"], [0.1111111111111111, \"#46039f\"], [0.2222222222222222, \"#7201a8\"], [0.3333333333333333, \"#9c179e\"], [0.4444444444444444, \"#bd3786\"], [0.5555555555555556, \"#d8576b\"], [0.6666666666666666, \"#ed7953\"], [0.7777777777777778, \"#fb9f3a\"], [0.8888888888888888, \"#fdca26\"], [1.0, \"#f0f921\"]], \"type\": \"histogram2dcontour\"}], \"mesh3d\": [{\"colorbar\": {\"outlinewidth\": 0, \"ticks\": \"\"}, \"type\": \"mesh3d\"}], \"parcoords\": [{\"line\": {\"colorbar\": {\"outlinewidth\": 0, \"ticks\": \"\"}}, \"type\": \"parcoords\"}], \"pie\": [{\"automargin\": true, \"type\": \"pie\"}], \"scatter\": [{\"marker\": {\"colorbar\": {\"outlinewidth\": 0, \"ticks\": \"\"}}, \"type\": \"scatter\"}], \"scatter3d\": [{\"line\": {\"colorbar\": {\"outlinewidth\": 0, \"ticks\": \"\"}}, \"marker\": {\"colorbar\": {\"outlinewidth\": 0, \"ticks\": \"\"}}, \"type\": \"scatter3d\"}], \"scattercarpet\": [{\"marker\": {\"colorbar\": {\"outlinewidth\": 0, \"ticks\": \"\"}}, \"type\": \"scattercarpet\"}], \"scattergeo\": [{\"marker\": {\"colorbar\": {\"outlinewidth\": 0, \"ticks\": \"\"}}, \"type\": \"scattergeo\"}], \"scattergl\": [{\"marker\": {\"colorbar\": {\"outlinewidth\": 0, \"ticks\": \"\"}}, \"type\": \"scattergl\"}], \"scattermapbox\": [{\"marker\": {\"colorbar\": {\"outlinewidth\": 0, \"ticks\": \"\"}}, \"type\": \"scattermapbox\"}], \"scatterpolar\": [{\"marker\": {\"colorbar\": {\"outlinewidth\": 0, \"ticks\": \"\"}}, \"type\": \"scatterpolar\"}], \"scatterpolargl\": [{\"marker\": {\"colorbar\": {\"outlinewidth\": 0, \"ticks\": \"\"}}, \"type\": \"scatterpolargl\"}], \"scatterternary\": [{\"marker\": {\"colorbar\": {\"outlinewidth\": 0, \"ticks\": \"\"}}, \"type\": \"scatterternary\"}], \"surface\": [{\"colorbar\": {\"outlinewidth\": 0, \"ticks\": \"\"}, \"colorscale\": [[0.0, \"#0d0887\"], [0.1111111111111111, \"#46039f\"], [0.2222222222222222, \"#7201a8\"], [0.3333333333333333, \"#9c179e\"], [0.4444444444444444, \"#bd3786\"], [0.5555555555555556, \"#d8576b\"], [0.6666666666666666, \"#ed7953\"], [0.7777777777777778, \"#fb9f3a\"], [0.8888888888888888, \"#fdca26\"], [1.0, \"#f0f921\"]], \"type\": \"surface\"}], \"table\": [{\"cells\": {\"fill\": {\"color\": \"#EBF0F8\"}, \"line\": {\"color\": \"white\"}}, \"header\": {\"fill\": {\"color\": \"#C8D4E3\"}, \"line\": {\"color\": \"white\"}}, \"type\": \"table\"}]}, \"layout\": {\"annotationdefaults\": {\"arrowcolor\": \"#2a3f5f\", \"arrowhead\": 0, \"arrowwidth\": 1}, \"autotypenumbers\": \"strict\", \"coloraxis\": {\"colorbar\": {\"outlinewidth\": 0, \"ticks\": \"\"}}, \"colorscale\": {\"diverging\": [[0, \"#8e0152\"], [0.1, \"#c51b7d\"], [0.2, \"#de77ae\"], [0.3, \"#f1b6da\"], [0.4, \"#fde0ef\"], [0.5, \"#f7f7f7\"], [0.6, \"#e6f5d0\"], [0.7, \"#b8e186\"], [0.8, \"#7fbc41\"], [0.9, \"#4d9221\"], [1, \"#276419\"]], \"sequential\": [[0.0, \"#0d0887\"], [0.1111111111111111, \"#46039f\"], [0.2222222222222222, \"#7201a8\"], [0.3333333333333333, \"#9c179e\"], [0.4444444444444444, \"#bd3786\"], [0.5555555555555556, \"#d8576b\"], [0.6666666666666666, \"#ed7953\"], [0.7777777777777778, \"#fb9f3a\"], [0.8888888888888888, \"#fdca26\"], [1.0, \"#f0f921\"]], \"sequentialminus\": [[0.0, \"#0d0887\"], [0.1111111111111111, \"#46039f\"], [0.2222222222222222, \"#7201a8\"], [0.3333333333333333, \"#9c179e\"], [0.4444444444444444, \"#bd3786\"], [0.5555555555555556, \"#d8576b\"], [0.6666666666666666, \"#ed7953\"], [0.7777777777777778, \"#fb9f3a\"], [0.8888888888888888, \"#fdca26\"], [1.0, \"#f0f921\"]]}, \"colorway\": [\"#636efa\", \"#EF553B\", \"#00cc96\", \"#ab63fa\", \"#FFA15A\", \"#19d3f3\", \"#FF6692\", \"#B6E880\", \"#FF97FF\", \"#FECB52\"], \"font\": {\"color\": \"#2a3f5f\"}, \"geo\": {\"bgcolor\": \"white\", \"lakecolor\": \"white\", \"landcolor\": \"#E5ECF6\", \"showlakes\": true, \"showland\": true, \"subunitcolor\": \"white\"}, \"hoverlabel\": {\"align\": \"left\"}, \"hovermode\": \"closest\", \"mapbox\": {\"style\": \"light\"}, \"paper_bgcolor\": \"white\", \"plot_bgcolor\": \"#E5ECF6\", \"polar\": {\"angularaxis\": {\"gridcolor\": \"white\", \"linecolor\": \"white\", \"ticks\": \"\"}, \"bgcolor\": \"#E5ECF6\", \"radialaxis\": {\"gridcolor\": \"white\", \"linecolor\": \"white\", \"ticks\": \"\"}}, \"scene\": {\"xaxis\": {\"backgroundcolor\": \"#E5ECF6\", \"gridcolor\": \"white\", \"gridwidth\": 2, \"linecolor\": \"white\", \"showbackground\": true, \"ticks\": \"\", \"zerolinecolor\": \"white\"}, \"yaxis\": {\"backgroundcolor\": \"#E5ECF6\", \"gridcolor\": \"white\", \"gridwidth\": 2, \"linecolor\": \"white\", \"showbackground\": true, \"ticks\": \"\", \"zerolinecolor\": \"white\"}, \"zaxis\": {\"backgroundcolor\": \"#E5ECF6\", \"gridcolor\": \"white\", \"gridwidth\": 2, \"linecolor\": \"white\", \"showbackground\": true, \"ticks\": \"\", \"zerolinecolor\": \"white\"}}, \"shapedefaults\": {\"line\": {\"color\": \"#2a3f5f\"}}, \"ternary\": {\"aaxis\": {\"gridcolor\": \"white\", \"linecolor\": \"white\", \"ticks\": \"\"}, \"baxis\": {\"gridcolor\": \"white\", \"linecolor\": \"white\", \"ticks\": \"\"}, \"bgcolor\": \"#E5ECF6\", \"caxis\": {\"gridcolor\": \"white\", \"linecolor\": \"white\", \"ticks\": \"\"}}, \"title\": {\"x\": 0.05}, \"xaxis\": {\"automargin\": true, \"gridcolor\": \"white\", \"linecolor\": \"white\", \"ticks\": \"\", \"title\": {\"standoff\": 15}, \"zerolinecolor\": \"white\", \"zerolinewidth\": 2}, \"yaxis\": {\"automargin\": true, \"gridcolor\": \"white\", \"linecolor\": \"white\", \"ticks\": \"\", \"title\": {\"standoff\": 15}, \"zerolinecolor\": \"white\", \"zerolinewidth\": 2}}}, \"title\": {\"text\": \"validation_accuracy vs test_accuracy\"}, \"xaxis\": {\"title\": {\"text\": \"validation_accuracy\"}}, \"yaxis\": {\"title\": {\"text\": \"test_accuracy\"}}},                        {\"responsive\": true}                    ).then(function(){\n",
       "                            \n",
       "var gd = document.getElementById('cddd478d-f72e-4ece-b5c1-11678303c95b');\n",
       "var x = new MutationObserver(function (mutations, observer) {{\n",
       "        var display = window.getComputedStyle(gd).display;\n",
       "        if (!display || display === 'none') {{\n",
       "            console.log([gd, 'removed!']);\n",
       "            Plotly.purge(gd);\n",
       "            observer.disconnect();\n",
       "        }}\n",
       "}});\n",
       "\n",
       "// Listen for the removal of the full notebook cells\n",
       "var notebookContainer = gd.closest('#notebook-container');\n",
       "if (notebookContainer) {{\n",
       "    x.observe(notebookContainer, {childList: true});\n",
       "}}\n",
       "\n",
       "// Listen for the clearing of the current output cell\n",
       "var outputEl = gd.closest('.output');\n",
       "if (outputEl) {{\n",
       "    x.observe(outputEl, {childList: true});\n",
       "}}\n",
       "\n",
       "                        })                };                });            </script>        </div>"
      ]
     },
     "metadata": {},
     "output_type": "display_data"
    }
   ],
   "source": [
    "plot_metric_relationship ('validation_accuracy', 'test_accuracy', experiment_subset=[5,2], backend='plotly')"
   ]
  },
  {
   "cell_type": "markdown",
   "metadata": {},
   "source": [
    "## visualize_experiments\n",
    "\n",
    "Main experiment visualization entry function"
   ]
  },
  {
   "cell_type": "code",
   "execution_count": null,
   "metadata": {},
   "outputs": [],
   "source": [
    "#export\n",
    "## Generic Visualization\n",
    "def visualize_experiments (visualization='history', **kwargs):\n",
    "    if type(visualization) is str:\n",
    "        visualization_list = [visualization]\n",
    "    else:\n",
    "        visualization_list = visualization\n",
    "    for visualization in visualization_list:\n",
    "        parameters = kwargs.copy()\n",
    "        if visualization == 'history':\n",
    "            assert 'experiments' in kwargs.keys(), 'experiments parameter expected when visualization is \"history\"'\n",
    "            experiments = parameters.pop('experiments')\n",
    "            plot_multiple_histories (experiments, **parameters)\n",
    "        elif visualization == 'metric_correlation':\n",
    "            assert 'metric_1' in kwargs.keys(), 'metric_1 parameter expected when visualization is \"metric_correlation\"'\n",
    "            assert 'metric_2' in kwargs.keys(), 'metric_2 parameter expected when visualization is \"metric_correlation\"'\n",
    "            metric_1 = parameters.pop('metric_1')\n",
    "            metric_2 = parameters.pop('metric_2')\n",
    "            plot_metric_relationship (metric_1, metric_2, **parameters)\n",
    "        else:\n",
    "            from hpsearch.config.hpconfig import experiment_visualization\n",
    "\n",
    "            experiment_visualization (visualization=visualization, **kwargs)"
   ]
  },
  {
   "cell_type": "code",
   "execution_count": null,
   "metadata": {},
   "outputs": [
    {
     "data": {
      "text/html": [
       "        <script type=\"text/javascript\">\n",
       "        window.PlotlyConfig = {MathJaxConfig: 'local'};\n",
       "        if (window.MathJax) {MathJax.Hub.Config({SVG: {font: \"STIX-Web\"}});}\n",
       "        if (typeof require !== 'undefined') {\n",
       "        require.undef(\"plotly\");\n",
       "        requirejs.config({\n",
       "            paths: {\n",
       "                'plotly': ['https://cdn.plot.ly/plotly-latest.min']\n",
       "            }\n",
       "        });\n",
       "        require(['plotly'], function(Plotly) {\n",
       "            window._Plotly = Plotly;\n",
       "        });\n",
       "        }\n",
       "        </script>\n",
       "        "
      ]
     },
     "metadata": {},
     "output_type": "display_data"
    },
    {
     "data": {
      "application/vnd.plotly.v1+json": {
       "config": {
        "linkText": "Export to plot.ly",
        "plotlyServerURL": "https://plot.ly",
        "showLink": false
       },
       "data": [
        {
         "mode": "markers+lines",
         "name": "8",
         "type": "scatter",
         "x": [
          0,
          1,
          2,
          3,
          4,
          5,
          6,
          7,
          8,
          9,
          10,
          11,
          12,
          13,
          14,
          15,
          16,
          17,
          18,
          19,
          20,
          21,
          22,
          23,
          24,
          25,
          26,
          27,
          28,
          29
         ],
         "y": [
          0.5115278283625577,
          0.5020197292739911,
          0.7038085568425824,
          0.7308506403924695,
          0.6904385377226562,
          0.7805915370387868,
          0.7653438462950702,
          0.9612897326870006,
          0.8162749968842367,
          0.7716295298337166,
          0.7648660058058778,
          0.8098906881265941,
          0.8487861789233403,
          0.9189009085721058,
          0.9367922587218505,
          0.9759961430058386,
          0.9090008001807593,
          1,
          0.9524956940131302,
          1,
          1,
          0.8705004030530585,
          1,
          0.9210107112258218,
          0.9202830680579496,
          0.9098077025877135,
          1,
          0.9101488998182647,
          0.8829196644920766,
          0.9808213923872307
         ]
        },
        {
         "marker": {
          "color": "red",
          "size": 10,
          "symbol": 104
         },
         "mode": "markers",
         "name": "",
         "type": "scatter",
         "x": [
          17
         ],
         "y": [
          1
         ]
        },
        {
         "mode": "markers+lines",
         "name": "12",
         "type": "scatter",
         "x": [
          0,
          1,
          2,
          3,
          4,
          5,
          6,
          7,
          8,
          9,
          10,
          11,
          12,
          13,
          14
         ],
         "y": [
          0.183086928350644,
          0.13876187497787762,
          0.22146857220720467,
          0.3968273121037709,
          0.5568416100983291,
          0.5960122693205003,
          0.7186594778500464,
          0.9006838778423569,
          0.8270516500298508,
          0.9220487571868812,
          1,
          1,
          1,
          1,
          1
         ]
        },
        {
         "marker": {
          "color": "red",
          "size": 10,
          "symbol": 104
         },
         "mode": "markers",
         "name": "",
         "type": "scatter",
         "x": [
          10
         ],
         "y": [
          1
         ]
        },
        {
         "mode": "markers+lines",
         "name": "16",
         "type": "scatter",
         "x": [
          0,
          1,
          2,
          3,
          4,
          5,
          6,
          7,
          8,
          9,
          10,
          11,
          12,
          13,
          14,
          15,
          16,
          17,
          18,
          19,
          20,
          21,
          22,
          23,
          24,
          25,
          26,
          27,
          28,
          29
         ],
         "y": [
          0.27181146598768713,
          0.29317818325740735,
          0.3879064762575079,
          0.4891146734213544,
          0.566884397529304,
          0.8980048004997152,
          0.7658848253967914,
          0.8630009992573565,
          1,
          1,
          1,
          1,
          1,
          1,
          1,
          1,
          1,
          1,
          1,
          1,
          1,
          1,
          1,
          1,
          1,
          1,
          1,
          1,
          1,
          1
         ]
        },
        {
         "marker": {
          "color": "red",
          "size": 10,
          "symbol": 104
         },
         "mode": "markers",
         "name": "",
         "type": "scatter",
         "x": [
          8
         ],
         "y": [
          1
         ]
        }
       ],
       "layout": {
        "template": {
         "data": {
          "bar": [
           {
            "error_x": {
             "color": "#2a3f5f"
            },
            "error_y": {
             "color": "#2a3f5f"
            },
            "marker": {
             "line": {
              "color": "#E5ECF6",
              "width": 0.5
             }
            },
            "type": "bar"
           }
          ],
          "barpolar": [
           {
            "marker": {
             "line": {
              "color": "#E5ECF6",
              "width": 0.5
             }
            },
            "type": "barpolar"
           }
          ],
          "carpet": [
           {
            "aaxis": {
             "endlinecolor": "#2a3f5f",
             "gridcolor": "white",
             "linecolor": "white",
             "minorgridcolor": "white",
             "startlinecolor": "#2a3f5f"
            },
            "baxis": {
             "endlinecolor": "#2a3f5f",
             "gridcolor": "white",
             "linecolor": "white",
             "minorgridcolor": "white",
             "startlinecolor": "#2a3f5f"
            },
            "type": "carpet"
           }
          ],
          "choropleth": [
           {
            "colorbar": {
             "outlinewidth": 0,
             "ticks": ""
            },
            "type": "choropleth"
           }
          ],
          "contour": [
           {
            "colorbar": {
             "outlinewidth": 0,
             "ticks": ""
            },
            "colorscale": [
             [
              0,
              "#0d0887"
             ],
             [
              0.1111111111111111,
              "#46039f"
             ],
             [
              0.2222222222222222,
              "#7201a8"
             ],
             [
              0.3333333333333333,
              "#9c179e"
             ],
             [
              0.4444444444444444,
              "#bd3786"
             ],
             [
              0.5555555555555556,
              "#d8576b"
             ],
             [
              0.6666666666666666,
              "#ed7953"
             ],
             [
              0.7777777777777778,
              "#fb9f3a"
             ],
             [
              0.8888888888888888,
              "#fdca26"
             ],
             [
              1,
              "#f0f921"
             ]
            ],
            "type": "contour"
           }
          ],
          "contourcarpet": [
           {
            "colorbar": {
             "outlinewidth": 0,
             "ticks": ""
            },
            "type": "contourcarpet"
           }
          ],
          "heatmap": [
           {
            "colorbar": {
             "outlinewidth": 0,
             "ticks": ""
            },
            "colorscale": [
             [
              0,
              "#0d0887"
             ],
             [
              0.1111111111111111,
              "#46039f"
             ],
             [
              0.2222222222222222,
              "#7201a8"
             ],
             [
              0.3333333333333333,
              "#9c179e"
             ],
             [
              0.4444444444444444,
              "#bd3786"
             ],
             [
              0.5555555555555556,
              "#d8576b"
             ],
             [
              0.6666666666666666,
              "#ed7953"
             ],
             [
              0.7777777777777778,
              "#fb9f3a"
             ],
             [
              0.8888888888888888,
              "#fdca26"
             ],
             [
              1,
              "#f0f921"
             ]
            ],
            "type": "heatmap"
           }
          ],
          "heatmapgl": [
           {
            "colorbar": {
             "outlinewidth": 0,
             "ticks": ""
            },
            "colorscale": [
             [
              0,
              "#0d0887"
             ],
             [
              0.1111111111111111,
              "#46039f"
             ],
             [
              0.2222222222222222,
              "#7201a8"
             ],
             [
              0.3333333333333333,
              "#9c179e"
             ],
             [
              0.4444444444444444,
              "#bd3786"
             ],
             [
              0.5555555555555556,
              "#d8576b"
             ],
             [
              0.6666666666666666,
              "#ed7953"
             ],
             [
              0.7777777777777778,
              "#fb9f3a"
             ],
             [
              0.8888888888888888,
              "#fdca26"
             ],
             [
              1,
              "#f0f921"
             ]
            ],
            "type": "heatmapgl"
           }
          ],
          "histogram": [
           {
            "marker": {
             "colorbar": {
              "outlinewidth": 0,
              "ticks": ""
             }
            },
            "type": "histogram"
           }
          ],
          "histogram2d": [
           {
            "colorbar": {
             "outlinewidth": 0,
             "ticks": ""
            },
            "colorscale": [
             [
              0,
              "#0d0887"
             ],
             [
              0.1111111111111111,
              "#46039f"
             ],
             [
              0.2222222222222222,
              "#7201a8"
             ],
             [
              0.3333333333333333,
              "#9c179e"
             ],
             [
              0.4444444444444444,
              "#bd3786"
             ],
             [
              0.5555555555555556,
              "#d8576b"
             ],
             [
              0.6666666666666666,
              "#ed7953"
             ],
             [
              0.7777777777777778,
              "#fb9f3a"
             ],
             [
              0.8888888888888888,
              "#fdca26"
             ],
             [
              1,
              "#f0f921"
             ]
            ],
            "type": "histogram2d"
           }
          ],
          "histogram2dcontour": [
           {
            "colorbar": {
             "outlinewidth": 0,
             "ticks": ""
            },
            "colorscale": [
             [
              0,
              "#0d0887"
             ],
             [
              0.1111111111111111,
              "#46039f"
             ],
             [
              0.2222222222222222,
              "#7201a8"
             ],
             [
              0.3333333333333333,
              "#9c179e"
             ],
             [
              0.4444444444444444,
              "#bd3786"
             ],
             [
              0.5555555555555556,
              "#d8576b"
             ],
             [
              0.6666666666666666,
              "#ed7953"
             ],
             [
              0.7777777777777778,
              "#fb9f3a"
             ],
             [
              0.8888888888888888,
              "#fdca26"
             ],
             [
              1,
              "#f0f921"
             ]
            ],
            "type": "histogram2dcontour"
           }
          ],
          "mesh3d": [
           {
            "colorbar": {
             "outlinewidth": 0,
             "ticks": ""
            },
            "type": "mesh3d"
           }
          ],
          "parcoords": [
           {
            "line": {
             "colorbar": {
              "outlinewidth": 0,
              "ticks": ""
             }
            },
            "type": "parcoords"
           }
          ],
          "pie": [
           {
            "automargin": true,
            "type": "pie"
           }
          ],
          "scatter": [
           {
            "marker": {
             "colorbar": {
              "outlinewidth": 0,
              "ticks": ""
             }
            },
            "type": "scatter"
           }
          ],
          "scatter3d": [
           {
            "line": {
             "colorbar": {
              "outlinewidth": 0,
              "ticks": ""
             }
            },
            "marker": {
             "colorbar": {
              "outlinewidth": 0,
              "ticks": ""
             }
            },
            "type": "scatter3d"
           }
          ],
          "scattercarpet": [
           {
            "marker": {
             "colorbar": {
              "outlinewidth": 0,
              "ticks": ""
             }
            },
            "type": "scattercarpet"
           }
          ],
          "scattergeo": [
           {
            "marker": {
             "colorbar": {
              "outlinewidth": 0,
              "ticks": ""
             }
            },
            "type": "scattergeo"
           }
          ],
          "scattergl": [
           {
            "marker": {
             "colorbar": {
              "outlinewidth": 0,
              "ticks": ""
             }
            },
            "type": "scattergl"
           }
          ],
          "scattermapbox": [
           {
            "marker": {
             "colorbar": {
              "outlinewidth": 0,
              "ticks": ""
             }
            },
            "type": "scattermapbox"
           }
          ],
          "scatterpolar": [
           {
            "marker": {
             "colorbar": {
              "outlinewidth": 0,
              "ticks": ""
             }
            },
            "type": "scatterpolar"
           }
          ],
          "scatterpolargl": [
           {
            "marker": {
             "colorbar": {
              "outlinewidth": 0,
              "ticks": ""
             }
            },
            "type": "scatterpolargl"
           }
          ],
          "scatterternary": [
           {
            "marker": {
             "colorbar": {
              "outlinewidth": 0,
              "ticks": ""
             }
            },
            "type": "scatterternary"
           }
          ],
          "surface": [
           {
            "colorbar": {
             "outlinewidth": 0,
             "ticks": ""
            },
            "colorscale": [
             [
              0,
              "#0d0887"
             ],
             [
              0.1111111111111111,
              "#46039f"
             ],
             [
              0.2222222222222222,
              "#7201a8"
             ],
             [
              0.3333333333333333,
              "#9c179e"
             ],
             [
              0.4444444444444444,
              "#bd3786"
             ],
             [
              0.5555555555555556,
              "#d8576b"
             ],
             [
              0.6666666666666666,
              "#ed7953"
             ],
             [
              0.7777777777777778,
              "#fb9f3a"
             ],
             [
              0.8888888888888888,
              "#fdca26"
             ],
             [
              1,
              "#f0f921"
             ]
            ],
            "type": "surface"
           }
          ],
          "table": [
           {
            "cells": {
             "fill": {
              "color": "#EBF0F8"
             },
             "line": {
              "color": "white"
             }
            },
            "header": {
             "fill": {
              "color": "#C8D4E3"
             },
             "line": {
              "color": "white"
             }
            },
            "type": "table"
           }
          ]
         },
         "layout": {
          "annotationdefaults": {
           "arrowcolor": "#2a3f5f",
           "arrowhead": 0,
           "arrowwidth": 1
          },
          "autotypenumbers": "strict",
          "coloraxis": {
           "colorbar": {
            "outlinewidth": 0,
            "ticks": ""
           }
          },
          "colorscale": {
           "diverging": [
            [
             0,
             "#8e0152"
            ],
            [
             0.1,
             "#c51b7d"
            ],
            [
             0.2,
             "#de77ae"
            ],
            [
             0.3,
             "#f1b6da"
            ],
            [
             0.4,
             "#fde0ef"
            ],
            [
             0.5,
             "#f7f7f7"
            ],
            [
             0.6,
             "#e6f5d0"
            ],
            [
             0.7,
             "#b8e186"
            ],
            [
             0.8,
             "#7fbc41"
            ],
            [
             0.9,
             "#4d9221"
            ],
            [
             1,
             "#276419"
            ]
           ],
           "sequential": [
            [
             0,
             "#0d0887"
            ],
            [
             0.1111111111111111,
             "#46039f"
            ],
            [
             0.2222222222222222,
             "#7201a8"
            ],
            [
             0.3333333333333333,
             "#9c179e"
            ],
            [
             0.4444444444444444,
             "#bd3786"
            ],
            [
             0.5555555555555556,
             "#d8576b"
            ],
            [
             0.6666666666666666,
             "#ed7953"
            ],
            [
             0.7777777777777778,
             "#fb9f3a"
            ],
            [
             0.8888888888888888,
             "#fdca26"
            ],
            [
             1,
             "#f0f921"
            ]
           ],
           "sequentialminus": [
            [
             0,
             "#0d0887"
            ],
            [
             0.1111111111111111,
             "#46039f"
            ],
            [
             0.2222222222222222,
             "#7201a8"
            ],
            [
             0.3333333333333333,
             "#9c179e"
            ],
            [
             0.4444444444444444,
             "#bd3786"
            ],
            [
             0.5555555555555556,
             "#d8576b"
            ],
            [
             0.6666666666666666,
             "#ed7953"
            ],
            [
             0.7777777777777778,
             "#fb9f3a"
            ],
            [
             0.8888888888888888,
             "#fdca26"
            ],
            [
             1,
             "#f0f921"
            ]
           ]
          },
          "colorway": [
           "#636efa",
           "#EF553B",
           "#00cc96",
           "#ab63fa",
           "#FFA15A",
           "#19d3f3",
           "#FF6692",
           "#B6E880",
           "#FF97FF",
           "#FECB52"
          ],
          "font": {
           "color": "#2a3f5f"
          },
          "geo": {
           "bgcolor": "white",
           "lakecolor": "white",
           "landcolor": "#E5ECF6",
           "showlakes": true,
           "showland": true,
           "subunitcolor": "white"
          },
          "hoverlabel": {
           "align": "left"
          },
          "hovermode": "closest",
          "mapbox": {
           "style": "light"
          },
          "paper_bgcolor": "white",
          "plot_bgcolor": "#E5ECF6",
          "polar": {
           "angularaxis": {
            "gridcolor": "white",
            "linecolor": "white",
            "ticks": ""
           },
           "bgcolor": "#E5ECF6",
           "radialaxis": {
            "gridcolor": "white",
            "linecolor": "white",
            "ticks": ""
           }
          },
          "scene": {
           "xaxis": {
            "backgroundcolor": "#E5ECF6",
            "gridcolor": "white",
            "gridwidth": 2,
            "linecolor": "white",
            "showbackground": true,
            "ticks": "",
            "zerolinecolor": "white"
           },
           "yaxis": {
            "backgroundcolor": "#E5ECF6",
            "gridcolor": "white",
            "gridwidth": 2,
            "linecolor": "white",
            "showbackground": true,
            "ticks": "",
            "zerolinecolor": "white"
           },
           "zaxis": {
            "backgroundcolor": "#E5ECF6",
            "gridcolor": "white",
            "gridwidth": 2,
            "linecolor": "white",
            "showbackground": true,
            "ticks": "",
            "zerolinecolor": "white"
           }
          },
          "shapedefaults": {
           "line": {
            "color": "#2a3f5f"
           }
          },
          "ternary": {
           "aaxis": {
            "gridcolor": "white",
            "linecolor": "white",
            "ticks": ""
           },
           "baxis": {
            "gridcolor": "white",
            "linecolor": "white",
            "ticks": ""
           },
           "bgcolor": "#E5ECF6",
           "caxis": {
            "gridcolor": "white",
            "linecolor": "white",
            "ticks": ""
           }
          },
          "title": {
           "x": 0.05
          },
          "xaxis": {
           "automargin": true,
           "gridcolor": "white",
           "linecolor": "white",
           "ticks": "",
           "title": {
            "standoff": 15
           },
           "zerolinecolor": "white",
           "zerolinewidth": 2
          },
          "yaxis": {
           "automargin": true,
           "gridcolor": "white",
           "linecolor": "white",
           "ticks": "",
           "title": {
            "standoff": 15
           },
           "zerolinecolor": "white",
           "zerolinewidth": 2
          }
         }
        },
        "title": {
         "text": "test_accuracy [8]: 1.00 [12]: 1.00 [16]: 1.00"
        },
        "xaxis": {
         "title": {
          "text": "epoch"
         }
        },
        "yaxis": {
         "title": {
          "text": "test_accuracy"
         }
        }
       }
      },
      "text/html": [
       "<div>                            <div id=\"90259b66-fac3-4929-b54e-29bf829ce7b3\" class=\"plotly-graph-div\" style=\"height:525px; width:100%;\"></div>            <script type=\"text/javascript\">                require([\"plotly\"], function(Plotly) {                    window.PLOTLYENV=window.PLOTLYENV || {};                                    if (document.getElementById(\"90259b66-fac3-4929-b54e-29bf829ce7b3\")) {                    Plotly.newPlot(                        \"90259b66-fac3-4929-b54e-29bf829ce7b3\",                        [{\"mode\": \"markers+lines\", \"name\": \"8\", \"type\": \"scatter\", \"x\": [0, 1, 2, 3, 4, 5, 6, 7, 8, 9, 10, 11, 12, 13, 14, 15, 16, 17, 18, 19, 20, 21, 22, 23, 24, 25, 26, 27, 28, 29], \"y\": [0.5115278283625577, 0.5020197292739911, 0.7038085568425824, 0.7308506403924695, 0.6904385377226562, 0.7805915370387868, 0.7653438462950702, 0.9612897326870006, 0.8162749968842367, 0.7716295298337166, 0.7648660058058778, 0.8098906881265941, 0.8487861789233403, 0.9189009085721058, 0.9367922587218505, 0.9759961430058386, 0.9090008001807593, 1.0, 0.9524956940131302, 1.0, 1.0, 0.8705004030530585, 1.0, 0.9210107112258218, 0.9202830680579496, 0.9098077025877135, 1.0, 0.9101488998182647, 0.8829196644920766, 0.9808213923872307]}, {\"marker\": {\"color\": \"red\", \"size\": 10, \"symbol\": 104}, \"mode\": \"markers\", \"name\": \"\", \"type\": \"scatter\", \"x\": [17], \"y\": [1.0]}, {\"mode\": \"markers+lines\", \"name\": \"12\", \"type\": \"scatter\", \"x\": [0, 1, 2, 3, 4, 5, 6, 7, 8, 9, 10, 11, 12, 13, 14], \"y\": [0.183086928350644, 0.13876187497787762, 0.22146857220720467, 0.3968273121037709, 0.5568416100983291, 0.5960122693205003, 0.7186594778500464, 0.9006838778423569, 0.8270516500298508, 0.9220487571868812, 1.0, 1.0, 1.0, 1.0, 1.0]}, {\"marker\": {\"color\": \"red\", \"size\": 10, \"symbol\": 104}, \"mode\": \"markers\", \"name\": \"\", \"type\": \"scatter\", \"x\": [10], \"y\": [1.0]}, {\"mode\": \"markers+lines\", \"name\": \"16\", \"type\": \"scatter\", \"x\": [0, 1, 2, 3, 4, 5, 6, 7, 8, 9, 10, 11, 12, 13, 14, 15, 16, 17, 18, 19, 20, 21, 22, 23, 24, 25, 26, 27, 28, 29], \"y\": [0.27181146598768713, 0.29317818325740735, 0.3879064762575079, 0.4891146734213544, 0.566884397529304, 0.8980048004997152, 0.7658848253967914, 0.8630009992573565, 1.0, 1.0, 1.0, 1.0, 1.0, 1.0, 1.0, 1.0, 1.0, 1.0, 1.0, 1.0, 1.0, 1.0, 1.0, 1.0, 1.0, 1.0, 1.0, 1.0, 1.0, 1.0]}, {\"marker\": {\"color\": \"red\", \"size\": 10, \"symbol\": 104}, \"mode\": \"markers\", \"name\": \"\", \"type\": \"scatter\", \"x\": [8], \"y\": [1.0]}],                        {\"template\": {\"data\": {\"bar\": [{\"error_x\": {\"color\": \"#2a3f5f\"}, \"error_y\": {\"color\": \"#2a3f5f\"}, \"marker\": {\"line\": {\"color\": \"#E5ECF6\", \"width\": 0.5}}, \"type\": \"bar\"}], \"barpolar\": [{\"marker\": {\"line\": {\"color\": \"#E5ECF6\", \"width\": 0.5}}, \"type\": \"barpolar\"}], \"carpet\": [{\"aaxis\": {\"endlinecolor\": \"#2a3f5f\", \"gridcolor\": \"white\", \"linecolor\": \"white\", \"minorgridcolor\": \"white\", \"startlinecolor\": \"#2a3f5f\"}, \"baxis\": {\"endlinecolor\": \"#2a3f5f\", \"gridcolor\": \"white\", \"linecolor\": \"white\", \"minorgridcolor\": \"white\", \"startlinecolor\": \"#2a3f5f\"}, \"type\": \"carpet\"}], \"choropleth\": [{\"colorbar\": {\"outlinewidth\": 0, \"ticks\": \"\"}, \"type\": \"choropleth\"}], \"contour\": [{\"colorbar\": {\"outlinewidth\": 0, \"ticks\": \"\"}, \"colorscale\": [[0.0, \"#0d0887\"], [0.1111111111111111, \"#46039f\"], [0.2222222222222222, \"#7201a8\"], [0.3333333333333333, \"#9c179e\"], [0.4444444444444444, \"#bd3786\"], [0.5555555555555556, \"#d8576b\"], [0.6666666666666666, \"#ed7953\"], [0.7777777777777778, \"#fb9f3a\"], [0.8888888888888888, \"#fdca26\"], [1.0, \"#f0f921\"]], \"type\": \"contour\"}], \"contourcarpet\": [{\"colorbar\": {\"outlinewidth\": 0, \"ticks\": \"\"}, \"type\": \"contourcarpet\"}], \"heatmap\": [{\"colorbar\": {\"outlinewidth\": 0, \"ticks\": \"\"}, \"colorscale\": [[0.0, \"#0d0887\"], [0.1111111111111111, \"#46039f\"], [0.2222222222222222, \"#7201a8\"], [0.3333333333333333, \"#9c179e\"], [0.4444444444444444, \"#bd3786\"], [0.5555555555555556, \"#d8576b\"], [0.6666666666666666, \"#ed7953\"], [0.7777777777777778, \"#fb9f3a\"], [0.8888888888888888, \"#fdca26\"], [1.0, \"#f0f921\"]], \"type\": \"heatmap\"}], \"heatmapgl\": [{\"colorbar\": {\"outlinewidth\": 0, \"ticks\": \"\"}, \"colorscale\": [[0.0, \"#0d0887\"], [0.1111111111111111, \"#46039f\"], [0.2222222222222222, \"#7201a8\"], [0.3333333333333333, \"#9c179e\"], [0.4444444444444444, \"#bd3786\"], [0.5555555555555556, \"#d8576b\"], [0.6666666666666666, \"#ed7953\"], [0.7777777777777778, \"#fb9f3a\"], [0.8888888888888888, \"#fdca26\"], [1.0, \"#f0f921\"]], \"type\": \"heatmapgl\"}], \"histogram\": [{\"marker\": {\"colorbar\": {\"outlinewidth\": 0, \"ticks\": \"\"}}, \"type\": \"histogram\"}], \"histogram2d\": [{\"colorbar\": {\"outlinewidth\": 0, \"ticks\": \"\"}, \"colorscale\": [[0.0, \"#0d0887\"], [0.1111111111111111, \"#46039f\"], [0.2222222222222222, \"#7201a8\"], [0.3333333333333333, \"#9c179e\"], [0.4444444444444444, \"#bd3786\"], [0.5555555555555556, \"#d8576b\"], [0.6666666666666666, \"#ed7953\"], [0.7777777777777778, \"#fb9f3a\"], [0.8888888888888888, \"#fdca26\"], [1.0, \"#f0f921\"]], \"type\": \"histogram2d\"}], \"histogram2dcontour\": [{\"colorbar\": {\"outlinewidth\": 0, \"ticks\": \"\"}, \"colorscale\": [[0.0, \"#0d0887\"], [0.1111111111111111, \"#46039f\"], [0.2222222222222222, \"#7201a8\"], [0.3333333333333333, \"#9c179e\"], [0.4444444444444444, \"#bd3786\"], [0.5555555555555556, \"#d8576b\"], [0.6666666666666666, \"#ed7953\"], [0.7777777777777778, \"#fb9f3a\"], [0.8888888888888888, \"#fdca26\"], [1.0, \"#f0f921\"]], \"type\": \"histogram2dcontour\"}], \"mesh3d\": [{\"colorbar\": {\"outlinewidth\": 0, \"ticks\": \"\"}, \"type\": \"mesh3d\"}], \"parcoords\": [{\"line\": {\"colorbar\": {\"outlinewidth\": 0, \"ticks\": \"\"}}, \"type\": \"parcoords\"}], \"pie\": [{\"automargin\": true, \"type\": \"pie\"}], \"scatter\": [{\"marker\": {\"colorbar\": {\"outlinewidth\": 0, \"ticks\": \"\"}}, \"type\": \"scatter\"}], \"scatter3d\": [{\"line\": {\"colorbar\": {\"outlinewidth\": 0, \"ticks\": \"\"}}, \"marker\": {\"colorbar\": {\"outlinewidth\": 0, \"ticks\": \"\"}}, \"type\": \"scatter3d\"}], \"scattercarpet\": [{\"marker\": {\"colorbar\": {\"outlinewidth\": 0, \"ticks\": \"\"}}, \"type\": \"scattercarpet\"}], \"scattergeo\": [{\"marker\": {\"colorbar\": {\"outlinewidth\": 0, \"ticks\": \"\"}}, \"type\": \"scattergeo\"}], \"scattergl\": [{\"marker\": {\"colorbar\": {\"outlinewidth\": 0, \"ticks\": \"\"}}, \"type\": \"scattergl\"}], \"scattermapbox\": [{\"marker\": {\"colorbar\": {\"outlinewidth\": 0, \"ticks\": \"\"}}, \"type\": \"scattermapbox\"}], \"scatterpolar\": [{\"marker\": {\"colorbar\": {\"outlinewidth\": 0, \"ticks\": \"\"}}, \"type\": \"scatterpolar\"}], \"scatterpolargl\": [{\"marker\": {\"colorbar\": {\"outlinewidth\": 0, \"ticks\": \"\"}}, \"type\": \"scatterpolargl\"}], \"scatterternary\": [{\"marker\": {\"colorbar\": {\"outlinewidth\": 0, \"ticks\": \"\"}}, \"type\": \"scatterternary\"}], \"surface\": [{\"colorbar\": {\"outlinewidth\": 0, \"ticks\": \"\"}, \"colorscale\": [[0.0, \"#0d0887\"], [0.1111111111111111, \"#46039f\"], [0.2222222222222222, \"#7201a8\"], [0.3333333333333333, \"#9c179e\"], [0.4444444444444444, \"#bd3786\"], [0.5555555555555556, \"#d8576b\"], [0.6666666666666666, \"#ed7953\"], [0.7777777777777778, \"#fb9f3a\"], [0.8888888888888888, \"#fdca26\"], [1.0, \"#f0f921\"]], \"type\": \"surface\"}], \"table\": [{\"cells\": {\"fill\": {\"color\": \"#EBF0F8\"}, \"line\": {\"color\": \"white\"}}, \"header\": {\"fill\": {\"color\": \"#C8D4E3\"}, \"line\": {\"color\": \"white\"}}, \"type\": \"table\"}]}, \"layout\": {\"annotationdefaults\": {\"arrowcolor\": \"#2a3f5f\", \"arrowhead\": 0, \"arrowwidth\": 1}, \"autotypenumbers\": \"strict\", \"coloraxis\": {\"colorbar\": {\"outlinewidth\": 0, \"ticks\": \"\"}}, \"colorscale\": {\"diverging\": [[0, \"#8e0152\"], [0.1, \"#c51b7d\"], [0.2, \"#de77ae\"], [0.3, \"#f1b6da\"], [0.4, \"#fde0ef\"], [0.5, \"#f7f7f7\"], [0.6, \"#e6f5d0\"], [0.7, \"#b8e186\"], [0.8, \"#7fbc41\"], [0.9, \"#4d9221\"], [1, \"#276419\"]], \"sequential\": [[0.0, \"#0d0887\"], [0.1111111111111111, \"#46039f\"], [0.2222222222222222, \"#7201a8\"], [0.3333333333333333, \"#9c179e\"], [0.4444444444444444, \"#bd3786\"], [0.5555555555555556, \"#d8576b\"], [0.6666666666666666, \"#ed7953\"], [0.7777777777777778, \"#fb9f3a\"], [0.8888888888888888, \"#fdca26\"], [1.0, \"#f0f921\"]], \"sequentialminus\": [[0.0, \"#0d0887\"], [0.1111111111111111, \"#46039f\"], [0.2222222222222222, \"#7201a8\"], [0.3333333333333333, \"#9c179e\"], [0.4444444444444444, \"#bd3786\"], [0.5555555555555556, \"#d8576b\"], [0.6666666666666666, \"#ed7953\"], [0.7777777777777778, \"#fb9f3a\"], [0.8888888888888888, \"#fdca26\"], [1.0, \"#f0f921\"]]}, \"colorway\": [\"#636efa\", \"#EF553B\", \"#00cc96\", \"#ab63fa\", \"#FFA15A\", \"#19d3f3\", \"#FF6692\", \"#B6E880\", \"#FF97FF\", \"#FECB52\"], \"font\": {\"color\": \"#2a3f5f\"}, \"geo\": {\"bgcolor\": \"white\", \"lakecolor\": \"white\", \"landcolor\": \"#E5ECF6\", \"showlakes\": true, \"showland\": true, \"subunitcolor\": \"white\"}, \"hoverlabel\": {\"align\": \"left\"}, \"hovermode\": \"closest\", \"mapbox\": {\"style\": \"light\"}, \"paper_bgcolor\": \"white\", \"plot_bgcolor\": \"#E5ECF6\", \"polar\": {\"angularaxis\": {\"gridcolor\": \"white\", \"linecolor\": \"white\", \"ticks\": \"\"}, \"bgcolor\": \"#E5ECF6\", \"radialaxis\": {\"gridcolor\": \"white\", \"linecolor\": \"white\", \"ticks\": \"\"}}, \"scene\": {\"xaxis\": {\"backgroundcolor\": \"#E5ECF6\", \"gridcolor\": \"white\", \"gridwidth\": 2, \"linecolor\": \"white\", \"showbackground\": true, \"ticks\": \"\", \"zerolinecolor\": \"white\"}, \"yaxis\": {\"backgroundcolor\": \"#E5ECF6\", \"gridcolor\": \"white\", \"gridwidth\": 2, \"linecolor\": \"white\", \"showbackground\": true, \"ticks\": \"\", \"zerolinecolor\": \"white\"}, \"zaxis\": {\"backgroundcolor\": \"#E5ECF6\", \"gridcolor\": \"white\", \"gridwidth\": 2, \"linecolor\": \"white\", \"showbackground\": true, \"ticks\": \"\", \"zerolinecolor\": \"white\"}}, \"shapedefaults\": {\"line\": {\"color\": \"#2a3f5f\"}}, \"ternary\": {\"aaxis\": {\"gridcolor\": \"white\", \"linecolor\": \"white\", \"ticks\": \"\"}, \"baxis\": {\"gridcolor\": \"white\", \"linecolor\": \"white\", \"ticks\": \"\"}, \"bgcolor\": \"#E5ECF6\", \"caxis\": {\"gridcolor\": \"white\", \"linecolor\": \"white\", \"ticks\": \"\"}}, \"title\": {\"x\": 0.05}, \"xaxis\": {\"automargin\": true, \"gridcolor\": \"white\", \"linecolor\": \"white\", \"ticks\": \"\", \"title\": {\"standoff\": 15}, \"zerolinecolor\": \"white\", \"zerolinewidth\": 2}, \"yaxis\": {\"automargin\": true, \"gridcolor\": \"white\", \"linecolor\": \"white\", \"ticks\": \"\", \"title\": {\"standoff\": 15}, \"zerolinecolor\": \"white\", \"zerolinewidth\": 2}}}, \"title\": {\"text\": \"test_accuracy [8]: 1.00 [12]: 1.00 [16]: 1.00\"}, \"xaxis\": {\"title\": {\"text\": \"epoch\"}}, \"yaxis\": {\"title\": {\"text\": \"test_accuracy\"}}},                        {\"responsive\": true}                    ).then(function(){\n",
       "                            \n",
       "var gd = document.getElementById('90259b66-fac3-4929-b54e-29bf829ce7b3');\n",
       "var x = new MutationObserver(function (mutations, observer) {{\n",
       "        var display = window.getComputedStyle(gd).display;\n",
       "        if (!display || display === 'none') {{\n",
       "            console.log([gd, 'removed!']);\n",
       "            Plotly.purge(gd);\n",
       "            observer.disconnect();\n",
       "        }}\n",
       "}});\n",
       "\n",
       "// Listen for the removal of the full notebook cells\n",
       "var notebookContainer = gd.closest('#notebook-container');\n",
       "if (notebookContainer) {{\n",
       "    x.observe(notebookContainer, {childList: true});\n",
       "}}\n",
       "\n",
       "// Listen for the clearing of the current output cell\n",
       "var outputEl = gd.closest('.output');\n",
       "if (outputEl) {{\n",
       "    x.observe(outputEl, {childList: true});\n",
       "}}\n",
       "\n",
       "                        })                };                });            </script>        </div>"
      ]
     },
     "metadata": {},
     "output_type": "display_data"
    },
    {
     "data": {
      "text/html": [
       "<div>\n",
       "<style scoped>\n",
       "    .dataframe tbody tr th:only-of-type {\n",
       "        vertical-align: middle;\n",
       "    }\n",
       "\n",
       "    .dataframe tbody tr th {\n",
       "        vertical-align: top;\n",
       "    }\n",
       "\n",
       "    .dataframe thead th {\n",
       "        text-align: right;\n",
       "    }\n",
       "</style>\n",
       "<table border=\"1\" class=\"dataframe\">\n",
       "  <thead>\n",
       "    <tr style=\"text-align: right;\">\n",
       "      <th></th>\n",
       "      <th>epochs</th>\n",
       "      <th>offset</th>\n",
       "      <th>rate</th>\n",
       "      <th>test_accuracy</th>\n",
       "    </tr>\n",
       "  </thead>\n",
       "  <tbody>\n",
       "    <tr>\n",
       "      <th>8</th>\n",
       "      <td>30.0</td>\n",
       "      <td>0.6</td>\n",
       "      <td>0.03</td>\n",
       "      <td>1.0</td>\n",
       "    </tr>\n",
       "    <tr>\n",
       "      <th>12</th>\n",
       "      <td>15.0</td>\n",
       "      <td>0.1</td>\n",
       "      <td>0.10</td>\n",
       "      <td>1.0</td>\n",
       "    </tr>\n",
       "    <tr>\n",
       "      <th>16</th>\n",
       "      <td>30.0</td>\n",
       "      <td>0.3</td>\n",
       "      <td>0.10</td>\n",
       "      <td>1.0</td>\n",
       "    </tr>\n",
       "  </tbody>\n",
       "</table>\n",
       "</div>"
      ],
      "text/plain": [
       "    epochs  offset  rate  test_accuracy\n",
       "8     30.0     0.6  0.03            1.0\n",
       "12    15.0     0.1  0.10            1.0\n",
       "16    30.0     0.3  0.10            1.0"
      ]
     },
     "metadata": {},
     "output_type": "display_data"
    },
    {
     "data": {
      "text/html": [
       "        <script type=\"text/javascript\">\n",
       "        window.PlotlyConfig = {MathJaxConfig: 'local'};\n",
       "        if (window.MathJax) {MathJax.Hub.Config({SVG: {font: \"STIX-Web\"}});}\n",
       "        if (typeof require !== 'undefined') {\n",
       "        require.undef(\"plotly\");\n",
       "        requirejs.config({\n",
       "            paths: {\n",
       "                'plotly': ['https://cdn.plot.ly/plotly-latest.min']\n",
       "            }\n",
       "        });\n",
       "        require(['plotly'], function(Plotly) {\n",
       "            window._Plotly = Plotly;\n",
       "        });\n",
       "        }\n",
       "        </script>\n",
       "        "
      ]
     },
     "metadata": {},
     "output_type": "display_data"
    },
    {
     "data": {
      "application/vnd.plotly.v1+json": {
       "config": {
        "linkText": "Export to plot.ly",
        "plotlyServerURL": "https://plot.ly",
        "showLink": false
       },
       "data": [
        {
         "mode": "markers",
         "name": "all experiments",
         "type": "scatter",
         "x": [
          0.8028149534318972,
          0.9044021849405182,
          0.8570047544578,
          0.8273460854237368,
          0.7701504726681038,
          1,
          1,
          1,
          1,
          1,
          1,
          1,
          1,
          1,
          1
         ],
         "y": [
          0.7319007035082885,
          0.8446965979463413,
          0.8395144655922936,
          0.9742442141247202,
          0.9633114159358351,
          1,
          1,
          1,
          1,
          1,
          1,
          1,
          1,
          1,
          1
         ]
        },
        {
         "mode": "lines",
         "name": "linear",
         "type": "scatter",
         "x": [
          0.7701504726681038,
          0.7724721850653956,
          0.7747938974626876,
          0.7771156098599794,
          0.7794373222572712,
          0.7817590346545632,
          0.784080747051855,
          0.786402459449147,
          0.7887241718464388,
          0.7910458842437307,
          0.7933675966410226,
          0.7956893090383145,
          0.7980110214356063,
          0.8003327338328983,
          0.8026544462301901,
          0.804976158627482,
          0.8072978710247739,
          0.8096195834220657,
          0.8119412958193576,
          0.8142630082166495,
          0.8165847206139414,
          0.8189064330112332,
          0.8212281454085252,
          0.823549857805817,
          0.825871570203109,
          0.8281932826004008,
          0.8305149949976927,
          0.8328367073949846,
          0.8351584197922765,
          0.8374801321895683,
          0.8398018445868602,
          0.8421235569841521,
          0.8444452693814439,
          0.8467669817787359,
          0.8490886941760277,
          0.8514104065733197,
          0.8537321189706115,
          0.8560538313679034,
          0.8583755437651952,
          0.8606972561624872,
          0.863018968559779,
          0.865340680957071,
          0.8676623933543628,
          0.8699841057516546,
          0.8723058181489466,
          0.8746275305462384,
          0.8769492429435303,
          0.8792709553408222,
          0.8815926677381141,
          0.8839143801354059,
          0.8862360925326979,
          0.8885578049299897,
          0.8908795173272817,
          0.8932012297245735,
          0.8955229421218653,
          0.8978446545191572,
          0.9001663669164491,
          0.902488079313741,
          0.9048097917110329,
          0.9071315041083248,
          0.9094532165056166,
          0.9117749289029086,
          0.9140966413002004,
          0.9164183536974924,
          0.9187400660947842,
          0.921061778492076,
          0.9233834908893679,
          0.9257052032866598,
          0.9280269156839517,
          0.9303486280812436,
          0.9326703404785355,
          0.9349920528758273,
          0.9373137652731192,
          0.9396354776704111,
          0.941957190067703,
          0.9442789024649949,
          0.9466006148622867,
          0.9489223272595786,
          0.9512440396568705,
          0.9535657520541624,
          0.9558874644514543,
          0.9582091768487462,
          0.960530889246038,
          0.9628526016433299,
          0.9651743140406218,
          0.9674960264379137,
          0.9698177388352056,
          0.9721394512324975,
          0.9744611636297893,
          0.9767828760270812,
          0.9791045884243731,
          0.9814263008216649,
          0.9837480132189569,
          0.9860697256162487,
          0.9883914380135406,
          0.9907131504108325,
          0.9930348628081244,
          0.9953565752054163,
          0.9976782876027082,
          1
         ],
         "y": [
          0.7319007035082885,
          0.734608777210225,
          0.7373168509121615,
          0.740024924614098,
          0.7427329983160345,
          0.7454410720179709,
          0.7481491457199074,
          0.7508572194218439,
          0.7535652931237804,
          0.7562733668257168,
          0.7589814405276533,
          0.7616895142295897,
          0.7643975879315262,
          0.7671056616334627,
          0.7698137353353992,
          0.7725218090373357,
          0.7752298827392722,
          0.7779379564412087,
          0.7806460301431452,
          0.7833541038450816,
          0.7860621775470181,
          0.7887702512489546,
          0.7914783249508911,
          0.7941863986528276,
          0.796894472354764,
          0.7996025460567004,
          0.8023106197586369,
          0.8050186934605734,
          0.8077267671625099,
          0.8104348408644464,
          0.8131429145663829,
          0.8158509882683194,
          0.8185590619702559,
          0.8212671356721923,
          0.8239752093741288,
          0.8266832830760653,
          0.8293913567780018,
          0.8320994304799383,
          0.8348075041818748,
          0.8375155778838113,
          0.8402236515857477,
          0.8429317252876842,
          0.8456397989896206,
          0.8483478726915571,
          0.8510559463934936,
          0.8537640200954301,
          0.8564720937973666,
          0.859180167499303,
          0.8618882412012395,
          0.864596314903176,
          0.8673043886051125,
          0.870012462307049,
          0.8727205360089855,
          0.875428609710922,
          0.8781366834128583,
          0.8808447571147948,
          0.8835528308167313,
          0.8862609045186678,
          0.8889689782206043,
          0.8916770519225408,
          0.8943851256244773,
          0.8970931993264137,
          0.8998012730283502,
          0.9025093467302867,
          0.9052174204322232,
          0.9079254941341597,
          0.9106335678360962,
          0.9133416415380327,
          0.9160497152399691,
          0.9187577889419056,
          0.9214658626438421,
          0.9241739363457786,
          0.9268820100477151,
          0.9295900837496516,
          0.9322981574515881,
          0.9350062311535244,
          0.9377143048554609,
          0.9404223785573974,
          0.9431304522593339,
          0.9458385259612704,
          0.9485465996632069,
          0.9512546733651434,
          0.9539627470670798,
          0.9566708207690163,
          0.9593788944709528,
          0.9620869681728893,
          0.9647950418748257,
          0.9675031155767622,
          0.9702111892786986,
          0.9729192629806351,
          0.9756273366825716,
          0.9783354103845081,
          0.9810434840864446,
          0.9837515577883811,
          0.9864596314903176,
          0.989167705192254,
          0.9918757788941905,
          0.994583852596127,
          0.9972919262980635,
          1
         ]
        }
       ],
       "layout": {
        "template": {
         "data": {
          "bar": [
           {
            "error_x": {
             "color": "#2a3f5f"
            },
            "error_y": {
             "color": "#2a3f5f"
            },
            "marker": {
             "line": {
              "color": "#E5ECF6",
              "width": 0.5
             }
            },
            "type": "bar"
           }
          ],
          "barpolar": [
           {
            "marker": {
             "line": {
              "color": "#E5ECF6",
              "width": 0.5
             }
            },
            "type": "barpolar"
           }
          ],
          "carpet": [
           {
            "aaxis": {
             "endlinecolor": "#2a3f5f",
             "gridcolor": "white",
             "linecolor": "white",
             "minorgridcolor": "white",
             "startlinecolor": "#2a3f5f"
            },
            "baxis": {
             "endlinecolor": "#2a3f5f",
             "gridcolor": "white",
             "linecolor": "white",
             "minorgridcolor": "white",
             "startlinecolor": "#2a3f5f"
            },
            "type": "carpet"
           }
          ],
          "choropleth": [
           {
            "colorbar": {
             "outlinewidth": 0,
             "ticks": ""
            },
            "type": "choropleth"
           }
          ],
          "contour": [
           {
            "colorbar": {
             "outlinewidth": 0,
             "ticks": ""
            },
            "colorscale": [
             [
              0,
              "#0d0887"
             ],
             [
              0.1111111111111111,
              "#46039f"
             ],
             [
              0.2222222222222222,
              "#7201a8"
             ],
             [
              0.3333333333333333,
              "#9c179e"
             ],
             [
              0.4444444444444444,
              "#bd3786"
             ],
             [
              0.5555555555555556,
              "#d8576b"
             ],
             [
              0.6666666666666666,
              "#ed7953"
             ],
             [
              0.7777777777777778,
              "#fb9f3a"
             ],
             [
              0.8888888888888888,
              "#fdca26"
             ],
             [
              1,
              "#f0f921"
             ]
            ],
            "type": "contour"
           }
          ],
          "contourcarpet": [
           {
            "colorbar": {
             "outlinewidth": 0,
             "ticks": ""
            },
            "type": "contourcarpet"
           }
          ],
          "heatmap": [
           {
            "colorbar": {
             "outlinewidth": 0,
             "ticks": ""
            },
            "colorscale": [
             [
              0,
              "#0d0887"
             ],
             [
              0.1111111111111111,
              "#46039f"
             ],
             [
              0.2222222222222222,
              "#7201a8"
             ],
             [
              0.3333333333333333,
              "#9c179e"
             ],
             [
              0.4444444444444444,
              "#bd3786"
             ],
             [
              0.5555555555555556,
              "#d8576b"
             ],
             [
              0.6666666666666666,
              "#ed7953"
             ],
             [
              0.7777777777777778,
              "#fb9f3a"
             ],
             [
              0.8888888888888888,
              "#fdca26"
             ],
             [
              1,
              "#f0f921"
             ]
            ],
            "type": "heatmap"
           }
          ],
          "heatmapgl": [
           {
            "colorbar": {
             "outlinewidth": 0,
             "ticks": ""
            },
            "colorscale": [
             [
              0,
              "#0d0887"
             ],
             [
              0.1111111111111111,
              "#46039f"
             ],
             [
              0.2222222222222222,
              "#7201a8"
             ],
             [
              0.3333333333333333,
              "#9c179e"
             ],
             [
              0.4444444444444444,
              "#bd3786"
             ],
             [
              0.5555555555555556,
              "#d8576b"
             ],
             [
              0.6666666666666666,
              "#ed7953"
             ],
             [
              0.7777777777777778,
              "#fb9f3a"
             ],
             [
              0.8888888888888888,
              "#fdca26"
             ],
             [
              1,
              "#f0f921"
             ]
            ],
            "type": "heatmapgl"
           }
          ],
          "histogram": [
           {
            "marker": {
             "colorbar": {
              "outlinewidth": 0,
              "ticks": ""
             }
            },
            "type": "histogram"
           }
          ],
          "histogram2d": [
           {
            "colorbar": {
             "outlinewidth": 0,
             "ticks": ""
            },
            "colorscale": [
             [
              0,
              "#0d0887"
             ],
             [
              0.1111111111111111,
              "#46039f"
             ],
             [
              0.2222222222222222,
              "#7201a8"
             ],
             [
              0.3333333333333333,
              "#9c179e"
             ],
             [
              0.4444444444444444,
              "#bd3786"
             ],
             [
              0.5555555555555556,
              "#d8576b"
             ],
             [
              0.6666666666666666,
              "#ed7953"
             ],
             [
              0.7777777777777778,
              "#fb9f3a"
             ],
             [
              0.8888888888888888,
              "#fdca26"
             ],
             [
              1,
              "#f0f921"
             ]
            ],
            "type": "histogram2d"
           }
          ],
          "histogram2dcontour": [
           {
            "colorbar": {
             "outlinewidth": 0,
             "ticks": ""
            },
            "colorscale": [
             [
              0,
              "#0d0887"
             ],
             [
              0.1111111111111111,
              "#46039f"
             ],
             [
              0.2222222222222222,
              "#7201a8"
             ],
             [
              0.3333333333333333,
              "#9c179e"
             ],
             [
              0.4444444444444444,
              "#bd3786"
             ],
             [
              0.5555555555555556,
              "#d8576b"
             ],
             [
              0.6666666666666666,
              "#ed7953"
             ],
             [
              0.7777777777777778,
              "#fb9f3a"
             ],
             [
              0.8888888888888888,
              "#fdca26"
             ],
             [
              1,
              "#f0f921"
             ]
            ],
            "type": "histogram2dcontour"
           }
          ],
          "mesh3d": [
           {
            "colorbar": {
             "outlinewidth": 0,
             "ticks": ""
            },
            "type": "mesh3d"
           }
          ],
          "parcoords": [
           {
            "line": {
             "colorbar": {
              "outlinewidth": 0,
              "ticks": ""
             }
            },
            "type": "parcoords"
           }
          ],
          "pie": [
           {
            "automargin": true,
            "type": "pie"
           }
          ],
          "scatter": [
           {
            "marker": {
             "colorbar": {
              "outlinewidth": 0,
              "ticks": ""
             }
            },
            "type": "scatter"
           }
          ],
          "scatter3d": [
           {
            "line": {
             "colorbar": {
              "outlinewidth": 0,
              "ticks": ""
             }
            },
            "marker": {
             "colorbar": {
              "outlinewidth": 0,
              "ticks": ""
             }
            },
            "type": "scatter3d"
           }
          ],
          "scattercarpet": [
           {
            "marker": {
             "colorbar": {
              "outlinewidth": 0,
              "ticks": ""
             }
            },
            "type": "scattercarpet"
           }
          ],
          "scattergeo": [
           {
            "marker": {
             "colorbar": {
              "outlinewidth": 0,
              "ticks": ""
             }
            },
            "type": "scattergeo"
           }
          ],
          "scattergl": [
           {
            "marker": {
             "colorbar": {
              "outlinewidth": 0,
              "ticks": ""
             }
            },
            "type": "scattergl"
           }
          ],
          "scattermapbox": [
           {
            "marker": {
             "colorbar": {
              "outlinewidth": 0,
              "ticks": ""
             }
            },
            "type": "scattermapbox"
           }
          ],
          "scatterpolar": [
           {
            "marker": {
             "colorbar": {
              "outlinewidth": 0,
              "ticks": ""
             }
            },
            "type": "scatterpolar"
           }
          ],
          "scatterpolargl": [
           {
            "marker": {
             "colorbar": {
              "outlinewidth": 0,
              "ticks": ""
             }
            },
            "type": "scatterpolargl"
           }
          ],
          "scatterternary": [
           {
            "marker": {
             "colorbar": {
              "outlinewidth": 0,
              "ticks": ""
             }
            },
            "type": "scatterternary"
           }
          ],
          "surface": [
           {
            "colorbar": {
             "outlinewidth": 0,
             "ticks": ""
            },
            "colorscale": [
             [
              0,
              "#0d0887"
             ],
             [
              0.1111111111111111,
              "#46039f"
             ],
             [
              0.2222222222222222,
              "#7201a8"
             ],
             [
              0.3333333333333333,
              "#9c179e"
             ],
             [
              0.4444444444444444,
              "#bd3786"
             ],
             [
              0.5555555555555556,
              "#d8576b"
             ],
             [
              0.6666666666666666,
              "#ed7953"
             ],
             [
              0.7777777777777778,
              "#fb9f3a"
             ],
             [
              0.8888888888888888,
              "#fdca26"
             ],
             [
              1,
              "#f0f921"
             ]
            ],
            "type": "surface"
           }
          ],
          "table": [
           {
            "cells": {
             "fill": {
              "color": "#EBF0F8"
             },
             "line": {
              "color": "white"
             }
            },
            "header": {
             "fill": {
              "color": "#C8D4E3"
             },
             "line": {
              "color": "white"
             }
            },
            "type": "table"
           }
          ]
         },
         "layout": {
          "annotationdefaults": {
           "arrowcolor": "#2a3f5f",
           "arrowhead": 0,
           "arrowwidth": 1
          },
          "autotypenumbers": "strict",
          "coloraxis": {
           "colorbar": {
            "outlinewidth": 0,
            "ticks": ""
           }
          },
          "colorscale": {
           "diverging": [
            [
             0,
             "#8e0152"
            ],
            [
             0.1,
             "#c51b7d"
            ],
            [
             0.2,
             "#de77ae"
            ],
            [
             0.3,
             "#f1b6da"
            ],
            [
             0.4,
             "#fde0ef"
            ],
            [
             0.5,
             "#f7f7f7"
            ],
            [
             0.6,
             "#e6f5d0"
            ],
            [
             0.7,
             "#b8e186"
            ],
            [
             0.8,
             "#7fbc41"
            ],
            [
             0.9,
             "#4d9221"
            ],
            [
             1,
             "#276419"
            ]
           ],
           "sequential": [
            [
             0,
             "#0d0887"
            ],
            [
             0.1111111111111111,
             "#46039f"
            ],
            [
             0.2222222222222222,
             "#7201a8"
            ],
            [
             0.3333333333333333,
             "#9c179e"
            ],
            [
             0.4444444444444444,
             "#bd3786"
            ],
            [
             0.5555555555555556,
             "#d8576b"
            ],
            [
             0.6666666666666666,
             "#ed7953"
            ],
            [
             0.7777777777777778,
             "#fb9f3a"
            ],
            [
             0.8888888888888888,
             "#fdca26"
            ],
            [
             1,
             "#f0f921"
            ]
           ],
           "sequentialminus": [
            [
             0,
             "#0d0887"
            ],
            [
             0.1111111111111111,
             "#46039f"
            ],
            [
             0.2222222222222222,
             "#7201a8"
            ],
            [
             0.3333333333333333,
             "#9c179e"
            ],
            [
             0.4444444444444444,
             "#bd3786"
            ],
            [
             0.5555555555555556,
             "#d8576b"
            ],
            [
             0.6666666666666666,
             "#ed7953"
            ],
            [
             0.7777777777777778,
             "#fb9f3a"
            ],
            [
             0.8888888888888888,
             "#fdca26"
            ],
            [
             1,
             "#f0f921"
            ]
           ]
          },
          "colorway": [
           "#636efa",
           "#EF553B",
           "#00cc96",
           "#ab63fa",
           "#FFA15A",
           "#19d3f3",
           "#FF6692",
           "#B6E880",
           "#FF97FF",
           "#FECB52"
          ],
          "font": {
           "color": "#2a3f5f"
          },
          "geo": {
           "bgcolor": "white",
           "lakecolor": "white",
           "landcolor": "#E5ECF6",
           "showlakes": true,
           "showland": true,
           "subunitcolor": "white"
          },
          "hoverlabel": {
           "align": "left"
          },
          "hovermode": "closest",
          "mapbox": {
           "style": "light"
          },
          "paper_bgcolor": "white",
          "plot_bgcolor": "#E5ECF6",
          "polar": {
           "angularaxis": {
            "gridcolor": "white",
            "linecolor": "white",
            "ticks": ""
           },
           "bgcolor": "#E5ECF6",
           "radialaxis": {
            "gridcolor": "white",
            "linecolor": "white",
            "ticks": ""
           }
          },
          "scene": {
           "xaxis": {
            "backgroundcolor": "#E5ECF6",
            "gridcolor": "white",
            "gridwidth": 2,
            "linecolor": "white",
            "showbackground": true,
            "ticks": "",
            "zerolinecolor": "white"
           },
           "yaxis": {
            "backgroundcolor": "#E5ECF6",
            "gridcolor": "white",
            "gridwidth": 2,
            "linecolor": "white",
            "showbackground": true,
            "ticks": "",
            "zerolinecolor": "white"
           },
           "zaxis": {
            "backgroundcolor": "#E5ECF6",
            "gridcolor": "white",
            "gridwidth": 2,
            "linecolor": "white",
            "showbackground": true,
            "ticks": "",
            "zerolinecolor": "white"
           }
          },
          "shapedefaults": {
           "line": {
            "color": "#2a3f5f"
           }
          },
          "ternary": {
           "aaxis": {
            "gridcolor": "white",
            "linecolor": "white",
            "ticks": ""
           },
           "baxis": {
            "gridcolor": "white",
            "linecolor": "white",
            "ticks": ""
           },
           "bgcolor": "#E5ECF6",
           "caxis": {
            "gridcolor": "white",
            "linecolor": "white",
            "ticks": ""
           }
          },
          "title": {
           "x": 0.05
          },
          "xaxis": {
           "automargin": true,
           "gridcolor": "white",
           "linecolor": "white",
           "ticks": "",
           "title": {
            "standoff": 15
           },
           "zerolinecolor": "white",
           "zerolinewidth": 2
          },
          "yaxis": {
           "automargin": true,
           "gridcolor": "white",
           "linecolor": "white",
           "ticks": "",
           "title": {
            "standoff": 15
           },
           "zerolinecolor": "white",
           "zerolinewidth": 2
          }
         }
        },
        "title": {
         "text": "test_accuracy vs validation_accuracy"
        },
        "xaxis": {
         "title": {
          "text": "test_accuracy"
         }
        },
        "yaxis": {
         "title": {
          "text": "validation_accuracy"
         }
        }
       }
      },
      "text/html": [
       "<div>                            <div id=\"a4f701ca-85ce-4b17-8cd1-9c043e2ccb02\" class=\"plotly-graph-div\" style=\"height:525px; width:100%;\"></div>            <script type=\"text/javascript\">                require([\"plotly\"], function(Plotly) {                    window.PLOTLYENV=window.PLOTLYENV || {};                                    if (document.getElementById(\"a4f701ca-85ce-4b17-8cd1-9c043e2ccb02\")) {                    Plotly.newPlot(                        \"a4f701ca-85ce-4b17-8cd1-9c043e2ccb02\",                        [{\"mode\": \"markers\", \"name\": \"all experiments\", \"type\": \"scatter\", \"x\": [0.8028149534318972, 0.9044021849405182, 0.8570047544578, 0.8273460854237368, 0.7701504726681038, 1.0, 1.0, 1.0, 1.0, 1.0, 1.0, 1.0, 1.0, 1.0, 1.0], \"y\": [0.7319007035082885, 0.8446965979463413, 0.8395144655922936, 0.9742442141247202, 0.9633114159358351, 1.0, 1.0, 1.0, 1.0, 1.0, 1.0, 1.0, 1.0, 1.0, 1.0]}, {\"mode\": \"lines\", \"name\": \"linear\", \"type\": \"scatter\", \"x\": [0.7701504726681038, 0.7724721850653956, 0.7747938974626876, 0.7771156098599794, 0.7794373222572712, 0.7817590346545632, 0.784080747051855, 0.786402459449147, 0.7887241718464388, 0.7910458842437307, 0.7933675966410226, 0.7956893090383145, 0.7980110214356063, 0.8003327338328983, 0.8026544462301901, 0.804976158627482, 0.8072978710247739, 0.8096195834220657, 0.8119412958193576, 0.8142630082166495, 0.8165847206139414, 0.8189064330112332, 0.8212281454085252, 0.823549857805817, 0.825871570203109, 0.8281932826004008, 0.8305149949976927, 0.8328367073949846, 0.8351584197922765, 0.8374801321895683, 0.8398018445868602, 0.8421235569841521, 0.8444452693814439, 0.8467669817787359, 0.8490886941760277, 0.8514104065733197, 0.8537321189706115, 0.8560538313679034, 0.8583755437651952, 0.8606972561624872, 0.863018968559779, 0.865340680957071, 0.8676623933543628, 0.8699841057516546, 0.8723058181489466, 0.8746275305462384, 0.8769492429435303, 0.8792709553408222, 0.8815926677381141, 0.8839143801354059, 0.8862360925326979, 0.8885578049299897, 0.8908795173272817, 0.8932012297245735, 0.8955229421218653, 0.8978446545191572, 0.9001663669164491, 0.902488079313741, 0.9048097917110329, 0.9071315041083248, 0.9094532165056166, 0.9117749289029086, 0.9140966413002004, 0.9164183536974924, 0.9187400660947842, 0.921061778492076, 0.9233834908893679, 0.9257052032866598, 0.9280269156839517, 0.9303486280812436, 0.9326703404785355, 0.9349920528758273, 0.9373137652731192, 0.9396354776704111, 0.941957190067703, 0.9442789024649949, 0.9466006148622867, 0.9489223272595786, 0.9512440396568705, 0.9535657520541624, 0.9558874644514543, 0.9582091768487462, 0.960530889246038, 0.9628526016433299, 0.9651743140406218, 0.9674960264379137, 0.9698177388352056, 0.9721394512324975, 0.9744611636297893, 0.9767828760270812, 0.9791045884243731, 0.9814263008216649, 0.9837480132189569, 0.9860697256162487, 0.9883914380135406, 0.9907131504108325, 0.9930348628081244, 0.9953565752054163, 0.9976782876027082, 1.0], \"y\": [0.7319007035082885, 0.734608777210225, 0.7373168509121615, 0.740024924614098, 0.7427329983160345, 0.7454410720179709, 0.7481491457199074, 0.7508572194218439, 0.7535652931237804, 0.7562733668257168, 0.7589814405276533, 0.7616895142295897, 0.7643975879315262, 0.7671056616334627, 0.7698137353353992, 0.7725218090373357, 0.7752298827392722, 0.7779379564412087, 0.7806460301431452, 0.7833541038450816, 0.7860621775470181, 0.7887702512489546, 0.7914783249508911, 0.7941863986528276, 0.796894472354764, 0.7996025460567004, 0.8023106197586369, 0.8050186934605734, 0.8077267671625099, 0.8104348408644464, 0.8131429145663829, 0.8158509882683194, 0.8185590619702559, 0.8212671356721923, 0.8239752093741288, 0.8266832830760653, 0.8293913567780018, 0.8320994304799383, 0.8348075041818748, 0.8375155778838113, 0.8402236515857477, 0.8429317252876842, 0.8456397989896206, 0.8483478726915571, 0.8510559463934936, 0.8537640200954301, 0.8564720937973666, 0.859180167499303, 0.8618882412012395, 0.864596314903176, 0.8673043886051125, 0.870012462307049, 0.8727205360089855, 0.875428609710922, 0.8781366834128583, 0.8808447571147948, 0.8835528308167313, 0.8862609045186678, 0.8889689782206043, 0.8916770519225408, 0.8943851256244773, 0.8970931993264137, 0.8998012730283502, 0.9025093467302867, 0.9052174204322232, 0.9079254941341597, 0.9106335678360962, 0.9133416415380327, 0.9160497152399691, 0.9187577889419056, 0.9214658626438421, 0.9241739363457786, 0.9268820100477151, 0.9295900837496516, 0.9322981574515881, 0.9350062311535244, 0.9377143048554609, 0.9404223785573974, 0.9431304522593339, 0.9458385259612704, 0.9485465996632069, 0.9512546733651434, 0.9539627470670798, 0.9566708207690163, 0.9593788944709528, 0.9620869681728893, 0.9647950418748257, 0.9675031155767622, 0.9702111892786986, 0.9729192629806351, 0.9756273366825716, 0.9783354103845081, 0.9810434840864446, 0.9837515577883811, 0.9864596314903176, 0.989167705192254, 0.9918757788941905, 0.994583852596127, 0.9972919262980635, 1.0]}],                        {\"template\": {\"data\": {\"bar\": [{\"error_x\": {\"color\": \"#2a3f5f\"}, \"error_y\": {\"color\": \"#2a3f5f\"}, \"marker\": {\"line\": {\"color\": \"#E5ECF6\", \"width\": 0.5}}, \"type\": \"bar\"}], \"barpolar\": [{\"marker\": {\"line\": {\"color\": \"#E5ECF6\", \"width\": 0.5}}, \"type\": \"barpolar\"}], \"carpet\": [{\"aaxis\": {\"endlinecolor\": \"#2a3f5f\", \"gridcolor\": \"white\", \"linecolor\": \"white\", \"minorgridcolor\": \"white\", \"startlinecolor\": \"#2a3f5f\"}, \"baxis\": {\"endlinecolor\": \"#2a3f5f\", \"gridcolor\": \"white\", \"linecolor\": \"white\", \"minorgridcolor\": \"white\", \"startlinecolor\": \"#2a3f5f\"}, \"type\": \"carpet\"}], \"choropleth\": [{\"colorbar\": {\"outlinewidth\": 0, \"ticks\": \"\"}, \"type\": \"choropleth\"}], \"contour\": [{\"colorbar\": {\"outlinewidth\": 0, \"ticks\": \"\"}, \"colorscale\": [[0.0, \"#0d0887\"], [0.1111111111111111, \"#46039f\"], [0.2222222222222222, \"#7201a8\"], [0.3333333333333333, \"#9c179e\"], [0.4444444444444444, \"#bd3786\"], [0.5555555555555556, \"#d8576b\"], [0.6666666666666666, \"#ed7953\"], [0.7777777777777778, \"#fb9f3a\"], [0.8888888888888888, \"#fdca26\"], [1.0, \"#f0f921\"]], \"type\": \"contour\"}], \"contourcarpet\": [{\"colorbar\": {\"outlinewidth\": 0, \"ticks\": \"\"}, \"type\": \"contourcarpet\"}], \"heatmap\": [{\"colorbar\": {\"outlinewidth\": 0, \"ticks\": \"\"}, \"colorscale\": [[0.0, \"#0d0887\"], [0.1111111111111111, \"#46039f\"], [0.2222222222222222, \"#7201a8\"], [0.3333333333333333, \"#9c179e\"], [0.4444444444444444, \"#bd3786\"], [0.5555555555555556, \"#d8576b\"], [0.6666666666666666, \"#ed7953\"], [0.7777777777777778, \"#fb9f3a\"], [0.8888888888888888, \"#fdca26\"], [1.0, \"#f0f921\"]], \"type\": \"heatmap\"}], \"heatmapgl\": [{\"colorbar\": {\"outlinewidth\": 0, \"ticks\": \"\"}, \"colorscale\": [[0.0, \"#0d0887\"], [0.1111111111111111, \"#46039f\"], [0.2222222222222222, \"#7201a8\"], [0.3333333333333333, \"#9c179e\"], [0.4444444444444444, \"#bd3786\"], [0.5555555555555556, \"#d8576b\"], [0.6666666666666666, \"#ed7953\"], [0.7777777777777778, \"#fb9f3a\"], [0.8888888888888888, \"#fdca26\"], [1.0, \"#f0f921\"]], \"type\": \"heatmapgl\"}], \"histogram\": [{\"marker\": {\"colorbar\": {\"outlinewidth\": 0, \"ticks\": \"\"}}, \"type\": \"histogram\"}], \"histogram2d\": [{\"colorbar\": {\"outlinewidth\": 0, \"ticks\": \"\"}, \"colorscale\": [[0.0, \"#0d0887\"], [0.1111111111111111, \"#46039f\"], [0.2222222222222222, \"#7201a8\"], [0.3333333333333333, \"#9c179e\"], [0.4444444444444444, \"#bd3786\"], [0.5555555555555556, \"#d8576b\"], [0.6666666666666666, \"#ed7953\"], [0.7777777777777778, \"#fb9f3a\"], [0.8888888888888888, \"#fdca26\"], [1.0, \"#f0f921\"]], \"type\": \"histogram2d\"}], \"histogram2dcontour\": [{\"colorbar\": {\"outlinewidth\": 0, \"ticks\": \"\"}, \"colorscale\": [[0.0, \"#0d0887\"], [0.1111111111111111, \"#46039f\"], [0.2222222222222222, \"#7201a8\"], [0.3333333333333333, \"#9c179e\"], [0.4444444444444444, \"#bd3786\"], [0.5555555555555556, \"#d8576b\"], [0.6666666666666666, \"#ed7953\"], [0.7777777777777778, \"#fb9f3a\"], [0.8888888888888888, \"#fdca26\"], [1.0, \"#f0f921\"]], \"type\": \"histogram2dcontour\"}], \"mesh3d\": [{\"colorbar\": {\"outlinewidth\": 0, \"ticks\": \"\"}, \"type\": \"mesh3d\"}], \"parcoords\": [{\"line\": {\"colorbar\": {\"outlinewidth\": 0, \"ticks\": \"\"}}, \"type\": \"parcoords\"}], \"pie\": [{\"automargin\": true, \"type\": \"pie\"}], \"scatter\": [{\"marker\": {\"colorbar\": {\"outlinewidth\": 0, \"ticks\": \"\"}}, \"type\": \"scatter\"}], \"scatter3d\": [{\"line\": {\"colorbar\": {\"outlinewidth\": 0, \"ticks\": \"\"}}, \"marker\": {\"colorbar\": {\"outlinewidth\": 0, \"ticks\": \"\"}}, \"type\": \"scatter3d\"}], \"scattercarpet\": [{\"marker\": {\"colorbar\": {\"outlinewidth\": 0, \"ticks\": \"\"}}, \"type\": \"scattercarpet\"}], \"scattergeo\": [{\"marker\": {\"colorbar\": {\"outlinewidth\": 0, \"ticks\": \"\"}}, \"type\": \"scattergeo\"}], \"scattergl\": [{\"marker\": {\"colorbar\": {\"outlinewidth\": 0, \"ticks\": \"\"}}, \"type\": \"scattergl\"}], \"scattermapbox\": [{\"marker\": {\"colorbar\": {\"outlinewidth\": 0, \"ticks\": \"\"}}, \"type\": \"scattermapbox\"}], \"scatterpolar\": [{\"marker\": {\"colorbar\": {\"outlinewidth\": 0, \"ticks\": \"\"}}, \"type\": \"scatterpolar\"}], \"scatterpolargl\": [{\"marker\": {\"colorbar\": {\"outlinewidth\": 0, \"ticks\": \"\"}}, \"type\": \"scatterpolargl\"}], \"scatterternary\": [{\"marker\": {\"colorbar\": {\"outlinewidth\": 0, \"ticks\": \"\"}}, \"type\": \"scatterternary\"}], \"surface\": [{\"colorbar\": {\"outlinewidth\": 0, \"ticks\": \"\"}, \"colorscale\": [[0.0, \"#0d0887\"], [0.1111111111111111, \"#46039f\"], [0.2222222222222222, \"#7201a8\"], [0.3333333333333333, \"#9c179e\"], [0.4444444444444444, \"#bd3786\"], [0.5555555555555556, \"#d8576b\"], [0.6666666666666666, \"#ed7953\"], [0.7777777777777778, \"#fb9f3a\"], [0.8888888888888888, \"#fdca26\"], [1.0, \"#f0f921\"]], \"type\": \"surface\"}], \"table\": [{\"cells\": {\"fill\": {\"color\": \"#EBF0F8\"}, \"line\": {\"color\": \"white\"}}, \"header\": {\"fill\": {\"color\": \"#C8D4E3\"}, \"line\": {\"color\": \"white\"}}, \"type\": \"table\"}]}, \"layout\": {\"annotationdefaults\": {\"arrowcolor\": \"#2a3f5f\", \"arrowhead\": 0, \"arrowwidth\": 1}, \"autotypenumbers\": \"strict\", \"coloraxis\": {\"colorbar\": {\"outlinewidth\": 0, \"ticks\": \"\"}}, \"colorscale\": {\"diverging\": [[0, \"#8e0152\"], [0.1, \"#c51b7d\"], [0.2, \"#de77ae\"], [0.3, \"#f1b6da\"], [0.4, \"#fde0ef\"], [0.5, \"#f7f7f7\"], [0.6, \"#e6f5d0\"], [0.7, \"#b8e186\"], [0.8, \"#7fbc41\"], [0.9, \"#4d9221\"], [1, \"#276419\"]], \"sequential\": [[0.0, \"#0d0887\"], [0.1111111111111111, \"#46039f\"], [0.2222222222222222, \"#7201a8\"], [0.3333333333333333, \"#9c179e\"], [0.4444444444444444, \"#bd3786\"], [0.5555555555555556, \"#d8576b\"], [0.6666666666666666, \"#ed7953\"], [0.7777777777777778, \"#fb9f3a\"], [0.8888888888888888, \"#fdca26\"], [1.0, \"#f0f921\"]], \"sequentialminus\": [[0.0, \"#0d0887\"], [0.1111111111111111, \"#46039f\"], [0.2222222222222222, \"#7201a8\"], [0.3333333333333333, \"#9c179e\"], [0.4444444444444444, \"#bd3786\"], [0.5555555555555556, \"#d8576b\"], [0.6666666666666666, \"#ed7953\"], [0.7777777777777778, \"#fb9f3a\"], [0.8888888888888888, \"#fdca26\"], [1.0, \"#f0f921\"]]}, \"colorway\": [\"#636efa\", \"#EF553B\", \"#00cc96\", \"#ab63fa\", \"#FFA15A\", \"#19d3f3\", \"#FF6692\", \"#B6E880\", \"#FF97FF\", \"#FECB52\"], \"font\": {\"color\": \"#2a3f5f\"}, \"geo\": {\"bgcolor\": \"white\", \"lakecolor\": \"white\", \"landcolor\": \"#E5ECF6\", \"showlakes\": true, \"showland\": true, \"subunitcolor\": \"white\"}, \"hoverlabel\": {\"align\": \"left\"}, \"hovermode\": \"closest\", \"mapbox\": {\"style\": \"light\"}, \"paper_bgcolor\": \"white\", \"plot_bgcolor\": \"#E5ECF6\", \"polar\": {\"angularaxis\": {\"gridcolor\": \"white\", \"linecolor\": \"white\", \"ticks\": \"\"}, \"bgcolor\": \"#E5ECF6\", \"radialaxis\": {\"gridcolor\": \"white\", \"linecolor\": \"white\", \"ticks\": \"\"}}, \"scene\": {\"xaxis\": {\"backgroundcolor\": \"#E5ECF6\", \"gridcolor\": \"white\", \"gridwidth\": 2, \"linecolor\": \"white\", \"showbackground\": true, \"ticks\": \"\", \"zerolinecolor\": \"white\"}, \"yaxis\": {\"backgroundcolor\": \"#E5ECF6\", \"gridcolor\": \"white\", \"gridwidth\": 2, \"linecolor\": \"white\", \"showbackground\": true, \"ticks\": \"\", \"zerolinecolor\": \"white\"}, \"zaxis\": {\"backgroundcolor\": \"#E5ECF6\", \"gridcolor\": \"white\", \"gridwidth\": 2, \"linecolor\": \"white\", \"showbackground\": true, \"ticks\": \"\", \"zerolinecolor\": \"white\"}}, \"shapedefaults\": {\"line\": {\"color\": \"#2a3f5f\"}}, \"ternary\": {\"aaxis\": {\"gridcolor\": \"white\", \"linecolor\": \"white\", \"ticks\": \"\"}, \"baxis\": {\"gridcolor\": \"white\", \"linecolor\": \"white\", \"ticks\": \"\"}, \"bgcolor\": \"#E5ECF6\", \"caxis\": {\"gridcolor\": \"white\", \"linecolor\": \"white\", \"ticks\": \"\"}}, \"title\": {\"x\": 0.05}, \"xaxis\": {\"automargin\": true, \"gridcolor\": \"white\", \"linecolor\": \"white\", \"ticks\": \"\", \"title\": {\"standoff\": 15}, \"zerolinecolor\": \"white\", \"zerolinewidth\": 2}, \"yaxis\": {\"automargin\": true, \"gridcolor\": \"white\", \"linecolor\": \"white\", \"ticks\": \"\", \"title\": {\"standoff\": 15}, \"zerolinecolor\": \"white\", \"zerolinewidth\": 2}}}, \"title\": {\"text\": \"test_accuracy vs validation_accuracy\"}, \"xaxis\": {\"title\": {\"text\": \"test_accuracy\"}}, \"yaxis\": {\"title\": {\"text\": \"validation_accuracy\"}}},                        {\"responsive\": true}                    ).then(function(){\n",
       "                            \n",
       "var gd = document.getElementById('a4f701ca-85ce-4b17-8cd1-9c043e2ccb02');\n",
       "var x = new MutationObserver(function (mutations, observer) {{\n",
       "        var display = window.getComputedStyle(gd).display;\n",
       "        if (!display || display === 'none') {{\n",
       "            console.log([gd, 'removed!']);\n",
       "            Plotly.purge(gd);\n",
       "            observer.disconnect();\n",
       "        }}\n",
       "}});\n",
       "\n",
       "// Listen for the removal of the full notebook cells\n",
       "var notebookContainer = gd.closest('#notebook-container');\n",
       "if (notebookContainer) {{\n",
       "    x.observe(notebookContainer, {childList: true});\n",
       "}}\n",
       "\n",
       "// Listen for the clearing of the current output cell\n",
       "var outputEl = gd.closest('.output');\n",
       "if (outputEl) {{\n",
       "    x.observe(outputEl, {childList: true});\n",
       "}}\n",
       "\n",
       "                        })                };                });            </script>        </div>"
      ]
     },
     "metadata": {},
     "output_type": "display_data"
    },
    {
     "data": {
      "image/png": "[encoded data removed]",
      "text/plain": [
       "<Figure size 432x288 with 1 Axes>"
      ]
     },
     "metadata": {
      "needs_background": "light"
     },
     "output_type": "display_data"
    }
   ],
   "source": [
    "visualize_experiments (visualization=['history', 'metric_correlation', 'custom'], experiments=[8,12, 16], \n",
    "                       run_number=0, op='max', metrics = 'test_accuracy', backend='plotly',\n",
    "                       metric_1='test_accuracy', metric_2='validation_accuracy')"
   ]
  },
  {
   "cell_type": "code",
   "execution_count": null,
   "metadata": {},
   "outputs": [
    {
     "name": "stdout",
     "output_type": "stream",
     "text": [
      "Converted hpconfig.ipynb.\n",
      "Converted manager_factory.ipynb.\n",
      "Converted dummy_experiment_manager.ipynb.\n",
      "Converted example_experiment.ipynb.\n",
      "Converted example_experiment_manager.ipynb.\n",
      "Converted experiment_manager.ipynb.\n",
      "Converted index.ipynb.\n",
      "Converted change_manager.ipynb.\n",
      "Converted metric_visualization.ipynb.\n",
      "Converted print_parameters.ipynb.\n",
      "Converted query.ipynb.\n",
      "Converted experiment_utils.ipynb.\n",
      "Converted organize_experiments.ipynb.\n",
      "Converted experiment_visualization.ipynb.\n",
      "Converted plot_utils.ipynb.\n"
     ]
    }
   ],
   "source": [
    "#hide\n",
    "from nbdev.export import *\n",
    "notebook2script(recursive=True)"
   ]
  }
 ],
 "metadata": {
  "kernelspec": {
   "display_name": "Python (athena_gpu)",
   "language": "python",
   "name": "athena_gpu"
  }
 },
 "nbformat": 4,
 "nbformat_minor": 4
}
