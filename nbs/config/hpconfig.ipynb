{
 "cells": [
  {
   "cell_type": "code",
   "execution_count": 1,
   "metadata": {},
   "outputs": [],
   "source": [
    "#hide\n",
    "#default_exp config.hpconfig\n",
    "from nbdev.showdoc import *\n",
    "from dsblocks.utils.nbdev_utils import nbdev_setup, TestRunner\n",
    "\n",
    "nbdev_setup ()\n",
    "tst = TestRunner (targets=[])"
   ]
  },
  {
   "cell_type": "markdown",
   "metadata": {},
   "source": [
    "# Loading experiment manager and configuration\n",
    "\n",
    "Load last experiment manager, experiment data, and configuration"
   ]
  },
  {
   "cell_type": "code",
   "execution_count": 2,
   "metadata": {},
   "outputs": [],
   "source": [
    "#export \n",
    "import os\n",
    "import hpsearch\n",
    "from hpsearch.config.manager_factory import ManagerFactory\n",
    "from hpsearch.config import manager_factory as mf\n",
    "import hpsearch.config.hp_defaults as dflt\n",
    "\n",
    "changeable_properties = {'folder', 'metric', 'manager_path', 'op', 'path_experiments', 'parent_path', 'backend'}"
   ]
  },
  {
   "cell_type": "code",
   "execution_count": 3,
   "metadata": {},
   "outputs": [],
   "source": [
    "#for tests\n",
    "from sklearn.utils import Bunch\n",
    "\n",
    "from dsblocks.utils.utils import check_last_part, remove_previous_results\n",
    "\n",
    "from hpsearch.examples.dummy_experiment_manager import DummyExperimentManager, generate_data"
   ]
  },
  {
   "cell_type": "markdown",
   "metadata": {},
   "source": [
    "## get_experiment_manager"
   ]
  },
  {
   "cell_type": "code",
   "execution_count": 4,
   "metadata": {},
   "outputs": [],
   "source": [
    "#export\n",
    "def get_experiment_manager (manager_path=dflt.manager_path, **kwargs):\n",
    "    manager_factory = ManagerFactory(manager_path=manager_path)\n",
    "    experiment_manager = manager_factory.get_experiment_manager()\n",
    "    if len(kwargs) > 0: modify_experiment_manager (experiment_manager, **kwargs)\n",
    "    mf.experiment_manager = experiment_manager\n",
    "    return mf.experiment_manager"
   ]
  },
  {
   "cell_type": "markdown",
   "metadata": {
    "tags": []
   },
   "source": [
    "### Usage example"
   ]
  },
  {
   "cell_type": "code",
   "execution_count": 5,
   "metadata": {},
   "outputs": [],
   "source": [
    "#exports tests.config.test_hpconfig\n",
    "def test_get_experiment_manager ():\n",
    "    em = generate_data ('get_experiment_manager')\n",
    "    path_experiments = str(em.path_experiments.parent)\n",
    "    manager_path = em.manager_path\n",
    "    em_orig = em\n",
    "    del em\n",
    "    \n",
    "    em = get_experiment_manager (manager_path)\n",
    "    check_last_part (em.path_experiments, 'test_get_experiment_manager/default')\n",
    "    assert em.key_score == 'validation_accuracy' and em.op == 'max'\n",
    "\n",
    "    em = get_experiment_manager (manager_path, path_experiments='my_new_parent_path/my_new_folder', \n",
    "                               metric='new_metric', op='min')\n",
    "    check_last_part (em.path_experiments, 'my_new_parent_path/my_new_folder')\n",
    "    assert em.key_score == 'new_metric' and em.op == 'min'\n",
    "\n",
    "    em = get_experiment_manager (manager_path, folder='other_folder')\n",
    "    check_last_part (em.path_experiments, 'my_new_parent_path/other_folder')\n",
    "    assert em.key_score == 'new_metric' and em.op == 'min'\n",
    "    remove_previous_results (path_experiments)"
   ]
  },
  {
   "cell_type": "code",
   "execution_count": 6,
   "metadata": {},
   "outputs": [],
   "source": [
    "tst.run (test_get_experiment_manager, tag='dummy')"
   ]
  },
  {
   "cell_type": "markdown",
   "metadata": {},
   "source": [
    "## get_default_parameters"
   ]
  },
  {
   "cell_type": "code",
   "execution_count": 7,
   "metadata": {},
   "outputs": [],
   "source": [
    "#export\n",
    "def get_default_parameters (parameters, manager_path=dflt.manager_path):\n",
    "    experiment_manager = get_experiment_manager (manager_path=manager_path)\n",
    "    return experiment_manager.get_default_parameters (parameters)"
   ]
  },
  {
   "cell_type": "markdown",
   "metadata": {},
   "source": [
    "## get_path_experiments and other paths"
   ]
  },
  {
   "cell_type": "code",
   "execution_count": 8,
   "metadata": {},
   "outputs": [],
   "source": [
    "#export\n",
    "def get_path_experiments (manager_path=dflt.manager_path):\n",
    "    experiment_manager = get_experiment_manager (manager_path=manager_path)\n",
    "    return experiment_manager.path_experiments\n",
    "\n",
    "def get_path_alternative (path_results, manager_path=dflt.manager_path):\n",
    "    experiment_manager = get_experiment_manager (manager_path=manager_path)\n",
    "    return experiment_manager.get_path_alternative (path_results)\n",
    "\n",
    "def get_path_experiment (experiment_id, manager_path=dflt.manager_path):\n",
    "    experiment_manager = get_experiment_manager (manager_path=manager_path)\n",
    "    return experiment_manager.get_path_experiment (experiment_id)\n",
    "\n",
    "def get_path_results (experiment_id, run_number, manager_path=dflt.manager_path):\n",
    "    experiment_manager = get_experiment_manager (manager_path=manager_path)\n",
    "    return experiment_manager.get_path_results (experiment_id, run_number)\n",
    "\n",
    "def get_path_data (run_number, parameters={}, manager_path=dflt.manager_path):\n",
    "    experiment_manager = get_experiment_manager (manager_path=manager_path)\n",
    "    return experiment_manager.get_path_data (run_number, parameters)"
   ]
  },
  {
   "cell_type": "markdown",
   "metadata": {},
   "source": [
    "## experiment_visualization"
   ]
  },
  {
   "cell_type": "code",
   "execution_count": 9,
   "metadata": {},
   "outputs": [],
   "source": [
    "#export\n",
    "def experiment_visualization (manager_path=dflt.manager_path, **kwargs):\n",
    "    experiment_manager = get_experiment_manager (manager_path=manager_path)\n",
    "    return experiment_manager.experiment_visualization (**kwargs)"
   ]
  },
  {
   "cell_type": "markdown",
   "metadata": {},
   "source": [
    "## get_experiment_data"
   ]
  },
  {
   "cell_type": "code",
   "execution_count": 10,
   "metadata": {},
   "outputs": [],
   "source": [
    "#export\n",
    "def get_experiment_data (experiments=None, \n",
    "                         manager_path=dflt.manager_path):\n",
    "    experiment_manager = get_experiment_manager (manager_path=manager_path)\n",
    "    return experiment_manager.get_experiment_data (experiments=experiments)"
   ]
  },
  {
   "cell_type": "markdown",
   "metadata": {},
   "source": [
    "## get_em_args"
   ]
  },
  {
   "cell_type": "code",
   "execution_count": 11,
   "metadata": {},
   "outputs": [],
   "source": [
    "#export\n",
    "def get_em_args (pars):\n",
    "    if not isinstance (pars, dict): pars = vars(pars)\n",
    "    return {k:pars[k] for k in set(pars).intersection(changeable_properties) if pars[k] is not None}"
   ]
  },
  {
   "cell_type": "markdown",
   "metadata": {
    "tags": []
   },
   "source": [
    "### Usage example"
   ]
  },
  {
   "cell_type": "code",
   "execution_count": 12,
   "metadata": {},
   "outputs": [],
   "source": [
    "#exports tests.config.test_hpconfig\n",
    "def test_get_em_args ():\n",
    "    em_args = get_em_args ({'hello': 1, 'path_experiments': 'mypath', 'folder': None})\n",
    "    assert (em_args=={'path_experiments': 'mypath'})"
   ]
  },
  {
   "cell_type": "code",
   "execution_count": 13,
   "metadata": {},
   "outputs": [],
   "source": [
    "tst.run (test_get_em_args, tag='dummy')"
   ]
  },
  {
   "cell_type": "markdown",
   "metadata": {},
   "source": [
    "## modify_experiment_manager"
   ]
  },
  {
   "cell_type": "code",
   "execution_count": 14,
   "metadata": {},
   "outputs": [],
   "source": [
    "#export\n",
    "def modify_experiment_manager (experiment_manager, **kwargs):\n",
    "    path_experiments_keys = {'path_experiments', 'parent_path', 'folder'}\n",
    "    path_experiments_args = {k:kwargs[k] for k in path_experiments_keys.intersection(kwargs)}\n",
    "    if len(path_experiments_args) > 0: experiment_manager.set_path_experiments (**path_experiments_args)\n",
    "    for k in set(kwargs) - path_experiments_keys:\n",
    "        if k == 'metric': setattr (experiment_manager, 'key_score', kwargs[k])\n",
    "        else: setattr (experiment_manager, k, kwargs[k])"
   ]
  },
  {
   "cell_type": "markdown",
   "metadata": {
    "tags": []
   },
   "source": [
    "### Usage example"
   ]
  },
  {
   "cell_type": "code",
   "execution_count": 15,
   "metadata": {},
   "outputs": [],
   "source": [
    "#exports tests.config.test_hpconfig\n",
    "def test_modify_experiment_manager ():\n",
    "    em = DummyExperimentManager ()\n",
    "    check_last_part (em.path_experiments, 'results')\n",
    "    assert em.key_score == 'validation_accuracy' and em.op == 'max'\n",
    "    \n",
    "    modify_experiment_manager (em, path_experiments='my_new_parent_path/my_new_folder', \n",
    "                               metric='new_metric', op='min')\n",
    "    check_last_part (em.path_experiments, 'my_new_parent_path/my_new_folder')\n",
    "    assert em.key_score == 'new_metric' and em.op == 'min'\n",
    "    \n",
    "    modify_experiment_manager (em, folder='other_folder')\n",
    "    check_last_part (em.path_experiments, 'my_new_parent_path/other_folder')\n",
    "    assert em.key_score == 'new_metric' and em.op == 'min'"
   ]
  },
  {
   "cell_type": "code",
   "execution_count": 16,
   "metadata": {},
   "outputs": [],
   "source": [
    "tst.run (test_modify_experiment_manager, tag='dummy')"
   ]
  },
  {
   "cell_type": "markdown",
   "metadata": {},
   "source": [
    "## add_em_args"
   ]
  },
  {
   "cell_type": "code",
   "execution_count": 17,
   "metadata": {},
   "outputs": [],
   "source": [
    "#export \n",
    "def add_em_args (parser, but=None):\n",
    "    if isinstance (but, str): but = [but]\n",
    "    properties = changeable_properties if but is None else changeable_properties - set(but)\n",
    "    for k in properties:\n",
    "        parser.add_argument(f'--{k}', type=str, default=None)"
   ]
  },
  {
   "cell_type": "markdown",
   "metadata": {
    "tags": []
   },
   "source": [
    "### Usage example"
   ]
  },
  {
   "cell_type": "code",
   "execution_count": 12,
   "metadata": {},
   "outputs": [],
   "source": [
    "#exports tests.config.test_hpconfig\n",
    "def test_add_em_args ():\n",
    "    import argparse\n",
    "    \n",
    "    # by default, add multiple string parameters\n",
    "    parser = argparse.ArgumentParser(description='test')\n",
    "    add_em_args (parser)\n",
    "    pars = parser.parse_args([])\n",
    "    assert hasattr(pars, 'metric') and hasattr(pars, 'manager_path')\n",
    "\n",
    "    # we can skip some of those using `but`:\n",
    "    parser = argparse.ArgumentParser(description='test)\n",
    "    add_em_args (parser, but=['metric'])\n",
    "    pars = parser.parse_args([])\n",
    "    assert not hasattr(pars, 'metric') and hasattr(pars, 'manager_path')"
   ]
  },
  {
   "cell_type": "code",
   "execution_count": 13,
   "metadata": {},
   "outputs": [],
   "source": [
    "tst.run (test_add_em_args, tag='dummy')"
   ]
  },
  {
   "cell_type": "markdown",
   "metadata": {},
   "source": [
    "## register_manager"
   ]
  },
  {
   "cell_type": "code",
   "execution_count": 18,
   "metadata": {},
   "outputs": [],
   "source": [
    "#export\n",
    "def register_manager (experiment_manager_to_register, manager_path=dflt.manager_path, **kwargs):\n",
    "    manager_factory = ManagerFactory(manager_path=manager_path)\n",
    "    manager_factory.register_manager (experiment_manager_to_register)"
   ]
  },
  {
   "cell_type": "markdown",
   "metadata": {
    "tags": []
   },
   "source": [
    "### Usage example"
   ]
  },
  {
   "cell_type": "code",
   "execution_count": 19,
   "metadata": {},
   "outputs": [],
   "source": [
    "#exports tests.config.test_hpconfig\n",
    "def test_register_manager ():\n",
    "    em = generate_data ('register_manager')\n",
    "    manager_path = em.manager_path\n",
    "    em_orig = em\n",
    "    del em\n",
    "    em = get_experiment_manager (manager_path)\n",
    "    assert em is not None\n",
    "    \n",
    "    register_manager (None)\n",
    "    import hpsearch.config.hpconfig as hpcfg\n",
    "    assert hpcfg.mf.experiment_manager is None\n",
    "    \n",
    "    em_orig.remove_previous_experiments (parent=True)"
   ]
  },
  {
   "cell_type": "code",
   "execution_count": 20,
   "metadata": {},
   "outputs": [],
   "source": [
    "tst.run (test_register_manager, tag='dummy')"
   ]
  }
 ],
 "metadata": {
  "kernelspec": {
   "display_name": "Python (hpsearch)",
   "language": "python",
   "name": "hpsearch"
  },
  "language_info": {
   "codemirror_mode": {
    "name": "ipython",
    "version": 3
   },
   "file_extension": ".py",
   "mimetype": "text/x-python",
   "name": "python",
   "nbconvert_exporter": "python",
   "pygments_lexer": "ipython3",
   "version": "3.9.7"
  }
 },
 "nbformat": 4,
 "nbformat_minor": 4
}
