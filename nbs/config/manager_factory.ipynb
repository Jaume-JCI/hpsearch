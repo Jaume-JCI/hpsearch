{
 "cells": [
  {
   "cell_type": "code",
   "execution_count": 1,
   "metadata": {},
   "outputs": [],
   "source": [
    "#hide\n",
    "#default_exp config.manager_factory\n",
    "from nbdev.showdoc import *\n",
    "from block_types.utils.nbdev_utils import nbdev_setup, TestRunner\n",
    "\n",
    "nbdev_setup ()\n",
    "tst = TestRunner (targets=['dummy'])"
   ]
  },
  {
   "cell_type": "markdown",
   "metadata": {},
   "source": [
    "# Manager factory\n",
    "\n",
    "> Register a subclassed ExperimentManager to be used by other modules. "
   ]
  },
  {
   "cell_type": "markdown",
   "metadata": {},
   "source": [
    "import inspect\n",
    "\n",
    "from hpsearch.examples.example_experiment_manager import ExampleExperimentManager\n",
    "\n",
    "em = ExampleExperimentManager()"
   ]
  },
  {
   "cell_type": "markdown",
   "metadata": {},
   "source": [
    "source_path = inspect.getfile(em.__class__)\n",
    "inspect.getmodulename('ExampleExperimentManager')"
   ]
  },
  {
   "cell_type": "code",
   "execution_count": 2,
   "metadata": {},
   "outputs": [],
   "source": [
    "#export\n",
    "import inspect\n",
    "import shutil\n",
    "import hpsearch\n",
    "import os\n",
    "import logging\n",
    "import pickle\n",
    "import pdb\n",
    "\n",
    "experiment_manager = None"
   ]
  },
  {
   "cell_type": "code",
   "execution_count": 3,
   "metadata": {},
   "outputs": [],
   "source": [
    "#for tests\n",
    "import pytest\n",
    "from hpsearch.examples.example_experiment_manager import ExampleExperimentManager"
   ]
  },
  {
   "cell_type": "markdown",
   "metadata": {},
   "source": [
    "## ManagerFactory"
   ]
  },
  {
   "cell_type": "code",
   "execution_count": 4,
   "metadata": {},
   "outputs": [],
   "source": [
    "# export\n",
    "class ManagerFactory (object):\n",
    "    def __init__ (self, allow_base_class=True, verbose=0):\n",
    "        self.allow_base_class = allow_base_class\n",
    "        self.logger = logging.getLogger(\"experiment_manager\")\n",
    "        if verbose > 1:\n",
    "            self.logger.setLevel('DEBUG')\n",
    "        self.obtain_paths()\n",
    "        self.method = 1\n",
    "        #print (f'using import method {self.method}')\n",
    "        #pdb.set_trace()\n",
    "        \n",
    "    def register_manager (self, experiment_manager_to_register):\n",
    "        global experiment_manager\n",
    "        experiment_manager = experiment_manager_to_register\n",
    "        \n",
    "    def obtain_paths (self):\n",
    "        destination_path_folder = os.path.dirname (hpsearch.__file__)\n",
    "        destination_path_folder = f'{destination_path_folder}/app_config'\n",
    "        destination_path_module = f'{destination_path_folder}/subclassed_manager.py'\n",
    "        self.destination_path_folder = destination_path_folder\n",
    "        self.destination_path_module = destination_path_module\n",
    "        self.destination_path_import = f'{destination_path_folder}/subclassed_manager_import.py'\n",
    "        self.class_two_module_file = f'{self.destination_path_folder}/class_two_module.pk'\n",
    "        self.class_two_import_file = f'{self.destination_path_folder}/class_two_import.pk'\n",
    "        self.class_two_base_file = f'{self.destination_path_folder}/class_two_base.pk'\n",
    "        self.current_path = os.path.abspath(os.path.curdir)\n",
    "        #print (f'current path: {self.current_path}')\n",
    "        \n",
    "    def determine_import_string (self, source_path, base_path, experiment_manager):\n",
    "        if self.method==1:\n",
    "                import_module_string = experiment_manager.__class__.__module__\n",
    "        elif self.method==2:\n",
    "            if source_path.startswith(base_path + '/'):\n",
    "                split_list = source_path.split(base_path + '/')\n",
    "                import_module_string = split_list[1]\n",
    "                import_module_string = import_module_string.replace('/','.')\n",
    "                import_module_string = import_module_string.replace('.py', '')\n",
    "            else:\n",
    "                self.logger.warning (f'current path {base_path} not found in source path {source_path}')\n",
    "                import_module_string = 'hpsearch.app_config.subclassed_manager'\n",
    "        self.import_module_string = import_module_string\n",
    "        return import_module_string\n",
    "        \n",
    "    def write_manager (self, experiment_manager):\n",
    "        name_subclass = experiment_manager.__class__.__name__\n",
    "        try:\n",
    "            source_path = inspect.getfile(experiment_manager.__class__)\n",
    "            self.obtain_paths()\n",
    "            import_module_string = self.determine_import_string (source_path, self.current_path, experiment_manager)\n",
    "            self.write_manager_subclass (name_subclass, source_path, self.current_path, import_module_string)\n",
    "            \n",
    "            self.load_class_two_module ()\n",
    "            self.class_two_module.update({name_subclass: source_path})\n",
    "            self.class_two_import.update({name_subclass: import_module_string})\n",
    "            self.class_two_base.update({name_subclass: self.current_path})\n",
    "            pickle.dump (self.class_two_module, open(self.class_two_module_file, 'wb'))\n",
    "            pickle.dump (self.class_two_import, open(self.class_two_import_file, 'wb'))\n",
    "            pickle.dump (self.class_two_base, open(self.class_two_base_file, 'wb'))\n",
    "        except Exception as e:\n",
    "            self.logger.warning (f'write_manager failed with exception {e}')\n",
    "      \n",
    "    def write_manager_subclass (self, name_subclass, source_path, base_path=None, import_module_string=None):\n",
    "        if base_path is None:\n",
    "            base_path = self.current_path\n",
    "        os.makedirs(self.destination_path_folder, exist_ok=True)\n",
    "        shutil.copy (source_path, self.destination_path_module)\n",
    "        \n",
    "        f = open (self.destination_path_import, 'wt')\n",
    "        #if name_subclass not in self.class_two_module.keys():\n",
    "        #f = open (self.destination_path_import, 'at')\n",
    "        f.write ('import sys\\n')\n",
    "        f.write (f'sys.path.append(\"{base_path}\")\\n')\n",
    "        #f.write (f'from hpsearch.app_config.subclassed_manager import {name_subclass} as Manager')\n",
    "        f.write (f'from {import_module_string} import {name_subclass} as Manager')\n",
    "\n",
    "        f.close()\n",
    "    \n",
    "    def load_class_two_module (self):\n",
    "        if os.path.exists (self.class_two_module_file):\n",
    "            self.class_two_module = pickle.load (open(self.class_two_module_file,'rb'))\n",
    "        else:\n",
    "            self.class_two_module = {}\n",
    "            \n",
    "        if os.path.exists (self.class_two_import_file):\n",
    "            self.class_two_import = pickle.load (open(self.class_two_import_file,'rb'))\n",
    "        else:\n",
    "            self.class_two_import = {}\n",
    "            self.logger.warning ('class2import not found, switching to original method')\n",
    "            self.method = 2\n",
    "            \n",
    "        if os.path.exists (self.class_two_base_file):\n",
    "            self.class_two_base = pickle.load (open(self.class_two_base_file,'rb'))\n",
    "        else:\n",
    "            self.class_two_base = {}\n",
    "    \n",
    "    def change_manager (self, name_subclass):\n",
    "        self.previous_manager = self.get_experiment_manager ()\n",
    "        self.obtain_paths()\n",
    "        self.load_class_two_module ()\n",
    "        if name_subclass not in self.class_two_module:\n",
    "            raise ValueError (f'{name_subclass} not in dictionary class_two_module={self.class_two_module}')\n",
    "        if name_subclass in self.class_two_base:\n",
    "            base_path = self.class_two_base[name_subclass]\n",
    "        else:\n",
    "            base_path = self.current_path\n",
    "        self.write_manager_subclass (name_subclass, self.class_two_module[name_subclass], base_path,\n",
    "                                    self.class_two_import[name_subclass])\n",
    "        self.reset_manager()\n",
    "        self.import_written_manager()\n",
    "        \n",
    "    def switch_back (self):\n",
    "        self.register_manager (self.previous_manager)\n",
    "        self.write_manager (self.previous_manager)\n",
    "        \n",
    "    def print_current_manager (self):\n",
    "        em = self.get_experiment_manager ()\n",
    "        print (f'experiment manager registered: {em.__class__.__name__}')\n",
    "        \n",
    "    def list_subclasses (self):\n",
    "        self.load_class_two_module ()\n",
    "        print (f'subclasses: {self.class_two_module.keys()}')\n",
    "        self.print_current_manager()\n",
    "    \n",
    "    def import_written_manager (self):\n",
    "        global experiment_manager\n",
    "        try:\n",
    "            import hpsearch.app_config.subclassed_manager_import as subclass_module\n",
    "            from importlib import reload\n",
    "            reload (subclass_module)\n",
    "            \n",
    "            from hpsearch.app_config.subclassed_manager_import import Manager\n",
    "            em = Manager()\n",
    "            self.logger.debug ('returning subclassed manager')\n",
    "        except ImportError:\n",
    "            if not self.allow_base_class:\n",
    "                raise ImportError (f'it was not possible to import subclassed manager, and allow_base_class=False')\n",
    "            self.logger.debug ('importing base class ExperimentManager')\n",
    "            from hpsearch.experiment_manager import ExperimentManager\n",
    "            em = ExperimentManager()\n",
    "        experiment_manager = em\n",
    "        \n",
    "    \n",
    "    def get_experiment_manager (self):\n",
    "        \n",
    "        if experiment_manager is not None:\n",
    "            em = experiment_manager\n",
    "            self.logger.debug ('returning registered experiment manager')\n",
    "        else:\n",
    "            self.logger.debug ('experiment manager not registered yet, importing experiment manager')\n",
    "            self.import_written_manager()\n",
    "            em = self.get_experiment_manager ()\n",
    "            \n",
    "        self.logger.debug (f'returning experiment manager {em}')\n",
    "        return em\n",
    "    \n",
    "    def reset_manager (self):\n",
    "        self.register_manager (None)\n",
    "        \n",
    "    def set_base_manager (self):\n",
    "        from hpsearch.experiment_manager import ExperimentManager\n",
    "        em = ExperimentManager()\n",
    "        self.register_manager (em)\n",
    "    \n",
    "    def delete_and_reset_all (self):\n",
    "        self.obtain_paths()\n",
    "        self.logger.debug (self.destination_path_module)\n",
    "        if os.path.exists(self.destination_path_module):\n",
    "            self.logger.debug ('deleting')\n",
    "            os.remove(self.destination_path_module)\n",
    "        if os.path.exists(self.destination_path_import):\n",
    "            self.logger.debug ('deleting')\n",
    "            os.remove(self.destination_path_import)\n",
    "            \n",
    "        self.load_class_two_module ()\n",
    "        if os.path.exists(self.class_two_module_file):\n",
    "            self.logger.debug (f'deleting {self.class_two_module_file}')\n",
    "            os.remove(self.class_two_module_file)\n",
    "            \n",
    "        if os.path.exists(self.class_two_import_file):\n",
    "            self.logger.debug (f'deleting {self.class_two_import_file}')\n",
    "            os.remove(self.class_two_import_file)\n",
    "            \n",
    "        if os.path.exists(self.class_two_base_file):\n",
    "            self.logger.debug (f'deleting {self.class_two_base_file}')\n",
    "            os.remove(self.class_two_base_file)\n",
    "            \n",
    "        self.set_base_manager ()"
   ]
  },
  {
   "cell_type": "markdown",
   "metadata": {
    "tags": []
   },
   "source": [
    "### get_experiment_manager"
   ]
  },
  {
   "cell_type": "markdown",
   "metadata": {},
   "source": [
    "The method `get_experiment_manager` returns the base class ExperimentManager initially, unless a subclass definition has been stored by calling the `write_manager` method"
   ]
  },
  {
   "cell_type": "code",
   "execution_count": 5,
   "metadata": {},
   "outputs": [],
   "source": [
    "#exports tests.config.test_manager_factory\n",
    "def test_get_experiment_manager ():\n",
    "    factory = ManagerFactory ()\n",
    "    factory.delete_and_reset_all()\n",
    "    em = factory.get_experiment_manager()\n",
    "    assert em.__class__.__name__ == 'ExperimentManager'"
   ]
  },
  {
   "cell_type": "code",
   "execution_count": 6,
   "metadata": {},
   "outputs": [
    {
     "name": "stdout",
     "output_type": "stream",
     "text": [
      "running test_get_experiment_manager\n"
     ]
    }
   ],
   "source": [
    "tst.run (test_get_experiment_manager, tag='dummy')"
   ]
  },
  {
   "cell_type": "markdown",
   "metadata": {},
   "source": [
    "### write_manager"
   ]
  },
  {
   "cell_type": "markdown",
   "metadata": {},
   "source": [
    "We can write the definition of a desired subclass of ExperimentManager with the method `write_manager`. After writing this definition, the object manager_factory will return an instance of the same subclass for any module that imports ManagerFactory. Let us check this with one example. We will use the subclass `ExampleExperimentManager` as an example, and check that the module file exists after calling the method `write_manager`."
   ]
  },
  {
   "cell_type": "markdown",
   "metadata": {},
   "source": [
    "After writting the subclass, the method `get_experiment_manager` returns an instance of this subclass. This allows command-line scripts to use functions of the subclass indicated by other modules. "
   ]
  },
  {
   "cell_type": "code",
   "execution_count": 7,
   "metadata": {},
   "outputs": [],
   "source": [
    "#exports tests.config.test_manager_factory\n",
    "def test_write_manager ():\n",
    "    factory = ManagerFactory ()\n",
    "    factory.delete_and_reset_all()\n",
    "    # we check that the file does not exist before writting it\n",
    "    assert not os.path.exists(factory.destination_path_module)\n",
    "\n",
    "    # we write new module and check that the file exists afterwards\n",
    "    em = ExampleExperimentManager()\n",
    "    factory.register_manager (em)\n",
    "    factory.write_manager (em)\n",
    "    assert os.path.exists(factory.destination_path_module)\n",
    "\n",
    "    # we check that the written module corresponds to the class ExampleExperimentManager\n",
    "    from hpsearch.app_config.subclassed_manager_import import Manager\n",
    "    em2 = Manager()\n",
    "    # TODO: error in pytest\n",
    "    #assert Manager.__name__ == 'ExampleExperimentManager'\n",
    "    #assert em2.__class__.__name__ == em.__class__.__name__\n",
    "    #assert em.get_default_parameters({}) == em2.get_default_parameters({})\n",
    "    \n",
    "    # After writting the subclass, the method `get_experiment_manager` \n",
    "    # returns an instance of this subclass. This allows command-line \n",
    "    # scripts to use functions of the subclass indicated by other modules. \n",
    "    em.register_and_store_subclassed_manager()\n",
    "    em2 = factory.get_experiment_manager()\n",
    "    assert em2.__class__.__name__ == em.__class__.__name__"
   ]
  },
  {
   "cell_type": "code",
   "execution_count": 8,
   "metadata": {},
   "outputs": [
    {
     "name": "stderr",
     "output_type": "stream",
     "text": [
      "class2import not found, switching to original method\n",
      "class2import not found, switching to original method\n"
     ]
    },
    {
     "name": "stdout",
     "output_type": "stream",
     "text": [
      "running test_write_manager\n"
     ]
    }
   ],
   "source": [
    "tst.run (test_write_manager, tag='dummy')"
   ]
  },
  {
   "cell_type": "markdown",
   "metadata": {},
   "source": [
    "### register_manager"
   ]
  },
  {
   "cell_type": "markdown",
   "metadata": {},
   "source": [
    "The method `get_experiment_manager` returns a registered experiment_manager"
   ]
  },
  {
   "cell_type": "code",
   "execution_count": 22,
   "metadata": {},
   "outputs": [],
   "source": [
    "#exports tests.config.test_manager_factory\n",
    "def test_register_manager ():\n",
    "    from hpsearch.config.manager_factory import ManagerFactory\n",
    "    factory = ManagerFactory ()\n",
    "    factory.delete_and_reset_all()\n",
    "    \n",
    "    from hpsearch.experiment_manager import ExperimentManager\n",
    "    em = ExperimentManager()\n",
    "    factory.register_manager(em)\n",
    "    em2 = factory.get_experiment_manager()\n",
    "    assert em2.__class__.__name__ == 'ExperimentManager'\n",
    "\n",
    "    em = ExampleExperimentManager()\n",
    "    factory.register_manager(em)\n",
    "    em2 = factory.get_experiment_manager()\n",
    "    assert em2.__class__.__name__ == 'ExampleExperimentManager'\n",
    "    \n",
    "    # We check that a module registered in one module is used in another one. \n",
    "    del ManagerFactory\n",
    "    from hpsearch.config.manager_factory import ManagerFactory\n",
    "\n",
    "    factory = ManagerFactory()\n",
    "    em = factory.get_experiment_manager()\n",
    "    assert em.__class__.__name__ == 'ExampleExperimentManager'\n",
    "\n",
    "    defaults=em.get_default_parameters({})\n",
    "    \n",
    "    # We check that the defaults are removed properly by using remove_defaults\n",
    "    from hpsearch.utils.experiment_utils import remove_defaults\n",
    "\n",
    "    removed=remove_defaults(defaults)\n",
    "    assert removed=={}\n",
    "\n",
    "    removed=remove_defaults({'my_first':50, 'my_second':10, 'my_third':30})\n",
    "    assert removed=={'my_first': 50, 'my_third': 30}\n",
    "    removed\n",
    "    \n",
    "    # We check that no defaults are removed if the base class ExperimentManager \n",
    "    # is registered\n",
    "    em3 = ExperimentManager(allow_base_class=True)\n",
    "    factory.register_manager(em3)\n",
    "    parameters = {'my_first':50, 'my_second':10, 'my_third':30}\n",
    "    parameters_copy = parameters.copy()\n",
    "    removed=remove_defaults(parameters_copy)\n",
    "    assert removed==parameters"
   ]
  },
  {
   "cell_type": "code",
   "execution_count": 23,
   "metadata": {},
   "outputs": [
    {
     "name": "stderr",
     "output_type": "stream",
     "text": [
      "class2import not found, switching to original method\n"
     ]
    },
    {
     "name": "stdout",
     "output_type": "stream",
     "text": [
      "running test_register_manager\n"
     ]
    }
   ],
   "source": [
    "tst.run (test_register_manager, tag='dummy')"
   ]
  }
 ],
 "metadata": {
  "kernelspec": {
   "display_name": "athena_gpu",
   "language": "python",
   "name": "athena_gpu"
  },
  "language_info": {
   "codemirror_mode": {
    "name": "ipython",
    "version": 3
   },
   "file_extension": ".py",
   "mimetype": "text/x-python",
   "name": "python",
   "nbconvert_exporter": "python",
   "pygments_lexer": "ipython3",
   "version": "3.7.6"
  }
 },
 "nbformat": 4,
 "nbformat_minor": 4
}
