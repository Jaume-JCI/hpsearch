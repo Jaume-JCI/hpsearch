{
 "cells": [
  {
   "cell_type": "code",
   "execution_count": null,
   "metadata": {},
   "outputs": [],
   "source": [
    "#hide\n",
    "#default_exp config.manager_factory\n",
    "from nbdev.showdoc import show_doc\n",
    "import warnings\n",
    "warnings.filterwarnings('ignore')"
   ]
  },
  {
   "cell_type": "markdown",
   "metadata": {},
   "source": [
    "# Manager factory\n",
    "\n",
    "> Register a subclassed ExperimentManager to be used by other modules. "
   ]
  },
  {
   "cell_type": "code",
   "execution_count": null,
   "metadata": {},
   "outputs": [],
   "source": [
    "#export\n",
    "import inspect\n",
    "import shutil\n",
    "import hpsearch\n",
    "import os\n",
    "import logging\n",
    "\n",
    "experiment_manager = None\n",
    "\n",
    "class ManagerFactory (object):\n",
    "    def __init__ (self, allow_base_class=True):\n",
    "        self.allow_base_class = allow_base_class\n",
    "        self.logger = logging.getLogger(\"experiment_manager\")\n",
    "        \n",
    "    def register_manager (self, experiment_manager_to_register):\n",
    "        global experiment_manager\n",
    "        experiment_manager = experiment_manager_to_register\n",
    "        \n",
    "    def get_destination_path (self):\n",
    "        destination_path_folder = os.path.dirname (hpsearch.__file__)\n",
    "        destination_path_folder = f'{destination_path_folder}/app_config'\n",
    "        destination_path_module = f'{destination_path_folder}/subclassed_manager.py'\n",
    "        return destination_path_folder, destination_path_module\n",
    "        \n",
    "    def write_manager (self, experiment_manager):\n",
    "        name_subclass = experiment_manager.__class__.__name__\n",
    "        try:\n",
    "            source_path = inspect.getfile(experiment_manager.__class__)\n",
    "\n",
    "            destination_path_folder, destination_path_module = self.get_destination_path()\n",
    "            os.makedirs(destination_path_folder, exist_ok=True)\n",
    "            shutil.copy (source_path, destination_path_module)\n",
    "\n",
    "            f = open (f'{destination_path_folder}/subclassed_manager_import.py', 'wt')\n",
    "            f.write (f'from hpsearch.app_config.subclassed_manager import {name_subclass} as Manager')\n",
    "            f.close()\n",
    "        except Exception as e:\n",
    "            print (f'write_manager failed with exception {e}')\n",
    "        \n",
    "    def get_experiment_manager (self):\n",
    "        if experiment_manager is not None:\n",
    "            em = experiment_manager\n",
    "            self.logger.debug ('returning registered experiment manager')\n",
    "        else:\n",
    "            self.logger.debug ('experiment manager not registered yet, importing experiment manager')\n",
    "            try: \n",
    "                from hpsearch.app_config.subclassed_manager_import import Manager\n",
    "                em = Manager()\n",
    "                self.logger.debug ('returning subclassed manager')\n",
    "            except ImportError:\n",
    "                if not self.allow_base_class:\n",
    "                    raise ImportError (f'it was not possible to import subclassed manager, and allow_base_class=False')\n",
    "                self.logger.debug ('importing base class ExperimentManager')\n",
    "                from hpsearch.experiment_manager import ExperimentManager\n",
    "                em = ExperimentManager()\n",
    "        \n",
    "        self.logger.debug (f'returning experiment manager {em}')\n",
    "        return em\n",
    "    \n",
    "    def delete_module (self):\n",
    "        destination_path_folder, destination_path_module = self.get_destination_path()\n",
    "        self.logger.debug (destination_path_module)\n",
    "        if os.path.exists(destination_path_module):\n",
    "            self.logger.debug ('deleting')\n",
    "            os.remove(destination_path_module)"
   ]
  },
  {
   "cell_type": "markdown",
   "metadata": {},
   "source": [
    "The method `get_experiment_manager` returns the base class ExperimentManager initially, unless a subclass definition has been stored by calling the `write_manager` method"
   ]
  },
  {
   "cell_type": "code",
   "execution_count": null,
   "metadata": {},
   "outputs": [],
   "source": [
    "factory = ManagerFactory ()\n",
    "factory.delete_module()\n",
    "em = factory.get_experiment_manager()\n",
    "assert em.__class__.__name__ == 'ExperimentManager'"
   ]
  },
  {
   "cell_type": "markdown",
   "metadata": {},
   "source": [
    "We can write the definition of a desired subclass of ExperimentManager with the method `write_manager`. After writing this definition, the object manager_factory will return an instance of the same subclass for any module that imports ManagerFactory. Let us check this with one example. We will use the subclass `ExampleExperimentManager` as an example, and check that the module file exists calling the method `write_manager`."
   ]
  },
  {
   "cell_type": "code",
   "execution_count": null,
   "metadata": {},
   "outputs": [],
   "source": [
    "from hpsearch.examples.example_experiment_manager import ExampleExperimentManager\n",
    "\n",
    "# we check that the file does not exist before writting it\n",
    "destination_path_folder, destination_path_module = factory.get_destination_path()\n",
    "assert not os.path.exists(destination_path_module)\n",
    "\n",
    "# we write new module and check that the file exists afterwards\n",
    "em = ExampleExperimentManager()\n",
    "factory.write_manager (em)\n",
    "assert os.path.exists(destination_path_module)\n",
    "\n",
    "# we check that the written module corresponds to the class ExampleExperimentManager\n",
    "from hpsearch.app_config.subclassed_manager_import import Manager\n",
    "em2 = Manager()\n",
    "assert Manager.__name__ == 'ExampleExperimentManager'\n",
    "assert em2.__class__.__name__ == em.__class__.__name__\n",
    "assert em.get_default_parameters({}) == em2.get_default_parameters({})"
   ]
  },
  {
   "cell_type": "markdown",
   "metadata": {},
   "source": [
    "After writting the subclass, the method `get_experiment_manager` returns an instance of this subclass. This allows command-line scripts to use functions of the subclass indicated by other modules. "
   ]
  },
  {
   "cell_type": "code",
   "execution_count": null,
   "metadata": {},
   "outputs": [],
   "source": [
    "em2 = factory.get_experiment_manager()\n",
    "assert em2.__class__.__name__ == em.__class__.__name__"
   ]
  },
  {
   "cell_type": "markdown",
   "metadata": {},
   "source": [
    "The method `get_experiment_manager` returns a registered experiment_manager"
   ]
  },
  {
   "cell_type": "code",
   "execution_count": null,
   "metadata": {},
   "outputs": [],
   "source": [
    "from hpsearch.experiment_manager import ExperimentManager\n",
    "em = ExperimentManager()\n",
    "factory.register_manager(em)\n",
    "em2 = factory.get_experiment_manager()\n",
    "assert em2.__class__.__name__ == 'ExperimentManager'\n",
    "\n",
    "em = ExampleExperimentManager()\n",
    "factory.register_manager(em)\n",
    "em2 = factory.get_experiment_manager()\n",
    "assert em2.__class__.__name__ == 'ExampleExperimentManager'\n",
    "\n",
    "factory.register_manager(None)\n",
    "em2 = factory.get_experiment_manager()\n",
    "assert em2.__class__.__name__ == 'ExampleExperimentManager'"
   ]
  },
  {
   "cell_type": "code",
   "execution_count": null,
   "metadata": {},
   "outputs": [
    {
     "name": "stdout",
     "output_type": "stream",
     "text": [
      "Converted hpconfig.ipynb.\n",
      "Converted manager_factory.ipynb.\n",
      "Converted example_experiment.ipynb.\n",
      "Converted example_experiment_manager.ipynb.\n",
      "Converted experiment_manager.ipynb.\n",
      "Converted index.ipynb.\n",
      "Converted experiment_utils.ipynb.\n",
      "Converted organize_experiments.ipynb.\n"
     ]
    }
   ],
   "source": [
    "#hide\n",
    "from nbdev.export import *\n",
    "notebook2script(recursive=True)"
   ]
  },
  {
   "cell_type": "markdown",
   "metadata": {},
   "source": [
    "We check that a module registered in one module is used in another one. "
   ]
  },
  {
   "cell_type": "code",
   "execution_count": null,
   "metadata": {},
   "outputs": [],
   "source": [
    "del ManagerFactory\n",
    "del experiment_manager\n",
    "from hpsearch.config.manager_factory import ManagerFactory\n",
    "\n",
    "factory = ManagerFactory()\n",
    "em = factory.get_experiment_manager()\n",
    "assert em.__class__.__name__ == 'ExampleExperimentManager'\n",
    "\n",
    "defaults=em.get_default_parameters({})"
   ]
  },
  {
   "cell_type": "markdown",
   "metadata": {},
   "source": [
    "We check that the defaults are removed properly by using remove_defaults"
   ]
  },
  {
   "cell_type": "code",
   "execution_count": null,
   "metadata": {},
   "outputs": [
    {
     "data": {
      "text/plain": [
       "{'my_first': 50, 'my_third': 30}"
      ]
     },
     "execution_count": null,
     "metadata": {},
     "output_type": "execute_result"
    }
   ],
   "source": [
    "from hpsearch.utils.experiment_utils import remove_defaults\n",
    "\n",
    "removed=remove_defaults(defaults)\n",
    "assert removed=={}\n",
    "\n",
    "removed=remove_defaults({'my_first':50, 'my_second':10, 'my_third':30})\n",
    "assert removed=={'my_first': 50, 'my_third': 30}\n",
    "removed"
   ]
  },
  {
   "cell_type": "markdown",
   "metadata": {},
   "source": [
    "We check that no defaults are removed if the base class ExperimentManager is registered"
   ]
  },
  {
   "cell_type": "code",
   "execution_count": null,
   "metadata": {},
   "outputs": [
    {
     "data": {
      "text/plain": [
       "{'my_first': 50, 'my_second': 10, 'my_third': 30}"
      ]
     },
     "execution_count": null,
     "metadata": {},
     "output_type": "execute_result"
    }
   ],
   "source": [
    "em3 = ExperimentManager(allow_base_class=True)\n",
    "factory.register_manager(em3)\n",
    "parameters = {'my_first':50, 'my_second':10, 'my_third':30}\n",
    "parameters_copy = parameters.copy()\n",
    "removed=remove_defaults(parameters_copy)\n",
    "assert removed==parameters\n",
    "removed"
   ]
  },
  {
   "cell_type": "code",
   "execution_count": null,
   "metadata": {},
   "outputs": [],
   "source": []
  }
 ],
 "metadata": {
  "kernelspec": {
   "display_name": "Python (athena_gpu)",
   "language": "python",
   "name": "athena_gpu"
  }
 },
 "nbformat": 4,
 "nbformat_minor": 4
}
