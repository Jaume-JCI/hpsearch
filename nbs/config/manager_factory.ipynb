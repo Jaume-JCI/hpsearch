{
 "cells": [
  {
   "cell_type": "code",
   "execution_count": 1,
   "metadata": {},
   "outputs": [],
   "source": [
    "#hide\n",
    "#default_exp config.manager_factory\n",
    "from nbdev.showdoc import *\n",
    "from block_types.utils.nbdev_utils import nbdev_setup, TestRunner\n",
    "\n",
    "nbdev_setup ()\n",
    "tst = TestRunner (targets=['dummy'])"
   ]
  },
  {
   "cell_type": "markdown",
   "metadata": {},
   "source": [
    "# Manager factory\n",
    "\n",
    "> Register a subclassed ExperimentManager to be used by other modules. "
   ]
  },
  {
   "cell_type": "code",
   "execution_count": 2,
   "metadata": {},
   "outputs": [],
   "source": [
    "#export\n",
    "import inspect\n",
    "import shutil\n",
    "import hpsearch\n",
    "import os\n",
    "import logging\n",
    "import cloudpickle\n",
    "import joblib\n",
    "import pickle\n",
    "import dill\n",
    "from pathlib import Path\n",
    "import glob\n",
    "\n",
    "from block_types.utils.utils import set_logger\n",
    "\n",
    "import hpsearch.config.hp_defaults as dflt\n",
    "\n",
    "experiment_manager = None"
   ]
  },
  {
   "cell_type": "code",
   "execution_count": 3,
   "metadata": {},
   "outputs": [],
   "source": [
    "#for tests\n",
    "import pytest\n",
    "from hpsearch.examples.example_experiment_manager import ExampleExperimentManager"
   ]
  },
  {
   "cell_type": "markdown",
   "metadata": {},
   "source": [
    "## get_pickable_fields"
   ]
  },
  {
   "cell_type": "code",
   "execution_count": 4,
   "metadata": {},
   "outputs": [],
   "source": [
    "#export\n",
    "def get_pickable_fields (obj):\n",
    "    dict_fields = vars(obj)\n",
    "    return {k:dict_fields[k] for k in dict_fields if dill.pickles (dict_fields[k])}"
   ]
  },
  {
   "cell_type": "markdown",
   "metadata": {
    "tags": []
   },
   "source": [
    "### Usage example"
   ]
  },
  {
   "cell_type": "code",
   "execution_count": 5,
   "metadata": {},
   "outputs": [],
   "source": [
    "#exports tests.config.test_manager_factory\n",
    "def test_get_pickable_fields ():\n",
    "    em = ExampleExperimentManager ()\n",
    "    d = get_pickable_fields (em)\n",
    "    os.makedirs ('test_get_pickable', exist_ok=True)\n",
    "    pickle.dump (d, open('test_get_pickable/test.pk','wb'))\n",
    "    del em\n",
    "    d2 = pickle.load (open('test_get_pickable/test.pk','rb'))\n",
    "\n",
    "    n=0\n",
    "    for k in sorted(d):\n",
    "        n += (d[k]==d2[k])\n",
    "    #print (f'{n}')\n",
    "    assert n==24, f'{n}'\n",
    "    shutil.rmtree ('test_get_pickable')"
   ]
  },
  {
   "cell_type": "code",
   "execution_count": 6,
   "metadata": {},
   "outputs": [
    {
     "name": "stdout",
     "output_type": "stream",
     "text": [
      "running test_get_pickable_fields\n"
     ]
    }
   ],
   "source": [
    "tst.run (test_get_pickable_fields, tag='dummy')"
   ]
  },
  {
   "cell_type": "markdown",
   "metadata": {},
   "source": [
    "## ManagerFactory"
   ]
  },
  {
   "cell_type": "code",
   "execution_count": 7,
   "metadata": {},
   "outputs": [],
   "source": [
    "# export\n",
    "class ManagerFactory (object):\n",
    "    def __init__ (self, allow_base_class=True, manager_path=dflt.manager_path, \n",
    "                  import_manager=False, verbose=dflt.verbose, logger=None, \n",
    "                  name_logger=dflt.name_logger):\n",
    "        \n",
    "        self.allow_base_class = allow_base_class\n",
    "        self.obtain_paths()\n",
    "        self.method = 1\n",
    "        self.manager_path = Path(manager_path).resolve()\n",
    "        self.import_manager = import_manager\n",
    "        \n",
    "        self.verbose = verbose\n",
    "        self.logger = logger\n",
    "        self.name_logger = name_logger\n",
    "        if self.logger is None:\n",
    "            self.logger = set_logger (self.name_logger, path_results=self.manager_path, \n",
    "                                      verbose=self.verbose)\n",
    "        \n",
    "    def register_manager (self, experiment_manager_to_register):\n",
    "        global experiment_manager\n",
    "        experiment_manager = experiment_manager_to_register\n",
    "        \n",
    "    def obtain_paths (self):\n",
    "        destination_path_folder = os.path.dirname (hpsearch.__file__)\n",
    "        destination_path_folder = f'{destination_path_folder}/app_config'\n",
    "        destination_path_module = f'{destination_path_folder}/subclassed_manager.py'\n",
    "        self.destination_path_folder = destination_path_folder\n",
    "        self.destination_path_module = destination_path_module\n",
    "        self.destination_path_import = f'{destination_path_folder}/subclassed_manager_import.py'\n",
    "        self.class_two_module_file = f'{self.destination_path_folder}/class_two_module.pk'\n",
    "        self.class_two_import_file = f'{self.destination_path_folder}/class_two_import.pk'\n",
    "        self.class_two_base_file = f'{self.destination_path_folder}/class_two_base.pk'\n",
    "        self.current_path = os.path.abspath(os.path.curdir)\n",
    "        #print (f'current path: {self.current_path}')\n",
    "        \n",
    "    def determine_import_string (self, source_path, base_path, experiment_manager):\n",
    "        if self.method==1:\n",
    "            import_module_string = experiment_manager.__class__.__module__\n",
    "        elif self.method==2:\n",
    "            if source_path.startswith(base_path + '/'):\n",
    "                split_list = source_path.split(base_path + '/')\n",
    "                import_module_string = split_list[1]\n",
    "                import_module_string = import_module_string.replace('/','.')\n",
    "                import_module_string = import_module_string.replace('.py', '')\n",
    "            else:\n",
    "                self.logger.warning (f'current path {base_path} not found in source path {source_path}')\n",
    "                import_module_string = 'hpsearch.app_config.subclassed_manager'\n",
    "        self.import_module_string = import_module_string\n",
    "        return import_module_string\n",
    "        \n",
    "    def write_manager (self, em):\n",
    "        name_subclass = em.__class__.__name__\n",
    "        try:\n",
    "            source_path = inspect.getfile(em.__class__)\n",
    "            self.obtain_paths()\n",
    "            import_module_string = self.determine_import_string (source_path, self.current_path, em)\n",
    "            self.write_manager_subclass (name_subclass, source_path, self.current_path, import_module_string)\n",
    "            \n",
    "            self.load_class_two_module ()\n",
    "            self.class_two_module.update({name_subclass: source_path})\n",
    "            self.class_two_import.update({name_subclass: import_module_string})\n",
    "            self.class_two_base.update({name_subclass: self.current_path})\n",
    "            pickle.dump (self.class_two_module, open(self.class_two_module_file, 'wb'))\n",
    "            pickle.dump (self.class_two_import, open(self.class_two_import_file, 'wb'))\n",
    "            pickle.dump (self.class_two_base, open(self.class_two_base_file, 'wb'))\n",
    "            \n",
    "            # store em fields in pickle and cloud-pickle files\n",
    "            self.pickle_object (em=em)\n",
    "        except Exception as e:\n",
    "            self.logger.warning (f'write_manager failed with exception {e}')\n",
    "            raise (e)\n",
    "      \n",
    "    def em_pickable_fields (self, em=None):\n",
    "        em = self.get_experiment_manager () if em is None else em\n",
    "        pickable_fields = get_pickable_fields (em)\n",
    "        pickable_fields = {k:pickable_fields[k] for k in pickable_fields \n",
    "                           if k not in em.non_pickable_fields}\n",
    "        return pickable_fields\n",
    "    \n",
    "    def write_manager_subclass (self, name_subclass, source_path, base_path=None, \n",
    "                                import_module_string=None):\n",
    "        if base_path is None:\n",
    "            base_path = self.current_path\n",
    "        os.makedirs(self.destination_path_folder, exist_ok=True)\n",
    "        \n",
    "        # 1 copy subclass module's source file\n",
    "        shutil.copy (source_path, self.destination_path_module)\n",
    "        \n",
    "        # 2 copy import statement\n",
    "        f = open (self.destination_path_import, 'wt')\n",
    "        f.write ('import sys\\n')\n",
    "        f.write (f'sys.path.append(\"{base_path}\")\\n')\n",
    "        f.write (f'from {import_module_string} import {name_subclass} as Manager')\n",
    "        f.close()\n",
    "    \n",
    "    def write_pickle_of_subclass (self, name_manager, manager_path=None, extension='.cpk'):\n",
    "        manager_path = manager_path if manager_path is not None else self.manager_path\n",
    "        shutil.copy (manager_path / f'{name_manager}{extension}', manager_path / f'last{extension}')\n",
    "            \n",
    "    def pickle_object (self, em=None, manager_path=None):\n",
    "        manager_path = manager_path if manager_path is not None else self.manager_path\n",
    "        \n",
    "        self.manager_path.mkdir (parents=True, exist_ok=True)\n",
    "        em = em if em is not None else self.get_experiment_manager ()\n",
    "        dict_fields = self.em_pickable_fields (em=em)\n",
    "        joblib.dump (dict_fields, manager_path / f'{em.registered_name}.pk')\n",
    "        joblib.dump (dict_fields, manager_path / 'last.pk')\n",
    "        \n",
    "        # 4 store pickable and non-pickable fields\n",
    "        cloudpickle.dump (em, open(manager_path / f'{em.registered_name}.cpk', 'wb'))\n",
    "        cloudpickle.dump (em, open(manager_path / 'last.cpk', 'wb'))\n",
    "    \n",
    "    def load_class_two_module (self):\n",
    "        if os.path.exists (self.class_two_module_file):\n",
    "            self.class_two_module = pickle.load (open(self.class_two_module_file,'rb'))\n",
    "        else:\n",
    "            self.class_two_module = {}\n",
    "            \n",
    "        if os.path.exists (self.class_two_import_file):\n",
    "            self.class_two_import = pickle.load (open(self.class_two_import_file,'rb'))\n",
    "        else:\n",
    "            self.class_two_import = {}\n",
    "            self.logger.warning ('class2import not found, switching to original method')\n",
    "            self.method = 2\n",
    "            \n",
    "        if os.path.exists (self.class_two_base_file):\n",
    "            self.class_two_base = pickle.load (open(self.class_two_base_file,'rb'))\n",
    "        else:\n",
    "            self.class_two_base = {}\n",
    "    \n",
    "    def change_manager (self, name_manager):\n",
    "        self.previous_manager = self.get_experiment_manager ()\n",
    "        if self.import_manager:\n",
    "            self.write_manager_to_import (name_manager)\n",
    "            self.write_pickle_of_subclass (name_manager, extension='.pk')\n",
    "        else:\n",
    "            self.write_pickle_of_subclass (name_manager, extension='.cpk')\n",
    "        self.reset_manager()\n",
    "        self.import_or_load_manager()\n",
    "        \n",
    "    def write_manager_to_import (self, name_manager):\n",
    "        name_subclass = name_manager.split ('-')[0]\n",
    "        self.obtain_paths()\n",
    "        self.load_class_two_module ()\n",
    "        if name_subclass not in self.class_two_module:\n",
    "            raise ValueError (f'{name_subclass} not in dictionary class_two_module={self.class_two_module}')\n",
    "        if name_subclass in self.class_two_base:\n",
    "            base_path = self.class_two_base[name_subclass]\n",
    "        else:\n",
    "            base_path = self.current_path\n",
    "        self.write_manager_subclass (name_subclass, self.class_two_module[name_subclass], base_path,\n",
    "                                    self.class_two_import[name_subclass])\n",
    "        \n",
    "    def switch_back (self):\n",
    "        self.register_manager (self.previous_manager)\n",
    "        self.write_manager (self.previous_manager)\n",
    "        \n",
    "    def print_current_manager (self):\n",
    "        em = self.get_experiment_manager ()\n",
    "        print (f'experiment manager registered: {em.__class__.__name__}')\n",
    "        print (f'registered name: {em.registered_name}')\n",
    "        \n",
    "    def list_subclasses (self):\n",
    "        if self.import_manager:\n",
    "            self.list_pickled_managers (extension='.pk')\n",
    "        else:\n",
    "            self.list_pickled_managers (extension='.cpk')\n",
    "        self.print_current_manager()\n",
    "    \n",
    "    def list_subclass_modules (self):\n",
    "        self.load_class_two_module ()\n",
    "        print (f'subclasses: {self.class_two_module.keys()}')\n",
    "    \n",
    "    def list_pickled_managers (self, extension='.cpk'):\n",
    "        managers = glob.glob (f'{self.manager_path}/*{extension}')\n",
    "        managers = [Path(x).name.split(extension)[0] for x in managers]\n",
    "        managers = [x for x in managers if x != 'last']\n",
    "        print (f'managers: {managers}')\n",
    "        \n",
    "    def load_pickle_and_set_em_fields (self, em, manager_path=None):\n",
    "        manager_path = manager_path if manager_path is not None else self.manager_path\n",
    "        dict_fields = joblib.load (manager_path / 'last.pk')\n",
    "        self.logger.debug (f'loading pickled em fields from {manager_path}')\n",
    "        for k in dict_fields:\n",
    "            setattr (em, k, dict_fields[k])\n",
    "            \n",
    "    def load_manager (self, manager_path=None):\n",
    "        manager_path = manager_path if manager_path is not None else self.manager_path\n",
    "        self.logger.debug (f'loading manager from {manager_path}')\n",
    "        em = cloudpickle.load (open(manager_path / f'last.cpk', 'rb'))\n",
    "        return em\n",
    "            \n",
    "    def import_or_load_manager (self):\n",
    "        if self.import_manager:\n",
    "            em = self.import_written_manager ()\n",
    "        else:\n",
    "            em = self.load_manager ()\n",
    "        global experiment_manager\n",
    "        experiment_manager = em\n",
    "    \n",
    "    def import_written_manager (self):\n",
    "        try:\n",
    "            import hpsearch.app_config.subclassed_manager_import as subclass_module\n",
    "            from importlib import reload\n",
    "            reload (subclass_module)\n",
    "            \n",
    "            from hpsearch.app_config.subclassed_manager_import import Manager\n",
    "            em = Manager()\n",
    "            self.logger.debug ('returning subclassed manager')\n",
    "        except ImportError:\n",
    "            if not self.allow_base_class:\n",
    "                raise ImportError (f'it was not possible to import subclassed manager, and allow_base_class=False')\n",
    "            self.logger.debug ('importing base class ExperimentManager')\n",
    "            from hpsearch.experiment_manager import ExperimentManager\n",
    "            em = ExperimentManager()\n",
    "        self.load_pickle_and_set_em_fields (em)\n",
    "        return em\n",
    "        \n",
    "    def get_experiment_manager (self):\n",
    "        if experiment_manager is not None:\n",
    "            em = experiment_manager\n",
    "            self.logger.debug ('returning registered experiment manager')\n",
    "        else:\n",
    "            self.logger.debug ('experiment manager not registered yet, importing experiment manager')\n",
    "            self.import_or_load_manager()\n",
    "            em = self.get_experiment_manager ()\n",
    "            \n",
    "        self.logger.debug (f'returning experiment manager {em}')\n",
    "        return em\n",
    "    \n",
    "    def reset_manager (self):\n",
    "        self.register_manager (None)\n",
    "        \n",
    "    def set_base_manager (self):\n",
    "        from hpsearch.experiment_manager import ExperimentManager\n",
    "        em = ExperimentManager()\n",
    "        self.register_manager (em)\n",
    "    \n",
    "    def delete_and_reset_all (self):\n",
    "        self.obtain_paths()\n",
    "        self.logger.debug (self.destination_path_module)\n",
    "        if os.path.exists(self.destination_path_module):\n",
    "            self.logger.debug ('deleting')\n",
    "            os.remove(self.destination_path_module)\n",
    "        if os.path.exists(self.destination_path_import):\n",
    "            self.logger.debug ('deleting')\n",
    "            os.remove(self.destination_path_import)\n",
    "            \n",
    "        self.load_class_two_module ()\n",
    "        if os.path.exists(self.class_two_module_file):\n",
    "            self.logger.debug (f'deleting {self.class_two_module_file}')\n",
    "            os.remove(self.class_two_module_file)\n",
    "            \n",
    "        if os.path.exists(self.class_two_import_file):\n",
    "            self.logger.debug (f'deleting {self.class_two_import_file}')\n",
    "            os.remove(self.class_two_import_file)\n",
    "            \n",
    "        if os.path.exists(self.class_two_base_file):\n",
    "            self.logger.debug (f'deleting {self.class_two_base_file}')\n",
    "            os.remove(self.class_two_base_file)\n",
    "            \n",
    "        if self.manager_path.exists ():\n",
    "            self.logger.debug (f'deleting {self.manager_path}')\n",
    "            shutil.rmtree (self.manager_path)\n",
    "            \n",
    "        self.set_base_manager ()"
   ]
  },
  {
   "cell_type": "markdown",
   "metadata": {
    "tags": []
   },
   "source": [
    "### get_experiment_manager"
   ]
  },
  {
   "cell_type": "markdown",
   "metadata": {},
   "source": [
    "The method `get_experiment_manager` returns the base class ExperimentManager initially, unless a subclass definition has been stored by calling the `write_manager` method"
   ]
  },
  {
   "cell_type": "code",
   "execution_count": 8,
   "metadata": {},
   "outputs": [],
   "source": [
    "#exports tests.config.test_manager_factory\n",
    "def test_get_experiment_manager ():\n",
    "    factory = ManagerFactory ()\n",
    "    factory.delete_and_reset_all()\n",
    "    em = factory.get_experiment_manager()\n",
    "    assert em.__class__.__name__ == 'ExperimentManager'"
   ]
  },
  {
   "cell_type": "code",
   "execution_count": 9,
   "metadata": {},
   "outputs": [
    {
     "name": "stderr",
     "output_type": "stream",
     "text": [
      "class2import not found, switching to original method\n"
     ]
    },
    {
     "name": "stdout",
     "output_type": "stream",
     "text": [
      "running test_get_experiment_manager\n"
     ]
    }
   ],
   "source": [
    "tst.run (test_get_experiment_manager, tag='dummy')"
   ]
  },
  {
   "cell_type": "markdown",
   "metadata": {},
   "source": [
    "### write_manager"
   ]
  },
  {
   "cell_type": "markdown",
   "metadata": {},
   "source": [
    "We can write the definition of a desired subclass of ExperimentManager with the method `write_manager`. After writing this definition, the object manager_factory will return an instance of the same subclass for any module that imports ManagerFactory. Let us check this with one example. We will use the subclass `ExampleExperimentManager` as an example, and check that the module file exists after calling the method `write_manager`."
   ]
  },
  {
   "cell_type": "markdown",
   "metadata": {},
   "source": [
    "After writting the subclass, the method `get_experiment_manager` returns an instance of this subclass. This allows command-line scripts to use functions of the subclass indicated by other modules. "
   ]
  },
  {
   "cell_type": "code",
   "execution_count": 17,
   "metadata": {},
   "outputs": [
    {
     "data": {
      "text/plain": [
       "\u001b[0;31mSignature:\u001b[0m\n",
       "\u001b[0mimportlib\u001b[0m\u001b[0;34m.\u001b[0m\u001b[0mutil\u001b[0m\u001b[0;34m.\u001b[0m\u001b[0mspec_from_file_location\u001b[0m\u001b[0;34m(\u001b[0m\u001b[0;34m\u001b[0m\n",
       "\u001b[0;34m\u001b[0m    \u001b[0mname\u001b[0m\u001b[0;34m,\u001b[0m\u001b[0;34m\u001b[0m\n",
       "\u001b[0;34m\u001b[0m    \u001b[0mlocation\u001b[0m\u001b[0;34m=\u001b[0m\u001b[0;32mNone\u001b[0m\u001b[0;34m,\u001b[0m\u001b[0;34m\u001b[0m\n",
       "\u001b[0;34m\u001b[0m    \u001b[0;34m*\u001b[0m\u001b[0;34m,\u001b[0m\u001b[0;34m\u001b[0m\n",
       "\u001b[0;34m\u001b[0m    \u001b[0mloader\u001b[0m\u001b[0;34m=\u001b[0m\u001b[0;32mNone\u001b[0m\u001b[0;34m,\u001b[0m\u001b[0;34m\u001b[0m\n",
       "\u001b[0;34m\u001b[0m    \u001b[0msubmodule_search_locations\u001b[0m\u001b[0;34m=\u001b[0m\u001b[0;34m<\u001b[0m\u001b[0mobject\u001b[0m \u001b[0mobject\u001b[0m \u001b[0mat\u001b[0m \u001b[0;36m0x7f42c76250c0\u001b[0m\u001b[0;34m>\u001b[0m\u001b[0;34m,\u001b[0m\u001b[0;34m\u001b[0m\n",
       "\u001b[0;34m\u001b[0m\u001b[0;34m)\u001b[0m\u001b[0;34m\u001b[0m\u001b[0;34m\u001b[0m\u001b[0m\n",
       "\u001b[0;31mDocstring:\u001b[0m\n",
       "Return a module spec based on a file location.\n",
       "\n",
       "To indicate that the module is a package, set\n",
       "submodule_search_locations to a list of directory paths.  An\n",
       "empty list is sufficient, though its not otherwise useful to the\n",
       "import system.\n",
       "\n",
       "The loader must take a spec as its only __init__() arg.\n",
       "\u001b[0;31mFile:\u001b[0m      ~/jaume/workspace/remote/hpsearch/<frozen importlib._bootstrap_external>\n",
       "\u001b[0;31mType:\u001b[0m      function\n"
      ]
     },
     "metadata": {},
     "output_type": "display_data"
    }
   ],
   "source": [
    "import importlib.util\n",
    "importlib.util.spec_from_file_location?"
   ]
  },
  {
   "cell_type": "code",
   "execution_count": 19,
   "metadata": {},
   "outputs": [],
   "source": [
    "spec"
   ]
  },
  {
   "cell_type": "code",
   "execution_count": 23,
   "metadata": {},
   "outputs": [
    {
     "name": "stdout",
     "output_type": "stream",
     "text": [
      "__init__.py  \u001b[0m\u001b[01;34m__pycache__\u001b[0m/\n"
     ]
    }
   ],
   "source": [
    "ls hpsearch/app_config/"
   ]
  },
  {
   "cell_type": "code",
   "execution_count": 26,
   "metadata": {},
   "outputs": [],
   "source": [
    "#exports tests.config.test_manager_factory\n",
    "def test_write_manager ():\n",
    "    factory = ManagerFactory ()\n",
    "    factory.delete_and_reset_all()\n",
    "    # we check that the file does not exist before writting it\n",
    "    assert not os.path.exists(factory.destination_path_module)\n",
    "\n",
    "    # we write new module and check that the file exists afterwards\n",
    "    em = ExampleExperimentManager()\n",
    "    factory.register_manager (em)\n",
    "    factory.write_manager (em)\n",
    "    assert os.path.exists(factory.destination_path_module)\n",
    "\n",
    "    # we check that the written module corresponds to the class ExampleExperimentManager\n",
    "    from hpsearch.app_config.subclassed_manager_import import Manager\n",
    "    em2 = Manager()\n",
    "    \n",
    "    import importlib.util\n",
    "    spec = importlib.util.spec_from_file_location(\"module.name\", \"hpsearch/app_config/subclassed_manager_import.py\")\n",
    "    manager_module = importlib.util.module_from_spec(spec)\n",
    "    spec.loader.exec_module(manager_module)\n",
    "    Manager2 = getattr (manager_module, 'Manager')\n",
    "    print ('2', Manager2)\n",
    "    \n",
    "    # TODO: error in pytest\n",
    "    #assert Manager.__name__ == 'ExampleExperimentManager'\n",
    "    #assert em2.__class__.__name__ == em.__class__.__name__\n",
    "    #assert em.get_default_parameters({}) == em2.get_default_parameters({})\n",
    "    \n",
    "    # After writting the subclass, the method `get_experiment_manager` \n",
    "    # returns an instance of this subclass. This allows command-line \n",
    "    # scripts to use functions of the subclass indicated by other modules. \n",
    "    em.register_and_store_subclassed_manager()\n",
    "    em2 = factory.get_experiment_manager()\n",
    "    assert em2.__class__.__name__ == em.__class__.__name__"
   ]
  },
  {
   "cell_type": "code",
   "execution_count": 27,
   "metadata": {
    "tags": []
   },
   "outputs": [
    {
     "name": "stderr",
     "output_type": "stream",
     "text": [
      "class2import not found, switching to original method\n"
     ]
    },
    {
     "name": "stdout",
     "output_type": "stream",
     "text": [
      "running test_write_manager\n",
      "2 <class 'hpsearch.examples.example_experiment_manager.ExampleExperimentManager'>\n"
     ]
    }
   ],
   "source": [
    "tst.run (test_write_manager, tag='dummy')"
   ]
  },
  {
   "cell_type": "markdown",
   "metadata": {},
   "source": [
    "### pickle_object"
   ]
  },
  {
   "cell_type": "markdown",
   "metadata": {},
   "source": [
    "We can also write fields stored in the current experiment manager. When the command-line tool loads the manager, it loads these fields and stores them in the manager."
   ]
  },
  {
   "cell_type": "code",
   "execution_count": 12,
   "metadata": {},
   "outputs": [],
   "source": [
    "#exports tests.config.test_manager_factory\n",
    "def test_pickle_object ():\n",
    "    from hpsearch.examples.complex_dummy_experiment_manager import ComplexDummyExperimentManager\n",
    "    em = ComplexDummyExperimentManager (path_experiments='my_new_path',\n",
    "                                        root_folder='other_root')\n",
    "    em.my_new_field = [2, 1, 3]\n",
    "    em.greeting_message = 'good morning!'\n",
    "\n",
    "    #from hpsearch.config.manager_factory import ManagerFactory\n",
    "    factory = ManagerFactory (verbose=2)\n",
    "    factory.delete_and_reset_all()\n",
    "    factory.register_manager (em)\n",
    "    factory.write_manager (em)\n",
    "    assert sorted(os.listdir (factory.manager_path))==[\n",
    "        'ComplexDummyExperimentManager-other_root.cpk', \n",
    "        'ComplexDummyExperimentManager-other_root.pk', \n",
    "        'last.cpk', 'last.pk']\n",
    "\n",
    "    del em\n",
    "    em = factory.get_experiment_manager ()\n",
    "    assert em.my_new_field == [2, 1, 3]\n",
    "    assert em.greeting_message == 'good morning!'\n",
    "\n",
    "    global experiment_manager\n",
    "    experiment_manager=None\n",
    "    #del experiment_manager\n",
    "    em = factory.get_experiment_manager()\n",
    "\n",
    "    assert em.path_experiments=='my_new_path'\n",
    "    assert em.root_folder=='other_root'\n",
    "    assert em.my_new_field == [2, 1, 3]\n",
    "    assert em.greeting_message == 'good morning!'\n",
    "    "
   ]
  },
  {
   "cell_type": "code",
   "execution_count": 13,
   "metadata": {},
   "outputs": [
    {
     "name": "stderr",
     "output_type": "stream",
     "text": [
      "/home/jcidatascience/jaume/workspace/remote/hpsearch/hpsearch/app_config/subclassed_manager.py\n",
      "deleting\n",
      "deleting\n",
      "deleting /home/jcidatascience/jaume/workspace/remote/hpsearch/hpsearch/app_config/class_two_module.pk\n",
      "deleting /home/jcidatascience/jaume/workspace/remote/hpsearch/hpsearch/app_config/class_two_import.pk\n",
      "deleting /home/jcidatascience/jaume/workspace/remote/hpsearch/hpsearch/app_config/class_two_base.pk\n",
      "deleting /home/jcidatascience/jaume/workspace/remote/hpsearch/em_obj\n",
      "class2import not found, switching to original method\n"
     ]
    },
    {
     "name": "stdout",
     "output_type": "stream",
     "text": [
      "running test_pickle_object\n"
     ]
    }
   ],
   "source": [
    "tst.run (test_pickle_object, tag='dummy')"
   ]
  },
  {
   "cell_type": "markdown",
   "metadata": {},
   "source": [
    "### register_manager"
   ]
  },
  {
   "cell_type": "markdown",
   "metadata": {},
   "source": [
    "The method `get_experiment_manager` returns a registered experiment_manager"
   ]
  },
  {
   "cell_type": "code",
   "execution_count": 14,
   "metadata": {},
   "outputs": [],
   "source": [
    "#exports tests.config.test_manager_factory\n",
    "def test_register_manager ():\n",
    "    from hpsearch.config.manager_factory import ManagerFactory\n",
    "    factory = ManagerFactory ()\n",
    "    factory.delete_and_reset_all()\n",
    "    \n",
    "    from hpsearch.experiment_manager import ExperimentManager\n",
    "    em = ExperimentManager()\n",
    "    factory.register_manager(em)\n",
    "    em2 = factory.get_experiment_manager()\n",
    "    assert em2.__class__.__name__ == 'ExperimentManager'\n",
    "\n",
    "    em = ExampleExperimentManager()\n",
    "    factory.register_manager(em)\n",
    "    em2 = factory.get_experiment_manager()\n",
    "    assert em2.__class__.__name__ == 'ExampleExperimentManager'\n",
    "    \n",
    "    # We check that a module registered in one module is used in another one. \n",
    "    del ManagerFactory\n",
    "    from hpsearch.config.manager_factory import ManagerFactory\n",
    "\n",
    "    factory = ManagerFactory()\n",
    "    em = factory.get_experiment_manager()\n",
    "    assert em.__class__.__name__ == 'ExampleExperimentManager'\n",
    "\n",
    "    defaults=em.get_default_parameters({})\n",
    "    \n",
    "    # We check that the defaults are removed properly by using remove_defaults\n",
    "    from hpsearch.utils.experiment_utils import remove_defaults\n",
    "\n",
    "    removed=remove_defaults(defaults)\n",
    "    assert removed=={}\n",
    "\n",
    "    removed=remove_defaults({'my_first':50, 'my_second':10, 'my_third':30})\n",
    "    assert removed=={'my_first': 50, 'my_third': 30}\n",
    "    \n",
    "    # We check that no defaults are removed if the base class ExperimentManager \n",
    "    # is registered\n",
    "    em3 = ExperimentManager(allow_base_class=True)\n",
    "    factory.register_manager(em3)\n",
    "    parameters = {'my_first':50, 'my_second':10, 'my_third':30}\n",
    "    parameters_copy = parameters.copy()\n",
    "    removed=remove_defaults(parameters_copy)\n",
    "    assert removed==parameters"
   ]
  },
  {
   "cell_type": "code",
   "execution_count": 15,
   "metadata": {},
   "outputs": [
    {
     "name": "stdout",
     "output_type": "stream",
     "text": [
      "running test_register_manager\n"
     ]
    }
   ],
   "source": [
    "tst.run (test_register_manager, tag='dummy')"
   ]
  },
  {
   "cell_type": "markdown",
   "metadata": {},
   "source": [
    "```python\n",
    "import inspect\n",
    "\n",
    "from hpsearch.examples.example_experiment_manager import ExampleExperimentManager\n",
    "\n",
    "em = ExampleExperimentManager()\n",
    "\n",
    "source_path = inspect.getfile(em.__class__)\n",
    "inspect.getmodulename('ExampleExperimentManager')\n",
    "```"
   ]
  }
 ],
 "metadata": {
  "kernelspec": {
   "display_name": "Python (hpsearch)",
   "language": "python",
   "name": "hpsearch"
  },
  "language_info": {
   "codemirror_mode": {
    "name": "ipython",
    "version": 3
   },
   "file_extension": ".py",
   "mimetype": "text/x-python",
   "name": "python",
   "nbconvert_exporter": "python",
   "pygments_lexer": "ipython3",
   "version": "3.9.7"
  }
 },
 "nbformat": 4,
 "nbformat_minor": 4
}
