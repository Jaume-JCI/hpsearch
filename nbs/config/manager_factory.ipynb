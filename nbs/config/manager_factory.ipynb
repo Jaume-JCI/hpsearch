{
 "cells": [
  {
   "cell_type": "code",
   "execution_count": 1,
   "metadata": {},
   "outputs": [],
   "source": [
    "#hide\n",
    "#default_exp config.manager_factory\n",
    "from nbdev.showdoc import *\n",
    "from dsblocks.utils.nbdev_utils import nbdev_setup, TestRunner\n",
    "\n",
    "nbdev_setup ()\n",
    "tst = TestRunner (targets=['dummy'])"
   ]
  },
  {
   "cell_type": "markdown",
   "metadata": {},
   "source": [
    "# Manager factory\n",
    "\n",
    "> Register a subclassed ExperimentManager to be used by other modules. "
   ]
  },
  {
   "cell_type": "code",
   "execution_count": 2,
   "metadata": {},
   "outputs": [],
   "source": [
    "#export\n",
    "import inspect\n",
    "import shutil\n",
    "import os\n",
    "import logging\n",
    "import joblib\n",
    "import pickle\n",
    "import dill\n",
    "from pathlib import Path\n",
    "import glob\n",
    "import cloudpickle\n",
    "import importlib.util\n",
    "import pandas as pd\n",
    "import numpy as np\n",
    "\n",
    "from dsblocks.utils.utils import set_logger\n",
    "\n",
    "import hpsearch\n",
    "import hpsearch.config.hp_defaults as dflt\n",
    "\n",
    "experiment_manager = None"
   ]
  },
  {
   "cell_type": "code",
   "execution_count": 3,
   "metadata": {},
   "outputs": [],
   "source": [
    "#for tests\n",
    "import pytest\n",
    "from hpsearch.examples.example_experiment_manager import ExampleExperimentManager"
   ]
  },
  {
   "cell_type": "markdown",
   "metadata": {},
   "source": [
    "## get_pickable_fields"
   ]
  },
  {
   "cell_type": "code",
   "execution_count": 4,
   "metadata": {},
   "outputs": [],
   "source": [
    "#export\n",
    "def get_pickable_fields (obj):\n",
    "    dict_fields = vars(obj)\n",
    "    # dill seems to have issues with DataFrame and possibly np.array\n",
    "    dict_fields = {k:dict_fields[k] for k in dict_fields \n",
    "                   if not isinstance(dict_fields[k], pd.DataFrame) and not isinstance(dict_fields[k], np.ndarray)}\n",
    "    try:\n",
    "        result = {k:dict_fields[k] for k in dict_fields if dill.pickles (dict_fields[k])}\n",
    "    except:\n",
    "        result = dict_fields\n",
    "    return result"
   ]
  },
  {
   "cell_type": "markdown",
   "metadata": {
    "tags": []
   },
   "source": [
    "### Usage example"
   ]
  },
  {
   "cell_type": "code",
   "execution_count": 5,
   "metadata": {},
   "outputs": [],
   "source": [
    "#exports tests.config.test_manager_factory\n",
    "def test_get_pickable_fields ():\n",
    "    em = ExampleExperimentManager ()\n",
    "    d = get_pickable_fields (em)\n",
    "    os.makedirs ('test_get_pickable', exist_ok=True)\n",
    "    pickle.dump (d, open('test_get_pickable/test.pk','wb'))\n",
    "    del em\n",
    "    d2 = pickle.load (open('test_get_pickable/test.pk','rb'))\n",
    "\n",
    "    n=0\n",
    "    for k in sorted(d):\n",
    "        n += (d[k]==d2[k])\n",
    "    #print (f'{n}')\n",
    "    assert n==25, f'{n}'\n",
    "    shutil.rmtree ('test_get_pickable')\n",
    "    \n",
    "def test_get_pickable_fields_no_df_or_array ():\n",
    "    em = ExampleExperimentManager ()\n",
    "    em.df = pd.DataFrame ({'a':[1,2,3],'b':[4,5,6]})\n",
    "    em.vector = np.array ([1,2,3])\n",
    "    d = get_pickable_fields (em)\n",
    "    assert 'df' not in d and 'vector' not in d"
   ]
  },
  {
   "cell_type": "code",
   "execution_count": 6,
   "metadata": {},
   "outputs": [
    {
     "name": "stdout",
     "output_type": "stream",
     "text": [
      "running test_get_pickable_fields\n",
      "running test_get_pickable_fields_no_df_or_array\n"
     ]
    }
   ],
   "source": [
    "tst.run (test_get_pickable_fields, tag='dummy')\n",
    "tst.run (test_get_pickable_fields_no_df_or_array, tag='dummy')"
   ]
  },
  {
   "cell_type": "markdown",
   "metadata": {},
   "source": [
    "## ManagerFactory"
   ]
  },
  {
   "cell_type": "code",
   "execution_count": 7,
   "metadata": {},
   "outputs": [],
   "source": [
    "# export\n",
    "class ManagerFactory (object):\n",
    "    def __init__ (self, allow_base_class=True, manager_path=dflt.manager_path, \n",
    "                  import_manager=False, verbose=dflt.verbose, logger=None, \n",
    "                  name_logger_factory=dflt.name_logger_factory):\n",
    "        \n",
    "        self.allow_base_class = allow_base_class\n",
    "        self.manager_path = Path(manager_path).resolve()\n",
    "        self.import_manager = import_manager\n",
    "        \n",
    "        self.verbose = verbose\n",
    "        self.logger = logger\n",
    "        self.name_logger_factory = name_logger_factory\n",
    "        if self.logger is None:\n",
    "            self.logger = set_logger (self.name_logger_factory, path_results=self.manager_path, \n",
    "                                      verbose=self.verbose)\n",
    "        \n",
    "    # **************************************************\n",
    "    # get manager, load it / import it\n",
    "    # **************************************************\n",
    "    def get_experiment_manager (self):\n",
    "        if experiment_manager is not None:\n",
    "            em = experiment_manager\n",
    "            self.logger.debug ('returning registered experiment manager')\n",
    "        else:\n",
    "            self.logger.debug ('experiment manager not registered yet, importing experiment manager')\n",
    "            try:\n",
    "                self.import_or_load_manager()\n",
    "            except FileNotFoundError:\n",
    "                self.logger.debug ('No experiment manager to import was found, setting base manager.')\n",
    "                self.set_base_manager ()\n",
    "            em = self.get_experiment_manager ()\n",
    "            \n",
    "        self.logger.debug (f'returning experiment manager {em}')\n",
    "        return em\n",
    "                        \n",
    "    def import_or_load_manager (self):\n",
    "        if self.import_manager:\n",
    "            em = self.import_written_manager ()\n",
    "        else:\n",
    "            em = self.load_manager ()\n",
    "        global experiment_manager\n",
    "        experiment_manager = em\n",
    "    \n",
    "    def import_written_manager (self):\n",
    "        info_path =self.manager_path / 'info'\n",
    "        self.info = joblib.load (info_path / 'last.pk')\n",
    "        \n",
    "        spec = importlib.util.spec_from_file_location(self.info['import_module_string'], \n",
    "                                                      self.info['source_path'])\n",
    "        manager_module = importlib.util.module_from_spec(spec)\n",
    "        spec.loader.exec_module(manager_module)\n",
    "        Manager = getattr (manager_module, self.info['class_name'])\n",
    "        em = Manager ()\n",
    "        \n",
    "        self.load_pickle_and_set_em_fields (em)\n",
    "        return em\n",
    "        \n",
    "    def load_manager (self):\n",
    "        whole_object_path = self.manager_path / 'whole'\n",
    "        self.logger.debug (f'loading manager from {whole_object_path}')\n",
    "        em = cloudpickle.load (open(whole_object_path / 'last.pk', 'rb'))\n",
    "        return em\n",
    "    \n",
    "    def load_pickle_and_set_em_fields (self, em, manager_path=None):\n",
    "        manager_path = manager_path if manager_path is not None else self.manager_path\n",
    "        fields_path = manager_path / 'fields'\n",
    "        dict_fields = joblib.load (fields_path / 'last.pk')\n",
    "        self.logger.debug (f'loading pickled em fields from {fields_path}')\n",
    "        for k in dict_fields:\n",
    "            setattr (em, k, dict_fields[k])\n",
    "\n",
    "    # ***********************************************************\n",
    "    # register manager, persist manager\n",
    "    # ***********************************************************\n",
    "    def register_manager (self, experiment_manager_to_register):\n",
    "        global experiment_manager\n",
    "        experiment_manager = experiment_manager_to_register\n",
    "                \n",
    "    def write_manager (self, em):\n",
    "        name_subclass = em.__class__.__name__\n",
    "        registered_name = em.registered_name\n",
    "        import_module_string = em.__class__.__module__\n",
    "        try:\n",
    "            source_path = inspect.getfile(em.__class__)\n",
    "        except TypeError:\n",
    "            source_path = ''\n",
    "        self.info = {'source_path': source_path,\n",
    "                     'import_module_string': import_module_string,\n",
    "                     'class_name': name_subclass}\n",
    "        # store em fields in pickle and cloud-pickle files\n",
    "        self.pickle_object (em=em)\n",
    "            \n",
    "    def pickle_object (self, em=None, manager_path=None, store_info=True):\n",
    "        manager_path = manager_path if manager_path is not None else self.manager_path\n",
    "        manager_path = Path(manager_path).resolve ()\n",
    "        \n",
    "        whole_object_path = manager_path / 'whole'\n",
    "        fields_path = manager_path / 'fields'\n",
    "        info_path = manager_path / 'info'\n",
    "        whole_object_path.mkdir (parents=True, exist_ok=True)\n",
    "        fields_path.mkdir (parents=True, exist_ok=True)\n",
    "        info_path.mkdir (parents=True, exist_ok=True)\n",
    "        \n",
    "        em = em if em is not None else self.get_experiment_manager ()\n",
    "        \n",
    "        # fields pickle file\n",
    "        dict_fields = self.em_pickable_fields (em=em)\n",
    "        joblib.dump (dict_fields, fields_path / f'{em.registered_name}.pk')\n",
    "        joblib.dump (dict_fields, fields_path / 'last.pk')\n",
    "        \n",
    "        # store pickable and non-pickable fields\n",
    "        fields = {k: getattr (em, k) for k in em.avoid_saving_fields}\n",
    "        for k in em.avoid_saving_fields: setattr (em, k, None)\n",
    "        cloudpickle.dump (em, open(whole_object_path / f'{em.registered_name}.pk', 'wb'))\n",
    "        cloudpickle.dump (em, open(whole_object_path / 'last.pk', 'wb'))\n",
    "        for k in em.avoid_saving_fields: setattr (em, k, fields[k])\n",
    "        \n",
    "        # info file\n",
    "        if store_info:\n",
    "            joblib.dump (self.info, info_path / f'{em.registered_name}.pk')\n",
    "            joblib.dump (self.info, info_path / 'last.pk')\n",
    "\n",
    "    def em_pickable_fields (self, em=None):\n",
    "        em = self.get_experiment_manager () if em is None else em\n",
    "        pickable_fields = get_pickable_fields (em)\n",
    "        pickable_fields = {k:pickable_fields[k] for k in pickable_fields \n",
    "                           if k not in em.non_pickable_fields}\n",
    "        return pickable_fields\n",
    "            \n",
    "    # **********************************************************\n",
    "    # change manager\n",
    "    # **********************************************************\n",
    "    def change_manager (self, name_manager):\n",
    "        self.previous_manager = self.get_experiment_manager ()\n",
    "        self.overwrite_last_manager (name_manager)\n",
    "        \n",
    "        self.reset_manager()\n",
    "        self.import_or_load_manager()\n",
    "    \n",
    "    def overwrite_last_manager (self, name_manager):\n",
    "        whole_object_path = self.manager_path / 'whole'\n",
    "        fields_path = self.manager_path / 'fields'\n",
    "        info_path = self.manager_path / 'info'\n",
    "        \n",
    "        shutil.copy (whole_object_path / f'{name_manager}.pk', whole_object_path / 'last.pk')\n",
    "        shutil.copy (fields_path / f'{name_manager}.pk', fields_path / 'last.pk')\n",
    "        shutil.copy (info_path / f'{name_manager}.pk', info_path / 'last.pk')\n",
    "                \n",
    "    def switch_back (self):\n",
    "        self.register_manager (self.previous_manager)\n",
    "        self.write_manager (self.previous_manager)\n",
    "\n",
    "    # **********************************************************\n",
    "    #  list stored managers and print current one\n",
    "    # **********************************************************\n",
    "    def list_subclasses (self):\n",
    "        self.list_pickled_managers ()\n",
    "        self.print_current_manager ()\n",
    "        \n",
    "    def list_pickled_managers (self):\n",
    "        managers = glob.glob (f'{self.manager_path}/fields/*.pk')\n",
    "        managers = [Path(x).name.split('.pk')[0] for x in managers]\n",
    "        managers = [x for x in managers if x != 'last']\n",
    "        print (f'managers: {managers}')\n",
    "        \n",
    "    def print_current_manager (self):\n",
    "        em = self.get_experiment_manager ()\n",
    "        print (f'experiment manager registered: {em.__class__.__name__}')\n",
    "        print (f'registered name: {em.registered_name}')\n",
    "        \n",
    "    # **********************************************************\n",
    "    #  reset and delete managers\n",
    "    # **********************************************************\n",
    "    def reset_manager (self):\n",
    "        self.register_manager (None)\n",
    "        \n",
    "    def set_base_manager (self):\n",
    "        from hpsearch.experiment_manager import ExperimentManager\n",
    "        em = ExperimentManager()\n",
    "        self.register_manager (em)\n",
    "    \n",
    "    def delete_and_reset_all (self):    \n",
    "        if self.manager_path.exists ():\n",
    "            self.logger.debug (f'deleting {self.manager_path}')\n",
    "            shutil.rmtree (str(self.manager_path))\n",
    "            \n",
    "        self.set_base_manager ()"
   ]
  },
  {
   "cell_type": "markdown",
   "metadata": {
    "tags": []
   },
   "source": [
    "### get_experiment_manager"
   ]
  },
  {
   "cell_type": "markdown",
   "metadata": {},
   "source": [
    "The method `get_experiment_manager` returns the base class ExperimentManager initially, unless a subclass definition has been stored by calling the `write_manager` method"
   ]
  },
  {
   "cell_type": "code",
   "execution_count": 8,
   "metadata": {},
   "outputs": [],
   "source": [
    "#exports tests.config.test_manager_factory\n",
    "def test_get_experiment_manager ():\n",
    "    factory = ManagerFactory ()\n",
    "    factory.delete_and_reset_all()\n",
    "    em = factory.get_experiment_manager()\n",
    "    assert em.__class__.__name__ == 'ExperimentManager'"
   ]
  },
  {
   "cell_type": "code",
   "execution_count": 9,
   "metadata": {},
   "outputs": [
    {
     "name": "stdout",
     "output_type": "stream",
     "text": [
      "running test_get_experiment_manager\n"
     ]
    }
   ],
   "source": [
    "tst.run (test_get_experiment_manager, tag='dummy')"
   ]
  },
  {
   "cell_type": "markdown",
   "metadata": {},
   "source": [
    "### write_manager"
   ]
  },
  {
   "cell_type": "markdown",
   "metadata": {},
   "source": [
    "We can write the definition of a desired subclass of ExperimentManager with the method `write_manager`. After writing this definition, the object manager_factory will return an instance of the same subclass for any module that imports ManagerFactory. Let us check this with one example. We will use the subclass `ExampleExperimentManager` as an example, and check that the module file exists after calling the method `write_manager`."
   ]
  },
  {
   "cell_type": "markdown",
   "metadata": {},
   "source": [
    "After writting the subclass, the method `get_experiment_manager` returns an instance of this subclass. This allows command-line scripts to use functions of the subclass indicated by other modules. "
   ]
  },
  {
   "cell_type": "code",
   "execution_count": 10,
   "metadata": {},
   "outputs": [],
   "source": [
    "#exports tests.config.test_manager_factory\n",
    "def _write_manager (import_manager):\n",
    "    factory = ManagerFactory (import_manager=import_manager)\n",
    "    factory.delete_and_reset_all()\n",
    "    # we check that the file does not exist before writting it\n",
    "    assert not factory.manager_path.exists()\n",
    "    em = factory.get_experiment_manager()\n",
    "    assert em.__class__.__name__ == 'ExperimentManager'\n",
    "\n",
    "    # we write new module and check that the file exists afterwards\n",
    "    em = ExampleExperimentManager()\n",
    "    factory.register_manager (em)\n",
    "    factory.write_manager (em)\n",
    "    assert os.path.exists(factory.manager_path)\n",
    "\n",
    "    # TODO: error in pytest\n",
    "    em2 = factory.get_experiment_manager()\n",
    "    assert em.__class__.__name__ == em2.__class__.__name__\n",
    "    assert em.get_default_parameters({}) == em2.get_default_parameters({})\n",
    "    \n",
    "    # After writting the subclass, the method `get_experiment_manager` \n",
    "    # returns an instance of this subclass. This allows command-line \n",
    "    # scripts to use functions of the subclass indicated by other modules. \n",
    "    em.register_and_store_subclassed_manager()\n",
    "    em2 = factory.get_experiment_manager()\n",
    "    assert em2.__class__.__name__ == em.__class__.__name__\n",
    "\n",
    "def test_write_manager ():\n",
    "    _write_manager (import_manager=True)\n",
    "    _write_manager (import_manager=False)"
   ]
  },
  {
   "cell_type": "code",
   "execution_count": 11,
   "metadata": {
    "tags": []
   },
   "outputs": [
    {
     "name": "stdout",
     "output_type": "stream",
     "text": [
      "running test_write_manager\n"
     ]
    }
   ],
   "source": [
    "tst.run (test_write_manager, tag='dummy')"
   ]
  },
  {
   "cell_type": "markdown",
   "metadata": {},
   "source": [
    "### pickle_object"
   ]
  },
  {
   "cell_type": "markdown",
   "metadata": {},
   "source": [
    "We can also write fields stored in the current experiment manager. When the command-line tool loads the manager, it loads these fields and stores them in the manager."
   ]
  },
  {
   "cell_type": "code",
   "execution_count": 19,
   "metadata": {},
   "outputs": [],
   "source": [
    "#exports tests.config.test_manager_factory\n",
    "def test_pickle_object ():\n",
    "    from hpsearch.examples.complex_dummy_experiment_manager import ComplexDummyExperimentManager\n",
    "    em = ComplexDummyExperimentManager (path_experiments='my_new_path/other_folder')\n",
    "    em.my_new_field = [2, 1, 3]\n",
    "    em.greeting_message = 'good morning!'\n",
    "\n",
    "    #from hpsearch.config.manager_factory import ManagerFactory\n",
    "    factory = ManagerFactory (verbose=2)\n",
    "    factory.delete_and_reset_all()\n",
    "    factory.register_manager (em)\n",
    "    factory.write_manager (em)\n",
    "    assert sorted(os.listdir (factory.manager_path))==['fields', 'info', 'whole']\n",
    "    assert sorted(os.listdir (factory.manager_path / 'fields'))==[\n",
    "        'ComplexDummyExperimentManager-other_folder.pk', 'last.pk']\n",
    "    assert sorted(os.listdir (factory.manager_path / 'info'))==[\n",
    "        'ComplexDummyExperimentManager-other_folder.pk', 'last.pk']\n",
    "    assert sorted(os.listdir (factory.manager_path / 'whole'))==[\n",
    "        'ComplexDummyExperimentManager-other_folder.pk', 'last.pk']\n",
    "\n",
    "    del em\n",
    "    em = factory.get_experiment_manager ()\n",
    "    assert em.my_new_field == [2, 1, 3]\n",
    "    assert em.greeting_message == 'good morning!'\n",
    "\n",
    "    global experiment_manager\n",
    "    experiment_manager=None\n",
    "    #del experiment_manager\n",
    "    em = factory.get_experiment_manager()\n",
    "\n",
    "    #assert em.path_experiments=='my_new_path/other_folder'\n",
    "    assert em.folder=='other_folder'\n",
    "    assert em.my_new_field == [2, 1, 3]\n",
    "    assert em.greeting_message == 'good morning!'\n",
    "    \n",
    "#exports tests.config.test_manager_factory\n",
    "def test_does_not_pickle_unpickable ():\n",
    "    global em\n",
    "    from hpsearch.examples.complex_dummy_experiment_manager import DummyManagerAvoidSaving    \n",
    "    \n",
    "    em = DummyManagerAvoidSaving (path_experiments='my_new_path/other_folder')\n",
    "    \n",
    "    factory = ManagerFactory (verbose=2)\n",
    "    factory.delete_and_reset_all()\n",
    "    factory.register_manager (em)\n",
    "    factory.write_manager (em)\n",
    "    assert sorted(os.listdir (factory.manager_path / 'fields'))==[\n",
    "        'DummyManagerAvoidSaving-other_folder.pk', 'last.pk']\n",
    "    assert em.my_new_field == [2, 1, 3]\n",
    "    assert em.greeting_message == 'good morning!'\n",
    "    \n",
    "    del em\n",
    "    em = factory.get_experiment_manager ()\n",
    "    assert em.my_new_field == [2, 1, 3]\n",
    "    assert em.greeting_message == 'good morning!'\n",
    "\n",
    "    global experiment_manager\n",
    "    experiment_manager=None\n",
    "    #del experiment_manager\n",
    "    del em\n",
    "    em = factory.get_experiment_manager()\n",
    "\n",
    "    #assert em.path_experiments=='my_new_path/other_folder'\n",
    "    assert em.folder=='other_folder'\n",
    "    assert em.my_new_field is None\n",
    "    assert em.greeting_message is None"
   ]
  },
  {
   "cell_type": "code",
   "execution_count": 20,
   "metadata": {
    "tags": []
   },
   "outputs": [
    {
     "name": "stderr",
     "output_type": "stream",
     "text": [
      "deleting /home/jcidatascience/jaume/workspace/remote/hpsearch/em_obj\n",
      "returning registered experiment manager\n",
      "returning experiment manager <hpsearch.examples.complex_dummy_experiment_manager.ComplexDummyExperimentManager object at 0x7f421eafc190>\n",
      "experiment manager not registered yet, importing experiment manager\n",
      "loading manager from /home/jcidatascience/jaume/workspace/remote/hpsearch/em_obj/whole\n",
      "returning registered experiment manager\n",
      "returning experiment manager <hpsearch.examples.complex_dummy_experiment_manager.ComplexDummyExperimentManager object at 0x7f42357d3f10>\n",
      "returning experiment manager <hpsearch.examples.complex_dummy_experiment_manager.ComplexDummyExperimentManager object at 0x7f42357d3f10>\n"
     ]
    },
    {
     "name": "stdout",
     "output_type": "stream",
     "text": [
      "running test_pickle_object\n"
     ]
    }
   ],
   "source": [
    "tst.run (test_pickle_object, tag='dummy')"
   ]
  },
  {
   "cell_type": "code",
   "execution_count": 21,
   "metadata": {
    "tags": []
   },
   "outputs": [
    {
     "name": "stderr",
     "output_type": "stream",
     "text": [
      "deleting /home/jcidatascience/jaume/workspace/remote/hpsearch/em_obj\n",
      "returning registered experiment manager\n",
      "returning experiment manager <__main__.test_does_not_pickle_unpickable.<locals>.MyNewManager object at 0x7f421eafcc10>\n",
      "experiment manager not registered yet, importing experiment manager\n",
      "loading manager from /home/jcidatascience/jaume/workspace/remote/hpsearch/em_obj/whole\n",
      "returning registered experiment manager\n",
      "returning experiment manager <__main__.test_does_not_pickle_unpickable.<locals>.MyNewManager object at 0x7f421eafc040>\n",
      "returning experiment manager <__main__.test_does_not_pickle_unpickable.<locals>.MyNewManager object at 0x7f421eafc040>\n"
     ]
    },
    {
     "name": "stdout",
     "output_type": "stream",
     "text": [
      "running test_does_not_pickle_unpickable\n"
     ]
    }
   ],
   "source": [
    "tst.run (test_does_not_pickle_unpickable, tag='dummy')"
   ]
  },
  {
   "cell_type": "markdown",
   "metadata": {},
   "source": [
    "### register_manager"
   ]
  },
  {
   "cell_type": "markdown",
   "metadata": {},
   "source": [
    "The method `get_experiment_manager` returns a registered experiment_manager"
   ]
  },
  {
   "cell_type": "code",
   "execution_count": null,
   "metadata": {},
   "outputs": [],
   "source": [
    "#exports tests.config.test_manager_factory\n",
    "def test_register_manager ():\n",
    "    from hpsearch.config.manager_factory import ManagerFactory\n",
    "    factory = ManagerFactory (import_manager=True)\n",
    "    factory.delete_and_reset_all()\n",
    "    \n",
    "    from hpsearch.experiment_manager import ExperimentManager\n",
    "    em = ExperimentManager()\n",
    "    factory.register_manager(em)\n",
    "    em2 = factory.get_experiment_manager()\n",
    "    assert em2.__class__.__name__ == 'ExperimentManager'\n",
    "\n",
    "    em = ExampleExperimentManager()\n",
    "    factory.register_manager(em)\n",
    "    em2 = factory.get_experiment_manager()\n",
    "    assert em2.__class__.__name__ == 'ExampleExperimentManager'\n",
    "    \n",
    "    # We check that a module registered in one module is used in another one. \n",
    "    del ManagerFactory\n",
    "    from hpsearch.config.manager_factory import ManagerFactory\n",
    "\n",
    "    factory = ManagerFactory()\n",
    "    em = factory.get_experiment_manager()\n",
    "    assert em.__class__.__name__ == 'ExampleExperimentManager'\n",
    "\n",
    "    defaults=em.get_default_parameters({})\n",
    "    \n",
    "    # We check that the defaults are removed properly by using remove_defaults\n",
    "    from hpsearch.utils.experiment_utils import remove_defaults\n",
    "\n",
    "    removed=remove_defaults(defaults)\n",
    "    assert removed=={}\n",
    "\n",
    "    removed=remove_defaults({'my_first':50, 'my_second':10, 'my_third':30})\n",
    "    assert removed=={'my_first': 50, 'my_third': 30}\n",
    "    \n",
    "    # We check that no defaults are removed if the base class ExperimentManager \n",
    "    # is registered\n",
    "    em3 = ExperimentManager(allow_base_class=True)\n",
    "    factory.register_manager(em3)\n",
    "    parameters = {'my_first':50, 'my_second':10, 'my_third':30}\n",
    "    parameters_copy = parameters.copy()\n",
    "    removed=remove_defaults(parameters_copy)\n",
    "    assert removed==parameters"
   ]
  },
  {
   "cell_type": "code",
   "execution_count": null,
   "metadata": {},
   "outputs": [],
   "source": [
    "tst.run (test_register_manager, tag='dummy')"
   ]
  },
  {
   "cell_type": "markdown",
   "metadata": {},
   "source": [
    "```python\n",
    "import inspect\n",
    "\n",
    "from hpsearch.examples.example_experiment_manager import ExampleExperimentManager\n",
    "\n",
    "em = ExampleExperimentManager()\n",
    "\n",
    "source_path = inspect.getfile(em.__class__)\n",
    "inspect.getmodulename('ExampleExperimentManager')\n",
    "```"
   ]
  }
 ],
 "metadata": {
  "kernelspec": {
   "display_name": "Python (hpsearch)",
   "language": "python",
   "name": "hpsearch"
  },
  "language_info": {
   "codemirror_mode": {
    "name": "ipython",
    "version": 3
   },
   "file_extension": ".py",
   "mimetype": "text/x-python",
   "name": "python",
   "nbconvert_exporter": "python",
   "pygments_lexer": "ipython3",
   "version": "3.9.7"
  }
 },
 "nbformat": 4,
 "nbformat_minor": 4
}
