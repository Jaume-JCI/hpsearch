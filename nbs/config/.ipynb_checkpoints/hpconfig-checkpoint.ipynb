{
 "cells": [
  {
   "cell_type": "code",
   "execution_count": null,
   "metadata": {},
   "outputs": [],
   "source": [
    "#hide\n",
    "#default_exp config.hpconfig\n",
    "from nbdev.showdoc import show_doc\n",
    "import warnings\n",
    "warnings.filterwarnings('ignore')"
   ]
  },
  {
   "cell_type": "markdown",
   "metadata": {},
   "source": [
    "# Parameter configuration\n",
    "\n",
    "Indicates default parameter values and default paths. "
   ]
  },
  {
   "cell_type": "code",
   "execution_count": null,
   "metadata": {},
   "outputs": [
    {
     "name": "stdout",
     "output_type": "stream",
     "text": [
      "current path: /mnt/athena/hpsearch/nbs/config\n",
      "current path: /mnt/athena/hpsearch/nbs/config\n"
     ]
    }
   ],
   "source": [
    "#export \n",
    "import os\n",
    "import hpsearch\n",
    "from hpsearch.config.manager_factory import ManagerFactory\n",
    "from hpsearch.config import manager_factory as mf\n",
    "\n",
    "manager_factory = ManagerFactory()\n",
    "experiment_manager = manager_factory.get_experiment_manager()\n",
    "mf.experiment_manager = experiment_manager\n",
    "\n",
    "\n",
    "def get_default_parameters (parameters):\n",
    "    return mf.experiment_manager.get_default_parameters (parameters)\n",
    "\n",
    "def get_default_operations ():\n",
    "    return mf.experiment_manager.get_default_operations ()\n",
    "\n",
    "def get_path_experiments (path_experiments = None, folder = None):\n",
    "    return mf.experiment_manager.get_path_experiments (path_experiments, folder)\n",
    "\n",
    "def get_path_alternative (path_results):\n",
    "    return mf.experiment_manager.get_path_alternative (path_results)\n",
    "\n",
    "def get_path_data (run_number, root_path=None, parameters={}):\n",
    "    return mf.experiment_manager.get_path_data (run_number, root_path, parameters)\n",
    "\n",
    "def get_path_experiment (experiment_id, root_path=None, root_folder=None):\n",
    "    return mf.experiment_manager.get_path_experiment (experiment_id, root_path, root_folder)\n",
    "\n",
    "def get_path_results (experiment_id, run_number, root_path=None, root_folder=None):\n",
    "    return mf.experiment_manager.get_path_results (experiment_id, run_number, root_path, root_folder)\n",
    "\n",
    "def get_experiment_manager ():\n",
    "    return mf.experiment_manager\n",
    "\n",
    "def experiment_visualization (**kwargs):\n",
    "    return mf.experiment_manager.experiment_visualization (**kwargs)"
   ]
  },
  {
   "cell_type": "code",
   "execution_count": null,
   "metadata": {},
   "outputs": [
    {
     "name": "stdout",
     "output_type": "stream",
     "text": [
      "Converted hpconfig.ipynb.\n",
      "Converted manager_factory.ipynb.\n",
      "Converted dummy_experiment_manager.ipynb.\n",
      "Converted example_experiment.ipynb.\n",
      "Converted example_experiment_manager.ipynb.\n",
      "Converted experiment_manager.ipynb.\n",
      "Converted index.ipynb.\n",
      "Converted change_manager.ipynb.\n",
      "Converted metric_visualization.ipynb.\n",
      "Converted print_parameters.ipynb.\n",
      "Converted query.ipynb.\n",
      "Converted experiment_utils.ipynb.\n",
      "Converted organize_experiments.ipynb.\n",
      "Converted experiment_visualization.ipynb.\n",
      "Converted plot_utils.ipynb.\n"
     ]
    }
   ],
   "source": [
    "#hide\n",
    "from nbdev.export import *\n",
    "notebook2script(recursive=True)"
   ]
  }
 ],
 "metadata": {
  "kernelspec": {
   "display_name": "Python (ra)",
   "language": "python",
   "name": "ra"
  }
 },
 "nbformat": 4,
 "nbformat_minor": 4
}
