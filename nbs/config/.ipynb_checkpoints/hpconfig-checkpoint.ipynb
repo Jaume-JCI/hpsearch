{
 "cells": [
  {
   "cell_type": "code",
   "execution_count": null,
   "metadata": {},
   "outputs": [],
   "source": [
    "#hide\n",
    "#default_exp config.hpconfig\n",
    "from nbdev.showdoc import *\n",
    "from block_types.utils.nbdev_utils import nbdev_setup, TestRunner\n",
    "\n",
    "nbdev_setup ()\n",
    "tst = TestRunner (targets=['dummy'])"
   ]
  },
  {
   "cell_type": "markdown",
   "metadata": {},
   "source": [
    "# Parameter configuration\n",
    "\n",
    "Indicates default parameter values and default paths. "
   ]
  },
  {
   "cell_type": "code",
   "execution_count": null,
   "metadata": {},
   "outputs": [
    {
     "name": "stdout",
     "output_type": "stream",
     "text": [
      "current path: /mnt/athena/hpsearch/nbs/config\n",
      "current path: /mnt/athena/hpsearch/nbs/config\n"
     ]
    }
   ],
   "source": [
    "#export \n",
    "import os\n",
    "import hpsearch\n",
    "from hpsearch.config.manager_factory import ManagerFactory\n",
    "from hpsearch.config import manager_factory as mf\n",
    "\n",
    "manager_factory = ManagerFactory()\n",
    "experiment_manager = manager_factory.get_experiment_manager()\n",
    "mf.experiment_manager = experiment_manager\n",
    "\n",
    "\n",
    "def get_default_parameters (parameters):\n",
    "    return mf.experiment_manager.get_default_parameters (parameters)\n",
    "\n",
    "def get_default_operations ():\n",
    "    return mf.experiment_manager.get_default_operations ()\n",
    "\n",
    "def get_path_experiments (path_experiments = None, folder = None):\n",
    "    return mf.experiment_manager.get_path_experiments (path_experiments, folder)\n",
    "\n",
    "def get_path_alternative (path_results):\n",
    "    return mf.experiment_manager.get_path_alternative (path_results)\n",
    "\n",
    "def get_path_data (run_number, root_path=None, parameters={}):\n",
    "    return mf.experiment_manager.get_path_data (run_number, root_path, parameters)\n",
    "\n",
    "def get_path_experiment (experiment_id, root_path=None, root_folder=None):\n",
    "    return mf.experiment_manager.get_path_experiment (experiment_id, root_path, root_folder)\n",
    "\n",
    "def get_path_results (experiment_id, run_number, root_path=None, root_folder=None):\n",
    "    return mf.experiment_manager.get_path_results (experiment_id, run_number, root_path, root_folder)\n",
    "\n",
    "def get_experiment_manager ():\n",
    "    return mf.experiment_manager\n",
    "\n",
    "def experiment_visualization (**kwargs):\n",
    "    return mf.experiment_manager.experiment_visualization (**kwargs)"
   ]
  }
 ],
 "metadata": {
  "kernelspec": {
   "display_name": "Python (hpsearch)",
   "language": "python",
   "name": "hpsearch"
  },
  "language_info": {
   "codemirror_mode": {
    "name": "ipython",
    "version": 3
   },
   "file_extension": ".py",
   "mimetype": "text/x-python",
   "name": "python",
   "nbconvert_exporter": "python",
   "pygments_lexer": "ipython3",
   "version": "3.9.7"
  }
 },
 "nbformat": 4,
 "nbformat_minor": 4
}
