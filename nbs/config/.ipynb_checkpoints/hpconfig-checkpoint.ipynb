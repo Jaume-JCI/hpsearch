{
 "cells": [
  {
   "cell_type": "code",
   "execution_count": null,
   "metadata": {},
   "outputs": [],
   "source": [
    "#hide\n",
    "#default_exp config.hpconfig\n",
    "from nbdev.showdoc import *\n",
    "from dsblocks.utils.nbdev_utils import nbdev_setup, TestRunner\n",
    "\n",
    "nbdev_setup ()\n",
    "tst = TestRunner (targets=['dummy'])"
   ]
  },
  {
   "cell_type": "markdown",
   "metadata": {},
   "source": [
    "# Parameter configuration\n",
    "\n",
    "Indicates default parameter values and default paths. "
   ]
  },
  {
   "cell_type": "code",
   "execution_count": null,
   "metadata": {},
   "outputs": [
    {
     "name": "stdout",
     "output_type": "stream",
     "text": [
      "current path: /mnt/athena/hpsearch/nbs/config\n",
      "current path: /mnt/athena/hpsearch/nbs/config\n"
     ]
    }
   ],
   "source": [
    "#export \n",
    "import os\n",
    "import hpsearch\n",
    "from hpsearch.config.manager_factory import ManagerFactory\n",
    "from hpsearch.config import manager_factory as mf\n",
    "import hpsearch.config.hp_defaults as dflt\n",
    "\n",
    "def get_experiment_manager (manager_path=dflt.manager_path):\n",
    "    manager_factory = ManagerFactory(manager_path=manager_path)\n",
    "    experiment_manager = manager_factory.get_experiment_manager()\n",
    "    mf.experiment_manager = experiment_manager\n",
    "    return mf.experiment_manager\n",
    "\n",
    "def get_default_parameters (parameters, manager_path=dflt.manager_path):\n",
    "    experiment_manager = get_experiment_manager (manager_path=manager_path)\n",
    "    return experiment_manager.get_default_parameters (parameters)\n",
    "\n",
    "def get_default_operations (manager_path=dflt.manager_path):\n",
    "    experiment_manager = get_experiment_manager (manager_path=manager_path)\n",
    "    return experiment_manager.get_default_operations ()\n",
    "\n",
    "def get_path_experiments (manager_path=dflt.manager_path):\n",
    "    experiment_manager = get_experiment_manager (manager_path=manager_path)\n",
    "    return experiment_manager.path_experiments\n",
    "\n",
    "def get_path_alternative (path_results, manager_path=dflt.manager_path):\n",
    "    experiment_manager = get_experiment_manager (manager_path=manager_path)\n",
    "    return experiment_manager.get_path_alternative (path_results)\n",
    "\n",
    "def get_path_data (run_number, parameters={}, manager_path=dflt.manager_path):\n",
    "    experiment_manager = get_experiment_manager (manager_path=manager_path)\n",
    "    return experiment_manager.get_path_data (run_number, parameters)\n",
    "\n",
    "def get_path_experiment (experiment_id, manager_path=dflt.manager_path):\n",
    "    experiment_manager = get_experiment_manager (manager_path=manager_path)\n",
    "    return experiment_manager.get_path_experiment (experiment_id)\n",
    "\n",
    "def get_path_results (experiment_id, run_number, manager_path=dflt.manager_path):\n",
    "    experiment_manager = get_experiment_manager (manager_path=manager_path)\n",
    "    return experiment_manager.get_path_results (experiment_id, run_number)\n",
    "\n",
    "def experiment_visualization (manager_path=dflt.manager_path, **kwargs):\n",
    "    experiment_manager = get_experiment_manager (manager_path=manager_path)\n",
    "    return experiment_manager.experiment_visualization (**kwargs)\n",
    "\n",
    "def get_experiment_data (experiments=None, \n",
    "                         manager_path=dflt.manager_path):\n",
    "    experiment_manager = get_experiment_manager (manager_path=manager_path)\n",
    "    return experiment_manager.get_experiment_data (experiments=experiments)"
   ]
  }
 ],
 "metadata": {
  "kernelspec": {
   "display_name": "Python (hpsearch)",
   "language": "python",
   "name": "hpsearch"
  },
  "language_info": {
   "codemirror_mode": {
    "name": "ipython",
    "version": 3
   },
   "file_extension": ".py",
   "mimetype": "text/x-python",
   "name": "python",
   "nbconvert_exporter": "python",
   "pygments_lexer": "ipython3",
   "version": "3.9.7"
  }
 },
 "nbformat": 4,
 "nbformat_minor": 4
}
