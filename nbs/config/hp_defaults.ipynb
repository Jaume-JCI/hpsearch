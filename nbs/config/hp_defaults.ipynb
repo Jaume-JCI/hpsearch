{
 "cells": [
  {
   "cell_type": "code",
   "execution_count": null,
   "metadata": {},
   "outputs": [],
   "source": [
    "#hide\n",
    "#default_exp config.hp_defaults\n",
    "from nbdev.showdoc import *\n",
    "from dsblocks.utils.nbdev_utils import nbdev_setup, TestRunner\n",
    "\n",
    "nbdev_setup ()\n",
    "tst = TestRunner (targets=['dummy'])"
   ]
  },
  {
   "cell_type": "markdown",
   "metadata": {},
   "source": [
    "# Default parameter values\n",
    "\n",
    "Default parameter values used across hpsearch"
   ]
  },
  {
   "cell_type": "markdown",
   "metadata": {},
   "source": [
    "## ExperimentManager"
   ]
  },
  {
   "cell_type": "code",
   "execution_count": null,
   "metadata": {},
   "outputs": [],
   "source": [
    "#export\n",
    "allow_base_class=False\n",
    "name_epoch='epochs'\n",
    "name_last_epoch='last_epoch'\n",
    "name_model_history='model_history.pk'\n",
    "model_file_name='model.h5'\n",
    "path_experiments='results/hpsearch'\n",
    "defaults={}\n",
    "folder=None\n",
    "metric='accuracy'\n",
    "op='max'\n",
    "result_file='dict_results.pk'\n",
    "min_iterations=50\n",
    "use_previous_best=True\n",
    "name_logger='experiment_manager'\n",
    "manager_path='em_obj'\n",
    "verbose=0\n",
    "parameters_col='parameters'\n",
    "scores_col='scores'\n",
    "run_info_col='run_info'"
   ]
  },
  {
   "cell_type": "markdown",
   "metadata": {},
   "source": [
    "## ManagerFactory"
   ]
  },
  {
   "cell_type": "code",
   "execution_count": null,
   "metadata": {},
   "outputs": [],
   "source": [
    "#export\n",
    "name_logger_factory = 'manager_factory'"
   ]
  }
 ],
 "metadata": {
  "kernelspec": {
   "display_name": "Python (hpsearch)",
   "language": "python",
   "name": "hpsearch"
  },
  "language_info": {
   "codemirror_mode": {
    "name": "ipython",
    "version": 3
   },
   "file_extension": ".py",
   "mimetype": "text/x-python",
   "name": "python",
   "nbconvert_exporter": "python",
   "pygments_lexer": "ipython3",
   "version": "3.9.7"
  }
 },
 "nbformat": 4,
 "nbformat_minor": 4
}
