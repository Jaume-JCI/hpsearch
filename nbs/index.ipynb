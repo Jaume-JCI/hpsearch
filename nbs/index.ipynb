{
 "cells": [
  {
   "cell_type": "markdown",
   "metadata": {
    "tags": []
   },
   "source": [
    "# Welcome to HPSearch\n",
    "\n",
    "> Experiment tracking framework."
   ]
  },
  {
   "cell_type": "markdown",
   "metadata": {},
   "source": [
    "`HPSearch` is flexible experiment tracking framework that that provides features such as a simple and powerful query mechanism for studying and visualizing the performance of past experiments meeting given criteria, the possibility to resume a previous experiment with or without modifying the original hyper-parameters (e.g., extending the number of epochs of a promising past experiment, or gradually changing the hyper-parameters to obtain an approximate curriculum learning type of approach, etc.), the capability of visualizing the learning evolution of multiple experiments based on different metrics, and many other features.\n",
    "\n",
    "Recently, many different experiment tracking frameworks have been created, such as `mlflow`, `weight and biases`, `tensorboard`, `neptune`, and many others. While few of these frameworks are open-source, e.g., `mlflow` and `tensorboard`,  they usually have limited or non-existent query capabilities, and do not allow to easily resume previous experiments. `HPSearch` is an open-source framework that targets all of these requirements. "
   ]
  },
  {
   "cell_type": "markdown",
   "metadata": {
    "jp-MarkdownHeadingCollapsed": true,
    "tags": []
   },
   "source": [
    "## Key features\n",
    "\n",
    "`HPSearch` provides, among others, the following features:\n",
    "\n",
    "- Query the performance of past experiments meeting desired criteria. This can be done either from command line with a simple command, or programmatically. Queried experiments are shown as a table sorted by performance, and visualized in graphical form, comparing the evolution of the metrics of the selected experiments during training.\n",
    "- Visualize the evolution of current experiments and compare them against previous ones using multiple metrics\n",
    "- Resume previous experiments with or without modifying their original hyper-parameters. This can be applied, for instance, when we start by performing a quick exploration of hyper-parameters by allocating a small time budget for each experiment. Once this is done, we may want to increase the exploration of  a subset of experiments that were promising, e.g., by extending their number of epochs, or using curriculum learning to gradually changing their hyper-parameters across epochs. We may also want to change only to explore hyper-parameters affecting the final part of a pipeline, where the first steps are dedicated to pre-processing and normalization techniques that might be computationally expensive and which we want to reuse. With `HPSearch`, it is easy to do that, and annotate the fact that this was done when characterizing the new experiments.\n",
    "- Good support for default values. When introducing a new hyper-parameter, all previous experiments are automatically assigned a default value for such parameter. This makes it easy to avoid repeating previous experiments in the case when the default value is one of the possible values to be explored.\n",
    "- High level of decoupling between the experiment tracking code and the model code."
   ]
  },
  {
   "cell_type": "markdown",
   "metadata": {},
   "source": [
    "## Installation\n",
    "\n",
    "HPSearch is pip installable:\n",
    "\n",
    "```bash\n",
    "pip install hpsearch\n",
    "```\n",
    "\n",
    "## Documentation \n",
    "\n",
    "Documentation can be found [here](https://jaume-jci.github.io/hpsearch/) "
   ]
  }
 ],
 "metadata": {
  "jekyll": {
   "keywords": "fastai",
   "toc": "false"
  },
  "jupytext": {
   "split_at_heading": true
  },
  "kernelspec": {
   "display_name": "Python 3 (ipykernel)",
   "language": "python",
   "name": "python3"
  },
  "language_info": {
   "codemirror_mode": {
    "name": "ipython",
    "version": 3
   },
   "file_extension": ".py",
   "mimetype": "text/x-python",
   "name": "python",
   "nbconvert_exporter": "python",
   "pygments_lexer": "ipython3",
   "version": "3.7.10"
  }
 },
 "nbformat": 4,
 "nbformat_minor": 4
}
