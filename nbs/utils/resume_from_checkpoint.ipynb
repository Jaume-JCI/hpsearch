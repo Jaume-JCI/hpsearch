{
 "cells": [
  {
   "cell_type": "code",
   "execution_count": null,
   "metadata": {},
   "outputs": [],
   "source": [
    "#hide\n",
    "#default_exp utils.resume_from_checkpoint\n",
    "from nbdev.showdoc import *\n",
    "from block_types.utils.nbdev_utils import nbdev_setup, TestRunner\n",
    "\n",
    "nbdev_setup ()\n",
    "tst = TestRunner (targets=['dummy'])"
   ]
  },
  {
   "cell_type": "markdown",
   "metadata": {},
   "source": [
    "# Resume utilities\n",
    "\n",
    "> Routines for resuming from previous experiments"
   ]
  },
  {
   "cell_type": "code",
   "execution_count": null,
   "metadata": {},
   "outputs": [],
   "source": [
    "#export\n",
    "import pickle\n",
    "import os\n",
    "import numpy as np\n",
    "\n",
    "import hpsearch.config.hp_defaults as dflt"
   ]
  },
  {
   "cell_type": "markdown",
   "metadata": {},
   "source": [
    "## exists_current_checkpoint"
   ]
  },
  {
   "cell_type": "code",
   "execution_count": null,
   "metadata": {},
   "outputs": [],
   "source": [
    "#export\n",
    "def exists_current_checkpoint (parameters, path_results):\n",
    "\n",
    "    model_extension = parameters.get('model_extension', 'h5')\n",
    "\n",
    "    return os.path.exists('%s/best_model.%s' %(path_results, model_extension))"
   ]
  },
  {
   "cell_type": "markdown",
   "metadata": {},
   "source": [
    "## obtain_last_result"
   ]
  },
  {
   "cell_type": "code",
   "execution_count": null,
   "metadata": {},
   "outputs": [],
   "source": [
    "#export    \n",
    "def obtain_last_result (parameters, path_results):\n",
    "    \n",
    "    if parameters.get('use_last_result_from_dict', False):\n",
    "        return obtain_last_result_from_dict (parameters, path_results)\n",
    "    if 'result_file' in parameters.keys():\n",
    "        name_result_file = parameters['result_file']\n",
    "    else:\n",
    "        name_result_file = parameters.get('name_model_history', 'model_history.pk')\n",
    "    path_results_file = '%s/%s' %(path_results, name_result_file)\n",
    "    dict_results = None\n",
    "    if os.path.exists (path_results_file):\n",
    "        history = pickle.load(open(path_results_file, 'rb'))\n",
    "        metrics = parameters.get('key_scores')\n",
    "        if metrics is None:\n",
    "            metrics = history.keys()\n",
    "        ops = parameters.get('ops')\n",
    "        if ops is None:\n",
    "            ops = ['max'] * len(metrics)\n",
    "        if type(ops) is str:\n",
    "            ops = [ops] * len(metrics)\n",
    "        if type(ops) is dict:\n",
    "            ops_dict = ops\n",
    "            ops = ['max'] * len(metrics)\n",
    "            i = 0\n",
    "            for k in metrics:\n",
    "                if k in ops_dict.keys():\n",
    "                    ops[i] = ops_dict[k]\n",
    "                i += 1\n",
    "        dict_results = {}\n",
    "        max_last_position = -1\n",
    "        for metric, op in zip(metrics, ops):\n",
    "            if metric in history.keys():\n",
    "                history_array = history[metric]\n",
    "                score = min(history_array) if op == 'min' else max(history_array)\n",
    "                last_position = np.where(np.array(history_array).ravel()==0)[0]\n",
    "                if len(last_position) > 0:\n",
    "                    last_position = last_position[0] - 1\n",
    "                else:\n",
    "                    last_position = len(history_array)\n",
    "                dict_results[metric] = score\n",
    "            else:\n",
    "                last_position = -1\n",
    "            max_last_position = max(last_position, max_last_position)\n",
    "        \n",
    "        dict_results['last'] = max_last_position\n",
    "        if max_last_position < parameters.get('min_iterations', 50):\n",
    "            dict_results = None\n",
    "            print ('not storing result from {} with iterations {}'.format(path_results, max_last_position))\n",
    "        else:\n",
    "            print ('storing result from {} with iterations {}'.format(path_results, max_last_position))\n",
    "        \n",
    "    return dict_results"
   ]
  },
  {
   "cell_type": "markdown",
   "metadata": {},
   "source": [
    "## obtain_last_result_from_dict"
   ]
  },
  {
   "cell_type": "code",
   "execution_count": null,
   "metadata": {},
   "outputs": [],
   "source": [
    "#export\n",
    "def obtain_last_result_from_dict (parameters, path_results):\n",
    "    name_result_file = parameters.get('result_file', 'dict_results.pk')\n",
    "    path_results_file = '%s/%s' %(path_results, name_result_file)\n",
    "    dict_results = None\n",
    "    if os.path.exists (path_results_file):\n",
    "        dict_results = pickle.load(open(path_results_file, 'rb'))\n",
    "        if 'last' not in dict_results.keys() and 'epoch' in dict_results.keys():\n",
    "            dict_results['last'] = dict_results['epoch']\n",
    "        max_last_position = dict_results['last']\n",
    "        if max_last_position < parameters.get('min_iterations', 50):\n",
    "            dict_results = None\n",
    "            print ('not storing result from {} with iterations {}'.format(path_results, max_last_position))\n",
    "        else:\n",
    "            print ('storing result from {} with iterations {}'.format(path_results, max_last_position))\n",
    "    \n",
    "    return dict_results"
   ]
  }
 ],
 "metadata": {
  "kernelspec": {
   "display_name": "Python (hpsearch)",
   "language": "python",
   "name": "hpsearch"
  },
  "language_info": {
   "codemirror_mode": {
    "name": "ipython",
    "version": 3
   },
   "file_extension": ".py",
   "mimetype": "text/x-python",
   "name": "python",
   "nbconvert_exporter": "python",
   "pygments_lexer": "ipython3",
   "version": "3.9.7"
  }
 },
 "nbformat": 4,
 "nbformat_minor": 4
}
